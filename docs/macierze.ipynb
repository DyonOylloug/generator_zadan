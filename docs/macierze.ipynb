{
 "cells": [
  {
   "metadata": {},
   "cell_type": "markdown",
   "source": "# Macierze",
   "id": "8eb6bbeebb3f54"
  },
  {
   "metadata": {},
   "cell_type": "markdown",
   "source": [
    "```{admonition} Wskazówka\n",
    ":class: tip\n",
    "\n",
    "[![Binder](https://mybinder.org/badge_logo.svg)](https://mybinder.org/v2/gh/DyonOylloug/generator_zadan/HEAD?labpath=docs%2Fmacierze.ipynb) <- interaktywna sesja notebooka\n",
    "\n",
    "```"
   ],
   "id": "dcfd71950a6c509b"
  },
  {
   "metadata": {
    "collapsed": true,
    "ExecuteTime": {
     "end_time": "2024-12-07T19:30:41.021197Z",
     "start_time": "2024-12-07T19:30:32.661398Z"
    }
   },
   "cell_type": "code",
   "source": [
    "from random import choice\n",
    "\n",
    "from IPython.display import display, Markdown, Latex\n",
    "\n",
    "import generator_zadan.generatory as gz\n",
    "\n",
    "print(gz.__version__)"
   ],
   "id": "initial_id",
   "outputs": [
    {
     "name": "stdout",
     "output_type": "stream",
     "text": [
      "0.2.9\n"
     ]
    }
   ],
   "execution_count": 1
  },
  {
   "metadata": {
    "ExecuteTime": {
     "end_time": "2024-12-07T19:32:19.133723Z",
     "start_time": "2024-12-07T19:32:19.129153Z"
    }
   },
   "cell_type": "code",
   "source": "ile_zadan_przykladowych = 10",
   "id": "740696d134d16786",
   "outputs": [],
   "execution_count": 7
  },
  {
   "metadata": {},
   "cell_type": "markdown",
   "source": "## Wyznacznik",
   "id": "221d6a051aba419"
  },
  {
   "metadata": {
    "ExecuteTime": {
     "end_time": "2024-12-07T19:31:38.989657Z",
     "start_time": "2024-12-07T19:31:38.896155Z"
    }
   },
   "cell_type": "code",
   "source": [
    "zadanie = gz.wyznacznik(wymiar=choice([4,5,6]))\n",
    "zadanie"
   ],
   "id": "b8f244e16ed6602e",
   "outputs": [
    {
     "data": {
      "text/plain": [
       "('Obliczyć wyznacznik macierzy A\\n\\t\\\\[\\n\\t\\t\\\\textnormal{A=} \\\\left[\\\\begin{matrix}-2 & 3 & 1 & -1 & 0 & 0\\\\\\\\3 & 1 & -1 & -2 & -2 & 1\\\\\\\\0 & -2 & -1 & 3 & -1 & -1\\\\\\\\1 & -1 & 1 & -2 & -2 & 2\\\\\\\\-1 & -2 & 1 & 0 & -2 & 1\\\\\\\\0 & 1 & 3 & -1 & 0 & 2\\\\end{matrix}\\\\right]\\n\\t\\\\]',\n",
       " '$\\\\det(A)= 12$')"
      ]
     },
     "execution_count": 4,
     "metadata": {},
     "output_type": "execute_result"
    }
   ],
   "execution_count": 4
  },
  {
   "metadata": {
    "ExecuteTime": {
     "end_time": "2024-12-07T19:31:56.648866Z",
     "start_time": "2024-12-07T19:31:56.641453Z"
    }
   },
   "cell_type": "code",
   "source": [
    "print(\"\\033[34m** Zadanie **\" + '*' * 81 + '\\033[0m')\n",
    "print(zadanie[0])\n",
    "print(\"\\033[34m*\\033[0m\" * 95)\n",
    "print(\"\\033[32m** Rozwiązanie **\" + '*' * 78 + '\\033[0m')\n",
    "print(zadanie[1])\n",
    "print(\"\\033[32m*\\033[0m\" * 95)"
   ],
   "id": "5b3810eca6a6b655",
   "outputs": [
    {
     "name": "stdout",
     "output_type": "stream",
     "text": [
      "\u001B[34m** Zadanie ***********************************************************************************\u001B[0m\n",
      "Obliczyć wyznacznik macierzy A\n",
      "\t\\[\n",
      "\t\t\\textnormal{A=} \\left[\\begin{matrix}-2 & 3 & 1 & -1 & 0 & 0\\\\3 & 1 & -1 & -2 & -2 & 1\\\\0 & -2 & -1 & 3 & -1 & -1\\\\1 & -1 & 1 & -2 & -2 & 2\\\\-1 & -2 & 1 & 0 & -2 & 1\\\\0 & 1 & 3 & -1 & 0 & 2\\end{matrix}\\right]\n",
      "\t\\]\n",
      "\u001B[34m*\u001B[0m\u001B[34m*\u001B[0m\u001B[34m*\u001B[0m\u001B[34m*\u001B[0m\u001B[34m*\u001B[0m\u001B[34m*\u001B[0m\u001B[34m*\u001B[0m\u001B[34m*\u001B[0m\u001B[34m*\u001B[0m\u001B[34m*\u001B[0m\u001B[34m*\u001B[0m\u001B[34m*\u001B[0m\u001B[34m*\u001B[0m\u001B[34m*\u001B[0m\u001B[34m*\u001B[0m\u001B[34m*\u001B[0m\u001B[34m*\u001B[0m\u001B[34m*\u001B[0m\u001B[34m*\u001B[0m\u001B[34m*\u001B[0m\u001B[34m*\u001B[0m\u001B[34m*\u001B[0m\u001B[34m*\u001B[0m\u001B[34m*\u001B[0m\u001B[34m*\u001B[0m\u001B[34m*\u001B[0m\u001B[34m*\u001B[0m\u001B[34m*\u001B[0m\u001B[34m*\u001B[0m\u001B[34m*\u001B[0m\u001B[34m*\u001B[0m\u001B[34m*\u001B[0m\u001B[34m*\u001B[0m\u001B[34m*\u001B[0m\u001B[34m*\u001B[0m\u001B[34m*\u001B[0m\u001B[34m*\u001B[0m\u001B[34m*\u001B[0m\u001B[34m*\u001B[0m\u001B[34m*\u001B[0m\u001B[34m*\u001B[0m\u001B[34m*\u001B[0m\u001B[34m*\u001B[0m\u001B[34m*\u001B[0m\u001B[34m*\u001B[0m\u001B[34m*\u001B[0m\u001B[34m*\u001B[0m\u001B[34m*\u001B[0m\u001B[34m*\u001B[0m\u001B[34m*\u001B[0m\u001B[34m*\u001B[0m\u001B[34m*\u001B[0m\u001B[34m*\u001B[0m\u001B[34m*\u001B[0m\u001B[34m*\u001B[0m\u001B[34m*\u001B[0m\u001B[34m*\u001B[0m\u001B[34m*\u001B[0m\u001B[34m*\u001B[0m\u001B[34m*\u001B[0m\u001B[34m*\u001B[0m\u001B[34m*\u001B[0m\u001B[34m*\u001B[0m\u001B[34m*\u001B[0m\u001B[34m*\u001B[0m\u001B[34m*\u001B[0m\u001B[34m*\u001B[0m\u001B[34m*\u001B[0m\u001B[34m*\u001B[0m\u001B[34m*\u001B[0m\u001B[34m*\u001B[0m\u001B[34m*\u001B[0m\u001B[34m*\u001B[0m\u001B[34m*\u001B[0m\u001B[34m*\u001B[0m\u001B[34m*\u001B[0m\u001B[34m*\u001B[0m\u001B[34m*\u001B[0m\u001B[34m*\u001B[0m\u001B[34m*\u001B[0m\u001B[34m*\u001B[0m\u001B[34m*\u001B[0m\u001B[34m*\u001B[0m\u001B[34m*\u001B[0m\u001B[34m*\u001B[0m\u001B[34m*\u001B[0m\u001B[34m*\u001B[0m\u001B[34m*\u001B[0m\u001B[34m*\u001B[0m\u001B[34m*\u001B[0m\u001B[34m*\u001B[0m\u001B[34m*\u001B[0m\u001B[34m*\u001B[0m\u001B[34m*\u001B[0m\u001B[34m*\u001B[0m\n",
      "\u001B[32m** Rozwiązanie ********************************************************************************\u001B[0m\n",
      "$\\det(A)= 12$\n",
      "\u001B[32m*\u001B[0m\u001B[32m*\u001B[0m\u001B[32m*\u001B[0m\u001B[32m*\u001B[0m\u001B[32m*\u001B[0m\u001B[32m*\u001B[0m\u001B[32m*\u001B[0m\u001B[32m*\u001B[0m\u001B[32m*\u001B[0m\u001B[32m*\u001B[0m\u001B[32m*\u001B[0m\u001B[32m*\u001B[0m\u001B[32m*\u001B[0m\u001B[32m*\u001B[0m\u001B[32m*\u001B[0m\u001B[32m*\u001B[0m\u001B[32m*\u001B[0m\u001B[32m*\u001B[0m\u001B[32m*\u001B[0m\u001B[32m*\u001B[0m\u001B[32m*\u001B[0m\u001B[32m*\u001B[0m\u001B[32m*\u001B[0m\u001B[32m*\u001B[0m\u001B[32m*\u001B[0m\u001B[32m*\u001B[0m\u001B[32m*\u001B[0m\u001B[32m*\u001B[0m\u001B[32m*\u001B[0m\u001B[32m*\u001B[0m\u001B[32m*\u001B[0m\u001B[32m*\u001B[0m\u001B[32m*\u001B[0m\u001B[32m*\u001B[0m\u001B[32m*\u001B[0m\u001B[32m*\u001B[0m\u001B[32m*\u001B[0m\u001B[32m*\u001B[0m\u001B[32m*\u001B[0m\u001B[32m*\u001B[0m\u001B[32m*\u001B[0m\u001B[32m*\u001B[0m\u001B[32m*\u001B[0m\u001B[32m*\u001B[0m\u001B[32m*\u001B[0m\u001B[32m*\u001B[0m\u001B[32m*\u001B[0m\u001B[32m*\u001B[0m\u001B[32m*\u001B[0m\u001B[32m*\u001B[0m\u001B[32m*\u001B[0m\u001B[32m*\u001B[0m\u001B[32m*\u001B[0m\u001B[32m*\u001B[0m\u001B[32m*\u001B[0m\u001B[32m*\u001B[0m\u001B[32m*\u001B[0m\u001B[32m*\u001B[0m\u001B[32m*\u001B[0m\u001B[32m*\u001B[0m\u001B[32m*\u001B[0m\u001B[32m*\u001B[0m\u001B[32m*\u001B[0m\u001B[32m*\u001B[0m\u001B[32m*\u001B[0m\u001B[32m*\u001B[0m\u001B[32m*\u001B[0m\u001B[32m*\u001B[0m\u001B[32m*\u001B[0m\u001B[32m*\u001B[0m\u001B[32m*\u001B[0m\u001B[32m*\u001B[0m\u001B[32m*\u001B[0m\u001B[32m*\u001B[0m\u001B[32m*\u001B[0m\u001B[32m*\u001B[0m\u001B[32m*\u001B[0m\u001B[32m*\u001B[0m\u001B[32m*\u001B[0m\u001B[32m*\u001B[0m\u001B[32m*\u001B[0m\u001B[32m*\u001B[0m\u001B[32m*\u001B[0m\u001B[32m*\u001B[0m\u001B[32m*\u001B[0m\u001B[32m*\u001B[0m\u001B[32m*\u001B[0m\u001B[32m*\u001B[0m\u001B[32m*\u001B[0m\u001B[32m*\u001B[0m\u001B[32m*\u001B[0m\u001B[32m*\u001B[0m\u001B[32m*\u001B[0m\u001B[32m*\u001B[0m\u001B[32m*\u001B[0m\n"
     ]
    }
   ],
   "execution_count": 5
  },
  {
   "metadata": {
    "ExecuteTime": {
     "end_time": "2024-12-07T19:39:47.638627Z",
     "start_time": "2024-12-07T19:39:47.136831Z"
    }
   },
   "cell_type": "code",
   "source": [
    "for i in range(1, ile_zadan_przykladowych + 1):\n",
    "    zadanie = gz.wyznacznik(wymiar=choice([4,5,6]))\n",
    "    print(f\"\\033[34m** Zadanie {i} **\" + '*' * 80 + '\\033[0m')\n",
    "    display(Markdown(zadanie[0][:30].replace('A', '*A*')))\n",
    "    display(Latex(zadanie[0][30:]))\n",
    "    print(\"\\033[34m*\\033[0m\" * 95)\n",
    "    print(\"\\033[32m** Rozwiązanie **\" + '*' * 78 + '\\033[0m')\n",
    "    display(Latex(zadanie[1].replace(\"$\", \"$$\")))\n",
    "    print(\"\\033[32m*\\033[0m\" * 95)"
   ],
   "id": "af67ed21f1a24964",
   "outputs": [
    {
     "name": "stdout",
     "output_type": "stream",
     "text": [
      "\u001B[34m** Zadanie 1 **********************************************************************************\u001B[0m\n"
     ]
    },
    {
     "data": {
      "text/plain": [
       "<IPython.core.display.Markdown object>"
      ],
      "text/markdown": "Obliczyć wyznacznik macierzy *A*"
     },
     "metadata": {},
     "output_type": "display_data"
    },
    {
     "data": {
      "text/plain": [
       "<IPython.core.display.Latex object>"
      ],
      "text/latex": "\n\t\\[\n\t\t\\textnormal{A=} \\left[\\begin{matrix}2 & -2 & 1 & -2 & -2 & -2\\\\-1 & -2 & -2 & 3 & 2 & 1\\\\-1 & 0 & 1 & -2 & 2 & -1\\\\3 & 0 & 1 & 3 & 3 & 0\\\\-2 & 1 & 0 & 0 & 1 & 0\\\\-2 & 0 & -2 & -2 & 2 & 3\\end{matrix}\\right]\n\t\\]"
     },
     "metadata": {},
     "output_type": "display_data"
    },
    {
     "name": "stdout",
     "output_type": "stream",
     "text": [
      "\u001B[34m*\u001B[0m\u001B[34m*\u001B[0m\u001B[34m*\u001B[0m\u001B[34m*\u001B[0m\u001B[34m*\u001B[0m\u001B[34m*\u001B[0m\u001B[34m*\u001B[0m\u001B[34m*\u001B[0m\u001B[34m*\u001B[0m\u001B[34m*\u001B[0m\u001B[34m*\u001B[0m\u001B[34m*\u001B[0m\u001B[34m*\u001B[0m\u001B[34m*\u001B[0m\u001B[34m*\u001B[0m\u001B[34m*\u001B[0m\u001B[34m*\u001B[0m\u001B[34m*\u001B[0m\u001B[34m*\u001B[0m\u001B[34m*\u001B[0m\u001B[34m*\u001B[0m\u001B[34m*\u001B[0m\u001B[34m*\u001B[0m\u001B[34m*\u001B[0m\u001B[34m*\u001B[0m\u001B[34m*\u001B[0m\u001B[34m*\u001B[0m\u001B[34m*\u001B[0m\u001B[34m*\u001B[0m\u001B[34m*\u001B[0m\u001B[34m*\u001B[0m\u001B[34m*\u001B[0m\u001B[34m*\u001B[0m\u001B[34m*\u001B[0m\u001B[34m*\u001B[0m\u001B[34m*\u001B[0m\u001B[34m*\u001B[0m\u001B[34m*\u001B[0m\u001B[34m*\u001B[0m\u001B[34m*\u001B[0m\u001B[34m*\u001B[0m\u001B[34m*\u001B[0m\u001B[34m*\u001B[0m\u001B[34m*\u001B[0m\u001B[34m*\u001B[0m\u001B[34m*\u001B[0m\u001B[34m*\u001B[0m\u001B[34m*\u001B[0m\u001B[34m*\u001B[0m\u001B[34m*\u001B[0m\u001B[34m*\u001B[0m\u001B[34m*\u001B[0m\u001B[34m*\u001B[0m\u001B[34m*\u001B[0m\u001B[34m*\u001B[0m\u001B[34m*\u001B[0m\u001B[34m*\u001B[0m\u001B[34m*\u001B[0m\u001B[34m*\u001B[0m\u001B[34m*\u001B[0m\u001B[34m*\u001B[0m\u001B[34m*\u001B[0m\u001B[34m*\u001B[0m\u001B[34m*\u001B[0m\u001B[34m*\u001B[0m\u001B[34m*\u001B[0m\u001B[34m*\u001B[0m\u001B[34m*\u001B[0m\u001B[34m*\u001B[0m\u001B[34m*\u001B[0m\u001B[34m*\u001B[0m\u001B[34m*\u001B[0m\u001B[34m*\u001B[0m\u001B[34m*\u001B[0m\u001B[34m*\u001B[0m\u001B[34m*\u001B[0m\u001B[34m*\u001B[0m\u001B[34m*\u001B[0m\u001B[34m*\u001B[0m\u001B[34m*\u001B[0m\u001B[34m*\u001B[0m\u001B[34m*\u001B[0m\u001B[34m*\u001B[0m\u001B[34m*\u001B[0m\u001B[34m*\u001B[0m\u001B[34m*\u001B[0m\u001B[34m*\u001B[0m\u001B[34m*\u001B[0m\u001B[34m*\u001B[0m\u001B[34m*\u001B[0m\u001B[34m*\u001B[0m\u001B[34m*\u001B[0m\u001B[34m*\u001B[0m\u001B[34m*\u001B[0m\u001B[34m*\u001B[0m\n",
      "\u001B[32m** Rozwiązanie ********************************************************************************\u001B[0m\n"
     ]
    },
    {
     "data": {
      "text/plain": [
       "<IPython.core.display.Latex object>"
      ],
      "text/latex": "$$\\det(A)= -7$$"
     },
     "metadata": {},
     "output_type": "display_data"
    },
    {
     "name": "stdout",
     "output_type": "stream",
     "text": [
      "\u001B[32m*\u001B[0m\u001B[32m*\u001B[0m\u001B[32m*\u001B[0m\u001B[32m*\u001B[0m\u001B[32m*\u001B[0m\u001B[32m*\u001B[0m\u001B[32m*\u001B[0m\u001B[32m*\u001B[0m\u001B[32m*\u001B[0m\u001B[32m*\u001B[0m\u001B[32m*\u001B[0m\u001B[32m*\u001B[0m\u001B[32m*\u001B[0m\u001B[32m*\u001B[0m\u001B[32m*\u001B[0m\u001B[32m*\u001B[0m\u001B[32m*\u001B[0m\u001B[32m*\u001B[0m\u001B[32m*\u001B[0m\u001B[32m*\u001B[0m\u001B[32m*\u001B[0m\u001B[32m*\u001B[0m\u001B[32m*\u001B[0m\u001B[32m*\u001B[0m\u001B[32m*\u001B[0m\u001B[32m*\u001B[0m\u001B[32m*\u001B[0m\u001B[32m*\u001B[0m\u001B[32m*\u001B[0m\u001B[32m*\u001B[0m\u001B[32m*\u001B[0m\u001B[32m*\u001B[0m\u001B[32m*\u001B[0m\u001B[32m*\u001B[0m\u001B[32m*\u001B[0m\u001B[32m*\u001B[0m\u001B[32m*\u001B[0m\u001B[32m*\u001B[0m\u001B[32m*\u001B[0m\u001B[32m*\u001B[0m\u001B[32m*\u001B[0m\u001B[32m*\u001B[0m\u001B[32m*\u001B[0m\u001B[32m*\u001B[0m\u001B[32m*\u001B[0m\u001B[32m*\u001B[0m\u001B[32m*\u001B[0m\u001B[32m*\u001B[0m\u001B[32m*\u001B[0m\u001B[32m*\u001B[0m\u001B[32m*\u001B[0m\u001B[32m*\u001B[0m\u001B[32m*\u001B[0m\u001B[32m*\u001B[0m\u001B[32m*\u001B[0m\u001B[32m*\u001B[0m\u001B[32m*\u001B[0m\u001B[32m*\u001B[0m\u001B[32m*\u001B[0m\u001B[32m*\u001B[0m\u001B[32m*\u001B[0m\u001B[32m*\u001B[0m\u001B[32m*\u001B[0m\u001B[32m*\u001B[0m\u001B[32m*\u001B[0m\u001B[32m*\u001B[0m\u001B[32m*\u001B[0m\u001B[32m*\u001B[0m\u001B[32m*\u001B[0m\u001B[32m*\u001B[0m\u001B[32m*\u001B[0m\u001B[32m*\u001B[0m\u001B[32m*\u001B[0m\u001B[32m*\u001B[0m\u001B[32m*\u001B[0m\u001B[32m*\u001B[0m\u001B[32m*\u001B[0m\u001B[32m*\u001B[0m\u001B[32m*\u001B[0m\u001B[32m*\u001B[0m\u001B[32m*\u001B[0m\u001B[32m*\u001B[0m\u001B[32m*\u001B[0m\u001B[32m*\u001B[0m\u001B[32m*\u001B[0m\u001B[32m*\u001B[0m\u001B[32m*\u001B[0m\u001B[32m*\u001B[0m\u001B[32m*\u001B[0m\u001B[32m*\u001B[0m\u001B[32m*\u001B[0m\u001B[32m*\u001B[0m\u001B[32m*\u001B[0m\u001B[32m*\u001B[0m\u001B[32m*\u001B[0m\n",
      "\u001B[34m** Zadanie 2 **********************************************************************************\u001B[0m\n"
     ]
    },
    {
     "data": {
      "text/plain": [
       "<IPython.core.display.Markdown object>"
      ],
      "text/markdown": "Obliczyć wyznacznik macierzy *A*"
     },
     "metadata": {},
     "output_type": "display_data"
    },
    {
     "data": {
      "text/plain": [
       "<IPython.core.display.Latex object>"
      ],
      "text/latex": "\n\t\\[\n\t\t\\textnormal{A=} \\left[\\begin{matrix}-2 & 1 & 3 & 2 & -1\\\\-1 & 1 & 1 & -2 & 3\\\\-2 & 3 & 3 & 0 & 1\\\\2 & 3 & 0 & -1 & 3\\\\0 & 0 & 1 & 0 & 3\\end{matrix}\\right]\n\t\\]"
     },
     "metadata": {},
     "output_type": "display_data"
    },
    {
     "name": "stdout",
     "output_type": "stream",
     "text": [
      "\u001B[34m*\u001B[0m\u001B[34m*\u001B[0m\u001B[34m*\u001B[0m\u001B[34m*\u001B[0m\u001B[34m*\u001B[0m\u001B[34m*\u001B[0m\u001B[34m*\u001B[0m\u001B[34m*\u001B[0m\u001B[34m*\u001B[0m\u001B[34m*\u001B[0m\u001B[34m*\u001B[0m\u001B[34m*\u001B[0m\u001B[34m*\u001B[0m\u001B[34m*\u001B[0m\u001B[34m*\u001B[0m\u001B[34m*\u001B[0m\u001B[34m*\u001B[0m\u001B[34m*\u001B[0m\u001B[34m*\u001B[0m\u001B[34m*\u001B[0m\u001B[34m*\u001B[0m\u001B[34m*\u001B[0m\u001B[34m*\u001B[0m\u001B[34m*\u001B[0m\u001B[34m*\u001B[0m\u001B[34m*\u001B[0m\u001B[34m*\u001B[0m\u001B[34m*\u001B[0m\u001B[34m*\u001B[0m\u001B[34m*\u001B[0m\u001B[34m*\u001B[0m\u001B[34m*\u001B[0m\u001B[34m*\u001B[0m\u001B[34m*\u001B[0m\u001B[34m*\u001B[0m\u001B[34m*\u001B[0m\u001B[34m*\u001B[0m\u001B[34m*\u001B[0m\u001B[34m*\u001B[0m\u001B[34m*\u001B[0m\u001B[34m*\u001B[0m\u001B[34m*\u001B[0m\u001B[34m*\u001B[0m\u001B[34m*\u001B[0m\u001B[34m*\u001B[0m\u001B[34m*\u001B[0m\u001B[34m*\u001B[0m\u001B[34m*\u001B[0m\u001B[34m*\u001B[0m\u001B[34m*\u001B[0m\u001B[34m*\u001B[0m\u001B[34m*\u001B[0m\u001B[34m*\u001B[0m\u001B[34m*\u001B[0m\u001B[34m*\u001B[0m\u001B[34m*\u001B[0m\u001B[34m*\u001B[0m\u001B[34m*\u001B[0m\u001B[34m*\u001B[0m\u001B[34m*\u001B[0m\u001B[34m*\u001B[0m\u001B[34m*\u001B[0m\u001B[34m*\u001B[0m\u001B[34m*\u001B[0m\u001B[34m*\u001B[0m\u001B[34m*\u001B[0m\u001B[34m*\u001B[0m\u001B[34m*\u001B[0m\u001B[34m*\u001B[0m\u001B[34m*\u001B[0m\u001B[34m*\u001B[0m\u001B[34m*\u001B[0m\u001B[34m*\u001B[0m\u001B[34m*\u001B[0m\u001B[34m*\u001B[0m\u001B[34m*\u001B[0m\u001B[34m*\u001B[0m\u001B[34m*\u001B[0m\u001B[34m*\u001B[0m\u001B[34m*\u001B[0m\u001B[34m*\u001B[0m\u001B[34m*\u001B[0m\u001B[34m*\u001B[0m\u001B[34m*\u001B[0m\u001B[34m*\u001B[0m\u001B[34m*\u001B[0m\u001B[34m*\u001B[0m\u001B[34m*\u001B[0m\u001B[34m*\u001B[0m\u001B[34m*\u001B[0m\u001B[34m*\u001B[0m\u001B[34m*\u001B[0m\u001B[34m*\u001B[0m\u001B[34m*\u001B[0m\u001B[34m*\u001B[0m\n",
      "\u001B[32m** Rozwiązanie ********************************************************************************\u001B[0m\n"
     ]
    },
    {
     "data": {
      "text/plain": [
       "<IPython.core.display.Latex object>"
      ],
      "text/latex": "$$\\det(A)= 20$$"
     },
     "metadata": {},
     "output_type": "display_data"
    },
    {
     "name": "stdout",
     "output_type": "stream",
     "text": [
      "\u001B[32m*\u001B[0m\u001B[32m*\u001B[0m\u001B[32m*\u001B[0m\u001B[32m*\u001B[0m\u001B[32m*\u001B[0m\u001B[32m*\u001B[0m\u001B[32m*\u001B[0m\u001B[32m*\u001B[0m\u001B[32m*\u001B[0m\u001B[32m*\u001B[0m\u001B[32m*\u001B[0m\u001B[32m*\u001B[0m\u001B[32m*\u001B[0m\u001B[32m*\u001B[0m\u001B[32m*\u001B[0m\u001B[32m*\u001B[0m\u001B[32m*\u001B[0m\u001B[32m*\u001B[0m\u001B[32m*\u001B[0m\u001B[32m*\u001B[0m\u001B[32m*\u001B[0m\u001B[32m*\u001B[0m\u001B[32m*\u001B[0m\u001B[32m*\u001B[0m\u001B[32m*\u001B[0m\u001B[32m*\u001B[0m\u001B[32m*\u001B[0m\u001B[32m*\u001B[0m\u001B[32m*\u001B[0m\u001B[32m*\u001B[0m\u001B[32m*\u001B[0m\u001B[32m*\u001B[0m\u001B[32m*\u001B[0m\u001B[32m*\u001B[0m\u001B[32m*\u001B[0m\u001B[32m*\u001B[0m\u001B[32m*\u001B[0m\u001B[32m*\u001B[0m\u001B[32m*\u001B[0m\u001B[32m*\u001B[0m\u001B[32m*\u001B[0m\u001B[32m*\u001B[0m\u001B[32m*\u001B[0m\u001B[32m*\u001B[0m\u001B[32m*\u001B[0m\u001B[32m*\u001B[0m\u001B[32m*\u001B[0m\u001B[32m*\u001B[0m\u001B[32m*\u001B[0m\u001B[32m*\u001B[0m\u001B[32m*\u001B[0m\u001B[32m*\u001B[0m\u001B[32m*\u001B[0m\u001B[32m*\u001B[0m\u001B[32m*\u001B[0m\u001B[32m*\u001B[0m\u001B[32m*\u001B[0m\u001B[32m*\u001B[0m\u001B[32m*\u001B[0m\u001B[32m*\u001B[0m\u001B[32m*\u001B[0m\u001B[32m*\u001B[0m\u001B[32m*\u001B[0m\u001B[32m*\u001B[0m\u001B[32m*\u001B[0m\u001B[32m*\u001B[0m\u001B[32m*\u001B[0m\u001B[32m*\u001B[0m\u001B[32m*\u001B[0m\u001B[32m*\u001B[0m\u001B[32m*\u001B[0m\u001B[32m*\u001B[0m\u001B[32m*\u001B[0m\u001B[32m*\u001B[0m\u001B[32m*\u001B[0m\u001B[32m*\u001B[0m\u001B[32m*\u001B[0m\u001B[32m*\u001B[0m\u001B[32m*\u001B[0m\u001B[32m*\u001B[0m\u001B[32m*\u001B[0m\u001B[32m*\u001B[0m\u001B[32m*\u001B[0m\u001B[32m*\u001B[0m\u001B[32m*\u001B[0m\u001B[32m*\u001B[0m\u001B[32m*\u001B[0m\u001B[32m*\u001B[0m\u001B[32m*\u001B[0m\u001B[32m*\u001B[0m\u001B[32m*\u001B[0m\u001B[32m*\u001B[0m\u001B[32m*\u001B[0m\u001B[32m*\u001B[0m\u001B[32m*\u001B[0m\n",
      "\u001B[34m** Zadanie 3 **********************************************************************************\u001B[0m\n"
     ]
    },
    {
     "data": {
      "text/plain": [
       "<IPython.core.display.Markdown object>"
      ],
      "text/markdown": "Obliczyć wyznacznik macierzy *A*"
     },
     "metadata": {},
     "output_type": "display_data"
    },
    {
     "data": {
      "text/plain": [
       "<IPython.core.display.Latex object>"
      ],
      "text/latex": "\n\t\\[\n\t\t\\textnormal{A=} \\left[\\begin{matrix}-2 & -1 & 2 & -1 & -1\\\\2 & 3 & 0 & -1 & -1\\\\0 & -2 & 1 & -2 & 1\\\\1 & 1 & 1 & 1 & 3\\\\-1 & -1 & 1 & 1 & 2\\end{matrix}\\right]\n\t\\]"
     },
     "metadata": {},
     "output_type": "display_data"
    },
    {
     "name": "stdout",
     "output_type": "stream",
     "text": [
      "\u001B[34m*\u001B[0m\u001B[34m*\u001B[0m\u001B[34m*\u001B[0m\u001B[34m*\u001B[0m\u001B[34m*\u001B[0m\u001B[34m*\u001B[0m\u001B[34m*\u001B[0m\u001B[34m*\u001B[0m\u001B[34m*\u001B[0m\u001B[34m*\u001B[0m\u001B[34m*\u001B[0m\u001B[34m*\u001B[0m\u001B[34m*\u001B[0m\u001B[34m*\u001B[0m\u001B[34m*\u001B[0m\u001B[34m*\u001B[0m\u001B[34m*\u001B[0m\u001B[34m*\u001B[0m\u001B[34m*\u001B[0m\u001B[34m*\u001B[0m\u001B[34m*\u001B[0m\u001B[34m*\u001B[0m\u001B[34m*\u001B[0m\u001B[34m*\u001B[0m\u001B[34m*\u001B[0m\u001B[34m*\u001B[0m\u001B[34m*\u001B[0m\u001B[34m*\u001B[0m\u001B[34m*\u001B[0m\u001B[34m*\u001B[0m\u001B[34m*\u001B[0m\u001B[34m*\u001B[0m\u001B[34m*\u001B[0m\u001B[34m*\u001B[0m\u001B[34m*\u001B[0m\u001B[34m*\u001B[0m\u001B[34m*\u001B[0m\u001B[34m*\u001B[0m\u001B[34m*\u001B[0m\u001B[34m*\u001B[0m\u001B[34m*\u001B[0m\u001B[34m*\u001B[0m\u001B[34m*\u001B[0m\u001B[34m*\u001B[0m\u001B[34m*\u001B[0m\u001B[34m*\u001B[0m\u001B[34m*\u001B[0m\u001B[34m*\u001B[0m\u001B[34m*\u001B[0m\u001B[34m*\u001B[0m\u001B[34m*\u001B[0m\u001B[34m*\u001B[0m\u001B[34m*\u001B[0m\u001B[34m*\u001B[0m\u001B[34m*\u001B[0m\u001B[34m*\u001B[0m\u001B[34m*\u001B[0m\u001B[34m*\u001B[0m\u001B[34m*\u001B[0m\u001B[34m*\u001B[0m\u001B[34m*\u001B[0m\u001B[34m*\u001B[0m\u001B[34m*\u001B[0m\u001B[34m*\u001B[0m\u001B[34m*\u001B[0m\u001B[34m*\u001B[0m\u001B[34m*\u001B[0m\u001B[34m*\u001B[0m\u001B[34m*\u001B[0m\u001B[34m*\u001B[0m\u001B[34m*\u001B[0m\u001B[34m*\u001B[0m\u001B[34m*\u001B[0m\u001B[34m*\u001B[0m\u001B[34m*\u001B[0m\u001B[34m*\u001B[0m\u001B[34m*\u001B[0m\u001B[34m*\u001B[0m\u001B[34m*\u001B[0m\u001B[34m*\u001B[0m\u001B[34m*\u001B[0m\u001B[34m*\u001B[0m\u001B[34m*\u001B[0m\u001B[34m*\u001B[0m\u001B[34m*\u001B[0m\u001B[34m*\u001B[0m\u001B[34m*\u001B[0m\u001B[34m*\u001B[0m\u001B[34m*\u001B[0m\u001B[34m*\u001B[0m\u001B[34m*\u001B[0m\u001B[34m*\u001B[0m\u001B[34m*\u001B[0m\u001B[34m*\u001B[0m\u001B[34m*\u001B[0m\n",
      "\u001B[32m** Rozwiązanie ********************************************************************************\u001B[0m\n"
     ]
    },
    {
     "data": {
      "text/plain": [
       "<IPython.core.display.Latex object>"
      ],
      "text/latex": "$$\\det(A)= -8$$"
     },
     "metadata": {},
     "output_type": "display_data"
    },
    {
     "name": "stdout",
     "output_type": "stream",
     "text": [
      "\u001B[32m*\u001B[0m\u001B[32m*\u001B[0m\u001B[32m*\u001B[0m\u001B[32m*\u001B[0m\u001B[32m*\u001B[0m\u001B[32m*\u001B[0m\u001B[32m*\u001B[0m\u001B[32m*\u001B[0m\u001B[32m*\u001B[0m\u001B[32m*\u001B[0m\u001B[32m*\u001B[0m\u001B[32m*\u001B[0m\u001B[32m*\u001B[0m\u001B[32m*\u001B[0m\u001B[32m*\u001B[0m\u001B[32m*\u001B[0m\u001B[32m*\u001B[0m\u001B[32m*\u001B[0m\u001B[32m*\u001B[0m\u001B[32m*\u001B[0m\u001B[32m*\u001B[0m\u001B[32m*\u001B[0m\u001B[32m*\u001B[0m\u001B[32m*\u001B[0m\u001B[32m*\u001B[0m\u001B[32m*\u001B[0m\u001B[32m*\u001B[0m\u001B[32m*\u001B[0m\u001B[32m*\u001B[0m\u001B[32m*\u001B[0m\u001B[32m*\u001B[0m\u001B[32m*\u001B[0m\u001B[32m*\u001B[0m\u001B[32m*\u001B[0m\u001B[32m*\u001B[0m\u001B[32m*\u001B[0m\u001B[32m*\u001B[0m\u001B[32m*\u001B[0m\u001B[32m*\u001B[0m\u001B[32m*\u001B[0m\u001B[32m*\u001B[0m\u001B[32m*\u001B[0m\u001B[32m*\u001B[0m\u001B[32m*\u001B[0m\u001B[32m*\u001B[0m\u001B[32m*\u001B[0m\u001B[32m*\u001B[0m\u001B[32m*\u001B[0m\u001B[32m*\u001B[0m\u001B[32m*\u001B[0m\u001B[32m*\u001B[0m\u001B[32m*\u001B[0m\u001B[32m*\u001B[0m\u001B[32m*\u001B[0m\u001B[32m*\u001B[0m\u001B[32m*\u001B[0m\u001B[32m*\u001B[0m\u001B[32m*\u001B[0m\u001B[32m*\u001B[0m\u001B[32m*\u001B[0m\u001B[32m*\u001B[0m\u001B[32m*\u001B[0m\u001B[32m*\u001B[0m\u001B[32m*\u001B[0m\u001B[32m*\u001B[0m\u001B[32m*\u001B[0m\u001B[32m*\u001B[0m\u001B[32m*\u001B[0m\u001B[32m*\u001B[0m\u001B[32m*\u001B[0m\u001B[32m*\u001B[0m\u001B[32m*\u001B[0m\u001B[32m*\u001B[0m\u001B[32m*\u001B[0m\u001B[32m*\u001B[0m\u001B[32m*\u001B[0m\u001B[32m*\u001B[0m\u001B[32m*\u001B[0m\u001B[32m*\u001B[0m\u001B[32m*\u001B[0m\u001B[32m*\u001B[0m\u001B[32m*\u001B[0m\u001B[32m*\u001B[0m\u001B[32m*\u001B[0m\u001B[32m*\u001B[0m\u001B[32m*\u001B[0m\u001B[32m*\u001B[0m\u001B[32m*\u001B[0m\u001B[32m*\u001B[0m\u001B[32m*\u001B[0m\u001B[32m*\u001B[0m\u001B[32m*\u001B[0m\u001B[32m*\u001B[0m\u001B[32m*\u001B[0m\u001B[32m*\u001B[0m\n",
      "\u001B[34m** Zadanie 4 **********************************************************************************\u001B[0m\n"
     ]
    },
    {
     "data": {
      "text/plain": [
       "<IPython.core.display.Markdown object>"
      ],
      "text/markdown": "Obliczyć wyznacznik macierzy *A*"
     },
     "metadata": {},
     "output_type": "display_data"
    },
    {
     "data": {
      "text/plain": [
       "<IPython.core.display.Latex object>"
      ],
      "text/latex": "\n\t\\[\n\t\t\\textnormal{A=} \\left[\\begin{matrix}1 & 1 & 0 & -2 & 1\\\\-2 & -1 & -2 & 0 & -2\\\\0 & -2 & 2 & 0 & 1\\\\2 & 0 & 2 & 0 & -1\\\\0 & 3 & -2 & -2 & 3\\end{matrix}\\right]\n\t\\]"
     },
     "metadata": {},
     "output_type": "display_data"
    },
    {
     "name": "stdout",
     "output_type": "stream",
     "text": [
      "\u001B[34m*\u001B[0m\u001B[34m*\u001B[0m\u001B[34m*\u001B[0m\u001B[34m*\u001B[0m\u001B[34m*\u001B[0m\u001B[34m*\u001B[0m\u001B[34m*\u001B[0m\u001B[34m*\u001B[0m\u001B[34m*\u001B[0m\u001B[34m*\u001B[0m\u001B[34m*\u001B[0m\u001B[34m*\u001B[0m\u001B[34m*\u001B[0m\u001B[34m*\u001B[0m\u001B[34m*\u001B[0m\u001B[34m*\u001B[0m\u001B[34m*\u001B[0m\u001B[34m*\u001B[0m\u001B[34m*\u001B[0m\u001B[34m*\u001B[0m\u001B[34m*\u001B[0m\u001B[34m*\u001B[0m\u001B[34m*\u001B[0m\u001B[34m*\u001B[0m\u001B[34m*\u001B[0m\u001B[34m*\u001B[0m\u001B[34m*\u001B[0m\u001B[34m*\u001B[0m\u001B[34m*\u001B[0m\u001B[34m*\u001B[0m\u001B[34m*\u001B[0m\u001B[34m*\u001B[0m\u001B[34m*\u001B[0m\u001B[34m*\u001B[0m\u001B[34m*\u001B[0m\u001B[34m*\u001B[0m\u001B[34m*\u001B[0m\u001B[34m*\u001B[0m\u001B[34m*\u001B[0m\u001B[34m*\u001B[0m\u001B[34m*\u001B[0m\u001B[34m*\u001B[0m\u001B[34m*\u001B[0m\u001B[34m*\u001B[0m\u001B[34m*\u001B[0m\u001B[34m*\u001B[0m\u001B[34m*\u001B[0m\u001B[34m*\u001B[0m\u001B[34m*\u001B[0m\u001B[34m*\u001B[0m\u001B[34m*\u001B[0m\u001B[34m*\u001B[0m\u001B[34m*\u001B[0m\u001B[34m*\u001B[0m\u001B[34m*\u001B[0m\u001B[34m*\u001B[0m\u001B[34m*\u001B[0m\u001B[34m*\u001B[0m\u001B[34m*\u001B[0m\u001B[34m*\u001B[0m\u001B[34m*\u001B[0m\u001B[34m*\u001B[0m\u001B[34m*\u001B[0m\u001B[34m*\u001B[0m\u001B[34m*\u001B[0m\u001B[34m*\u001B[0m\u001B[34m*\u001B[0m\u001B[34m*\u001B[0m\u001B[34m*\u001B[0m\u001B[34m*\u001B[0m\u001B[34m*\u001B[0m\u001B[34m*\u001B[0m\u001B[34m*\u001B[0m\u001B[34m*\u001B[0m\u001B[34m*\u001B[0m\u001B[34m*\u001B[0m\u001B[34m*\u001B[0m\u001B[34m*\u001B[0m\u001B[34m*\u001B[0m\u001B[34m*\u001B[0m\u001B[34m*\u001B[0m\u001B[34m*\u001B[0m\u001B[34m*\u001B[0m\u001B[34m*\u001B[0m\u001B[34m*\u001B[0m\u001B[34m*\u001B[0m\u001B[34m*\u001B[0m\u001B[34m*\u001B[0m\u001B[34m*\u001B[0m\u001B[34m*\u001B[0m\u001B[34m*\u001B[0m\u001B[34m*\u001B[0m\u001B[34m*\u001B[0m\u001B[34m*\u001B[0m\u001B[34m*\u001B[0m\n",
      "\u001B[32m** Rozwiązanie ********************************************************************************\u001B[0m\n"
     ]
    },
    {
     "data": {
      "text/plain": [
       "<IPython.core.display.Latex object>"
      ],
      "text/latex": "$$\\det(A)= 8$$"
     },
     "metadata": {},
     "output_type": "display_data"
    },
    {
     "name": "stdout",
     "output_type": "stream",
     "text": [
      "\u001B[32m*\u001B[0m\u001B[32m*\u001B[0m\u001B[32m*\u001B[0m\u001B[32m*\u001B[0m\u001B[32m*\u001B[0m\u001B[32m*\u001B[0m\u001B[32m*\u001B[0m\u001B[32m*\u001B[0m\u001B[32m*\u001B[0m\u001B[32m*\u001B[0m\u001B[32m*\u001B[0m\u001B[32m*\u001B[0m\u001B[32m*\u001B[0m\u001B[32m*\u001B[0m\u001B[32m*\u001B[0m\u001B[32m*\u001B[0m\u001B[32m*\u001B[0m\u001B[32m*\u001B[0m\u001B[32m*\u001B[0m\u001B[32m*\u001B[0m\u001B[32m*\u001B[0m\u001B[32m*\u001B[0m\u001B[32m*\u001B[0m\u001B[32m*\u001B[0m\u001B[32m*\u001B[0m\u001B[32m*\u001B[0m\u001B[32m*\u001B[0m\u001B[32m*\u001B[0m\u001B[32m*\u001B[0m\u001B[32m*\u001B[0m\u001B[32m*\u001B[0m\u001B[32m*\u001B[0m\u001B[32m*\u001B[0m\u001B[32m*\u001B[0m\u001B[32m*\u001B[0m\u001B[32m*\u001B[0m\u001B[32m*\u001B[0m\u001B[32m*\u001B[0m\u001B[32m*\u001B[0m\u001B[32m*\u001B[0m\u001B[32m*\u001B[0m\u001B[32m*\u001B[0m\u001B[32m*\u001B[0m\u001B[32m*\u001B[0m\u001B[32m*\u001B[0m\u001B[32m*\u001B[0m\u001B[32m*\u001B[0m\u001B[32m*\u001B[0m\u001B[32m*\u001B[0m\u001B[32m*\u001B[0m\u001B[32m*\u001B[0m\u001B[32m*\u001B[0m\u001B[32m*\u001B[0m\u001B[32m*\u001B[0m\u001B[32m*\u001B[0m\u001B[32m*\u001B[0m\u001B[32m*\u001B[0m\u001B[32m*\u001B[0m\u001B[32m*\u001B[0m\u001B[32m*\u001B[0m\u001B[32m*\u001B[0m\u001B[32m*\u001B[0m\u001B[32m*\u001B[0m\u001B[32m*\u001B[0m\u001B[32m*\u001B[0m\u001B[32m*\u001B[0m\u001B[32m*\u001B[0m\u001B[32m*\u001B[0m\u001B[32m*\u001B[0m\u001B[32m*\u001B[0m\u001B[32m*\u001B[0m\u001B[32m*\u001B[0m\u001B[32m*\u001B[0m\u001B[32m*\u001B[0m\u001B[32m*\u001B[0m\u001B[32m*\u001B[0m\u001B[32m*\u001B[0m\u001B[32m*\u001B[0m\u001B[32m*\u001B[0m\u001B[32m*\u001B[0m\u001B[32m*\u001B[0m\u001B[32m*\u001B[0m\u001B[32m*\u001B[0m\u001B[32m*\u001B[0m\u001B[32m*\u001B[0m\u001B[32m*\u001B[0m\u001B[32m*\u001B[0m\u001B[32m*\u001B[0m\u001B[32m*\u001B[0m\u001B[32m*\u001B[0m\u001B[32m*\u001B[0m\u001B[32m*\u001B[0m\u001B[32m*\u001B[0m\u001B[32m*\u001B[0m\u001B[32m*\u001B[0m\n",
      "\u001B[34m** Zadanie 5 **********************************************************************************\u001B[0m\n"
     ]
    },
    {
     "data": {
      "text/plain": [
       "<IPython.core.display.Markdown object>"
      ],
      "text/markdown": "Obliczyć wyznacznik macierzy *A*"
     },
     "metadata": {},
     "output_type": "display_data"
    },
    {
     "data": {
      "text/plain": [
       "<IPython.core.display.Latex object>"
      ],
      "text/latex": "\n\t\\[\n\t\t\\textnormal{A=} \\left[\\begin{matrix}1 & -2 & 2 & 0\\\\-2 & -1 & 1 & 0\\\\1 & -1 & 0 & 1\\\\-1 & -2 & 3 & 3\\end{matrix}\\right]\n\t\\]"
     },
     "metadata": {},
     "output_type": "display_data"
    },
    {
     "name": "stdout",
     "output_type": "stream",
     "text": [
      "\u001B[34m*\u001B[0m\u001B[34m*\u001B[0m\u001B[34m*\u001B[0m\u001B[34m*\u001B[0m\u001B[34m*\u001B[0m\u001B[34m*\u001B[0m\u001B[34m*\u001B[0m\u001B[34m*\u001B[0m\u001B[34m*\u001B[0m\u001B[34m*\u001B[0m\u001B[34m*\u001B[0m\u001B[34m*\u001B[0m\u001B[34m*\u001B[0m\u001B[34m*\u001B[0m\u001B[34m*\u001B[0m\u001B[34m*\u001B[0m\u001B[34m*\u001B[0m\u001B[34m*\u001B[0m\u001B[34m*\u001B[0m\u001B[34m*\u001B[0m\u001B[34m*\u001B[0m\u001B[34m*\u001B[0m\u001B[34m*\u001B[0m\u001B[34m*\u001B[0m\u001B[34m*\u001B[0m\u001B[34m*\u001B[0m\u001B[34m*\u001B[0m\u001B[34m*\u001B[0m\u001B[34m*\u001B[0m\u001B[34m*\u001B[0m\u001B[34m*\u001B[0m\u001B[34m*\u001B[0m\u001B[34m*\u001B[0m\u001B[34m*\u001B[0m\u001B[34m*\u001B[0m\u001B[34m*\u001B[0m\u001B[34m*\u001B[0m\u001B[34m*\u001B[0m\u001B[34m*\u001B[0m\u001B[34m*\u001B[0m\u001B[34m*\u001B[0m\u001B[34m*\u001B[0m\u001B[34m*\u001B[0m\u001B[34m*\u001B[0m\u001B[34m*\u001B[0m\u001B[34m*\u001B[0m\u001B[34m*\u001B[0m\u001B[34m*\u001B[0m\u001B[34m*\u001B[0m\u001B[34m*\u001B[0m\u001B[34m*\u001B[0m\u001B[34m*\u001B[0m\u001B[34m*\u001B[0m\u001B[34m*\u001B[0m\u001B[34m*\u001B[0m\u001B[34m*\u001B[0m\u001B[34m*\u001B[0m\u001B[34m*\u001B[0m\u001B[34m*\u001B[0m\u001B[34m*\u001B[0m\u001B[34m*\u001B[0m\u001B[34m*\u001B[0m\u001B[34m*\u001B[0m\u001B[34m*\u001B[0m\u001B[34m*\u001B[0m\u001B[34m*\u001B[0m\u001B[34m*\u001B[0m\u001B[34m*\u001B[0m\u001B[34m*\u001B[0m\u001B[34m*\u001B[0m\u001B[34m*\u001B[0m\u001B[34m*\u001B[0m\u001B[34m*\u001B[0m\u001B[34m*\u001B[0m\u001B[34m*\u001B[0m\u001B[34m*\u001B[0m\u001B[34m*\u001B[0m\u001B[34m*\u001B[0m\u001B[34m*\u001B[0m\u001B[34m*\u001B[0m\u001B[34m*\u001B[0m\u001B[34m*\u001B[0m\u001B[34m*\u001B[0m\u001B[34m*\u001B[0m\u001B[34m*\u001B[0m\u001B[34m*\u001B[0m\u001B[34m*\u001B[0m\u001B[34m*\u001B[0m\u001B[34m*\u001B[0m\u001B[34m*\u001B[0m\u001B[34m*\u001B[0m\u001B[34m*\u001B[0m\u001B[34m*\u001B[0m\u001B[34m*\u001B[0m\u001B[34m*\u001B[0m\n",
      "\u001B[32m** Rozwiązanie ********************************************************************************\u001B[0m\n"
     ]
    },
    {
     "data": {
      "text/plain": [
       "<IPython.core.display.Latex object>"
      ],
      "text/latex": "$$\\det(A)= 20$$"
     },
     "metadata": {},
     "output_type": "display_data"
    },
    {
     "name": "stdout",
     "output_type": "stream",
     "text": [
      "\u001B[32m*\u001B[0m\u001B[32m*\u001B[0m\u001B[32m*\u001B[0m\u001B[32m*\u001B[0m\u001B[32m*\u001B[0m\u001B[32m*\u001B[0m\u001B[32m*\u001B[0m\u001B[32m*\u001B[0m\u001B[32m*\u001B[0m\u001B[32m*\u001B[0m\u001B[32m*\u001B[0m\u001B[32m*\u001B[0m\u001B[32m*\u001B[0m\u001B[32m*\u001B[0m\u001B[32m*\u001B[0m\u001B[32m*\u001B[0m\u001B[32m*\u001B[0m\u001B[32m*\u001B[0m\u001B[32m*\u001B[0m\u001B[32m*\u001B[0m\u001B[32m*\u001B[0m\u001B[32m*\u001B[0m\u001B[32m*\u001B[0m\u001B[32m*\u001B[0m\u001B[32m*\u001B[0m\u001B[32m*\u001B[0m\u001B[32m*\u001B[0m\u001B[32m*\u001B[0m\u001B[32m*\u001B[0m\u001B[32m*\u001B[0m\u001B[32m*\u001B[0m\u001B[32m*\u001B[0m\u001B[32m*\u001B[0m\u001B[32m*\u001B[0m\u001B[32m*\u001B[0m\u001B[32m*\u001B[0m\u001B[32m*\u001B[0m\u001B[32m*\u001B[0m\u001B[32m*\u001B[0m\u001B[32m*\u001B[0m\u001B[32m*\u001B[0m\u001B[32m*\u001B[0m\u001B[32m*\u001B[0m\u001B[32m*\u001B[0m\u001B[32m*\u001B[0m\u001B[32m*\u001B[0m\u001B[32m*\u001B[0m\u001B[32m*\u001B[0m\u001B[32m*\u001B[0m\u001B[32m*\u001B[0m\u001B[32m*\u001B[0m\u001B[32m*\u001B[0m\u001B[32m*\u001B[0m\u001B[32m*\u001B[0m\u001B[32m*\u001B[0m\u001B[32m*\u001B[0m\u001B[32m*\u001B[0m\u001B[32m*\u001B[0m\u001B[32m*\u001B[0m\u001B[32m*\u001B[0m\u001B[32m*\u001B[0m\u001B[32m*\u001B[0m\u001B[32m*\u001B[0m\u001B[32m*\u001B[0m\u001B[32m*\u001B[0m\u001B[32m*\u001B[0m\u001B[32m*\u001B[0m\u001B[32m*\u001B[0m\u001B[32m*\u001B[0m\u001B[32m*\u001B[0m\u001B[32m*\u001B[0m\u001B[32m*\u001B[0m\u001B[32m*\u001B[0m\u001B[32m*\u001B[0m\u001B[32m*\u001B[0m\u001B[32m*\u001B[0m\u001B[32m*\u001B[0m\u001B[32m*\u001B[0m\u001B[32m*\u001B[0m\u001B[32m*\u001B[0m\u001B[32m*\u001B[0m\u001B[32m*\u001B[0m\u001B[32m*\u001B[0m\u001B[32m*\u001B[0m\u001B[32m*\u001B[0m\u001B[32m*\u001B[0m\u001B[32m*\u001B[0m\u001B[32m*\u001B[0m\u001B[32m*\u001B[0m\u001B[32m*\u001B[0m\u001B[32m*\u001B[0m\u001B[32m*\u001B[0m\u001B[32m*\u001B[0m\u001B[32m*\u001B[0m\u001B[32m*\u001B[0m\n",
      "\u001B[34m** Zadanie 6 **********************************************************************************\u001B[0m\n"
     ]
    },
    {
     "data": {
      "text/plain": [
       "<IPython.core.display.Markdown object>"
      ],
      "text/markdown": "Obliczyć wyznacznik macierzy *A*"
     },
     "metadata": {},
     "output_type": "display_data"
    },
    {
     "data": {
      "text/plain": [
       "<IPython.core.display.Latex object>"
      ],
      "text/latex": "\n\t\\[\n\t\t\\textnormal{A=} \\left[\\begin{matrix}-2 & -1 & 0 & -1\\\\-1 & 0 & 2 & -2\\\\2 & 2 & 2 & 0\\\\0 & -1 & 0 & 0\\end{matrix}\\right]\n\t\\]"
     },
     "metadata": {},
     "output_type": "display_data"
    },
    {
     "name": "stdout",
     "output_type": "stream",
     "text": [
      "\u001B[34m*\u001B[0m\u001B[34m*\u001B[0m\u001B[34m*\u001B[0m\u001B[34m*\u001B[0m\u001B[34m*\u001B[0m\u001B[34m*\u001B[0m\u001B[34m*\u001B[0m\u001B[34m*\u001B[0m\u001B[34m*\u001B[0m\u001B[34m*\u001B[0m\u001B[34m*\u001B[0m\u001B[34m*\u001B[0m\u001B[34m*\u001B[0m\u001B[34m*\u001B[0m\u001B[34m*\u001B[0m\u001B[34m*\u001B[0m\u001B[34m*\u001B[0m\u001B[34m*\u001B[0m\u001B[34m*\u001B[0m\u001B[34m*\u001B[0m\u001B[34m*\u001B[0m\u001B[34m*\u001B[0m\u001B[34m*\u001B[0m\u001B[34m*\u001B[0m\u001B[34m*\u001B[0m\u001B[34m*\u001B[0m\u001B[34m*\u001B[0m\u001B[34m*\u001B[0m\u001B[34m*\u001B[0m\u001B[34m*\u001B[0m\u001B[34m*\u001B[0m\u001B[34m*\u001B[0m\u001B[34m*\u001B[0m\u001B[34m*\u001B[0m\u001B[34m*\u001B[0m\u001B[34m*\u001B[0m\u001B[34m*\u001B[0m\u001B[34m*\u001B[0m\u001B[34m*\u001B[0m\u001B[34m*\u001B[0m\u001B[34m*\u001B[0m\u001B[34m*\u001B[0m\u001B[34m*\u001B[0m\u001B[34m*\u001B[0m\u001B[34m*\u001B[0m\u001B[34m*\u001B[0m\u001B[34m*\u001B[0m\u001B[34m*\u001B[0m\u001B[34m*\u001B[0m\u001B[34m*\u001B[0m\u001B[34m*\u001B[0m\u001B[34m*\u001B[0m\u001B[34m*\u001B[0m\u001B[34m*\u001B[0m\u001B[34m*\u001B[0m\u001B[34m*\u001B[0m\u001B[34m*\u001B[0m\u001B[34m*\u001B[0m\u001B[34m*\u001B[0m\u001B[34m*\u001B[0m\u001B[34m*\u001B[0m\u001B[34m*\u001B[0m\u001B[34m*\u001B[0m\u001B[34m*\u001B[0m\u001B[34m*\u001B[0m\u001B[34m*\u001B[0m\u001B[34m*\u001B[0m\u001B[34m*\u001B[0m\u001B[34m*\u001B[0m\u001B[34m*\u001B[0m\u001B[34m*\u001B[0m\u001B[34m*\u001B[0m\u001B[34m*\u001B[0m\u001B[34m*\u001B[0m\u001B[34m*\u001B[0m\u001B[34m*\u001B[0m\u001B[34m*\u001B[0m\u001B[34m*\u001B[0m\u001B[34m*\u001B[0m\u001B[34m*\u001B[0m\u001B[34m*\u001B[0m\u001B[34m*\u001B[0m\u001B[34m*\u001B[0m\u001B[34m*\u001B[0m\u001B[34m*\u001B[0m\u001B[34m*\u001B[0m\u001B[34m*\u001B[0m\u001B[34m*\u001B[0m\u001B[34m*\u001B[0m\u001B[34m*\u001B[0m\u001B[34m*\u001B[0m\u001B[34m*\u001B[0m\u001B[34m*\u001B[0m\u001B[34m*\u001B[0m\u001B[34m*\u001B[0m\n",
      "\u001B[32m** Rozwiązanie ********************************************************************************\u001B[0m\n"
     ]
    },
    {
     "data": {
      "text/plain": [
       "<IPython.core.display.Latex object>"
      ],
      "text/latex": "$$\\det(A)= 2$$"
     },
     "metadata": {},
     "output_type": "display_data"
    },
    {
     "name": "stdout",
     "output_type": "stream",
     "text": [
      "\u001B[32m*\u001B[0m\u001B[32m*\u001B[0m\u001B[32m*\u001B[0m\u001B[32m*\u001B[0m\u001B[32m*\u001B[0m\u001B[32m*\u001B[0m\u001B[32m*\u001B[0m\u001B[32m*\u001B[0m\u001B[32m*\u001B[0m\u001B[32m*\u001B[0m\u001B[32m*\u001B[0m\u001B[32m*\u001B[0m\u001B[32m*\u001B[0m\u001B[32m*\u001B[0m\u001B[32m*\u001B[0m\u001B[32m*\u001B[0m\u001B[32m*\u001B[0m\u001B[32m*\u001B[0m\u001B[32m*\u001B[0m\u001B[32m*\u001B[0m\u001B[32m*\u001B[0m\u001B[32m*\u001B[0m\u001B[32m*\u001B[0m\u001B[32m*\u001B[0m\u001B[32m*\u001B[0m\u001B[32m*\u001B[0m\u001B[32m*\u001B[0m\u001B[32m*\u001B[0m\u001B[32m*\u001B[0m\u001B[32m*\u001B[0m\u001B[32m*\u001B[0m\u001B[32m*\u001B[0m\u001B[32m*\u001B[0m\u001B[32m*\u001B[0m\u001B[32m*\u001B[0m\u001B[32m*\u001B[0m\u001B[32m*\u001B[0m\u001B[32m*\u001B[0m\u001B[32m*\u001B[0m\u001B[32m*\u001B[0m\u001B[32m*\u001B[0m\u001B[32m*\u001B[0m\u001B[32m*\u001B[0m\u001B[32m*\u001B[0m\u001B[32m*\u001B[0m\u001B[32m*\u001B[0m\u001B[32m*\u001B[0m\u001B[32m*\u001B[0m\u001B[32m*\u001B[0m\u001B[32m*\u001B[0m\u001B[32m*\u001B[0m\u001B[32m*\u001B[0m\u001B[32m*\u001B[0m\u001B[32m*\u001B[0m\u001B[32m*\u001B[0m\u001B[32m*\u001B[0m\u001B[32m*\u001B[0m\u001B[32m*\u001B[0m\u001B[32m*\u001B[0m\u001B[32m*\u001B[0m\u001B[32m*\u001B[0m\u001B[32m*\u001B[0m\u001B[32m*\u001B[0m\u001B[32m*\u001B[0m\u001B[32m*\u001B[0m\u001B[32m*\u001B[0m\u001B[32m*\u001B[0m\u001B[32m*\u001B[0m\u001B[32m*\u001B[0m\u001B[32m*\u001B[0m\u001B[32m*\u001B[0m\u001B[32m*\u001B[0m\u001B[32m*\u001B[0m\u001B[32m*\u001B[0m\u001B[32m*\u001B[0m\u001B[32m*\u001B[0m\u001B[32m*\u001B[0m\u001B[32m*\u001B[0m\u001B[32m*\u001B[0m\u001B[32m*\u001B[0m\u001B[32m*\u001B[0m\u001B[32m*\u001B[0m\u001B[32m*\u001B[0m\u001B[32m*\u001B[0m\u001B[32m*\u001B[0m\u001B[32m*\u001B[0m\u001B[32m*\u001B[0m\u001B[32m*\u001B[0m\u001B[32m*\u001B[0m\u001B[32m*\u001B[0m\u001B[32m*\u001B[0m\u001B[32m*\u001B[0m\u001B[32m*\u001B[0m\u001B[32m*\u001B[0m\u001B[32m*\u001B[0m\n",
      "\u001B[34m** Zadanie 7 **********************************************************************************\u001B[0m\n"
     ]
    },
    {
     "data": {
      "text/plain": [
       "<IPython.core.display.Markdown object>"
      ],
      "text/markdown": "Obliczyć wyznacznik macierzy *A*"
     },
     "metadata": {},
     "output_type": "display_data"
    },
    {
     "data": {
      "text/plain": [
       "<IPython.core.display.Latex object>"
      ],
      "text/latex": "\n\t\\[\n\t\t\\textnormal{A=} \\left[\\begin{matrix}1 & 3 & 2 & 2 & 0 & 0\\\\2 & 3 & 3 & 2 & 0 & 1\\\\2 & 1 & 1 & -1 & 2 & 1\\\\2 & 3 & 3 & 0 & 1 & 3\\\\-1 & 1 & 1 & 2 & 1 & 0\\\\0 & -2 & 0 & -1 & 1 & 2\\end{matrix}\\right]\n\t\\]"
     },
     "metadata": {},
     "output_type": "display_data"
    },
    {
     "name": "stdout",
     "output_type": "stream",
     "text": [
      "\u001B[34m*\u001B[0m\u001B[34m*\u001B[0m\u001B[34m*\u001B[0m\u001B[34m*\u001B[0m\u001B[34m*\u001B[0m\u001B[34m*\u001B[0m\u001B[34m*\u001B[0m\u001B[34m*\u001B[0m\u001B[34m*\u001B[0m\u001B[34m*\u001B[0m\u001B[34m*\u001B[0m\u001B[34m*\u001B[0m\u001B[34m*\u001B[0m\u001B[34m*\u001B[0m\u001B[34m*\u001B[0m\u001B[34m*\u001B[0m\u001B[34m*\u001B[0m\u001B[34m*\u001B[0m\u001B[34m*\u001B[0m\u001B[34m*\u001B[0m\u001B[34m*\u001B[0m\u001B[34m*\u001B[0m\u001B[34m*\u001B[0m\u001B[34m*\u001B[0m\u001B[34m*\u001B[0m\u001B[34m*\u001B[0m\u001B[34m*\u001B[0m\u001B[34m*\u001B[0m\u001B[34m*\u001B[0m\u001B[34m*\u001B[0m\u001B[34m*\u001B[0m\u001B[34m*\u001B[0m\u001B[34m*\u001B[0m\u001B[34m*\u001B[0m\u001B[34m*\u001B[0m\u001B[34m*\u001B[0m\u001B[34m*\u001B[0m\u001B[34m*\u001B[0m\u001B[34m*\u001B[0m\u001B[34m*\u001B[0m\u001B[34m*\u001B[0m\u001B[34m*\u001B[0m\u001B[34m*\u001B[0m\u001B[34m*\u001B[0m\u001B[34m*\u001B[0m\u001B[34m*\u001B[0m\u001B[34m*\u001B[0m\u001B[34m*\u001B[0m\u001B[34m*\u001B[0m\u001B[34m*\u001B[0m\u001B[34m*\u001B[0m\u001B[34m*\u001B[0m\u001B[34m*\u001B[0m\u001B[34m*\u001B[0m\u001B[34m*\u001B[0m\u001B[34m*\u001B[0m\u001B[34m*\u001B[0m\u001B[34m*\u001B[0m\u001B[34m*\u001B[0m\u001B[34m*\u001B[0m\u001B[34m*\u001B[0m\u001B[34m*\u001B[0m\u001B[34m*\u001B[0m\u001B[34m*\u001B[0m\u001B[34m*\u001B[0m\u001B[34m*\u001B[0m\u001B[34m*\u001B[0m\u001B[34m*\u001B[0m\u001B[34m*\u001B[0m\u001B[34m*\u001B[0m\u001B[34m*\u001B[0m\u001B[34m*\u001B[0m\u001B[34m*\u001B[0m\u001B[34m*\u001B[0m\u001B[34m*\u001B[0m\u001B[34m*\u001B[0m\u001B[34m*\u001B[0m\u001B[34m*\u001B[0m\u001B[34m*\u001B[0m\u001B[34m*\u001B[0m\u001B[34m*\u001B[0m\u001B[34m*\u001B[0m\u001B[34m*\u001B[0m\u001B[34m*\u001B[0m\u001B[34m*\u001B[0m\u001B[34m*\u001B[0m\u001B[34m*\u001B[0m\u001B[34m*\u001B[0m\u001B[34m*\u001B[0m\u001B[34m*\u001B[0m\u001B[34m*\u001B[0m\u001B[34m*\u001B[0m\u001B[34m*\u001B[0m\u001B[34m*\u001B[0m\u001B[34m*\u001B[0m\n",
      "\u001B[32m** Rozwiązanie ********************************************************************************\u001B[0m\n"
     ]
    },
    {
     "data": {
      "text/plain": [
       "<IPython.core.display.Latex object>"
      ],
      "text/latex": "$$\\det(A)= -16$$"
     },
     "metadata": {},
     "output_type": "display_data"
    },
    {
     "name": "stdout",
     "output_type": "stream",
     "text": [
      "\u001B[32m*\u001B[0m\u001B[32m*\u001B[0m\u001B[32m*\u001B[0m\u001B[32m*\u001B[0m\u001B[32m*\u001B[0m\u001B[32m*\u001B[0m\u001B[32m*\u001B[0m\u001B[32m*\u001B[0m\u001B[32m*\u001B[0m\u001B[32m*\u001B[0m\u001B[32m*\u001B[0m\u001B[32m*\u001B[0m\u001B[32m*\u001B[0m\u001B[32m*\u001B[0m\u001B[32m*\u001B[0m\u001B[32m*\u001B[0m\u001B[32m*\u001B[0m\u001B[32m*\u001B[0m\u001B[32m*\u001B[0m\u001B[32m*\u001B[0m\u001B[32m*\u001B[0m\u001B[32m*\u001B[0m\u001B[32m*\u001B[0m\u001B[32m*\u001B[0m\u001B[32m*\u001B[0m\u001B[32m*\u001B[0m\u001B[32m*\u001B[0m\u001B[32m*\u001B[0m\u001B[32m*\u001B[0m\u001B[32m*\u001B[0m\u001B[32m*\u001B[0m\u001B[32m*\u001B[0m\u001B[32m*\u001B[0m\u001B[32m*\u001B[0m\u001B[32m*\u001B[0m\u001B[32m*\u001B[0m\u001B[32m*\u001B[0m\u001B[32m*\u001B[0m\u001B[32m*\u001B[0m\u001B[32m*\u001B[0m\u001B[32m*\u001B[0m\u001B[32m*\u001B[0m\u001B[32m*\u001B[0m\u001B[32m*\u001B[0m\u001B[32m*\u001B[0m\u001B[32m*\u001B[0m\u001B[32m*\u001B[0m\u001B[32m*\u001B[0m\u001B[32m*\u001B[0m\u001B[32m*\u001B[0m\u001B[32m*\u001B[0m\u001B[32m*\u001B[0m\u001B[32m*\u001B[0m\u001B[32m*\u001B[0m\u001B[32m*\u001B[0m\u001B[32m*\u001B[0m\u001B[32m*\u001B[0m\u001B[32m*\u001B[0m\u001B[32m*\u001B[0m\u001B[32m*\u001B[0m\u001B[32m*\u001B[0m\u001B[32m*\u001B[0m\u001B[32m*\u001B[0m\u001B[32m*\u001B[0m\u001B[32m*\u001B[0m\u001B[32m*\u001B[0m\u001B[32m*\u001B[0m\u001B[32m*\u001B[0m\u001B[32m*\u001B[0m\u001B[32m*\u001B[0m\u001B[32m*\u001B[0m\u001B[32m*\u001B[0m\u001B[32m*\u001B[0m\u001B[32m*\u001B[0m\u001B[32m*\u001B[0m\u001B[32m*\u001B[0m\u001B[32m*\u001B[0m\u001B[32m*\u001B[0m\u001B[32m*\u001B[0m\u001B[32m*\u001B[0m\u001B[32m*\u001B[0m\u001B[32m*\u001B[0m\u001B[32m*\u001B[0m\u001B[32m*\u001B[0m\u001B[32m*\u001B[0m\u001B[32m*\u001B[0m\u001B[32m*\u001B[0m\u001B[32m*\u001B[0m\u001B[32m*\u001B[0m\u001B[32m*\u001B[0m\u001B[32m*\u001B[0m\u001B[32m*\u001B[0m\u001B[32m*\u001B[0m\u001B[32m*\u001B[0m\u001B[32m*\u001B[0m\n",
      "\u001B[34m** Zadanie 8 **********************************************************************************\u001B[0m\n"
     ]
    },
    {
     "data": {
      "text/plain": [
       "<IPython.core.display.Markdown object>"
      ],
      "text/markdown": "Obliczyć wyznacznik macierzy *A*"
     },
     "metadata": {},
     "output_type": "display_data"
    },
    {
     "data": {
      "text/plain": [
       "<IPython.core.display.Latex object>"
      ],
      "text/latex": "\n\t\\[\n\t\t\\textnormal{A=} \\left[\\begin{matrix}-2 & 0 & 0 & 3 & 1\\\\0 & 2 & 1 & -2 & 0\\\\1 & 0 & 0 & -1 & 1\\\\-2 & 3 & 2 & 3 & 3\\\\0 & 0 & -1 & -1 & 3\\end{matrix}\\right]\n\t\\]"
     },
     "metadata": {},
     "output_type": "display_data"
    },
    {
     "name": "stdout",
     "output_type": "stream",
     "text": [
      "\u001B[34m*\u001B[0m\u001B[34m*\u001B[0m\u001B[34m*\u001B[0m\u001B[34m*\u001B[0m\u001B[34m*\u001B[0m\u001B[34m*\u001B[0m\u001B[34m*\u001B[0m\u001B[34m*\u001B[0m\u001B[34m*\u001B[0m\u001B[34m*\u001B[0m\u001B[34m*\u001B[0m\u001B[34m*\u001B[0m\u001B[34m*\u001B[0m\u001B[34m*\u001B[0m\u001B[34m*\u001B[0m\u001B[34m*\u001B[0m\u001B[34m*\u001B[0m\u001B[34m*\u001B[0m\u001B[34m*\u001B[0m\u001B[34m*\u001B[0m\u001B[34m*\u001B[0m\u001B[34m*\u001B[0m\u001B[34m*\u001B[0m\u001B[34m*\u001B[0m\u001B[34m*\u001B[0m\u001B[34m*\u001B[0m\u001B[34m*\u001B[0m\u001B[34m*\u001B[0m\u001B[34m*\u001B[0m\u001B[34m*\u001B[0m\u001B[34m*\u001B[0m\u001B[34m*\u001B[0m\u001B[34m*\u001B[0m\u001B[34m*\u001B[0m\u001B[34m*\u001B[0m\u001B[34m*\u001B[0m\u001B[34m*\u001B[0m\u001B[34m*\u001B[0m\u001B[34m*\u001B[0m\u001B[34m*\u001B[0m\u001B[34m*\u001B[0m\u001B[34m*\u001B[0m\u001B[34m*\u001B[0m\u001B[34m*\u001B[0m\u001B[34m*\u001B[0m\u001B[34m*\u001B[0m\u001B[34m*\u001B[0m\u001B[34m*\u001B[0m\u001B[34m*\u001B[0m\u001B[34m*\u001B[0m\u001B[34m*\u001B[0m\u001B[34m*\u001B[0m\u001B[34m*\u001B[0m\u001B[34m*\u001B[0m\u001B[34m*\u001B[0m\u001B[34m*\u001B[0m\u001B[34m*\u001B[0m\u001B[34m*\u001B[0m\u001B[34m*\u001B[0m\u001B[34m*\u001B[0m\u001B[34m*\u001B[0m\u001B[34m*\u001B[0m\u001B[34m*\u001B[0m\u001B[34m*\u001B[0m\u001B[34m*\u001B[0m\u001B[34m*\u001B[0m\u001B[34m*\u001B[0m\u001B[34m*\u001B[0m\u001B[34m*\u001B[0m\u001B[34m*\u001B[0m\u001B[34m*\u001B[0m\u001B[34m*\u001B[0m\u001B[34m*\u001B[0m\u001B[34m*\u001B[0m\u001B[34m*\u001B[0m\u001B[34m*\u001B[0m\u001B[34m*\u001B[0m\u001B[34m*\u001B[0m\u001B[34m*\u001B[0m\u001B[34m*\u001B[0m\u001B[34m*\u001B[0m\u001B[34m*\u001B[0m\u001B[34m*\u001B[0m\u001B[34m*\u001B[0m\u001B[34m*\u001B[0m\u001B[34m*\u001B[0m\u001B[34m*\u001B[0m\u001B[34m*\u001B[0m\u001B[34m*\u001B[0m\u001B[34m*\u001B[0m\u001B[34m*\u001B[0m\u001B[34m*\u001B[0m\u001B[34m*\u001B[0m\u001B[34m*\u001B[0m\u001B[34m*\u001B[0m\n",
      "\u001B[32m** Rozwiązanie ********************************************************************************\u001B[0m\n"
     ]
    },
    {
     "data": {
      "text/plain": [
       "<IPython.core.display.Latex object>"
      ],
      "text/latex": "$$\\det(A)= -8$$"
     },
     "metadata": {},
     "output_type": "display_data"
    },
    {
     "name": "stdout",
     "output_type": "stream",
     "text": [
      "\u001B[32m*\u001B[0m\u001B[32m*\u001B[0m\u001B[32m*\u001B[0m\u001B[32m*\u001B[0m\u001B[32m*\u001B[0m\u001B[32m*\u001B[0m\u001B[32m*\u001B[0m\u001B[32m*\u001B[0m\u001B[32m*\u001B[0m\u001B[32m*\u001B[0m\u001B[32m*\u001B[0m\u001B[32m*\u001B[0m\u001B[32m*\u001B[0m\u001B[32m*\u001B[0m\u001B[32m*\u001B[0m\u001B[32m*\u001B[0m\u001B[32m*\u001B[0m\u001B[32m*\u001B[0m\u001B[32m*\u001B[0m\u001B[32m*\u001B[0m\u001B[32m*\u001B[0m\u001B[32m*\u001B[0m\u001B[32m*\u001B[0m\u001B[32m*\u001B[0m\u001B[32m*\u001B[0m\u001B[32m*\u001B[0m\u001B[32m*\u001B[0m\u001B[32m*\u001B[0m\u001B[32m*\u001B[0m\u001B[32m*\u001B[0m\u001B[32m*\u001B[0m\u001B[32m*\u001B[0m\u001B[32m*\u001B[0m\u001B[32m*\u001B[0m\u001B[32m*\u001B[0m\u001B[32m*\u001B[0m\u001B[32m*\u001B[0m\u001B[32m*\u001B[0m\u001B[32m*\u001B[0m\u001B[32m*\u001B[0m\u001B[32m*\u001B[0m\u001B[32m*\u001B[0m\u001B[32m*\u001B[0m\u001B[32m*\u001B[0m\u001B[32m*\u001B[0m\u001B[32m*\u001B[0m\u001B[32m*\u001B[0m\u001B[32m*\u001B[0m\u001B[32m*\u001B[0m\u001B[32m*\u001B[0m\u001B[32m*\u001B[0m\u001B[32m*\u001B[0m\u001B[32m*\u001B[0m\u001B[32m*\u001B[0m\u001B[32m*\u001B[0m\u001B[32m*\u001B[0m\u001B[32m*\u001B[0m\u001B[32m*\u001B[0m\u001B[32m*\u001B[0m\u001B[32m*\u001B[0m\u001B[32m*\u001B[0m\u001B[32m*\u001B[0m\u001B[32m*\u001B[0m\u001B[32m*\u001B[0m\u001B[32m*\u001B[0m\u001B[32m*\u001B[0m\u001B[32m*\u001B[0m\u001B[32m*\u001B[0m\u001B[32m*\u001B[0m\u001B[32m*\u001B[0m\u001B[32m*\u001B[0m\u001B[32m*\u001B[0m\u001B[32m*\u001B[0m\u001B[32m*\u001B[0m\u001B[32m*\u001B[0m\u001B[32m*\u001B[0m\u001B[32m*\u001B[0m\u001B[32m*\u001B[0m\u001B[32m*\u001B[0m\u001B[32m*\u001B[0m\u001B[32m*\u001B[0m\u001B[32m*\u001B[0m\u001B[32m*\u001B[0m\u001B[32m*\u001B[0m\u001B[32m*\u001B[0m\u001B[32m*\u001B[0m\u001B[32m*\u001B[0m\u001B[32m*\u001B[0m\u001B[32m*\u001B[0m\u001B[32m*\u001B[0m\u001B[32m*\u001B[0m\u001B[32m*\u001B[0m\u001B[32m*\u001B[0m\u001B[32m*\u001B[0m\u001B[32m*\u001B[0m\n",
      "\u001B[34m** Zadanie 9 **********************************************************************************\u001B[0m\n"
     ]
    },
    {
     "data": {
      "text/plain": [
       "<IPython.core.display.Markdown object>"
      ],
      "text/markdown": "Obliczyć wyznacznik macierzy *A*"
     },
     "metadata": {},
     "output_type": "display_data"
    },
    {
     "data": {
      "text/plain": [
       "<IPython.core.display.Latex object>"
      ],
      "text/latex": "\n\t\\[\n\t\t\\textnormal{A=} \\left[\\begin{matrix}2 & -1 & 3 & -1\\\\-1 & 0 & -2 & 3\\\\-1 & 0 & 0 & 2\\\\0 & 0 & 0 & 0\\end{matrix}\\right]\n\t\\]"
     },
     "metadata": {},
     "output_type": "display_data"
    },
    {
     "name": "stdout",
     "output_type": "stream",
     "text": [
      "\u001B[34m*\u001B[0m\u001B[34m*\u001B[0m\u001B[34m*\u001B[0m\u001B[34m*\u001B[0m\u001B[34m*\u001B[0m\u001B[34m*\u001B[0m\u001B[34m*\u001B[0m\u001B[34m*\u001B[0m\u001B[34m*\u001B[0m\u001B[34m*\u001B[0m\u001B[34m*\u001B[0m\u001B[34m*\u001B[0m\u001B[34m*\u001B[0m\u001B[34m*\u001B[0m\u001B[34m*\u001B[0m\u001B[34m*\u001B[0m\u001B[34m*\u001B[0m\u001B[34m*\u001B[0m\u001B[34m*\u001B[0m\u001B[34m*\u001B[0m\u001B[34m*\u001B[0m\u001B[34m*\u001B[0m\u001B[34m*\u001B[0m\u001B[34m*\u001B[0m\u001B[34m*\u001B[0m\u001B[34m*\u001B[0m\u001B[34m*\u001B[0m\u001B[34m*\u001B[0m\u001B[34m*\u001B[0m\u001B[34m*\u001B[0m\u001B[34m*\u001B[0m\u001B[34m*\u001B[0m\u001B[34m*\u001B[0m\u001B[34m*\u001B[0m\u001B[34m*\u001B[0m\u001B[34m*\u001B[0m\u001B[34m*\u001B[0m\u001B[34m*\u001B[0m\u001B[34m*\u001B[0m\u001B[34m*\u001B[0m\u001B[34m*\u001B[0m\u001B[34m*\u001B[0m\u001B[34m*\u001B[0m\u001B[34m*\u001B[0m\u001B[34m*\u001B[0m\u001B[34m*\u001B[0m\u001B[34m*\u001B[0m\u001B[34m*\u001B[0m\u001B[34m*\u001B[0m\u001B[34m*\u001B[0m\u001B[34m*\u001B[0m\u001B[34m*\u001B[0m\u001B[34m*\u001B[0m\u001B[34m*\u001B[0m\u001B[34m*\u001B[0m\u001B[34m*\u001B[0m\u001B[34m*\u001B[0m\u001B[34m*\u001B[0m\u001B[34m*\u001B[0m\u001B[34m*\u001B[0m\u001B[34m*\u001B[0m\u001B[34m*\u001B[0m\u001B[34m*\u001B[0m\u001B[34m*\u001B[0m\u001B[34m*\u001B[0m\u001B[34m*\u001B[0m\u001B[34m*\u001B[0m\u001B[34m*\u001B[0m\u001B[34m*\u001B[0m\u001B[34m*\u001B[0m\u001B[34m*\u001B[0m\u001B[34m*\u001B[0m\u001B[34m*\u001B[0m\u001B[34m*\u001B[0m\u001B[34m*\u001B[0m\u001B[34m*\u001B[0m\u001B[34m*\u001B[0m\u001B[34m*\u001B[0m\u001B[34m*\u001B[0m\u001B[34m*\u001B[0m\u001B[34m*\u001B[0m\u001B[34m*\u001B[0m\u001B[34m*\u001B[0m\u001B[34m*\u001B[0m\u001B[34m*\u001B[0m\u001B[34m*\u001B[0m\u001B[34m*\u001B[0m\u001B[34m*\u001B[0m\u001B[34m*\u001B[0m\u001B[34m*\u001B[0m\u001B[34m*\u001B[0m\u001B[34m*\u001B[0m\u001B[34m*\u001B[0m\u001B[34m*\u001B[0m\u001B[34m*\u001B[0m\n",
      "\u001B[32m** Rozwiązanie ********************************************************************************\u001B[0m\n"
     ]
    },
    {
     "data": {
      "text/plain": [
       "<IPython.core.display.Latex object>"
      ],
      "text/latex": "$$\\det(A)= 0$$"
     },
     "metadata": {},
     "output_type": "display_data"
    },
    {
     "name": "stdout",
     "output_type": "stream",
     "text": [
      "\u001B[32m*\u001B[0m\u001B[32m*\u001B[0m\u001B[32m*\u001B[0m\u001B[32m*\u001B[0m\u001B[32m*\u001B[0m\u001B[32m*\u001B[0m\u001B[32m*\u001B[0m\u001B[32m*\u001B[0m\u001B[32m*\u001B[0m\u001B[32m*\u001B[0m\u001B[32m*\u001B[0m\u001B[32m*\u001B[0m\u001B[32m*\u001B[0m\u001B[32m*\u001B[0m\u001B[32m*\u001B[0m\u001B[32m*\u001B[0m\u001B[32m*\u001B[0m\u001B[32m*\u001B[0m\u001B[32m*\u001B[0m\u001B[32m*\u001B[0m\u001B[32m*\u001B[0m\u001B[32m*\u001B[0m\u001B[32m*\u001B[0m\u001B[32m*\u001B[0m\u001B[32m*\u001B[0m\u001B[32m*\u001B[0m\u001B[32m*\u001B[0m\u001B[32m*\u001B[0m\u001B[32m*\u001B[0m\u001B[32m*\u001B[0m\u001B[32m*\u001B[0m\u001B[32m*\u001B[0m\u001B[32m*\u001B[0m\u001B[32m*\u001B[0m\u001B[32m*\u001B[0m\u001B[32m*\u001B[0m\u001B[32m*\u001B[0m\u001B[32m*\u001B[0m\u001B[32m*\u001B[0m\u001B[32m*\u001B[0m\u001B[32m*\u001B[0m\u001B[32m*\u001B[0m\u001B[32m*\u001B[0m\u001B[32m*\u001B[0m\u001B[32m*\u001B[0m\u001B[32m*\u001B[0m\u001B[32m*\u001B[0m\u001B[32m*\u001B[0m\u001B[32m*\u001B[0m\u001B[32m*\u001B[0m\u001B[32m*\u001B[0m\u001B[32m*\u001B[0m\u001B[32m*\u001B[0m\u001B[32m*\u001B[0m\u001B[32m*\u001B[0m\u001B[32m*\u001B[0m\u001B[32m*\u001B[0m\u001B[32m*\u001B[0m\u001B[32m*\u001B[0m\u001B[32m*\u001B[0m\u001B[32m*\u001B[0m\u001B[32m*\u001B[0m\u001B[32m*\u001B[0m\u001B[32m*\u001B[0m\u001B[32m*\u001B[0m\u001B[32m*\u001B[0m\u001B[32m*\u001B[0m\u001B[32m*\u001B[0m\u001B[32m*\u001B[0m\u001B[32m*\u001B[0m\u001B[32m*\u001B[0m\u001B[32m*\u001B[0m\u001B[32m*\u001B[0m\u001B[32m*\u001B[0m\u001B[32m*\u001B[0m\u001B[32m*\u001B[0m\u001B[32m*\u001B[0m\u001B[32m*\u001B[0m\u001B[32m*\u001B[0m\u001B[32m*\u001B[0m\u001B[32m*\u001B[0m\u001B[32m*\u001B[0m\u001B[32m*\u001B[0m\u001B[32m*\u001B[0m\u001B[32m*\u001B[0m\u001B[32m*\u001B[0m\u001B[32m*\u001B[0m\u001B[32m*\u001B[0m\u001B[32m*\u001B[0m\u001B[32m*\u001B[0m\u001B[32m*\u001B[0m\u001B[32m*\u001B[0m\u001B[32m*\u001B[0m\u001B[32m*\u001B[0m\u001B[32m*\u001B[0m\n",
      "\u001B[34m** Zadanie 10 **********************************************************************************\u001B[0m\n"
     ]
    },
    {
     "data": {
      "text/plain": [
       "<IPython.core.display.Markdown object>"
      ],
      "text/markdown": "Obliczyć wyznacznik macierzy *A*"
     },
     "metadata": {},
     "output_type": "display_data"
    },
    {
     "data": {
      "text/plain": [
       "<IPython.core.display.Latex object>"
      ],
      "text/latex": "\n\t\\[\n\t\t\\textnormal{A=} \\left[\\begin{matrix}-1 & -2 & 0 & 1 & 0 & 0\\\\2 & -1 & 0 & -1 & 0 & 0\\\\3 & -1 & -1 & 0 & 2 & 1\\\\-1 & 2 & -2 & -1 & 0 & 0\\\\1 & 1 & 0 & 0 & -2 & -1\\\\0 & 1 & 3 & -1 & -2 & -1\\end{matrix}\\right]\n\t\\]"
     },
     "metadata": {},
     "output_type": "display_data"
    },
    {
     "name": "stdout",
     "output_type": "stream",
     "text": [
      "\u001B[34m*\u001B[0m\u001B[34m*\u001B[0m\u001B[34m*\u001B[0m\u001B[34m*\u001B[0m\u001B[34m*\u001B[0m\u001B[34m*\u001B[0m\u001B[34m*\u001B[0m\u001B[34m*\u001B[0m\u001B[34m*\u001B[0m\u001B[34m*\u001B[0m\u001B[34m*\u001B[0m\u001B[34m*\u001B[0m\u001B[34m*\u001B[0m\u001B[34m*\u001B[0m\u001B[34m*\u001B[0m\u001B[34m*\u001B[0m\u001B[34m*\u001B[0m\u001B[34m*\u001B[0m\u001B[34m*\u001B[0m\u001B[34m*\u001B[0m\u001B[34m*\u001B[0m\u001B[34m*\u001B[0m\u001B[34m*\u001B[0m\u001B[34m*\u001B[0m\u001B[34m*\u001B[0m\u001B[34m*\u001B[0m\u001B[34m*\u001B[0m\u001B[34m*\u001B[0m\u001B[34m*\u001B[0m\u001B[34m*\u001B[0m\u001B[34m*\u001B[0m\u001B[34m*\u001B[0m\u001B[34m*\u001B[0m\u001B[34m*\u001B[0m\u001B[34m*\u001B[0m\u001B[34m*\u001B[0m\u001B[34m*\u001B[0m\u001B[34m*\u001B[0m\u001B[34m*\u001B[0m\u001B[34m*\u001B[0m\u001B[34m*\u001B[0m\u001B[34m*\u001B[0m\u001B[34m*\u001B[0m\u001B[34m*\u001B[0m\u001B[34m*\u001B[0m\u001B[34m*\u001B[0m\u001B[34m*\u001B[0m\u001B[34m*\u001B[0m\u001B[34m*\u001B[0m\u001B[34m*\u001B[0m\u001B[34m*\u001B[0m\u001B[34m*\u001B[0m\u001B[34m*\u001B[0m\u001B[34m*\u001B[0m\u001B[34m*\u001B[0m\u001B[34m*\u001B[0m\u001B[34m*\u001B[0m\u001B[34m*\u001B[0m\u001B[34m*\u001B[0m\u001B[34m*\u001B[0m\u001B[34m*\u001B[0m\u001B[34m*\u001B[0m\u001B[34m*\u001B[0m\u001B[34m*\u001B[0m\u001B[34m*\u001B[0m\u001B[34m*\u001B[0m\u001B[34m*\u001B[0m\u001B[34m*\u001B[0m\u001B[34m*\u001B[0m\u001B[34m*\u001B[0m\u001B[34m*\u001B[0m\u001B[34m*\u001B[0m\u001B[34m*\u001B[0m\u001B[34m*\u001B[0m\u001B[34m*\u001B[0m\u001B[34m*\u001B[0m\u001B[34m*\u001B[0m\u001B[34m*\u001B[0m\u001B[34m*\u001B[0m\u001B[34m*\u001B[0m\u001B[34m*\u001B[0m\u001B[34m*\u001B[0m\u001B[34m*\u001B[0m\u001B[34m*\u001B[0m\u001B[34m*\u001B[0m\u001B[34m*\u001B[0m\u001B[34m*\u001B[0m\u001B[34m*\u001B[0m\u001B[34m*\u001B[0m\u001B[34m*\u001B[0m\u001B[34m*\u001B[0m\u001B[34m*\u001B[0m\u001B[34m*\u001B[0m\u001B[34m*\u001B[0m\u001B[34m*\u001B[0m\n",
      "\u001B[32m** Rozwiązanie ********************************************************************************\u001B[0m\n"
     ]
    },
    {
     "data": {
      "text/plain": [
       "<IPython.core.display.Latex object>"
      ],
      "text/latex": "$$\\det(A)= 0$$"
     },
     "metadata": {},
     "output_type": "display_data"
    },
    {
     "name": "stdout",
     "output_type": "stream",
     "text": [
      "\u001B[32m*\u001B[0m\u001B[32m*\u001B[0m\u001B[32m*\u001B[0m\u001B[32m*\u001B[0m\u001B[32m*\u001B[0m\u001B[32m*\u001B[0m\u001B[32m*\u001B[0m\u001B[32m*\u001B[0m\u001B[32m*\u001B[0m\u001B[32m*\u001B[0m\u001B[32m*\u001B[0m\u001B[32m*\u001B[0m\u001B[32m*\u001B[0m\u001B[32m*\u001B[0m\u001B[32m*\u001B[0m\u001B[32m*\u001B[0m\u001B[32m*\u001B[0m\u001B[32m*\u001B[0m\u001B[32m*\u001B[0m\u001B[32m*\u001B[0m\u001B[32m*\u001B[0m\u001B[32m*\u001B[0m\u001B[32m*\u001B[0m\u001B[32m*\u001B[0m\u001B[32m*\u001B[0m\u001B[32m*\u001B[0m\u001B[32m*\u001B[0m\u001B[32m*\u001B[0m\u001B[32m*\u001B[0m\u001B[32m*\u001B[0m\u001B[32m*\u001B[0m\u001B[32m*\u001B[0m\u001B[32m*\u001B[0m\u001B[32m*\u001B[0m\u001B[32m*\u001B[0m\u001B[32m*\u001B[0m\u001B[32m*\u001B[0m\u001B[32m*\u001B[0m\u001B[32m*\u001B[0m\u001B[32m*\u001B[0m\u001B[32m*\u001B[0m\u001B[32m*\u001B[0m\u001B[32m*\u001B[0m\u001B[32m*\u001B[0m\u001B[32m*\u001B[0m\u001B[32m*\u001B[0m\u001B[32m*\u001B[0m\u001B[32m*\u001B[0m\u001B[32m*\u001B[0m\u001B[32m*\u001B[0m\u001B[32m*\u001B[0m\u001B[32m*\u001B[0m\u001B[32m*\u001B[0m\u001B[32m*\u001B[0m\u001B[32m*\u001B[0m\u001B[32m*\u001B[0m\u001B[32m*\u001B[0m\u001B[32m*\u001B[0m\u001B[32m*\u001B[0m\u001B[32m*\u001B[0m\u001B[32m*\u001B[0m\u001B[32m*\u001B[0m\u001B[32m*\u001B[0m\u001B[32m*\u001B[0m\u001B[32m*\u001B[0m\u001B[32m*\u001B[0m\u001B[32m*\u001B[0m\u001B[32m*\u001B[0m\u001B[32m*\u001B[0m\u001B[32m*\u001B[0m\u001B[32m*\u001B[0m\u001B[32m*\u001B[0m\u001B[32m*\u001B[0m\u001B[32m*\u001B[0m\u001B[32m*\u001B[0m\u001B[32m*\u001B[0m\u001B[32m*\u001B[0m\u001B[32m*\u001B[0m\u001B[32m*\u001B[0m\u001B[32m*\u001B[0m\u001B[32m*\u001B[0m\u001B[32m*\u001B[0m\u001B[32m*\u001B[0m\u001B[32m*\u001B[0m\u001B[32m*\u001B[0m\u001B[32m*\u001B[0m\u001B[32m*\u001B[0m\u001B[32m*\u001B[0m\u001B[32m*\u001B[0m\u001B[32m*\u001B[0m\u001B[32m*\u001B[0m\u001B[32m*\u001B[0m\u001B[32m*\u001B[0m\u001B[32m*\u001B[0m\u001B[32m*\u001B[0m\n"
     ]
    }
   ],
   "execution_count": 11
  },
  {
   "metadata": {},
   "cell_type": "markdown",
   "source": "## Równanie macierzowe",
   "id": "beea89ec40d1a15c"
  },
  {
   "metadata": {
    "ExecuteTime": {
     "end_time": "2024-09-12T17:27:24.902316Z",
     "start_time": "2024-09-12T17:27:24.630484Z"
    }
   },
   "cell_type": "code",
   "source": [
    "zadanie = gz.rownanie_macierzowe()\n",
    "zadanie"
   ],
   "id": "7c0693c3f5d1f84b",
   "outputs": [
    {
     "data": {
      "text/plain": [
       "('Rozwiązać równanie:\\n\\t\\\\[\\n\\t\\t\\\\left[\\\\begin{matrix}-1 & -1 & -1 & -1 & 1\\\\\\\\1 & -1 & -1 & 2 & 2\\\\end{matrix}\\\\right]\\\\cdot \\n\\t\\t\\\\left[\\\\begin{matrix}1 & 0 & -1 & -1 & -1\\\\\\\\0 & 1 & 0 & 1 & 1\\\\end{matrix}\\\\right]^T + \\n\\t\\t2X=\\n\\t\\t\\\\left[\\\\begin{matrix}1 & 1\\\\\\\\1 & -1\\\\\\\\0 & 2\\\\\\\\-1 & 1\\\\\\\\-1 & -1\\\\end{matrix}\\\\right]^T \\\\cdot\\n\\t\\t\\\\left[\\\\begin{matrix}-1 & -1\\\\\\\\0 & -1\\\\\\\\0 & 0\\\\\\\\1 & 1\\\\\\\\1 & -1\\\\end{matrix}\\\\right] \\\\cdot X\\n\\t\\\\]',\n",
       " '$ \\\\left[\\\\begin{matrix}0 & -1\\\\\\\\-2 & 3\\\\end{matrix}\\\\right] + \\n\\t2X=\\n\\t\\\\left[\\\\begin{matrix}-3 & -2\\\\\\\\-1 & 2\\\\end{matrix}\\\\right] \\\\cdot X, \\\\quad \\n\\t\\\\left[\\\\begin{matrix}0 & -1\\\\\\\\-2 & 3\\\\end{matrix}\\\\right] = \\n\\t\\\\left[\\\\begin{matrix}-5 & -2\\\\\\\\-1 & 0\\\\end{matrix}\\\\right] \\\\cdot X $ \\\\\\\\ \\n\\t$X=\\\\frac{1}{-2}\\\\left[\\\\begin{matrix}-4 & 6\\\\\\\\10 & -16\\\\end{matrix}\\\\right].$')"
      ]
     },
     "execution_count": 4,
     "metadata": {},
     "output_type": "execute_result"
    }
   ],
   "execution_count": 4
  },
  {
   "metadata": {
    "ExecuteTime": {
     "end_time": "2024-09-12T17:27:24.911310Z",
     "start_time": "2024-09-12T17:27:24.904315Z"
    },
    "tags": [
     "hide-input"
    ]
   },
   "cell_type": "code",
   "source": [
    "print(\"\\033[34m** Zadanie **\" + '*' * 81 + '\\033[0m')\n",
    "print(zadanie[0])\n",
    "print(\"\\033[34m*\\033[0m\" * 95)\n",
    "print(\"\\033[32m** Rozwiązanie **\" + '*' * 78 + '\\033[0m')\n",
    "print(zadanie[1])\n",
    "print(\"\\033[32m*\\033[0m\" * 95)"
   ],
   "id": "21e088742fa3c7aa",
   "outputs": [
    {
     "name": "stdout",
     "output_type": "stream",
     "text": [
      "\u001B[34m** Zadanie ***********************************************************************************\u001B[0m\n",
      "Rozwiązać równanie:\n",
      "\t\\[\n",
      "\t\t\\left[\\begin{matrix}-1 & -1 & -1 & -1 & 1\\\\1 & -1 & -1 & 2 & 2\\end{matrix}\\right]\\cdot \n",
      "\t\t\\left[\\begin{matrix}1 & 0 & -1 & -1 & -1\\\\0 & 1 & 0 & 1 & 1\\end{matrix}\\right]^T + \n",
      "\t\t2X=\n",
      "\t\t\\left[\\begin{matrix}1 & 1\\\\1 & -1\\\\0 & 2\\\\-1 & 1\\\\-1 & -1\\end{matrix}\\right]^T \\cdot\n",
      "\t\t\\left[\\begin{matrix}-1 & -1\\\\0 & -1\\\\0 & 0\\\\1 & 1\\\\1 & -1\\end{matrix}\\right] \\cdot X\n",
      "\t\\]\n",
      "\u001B[34m*\u001B[0m\u001B[34m*\u001B[0m\u001B[34m*\u001B[0m\u001B[34m*\u001B[0m\u001B[34m*\u001B[0m\u001B[34m*\u001B[0m\u001B[34m*\u001B[0m\u001B[34m*\u001B[0m\u001B[34m*\u001B[0m\u001B[34m*\u001B[0m\u001B[34m*\u001B[0m\u001B[34m*\u001B[0m\u001B[34m*\u001B[0m\u001B[34m*\u001B[0m\u001B[34m*\u001B[0m\u001B[34m*\u001B[0m\u001B[34m*\u001B[0m\u001B[34m*\u001B[0m\u001B[34m*\u001B[0m\u001B[34m*\u001B[0m\u001B[34m*\u001B[0m\u001B[34m*\u001B[0m\u001B[34m*\u001B[0m\u001B[34m*\u001B[0m\u001B[34m*\u001B[0m\u001B[34m*\u001B[0m\u001B[34m*\u001B[0m\u001B[34m*\u001B[0m\u001B[34m*\u001B[0m\u001B[34m*\u001B[0m\u001B[34m*\u001B[0m\u001B[34m*\u001B[0m\u001B[34m*\u001B[0m\u001B[34m*\u001B[0m\u001B[34m*\u001B[0m\u001B[34m*\u001B[0m\u001B[34m*\u001B[0m\u001B[34m*\u001B[0m\u001B[34m*\u001B[0m\u001B[34m*\u001B[0m\u001B[34m*\u001B[0m\u001B[34m*\u001B[0m\u001B[34m*\u001B[0m\u001B[34m*\u001B[0m\u001B[34m*\u001B[0m\u001B[34m*\u001B[0m\u001B[34m*\u001B[0m\u001B[34m*\u001B[0m\u001B[34m*\u001B[0m\u001B[34m*\u001B[0m\u001B[34m*\u001B[0m\u001B[34m*\u001B[0m\u001B[34m*\u001B[0m\u001B[34m*\u001B[0m\u001B[34m*\u001B[0m\u001B[34m*\u001B[0m\u001B[34m*\u001B[0m\u001B[34m*\u001B[0m\u001B[34m*\u001B[0m\u001B[34m*\u001B[0m\u001B[34m*\u001B[0m\u001B[34m*\u001B[0m\u001B[34m*\u001B[0m\u001B[34m*\u001B[0m\u001B[34m*\u001B[0m\u001B[34m*\u001B[0m\u001B[34m*\u001B[0m\u001B[34m*\u001B[0m\u001B[34m*\u001B[0m\u001B[34m*\u001B[0m\u001B[34m*\u001B[0m\u001B[34m*\u001B[0m\u001B[34m*\u001B[0m\u001B[34m*\u001B[0m\u001B[34m*\u001B[0m\u001B[34m*\u001B[0m\u001B[34m*\u001B[0m\u001B[34m*\u001B[0m\u001B[34m*\u001B[0m\u001B[34m*\u001B[0m\u001B[34m*\u001B[0m\u001B[34m*\u001B[0m\u001B[34m*\u001B[0m\u001B[34m*\u001B[0m\u001B[34m*\u001B[0m\u001B[34m*\u001B[0m\u001B[34m*\u001B[0m\u001B[34m*\u001B[0m\u001B[34m*\u001B[0m\u001B[34m*\u001B[0m\u001B[34m*\u001B[0m\u001B[34m*\u001B[0m\u001B[34m*\u001B[0m\u001B[34m*\u001B[0m\u001B[34m*\u001B[0m\n",
      "\u001B[32m** Rozwiązanie ********************************************************************************\u001B[0m\n",
      "$ \\left[\\begin{matrix}0 & -1\\\\-2 & 3\\end{matrix}\\right] + \n",
      "\t2X=\n",
      "\t\\left[\\begin{matrix}-3 & -2\\\\-1 & 2\\end{matrix}\\right] \\cdot X, \\quad \n",
      "\t\\left[\\begin{matrix}0 & -1\\\\-2 & 3\\end{matrix}\\right] = \n",
      "\t\\left[\\begin{matrix}-5 & -2\\\\-1 & 0\\end{matrix}\\right] \\cdot X $ \\\\ \n",
      "\t$X=\\frac{1}{-2}\\left[\\begin{matrix}-4 & 6\\\\10 & -16\\end{matrix}\\right].$\n",
      "\u001B[32m*\u001B[0m\u001B[32m*\u001B[0m\u001B[32m*\u001B[0m\u001B[32m*\u001B[0m\u001B[32m*\u001B[0m\u001B[32m*\u001B[0m\u001B[32m*\u001B[0m\u001B[32m*\u001B[0m\u001B[32m*\u001B[0m\u001B[32m*\u001B[0m\u001B[32m*\u001B[0m\u001B[32m*\u001B[0m\u001B[32m*\u001B[0m\u001B[32m*\u001B[0m\u001B[32m*\u001B[0m\u001B[32m*\u001B[0m\u001B[32m*\u001B[0m\u001B[32m*\u001B[0m\u001B[32m*\u001B[0m\u001B[32m*\u001B[0m\u001B[32m*\u001B[0m\u001B[32m*\u001B[0m\u001B[32m*\u001B[0m\u001B[32m*\u001B[0m\u001B[32m*\u001B[0m\u001B[32m*\u001B[0m\u001B[32m*\u001B[0m\u001B[32m*\u001B[0m\u001B[32m*\u001B[0m\u001B[32m*\u001B[0m\u001B[32m*\u001B[0m\u001B[32m*\u001B[0m\u001B[32m*\u001B[0m\u001B[32m*\u001B[0m\u001B[32m*\u001B[0m\u001B[32m*\u001B[0m\u001B[32m*\u001B[0m\u001B[32m*\u001B[0m\u001B[32m*\u001B[0m\u001B[32m*\u001B[0m\u001B[32m*\u001B[0m\u001B[32m*\u001B[0m\u001B[32m*\u001B[0m\u001B[32m*\u001B[0m\u001B[32m*\u001B[0m\u001B[32m*\u001B[0m\u001B[32m*\u001B[0m\u001B[32m*\u001B[0m\u001B[32m*\u001B[0m\u001B[32m*\u001B[0m\u001B[32m*\u001B[0m\u001B[32m*\u001B[0m\u001B[32m*\u001B[0m\u001B[32m*\u001B[0m\u001B[32m*\u001B[0m\u001B[32m*\u001B[0m\u001B[32m*\u001B[0m\u001B[32m*\u001B[0m\u001B[32m*\u001B[0m\u001B[32m*\u001B[0m\u001B[32m*\u001B[0m\u001B[32m*\u001B[0m\u001B[32m*\u001B[0m\u001B[32m*\u001B[0m\u001B[32m*\u001B[0m\u001B[32m*\u001B[0m\u001B[32m*\u001B[0m\u001B[32m*\u001B[0m\u001B[32m*\u001B[0m\u001B[32m*\u001B[0m\u001B[32m*\u001B[0m\u001B[32m*\u001B[0m\u001B[32m*\u001B[0m\u001B[32m*\u001B[0m\u001B[32m*\u001B[0m\u001B[32m*\u001B[0m\u001B[32m*\u001B[0m\u001B[32m*\u001B[0m\u001B[32m*\u001B[0m\u001B[32m*\u001B[0m\u001B[32m*\u001B[0m\u001B[32m*\u001B[0m\u001B[32m*\u001B[0m\u001B[32m*\u001B[0m\u001B[32m*\u001B[0m\u001B[32m*\u001B[0m\u001B[32m*\u001B[0m\u001B[32m*\u001B[0m\u001B[32m*\u001B[0m\u001B[32m*\u001B[0m\u001B[32m*\u001B[0m\u001B[32m*\u001B[0m\u001B[32m*\u001B[0m\u001B[32m*\u001B[0m\u001B[32m*\u001B[0m\n"
     ]
    }
   ],
   "execution_count": 5
  },
  {
   "metadata": {
    "ExecuteTime": {
     "end_time": "2024-09-12T17:27:28.198588Z",
     "start_time": "2024-09-12T17:27:25.020244Z"
    },
    "tags": [
     "hide-input"
    ]
   },
   "cell_type": "code",
   "source": [
    "for i in range(1, ile_zadan_przykladowych + 1):\n",
    "    zadanie = gz.rownanie_macierzowe()\n",
    "    print(f\"\\033[34m** Zadanie {i} **\" + '*' * 80 + '\\033[0m')\n",
    "    display(Markdown(zadanie[0].split(':')[0]))\n",
    "    display(Latex(zadanie[0].split(':')[1]))\n",
    "    print(\"\\033[34m*\\033[0m\" * 95)\n",
    "    print(\"\\033[32m** Rozwiązanie **\" + '*' * 78 + '\\033[0m')\n",
    "    display(Latex(zadanie[1].replace('$ \\\\\\\\ \\n\\t$', ',\\\\quad ').replace('$', '$$')))\n",
    "    print(\"\\033[32m*\\033[0m\" * 95)\n"
   ],
   "id": "56cf46cba10c2829",
   "outputs": [
    {
     "name": "stdout",
     "output_type": "stream",
     "text": [
      "\u001B[34m** Zadanie 1 **********************************************************************************\u001B[0m\n"
     ]
    },
    {
     "data": {
      "text/plain": [
       "<IPython.core.display.Markdown object>"
      ],
      "text/markdown": "Rozwiązać równanie"
     },
     "metadata": {},
     "output_type": "display_data"
    },
    {
     "data": {
      "text/plain": [
       "<IPython.core.display.Latex object>"
      ],
      "text/latex": "\n\t\\[\n\t\t\\left[\\begin{matrix}-1 & -1 & 1 & -1 & 2\\\\0 & -1 & -1 & 2 & 2\\end{matrix}\\right]\\cdot \n\t\t\\left[\\begin{matrix}0 & -2 & -1 & 0 & -2\\\\-2 & 0 & -1 & 0 & 0\\end{matrix}\\right]^T + \n\t\t4X=\n\t\tX \\cdot \\left[\\begin{matrix}0 & 0\\\\1 & 0\\\\2 & 0\\\\-1 & 2\\\\1 & 0\\end{matrix}\\right]^T \\cdot\n\t\t\\left[\\begin{matrix}1 & -1\\\\1 & -2\\\\-1 & -2\\\\-2 & -1\\\\-2 & -2\\end{matrix}\\right] \n\t\\]"
     },
     "metadata": {},
     "output_type": "display_data"
    },
    {
     "name": "stdout",
     "output_type": "stream",
     "text": [
      "\u001B[34m*\u001B[0m\u001B[34m*\u001B[0m\u001B[34m*\u001B[0m\u001B[34m*\u001B[0m\u001B[34m*\u001B[0m\u001B[34m*\u001B[0m\u001B[34m*\u001B[0m\u001B[34m*\u001B[0m\u001B[34m*\u001B[0m\u001B[34m*\u001B[0m\u001B[34m*\u001B[0m\u001B[34m*\u001B[0m\u001B[34m*\u001B[0m\u001B[34m*\u001B[0m\u001B[34m*\u001B[0m\u001B[34m*\u001B[0m\u001B[34m*\u001B[0m\u001B[34m*\u001B[0m\u001B[34m*\u001B[0m\u001B[34m*\u001B[0m\u001B[34m*\u001B[0m\u001B[34m*\u001B[0m\u001B[34m*\u001B[0m\u001B[34m*\u001B[0m\u001B[34m*\u001B[0m\u001B[34m*\u001B[0m\u001B[34m*\u001B[0m\u001B[34m*\u001B[0m\u001B[34m*\u001B[0m\u001B[34m*\u001B[0m\u001B[34m*\u001B[0m\u001B[34m*\u001B[0m\u001B[34m*\u001B[0m\u001B[34m*\u001B[0m\u001B[34m*\u001B[0m\u001B[34m*\u001B[0m\u001B[34m*\u001B[0m\u001B[34m*\u001B[0m\u001B[34m*\u001B[0m\u001B[34m*\u001B[0m\u001B[34m*\u001B[0m\u001B[34m*\u001B[0m\u001B[34m*\u001B[0m\u001B[34m*\u001B[0m\u001B[34m*\u001B[0m\u001B[34m*\u001B[0m\u001B[34m*\u001B[0m\u001B[34m*\u001B[0m\u001B[34m*\u001B[0m\u001B[34m*\u001B[0m\u001B[34m*\u001B[0m\u001B[34m*\u001B[0m\u001B[34m*\u001B[0m\u001B[34m*\u001B[0m\u001B[34m*\u001B[0m\u001B[34m*\u001B[0m\u001B[34m*\u001B[0m\u001B[34m*\u001B[0m\u001B[34m*\u001B[0m\u001B[34m*\u001B[0m\u001B[34m*\u001B[0m\u001B[34m*\u001B[0m\u001B[34m*\u001B[0m\u001B[34m*\u001B[0m\u001B[34m*\u001B[0m\u001B[34m*\u001B[0m\u001B[34m*\u001B[0m\u001B[34m*\u001B[0m\u001B[34m*\u001B[0m\u001B[34m*\u001B[0m\u001B[34m*\u001B[0m\u001B[34m*\u001B[0m\u001B[34m*\u001B[0m\u001B[34m*\u001B[0m\u001B[34m*\u001B[0m\u001B[34m*\u001B[0m\u001B[34m*\u001B[0m\u001B[34m*\u001B[0m\u001B[34m*\u001B[0m\u001B[34m*\u001B[0m\u001B[34m*\u001B[0m\u001B[34m*\u001B[0m\u001B[34m*\u001B[0m\u001B[34m*\u001B[0m\u001B[34m*\u001B[0m\u001B[34m*\u001B[0m\u001B[34m*\u001B[0m\u001B[34m*\u001B[0m\u001B[34m*\u001B[0m\u001B[34m*\u001B[0m\u001B[34m*\u001B[0m\u001B[34m*\u001B[0m\u001B[34m*\u001B[0m\u001B[34m*\u001B[0m\u001B[34m*\u001B[0m\n",
      "\u001B[32m** Rozwiązanie ********************************************************************************\u001B[0m\n"
     ]
    },
    {
     "data": {
      "text/plain": [
       "<IPython.core.display.Latex object>"
      ],
      "text/latex": "$$ \\left[\\begin{matrix}-3 & 1\\\\-1 & 1\\end{matrix}\\right] + \n\t4X=\n\tX \\cdot \\left[\\begin{matrix}-1 & -7\\\\-4 & -2\\end{matrix}\\right] , \\quad \n\t\\left[\\begin{matrix}-3 & 1\\\\-1 & 1\\end{matrix}\\right] = \n\tX \\cdot \\left[\\begin{matrix}-5 & -7\\\\-4 & -6\\end{matrix}\\right] ,\\quad X=\\frac{1}{2}\\left[\\begin{matrix}22 & -26\\\\10 & -12\\end{matrix}\\right].$$"
     },
     "metadata": {},
     "output_type": "display_data"
    },
    {
     "name": "stdout",
     "output_type": "stream",
     "text": [
      "\u001B[32m*\u001B[0m\u001B[32m*\u001B[0m\u001B[32m*\u001B[0m\u001B[32m*\u001B[0m\u001B[32m*\u001B[0m\u001B[32m*\u001B[0m\u001B[32m*\u001B[0m\u001B[32m*\u001B[0m\u001B[32m*\u001B[0m\u001B[32m*\u001B[0m\u001B[32m*\u001B[0m\u001B[32m*\u001B[0m\u001B[32m*\u001B[0m\u001B[32m*\u001B[0m\u001B[32m*\u001B[0m\u001B[32m*\u001B[0m\u001B[32m*\u001B[0m\u001B[32m*\u001B[0m\u001B[32m*\u001B[0m\u001B[32m*\u001B[0m\u001B[32m*\u001B[0m\u001B[32m*\u001B[0m\u001B[32m*\u001B[0m\u001B[32m*\u001B[0m\u001B[32m*\u001B[0m\u001B[32m*\u001B[0m\u001B[32m*\u001B[0m\u001B[32m*\u001B[0m\u001B[32m*\u001B[0m\u001B[32m*\u001B[0m\u001B[32m*\u001B[0m\u001B[32m*\u001B[0m\u001B[32m*\u001B[0m\u001B[32m*\u001B[0m\u001B[32m*\u001B[0m\u001B[32m*\u001B[0m\u001B[32m*\u001B[0m\u001B[32m*\u001B[0m\u001B[32m*\u001B[0m\u001B[32m*\u001B[0m\u001B[32m*\u001B[0m\u001B[32m*\u001B[0m\u001B[32m*\u001B[0m\u001B[32m*\u001B[0m\u001B[32m*\u001B[0m\u001B[32m*\u001B[0m\u001B[32m*\u001B[0m\u001B[32m*\u001B[0m\u001B[32m*\u001B[0m\u001B[32m*\u001B[0m\u001B[32m*\u001B[0m\u001B[32m*\u001B[0m\u001B[32m*\u001B[0m\u001B[32m*\u001B[0m\u001B[32m*\u001B[0m\u001B[32m*\u001B[0m\u001B[32m*\u001B[0m\u001B[32m*\u001B[0m\u001B[32m*\u001B[0m\u001B[32m*\u001B[0m\u001B[32m*\u001B[0m\u001B[32m*\u001B[0m\u001B[32m*\u001B[0m\u001B[32m*\u001B[0m\u001B[32m*\u001B[0m\u001B[32m*\u001B[0m\u001B[32m*\u001B[0m\u001B[32m*\u001B[0m\u001B[32m*\u001B[0m\u001B[32m*\u001B[0m\u001B[32m*\u001B[0m\u001B[32m*\u001B[0m\u001B[32m*\u001B[0m\u001B[32m*\u001B[0m\u001B[32m*\u001B[0m\u001B[32m*\u001B[0m\u001B[32m*\u001B[0m\u001B[32m*\u001B[0m\u001B[32m*\u001B[0m\u001B[32m*\u001B[0m\u001B[32m*\u001B[0m\u001B[32m*\u001B[0m\u001B[32m*\u001B[0m\u001B[32m*\u001B[0m\u001B[32m*\u001B[0m\u001B[32m*\u001B[0m\u001B[32m*\u001B[0m\u001B[32m*\u001B[0m\u001B[32m*\u001B[0m\u001B[32m*\u001B[0m\u001B[32m*\u001B[0m\u001B[32m*\u001B[0m\u001B[32m*\u001B[0m\u001B[32m*\u001B[0m\u001B[32m*\u001B[0m\n",
      "\u001B[34m** Zadanie 2 **********************************************************************************\u001B[0m\n"
     ]
    },
    {
     "data": {
      "text/plain": [
       "<IPython.core.display.Markdown object>"
      ],
      "text/markdown": "Rozwiązać równanie"
     },
     "metadata": {},
     "output_type": "display_data"
    },
    {
     "data": {
      "text/plain": [
       "<IPython.core.display.Latex object>"
      ],
      "text/latex": "\n\t\\[\n\t\t\\left[\\begin{matrix}-1 & 1 & 1 & 0 & 1\\\\1 & 0 & 0 & 0 & 2\\end{matrix}\\right]\\cdot \n\t\t\\left[\\begin{matrix}-1 & 0 & 1 & 1 & 0\\\\-2 & 1 & -2 & 1 & 1\\end{matrix}\\right]^T + \n\t\t2X=\n\t\tX \\cdot \\left[\\begin{matrix}-1 & 1\\\\-1 & 1\\\\1 & 0\\\\2 & -1\\\\1 & 0\\end{matrix}\\right]^T \\cdot\n\t\t\\left[\\begin{matrix}-1 & 0\\\\1 & 1\\\\-1 & -1\\\\0 & -2\\\\0 & -1\\end{matrix}\\right] \n\t\\]"
     },
     "metadata": {},
     "output_type": "display_data"
    },
    {
     "name": "stdout",
     "output_type": "stream",
     "text": [
      "\u001B[34m*\u001B[0m\u001B[34m*\u001B[0m\u001B[34m*\u001B[0m\u001B[34m*\u001B[0m\u001B[34m*\u001B[0m\u001B[34m*\u001B[0m\u001B[34m*\u001B[0m\u001B[34m*\u001B[0m\u001B[34m*\u001B[0m\u001B[34m*\u001B[0m\u001B[34m*\u001B[0m\u001B[34m*\u001B[0m\u001B[34m*\u001B[0m\u001B[34m*\u001B[0m\u001B[34m*\u001B[0m\u001B[34m*\u001B[0m\u001B[34m*\u001B[0m\u001B[34m*\u001B[0m\u001B[34m*\u001B[0m\u001B[34m*\u001B[0m\u001B[34m*\u001B[0m\u001B[34m*\u001B[0m\u001B[34m*\u001B[0m\u001B[34m*\u001B[0m\u001B[34m*\u001B[0m\u001B[34m*\u001B[0m\u001B[34m*\u001B[0m\u001B[34m*\u001B[0m\u001B[34m*\u001B[0m\u001B[34m*\u001B[0m\u001B[34m*\u001B[0m\u001B[34m*\u001B[0m\u001B[34m*\u001B[0m\u001B[34m*\u001B[0m\u001B[34m*\u001B[0m\u001B[34m*\u001B[0m\u001B[34m*\u001B[0m\u001B[34m*\u001B[0m\u001B[34m*\u001B[0m\u001B[34m*\u001B[0m\u001B[34m*\u001B[0m\u001B[34m*\u001B[0m\u001B[34m*\u001B[0m\u001B[34m*\u001B[0m\u001B[34m*\u001B[0m\u001B[34m*\u001B[0m\u001B[34m*\u001B[0m\u001B[34m*\u001B[0m\u001B[34m*\u001B[0m\u001B[34m*\u001B[0m\u001B[34m*\u001B[0m\u001B[34m*\u001B[0m\u001B[34m*\u001B[0m\u001B[34m*\u001B[0m\u001B[34m*\u001B[0m\u001B[34m*\u001B[0m\u001B[34m*\u001B[0m\u001B[34m*\u001B[0m\u001B[34m*\u001B[0m\u001B[34m*\u001B[0m\u001B[34m*\u001B[0m\u001B[34m*\u001B[0m\u001B[34m*\u001B[0m\u001B[34m*\u001B[0m\u001B[34m*\u001B[0m\u001B[34m*\u001B[0m\u001B[34m*\u001B[0m\u001B[34m*\u001B[0m\u001B[34m*\u001B[0m\u001B[34m*\u001B[0m\u001B[34m*\u001B[0m\u001B[34m*\u001B[0m\u001B[34m*\u001B[0m\u001B[34m*\u001B[0m\u001B[34m*\u001B[0m\u001B[34m*\u001B[0m\u001B[34m*\u001B[0m\u001B[34m*\u001B[0m\u001B[34m*\u001B[0m\u001B[34m*\u001B[0m\u001B[34m*\u001B[0m\u001B[34m*\u001B[0m\u001B[34m*\u001B[0m\u001B[34m*\u001B[0m\u001B[34m*\u001B[0m\u001B[34m*\u001B[0m\u001B[34m*\u001B[0m\u001B[34m*\u001B[0m\u001B[34m*\u001B[0m\u001B[34m*\u001B[0m\u001B[34m*\u001B[0m\u001B[34m*\u001B[0m\u001B[34m*\u001B[0m\u001B[34m*\u001B[0m\u001B[34m*\u001B[0m\n",
      "\u001B[32m** Rozwiązanie ********************************************************************************\u001B[0m\n"
     ]
    },
    {
     "data": {
      "text/plain": [
       "<IPython.core.display.Latex object>"
      ],
      "text/latex": "$$ \\left[\\begin{matrix}2 & 2\\\\-1 & 0\\end{matrix}\\right] + \n\t2X=\n\tX \\cdot \\left[\\begin{matrix}-1 & -7\\\\0 & 3\\end{matrix}\\right] , \\quad \n\t\\left[\\begin{matrix}2 & 2\\\\-1 & 0\\end{matrix}\\right] = \n\tX \\cdot \\left[\\begin{matrix}-3 & -7\\\\0 & 1\\end{matrix}\\right] ,\\quad X=\\frac{1}{-3}\\left[\\begin{matrix}2 & 8\\\\-1 & -7\\end{matrix}\\right].$$"
     },
     "metadata": {},
     "output_type": "display_data"
    },
    {
     "name": "stdout",
     "output_type": "stream",
     "text": [
      "\u001B[32m*\u001B[0m\u001B[32m*\u001B[0m\u001B[32m*\u001B[0m\u001B[32m*\u001B[0m\u001B[32m*\u001B[0m\u001B[32m*\u001B[0m\u001B[32m*\u001B[0m\u001B[32m*\u001B[0m\u001B[32m*\u001B[0m\u001B[32m*\u001B[0m\u001B[32m*\u001B[0m\u001B[32m*\u001B[0m\u001B[32m*\u001B[0m\u001B[32m*\u001B[0m\u001B[32m*\u001B[0m\u001B[32m*\u001B[0m\u001B[32m*\u001B[0m\u001B[32m*\u001B[0m\u001B[32m*\u001B[0m\u001B[32m*\u001B[0m\u001B[32m*\u001B[0m\u001B[32m*\u001B[0m\u001B[32m*\u001B[0m\u001B[32m*\u001B[0m\u001B[32m*\u001B[0m\u001B[32m*\u001B[0m\u001B[32m*\u001B[0m\u001B[32m*\u001B[0m\u001B[32m*\u001B[0m\u001B[32m*\u001B[0m\u001B[32m*\u001B[0m\u001B[32m*\u001B[0m\u001B[32m*\u001B[0m\u001B[32m*\u001B[0m\u001B[32m*\u001B[0m\u001B[32m*\u001B[0m\u001B[32m*\u001B[0m\u001B[32m*\u001B[0m\u001B[32m*\u001B[0m\u001B[32m*\u001B[0m\u001B[32m*\u001B[0m\u001B[32m*\u001B[0m\u001B[32m*\u001B[0m\u001B[32m*\u001B[0m\u001B[32m*\u001B[0m\u001B[32m*\u001B[0m\u001B[32m*\u001B[0m\u001B[32m*\u001B[0m\u001B[32m*\u001B[0m\u001B[32m*\u001B[0m\u001B[32m*\u001B[0m\u001B[32m*\u001B[0m\u001B[32m*\u001B[0m\u001B[32m*\u001B[0m\u001B[32m*\u001B[0m\u001B[32m*\u001B[0m\u001B[32m*\u001B[0m\u001B[32m*\u001B[0m\u001B[32m*\u001B[0m\u001B[32m*\u001B[0m\u001B[32m*\u001B[0m\u001B[32m*\u001B[0m\u001B[32m*\u001B[0m\u001B[32m*\u001B[0m\u001B[32m*\u001B[0m\u001B[32m*\u001B[0m\u001B[32m*\u001B[0m\u001B[32m*\u001B[0m\u001B[32m*\u001B[0m\u001B[32m*\u001B[0m\u001B[32m*\u001B[0m\u001B[32m*\u001B[0m\u001B[32m*\u001B[0m\u001B[32m*\u001B[0m\u001B[32m*\u001B[0m\u001B[32m*\u001B[0m\u001B[32m*\u001B[0m\u001B[32m*\u001B[0m\u001B[32m*\u001B[0m\u001B[32m*\u001B[0m\u001B[32m*\u001B[0m\u001B[32m*\u001B[0m\u001B[32m*\u001B[0m\u001B[32m*\u001B[0m\u001B[32m*\u001B[0m\u001B[32m*\u001B[0m\u001B[32m*\u001B[0m\u001B[32m*\u001B[0m\u001B[32m*\u001B[0m\u001B[32m*\u001B[0m\u001B[32m*\u001B[0m\u001B[32m*\u001B[0m\u001B[32m*\u001B[0m\u001B[32m*\u001B[0m\u001B[32m*\u001B[0m\n",
      "\u001B[34m** Zadanie 3 **********************************************************************************\u001B[0m\n"
     ]
    },
    {
     "data": {
      "text/plain": [
       "<IPython.core.display.Markdown object>"
      ],
      "text/markdown": "Rozwiązać równanie"
     },
     "metadata": {},
     "output_type": "display_data"
    },
    {
     "data": {
      "text/plain": [
       "<IPython.core.display.Latex object>"
      ],
      "text/latex": "\n\t\\[\n\t\t\\left[\\begin{matrix}-1 & -1 & 0 & 2 & 0\\\\2 & -1 & 0 & 2 & 1\\end{matrix}\\right]\\cdot \n\t\t\\left[\\begin{matrix}-1 & -1 & 0 & 0 & -1\\\\0 & -2 & 1 & 0 & -1\\end{matrix}\\right]^T + \n\t\t2X=\n\t\tX \\cdot \\left[\\begin{matrix}2 & -1\\\\2 & -1\\\\-1 & 1\\\\0 & -1\\\\1 & 2\\end{matrix}\\right]^T \\cdot\n\t\t\\left[\\begin{matrix}1 & 0\\\\0 & 1\\\\-2 & 0\\\\0 & 1\\\\1 & 1\\end{matrix}\\right] \n\t\\]"
     },
     "metadata": {},
     "output_type": "display_data"
    },
    {
     "name": "stdout",
     "output_type": "stream",
     "text": [
      "\u001B[34m*\u001B[0m\u001B[34m*\u001B[0m\u001B[34m*\u001B[0m\u001B[34m*\u001B[0m\u001B[34m*\u001B[0m\u001B[34m*\u001B[0m\u001B[34m*\u001B[0m\u001B[34m*\u001B[0m\u001B[34m*\u001B[0m\u001B[34m*\u001B[0m\u001B[34m*\u001B[0m\u001B[34m*\u001B[0m\u001B[34m*\u001B[0m\u001B[34m*\u001B[0m\u001B[34m*\u001B[0m\u001B[34m*\u001B[0m\u001B[34m*\u001B[0m\u001B[34m*\u001B[0m\u001B[34m*\u001B[0m\u001B[34m*\u001B[0m\u001B[34m*\u001B[0m\u001B[34m*\u001B[0m\u001B[34m*\u001B[0m\u001B[34m*\u001B[0m\u001B[34m*\u001B[0m\u001B[34m*\u001B[0m\u001B[34m*\u001B[0m\u001B[34m*\u001B[0m\u001B[34m*\u001B[0m\u001B[34m*\u001B[0m\u001B[34m*\u001B[0m\u001B[34m*\u001B[0m\u001B[34m*\u001B[0m\u001B[34m*\u001B[0m\u001B[34m*\u001B[0m\u001B[34m*\u001B[0m\u001B[34m*\u001B[0m\u001B[34m*\u001B[0m\u001B[34m*\u001B[0m\u001B[34m*\u001B[0m\u001B[34m*\u001B[0m\u001B[34m*\u001B[0m\u001B[34m*\u001B[0m\u001B[34m*\u001B[0m\u001B[34m*\u001B[0m\u001B[34m*\u001B[0m\u001B[34m*\u001B[0m\u001B[34m*\u001B[0m\u001B[34m*\u001B[0m\u001B[34m*\u001B[0m\u001B[34m*\u001B[0m\u001B[34m*\u001B[0m\u001B[34m*\u001B[0m\u001B[34m*\u001B[0m\u001B[34m*\u001B[0m\u001B[34m*\u001B[0m\u001B[34m*\u001B[0m\u001B[34m*\u001B[0m\u001B[34m*\u001B[0m\u001B[34m*\u001B[0m\u001B[34m*\u001B[0m\u001B[34m*\u001B[0m\u001B[34m*\u001B[0m\u001B[34m*\u001B[0m\u001B[34m*\u001B[0m\u001B[34m*\u001B[0m\u001B[34m*\u001B[0m\u001B[34m*\u001B[0m\u001B[34m*\u001B[0m\u001B[34m*\u001B[0m\u001B[34m*\u001B[0m\u001B[34m*\u001B[0m\u001B[34m*\u001B[0m\u001B[34m*\u001B[0m\u001B[34m*\u001B[0m\u001B[34m*\u001B[0m\u001B[34m*\u001B[0m\u001B[34m*\u001B[0m\u001B[34m*\u001B[0m\u001B[34m*\u001B[0m\u001B[34m*\u001B[0m\u001B[34m*\u001B[0m\u001B[34m*\u001B[0m\u001B[34m*\u001B[0m\u001B[34m*\u001B[0m\u001B[34m*\u001B[0m\u001B[34m*\u001B[0m\u001B[34m*\u001B[0m\u001B[34m*\u001B[0m\u001B[34m*\u001B[0m\u001B[34m*\u001B[0m\u001B[34m*\u001B[0m\u001B[34m*\u001B[0m\u001B[34m*\u001B[0m\u001B[34m*\u001B[0m\n",
      "\u001B[32m** Rozwiązanie ********************************************************************************\u001B[0m\n"
     ]
    },
    {
     "data": {
      "text/plain": [
       "<IPython.core.display.Latex object>"
      ],
      "text/latex": "$$ \\left[\\begin{matrix}2 & 2\\\\-2 & 1\\end{matrix}\\right] + \n\t2X=\n\tX \\cdot \\left[\\begin{matrix}5 & 3\\\\-1 & 0\\end{matrix}\\right] , \\quad \n\t\\left[\\begin{matrix}2 & 2\\\\-2 & 1\\end{matrix}\\right] = \n\tX \\cdot \\left[\\begin{matrix}3 & 3\\\\-1 & -2\\end{matrix}\\right] ,\\quad X=\\frac{1}{-3}\\left[\\begin{matrix}-2 & 0\\\\5 & 9\\end{matrix}\\right].$$"
     },
     "metadata": {},
     "output_type": "display_data"
    },
    {
     "name": "stdout",
     "output_type": "stream",
     "text": [
      "\u001B[32m*\u001B[0m\u001B[32m*\u001B[0m\u001B[32m*\u001B[0m\u001B[32m*\u001B[0m\u001B[32m*\u001B[0m\u001B[32m*\u001B[0m\u001B[32m*\u001B[0m\u001B[32m*\u001B[0m\u001B[32m*\u001B[0m\u001B[32m*\u001B[0m\u001B[32m*\u001B[0m\u001B[32m*\u001B[0m\u001B[32m*\u001B[0m\u001B[32m*\u001B[0m\u001B[32m*\u001B[0m\u001B[32m*\u001B[0m\u001B[32m*\u001B[0m\u001B[32m*\u001B[0m\u001B[32m*\u001B[0m\u001B[32m*\u001B[0m\u001B[32m*\u001B[0m\u001B[32m*\u001B[0m\u001B[32m*\u001B[0m\u001B[32m*\u001B[0m\u001B[32m*\u001B[0m\u001B[32m*\u001B[0m\u001B[32m*\u001B[0m\u001B[32m*\u001B[0m\u001B[32m*\u001B[0m\u001B[32m*\u001B[0m\u001B[32m*\u001B[0m\u001B[32m*\u001B[0m\u001B[32m*\u001B[0m\u001B[32m*\u001B[0m\u001B[32m*\u001B[0m\u001B[32m*\u001B[0m\u001B[32m*\u001B[0m\u001B[32m*\u001B[0m\u001B[32m*\u001B[0m\u001B[32m*\u001B[0m\u001B[32m*\u001B[0m\u001B[32m*\u001B[0m\u001B[32m*\u001B[0m\u001B[32m*\u001B[0m\u001B[32m*\u001B[0m\u001B[32m*\u001B[0m\u001B[32m*\u001B[0m\u001B[32m*\u001B[0m\u001B[32m*\u001B[0m\u001B[32m*\u001B[0m\u001B[32m*\u001B[0m\u001B[32m*\u001B[0m\u001B[32m*\u001B[0m\u001B[32m*\u001B[0m\u001B[32m*\u001B[0m\u001B[32m*\u001B[0m\u001B[32m*\u001B[0m\u001B[32m*\u001B[0m\u001B[32m*\u001B[0m\u001B[32m*\u001B[0m\u001B[32m*\u001B[0m\u001B[32m*\u001B[0m\u001B[32m*\u001B[0m\u001B[32m*\u001B[0m\u001B[32m*\u001B[0m\u001B[32m*\u001B[0m\u001B[32m*\u001B[0m\u001B[32m*\u001B[0m\u001B[32m*\u001B[0m\u001B[32m*\u001B[0m\u001B[32m*\u001B[0m\u001B[32m*\u001B[0m\u001B[32m*\u001B[0m\u001B[32m*\u001B[0m\u001B[32m*\u001B[0m\u001B[32m*\u001B[0m\u001B[32m*\u001B[0m\u001B[32m*\u001B[0m\u001B[32m*\u001B[0m\u001B[32m*\u001B[0m\u001B[32m*\u001B[0m\u001B[32m*\u001B[0m\u001B[32m*\u001B[0m\u001B[32m*\u001B[0m\u001B[32m*\u001B[0m\u001B[32m*\u001B[0m\u001B[32m*\u001B[0m\u001B[32m*\u001B[0m\u001B[32m*\u001B[0m\u001B[32m*\u001B[0m\u001B[32m*\u001B[0m\u001B[32m*\u001B[0m\u001B[32m*\u001B[0m\u001B[32m*\u001B[0m\u001B[32m*\u001B[0m\n",
      "\u001B[34m** Zadanie 4 **********************************************************************************\u001B[0m\n"
     ]
    },
    {
     "data": {
      "text/plain": [
       "<IPython.core.display.Markdown object>"
      ],
      "text/markdown": "Rozwiązać równanie"
     },
     "metadata": {},
     "output_type": "display_data"
    },
    {
     "data": {
      "text/plain": [
       "<IPython.core.display.Latex object>"
      ],
      "text/latex": "\n\t\\[\n\t\t\\left[\\begin{matrix}1 & -1 & 2 & 1 & 0\\\\2 & -1 & 2 & 0 & 0\\end{matrix}\\right]\\cdot \n\t\t\\left[\\begin{matrix}-2 & 1 & 0 & -1 & -1\\\\-1 & 0 & -1 & 1 & 0\\end{matrix}\\right]^T + \n\t\t2X=\n\t\tX \\cdot \\left[\\begin{matrix}-1 & -1\\\\0 & 1\\\\2 & 1\\\\0 & 2\\\\-1 & 2\\end{matrix}\\right]^T \\cdot\n\t\t\\left[\\begin{matrix}1 & -2\\\\1 & 0\\\\-2 & 1\\\\-2 & 0\\\\0 & 1\\end{matrix}\\right] \n\t\\]"
     },
     "metadata": {},
     "output_type": "display_data"
    },
    {
     "name": "stdout",
     "output_type": "stream",
     "text": [
      "\u001B[34m*\u001B[0m\u001B[34m*\u001B[0m\u001B[34m*\u001B[0m\u001B[34m*\u001B[0m\u001B[34m*\u001B[0m\u001B[34m*\u001B[0m\u001B[34m*\u001B[0m\u001B[34m*\u001B[0m\u001B[34m*\u001B[0m\u001B[34m*\u001B[0m\u001B[34m*\u001B[0m\u001B[34m*\u001B[0m\u001B[34m*\u001B[0m\u001B[34m*\u001B[0m\u001B[34m*\u001B[0m\u001B[34m*\u001B[0m\u001B[34m*\u001B[0m\u001B[34m*\u001B[0m\u001B[34m*\u001B[0m\u001B[34m*\u001B[0m\u001B[34m*\u001B[0m\u001B[34m*\u001B[0m\u001B[34m*\u001B[0m\u001B[34m*\u001B[0m\u001B[34m*\u001B[0m\u001B[34m*\u001B[0m\u001B[34m*\u001B[0m\u001B[34m*\u001B[0m\u001B[34m*\u001B[0m\u001B[34m*\u001B[0m\u001B[34m*\u001B[0m\u001B[34m*\u001B[0m\u001B[34m*\u001B[0m\u001B[34m*\u001B[0m\u001B[34m*\u001B[0m\u001B[34m*\u001B[0m\u001B[34m*\u001B[0m\u001B[34m*\u001B[0m\u001B[34m*\u001B[0m\u001B[34m*\u001B[0m\u001B[34m*\u001B[0m\u001B[34m*\u001B[0m\u001B[34m*\u001B[0m\u001B[34m*\u001B[0m\u001B[34m*\u001B[0m\u001B[34m*\u001B[0m\u001B[34m*\u001B[0m\u001B[34m*\u001B[0m\u001B[34m*\u001B[0m\u001B[34m*\u001B[0m\u001B[34m*\u001B[0m\u001B[34m*\u001B[0m\u001B[34m*\u001B[0m\u001B[34m*\u001B[0m\u001B[34m*\u001B[0m\u001B[34m*\u001B[0m\u001B[34m*\u001B[0m\u001B[34m*\u001B[0m\u001B[34m*\u001B[0m\u001B[34m*\u001B[0m\u001B[34m*\u001B[0m\u001B[34m*\u001B[0m\u001B[34m*\u001B[0m\u001B[34m*\u001B[0m\u001B[34m*\u001B[0m\u001B[34m*\u001B[0m\u001B[34m*\u001B[0m\u001B[34m*\u001B[0m\u001B[34m*\u001B[0m\u001B[34m*\u001B[0m\u001B[34m*\u001B[0m\u001B[34m*\u001B[0m\u001B[34m*\u001B[0m\u001B[34m*\u001B[0m\u001B[34m*\u001B[0m\u001B[34m*\u001B[0m\u001B[34m*\u001B[0m\u001B[34m*\u001B[0m\u001B[34m*\u001B[0m\u001B[34m*\u001B[0m\u001B[34m*\u001B[0m\u001B[34m*\u001B[0m\u001B[34m*\u001B[0m\u001B[34m*\u001B[0m\u001B[34m*\u001B[0m\u001B[34m*\u001B[0m\u001B[34m*\u001B[0m\u001B[34m*\u001B[0m\u001B[34m*\u001B[0m\u001B[34m*\u001B[0m\u001B[34m*\u001B[0m\u001B[34m*\u001B[0m\u001B[34m*\u001B[0m\u001B[34m*\u001B[0m\u001B[34m*\u001B[0m\n",
      "\u001B[32m** Rozwiązanie ********************************************************************************\u001B[0m\n"
     ]
    },
    {
     "data": {
      "text/plain": [
       "<IPython.core.display.Latex object>"
      ],
      "text/latex": "$$ \\left[\\begin{matrix}-4 & -2\\\\-5 & -4\\end{matrix}\\right] + \n\t2X=\n\tX \\cdot \\left[\\begin{matrix}-5 & 3\\\\-6 & 5\\end{matrix}\\right] , \\quad \n\t\\left[\\begin{matrix}-4 & -2\\\\-5 & -4\\end{matrix}\\right] = \n\tX \\cdot \\left[\\begin{matrix}-7 & 3\\\\-6 & 3\\end{matrix}\\right] ,\\quad X=\\frac{1}{-3}\\left[\\begin{matrix}-24 & 26\\\\-39 & 43\\end{matrix}\\right].$$"
     },
     "metadata": {},
     "output_type": "display_data"
    },
    {
     "name": "stdout",
     "output_type": "stream",
     "text": [
      "\u001B[32m*\u001B[0m\u001B[32m*\u001B[0m\u001B[32m*\u001B[0m\u001B[32m*\u001B[0m\u001B[32m*\u001B[0m\u001B[32m*\u001B[0m\u001B[32m*\u001B[0m\u001B[32m*\u001B[0m\u001B[32m*\u001B[0m\u001B[32m*\u001B[0m\u001B[32m*\u001B[0m\u001B[32m*\u001B[0m\u001B[32m*\u001B[0m\u001B[32m*\u001B[0m\u001B[32m*\u001B[0m\u001B[32m*\u001B[0m\u001B[32m*\u001B[0m\u001B[32m*\u001B[0m\u001B[32m*\u001B[0m\u001B[32m*\u001B[0m\u001B[32m*\u001B[0m\u001B[32m*\u001B[0m\u001B[32m*\u001B[0m\u001B[32m*\u001B[0m\u001B[32m*\u001B[0m\u001B[32m*\u001B[0m\u001B[32m*\u001B[0m\u001B[32m*\u001B[0m\u001B[32m*\u001B[0m\u001B[32m*\u001B[0m\u001B[32m*\u001B[0m\u001B[32m*\u001B[0m\u001B[32m*\u001B[0m\u001B[32m*\u001B[0m\u001B[32m*\u001B[0m\u001B[32m*\u001B[0m\u001B[32m*\u001B[0m\u001B[32m*\u001B[0m\u001B[32m*\u001B[0m\u001B[32m*\u001B[0m\u001B[32m*\u001B[0m\u001B[32m*\u001B[0m\u001B[32m*\u001B[0m\u001B[32m*\u001B[0m\u001B[32m*\u001B[0m\u001B[32m*\u001B[0m\u001B[32m*\u001B[0m\u001B[32m*\u001B[0m\u001B[32m*\u001B[0m\u001B[32m*\u001B[0m\u001B[32m*\u001B[0m\u001B[32m*\u001B[0m\u001B[32m*\u001B[0m\u001B[32m*\u001B[0m\u001B[32m*\u001B[0m\u001B[32m*\u001B[0m\u001B[32m*\u001B[0m\u001B[32m*\u001B[0m\u001B[32m*\u001B[0m\u001B[32m*\u001B[0m\u001B[32m*\u001B[0m\u001B[32m*\u001B[0m\u001B[32m*\u001B[0m\u001B[32m*\u001B[0m\u001B[32m*\u001B[0m\u001B[32m*\u001B[0m\u001B[32m*\u001B[0m\u001B[32m*\u001B[0m\u001B[32m*\u001B[0m\u001B[32m*\u001B[0m\u001B[32m*\u001B[0m\u001B[32m*\u001B[0m\u001B[32m*\u001B[0m\u001B[32m*\u001B[0m\u001B[32m*\u001B[0m\u001B[32m*\u001B[0m\u001B[32m*\u001B[0m\u001B[32m*\u001B[0m\u001B[32m*\u001B[0m\u001B[32m*\u001B[0m\u001B[32m*\u001B[0m\u001B[32m*\u001B[0m\u001B[32m*\u001B[0m\u001B[32m*\u001B[0m\u001B[32m*\u001B[0m\u001B[32m*\u001B[0m\u001B[32m*\u001B[0m\u001B[32m*\u001B[0m\u001B[32m*\u001B[0m\u001B[32m*\u001B[0m\u001B[32m*\u001B[0m\u001B[32m*\u001B[0m\u001B[32m*\u001B[0m\u001B[32m*\u001B[0m\u001B[32m*\u001B[0m\n",
      "\u001B[34m** Zadanie 5 **********************************************************************************\u001B[0m\n"
     ]
    },
    {
     "data": {
      "text/plain": [
       "<IPython.core.display.Markdown object>"
      ],
      "text/markdown": "Rozwiązać równanie"
     },
     "metadata": {},
     "output_type": "display_data"
    },
    {
     "data": {
      "text/plain": [
       "<IPython.core.display.Latex object>"
      ],
      "text/latex": "\n\t\\[\n\t\t\\left[\\begin{matrix}1 & -1 & 0 & 0 & -1\\\\0 & 0 & 2 & 2 & 2\\end{matrix}\\right]\\cdot \n\t\t\\left[\\begin{matrix}1 & -2 & 1 & 1 & -1\\\\0 & -1 & 1 & -1 & 0\\end{matrix}\\right]^T + \n\t\t2X=\n\t\tX \\cdot \\left[\\begin{matrix}0 & -1\\\\0 & -1\\\\0 & -1\\\\1 & 2\\\\1 & -1\\end{matrix}\\right]^T \\cdot\n\t\t\\left[\\begin{matrix}-2 & -2\\\\-2 & -2\\\\0 & -1\\\\1 & 0\\\\0 & 0\\end{matrix}\\right] \n\t\\]"
     },
     "metadata": {},
     "output_type": "display_data"
    },
    {
     "name": "stdout",
     "output_type": "stream",
     "text": [
      "\u001B[34m*\u001B[0m\u001B[34m*\u001B[0m\u001B[34m*\u001B[0m\u001B[34m*\u001B[0m\u001B[34m*\u001B[0m\u001B[34m*\u001B[0m\u001B[34m*\u001B[0m\u001B[34m*\u001B[0m\u001B[34m*\u001B[0m\u001B[34m*\u001B[0m\u001B[34m*\u001B[0m\u001B[34m*\u001B[0m\u001B[34m*\u001B[0m\u001B[34m*\u001B[0m\u001B[34m*\u001B[0m\u001B[34m*\u001B[0m\u001B[34m*\u001B[0m\u001B[34m*\u001B[0m\u001B[34m*\u001B[0m\u001B[34m*\u001B[0m\u001B[34m*\u001B[0m\u001B[34m*\u001B[0m\u001B[34m*\u001B[0m\u001B[34m*\u001B[0m\u001B[34m*\u001B[0m\u001B[34m*\u001B[0m\u001B[34m*\u001B[0m\u001B[34m*\u001B[0m\u001B[34m*\u001B[0m\u001B[34m*\u001B[0m\u001B[34m*\u001B[0m\u001B[34m*\u001B[0m\u001B[34m*\u001B[0m\u001B[34m*\u001B[0m\u001B[34m*\u001B[0m\u001B[34m*\u001B[0m\u001B[34m*\u001B[0m\u001B[34m*\u001B[0m\u001B[34m*\u001B[0m\u001B[34m*\u001B[0m\u001B[34m*\u001B[0m\u001B[34m*\u001B[0m\u001B[34m*\u001B[0m\u001B[34m*\u001B[0m\u001B[34m*\u001B[0m\u001B[34m*\u001B[0m\u001B[34m*\u001B[0m\u001B[34m*\u001B[0m\u001B[34m*\u001B[0m\u001B[34m*\u001B[0m\u001B[34m*\u001B[0m\u001B[34m*\u001B[0m\u001B[34m*\u001B[0m\u001B[34m*\u001B[0m\u001B[34m*\u001B[0m\u001B[34m*\u001B[0m\u001B[34m*\u001B[0m\u001B[34m*\u001B[0m\u001B[34m*\u001B[0m\u001B[34m*\u001B[0m\u001B[34m*\u001B[0m\u001B[34m*\u001B[0m\u001B[34m*\u001B[0m\u001B[34m*\u001B[0m\u001B[34m*\u001B[0m\u001B[34m*\u001B[0m\u001B[34m*\u001B[0m\u001B[34m*\u001B[0m\u001B[34m*\u001B[0m\u001B[34m*\u001B[0m\u001B[34m*\u001B[0m\u001B[34m*\u001B[0m\u001B[34m*\u001B[0m\u001B[34m*\u001B[0m\u001B[34m*\u001B[0m\u001B[34m*\u001B[0m\u001B[34m*\u001B[0m\u001B[34m*\u001B[0m\u001B[34m*\u001B[0m\u001B[34m*\u001B[0m\u001B[34m*\u001B[0m\u001B[34m*\u001B[0m\u001B[34m*\u001B[0m\u001B[34m*\u001B[0m\u001B[34m*\u001B[0m\u001B[34m*\u001B[0m\u001B[34m*\u001B[0m\u001B[34m*\u001B[0m\u001B[34m*\u001B[0m\u001B[34m*\u001B[0m\u001B[34m*\u001B[0m\u001B[34m*\u001B[0m\u001B[34m*\u001B[0m\u001B[34m*\u001B[0m\u001B[34m*\u001B[0m\n",
      "\u001B[32m** Rozwiązanie ********************************************************************************\u001B[0m\n"
     ]
    },
    {
     "data": {
      "text/plain": [
       "<IPython.core.display.Latex object>"
      ],
      "text/latex": "$$ \\left[\\begin{matrix}4 & 1\\\\2 & 0\\end{matrix}\\right] + \n\t2X=\n\tX \\cdot \\left[\\begin{matrix}1 & 0\\\\6 & 5\\end{matrix}\\right] , \\quad \n\t\\left[\\begin{matrix}4 & 1\\\\2 & 0\\end{matrix}\\right] = \n\tX \\cdot \\left[\\begin{matrix}-1 & 0\\\\6 & 3\\end{matrix}\\right] ,\\quad X=\\frac{1}{-3}\\left[\\begin{matrix}6 & -1\\\\6 & 0\\end{matrix}\\right].$$"
     },
     "metadata": {},
     "output_type": "display_data"
    },
    {
     "name": "stdout",
     "output_type": "stream",
     "text": [
      "\u001B[32m*\u001B[0m\u001B[32m*\u001B[0m\u001B[32m*\u001B[0m\u001B[32m*\u001B[0m\u001B[32m*\u001B[0m\u001B[32m*\u001B[0m\u001B[32m*\u001B[0m\u001B[32m*\u001B[0m\u001B[32m*\u001B[0m\u001B[32m*\u001B[0m\u001B[32m*\u001B[0m\u001B[32m*\u001B[0m\u001B[32m*\u001B[0m\u001B[32m*\u001B[0m\u001B[32m*\u001B[0m\u001B[32m*\u001B[0m\u001B[32m*\u001B[0m\u001B[32m*\u001B[0m\u001B[32m*\u001B[0m\u001B[32m*\u001B[0m\u001B[32m*\u001B[0m\u001B[32m*\u001B[0m\u001B[32m*\u001B[0m\u001B[32m*\u001B[0m\u001B[32m*\u001B[0m\u001B[32m*\u001B[0m\u001B[32m*\u001B[0m\u001B[32m*\u001B[0m\u001B[32m*\u001B[0m\u001B[32m*\u001B[0m\u001B[32m*\u001B[0m\u001B[32m*\u001B[0m\u001B[32m*\u001B[0m\u001B[32m*\u001B[0m\u001B[32m*\u001B[0m\u001B[32m*\u001B[0m\u001B[32m*\u001B[0m\u001B[32m*\u001B[0m\u001B[32m*\u001B[0m\u001B[32m*\u001B[0m\u001B[32m*\u001B[0m\u001B[32m*\u001B[0m\u001B[32m*\u001B[0m\u001B[32m*\u001B[0m\u001B[32m*\u001B[0m\u001B[32m*\u001B[0m\u001B[32m*\u001B[0m\u001B[32m*\u001B[0m\u001B[32m*\u001B[0m\u001B[32m*\u001B[0m\u001B[32m*\u001B[0m\u001B[32m*\u001B[0m\u001B[32m*\u001B[0m\u001B[32m*\u001B[0m\u001B[32m*\u001B[0m\u001B[32m*\u001B[0m\u001B[32m*\u001B[0m\u001B[32m*\u001B[0m\u001B[32m*\u001B[0m\u001B[32m*\u001B[0m\u001B[32m*\u001B[0m\u001B[32m*\u001B[0m\u001B[32m*\u001B[0m\u001B[32m*\u001B[0m\u001B[32m*\u001B[0m\u001B[32m*\u001B[0m\u001B[32m*\u001B[0m\u001B[32m*\u001B[0m\u001B[32m*\u001B[0m\u001B[32m*\u001B[0m\u001B[32m*\u001B[0m\u001B[32m*\u001B[0m\u001B[32m*\u001B[0m\u001B[32m*\u001B[0m\u001B[32m*\u001B[0m\u001B[32m*\u001B[0m\u001B[32m*\u001B[0m\u001B[32m*\u001B[0m\u001B[32m*\u001B[0m\u001B[32m*\u001B[0m\u001B[32m*\u001B[0m\u001B[32m*\u001B[0m\u001B[32m*\u001B[0m\u001B[32m*\u001B[0m\u001B[32m*\u001B[0m\u001B[32m*\u001B[0m\u001B[32m*\u001B[0m\u001B[32m*\u001B[0m\u001B[32m*\u001B[0m\u001B[32m*\u001B[0m\u001B[32m*\u001B[0m\u001B[32m*\u001B[0m\u001B[32m*\u001B[0m\u001B[32m*\u001B[0m\u001B[32m*\u001B[0m\n",
      "\u001B[34m** Zadanie 6 **********************************************************************************\u001B[0m\n"
     ]
    },
    {
     "data": {
      "text/plain": [
       "<IPython.core.display.Markdown object>"
      ],
      "text/markdown": "Rozwiązać równanie"
     },
     "metadata": {},
     "output_type": "display_data"
    },
    {
     "data": {
      "text/plain": [
       "<IPython.core.display.Latex object>"
      ],
      "text/latex": "\n\t\\[\n\t\t\\left[\\begin{matrix}2 & 1 & -1 & 0 & 0\\\\0 & 2 & 0 & -1 & 0\\end{matrix}\\right]\\cdot \n\t\t\\left[\\begin{matrix}1 & 0 & -1 & 1 & 1\\\\0 & -1 & -1 & -1 & 1\\end{matrix}\\right]^T + \n\t\t3X=\n\t\t\\left[\\begin{matrix}2 & 2\\\\0 & -1\\\\2 & 2\\\\-1 & 1\\\\0 & -1\\end{matrix}\\right]^T \\cdot\n\t\t\\left[\\begin{matrix}-1 & -2\\\\0 & 0\\\\1 & 0\\\\-2 & -2\\\\0 & 0\\end{matrix}\\right] \\cdot X\n\t\\]"
     },
     "metadata": {},
     "output_type": "display_data"
    },
    {
     "name": "stdout",
     "output_type": "stream",
     "text": [
      "\u001B[34m*\u001B[0m\u001B[34m*\u001B[0m\u001B[34m*\u001B[0m\u001B[34m*\u001B[0m\u001B[34m*\u001B[0m\u001B[34m*\u001B[0m\u001B[34m*\u001B[0m\u001B[34m*\u001B[0m\u001B[34m*\u001B[0m\u001B[34m*\u001B[0m\u001B[34m*\u001B[0m\u001B[34m*\u001B[0m\u001B[34m*\u001B[0m\u001B[34m*\u001B[0m\u001B[34m*\u001B[0m\u001B[34m*\u001B[0m\u001B[34m*\u001B[0m\u001B[34m*\u001B[0m\u001B[34m*\u001B[0m\u001B[34m*\u001B[0m\u001B[34m*\u001B[0m\u001B[34m*\u001B[0m\u001B[34m*\u001B[0m\u001B[34m*\u001B[0m\u001B[34m*\u001B[0m\u001B[34m*\u001B[0m\u001B[34m*\u001B[0m\u001B[34m*\u001B[0m\u001B[34m*\u001B[0m\u001B[34m*\u001B[0m\u001B[34m*\u001B[0m\u001B[34m*\u001B[0m\u001B[34m*\u001B[0m\u001B[34m*\u001B[0m\u001B[34m*\u001B[0m\u001B[34m*\u001B[0m\u001B[34m*\u001B[0m\u001B[34m*\u001B[0m\u001B[34m*\u001B[0m\u001B[34m*\u001B[0m\u001B[34m*\u001B[0m\u001B[34m*\u001B[0m\u001B[34m*\u001B[0m\u001B[34m*\u001B[0m\u001B[34m*\u001B[0m\u001B[34m*\u001B[0m\u001B[34m*\u001B[0m\u001B[34m*\u001B[0m\u001B[34m*\u001B[0m\u001B[34m*\u001B[0m\u001B[34m*\u001B[0m\u001B[34m*\u001B[0m\u001B[34m*\u001B[0m\u001B[34m*\u001B[0m\u001B[34m*\u001B[0m\u001B[34m*\u001B[0m\u001B[34m*\u001B[0m\u001B[34m*\u001B[0m\u001B[34m*\u001B[0m\u001B[34m*\u001B[0m\u001B[34m*\u001B[0m\u001B[34m*\u001B[0m\u001B[34m*\u001B[0m\u001B[34m*\u001B[0m\u001B[34m*\u001B[0m\u001B[34m*\u001B[0m\u001B[34m*\u001B[0m\u001B[34m*\u001B[0m\u001B[34m*\u001B[0m\u001B[34m*\u001B[0m\u001B[34m*\u001B[0m\u001B[34m*\u001B[0m\u001B[34m*\u001B[0m\u001B[34m*\u001B[0m\u001B[34m*\u001B[0m\u001B[34m*\u001B[0m\u001B[34m*\u001B[0m\u001B[34m*\u001B[0m\u001B[34m*\u001B[0m\u001B[34m*\u001B[0m\u001B[34m*\u001B[0m\u001B[34m*\u001B[0m\u001B[34m*\u001B[0m\u001B[34m*\u001B[0m\u001B[34m*\u001B[0m\u001B[34m*\u001B[0m\u001B[34m*\u001B[0m\u001B[34m*\u001B[0m\u001B[34m*\u001B[0m\u001B[34m*\u001B[0m\u001B[34m*\u001B[0m\u001B[34m*\u001B[0m\u001B[34m*\u001B[0m\u001B[34m*\u001B[0m\u001B[34m*\u001B[0m\n",
      "\u001B[32m** Rozwiązanie ********************************************************************************\u001B[0m\n"
     ]
    },
    {
     "data": {
      "text/plain": [
       "<IPython.core.display.Latex object>"
      ],
      "text/latex": "$$ \\left[\\begin{matrix}3 & 0\\\\-1 & -1\\end{matrix}\\right] + \n\t3X=\n\t\\left[\\begin{matrix}2 & -2\\\\-2 & -6\\end{matrix}\\right] \\cdot X, \\quad \n\t\\left[\\begin{matrix}3 & 0\\\\-1 & -1\\end{matrix}\\right] = \n\t\\left[\\begin{matrix}-1 & -2\\\\-2 & -9\\end{matrix}\\right] \\cdot X ,\\quad X=\\frac{1}{5}\\left[\\begin{matrix}-29 & -2\\\\7 & 1\\end{matrix}\\right].$$"
     },
     "metadata": {},
     "output_type": "display_data"
    },
    {
     "name": "stdout",
     "output_type": "stream",
     "text": [
      "\u001B[32m*\u001B[0m\u001B[32m*\u001B[0m\u001B[32m*\u001B[0m\u001B[32m*\u001B[0m\u001B[32m*\u001B[0m\u001B[32m*\u001B[0m\u001B[32m*\u001B[0m\u001B[32m*\u001B[0m\u001B[32m*\u001B[0m\u001B[32m*\u001B[0m\u001B[32m*\u001B[0m\u001B[32m*\u001B[0m\u001B[32m*\u001B[0m\u001B[32m*\u001B[0m\u001B[32m*\u001B[0m\u001B[32m*\u001B[0m\u001B[32m*\u001B[0m\u001B[32m*\u001B[0m\u001B[32m*\u001B[0m\u001B[32m*\u001B[0m\u001B[32m*\u001B[0m\u001B[32m*\u001B[0m\u001B[32m*\u001B[0m\u001B[32m*\u001B[0m\u001B[32m*\u001B[0m\u001B[32m*\u001B[0m\u001B[32m*\u001B[0m\u001B[32m*\u001B[0m\u001B[32m*\u001B[0m\u001B[32m*\u001B[0m\u001B[32m*\u001B[0m\u001B[32m*\u001B[0m\u001B[32m*\u001B[0m\u001B[32m*\u001B[0m\u001B[32m*\u001B[0m\u001B[32m*\u001B[0m\u001B[32m*\u001B[0m\u001B[32m*\u001B[0m\u001B[32m*\u001B[0m\u001B[32m*\u001B[0m\u001B[32m*\u001B[0m\u001B[32m*\u001B[0m\u001B[32m*\u001B[0m\u001B[32m*\u001B[0m\u001B[32m*\u001B[0m\u001B[32m*\u001B[0m\u001B[32m*\u001B[0m\u001B[32m*\u001B[0m\u001B[32m*\u001B[0m\u001B[32m*\u001B[0m\u001B[32m*\u001B[0m\u001B[32m*\u001B[0m\u001B[32m*\u001B[0m\u001B[32m*\u001B[0m\u001B[32m*\u001B[0m\u001B[32m*\u001B[0m\u001B[32m*\u001B[0m\u001B[32m*\u001B[0m\u001B[32m*\u001B[0m\u001B[32m*\u001B[0m\u001B[32m*\u001B[0m\u001B[32m*\u001B[0m\u001B[32m*\u001B[0m\u001B[32m*\u001B[0m\u001B[32m*\u001B[0m\u001B[32m*\u001B[0m\u001B[32m*\u001B[0m\u001B[32m*\u001B[0m\u001B[32m*\u001B[0m\u001B[32m*\u001B[0m\u001B[32m*\u001B[0m\u001B[32m*\u001B[0m\u001B[32m*\u001B[0m\u001B[32m*\u001B[0m\u001B[32m*\u001B[0m\u001B[32m*\u001B[0m\u001B[32m*\u001B[0m\u001B[32m*\u001B[0m\u001B[32m*\u001B[0m\u001B[32m*\u001B[0m\u001B[32m*\u001B[0m\u001B[32m*\u001B[0m\u001B[32m*\u001B[0m\u001B[32m*\u001B[0m\u001B[32m*\u001B[0m\u001B[32m*\u001B[0m\u001B[32m*\u001B[0m\u001B[32m*\u001B[0m\u001B[32m*\u001B[0m\u001B[32m*\u001B[0m\u001B[32m*\u001B[0m\u001B[32m*\u001B[0m\u001B[32m*\u001B[0m\u001B[32m*\u001B[0m\u001B[32m*\u001B[0m\n",
      "\u001B[34m** Zadanie 7 **********************************************************************************\u001B[0m\n"
     ]
    },
    {
     "data": {
      "text/plain": [
       "<IPython.core.display.Markdown object>"
      ],
      "text/markdown": "Rozwiązać równanie"
     },
     "metadata": {},
     "output_type": "display_data"
    },
    {
     "data": {
      "text/plain": [
       "<IPython.core.display.Latex object>"
      ],
      "text/latex": "\n\t\\[\n\t\t\\left[\\begin{matrix}-1 & 1 & 2 & 0 & 1\\\\-1 & 2 & 1 & -1 & 2\\end{matrix}\\right]\\cdot \n\t\t\\left[\\begin{matrix}0 & -1 & 0 & -2 & -1\\\\-2 & 1 & 1 & 0 & -1\\end{matrix}\\right]^T + \n\t\t3X=\n\t\tX \\cdot \\left[\\begin{matrix}1 & 0\\\\0 & 0\\\\0 & 2\\\\0 & 2\\\\0 & 1\\end{matrix}\\right]^T \\cdot\n\t\t\\left[\\begin{matrix}0 & -2\\\\-1 & 0\\\\-1 & 0\\\\0 & 0\\\\1 & 1\\end{matrix}\\right] \n\t\\]"
     },
     "metadata": {},
     "output_type": "display_data"
    },
    {
     "name": "stdout",
     "output_type": "stream",
     "text": [
      "\u001B[34m*\u001B[0m\u001B[34m*\u001B[0m\u001B[34m*\u001B[0m\u001B[34m*\u001B[0m\u001B[34m*\u001B[0m\u001B[34m*\u001B[0m\u001B[34m*\u001B[0m\u001B[34m*\u001B[0m\u001B[34m*\u001B[0m\u001B[34m*\u001B[0m\u001B[34m*\u001B[0m\u001B[34m*\u001B[0m\u001B[34m*\u001B[0m\u001B[34m*\u001B[0m\u001B[34m*\u001B[0m\u001B[34m*\u001B[0m\u001B[34m*\u001B[0m\u001B[34m*\u001B[0m\u001B[34m*\u001B[0m\u001B[34m*\u001B[0m\u001B[34m*\u001B[0m\u001B[34m*\u001B[0m\u001B[34m*\u001B[0m\u001B[34m*\u001B[0m\u001B[34m*\u001B[0m\u001B[34m*\u001B[0m\u001B[34m*\u001B[0m\u001B[34m*\u001B[0m\u001B[34m*\u001B[0m\u001B[34m*\u001B[0m\u001B[34m*\u001B[0m\u001B[34m*\u001B[0m\u001B[34m*\u001B[0m\u001B[34m*\u001B[0m\u001B[34m*\u001B[0m\u001B[34m*\u001B[0m\u001B[34m*\u001B[0m\u001B[34m*\u001B[0m\u001B[34m*\u001B[0m\u001B[34m*\u001B[0m\u001B[34m*\u001B[0m\u001B[34m*\u001B[0m\u001B[34m*\u001B[0m\u001B[34m*\u001B[0m\u001B[34m*\u001B[0m\u001B[34m*\u001B[0m\u001B[34m*\u001B[0m\u001B[34m*\u001B[0m\u001B[34m*\u001B[0m\u001B[34m*\u001B[0m\u001B[34m*\u001B[0m\u001B[34m*\u001B[0m\u001B[34m*\u001B[0m\u001B[34m*\u001B[0m\u001B[34m*\u001B[0m\u001B[34m*\u001B[0m\u001B[34m*\u001B[0m\u001B[34m*\u001B[0m\u001B[34m*\u001B[0m\u001B[34m*\u001B[0m\u001B[34m*\u001B[0m\u001B[34m*\u001B[0m\u001B[34m*\u001B[0m\u001B[34m*\u001B[0m\u001B[34m*\u001B[0m\u001B[34m*\u001B[0m\u001B[34m*\u001B[0m\u001B[34m*\u001B[0m\u001B[34m*\u001B[0m\u001B[34m*\u001B[0m\u001B[34m*\u001B[0m\u001B[34m*\u001B[0m\u001B[34m*\u001B[0m\u001B[34m*\u001B[0m\u001B[34m*\u001B[0m\u001B[34m*\u001B[0m\u001B[34m*\u001B[0m\u001B[34m*\u001B[0m\u001B[34m*\u001B[0m\u001B[34m*\u001B[0m\u001B[34m*\u001B[0m\u001B[34m*\u001B[0m\u001B[34m*\u001B[0m\u001B[34m*\u001B[0m\u001B[34m*\u001B[0m\u001B[34m*\u001B[0m\u001B[34m*\u001B[0m\u001B[34m*\u001B[0m\u001B[34m*\u001B[0m\u001B[34m*\u001B[0m\u001B[34m*\u001B[0m\u001B[34m*\u001B[0m\u001B[34m*\u001B[0m\u001B[34m*\u001B[0m\u001B[34m*\u001B[0m\n",
      "\u001B[32m** Rozwiązanie ********************************************************************************\u001B[0m\n"
     ]
    },
    {
     "data": {
      "text/plain": [
       "<IPython.core.display.Latex object>"
      ],
      "text/latex": "$$ \\left[\\begin{matrix}-2 & 4\\\\-2 & 3\\end{matrix}\\right] + \n\t3X=\n\tX \\cdot \\left[\\begin{matrix}0 & -2\\\\-1 & 1\\end{matrix}\\right] , \\quad \n\t\\left[\\begin{matrix}-2 & 4\\\\-2 & 3\\end{matrix}\\right] = \n\tX \\cdot \\left[\\begin{matrix}-3 & -2\\\\-1 & -2\\end{matrix}\\right] ,\\quad X=\\frac{1}{4}\\left[\\begin{matrix}8 & -16\\\\7 & -13\\end{matrix}\\right].$$"
     },
     "metadata": {},
     "output_type": "display_data"
    },
    {
     "name": "stdout",
     "output_type": "stream",
     "text": [
      "\u001B[32m*\u001B[0m\u001B[32m*\u001B[0m\u001B[32m*\u001B[0m\u001B[32m*\u001B[0m\u001B[32m*\u001B[0m\u001B[32m*\u001B[0m\u001B[32m*\u001B[0m\u001B[32m*\u001B[0m\u001B[32m*\u001B[0m\u001B[32m*\u001B[0m\u001B[32m*\u001B[0m\u001B[32m*\u001B[0m\u001B[32m*\u001B[0m\u001B[32m*\u001B[0m\u001B[32m*\u001B[0m\u001B[32m*\u001B[0m\u001B[32m*\u001B[0m\u001B[32m*\u001B[0m\u001B[32m*\u001B[0m\u001B[32m*\u001B[0m\u001B[32m*\u001B[0m\u001B[32m*\u001B[0m\u001B[32m*\u001B[0m\u001B[32m*\u001B[0m\u001B[32m*\u001B[0m\u001B[32m*\u001B[0m\u001B[32m*\u001B[0m\u001B[32m*\u001B[0m\u001B[32m*\u001B[0m\u001B[32m*\u001B[0m\u001B[32m*\u001B[0m\u001B[32m*\u001B[0m\u001B[32m*\u001B[0m\u001B[32m*\u001B[0m\u001B[32m*\u001B[0m\u001B[32m*\u001B[0m\u001B[32m*\u001B[0m\u001B[32m*\u001B[0m\u001B[32m*\u001B[0m\u001B[32m*\u001B[0m\u001B[32m*\u001B[0m\u001B[32m*\u001B[0m\u001B[32m*\u001B[0m\u001B[32m*\u001B[0m\u001B[32m*\u001B[0m\u001B[32m*\u001B[0m\u001B[32m*\u001B[0m\u001B[32m*\u001B[0m\u001B[32m*\u001B[0m\u001B[32m*\u001B[0m\u001B[32m*\u001B[0m\u001B[32m*\u001B[0m\u001B[32m*\u001B[0m\u001B[32m*\u001B[0m\u001B[32m*\u001B[0m\u001B[32m*\u001B[0m\u001B[32m*\u001B[0m\u001B[32m*\u001B[0m\u001B[32m*\u001B[0m\u001B[32m*\u001B[0m\u001B[32m*\u001B[0m\u001B[32m*\u001B[0m\u001B[32m*\u001B[0m\u001B[32m*\u001B[0m\u001B[32m*\u001B[0m\u001B[32m*\u001B[0m\u001B[32m*\u001B[0m\u001B[32m*\u001B[0m\u001B[32m*\u001B[0m\u001B[32m*\u001B[0m\u001B[32m*\u001B[0m\u001B[32m*\u001B[0m\u001B[32m*\u001B[0m\u001B[32m*\u001B[0m\u001B[32m*\u001B[0m\u001B[32m*\u001B[0m\u001B[32m*\u001B[0m\u001B[32m*\u001B[0m\u001B[32m*\u001B[0m\u001B[32m*\u001B[0m\u001B[32m*\u001B[0m\u001B[32m*\u001B[0m\u001B[32m*\u001B[0m\u001B[32m*\u001B[0m\u001B[32m*\u001B[0m\u001B[32m*\u001B[0m\u001B[32m*\u001B[0m\u001B[32m*\u001B[0m\u001B[32m*\u001B[0m\u001B[32m*\u001B[0m\u001B[32m*\u001B[0m\u001B[32m*\u001B[0m\u001B[32m*\u001B[0m\u001B[32m*\u001B[0m\u001B[32m*\u001B[0m\n",
      "\u001B[34m** Zadanie 8 **********************************************************************************\u001B[0m\n"
     ]
    },
    {
     "data": {
      "text/plain": [
       "<IPython.core.display.Markdown object>"
      ],
      "text/markdown": "Rozwiązać równanie"
     },
     "metadata": {},
     "output_type": "display_data"
    },
    {
     "data": {
      "text/plain": [
       "<IPython.core.display.Latex object>"
      ],
      "text/latex": "\n\t\\[\n\t\t\\left[\\begin{matrix}0 & 1 & -1 & 2 & 0\\\\2 & 0 & 2 & 0 & 0\\end{matrix}\\right]\\cdot \n\t\t\\left[\\begin{matrix}0 & -1 & -1 & 1 & -2\\\\1 & 0 & -1 & 0 & 0\\end{matrix}\\right]^T + \n\t\t3X=\n\t\t\\left[\\begin{matrix}0 & 2\\\\-1 & 0\\\\2 & -1\\\\1 & -1\\\\2 & 1\\end{matrix}\\right]^T \\cdot\n\t\t\\left[\\begin{matrix}-2 & 1\\\\-1 & 0\\\\-1 & 1\\\\0 & -1\\\\0 & -1\\end{matrix}\\right] \\cdot X\n\t\\]"
     },
     "metadata": {},
     "output_type": "display_data"
    },
    {
     "name": "stdout",
     "output_type": "stream",
     "text": [
      "\u001B[34m*\u001B[0m\u001B[34m*\u001B[0m\u001B[34m*\u001B[0m\u001B[34m*\u001B[0m\u001B[34m*\u001B[0m\u001B[34m*\u001B[0m\u001B[34m*\u001B[0m\u001B[34m*\u001B[0m\u001B[34m*\u001B[0m\u001B[34m*\u001B[0m\u001B[34m*\u001B[0m\u001B[34m*\u001B[0m\u001B[34m*\u001B[0m\u001B[34m*\u001B[0m\u001B[34m*\u001B[0m\u001B[34m*\u001B[0m\u001B[34m*\u001B[0m\u001B[34m*\u001B[0m\u001B[34m*\u001B[0m\u001B[34m*\u001B[0m\u001B[34m*\u001B[0m\u001B[34m*\u001B[0m\u001B[34m*\u001B[0m\u001B[34m*\u001B[0m\u001B[34m*\u001B[0m\u001B[34m*\u001B[0m\u001B[34m*\u001B[0m\u001B[34m*\u001B[0m\u001B[34m*\u001B[0m\u001B[34m*\u001B[0m\u001B[34m*\u001B[0m\u001B[34m*\u001B[0m\u001B[34m*\u001B[0m\u001B[34m*\u001B[0m\u001B[34m*\u001B[0m\u001B[34m*\u001B[0m\u001B[34m*\u001B[0m\u001B[34m*\u001B[0m\u001B[34m*\u001B[0m\u001B[34m*\u001B[0m\u001B[34m*\u001B[0m\u001B[34m*\u001B[0m\u001B[34m*\u001B[0m\u001B[34m*\u001B[0m\u001B[34m*\u001B[0m\u001B[34m*\u001B[0m\u001B[34m*\u001B[0m\u001B[34m*\u001B[0m\u001B[34m*\u001B[0m\u001B[34m*\u001B[0m\u001B[34m*\u001B[0m\u001B[34m*\u001B[0m\u001B[34m*\u001B[0m\u001B[34m*\u001B[0m\u001B[34m*\u001B[0m\u001B[34m*\u001B[0m\u001B[34m*\u001B[0m\u001B[34m*\u001B[0m\u001B[34m*\u001B[0m\u001B[34m*\u001B[0m\u001B[34m*\u001B[0m\u001B[34m*\u001B[0m\u001B[34m*\u001B[0m\u001B[34m*\u001B[0m\u001B[34m*\u001B[0m\u001B[34m*\u001B[0m\u001B[34m*\u001B[0m\u001B[34m*\u001B[0m\u001B[34m*\u001B[0m\u001B[34m*\u001B[0m\u001B[34m*\u001B[0m\u001B[34m*\u001B[0m\u001B[34m*\u001B[0m\u001B[34m*\u001B[0m\u001B[34m*\u001B[0m\u001B[34m*\u001B[0m\u001B[34m*\u001B[0m\u001B[34m*\u001B[0m\u001B[34m*\u001B[0m\u001B[34m*\u001B[0m\u001B[34m*\u001B[0m\u001B[34m*\u001B[0m\u001B[34m*\u001B[0m\u001B[34m*\u001B[0m\u001B[34m*\u001B[0m\u001B[34m*\u001B[0m\u001B[34m*\u001B[0m\u001B[34m*\u001B[0m\u001B[34m*\u001B[0m\u001B[34m*\u001B[0m\u001B[34m*\u001B[0m\u001B[34m*\u001B[0m\u001B[34m*\u001B[0m\u001B[34m*\u001B[0m\u001B[34m*\u001B[0m\n",
      "\u001B[32m** Rozwiązanie ********************************************************************************\u001B[0m\n"
     ]
    },
    {
     "data": {
      "text/plain": [
       "<IPython.core.display.Latex object>"
      ],
      "text/latex": "$$ \\left[\\begin{matrix}2 & 1\\\\-2 & 0\\end{matrix}\\right] + \n\t3X=\n\t\\left[\\begin{matrix}-1 & -1\\\\-3 & 1\\end{matrix}\\right] \\cdot X, \\quad \n\t\\left[\\begin{matrix}2 & 1\\\\-2 & 0\\end{matrix}\\right] = \n\t\\left[\\begin{matrix}-4 & -1\\\\-3 & -2\\end{matrix}\\right] \\cdot X ,\\quad X=\\frac{1}{5}\\left[\\begin{matrix}-6 & -2\\\\14 & 3\\end{matrix}\\right].$$"
     },
     "metadata": {},
     "output_type": "display_data"
    },
    {
     "name": "stdout",
     "output_type": "stream",
     "text": [
      "\u001B[32m*\u001B[0m\u001B[32m*\u001B[0m\u001B[32m*\u001B[0m\u001B[32m*\u001B[0m\u001B[32m*\u001B[0m\u001B[32m*\u001B[0m\u001B[32m*\u001B[0m\u001B[32m*\u001B[0m\u001B[32m*\u001B[0m\u001B[32m*\u001B[0m\u001B[32m*\u001B[0m\u001B[32m*\u001B[0m\u001B[32m*\u001B[0m\u001B[32m*\u001B[0m\u001B[32m*\u001B[0m\u001B[32m*\u001B[0m\u001B[32m*\u001B[0m\u001B[32m*\u001B[0m\u001B[32m*\u001B[0m\u001B[32m*\u001B[0m\u001B[32m*\u001B[0m\u001B[32m*\u001B[0m\u001B[32m*\u001B[0m\u001B[32m*\u001B[0m\u001B[32m*\u001B[0m\u001B[32m*\u001B[0m\u001B[32m*\u001B[0m\u001B[32m*\u001B[0m\u001B[32m*\u001B[0m\u001B[32m*\u001B[0m\u001B[32m*\u001B[0m\u001B[32m*\u001B[0m\u001B[32m*\u001B[0m\u001B[32m*\u001B[0m\u001B[32m*\u001B[0m\u001B[32m*\u001B[0m\u001B[32m*\u001B[0m\u001B[32m*\u001B[0m\u001B[32m*\u001B[0m\u001B[32m*\u001B[0m\u001B[32m*\u001B[0m\u001B[32m*\u001B[0m\u001B[32m*\u001B[0m\u001B[32m*\u001B[0m\u001B[32m*\u001B[0m\u001B[32m*\u001B[0m\u001B[32m*\u001B[0m\u001B[32m*\u001B[0m\u001B[32m*\u001B[0m\u001B[32m*\u001B[0m\u001B[32m*\u001B[0m\u001B[32m*\u001B[0m\u001B[32m*\u001B[0m\u001B[32m*\u001B[0m\u001B[32m*\u001B[0m\u001B[32m*\u001B[0m\u001B[32m*\u001B[0m\u001B[32m*\u001B[0m\u001B[32m*\u001B[0m\u001B[32m*\u001B[0m\u001B[32m*\u001B[0m\u001B[32m*\u001B[0m\u001B[32m*\u001B[0m\u001B[32m*\u001B[0m\u001B[32m*\u001B[0m\u001B[32m*\u001B[0m\u001B[32m*\u001B[0m\u001B[32m*\u001B[0m\u001B[32m*\u001B[0m\u001B[32m*\u001B[0m\u001B[32m*\u001B[0m\u001B[32m*\u001B[0m\u001B[32m*\u001B[0m\u001B[32m*\u001B[0m\u001B[32m*\u001B[0m\u001B[32m*\u001B[0m\u001B[32m*\u001B[0m\u001B[32m*\u001B[0m\u001B[32m*\u001B[0m\u001B[32m*\u001B[0m\u001B[32m*\u001B[0m\u001B[32m*\u001B[0m\u001B[32m*\u001B[0m\u001B[32m*\u001B[0m\u001B[32m*\u001B[0m\u001B[32m*\u001B[0m\u001B[32m*\u001B[0m\u001B[32m*\u001B[0m\u001B[32m*\u001B[0m\u001B[32m*\u001B[0m\u001B[32m*\u001B[0m\u001B[32m*\u001B[0m\u001B[32m*\u001B[0m\u001B[32m*\u001B[0m\u001B[32m*\u001B[0m\n",
      "\u001B[34m** Zadanie 9 **********************************************************************************\u001B[0m\n"
     ]
    },
    {
     "data": {
      "text/plain": [
       "<IPython.core.display.Markdown object>"
      ],
      "text/markdown": "Rozwiązać równanie"
     },
     "metadata": {},
     "output_type": "display_data"
    },
    {
     "data": {
      "text/plain": [
       "<IPython.core.display.Latex object>"
      ],
      "text/latex": "\n\t\\[\n\t\t\\left[\\begin{matrix}1 & 1 & 1 & -1 & 0\\\\-1 & 1 & 0 & 2 & 0\\end{matrix}\\right]\\cdot \n\t\t\\left[\\begin{matrix}0 & -1 & 1 & 0 & 1\\\\1 & 0 & 0 & -1 & -2\\end{matrix}\\right]^T + \n\t\t3X=\n\t\tX \\cdot \\left[\\begin{matrix}0 & 1\\\\1 & -1\\\\2 & -1\\\\0 & -1\\\\1 & 2\\end{matrix}\\right]^T \\cdot\n\t\t\\left[\\begin{matrix}-1 & 0\\\\1 & -1\\\\1 & 1\\\\-2 & -2\\\\-1 & 1\\end{matrix}\\right] \n\t\\]"
     },
     "metadata": {},
     "output_type": "display_data"
    },
    {
     "name": "stdout",
     "output_type": "stream",
     "text": [
      "\u001B[34m*\u001B[0m\u001B[34m*\u001B[0m\u001B[34m*\u001B[0m\u001B[34m*\u001B[0m\u001B[34m*\u001B[0m\u001B[34m*\u001B[0m\u001B[34m*\u001B[0m\u001B[34m*\u001B[0m\u001B[34m*\u001B[0m\u001B[34m*\u001B[0m\u001B[34m*\u001B[0m\u001B[34m*\u001B[0m\u001B[34m*\u001B[0m\u001B[34m*\u001B[0m\u001B[34m*\u001B[0m\u001B[34m*\u001B[0m\u001B[34m*\u001B[0m\u001B[34m*\u001B[0m\u001B[34m*\u001B[0m\u001B[34m*\u001B[0m\u001B[34m*\u001B[0m\u001B[34m*\u001B[0m\u001B[34m*\u001B[0m\u001B[34m*\u001B[0m\u001B[34m*\u001B[0m\u001B[34m*\u001B[0m\u001B[34m*\u001B[0m\u001B[34m*\u001B[0m\u001B[34m*\u001B[0m\u001B[34m*\u001B[0m\u001B[34m*\u001B[0m\u001B[34m*\u001B[0m\u001B[34m*\u001B[0m\u001B[34m*\u001B[0m\u001B[34m*\u001B[0m\u001B[34m*\u001B[0m\u001B[34m*\u001B[0m\u001B[34m*\u001B[0m\u001B[34m*\u001B[0m\u001B[34m*\u001B[0m\u001B[34m*\u001B[0m\u001B[34m*\u001B[0m\u001B[34m*\u001B[0m\u001B[34m*\u001B[0m\u001B[34m*\u001B[0m\u001B[34m*\u001B[0m\u001B[34m*\u001B[0m\u001B[34m*\u001B[0m\u001B[34m*\u001B[0m\u001B[34m*\u001B[0m\u001B[34m*\u001B[0m\u001B[34m*\u001B[0m\u001B[34m*\u001B[0m\u001B[34m*\u001B[0m\u001B[34m*\u001B[0m\u001B[34m*\u001B[0m\u001B[34m*\u001B[0m\u001B[34m*\u001B[0m\u001B[34m*\u001B[0m\u001B[34m*\u001B[0m\u001B[34m*\u001B[0m\u001B[34m*\u001B[0m\u001B[34m*\u001B[0m\u001B[34m*\u001B[0m\u001B[34m*\u001B[0m\u001B[34m*\u001B[0m\u001B[34m*\u001B[0m\u001B[34m*\u001B[0m\u001B[34m*\u001B[0m\u001B[34m*\u001B[0m\u001B[34m*\u001B[0m\u001B[34m*\u001B[0m\u001B[34m*\u001B[0m\u001B[34m*\u001B[0m\u001B[34m*\u001B[0m\u001B[34m*\u001B[0m\u001B[34m*\u001B[0m\u001B[34m*\u001B[0m\u001B[34m*\u001B[0m\u001B[34m*\u001B[0m\u001B[34m*\u001B[0m\u001B[34m*\u001B[0m\u001B[34m*\u001B[0m\u001B[34m*\u001B[0m\u001B[34m*\u001B[0m\u001B[34m*\u001B[0m\u001B[34m*\u001B[0m\u001B[34m*\u001B[0m\u001B[34m*\u001B[0m\u001B[34m*\u001B[0m\u001B[34m*\u001B[0m\u001B[34m*\u001B[0m\u001B[34m*\u001B[0m\u001B[34m*\u001B[0m\u001B[34m*\u001B[0m\n",
      "\u001B[32m** Rozwiązanie ********************************************************************************\u001B[0m\n"
     ]
    },
    {
     "data": {
      "text/plain": [
       "<IPython.core.display.Latex object>"
      ],
      "text/latex": "$$ \\left[\\begin{matrix}0 & 2\\\\-1 & -3\\end{matrix}\\right] + \n\t3X=\n\tX \\cdot \\left[\\begin{matrix}2 & 2\\\\-3 & 4\\end{matrix}\\right] , \\quad \n\t\\left[\\begin{matrix}0 & 2\\\\-1 & -3\\end{matrix}\\right] = \n\tX \\cdot \\left[\\begin{matrix}-1 & 2\\\\-3 & 1\\end{matrix}\\right] ,\\quad X=\\frac{1}{5}\\left[\\begin{matrix}6 & -2\\\\-10 & 5\\end{matrix}\\right].$$"
     },
     "metadata": {},
     "output_type": "display_data"
    },
    {
     "name": "stdout",
     "output_type": "stream",
     "text": [
      "\u001B[32m*\u001B[0m\u001B[32m*\u001B[0m\u001B[32m*\u001B[0m\u001B[32m*\u001B[0m\u001B[32m*\u001B[0m\u001B[32m*\u001B[0m\u001B[32m*\u001B[0m\u001B[32m*\u001B[0m\u001B[32m*\u001B[0m\u001B[32m*\u001B[0m\u001B[32m*\u001B[0m\u001B[32m*\u001B[0m\u001B[32m*\u001B[0m\u001B[32m*\u001B[0m\u001B[32m*\u001B[0m\u001B[32m*\u001B[0m\u001B[32m*\u001B[0m\u001B[32m*\u001B[0m\u001B[32m*\u001B[0m\u001B[32m*\u001B[0m\u001B[32m*\u001B[0m\u001B[32m*\u001B[0m\u001B[32m*\u001B[0m\u001B[32m*\u001B[0m\u001B[32m*\u001B[0m\u001B[32m*\u001B[0m\u001B[32m*\u001B[0m\u001B[32m*\u001B[0m\u001B[32m*\u001B[0m\u001B[32m*\u001B[0m\u001B[32m*\u001B[0m\u001B[32m*\u001B[0m\u001B[32m*\u001B[0m\u001B[32m*\u001B[0m\u001B[32m*\u001B[0m\u001B[32m*\u001B[0m\u001B[32m*\u001B[0m\u001B[32m*\u001B[0m\u001B[32m*\u001B[0m\u001B[32m*\u001B[0m\u001B[32m*\u001B[0m\u001B[32m*\u001B[0m\u001B[32m*\u001B[0m\u001B[32m*\u001B[0m\u001B[32m*\u001B[0m\u001B[32m*\u001B[0m\u001B[32m*\u001B[0m\u001B[32m*\u001B[0m\u001B[32m*\u001B[0m\u001B[32m*\u001B[0m\u001B[32m*\u001B[0m\u001B[32m*\u001B[0m\u001B[32m*\u001B[0m\u001B[32m*\u001B[0m\u001B[32m*\u001B[0m\u001B[32m*\u001B[0m\u001B[32m*\u001B[0m\u001B[32m*\u001B[0m\u001B[32m*\u001B[0m\u001B[32m*\u001B[0m\u001B[32m*\u001B[0m\u001B[32m*\u001B[0m\u001B[32m*\u001B[0m\u001B[32m*\u001B[0m\u001B[32m*\u001B[0m\u001B[32m*\u001B[0m\u001B[32m*\u001B[0m\u001B[32m*\u001B[0m\u001B[32m*\u001B[0m\u001B[32m*\u001B[0m\u001B[32m*\u001B[0m\u001B[32m*\u001B[0m\u001B[32m*\u001B[0m\u001B[32m*\u001B[0m\u001B[32m*\u001B[0m\u001B[32m*\u001B[0m\u001B[32m*\u001B[0m\u001B[32m*\u001B[0m\u001B[32m*\u001B[0m\u001B[32m*\u001B[0m\u001B[32m*\u001B[0m\u001B[32m*\u001B[0m\u001B[32m*\u001B[0m\u001B[32m*\u001B[0m\u001B[32m*\u001B[0m\u001B[32m*\u001B[0m\u001B[32m*\u001B[0m\u001B[32m*\u001B[0m\u001B[32m*\u001B[0m\u001B[32m*\u001B[0m\u001B[32m*\u001B[0m\u001B[32m*\u001B[0m\u001B[32m*\u001B[0m\u001B[32m*\u001B[0m\u001B[32m*\u001B[0m\n",
      "\u001B[34m** Zadanie 10 **********************************************************************************\u001B[0m\n"
     ]
    },
    {
     "data": {
      "text/plain": [
       "<IPython.core.display.Markdown object>"
      ],
      "text/markdown": "Rozwiązać równanie"
     },
     "metadata": {},
     "output_type": "display_data"
    },
    {
     "data": {
      "text/plain": [
       "<IPython.core.display.Latex object>"
      ],
      "text/latex": "\n\t\\[\n\t\t\\left[\\begin{matrix}1 & -1 & -1 & -1 & 2\\\\2 & 1 & -1 & 1 & -1\\end{matrix}\\right]\\cdot \n\t\t\\left[\\begin{matrix}1 & 0 & -2 & -2 & 0\\\\-2 & 1 & -2 & 0 & 0\\end{matrix}\\right]^T + \n\t\t3X=\n\t\tX \\cdot \\left[\\begin{matrix}0 & 1\\\\-1 & 0\\\\1 & 0\\\\1 & 2\\\\2 & 1\\end{matrix}\\right]^T \\cdot\n\t\t\\left[\\begin{matrix}0 & -1\\\\0 & 1\\\\-1 & 1\\\\0 & 1\\\\1 & 0\\end{matrix}\\right] \n\t\\]"
     },
     "metadata": {},
     "output_type": "display_data"
    },
    {
     "name": "stdout",
     "output_type": "stream",
     "text": [
      "\u001B[34m*\u001B[0m\u001B[34m*\u001B[0m\u001B[34m*\u001B[0m\u001B[34m*\u001B[0m\u001B[34m*\u001B[0m\u001B[34m*\u001B[0m\u001B[34m*\u001B[0m\u001B[34m*\u001B[0m\u001B[34m*\u001B[0m\u001B[34m*\u001B[0m\u001B[34m*\u001B[0m\u001B[34m*\u001B[0m\u001B[34m*\u001B[0m\u001B[34m*\u001B[0m\u001B[34m*\u001B[0m\u001B[34m*\u001B[0m\u001B[34m*\u001B[0m\u001B[34m*\u001B[0m\u001B[34m*\u001B[0m\u001B[34m*\u001B[0m\u001B[34m*\u001B[0m\u001B[34m*\u001B[0m\u001B[34m*\u001B[0m\u001B[34m*\u001B[0m\u001B[34m*\u001B[0m\u001B[34m*\u001B[0m\u001B[34m*\u001B[0m\u001B[34m*\u001B[0m\u001B[34m*\u001B[0m\u001B[34m*\u001B[0m\u001B[34m*\u001B[0m\u001B[34m*\u001B[0m\u001B[34m*\u001B[0m\u001B[34m*\u001B[0m\u001B[34m*\u001B[0m\u001B[34m*\u001B[0m\u001B[34m*\u001B[0m\u001B[34m*\u001B[0m\u001B[34m*\u001B[0m\u001B[34m*\u001B[0m\u001B[34m*\u001B[0m\u001B[34m*\u001B[0m\u001B[34m*\u001B[0m\u001B[34m*\u001B[0m\u001B[34m*\u001B[0m\u001B[34m*\u001B[0m\u001B[34m*\u001B[0m\u001B[34m*\u001B[0m\u001B[34m*\u001B[0m\u001B[34m*\u001B[0m\u001B[34m*\u001B[0m\u001B[34m*\u001B[0m\u001B[34m*\u001B[0m\u001B[34m*\u001B[0m\u001B[34m*\u001B[0m\u001B[34m*\u001B[0m\u001B[34m*\u001B[0m\u001B[34m*\u001B[0m\u001B[34m*\u001B[0m\u001B[34m*\u001B[0m\u001B[34m*\u001B[0m\u001B[34m*\u001B[0m\u001B[34m*\u001B[0m\u001B[34m*\u001B[0m\u001B[34m*\u001B[0m\u001B[34m*\u001B[0m\u001B[34m*\u001B[0m\u001B[34m*\u001B[0m\u001B[34m*\u001B[0m\u001B[34m*\u001B[0m\u001B[34m*\u001B[0m\u001B[34m*\u001B[0m\u001B[34m*\u001B[0m\u001B[34m*\u001B[0m\u001B[34m*\u001B[0m\u001B[34m*\u001B[0m\u001B[34m*\u001B[0m\u001B[34m*\u001B[0m\u001B[34m*\u001B[0m\u001B[34m*\u001B[0m\u001B[34m*\u001B[0m\u001B[34m*\u001B[0m\u001B[34m*\u001B[0m\u001B[34m*\u001B[0m\u001B[34m*\u001B[0m\u001B[34m*\u001B[0m\u001B[34m*\u001B[0m\u001B[34m*\u001B[0m\u001B[34m*\u001B[0m\u001B[34m*\u001B[0m\u001B[34m*\u001B[0m\u001B[34m*\u001B[0m\u001B[34m*\u001B[0m\u001B[34m*\u001B[0m\u001B[34m*\u001B[0m\n",
      "\u001B[32m** Rozwiązanie ********************************************************************************\u001B[0m\n"
     ]
    },
    {
     "data": {
      "text/plain": [
       "<IPython.core.display.Latex object>"
      ],
      "text/latex": "$$ \\left[\\begin{matrix}5 & -1\\\\2 & -1\\end{matrix}\\right] + \n\t3X=\n\tX \\cdot \\left[\\begin{matrix}1 & 1\\\\1 & 1\\end{matrix}\\right] , \\quad \n\t\\left[\\begin{matrix}5 & -1\\\\2 & -1\\end{matrix}\\right] = \n\tX \\cdot \\left[\\begin{matrix}-2 & 1\\\\1 & -2\\end{matrix}\\right] ,\\quad X=\\frac{1}{3}\\left[\\begin{matrix}-9 & -3\\\\-3 & 0\\end{matrix}\\right].$$"
     },
     "metadata": {},
     "output_type": "display_data"
    },
    {
     "name": "stdout",
     "output_type": "stream",
     "text": [
      "\u001B[32m*\u001B[0m\u001B[32m*\u001B[0m\u001B[32m*\u001B[0m\u001B[32m*\u001B[0m\u001B[32m*\u001B[0m\u001B[32m*\u001B[0m\u001B[32m*\u001B[0m\u001B[32m*\u001B[0m\u001B[32m*\u001B[0m\u001B[32m*\u001B[0m\u001B[32m*\u001B[0m\u001B[32m*\u001B[0m\u001B[32m*\u001B[0m\u001B[32m*\u001B[0m\u001B[32m*\u001B[0m\u001B[32m*\u001B[0m\u001B[32m*\u001B[0m\u001B[32m*\u001B[0m\u001B[32m*\u001B[0m\u001B[32m*\u001B[0m\u001B[32m*\u001B[0m\u001B[32m*\u001B[0m\u001B[32m*\u001B[0m\u001B[32m*\u001B[0m\u001B[32m*\u001B[0m\u001B[32m*\u001B[0m\u001B[32m*\u001B[0m\u001B[32m*\u001B[0m\u001B[32m*\u001B[0m\u001B[32m*\u001B[0m\u001B[32m*\u001B[0m\u001B[32m*\u001B[0m\u001B[32m*\u001B[0m\u001B[32m*\u001B[0m\u001B[32m*\u001B[0m\u001B[32m*\u001B[0m\u001B[32m*\u001B[0m\u001B[32m*\u001B[0m\u001B[32m*\u001B[0m\u001B[32m*\u001B[0m\u001B[32m*\u001B[0m\u001B[32m*\u001B[0m\u001B[32m*\u001B[0m\u001B[32m*\u001B[0m\u001B[32m*\u001B[0m\u001B[32m*\u001B[0m\u001B[32m*\u001B[0m\u001B[32m*\u001B[0m\u001B[32m*\u001B[0m\u001B[32m*\u001B[0m\u001B[32m*\u001B[0m\u001B[32m*\u001B[0m\u001B[32m*\u001B[0m\u001B[32m*\u001B[0m\u001B[32m*\u001B[0m\u001B[32m*\u001B[0m\u001B[32m*\u001B[0m\u001B[32m*\u001B[0m\u001B[32m*\u001B[0m\u001B[32m*\u001B[0m\u001B[32m*\u001B[0m\u001B[32m*\u001B[0m\u001B[32m*\u001B[0m\u001B[32m*\u001B[0m\u001B[32m*\u001B[0m\u001B[32m*\u001B[0m\u001B[32m*\u001B[0m\u001B[32m*\u001B[0m\u001B[32m*\u001B[0m\u001B[32m*\u001B[0m\u001B[32m*\u001B[0m\u001B[32m*\u001B[0m\u001B[32m*\u001B[0m\u001B[32m*\u001B[0m\u001B[32m*\u001B[0m\u001B[32m*\u001B[0m\u001B[32m*\u001B[0m\u001B[32m*\u001B[0m\u001B[32m*\u001B[0m\u001B[32m*\u001B[0m\u001B[32m*\u001B[0m\u001B[32m*\u001B[0m\u001B[32m*\u001B[0m\u001B[32m*\u001B[0m\u001B[32m*\u001B[0m\u001B[32m*\u001B[0m\u001B[32m*\u001B[0m\u001B[32m*\u001B[0m\u001B[32m*\u001B[0m\u001B[32m*\u001B[0m\u001B[32m*\u001B[0m\u001B[32m*\u001B[0m\u001B[32m*\u001B[0m\u001B[32m*\u001B[0m\u001B[32m*\u001B[0m\n"
     ]
    }
   ],
   "execution_count": 6
  },
  {
   "metadata": {},
   "cell_type": "markdown",
   "source": "## Wyznacznik z parametrem",
   "id": "403b32d7023b7b78"
  },
  {
   "metadata": {
    "ExecuteTime": {
     "end_time": "2024-09-12T17:27:30.279089Z",
     "start_time": "2024-09-12T17:27:28.201581Z"
    }
   },
   "cell_type": "code",
   "source": [
    "zadanie = gz.wyznacznik_parametr(wymiar=choice([2, 3, 4]), gotowiec=True)\n",
    "zadanie"
   ],
   "id": "5c8f1369c3e845fb",
   "outputs": [
    {
     "data": {
      "text/plain": [
       "('Dla jakich rzeczywistych wartości parametru $x$ wyznacznik macierzy $A$ jest różny od zera?\\n\\t\\\\[\\n\\t\\t\\\\textnormal{A=}\\n\\t\\t\\\\left[\\\\begin{matrix}-2 & 2 & 4\\\\\\\\-4 & 4 & x + 4\\\\\\\\-4 & x & 2 x - 4\\\\end{matrix}\\\\right]\\n\\t\\\\]',\n",
       " '$\\\\det A=2 x^{2} - 16 x + 32 \\\\neq 0, \\\\quad x\\\\neq 4, \\\\ $')"
      ]
     },
     "execution_count": 7,
     "metadata": {},
     "output_type": "execute_result"
    }
   ],
   "execution_count": 7
  },
  {
   "metadata": {
    "ExecuteTime": {
     "end_time": "2024-09-12T17:27:30.289443Z",
     "start_time": "2024-09-12T17:27:30.281085Z"
    },
    "tags": [
     "hide-input"
    ]
   },
   "cell_type": "code",
   "source": [
    "print(\"\\033[34m** Zadanie **\" + '*' * 81 + '\\033[0m')\n",
    "print(zadanie[0])\n",
    "print(\"\\033[34m*\\033[0m\" * 95)\n",
    "print(\"\\033[32m** Rozwiązanie **\" + '*' * 78 + '\\033[0m')\n",
    "print(zadanie[1])\n",
    "print(\"\\033[32m*\\033[0m\" * 95)"
   ],
   "id": "26b2689a8ef78464",
   "outputs": [
    {
     "name": "stdout",
     "output_type": "stream",
     "text": [
      "\u001B[34m** Zadanie ***********************************************************************************\u001B[0m\n",
      "Dla jakich rzeczywistych wartości parametru $x$ wyznacznik macierzy $A$ jest różny od zera?\n",
      "\t\\[\n",
      "\t\t\\textnormal{A=}\n",
      "\t\t\\left[\\begin{matrix}-2 & 2 & 4\\\\-4 & 4 & x + 4\\\\-4 & x & 2 x - 4\\end{matrix}\\right]\n",
      "\t\\]\n",
      "\u001B[34m*\u001B[0m\u001B[34m*\u001B[0m\u001B[34m*\u001B[0m\u001B[34m*\u001B[0m\u001B[34m*\u001B[0m\u001B[34m*\u001B[0m\u001B[34m*\u001B[0m\u001B[34m*\u001B[0m\u001B[34m*\u001B[0m\u001B[34m*\u001B[0m\u001B[34m*\u001B[0m\u001B[34m*\u001B[0m\u001B[34m*\u001B[0m\u001B[34m*\u001B[0m\u001B[34m*\u001B[0m\u001B[34m*\u001B[0m\u001B[34m*\u001B[0m\u001B[34m*\u001B[0m\u001B[34m*\u001B[0m\u001B[34m*\u001B[0m\u001B[34m*\u001B[0m\u001B[34m*\u001B[0m\u001B[34m*\u001B[0m\u001B[34m*\u001B[0m\u001B[34m*\u001B[0m\u001B[34m*\u001B[0m\u001B[34m*\u001B[0m\u001B[34m*\u001B[0m\u001B[34m*\u001B[0m\u001B[34m*\u001B[0m\u001B[34m*\u001B[0m\u001B[34m*\u001B[0m\u001B[34m*\u001B[0m\u001B[34m*\u001B[0m\u001B[34m*\u001B[0m\u001B[34m*\u001B[0m\u001B[34m*\u001B[0m\u001B[34m*\u001B[0m\u001B[34m*\u001B[0m\u001B[34m*\u001B[0m\u001B[34m*\u001B[0m\u001B[34m*\u001B[0m\u001B[34m*\u001B[0m\u001B[34m*\u001B[0m\u001B[34m*\u001B[0m\u001B[34m*\u001B[0m\u001B[34m*\u001B[0m\u001B[34m*\u001B[0m\u001B[34m*\u001B[0m\u001B[34m*\u001B[0m\u001B[34m*\u001B[0m\u001B[34m*\u001B[0m\u001B[34m*\u001B[0m\u001B[34m*\u001B[0m\u001B[34m*\u001B[0m\u001B[34m*\u001B[0m\u001B[34m*\u001B[0m\u001B[34m*\u001B[0m\u001B[34m*\u001B[0m\u001B[34m*\u001B[0m\u001B[34m*\u001B[0m\u001B[34m*\u001B[0m\u001B[34m*\u001B[0m\u001B[34m*\u001B[0m\u001B[34m*\u001B[0m\u001B[34m*\u001B[0m\u001B[34m*\u001B[0m\u001B[34m*\u001B[0m\u001B[34m*\u001B[0m\u001B[34m*\u001B[0m\u001B[34m*\u001B[0m\u001B[34m*\u001B[0m\u001B[34m*\u001B[0m\u001B[34m*\u001B[0m\u001B[34m*\u001B[0m\u001B[34m*\u001B[0m\u001B[34m*\u001B[0m\u001B[34m*\u001B[0m\u001B[34m*\u001B[0m\u001B[34m*\u001B[0m\u001B[34m*\u001B[0m\u001B[34m*\u001B[0m\u001B[34m*\u001B[0m\u001B[34m*\u001B[0m\u001B[34m*\u001B[0m\u001B[34m*\u001B[0m\u001B[34m*\u001B[0m\u001B[34m*\u001B[0m\u001B[34m*\u001B[0m\u001B[34m*\u001B[0m\u001B[34m*\u001B[0m\u001B[34m*\u001B[0m\u001B[34m*\u001B[0m\u001B[34m*\u001B[0m\u001B[34m*\u001B[0m\n",
      "\u001B[32m** Rozwiązanie ********************************************************************************\u001B[0m\n",
      "$\\det A=2 x^{2} - 16 x + 32 \\neq 0, \\quad x\\neq 4, \\ $\n",
      "\u001B[32m*\u001B[0m\u001B[32m*\u001B[0m\u001B[32m*\u001B[0m\u001B[32m*\u001B[0m\u001B[32m*\u001B[0m\u001B[32m*\u001B[0m\u001B[32m*\u001B[0m\u001B[32m*\u001B[0m\u001B[32m*\u001B[0m\u001B[32m*\u001B[0m\u001B[32m*\u001B[0m\u001B[32m*\u001B[0m\u001B[32m*\u001B[0m\u001B[32m*\u001B[0m\u001B[32m*\u001B[0m\u001B[32m*\u001B[0m\u001B[32m*\u001B[0m\u001B[32m*\u001B[0m\u001B[32m*\u001B[0m\u001B[32m*\u001B[0m\u001B[32m*\u001B[0m\u001B[32m*\u001B[0m\u001B[32m*\u001B[0m\u001B[32m*\u001B[0m\u001B[32m*\u001B[0m\u001B[32m*\u001B[0m\u001B[32m*\u001B[0m\u001B[32m*\u001B[0m\u001B[32m*\u001B[0m\u001B[32m*\u001B[0m\u001B[32m*\u001B[0m\u001B[32m*\u001B[0m\u001B[32m*\u001B[0m\u001B[32m*\u001B[0m\u001B[32m*\u001B[0m\u001B[32m*\u001B[0m\u001B[32m*\u001B[0m\u001B[32m*\u001B[0m\u001B[32m*\u001B[0m\u001B[32m*\u001B[0m\u001B[32m*\u001B[0m\u001B[32m*\u001B[0m\u001B[32m*\u001B[0m\u001B[32m*\u001B[0m\u001B[32m*\u001B[0m\u001B[32m*\u001B[0m\u001B[32m*\u001B[0m\u001B[32m*\u001B[0m\u001B[32m*\u001B[0m\u001B[32m*\u001B[0m\u001B[32m*\u001B[0m\u001B[32m*\u001B[0m\u001B[32m*\u001B[0m\u001B[32m*\u001B[0m\u001B[32m*\u001B[0m\u001B[32m*\u001B[0m\u001B[32m*\u001B[0m\u001B[32m*\u001B[0m\u001B[32m*\u001B[0m\u001B[32m*\u001B[0m\u001B[32m*\u001B[0m\u001B[32m*\u001B[0m\u001B[32m*\u001B[0m\u001B[32m*\u001B[0m\u001B[32m*\u001B[0m\u001B[32m*\u001B[0m\u001B[32m*\u001B[0m\u001B[32m*\u001B[0m\u001B[32m*\u001B[0m\u001B[32m*\u001B[0m\u001B[32m*\u001B[0m\u001B[32m*\u001B[0m\u001B[32m*\u001B[0m\u001B[32m*\u001B[0m\u001B[32m*\u001B[0m\u001B[32m*\u001B[0m\u001B[32m*\u001B[0m\u001B[32m*\u001B[0m\u001B[32m*\u001B[0m\u001B[32m*\u001B[0m\u001B[32m*\u001B[0m\u001B[32m*\u001B[0m\u001B[32m*\u001B[0m\u001B[32m*\u001B[0m\u001B[32m*\u001B[0m\u001B[32m*\u001B[0m\u001B[32m*\u001B[0m\u001B[32m*\u001B[0m\u001B[32m*\u001B[0m\u001B[32m*\u001B[0m\u001B[32m*\u001B[0m\u001B[32m*\u001B[0m\u001B[32m*\u001B[0m\u001B[32m*\u001B[0m\u001B[32m*\u001B[0m\n"
     ]
    }
   ],
   "execution_count": 8
  },
  {
   "metadata": {
    "ExecuteTime": {
     "end_time": "2024-09-12T17:27:33.644740Z",
     "start_time": "2024-09-12T17:27:30.407367Z"
    },
    "tags": [
     "hide-input"
    ]
   },
   "cell_type": "code",
   "source": [
    "for i in range(1, ile_zadan_przykladowych + 1):\n",
    "    zadanie = gz.wyznacznik_parametr(wymiar=choice([2, 3, 4]), gotowiec=True)\n",
    "    print(f\"\\033[34m** Zadanie {i} **\" + '*' * 80 + '\\033[0m')\n",
    "    display(Markdown(zadanie[0][:91].replace('\\\\ ', ' ').replace('$', '*')))\n",
    "    display(Latex(zadanie[0][91:]))\n",
    "    print(\"\\033[34m*\\033[0m\" * 95)\n",
    "    print(\"\\033[32m** Rozwiązanie **\" + '*' * 78 + '\\033[0m')\n",
    "    display(Latex(zadanie[1].replace('$ \\\\\\\\ \\n\\t$', ',\\\\quad ').replace('$', '$$')))\n",
    "    print(\"\\033[32m*\\033[0m\" * 95)"
   ],
   "id": "328cdd4b576c7b9",
   "outputs": [
    {
     "name": "stdout",
     "output_type": "stream",
     "text": [
      "\u001B[34m** Zadanie 1 **********************************************************************************\u001B[0m\n"
     ]
    },
    {
     "data": {
      "text/plain": [
       "<IPython.core.display.Markdown object>"
      ],
      "text/markdown": "Dla jakich rzeczywistych wartości parametru *x* wyznacznik macierzy *A* jest różny od zera?"
     },
     "metadata": {},
     "output_type": "display_data"
    },
    {
     "data": {
      "text/plain": [
       "<IPython.core.display.Latex object>"
      ],
      "text/latex": "\n\t\\[\n\t\t\\textnormal{A=}\n\t\t\\left[\\begin{matrix}3 & 2 x + 2\\\\x - 3 & -2\\end{matrix}\\right]\n\t\\]"
     },
     "metadata": {},
     "output_type": "display_data"
    },
    {
     "name": "stdout",
     "output_type": "stream",
     "text": [
      "\u001B[34m*\u001B[0m\u001B[34m*\u001B[0m\u001B[34m*\u001B[0m\u001B[34m*\u001B[0m\u001B[34m*\u001B[0m\u001B[34m*\u001B[0m\u001B[34m*\u001B[0m\u001B[34m*\u001B[0m\u001B[34m*\u001B[0m\u001B[34m*\u001B[0m\u001B[34m*\u001B[0m\u001B[34m*\u001B[0m\u001B[34m*\u001B[0m\u001B[34m*\u001B[0m\u001B[34m*\u001B[0m\u001B[34m*\u001B[0m\u001B[34m*\u001B[0m\u001B[34m*\u001B[0m\u001B[34m*\u001B[0m\u001B[34m*\u001B[0m\u001B[34m*\u001B[0m\u001B[34m*\u001B[0m\u001B[34m*\u001B[0m\u001B[34m*\u001B[0m\u001B[34m*\u001B[0m\u001B[34m*\u001B[0m\u001B[34m*\u001B[0m\u001B[34m*\u001B[0m\u001B[34m*\u001B[0m\u001B[34m*\u001B[0m\u001B[34m*\u001B[0m\u001B[34m*\u001B[0m\u001B[34m*\u001B[0m\u001B[34m*\u001B[0m\u001B[34m*\u001B[0m\u001B[34m*\u001B[0m\u001B[34m*\u001B[0m\u001B[34m*\u001B[0m\u001B[34m*\u001B[0m\u001B[34m*\u001B[0m\u001B[34m*\u001B[0m\u001B[34m*\u001B[0m\u001B[34m*\u001B[0m\u001B[34m*\u001B[0m\u001B[34m*\u001B[0m\u001B[34m*\u001B[0m\u001B[34m*\u001B[0m\u001B[34m*\u001B[0m\u001B[34m*\u001B[0m\u001B[34m*\u001B[0m\u001B[34m*\u001B[0m\u001B[34m*\u001B[0m\u001B[34m*\u001B[0m\u001B[34m*\u001B[0m\u001B[34m*\u001B[0m\u001B[34m*\u001B[0m\u001B[34m*\u001B[0m\u001B[34m*\u001B[0m\u001B[34m*\u001B[0m\u001B[34m*\u001B[0m\u001B[34m*\u001B[0m\u001B[34m*\u001B[0m\u001B[34m*\u001B[0m\u001B[34m*\u001B[0m\u001B[34m*\u001B[0m\u001B[34m*\u001B[0m\u001B[34m*\u001B[0m\u001B[34m*\u001B[0m\u001B[34m*\u001B[0m\u001B[34m*\u001B[0m\u001B[34m*\u001B[0m\u001B[34m*\u001B[0m\u001B[34m*\u001B[0m\u001B[34m*\u001B[0m\u001B[34m*\u001B[0m\u001B[34m*\u001B[0m\u001B[34m*\u001B[0m\u001B[34m*\u001B[0m\u001B[34m*\u001B[0m\u001B[34m*\u001B[0m\u001B[34m*\u001B[0m\u001B[34m*\u001B[0m\u001B[34m*\u001B[0m\u001B[34m*\u001B[0m\u001B[34m*\u001B[0m\u001B[34m*\u001B[0m\u001B[34m*\u001B[0m\u001B[34m*\u001B[0m\u001B[34m*\u001B[0m\u001B[34m*\u001B[0m\u001B[34m*\u001B[0m\u001B[34m*\u001B[0m\u001B[34m*\u001B[0m\u001B[34m*\u001B[0m\u001B[34m*\u001B[0m\n",
      "\u001B[32m** Rozwiązanie ********************************************************************************\u001B[0m\n"
     ]
    },
    {
     "data": {
      "text/plain": [
       "<IPython.core.display.Latex object>"
      ],
      "text/latex": "$$\\det A=- 2 x^{2} + 4 x \\neq 0, \\quad x\\neq 0, \\ x\\neq 2, \\ $$"
     },
     "metadata": {},
     "output_type": "display_data"
    },
    {
     "name": "stdout",
     "output_type": "stream",
     "text": [
      "\u001B[32m*\u001B[0m\u001B[32m*\u001B[0m\u001B[32m*\u001B[0m\u001B[32m*\u001B[0m\u001B[32m*\u001B[0m\u001B[32m*\u001B[0m\u001B[32m*\u001B[0m\u001B[32m*\u001B[0m\u001B[32m*\u001B[0m\u001B[32m*\u001B[0m\u001B[32m*\u001B[0m\u001B[32m*\u001B[0m\u001B[32m*\u001B[0m\u001B[32m*\u001B[0m\u001B[32m*\u001B[0m\u001B[32m*\u001B[0m\u001B[32m*\u001B[0m\u001B[32m*\u001B[0m\u001B[32m*\u001B[0m\u001B[32m*\u001B[0m\u001B[32m*\u001B[0m\u001B[32m*\u001B[0m\u001B[32m*\u001B[0m\u001B[32m*\u001B[0m\u001B[32m*\u001B[0m\u001B[32m*\u001B[0m\u001B[32m*\u001B[0m\u001B[32m*\u001B[0m\u001B[32m*\u001B[0m\u001B[32m*\u001B[0m\u001B[32m*\u001B[0m\u001B[32m*\u001B[0m\u001B[32m*\u001B[0m\u001B[32m*\u001B[0m\u001B[32m*\u001B[0m\u001B[32m*\u001B[0m\u001B[32m*\u001B[0m\u001B[32m*\u001B[0m\u001B[32m*\u001B[0m\u001B[32m*\u001B[0m\u001B[32m*\u001B[0m\u001B[32m*\u001B[0m\u001B[32m*\u001B[0m\u001B[32m*\u001B[0m\u001B[32m*\u001B[0m\u001B[32m*\u001B[0m\u001B[32m*\u001B[0m\u001B[32m*\u001B[0m\u001B[32m*\u001B[0m\u001B[32m*\u001B[0m\u001B[32m*\u001B[0m\u001B[32m*\u001B[0m\u001B[32m*\u001B[0m\u001B[32m*\u001B[0m\u001B[32m*\u001B[0m\u001B[32m*\u001B[0m\u001B[32m*\u001B[0m\u001B[32m*\u001B[0m\u001B[32m*\u001B[0m\u001B[32m*\u001B[0m\u001B[32m*\u001B[0m\u001B[32m*\u001B[0m\u001B[32m*\u001B[0m\u001B[32m*\u001B[0m\u001B[32m*\u001B[0m\u001B[32m*\u001B[0m\u001B[32m*\u001B[0m\u001B[32m*\u001B[0m\u001B[32m*\u001B[0m\u001B[32m*\u001B[0m\u001B[32m*\u001B[0m\u001B[32m*\u001B[0m\u001B[32m*\u001B[0m\u001B[32m*\u001B[0m\u001B[32m*\u001B[0m\u001B[32m*\u001B[0m\u001B[32m*\u001B[0m\u001B[32m*\u001B[0m\u001B[32m*\u001B[0m\u001B[32m*\u001B[0m\u001B[32m*\u001B[0m\u001B[32m*\u001B[0m\u001B[32m*\u001B[0m\u001B[32m*\u001B[0m\u001B[32m*\u001B[0m\u001B[32m*\u001B[0m\u001B[32m*\u001B[0m\u001B[32m*\u001B[0m\u001B[32m*\u001B[0m\u001B[32m*\u001B[0m\u001B[32m*\u001B[0m\u001B[32m*\u001B[0m\u001B[32m*\u001B[0m\u001B[32m*\u001B[0m\u001B[32m*\u001B[0m\n",
      "\u001B[34m** Zadanie 2 **********************************************************************************\u001B[0m\n"
     ]
    },
    {
     "data": {
      "text/plain": [
       "<IPython.core.display.Markdown object>"
      ],
      "text/markdown": "Dla jakich rzeczywistych wartości parametru *x* wyznacznik macierzy *A* jest różny od zera?"
     },
     "metadata": {},
     "output_type": "display_data"
    },
    {
     "data": {
      "text/plain": [
       "<IPython.core.display.Latex object>"
      ],
      "text/latex": "\n\t\\[\n\t\t\\textnormal{A=}\n\t\t\\left[\\begin{matrix}4 & x - 2 & x + 2 & 3\\\\1 & -4 & -2 & 1\\\\-4 & 2 & 1 & 2 x\\\\-2 & 2 & 1 & x\\end{matrix}\\right]\n\t\\]"
     },
     "metadata": {},
     "output_type": "display_data"
    },
    {
     "name": "stdout",
     "output_type": "stream",
     "text": [
      "\u001B[34m*\u001B[0m\u001B[34m*\u001B[0m\u001B[34m*\u001B[0m\u001B[34m*\u001B[0m\u001B[34m*\u001B[0m\u001B[34m*\u001B[0m\u001B[34m*\u001B[0m\u001B[34m*\u001B[0m\u001B[34m*\u001B[0m\u001B[34m*\u001B[0m\u001B[34m*\u001B[0m\u001B[34m*\u001B[0m\u001B[34m*\u001B[0m\u001B[34m*\u001B[0m\u001B[34m*\u001B[0m\u001B[34m*\u001B[0m\u001B[34m*\u001B[0m\u001B[34m*\u001B[0m\u001B[34m*\u001B[0m\u001B[34m*\u001B[0m\u001B[34m*\u001B[0m\u001B[34m*\u001B[0m\u001B[34m*\u001B[0m\u001B[34m*\u001B[0m\u001B[34m*\u001B[0m\u001B[34m*\u001B[0m\u001B[34m*\u001B[0m\u001B[34m*\u001B[0m\u001B[34m*\u001B[0m\u001B[34m*\u001B[0m\u001B[34m*\u001B[0m\u001B[34m*\u001B[0m\u001B[34m*\u001B[0m\u001B[34m*\u001B[0m\u001B[34m*\u001B[0m\u001B[34m*\u001B[0m\u001B[34m*\u001B[0m\u001B[34m*\u001B[0m\u001B[34m*\u001B[0m\u001B[34m*\u001B[0m\u001B[34m*\u001B[0m\u001B[34m*\u001B[0m\u001B[34m*\u001B[0m\u001B[34m*\u001B[0m\u001B[34m*\u001B[0m\u001B[34m*\u001B[0m\u001B[34m*\u001B[0m\u001B[34m*\u001B[0m\u001B[34m*\u001B[0m\u001B[34m*\u001B[0m\u001B[34m*\u001B[0m\u001B[34m*\u001B[0m\u001B[34m*\u001B[0m\u001B[34m*\u001B[0m\u001B[34m*\u001B[0m\u001B[34m*\u001B[0m\u001B[34m*\u001B[0m\u001B[34m*\u001B[0m\u001B[34m*\u001B[0m\u001B[34m*\u001B[0m\u001B[34m*\u001B[0m\u001B[34m*\u001B[0m\u001B[34m*\u001B[0m\u001B[34m*\u001B[0m\u001B[34m*\u001B[0m\u001B[34m*\u001B[0m\u001B[34m*\u001B[0m\u001B[34m*\u001B[0m\u001B[34m*\u001B[0m\u001B[34m*\u001B[0m\u001B[34m*\u001B[0m\u001B[34m*\u001B[0m\u001B[34m*\u001B[0m\u001B[34m*\u001B[0m\u001B[34m*\u001B[0m\u001B[34m*\u001B[0m\u001B[34m*\u001B[0m\u001B[34m*\u001B[0m\u001B[34m*\u001B[0m\u001B[34m*\u001B[0m\u001B[34m*\u001B[0m\u001B[34m*\u001B[0m\u001B[34m*\u001B[0m\u001B[34m*\u001B[0m\u001B[34m*\u001B[0m\u001B[34m*\u001B[0m\u001B[34m*\u001B[0m\u001B[34m*\u001B[0m\u001B[34m*\u001B[0m\u001B[34m*\u001B[0m\u001B[34m*\u001B[0m\u001B[34m*\u001B[0m\u001B[34m*\u001B[0m\u001B[34m*\u001B[0m\u001B[34m*\u001B[0m\n",
      "\u001B[32m** Rozwiązanie ********************************************************************************\u001B[0m\n"
     ]
    },
    {
     "data": {
      "text/plain": [
       "<IPython.core.display.Latex object>"
      ],
      "text/latex": "$$\\det A=- x^{2} - 8 x - 12 \\neq 0, \\quad x\\neq -6, \\ x\\neq -2, \\ $$"
     },
     "metadata": {},
     "output_type": "display_data"
    },
    {
     "name": "stdout",
     "output_type": "stream",
     "text": [
      "\u001B[32m*\u001B[0m\u001B[32m*\u001B[0m\u001B[32m*\u001B[0m\u001B[32m*\u001B[0m\u001B[32m*\u001B[0m\u001B[32m*\u001B[0m\u001B[32m*\u001B[0m\u001B[32m*\u001B[0m\u001B[32m*\u001B[0m\u001B[32m*\u001B[0m\u001B[32m*\u001B[0m\u001B[32m*\u001B[0m\u001B[32m*\u001B[0m\u001B[32m*\u001B[0m\u001B[32m*\u001B[0m\u001B[32m*\u001B[0m\u001B[32m*\u001B[0m\u001B[32m*\u001B[0m\u001B[32m*\u001B[0m\u001B[32m*\u001B[0m\u001B[32m*\u001B[0m\u001B[32m*\u001B[0m\u001B[32m*\u001B[0m\u001B[32m*\u001B[0m\u001B[32m*\u001B[0m\u001B[32m*\u001B[0m\u001B[32m*\u001B[0m\u001B[32m*\u001B[0m\u001B[32m*\u001B[0m\u001B[32m*\u001B[0m\u001B[32m*\u001B[0m\u001B[32m*\u001B[0m\u001B[32m*\u001B[0m\u001B[32m*\u001B[0m\u001B[32m*\u001B[0m\u001B[32m*\u001B[0m\u001B[32m*\u001B[0m\u001B[32m*\u001B[0m\u001B[32m*\u001B[0m\u001B[32m*\u001B[0m\u001B[32m*\u001B[0m\u001B[32m*\u001B[0m\u001B[32m*\u001B[0m\u001B[32m*\u001B[0m\u001B[32m*\u001B[0m\u001B[32m*\u001B[0m\u001B[32m*\u001B[0m\u001B[32m*\u001B[0m\u001B[32m*\u001B[0m\u001B[32m*\u001B[0m\u001B[32m*\u001B[0m\u001B[32m*\u001B[0m\u001B[32m*\u001B[0m\u001B[32m*\u001B[0m\u001B[32m*\u001B[0m\u001B[32m*\u001B[0m\u001B[32m*\u001B[0m\u001B[32m*\u001B[0m\u001B[32m*\u001B[0m\u001B[32m*\u001B[0m\u001B[32m*\u001B[0m\u001B[32m*\u001B[0m\u001B[32m*\u001B[0m\u001B[32m*\u001B[0m\u001B[32m*\u001B[0m\u001B[32m*\u001B[0m\u001B[32m*\u001B[0m\u001B[32m*\u001B[0m\u001B[32m*\u001B[0m\u001B[32m*\u001B[0m\u001B[32m*\u001B[0m\u001B[32m*\u001B[0m\u001B[32m*\u001B[0m\u001B[32m*\u001B[0m\u001B[32m*\u001B[0m\u001B[32m*\u001B[0m\u001B[32m*\u001B[0m\u001B[32m*\u001B[0m\u001B[32m*\u001B[0m\u001B[32m*\u001B[0m\u001B[32m*\u001B[0m\u001B[32m*\u001B[0m\u001B[32m*\u001B[0m\u001B[32m*\u001B[0m\u001B[32m*\u001B[0m\u001B[32m*\u001B[0m\u001B[32m*\u001B[0m\u001B[32m*\u001B[0m\u001B[32m*\u001B[0m\u001B[32m*\u001B[0m\u001B[32m*\u001B[0m\u001B[32m*\u001B[0m\u001B[32m*\u001B[0m\u001B[32m*\u001B[0m\u001B[32m*\u001B[0m\n",
      "\u001B[34m** Zadanie 3 **********************************************************************************\u001B[0m\n"
     ]
    },
    {
     "data": {
      "text/plain": [
       "<IPython.core.display.Markdown object>"
      ],
      "text/markdown": "Dla jakich rzeczywistych wartości parametru *x* wyznacznik macierzy *A* jest różny od zera?"
     },
     "metadata": {},
     "output_type": "display_data"
    },
    {
     "data": {
      "text/plain": [
       "<IPython.core.display.Latex object>"
      ],
      "text/latex": "\n\t\\[\n\t\t\\textnormal{A=}\n\t\t\\left[\\begin{matrix}-2 & x + 1\\\\x + 3 & x + 3\\end{matrix}\\right]\n\t\\]"
     },
     "metadata": {},
     "output_type": "display_data"
    },
    {
     "name": "stdout",
     "output_type": "stream",
     "text": [
      "\u001B[34m*\u001B[0m\u001B[34m*\u001B[0m\u001B[34m*\u001B[0m\u001B[34m*\u001B[0m\u001B[34m*\u001B[0m\u001B[34m*\u001B[0m\u001B[34m*\u001B[0m\u001B[34m*\u001B[0m\u001B[34m*\u001B[0m\u001B[34m*\u001B[0m\u001B[34m*\u001B[0m\u001B[34m*\u001B[0m\u001B[34m*\u001B[0m\u001B[34m*\u001B[0m\u001B[34m*\u001B[0m\u001B[34m*\u001B[0m\u001B[34m*\u001B[0m\u001B[34m*\u001B[0m\u001B[34m*\u001B[0m\u001B[34m*\u001B[0m\u001B[34m*\u001B[0m\u001B[34m*\u001B[0m\u001B[34m*\u001B[0m\u001B[34m*\u001B[0m\u001B[34m*\u001B[0m\u001B[34m*\u001B[0m\u001B[34m*\u001B[0m\u001B[34m*\u001B[0m\u001B[34m*\u001B[0m\u001B[34m*\u001B[0m\u001B[34m*\u001B[0m\u001B[34m*\u001B[0m\u001B[34m*\u001B[0m\u001B[34m*\u001B[0m\u001B[34m*\u001B[0m\u001B[34m*\u001B[0m\u001B[34m*\u001B[0m\u001B[34m*\u001B[0m\u001B[34m*\u001B[0m\u001B[34m*\u001B[0m\u001B[34m*\u001B[0m\u001B[34m*\u001B[0m\u001B[34m*\u001B[0m\u001B[34m*\u001B[0m\u001B[34m*\u001B[0m\u001B[34m*\u001B[0m\u001B[34m*\u001B[0m\u001B[34m*\u001B[0m\u001B[34m*\u001B[0m\u001B[34m*\u001B[0m\u001B[34m*\u001B[0m\u001B[34m*\u001B[0m\u001B[34m*\u001B[0m\u001B[34m*\u001B[0m\u001B[34m*\u001B[0m\u001B[34m*\u001B[0m\u001B[34m*\u001B[0m\u001B[34m*\u001B[0m\u001B[34m*\u001B[0m\u001B[34m*\u001B[0m\u001B[34m*\u001B[0m\u001B[34m*\u001B[0m\u001B[34m*\u001B[0m\u001B[34m*\u001B[0m\u001B[34m*\u001B[0m\u001B[34m*\u001B[0m\u001B[34m*\u001B[0m\u001B[34m*\u001B[0m\u001B[34m*\u001B[0m\u001B[34m*\u001B[0m\u001B[34m*\u001B[0m\u001B[34m*\u001B[0m\u001B[34m*\u001B[0m\u001B[34m*\u001B[0m\u001B[34m*\u001B[0m\u001B[34m*\u001B[0m\u001B[34m*\u001B[0m\u001B[34m*\u001B[0m\u001B[34m*\u001B[0m\u001B[34m*\u001B[0m\u001B[34m*\u001B[0m\u001B[34m*\u001B[0m\u001B[34m*\u001B[0m\u001B[34m*\u001B[0m\u001B[34m*\u001B[0m\u001B[34m*\u001B[0m\u001B[34m*\u001B[0m\u001B[34m*\u001B[0m\u001B[34m*\u001B[0m\u001B[34m*\u001B[0m\u001B[34m*\u001B[0m\u001B[34m*\u001B[0m\u001B[34m*\u001B[0m\u001B[34m*\u001B[0m\u001B[34m*\u001B[0m\n",
      "\u001B[32m** Rozwiązanie ********************************************************************************\u001B[0m\n"
     ]
    },
    {
     "data": {
      "text/plain": [
       "<IPython.core.display.Latex object>"
      ],
      "text/latex": "$$\\det A=- x^{2} - 6 x - 9 \\neq 0, \\quad x\\neq -3, \\ $$"
     },
     "metadata": {},
     "output_type": "display_data"
    },
    {
     "name": "stdout",
     "output_type": "stream",
     "text": [
      "\u001B[32m*\u001B[0m\u001B[32m*\u001B[0m\u001B[32m*\u001B[0m\u001B[32m*\u001B[0m\u001B[32m*\u001B[0m\u001B[32m*\u001B[0m\u001B[32m*\u001B[0m\u001B[32m*\u001B[0m\u001B[32m*\u001B[0m\u001B[32m*\u001B[0m\u001B[32m*\u001B[0m\u001B[32m*\u001B[0m\u001B[32m*\u001B[0m\u001B[32m*\u001B[0m\u001B[32m*\u001B[0m\u001B[32m*\u001B[0m\u001B[32m*\u001B[0m\u001B[32m*\u001B[0m\u001B[32m*\u001B[0m\u001B[32m*\u001B[0m\u001B[32m*\u001B[0m\u001B[32m*\u001B[0m\u001B[32m*\u001B[0m\u001B[32m*\u001B[0m\u001B[32m*\u001B[0m\u001B[32m*\u001B[0m\u001B[32m*\u001B[0m\u001B[32m*\u001B[0m\u001B[32m*\u001B[0m\u001B[32m*\u001B[0m\u001B[32m*\u001B[0m\u001B[32m*\u001B[0m\u001B[32m*\u001B[0m\u001B[32m*\u001B[0m\u001B[32m*\u001B[0m\u001B[32m*\u001B[0m\u001B[32m*\u001B[0m\u001B[32m*\u001B[0m\u001B[32m*\u001B[0m\u001B[32m*\u001B[0m\u001B[32m*\u001B[0m\u001B[32m*\u001B[0m\u001B[32m*\u001B[0m\u001B[32m*\u001B[0m\u001B[32m*\u001B[0m\u001B[32m*\u001B[0m\u001B[32m*\u001B[0m\u001B[32m*\u001B[0m\u001B[32m*\u001B[0m\u001B[32m*\u001B[0m\u001B[32m*\u001B[0m\u001B[32m*\u001B[0m\u001B[32m*\u001B[0m\u001B[32m*\u001B[0m\u001B[32m*\u001B[0m\u001B[32m*\u001B[0m\u001B[32m*\u001B[0m\u001B[32m*\u001B[0m\u001B[32m*\u001B[0m\u001B[32m*\u001B[0m\u001B[32m*\u001B[0m\u001B[32m*\u001B[0m\u001B[32m*\u001B[0m\u001B[32m*\u001B[0m\u001B[32m*\u001B[0m\u001B[32m*\u001B[0m\u001B[32m*\u001B[0m\u001B[32m*\u001B[0m\u001B[32m*\u001B[0m\u001B[32m*\u001B[0m\u001B[32m*\u001B[0m\u001B[32m*\u001B[0m\u001B[32m*\u001B[0m\u001B[32m*\u001B[0m\u001B[32m*\u001B[0m\u001B[32m*\u001B[0m\u001B[32m*\u001B[0m\u001B[32m*\u001B[0m\u001B[32m*\u001B[0m\u001B[32m*\u001B[0m\u001B[32m*\u001B[0m\u001B[32m*\u001B[0m\u001B[32m*\u001B[0m\u001B[32m*\u001B[0m\u001B[32m*\u001B[0m\u001B[32m*\u001B[0m\u001B[32m*\u001B[0m\u001B[32m*\u001B[0m\u001B[32m*\u001B[0m\u001B[32m*\u001B[0m\u001B[32m*\u001B[0m\u001B[32m*\u001B[0m\u001B[32m*\u001B[0m\u001B[32m*\u001B[0m\u001B[32m*\u001B[0m\n",
      "\u001B[34m** Zadanie 4 **********************************************************************************\u001B[0m\n"
     ]
    },
    {
     "data": {
      "text/plain": [
       "<IPython.core.display.Markdown object>"
      ],
      "text/markdown": "Dla jakich rzeczywistych wartości parametru *x* wyznacznik macierzy *A* jest różny od zera?"
     },
     "metadata": {},
     "output_type": "display_data"
    },
    {
     "data": {
      "text/plain": [
       "<IPython.core.display.Latex object>"
      ],
      "text/latex": "\n\t\\[\n\t\t\\textnormal{A=}\n\t\t\\left[\\begin{matrix}3 & x + 1\\\\x - 4 & x - 4\\end{matrix}\\right]\n\t\\]"
     },
     "metadata": {},
     "output_type": "display_data"
    },
    {
     "name": "stdout",
     "output_type": "stream",
     "text": [
      "\u001B[34m*\u001B[0m\u001B[34m*\u001B[0m\u001B[34m*\u001B[0m\u001B[34m*\u001B[0m\u001B[34m*\u001B[0m\u001B[34m*\u001B[0m\u001B[34m*\u001B[0m\u001B[34m*\u001B[0m\u001B[34m*\u001B[0m\u001B[34m*\u001B[0m\u001B[34m*\u001B[0m\u001B[34m*\u001B[0m\u001B[34m*\u001B[0m\u001B[34m*\u001B[0m\u001B[34m*\u001B[0m\u001B[34m*\u001B[0m\u001B[34m*\u001B[0m\u001B[34m*\u001B[0m\u001B[34m*\u001B[0m\u001B[34m*\u001B[0m\u001B[34m*\u001B[0m\u001B[34m*\u001B[0m\u001B[34m*\u001B[0m\u001B[34m*\u001B[0m\u001B[34m*\u001B[0m\u001B[34m*\u001B[0m\u001B[34m*\u001B[0m\u001B[34m*\u001B[0m\u001B[34m*\u001B[0m\u001B[34m*\u001B[0m\u001B[34m*\u001B[0m\u001B[34m*\u001B[0m\u001B[34m*\u001B[0m\u001B[34m*\u001B[0m\u001B[34m*\u001B[0m\u001B[34m*\u001B[0m\u001B[34m*\u001B[0m\u001B[34m*\u001B[0m\u001B[34m*\u001B[0m\u001B[34m*\u001B[0m\u001B[34m*\u001B[0m\u001B[34m*\u001B[0m\u001B[34m*\u001B[0m\u001B[34m*\u001B[0m\u001B[34m*\u001B[0m\u001B[34m*\u001B[0m\u001B[34m*\u001B[0m\u001B[34m*\u001B[0m\u001B[34m*\u001B[0m\u001B[34m*\u001B[0m\u001B[34m*\u001B[0m\u001B[34m*\u001B[0m\u001B[34m*\u001B[0m\u001B[34m*\u001B[0m\u001B[34m*\u001B[0m\u001B[34m*\u001B[0m\u001B[34m*\u001B[0m\u001B[34m*\u001B[0m\u001B[34m*\u001B[0m\u001B[34m*\u001B[0m\u001B[34m*\u001B[0m\u001B[34m*\u001B[0m\u001B[34m*\u001B[0m\u001B[34m*\u001B[0m\u001B[34m*\u001B[0m\u001B[34m*\u001B[0m\u001B[34m*\u001B[0m\u001B[34m*\u001B[0m\u001B[34m*\u001B[0m\u001B[34m*\u001B[0m\u001B[34m*\u001B[0m\u001B[34m*\u001B[0m\u001B[34m*\u001B[0m\u001B[34m*\u001B[0m\u001B[34m*\u001B[0m\u001B[34m*\u001B[0m\u001B[34m*\u001B[0m\u001B[34m*\u001B[0m\u001B[34m*\u001B[0m\u001B[34m*\u001B[0m\u001B[34m*\u001B[0m\u001B[34m*\u001B[0m\u001B[34m*\u001B[0m\u001B[34m*\u001B[0m\u001B[34m*\u001B[0m\u001B[34m*\u001B[0m\u001B[34m*\u001B[0m\u001B[34m*\u001B[0m\u001B[34m*\u001B[0m\u001B[34m*\u001B[0m\u001B[34m*\u001B[0m\u001B[34m*\u001B[0m\u001B[34m*\u001B[0m\u001B[34m*\u001B[0m\u001B[34m*\u001B[0m\n",
      "\u001B[32m** Rozwiązanie ********************************************************************************\u001B[0m\n"
     ]
    },
    {
     "data": {
      "text/plain": [
       "<IPython.core.display.Latex object>"
      ],
      "text/latex": "$$\\det A=- x^{2} + 6 x - 8 \\neq 0, \\quad x\\neq 2, \\ x\\neq 4, \\ $$"
     },
     "metadata": {},
     "output_type": "display_data"
    },
    {
     "name": "stdout",
     "output_type": "stream",
     "text": [
      "\u001B[32m*\u001B[0m\u001B[32m*\u001B[0m\u001B[32m*\u001B[0m\u001B[32m*\u001B[0m\u001B[32m*\u001B[0m\u001B[32m*\u001B[0m\u001B[32m*\u001B[0m\u001B[32m*\u001B[0m\u001B[32m*\u001B[0m\u001B[32m*\u001B[0m\u001B[32m*\u001B[0m\u001B[32m*\u001B[0m\u001B[32m*\u001B[0m\u001B[32m*\u001B[0m\u001B[32m*\u001B[0m\u001B[32m*\u001B[0m\u001B[32m*\u001B[0m\u001B[32m*\u001B[0m\u001B[32m*\u001B[0m\u001B[32m*\u001B[0m\u001B[32m*\u001B[0m\u001B[32m*\u001B[0m\u001B[32m*\u001B[0m\u001B[32m*\u001B[0m\u001B[32m*\u001B[0m\u001B[32m*\u001B[0m\u001B[32m*\u001B[0m\u001B[32m*\u001B[0m\u001B[32m*\u001B[0m\u001B[32m*\u001B[0m\u001B[32m*\u001B[0m\u001B[32m*\u001B[0m\u001B[32m*\u001B[0m\u001B[32m*\u001B[0m\u001B[32m*\u001B[0m\u001B[32m*\u001B[0m\u001B[32m*\u001B[0m\u001B[32m*\u001B[0m\u001B[32m*\u001B[0m\u001B[32m*\u001B[0m\u001B[32m*\u001B[0m\u001B[32m*\u001B[0m\u001B[32m*\u001B[0m\u001B[32m*\u001B[0m\u001B[32m*\u001B[0m\u001B[32m*\u001B[0m\u001B[32m*\u001B[0m\u001B[32m*\u001B[0m\u001B[32m*\u001B[0m\u001B[32m*\u001B[0m\u001B[32m*\u001B[0m\u001B[32m*\u001B[0m\u001B[32m*\u001B[0m\u001B[32m*\u001B[0m\u001B[32m*\u001B[0m\u001B[32m*\u001B[0m\u001B[32m*\u001B[0m\u001B[32m*\u001B[0m\u001B[32m*\u001B[0m\u001B[32m*\u001B[0m\u001B[32m*\u001B[0m\u001B[32m*\u001B[0m\u001B[32m*\u001B[0m\u001B[32m*\u001B[0m\u001B[32m*\u001B[0m\u001B[32m*\u001B[0m\u001B[32m*\u001B[0m\u001B[32m*\u001B[0m\u001B[32m*\u001B[0m\u001B[32m*\u001B[0m\u001B[32m*\u001B[0m\u001B[32m*\u001B[0m\u001B[32m*\u001B[0m\u001B[32m*\u001B[0m\u001B[32m*\u001B[0m\u001B[32m*\u001B[0m\u001B[32m*\u001B[0m\u001B[32m*\u001B[0m\u001B[32m*\u001B[0m\u001B[32m*\u001B[0m\u001B[32m*\u001B[0m\u001B[32m*\u001B[0m\u001B[32m*\u001B[0m\u001B[32m*\u001B[0m\u001B[32m*\u001B[0m\u001B[32m*\u001B[0m\u001B[32m*\u001B[0m\u001B[32m*\u001B[0m\u001B[32m*\u001B[0m\u001B[32m*\u001B[0m\u001B[32m*\u001B[0m\u001B[32m*\u001B[0m\u001B[32m*\u001B[0m\u001B[32m*\u001B[0m\u001B[32m*\u001B[0m\n",
      "\u001B[34m** Zadanie 5 **********************************************************************************\u001B[0m\n"
     ]
    },
    {
     "data": {
      "text/plain": [
       "<IPython.core.display.Markdown object>"
      ],
      "text/markdown": "Dla jakich rzeczywistych wartości parametru *x* wyznacznik macierzy *A* jest różny od zera?"
     },
     "metadata": {},
     "output_type": "display_data"
    },
    {
     "data": {
      "text/plain": [
       "<IPython.core.display.Latex object>"
      ],
      "text/latex": "\n\t\\[\n\t\t\\textnormal{A=}\n\t\t\\left[\\begin{matrix}x - 1 & 3 & -2 & 0\\\\-1 & 3 & x - 4 & x - 3\\\\1 & 3 & -2 & 0\\\\-3 & x - 2 & 2 & x - 1\\end{matrix}\\right]\n\t\\]"
     },
     "metadata": {},
     "output_type": "display_data"
    },
    {
     "name": "stdout",
     "output_type": "stream",
     "text": [
      "\u001B[34m*\u001B[0m\u001B[34m*\u001B[0m\u001B[34m*\u001B[0m\u001B[34m*\u001B[0m\u001B[34m*\u001B[0m\u001B[34m*\u001B[0m\u001B[34m*\u001B[0m\u001B[34m*\u001B[0m\u001B[34m*\u001B[0m\u001B[34m*\u001B[0m\u001B[34m*\u001B[0m\u001B[34m*\u001B[0m\u001B[34m*\u001B[0m\u001B[34m*\u001B[0m\u001B[34m*\u001B[0m\u001B[34m*\u001B[0m\u001B[34m*\u001B[0m\u001B[34m*\u001B[0m\u001B[34m*\u001B[0m\u001B[34m*\u001B[0m\u001B[34m*\u001B[0m\u001B[34m*\u001B[0m\u001B[34m*\u001B[0m\u001B[34m*\u001B[0m\u001B[34m*\u001B[0m\u001B[34m*\u001B[0m\u001B[34m*\u001B[0m\u001B[34m*\u001B[0m\u001B[34m*\u001B[0m\u001B[34m*\u001B[0m\u001B[34m*\u001B[0m\u001B[34m*\u001B[0m\u001B[34m*\u001B[0m\u001B[34m*\u001B[0m\u001B[34m*\u001B[0m\u001B[34m*\u001B[0m\u001B[34m*\u001B[0m\u001B[34m*\u001B[0m\u001B[34m*\u001B[0m\u001B[34m*\u001B[0m\u001B[34m*\u001B[0m\u001B[34m*\u001B[0m\u001B[34m*\u001B[0m\u001B[34m*\u001B[0m\u001B[34m*\u001B[0m\u001B[34m*\u001B[0m\u001B[34m*\u001B[0m\u001B[34m*\u001B[0m\u001B[34m*\u001B[0m\u001B[34m*\u001B[0m\u001B[34m*\u001B[0m\u001B[34m*\u001B[0m\u001B[34m*\u001B[0m\u001B[34m*\u001B[0m\u001B[34m*\u001B[0m\u001B[34m*\u001B[0m\u001B[34m*\u001B[0m\u001B[34m*\u001B[0m\u001B[34m*\u001B[0m\u001B[34m*\u001B[0m\u001B[34m*\u001B[0m\u001B[34m*\u001B[0m\u001B[34m*\u001B[0m\u001B[34m*\u001B[0m\u001B[34m*\u001B[0m\u001B[34m*\u001B[0m\u001B[34m*\u001B[0m\u001B[34m*\u001B[0m\u001B[34m*\u001B[0m\u001B[34m*\u001B[0m\u001B[34m*\u001B[0m\u001B[34m*\u001B[0m\u001B[34m*\u001B[0m\u001B[34m*\u001B[0m\u001B[34m*\u001B[0m\u001B[34m*\u001B[0m\u001B[34m*\u001B[0m\u001B[34m*\u001B[0m\u001B[34m*\u001B[0m\u001B[34m*\u001B[0m\u001B[34m*\u001B[0m\u001B[34m*\u001B[0m\u001B[34m*\u001B[0m\u001B[34m*\u001B[0m\u001B[34m*\u001B[0m\u001B[34m*\u001B[0m\u001B[34m*\u001B[0m\u001B[34m*\u001B[0m\u001B[34m*\u001B[0m\u001B[34m*\u001B[0m\u001B[34m*\u001B[0m\u001B[34m*\u001B[0m\u001B[34m*\u001B[0m\u001B[34m*\u001B[0m\u001B[34m*\u001B[0m\n",
      "\u001B[32m** Rozwiązanie ********************************************************************************\u001B[0m\n"
     ]
    },
    {
     "data": {
      "text/plain": [
       "<IPython.core.display.Latex object>"
      ],
      "text/latex": "$$\\det A=- x^{3} + 7 x^{2} - 22 x + 24 \\neq 0, \\quad x\\neq 2, \\ $$"
     },
     "metadata": {},
     "output_type": "display_data"
    },
    {
     "name": "stdout",
     "output_type": "stream",
     "text": [
      "\u001B[32m*\u001B[0m\u001B[32m*\u001B[0m\u001B[32m*\u001B[0m\u001B[32m*\u001B[0m\u001B[32m*\u001B[0m\u001B[32m*\u001B[0m\u001B[32m*\u001B[0m\u001B[32m*\u001B[0m\u001B[32m*\u001B[0m\u001B[32m*\u001B[0m\u001B[32m*\u001B[0m\u001B[32m*\u001B[0m\u001B[32m*\u001B[0m\u001B[32m*\u001B[0m\u001B[32m*\u001B[0m\u001B[32m*\u001B[0m\u001B[32m*\u001B[0m\u001B[32m*\u001B[0m\u001B[32m*\u001B[0m\u001B[32m*\u001B[0m\u001B[32m*\u001B[0m\u001B[32m*\u001B[0m\u001B[32m*\u001B[0m\u001B[32m*\u001B[0m\u001B[32m*\u001B[0m\u001B[32m*\u001B[0m\u001B[32m*\u001B[0m\u001B[32m*\u001B[0m\u001B[32m*\u001B[0m\u001B[32m*\u001B[0m\u001B[32m*\u001B[0m\u001B[32m*\u001B[0m\u001B[32m*\u001B[0m\u001B[32m*\u001B[0m\u001B[32m*\u001B[0m\u001B[32m*\u001B[0m\u001B[32m*\u001B[0m\u001B[32m*\u001B[0m\u001B[32m*\u001B[0m\u001B[32m*\u001B[0m\u001B[32m*\u001B[0m\u001B[32m*\u001B[0m\u001B[32m*\u001B[0m\u001B[32m*\u001B[0m\u001B[32m*\u001B[0m\u001B[32m*\u001B[0m\u001B[32m*\u001B[0m\u001B[32m*\u001B[0m\u001B[32m*\u001B[0m\u001B[32m*\u001B[0m\u001B[32m*\u001B[0m\u001B[32m*\u001B[0m\u001B[32m*\u001B[0m\u001B[32m*\u001B[0m\u001B[32m*\u001B[0m\u001B[32m*\u001B[0m\u001B[32m*\u001B[0m\u001B[32m*\u001B[0m\u001B[32m*\u001B[0m\u001B[32m*\u001B[0m\u001B[32m*\u001B[0m\u001B[32m*\u001B[0m\u001B[32m*\u001B[0m\u001B[32m*\u001B[0m\u001B[32m*\u001B[0m\u001B[32m*\u001B[0m\u001B[32m*\u001B[0m\u001B[32m*\u001B[0m\u001B[32m*\u001B[0m\u001B[32m*\u001B[0m\u001B[32m*\u001B[0m\u001B[32m*\u001B[0m\u001B[32m*\u001B[0m\u001B[32m*\u001B[0m\u001B[32m*\u001B[0m\u001B[32m*\u001B[0m\u001B[32m*\u001B[0m\u001B[32m*\u001B[0m\u001B[32m*\u001B[0m\u001B[32m*\u001B[0m\u001B[32m*\u001B[0m\u001B[32m*\u001B[0m\u001B[32m*\u001B[0m\u001B[32m*\u001B[0m\u001B[32m*\u001B[0m\u001B[32m*\u001B[0m\u001B[32m*\u001B[0m\u001B[32m*\u001B[0m\u001B[32m*\u001B[0m\u001B[32m*\u001B[0m\u001B[32m*\u001B[0m\u001B[32m*\u001B[0m\u001B[32m*\u001B[0m\u001B[32m*\u001B[0m\u001B[32m*\u001B[0m\n",
      "\u001B[34m** Zadanie 6 **********************************************************************************\u001B[0m\n"
     ]
    },
    {
     "data": {
      "text/plain": [
       "<IPython.core.display.Markdown object>"
      ],
      "text/markdown": "Dla jakich rzeczywistych wartości parametru *x* wyznacznik macierzy *A* jest różny od zera?"
     },
     "metadata": {},
     "output_type": "display_data"
    },
    {
     "data": {
      "text/plain": [
       "<IPython.core.display.Latex object>"
      ],
      "text/latex": "\n\t\\[\n\t\t\\textnormal{A=}\n\t\t\\left[\\begin{matrix}-1 & x - 2\\\\x + 1 & x + 2\\end{matrix}\\right]\n\t\\]"
     },
     "metadata": {},
     "output_type": "display_data"
    },
    {
     "name": "stdout",
     "output_type": "stream",
     "text": [
      "\u001B[34m*\u001B[0m\u001B[34m*\u001B[0m\u001B[34m*\u001B[0m\u001B[34m*\u001B[0m\u001B[34m*\u001B[0m\u001B[34m*\u001B[0m\u001B[34m*\u001B[0m\u001B[34m*\u001B[0m\u001B[34m*\u001B[0m\u001B[34m*\u001B[0m\u001B[34m*\u001B[0m\u001B[34m*\u001B[0m\u001B[34m*\u001B[0m\u001B[34m*\u001B[0m\u001B[34m*\u001B[0m\u001B[34m*\u001B[0m\u001B[34m*\u001B[0m\u001B[34m*\u001B[0m\u001B[34m*\u001B[0m\u001B[34m*\u001B[0m\u001B[34m*\u001B[0m\u001B[34m*\u001B[0m\u001B[34m*\u001B[0m\u001B[34m*\u001B[0m\u001B[34m*\u001B[0m\u001B[34m*\u001B[0m\u001B[34m*\u001B[0m\u001B[34m*\u001B[0m\u001B[34m*\u001B[0m\u001B[34m*\u001B[0m\u001B[34m*\u001B[0m\u001B[34m*\u001B[0m\u001B[34m*\u001B[0m\u001B[34m*\u001B[0m\u001B[34m*\u001B[0m\u001B[34m*\u001B[0m\u001B[34m*\u001B[0m\u001B[34m*\u001B[0m\u001B[34m*\u001B[0m\u001B[34m*\u001B[0m\u001B[34m*\u001B[0m\u001B[34m*\u001B[0m\u001B[34m*\u001B[0m\u001B[34m*\u001B[0m\u001B[34m*\u001B[0m\u001B[34m*\u001B[0m\u001B[34m*\u001B[0m\u001B[34m*\u001B[0m\u001B[34m*\u001B[0m\u001B[34m*\u001B[0m\u001B[34m*\u001B[0m\u001B[34m*\u001B[0m\u001B[34m*\u001B[0m\u001B[34m*\u001B[0m\u001B[34m*\u001B[0m\u001B[34m*\u001B[0m\u001B[34m*\u001B[0m\u001B[34m*\u001B[0m\u001B[34m*\u001B[0m\u001B[34m*\u001B[0m\u001B[34m*\u001B[0m\u001B[34m*\u001B[0m\u001B[34m*\u001B[0m\u001B[34m*\u001B[0m\u001B[34m*\u001B[0m\u001B[34m*\u001B[0m\u001B[34m*\u001B[0m\u001B[34m*\u001B[0m\u001B[34m*\u001B[0m\u001B[34m*\u001B[0m\u001B[34m*\u001B[0m\u001B[34m*\u001B[0m\u001B[34m*\u001B[0m\u001B[34m*\u001B[0m\u001B[34m*\u001B[0m\u001B[34m*\u001B[0m\u001B[34m*\u001B[0m\u001B[34m*\u001B[0m\u001B[34m*\u001B[0m\u001B[34m*\u001B[0m\u001B[34m*\u001B[0m\u001B[34m*\u001B[0m\u001B[34m*\u001B[0m\u001B[34m*\u001B[0m\u001B[34m*\u001B[0m\u001B[34m*\u001B[0m\u001B[34m*\u001B[0m\u001B[34m*\u001B[0m\u001B[34m*\u001B[0m\u001B[34m*\u001B[0m\u001B[34m*\u001B[0m\u001B[34m*\u001B[0m\u001B[34m*\u001B[0m\u001B[34m*\u001B[0m\u001B[34m*\u001B[0m\n",
      "\u001B[32m** Rozwiązanie ********************************************************************************\u001B[0m\n"
     ]
    },
    {
     "data": {
      "text/plain": [
       "<IPython.core.display.Latex object>"
      ],
      "text/latex": "$$\\det A=- x^{2} \\neq 0, \\quad x\\neq 0, \\ $$"
     },
     "metadata": {},
     "output_type": "display_data"
    },
    {
     "name": "stdout",
     "output_type": "stream",
     "text": [
      "\u001B[32m*\u001B[0m\u001B[32m*\u001B[0m\u001B[32m*\u001B[0m\u001B[32m*\u001B[0m\u001B[32m*\u001B[0m\u001B[32m*\u001B[0m\u001B[32m*\u001B[0m\u001B[32m*\u001B[0m\u001B[32m*\u001B[0m\u001B[32m*\u001B[0m\u001B[32m*\u001B[0m\u001B[32m*\u001B[0m\u001B[32m*\u001B[0m\u001B[32m*\u001B[0m\u001B[32m*\u001B[0m\u001B[32m*\u001B[0m\u001B[32m*\u001B[0m\u001B[32m*\u001B[0m\u001B[32m*\u001B[0m\u001B[32m*\u001B[0m\u001B[32m*\u001B[0m\u001B[32m*\u001B[0m\u001B[32m*\u001B[0m\u001B[32m*\u001B[0m\u001B[32m*\u001B[0m\u001B[32m*\u001B[0m\u001B[32m*\u001B[0m\u001B[32m*\u001B[0m\u001B[32m*\u001B[0m\u001B[32m*\u001B[0m\u001B[32m*\u001B[0m\u001B[32m*\u001B[0m\u001B[32m*\u001B[0m\u001B[32m*\u001B[0m\u001B[32m*\u001B[0m\u001B[32m*\u001B[0m\u001B[32m*\u001B[0m\u001B[32m*\u001B[0m\u001B[32m*\u001B[0m\u001B[32m*\u001B[0m\u001B[32m*\u001B[0m\u001B[32m*\u001B[0m\u001B[32m*\u001B[0m\u001B[32m*\u001B[0m\u001B[32m*\u001B[0m\u001B[32m*\u001B[0m\u001B[32m*\u001B[0m\u001B[32m*\u001B[0m\u001B[32m*\u001B[0m\u001B[32m*\u001B[0m\u001B[32m*\u001B[0m\u001B[32m*\u001B[0m\u001B[32m*\u001B[0m\u001B[32m*\u001B[0m\u001B[32m*\u001B[0m\u001B[32m*\u001B[0m\u001B[32m*\u001B[0m\u001B[32m*\u001B[0m\u001B[32m*\u001B[0m\u001B[32m*\u001B[0m\u001B[32m*\u001B[0m\u001B[32m*\u001B[0m\u001B[32m*\u001B[0m\u001B[32m*\u001B[0m\u001B[32m*\u001B[0m\u001B[32m*\u001B[0m\u001B[32m*\u001B[0m\u001B[32m*\u001B[0m\u001B[32m*\u001B[0m\u001B[32m*\u001B[0m\u001B[32m*\u001B[0m\u001B[32m*\u001B[0m\u001B[32m*\u001B[0m\u001B[32m*\u001B[0m\u001B[32m*\u001B[0m\u001B[32m*\u001B[0m\u001B[32m*\u001B[0m\u001B[32m*\u001B[0m\u001B[32m*\u001B[0m\u001B[32m*\u001B[0m\u001B[32m*\u001B[0m\u001B[32m*\u001B[0m\u001B[32m*\u001B[0m\u001B[32m*\u001B[0m\u001B[32m*\u001B[0m\u001B[32m*\u001B[0m\u001B[32m*\u001B[0m\u001B[32m*\u001B[0m\u001B[32m*\u001B[0m\u001B[32m*\u001B[0m\u001B[32m*\u001B[0m\u001B[32m*\u001B[0m\u001B[32m*\u001B[0m\u001B[32m*\u001B[0m\u001B[32m*\u001B[0m\n",
      "\u001B[34m** Zadanie 7 **********************************************************************************\u001B[0m\n"
     ]
    },
    {
     "data": {
      "text/plain": [
       "<IPython.core.display.Markdown object>"
      ],
      "text/markdown": "Dla jakich rzeczywistych wartości parametru *x* wyznacznik macierzy *A* jest różny od zera?"
     },
     "metadata": {},
     "output_type": "display_data"
    },
    {
     "data": {
      "text/plain": [
       "<IPython.core.display.Latex object>"
      ],
      "text/latex": "\n\t\\[\n\t\t\\textnormal{A=}\n\t\t\\left[\\begin{matrix}0 & 1 & -2\\\\-3 & 1 & 2 x - 1\\\\x - 3 & -4 & x + 1\\end{matrix}\\right]\n\t\\]"
     },
     "metadata": {},
     "output_type": "display_data"
    },
    {
     "name": "stdout",
     "output_type": "stream",
     "text": [
      "\u001B[34m*\u001B[0m\u001B[34m*\u001B[0m\u001B[34m*\u001B[0m\u001B[34m*\u001B[0m\u001B[34m*\u001B[0m\u001B[34m*\u001B[0m\u001B[34m*\u001B[0m\u001B[34m*\u001B[0m\u001B[34m*\u001B[0m\u001B[34m*\u001B[0m\u001B[34m*\u001B[0m\u001B[34m*\u001B[0m\u001B[34m*\u001B[0m\u001B[34m*\u001B[0m\u001B[34m*\u001B[0m\u001B[34m*\u001B[0m\u001B[34m*\u001B[0m\u001B[34m*\u001B[0m\u001B[34m*\u001B[0m\u001B[34m*\u001B[0m\u001B[34m*\u001B[0m\u001B[34m*\u001B[0m\u001B[34m*\u001B[0m\u001B[34m*\u001B[0m\u001B[34m*\u001B[0m\u001B[34m*\u001B[0m\u001B[34m*\u001B[0m\u001B[34m*\u001B[0m\u001B[34m*\u001B[0m\u001B[34m*\u001B[0m\u001B[34m*\u001B[0m\u001B[34m*\u001B[0m\u001B[34m*\u001B[0m\u001B[34m*\u001B[0m\u001B[34m*\u001B[0m\u001B[34m*\u001B[0m\u001B[34m*\u001B[0m\u001B[34m*\u001B[0m\u001B[34m*\u001B[0m\u001B[34m*\u001B[0m\u001B[34m*\u001B[0m\u001B[34m*\u001B[0m\u001B[34m*\u001B[0m\u001B[34m*\u001B[0m\u001B[34m*\u001B[0m\u001B[34m*\u001B[0m\u001B[34m*\u001B[0m\u001B[34m*\u001B[0m\u001B[34m*\u001B[0m\u001B[34m*\u001B[0m\u001B[34m*\u001B[0m\u001B[34m*\u001B[0m\u001B[34m*\u001B[0m\u001B[34m*\u001B[0m\u001B[34m*\u001B[0m\u001B[34m*\u001B[0m\u001B[34m*\u001B[0m\u001B[34m*\u001B[0m\u001B[34m*\u001B[0m\u001B[34m*\u001B[0m\u001B[34m*\u001B[0m\u001B[34m*\u001B[0m\u001B[34m*\u001B[0m\u001B[34m*\u001B[0m\u001B[34m*\u001B[0m\u001B[34m*\u001B[0m\u001B[34m*\u001B[0m\u001B[34m*\u001B[0m\u001B[34m*\u001B[0m\u001B[34m*\u001B[0m\u001B[34m*\u001B[0m\u001B[34m*\u001B[0m\u001B[34m*\u001B[0m\u001B[34m*\u001B[0m\u001B[34m*\u001B[0m\u001B[34m*\u001B[0m\u001B[34m*\u001B[0m\u001B[34m*\u001B[0m\u001B[34m*\u001B[0m\u001B[34m*\u001B[0m\u001B[34m*\u001B[0m\u001B[34m*\u001B[0m\u001B[34m*\u001B[0m\u001B[34m*\u001B[0m\u001B[34m*\u001B[0m\u001B[34m*\u001B[0m\u001B[34m*\u001B[0m\u001B[34m*\u001B[0m\u001B[34m*\u001B[0m\u001B[34m*\u001B[0m\u001B[34m*\u001B[0m\u001B[34m*\u001B[0m\u001B[34m*\u001B[0m\u001B[34m*\u001B[0m\u001B[34m*\u001B[0m\n",
      "\u001B[32m** Rozwiązanie ********************************************************************************\u001B[0m\n"
     ]
    },
    {
     "data": {
      "text/plain": [
       "<IPython.core.display.Latex object>"
      ],
      "text/latex": "$$\\det A=2 x^{2} - 2 x - 24 \\neq 0, \\quad x\\neq -3, \\ x\\neq 4, \\ $$"
     },
     "metadata": {},
     "output_type": "display_data"
    },
    {
     "name": "stdout",
     "output_type": "stream",
     "text": [
      "\u001B[32m*\u001B[0m\u001B[32m*\u001B[0m\u001B[32m*\u001B[0m\u001B[32m*\u001B[0m\u001B[32m*\u001B[0m\u001B[32m*\u001B[0m\u001B[32m*\u001B[0m\u001B[32m*\u001B[0m\u001B[32m*\u001B[0m\u001B[32m*\u001B[0m\u001B[32m*\u001B[0m\u001B[32m*\u001B[0m\u001B[32m*\u001B[0m\u001B[32m*\u001B[0m\u001B[32m*\u001B[0m\u001B[32m*\u001B[0m\u001B[32m*\u001B[0m\u001B[32m*\u001B[0m\u001B[32m*\u001B[0m\u001B[32m*\u001B[0m\u001B[32m*\u001B[0m\u001B[32m*\u001B[0m\u001B[32m*\u001B[0m\u001B[32m*\u001B[0m\u001B[32m*\u001B[0m\u001B[32m*\u001B[0m\u001B[32m*\u001B[0m\u001B[32m*\u001B[0m\u001B[32m*\u001B[0m\u001B[32m*\u001B[0m\u001B[32m*\u001B[0m\u001B[32m*\u001B[0m\u001B[32m*\u001B[0m\u001B[32m*\u001B[0m\u001B[32m*\u001B[0m\u001B[32m*\u001B[0m\u001B[32m*\u001B[0m\u001B[32m*\u001B[0m\u001B[32m*\u001B[0m\u001B[32m*\u001B[0m\u001B[32m*\u001B[0m\u001B[32m*\u001B[0m\u001B[32m*\u001B[0m\u001B[32m*\u001B[0m\u001B[32m*\u001B[0m\u001B[32m*\u001B[0m\u001B[32m*\u001B[0m\u001B[32m*\u001B[0m\u001B[32m*\u001B[0m\u001B[32m*\u001B[0m\u001B[32m*\u001B[0m\u001B[32m*\u001B[0m\u001B[32m*\u001B[0m\u001B[32m*\u001B[0m\u001B[32m*\u001B[0m\u001B[32m*\u001B[0m\u001B[32m*\u001B[0m\u001B[32m*\u001B[0m\u001B[32m*\u001B[0m\u001B[32m*\u001B[0m\u001B[32m*\u001B[0m\u001B[32m*\u001B[0m\u001B[32m*\u001B[0m\u001B[32m*\u001B[0m\u001B[32m*\u001B[0m\u001B[32m*\u001B[0m\u001B[32m*\u001B[0m\u001B[32m*\u001B[0m\u001B[32m*\u001B[0m\u001B[32m*\u001B[0m\u001B[32m*\u001B[0m\u001B[32m*\u001B[0m\u001B[32m*\u001B[0m\u001B[32m*\u001B[0m\u001B[32m*\u001B[0m\u001B[32m*\u001B[0m\u001B[32m*\u001B[0m\u001B[32m*\u001B[0m\u001B[32m*\u001B[0m\u001B[32m*\u001B[0m\u001B[32m*\u001B[0m\u001B[32m*\u001B[0m\u001B[32m*\u001B[0m\u001B[32m*\u001B[0m\u001B[32m*\u001B[0m\u001B[32m*\u001B[0m\u001B[32m*\u001B[0m\u001B[32m*\u001B[0m\u001B[32m*\u001B[0m\u001B[32m*\u001B[0m\u001B[32m*\u001B[0m\u001B[32m*\u001B[0m\u001B[32m*\u001B[0m\u001B[32m*\u001B[0m\u001B[32m*\u001B[0m\n",
      "\u001B[34m** Zadanie 8 **********************************************************************************\u001B[0m\n"
     ]
    },
    {
     "data": {
      "text/plain": [
       "<IPython.core.display.Markdown object>"
      ],
      "text/markdown": "Dla jakich rzeczywistych wartości parametru *x* wyznacznik macierzy *A* jest różny od zera?"
     },
     "metadata": {},
     "output_type": "display_data"
    },
    {
     "data": {
      "text/plain": [
       "<IPython.core.display.Latex object>"
      ],
      "text/latex": "\n\t\\[\n\t\t\\textnormal{A=}\n\t\t\\left[\\begin{matrix}x - 4 & -1 & -4\\\\x - 1 & -1 & x - 4\\\\-1 & 1 & x - 1\\end{matrix}\\right]\n\t\\]"
     },
     "metadata": {},
     "output_type": "display_data"
    },
    {
     "name": "stdout",
     "output_type": "stream",
     "text": [
      "\u001B[34m*\u001B[0m\u001B[34m*\u001B[0m\u001B[34m*\u001B[0m\u001B[34m*\u001B[0m\u001B[34m*\u001B[0m\u001B[34m*\u001B[0m\u001B[34m*\u001B[0m\u001B[34m*\u001B[0m\u001B[34m*\u001B[0m\u001B[34m*\u001B[0m\u001B[34m*\u001B[0m\u001B[34m*\u001B[0m\u001B[34m*\u001B[0m\u001B[34m*\u001B[0m\u001B[34m*\u001B[0m\u001B[34m*\u001B[0m\u001B[34m*\u001B[0m\u001B[34m*\u001B[0m\u001B[34m*\u001B[0m\u001B[34m*\u001B[0m\u001B[34m*\u001B[0m\u001B[34m*\u001B[0m\u001B[34m*\u001B[0m\u001B[34m*\u001B[0m\u001B[34m*\u001B[0m\u001B[34m*\u001B[0m\u001B[34m*\u001B[0m\u001B[34m*\u001B[0m\u001B[34m*\u001B[0m\u001B[34m*\u001B[0m\u001B[34m*\u001B[0m\u001B[34m*\u001B[0m\u001B[34m*\u001B[0m\u001B[34m*\u001B[0m\u001B[34m*\u001B[0m\u001B[34m*\u001B[0m\u001B[34m*\u001B[0m\u001B[34m*\u001B[0m\u001B[34m*\u001B[0m\u001B[34m*\u001B[0m\u001B[34m*\u001B[0m\u001B[34m*\u001B[0m\u001B[34m*\u001B[0m\u001B[34m*\u001B[0m\u001B[34m*\u001B[0m\u001B[34m*\u001B[0m\u001B[34m*\u001B[0m\u001B[34m*\u001B[0m\u001B[34m*\u001B[0m\u001B[34m*\u001B[0m\u001B[34m*\u001B[0m\u001B[34m*\u001B[0m\u001B[34m*\u001B[0m\u001B[34m*\u001B[0m\u001B[34m*\u001B[0m\u001B[34m*\u001B[0m\u001B[34m*\u001B[0m\u001B[34m*\u001B[0m\u001B[34m*\u001B[0m\u001B[34m*\u001B[0m\u001B[34m*\u001B[0m\u001B[34m*\u001B[0m\u001B[34m*\u001B[0m\u001B[34m*\u001B[0m\u001B[34m*\u001B[0m\u001B[34m*\u001B[0m\u001B[34m*\u001B[0m\u001B[34m*\u001B[0m\u001B[34m*\u001B[0m\u001B[34m*\u001B[0m\u001B[34m*\u001B[0m\u001B[34m*\u001B[0m\u001B[34m*\u001B[0m\u001B[34m*\u001B[0m\u001B[34m*\u001B[0m\u001B[34m*\u001B[0m\u001B[34m*\u001B[0m\u001B[34m*\u001B[0m\u001B[34m*\u001B[0m\u001B[34m*\u001B[0m\u001B[34m*\u001B[0m\u001B[34m*\u001B[0m\u001B[34m*\u001B[0m\u001B[34m*\u001B[0m\u001B[34m*\u001B[0m\u001B[34m*\u001B[0m\u001B[34m*\u001B[0m\u001B[34m*\u001B[0m\u001B[34m*\u001B[0m\u001B[34m*\u001B[0m\u001B[34m*\u001B[0m\u001B[34m*\u001B[0m\u001B[34m*\u001B[0m\u001B[34m*\u001B[0m\u001B[34m*\u001B[0m\n",
      "\u001B[32m** Rozwiązanie ********************************************************************************\u001B[0m\n"
     ]
    },
    {
     "data": {
      "text/plain": [
       "<IPython.core.display.Latex object>"
      ],
      "text/latex": "$$\\det A=- x^{2} + 8 x - 15 \\neq 0, \\quad x\\neq 3, \\ x\\neq 5, \\ $$"
     },
     "metadata": {},
     "output_type": "display_data"
    },
    {
     "name": "stdout",
     "output_type": "stream",
     "text": [
      "\u001B[32m*\u001B[0m\u001B[32m*\u001B[0m\u001B[32m*\u001B[0m\u001B[32m*\u001B[0m\u001B[32m*\u001B[0m\u001B[32m*\u001B[0m\u001B[32m*\u001B[0m\u001B[32m*\u001B[0m\u001B[32m*\u001B[0m\u001B[32m*\u001B[0m\u001B[32m*\u001B[0m\u001B[32m*\u001B[0m\u001B[32m*\u001B[0m\u001B[32m*\u001B[0m\u001B[32m*\u001B[0m\u001B[32m*\u001B[0m\u001B[32m*\u001B[0m\u001B[32m*\u001B[0m\u001B[32m*\u001B[0m\u001B[32m*\u001B[0m\u001B[32m*\u001B[0m\u001B[32m*\u001B[0m\u001B[32m*\u001B[0m\u001B[32m*\u001B[0m\u001B[32m*\u001B[0m\u001B[32m*\u001B[0m\u001B[32m*\u001B[0m\u001B[32m*\u001B[0m\u001B[32m*\u001B[0m\u001B[32m*\u001B[0m\u001B[32m*\u001B[0m\u001B[32m*\u001B[0m\u001B[32m*\u001B[0m\u001B[32m*\u001B[0m\u001B[32m*\u001B[0m\u001B[32m*\u001B[0m\u001B[32m*\u001B[0m\u001B[32m*\u001B[0m\u001B[32m*\u001B[0m\u001B[32m*\u001B[0m\u001B[32m*\u001B[0m\u001B[32m*\u001B[0m\u001B[32m*\u001B[0m\u001B[32m*\u001B[0m\u001B[32m*\u001B[0m\u001B[32m*\u001B[0m\u001B[32m*\u001B[0m\u001B[32m*\u001B[0m\u001B[32m*\u001B[0m\u001B[32m*\u001B[0m\u001B[32m*\u001B[0m\u001B[32m*\u001B[0m\u001B[32m*\u001B[0m\u001B[32m*\u001B[0m\u001B[32m*\u001B[0m\u001B[32m*\u001B[0m\u001B[32m*\u001B[0m\u001B[32m*\u001B[0m\u001B[32m*\u001B[0m\u001B[32m*\u001B[0m\u001B[32m*\u001B[0m\u001B[32m*\u001B[0m\u001B[32m*\u001B[0m\u001B[32m*\u001B[0m\u001B[32m*\u001B[0m\u001B[32m*\u001B[0m\u001B[32m*\u001B[0m\u001B[32m*\u001B[0m\u001B[32m*\u001B[0m\u001B[32m*\u001B[0m\u001B[32m*\u001B[0m\u001B[32m*\u001B[0m\u001B[32m*\u001B[0m\u001B[32m*\u001B[0m\u001B[32m*\u001B[0m\u001B[32m*\u001B[0m\u001B[32m*\u001B[0m\u001B[32m*\u001B[0m\u001B[32m*\u001B[0m\u001B[32m*\u001B[0m\u001B[32m*\u001B[0m\u001B[32m*\u001B[0m\u001B[32m*\u001B[0m\u001B[32m*\u001B[0m\u001B[32m*\u001B[0m\u001B[32m*\u001B[0m\u001B[32m*\u001B[0m\u001B[32m*\u001B[0m\u001B[32m*\u001B[0m\u001B[32m*\u001B[0m\u001B[32m*\u001B[0m\u001B[32m*\u001B[0m\u001B[32m*\u001B[0m\u001B[32m*\u001B[0m\u001B[32m*\u001B[0m\n",
      "\u001B[34m** Zadanie 9 **********************************************************************************\u001B[0m\n"
     ]
    },
    {
     "data": {
      "text/plain": [
       "<IPython.core.display.Markdown object>"
      ],
      "text/markdown": "Dla jakich rzeczywistych wartości parametru *x* wyznacznik macierzy *A* jest różny od zera?"
     },
     "metadata": {},
     "output_type": "display_data"
    },
    {
     "data": {
      "text/plain": [
       "<IPython.core.display.Latex object>"
      ],
      "text/latex": "\n\t\\[\n\t\t\\textnormal{A=}\n\t\t\\left[\\begin{matrix}x - 2 & 2 & -2\\\\0 & x - 1 & x - 1\\\\x - 4 & 3 & -2\\end{matrix}\\right]\n\t\\]"
     },
     "metadata": {},
     "output_type": "display_data"
    },
    {
     "name": "stdout",
     "output_type": "stream",
     "text": [
      "\u001B[34m*\u001B[0m\u001B[34m*\u001B[0m\u001B[34m*\u001B[0m\u001B[34m*\u001B[0m\u001B[34m*\u001B[0m\u001B[34m*\u001B[0m\u001B[34m*\u001B[0m\u001B[34m*\u001B[0m\u001B[34m*\u001B[0m\u001B[34m*\u001B[0m\u001B[34m*\u001B[0m\u001B[34m*\u001B[0m\u001B[34m*\u001B[0m\u001B[34m*\u001B[0m\u001B[34m*\u001B[0m\u001B[34m*\u001B[0m\u001B[34m*\u001B[0m\u001B[34m*\u001B[0m\u001B[34m*\u001B[0m\u001B[34m*\u001B[0m\u001B[34m*\u001B[0m\u001B[34m*\u001B[0m\u001B[34m*\u001B[0m\u001B[34m*\u001B[0m\u001B[34m*\u001B[0m\u001B[34m*\u001B[0m\u001B[34m*\u001B[0m\u001B[34m*\u001B[0m\u001B[34m*\u001B[0m\u001B[34m*\u001B[0m\u001B[34m*\u001B[0m\u001B[34m*\u001B[0m\u001B[34m*\u001B[0m\u001B[34m*\u001B[0m\u001B[34m*\u001B[0m\u001B[34m*\u001B[0m\u001B[34m*\u001B[0m\u001B[34m*\u001B[0m\u001B[34m*\u001B[0m\u001B[34m*\u001B[0m\u001B[34m*\u001B[0m\u001B[34m*\u001B[0m\u001B[34m*\u001B[0m\u001B[34m*\u001B[0m\u001B[34m*\u001B[0m\u001B[34m*\u001B[0m\u001B[34m*\u001B[0m\u001B[34m*\u001B[0m\u001B[34m*\u001B[0m\u001B[34m*\u001B[0m\u001B[34m*\u001B[0m\u001B[34m*\u001B[0m\u001B[34m*\u001B[0m\u001B[34m*\u001B[0m\u001B[34m*\u001B[0m\u001B[34m*\u001B[0m\u001B[34m*\u001B[0m\u001B[34m*\u001B[0m\u001B[34m*\u001B[0m\u001B[34m*\u001B[0m\u001B[34m*\u001B[0m\u001B[34m*\u001B[0m\u001B[34m*\u001B[0m\u001B[34m*\u001B[0m\u001B[34m*\u001B[0m\u001B[34m*\u001B[0m\u001B[34m*\u001B[0m\u001B[34m*\u001B[0m\u001B[34m*\u001B[0m\u001B[34m*\u001B[0m\u001B[34m*\u001B[0m\u001B[34m*\u001B[0m\u001B[34m*\u001B[0m\u001B[34m*\u001B[0m\u001B[34m*\u001B[0m\u001B[34m*\u001B[0m\u001B[34m*\u001B[0m\u001B[34m*\u001B[0m\u001B[34m*\u001B[0m\u001B[34m*\u001B[0m\u001B[34m*\u001B[0m\u001B[34m*\u001B[0m\u001B[34m*\u001B[0m\u001B[34m*\u001B[0m\u001B[34m*\u001B[0m\u001B[34m*\u001B[0m\u001B[34m*\u001B[0m\u001B[34m*\u001B[0m\u001B[34m*\u001B[0m\u001B[34m*\u001B[0m\u001B[34m*\u001B[0m\u001B[34m*\u001B[0m\u001B[34m*\u001B[0m\u001B[34m*\u001B[0m\u001B[34m*\u001B[0m\n",
      "\u001B[32m** Rozwiązanie ********************************************************************************\u001B[0m\n"
     ]
    },
    {
     "data": {
      "text/plain": [
       "<IPython.core.display.Latex object>"
      ],
      "text/latex": "$$\\det A=- x^{2} - 5 x + 6 \\neq 0, \\quad x\\neq -6, \\ x\\neq 1, \\ $$"
     },
     "metadata": {},
     "output_type": "display_data"
    },
    {
     "name": "stdout",
     "output_type": "stream",
     "text": [
      "\u001B[32m*\u001B[0m\u001B[32m*\u001B[0m\u001B[32m*\u001B[0m\u001B[32m*\u001B[0m\u001B[32m*\u001B[0m\u001B[32m*\u001B[0m\u001B[32m*\u001B[0m\u001B[32m*\u001B[0m\u001B[32m*\u001B[0m\u001B[32m*\u001B[0m\u001B[32m*\u001B[0m\u001B[32m*\u001B[0m\u001B[32m*\u001B[0m\u001B[32m*\u001B[0m\u001B[32m*\u001B[0m\u001B[32m*\u001B[0m\u001B[32m*\u001B[0m\u001B[32m*\u001B[0m\u001B[32m*\u001B[0m\u001B[32m*\u001B[0m\u001B[32m*\u001B[0m\u001B[32m*\u001B[0m\u001B[32m*\u001B[0m\u001B[32m*\u001B[0m\u001B[32m*\u001B[0m\u001B[32m*\u001B[0m\u001B[32m*\u001B[0m\u001B[32m*\u001B[0m\u001B[32m*\u001B[0m\u001B[32m*\u001B[0m\u001B[32m*\u001B[0m\u001B[32m*\u001B[0m\u001B[32m*\u001B[0m\u001B[32m*\u001B[0m\u001B[32m*\u001B[0m\u001B[32m*\u001B[0m\u001B[32m*\u001B[0m\u001B[32m*\u001B[0m\u001B[32m*\u001B[0m\u001B[32m*\u001B[0m\u001B[32m*\u001B[0m\u001B[32m*\u001B[0m\u001B[32m*\u001B[0m\u001B[32m*\u001B[0m\u001B[32m*\u001B[0m\u001B[32m*\u001B[0m\u001B[32m*\u001B[0m\u001B[32m*\u001B[0m\u001B[32m*\u001B[0m\u001B[32m*\u001B[0m\u001B[32m*\u001B[0m\u001B[32m*\u001B[0m\u001B[32m*\u001B[0m\u001B[32m*\u001B[0m\u001B[32m*\u001B[0m\u001B[32m*\u001B[0m\u001B[32m*\u001B[0m\u001B[32m*\u001B[0m\u001B[32m*\u001B[0m\u001B[32m*\u001B[0m\u001B[32m*\u001B[0m\u001B[32m*\u001B[0m\u001B[32m*\u001B[0m\u001B[32m*\u001B[0m\u001B[32m*\u001B[0m\u001B[32m*\u001B[0m\u001B[32m*\u001B[0m\u001B[32m*\u001B[0m\u001B[32m*\u001B[0m\u001B[32m*\u001B[0m\u001B[32m*\u001B[0m\u001B[32m*\u001B[0m\u001B[32m*\u001B[0m\u001B[32m*\u001B[0m\u001B[32m*\u001B[0m\u001B[32m*\u001B[0m\u001B[32m*\u001B[0m\u001B[32m*\u001B[0m\u001B[32m*\u001B[0m\u001B[32m*\u001B[0m\u001B[32m*\u001B[0m\u001B[32m*\u001B[0m\u001B[32m*\u001B[0m\u001B[32m*\u001B[0m\u001B[32m*\u001B[0m\u001B[32m*\u001B[0m\u001B[32m*\u001B[0m\u001B[32m*\u001B[0m\u001B[32m*\u001B[0m\u001B[32m*\u001B[0m\u001B[32m*\u001B[0m\u001B[32m*\u001B[0m\u001B[32m*\u001B[0m\u001B[32m*\u001B[0m\u001B[32m*\u001B[0m\n",
      "\u001B[34m** Zadanie 10 **********************************************************************************\u001B[0m\n"
     ]
    },
    {
     "data": {
      "text/plain": [
       "<IPython.core.display.Markdown object>"
      ],
      "text/markdown": "Dla jakich rzeczywistych wartości parametru *x* wyznacznik macierzy *A* jest różny od zera?"
     },
     "metadata": {},
     "output_type": "display_data"
    },
    {
     "data": {
      "text/plain": [
       "<IPython.core.display.Latex object>"
      ],
      "text/latex": "\n\t\\[\n\t\t\\textnormal{A=}\n\t\t\\left[\\begin{matrix}x + 1 & x - 1\\\\x - 2 & 2\\end{matrix}\\right]\n\t\\]"
     },
     "metadata": {},
     "output_type": "display_data"
    },
    {
     "name": "stdout",
     "output_type": "stream",
     "text": [
      "\u001B[34m*\u001B[0m\u001B[34m*\u001B[0m\u001B[34m*\u001B[0m\u001B[34m*\u001B[0m\u001B[34m*\u001B[0m\u001B[34m*\u001B[0m\u001B[34m*\u001B[0m\u001B[34m*\u001B[0m\u001B[34m*\u001B[0m\u001B[34m*\u001B[0m\u001B[34m*\u001B[0m\u001B[34m*\u001B[0m\u001B[34m*\u001B[0m\u001B[34m*\u001B[0m\u001B[34m*\u001B[0m\u001B[34m*\u001B[0m\u001B[34m*\u001B[0m\u001B[34m*\u001B[0m\u001B[34m*\u001B[0m\u001B[34m*\u001B[0m\u001B[34m*\u001B[0m\u001B[34m*\u001B[0m\u001B[34m*\u001B[0m\u001B[34m*\u001B[0m\u001B[34m*\u001B[0m\u001B[34m*\u001B[0m\u001B[34m*\u001B[0m\u001B[34m*\u001B[0m\u001B[34m*\u001B[0m\u001B[34m*\u001B[0m\u001B[34m*\u001B[0m\u001B[34m*\u001B[0m\u001B[34m*\u001B[0m\u001B[34m*\u001B[0m\u001B[34m*\u001B[0m\u001B[34m*\u001B[0m\u001B[34m*\u001B[0m\u001B[34m*\u001B[0m\u001B[34m*\u001B[0m\u001B[34m*\u001B[0m\u001B[34m*\u001B[0m\u001B[34m*\u001B[0m\u001B[34m*\u001B[0m\u001B[34m*\u001B[0m\u001B[34m*\u001B[0m\u001B[34m*\u001B[0m\u001B[34m*\u001B[0m\u001B[34m*\u001B[0m\u001B[34m*\u001B[0m\u001B[34m*\u001B[0m\u001B[34m*\u001B[0m\u001B[34m*\u001B[0m\u001B[34m*\u001B[0m\u001B[34m*\u001B[0m\u001B[34m*\u001B[0m\u001B[34m*\u001B[0m\u001B[34m*\u001B[0m\u001B[34m*\u001B[0m\u001B[34m*\u001B[0m\u001B[34m*\u001B[0m\u001B[34m*\u001B[0m\u001B[34m*\u001B[0m\u001B[34m*\u001B[0m\u001B[34m*\u001B[0m\u001B[34m*\u001B[0m\u001B[34m*\u001B[0m\u001B[34m*\u001B[0m\u001B[34m*\u001B[0m\u001B[34m*\u001B[0m\u001B[34m*\u001B[0m\u001B[34m*\u001B[0m\u001B[34m*\u001B[0m\u001B[34m*\u001B[0m\u001B[34m*\u001B[0m\u001B[34m*\u001B[0m\u001B[34m*\u001B[0m\u001B[34m*\u001B[0m\u001B[34m*\u001B[0m\u001B[34m*\u001B[0m\u001B[34m*\u001B[0m\u001B[34m*\u001B[0m\u001B[34m*\u001B[0m\u001B[34m*\u001B[0m\u001B[34m*\u001B[0m\u001B[34m*\u001B[0m\u001B[34m*\u001B[0m\u001B[34m*\u001B[0m\u001B[34m*\u001B[0m\u001B[34m*\u001B[0m\u001B[34m*\u001B[0m\u001B[34m*\u001B[0m\u001B[34m*\u001B[0m\u001B[34m*\u001B[0m\u001B[34m*\u001B[0m\u001B[34m*\u001B[0m\n",
      "\u001B[32m** Rozwiązanie ********************************************************************************\u001B[0m\n"
     ]
    },
    {
     "data": {
      "text/plain": [
       "<IPython.core.display.Latex object>"
      ],
      "text/latex": "$$\\det A=- x^{2} + 5 x \\neq 0, \\quad x\\neq 0, \\ x\\neq 5, \\ $$"
     },
     "metadata": {},
     "output_type": "display_data"
    },
    {
     "name": "stdout",
     "output_type": "stream",
     "text": [
      "\u001B[32m*\u001B[0m\u001B[32m*\u001B[0m\u001B[32m*\u001B[0m\u001B[32m*\u001B[0m\u001B[32m*\u001B[0m\u001B[32m*\u001B[0m\u001B[32m*\u001B[0m\u001B[32m*\u001B[0m\u001B[32m*\u001B[0m\u001B[32m*\u001B[0m\u001B[32m*\u001B[0m\u001B[32m*\u001B[0m\u001B[32m*\u001B[0m\u001B[32m*\u001B[0m\u001B[32m*\u001B[0m\u001B[32m*\u001B[0m\u001B[32m*\u001B[0m\u001B[32m*\u001B[0m\u001B[32m*\u001B[0m\u001B[32m*\u001B[0m\u001B[32m*\u001B[0m\u001B[32m*\u001B[0m\u001B[32m*\u001B[0m\u001B[32m*\u001B[0m\u001B[32m*\u001B[0m\u001B[32m*\u001B[0m\u001B[32m*\u001B[0m\u001B[32m*\u001B[0m\u001B[32m*\u001B[0m\u001B[32m*\u001B[0m\u001B[32m*\u001B[0m\u001B[32m*\u001B[0m\u001B[32m*\u001B[0m\u001B[32m*\u001B[0m\u001B[32m*\u001B[0m\u001B[32m*\u001B[0m\u001B[32m*\u001B[0m\u001B[32m*\u001B[0m\u001B[32m*\u001B[0m\u001B[32m*\u001B[0m\u001B[32m*\u001B[0m\u001B[32m*\u001B[0m\u001B[32m*\u001B[0m\u001B[32m*\u001B[0m\u001B[32m*\u001B[0m\u001B[32m*\u001B[0m\u001B[32m*\u001B[0m\u001B[32m*\u001B[0m\u001B[32m*\u001B[0m\u001B[32m*\u001B[0m\u001B[32m*\u001B[0m\u001B[32m*\u001B[0m\u001B[32m*\u001B[0m\u001B[32m*\u001B[0m\u001B[32m*\u001B[0m\u001B[32m*\u001B[0m\u001B[32m*\u001B[0m\u001B[32m*\u001B[0m\u001B[32m*\u001B[0m\u001B[32m*\u001B[0m\u001B[32m*\u001B[0m\u001B[32m*\u001B[0m\u001B[32m*\u001B[0m\u001B[32m*\u001B[0m\u001B[32m*\u001B[0m\u001B[32m*\u001B[0m\u001B[32m*\u001B[0m\u001B[32m*\u001B[0m\u001B[32m*\u001B[0m\u001B[32m*\u001B[0m\u001B[32m*\u001B[0m\u001B[32m*\u001B[0m\u001B[32m*\u001B[0m\u001B[32m*\u001B[0m\u001B[32m*\u001B[0m\u001B[32m*\u001B[0m\u001B[32m*\u001B[0m\u001B[32m*\u001B[0m\u001B[32m*\u001B[0m\u001B[32m*\u001B[0m\u001B[32m*\u001B[0m\u001B[32m*\u001B[0m\u001B[32m*\u001B[0m\u001B[32m*\u001B[0m\u001B[32m*\u001B[0m\u001B[32m*\u001B[0m\u001B[32m*\u001B[0m\u001B[32m*\u001B[0m\u001B[32m*\u001B[0m\u001B[32m*\u001B[0m\u001B[32m*\u001B[0m\u001B[32m*\u001B[0m\u001B[32m*\u001B[0m\u001B[32m*\u001B[0m\u001B[32m*\u001B[0m\n"
     ]
    }
   ],
   "execution_count": 9
  },
  {
   "metadata": {},
   "cell_type": "markdown",
   "source": "## Macierz odwrotna z parametrem",
   "id": "8384ca02538ae1e3"
  },
  {
   "metadata": {
    "ExecuteTime": {
     "end_time": "2024-09-12T17:27:34.965527Z",
     "start_time": "2024-09-12T17:27:33.647738Z"
    }
   },
   "cell_type": "code",
   "source": [
    "zadanie = gz.macierz_odwrotna_parametr(wymiar=choice([2, 3, 4]), gotowiec=True)\n",
    "zadanie"
   ],
   "id": "f27fac4b3c692ee7",
   "outputs": [
    {
     "data": {
      "text/plain": [
       "('Dla jakich rzeczywistych wartości parametru $x$ macierz $A$ posiada odwrotność?\\n\\t\\\\[\\n\\t\\t\\\\textnormal{A=}\\\\left[\\\\begin{matrix}-3 & 1 & x + 2\\\\\\\\x + 3 & x + 4 & x + 3\\\\\\\\3 & 0 & 3\\\\end{matrix}\\\\right]\\n\\t\\\\]\\nWyznaczyć macierz odwrotną dla $x=-2.$ Wykonać sprawdzenie.\\\\\\\\',\n",
       " '$\\\\det A=- 3 x^{2} - 27 x - 60\\\\neq 0, \\\\quad \\n\\tx\\\\neq -5\\\\ \\\\textnormal{oraz} \\\\ x\\\\neq -4,$\\\\\\\\\\n\\t$A(-2)= \\\\left[\\\\begin{matrix}-3 & 1 & 0\\\\\\\\1 & 2 & 1\\\\\\\\3 & 0 & 3\\\\end{matrix}\\\\right],\\\\ \\n\\t\\\\det A(-2)=-18,\\\\ \\n\\tA^{-1}=- \\\\frac{1}{18}\\\\left[\\\\begin{matrix}6 & -3 & 1\\\\\\\\0 & -9 & 3\\\\\\\\-6 & 3 & -7\\\\end{matrix}\\\\right].$')"
      ]
     },
     "execution_count": 10,
     "metadata": {},
     "output_type": "execute_result"
    }
   ],
   "execution_count": 10
  },
  {
   "metadata": {
    "ExecuteTime": {
     "end_time": "2024-09-12T17:27:34.974521Z",
     "start_time": "2024-09-12T17:27:34.967527Z"
    },
    "tags": [
     "hide-input"
    ]
   },
   "cell_type": "code",
   "source": [
    "print(\"\\033[34m** Zadanie **\" + '*' * 81 + '\\033[0m')\n",
    "print(zadanie[0])\n",
    "print(\"\\033[34m*\\033[0m\" * 95)\n",
    "print(\"\\033[32m** Rozwiązanie **\" + '*' * 78 + '\\033[0m')\n",
    "print(zadanie[1])\n",
    "print(\"\\033[32m*\\033[0m\" * 95)"
   ],
   "id": "7da8ca0f4b34ff95",
   "outputs": [
    {
     "name": "stdout",
     "output_type": "stream",
     "text": [
      "\u001B[34m** Zadanie ***********************************************************************************\u001B[0m\n",
      "Dla jakich rzeczywistych wartości parametru $x$ macierz $A$ posiada odwrotność?\n",
      "\t\\[\n",
      "\t\t\\textnormal{A=}\\left[\\begin{matrix}-3 & 1 & x + 2\\\\x + 3 & x + 4 & x + 3\\\\3 & 0 & 3\\end{matrix}\\right]\n",
      "\t\\]\n",
      "Wyznaczyć macierz odwrotną dla $x=-2.$ Wykonać sprawdzenie.\\\\\n",
      "\u001B[34m*\u001B[0m\u001B[34m*\u001B[0m\u001B[34m*\u001B[0m\u001B[34m*\u001B[0m\u001B[34m*\u001B[0m\u001B[34m*\u001B[0m\u001B[34m*\u001B[0m\u001B[34m*\u001B[0m\u001B[34m*\u001B[0m\u001B[34m*\u001B[0m\u001B[34m*\u001B[0m\u001B[34m*\u001B[0m\u001B[34m*\u001B[0m\u001B[34m*\u001B[0m\u001B[34m*\u001B[0m\u001B[34m*\u001B[0m\u001B[34m*\u001B[0m\u001B[34m*\u001B[0m\u001B[34m*\u001B[0m\u001B[34m*\u001B[0m\u001B[34m*\u001B[0m\u001B[34m*\u001B[0m\u001B[34m*\u001B[0m\u001B[34m*\u001B[0m\u001B[34m*\u001B[0m\u001B[34m*\u001B[0m\u001B[34m*\u001B[0m\u001B[34m*\u001B[0m\u001B[34m*\u001B[0m\u001B[34m*\u001B[0m\u001B[34m*\u001B[0m\u001B[34m*\u001B[0m\u001B[34m*\u001B[0m\u001B[34m*\u001B[0m\u001B[34m*\u001B[0m\u001B[34m*\u001B[0m\u001B[34m*\u001B[0m\u001B[34m*\u001B[0m\u001B[34m*\u001B[0m\u001B[34m*\u001B[0m\u001B[34m*\u001B[0m\u001B[34m*\u001B[0m\u001B[34m*\u001B[0m\u001B[34m*\u001B[0m\u001B[34m*\u001B[0m\u001B[34m*\u001B[0m\u001B[34m*\u001B[0m\u001B[34m*\u001B[0m\u001B[34m*\u001B[0m\u001B[34m*\u001B[0m\u001B[34m*\u001B[0m\u001B[34m*\u001B[0m\u001B[34m*\u001B[0m\u001B[34m*\u001B[0m\u001B[34m*\u001B[0m\u001B[34m*\u001B[0m\u001B[34m*\u001B[0m\u001B[34m*\u001B[0m\u001B[34m*\u001B[0m\u001B[34m*\u001B[0m\u001B[34m*\u001B[0m\u001B[34m*\u001B[0m\u001B[34m*\u001B[0m\u001B[34m*\u001B[0m\u001B[34m*\u001B[0m\u001B[34m*\u001B[0m\u001B[34m*\u001B[0m\u001B[34m*\u001B[0m\u001B[34m*\u001B[0m\u001B[34m*\u001B[0m\u001B[34m*\u001B[0m\u001B[34m*\u001B[0m\u001B[34m*\u001B[0m\u001B[34m*\u001B[0m\u001B[34m*\u001B[0m\u001B[34m*\u001B[0m\u001B[34m*\u001B[0m\u001B[34m*\u001B[0m\u001B[34m*\u001B[0m\u001B[34m*\u001B[0m\u001B[34m*\u001B[0m\u001B[34m*\u001B[0m\u001B[34m*\u001B[0m\u001B[34m*\u001B[0m\u001B[34m*\u001B[0m\u001B[34m*\u001B[0m\u001B[34m*\u001B[0m\u001B[34m*\u001B[0m\u001B[34m*\u001B[0m\u001B[34m*\u001B[0m\u001B[34m*\u001B[0m\u001B[34m*\u001B[0m\u001B[34m*\u001B[0m\u001B[34m*\u001B[0m\u001B[34m*\u001B[0m\n",
      "\u001B[32m** Rozwiązanie ********************************************************************************\u001B[0m\n",
      "$\\det A=- 3 x^{2} - 27 x - 60\\neq 0, \\quad \n",
      "\tx\\neq -5\\ \\textnormal{oraz} \\ x\\neq -4,$\\\\\n",
      "\t$A(-2)= \\left[\\begin{matrix}-3 & 1 & 0\\\\1 & 2 & 1\\\\3 & 0 & 3\\end{matrix}\\right],\\ \n",
      "\t\\det A(-2)=-18,\\ \n",
      "\tA^{-1}=- \\frac{1}{18}\\left[\\begin{matrix}6 & -3 & 1\\\\0 & -9 & 3\\\\-6 & 3 & -7\\end{matrix}\\right].$\n",
      "\u001B[32m*\u001B[0m\u001B[32m*\u001B[0m\u001B[32m*\u001B[0m\u001B[32m*\u001B[0m\u001B[32m*\u001B[0m\u001B[32m*\u001B[0m\u001B[32m*\u001B[0m\u001B[32m*\u001B[0m\u001B[32m*\u001B[0m\u001B[32m*\u001B[0m\u001B[32m*\u001B[0m\u001B[32m*\u001B[0m\u001B[32m*\u001B[0m\u001B[32m*\u001B[0m\u001B[32m*\u001B[0m\u001B[32m*\u001B[0m\u001B[32m*\u001B[0m\u001B[32m*\u001B[0m\u001B[32m*\u001B[0m\u001B[32m*\u001B[0m\u001B[32m*\u001B[0m\u001B[32m*\u001B[0m\u001B[32m*\u001B[0m\u001B[32m*\u001B[0m\u001B[32m*\u001B[0m\u001B[32m*\u001B[0m\u001B[32m*\u001B[0m\u001B[32m*\u001B[0m\u001B[32m*\u001B[0m\u001B[32m*\u001B[0m\u001B[32m*\u001B[0m\u001B[32m*\u001B[0m\u001B[32m*\u001B[0m\u001B[32m*\u001B[0m\u001B[32m*\u001B[0m\u001B[32m*\u001B[0m\u001B[32m*\u001B[0m\u001B[32m*\u001B[0m\u001B[32m*\u001B[0m\u001B[32m*\u001B[0m\u001B[32m*\u001B[0m\u001B[32m*\u001B[0m\u001B[32m*\u001B[0m\u001B[32m*\u001B[0m\u001B[32m*\u001B[0m\u001B[32m*\u001B[0m\u001B[32m*\u001B[0m\u001B[32m*\u001B[0m\u001B[32m*\u001B[0m\u001B[32m*\u001B[0m\u001B[32m*\u001B[0m\u001B[32m*\u001B[0m\u001B[32m*\u001B[0m\u001B[32m*\u001B[0m\u001B[32m*\u001B[0m\u001B[32m*\u001B[0m\u001B[32m*\u001B[0m\u001B[32m*\u001B[0m\u001B[32m*\u001B[0m\u001B[32m*\u001B[0m\u001B[32m*\u001B[0m\u001B[32m*\u001B[0m\u001B[32m*\u001B[0m\u001B[32m*\u001B[0m\u001B[32m*\u001B[0m\u001B[32m*\u001B[0m\u001B[32m*\u001B[0m\u001B[32m*\u001B[0m\u001B[32m*\u001B[0m\u001B[32m*\u001B[0m\u001B[32m*\u001B[0m\u001B[32m*\u001B[0m\u001B[32m*\u001B[0m\u001B[32m*\u001B[0m\u001B[32m*\u001B[0m\u001B[32m*\u001B[0m\u001B[32m*\u001B[0m\u001B[32m*\u001B[0m\u001B[32m*\u001B[0m\u001B[32m*\u001B[0m\u001B[32m*\u001B[0m\u001B[32m*\u001B[0m\u001B[32m*\u001B[0m\u001B[32m*\u001B[0m\u001B[32m*\u001B[0m\u001B[32m*\u001B[0m\u001B[32m*\u001B[0m\u001B[32m*\u001B[0m\u001B[32m*\u001B[0m\u001B[32m*\u001B[0m\u001B[32m*\u001B[0m\u001B[32m*\u001B[0m\u001B[32m*\u001B[0m\u001B[32m*\u001B[0m\u001B[32m*\u001B[0m\n"
     ]
    }
   ],
   "execution_count": 11
  },
  {
   "metadata": {
    "ExecuteTime": {
     "end_time": "2024-09-12T17:27:39.042427Z",
     "start_time": "2024-09-12T17:27:35.098445Z"
    },
    "tags": [
     "hide-input"
    ]
   },
   "cell_type": "code",
   "source": [
    "for i in range(1, ile_zadan_przykladowych + 1):\n",
    "    zadanie = gz.macierz_odwrotna_parametr(wymiar=choice([2, 3, 4]), gotowiec=True)\n",
    "    print(f\"\\033[34m** Zadanie {i} **\" + '*' * 80 + '\\033[0m')\n",
    "    display(Markdown(zadanie[0][:79].replace('$', '*')))\n",
    "    display(Latex(zadanie[0][79:].split('W')[0]))\n",
    "    display(Markdown('W' + zadanie[0][79:].split('W')[1].replace('$', '*')))\n",
    "    print(\"\\033[34m*\\033[0m\" * 95)\n",
    "    print(\"\\033[32m** Rozwiązanie **\" + '*' * 78 + '\\033[0m')\n",
    "    rozwiazanie = zadanie[1].replace('$\\\\\\\\\\n\\t$', ' $ ').split('$')\n",
    "    for i in range(1, len(rozwiazanie) - 1):\n",
    "        display(Latex('$$' + rozwiazanie[i] + '$$'))\n",
    "    print(\"\\033[32m*\\033[0m\" * 95)"
   ],
   "id": "c70e277ba9908551",
   "outputs": [
    {
     "name": "stdout",
     "output_type": "stream",
     "text": [
      "\u001B[34m** Zadanie 1 **********************************************************************************\u001B[0m\n"
     ]
    },
    {
     "data": {
      "text/plain": [
       "<IPython.core.display.Markdown object>"
      ],
      "text/markdown": "Dla jakich rzeczywistych wartości parametru *x* macierz *A* posiada odwrotność?"
     },
     "metadata": {},
     "output_type": "display_data"
    },
    {
     "data": {
      "text/plain": [
       "<IPython.core.display.Latex object>"
      ],
      "text/latex": "\n\t\\[\n\t\t\\textnormal{A=}\\left[\\begin{matrix}3 & -4 & -4 & x - 1\\\\1 & -2 & 0 & 0\\\\2 & -1 & x + 1 & x + 1\\\\4 & -4 & 4 & x + 3\\end{matrix}\\right]\n\t\\]\n"
     },
     "metadata": {},
     "output_type": "display_data"
    },
    {
     "data": {
      "text/plain": [
       "<IPython.core.display.Markdown object>"
      ],
      "text/markdown": "Wyznaczyć macierz odwrotną dla *x=-2.* "
     },
     "metadata": {},
     "output_type": "display_data"
    },
    {
     "name": "stdout",
     "output_type": "stream",
     "text": [
      "\u001B[34m*\u001B[0m\u001B[34m*\u001B[0m\u001B[34m*\u001B[0m\u001B[34m*\u001B[0m\u001B[34m*\u001B[0m\u001B[34m*\u001B[0m\u001B[34m*\u001B[0m\u001B[34m*\u001B[0m\u001B[34m*\u001B[0m\u001B[34m*\u001B[0m\u001B[34m*\u001B[0m\u001B[34m*\u001B[0m\u001B[34m*\u001B[0m\u001B[34m*\u001B[0m\u001B[34m*\u001B[0m\u001B[34m*\u001B[0m\u001B[34m*\u001B[0m\u001B[34m*\u001B[0m\u001B[34m*\u001B[0m\u001B[34m*\u001B[0m\u001B[34m*\u001B[0m\u001B[34m*\u001B[0m\u001B[34m*\u001B[0m\u001B[34m*\u001B[0m\u001B[34m*\u001B[0m\u001B[34m*\u001B[0m\u001B[34m*\u001B[0m\u001B[34m*\u001B[0m\u001B[34m*\u001B[0m\u001B[34m*\u001B[0m\u001B[34m*\u001B[0m\u001B[34m*\u001B[0m\u001B[34m*\u001B[0m\u001B[34m*\u001B[0m\u001B[34m*\u001B[0m\u001B[34m*\u001B[0m\u001B[34m*\u001B[0m\u001B[34m*\u001B[0m\u001B[34m*\u001B[0m\u001B[34m*\u001B[0m\u001B[34m*\u001B[0m\u001B[34m*\u001B[0m\u001B[34m*\u001B[0m\u001B[34m*\u001B[0m\u001B[34m*\u001B[0m\u001B[34m*\u001B[0m\u001B[34m*\u001B[0m\u001B[34m*\u001B[0m\u001B[34m*\u001B[0m\u001B[34m*\u001B[0m\u001B[34m*\u001B[0m\u001B[34m*\u001B[0m\u001B[34m*\u001B[0m\u001B[34m*\u001B[0m\u001B[34m*\u001B[0m\u001B[34m*\u001B[0m\u001B[34m*\u001B[0m\u001B[34m*\u001B[0m\u001B[34m*\u001B[0m\u001B[34m*\u001B[0m\u001B[34m*\u001B[0m\u001B[34m*\u001B[0m\u001B[34m*\u001B[0m\u001B[34m*\u001B[0m\u001B[34m*\u001B[0m\u001B[34m*\u001B[0m\u001B[34m*\u001B[0m\u001B[34m*\u001B[0m\u001B[34m*\u001B[0m\u001B[34m*\u001B[0m\u001B[34m*\u001B[0m\u001B[34m*\u001B[0m\u001B[34m*\u001B[0m\u001B[34m*\u001B[0m\u001B[34m*\u001B[0m\u001B[34m*\u001B[0m\u001B[34m*\u001B[0m\u001B[34m*\u001B[0m\u001B[34m*\u001B[0m\u001B[34m*\u001B[0m\u001B[34m*\u001B[0m\u001B[34m*\u001B[0m\u001B[34m*\u001B[0m\u001B[34m*\u001B[0m\u001B[34m*\u001B[0m\u001B[34m*\u001B[0m\u001B[34m*\u001B[0m\u001B[34m*\u001B[0m\u001B[34m*\u001B[0m\u001B[34m*\u001B[0m\u001B[34m*\u001B[0m\u001B[34m*\u001B[0m\u001B[34m*\u001B[0m\u001B[34m*\u001B[0m\u001B[34m*\u001B[0m\n",
      "\u001B[32m** Rozwiązanie ********************************************************************************\u001B[0m\n"
     ]
    },
    {
     "data": {
      "text/plain": [
       "<IPython.core.display.Latex object>"
      ],
      "text/latex": "$$\\det A=2 x^{2} - 8 x - 10\\neq 0, \\quad \n\tx\\neq -1\\ \\textnormal{oraz} \\ x\\neq 5, $$"
     },
     "metadata": {},
     "output_type": "display_data"
    },
    {
     "data": {
      "text/plain": [
       "<IPython.core.display.Latex object>"
      ],
      "text/latex": "$$ A(-2)= \\left[\\begin{matrix}3 & -4 & -4 & -3\\\\1 & -2 & 0 & 0\\\\2 & -1 & -1 & -1\\\\4 & -4 & 4 & 1\\end{matrix}\\right],\\ \n\t\\det A(-2)=14,\\ \n\tA^{-1}=\\frac{1}{14}\\left[\\begin{matrix}-6 & 8 & 16 & -2\\\\-3 & -3 & 8 & -1\\\\7 & -21 & -14 & 7\\\\-16 & 40 & 24 & -10\\end{matrix}\\right].$$"
     },
     "metadata": {},
     "output_type": "display_data"
    },
    {
     "name": "stdout",
     "output_type": "stream",
     "text": [
      "\u001B[32m*\u001B[0m\u001B[32m*\u001B[0m\u001B[32m*\u001B[0m\u001B[32m*\u001B[0m\u001B[32m*\u001B[0m\u001B[32m*\u001B[0m\u001B[32m*\u001B[0m\u001B[32m*\u001B[0m\u001B[32m*\u001B[0m\u001B[32m*\u001B[0m\u001B[32m*\u001B[0m\u001B[32m*\u001B[0m\u001B[32m*\u001B[0m\u001B[32m*\u001B[0m\u001B[32m*\u001B[0m\u001B[32m*\u001B[0m\u001B[32m*\u001B[0m\u001B[32m*\u001B[0m\u001B[32m*\u001B[0m\u001B[32m*\u001B[0m\u001B[32m*\u001B[0m\u001B[32m*\u001B[0m\u001B[32m*\u001B[0m\u001B[32m*\u001B[0m\u001B[32m*\u001B[0m\u001B[32m*\u001B[0m\u001B[32m*\u001B[0m\u001B[32m*\u001B[0m\u001B[32m*\u001B[0m\u001B[32m*\u001B[0m\u001B[32m*\u001B[0m\u001B[32m*\u001B[0m\u001B[32m*\u001B[0m\u001B[32m*\u001B[0m\u001B[32m*\u001B[0m\u001B[32m*\u001B[0m\u001B[32m*\u001B[0m\u001B[32m*\u001B[0m\u001B[32m*\u001B[0m\u001B[32m*\u001B[0m\u001B[32m*\u001B[0m\u001B[32m*\u001B[0m\u001B[32m*\u001B[0m\u001B[32m*\u001B[0m\u001B[32m*\u001B[0m\u001B[32m*\u001B[0m\u001B[32m*\u001B[0m\u001B[32m*\u001B[0m\u001B[32m*\u001B[0m\u001B[32m*\u001B[0m\u001B[32m*\u001B[0m\u001B[32m*\u001B[0m\u001B[32m*\u001B[0m\u001B[32m*\u001B[0m\u001B[32m*\u001B[0m\u001B[32m*\u001B[0m\u001B[32m*\u001B[0m\u001B[32m*\u001B[0m\u001B[32m*\u001B[0m\u001B[32m*\u001B[0m\u001B[32m*\u001B[0m\u001B[32m*\u001B[0m\u001B[32m*\u001B[0m\u001B[32m*\u001B[0m\u001B[32m*\u001B[0m\u001B[32m*\u001B[0m\u001B[32m*\u001B[0m\u001B[32m*\u001B[0m\u001B[32m*\u001B[0m\u001B[32m*\u001B[0m\u001B[32m*\u001B[0m\u001B[32m*\u001B[0m\u001B[32m*\u001B[0m\u001B[32m*\u001B[0m\u001B[32m*\u001B[0m\u001B[32m*\u001B[0m\u001B[32m*\u001B[0m\u001B[32m*\u001B[0m\u001B[32m*\u001B[0m\u001B[32m*\u001B[0m\u001B[32m*\u001B[0m\u001B[32m*\u001B[0m\u001B[32m*\u001B[0m\u001B[32m*\u001B[0m\u001B[32m*\u001B[0m\u001B[32m*\u001B[0m\u001B[32m*\u001B[0m\u001B[32m*\u001B[0m\u001B[32m*\u001B[0m\u001B[32m*\u001B[0m\u001B[32m*\u001B[0m\u001B[32m*\u001B[0m\u001B[32m*\u001B[0m\u001B[32m*\u001B[0m\u001B[32m*\u001B[0m\n",
      "\u001B[34m** Zadanie 2 **********************************************************************************\u001B[0m\n"
     ]
    },
    {
     "data": {
      "text/plain": [
       "<IPython.core.display.Markdown object>"
      ],
      "text/markdown": "Dla jakich rzeczywistych wartości parametru *x* macierz *A* posiada odwrotność?"
     },
     "metadata": {},
     "output_type": "display_data"
    },
    {
     "data": {
      "text/plain": [
       "<IPython.core.display.Latex object>"
      ],
      "text/latex": "\n\t\\[\n\t\t\\textnormal{A=}\\left[\\begin{matrix}2 x - 4 & x - 3\\\\x - 2 & 2\\end{matrix}\\right]\n\t\\]\n"
     },
     "metadata": {},
     "output_type": "display_data"
    },
    {
     "data": {
      "text/plain": [
       "<IPython.core.display.Markdown object>"
      ],
      "text/markdown": "Wyznaczyć macierz odwrotną dla *x=3.* "
     },
     "metadata": {},
     "output_type": "display_data"
    },
    {
     "name": "stdout",
     "output_type": "stream",
     "text": [
      "\u001B[34m*\u001B[0m\u001B[34m*\u001B[0m\u001B[34m*\u001B[0m\u001B[34m*\u001B[0m\u001B[34m*\u001B[0m\u001B[34m*\u001B[0m\u001B[34m*\u001B[0m\u001B[34m*\u001B[0m\u001B[34m*\u001B[0m\u001B[34m*\u001B[0m\u001B[34m*\u001B[0m\u001B[34m*\u001B[0m\u001B[34m*\u001B[0m\u001B[34m*\u001B[0m\u001B[34m*\u001B[0m\u001B[34m*\u001B[0m\u001B[34m*\u001B[0m\u001B[34m*\u001B[0m\u001B[34m*\u001B[0m\u001B[34m*\u001B[0m\u001B[34m*\u001B[0m\u001B[34m*\u001B[0m\u001B[34m*\u001B[0m\u001B[34m*\u001B[0m\u001B[34m*\u001B[0m\u001B[34m*\u001B[0m\u001B[34m*\u001B[0m\u001B[34m*\u001B[0m\u001B[34m*\u001B[0m\u001B[34m*\u001B[0m\u001B[34m*\u001B[0m\u001B[34m*\u001B[0m\u001B[34m*\u001B[0m\u001B[34m*\u001B[0m\u001B[34m*\u001B[0m\u001B[34m*\u001B[0m\u001B[34m*\u001B[0m\u001B[34m*\u001B[0m\u001B[34m*\u001B[0m\u001B[34m*\u001B[0m\u001B[34m*\u001B[0m\u001B[34m*\u001B[0m\u001B[34m*\u001B[0m\u001B[34m*\u001B[0m\u001B[34m*\u001B[0m\u001B[34m*\u001B[0m\u001B[34m*\u001B[0m\u001B[34m*\u001B[0m\u001B[34m*\u001B[0m\u001B[34m*\u001B[0m\u001B[34m*\u001B[0m\u001B[34m*\u001B[0m\u001B[34m*\u001B[0m\u001B[34m*\u001B[0m\u001B[34m*\u001B[0m\u001B[34m*\u001B[0m\u001B[34m*\u001B[0m\u001B[34m*\u001B[0m\u001B[34m*\u001B[0m\u001B[34m*\u001B[0m\u001B[34m*\u001B[0m\u001B[34m*\u001B[0m\u001B[34m*\u001B[0m\u001B[34m*\u001B[0m\u001B[34m*\u001B[0m\u001B[34m*\u001B[0m\u001B[34m*\u001B[0m\u001B[34m*\u001B[0m\u001B[34m*\u001B[0m\u001B[34m*\u001B[0m\u001B[34m*\u001B[0m\u001B[34m*\u001B[0m\u001B[34m*\u001B[0m\u001B[34m*\u001B[0m\u001B[34m*\u001B[0m\u001B[34m*\u001B[0m\u001B[34m*\u001B[0m\u001B[34m*\u001B[0m\u001B[34m*\u001B[0m\u001B[34m*\u001B[0m\u001B[34m*\u001B[0m\u001B[34m*\u001B[0m\u001B[34m*\u001B[0m\u001B[34m*\u001B[0m\u001B[34m*\u001B[0m\u001B[34m*\u001B[0m\u001B[34m*\u001B[0m\u001B[34m*\u001B[0m\u001B[34m*\u001B[0m\u001B[34m*\u001B[0m\u001B[34m*\u001B[0m\u001B[34m*\u001B[0m\u001B[34m*\u001B[0m\u001B[34m*\u001B[0m\u001B[34m*\u001B[0m\n",
      "\u001B[32m** Rozwiązanie ********************************************************************************\u001B[0m\n"
     ]
    },
    {
     "data": {
      "text/plain": [
       "<IPython.core.display.Latex object>"
      ],
      "text/latex": "$$\\det A=- x^{2} + 9 x - 14\\neq 0, \\quad \n\tx\\neq 2\\ \\textnormal{oraz} \\ x\\neq 7, $$"
     },
     "metadata": {},
     "output_type": "display_data"
    },
    {
     "data": {
      "text/plain": [
       "<IPython.core.display.Latex object>"
      ],
      "text/latex": "$$ A(3)= \\left[\\begin{matrix}2 & 0\\\\1 & 2\\end{matrix}\\right],\\ \n\t\\det A(3)=4,\\ \n\tA^{-1}=\\frac{1}{4}\\left[\\begin{matrix}2 & 0\\\\-1 & 2\\end{matrix}\\right].$$"
     },
     "metadata": {},
     "output_type": "display_data"
    },
    {
     "name": "stdout",
     "output_type": "stream",
     "text": [
      "\u001B[32m*\u001B[0m\u001B[32m*\u001B[0m\u001B[32m*\u001B[0m\u001B[32m*\u001B[0m\u001B[32m*\u001B[0m\u001B[32m*\u001B[0m\u001B[32m*\u001B[0m\u001B[32m*\u001B[0m\u001B[32m*\u001B[0m\u001B[32m*\u001B[0m\u001B[32m*\u001B[0m\u001B[32m*\u001B[0m\u001B[32m*\u001B[0m\u001B[32m*\u001B[0m\u001B[32m*\u001B[0m\u001B[32m*\u001B[0m\u001B[32m*\u001B[0m\u001B[32m*\u001B[0m\u001B[32m*\u001B[0m\u001B[32m*\u001B[0m\u001B[32m*\u001B[0m\u001B[32m*\u001B[0m\u001B[32m*\u001B[0m\u001B[32m*\u001B[0m\u001B[32m*\u001B[0m\u001B[32m*\u001B[0m\u001B[32m*\u001B[0m\u001B[32m*\u001B[0m\u001B[32m*\u001B[0m\u001B[32m*\u001B[0m\u001B[32m*\u001B[0m\u001B[32m*\u001B[0m\u001B[32m*\u001B[0m\u001B[32m*\u001B[0m\u001B[32m*\u001B[0m\u001B[32m*\u001B[0m\u001B[32m*\u001B[0m\u001B[32m*\u001B[0m\u001B[32m*\u001B[0m\u001B[32m*\u001B[0m\u001B[32m*\u001B[0m\u001B[32m*\u001B[0m\u001B[32m*\u001B[0m\u001B[32m*\u001B[0m\u001B[32m*\u001B[0m\u001B[32m*\u001B[0m\u001B[32m*\u001B[0m\u001B[32m*\u001B[0m\u001B[32m*\u001B[0m\u001B[32m*\u001B[0m\u001B[32m*\u001B[0m\u001B[32m*\u001B[0m\u001B[32m*\u001B[0m\u001B[32m*\u001B[0m\u001B[32m*\u001B[0m\u001B[32m*\u001B[0m\u001B[32m*\u001B[0m\u001B[32m*\u001B[0m\u001B[32m*\u001B[0m\u001B[32m*\u001B[0m\u001B[32m*\u001B[0m\u001B[32m*\u001B[0m\u001B[32m*\u001B[0m\u001B[32m*\u001B[0m\u001B[32m*\u001B[0m\u001B[32m*\u001B[0m\u001B[32m*\u001B[0m\u001B[32m*\u001B[0m\u001B[32m*\u001B[0m\u001B[32m*\u001B[0m\u001B[32m*\u001B[0m\u001B[32m*\u001B[0m\u001B[32m*\u001B[0m\u001B[32m*\u001B[0m\u001B[32m*\u001B[0m\u001B[32m*\u001B[0m\u001B[32m*\u001B[0m\u001B[32m*\u001B[0m\u001B[32m*\u001B[0m\u001B[32m*\u001B[0m\u001B[32m*\u001B[0m\u001B[32m*\u001B[0m\u001B[32m*\u001B[0m\u001B[32m*\u001B[0m\u001B[32m*\u001B[0m\u001B[32m*\u001B[0m\u001B[32m*\u001B[0m\u001B[32m*\u001B[0m\u001B[32m*\u001B[0m\u001B[32m*\u001B[0m\u001B[32m*\u001B[0m\u001B[32m*\u001B[0m\u001B[32m*\u001B[0m\u001B[32m*\u001B[0m\u001B[32m*\u001B[0m\n",
      "\u001B[34m** Zadanie 3 **********************************************************************************\u001B[0m\n"
     ]
    },
    {
     "data": {
      "text/plain": [
       "<IPython.core.display.Markdown object>"
      ],
      "text/markdown": "Dla jakich rzeczywistych wartości parametru *x* macierz *A* posiada odwrotność?"
     },
     "metadata": {},
     "output_type": "display_data"
    },
    {
     "data": {
      "text/plain": [
       "<IPython.core.display.Latex object>"
      ],
      "text/latex": "\n\t\\[\n\t\t\\textnormal{A=}\\left[\\begin{matrix}3 & 2 x & 4 & x - 3\\\\2 & 4 & -1 & -2\\\\x + 4 & -4 & 1 & 2\\\\4 & 3 & -1 & -2\\end{matrix}\\right]\n\t\\]\n"
     },
     "metadata": {},
     "output_type": "display_data"
    },
    {
     "data": {
      "text/plain": [
       "<IPython.core.display.Markdown object>"
      ],
      "text/markdown": "Wyznaczyć macierz odwrotną dla *x=2.* "
     },
     "metadata": {},
     "output_type": "display_data"
    },
    {
     "name": "stdout",
     "output_type": "stream",
     "text": [
      "\u001B[34m*\u001B[0m\u001B[34m*\u001B[0m\u001B[34m*\u001B[0m\u001B[34m*\u001B[0m\u001B[34m*\u001B[0m\u001B[34m*\u001B[0m\u001B[34m*\u001B[0m\u001B[34m*\u001B[0m\u001B[34m*\u001B[0m\u001B[34m*\u001B[0m\u001B[34m*\u001B[0m\u001B[34m*\u001B[0m\u001B[34m*\u001B[0m\u001B[34m*\u001B[0m\u001B[34m*\u001B[0m\u001B[34m*\u001B[0m\u001B[34m*\u001B[0m\u001B[34m*\u001B[0m\u001B[34m*\u001B[0m\u001B[34m*\u001B[0m\u001B[34m*\u001B[0m\u001B[34m*\u001B[0m\u001B[34m*\u001B[0m\u001B[34m*\u001B[0m\u001B[34m*\u001B[0m\u001B[34m*\u001B[0m\u001B[34m*\u001B[0m\u001B[34m*\u001B[0m\u001B[34m*\u001B[0m\u001B[34m*\u001B[0m\u001B[34m*\u001B[0m\u001B[34m*\u001B[0m\u001B[34m*\u001B[0m\u001B[34m*\u001B[0m\u001B[34m*\u001B[0m\u001B[34m*\u001B[0m\u001B[34m*\u001B[0m\u001B[34m*\u001B[0m\u001B[34m*\u001B[0m\u001B[34m*\u001B[0m\u001B[34m*\u001B[0m\u001B[34m*\u001B[0m\u001B[34m*\u001B[0m\u001B[34m*\u001B[0m\u001B[34m*\u001B[0m\u001B[34m*\u001B[0m\u001B[34m*\u001B[0m\u001B[34m*\u001B[0m\u001B[34m*\u001B[0m\u001B[34m*\u001B[0m\u001B[34m*\u001B[0m\u001B[34m*\u001B[0m\u001B[34m*\u001B[0m\u001B[34m*\u001B[0m\u001B[34m*\u001B[0m\u001B[34m*\u001B[0m\u001B[34m*\u001B[0m\u001B[34m*\u001B[0m\u001B[34m*\u001B[0m\u001B[34m*\u001B[0m\u001B[34m*\u001B[0m\u001B[34m*\u001B[0m\u001B[34m*\u001B[0m\u001B[34m*\u001B[0m\u001B[34m*\u001B[0m\u001B[34m*\u001B[0m\u001B[34m*\u001B[0m\u001B[34m*\u001B[0m\u001B[34m*\u001B[0m\u001B[34m*\u001B[0m\u001B[34m*\u001B[0m\u001B[34m*\u001B[0m\u001B[34m*\u001B[0m\u001B[34m*\u001B[0m\u001B[34m*\u001B[0m\u001B[34m*\u001B[0m\u001B[34m*\u001B[0m\u001B[34m*\u001B[0m\u001B[34m*\u001B[0m\u001B[34m*\u001B[0m\u001B[34m*\u001B[0m\u001B[34m*\u001B[0m\u001B[34m*\u001B[0m\u001B[34m*\u001B[0m\u001B[34m*\u001B[0m\u001B[34m*\u001B[0m\u001B[34m*\u001B[0m\u001B[34m*\u001B[0m\u001B[34m*\u001B[0m\u001B[34m*\u001B[0m\u001B[34m*\u001B[0m\u001B[34m*\u001B[0m\u001B[34m*\u001B[0m\u001B[34m*\u001B[0m\u001B[34m*\u001B[0m\n",
      "\u001B[32m** Rozwiązanie ********************************************************************************\u001B[0m\n"
     ]
    },
    {
     "data": {
      "text/plain": [
       "<IPython.core.display.Latex object>"
      ],
      "text/latex": "$$\\det A=- x^{2} + 5 x + 66\\neq 0, \\quad \n\tx\\neq -6\\ \\textnormal{oraz} \\ x\\neq 11, $$"
     },
     "metadata": {},
     "output_type": "display_data"
    },
    {
     "data": {
      "text/plain": [
       "<IPython.core.display.Latex object>"
      ],
      "text/latex": "$$ A(2)= \\left[\\begin{matrix}3 & 4 & 4 & -1\\\\2 & 4 & -1 & -2\\\\6 & -4 & 1 & 2\\\\4 & 3 & -1 & -2\\end{matrix}\\right],\\ \n\t\\det A(2)=72,\\ \n\tA^{-1}=\\frac{1}{72}\\left[\\begin{matrix}0 & 9 & 9 & 0\\\\0 & 90 & 18 & -72\\\\16 & -52 & -12 & 32\\\\-8 & 179 & 51 & -160\\end{matrix}\\right].$$"
     },
     "metadata": {},
     "output_type": "display_data"
    },
    {
     "name": "stdout",
     "output_type": "stream",
     "text": [
      "\u001B[32m*\u001B[0m\u001B[32m*\u001B[0m\u001B[32m*\u001B[0m\u001B[32m*\u001B[0m\u001B[32m*\u001B[0m\u001B[32m*\u001B[0m\u001B[32m*\u001B[0m\u001B[32m*\u001B[0m\u001B[32m*\u001B[0m\u001B[32m*\u001B[0m\u001B[32m*\u001B[0m\u001B[32m*\u001B[0m\u001B[32m*\u001B[0m\u001B[32m*\u001B[0m\u001B[32m*\u001B[0m\u001B[32m*\u001B[0m\u001B[32m*\u001B[0m\u001B[32m*\u001B[0m\u001B[32m*\u001B[0m\u001B[32m*\u001B[0m\u001B[32m*\u001B[0m\u001B[32m*\u001B[0m\u001B[32m*\u001B[0m\u001B[32m*\u001B[0m\u001B[32m*\u001B[0m\u001B[32m*\u001B[0m\u001B[32m*\u001B[0m\u001B[32m*\u001B[0m\u001B[32m*\u001B[0m\u001B[32m*\u001B[0m\u001B[32m*\u001B[0m\u001B[32m*\u001B[0m\u001B[32m*\u001B[0m\u001B[32m*\u001B[0m\u001B[32m*\u001B[0m\u001B[32m*\u001B[0m\u001B[32m*\u001B[0m\u001B[32m*\u001B[0m\u001B[32m*\u001B[0m\u001B[32m*\u001B[0m\u001B[32m*\u001B[0m\u001B[32m*\u001B[0m\u001B[32m*\u001B[0m\u001B[32m*\u001B[0m\u001B[32m*\u001B[0m\u001B[32m*\u001B[0m\u001B[32m*\u001B[0m\u001B[32m*\u001B[0m\u001B[32m*\u001B[0m\u001B[32m*\u001B[0m\u001B[32m*\u001B[0m\u001B[32m*\u001B[0m\u001B[32m*\u001B[0m\u001B[32m*\u001B[0m\u001B[32m*\u001B[0m\u001B[32m*\u001B[0m\u001B[32m*\u001B[0m\u001B[32m*\u001B[0m\u001B[32m*\u001B[0m\u001B[32m*\u001B[0m\u001B[32m*\u001B[0m\u001B[32m*\u001B[0m\u001B[32m*\u001B[0m\u001B[32m*\u001B[0m\u001B[32m*\u001B[0m\u001B[32m*\u001B[0m\u001B[32m*\u001B[0m\u001B[32m*\u001B[0m\u001B[32m*\u001B[0m\u001B[32m*\u001B[0m\u001B[32m*\u001B[0m\u001B[32m*\u001B[0m\u001B[32m*\u001B[0m\u001B[32m*\u001B[0m\u001B[32m*\u001B[0m\u001B[32m*\u001B[0m\u001B[32m*\u001B[0m\u001B[32m*\u001B[0m\u001B[32m*\u001B[0m\u001B[32m*\u001B[0m\u001B[32m*\u001B[0m\u001B[32m*\u001B[0m\u001B[32m*\u001B[0m\u001B[32m*\u001B[0m\u001B[32m*\u001B[0m\u001B[32m*\u001B[0m\u001B[32m*\u001B[0m\u001B[32m*\u001B[0m\u001B[32m*\u001B[0m\u001B[32m*\u001B[0m\u001B[32m*\u001B[0m\u001B[32m*\u001B[0m\u001B[32m*\u001B[0m\u001B[32m*\u001B[0m\u001B[32m*\u001B[0m\n",
      "\u001B[34m** Zadanie 4 **********************************************************************************\u001B[0m\n"
     ]
    },
    {
     "data": {
      "text/plain": [
       "<IPython.core.display.Markdown object>"
      ],
      "text/markdown": "Dla jakich rzeczywistych wartości parametru *x* macierz *A* posiada odwrotność?"
     },
     "metadata": {},
     "output_type": "display_data"
    },
    {
     "data": {
      "text/plain": [
       "<IPython.core.display.Latex object>"
      ],
      "text/latex": "\n\t\\[\n\t\t\\textnormal{A=}\\left[\\begin{matrix}x + 2 & -4 & x - 1 & x + 3\\\\2 & -4 & 0 & 1\\\\x + 3 & 0 & 4 & 3\\\\-4 & -1 & -3 & -2\\end{matrix}\\right]\n\t\\]\n"
     },
     "metadata": {},
     "output_type": "display_data"
    },
    {
     "data": {
      "text/plain": [
       "<IPython.core.display.Markdown object>"
      ],
      "text/markdown": "Wyznaczyć macierz odwrotną dla *x=2.* "
     },
     "metadata": {},
     "output_type": "display_data"
    },
    {
     "name": "stdout",
     "output_type": "stream",
     "text": [
      "\u001B[34m*\u001B[0m\u001B[34m*\u001B[0m\u001B[34m*\u001B[0m\u001B[34m*\u001B[0m\u001B[34m*\u001B[0m\u001B[34m*\u001B[0m\u001B[34m*\u001B[0m\u001B[34m*\u001B[0m\u001B[34m*\u001B[0m\u001B[34m*\u001B[0m\u001B[34m*\u001B[0m\u001B[34m*\u001B[0m\u001B[34m*\u001B[0m\u001B[34m*\u001B[0m\u001B[34m*\u001B[0m\u001B[34m*\u001B[0m\u001B[34m*\u001B[0m\u001B[34m*\u001B[0m\u001B[34m*\u001B[0m\u001B[34m*\u001B[0m\u001B[34m*\u001B[0m\u001B[34m*\u001B[0m\u001B[34m*\u001B[0m\u001B[34m*\u001B[0m\u001B[34m*\u001B[0m\u001B[34m*\u001B[0m\u001B[34m*\u001B[0m\u001B[34m*\u001B[0m\u001B[34m*\u001B[0m\u001B[34m*\u001B[0m\u001B[34m*\u001B[0m\u001B[34m*\u001B[0m\u001B[34m*\u001B[0m\u001B[34m*\u001B[0m\u001B[34m*\u001B[0m\u001B[34m*\u001B[0m\u001B[34m*\u001B[0m\u001B[34m*\u001B[0m\u001B[34m*\u001B[0m\u001B[34m*\u001B[0m\u001B[34m*\u001B[0m\u001B[34m*\u001B[0m\u001B[34m*\u001B[0m\u001B[34m*\u001B[0m\u001B[34m*\u001B[0m\u001B[34m*\u001B[0m\u001B[34m*\u001B[0m\u001B[34m*\u001B[0m\u001B[34m*\u001B[0m\u001B[34m*\u001B[0m\u001B[34m*\u001B[0m\u001B[34m*\u001B[0m\u001B[34m*\u001B[0m\u001B[34m*\u001B[0m\u001B[34m*\u001B[0m\u001B[34m*\u001B[0m\u001B[34m*\u001B[0m\u001B[34m*\u001B[0m\u001B[34m*\u001B[0m\u001B[34m*\u001B[0m\u001B[34m*\u001B[0m\u001B[34m*\u001B[0m\u001B[34m*\u001B[0m\u001B[34m*\u001B[0m\u001B[34m*\u001B[0m\u001B[34m*\u001B[0m\u001B[34m*\u001B[0m\u001B[34m*\u001B[0m\u001B[34m*\u001B[0m\u001B[34m*\u001B[0m\u001B[34m*\u001B[0m\u001B[34m*\u001B[0m\u001B[34m*\u001B[0m\u001B[34m*\u001B[0m\u001B[34m*\u001B[0m\u001B[34m*\u001B[0m\u001B[34m*\u001B[0m\u001B[34m*\u001B[0m\u001B[34m*\u001B[0m\u001B[34m*\u001B[0m\u001B[34m*\u001B[0m\u001B[34m*\u001B[0m\u001B[34m*\u001B[0m\u001B[34m*\u001B[0m\u001B[34m*\u001B[0m\u001B[34m*\u001B[0m\u001B[34m*\u001B[0m\u001B[34m*\u001B[0m\u001B[34m*\u001B[0m\u001B[34m*\u001B[0m\u001B[34m*\u001B[0m\u001B[34m*\u001B[0m\u001B[34m*\u001B[0m\u001B[34m*\u001B[0m\u001B[34m*\u001B[0m\n",
      "\u001B[32m** Rozwiązanie ********************************************************************************\u001B[0m\n"
     ]
    },
    {
     "data": {
      "text/plain": [
       "<IPython.core.display.Latex object>"
      ],
      "text/latex": "$$\\det A=3 x^{2} + 24 x - 99\\neq 0, \\quad \n\tx\\neq -11\\ \\textnormal{oraz} \\ x\\neq 3, $$"
     },
     "metadata": {},
     "output_type": "display_data"
    },
    {
     "data": {
      "text/plain": [
       "<IPython.core.display.Latex object>"
      ],
      "text/latex": "$$ A(2)= \\left[\\begin{matrix}4 & -4 & 1 & 5\\\\2 & -4 & 0 & 1\\\\5 & 0 & 4 & 3\\\\-4 & -1 & -3 & -2\\end{matrix}\\right],\\ \n\t\\det A(2)=-39,\\ \n\tA^{-1}=- \\frac{1}{39}\\left[\\begin{matrix}0 & -13 & 39 & 52\\\\-3 & 7 & 18 & 23\\\\9 & 5 & -54 & -56\\\\-12 & 15 & -6 & -12\\end{matrix}\\right].$$"
     },
     "metadata": {},
     "output_type": "display_data"
    },
    {
     "name": "stdout",
     "output_type": "stream",
     "text": [
      "\u001B[32m*\u001B[0m\u001B[32m*\u001B[0m\u001B[32m*\u001B[0m\u001B[32m*\u001B[0m\u001B[32m*\u001B[0m\u001B[32m*\u001B[0m\u001B[32m*\u001B[0m\u001B[32m*\u001B[0m\u001B[32m*\u001B[0m\u001B[32m*\u001B[0m\u001B[32m*\u001B[0m\u001B[32m*\u001B[0m\u001B[32m*\u001B[0m\u001B[32m*\u001B[0m\u001B[32m*\u001B[0m\u001B[32m*\u001B[0m\u001B[32m*\u001B[0m\u001B[32m*\u001B[0m\u001B[32m*\u001B[0m\u001B[32m*\u001B[0m\u001B[32m*\u001B[0m\u001B[32m*\u001B[0m\u001B[32m*\u001B[0m\u001B[32m*\u001B[0m\u001B[32m*\u001B[0m\u001B[32m*\u001B[0m\u001B[32m*\u001B[0m\u001B[32m*\u001B[0m\u001B[32m*\u001B[0m\u001B[32m*\u001B[0m\u001B[32m*\u001B[0m\u001B[32m*\u001B[0m\u001B[32m*\u001B[0m\u001B[32m*\u001B[0m\u001B[32m*\u001B[0m\u001B[32m*\u001B[0m\u001B[32m*\u001B[0m\u001B[32m*\u001B[0m\u001B[32m*\u001B[0m\u001B[32m*\u001B[0m\u001B[32m*\u001B[0m\u001B[32m*\u001B[0m\u001B[32m*\u001B[0m\u001B[32m*\u001B[0m\u001B[32m*\u001B[0m\u001B[32m*\u001B[0m\u001B[32m*\u001B[0m\u001B[32m*\u001B[0m\u001B[32m*\u001B[0m\u001B[32m*\u001B[0m\u001B[32m*\u001B[0m\u001B[32m*\u001B[0m\u001B[32m*\u001B[0m\u001B[32m*\u001B[0m\u001B[32m*\u001B[0m\u001B[32m*\u001B[0m\u001B[32m*\u001B[0m\u001B[32m*\u001B[0m\u001B[32m*\u001B[0m\u001B[32m*\u001B[0m\u001B[32m*\u001B[0m\u001B[32m*\u001B[0m\u001B[32m*\u001B[0m\u001B[32m*\u001B[0m\u001B[32m*\u001B[0m\u001B[32m*\u001B[0m\u001B[32m*\u001B[0m\u001B[32m*\u001B[0m\u001B[32m*\u001B[0m\u001B[32m*\u001B[0m\u001B[32m*\u001B[0m\u001B[32m*\u001B[0m\u001B[32m*\u001B[0m\u001B[32m*\u001B[0m\u001B[32m*\u001B[0m\u001B[32m*\u001B[0m\u001B[32m*\u001B[0m\u001B[32m*\u001B[0m\u001B[32m*\u001B[0m\u001B[32m*\u001B[0m\u001B[32m*\u001B[0m\u001B[32m*\u001B[0m\u001B[32m*\u001B[0m\u001B[32m*\u001B[0m\u001B[32m*\u001B[0m\u001B[32m*\u001B[0m\u001B[32m*\u001B[0m\u001B[32m*\u001B[0m\u001B[32m*\u001B[0m\u001B[32m*\u001B[0m\u001B[32m*\u001B[0m\u001B[32m*\u001B[0m\u001B[32m*\u001B[0m\u001B[32m*\u001B[0m\u001B[32m*\u001B[0m\n",
      "\u001B[34m** Zadanie 5 **********************************************************************************\u001B[0m\n"
     ]
    },
    {
     "data": {
      "text/plain": [
       "<IPython.core.display.Markdown object>"
      ],
      "text/markdown": "Dla jakich rzeczywistych wartości parametru *x* macierz *A* posiada odwrotność?"
     },
     "metadata": {},
     "output_type": "display_data"
    },
    {
     "data": {
      "text/plain": [
       "<IPython.core.display.Latex object>"
      ],
      "text/latex": "\n\t\\[\n\t\t\\textnormal{A=}\\left[\\begin{matrix}-4 & 4 & -1 & 1\\\\x + 4 & -4 & x + 2 & -4\\\\-2 & -1 & x + 4 & -1\\\\1 & -2 & x + 2 & -2\\end{matrix}\\right]\n\t\\]\n"
     },
     "metadata": {},
     "output_type": "display_data"
    },
    {
     "data": {
      "text/plain": [
       "<IPython.core.display.Markdown object>"
      ],
      "text/markdown": "Wyznaczyć macierz odwrotną dla *x=2.* "
     },
     "metadata": {},
     "output_type": "display_data"
    },
    {
     "name": "stdout",
     "output_type": "stream",
     "text": [
      "\u001B[34m*\u001B[0m\u001B[34m*\u001B[0m\u001B[34m*\u001B[0m\u001B[34m*\u001B[0m\u001B[34m*\u001B[0m\u001B[34m*\u001B[0m\u001B[34m*\u001B[0m\u001B[34m*\u001B[0m\u001B[34m*\u001B[0m\u001B[34m*\u001B[0m\u001B[34m*\u001B[0m\u001B[34m*\u001B[0m\u001B[34m*\u001B[0m\u001B[34m*\u001B[0m\u001B[34m*\u001B[0m\u001B[34m*\u001B[0m\u001B[34m*\u001B[0m\u001B[34m*\u001B[0m\u001B[34m*\u001B[0m\u001B[34m*\u001B[0m\u001B[34m*\u001B[0m\u001B[34m*\u001B[0m\u001B[34m*\u001B[0m\u001B[34m*\u001B[0m\u001B[34m*\u001B[0m\u001B[34m*\u001B[0m\u001B[34m*\u001B[0m\u001B[34m*\u001B[0m\u001B[34m*\u001B[0m\u001B[34m*\u001B[0m\u001B[34m*\u001B[0m\u001B[34m*\u001B[0m\u001B[34m*\u001B[0m\u001B[34m*\u001B[0m\u001B[34m*\u001B[0m\u001B[34m*\u001B[0m\u001B[34m*\u001B[0m\u001B[34m*\u001B[0m\u001B[34m*\u001B[0m\u001B[34m*\u001B[0m\u001B[34m*\u001B[0m\u001B[34m*\u001B[0m\u001B[34m*\u001B[0m\u001B[34m*\u001B[0m\u001B[34m*\u001B[0m\u001B[34m*\u001B[0m\u001B[34m*\u001B[0m\u001B[34m*\u001B[0m\u001B[34m*\u001B[0m\u001B[34m*\u001B[0m\u001B[34m*\u001B[0m\u001B[34m*\u001B[0m\u001B[34m*\u001B[0m\u001B[34m*\u001B[0m\u001B[34m*\u001B[0m\u001B[34m*\u001B[0m\u001B[34m*\u001B[0m\u001B[34m*\u001B[0m\u001B[34m*\u001B[0m\u001B[34m*\u001B[0m\u001B[34m*\u001B[0m\u001B[34m*\u001B[0m\u001B[34m*\u001B[0m\u001B[34m*\u001B[0m\u001B[34m*\u001B[0m\u001B[34m*\u001B[0m\u001B[34m*\u001B[0m\u001B[34m*\u001B[0m\u001B[34m*\u001B[0m\u001B[34m*\u001B[0m\u001B[34m*\u001B[0m\u001B[34m*\u001B[0m\u001B[34m*\u001B[0m\u001B[34m*\u001B[0m\u001B[34m*\u001B[0m\u001B[34m*\u001B[0m\u001B[34m*\u001B[0m\u001B[34m*\u001B[0m\u001B[34m*\u001B[0m\u001B[34m*\u001B[0m\u001B[34m*\u001B[0m\u001B[34m*\u001B[0m\u001B[34m*\u001B[0m\u001B[34m*\u001B[0m\u001B[34m*\u001B[0m\u001B[34m*\u001B[0m\u001B[34m*\u001B[0m\u001B[34m*\u001B[0m\u001B[34m*\u001B[0m\u001B[34m*\u001B[0m\u001B[34m*\u001B[0m\u001B[34m*\u001B[0m\u001B[34m*\u001B[0m\u001B[34m*\u001B[0m\u001B[34m*\u001B[0m\n",
      "\u001B[32m** Rozwiązanie ********************************************************************************\u001B[0m\n"
     ]
    },
    {
     "data": {
      "text/plain": [
       "<IPython.core.display.Latex object>"
      ],
      "text/latex": "$$\\det A=3 x^{2} + 9 x + 6\\neq 0, \\quad \n\tx\\neq -2\\ \\textnormal{oraz} \\ x\\neq -1, $$"
     },
     "metadata": {},
     "output_type": "display_data"
    },
    {
     "data": {
      "text/plain": [
       "<IPython.core.display.Latex object>"
      ],
      "text/latex": "$$ A(2)= \\left[\\begin{matrix}-4 & 4 & -1 & 1\\\\6 & -4 & 4 & -4\\\\-2 & -1 & 6 & -1\\\\1 & -2 & 4 & -2\\end{matrix}\\right],\\ \n\t\\det A(2)=36,\\ \n\tA^{-1}=\\frac{1}{36}\\left[\\begin{matrix}0 & 24 & 24 & -60\\\\12 & 23 & 20 & -50\\\\0 & 15 & 24 & -42\\\\-12 & 19 & 40 & -82\\end{matrix}\\right].$$"
     },
     "metadata": {},
     "output_type": "display_data"
    },
    {
     "name": "stdout",
     "output_type": "stream",
     "text": [
      "\u001B[32m*\u001B[0m\u001B[32m*\u001B[0m\u001B[32m*\u001B[0m\u001B[32m*\u001B[0m\u001B[32m*\u001B[0m\u001B[32m*\u001B[0m\u001B[32m*\u001B[0m\u001B[32m*\u001B[0m\u001B[32m*\u001B[0m\u001B[32m*\u001B[0m\u001B[32m*\u001B[0m\u001B[32m*\u001B[0m\u001B[32m*\u001B[0m\u001B[32m*\u001B[0m\u001B[32m*\u001B[0m\u001B[32m*\u001B[0m\u001B[32m*\u001B[0m\u001B[32m*\u001B[0m\u001B[32m*\u001B[0m\u001B[32m*\u001B[0m\u001B[32m*\u001B[0m\u001B[32m*\u001B[0m\u001B[32m*\u001B[0m\u001B[32m*\u001B[0m\u001B[32m*\u001B[0m\u001B[32m*\u001B[0m\u001B[32m*\u001B[0m\u001B[32m*\u001B[0m\u001B[32m*\u001B[0m\u001B[32m*\u001B[0m\u001B[32m*\u001B[0m\u001B[32m*\u001B[0m\u001B[32m*\u001B[0m\u001B[32m*\u001B[0m\u001B[32m*\u001B[0m\u001B[32m*\u001B[0m\u001B[32m*\u001B[0m\u001B[32m*\u001B[0m\u001B[32m*\u001B[0m\u001B[32m*\u001B[0m\u001B[32m*\u001B[0m\u001B[32m*\u001B[0m\u001B[32m*\u001B[0m\u001B[32m*\u001B[0m\u001B[32m*\u001B[0m\u001B[32m*\u001B[0m\u001B[32m*\u001B[0m\u001B[32m*\u001B[0m\u001B[32m*\u001B[0m\u001B[32m*\u001B[0m\u001B[32m*\u001B[0m\u001B[32m*\u001B[0m\u001B[32m*\u001B[0m\u001B[32m*\u001B[0m\u001B[32m*\u001B[0m\u001B[32m*\u001B[0m\u001B[32m*\u001B[0m\u001B[32m*\u001B[0m\u001B[32m*\u001B[0m\u001B[32m*\u001B[0m\u001B[32m*\u001B[0m\u001B[32m*\u001B[0m\u001B[32m*\u001B[0m\u001B[32m*\u001B[0m\u001B[32m*\u001B[0m\u001B[32m*\u001B[0m\u001B[32m*\u001B[0m\u001B[32m*\u001B[0m\u001B[32m*\u001B[0m\u001B[32m*\u001B[0m\u001B[32m*\u001B[0m\u001B[32m*\u001B[0m\u001B[32m*\u001B[0m\u001B[32m*\u001B[0m\u001B[32m*\u001B[0m\u001B[32m*\u001B[0m\u001B[32m*\u001B[0m\u001B[32m*\u001B[0m\u001B[32m*\u001B[0m\u001B[32m*\u001B[0m\u001B[32m*\u001B[0m\u001B[32m*\u001B[0m\u001B[32m*\u001B[0m\u001B[32m*\u001B[0m\u001B[32m*\u001B[0m\u001B[32m*\u001B[0m\u001B[32m*\u001B[0m\u001B[32m*\u001B[0m\u001B[32m*\u001B[0m\u001B[32m*\u001B[0m\u001B[32m*\u001B[0m\u001B[32m*\u001B[0m\u001B[32m*\u001B[0m\u001B[32m*\u001B[0m\u001B[32m*\u001B[0m\n",
      "\u001B[34m** Zadanie 6 **********************************************************************************\u001B[0m\n"
     ]
    },
    {
     "data": {
      "text/plain": [
       "<IPython.core.display.Markdown object>"
      ],
      "text/markdown": "Dla jakich rzeczywistych wartości parametru *x* macierz *A* posiada odwrotność?"
     },
     "metadata": {},
     "output_type": "display_data"
    },
    {
     "data": {
      "text/plain": [
       "<IPython.core.display.Latex object>"
      ],
      "text/latex": "\n\t\\[\n\t\t\\textnormal{A=}\\left[\\begin{matrix}x - 1 & x + 3\\\\1 & 2 x + 1\\end{matrix}\\right]\n\t\\]\n"
     },
     "metadata": {},
     "output_type": "display_data"
    },
    {
     "data": {
      "text/plain": [
       "<IPython.core.display.Markdown object>"
      ],
      "text/markdown": "Wyznaczyć macierz odwrotną dla *x=-2.* "
     },
     "metadata": {},
     "output_type": "display_data"
    },
    {
     "name": "stdout",
     "output_type": "stream",
     "text": [
      "\u001B[34m*\u001B[0m\u001B[34m*\u001B[0m\u001B[34m*\u001B[0m\u001B[34m*\u001B[0m\u001B[34m*\u001B[0m\u001B[34m*\u001B[0m\u001B[34m*\u001B[0m\u001B[34m*\u001B[0m\u001B[34m*\u001B[0m\u001B[34m*\u001B[0m\u001B[34m*\u001B[0m\u001B[34m*\u001B[0m\u001B[34m*\u001B[0m\u001B[34m*\u001B[0m\u001B[34m*\u001B[0m\u001B[34m*\u001B[0m\u001B[34m*\u001B[0m\u001B[34m*\u001B[0m\u001B[34m*\u001B[0m\u001B[34m*\u001B[0m\u001B[34m*\u001B[0m\u001B[34m*\u001B[0m\u001B[34m*\u001B[0m\u001B[34m*\u001B[0m\u001B[34m*\u001B[0m\u001B[34m*\u001B[0m\u001B[34m*\u001B[0m\u001B[34m*\u001B[0m\u001B[34m*\u001B[0m\u001B[34m*\u001B[0m\u001B[34m*\u001B[0m\u001B[34m*\u001B[0m\u001B[34m*\u001B[0m\u001B[34m*\u001B[0m\u001B[34m*\u001B[0m\u001B[34m*\u001B[0m\u001B[34m*\u001B[0m\u001B[34m*\u001B[0m\u001B[34m*\u001B[0m\u001B[34m*\u001B[0m\u001B[34m*\u001B[0m\u001B[34m*\u001B[0m\u001B[34m*\u001B[0m\u001B[34m*\u001B[0m\u001B[34m*\u001B[0m\u001B[34m*\u001B[0m\u001B[34m*\u001B[0m\u001B[34m*\u001B[0m\u001B[34m*\u001B[0m\u001B[34m*\u001B[0m\u001B[34m*\u001B[0m\u001B[34m*\u001B[0m\u001B[34m*\u001B[0m\u001B[34m*\u001B[0m\u001B[34m*\u001B[0m\u001B[34m*\u001B[0m\u001B[34m*\u001B[0m\u001B[34m*\u001B[0m\u001B[34m*\u001B[0m\u001B[34m*\u001B[0m\u001B[34m*\u001B[0m\u001B[34m*\u001B[0m\u001B[34m*\u001B[0m\u001B[34m*\u001B[0m\u001B[34m*\u001B[0m\u001B[34m*\u001B[0m\u001B[34m*\u001B[0m\u001B[34m*\u001B[0m\u001B[34m*\u001B[0m\u001B[34m*\u001B[0m\u001B[34m*\u001B[0m\u001B[34m*\u001B[0m\u001B[34m*\u001B[0m\u001B[34m*\u001B[0m\u001B[34m*\u001B[0m\u001B[34m*\u001B[0m\u001B[34m*\u001B[0m\u001B[34m*\u001B[0m\u001B[34m*\u001B[0m\u001B[34m*\u001B[0m\u001B[34m*\u001B[0m\u001B[34m*\u001B[0m\u001B[34m*\u001B[0m\u001B[34m*\u001B[0m\u001B[34m*\u001B[0m\u001B[34m*\u001B[0m\u001B[34m*\u001B[0m\u001B[34m*\u001B[0m\u001B[34m*\u001B[0m\u001B[34m*\u001B[0m\u001B[34m*\u001B[0m\u001B[34m*\u001B[0m\u001B[34m*\u001B[0m\u001B[34m*\u001B[0m\u001B[34m*\u001B[0m\n",
      "\u001B[32m** Rozwiązanie ********************************************************************************\u001B[0m\n"
     ]
    },
    {
     "data": {
      "text/plain": [
       "<IPython.core.display.Latex object>"
      ],
      "text/latex": "$$\\det A=2 x^{2} - 2 x - 4\\neq 0, \\quad \n\tx\\neq -1\\ \\textnormal{oraz} \\ x\\neq 2, $$"
     },
     "metadata": {},
     "output_type": "display_data"
    },
    {
     "data": {
      "text/plain": [
       "<IPython.core.display.Latex object>"
      ],
      "text/latex": "$$ A(-2)= \\left[\\begin{matrix}-3 & 1\\\\1 & -3\\end{matrix}\\right],\\ \n\t\\det A(-2)=8,\\ \n\tA^{-1}=\\frac{1}{8}\\left[\\begin{matrix}-3 & -1\\\\-1 & -3\\end{matrix}\\right].$$"
     },
     "metadata": {},
     "output_type": "display_data"
    },
    {
     "name": "stdout",
     "output_type": "stream",
     "text": [
      "\u001B[32m*\u001B[0m\u001B[32m*\u001B[0m\u001B[32m*\u001B[0m\u001B[32m*\u001B[0m\u001B[32m*\u001B[0m\u001B[32m*\u001B[0m\u001B[32m*\u001B[0m\u001B[32m*\u001B[0m\u001B[32m*\u001B[0m\u001B[32m*\u001B[0m\u001B[32m*\u001B[0m\u001B[32m*\u001B[0m\u001B[32m*\u001B[0m\u001B[32m*\u001B[0m\u001B[32m*\u001B[0m\u001B[32m*\u001B[0m\u001B[32m*\u001B[0m\u001B[32m*\u001B[0m\u001B[32m*\u001B[0m\u001B[32m*\u001B[0m\u001B[32m*\u001B[0m\u001B[32m*\u001B[0m\u001B[32m*\u001B[0m\u001B[32m*\u001B[0m\u001B[32m*\u001B[0m\u001B[32m*\u001B[0m\u001B[32m*\u001B[0m\u001B[32m*\u001B[0m\u001B[32m*\u001B[0m\u001B[32m*\u001B[0m\u001B[32m*\u001B[0m\u001B[32m*\u001B[0m\u001B[32m*\u001B[0m\u001B[32m*\u001B[0m\u001B[32m*\u001B[0m\u001B[32m*\u001B[0m\u001B[32m*\u001B[0m\u001B[32m*\u001B[0m\u001B[32m*\u001B[0m\u001B[32m*\u001B[0m\u001B[32m*\u001B[0m\u001B[32m*\u001B[0m\u001B[32m*\u001B[0m\u001B[32m*\u001B[0m\u001B[32m*\u001B[0m\u001B[32m*\u001B[0m\u001B[32m*\u001B[0m\u001B[32m*\u001B[0m\u001B[32m*\u001B[0m\u001B[32m*\u001B[0m\u001B[32m*\u001B[0m\u001B[32m*\u001B[0m\u001B[32m*\u001B[0m\u001B[32m*\u001B[0m\u001B[32m*\u001B[0m\u001B[32m*\u001B[0m\u001B[32m*\u001B[0m\u001B[32m*\u001B[0m\u001B[32m*\u001B[0m\u001B[32m*\u001B[0m\u001B[32m*\u001B[0m\u001B[32m*\u001B[0m\u001B[32m*\u001B[0m\u001B[32m*\u001B[0m\u001B[32m*\u001B[0m\u001B[32m*\u001B[0m\u001B[32m*\u001B[0m\u001B[32m*\u001B[0m\u001B[32m*\u001B[0m\u001B[32m*\u001B[0m\u001B[32m*\u001B[0m\u001B[32m*\u001B[0m\u001B[32m*\u001B[0m\u001B[32m*\u001B[0m\u001B[32m*\u001B[0m\u001B[32m*\u001B[0m\u001B[32m*\u001B[0m\u001B[32m*\u001B[0m\u001B[32m*\u001B[0m\u001B[32m*\u001B[0m\u001B[32m*\u001B[0m\u001B[32m*\u001B[0m\u001B[32m*\u001B[0m\u001B[32m*\u001B[0m\u001B[32m*\u001B[0m\u001B[32m*\u001B[0m\u001B[32m*\u001B[0m\u001B[32m*\u001B[0m\u001B[32m*\u001B[0m\u001B[32m*\u001B[0m\u001B[32m*\u001B[0m\u001B[32m*\u001B[0m\u001B[32m*\u001B[0m\u001B[32m*\u001B[0m\u001B[32m*\u001B[0m\n",
      "\u001B[34m** Zadanie 7 **********************************************************************************\u001B[0m\n"
     ]
    },
    {
     "data": {
      "text/plain": [
       "<IPython.core.display.Markdown object>"
      ],
      "text/markdown": "Dla jakich rzeczywistych wartości parametru *x* macierz *A* posiada odwrotność?"
     },
     "metadata": {},
     "output_type": "display_data"
    },
    {
     "data": {
      "text/plain": [
       "<IPython.core.display.Latex object>"
      ],
      "text/latex": "\n\t\\[\n\t\t\\textnormal{A=}\\left[\\begin{matrix}-1 & -1 & 2 & 4\\\\2 x - 1 & 3 & 1 & -3\\\\0 & 0 & -2 & -3\\\\4 & 4 & x - 2 & x + 3\\end{matrix}\\right]\n\t\\]\n"
     },
     "metadata": {},
     "output_type": "display_data"
    },
    {
     "data": {
      "text/plain": [
       "<IPython.core.display.Markdown object>"
      ],
      "text/markdown": "Wyznaczyć macierz odwrotną dla *x=3.* "
     },
     "metadata": {},
     "output_type": "display_data"
    },
    {
     "name": "stdout",
     "output_type": "stream",
     "text": [
      "\u001B[34m*\u001B[0m\u001B[34m*\u001B[0m\u001B[34m*\u001B[0m\u001B[34m*\u001B[0m\u001B[34m*\u001B[0m\u001B[34m*\u001B[0m\u001B[34m*\u001B[0m\u001B[34m*\u001B[0m\u001B[34m*\u001B[0m\u001B[34m*\u001B[0m\u001B[34m*\u001B[0m\u001B[34m*\u001B[0m\u001B[34m*\u001B[0m\u001B[34m*\u001B[0m\u001B[34m*\u001B[0m\u001B[34m*\u001B[0m\u001B[34m*\u001B[0m\u001B[34m*\u001B[0m\u001B[34m*\u001B[0m\u001B[34m*\u001B[0m\u001B[34m*\u001B[0m\u001B[34m*\u001B[0m\u001B[34m*\u001B[0m\u001B[34m*\u001B[0m\u001B[34m*\u001B[0m\u001B[34m*\u001B[0m\u001B[34m*\u001B[0m\u001B[34m*\u001B[0m\u001B[34m*\u001B[0m\u001B[34m*\u001B[0m\u001B[34m*\u001B[0m\u001B[34m*\u001B[0m\u001B[34m*\u001B[0m\u001B[34m*\u001B[0m\u001B[34m*\u001B[0m\u001B[34m*\u001B[0m\u001B[34m*\u001B[0m\u001B[34m*\u001B[0m\u001B[34m*\u001B[0m\u001B[34m*\u001B[0m\u001B[34m*\u001B[0m\u001B[34m*\u001B[0m\u001B[34m*\u001B[0m\u001B[34m*\u001B[0m\u001B[34m*\u001B[0m\u001B[34m*\u001B[0m\u001B[34m*\u001B[0m\u001B[34m*\u001B[0m\u001B[34m*\u001B[0m\u001B[34m*\u001B[0m\u001B[34m*\u001B[0m\u001B[34m*\u001B[0m\u001B[34m*\u001B[0m\u001B[34m*\u001B[0m\u001B[34m*\u001B[0m\u001B[34m*\u001B[0m\u001B[34m*\u001B[0m\u001B[34m*\u001B[0m\u001B[34m*\u001B[0m\u001B[34m*\u001B[0m\u001B[34m*\u001B[0m\u001B[34m*\u001B[0m\u001B[34m*\u001B[0m\u001B[34m*\u001B[0m\u001B[34m*\u001B[0m\u001B[34m*\u001B[0m\u001B[34m*\u001B[0m\u001B[34m*\u001B[0m\u001B[34m*\u001B[0m\u001B[34m*\u001B[0m\u001B[34m*\u001B[0m\u001B[34m*\u001B[0m\u001B[34m*\u001B[0m\u001B[34m*\u001B[0m\u001B[34m*\u001B[0m\u001B[34m*\u001B[0m\u001B[34m*\u001B[0m\u001B[34m*\u001B[0m\u001B[34m*\u001B[0m\u001B[34m*\u001B[0m\u001B[34m*\u001B[0m\u001B[34m*\u001B[0m\u001B[34m*\u001B[0m\u001B[34m*\u001B[0m\u001B[34m*\u001B[0m\u001B[34m*\u001B[0m\u001B[34m*\u001B[0m\u001B[34m*\u001B[0m\u001B[34m*\u001B[0m\u001B[34m*\u001B[0m\u001B[34m*\u001B[0m\u001B[34m*\u001B[0m\u001B[34m*\u001B[0m\u001B[34m*\u001B[0m\u001B[34m*\u001B[0m\n",
      "\u001B[32m** Rozwiązanie ********************************************************************************\u001B[0m\n"
     ]
    },
    {
     "data": {
      "text/plain": [
       "<IPython.core.display.Latex object>"
      ],
      "text/latex": "$$\\det A=2 x^{2} - 44 x + 80\\neq 0, \\quad \n\tx\\neq 2\\ \\textnormal{oraz} \\ x\\neq 20, $$"
     },
     "metadata": {},
     "output_type": "display_data"
    },
    {
     "data": {
      "text/plain": [
       "<IPython.core.display.Latex object>"
      ],
      "text/latex": "$$ A(3)= \\left[\\begin{matrix}-1 & -1 & 2 & 4\\\\5 & 3 & 1 & -3\\\\0 & 0 & -2 & -3\\\\4 & 4 & 1 & 6\\end{matrix}\\right],\\ \n\t\\det A(3)=-34,\\ \n\tA^{-1}=- \\frac{1}{34}\\left[\\begin{matrix}-63 & -17 & -73 & -3\\\\81 & 17 & 89 & -1\\\\24 & 0 & 44 & 6\\\\-16 & 0 & -18 & -4\\end{matrix}\\right].$$"
     },
     "metadata": {},
     "output_type": "display_data"
    },
    {
     "name": "stdout",
     "output_type": "stream",
     "text": [
      "\u001B[32m*\u001B[0m\u001B[32m*\u001B[0m\u001B[32m*\u001B[0m\u001B[32m*\u001B[0m\u001B[32m*\u001B[0m\u001B[32m*\u001B[0m\u001B[32m*\u001B[0m\u001B[32m*\u001B[0m\u001B[32m*\u001B[0m\u001B[32m*\u001B[0m\u001B[32m*\u001B[0m\u001B[32m*\u001B[0m\u001B[32m*\u001B[0m\u001B[32m*\u001B[0m\u001B[32m*\u001B[0m\u001B[32m*\u001B[0m\u001B[32m*\u001B[0m\u001B[32m*\u001B[0m\u001B[32m*\u001B[0m\u001B[32m*\u001B[0m\u001B[32m*\u001B[0m\u001B[32m*\u001B[0m\u001B[32m*\u001B[0m\u001B[32m*\u001B[0m\u001B[32m*\u001B[0m\u001B[32m*\u001B[0m\u001B[32m*\u001B[0m\u001B[32m*\u001B[0m\u001B[32m*\u001B[0m\u001B[32m*\u001B[0m\u001B[32m*\u001B[0m\u001B[32m*\u001B[0m\u001B[32m*\u001B[0m\u001B[32m*\u001B[0m\u001B[32m*\u001B[0m\u001B[32m*\u001B[0m\u001B[32m*\u001B[0m\u001B[32m*\u001B[0m\u001B[32m*\u001B[0m\u001B[32m*\u001B[0m\u001B[32m*\u001B[0m\u001B[32m*\u001B[0m\u001B[32m*\u001B[0m\u001B[32m*\u001B[0m\u001B[32m*\u001B[0m\u001B[32m*\u001B[0m\u001B[32m*\u001B[0m\u001B[32m*\u001B[0m\u001B[32m*\u001B[0m\u001B[32m*\u001B[0m\u001B[32m*\u001B[0m\u001B[32m*\u001B[0m\u001B[32m*\u001B[0m\u001B[32m*\u001B[0m\u001B[32m*\u001B[0m\u001B[32m*\u001B[0m\u001B[32m*\u001B[0m\u001B[32m*\u001B[0m\u001B[32m*\u001B[0m\u001B[32m*\u001B[0m\u001B[32m*\u001B[0m\u001B[32m*\u001B[0m\u001B[32m*\u001B[0m\u001B[32m*\u001B[0m\u001B[32m*\u001B[0m\u001B[32m*\u001B[0m\u001B[32m*\u001B[0m\u001B[32m*\u001B[0m\u001B[32m*\u001B[0m\u001B[32m*\u001B[0m\u001B[32m*\u001B[0m\u001B[32m*\u001B[0m\u001B[32m*\u001B[0m\u001B[32m*\u001B[0m\u001B[32m*\u001B[0m\u001B[32m*\u001B[0m\u001B[32m*\u001B[0m\u001B[32m*\u001B[0m\u001B[32m*\u001B[0m\u001B[32m*\u001B[0m\u001B[32m*\u001B[0m\u001B[32m*\u001B[0m\u001B[32m*\u001B[0m\u001B[32m*\u001B[0m\u001B[32m*\u001B[0m\u001B[32m*\u001B[0m\u001B[32m*\u001B[0m\u001B[32m*\u001B[0m\u001B[32m*\u001B[0m\u001B[32m*\u001B[0m\u001B[32m*\u001B[0m\u001B[32m*\u001B[0m\u001B[32m*\u001B[0m\u001B[32m*\u001B[0m\u001B[32m*\u001B[0m\n",
      "\u001B[34m** Zadanie 8 **********************************************************************************\u001B[0m\n"
     ]
    },
    {
     "data": {
      "text/plain": [
       "<IPython.core.display.Markdown object>"
      ],
      "text/markdown": "Dla jakich rzeczywistych wartości parametru *x* macierz *A* posiada odwrotność?"
     },
     "metadata": {},
     "output_type": "display_data"
    },
    {
     "data": {
      "text/plain": [
       "<IPython.core.display.Latex object>"
      ],
      "text/latex": "\n\t\\[\n\t\t\\textnormal{A=}\\left[\\begin{matrix}x - 3 & x - 3\\\\2 & 2 x + 2\\end{matrix}\\right]\n\t\\]\n"
     },
     "metadata": {},
     "output_type": "display_data"
    },
    {
     "data": {
      "text/plain": [
       "<IPython.core.display.Markdown object>"
      ],
      "text/markdown": "Wyznaczyć macierz odwrotną dla *x=2.* "
     },
     "metadata": {},
     "output_type": "display_data"
    },
    {
     "name": "stdout",
     "output_type": "stream",
     "text": [
      "\u001B[34m*\u001B[0m\u001B[34m*\u001B[0m\u001B[34m*\u001B[0m\u001B[34m*\u001B[0m\u001B[34m*\u001B[0m\u001B[34m*\u001B[0m\u001B[34m*\u001B[0m\u001B[34m*\u001B[0m\u001B[34m*\u001B[0m\u001B[34m*\u001B[0m\u001B[34m*\u001B[0m\u001B[34m*\u001B[0m\u001B[34m*\u001B[0m\u001B[34m*\u001B[0m\u001B[34m*\u001B[0m\u001B[34m*\u001B[0m\u001B[34m*\u001B[0m\u001B[34m*\u001B[0m\u001B[34m*\u001B[0m\u001B[34m*\u001B[0m\u001B[34m*\u001B[0m\u001B[34m*\u001B[0m\u001B[34m*\u001B[0m\u001B[34m*\u001B[0m\u001B[34m*\u001B[0m\u001B[34m*\u001B[0m\u001B[34m*\u001B[0m\u001B[34m*\u001B[0m\u001B[34m*\u001B[0m\u001B[34m*\u001B[0m\u001B[34m*\u001B[0m\u001B[34m*\u001B[0m\u001B[34m*\u001B[0m\u001B[34m*\u001B[0m\u001B[34m*\u001B[0m\u001B[34m*\u001B[0m\u001B[34m*\u001B[0m\u001B[34m*\u001B[0m\u001B[34m*\u001B[0m\u001B[34m*\u001B[0m\u001B[34m*\u001B[0m\u001B[34m*\u001B[0m\u001B[34m*\u001B[0m\u001B[34m*\u001B[0m\u001B[34m*\u001B[0m\u001B[34m*\u001B[0m\u001B[34m*\u001B[0m\u001B[34m*\u001B[0m\u001B[34m*\u001B[0m\u001B[34m*\u001B[0m\u001B[34m*\u001B[0m\u001B[34m*\u001B[0m\u001B[34m*\u001B[0m\u001B[34m*\u001B[0m\u001B[34m*\u001B[0m\u001B[34m*\u001B[0m\u001B[34m*\u001B[0m\u001B[34m*\u001B[0m\u001B[34m*\u001B[0m\u001B[34m*\u001B[0m\u001B[34m*\u001B[0m\u001B[34m*\u001B[0m\u001B[34m*\u001B[0m\u001B[34m*\u001B[0m\u001B[34m*\u001B[0m\u001B[34m*\u001B[0m\u001B[34m*\u001B[0m\u001B[34m*\u001B[0m\u001B[34m*\u001B[0m\u001B[34m*\u001B[0m\u001B[34m*\u001B[0m\u001B[34m*\u001B[0m\u001B[34m*\u001B[0m\u001B[34m*\u001B[0m\u001B[34m*\u001B[0m\u001B[34m*\u001B[0m\u001B[34m*\u001B[0m\u001B[34m*\u001B[0m\u001B[34m*\u001B[0m\u001B[34m*\u001B[0m\u001B[34m*\u001B[0m\u001B[34m*\u001B[0m\u001B[34m*\u001B[0m\u001B[34m*\u001B[0m\u001B[34m*\u001B[0m\u001B[34m*\u001B[0m\u001B[34m*\u001B[0m\u001B[34m*\u001B[0m\u001B[34m*\u001B[0m\u001B[34m*\u001B[0m\u001B[34m*\u001B[0m\u001B[34m*\u001B[0m\u001B[34m*\u001B[0m\u001B[34m*\u001B[0m\u001B[34m*\u001B[0m\n",
      "\u001B[32m** Rozwiązanie ********************************************************************************\u001B[0m\n"
     ]
    },
    {
     "data": {
      "text/plain": [
       "<IPython.core.display.Latex object>"
      ],
      "text/latex": "$$\\det A=2 x^{2} - 6 x\\neq 0, \\quad \n\tx\\neq 0\\ \\textnormal{oraz} \\ x\\neq 3, $$"
     },
     "metadata": {},
     "output_type": "display_data"
    },
    {
     "data": {
      "text/plain": [
       "<IPython.core.display.Latex object>"
      ],
      "text/latex": "$$ A(2)= \\left[\\begin{matrix}-1 & -1\\\\2 & 6\\end{matrix}\\right],\\ \n\t\\det A(2)=-4,\\ \n\tA^{-1}=- \\frac{1}{4}\\left[\\begin{matrix}6 & 1\\\\-2 & -1\\end{matrix}\\right].$$"
     },
     "metadata": {},
     "output_type": "display_data"
    },
    {
     "name": "stdout",
     "output_type": "stream",
     "text": [
      "\u001B[32m*\u001B[0m\u001B[32m*\u001B[0m\u001B[32m*\u001B[0m\u001B[32m*\u001B[0m\u001B[32m*\u001B[0m\u001B[32m*\u001B[0m\u001B[32m*\u001B[0m\u001B[32m*\u001B[0m\u001B[32m*\u001B[0m\u001B[32m*\u001B[0m\u001B[32m*\u001B[0m\u001B[32m*\u001B[0m\u001B[32m*\u001B[0m\u001B[32m*\u001B[0m\u001B[32m*\u001B[0m\u001B[32m*\u001B[0m\u001B[32m*\u001B[0m\u001B[32m*\u001B[0m\u001B[32m*\u001B[0m\u001B[32m*\u001B[0m\u001B[32m*\u001B[0m\u001B[32m*\u001B[0m\u001B[32m*\u001B[0m\u001B[32m*\u001B[0m\u001B[32m*\u001B[0m\u001B[32m*\u001B[0m\u001B[32m*\u001B[0m\u001B[32m*\u001B[0m\u001B[32m*\u001B[0m\u001B[32m*\u001B[0m\u001B[32m*\u001B[0m\u001B[32m*\u001B[0m\u001B[32m*\u001B[0m\u001B[32m*\u001B[0m\u001B[32m*\u001B[0m\u001B[32m*\u001B[0m\u001B[32m*\u001B[0m\u001B[32m*\u001B[0m\u001B[32m*\u001B[0m\u001B[32m*\u001B[0m\u001B[32m*\u001B[0m\u001B[32m*\u001B[0m\u001B[32m*\u001B[0m\u001B[32m*\u001B[0m\u001B[32m*\u001B[0m\u001B[32m*\u001B[0m\u001B[32m*\u001B[0m\u001B[32m*\u001B[0m\u001B[32m*\u001B[0m\u001B[32m*\u001B[0m\u001B[32m*\u001B[0m\u001B[32m*\u001B[0m\u001B[32m*\u001B[0m\u001B[32m*\u001B[0m\u001B[32m*\u001B[0m\u001B[32m*\u001B[0m\u001B[32m*\u001B[0m\u001B[32m*\u001B[0m\u001B[32m*\u001B[0m\u001B[32m*\u001B[0m\u001B[32m*\u001B[0m\u001B[32m*\u001B[0m\u001B[32m*\u001B[0m\u001B[32m*\u001B[0m\u001B[32m*\u001B[0m\u001B[32m*\u001B[0m\u001B[32m*\u001B[0m\u001B[32m*\u001B[0m\u001B[32m*\u001B[0m\u001B[32m*\u001B[0m\u001B[32m*\u001B[0m\u001B[32m*\u001B[0m\u001B[32m*\u001B[0m\u001B[32m*\u001B[0m\u001B[32m*\u001B[0m\u001B[32m*\u001B[0m\u001B[32m*\u001B[0m\u001B[32m*\u001B[0m\u001B[32m*\u001B[0m\u001B[32m*\u001B[0m\u001B[32m*\u001B[0m\u001B[32m*\u001B[0m\u001B[32m*\u001B[0m\u001B[32m*\u001B[0m\u001B[32m*\u001B[0m\u001B[32m*\u001B[0m\u001B[32m*\u001B[0m\u001B[32m*\u001B[0m\u001B[32m*\u001B[0m\u001B[32m*\u001B[0m\u001B[32m*\u001B[0m\u001B[32m*\u001B[0m\u001B[32m*\u001B[0m\u001B[32m*\u001B[0m\u001B[32m*\u001B[0m\n",
      "\u001B[34m** Zadanie 9 **********************************************************************************\u001B[0m\n"
     ]
    },
    {
     "data": {
      "text/plain": [
       "<IPython.core.display.Markdown object>"
      ],
      "text/markdown": "Dla jakich rzeczywistych wartości parametru *x* macierz *A* posiada odwrotność?"
     },
     "metadata": {},
     "output_type": "display_data"
    },
    {
     "data": {
      "text/plain": [
       "<IPython.core.display.Latex object>"
      ],
      "text/latex": "\n\t\\[\n\t\t\\textnormal{A=}\\left[\\begin{matrix}1 & 4 & 4 & -1\\\\-2 & -1 & -2 & 3\\\\x - 2 & -4 & 4 & -1\\\\x - 3 & x - 4 & x + 1 & 3\\end{matrix}\\right]\n\t\\]\n"
     },
     "metadata": {},
     "output_type": "display_data"
    },
    {
     "data": {
      "text/plain": [
       "<IPython.core.display.Markdown object>"
      ],
      "text/markdown": "Wyznaczyć macierz odwrotną dla *x=-2.* "
     },
     "metadata": {},
     "output_type": "display_data"
    },
    {
     "name": "stdout",
     "output_type": "stream",
     "text": [
      "\u001B[34m*\u001B[0m\u001B[34m*\u001B[0m\u001B[34m*\u001B[0m\u001B[34m*\u001B[0m\u001B[34m*\u001B[0m\u001B[34m*\u001B[0m\u001B[34m*\u001B[0m\u001B[34m*\u001B[0m\u001B[34m*\u001B[0m\u001B[34m*\u001B[0m\u001B[34m*\u001B[0m\u001B[34m*\u001B[0m\u001B[34m*\u001B[0m\u001B[34m*\u001B[0m\u001B[34m*\u001B[0m\u001B[34m*\u001B[0m\u001B[34m*\u001B[0m\u001B[34m*\u001B[0m\u001B[34m*\u001B[0m\u001B[34m*\u001B[0m\u001B[34m*\u001B[0m\u001B[34m*\u001B[0m\u001B[34m*\u001B[0m\u001B[34m*\u001B[0m\u001B[34m*\u001B[0m\u001B[34m*\u001B[0m\u001B[34m*\u001B[0m\u001B[34m*\u001B[0m\u001B[34m*\u001B[0m\u001B[34m*\u001B[0m\u001B[34m*\u001B[0m\u001B[34m*\u001B[0m\u001B[34m*\u001B[0m\u001B[34m*\u001B[0m\u001B[34m*\u001B[0m\u001B[34m*\u001B[0m\u001B[34m*\u001B[0m\u001B[34m*\u001B[0m\u001B[34m*\u001B[0m\u001B[34m*\u001B[0m\u001B[34m*\u001B[0m\u001B[34m*\u001B[0m\u001B[34m*\u001B[0m\u001B[34m*\u001B[0m\u001B[34m*\u001B[0m\u001B[34m*\u001B[0m\u001B[34m*\u001B[0m\u001B[34m*\u001B[0m\u001B[34m*\u001B[0m\u001B[34m*\u001B[0m\u001B[34m*\u001B[0m\u001B[34m*\u001B[0m\u001B[34m*\u001B[0m\u001B[34m*\u001B[0m\u001B[34m*\u001B[0m\u001B[34m*\u001B[0m\u001B[34m*\u001B[0m\u001B[34m*\u001B[0m\u001B[34m*\u001B[0m\u001B[34m*\u001B[0m\u001B[34m*\u001B[0m\u001B[34m*\u001B[0m\u001B[34m*\u001B[0m\u001B[34m*\u001B[0m\u001B[34m*\u001B[0m\u001B[34m*\u001B[0m\u001B[34m*\u001B[0m\u001B[34m*\u001B[0m\u001B[34m*\u001B[0m\u001B[34m*\u001B[0m\u001B[34m*\u001B[0m\u001B[34m*\u001B[0m\u001B[34m*\u001B[0m\u001B[34m*\u001B[0m\u001B[34m*\u001B[0m\u001B[34m*\u001B[0m\u001B[34m*\u001B[0m\u001B[34m*\u001B[0m\u001B[34m*\u001B[0m\u001B[34m*\u001B[0m\u001B[34m*\u001B[0m\u001B[34m*\u001B[0m\u001B[34m*\u001B[0m\u001B[34m*\u001B[0m\u001B[34m*\u001B[0m\u001B[34m*\u001B[0m\u001B[34m*\u001B[0m\u001B[34m*\u001B[0m\u001B[34m*\u001B[0m\u001B[34m*\u001B[0m\u001B[34m*\u001B[0m\u001B[34m*\u001B[0m\u001B[34m*\u001B[0m\u001B[34m*\u001B[0m\u001B[34m*\u001B[0m\n",
      "\u001B[32m** Rozwiązanie ********************************************************************************\u001B[0m\n"
     ]
    },
    {
     "data": {
      "text/plain": [
       "<IPython.core.display.Latex object>"
      ],
      "text/latex": "$$\\det A=- x^{2} + 12 x + 85\\neq 0, \\quad \n\tx\\neq -5\\ \\textnormal{oraz} \\ x\\neq 17, $$"
     },
     "metadata": {},
     "output_type": "display_data"
    },
    {
     "data": {
      "text/plain": [
       "<IPython.core.display.Latex object>"
      ],
      "text/latex": "$$ A(-2)= \\left[\\begin{matrix}1 & 4 & 4 & -1\\\\-2 & -1 & -2 & 3\\\\-4 & -4 & 4 & -1\\\\-5 & -6 & -1 & 3\\end{matrix}\\right],\\ \n\t\\det A(-2)=57,\\ \n\tA^{-1}=\\frac{1}{57}\\left[\\begin{matrix}37 & -88 & -61 & 80\\\\-16 & 55 & 31 & -50\\\\31 & -46 & -28 & 47\\\\40 & -52 & -49 & 68\\end{matrix}\\right].$$"
     },
     "metadata": {},
     "output_type": "display_data"
    },
    {
     "name": "stdout",
     "output_type": "stream",
     "text": [
      "\u001B[32m*\u001B[0m\u001B[32m*\u001B[0m\u001B[32m*\u001B[0m\u001B[32m*\u001B[0m\u001B[32m*\u001B[0m\u001B[32m*\u001B[0m\u001B[32m*\u001B[0m\u001B[32m*\u001B[0m\u001B[32m*\u001B[0m\u001B[32m*\u001B[0m\u001B[32m*\u001B[0m\u001B[32m*\u001B[0m\u001B[32m*\u001B[0m\u001B[32m*\u001B[0m\u001B[32m*\u001B[0m\u001B[32m*\u001B[0m\u001B[32m*\u001B[0m\u001B[32m*\u001B[0m\u001B[32m*\u001B[0m\u001B[32m*\u001B[0m\u001B[32m*\u001B[0m\u001B[32m*\u001B[0m\u001B[32m*\u001B[0m\u001B[32m*\u001B[0m\u001B[32m*\u001B[0m\u001B[32m*\u001B[0m\u001B[32m*\u001B[0m\u001B[32m*\u001B[0m\u001B[32m*\u001B[0m\u001B[32m*\u001B[0m\u001B[32m*\u001B[0m\u001B[32m*\u001B[0m\u001B[32m*\u001B[0m\u001B[32m*\u001B[0m\u001B[32m*\u001B[0m\u001B[32m*\u001B[0m\u001B[32m*\u001B[0m\u001B[32m*\u001B[0m\u001B[32m*\u001B[0m\u001B[32m*\u001B[0m\u001B[32m*\u001B[0m\u001B[32m*\u001B[0m\u001B[32m*\u001B[0m\u001B[32m*\u001B[0m\u001B[32m*\u001B[0m\u001B[32m*\u001B[0m\u001B[32m*\u001B[0m\u001B[32m*\u001B[0m\u001B[32m*\u001B[0m\u001B[32m*\u001B[0m\u001B[32m*\u001B[0m\u001B[32m*\u001B[0m\u001B[32m*\u001B[0m\u001B[32m*\u001B[0m\u001B[32m*\u001B[0m\u001B[32m*\u001B[0m\u001B[32m*\u001B[0m\u001B[32m*\u001B[0m\u001B[32m*\u001B[0m\u001B[32m*\u001B[0m\u001B[32m*\u001B[0m\u001B[32m*\u001B[0m\u001B[32m*\u001B[0m\u001B[32m*\u001B[0m\u001B[32m*\u001B[0m\u001B[32m*\u001B[0m\u001B[32m*\u001B[0m\u001B[32m*\u001B[0m\u001B[32m*\u001B[0m\u001B[32m*\u001B[0m\u001B[32m*\u001B[0m\u001B[32m*\u001B[0m\u001B[32m*\u001B[0m\u001B[32m*\u001B[0m\u001B[32m*\u001B[0m\u001B[32m*\u001B[0m\u001B[32m*\u001B[0m\u001B[32m*\u001B[0m\u001B[32m*\u001B[0m\u001B[32m*\u001B[0m\u001B[32m*\u001B[0m\u001B[32m*\u001B[0m\u001B[32m*\u001B[0m\u001B[32m*\u001B[0m\u001B[32m*\u001B[0m\u001B[32m*\u001B[0m\u001B[32m*\u001B[0m\u001B[32m*\u001B[0m\u001B[32m*\u001B[0m\u001B[32m*\u001B[0m\u001B[32m*\u001B[0m\u001B[32m*\u001B[0m\u001B[32m*\u001B[0m\u001B[32m*\u001B[0m\u001B[32m*\u001B[0m\n",
      "\u001B[34m** Zadanie 10 **********************************************************************************\u001B[0m\n"
     ]
    },
    {
     "data": {
      "text/plain": [
       "<IPython.core.display.Markdown object>"
      ],
      "text/markdown": "Dla jakich rzeczywistych wartości parametru *x* macierz *A* posiada odwrotność?"
     },
     "metadata": {},
     "output_type": "display_data"
    },
    {
     "data": {
      "text/plain": [
       "<IPython.core.display.Latex object>"
      ],
      "text/latex": "\n\t\\[\n\t\t\\textnormal{A=}\\left[\\begin{matrix}1 & -2 & x - 4 & 0\\\\x - 3 & 1 & -2 & -1\\\\x - 4 & 0 & -1 & -2\\\\x - 4 & 2 & -4 & -2\\end{matrix}\\right]\n\t\\]\n"
     },
     "metadata": {},
     "output_type": "display_data"
    },
    {
     "data": {
      "text/plain": [
       "<IPython.core.display.Markdown object>"
      ],
      "text/markdown": "Wyznaczyć macierz odwrotną dla *x=-1.* "
     },
     "metadata": {},
     "output_type": "display_data"
    },
    {
     "name": "stdout",
     "output_type": "stream",
     "text": [
      "\u001B[34m*\u001B[0m\u001B[34m*\u001B[0m\u001B[34m*\u001B[0m\u001B[34m*\u001B[0m\u001B[34m*\u001B[0m\u001B[34m*\u001B[0m\u001B[34m*\u001B[0m\u001B[34m*\u001B[0m\u001B[34m*\u001B[0m\u001B[34m*\u001B[0m\u001B[34m*\u001B[0m\u001B[34m*\u001B[0m\u001B[34m*\u001B[0m\u001B[34m*\u001B[0m\u001B[34m*\u001B[0m\u001B[34m*\u001B[0m\u001B[34m*\u001B[0m\u001B[34m*\u001B[0m\u001B[34m*\u001B[0m\u001B[34m*\u001B[0m\u001B[34m*\u001B[0m\u001B[34m*\u001B[0m\u001B[34m*\u001B[0m\u001B[34m*\u001B[0m\u001B[34m*\u001B[0m\u001B[34m*\u001B[0m\u001B[34m*\u001B[0m\u001B[34m*\u001B[0m\u001B[34m*\u001B[0m\u001B[34m*\u001B[0m\u001B[34m*\u001B[0m\u001B[34m*\u001B[0m\u001B[34m*\u001B[0m\u001B[34m*\u001B[0m\u001B[34m*\u001B[0m\u001B[34m*\u001B[0m\u001B[34m*\u001B[0m\u001B[34m*\u001B[0m\u001B[34m*\u001B[0m\u001B[34m*\u001B[0m\u001B[34m*\u001B[0m\u001B[34m*\u001B[0m\u001B[34m*\u001B[0m\u001B[34m*\u001B[0m\u001B[34m*\u001B[0m\u001B[34m*\u001B[0m\u001B[34m*\u001B[0m\u001B[34m*\u001B[0m\u001B[34m*\u001B[0m\u001B[34m*\u001B[0m\u001B[34m*\u001B[0m\u001B[34m*\u001B[0m\u001B[34m*\u001B[0m\u001B[34m*\u001B[0m\u001B[34m*\u001B[0m\u001B[34m*\u001B[0m\u001B[34m*\u001B[0m\u001B[34m*\u001B[0m\u001B[34m*\u001B[0m\u001B[34m*\u001B[0m\u001B[34m*\u001B[0m\u001B[34m*\u001B[0m\u001B[34m*\u001B[0m\u001B[34m*\u001B[0m\u001B[34m*\u001B[0m\u001B[34m*\u001B[0m\u001B[34m*\u001B[0m\u001B[34m*\u001B[0m\u001B[34m*\u001B[0m\u001B[34m*\u001B[0m\u001B[34m*\u001B[0m\u001B[34m*\u001B[0m\u001B[34m*\u001B[0m\u001B[34m*\u001B[0m\u001B[34m*\u001B[0m\u001B[34m*\u001B[0m\u001B[34m*\u001B[0m\u001B[34m*\u001B[0m\u001B[34m*\u001B[0m\u001B[34m*\u001B[0m\u001B[34m*\u001B[0m\u001B[34m*\u001B[0m\u001B[34m*\u001B[0m\u001B[34m*\u001B[0m\u001B[34m*\u001B[0m\u001B[34m*\u001B[0m\u001B[34m*\u001B[0m\u001B[34m*\u001B[0m\u001B[34m*\u001B[0m\u001B[34m*\u001B[0m\u001B[34m*\u001B[0m\u001B[34m*\u001B[0m\u001B[34m*\u001B[0m\u001B[34m*\u001B[0m\u001B[34m*\u001B[0m\n",
      "\u001B[32m** Rozwiązanie ********************************************************************************\u001B[0m\n"
     ]
    },
    {
     "data": {
      "text/plain": [
       "<IPython.core.display.Latex object>"
      ],
      "text/latex": "$$\\det A=2 x^{2} - 18 x + 28\\neq 0, \\quad \n\tx\\neq 2\\ \\textnormal{oraz} \\ x\\neq 7, $$"
     },
     "metadata": {},
     "output_type": "display_data"
    },
    {
     "data": {
      "text/plain": [
       "<IPython.core.display.Latex object>"
      ],
      "text/latex": "$$ A(-1)= \\left[\\begin{matrix}1 & -2 & -5 & 0\\\\-4 & 1 & -2 & -1\\\\-5 & 0 & -1 & -2\\\\-5 & 2 & -4 & -2\\end{matrix}\\right],\\ \n\t\\det A(-1)=48,\\ \n\tA^{-1}=\\frac{1}{48}\\left[\\begin{matrix}0 & -32 & 0 & 16\\\\-9 & -6 & -15 & 18\\\\-6 & -4 & 6 & -4\\\\3 & 82 & -27 & -38\\end{matrix}\\right].$$"
     },
     "metadata": {},
     "output_type": "display_data"
    },
    {
     "name": "stdout",
     "output_type": "stream",
     "text": [
      "\u001B[32m*\u001B[0m\u001B[32m*\u001B[0m\u001B[32m*\u001B[0m\u001B[32m*\u001B[0m\u001B[32m*\u001B[0m\u001B[32m*\u001B[0m\u001B[32m*\u001B[0m\u001B[32m*\u001B[0m\u001B[32m*\u001B[0m\u001B[32m*\u001B[0m\u001B[32m*\u001B[0m\u001B[32m*\u001B[0m\u001B[32m*\u001B[0m\u001B[32m*\u001B[0m\u001B[32m*\u001B[0m\u001B[32m*\u001B[0m\u001B[32m*\u001B[0m\u001B[32m*\u001B[0m\u001B[32m*\u001B[0m\u001B[32m*\u001B[0m\u001B[32m*\u001B[0m\u001B[32m*\u001B[0m\u001B[32m*\u001B[0m\u001B[32m*\u001B[0m\u001B[32m*\u001B[0m\u001B[32m*\u001B[0m\u001B[32m*\u001B[0m\u001B[32m*\u001B[0m\u001B[32m*\u001B[0m\u001B[32m*\u001B[0m\u001B[32m*\u001B[0m\u001B[32m*\u001B[0m\u001B[32m*\u001B[0m\u001B[32m*\u001B[0m\u001B[32m*\u001B[0m\u001B[32m*\u001B[0m\u001B[32m*\u001B[0m\u001B[32m*\u001B[0m\u001B[32m*\u001B[0m\u001B[32m*\u001B[0m\u001B[32m*\u001B[0m\u001B[32m*\u001B[0m\u001B[32m*\u001B[0m\u001B[32m*\u001B[0m\u001B[32m*\u001B[0m\u001B[32m*\u001B[0m\u001B[32m*\u001B[0m\u001B[32m*\u001B[0m\u001B[32m*\u001B[0m\u001B[32m*\u001B[0m\u001B[32m*\u001B[0m\u001B[32m*\u001B[0m\u001B[32m*\u001B[0m\u001B[32m*\u001B[0m\u001B[32m*\u001B[0m\u001B[32m*\u001B[0m\u001B[32m*\u001B[0m\u001B[32m*\u001B[0m\u001B[32m*\u001B[0m\u001B[32m*\u001B[0m\u001B[32m*\u001B[0m\u001B[32m*\u001B[0m\u001B[32m*\u001B[0m\u001B[32m*\u001B[0m\u001B[32m*\u001B[0m\u001B[32m*\u001B[0m\u001B[32m*\u001B[0m\u001B[32m*\u001B[0m\u001B[32m*\u001B[0m\u001B[32m*\u001B[0m\u001B[32m*\u001B[0m\u001B[32m*\u001B[0m\u001B[32m*\u001B[0m\u001B[32m*\u001B[0m\u001B[32m*\u001B[0m\u001B[32m*\u001B[0m\u001B[32m*\u001B[0m\u001B[32m*\u001B[0m\u001B[32m*\u001B[0m\u001B[32m*\u001B[0m\u001B[32m*\u001B[0m\u001B[32m*\u001B[0m\u001B[32m*\u001B[0m\u001B[32m*\u001B[0m\u001B[32m*\u001B[0m\u001B[32m*\u001B[0m\u001B[32m*\u001B[0m\u001B[32m*\u001B[0m\u001B[32m*\u001B[0m\u001B[32m*\u001B[0m\u001B[32m*\u001B[0m\u001B[32m*\u001B[0m\u001B[32m*\u001B[0m\u001B[32m*\u001B[0m\u001B[32m*\u001B[0m\n"
     ]
    }
   ],
   "execution_count": 12
  },
  {
   "metadata": {},
   "cell_type": "markdown",
   "source": "## Wektory własne",
   "id": "152746c4d911469b"
  },
  {
   "metadata": {
    "ExecuteTime": {
     "end_time": "2024-09-12T17:27:39.063434Z",
     "start_time": "2024-09-12T17:27:39.046425Z"
    }
   },
   "cell_type": "code",
   "source": [
    "zadanie = gz.wartosci_wlasne(wymiar=choice([2, 3, 4]), zespolone=choice([False, True]))\n",
    "zadanie"
   ],
   "id": "64d170ffd20625ec",
   "outputs": [
    {
     "data": {
      "text/plain": [
       "('Wyznaczyć wartości własne i wektory własne macierzy \\n\\t\\\\[\\n\\t\\t\\\\textnormal{A=} \\\\left[\\\\begin{matrix}0 & 0 & 0\\\\\\\\0 & 2 & 0\\\\\\\\1 & -1 & 0\\\\end{matrix}\\\\right]\\n\\t\\\\]',\n",
       " '$\\\\det\\\\left(\\\\lambda \\\\mathbb{I} - A \\\\right) = \\\\lambda^{3} - 2 \\\\lambda^{2}$, \\\\quad \\nWartości własne:$ \\\\left\\\\{ 0 : 2, \\\\  2 : 1\\\\right\\\\}, $\\\\\\\\\\n\\t\\\\parbox{4em}{Wektory\\\\\\\\własne:} $\\\\left[ \\\\left( 0, \\\\  2, \\\\  \\\\left[ \\\\left[\\\\begin{matrix}0\\\\\\\\0\\\\\\\\1\\\\end{matrix}\\\\right]\\\\right]\\\\right), \\\\  \\\\left( 2, \\\\  1, \\\\  \\\\left[ \\\\left[\\\\begin{matrix}0\\\\\\\\-2\\\\\\\\1\\\\end{matrix}\\\\right]\\\\right]\\\\right)\\\\right]$')"
      ]
     },
     "execution_count": 13,
     "metadata": {},
     "output_type": "execute_result"
    }
   ],
   "execution_count": 13
  },
  {
   "metadata": {
    "ExecuteTime": {
     "end_time": "2024-09-12T17:27:39.662432Z",
     "start_time": "2024-09-12T17:27:39.656436Z"
    },
    "tags": [
     "hide-input"
    ]
   },
   "cell_type": "code",
   "source": [
    "print(\"\\033[34m** Zadanie **\" + '*' * 81 + '\\033[0m')\n",
    "print(zadanie[0])\n",
    "print(\"\\033[34m*\\033[0m\" * 95)\n",
    "print(\"\\033[32m** Rozwiązanie **\" + '*' * 78 + '\\033[0m')\n",
    "print(zadanie[1])\n",
    "print(\"\\033[32m*\\033[0m\" * 95)"
   ],
   "id": "9d2ae1ebc36c619b",
   "outputs": [
    {
     "name": "stdout",
     "output_type": "stream",
     "text": [
      "\u001B[34m** Zadanie ***********************************************************************************\u001B[0m\n",
      "Wyznaczyć wartości własne i wektory własne macierzy \n",
      "\t\\[\n",
      "\t\t\\textnormal{A=} \\left[\\begin{matrix}0 & 0 & 0\\\\0 & 2 & 0\\\\1 & -1 & 0\\end{matrix}\\right]\n",
      "\t\\]\n",
      "\u001B[34m*\u001B[0m\u001B[34m*\u001B[0m\u001B[34m*\u001B[0m\u001B[34m*\u001B[0m\u001B[34m*\u001B[0m\u001B[34m*\u001B[0m\u001B[34m*\u001B[0m\u001B[34m*\u001B[0m\u001B[34m*\u001B[0m\u001B[34m*\u001B[0m\u001B[34m*\u001B[0m\u001B[34m*\u001B[0m\u001B[34m*\u001B[0m\u001B[34m*\u001B[0m\u001B[34m*\u001B[0m\u001B[34m*\u001B[0m\u001B[34m*\u001B[0m\u001B[34m*\u001B[0m\u001B[34m*\u001B[0m\u001B[34m*\u001B[0m\u001B[34m*\u001B[0m\u001B[34m*\u001B[0m\u001B[34m*\u001B[0m\u001B[34m*\u001B[0m\u001B[34m*\u001B[0m\u001B[34m*\u001B[0m\u001B[34m*\u001B[0m\u001B[34m*\u001B[0m\u001B[34m*\u001B[0m\u001B[34m*\u001B[0m\u001B[34m*\u001B[0m\u001B[34m*\u001B[0m\u001B[34m*\u001B[0m\u001B[34m*\u001B[0m\u001B[34m*\u001B[0m\u001B[34m*\u001B[0m\u001B[34m*\u001B[0m\u001B[34m*\u001B[0m\u001B[34m*\u001B[0m\u001B[34m*\u001B[0m\u001B[34m*\u001B[0m\u001B[34m*\u001B[0m\u001B[34m*\u001B[0m\u001B[34m*\u001B[0m\u001B[34m*\u001B[0m\u001B[34m*\u001B[0m\u001B[34m*\u001B[0m\u001B[34m*\u001B[0m\u001B[34m*\u001B[0m\u001B[34m*\u001B[0m\u001B[34m*\u001B[0m\u001B[34m*\u001B[0m\u001B[34m*\u001B[0m\u001B[34m*\u001B[0m\u001B[34m*\u001B[0m\u001B[34m*\u001B[0m\u001B[34m*\u001B[0m\u001B[34m*\u001B[0m\u001B[34m*\u001B[0m\u001B[34m*\u001B[0m\u001B[34m*\u001B[0m\u001B[34m*\u001B[0m\u001B[34m*\u001B[0m\u001B[34m*\u001B[0m\u001B[34m*\u001B[0m\u001B[34m*\u001B[0m\u001B[34m*\u001B[0m\u001B[34m*\u001B[0m\u001B[34m*\u001B[0m\u001B[34m*\u001B[0m\u001B[34m*\u001B[0m\u001B[34m*\u001B[0m\u001B[34m*\u001B[0m\u001B[34m*\u001B[0m\u001B[34m*\u001B[0m\u001B[34m*\u001B[0m\u001B[34m*\u001B[0m\u001B[34m*\u001B[0m\u001B[34m*\u001B[0m\u001B[34m*\u001B[0m\u001B[34m*\u001B[0m\u001B[34m*\u001B[0m\u001B[34m*\u001B[0m\u001B[34m*\u001B[0m\u001B[34m*\u001B[0m\u001B[34m*\u001B[0m\u001B[34m*\u001B[0m\u001B[34m*\u001B[0m\u001B[34m*\u001B[0m\u001B[34m*\u001B[0m\u001B[34m*\u001B[0m\u001B[34m*\u001B[0m\u001B[34m*\u001B[0m\u001B[34m*\u001B[0m\u001B[34m*\u001B[0m\n",
      "\u001B[32m** Rozwiązanie ********************************************************************************\u001B[0m\n",
      "$\\det\\left(\\lambda \\mathbb{I} - A \\right) = \\lambda^{3} - 2 \\lambda^{2}$, \\quad \n",
      "Wartości własne:$ \\left\\{ 0 : 2, \\  2 : 1\\right\\}, $\\\\\n",
      "\t\\parbox{4em}{Wektory\\\\własne:} $\\left[ \\left( 0, \\  2, \\  \\left[ \\left[\\begin{matrix}0\\\\0\\\\1\\end{matrix}\\right]\\right]\\right), \\  \\left( 2, \\  1, \\  \\left[ \\left[\\begin{matrix}0\\\\-2\\\\1\\end{matrix}\\right]\\right]\\right)\\right]$\n",
      "\u001B[32m*\u001B[0m\u001B[32m*\u001B[0m\u001B[32m*\u001B[0m\u001B[32m*\u001B[0m\u001B[32m*\u001B[0m\u001B[32m*\u001B[0m\u001B[32m*\u001B[0m\u001B[32m*\u001B[0m\u001B[32m*\u001B[0m\u001B[32m*\u001B[0m\u001B[32m*\u001B[0m\u001B[32m*\u001B[0m\u001B[32m*\u001B[0m\u001B[32m*\u001B[0m\u001B[32m*\u001B[0m\u001B[32m*\u001B[0m\u001B[32m*\u001B[0m\u001B[32m*\u001B[0m\u001B[32m*\u001B[0m\u001B[32m*\u001B[0m\u001B[32m*\u001B[0m\u001B[32m*\u001B[0m\u001B[32m*\u001B[0m\u001B[32m*\u001B[0m\u001B[32m*\u001B[0m\u001B[32m*\u001B[0m\u001B[32m*\u001B[0m\u001B[32m*\u001B[0m\u001B[32m*\u001B[0m\u001B[32m*\u001B[0m\u001B[32m*\u001B[0m\u001B[32m*\u001B[0m\u001B[32m*\u001B[0m\u001B[32m*\u001B[0m\u001B[32m*\u001B[0m\u001B[32m*\u001B[0m\u001B[32m*\u001B[0m\u001B[32m*\u001B[0m\u001B[32m*\u001B[0m\u001B[32m*\u001B[0m\u001B[32m*\u001B[0m\u001B[32m*\u001B[0m\u001B[32m*\u001B[0m\u001B[32m*\u001B[0m\u001B[32m*\u001B[0m\u001B[32m*\u001B[0m\u001B[32m*\u001B[0m\u001B[32m*\u001B[0m\u001B[32m*\u001B[0m\u001B[32m*\u001B[0m\u001B[32m*\u001B[0m\u001B[32m*\u001B[0m\u001B[32m*\u001B[0m\u001B[32m*\u001B[0m\u001B[32m*\u001B[0m\u001B[32m*\u001B[0m\u001B[32m*\u001B[0m\u001B[32m*\u001B[0m\u001B[32m*\u001B[0m\u001B[32m*\u001B[0m\u001B[32m*\u001B[0m\u001B[32m*\u001B[0m\u001B[32m*\u001B[0m\u001B[32m*\u001B[0m\u001B[32m*\u001B[0m\u001B[32m*\u001B[0m\u001B[32m*\u001B[0m\u001B[32m*\u001B[0m\u001B[32m*\u001B[0m\u001B[32m*\u001B[0m\u001B[32m*\u001B[0m\u001B[32m*\u001B[0m\u001B[32m*\u001B[0m\u001B[32m*\u001B[0m\u001B[32m*\u001B[0m\u001B[32m*\u001B[0m\u001B[32m*\u001B[0m\u001B[32m*\u001B[0m\u001B[32m*\u001B[0m\u001B[32m*\u001B[0m\u001B[32m*\u001B[0m\u001B[32m*\u001B[0m\u001B[32m*\u001B[0m\u001B[32m*\u001B[0m\u001B[32m*\u001B[0m\u001B[32m*\u001B[0m\u001B[32m*\u001B[0m\u001B[32m*\u001B[0m\u001B[32m*\u001B[0m\u001B[32m*\u001B[0m\u001B[32m*\u001B[0m\u001B[32m*\u001B[0m\u001B[32m*\u001B[0m\u001B[32m*\u001B[0m\u001B[32m*\u001B[0m\n"
     ]
    }
   ],
   "execution_count": 14
  },
  {
   "metadata": {
    "ExecuteTime": {
     "end_time": "2024-09-12T17:27:40.307761Z",
     "start_time": "2024-09-12T17:27:39.800469Z"
    },
    "tags": [
     "hide-input"
    ]
   },
   "cell_type": "code",
   "source": [
    "for i in range(1, ile_zadan_przykladowych + 1):\n",
    "    zadanie = gz.wartosci_wlasne(wymiar=choice([2, 3, 4]), zespolone=choice([False, True]))\n",
    "    print(f\"\\033[34m** Zadanie {i} **\" + '*' * 80 + '\\033[0m')\n",
    "    display(Markdown(zadanie[0][:51]))\n",
    "    display(Latex(zadanie[0][51:]))\n",
    "    print(\"\\033[34m*\\033[0m\" * 95)\n",
    "    print(\"\\033[32m** Rozwiązanie **\" + '*' * 78 + '\\033[0m')\n",
    "    display(Latex(zadanie[1].split(', \\quad')[0].replace(\"$\", \"$$\")))\n",
    "    display(Markdown(\"Wartości własne\"))\n",
    "    display(Latex(\"$$\" + (zadanie[1].split(', \\quad')[1]).split(\"$\")[1] + \"$$\"))\n",
    "    display(Markdown(\"Wektory własne\"))\n",
    "    display(Latex(\"$$\" + (zadanie[1].split(', \\quad')[1]).split(\"$\")[3] + \"$$\"))\n",
    "    print(\"\\033[32m*\\033[0m\" * 95)"
   ],
   "id": "626c053367000b72",
   "outputs": [
    {
     "name": "stdout",
     "output_type": "stream",
     "text": [
      "\u001B[34m** Zadanie 1 **********************************************************************************\u001B[0m\n"
     ]
    },
    {
     "data": {
      "text/plain": [
       "<IPython.core.display.Markdown object>"
      ],
      "text/markdown": "Wyznaczyć wartości własne i wektory własne macierzy"
     },
     "metadata": {},
     "output_type": "display_data"
    },
    {
     "data": {
      "text/plain": [
       "<IPython.core.display.Latex object>"
      ],
      "text/latex": " \n\t\\[\n\t\t\\textnormal{A=} \\left[\\begin{matrix}1 & -2 & 2 & 2\\\\-1 & -2 & 0 & -1\\\\-2 & 2 & -2 & 0\\\\1 & -1 & 1 & 0\\end{matrix}\\right]\n\t\\]"
     },
     "metadata": {},
     "output_type": "display_data"
    },
    {
     "name": "stdout",
     "output_type": "stream",
     "text": [
      "\u001B[34m*\u001B[0m\u001B[34m*\u001B[0m\u001B[34m*\u001B[0m\u001B[34m*\u001B[0m\u001B[34m*\u001B[0m\u001B[34m*\u001B[0m\u001B[34m*\u001B[0m\u001B[34m*\u001B[0m\u001B[34m*\u001B[0m\u001B[34m*\u001B[0m\u001B[34m*\u001B[0m\u001B[34m*\u001B[0m\u001B[34m*\u001B[0m\u001B[34m*\u001B[0m\u001B[34m*\u001B[0m\u001B[34m*\u001B[0m\u001B[34m*\u001B[0m\u001B[34m*\u001B[0m\u001B[34m*\u001B[0m\u001B[34m*\u001B[0m\u001B[34m*\u001B[0m\u001B[34m*\u001B[0m\u001B[34m*\u001B[0m\u001B[34m*\u001B[0m\u001B[34m*\u001B[0m\u001B[34m*\u001B[0m\u001B[34m*\u001B[0m\u001B[34m*\u001B[0m\u001B[34m*\u001B[0m\u001B[34m*\u001B[0m\u001B[34m*\u001B[0m\u001B[34m*\u001B[0m\u001B[34m*\u001B[0m\u001B[34m*\u001B[0m\u001B[34m*\u001B[0m\u001B[34m*\u001B[0m\u001B[34m*\u001B[0m\u001B[34m*\u001B[0m\u001B[34m*\u001B[0m\u001B[34m*\u001B[0m\u001B[34m*\u001B[0m\u001B[34m*\u001B[0m\u001B[34m*\u001B[0m\u001B[34m*\u001B[0m\u001B[34m*\u001B[0m\u001B[34m*\u001B[0m\u001B[34m*\u001B[0m\u001B[34m*\u001B[0m\u001B[34m*\u001B[0m\u001B[34m*\u001B[0m\u001B[34m*\u001B[0m\u001B[34m*\u001B[0m\u001B[34m*\u001B[0m\u001B[34m*\u001B[0m\u001B[34m*\u001B[0m\u001B[34m*\u001B[0m\u001B[34m*\u001B[0m\u001B[34m*\u001B[0m\u001B[34m*\u001B[0m\u001B[34m*\u001B[0m\u001B[34m*\u001B[0m\u001B[34m*\u001B[0m\u001B[34m*\u001B[0m\u001B[34m*\u001B[0m\u001B[34m*\u001B[0m\u001B[34m*\u001B[0m\u001B[34m*\u001B[0m\u001B[34m*\u001B[0m\u001B[34m*\u001B[0m\u001B[34m*\u001B[0m\u001B[34m*\u001B[0m\u001B[34m*\u001B[0m\u001B[34m*\u001B[0m\u001B[34m*\u001B[0m\u001B[34m*\u001B[0m\u001B[34m*\u001B[0m\u001B[34m*\u001B[0m\u001B[34m*\u001B[0m\u001B[34m*\u001B[0m\u001B[34m*\u001B[0m\u001B[34m*\u001B[0m\u001B[34m*\u001B[0m\u001B[34m*\u001B[0m\u001B[34m*\u001B[0m\u001B[34m*\u001B[0m\u001B[34m*\u001B[0m\u001B[34m*\u001B[0m\u001B[34m*\u001B[0m\u001B[34m*\u001B[0m\u001B[34m*\u001B[0m\u001B[34m*\u001B[0m\u001B[34m*\u001B[0m\u001B[34m*\u001B[0m\u001B[34m*\u001B[0m\u001B[34m*\u001B[0m\n",
      "\u001B[32m** Rozwiązanie ********************************************************************************\u001B[0m\n"
     ]
    },
    {
     "data": {
      "text/plain": [
       "<IPython.core.display.Latex object>"
      ],
      "text/latex": "$$\\det\\left(\\lambda \\mathbb{I} - A \\right) = \\lambda^{4} + 3 \\lambda^{3} - \\lambda^{2} - 3 \\lambda$$"
     },
     "metadata": {},
     "output_type": "display_data"
    },
    {
     "data": {
      "text/plain": [
       "<IPython.core.display.Markdown object>"
      ],
      "text/markdown": "Wartości własne"
     },
     "metadata": {},
     "output_type": "display_data"
    },
    {
     "data": {
      "text/plain": [
       "<IPython.core.display.Latex object>"
      ],
      "text/latex": "$$ \\left\\{ -3 : 1, \\  -1 : 1, \\  0 : 1, \\  1 : 1\\right\\}, $$"
     },
     "metadata": {},
     "output_type": "display_data"
    },
    {
     "data": {
      "text/plain": [
       "<IPython.core.display.Markdown object>"
      ],
      "text/markdown": "Wektory własne"
     },
     "metadata": {},
     "output_type": "display_data"
    },
    {
     "data": {
      "text/plain": [
       "<IPython.core.display.Latex object>"
      ],
      "text/latex": "$$\\left[ \\left( -3, \\  1, \\  \\left[ \\left[\\begin{matrix}2\\\\3\\\\-2\\\\1\\end{matrix}\\right]\\right]\\right), \\  \\left( -1, \\  1, \\  \\left[ \\left[\\begin{matrix}0\\\\-1\\\\-2\\\\1\\end{matrix}\\right]\\right]\\right), \\  \\left( 0, \\  1, \\  \\left[ \\left[\\begin{matrix}2\\\\- \\frac{3}{2}\\\\- \\frac{7}{2}\\\\1\\end{matrix}\\right]\\right]\\right), \\  \\left( 1, \\  1, \\  \\left[ \\left[\\begin{matrix}2\\\\-1\\\\-2\\\\1\\end{matrix}\\right]\\right]\\right)\\right]$$"
     },
     "metadata": {},
     "output_type": "display_data"
    },
    {
     "name": "stdout",
     "output_type": "stream",
     "text": [
      "\u001B[32m*\u001B[0m\u001B[32m*\u001B[0m\u001B[32m*\u001B[0m\u001B[32m*\u001B[0m\u001B[32m*\u001B[0m\u001B[32m*\u001B[0m\u001B[32m*\u001B[0m\u001B[32m*\u001B[0m\u001B[32m*\u001B[0m\u001B[32m*\u001B[0m\u001B[32m*\u001B[0m\u001B[32m*\u001B[0m\u001B[32m*\u001B[0m\u001B[32m*\u001B[0m\u001B[32m*\u001B[0m\u001B[32m*\u001B[0m\u001B[32m*\u001B[0m\u001B[32m*\u001B[0m\u001B[32m*\u001B[0m\u001B[32m*\u001B[0m\u001B[32m*\u001B[0m\u001B[32m*\u001B[0m\u001B[32m*\u001B[0m\u001B[32m*\u001B[0m\u001B[32m*\u001B[0m\u001B[32m*\u001B[0m\u001B[32m*\u001B[0m\u001B[32m*\u001B[0m\u001B[32m*\u001B[0m\u001B[32m*\u001B[0m\u001B[32m*\u001B[0m\u001B[32m*\u001B[0m\u001B[32m*\u001B[0m\u001B[32m*\u001B[0m\u001B[32m*\u001B[0m\u001B[32m*\u001B[0m\u001B[32m*\u001B[0m\u001B[32m*\u001B[0m\u001B[32m*\u001B[0m\u001B[32m*\u001B[0m\u001B[32m*\u001B[0m\u001B[32m*\u001B[0m\u001B[32m*\u001B[0m\u001B[32m*\u001B[0m\u001B[32m*\u001B[0m\u001B[32m*\u001B[0m\u001B[32m*\u001B[0m\u001B[32m*\u001B[0m\u001B[32m*\u001B[0m\u001B[32m*\u001B[0m\u001B[32m*\u001B[0m\u001B[32m*\u001B[0m\u001B[32m*\u001B[0m\u001B[32m*\u001B[0m\u001B[32m*\u001B[0m\u001B[32m*\u001B[0m\u001B[32m*\u001B[0m\u001B[32m*\u001B[0m\u001B[32m*\u001B[0m\u001B[32m*\u001B[0m\u001B[32m*\u001B[0m\u001B[32m*\u001B[0m\u001B[32m*\u001B[0m\u001B[32m*\u001B[0m\u001B[32m*\u001B[0m\u001B[32m*\u001B[0m\u001B[32m*\u001B[0m\u001B[32m*\u001B[0m\u001B[32m*\u001B[0m\u001B[32m*\u001B[0m\u001B[32m*\u001B[0m\u001B[32m*\u001B[0m\u001B[32m*\u001B[0m\u001B[32m*\u001B[0m\u001B[32m*\u001B[0m\u001B[32m*\u001B[0m\u001B[32m*\u001B[0m\u001B[32m*\u001B[0m\u001B[32m*\u001B[0m\u001B[32m*\u001B[0m\u001B[32m*\u001B[0m\u001B[32m*\u001B[0m\u001B[32m*\u001B[0m\u001B[32m*\u001B[0m\u001B[32m*\u001B[0m\u001B[32m*\u001B[0m\u001B[32m*\u001B[0m\u001B[32m*\u001B[0m\u001B[32m*\u001B[0m\u001B[32m*\u001B[0m\u001B[32m*\u001B[0m\u001B[32m*\u001B[0m\u001B[32m*\u001B[0m\u001B[32m*\u001B[0m\u001B[32m*\u001B[0m\n",
      "\u001B[34m** Zadanie 2 **********************************************************************************\u001B[0m\n"
     ]
    },
    {
     "data": {
      "text/plain": [
       "<IPython.core.display.Markdown object>"
      ],
      "text/markdown": "Wyznaczyć wartości własne i wektory własne macierzy"
     },
     "metadata": {},
     "output_type": "display_data"
    },
    {
     "data": {
      "text/plain": [
       "<IPython.core.display.Latex object>"
      ],
      "text/latex": " \n\t\\[\n\t\t\\textnormal{A=} \\left[\\begin{matrix}-1 & 1\\\\-1 & 1\\end{matrix}\\right]\n\t\\]"
     },
     "metadata": {},
     "output_type": "display_data"
    },
    {
     "name": "stdout",
     "output_type": "stream",
     "text": [
      "\u001B[34m*\u001B[0m\u001B[34m*\u001B[0m\u001B[34m*\u001B[0m\u001B[34m*\u001B[0m\u001B[34m*\u001B[0m\u001B[34m*\u001B[0m\u001B[34m*\u001B[0m\u001B[34m*\u001B[0m\u001B[34m*\u001B[0m\u001B[34m*\u001B[0m\u001B[34m*\u001B[0m\u001B[34m*\u001B[0m\u001B[34m*\u001B[0m\u001B[34m*\u001B[0m\u001B[34m*\u001B[0m\u001B[34m*\u001B[0m\u001B[34m*\u001B[0m\u001B[34m*\u001B[0m\u001B[34m*\u001B[0m\u001B[34m*\u001B[0m\u001B[34m*\u001B[0m\u001B[34m*\u001B[0m\u001B[34m*\u001B[0m\u001B[34m*\u001B[0m\u001B[34m*\u001B[0m\u001B[34m*\u001B[0m\u001B[34m*\u001B[0m\u001B[34m*\u001B[0m\u001B[34m*\u001B[0m\u001B[34m*\u001B[0m\u001B[34m*\u001B[0m\u001B[34m*\u001B[0m\u001B[34m*\u001B[0m\u001B[34m*\u001B[0m\u001B[34m*\u001B[0m\u001B[34m*\u001B[0m\u001B[34m*\u001B[0m\u001B[34m*\u001B[0m\u001B[34m*\u001B[0m\u001B[34m*\u001B[0m\u001B[34m*\u001B[0m\u001B[34m*\u001B[0m\u001B[34m*\u001B[0m\u001B[34m*\u001B[0m\u001B[34m*\u001B[0m\u001B[34m*\u001B[0m\u001B[34m*\u001B[0m\u001B[34m*\u001B[0m\u001B[34m*\u001B[0m\u001B[34m*\u001B[0m\u001B[34m*\u001B[0m\u001B[34m*\u001B[0m\u001B[34m*\u001B[0m\u001B[34m*\u001B[0m\u001B[34m*\u001B[0m\u001B[34m*\u001B[0m\u001B[34m*\u001B[0m\u001B[34m*\u001B[0m\u001B[34m*\u001B[0m\u001B[34m*\u001B[0m\u001B[34m*\u001B[0m\u001B[34m*\u001B[0m\u001B[34m*\u001B[0m\u001B[34m*\u001B[0m\u001B[34m*\u001B[0m\u001B[34m*\u001B[0m\u001B[34m*\u001B[0m\u001B[34m*\u001B[0m\u001B[34m*\u001B[0m\u001B[34m*\u001B[0m\u001B[34m*\u001B[0m\u001B[34m*\u001B[0m\u001B[34m*\u001B[0m\u001B[34m*\u001B[0m\u001B[34m*\u001B[0m\u001B[34m*\u001B[0m\u001B[34m*\u001B[0m\u001B[34m*\u001B[0m\u001B[34m*\u001B[0m\u001B[34m*\u001B[0m\u001B[34m*\u001B[0m\u001B[34m*\u001B[0m\u001B[34m*\u001B[0m\u001B[34m*\u001B[0m\u001B[34m*\u001B[0m\u001B[34m*\u001B[0m\u001B[34m*\u001B[0m\u001B[34m*\u001B[0m\u001B[34m*\u001B[0m\u001B[34m*\u001B[0m\u001B[34m*\u001B[0m\u001B[34m*\u001B[0m\u001B[34m*\u001B[0m\u001B[34m*\u001B[0m\u001B[34m*\u001B[0m\n",
      "\u001B[32m** Rozwiązanie ********************************************************************************\u001B[0m\n"
     ]
    },
    {
     "data": {
      "text/plain": [
       "<IPython.core.display.Latex object>"
      ],
      "text/latex": "$$\\det\\left(\\lambda \\mathbb{I} - A \\right) = \\lambda^{2}$$"
     },
     "metadata": {},
     "output_type": "display_data"
    },
    {
     "data": {
      "text/plain": [
       "<IPython.core.display.Markdown object>"
      ],
      "text/markdown": "Wartości własne"
     },
     "metadata": {},
     "output_type": "display_data"
    },
    {
     "data": {
      "text/plain": [
       "<IPython.core.display.Latex object>"
      ],
      "text/latex": "$$ \\left\\{ 0 : 2\\right\\}, $$"
     },
     "metadata": {},
     "output_type": "display_data"
    },
    {
     "data": {
      "text/plain": [
       "<IPython.core.display.Markdown object>"
      ],
      "text/markdown": "Wektory własne"
     },
     "metadata": {},
     "output_type": "display_data"
    },
    {
     "data": {
      "text/plain": [
       "<IPython.core.display.Latex object>"
      ],
      "text/latex": "$$\\left[ \\left( 0, \\  2, \\  \\left[ \\left[\\begin{matrix}1\\\\1\\end{matrix}\\right]\\right]\\right)\\right]$$"
     },
     "metadata": {},
     "output_type": "display_data"
    },
    {
     "name": "stdout",
     "output_type": "stream",
     "text": [
      "\u001B[32m*\u001B[0m\u001B[32m*\u001B[0m\u001B[32m*\u001B[0m\u001B[32m*\u001B[0m\u001B[32m*\u001B[0m\u001B[32m*\u001B[0m\u001B[32m*\u001B[0m\u001B[32m*\u001B[0m\u001B[32m*\u001B[0m\u001B[32m*\u001B[0m\u001B[32m*\u001B[0m\u001B[32m*\u001B[0m\u001B[32m*\u001B[0m\u001B[32m*\u001B[0m\u001B[32m*\u001B[0m\u001B[32m*\u001B[0m\u001B[32m*\u001B[0m\u001B[32m*\u001B[0m\u001B[32m*\u001B[0m\u001B[32m*\u001B[0m\u001B[32m*\u001B[0m\u001B[32m*\u001B[0m\u001B[32m*\u001B[0m\u001B[32m*\u001B[0m\u001B[32m*\u001B[0m\u001B[32m*\u001B[0m\u001B[32m*\u001B[0m\u001B[32m*\u001B[0m\u001B[32m*\u001B[0m\u001B[32m*\u001B[0m\u001B[32m*\u001B[0m\u001B[32m*\u001B[0m\u001B[32m*\u001B[0m\u001B[32m*\u001B[0m\u001B[32m*\u001B[0m\u001B[32m*\u001B[0m\u001B[32m*\u001B[0m\u001B[32m*\u001B[0m\u001B[32m*\u001B[0m\u001B[32m*\u001B[0m\u001B[32m*\u001B[0m\u001B[32m*\u001B[0m\u001B[32m*\u001B[0m\u001B[32m*\u001B[0m\u001B[32m*\u001B[0m\u001B[32m*\u001B[0m\u001B[32m*\u001B[0m\u001B[32m*\u001B[0m\u001B[32m*\u001B[0m\u001B[32m*\u001B[0m\u001B[32m*\u001B[0m\u001B[32m*\u001B[0m\u001B[32m*\u001B[0m\u001B[32m*\u001B[0m\u001B[32m*\u001B[0m\u001B[32m*\u001B[0m\u001B[32m*\u001B[0m\u001B[32m*\u001B[0m\u001B[32m*\u001B[0m\u001B[32m*\u001B[0m\u001B[32m*\u001B[0m\u001B[32m*\u001B[0m\u001B[32m*\u001B[0m\u001B[32m*\u001B[0m\u001B[32m*\u001B[0m\u001B[32m*\u001B[0m\u001B[32m*\u001B[0m\u001B[32m*\u001B[0m\u001B[32m*\u001B[0m\u001B[32m*\u001B[0m\u001B[32m*\u001B[0m\u001B[32m*\u001B[0m\u001B[32m*\u001B[0m\u001B[32m*\u001B[0m\u001B[32m*\u001B[0m\u001B[32m*\u001B[0m\u001B[32m*\u001B[0m\u001B[32m*\u001B[0m\u001B[32m*\u001B[0m\u001B[32m*\u001B[0m\u001B[32m*\u001B[0m\u001B[32m*\u001B[0m\u001B[32m*\u001B[0m\u001B[32m*\u001B[0m\u001B[32m*\u001B[0m\u001B[32m*\u001B[0m\u001B[32m*\u001B[0m\u001B[32m*\u001B[0m\u001B[32m*\u001B[0m\u001B[32m*\u001B[0m\u001B[32m*\u001B[0m\u001B[32m*\u001B[0m\u001B[32m*\u001B[0m\u001B[32m*\u001B[0m\u001B[32m*\u001B[0m\n",
      "\u001B[34m** Zadanie 3 **********************************************************************************\u001B[0m\n"
     ]
    },
    {
     "data": {
      "text/plain": [
       "<IPython.core.display.Markdown object>"
      ],
      "text/markdown": "Wyznaczyć wartości własne i wektory własne macierzy"
     },
     "metadata": {},
     "output_type": "display_data"
    },
    {
     "data": {
      "text/plain": [
       "<IPython.core.display.Latex object>"
      ],
      "text/latex": " \n\t\\[\n\t\t\\textnormal{A=} \\left[\\begin{matrix}2 & -2 & 3\\\\0 & 0 & 2\\\\0 & -2 & 0\\end{matrix}\\right]\n\t\\]"
     },
     "metadata": {},
     "output_type": "display_data"
    },
    {
     "name": "stdout",
     "output_type": "stream",
     "text": [
      "\u001B[34m*\u001B[0m\u001B[34m*\u001B[0m\u001B[34m*\u001B[0m\u001B[34m*\u001B[0m\u001B[34m*\u001B[0m\u001B[34m*\u001B[0m\u001B[34m*\u001B[0m\u001B[34m*\u001B[0m\u001B[34m*\u001B[0m\u001B[34m*\u001B[0m\u001B[34m*\u001B[0m\u001B[34m*\u001B[0m\u001B[34m*\u001B[0m\u001B[34m*\u001B[0m\u001B[34m*\u001B[0m\u001B[34m*\u001B[0m\u001B[34m*\u001B[0m\u001B[34m*\u001B[0m\u001B[34m*\u001B[0m\u001B[34m*\u001B[0m\u001B[34m*\u001B[0m\u001B[34m*\u001B[0m\u001B[34m*\u001B[0m\u001B[34m*\u001B[0m\u001B[34m*\u001B[0m\u001B[34m*\u001B[0m\u001B[34m*\u001B[0m\u001B[34m*\u001B[0m\u001B[34m*\u001B[0m\u001B[34m*\u001B[0m\u001B[34m*\u001B[0m\u001B[34m*\u001B[0m\u001B[34m*\u001B[0m\u001B[34m*\u001B[0m\u001B[34m*\u001B[0m\u001B[34m*\u001B[0m\u001B[34m*\u001B[0m\u001B[34m*\u001B[0m\u001B[34m*\u001B[0m\u001B[34m*\u001B[0m\u001B[34m*\u001B[0m\u001B[34m*\u001B[0m\u001B[34m*\u001B[0m\u001B[34m*\u001B[0m\u001B[34m*\u001B[0m\u001B[34m*\u001B[0m\u001B[34m*\u001B[0m\u001B[34m*\u001B[0m\u001B[34m*\u001B[0m\u001B[34m*\u001B[0m\u001B[34m*\u001B[0m\u001B[34m*\u001B[0m\u001B[34m*\u001B[0m\u001B[34m*\u001B[0m\u001B[34m*\u001B[0m\u001B[34m*\u001B[0m\u001B[34m*\u001B[0m\u001B[34m*\u001B[0m\u001B[34m*\u001B[0m\u001B[34m*\u001B[0m\u001B[34m*\u001B[0m\u001B[34m*\u001B[0m\u001B[34m*\u001B[0m\u001B[34m*\u001B[0m\u001B[34m*\u001B[0m\u001B[34m*\u001B[0m\u001B[34m*\u001B[0m\u001B[34m*\u001B[0m\u001B[34m*\u001B[0m\u001B[34m*\u001B[0m\u001B[34m*\u001B[0m\u001B[34m*\u001B[0m\u001B[34m*\u001B[0m\u001B[34m*\u001B[0m\u001B[34m*\u001B[0m\u001B[34m*\u001B[0m\u001B[34m*\u001B[0m\u001B[34m*\u001B[0m\u001B[34m*\u001B[0m\u001B[34m*\u001B[0m\u001B[34m*\u001B[0m\u001B[34m*\u001B[0m\u001B[34m*\u001B[0m\u001B[34m*\u001B[0m\u001B[34m*\u001B[0m\u001B[34m*\u001B[0m\u001B[34m*\u001B[0m\u001B[34m*\u001B[0m\u001B[34m*\u001B[0m\u001B[34m*\u001B[0m\u001B[34m*\u001B[0m\u001B[34m*\u001B[0m\u001B[34m*\u001B[0m\u001B[34m*\u001B[0m\u001B[34m*\u001B[0m\n",
      "\u001B[32m** Rozwiązanie ********************************************************************************\u001B[0m\n"
     ]
    },
    {
     "data": {
      "text/plain": [
       "<IPython.core.display.Latex object>"
      ],
      "text/latex": "$$\\det\\left(\\lambda \\mathbb{I} - A \\right) = \\lambda^{3} - 2 \\lambda^{2} + 4 \\lambda - 8$$"
     },
     "metadata": {},
     "output_type": "display_data"
    },
    {
     "data": {
      "text/plain": [
       "<IPython.core.display.Markdown object>"
      ],
      "text/markdown": "Wartości własne"
     },
     "metadata": {},
     "output_type": "display_data"
    },
    {
     "data": {
      "text/plain": [
       "<IPython.core.display.Latex object>"
      ],
      "text/latex": "$$ \\left\\{ 2 : 1, \\  - 2 i : 1, \\  2 i : 1\\right\\}, $$"
     },
     "metadata": {},
     "output_type": "display_data"
    },
    {
     "data": {
      "text/plain": [
       "<IPython.core.display.Markdown object>"
      ],
      "text/markdown": "Wektory własne"
     },
     "metadata": {},
     "output_type": "display_data"
    },
    {
     "data": {
      "text/plain": [
       "<IPython.core.display.Latex object>"
      ],
      "text/latex": "$$\\left[ \\left( 2, \\  1, \\  \\left[ \\left[\\begin{matrix}1\\\\0\\\\0\\end{matrix}\\right]\\right]\\right), \\  \\left( - 2 i, \\  1, \\  \\left[ \\left[\\begin{matrix}- \\frac{1}{4} + \\frac{5 i}{4}\\\\i\\\\1\\end{matrix}\\right]\\right]\\right), \\  \\left( 2 i, \\  1, \\  \\left[ \\left[\\begin{matrix}- \\frac{1}{4} - \\frac{5 i}{4}\\\\- i\\\\1\\end{matrix}\\right]\\right]\\right)\\right]$$"
     },
     "metadata": {},
     "output_type": "display_data"
    },
    {
     "name": "stdout",
     "output_type": "stream",
     "text": [
      "\u001B[32m*\u001B[0m\u001B[32m*\u001B[0m\u001B[32m*\u001B[0m\u001B[32m*\u001B[0m\u001B[32m*\u001B[0m\u001B[32m*\u001B[0m\u001B[32m*\u001B[0m\u001B[32m*\u001B[0m\u001B[32m*\u001B[0m\u001B[32m*\u001B[0m\u001B[32m*\u001B[0m\u001B[32m*\u001B[0m\u001B[32m*\u001B[0m\u001B[32m*\u001B[0m\u001B[32m*\u001B[0m\u001B[32m*\u001B[0m\u001B[32m*\u001B[0m\u001B[32m*\u001B[0m\u001B[32m*\u001B[0m\u001B[32m*\u001B[0m\u001B[32m*\u001B[0m\u001B[32m*\u001B[0m\u001B[32m*\u001B[0m\u001B[32m*\u001B[0m\u001B[32m*\u001B[0m\u001B[32m*\u001B[0m\u001B[32m*\u001B[0m\u001B[32m*\u001B[0m\u001B[32m*\u001B[0m\u001B[32m*\u001B[0m\u001B[32m*\u001B[0m\u001B[32m*\u001B[0m\u001B[32m*\u001B[0m\u001B[32m*\u001B[0m\u001B[32m*\u001B[0m\u001B[32m*\u001B[0m\u001B[32m*\u001B[0m\u001B[32m*\u001B[0m\u001B[32m*\u001B[0m\u001B[32m*\u001B[0m\u001B[32m*\u001B[0m\u001B[32m*\u001B[0m\u001B[32m*\u001B[0m\u001B[32m*\u001B[0m\u001B[32m*\u001B[0m\u001B[32m*\u001B[0m\u001B[32m*\u001B[0m\u001B[32m*\u001B[0m\u001B[32m*\u001B[0m\u001B[32m*\u001B[0m\u001B[32m*\u001B[0m\u001B[32m*\u001B[0m\u001B[32m*\u001B[0m\u001B[32m*\u001B[0m\u001B[32m*\u001B[0m\u001B[32m*\u001B[0m\u001B[32m*\u001B[0m\u001B[32m*\u001B[0m\u001B[32m*\u001B[0m\u001B[32m*\u001B[0m\u001B[32m*\u001B[0m\u001B[32m*\u001B[0m\u001B[32m*\u001B[0m\u001B[32m*\u001B[0m\u001B[32m*\u001B[0m\u001B[32m*\u001B[0m\u001B[32m*\u001B[0m\u001B[32m*\u001B[0m\u001B[32m*\u001B[0m\u001B[32m*\u001B[0m\u001B[32m*\u001B[0m\u001B[32m*\u001B[0m\u001B[32m*\u001B[0m\u001B[32m*\u001B[0m\u001B[32m*\u001B[0m\u001B[32m*\u001B[0m\u001B[32m*\u001B[0m\u001B[32m*\u001B[0m\u001B[32m*\u001B[0m\u001B[32m*\u001B[0m\u001B[32m*\u001B[0m\u001B[32m*\u001B[0m\u001B[32m*\u001B[0m\u001B[32m*\u001B[0m\u001B[32m*\u001B[0m\u001B[32m*\u001B[0m\u001B[32m*\u001B[0m\u001B[32m*\u001B[0m\u001B[32m*\u001B[0m\u001B[32m*\u001B[0m\u001B[32m*\u001B[0m\u001B[32m*\u001B[0m\u001B[32m*\u001B[0m\u001B[32m*\u001B[0m\u001B[32m*\u001B[0m\n",
      "\u001B[34m** Zadanie 4 **********************************************************************************\u001B[0m\n"
     ]
    },
    {
     "data": {
      "text/plain": [
       "<IPython.core.display.Markdown object>"
      ],
      "text/markdown": "Wyznaczyć wartości własne i wektory własne macierzy"
     },
     "metadata": {},
     "output_type": "display_data"
    },
    {
     "data": {
      "text/plain": [
       "<IPython.core.display.Latex object>"
      ],
      "text/latex": " \n\t\\[\n\t\t\\textnormal{A=} \\left[\\begin{matrix}-1 & 2 & 1 & -2\\\\0 & 1 & 3 & 2\\\\-1 & 1 & 1 & 2\\\\-1 & 1 & -1 & -1\\end{matrix}\\right]\n\t\\]"
     },
     "metadata": {},
     "output_type": "display_data"
    },
    {
     "name": "stdout",
     "output_type": "stream",
     "text": [
      "\u001B[34m*\u001B[0m\u001B[34m*\u001B[0m\u001B[34m*\u001B[0m\u001B[34m*\u001B[0m\u001B[34m*\u001B[0m\u001B[34m*\u001B[0m\u001B[34m*\u001B[0m\u001B[34m*\u001B[0m\u001B[34m*\u001B[0m\u001B[34m*\u001B[0m\u001B[34m*\u001B[0m\u001B[34m*\u001B[0m\u001B[34m*\u001B[0m\u001B[34m*\u001B[0m\u001B[34m*\u001B[0m\u001B[34m*\u001B[0m\u001B[34m*\u001B[0m\u001B[34m*\u001B[0m\u001B[34m*\u001B[0m\u001B[34m*\u001B[0m\u001B[34m*\u001B[0m\u001B[34m*\u001B[0m\u001B[34m*\u001B[0m\u001B[34m*\u001B[0m\u001B[34m*\u001B[0m\u001B[34m*\u001B[0m\u001B[34m*\u001B[0m\u001B[34m*\u001B[0m\u001B[34m*\u001B[0m\u001B[34m*\u001B[0m\u001B[34m*\u001B[0m\u001B[34m*\u001B[0m\u001B[34m*\u001B[0m\u001B[34m*\u001B[0m\u001B[34m*\u001B[0m\u001B[34m*\u001B[0m\u001B[34m*\u001B[0m\u001B[34m*\u001B[0m\u001B[34m*\u001B[0m\u001B[34m*\u001B[0m\u001B[34m*\u001B[0m\u001B[34m*\u001B[0m\u001B[34m*\u001B[0m\u001B[34m*\u001B[0m\u001B[34m*\u001B[0m\u001B[34m*\u001B[0m\u001B[34m*\u001B[0m\u001B[34m*\u001B[0m\u001B[34m*\u001B[0m\u001B[34m*\u001B[0m\u001B[34m*\u001B[0m\u001B[34m*\u001B[0m\u001B[34m*\u001B[0m\u001B[34m*\u001B[0m\u001B[34m*\u001B[0m\u001B[34m*\u001B[0m\u001B[34m*\u001B[0m\u001B[34m*\u001B[0m\u001B[34m*\u001B[0m\u001B[34m*\u001B[0m\u001B[34m*\u001B[0m\u001B[34m*\u001B[0m\u001B[34m*\u001B[0m\u001B[34m*\u001B[0m\u001B[34m*\u001B[0m\u001B[34m*\u001B[0m\u001B[34m*\u001B[0m\u001B[34m*\u001B[0m\u001B[34m*\u001B[0m\u001B[34m*\u001B[0m\u001B[34m*\u001B[0m\u001B[34m*\u001B[0m\u001B[34m*\u001B[0m\u001B[34m*\u001B[0m\u001B[34m*\u001B[0m\u001B[34m*\u001B[0m\u001B[34m*\u001B[0m\u001B[34m*\u001B[0m\u001B[34m*\u001B[0m\u001B[34m*\u001B[0m\u001B[34m*\u001B[0m\u001B[34m*\u001B[0m\u001B[34m*\u001B[0m\u001B[34m*\u001B[0m\u001B[34m*\u001B[0m\u001B[34m*\u001B[0m\u001B[34m*\u001B[0m\u001B[34m*\u001B[0m\u001B[34m*\u001B[0m\u001B[34m*\u001B[0m\u001B[34m*\u001B[0m\u001B[34m*\u001B[0m\u001B[34m*\u001B[0m\u001B[34m*\u001B[0m\u001B[34m*\u001B[0m\n",
      "\u001B[32m** Rozwiązanie ********************************************************************************\u001B[0m\n"
     ]
    },
    {
     "data": {
      "text/plain": [
       "<IPython.core.display.Latex object>"
      ],
      "text/latex": "$$\\det\\left(\\lambda \\mathbb{I} - A \\right) = \\lambda^{4} - 6 \\lambda^{2} + 8 \\lambda - 3$$"
     },
     "metadata": {},
     "output_type": "display_data"
    },
    {
     "data": {
      "text/plain": [
       "<IPython.core.display.Markdown object>"
      ],
      "text/markdown": "Wartości własne"
     },
     "metadata": {},
     "output_type": "display_data"
    },
    {
     "data": {
      "text/plain": [
       "<IPython.core.display.Latex object>"
      ],
      "text/latex": "$$ \\left\\{ -3 : 1, \\  1 : 3\\right\\}, $$"
     },
     "metadata": {},
     "output_type": "display_data"
    },
    {
     "data": {
      "text/plain": [
       "<IPython.core.display.Markdown object>"
      ],
      "text/markdown": "Wektory własne"
     },
     "metadata": {},
     "output_type": "display_data"
    },
    {
     "data": {
      "text/plain": [
       "<IPython.core.display.Latex object>"
      ],
      "text/latex": "$$\\left[ \\left( -3, \\  1, \\  \\left[ \\left[\\begin{matrix}\\frac{3}{2}\\\\- \\frac{1}{2}\\\\0\\\\1\\end{matrix}\\right]\\right]\\right), \\  \\left( 1, \\  3, \\  \\left[ \\left[\\begin{matrix}1\\\\1\\\\0\\\\0\\end{matrix}\\right]\\right]\\right)\\right]$$"
     },
     "metadata": {},
     "output_type": "display_data"
    },
    {
     "name": "stdout",
     "output_type": "stream",
     "text": [
      "\u001B[32m*\u001B[0m\u001B[32m*\u001B[0m\u001B[32m*\u001B[0m\u001B[32m*\u001B[0m\u001B[32m*\u001B[0m\u001B[32m*\u001B[0m\u001B[32m*\u001B[0m\u001B[32m*\u001B[0m\u001B[32m*\u001B[0m\u001B[32m*\u001B[0m\u001B[32m*\u001B[0m\u001B[32m*\u001B[0m\u001B[32m*\u001B[0m\u001B[32m*\u001B[0m\u001B[32m*\u001B[0m\u001B[32m*\u001B[0m\u001B[32m*\u001B[0m\u001B[32m*\u001B[0m\u001B[32m*\u001B[0m\u001B[32m*\u001B[0m\u001B[32m*\u001B[0m\u001B[32m*\u001B[0m\u001B[32m*\u001B[0m\u001B[32m*\u001B[0m\u001B[32m*\u001B[0m\u001B[32m*\u001B[0m\u001B[32m*\u001B[0m\u001B[32m*\u001B[0m\u001B[32m*\u001B[0m\u001B[32m*\u001B[0m\u001B[32m*\u001B[0m\u001B[32m*\u001B[0m\u001B[32m*\u001B[0m\u001B[32m*\u001B[0m\u001B[32m*\u001B[0m\u001B[32m*\u001B[0m\u001B[32m*\u001B[0m\u001B[32m*\u001B[0m\u001B[32m*\u001B[0m\u001B[32m*\u001B[0m\u001B[32m*\u001B[0m\u001B[32m*\u001B[0m\u001B[32m*\u001B[0m\u001B[32m*\u001B[0m\u001B[32m*\u001B[0m\u001B[32m*\u001B[0m\u001B[32m*\u001B[0m\u001B[32m*\u001B[0m\u001B[32m*\u001B[0m\u001B[32m*\u001B[0m\u001B[32m*\u001B[0m\u001B[32m*\u001B[0m\u001B[32m*\u001B[0m\u001B[32m*\u001B[0m\u001B[32m*\u001B[0m\u001B[32m*\u001B[0m\u001B[32m*\u001B[0m\u001B[32m*\u001B[0m\u001B[32m*\u001B[0m\u001B[32m*\u001B[0m\u001B[32m*\u001B[0m\u001B[32m*\u001B[0m\u001B[32m*\u001B[0m\u001B[32m*\u001B[0m\u001B[32m*\u001B[0m\u001B[32m*\u001B[0m\u001B[32m*\u001B[0m\u001B[32m*\u001B[0m\u001B[32m*\u001B[0m\u001B[32m*\u001B[0m\u001B[32m*\u001B[0m\u001B[32m*\u001B[0m\u001B[32m*\u001B[0m\u001B[32m*\u001B[0m\u001B[32m*\u001B[0m\u001B[32m*\u001B[0m\u001B[32m*\u001B[0m\u001B[32m*\u001B[0m\u001B[32m*\u001B[0m\u001B[32m*\u001B[0m\u001B[32m*\u001B[0m\u001B[32m*\u001B[0m\u001B[32m*\u001B[0m\u001B[32m*\u001B[0m\u001B[32m*\u001B[0m\u001B[32m*\u001B[0m\u001B[32m*\u001B[0m\u001B[32m*\u001B[0m\u001B[32m*\u001B[0m\u001B[32m*\u001B[0m\u001B[32m*\u001B[0m\u001B[32m*\u001B[0m\u001B[32m*\u001B[0m\u001B[32m*\u001B[0m\u001B[32m*\u001B[0m\n",
      "\u001B[34m** Zadanie 5 **********************************************************************************\u001B[0m\n"
     ]
    },
    {
     "data": {
      "text/plain": [
       "<IPython.core.display.Markdown object>"
      ],
      "text/markdown": "Wyznaczyć wartości własne i wektory własne macierzy"
     },
     "metadata": {},
     "output_type": "display_data"
    },
    {
     "data": {
      "text/plain": [
       "<IPython.core.display.Latex object>"
      ],
      "text/latex": " \n\t\\[\n\t\t\\textnormal{A=} \\left[\\begin{matrix}-1 & 0 & 2\\\\-2 & 1 & 1\\\\0 & -2 & 3\\end{matrix}\\right]\n\t\\]"
     },
     "metadata": {},
     "output_type": "display_data"
    },
    {
     "name": "stdout",
     "output_type": "stream",
     "text": [
      "\u001B[34m*\u001B[0m\u001B[34m*\u001B[0m\u001B[34m*\u001B[0m\u001B[34m*\u001B[0m\u001B[34m*\u001B[0m\u001B[34m*\u001B[0m\u001B[34m*\u001B[0m\u001B[34m*\u001B[0m\u001B[34m*\u001B[0m\u001B[34m*\u001B[0m\u001B[34m*\u001B[0m\u001B[34m*\u001B[0m\u001B[34m*\u001B[0m\u001B[34m*\u001B[0m\u001B[34m*\u001B[0m\u001B[34m*\u001B[0m\u001B[34m*\u001B[0m\u001B[34m*\u001B[0m\u001B[34m*\u001B[0m\u001B[34m*\u001B[0m\u001B[34m*\u001B[0m\u001B[34m*\u001B[0m\u001B[34m*\u001B[0m\u001B[34m*\u001B[0m\u001B[34m*\u001B[0m\u001B[34m*\u001B[0m\u001B[34m*\u001B[0m\u001B[34m*\u001B[0m\u001B[34m*\u001B[0m\u001B[34m*\u001B[0m\u001B[34m*\u001B[0m\u001B[34m*\u001B[0m\u001B[34m*\u001B[0m\u001B[34m*\u001B[0m\u001B[34m*\u001B[0m\u001B[34m*\u001B[0m\u001B[34m*\u001B[0m\u001B[34m*\u001B[0m\u001B[34m*\u001B[0m\u001B[34m*\u001B[0m\u001B[34m*\u001B[0m\u001B[34m*\u001B[0m\u001B[34m*\u001B[0m\u001B[34m*\u001B[0m\u001B[34m*\u001B[0m\u001B[34m*\u001B[0m\u001B[34m*\u001B[0m\u001B[34m*\u001B[0m\u001B[34m*\u001B[0m\u001B[34m*\u001B[0m\u001B[34m*\u001B[0m\u001B[34m*\u001B[0m\u001B[34m*\u001B[0m\u001B[34m*\u001B[0m\u001B[34m*\u001B[0m\u001B[34m*\u001B[0m\u001B[34m*\u001B[0m\u001B[34m*\u001B[0m\u001B[34m*\u001B[0m\u001B[34m*\u001B[0m\u001B[34m*\u001B[0m\u001B[34m*\u001B[0m\u001B[34m*\u001B[0m\u001B[34m*\u001B[0m\u001B[34m*\u001B[0m\u001B[34m*\u001B[0m\u001B[34m*\u001B[0m\u001B[34m*\u001B[0m\u001B[34m*\u001B[0m\u001B[34m*\u001B[0m\u001B[34m*\u001B[0m\u001B[34m*\u001B[0m\u001B[34m*\u001B[0m\u001B[34m*\u001B[0m\u001B[34m*\u001B[0m\u001B[34m*\u001B[0m\u001B[34m*\u001B[0m\u001B[34m*\u001B[0m\u001B[34m*\u001B[0m\u001B[34m*\u001B[0m\u001B[34m*\u001B[0m\u001B[34m*\u001B[0m\u001B[34m*\u001B[0m\u001B[34m*\u001B[0m\u001B[34m*\u001B[0m\u001B[34m*\u001B[0m\u001B[34m*\u001B[0m\u001B[34m*\u001B[0m\u001B[34m*\u001B[0m\u001B[34m*\u001B[0m\u001B[34m*\u001B[0m\u001B[34m*\u001B[0m\u001B[34m*\u001B[0m\u001B[34m*\u001B[0m\u001B[34m*\u001B[0m\n",
      "\u001B[32m** Rozwiązanie ********************************************************************************\u001B[0m\n"
     ]
    },
    {
     "data": {
      "text/plain": [
       "<IPython.core.display.Latex object>"
      ],
      "text/latex": "$$\\det\\left(\\lambda \\mathbb{I} - A \\right) = \\lambda^{3} - 3 \\lambda^{2} + \\lambda - 3$$"
     },
     "metadata": {},
     "output_type": "display_data"
    },
    {
     "data": {
      "text/plain": [
       "<IPython.core.display.Markdown object>"
      ],
      "text/markdown": "Wartości własne"
     },
     "metadata": {},
     "output_type": "display_data"
    },
    {
     "data": {
      "text/plain": [
       "<IPython.core.display.Latex object>"
      ],
      "text/latex": "$$ \\left\\{ 3 : 1, \\  - i : 1, \\  i : 1\\right\\}, $$"
     },
     "metadata": {},
     "output_type": "display_data"
    },
    {
     "data": {
      "text/plain": [
       "<IPython.core.display.Markdown object>"
      ],
      "text/markdown": "Wektory własne"
     },
     "metadata": {},
     "output_type": "display_data"
    },
    {
     "data": {
      "text/plain": [
       "<IPython.core.display.Latex object>"
      ],
      "text/latex": "$$\\left[ \\left( 3, \\  1, \\  \\left[ \\left[\\begin{matrix}\\frac{1}{2}\\\\0\\\\1\\end{matrix}\\right]\\right]\\right), \\  \\left( - i, \\  1, \\  \\left[ \\left[\\begin{matrix}1 + i\\\\\\frac{3}{2} + \\frac{i}{2}\\\\1\\end{matrix}\\right]\\right]\\right), \\  \\left( i, \\  1, \\  \\left[ \\left[\\begin{matrix}1 - i\\\\\\frac{3}{2} - \\frac{i}{2}\\\\1\\end{matrix}\\right]\\right]\\right)\\right]$$"
     },
     "metadata": {},
     "output_type": "display_data"
    },
    {
     "name": "stdout",
     "output_type": "stream",
     "text": [
      "\u001B[32m*\u001B[0m\u001B[32m*\u001B[0m\u001B[32m*\u001B[0m\u001B[32m*\u001B[0m\u001B[32m*\u001B[0m\u001B[32m*\u001B[0m\u001B[32m*\u001B[0m\u001B[32m*\u001B[0m\u001B[32m*\u001B[0m\u001B[32m*\u001B[0m\u001B[32m*\u001B[0m\u001B[32m*\u001B[0m\u001B[32m*\u001B[0m\u001B[32m*\u001B[0m\u001B[32m*\u001B[0m\u001B[32m*\u001B[0m\u001B[32m*\u001B[0m\u001B[32m*\u001B[0m\u001B[32m*\u001B[0m\u001B[32m*\u001B[0m\u001B[32m*\u001B[0m\u001B[32m*\u001B[0m\u001B[32m*\u001B[0m\u001B[32m*\u001B[0m\u001B[32m*\u001B[0m\u001B[32m*\u001B[0m\u001B[32m*\u001B[0m\u001B[32m*\u001B[0m\u001B[32m*\u001B[0m\u001B[32m*\u001B[0m\u001B[32m*\u001B[0m\u001B[32m*\u001B[0m\u001B[32m*\u001B[0m\u001B[32m*\u001B[0m\u001B[32m*\u001B[0m\u001B[32m*\u001B[0m\u001B[32m*\u001B[0m\u001B[32m*\u001B[0m\u001B[32m*\u001B[0m\u001B[32m*\u001B[0m\u001B[32m*\u001B[0m\u001B[32m*\u001B[0m\u001B[32m*\u001B[0m\u001B[32m*\u001B[0m\u001B[32m*\u001B[0m\u001B[32m*\u001B[0m\u001B[32m*\u001B[0m\u001B[32m*\u001B[0m\u001B[32m*\u001B[0m\u001B[32m*\u001B[0m\u001B[32m*\u001B[0m\u001B[32m*\u001B[0m\u001B[32m*\u001B[0m\u001B[32m*\u001B[0m\u001B[32m*\u001B[0m\u001B[32m*\u001B[0m\u001B[32m*\u001B[0m\u001B[32m*\u001B[0m\u001B[32m*\u001B[0m\u001B[32m*\u001B[0m\u001B[32m*\u001B[0m\u001B[32m*\u001B[0m\u001B[32m*\u001B[0m\u001B[32m*\u001B[0m\u001B[32m*\u001B[0m\u001B[32m*\u001B[0m\u001B[32m*\u001B[0m\u001B[32m*\u001B[0m\u001B[32m*\u001B[0m\u001B[32m*\u001B[0m\u001B[32m*\u001B[0m\u001B[32m*\u001B[0m\u001B[32m*\u001B[0m\u001B[32m*\u001B[0m\u001B[32m*\u001B[0m\u001B[32m*\u001B[0m\u001B[32m*\u001B[0m\u001B[32m*\u001B[0m\u001B[32m*\u001B[0m\u001B[32m*\u001B[0m\u001B[32m*\u001B[0m\u001B[32m*\u001B[0m\u001B[32m*\u001B[0m\u001B[32m*\u001B[0m\u001B[32m*\u001B[0m\u001B[32m*\u001B[0m\u001B[32m*\u001B[0m\u001B[32m*\u001B[0m\u001B[32m*\u001B[0m\u001B[32m*\u001B[0m\u001B[32m*\u001B[0m\u001B[32m*\u001B[0m\u001B[32m*\u001B[0m\u001B[32m*\u001B[0m\u001B[32m*\u001B[0m\n",
      "\u001B[34m** Zadanie 6 **********************************************************************************\u001B[0m\n"
     ]
    },
    {
     "data": {
      "text/plain": [
       "<IPython.core.display.Markdown object>"
      ],
      "text/markdown": "Wyznaczyć wartości własne i wektory własne macierzy"
     },
     "metadata": {},
     "output_type": "display_data"
    },
    {
     "data": {
      "text/plain": [
       "<IPython.core.display.Latex object>"
      ],
      "text/latex": " \n\t\\[\n\t\t\\textnormal{A=} \\left[\\begin{matrix}-2 & 0 & 0\\\\2 & 2 & 1\\\\-2 & -2 & 0\\end{matrix}\\right]\n\t\\]"
     },
     "metadata": {},
     "output_type": "display_data"
    },
    {
     "name": "stdout",
     "output_type": "stream",
     "text": [
      "\u001B[34m*\u001B[0m\u001B[34m*\u001B[0m\u001B[34m*\u001B[0m\u001B[34m*\u001B[0m\u001B[34m*\u001B[0m\u001B[34m*\u001B[0m\u001B[34m*\u001B[0m\u001B[34m*\u001B[0m\u001B[34m*\u001B[0m\u001B[34m*\u001B[0m\u001B[34m*\u001B[0m\u001B[34m*\u001B[0m\u001B[34m*\u001B[0m\u001B[34m*\u001B[0m\u001B[34m*\u001B[0m\u001B[34m*\u001B[0m\u001B[34m*\u001B[0m\u001B[34m*\u001B[0m\u001B[34m*\u001B[0m\u001B[34m*\u001B[0m\u001B[34m*\u001B[0m\u001B[34m*\u001B[0m\u001B[34m*\u001B[0m\u001B[34m*\u001B[0m\u001B[34m*\u001B[0m\u001B[34m*\u001B[0m\u001B[34m*\u001B[0m\u001B[34m*\u001B[0m\u001B[34m*\u001B[0m\u001B[34m*\u001B[0m\u001B[34m*\u001B[0m\u001B[34m*\u001B[0m\u001B[34m*\u001B[0m\u001B[34m*\u001B[0m\u001B[34m*\u001B[0m\u001B[34m*\u001B[0m\u001B[34m*\u001B[0m\u001B[34m*\u001B[0m\u001B[34m*\u001B[0m\u001B[34m*\u001B[0m\u001B[34m*\u001B[0m\u001B[34m*\u001B[0m\u001B[34m*\u001B[0m\u001B[34m*\u001B[0m\u001B[34m*\u001B[0m\u001B[34m*\u001B[0m\u001B[34m*\u001B[0m\u001B[34m*\u001B[0m\u001B[34m*\u001B[0m\u001B[34m*\u001B[0m\u001B[34m*\u001B[0m\u001B[34m*\u001B[0m\u001B[34m*\u001B[0m\u001B[34m*\u001B[0m\u001B[34m*\u001B[0m\u001B[34m*\u001B[0m\u001B[34m*\u001B[0m\u001B[34m*\u001B[0m\u001B[34m*\u001B[0m\u001B[34m*\u001B[0m\u001B[34m*\u001B[0m\u001B[34m*\u001B[0m\u001B[34m*\u001B[0m\u001B[34m*\u001B[0m\u001B[34m*\u001B[0m\u001B[34m*\u001B[0m\u001B[34m*\u001B[0m\u001B[34m*\u001B[0m\u001B[34m*\u001B[0m\u001B[34m*\u001B[0m\u001B[34m*\u001B[0m\u001B[34m*\u001B[0m\u001B[34m*\u001B[0m\u001B[34m*\u001B[0m\u001B[34m*\u001B[0m\u001B[34m*\u001B[0m\u001B[34m*\u001B[0m\u001B[34m*\u001B[0m\u001B[34m*\u001B[0m\u001B[34m*\u001B[0m\u001B[34m*\u001B[0m\u001B[34m*\u001B[0m\u001B[34m*\u001B[0m\u001B[34m*\u001B[0m\u001B[34m*\u001B[0m\u001B[34m*\u001B[0m\u001B[34m*\u001B[0m\u001B[34m*\u001B[0m\u001B[34m*\u001B[0m\u001B[34m*\u001B[0m\u001B[34m*\u001B[0m\u001B[34m*\u001B[0m\u001B[34m*\u001B[0m\u001B[34m*\u001B[0m\u001B[34m*\u001B[0m\n",
      "\u001B[32m** Rozwiązanie ********************************************************************************\u001B[0m\n"
     ]
    },
    {
     "data": {
      "text/plain": [
       "<IPython.core.display.Latex object>"
      ],
      "text/latex": "$$\\det\\left(\\lambda \\mathbb{I} - A \\right) = \\lambda^{3} - 2 \\lambda + 4$$"
     },
     "metadata": {},
     "output_type": "display_data"
    },
    {
     "data": {
      "text/plain": [
       "<IPython.core.display.Markdown object>"
      ],
      "text/markdown": "Wartości własne"
     },
     "metadata": {},
     "output_type": "display_data"
    },
    {
     "data": {
      "text/plain": [
       "<IPython.core.display.Latex object>"
      ],
      "text/latex": "$$ \\left\\{ -2 : 1, \\  1 - i : 1, \\  1 + i : 1\\right\\}, $$"
     },
     "metadata": {},
     "output_type": "display_data"
    },
    {
     "data": {
      "text/plain": [
       "<IPython.core.display.Markdown object>"
      ],
      "text/markdown": "Wektory własne"
     },
     "metadata": {},
     "output_type": "display_data"
    },
    {
     "data": {
      "text/plain": [
       "<IPython.core.display.Latex object>"
      ],
      "text/latex": "$$\\left[ \\left( -2, \\  1, \\  \\left[ \\left[\\begin{matrix}\\frac{5}{2}\\\\- \\frac{3}{2}\\\\1\\end{matrix}\\right]\\right]\\right), \\  \\left( 1 - i, \\  1, \\  \\left[ \\left[\\begin{matrix}0\\\\- \\frac{1}{2} + \\frac{i}{2}\\\\1\\end{matrix}\\right]\\right]\\right), \\  \\left( 1 + i, \\  1, \\  \\left[ \\left[\\begin{matrix}0\\\\- \\frac{1}{2} - \\frac{i}{2}\\\\1\\end{matrix}\\right]\\right]\\right)\\right]$$"
     },
     "metadata": {},
     "output_type": "display_data"
    },
    {
     "name": "stdout",
     "output_type": "stream",
     "text": [
      "\u001B[32m*\u001B[0m\u001B[32m*\u001B[0m\u001B[32m*\u001B[0m\u001B[32m*\u001B[0m\u001B[32m*\u001B[0m\u001B[32m*\u001B[0m\u001B[32m*\u001B[0m\u001B[32m*\u001B[0m\u001B[32m*\u001B[0m\u001B[32m*\u001B[0m\u001B[32m*\u001B[0m\u001B[32m*\u001B[0m\u001B[32m*\u001B[0m\u001B[32m*\u001B[0m\u001B[32m*\u001B[0m\u001B[32m*\u001B[0m\u001B[32m*\u001B[0m\u001B[32m*\u001B[0m\u001B[32m*\u001B[0m\u001B[32m*\u001B[0m\u001B[32m*\u001B[0m\u001B[32m*\u001B[0m\u001B[32m*\u001B[0m\u001B[32m*\u001B[0m\u001B[32m*\u001B[0m\u001B[32m*\u001B[0m\u001B[32m*\u001B[0m\u001B[32m*\u001B[0m\u001B[32m*\u001B[0m\u001B[32m*\u001B[0m\u001B[32m*\u001B[0m\u001B[32m*\u001B[0m\u001B[32m*\u001B[0m\u001B[32m*\u001B[0m\u001B[32m*\u001B[0m\u001B[32m*\u001B[0m\u001B[32m*\u001B[0m\u001B[32m*\u001B[0m\u001B[32m*\u001B[0m\u001B[32m*\u001B[0m\u001B[32m*\u001B[0m\u001B[32m*\u001B[0m\u001B[32m*\u001B[0m\u001B[32m*\u001B[0m\u001B[32m*\u001B[0m\u001B[32m*\u001B[0m\u001B[32m*\u001B[0m\u001B[32m*\u001B[0m\u001B[32m*\u001B[0m\u001B[32m*\u001B[0m\u001B[32m*\u001B[0m\u001B[32m*\u001B[0m\u001B[32m*\u001B[0m\u001B[32m*\u001B[0m\u001B[32m*\u001B[0m\u001B[32m*\u001B[0m\u001B[32m*\u001B[0m\u001B[32m*\u001B[0m\u001B[32m*\u001B[0m\u001B[32m*\u001B[0m\u001B[32m*\u001B[0m\u001B[32m*\u001B[0m\u001B[32m*\u001B[0m\u001B[32m*\u001B[0m\u001B[32m*\u001B[0m\u001B[32m*\u001B[0m\u001B[32m*\u001B[0m\u001B[32m*\u001B[0m\u001B[32m*\u001B[0m\u001B[32m*\u001B[0m\u001B[32m*\u001B[0m\u001B[32m*\u001B[0m\u001B[32m*\u001B[0m\u001B[32m*\u001B[0m\u001B[32m*\u001B[0m\u001B[32m*\u001B[0m\u001B[32m*\u001B[0m\u001B[32m*\u001B[0m\u001B[32m*\u001B[0m\u001B[32m*\u001B[0m\u001B[32m*\u001B[0m\u001B[32m*\u001B[0m\u001B[32m*\u001B[0m\u001B[32m*\u001B[0m\u001B[32m*\u001B[0m\u001B[32m*\u001B[0m\u001B[32m*\u001B[0m\u001B[32m*\u001B[0m\u001B[32m*\u001B[0m\u001B[32m*\u001B[0m\u001B[32m*\u001B[0m\u001B[32m*\u001B[0m\u001B[32m*\u001B[0m\u001B[32m*\u001B[0m\u001B[32m*\u001B[0m\n",
      "\u001B[34m** Zadanie 7 **********************************************************************************\u001B[0m\n"
     ]
    },
    {
     "data": {
      "text/plain": [
       "<IPython.core.display.Markdown object>"
      ],
      "text/markdown": "Wyznaczyć wartości własne i wektory własne macierzy"
     },
     "metadata": {},
     "output_type": "display_data"
    },
    {
     "data": {
      "text/plain": [
       "<IPython.core.display.Latex object>"
      ],
      "text/latex": " \n\t\\[\n\t\t\\textnormal{A=} \\left[\\begin{matrix}3 & 3\\\\0 & 1\\end{matrix}\\right]\n\t\\]"
     },
     "metadata": {},
     "output_type": "display_data"
    },
    {
     "name": "stdout",
     "output_type": "stream",
     "text": [
      "\u001B[34m*\u001B[0m\u001B[34m*\u001B[0m\u001B[34m*\u001B[0m\u001B[34m*\u001B[0m\u001B[34m*\u001B[0m\u001B[34m*\u001B[0m\u001B[34m*\u001B[0m\u001B[34m*\u001B[0m\u001B[34m*\u001B[0m\u001B[34m*\u001B[0m\u001B[34m*\u001B[0m\u001B[34m*\u001B[0m\u001B[34m*\u001B[0m\u001B[34m*\u001B[0m\u001B[34m*\u001B[0m\u001B[34m*\u001B[0m\u001B[34m*\u001B[0m\u001B[34m*\u001B[0m\u001B[34m*\u001B[0m\u001B[34m*\u001B[0m\u001B[34m*\u001B[0m\u001B[34m*\u001B[0m\u001B[34m*\u001B[0m\u001B[34m*\u001B[0m\u001B[34m*\u001B[0m\u001B[34m*\u001B[0m\u001B[34m*\u001B[0m\u001B[34m*\u001B[0m\u001B[34m*\u001B[0m\u001B[34m*\u001B[0m\u001B[34m*\u001B[0m\u001B[34m*\u001B[0m\u001B[34m*\u001B[0m\u001B[34m*\u001B[0m\u001B[34m*\u001B[0m\u001B[34m*\u001B[0m\u001B[34m*\u001B[0m\u001B[34m*\u001B[0m\u001B[34m*\u001B[0m\u001B[34m*\u001B[0m\u001B[34m*\u001B[0m\u001B[34m*\u001B[0m\u001B[34m*\u001B[0m\u001B[34m*\u001B[0m\u001B[34m*\u001B[0m\u001B[34m*\u001B[0m\u001B[34m*\u001B[0m\u001B[34m*\u001B[0m\u001B[34m*\u001B[0m\u001B[34m*\u001B[0m\u001B[34m*\u001B[0m\u001B[34m*\u001B[0m\u001B[34m*\u001B[0m\u001B[34m*\u001B[0m\u001B[34m*\u001B[0m\u001B[34m*\u001B[0m\u001B[34m*\u001B[0m\u001B[34m*\u001B[0m\u001B[34m*\u001B[0m\u001B[34m*\u001B[0m\u001B[34m*\u001B[0m\u001B[34m*\u001B[0m\u001B[34m*\u001B[0m\u001B[34m*\u001B[0m\u001B[34m*\u001B[0m\u001B[34m*\u001B[0m\u001B[34m*\u001B[0m\u001B[34m*\u001B[0m\u001B[34m*\u001B[0m\u001B[34m*\u001B[0m\u001B[34m*\u001B[0m\u001B[34m*\u001B[0m\u001B[34m*\u001B[0m\u001B[34m*\u001B[0m\u001B[34m*\u001B[0m\u001B[34m*\u001B[0m\u001B[34m*\u001B[0m\u001B[34m*\u001B[0m\u001B[34m*\u001B[0m\u001B[34m*\u001B[0m\u001B[34m*\u001B[0m\u001B[34m*\u001B[0m\u001B[34m*\u001B[0m\u001B[34m*\u001B[0m\u001B[34m*\u001B[0m\u001B[34m*\u001B[0m\u001B[34m*\u001B[0m\u001B[34m*\u001B[0m\u001B[34m*\u001B[0m\u001B[34m*\u001B[0m\u001B[34m*\u001B[0m\u001B[34m*\u001B[0m\u001B[34m*\u001B[0m\u001B[34m*\u001B[0m\u001B[34m*\u001B[0m\n",
      "\u001B[32m** Rozwiązanie ********************************************************************************\u001B[0m\n"
     ]
    },
    {
     "data": {
      "text/plain": [
       "<IPython.core.display.Latex object>"
      ],
      "text/latex": "$$\\det\\left(\\lambda \\mathbb{I} - A \\right) = \\lambda^{2} - 4 \\lambda + 3$$"
     },
     "metadata": {},
     "output_type": "display_data"
    },
    {
     "data": {
      "text/plain": [
       "<IPython.core.display.Markdown object>"
      ],
      "text/markdown": "Wartości własne"
     },
     "metadata": {},
     "output_type": "display_data"
    },
    {
     "data": {
      "text/plain": [
       "<IPython.core.display.Latex object>"
      ],
      "text/latex": "$$ \\left\\{ 1 : 1, \\  3 : 1\\right\\}, $$"
     },
     "metadata": {},
     "output_type": "display_data"
    },
    {
     "data": {
      "text/plain": [
       "<IPython.core.display.Markdown object>"
      ],
      "text/markdown": "Wektory własne"
     },
     "metadata": {},
     "output_type": "display_data"
    },
    {
     "data": {
      "text/plain": [
       "<IPython.core.display.Latex object>"
      ],
      "text/latex": "$$\\left[ \\left( 1, \\  1, \\  \\left[ \\left[\\begin{matrix}- \\frac{3}{2}\\\\1\\end{matrix}\\right]\\right]\\right), \\  \\left( 3, \\  1, \\  \\left[ \\left[\\begin{matrix}1\\\\0\\end{matrix}\\right]\\right]\\right)\\right]$$"
     },
     "metadata": {},
     "output_type": "display_data"
    },
    {
     "name": "stdout",
     "output_type": "stream",
     "text": [
      "\u001B[32m*\u001B[0m\u001B[32m*\u001B[0m\u001B[32m*\u001B[0m\u001B[32m*\u001B[0m\u001B[32m*\u001B[0m\u001B[32m*\u001B[0m\u001B[32m*\u001B[0m\u001B[32m*\u001B[0m\u001B[32m*\u001B[0m\u001B[32m*\u001B[0m\u001B[32m*\u001B[0m\u001B[32m*\u001B[0m\u001B[32m*\u001B[0m\u001B[32m*\u001B[0m\u001B[32m*\u001B[0m\u001B[32m*\u001B[0m\u001B[32m*\u001B[0m\u001B[32m*\u001B[0m\u001B[32m*\u001B[0m\u001B[32m*\u001B[0m\u001B[32m*\u001B[0m\u001B[32m*\u001B[0m\u001B[32m*\u001B[0m\u001B[32m*\u001B[0m\u001B[32m*\u001B[0m\u001B[32m*\u001B[0m\u001B[32m*\u001B[0m\u001B[32m*\u001B[0m\u001B[32m*\u001B[0m\u001B[32m*\u001B[0m\u001B[32m*\u001B[0m\u001B[32m*\u001B[0m\u001B[32m*\u001B[0m\u001B[32m*\u001B[0m\u001B[32m*\u001B[0m\u001B[32m*\u001B[0m\u001B[32m*\u001B[0m\u001B[32m*\u001B[0m\u001B[32m*\u001B[0m\u001B[32m*\u001B[0m\u001B[32m*\u001B[0m\u001B[32m*\u001B[0m\u001B[32m*\u001B[0m\u001B[32m*\u001B[0m\u001B[32m*\u001B[0m\u001B[32m*\u001B[0m\u001B[32m*\u001B[0m\u001B[32m*\u001B[0m\u001B[32m*\u001B[0m\u001B[32m*\u001B[0m\u001B[32m*\u001B[0m\u001B[32m*\u001B[0m\u001B[32m*\u001B[0m\u001B[32m*\u001B[0m\u001B[32m*\u001B[0m\u001B[32m*\u001B[0m\u001B[32m*\u001B[0m\u001B[32m*\u001B[0m\u001B[32m*\u001B[0m\u001B[32m*\u001B[0m\u001B[32m*\u001B[0m\u001B[32m*\u001B[0m\u001B[32m*\u001B[0m\u001B[32m*\u001B[0m\u001B[32m*\u001B[0m\u001B[32m*\u001B[0m\u001B[32m*\u001B[0m\u001B[32m*\u001B[0m\u001B[32m*\u001B[0m\u001B[32m*\u001B[0m\u001B[32m*\u001B[0m\u001B[32m*\u001B[0m\u001B[32m*\u001B[0m\u001B[32m*\u001B[0m\u001B[32m*\u001B[0m\u001B[32m*\u001B[0m\u001B[32m*\u001B[0m\u001B[32m*\u001B[0m\u001B[32m*\u001B[0m\u001B[32m*\u001B[0m\u001B[32m*\u001B[0m\u001B[32m*\u001B[0m\u001B[32m*\u001B[0m\u001B[32m*\u001B[0m\u001B[32m*\u001B[0m\u001B[32m*\u001B[0m\u001B[32m*\u001B[0m\u001B[32m*\u001B[0m\u001B[32m*\u001B[0m\u001B[32m*\u001B[0m\u001B[32m*\u001B[0m\u001B[32m*\u001B[0m\u001B[32m*\u001B[0m\u001B[32m*\u001B[0m\u001B[32m*\u001B[0m\n",
      "\u001B[34m** Zadanie 8 **********************************************************************************\u001B[0m\n"
     ]
    },
    {
     "data": {
      "text/plain": [
       "<IPython.core.display.Markdown object>"
      ],
      "text/markdown": "Wyznaczyć wartości własne i wektory własne macierzy"
     },
     "metadata": {},
     "output_type": "display_data"
    },
    {
     "data": {
      "text/plain": [
       "<IPython.core.display.Latex object>"
      ],
      "text/latex": " \n\t\\[\n\t\t\\textnormal{A=} \\left[\\begin{matrix}-2 & 2\\\\-1 & 2\\end{matrix}\\right]\n\t\\]"
     },
     "metadata": {},
     "output_type": "display_data"
    },
    {
     "name": "stdout",
     "output_type": "stream",
     "text": [
      "\u001B[34m*\u001B[0m\u001B[34m*\u001B[0m\u001B[34m*\u001B[0m\u001B[34m*\u001B[0m\u001B[34m*\u001B[0m\u001B[34m*\u001B[0m\u001B[34m*\u001B[0m\u001B[34m*\u001B[0m\u001B[34m*\u001B[0m\u001B[34m*\u001B[0m\u001B[34m*\u001B[0m\u001B[34m*\u001B[0m\u001B[34m*\u001B[0m\u001B[34m*\u001B[0m\u001B[34m*\u001B[0m\u001B[34m*\u001B[0m\u001B[34m*\u001B[0m\u001B[34m*\u001B[0m\u001B[34m*\u001B[0m\u001B[34m*\u001B[0m\u001B[34m*\u001B[0m\u001B[34m*\u001B[0m\u001B[34m*\u001B[0m\u001B[34m*\u001B[0m\u001B[34m*\u001B[0m\u001B[34m*\u001B[0m\u001B[34m*\u001B[0m\u001B[34m*\u001B[0m\u001B[34m*\u001B[0m\u001B[34m*\u001B[0m\u001B[34m*\u001B[0m\u001B[34m*\u001B[0m\u001B[34m*\u001B[0m\u001B[34m*\u001B[0m\u001B[34m*\u001B[0m\u001B[34m*\u001B[0m\u001B[34m*\u001B[0m\u001B[34m*\u001B[0m\u001B[34m*\u001B[0m\u001B[34m*\u001B[0m\u001B[34m*\u001B[0m\u001B[34m*\u001B[0m\u001B[34m*\u001B[0m\u001B[34m*\u001B[0m\u001B[34m*\u001B[0m\u001B[34m*\u001B[0m\u001B[34m*\u001B[0m\u001B[34m*\u001B[0m\u001B[34m*\u001B[0m\u001B[34m*\u001B[0m\u001B[34m*\u001B[0m\u001B[34m*\u001B[0m\u001B[34m*\u001B[0m\u001B[34m*\u001B[0m\u001B[34m*\u001B[0m\u001B[34m*\u001B[0m\u001B[34m*\u001B[0m\u001B[34m*\u001B[0m\u001B[34m*\u001B[0m\u001B[34m*\u001B[0m\u001B[34m*\u001B[0m\u001B[34m*\u001B[0m\u001B[34m*\u001B[0m\u001B[34m*\u001B[0m\u001B[34m*\u001B[0m\u001B[34m*\u001B[0m\u001B[34m*\u001B[0m\u001B[34m*\u001B[0m\u001B[34m*\u001B[0m\u001B[34m*\u001B[0m\u001B[34m*\u001B[0m\u001B[34m*\u001B[0m\u001B[34m*\u001B[0m\u001B[34m*\u001B[0m\u001B[34m*\u001B[0m\u001B[34m*\u001B[0m\u001B[34m*\u001B[0m\u001B[34m*\u001B[0m\u001B[34m*\u001B[0m\u001B[34m*\u001B[0m\u001B[34m*\u001B[0m\u001B[34m*\u001B[0m\u001B[34m*\u001B[0m\u001B[34m*\u001B[0m\u001B[34m*\u001B[0m\u001B[34m*\u001B[0m\u001B[34m*\u001B[0m\u001B[34m*\u001B[0m\u001B[34m*\u001B[0m\u001B[34m*\u001B[0m\u001B[34m*\u001B[0m\u001B[34m*\u001B[0m\u001B[34m*\u001B[0m\u001B[34m*\u001B[0m\u001B[34m*\u001B[0m\n",
      "\u001B[32m** Rozwiązanie ********************************************************************************\u001B[0m\n"
     ]
    },
    {
     "data": {
      "text/plain": [
       "<IPython.core.display.Latex object>"
      ],
      "text/latex": "$$\\det\\left(\\lambda \\mathbb{I} - A \\right) = \\lambda^{2} - 2$$"
     },
     "metadata": {},
     "output_type": "display_data"
    },
    {
     "data": {
      "text/plain": [
       "<IPython.core.display.Markdown object>"
      ],
      "text/markdown": "Wartości własne"
     },
     "metadata": {},
     "output_type": "display_data"
    },
    {
     "data": {
      "text/plain": [
       "<IPython.core.display.Latex object>"
      ],
      "text/latex": "$$ \\left\\{ - \\sqrt{2} : 1, \\  \\sqrt{2} : 1\\right\\}, $$"
     },
     "metadata": {},
     "output_type": "display_data"
    },
    {
     "data": {
      "text/plain": [
       "<IPython.core.display.Markdown object>"
      ],
      "text/markdown": "Wektory własne"
     },
     "metadata": {},
     "output_type": "display_data"
    },
    {
     "data": {
      "text/plain": [
       "<IPython.core.display.Latex object>"
      ],
      "text/latex": "$$\\left[ \\left( - \\sqrt{2}, \\  1, \\  \\left[ \\left[\\begin{matrix}\\sqrt{2} + 2\\\\1\\end{matrix}\\right]\\right]\\right), \\  \\left( \\sqrt{2}, \\  1, \\  \\left[ \\left[\\begin{matrix}2 - \\sqrt{2}\\\\1\\end{matrix}\\right]\\right]\\right)\\right]$$"
     },
     "metadata": {},
     "output_type": "display_data"
    },
    {
     "name": "stdout",
     "output_type": "stream",
     "text": [
      "\u001B[32m*\u001B[0m\u001B[32m*\u001B[0m\u001B[32m*\u001B[0m\u001B[32m*\u001B[0m\u001B[32m*\u001B[0m\u001B[32m*\u001B[0m\u001B[32m*\u001B[0m\u001B[32m*\u001B[0m\u001B[32m*\u001B[0m\u001B[32m*\u001B[0m\u001B[32m*\u001B[0m\u001B[32m*\u001B[0m\u001B[32m*\u001B[0m\u001B[32m*\u001B[0m\u001B[32m*\u001B[0m\u001B[32m*\u001B[0m\u001B[32m*\u001B[0m\u001B[32m*\u001B[0m\u001B[32m*\u001B[0m\u001B[32m*\u001B[0m\u001B[32m*\u001B[0m\u001B[32m*\u001B[0m\u001B[32m*\u001B[0m\u001B[32m*\u001B[0m\u001B[32m*\u001B[0m\u001B[32m*\u001B[0m\u001B[32m*\u001B[0m\u001B[32m*\u001B[0m\u001B[32m*\u001B[0m\u001B[32m*\u001B[0m\u001B[32m*\u001B[0m\u001B[32m*\u001B[0m\u001B[32m*\u001B[0m\u001B[32m*\u001B[0m\u001B[32m*\u001B[0m\u001B[32m*\u001B[0m\u001B[32m*\u001B[0m\u001B[32m*\u001B[0m\u001B[32m*\u001B[0m\u001B[32m*\u001B[0m\u001B[32m*\u001B[0m\u001B[32m*\u001B[0m\u001B[32m*\u001B[0m\u001B[32m*\u001B[0m\u001B[32m*\u001B[0m\u001B[32m*\u001B[0m\u001B[32m*\u001B[0m\u001B[32m*\u001B[0m\u001B[32m*\u001B[0m\u001B[32m*\u001B[0m\u001B[32m*\u001B[0m\u001B[32m*\u001B[0m\u001B[32m*\u001B[0m\u001B[32m*\u001B[0m\u001B[32m*\u001B[0m\u001B[32m*\u001B[0m\u001B[32m*\u001B[0m\u001B[32m*\u001B[0m\u001B[32m*\u001B[0m\u001B[32m*\u001B[0m\u001B[32m*\u001B[0m\u001B[32m*\u001B[0m\u001B[32m*\u001B[0m\u001B[32m*\u001B[0m\u001B[32m*\u001B[0m\u001B[32m*\u001B[0m\u001B[32m*\u001B[0m\u001B[32m*\u001B[0m\u001B[32m*\u001B[0m\u001B[32m*\u001B[0m\u001B[32m*\u001B[0m\u001B[32m*\u001B[0m\u001B[32m*\u001B[0m\u001B[32m*\u001B[0m\u001B[32m*\u001B[0m\u001B[32m*\u001B[0m\u001B[32m*\u001B[0m\u001B[32m*\u001B[0m\u001B[32m*\u001B[0m\u001B[32m*\u001B[0m\u001B[32m*\u001B[0m\u001B[32m*\u001B[0m\u001B[32m*\u001B[0m\u001B[32m*\u001B[0m\u001B[32m*\u001B[0m\u001B[32m*\u001B[0m\u001B[32m*\u001B[0m\u001B[32m*\u001B[0m\u001B[32m*\u001B[0m\u001B[32m*\u001B[0m\u001B[32m*\u001B[0m\u001B[32m*\u001B[0m\u001B[32m*\u001B[0m\u001B[32m*\u001B[0m\u001B[32m*\u001B[0m\n",
      "\u001B[34m** Zadanie 9 **********************************************************************************\u001B[0m\n"
     ]
    },
    {
     "data": {
      "text/plain": [
       "<IPython.core.display.Markdown object>"
      ],
      "text/markdown": "Wyznaczyć wartości własne i wektory własne macierzy"
     },
     "metadata": {},
     "output_type": "display_data"
    },
    {
     "data": {
      "text/plain": [
       "<IPython.core.display.Latex object>"
      ],
      "text/latex": " \n\t\\[\n\t\t\\textnormal{A=} \\left[\\begin{matrix}2 & -1 & 0\\\\1 & 2 & 0\\\\-1 & 1 & 3\\end{matrix}\\right]\n\t\\]"
     },
     "metadata": {},
     "output_type": "display_data"
    },
    {
     "name": "stdout",
     "output_type": "stream",
     "text": [
      "\u001B[34m*\u001B[0m\u001B[34m*\u001B[0m\u001B[34m*\u001B[0m\u001B[34m*\u001B[0m\u001B[34m*\u001B[0m\u001B[34m*\u001B[0m\u001B[34m*\u001B[0m\u001B[34m*\u001B[0m\u001B[34m*\u001B[0m\u001B[34m*\u001B[0m\u001B[34m*\u001B[0m\u001B[34m*\u001B[0m\u001B[34m*\u001B[0m\u001B[34m*\u001B[0m\u001B[34m*\u001B[0m\u001B[34m*\u001B[0m\u001B[34m*\u001B[0m\u001B[34m*\u001B[0m\u001B[34m*\u001B[0m\u001B[34m*\u001B[0m\u001B[34m*\u001B[0m\u001B[34m*\u001B[0m\u001B[34m*\u001B[0m\u001B[34m*\u001B[0m\u001B[34m*\u001B[0m\u001B[34m*\u001B[0m\u001B[34m*\u001B[0m\u001B[34m*\u001B[0m\u001B[34m*\u001B[0m\u001B[34m*\u001B[0m\u001B[34m*\u001B[0m\u001B[34m*\u001B[0m\u001B[34m*\u001B[0m\u001B[34m*\u001B[0m\u001B[34m*\u001B[0m\u001B[34m*\u001B[0m\u001B[34m*\u001B[0m\u001B[34m*\u001B[0m\u001B[34m*\u001B[0m\u001B[34m*\u001B[0m\u001B[34m*\u001B[0m\u001B[34m*\u001B[0m\u001B[34m*\u001B[0m\u001B[34m*\u001B[0m\u001B[34m*\u001B[0m\u001B[34m*\u001B[0m\u001B[34m*\u001B[0m\u001B[34m*\u001B[0m\u001B[34m*\u001B[0m\u001B[34m*\u001B[0m\u001B[34m*\u001B[0m\u001B[34m*\u001B[0m\u001B[34m*\u001B[0m\u001B[34m*\u001B[0m\u001B[34m*\u001B[0m\u001B[34m*\u001B[0m\u001B[34m*\u001B[0m\u001B[34m*\u001B[0m\u001B[34m*\u001B[0m\u001B[34m*\u001B[0m\u001B[34m*\u001B[0m\u001B[34m*\u001B[0m\u001B[34m*\u001B[0m\u001B[34m*\u001B[0m\u001B[34m*\u001B[0m\u001B[34m*\u001B[0m\u001B[34m*\u001B[0m\u001B[34m*\u001B[0m\u001B[34m*\u001B[0m\u001B[34m*\u001B[0m\u001B[34m*\u001B[0m\u001B[34m*\u001B[0m\u001B[34m*\u001B[0m\u001B[34m*\u001B[0m\u001B[34m*\u001B[0m\u001B[34m*\u001B[0m\u001B[34m*\u001B[0m\u001B[34m*\u001B[0m\u001B[34m*\u001B[0m\u001B[34m*\u001B[0m\u001B[34m*\u001B[0m\u001B[34m*\u001B[0m\u001B[34m*\u001B[0m\u001B[34m*\u001B[0m\u001B[34m*\u001B[0m\u001B[34m*\u001B[0m\u001B[34m*\u001B[0m\u001B[34m*\u001B[0m\u001B[34m*\u001B[0m\u001B[34m*\u001B[0m\u001B[34m*\u001B[0m\u001B[34m*\u001B[0m\u001B[34m*\u001B[0m\u001B[34m*\u001B[0m\u001B[34m*\u001B[0m\n",
      "\u001B[32m** Rozwiązanie ********************************************************************************\u001B[0m\n"
     ]
    },
    {
     "data": {
      "text/plain": [
       "<IPython.core.display.Latex object>"
      ],
      "text/latex": "$$\\det\\left(\\lambda \\mathbb{I} - A \\right) = \\lambda^{3} - 7 \\lambda^{2} + 17 \\lambda - 15$$"
     },
     "metadata": {},
     "output_type": "display_data"
    },
    {
     "data": {
      "text/plain": [
       "<IPython.core.display.Markdown object>"
      ],
      "text/markdown": "Wartości własne"
     },
     "metadata": {},
     "output_type": "display_data"
    },
    {
     "data": {
      "text/plain": [
       "<IPython.core.display.Latex object>"
      ],
      "text/latex": "$$ \\left\\{ 3 : 1, \\  2 - i : 1, \\  2 + i : 1\\right\\}, $$"
     },
     "metadata": {},
     "output_type": "display_data"
    },
    {
     "data": {
      "text/plain": [
       "<IPython.core.display.Markdown object>"
      ],
      "text/markdown": "Wektory własne"
     },
     "metadata": {},
     "output_type": "display_data"
    },
    {
     "data": {
      "text/plain": [
       "<IPython.core.display.Latex object>"
      ],
      "text/latex": "$$\\left[ \\left( 3, \\  1, \\  \\left[ \\left[\\begin{matrix}0\\\\0\\\\1\\end{matrix}\\right]\\right]\\right), \\  \\left( 2 - i, \\  1, \\  \\left[ \\left[\\begin{matrix}i\\\\-1\\\\1\\end{matrix}\\right]\\right]\\right), \\  \\left( 2 + i, \\  1, \\  \\left[ \\left[\\begin{matrix}- i\\\\-1\\\\1\\end{matrix}\\right]\\right]\\right)\\right]$$"
     },
     "metadata": {},
     "output_type": "display_data"
    },
    {
     "name": "stdout",
     "output_type": "stream",
     "text": [
      "\u001B[32m*\u001B[0m\u001B[32m*\u001B[0m\u001B[32m*\u001B[0m\u001B[32m*\u001B[0m\u001B[32m*\u001B[0m\u001B[32m*\u001B[0m\u001B[32m*\u001B[0m\u001B[32m*\u001B[0m\u001B[32m*\u001B[0m\u001B[32m*\u001B[0m\u001B[32m*\u001B[0m\u001B[32m*\u001B[0m\u001B[32m*\u001B[0m\u001B[32m*\u001B[0m\u001B[32m*\u001B[0m\u001B[32m*\u001B[0m\u001B[32m*\u001B[0m\u001B[32m*\u001B[0m\u001B[32m*\u001B[0m\u001B[32m*\u001B[0m\u001B[32m*\u001B[0m\u001B[32m*\u001B[0m\u001B[32m*\u001B[0m\u001B[32m*\u001B[0m\u001B[32m*\u001B[0m\u001B[32m*\u001B[0m\u001B[32m*\u001B[0m\u001B[32m*\u001B[0m\u001B[32m*\u001B[0m\u001B[32m*\u001B[0m\u001B[32m*\u001B[0m\u001B[32m*\u001B[0m\u001B[32m*\u001B[0m\u001B[32m*\u001B[0m\u001B[32m*\u001B[0m\u001B[32m*\u001B[0m\u001B[32m*\u001B[0m\u001B[32m*\u001B[0m\u001B[32m*\u001B[0m\u001B[32m*\u001B[0m\u001B[32m*\u001B[0m\u001B[32m*\u001B[0m\u001B[32m*\u001B[0m\u001B[32m*\u001B[0m\u001B[32m*\u001B[0m\u001B[32m*\u001B[0m\u001B[32m*\u001B[0m\u001B[32m*\u001B[0m\u001B[32m*\u001B[0m\u001B[32m*\u001B[0m\u001B[32m*\u001B[0m\u001B[32m*\u001B[0m\u001B[32m*\u001B[0m\u001B[32m*\u001B[0m\u001B[32m*\u001B[0m\u001B[32m*\u001B[0m\u001B[32m*\u001B[0m\u001B[32m*\u001B[0m\u001B[32m*\u001B[0m\u001B[32m*\u001B[0m\u001B[32m*\u001B[0m\u001B[32m*\u001B[0m\u001B[32m*\u001B[0m\u001B[32m*\u001B[0m\u001B[32m*\u001B[0m\u001B[32m*\u001B[0m\u001B[32m*\u001B[0m\u001B[32m*\u001B[0m\u001B[32m*\u001B[0m\u001B[32m*\u001B[0m\u001B[32m*\u001B[0m\u001B[32m*\u001B[0m\u001B[32m*\u001B[0m\u001B[32m*\u001B[0m\u001B[32m*\u001B[0m\u001B[32m*\u001B[0m\u001B[32m*\u001B[0m\u001B[32m*\u001B[0m\u001B[32m*\u001B[0m\u001B[32m*\u001B[0m\u001B[32m*\u001B[0m\u001B[32m*\u001B[0m\u001B[32m*\u001B[0m\u001B[32m*\u001B[0m\u001B[32m*\u001B[0m\u001B[32m*\u001B[0m\u001B[32m*\u001B[0m\u001B[32m*\u001B[0m\u001B[32m*\u001B[0m\u001B[32m*\u001B[0m\u001B[32m*\u001B[0m\u001B[32m*\u001B[0m\u001B[32m*\u001B[0m\u001B[32m*\u001B[0m\u001B[32m*\u001B[0m\n",
      "\u001B[34m** Zadanie 10 **********************************************************************************\u001B[0m\n"
     ]
    },
    {
     "data": {
      "text/plain": [
       "<IPython.core.display.Markdown object>"
      ],
      "text/markdown": "Wyznaczyć wartości własne i wektory własne macierzy"
     },
     "metadata": {},
     "output_type": "display_data"
    },
    {
     "data": {
      "text/plain": [
       "<IPython.core.display.Latex object>"
      ],
      "text/latex": " \n\t\\[\n\t\t\\textnormal{A=} \\left[\\begin{matrix}1 & 1\\\\1 & -2\\end{matrix}\\right]\n\t\\]"
     },
     "metadata": {},
     "output_type": "display_data"
    },
    {
     "name": "stdout",
     "output_type": "stream",
     "text": [
      "\u001B[34m*\u001B[0m\u001B[34m*\u001B[0m\u001B[34m*\u001B[0m\u001B[34m*\u001B[0m\u001B[34m*\u001B[0m\u001B[34m*\u001B[0m\u001B[34m*\u001B[0m\u001B[34m*\u001B[0m\u001B[34m*\u001B[0m\u001B[34m*\u001B[0m\u001B[34m*\u001B[0m\u001B[34m*\u001B[0m\u001B[34m*\u001B[0m\u001B[34m*\u001B[0m\u001B[34m*\u001B[0m\u001B[34m*\u001B[0m\u001B[34m*\u001B[0m\u001B[34m*\u001B[0m\u001B[34m*\u001B[0m\u001B[34m*\u001B[0m\u001B[34m*\u001B[0m\u001B[34m*\u001B[0m\u001B[34m*\u001B[0m\u001B[34m*\u001B[0m\u001B[34m*\u001B[0m\u001B[34m*\u001B[0m\u001B[34m*\u001B[0m\u001B[34m*\u001B[0m\u001B[34m*\u001B[0m\u001B[34m*\u001B[0m\u001B[34m*\u001B[0m\u001B[34m*\u001B[0m\u001B[34m*\u001B[0m\u001B[34m*\u001B[0m\u001B[34m*\u001B[0m\u001B[34m*\u001B[0m\u001B[34m*\u001B[0m\u001B[34m*\u001B[0m\u001B[34m*\u001B[0m\u001B[34m*\u001B[0m\u001B[34m*\u001B[0m\u001B[34m*\u001B[0m\u001B[34m*\u001B[0m\u001B[34m*\u001B[0m\u001B[34m*\u001B[0m\u001B[34m*\u001B[0m\u001B[34m*\u001B[0m\u001B[34m*\u001B[0m\u001B[34m*\u001B[0m\u001B[34m*\u001B[0m\u001B[34m*\u001B[0m\u001B[34m*\u001B[0m\u001B[34m*\u001B[0m\u001B[34m*\u001B[0m\u001B[34m*\u001B[0m\u001B[34m*\u001B[0m\u001B[34m*\u001B[0m\u001B[34m*\u001B[0m\u001B[34m*\u001B[0m\u001B[34m*\u001B[0m\u001B[34m*\u001B[0m\u001B[34m*\u001B[0m\u001B[34m*\u001B[0m\u001B[34m*\u001B[0m\u001B[34m*\u001B[0m\u001B[34m*\u001B[0m\u001B[34m*\u001B[0m\u001B[34m*\u001B[0m\u001B[34m*\u001B[0m\u001B[34m*\u001B[0m\u001B[34m*\u001B[0m\u001B[34m*\u001B[0m\u001B[34m*\u001B[0m\u001B[34m*\u001B[0m\u001B[34m*\u001B[0m\u001B[34m*\u001B[0m\u001B[34m*\u001B[0m\u001B[34m*\u001B[0m\u001B[34m*\u001B[0m\u001B[34m*\u001B[0m\u001B[34m*\u001B[0m\u001B[34m*\u001B[0m\u001B[34m*\u001B[0m\u001B[34m*\u001B[0m\u001B[34m*\u001B[0m\u001B[34m*\u001B[0m\u001B[34m*\u001B[0m\u001B[34m*\u001B[0m\u001B[34m*\u001B[0m\u001B[34m*\u001B[0m\u001B[34m*\u001B[0m\u001B[34m*\u001B[0m\u001B[34m*\u001B[0m\u001B[34m*\u001B[0m\u001B[34m*\u001B[0m\n",
      "\u001B[32m** Rozwiązanie ********************************************************************************\u001B[0m\n"
     ]
    },
    {
     "data": {
      "text/plain": [
       "<IPython.core.display.Latex object>"
      ],
      "text/latex": "$$\\det\\left(\\lambda \\mathbb{I} - A \\right) = \\lambda^{2} + \\lambda - 3$$"
     },
     "metadata": {},
     "output_type": "display_data"
    },
    {
     "data": {
      "text/plain": [
       "<IPython.core.display.Markdown object>"
      ],
      "text/markdown": "Wartości własne"
     },
     "metadata": {},
     "output_type": "display_data"
    },
    {
     "data": {
      "text/plain": [
       "<IPython.core.display.Latex object>"
      ],
      "text/latex": "$$ \\left\\{ - \\frac{1}{2} + \\frac{\\sqrt{13}}{2} : 1, \\  - \\frac{\\sqrt{13}}{2} - \\frac{1}{2} : 1\\right\\}, $$"
     },
     "metadata": {},
     "output_type": "display_data"
    },
    {
     "data": {
      "text/plain": [
       "<IPython.core.display.Markdown object>"
      ],
      "text/markdown": "Wektory własne"
     },
     "metadata": {},
     "output_type": "display_data"
    },
    {
     "data": {
      "text/plain": [
       "<IPython.core.display.Latex object>"
      ],
      "text/latex": "$$\\left[ \\left( - \\frac{1}{2} + \\frac{\\sqrt{13}}{2}, \\  1, \\  \\left[ \\left[\\begin{matrix}\\frac{3}{2} + \\frac{\\sqrt{13}}{2}\\\\1\\end{matrix}\\right]\\right]\\right), \\  \\left( - \\frac{\\sqrt{13}}{2} - \\frac{1}{2}, \\  1, \\  \\left[ \\left[\\begin{matrix}\\frac{3}{2} - \\frac{\\sqrt{13}}{2}\\\\1\\end{matrix}\\right]\\right]\\right)\\right]$$"
     },
     "metadata": {},
     "output_type": "display_data"
    },
    {
     "name": "stdout",
     "output_type": "stream",
     "text": [
      "\u001B[32m*\u001B[0m\u001B[32m*\u001B[0m\u001B[32m*\u001B[0m\u001B[32m*\u001B[0m\u001B[32m*\u001B[0m\u001B[32m*\u001B[0m\u001B[32m*\u001B[0m\u001B[32m*\u001B[0m\u001B[32m*\u001B[0m\u001B[32m*\u001B[0m\u001B[32m*\u001B[0m\u001B[32m*\u001B[0m\u001B[32m*\u001B[0m\u001B[32m*\u001B[0m\u001B[32m*\u001B[0m\u001B[32m*\u001B[0m\u001B[32m*\u001B[0m\u001B[32m*\u001B[0m\u001B[32m*\u001B[0m\u001B[32m*\u001B[0m\u001B[32m*\u001B[0m\u001B[32m*\u001B[0m\u001B[32m*\u001B[0m\u001B[32m*\u001B[0m\u001B[32m*\u001B[0m\u001B[32m*\u001B[0m\u001B[32m*\u001B[0m\u001B[32m*\u001B[0m\u001B[32m*\u001B[0m\u001B[32m*\u001B[0m\u001B[32m*\u001B[0m\u001B[32m*\u001B[0m\u001B[32m*\u001B[0m\u001B[32m*\u001B[0m\u001B[32m*\u001B[0m\u001B[32m*\u001B[0m\u001B[32m*\u001B[0m\u001B[32m*\u001B[0m\u001B[32m*\u001B[0m\u001B[32m*\u001B[0m\u001B[32m*\u001B[0m\u001B[32m*\u001B[0m\u001B[32m*\u001B[0m\u001B[32m*\u001B[0m\u001B[32m*\u001B[0m\u001B[32m*\u001B[0m\u001B[32m*\u001B[0m\u001B[32m*\u001B[0m\u001B[32m*\u001B[0m\u001B[32m*\u001B[0m\u001B[32m*\u001B[0m\u001B[32m*\u001B[0m\u001B[32m*\u001B[0m\u001B[32m*\u001B[0m\u001B[32m*\u001B[0m\u001B[32m*\u001B[0m\u001B[32m*\u001B[0m\u001B[32m*\u001B[0m\u001B[32m*\u001B[0m\u001B[32m*\u001B[0m\u001B[32m*\u001B[0m\u001B[32m*\u001B[0m\u001B[32m*\u001B[0m\u001B[32m*\u001B[0m\u001B[32m*\u001B[0m\u001B[32m*\u001B[0m\u001B[32m*\u001B[0m\u001B[32m*\u001B[0m\u001B[32m*\u001B[0m\u001B[32m*\u001B[0m\u001B[32m*\u001B[0m\u001B[32m*\u001B[0m\u001B[32m*\u001B[0m\u001B[32m*\u001B[0m\u001B[32m*\u001B[0m\u001B[32m*\u001B[0m\u001B[32m*\u001B[0m\u001B[32m*\u001B[0m\u001B[32m*\u001B[0m\u001B[32m*\u001B[0m\u001B[32m*\u001B[0m\u001B[32m*\u001B[0m\u001B[32m*\u001B[0m\u001B[32m*\u001B[0m\u001B[32m*\u001B[0m\u001B[32m*\u001B[0m\u001B[32m*\u001B[0m\u001B[32m*\u001B[0m\u001B[32m*\u001B[0m\u001B[32m*\u001B[0m\u001B[32m*\u001B[0m\u001B[32m*\u001B[0m\u001B[32m*\u001B[0m\u001B[32m*\u001B[0m\u001B[32m*\u001B[0m\n"
     ]
    }
   ],
   "execution_count": 15
  },
  {
   "metadata": {},
   "cell_type": "markdown",
   "source": "## Rząd macierzy",
   "id": "bd69d191467d50e4"
  },
  {
   "metadata": {
    "ExecuteTime": {
     "end_time": "2024-09-12T17:27:49.610726Z",
     "start_time": "2024-09-12T17:27:40.309755Z"
    }
   },
   "cell_type": "code",
   "source": [
    "zadanie = gz.rzad_macierzy()\n",
    "zadanie"
   ],
   "id": "d68f01572912e3e3",
   "outputs": [
    {
     "data": {
      "text/plain": [
       "('Wyznaczyć rząd macierzy A\\n\\t\\\\[\\n\\t\\t\\\\textnormal{A=} \\\\left[\\\\begin{matrix}-2 & 1 & -2 & 1 & 2 & -2\\\\\\\\-2 & -1 & 2 & -1 & -1 & 3\\\\\\\\2 & 2 & -1 & -1 & 1 & -1\\\\\\\\0 & -1 & -1 & 2 & 0 & -2\\\\end{matrix}\\\\right]\\n\\t\\\\]',\n",
       " '$R(A)= 3$')"
      ]
     },
     "execution_count": 16,
     "metadata": {},
     "output_type": "execute_result"
    }
   ],
   "execution_count": 16
  },
  {
   "metadata": {
    "ExecuteTime": {
     "end_time": "2024-09-12T17:27:49.618149Z",
     "start_time": "2024-09-12T17:27:49.611723Z"
    },
    "tags": [
     "hide-input"
    ]
   },
   "cell_type": "code",
   "source": [
    "print(\"\\033[34m** Zadanie **\" + '*' * 81 + '\\033[0m')\n",
    "print(zadanie[0])\n",
    "print(\"\\033[34m*\\033[0m\" * 95)\n",
    "print(\"\\033[32m** Rozwiązanie **\" + '*' * 78 + '\\033[0m')\n",
    "print(zadanie[1])\n",
    "print(\"\\033[32m*\\033[0m\" * 95)"
   ],
   "id": "6fab5fbd6578da12",
   "outputs": [
    {
     "name": "stdout",
     "output_type": "stream",
     "text": [
      "\u001B[34m** Zadanie ***********************************************************************************\u001B[0m\n",
      "Wyznaczyć rząd macierzy A\n",
      "\t\\[\n",
      "\t\t\\textnormal{A=} \\left[\\begin{matrix}-2 & 1 & -2 & 1 & 2 & -2\\\\-2 & -1 & 2 & -1 & -1 & 3\\\\2 & 2 & -1 & -1 & 1 & -1\\\\0 & -1 & -1 & 2 & 0 & -2\\end{matrix}\\right]\n",
      "\t\\]\n",
      "\u001B[34m*\u001B[0m\u001B[34m*\u001B[0m\u001B[34m*\u001B[0m\u001B[34m*\u001B[0m\u001B[34m*\u001B[0m\u001B[34m*\u001B[0m\u001B[34m*\u001B[0m\u001B[34m*\u001B[0m\u001B[34m*\u001B[0m\u001B[34m*\u001B[0m\u001B[34m*\u001B[0m\u001B[34m*\u001B[0m\u001B[34m*\u001B[0m\u001B[34m*\u001B[0m\u001B[34m*\u001B[0m\u001B[34m*\u001B[0m\u001B[34m*\u001B[0m\u001B[34m*\u001B[0m\u001B[34m*\u001B[0m\u001B[34m*\u001B[0m\u001B[34m*\u001B[0m\u001B[34m*\u001B[0m\u001B[34m*\u001B[0m\u001B[34m*\u001B[0m\u001B[34m*\u001B[0m\u001B[34m*\u001B[0m\u001B[34m*\u001B[0m\u001B[34m*\u001B[0m\u001B[34m*\u001B[0m\u001B[34m*\u001B[0m\u001B[34m*\u001B[0m\u001B[34m*\u001B[0m\u001B[34m*\u001B[0m\u001B[34m*\u001B[0m\u001B[34m*\u001B[0m\u001B[34m*\u001B[0m\u001B[34m*\u001B[0m\u001B[34m*\u001B[0m\u001B[34m*\u001B[0m\u001B[34m*\u001B[0m\u001B[34m*\u001B[0m\u001B[34m*\u001B[0m\u001B[34m*\u001B[0m\u001B[34m*\u001B[0m\u001B[34m*\u001B[0m\u001B[34m*\u001B[0m\u001B[34m*\u001B[0m\u001B[34m*\u001B[0m\u001B[34m*\u001B[0m\u001B[34m*\u001B[0m\u001B[34m*\u001B[0m\u001B[34m*\u001B[0m\u001B[34m*\u001B[0m\u001B[34m*\u001B[0m\u001B[34m*\u001B[0m\u001B[34m*\u001B[0m\u001B[34m*\u001B[0m\u001B[34m*\u001B[0m\u001B[34m*\u001B[0m\u001B[34m*\u001B[0m\u001B[34m*\u001B[0m\u001B[34m*\u001B[0m\u001B[34m*\u001B[0m\u001B[34m*\u001B[0m\u001B[34m*\u001B[0m\u001B[34m*\u001B[0m\u001B[34m*\u001B[0m\u001B[34m*\u001B[0m\u001B[34m*\u001B[0m\u001B[34m*\u001B[0m\u001B[34m*\u001B[0m\u001B[34m*\u001B[0m\u001B[34m*\u001B[0m\u001B[34m*\u001B[0m\u001B[34m*\u001B[0m\u001B[34m*\u001B[0m\u001B[34m*\u001B[0m\u001B[34m*\u001B[0m\u001B[34m*\u001B[0m\u001B[34m*\u001B[0m\u001B[34m*\u001B[0m\u001B[34m*\u001B[0m\u001B[34m*\u001B[0m\u001B[34m*\u001B[0m\u001B[34m*\u001B[0m\u001B[34m*\u001B[0m\u001B[34m*\u001B[0m\u001B[34m*\u001B[0m\u001B[34m*\u001B[0m\u001B[34m*\u001B[0m\u001B[34m*\u001B[0m\u001B[34m*\u001B[0m\u001B[34m*\u001B[0m\u001B[34m*\u001B[0m\u001B[34m*\u001B[0m\n",
      "\u001B[32m** Rozwiązanie ********************************************************************************\u001B[0m\n",
      "$R(A)= 3$\n",
      "\u001B[32m*\u001B[0m\u001B[32m*\u001B[0m\u001B[32m*\u001B[0m\u001B[32m*\u001B[0m\u001B[32m*\u001B[0m\u001B[32m*\u001B[0m\u001B[32m*\u001B[0m\u001B[32m*\u001B[0m\u001B[32m*\u001B[0m\u001B[32m*\u001B[0m\u001B[32m*\u001B[0m\u001B[32m*\u001B[0m\u001B[32m*\u001B[0m\u001B[32m*\u001B[0m\u001B[32m*\u001B[0m\u001B[32m*\u001B[0m\u001B[32m*\u001B[0m\u001B[32m*\u001B[0m\u001B[32m*\u001B[0m\u001B[32m*\u001B[0m\u001B[32m*\u001B[0m\u001B[32m*\u001B[0m\u001B[32m*\u001B[0m\u001B[32m*\u001B[0m\u001B[32m*\u001B[0m\u001B[32m*\u001B[0m\u001B[32m*\u001B[0m\u001B[32m*\u001B[0m\u001B[32m*\u001B[0m\u001B[32m*\u001B[0m\u001B[32m*\u001B[0m\u001B[32m*\u001B[0m\u001B[32m*\u001B[0m\u001B[32m*\u001B[0m\u001B[32m*\u001B[0m\u001B[32m*\u001B[0m\u001B[32m*\u001B[0m\u001B[32m*\u001B[0m\u001B[32m*\u001B[0m\u001B[32m*\u001B[0m\u001B[32m*\u001B[0m\u001B[32m*\u001B[0m\u001B[32m*\u001B[0m\u001B[32m*\u001B[0m\u001B[32m*\u001B[0m\u001B[32m*\u001B[0m\u001B[32m*\u001B[0m\u001B[32m*\u001B[0m\u001B[32m*\u001B[0m\u001B[32m*\u001B[0m\u001B[32m*\u001B[0m\u001B[32m*\u001B[0m\u001B[32m*\u001B[0m\u001B[32m*\u001B[0m\u001B[32m*\u001B[0m\u001B[32m*\u001B[0m\u001B[32m*\u001B[0m\u001B[32m*\u001B[0m\u001B[32m*\u001B[0m\u001B[32m*\u001B[0m\u001B[32m*\u001B[0m\u001B[32m*\u001B[0m\u001B[32m*\u001B[0m\u001B[32m*\u001B[0m\u001B[32m*\u001B[0m\u001B[32m*\u001B[0m\u001B[32m*\u001B[0m\u001B[32m*\u001B[0m\u001B[32m*\u001B[0m\u001B[32m*\u001B[0m\u001B[32m*\u001B[0m\u001B[32m*\u001B[0m\u001B[32m*\u001B[0m\u001B[32m*\u001B[0m\u001B[32m*\u001B[0m\u001B[32m*\u001B[0m\u001B[32m*\u001B[0m\u001B[32m*\u001B[0m\u001B[32m*\u001B[0m\u001B[32m*\u001B[0m\u001B[32m*\u001B[0m\u001B[32m*\u001B[0m\u001B[32m*\u001B[0m\u001B[32m*\u001B[0m\u001B[32m*\u001B[0m\u001B[32m*\u001B[0m\u001B[32m*\u001B[0m\u001B[32m*\u001B[0m\u001B[32m*\u001B[0m\u001B[32m*\u001B[0m\u001B[32m*\u001B[0m\u001B[32m*\u001B[0m\u001B[32m*\u001B[0m\u001B[32m*\u001B[0m\u001B[32m*\u001B[0m\n"
     ]
    }
   ],
   "execution_count": 17
  },
  {
   "metadata": {
    "ExecuteTime": {
     "end_time": "2024-09-12T17:28:21.331286Z",
     "start_time": "2024-09-12T17:27:49.642131Z"
    },
    "tags": [
     "hide-input"
    ]
   },
   "cell_type": "code",
   "source": [
    "for i in range(1, ile_zadan_przykladowych + 1):\n",
    "    zadanie = gz.rzad_macierzy()\n",
    "    print(f\"\\033[34m** Zadanie {i} **\" + '*' * 80 + '\\033[0m')\n",
    "    display(Markdown(zadanie[0][:25].replace('A', '*A*')))\n",
    "    display(Latex(zadanie[0][25:]))\n",
    "    print(\"\\033[34m*\\033[0m\" * 95)\n",
    "    print(\"\\033[32m** Rozwiązanie **\" + '*' * 78 + '\\033[0m')\n",
    "    display(Latex(zadanie[1].replace(\"$\", \"$$\")))\n",
    "    print(\"\\033[32m*\\033[0m\" * 95)"
   ],
   "id": "c751551117b0aabe",
   "outputs": [
    {
     "name": "stdout",
     "output_type": "stream",
     "text": [
      "\u001B[34m** Zadanie 1 **********************************************************************************\u001B[0m\n"
     ]
    },
    {
     "data": {
      "text/plain": [
       "<IPython.core.display.Markdown object>"
      ],
      "text/markdown": "Wyznaczyć rząd macierzy *A*"
     },
     "metadata": {},
     "output_type": "display_data"
    },
    {
     "data": {
      "text/plain": [
       "<IPython.core.display.Latex object>"
      ],
      "text/latex": "\n\t\\[\n\t\t\\textnormal{A=} \\left[\\begin{matrix}0 & 0 & 2 & 3 & 1\\\\1 & -1 & 1 & 0 & -1\\\\1 & -1 & 2 & 2 & 0\\\\-1 & -2 & 2 & 3 & 1\\\\0 & -1 & 0 & 0 & 0\\end{matrix}\\right]\n\t\\]"
     },
     "metadata": {},
     "output_type": "display_data"
    },
    {
     "name": "stdout",
     "output_type": "stream",
     "text": [
      "\u001B[34m*\u001B[0m\u001B[34m*\u001B[0m\u001B[34m*\u001B[0m\u001B[34m*\u001B[0m\u001B[34m*\u001B[0m\u001B[34m*\u001B[0m\u001B[34m*\u001B[0m\u001B[34m*\u001B[0m\u001B[34m*\u001B[0m\u001B[34m*\u001B[0m\u001B[34m*\u001B[0m\u001B[34m*\u001B[0m\u001B[34m*\u001B[0m\u001B[34m*\u001B[0m\u001B[34m*\u001B[0m\u001B[34m*\u001B[0m\u001B[34m*\u001B[0m\u001B[34m*\u001B[0m\u001B[34m*\u001B[0m\u001B[34m*\u001B[0m\u001B[34m*\u001B[0m\u001B[34m*\u001B[0m\u001B[34m*\u001B[0m\u001B[34m*\u001B[0m\u001B[34m*\u001B[0m\u001B[34m*\u001B[0m\u001B[34m*\u001B[0m\u001B[34m*\u001B[0m\u001B[34m*\u001B[0m\u001B[34m*\u001B[0m\u001B[34m*\u001B[0m\u001B[34m*\u001B[0m\u001B[34m*\u001B[0m\u001B[34m*\u001B[0m\u001B[34m*\u001B[0m\u001B[34m*\u001B[0m\u001B[34m*\u001B[0m\u001B[34m*\u001B[0m\u001B[34m*\u001B[0m\u001B[34m*\u001B[0m\u001B[34m*\u001B[0m\u001B[34m*\u001B[0m\u001B[34m*\u001B[0m\u001B[34m*\u001B[0m\u001B[34m*\u001B[0m\u001B[34m*\u001B[0m\u001B[34m*\u001B[0m\u001B[34m*\u001B[0m\u001B[34m*\u001B[0m\u001B[34m*\u001B[0m\u001B[34m*\u001B[0m\u001B[34m*\u001B[0m\u001B[34m*\u001B[0m\u001B[34m*\u001B[0m\u001B[34m*\u001B[0m\u001B[34m*\u001B[0m\u001B[34m*\u001B[0m\u001B[34m*\u001B[0m\u001B[34m*\u001B[0m\u001B[34m*\u001B[0m\u001B[34m*\u001B[0m\u001B[34m*\u001B[0m\u001B[34m*\u001B[0m\u001B[34m*\u001B[0m\u001B[34m*\u001B[0m\u001B[34m*\u001B[0m\u001B[34m*\u001B[0m\u001B[34m*\u001B[0m\u001B[34m*\u001B[0m\u001B[34m*\u001B[0m\u001B[34m*\u001B[0m\u001B[34m*\u001B[0m\u001B[34m*\u001B[0m\u001B[34m*\u001B[0m\u001B[34m*\u001B[0m\u001B[34m*\u001B[0m\u001B[34m*\u001B[0m\u001B[34m*\u001B[0m\u001B[34m*\u001B[0m\u001B[34m*\u001B[0m\u001B[34m*\u001B[0m\u001B[34m*\u001B[0m\u001B[34m*\u001B[0m\u001B[34m*\u001B[0m\u001B[34m*\u001B[0m\u001B[34m*\u001B[0m\u001B[34m*\u001B[0m\u001B[34m*\u001B[0m\u001B[34m*\u001B[0m\u001B[34m*\u001B[0m\u001B[34m*\u001B[0m\u001B[34m*\u001B[0m\u001B[34m*\u001B[0m\u001B[34m*\u001B[0m\u001B[34m*\u001B[0m\n",
      "\u001B[32m** Rozwiązanie ********************************************************************************\u001B[0m\n"
     ]
    },
    {
     "data": {
      "text/plain": [
       "<IPython.core.display.Latex object>"
      ],
      "text/latex": "$$R(A)= 4$$"
     },
     "metadata": {},
     "output_type": "display_data"
    },
    {
     "name": "stdout",
     "output_type": "stream",
     "text": [
      "\u001B[32m*\u001B[0m\u001B[32m*\u001B[0m\u001B[32m*\u001B[0m\u001B[32m*\u001B[0m\u001B[32m*\u001B[0m\u001B[32m*\u001B[0m\u001B[32m*\u001B[0m\u001B[32m*\u001B[0m\u001B[32m*\u001B[0m\u001B[32m*\u001B[0m\u001B[32m*\u001B[0m\u001B[32m*\u001B[0m\u001B[32m*\u001B[0m\u001B[32m*\u001B[0m\u001B[32m*\u001B[0m\u001B[32m*\u001B[0m\u001B[32m*\u001B[0m\u001B[32m*\u001B[0m\u001B[32m*\u001B[0m\u001B[32m*\u001B[0m\u001B[32m*\u001B[0m\u001B[32m*\u001B[0m\u001B[32m*\u001B[0m\u001B[32m*\u001B[0m\u001B[32m*\u001B[0m\u001B[32m*\u001B[0m\u001B[32m*\u001B[0m\u001B[32m*\u001B[0m\u001B[32m*\u001B[0m\u001B[32m*\u001B[0m\u001B[32m*\u001B[0m\u001B[32m*\u001B[0m\u001B[32m*\u001B[0m\u001B[32m*\u001B[0m\u001B[32m*\u001B[0m\u001B[32m*\u001B[0m\u001B[32m*\u001B[0m\u001B[32m*\u001B[0m\u001B[32m*\u001B[0m\u001B[32m*\u001B[0m\u001B[32m*\u001B[0m\u001B[32m*\u001B[0m\u001B[32m*\u001B[0m\u001B[32m*\u001B[0m\u001B[32m*\u001B[0m\u001B[32m*\u001B[0m\u001B[32m*\u001B[0m\u001B[32m*\u001B[0m\u001B[32m*\u001B[0m\u001B[32m*\u001B[0m\u001B[32m*\u001B[0m\u001B[32m*\u001B[0m\u001B[32m*\u001B[0m\u001B[32m*\u001B[0m\u001B[32m*\u001B[0m\u001B[32m*\u001B[0m\u001B[32m*\u001B[0m\u001B[32m*\u001B[0m\u001B[32m*\u001B[0m\u001B[32m*\u001B[0m\u001B[32m*\u001B[0m\u001B[32m*\u001B[0m\u001B[32m*\u001B[0m\u001B[32m*\u001B[0m\u001B[32m*\u001B[0m\u001B[32m*\u001B[0m\u001B[32m*\u001B[0m\u001B[32m*\u001B[0m\u001B[32m*\u001B[0m\u001B[32m*\u001B[0m\u001B[32m*\u001B[0m\u001B[32m*\u001B[0m\u001B[32m*\u001B[0m\u001B[32m*\u001B[0m\u001B[32m*\u001B[0m\u001B[32m*\u001B[0m\u001B[32m*\u001B[0m\u001B[32m*\u001B[0m\u001B[32m*\u001B[0m\u001B[32m*\u001B[0m\u001B[32m*\u001B[0m\u001B[32m*\u001B[0m\u001B[32m*\u001B[0m\u001B[32m*\u001B[0m\u001B[32m*\u001B[0m\u001B[32m*\u001B[0m\u001B[32m*\u001B[0m\u001B[32m*\u001B[0m\u001B[32m*\u001B[0m\u001B[32m*\u001B[0m\u001B[32m*\u001B[0m\u001B[32m*\u001B[0m\u001B[32m*\u001B[0m\u001B[32m*\u001B[0m\u001B[32m*\u001B[0m\n",
      "\u001B[34m** Zadanie 2 **********************************************************************************\u001B[0m\n"
     ]
    },
    {
     "data": {
      "text/plain": [
       "<IPython.core.display.Markdown object>"
      ],
      "text/markdown": "Wyznaczyć rząd macierzy *A*"
     },
     "metadata": {},
     "output_type": "display_data"
    },
    {
     "data": {
      "text/plain": [
       "<IPython.core.display.Latex object>"
      ],
      "text/latex": "\n\t\\[\n\t\t\\textnormal{A=} \\left[\\begin{matrix}0 & 0 & -2 & 0 & -2 & 0\\\\1 & 2 & 2 & 3 & -2 & 2\\\\2 & -2 & -1 & -1 & 2 & -2\\\\2 & -2 & 0 & -1 & 3 & -2\\end{matrix}\\right]\n\t\\]"
     },
     "metadata": {},
     "output_type": "display_data"
    },
    {
     "name": "stdout",
     "output_type": "stream",
     "text": [
      "\u001B[34m*\u001B[0m\u001B[34m*\u001B[0m\u001B[34m*\u001B[0m\u001B[34m*\u001B[0m\u001B[34m*\u001B[0m\u001B[34m*\u001B[0m\u001B[34m*\u001B[0m\u001B[34m*\u001B[0m\u001B[34m*\u001B[0m\u001B[34m*\u001B[0m\u001B[34m*\u001B[0m\u001B[34m*\u001B[0m\u001B[34m*\u001B[0m\u001B[34m*\u001B[0m\u001B[34m*\u001B[0m\u001B[34m*\u001B[0m\u001B[34m*\u001B[0m\u001B[34m*\u001B[0m\u001B[34m*\u001B[0m\u001B[34m*\u001B[0m\u001B[34m*\u001B[0m\u001B[34m*\u001B[0m\u001B[34m*\u001B[0m\u001B[34m*\u001B[0m\u001B[34m*\u001B[0m\u001B[34m*\u001B[0m\u001B[34m*\u001B[0m\u001B[34m*\u001B[0m\u001B[34m*\u001B[0m\u001B[34m*\u001B[0m\u001B[34m*\u001B[0m\u001B[34m*\u001B[0m\u001B[34m*\u001B[0m\u001B[34m*\u001B[0m\u001B[34m*\u001B[0m\u001B[34m*\u001B[0m\u001B[34m*\u001B[0m\u001B[34m*\u001B[0m\u001B[34m*\u001B[0m\u001B[34m*\u001B[0m\u001B[34m*\u001B[0m\u001B[34m*\u001B[0m\u001B[34m*\u001B[0m\u001B[34m*\u001B[0m\u001B[34m*\u001B[0m\u001B[34m*\u001B[0m\u001B[34m*\u001B[0m\u001B[34m*\u001B[0m\u001B[34m*\u001B[0m\u001B[34m*\u001B[0m\u001B[34m*\u001B[0m\u001B[34m*\u001B[0m\u001B[34m*\u001B[0m\u001B[34m*\u001B[0m\u001B[34m*\u001B[0m\u001B[34m*\u001B[0m\u001B[34m*\u001B[0m\u001B[34m*\u001B[0m\u001B[34m*\u001B[0m\u001B[34m*\u001B[0m\u001B[34m*\u001B[0m\u001B[34m*\u001B[0m\u001B[34m*\u001B[0m\u001B[34m*\u001B[0m\u001B[34m*\u001B[0m\u001B[34m*\u001B[0m\u001B[34m*\u001B[0m\u001B[34m*\u001B[0m\u001B[34m*\u001B[0m\u001B[34m*\u001B[0m\u001B[34m*\u001B[0m\u001B[34m*\u001B[0m\u001B[34m*\u001B[0m\u001B[34m*\u001B[0m\u001B[34m*\u001B[0m\u001B[34m*\u001B[0m\u001B[34m*\u001B[0m\u001B[34m*\u001B[0m\u001B[34m*\u001B[0m\u001B[34m*\u001B[0m\u001B[34m*\u001B[0m\u001B[34m*\u001B[0m\u001B[34m*\u001B[0m\u001B[34m*\u001B[0m\u001B[34m*\u001B[0m\u001B[34m*\u001B[0m\u001B[34m*\u001B[0m\u001B[34m*\u001B[0m\u001B[34m*\u001B[0m\u001B[34m*\u001B[0m\u001B[34m*\u001B[0m\u001B[34m*\u001B[0m\u001B[34m*\u001B[0m\u001B[34m*\u001B[0m\u001B[34m*\u001B[0m\n",
      "\u001B[32m** Rozwiązanie ********************************************************************************\u001B[0m\n"
     ]
    },
    {
     "data": {
      "text/plain": [
       "<IPython.core.display.Latex object>"
      ],
      "text/latex": "$$R(A)= 3$$"
     },
     "metadata": {},
     "output_type": "display_data"
    },
    {
     "name": "stdout",
     "output_type": "stream",
     "text": [
      "\u001B[32m*\u001B[0m\u001B[32m*\u001B[0m\u001B[32m*\u001B[0m\u001B[32m*\u001B[0m\u001B[32m*\u001B[0m\u001B[32m*\u001B[0m\u001B[32m*\u001B[0m\u001B[32m*\u001B[0m\u001B[32m*\u001B[0m\u001B[32m*\u001B[0m\u001B[32m*\u001B[0m\u001B[32m*\u001B[0m\u001B[32m*\u001B[0m\u001B[32m*\u001B[0m\u001B[32m*\u001B[0m\u001B[32m*\u001B[0m\u001B[32m*\u001B[0m\u001B[32m*\u001B[0m\u001B[32m*\u001B[0m\u001B[32m*\u001B[0m\u001B[32m*\u001B[0m\u001B[32m*\u001B[0m\u001B[32m*\u001B[0m\u001B[32m*\u001B[0m\u001B[32m*\u001B[0m\u001B[32m*\u001B[0m\u001B[32m*\u001B[0m\u001B[32m*\u001B[0m\u001B[32m*\u001B[0m\u001B[32m*\u001B[0m\u001B[32m*\u001B[0m\u001B[32m*\u001B[0m\u001B[32m*\u001B[0m\u001B[32m*\u001B[0m\u001B[32m*\u001B[0m\u001B[32m*\u001B[0m\u001B[32m*\u001B[0m\u001B[32m*\u001B[0m\u001B[32m*\u001B[0m\u001B[32m*\u001B[0m\u001B[32m*\u001B[0m\u001B[32m*\u001B[0m\u001B[32m*\u001B[0m\u001B[32m*\u001B[0m\u001B[32m*\u001B[0m\u001B[32m*\u001B[0m\u001B[32m*\u001B[0m\u001B[32m*\u001B[0m\u001B[32m*\u001B[0m\u001B[32m*\u001B[0m\u001B[32m*\u001B[0m\u001B[32m*\u001B[0m\u001B[32m*\u001B[0m\u001B[32m*\u001B[0m\u001B[32m*\u001B[0m\u001B[32m*\u001B[0m\u001B[32m*\u001B[0m\u001B[32m*\u001B[0m\u001B[32m*\u001B[0m\u001B[32m*\u001B[0m\u001B[32m*\u001B[0m\u001B[32m*\u001B[0m\u001B[32m*\u001B[0m\u001B[32m*\u001B[0m\u001B[32m*\u001B[0m\u001B[32m*\u001B[0m\u001B[32m*\u001B[0m\u001B[32m*\u001B[0m\u001B[32m*\u001B[0m\u001B[32m*\u001B[0m\u001B[32m*\u001B[0m\u001B[32m*\u001B[0m\u001B[32m*\u001B[0m\u001B[32m*\u001B[0m\u001B[32m*\u001B[0m\u001B[32m*\u001B[0m\u001B[32m*\u001B[0m\u001B[32m*\u001B[0m\u001B[32m*\u001B[0m\u001B[32m*\u001B[0m\u001B[32m*\u001B[0m\u001B[32m*\u001B[0m\u001B[32m*\u001B[0m\u001B[32m*\u001B[0m\u001B[32m*\u001B[0m\u001B[32m*\u001B[0m\u001B[32m*\u001B[0m\u001B[32m*\u001B[0m\u001B[32m*\u001B[0m\u001B[32m*\u001B[0m\u001B[32m*\u001B[0m\u001B[32m*\u001B[0m\u001B[32m*\u001B[0m\u001B[32m*\u001B[0m\u001B[32m*\u001B[0m\n",
      "\u001B[34m** Zadanie 3 **********************************************************************************\u001B[0m\n"
     ]
    },
    {
     "data": {
      "text/plain": [
       "<IPython.core.display.Markdown object>"
      ],
      "text/markdown": "Wyznaczyć rząd macierzy *A*"
     },
     "metadata": {},
     "output_type": "display_data"
    },
    {
     "data": {
      "text/plain": [
       "<IPython.core.display.Latex object>"
      ],
      "text/latex": "\n\t\\[\n\t\t\\textnormal{A=} \\left[\\begin{matrix}3 & 1 & -1 & -1\\\\2 & 3 & 0 & 0\\\\2 & 2 & 2 & -1\\\\-1 & 1 & 0 & 0\\\\2 & 1 & -2 & 2\\\\1 & 2 & -1 & 0\\end{matrix}\\right]\n\t\\]"
     },
     "metadata": {},
     "output_type": "display_data"
    },
    {
     "name": "stdout",
     "output_type": "stream",
     "text": [
      "\u001B[34m*\u001B[0m\u001B[34m*\u001B[0m\u001B[34m*\u001B[0m\u001B[34m*\u001B[0m\u001B[34m*\u001B[0m\u001B[34m*\u001B[0m\u001B[34m*\u001B[0m\u001B[34m*\u001B[0m\u001B[34m*\u001B[0m\u001B[34m*\u001B[0m\u001B[34m*\u001B[0m\u001B[34m*\u001B[0m\u001B[34m*\u001B[0m\u001B[34m*\u001B[0m\u001B[34m*\u001B[0m\u001B[34m*\u001B[0m\u001B[34m*\u001B[0m\u001B[34m*\u001B[0m\u001B[34m*\u001B[0m\u001B[34m*\u001B[0m\u001B[34m*\u001B[0m\u001B[34m*\u001B[0m\u001B[34m*\u001B[0m\u001B[34m*\u001B[0m\u001B[34m*\u001B[0m\u001B[34m*\u001B[0m\u001B[34m*\u001B[0m\u001B[34m*\u001B[0m\u001B[34m*\u001B[0m\u001B[34m*\u001B[0m\u001B[34m*\u001B[0m\u001B[34m*\u001B[0m\u001B[34m*\u001B[0m\u001B[34m*\u001B[0m\u001B[34m*\u001B[0m\u001B[34m*\u001B[0m\u001B[34m*\u001B[0m\u001B[34m*\u001B[0m\u001B[34m*\u001B[0m\u001B[34m*\u001B[0m\u001B[34m*\u001B[0m\u001B[34m*\u001B[0m\u001B[34m*\u001B[0m\u001B[34m*\u001B[0m\u001B[34m*\u001B[0m\u001B[34m*\u001B[0m\u001B[34m*\u001B[0m\u001B[34m*\u001B[0m\u001B[34m*\u001B[0m\u001B[34m*\u001B[0m\u001B[34m*\u001B[0m\u001B[34m*\u001B[0m\u001B[34m*\u001B[0m\u001B[34m*\u001B[0m\u001B[34m*\u001B[0m\u001B[34m*\u001B[0m\u001B[34m*\u001B[0m\u001B[34m*\u001B[0m\u001B[34m*\u001B[0m\u001B[34m*\u001B[0m\u001B[34m*\u001B[0m\u001B[34m*\u001B[0m\u001B[34m*\u001B[0m\u001B[34m*\u001B[0m\u001B[34m*\u001B[0m\u001B[34m*\u001B[0m\u001B[34m*\u001B[0m\u001B[34m*\u001B[0m\u001B[34m*\u001B[0m\u001B[34m*\u001B[0m\u001B[34m*\u001B[0m\u001B[34m*\u001B[0m\u001B[34m*\u001B[0m\u001B[34m*\u001B[0m\u001B[34m*\u001B[0m\u001B[34m*\u001B[0m\u001B[34m*\u001B[0m\u001B[34m*\u001B[0m\u001B[34m*\u001B[0m\u001B[34m*\u001B[0m\u001B[34m*\u001B[0m\u001B[34m*\u001B[0m\u001B[34m*\u001B[0m\u001B[34m*\u001B[0m\u001B[34m*\u001B[0m\u001B[34m*\u001B[0m\u001B[34m*\u001B[0m\u001B[34m*\u001B[0m\u001B[34m*\u001B[0m\u001B[34m*\u001B[0m\u001B[34m*\u001B[0m\u001B[34m*\u001B[0m\u001B[34m*\u001B[0m\u001B[34m*\u001B[0m\u001B[34m*\u001B[0m\n",
      "\u001B[32m** Rozwiązanie ********************************************************************************\u001B[0m\n"
     ]
    },
    {
     "data": {
      "text/plain": [
       "<IPython.core.display.Latex object>"
      ],
      "text/latex": "$$R(A)= 4$$"
     },
     "metadata": {},
     "output_type": "display_data"
    },
    {
     "name": "stdout",
     "output_type": "stream",
     "text": [
      "\u001B[32m*\u001B[0m\u001B[32m*\u001B[0m\u001B[32m*\u001B[0m\u001B[32m*\u001B[0m\u001B[32m*\u001B[0m\u001B[32m*\u001B[0m\u001B[32m*\u001B[0m\u001B[32m*\u001B[0m\u001B[32m*\u001B[0m\u001B[32m*\u001B[0m\u001B[32m*\u001B[0m\u001B[32m*\u001B[0m\u001B[32m*\u001B[0m\u001B[32m*\u001B[0m\u001B[32m*\u001B[0m\u001B[32m*\u001B[0m\u001B[32m*\u001B[0m\u001B[32m*\u001B[0m\u001B[32m*\u001B[0m\u001B[32m*\u001B[0m\u001B[32m*\u001B[0m\u001B[32m*\u001B[0m\u001B[32m*\u001B[0m\u001B[32m*\u001B[0m\u001B[32m*\u001B[0m\u001B[32m*\u001B[0m\u001B[32m*\u001B[0m\u001B[32m*\u001B[0m\u001B[32m*\u001B[0m\u001B[32m*\u001B[0m\u001B[32m*\u001B[0m\u001B[32m*\u001B[0m\u001B[32m*\u001B[0m\u001B[32m*\u001B[0m\u001B[32m*\u001B[0m\u001B[32m*\u001B[0m\u001B[32m*\u001B[0m\u001B[32m*\u001B[0m\u001B[32m*\u001B[0m\u001B[32m*\u001B[0m\u001B[32m*\u001B[0m\u001B[32m*\u001B[0m\u001B[32m*\u001B[0m\u001B[32m*\u001B[0m\u001B[32m*\u001B[0m\u001B[32m*\u001B[0m\u001B[32m*\u001B[0m\u001B[32m*\u001B[0m\u001B[32m*\u001B[0m\u001B[32m*\u001B[0m\u001B[32m*\u001B[0m\u001B[32m*\u001B[0m\u001B[32m*\u001B[0m\u001B[32m*\u001B[0m\u001B[32m*\u001B[0m\u001B[32m*\u001B[0m\u001B[32m*\u001B[0m\u001B[32m*\u001B[0m\u001B[32m*\u001B[0m\u001B[32m*\u001B[0m\u001B[32m*\u001B[0m\u001B[32m*\u001B[0m\u001B[32m*\u001B[0m\u001B[32m*\u001B[0m\u001B[32m*\u001B[0m\u001B[32m*\u001B[0m\u001B[32m*\u001B[0m\u001B[32m*\u001B[0m\u001B[32m*\u001B[0m\u001B[32m*\u001B[0m\u001B[32m*\u001B[0m\u001B[32m*\u001B[0m\u001B[32m*\u001B[0m\u001B[32m*\u001B[0m\u001B[32m*\u001B[0m\u001B[32m*\u001B[0m\u001B[32m*\u001B[0m\u001B[32m*\u001B[0m\u001B[32m*\u001B[0m\u001B[32m*\u001B[0m\u001B[32m*\u001B[0m\u001B[32m*\u001B[0m\u001B[32m*\u001B[0m\u001B[32m*\u001B[0m\u001B[32m*\u001B[0m\u001B[32m*\u001B[0m\u001B[32m*\u001B[0m\u001B[32m*\u001B[0m\u001B[32m*\u001B[0m\u001B[32m*\u001B[0m\u001B[32m*\u001B[0m\u001B[32m*\u001B[0m\u001B[32m*\u001B[0m\u001B[32m*\u001B[0m\u001B[32m*\u001B[0m\n",
      "\u001B[34m** Zadanie 4 **********************************************************************************\u001B[0m\n"
     ]
    },
    {
     "data": {
      "text/plain": [
       "<IPython.core.display.Markdown object>"
      ],
      "text/markdown": "Wyznaczyć rząd macierzy *A*"
     },
     "metadata": {},
     "output_type": "display_data"
    },
    {
     "data": {
      "text/plain": [
       "<IPython.core.display.Latex object>"
      ],
      "text/latex": "\n\t\\[\n\t\t\\textnormal{A=} \\left[\\begin{matrix}3 & -2 & -2 & -1 & 0 & 1\\\\2 & 2 & 0 & 3 & 3 & -1\\\\0 & 2 & 0 & 3 & 3 & -1\\\\2 & 0 & 0 & 0 & 0 & 0\\end{matrix}\\right]\n\t\\]"
     },
     "metadata": {},
     "output_type": "display_data"
    },
    {
     "name": "stdout",
     "output_type": "stream",
     "text": [
      "\u001B[34m*\u001B[0m\u001B[34m*\u001B[0m\u001B[34m*\u001B[0m\u001B[34m*\u001B[0m\u001B[34m*\u001B[0m\u001B[34m*\u001B[0m\u001B[34m*\u001B[0m\u001B[34m*\u001B[0m\u001B[34m*\u001B[0m\u001B[34m*\u001B[0m\u001B[34m*\u001B[0m\u001B[34m*\u001B[0m\u001B[34m*\u001B[0m\u001B[34m*\u001B[0m\u001B[34m*\u001B[0m\u001B[34m*\u001B[0m\u001B[34m*\u001B[0m\u001B[34m*\u001B[0m\u001B[34m*\u001B[0m\u001B[34m*\u001B[0m\u001B[34m*\u001B[0m\u001B[34m*\u001B[0m\u001B[34m*\u001B[0m\u001B[34m*\u001B[0m\u001B[34m*\u001B[0m\u001B[34m*\u001B[0m\u001B[34m*\u001B[0m\u001B[34m*\u001B[0m\u001B[34m*\u001B[0m\u001B[34m*\u001B[0m\u001B[34m*\u001B[0m\u001B[34m*\u001B[0m\u001B[34m*\u001B[0m\u001B[34m*\u001B[0m\u001B[34m*\u001B[0m\u001B[34m*\u001B[0m\u001B[34m*\u001B[0m\u001B[34m*\u001B[0m\u001B[34m*\u001B[0m\u001B[34m*\u001B[0m\u001B[34m*\u001B[0m\u001B[34m*\u001B[0m\u001B[34m*\u001B[0m\u001B[34m*\u001B[0m\u001B[34m*\u001B[0m\u001B[34m*\u001B[0m\u001B[34m*\u001B[0m\u001B[34m*\u001B[0m\u001B[34m*\u001B[0m\u001B[34m*\u001B[0m\u001B[34m*\u001B[0m\u001B[34m*\u001B[0m\u001B[34m*\u001B[0m\u001B[34m*\u001B[0m\u001B[34m*\u001B[0m\u001B[34m*\u001B[0m\u001B[34m*\u001B[0m\u001B[34m*\u001B[0m\u001B[34m*\u001B[0m\u001B[34m*\u001B[0m\u001B[34m*\u001B[0m\u001B[34m*\u001B[0m\u001B[34m*\u001B[0m\u001B[34m*\u001B[0m\u001B[34m*\u001B[0m\u001B[34m*\u001B[0m\u001B[34m*\u001B[0m\u001B[34m*\u001B[0m\u001B[34m*\u001B[0m\u001B[34m*\u001B[0m\u001B[34m*\u001B[0m\u001B[34m*\u001B[0m\u001B[34m*\u001B[0m\u001B[34m*\u001B[0m\u001B[34m*\u001B[0m\u001B[34m*\u001B[0m\u001B[34m*\u001B[0m\u001B[34m*\u001B[0m\u001B[34m*\u001B[0m\u001B[34m*\u001B[0m\u001B[34m*\u001B[0m\u001B[34m*\u001B[0m\u001B[34m*\u001B[0m\u001B[34m*\u001B[0m\u001B[34m*\u001B[0m\u001B[34m*\u001B[0m\u001B[34m*\u001B[0m\u001B[34m*\u001B[0m\u001B[34m*\u001B[0m\u001B[34m*\u001B[0m\u001B[34m*\u001B[0m\u001B[34m*\u001B[0m\u001B[34m*\u001B[0m\u001B[34m*\u001B[0m\u001B[34m*\u001B[0m\n",
      "\u001B[32m** Rozwiązanie ********************************************************************************\u001B[0m\n"
     ]
    },
    {
     "data": {
      "text/plain": [
       "<IPython.core.display.Latex object>"
      ],
      "text/latex": "$$R(A)= 3$$"
     },
     "metadata": {},
     "output_type": "display_data"
    },
    {
     "name": "stdout",
     "output_type": "stream",
     "text": [
      "\u001B[32m*\u001B[0m\u001B[32m*\u001B[0m\u001B[32m*\u001B[0m\u001B[32m*\u001B[0m\u001B[32m*\u001B[0m\u001B[32m*\u001B[0m\u001B[32m*\u001B[0m\u001B[32m*\u001B[0m\u001B[32m*\u001B[0m\u001B[32m*\u001B[0m\u001B[32m*\u001B[0m\u001B[32m*\u001B[0m\u001B[32m*\u001B[0m\u001B[32m*\u001B[0m\u001B[32m*\u001B[0m\u001B[32m*\u001B[0m\u001B[32m*\u001B[0m\u001B[32m*\u001B[0m\u001B[32m*\u001B[0m\u001B[32m*\u001B[0m\u001B[32m*\u001B[0m\u001B[32m*\u001B[0m\u001B[32m*\u001B[0m\u001B[32m*\u001B[0m\u001B[32m*\u001B[0m\u001B[32m*\u001B[0m\u001B[32m*\u001B[0m\u001B[32m*\u001B[0m\u001B[32m*\u001B[0m\u001B[32m*\u001B[0m\u001B[32m*\u001B[0m\u001B[32m*\u001B[0m\u001B[32m*\u001B[0m\u001B[32m*\u001B[0m\u001B[32m*\u001B[0m\u001B[32m*\u001B[0m\u001B[32m*\u001B[0m\u001B[32m*\u001B[0m\u001B[32m*\u001B[0m\u001B[32m*\u001B[0m\u001B[32m*\u001B[0m\u001B[32m*\u001B[0m\u001B[32m*\u001B[0m\u001B[32m*\u001B[0m\u001B[32m*\u001B[0m\u001B[32m*\u001B[0m\u001B[32m*\u001B[0m\u001B[32m*\u001B[0m\u001B[32m*\u001B[0m\u001B[32m*\u001B[0m\u001B[32m*\u001B[0m\u001B[32m*\u001B[0m\u001B[32m*\u001B[0m\u001B[32m*\u001B[0m\u001B[32m*\u001B[0m\u001B[32m*\u001B[0m\u001B[32m*\u001B[0m\u001B[32m*\u001B[0m\u001B[32m*\u001B[0m\u001B[32m*\u001B[0m\u001B[32m*\u001B[0m\u001B[32m*\u001B[0m\u001B[32m*\u001B[0m\u001B[32m*\u001B[0m\u001B[32m*\u001B[0m\u001B[32m*\u001B[0m\u001B[32m*\u001B[0m\u001B[32m*\u001B[0m\u001B[32m*\u001B[0m\u001B[32m*\u001B[0m\u001B[32m*\u001B[0m\u001B[32m*\u001B[0m\u001B[32m*\u001B[0m\u001B[32m*\u001B[0m\u001B[32m*\u001B[0m\u001B[32m*\u001B[0m\u001B[32m*\u001B[0m\u001B[32m*\u001B[0m\u001B[32m*\u001B[0m\u001B[32m*\u001B[0m\u001B[32m*\u001B[0m\u001B[32m*\u001B[0m\u001B[32m*\u001B[0m\u001B[32m*\u001B[0m\u001B[32m*\u001B[0m\u001B[32m*\u001B[0m\u001B[32m*\u001B[0m\u001B[32m*\u001B[0m\u001B[32m*\u001B[0m\u001B[32m*\u001B[0m\u001B[32m*\u001B[0m\u001B[32m*\u001B[0m\u001B[32m*\u001B[0m\u001B[32m*\u001B[0m\u001B[32m*\u001B[0m\n",
      "\u001B[34m** Zadanie 5 **********************************************************************************\u001B[0m\n"
     ]
    },
    {
     "data": {
      "text/plain": [
       "<IPython.core.display.Markdown object>"
      ],
      "text/markdown": "Wyznaczyć rząd macierzy *A*"
     },
     "metadata": {},
     "output_type": "display_data"
    },
    {
     "data": {
      "text/plain": [
       "<IPython.core.display.Latex object>"
      ],
      "text/latex": "\n\t\\[\n\t\t\\textnormal{A=} \\left[\\begin{matrix}3 & -1 & 0 & 0\\\\1 & 2 & 2 & -2\\\\3 & 2 & 0 & 0\\\\-1 & 3 & 2 & -2\\\\3 & -1 & 2 & -2\\\\1 & 0 & -1 & 1\\end{matrix}\\right]\n\t\\]"
     },
     "metadata": {},
     "output_type": "display_data"
    },
    {
     "name": "stdout",
     "output_type": "stream",
     "text": [
      "\u001B[34m*\u001B[0m\u001B[34m*\u001B[0m\u001B[34m*\u001B[0m\u001B[34m*\u001B[0m\u001B[34m*\u001B[0m\u001B[34m*\u001B[0m\u001B[34m*\u001B[0m\u001B[34m*\u001B[0m\u001B[34m*\u001B[0m\u001B[34m*\u001B[0m\u001B[34m*\u001B[0m\u001B[34m*\u001B[0m\u001B[34m*\u001B[0m\u001B[34m*\u001B[0m\u001B[34m*\u001B[0m\u001B[34m*\u001B[0m\u001B[34m*\u001B[0m\u001B[34m*\u001B[0m\u001B[34m*\u001B[0m\u001B[34m*\u001B[0m\u001B[34m*\u001B[0m\u001B[34m*\u001B[0m\u001B[34m*\u001B[0m\u001B[34m*\u001B[0m\u001B[34m*\u001B[0m\u001B[34m*\u001B[0m\u001B[34m*\u001B[0m\u001B[34m*\u001B[0m\u001B[34m*\u001B[0m\u001B[34m*\u001B[0m\u001B[34m*\u001B[0m\u001B[34m*\u001B[0m\u001B[34m*\u001B[0m\u001B[34m*\u001B[0m\u001B[34m*\u001B[0m\u001B[34m*\u001B[0m\u001B[34m*\u001B[0m\u001B[34m*\u001B[0m\u001B[34m*\u001B[0m\u001B[34m*\u001B[0m\u001B[34m*\u001B[0m\u001B[34m*\u001B[0m\u001B[34m*\u001B[0m\u001B[34m*\u001B[0m\u001B[34m*\u001B[0m\u001B[34m*\u001B[0m\u001B[34m*\u001B[0m\u001B[34m*\u001B[0m\u001B[34m*\u001B[0m\u001B[34m*\u001B[0m\u001B[34m*\u001B[0m\u001B[34m*\u001B[0m\u001B[34m*\u001B[0m\u001B[34m*\u001B[0m\u001B[34m*\u001B[0m\u001B[34m*\u001B[0m\u001B[34m*\u001B[0m\u001B[34m*\u001B[0m\u001B[34m*\u001B[0m\u001B[34m*\u001B[0m\u001B[34m*\u001B[0m\u001B[34m*\u001B[0m\u001B[34m*\u001B[0m\u001B[34m*\u001B[0m\u001B[34m*\u001B[0m\u001B[34m*\u001B[0m\u001B[34m*\u001B[0m\u001B[34m*\u001B[0m\u001B[34m*\u001B[0m\u001B[34m*\u001B[0m\u001B[34m*\u001B[0m\u001B[34m*\u001B[0m\u001B[34m*\u001B[0m\u001B[34m*\u001B[0m\u001B[34m*\u001B[0m\u001B[34m*\u001B[0m\u001B[34m*\u001B[0m\u001B[34m*\u001B[0m\u001B[34m*\u001B[0m\u001B[34m*\u001B[0m\u001B[34m*\u001B[0m\u001B[34m*\u001B[0m\u001B[34m*\u001B[0m\u001B[34m*\u001B[0m\u001B[34m*\u001B[0m\u001B[34m*\u001B[0m\u001B[34m*\u001B[0m\u001B[34m*\u001B[0m\u001B[34m*\u001B[0m\u001B[34m*\u001B[0m\u001B[34m*\u001B[0m\u001B[34m*\u001B[0m\u001B[34m*\u001B[0m\u001B[34m*\u001B[0m\u001B[34m*\u001B[0m\n",
      "\u001B[32m** Rozwiązanie ********************************************************************************\u001B[0m\n"
     ]
    },
    {
     "data": {
      "text/plain": [
       "<IPython.core.display.Latex object>"
      ],
      "text/latex": "$$R(A)= 3$$"
     },
     "metadata": {},
     "output_type": "display_data"
    },
    {
     "name": "stdout",
     "output_type": "stream",
     "text": [
      "\u001B[32m*\u001B[0m\u001B[32m*\u001B[0m\u001B[32m*\u001B[0m\u001B[32m*\u001B[0m\u001B[32m*\u001B[0m\u001B[32m*\u001B[0m\u001B[32m*\u001B[0m\u001B[32m*\u001B[0m\u001B[32m*\u001B[0m\u001B[32m*\u001B[0m\u001B[32m*\u001B[0m\u001B[32m*\u001B[0m\u001B[32m*\u001B[0m\u001B[32m*\u001B[0m\u001B[32m*\u001B[0m\u001B[32m*\u001B[0m\u001B[32m*\u001B[0m\u001B[32m*\u001B[0m\u001B[32m*\u001B[0m\u001B[32m*\u001B[0m\u001B[32m*\u001B[0m\u001B[32m*\u001B[0m\u001B[32m*\u001B[0m\u001B[32m*\u001B[0m\u001B[32m*\u001B[0m\u001B[32m*\u001B[0m\u001B[32m*\u001B[0m\u001B[32m*\u001B[0m\u001B[32m*\u001B[0m\u001B[32m*\u001B[0m\u001B[32m*\u001B[0m\u001B[32m*\u001B[0m\u001B[32m*\u001B[0m\u001B[32m*\u001B[0m\u001B[32m*\u001B[0m\u001B[32m*\u001B[0m\u001B[32m*\u001B[0m\u001B[32m*\u001B[0m\u001B[32m*\u001B[0m\u001B[32m*\u001B[0m\u001B[32m*\u001B[0m\u001B[32m*\u001B[0m\u001B[32m*\u001B[0m\u001B[32m*\u001B[0m\u001B[32m*\u001B[0m\u001B[32m*\u001B[0m\u001B[32m*\u001B[0m\u001B[32m*\u001B[0m\u001B[32m*\u001B[0m\u001B[32m*\u001B[0m\u001B[32m*\u001B[0m\u001B[32m*\u001B[0m\u001B[32m*\u001B[0m\u001B[32m*\u001B[0m\u001B[32m*\u001B[0m\u001B[32m*\u001B[0m\u001B[32m*\u001B[0m\u001B[32m*\u001B[0m\u001B[32m*\u001B[0m\u001B[32m*\u001B[0m\u001B[32m*\u001B[0m\u001B[32m*\u001B[0m\u001B[32m*\u001B[0m\u001B[32m*\u001B[0m\u001B[32m*\u001B[0m\u001B[32m*\u001B[0m\u001B[32m*\u001B[0m\u001B[32m*\u001B[0m\u001B[32m*\u001B[0m\u001B[32m*\u001B[0m\u001B[32m*\u001B[0m\u001B[32m*\u001B[0m\u001B[32m*\u001B[0m\u001B[32m*\u001B[0m\u001B[32m*\u001B[0m\u001B[32m*\u001B[0m\u001B[32m*\u001B[0m\u001B[32m*\u001B[0m\u001B[32m*\u001B[0m\u001B[32m*\u001B[0m\u001B[32m*\u001B[0m\u001B[32m*\u001B[0m\u001B[32m*\u001B[0m\u001B[32m*\u001B[0m\u001B[32m*\u001B[0m\u001B[32m*\u001B[0m\u001B[32m*\u001B[0m\u001B[32m*\u001B[0m\u001B[32m*\u001B[0m\u001B[32m*\u001B[0m\u001B[32m*\u001B[0m\u001B[32m*\u001B[0m\u001B[32m*\u001B[0m\u001B[32m*\u001B[0m\u001B[32m*\u001B[0m\n",
      "\u001B[34m** Zadanie 6 **********************************************************************************\u001B[0m\n"
     ]
    },
    {
     "data": {
      "text/plain": [
       "<IPython.core.display.Markdown object>"
      ],
      "text/markdown": "Wyznaczyć rząd macierzy *A*"
     },
     "metadata": {},
     "output_type": "display_data"
    },
    {
     "data": {
      "text/plain": [
       "<IPython.core.display.Latex object>"
      ],
      "text/latex": "\n\t\\[\n\t\t\\textnormal{A=} \\left[\\begin{matrix}2 & -1 & 2 & 0\\\\1 & 3 & -1 & 2\\\\1 & 2 & 1 & 0\\\\2 & 3 & 3 & -1\\\\2 & -2 & 1 & 1\\\\2 & 0 & 3 & -1\\end{matrix}\\right]\n\t\\]"
     },
     "metadata": {},
     "output_type": "display_data"
    },
    {
     "name": "stdout",
     "output_type": "stream",
     "text": [
      "\u001B[34m*\u001B[0m\u001B[34m*\u001B[0m\u001B[34m*\u001B[0m\u001B[34m*\u001B[0m\u001B[34m*\u001B[0m\u001B[34m*\u001B[0m\u001B[34m*\u001B[0m\u001B[34m*\u001B[0m\u001B[34m*\u001B[0m\u001B[34m*\u001B[0m\u001B[34m*\u001B[0m\u001B[34m*\u001B[0m\u001B[34m*\u001B[0m\u001B[34m*\u001B[0m\u001B[34m*\u001B[0m\u001B[34m*\u001B[0m\u001B[34m*\u001B[0m\u001B[34m*\u001B[0m\u001B[34m*\u001B[0m\u001B[34m*\u001B[0m\u001B[34m*\u001B[0m\u001B[34m*\u001B[0m\u001B[34m*\u001B[0m\u001B[34m*\u001B[0m\u001B[34m*\u001B[0m\u001B[34m*\u001B[0m\u001B[34m*\u001B[0m\u001B[34m*\u001B[0m\u001B[34m*\u001B[0m\u001B[34m*\u001B[0m\u001B[34m*\u001B[0m\u001B[34m*\u001B[0m\u001B[34m*\u001B[0m\u001B[34m*\u001B[0m\u001B[34m*\u001B[0m\u001B[34m*\u001B[0m\u001B[34m*\u001B[0m\u001B[34m*\u001B[0m\u001B[34m*\u001B[0m\u001B[34m*\u001B[0m\u001B[34m*\u001B[0m\u001B[34m*\u001B[0m\u001B[34m*\u001B[0m\u001B[34m*\u001B[0m\u001B[34m*\u001B[0m\u001B[34m*\u001B[0m\u001B[34m*\u001B[0m\u001B[34m*\u001B[0m\u001B[34m*\u001B[0m\u001B[34m*\u001B[0m\u001B[34m*\u001B[0m\u001B[34m*\u001B[0m\u001B[34m*\u001B[0m\u001B[34m*\u001B[0m\u001B[34m*\u001B[0m\u001B[34m*\u001B[0m\u001B[34m*\u001B[0m\u001B[34m*\u001B[0m\u001B[34m*\u001B[0m\u001B[34m*\u001B[0m\u001B[34m*\u001B[0m\u001B[34m*\u001B[0m\u001B[34m*\u001B[0m\u001B[34m*\u001B[0m\u001B[34m*\u001B[0m\u001B[34m*\u001B[0m\u001B[34m*\u001B[0m\u001B[34m*\u001B[0m\u001B[34m*\u001B[0m\u001B[34m*\u001B[0m\u001B[34m*\u001B[0m\u001B[34m*\u001B[0m\u001B[34m*\u001B[0m\u001B[34m*\u001B[0m\u001B[34m*\u001B[0m\u001B[34m*\u001B[0m\u001B[34m*\u001B[0m\u001B[34m*\u001B[0m\u001B[34m*\u001B[0m\u001B[34m*\u001B[0m\u001B[34m*\u001B[0m\u001B[34m*\u001B[0m\u001B[34m*\u001B[0m\u001B[34m*\u001B[0m\u001B[34m*\u001B[0m\u001B[34m*\u001B[0m\u001B[34m*\u001B[0m\u001B[34m*\u001B[0m\u001B[34m*\u001B[0m\u001B[34m*\u001B[0m\u001B[34m*\u001B[0m\u001B[34m*\u001B[0m\u001B[34m*\u001B[0m\u001B[34m*\u001B[0m\u001B[34m*\u001B[0m\n",
      "\u001B[32m** Rozwiązanie ********************************************************************************\u001B[0m\n"
     ]
    },
    {
     "data": {
      "text/plain": [
       "<IPython.core.display.Latex object>"
      ],
      "text/latex": "$$R(A)= 3$$"
     },
     "metadata": {},
     "output_type": "display_data"
    },
    {
     "name": "stdout",
     "output_type": "stream",
     "text": [
      "\u001B[32m*\u001B[0m\u001B[32m*\u001B[0m\u001B[32m*\u001B[0m\u001B[32m*\u001B[0m\u001B[32m*\u001B[0m\u001B[32m*\u001B[0m\u001B[32m*\u001B[0m\u001B[32m*\u001B[0m\u001B[32m*\u001B[0m\u001B[32m*\u001B[0m\u001B[32m*\u001B[0m\u001B[32m*\u001B[0m\u001B[32m*\u001B[0m\u001B[32m*\u001B[0m\u001B[32m*\u001B[0m\u001B[32m*\u001B[0m\u001B[32m*\u001B[0m\u001B[32m*\u001B[0m\u001B[32m*\u001B[0m\u001B[32m*\u001B[0m\u001B[32m*\u001B[0m\u001B[32m*\u001B[0m\u001B[32m*\u001B[0m\u001B[32m*\u001B[0m\u001B[32m*\u001B[0m\u001B[32m*\u001B[0m\u001B[32m*\u001B[0m\u001B[32m*\u001B[0m\u001B[32m*\u001B[0m\u001B[32m*\u001B[0m\u001B[32m*\u001B[0m\u001B[32m*\u001B[0m\u001B[32m*\u001B[0m\u001B[32m*\u001B[0m\u001B[32m*\u001B[0m\u001B[32m*\u001B[0m\u001B[32m*\u001B[0m\u001B[32m*\u001B[0m\u001B[32m*\u001B[0m\u001B[32m*\u001B[0m\u001B[32m*\u001B[0m\u001B[32m*\u001B[0m\u001B[32m*\u001B[0m\u001B[32m*\u001B[0m\u001B[32m*\u001B[0m\u001B[32m*\u001B[0m\u001B[32m*\u001B[0m\u001B[32m*\u001B[0m\u001B[32m*\u001B[0m\u001B[32m*\u001B[0m\u001B[32m*\u001B[0m\u001B[32m*\u001B[0m\u001B[32m*\u001B[0m\u001B[32m*\u001B[0m\u001B[32m*\u001B[0m\u001B[32m*\u001B[0m\u001B[32m*\u001B[0m\u001B[32m*\u001B[0m\u001B[32m*\u001B[0m\u001B[32m*\u001B[0m\u001B[32m*\u001B[0m\u001B[32m*\u001B[0m\u001B[32m*\u001B[0m\u001B[32m*\u001B[0m\u001B[32m*\u001B[0m\u001B[32m*\u001B[0m\u001B[32m*\u001B[0m\u001B[32m*\u001B[0m\u001B[32m*\u001B[0m\u001B[32m*\u001B[0m\u001B[32m*\u001B[0m\u001B[32m*\u001B[0m\u001B[32m*\u001B[0m\u001B[32m*\u001B[0m\u001B[32m*\u001B[0m\u001B[32m*\u001B[0m\u001B[32m*\u001B[0m\u001B[32m*\u001B[0m\u001B[32m*\u001B[0m\u001B[32m*\u001B[0m\u001B[32m*\u001B[0m\u001B[32m*\u001B[0m\u001B[32m*\u001B[0m\u001B[32m*\u001B[0m\u001B[32m*\u001B[0m\u001B[32m*\u001B[0m\u001B[32m*\u001B[0m\u001B[32m*\u001B[0m\u001B[32m*\u001B[0m\u001B[32m*\u001B[0m\u001B[32m*\u001B[0m\u001B[32m*\u001B[0m\u001B[32m*\u001B[0m\u001B[32m*\u001B[0m\u001B[32m*\u001B[0m\n",
      "\u001B[34m** Zadanie 7 **********************************************************************************\u001B[0m\n"
     ]
    },
    {
     "data": {
      "text/plain": [
       "<IPython.core.display.Markdown object>"
      ],
      "text/markdown": "Wyznaczyć rząd macierzy *A*"
     },
     "metadata": {},
     "output_type": "display_data"
    },
    {
     "data": {
      "text/plain": [
       "<IPython.core.display.Latex object>"
      ],
      "text/latex": "\n\t\\[\n\t\t\\textnormal{A=} \\left[\\begin{matrix}-1 & -1 & -1 & -2\\\\-1 & 0 & 1 & 1\\\\0 & -2 & 0 & -2\\\\-2 & 0 & 1 & -2\\\\-2 & -1 & 0 & -1\\\\-2 & -2 & -1 & 1\\end{matrix}\\right]\n\t\\]"
     },
     "metadata": {},
     "output_type": "display_data"
    },
    {
     "name": "stdout",
     "output_type": "stream",
     "text": [
      "\u001B[34m*\u001B[0m\u001B[34m*\u001B[0m\u001B[34m*\u001B[0m\u001B[34m*\u001B[0m\u001B[34m*\u001B[0m\u001B[34m*\u001B[0m\u001B[34m*\u001B[0m\u001B[34m*\u001B[0m\u001B[34m*\u001B[0m\u001B[34m*\u001B[0m\u001B[34m*\u001B[0m\u001B[34m*\u001B[0m\u001B[34m*\u001B[0m\u001B[34m*\u001B[0m\u001B[34m*\u001B[0m\u001B[34m*\u001B[0m\u001B[34m*\u001B[0m\u001B[34m*\u001B[0m\u001B[34m*\u001B[0m\u001B[34m*\u001B[0m\u001B[34m*\u001B[0m\u001B[34m*\u001B[0m\u001B[34m*\u001B[0m\u001B[34m*\u001B[0m\u001B[34m*\u001B[0m\u001B[34m*\u001B[0m\u001B[34m*\u001B[0m\u001B[34m*\u001B[0m\u001B[34m*\u001B[0m\u001B[34m*\u001B[0m\u001B[34m*\u001B[0m\u001B[34m*\u001B[0m\u001B[34m*\u001B[0m\u001B[34m*\u001B[0m\u001B[34m*\u001B[0m\u001B[34m*\u001B[0m\u001B[34m*\u001B[0m\u001B[34m*\u001B[0m\u001B[34m*\u001B[0m\u001B[34m*\u001B[0m\u001B[34m*\u001B[0m\u001B[34m*\u001B[0m\u001B[34m*\u001B[0m\u001B[34m*\u001B[0m\u001B[34m*\u001B[0m\u001B[34m*\u001B[0m\u001B[34m*\u001B[0m\u001B[34m*\u001B[0m\u001B[34m*\u001B[0m\u001B[34m*\u001B[0m\u001B[34m*\u001B[0m\u001B[34m*\u001B[0m\u001B[34m*\u001B[0m\u001B[34m*\u001B[0m\u001B[34m*\u001B[0m\u001B[34m*\u001B[0m\u001B[34m*\u001B[0m\u001B[34m*\u001B[0m\u001B[34m*\u001B[0m\u001B[34m*\u001B[0m\u001B[34m*\u001B[0m\u001B[34m*\u001B[0m\u001B[34m*\u001B[0m\u001B[34m*\u001B[0m\u001B[34m*\u001B[0m\u001B[34m*\u001B[0m\u001B[34m*\u001B[0m\u001B[34m*\u001B[0m\u001B[34m*\u001B[0m\u001B[34m*\u001B[0m\u001B[34m*\u001B[0m\u001B[34m*\u001B[0m\u001B[34m*\u001B[0m\u001B[34m*\u001B[0m\u001B[34m*\u001B[0m\u001B[34m*\u001B[0m\u001B[34m*\u001B[0m\u001B[34m*\u001B[0m\u001B[34m*\u001B[0m\u001B[34m*\u001B[0m\u001B[34m*\u001B[0m\u001B[34m*\u001B[0m\u001B[34m*\u001B[0m\u001B[34m*\u001B[0m\u001B[34m*\u001B[0m\u001B[34m*\u001B[0m\u001B[34m*\u001B[0m\u001B[34m*\u001B[0m\u001B[34m*\u001B[0m\u001B[34m*\u001B[0m\u001B[34m*\u001B[0m\u001B[34m*\u001B[0m\u001B[34m*\u001B[0m\u001B[34m*\u001B[0m\u001B[34m*\u001B[0m\n",
      "\u001B[32m** Rozwiązanie ********************************************************************************\u001B[0m\n"
     ]
    },
    {
     "data": {
      "text/plain": [
       "<IPython.core.display.Latex object>"
      ],
      "text/latex": "$$R(A)= 4$$"
     },
     "metadata": {},
     "output_type": "display_data"
    },
    {
     "name": "stdout",
     "output_type": "stream",
     "text": [
      "\u001B[32m*\u001B[0m\u001B[32m*\u001B[0m\u001B[32m*\u001B[0m\u001B[32m*\u001B[0m\u001B[32m*\u001B[0m\u001B[32m*\u001B[0m\u001B[32m*\u001B[0m\u001B[32m*\u001B[0m\u001B[32m*\u001B[0m\u001B[32m*\u001B[0m\u001B[32m*\u001B[0m\u001B[32m*\u001B[0m\u001B[32m*\u001B[0m\u001B[32m*\u001B[0m\u001B[32m*\u001B[0m\u001B[32m*\u001B[0m\u001B[32m*\u001B[0m\u001B[32m*\u001B[0m\u001B[32m*\u001B[0m\u001B[32m*\u001B[0m\u001B[32m*\u001B[0m\u001B[32m*\u001B[0m\u001B[32m*\u001B[0m\u001B[32m*\u001B[0m\u001B[32m*\u001B[0m\u001B[32m*\u001B[0m\u001B[32m*\u001B[0m\u001B[32m*\u001B[0m\u001B[32m*\u001B[0m\u001B[32m*\u001B[0m\u001B[32m*\u001B[0m\u001B[32m*\u001B[0m\u001B[32m*\u001B[0m\u001B[32m*\u001B[0m\u001B[32m*\u001B[0m\u001B[32m*\u001B[0m\u001B[32m*\u001B[0m\u001B[32m*\u001B[0m\u001B[32m*\u001B[0m\u001B[32m*\u001B[0m\u001B[32m*\u001B[0m\u001B[32m*\u001B[0m\u001B[32m*\u001B[0m\u001B[32m*\u001B[0m\u001B[32m*\u001B[0m\u001B[32m*\u001B[0m\u001B[32m*\u001B[0m\u001B[32m*\u001B[0m\u001B[32m*\u001B[0m\u001B[32m*\u001B[0m\u001B[32m*\u001B[0m\u001B[32m*\u001B[0m\u001B[32m*\u001B[0m\u001B[32m*\u001B[0m\u001B[32m*\u001B[0m\u001B[32m*\u001B[0m\u001B[32m*\u001B[0m\u001B[32m*\u001B[0m\u001B[32m*\u001B[0m\u001B[32m*\u001B[0m\u001B[32m*\u001B[0m\u001B[32m*\u001B[0m\u001B[32m*\u001B[0m\u001B[32m*\u001B[0m\u001B[32m*\u001B[0m\u001B[32m*\u001B[0m\u001B[32m*\u001B[0m\u001B[32m*\u001B[0m\u001B[32m*\u001B[0m\u001B[32m*\u001B[0m\u001B[32m*\u001B[0m\u001B[32m*\u001B[0m\u001B[32m*\u001B[0m\u001B[32m*\u001B[0m\u001B[32m*\u001B[0m\u001B[32m*\u001B[0m\u001B[32m*\u001B[0m\u001B[32m*\u001B[0m\u001B[32m*\u001B[0m\u001B[32m*\u001B[0m\u001B[32m*\u001B[0m\u001B[32m*\u001B[0m\u001B[32m*\u001B[0m\u001B[32m*\u001B[0m\u001B[32m*\u001B[0m\u001B[32m*\u001B[0m\u001B[32m*\u001B[0m\u001B[32m*\u001B[0m\u001B[32m*\u001B[0m\u001B[32m*\u001B[0m\u001B[32m*\u001B[0m\u001B[32m*\u001B[0m\u001B[32m*\u001B[0m\u001B[32m*\u001B[0m\u001B[32m*\u001B[0m\n",
      "\u001B[34m** Zadanie 8 **********************************************************************************\u001B[0m\n"
     ]
    },
    {
     "data": {
      "text/plain": [
       "<IPython.core.display.Markdown object>"
      ],
      "text/markdown": "Wyznaczyć rząd macierzy *A*"
     },
     "metadata": {},
     "output_type": "display_data"
    },
    {
     "data": {
      "text/plain": [
       "<IPython.core.display.Latex object>"
      ],
      "text/latex": "\n\t\\[\n\t\t\\textnormal{A=} \\left[\\begin{matrix}1 & 0 & -1 & 1 & 3\\\\-2 & 3 & 0 & 2 & 3\\\\-2 & 3 & 0 & 2 & 3\\\\-1 & 2 & -2 & 3 & 0\\\\0 & 3 & 3 & 3 & -1\\end{matrix}\\right]\n\t\\]"
     },
     "metadata": {},
     "output_type": "display_data"
    },
    {
     "name": "stdout",
     "output_type": "stream",
     "text": [
      "\u001B[34m*\u001B[0m\u001B[34m*\u001B[0m\u001B[34m*\u001B[0m\u001B[34m*\u001B[0m\u001B[34m*\u001B[0m\u001B[34m*\u001B[0m\u001B[34m*\u001B[0m\u001B[34m*\u001B[0m\u001B[34m*\u001B[0m\u001B[34m*\u001B[0m\u001B[34m*\u001B[0m\u001B[34m*\u001B[0m\u001B[34m*\u001B[0m\u001B[34m*\u001B[0m\u001B[34m*\u001B[0m\u001B[34m*\u001B[0m\u001B[34m*\u001B[0m\u001B[34m*\u001B[0m\u001B[34m*\u001B[0m\u001B[34m*\u001B[0m\u001B[34m*\u001B[0m\u001B[34m*\u001B[0m\u001B[34m*\u001B[0m\u001B[34m*\u001B[0m\u001B[34m*\u001B[0m\u001B[34m*\u001B[0m\u001B[34m*\u001B[0m\u001B[34m*\u001B[0m\u001B[34m*\u001B[0m\u001B[34m*\u001B[0m\u001B[34m*\u001B[0m\u001B[34m*\u001B[0m\u001B[34m*\u001B[0m\u001B[34m*\u001B[0m\u001B[34m*\u001B[0m\u001B[34m*\u001B[0m\u001B[34m*\u001B[0m\u001B[34m*\u001B[0m\u001B[34m*\u001B[0m\u001B[34m*\u001B[0m\u001B[34m*\u001B[0m\u001B[34m*\u001B[0m\u001B[34m*\u001B[0m\u001B[34m*\u001B[0m\u001B[34m*\u001B[0m\u001B[34m*\u001B[0m\u001B[34m*\u001B[0m\u001B[34m*\u001B[0m\u001B[34m*\u001B[0m\u001B[34m*\u001B[0m\u001B[34m*\u001B[0m\u001B[34m*\u001B[0m\u001B[34m*\u001B[0m\u001B[34m*\u001B[0m\u001B[34m*\u001B[0m\u001B[34m*\u001B[0m\u001B[34m*\u001B[0m\u001B[34m*\u001B[0m\u001B[34m*\u001B[0m\u001B[34m*\u001B[0m\u001B[34m*\u001B[0m\u001B[34m*\u001B[0m\u001B[34m*\u001B[0m\u001B[34m*\u001B[0m\u001B[34m*\u001B[0m\u001B[34m*\u001B[0m\u001B[34m*\u001B[0m\u001B[34m*\u001B[0m\u001B[34m*\u001B[0m\u001B[34m*\u001B[0m\u001B[34m*\u001B[0m\u001B[34m*\u001B[0m\u001B[34m*\u001B[0m\u001B[34m*\u001B[0m\u001B[34m*\u001B[0m\u001B[34m*\u001B[0m\u001B[34m*\u001B[0m\u001B[34m*\u001B[0m\u001B[34m*\u001B[0m\u001B[34m*\u001B[0m\u001B[34m*\u001B[0m\u001B[34m*\u001B[0m\u001B[34m*\u001B[0m\u001B[34m*\u001B[0m\u001B[34m*\u001B[0m\u001B[34m*\u001B[0m\u001B[34m*\u001B[0m\u001B[34m*\u001B[0m\u001B[34m*\u001B[0m\u001B[34m*\u001B[0m\u001B[34m*\u001B[0m\u001B[34m*\u001B[0m\u001B[34m*\u001B[0m\u001B[34m*\u001B[0m\u001B[34m*\u001B[0m\n",
      "\u001B[32m** Rozwiązanie ********************************************************************************\u001B[0m\n"
     ]
    },
    {
     "data": {
      "text/plain": [
       "<IPython.core.display.Latex object>"
      ],
      "text/latex": "$$R(A)= 4$$"
     },
     "metadata": {},
     "output_type": "display_data"
    },
    {
     "name": "stdout",
     "output_type": "stream",
     "text": [
      "\u001B[32m*\u001B[0m\u001B[32m*\u001B[0m\u001B[32m*\u001B[0m\u001B[32m*\u001B[0m\u001B[32m*\u001B[0m\u001B[32m*\u001B[0m\u001B[32m*\u001B[0m\u001B[32m*\u001B[0m\u001B[32m*\u001B[0m\u001B[32m*\u001B[0m\u001B[32m*\u001B[0m\u001B[32m*\u001B[0m\u001B[32m*\u001B[0m\u001B[32m*\u001B[0m\u001B[32m*\u001B[0m\u001B[32m*\u001B[0m\u001B[32m*\u001B[0m\u001B[32m*\u001B[0m\u001B[32m*\u001B[0m\u001B[32m*\u001B[0m\u001B[32m*\u001B[0m\u001B[32m*\u001B[0m\u001B[32m*\u001B[0m\u001B[32m*\u001B[0m\u001B[32m*\u001B[0m\u001B[32m*\u001B[0m\u001B[32m*\u001B[0m\u001B[32m*\u001B[0m\u001B[32m*\u001B[0m\u001B[32m*\u001B[0m\u001B[32m*\u001B[0m\u001B[32m*\u001B[0m\u001B[32m*\u001B[0m\u001B[32m*\u001B[0m\u001B[32m*\u001B[0m\u001B[32m*\u001B[0m\u001B[32m*\u001B[0m\u001B[32m*\u001B[0m\u001B[32m*\u001B[0m\u001B[32m*\u001B[0m\u001B[32m*\u001B[0m\u001B[32m*\u001B[0m\u001B[32m*\u001B[0m\u001B[32m*\u001B[0m\u001B[32m*\u001B[0m\u001B[32m*\u001B[0m\u001B[32m*\u001B[0m\u001B[32m*\u001B[0m\u001B[32m*\u001B[0m\u001B[32m*\u001B[0m\u001B[32m*\u001B[0m\u001B[32m*\u001B[0m\u001B[32m*\u001B[0m\u001B[32m*\u001B[0m\u001B[32m*\u001B[0m\u001B[32m*\u001B[0m\u001B[32m*\u001B[0m\u001B[32m*\u001B[0m\u001B[32m*\u001B[0m\u001B[32m*\u001B[0m\u001B[32m*\u001B[0m\u001B[32m*\u001B[0m\u001B[32m*\u001B[0m\u001B[32m*\u001B[0m\u001B[32m*\u001B[0m\u001B[32m*\u001B[0m\u001B[32m*\u001B[0m\u001B[32m*\u001B[0m\u001B[32m*\u001B[0m\u001B[32m*\u001B[0m\u001B[32m*\u001B[0m\u001B[32m*\u001B[0m\u001B[32m*\u001B[0m\u001B[32m*\u001B[0m\u001B[32m*\u001B[0m\u001B[32m*\u001B[0m\u001B[32m*\u001B[0m\u001B[32m*\u001B[0m\u001B[32m*\u001B[0m\u001B[32m*\u001B[0m\u001B[32m*\u001B[0m\u001B[32m*\u001B[0m\u001B[32m*\u001B[0m\u001B[32m*\u001B[0m\u001B[32m*\u001B[0m\u001B[32m*\u001B[0m\u001B[32m*\u001B[0m\u001B[32m*\u001B[0m\u001B[32m*\u001B[0m\u001B[32m*\u001B[0m\u001B[32m*\u001B[0m\u001B[32m*\u001B[0m\u001B[32m*\u001B[0m\u001B[32m*\u001B[0m\u001B[32m*\u001B[0m\n",
      "\u001B[34m** Zadanie 9 **********************************************************************************\u001B[0m\n"
     ]
    },
    {
     "data": {
      "text/plain": [
       "<IPython.core.display.Markdown object>"
      ],
      "text/markdown": "Wyznaczyć rząd macierzy *A*"
     },
     "metadata": {},
     "output_type": "display_data"
    },
    {
     "data": {
      "text/plain": [
       "<IPython.core.display.Latex object>"
      ],
      "text/latex": "\n\t\\[\n\t\t\\textnormal{A=} \\left[\\begin{matrix}-1 & 0 & 0 & 1 & 1 & 0\\\\-1 & 3 & 0 & 1 & -2 & 0\\\\0 & 2 & 0 & 0 & -2 & 0\\\\1 & -2 & -2 & 2 & 3 & -2\\end{matrix}\\right]\n\t\\]"
     },
     "metadata": {},
     "output_type": "display_data"
    },
    {
     "name": "stdout",
     "output_type": "stream",
     "text": [
      "\u001B[34m*\u001B[0m\u001B[34m*\u001B[0m\u001B[34m*\u001B[0m\u001B[34m*\u001B[0m\u001B[34m*\u001B[0m\u001B[34m*\u001B[0m\u001B[34m*\u001B[0m\u001B[34m*\u001B[0m\u001B[34m*\u001B[0m\u001B[34m*\u001B[0m\u001B[34m*\u001B[0m\u001B[34m*\u001B[0m\u001B[34m*\u001B[0m\u001B[34m*\u001B[0m\u001B[34m*\u001B[0m\u001B[34m*\u001B[0m\u001B[34m*\u001B[0m\u001B[34m*\u001B[0m\u001B[34m*\u001B[0m\u001B[34m*\u001B[0m\u001B[34m*\u001B[0m\u001B[34m*\u001B[0m\u001B[34m*\u001B[0m\u001B[34m*\u001B[0m\u001B[34m*\u001B[0m\u001B[34m*\u001B[0m\u001B[34m*\u001B[0m\u001B[34m*\u001B[0m\u001B[34m*\u001B[0m\u001B[34m*\u001B[0m\u001B[34m*\u001B[0m\u001B[34m*\u001B[0m\u001B[34m*\u001B[0m\u001B[34m*\u001B[0m\u001B[34m*\u001B[0m\u001B[34m*\u001B[0m\u001B[34m*\u001B[0m\u001B[34m*\u001B[0m\u001B[34m*\u001B[0m\u001B[34m*\u001B[0m\u001B[34m*\u001B[0m\u001B[34m*\u001B[0m\u001B[34m*\u001B[0m\u001B[34m*\u001B[0m\u001B[34m*\u001B[0m\u001B[34m*\u001B[0m\u001B[34m*\u001B[0m\u001B[34m*\u001B[0m\u001B[34m*\u001B[0m\u001B[34m*\u001B[0m\u001B[34m*\u001B[0m\u001B[34m*\u001B[0m\u001B[34m*\u001B[0m\u001B[34m*\u001B[0m\u001B[34m*\u001B[0m\u001B[34m*\u001B[0m\u001B[34m*\u001B[0m\u001B[34m*\u001B[0m\u001B[34m*\u001B[0m\u001B[34m*\u001B[0m\u001B[34m*\u001B[0m\u001B[34m*\u001B[0m\u001B[34m*\u001B[0m\u001B[34m*\u001B[0m\u001B[34m*\u001B[0m\u001B[34m*\u001B[0m\u001B[34m*\u001B[0m\u001B[34m*\u001B[0m\u001B[34m*\u001B[0m\u001B[34m*\u001B[0m\u001B[34m*\u001B[0m\u001B[34m*\u001B[0m\u001B[34m*\u001B[0m\u001B[34m*\u001B[0m\u001B[34m*\u001B[0m\u001B[34m*\u001B[0m\u001B[34m*\u001B[0m\u001B[34m*\u001B[0m\u001B[34m*\u001B[0m\u001B[34m*\u001B[0m\u001B[34m*\u001B[0m\u001B[34m*\u001B[0m\u001B[34m*\u001B[0m\u001B[34m*\u001B[0m\u001B[34m*\u001B[0m\u001B[34m*\u001B[0m\u001B[34m*\u001B[0m\u001B[34m*\u001B[0m\u001B[34m*\u001B[0m\u001B[34m*\u001B[0m\u001B[34m*\u001B[0m\u001B[34m*\u001B[0m\u001B[34m*\u001B[0m\u001B[34m*\u001B[0m\u001B[34m*\u001B[0m\n",
      "\u001B[32m** Rozwiązanie ********************************************************************************\u001B[0m\n"
     ]
    },
    {
     "data": {
      "text/plain": [
       "<IPython.core.display.Latex object>"
      ],
      "text/latex": "$$R(A)= 3$$"
     },
     "metadata": {},
     "output_type": "display_data"
    },
    {
     "name": "stdout",
     "output_type": "stream",
     "text": [
      "\u001B[32m*\u001B[0m\u001B[32m*\u001B[0m\u001B[32m*\u001B[0m\u001B[32m*\u001B[0m\u001B[32m*\u001B[0m\u001B[32m*\u001B[0m\u001B[32m*\u001B[0m\u001B[32m*\u001B[0m\u001B[32m*\u001B[0m\u001B[32m*\u001B[0m\u001B[32m*\u001B[0m\u001B[32m*\u001B[0m\u001B[32m*\u001B[0m\u001B[32m*\u001B[0m\u001B[32m*\u001B[0m\u001B[32m*\u001B[0m\u001B[32m*\u001B[0m\u001B[32m*\u001B[0m\u001B[32m*\u001B[0m\u001B[32m*\u001B[0m\u001B[32m*\u001B[0m\u001B[32m*\u001B[0m\u001B[32m*\u001B[0m\u001B[32m*\u001B[0m\u001B[32m*\u001B[0m\u001B[32m*\u001B[0m\u001B[32m*\u001B[0m\u001B[32m*\u001B[0m\u001B[32m*\u001B[0m\u001B[32m*\u001B[0m\u001B[32m*\u001B[0m\u001B[32m*\u001B[0m\u001B[32m*\u001B[0m\u001B[32m*\u001B[0m\u001B[32m*\u001B[0m\u001B[32m*\u001B[0m\u001B[32m*\u001B[0m\u001B[32m*\u001B[0m\u001B[32m*\u001B[0m\u001B[32m*\u001B[0m\u001B[32m*\u001B[0m\u001B[32m*\u001B[0m\u001B[32m*\u001B[0m\u001B[32m*\u001B[0m\u001B[32m*\u001B[0m\u001B[32m*\u001B[0m\u001B[32m*\u001B[0m\u001B[32m*\u001B[0m\u001B[32m*\u001B[0m\u001B[32m*\u001B[0m\u001B[32m*\u001B[0m\u001B[32m*\u001B[0m\u001B[32m*\u001B[0m\u001B[32m*\u001B[0m\u001B[32m*\u001B[0m\u001B[32m*\u001B[0m\u001B[32m*\u001B[0m\u001B[32m*\u001B[0m\u001B[32m*\u001B[0m\u001B[32m*\u001B[0m\u001B[32m*\u001B[0m\u001B[32m*\u001B[0m\u001B[32m*\u001B[0m\u001B[32m*\u001B[0m\u001B[32m*\u001B[0m\u001B[32m*\u001B[0m\u001B[32m*\u001B[0m\u001B[32m*\u001B[0m\u001B[32m*\u001B[0m\u001B[32m*\u001B[0m\u001B[32m*\u001B[0m\u001B[32m*\u001B[0m\u001B[32m*\u001B[0m\u001B[32m*\u001B[0m\u001B[32m*\u001B[0m\u001B[32m*\u001B[0m\u001B[32m*\u001B[0m\u001B[32m*\u001B[0m\u001B[32m*\u001B[0m\u001B[32m*\u001B[0m\u001B[32m*\u001B[0m\u001B[32m*\u001B[0m\u001B[32m*\u001B[0m\u001B[32m*\u001B[0m\u001B[32m*\u001B[0m\u001B[32m*\u001B[0m\u001B[32m*\u001B[0m\u001B[32m*\u001B[0m\u001B[32m*\u001B[0m\u001B[32m*\u001B[0m\u001B[32m*\u001B[0m\u001B[32m*\u001B[0m\u001B[32m*\u001B[0m\u001B[32m*\u001B[0m\u001B[32m*\u001B[0m\n",
      "\u001B[34m** Zadanie 10 **********************************************************************************\u001B[0m\n"
     ]
    },
    {
     "data": {
      "text/plain": [
       "<IPython.core.display.Markdown object>"
      ],
      "text/markdown": "Wyznaczyć rząd macierzy *A*"
     },
     "metadata": {},
     "output_type": "display_data"
    },
    {
     "data": {
      "text/plain": [
       "<IPython.core.display.Latex object>"
      ],
      "text/latex": "\n\t\\[\n\t\t\\textnormal{A=} \\left[\\begin{matrix}3 & -2 & -1 & 0 & 1\\\\2 & -2 & -2 & 1 & 0\\\\2 & 3 & -1 & 3 & 0\\\\-1 & 2 & 3 & -2 & 2\\\\2 & 0 & 2 & -2 & 1\\end{matrix}\\right]\n\t\\]"
     },
     "metadata": {},
     "output_type": "display_data"
    },
    {
     "name": "stdout",
     "output_type": "stream",
     "text": [
      "\u001B[34m*\u001B[0m\u001B[34m*\u001B[0m\u001B[34m*\u001B[0m\u001B[34m*\u001B[0m\u001B[34m*\u001B[0m\u001B[34m*\u001B[0m\u001B[34m*\u001B[0m\u001B[34m*\u001B[0m\u001B[34m*\u001B[0m\u001B[34m*\u001B[0m\u001B[34m*\u001B[0m\u001B[34m*\u001B[0m\u001B[34m*\u001B[0m\u001B[34m*\u001B[0m\u001B[34m*\u001B[0m\u001B[34m*\u001B[0m\u001B[34m*\u001B[0m\u001B[34m*\u001B[0m\u001B[34m*\u001B[0m\u001B[34m*\u001B[0m\u001B[34m*\u001B[0m\u001B[34m*\u001B[0m\u001B[34m*\u001B[0m\u001B[34m*\u001B[0m\u001B[34m*\u001B[0m\u001B[34m*\u001B[0m\u001B[34m*\u001B[0m\u001B[34m*\u001B[0m\u001B[34m*\u001B[0m\u001B[34m*\u001B[0m\u001B[34m*\u001B[0m\u001B[34m*\u001B[0m\u001B[34m*\u001B[0m\u001B[34m*\u001B[0m\u001B[34m*\u001B[0m\u001B[34m*\u001B[0m\u001B[34m*\u001B[0m\u001B[34m*\u001B[0m\u001B[34m*\u001B[0m\u001B[34m*\u001B[0m\u001B[34m*\u001B[0m\u001B[34m*\u001B[0m\u001B[34m*\u001B[0m\u001B[34m*\u001B[0m\u001B[34m*\u001B[0m\u001B[34m*\u001B[0m\u001B[34m*\u001B[0m\u001B[34m*\u001B[0m\u001B[34m*\u001B[0m\u001B[34m*\u001B[0m\u001B[34m*\u001B[0m\u001B[34m*\u001B[0m\u001B[34m*\u001B[0m\u001B[34m*\u001B[0m\u001B[34m*\u001B[0m\u001B[34m*\u001B[0m\u001B[34m*\u001B[0m\u001B[34m*\u001B[0m\u001B[34m*\u001B[0m\u001B[34m*\u001B[0m\u001B[34m*\u001B[0m\u001B[34m*\u001B[0m\u001B[34m*\u001B[0m\u001B[34m*\u001B[0m\u001B[34m*\u001B[0m\u001B[34m*\u001B[0m\u001B[34m*\u001B[0m\u001B[34m*\u001B[0m\u001B[34m*\u001B[0m\u001B[34m*\u001B[0m\u001B[34m*\u001B[0m\u001B[34m*\u001B[0m\u001B[34m*\u001B[0m\u001B[34m*\u001B[0m\u001B[34m*\u001B[0m\u001B[34m*\u001B[0m\u001B[34m*\u001B[0m\u001B[34m*\u001B[0m\u001B[34m*\u001B[0m\u001B[34m*\u001B[0m\u001B[34m*\u001B[0m\u001B[34m*\u001B[0m\u001B[34m*\u001B[0m\u001B[34m*\u001B[0m\u001B[34m*\u001B[0m\u001B[34m*\u001B[0m\u001B[34m*\u001B[0m\u001B[34m*\u001B[0m\u001B[34m*\u001B[0m\u001B[34m*\u001B[0m\u001B[34m*\u001B[0m\u001B[34m*\u001B[0m\u001B[34m*\u001B[0m\u001B[34m*\u001B[0m\u001B[34m*\u001B[0m\n",
      "\u001B[32m** Rozwiązanie ********************************************************************************\u001B[0m\n"
     ]
    },
    {
     "data": {
      "text/plain": [
       "<IPython.core.display.Latex object>"
      ],
      "text/latex": "$$R(A)= 4$$"
     },
     "metadata": {},
     "output_type": "display_data"
    },
    {
     "name": "stdout",
     "output_type": "stream",
     "text": [
      "\u001B[32m*\u001B[0m\u001B[32m*\u001B[0m\u001B[32m*\u001B[0m\u001B[32m*\u001B[0m\u001B[32m*\u001B[0m\u001B[32m*\u001B[0m\u001B[32m*\u001B[0m\u001B[32m*\u001B[0m\u001B[32m*\u001B[0m\u001B[32m*\u001B[0m\u001B[32m*\u001B[0m\u001B[32m*\u001B[0m\u001B[32m*\u001B[0m\u001B[32m*\u001B[0m\u001B[32m*\u001B[0m\u001B[32m*\u001B[0m\u001B[32m*\u001B[0m\u001B[32m*\u001B[0m\u001B[32m*\u001B[0m\u001B[32m*\u001B[0m\u001B[32m*\u001B[0m\u001B[32m*\u001B[0m\u001B[32m*\u001B[0m\u001B[32m*\u001B[0m\u001B[32m*\u001B[0m\u001B[32m*\u001B[0m\u001B[32m*\u001B[0m\u001B[32m*\u001B[0m\u001B[32m*\u001B[0m\u001B[32m*\u001B[0m\u001B[32m*\u001B[0m\u001B[32m*\u001B[0m\u001B[32m*\u001B[0m\u001B[32m*\u001B[0m\u001B[32m*\u001B[0m\u001B[32m*\u001B[0m\u001B[32m*\u001B[0m\u001B[32m*\u001B[0m\u001B[32m*\u001B[0m\u001B[32m*\u001B[0m\u001B[32m*\u001B[0m\u001B[32m*\u001B[0m\u001B[32m*\u001B[0m\u001B[32m*\u001B[0m\u001B[32m*\u001B[0m\u001B[32m*\u001B[0m\u001B[32m*\u001B[0m\u001B[32m*\u001B[0m\u001B[32m*\u001B[0m\u001B[32m*\u001B[0m\u001B[32m*\u001B[0m\u001B[32m*\u001B[0m\u001B[32m*\u001B[0m\u001B[32m*\u001B[0m\u001B[32m*\u001B[0m\u001B[32m*\u001B[0m\u001B[32m*\u001B[0m\u001B[32m*\u001B[0m\u001B[32m*\u001B[0m\u001B[32m*\u001B[0m\u001B[32m*\u001B[0m\u001B[32m*\u001B[0m\u001B[32m*\u001B[0m\u001B[32m*\u001B[0m\u001B[32m*\u001B[0m\u001B[32m*\u001B[0m\u001B[32m*\u001B[0m\u001B[32m*\u001B[0m\u001B[32m*\u001B[0m\u001B[32m*\u001B[0m\u001B[32m*\u001B[0m\u001B[32m*\u001B[0m\u001B[32m*\u001B[0m\u001B[32m*\u001B[0m\u001B[32m*\u001B[0m\u001B[32m*\u001B[0m\u001B[32m*\u001B[0m\u001B[32m*\u001B[0m\u001B[32m*\u001B[0m\u001B[32m*\u001B[0m\u001B[32m*\u001B[0m\u001B[32m*\u001B[0m\u001B[32m*\u001B[0m\u001B[32m*\u001B[0m\u001B[32m*\u001B[0m\u001B[32m*\u001B[0m\u001B[32m*\u001B[0m\u001B[32m*\u001B[0m\u001B[32m*\u001B[0m\u001B[32m*\u001B[0m\u001B[32m*\u001B[0m\u001B[32m*\u001B[0m\u001B[32m*\u001B[0m\u001B[32m*\u001B[0m\u001B[32m*\u001B[0m\n"
     ]
    }
   ],
   "execution_count": 18
  },
  {
   "metadata": {},
   "cell_type": "markdown",
   "source": "## Diagonalizacja macierzy",
   "id": "f144ccd952ff7477"
  },
  {
   "metadata": {
    "ExecuteTime": {
     "end_time": "2024-09-12T17:28:58.104768Z",
     "start_time": "2024-09-12T17:28:58.088262Z"
    }
   },
   "cell_type": "code",
   "source": [
    "zadanie = gz.diagonalizacja_macierzy(wymiar=choice([2, 3, 4]))\n",
    "zadanie"
   ],
   "id": "897bf2e07514b9fd",
   "outputs": [
    {
     "data": {
      "text/plain": [
       "('Przeprowadzić diagonalizację macierzy (jeśli możliwa) \\n\\t\\\\[\\n\\t\\t\\\\textnormal{A=} \\\\left[\\\\begin{matrix}0 & 0 & 2\\\\\\\\1 & 1 & 2\\\\\\\\0 & 0 & 0\\\\end{matrix}\\\\right]\\n\\t\\\\]',\n",
       " '$\\\\det\\\\left(\\\\lambda \\\\mathbb{I} - A \\\\right) = \\\\lambda^{3} - \\\\lambda^{2}$, \\\\quad \\nWartości własne:$ \\\\left\\\\{ 0 : 2, \\\\  1 : 1\\\\right\\\\}, $\\\\\\\\\\n\\\\parbox{4em}{Wektory\\\\\\\\własne:} $\\\\left[ \\\\left( 0, \\\\  2, \\\\  \\\\left[ \\\\left[\\\\begin{matrix}-1\\\\\\\\1\\\\\\\\0\\\\end{matrix}\\\\right]\\\\right]\\\\right), \\\\  \\\\left( 1, \\\\  1, \\\\  \\\\left[ \\\\left[\\\\begin{matrix}0\\\\\\\\1\\\\\\\\0\\\\end{matrix}\\\\right]\\\\right]\\\\right)\\\\right]$,\\\\\\\\\\nMacierz nie jest diagonalizowalna.')"
      ]
     },
     "execution_count": 20,
     "metadata": {},
     "output_type": "execute_result"
    }
   ],
   "execution_count": 20
  },
  {
   "metadata": {
    "ExecuteTime": {
     "end_time": "2024-09-12T17:28:59.706837Z",
     "start_time": "2024-09-12T17:28:59.701325Z"
    },
    "tags": [
     "hide-input"
    ]
   },
   "cell_type": "code",
   "source": [
    "print(\"\\033[34m** Zadanie **\" + '*' * 81 + '\\033[0m')\n",
    "print(zadanie[0])\n",
    "print(\"\\033[34m*\\033[0m\" * 95)\n",
    "print(\"\\033[32m** Rozwiązanie **\" + '*' * 78 + '\\033[0m')\n",
    "print(zadanie[1])\n",
    "print(\"\\033[32m*\\033[0m\" * 95)"
   ],
   "id": "87f3d409eef6375c",
   "outputs": [
    {
     "name": "stdout",
     "output_type": "stream",
     "text": [
      "\u001B[34m** Zadanie ***********************************************************************************\u001B[0m\n",
      "Przeprowadzić diagonalizację macierzy (jeśli możliwa) \n",
      "\t\\[\n",
      "\t\t\\textnormal{A=} \\left[\\begin{matrix}0 & 0 & 2\\\\1 & 1 & 2\\\\0 & 0 & 0\\end{matrix}\\right]\n",
      "\t\\]\n",
      "\u001B[34m*\u001B[0m\u001B[34m*\u001B[0m\u001B[34m*\u001B[0m\u001B[34m*\u001B[0m\u001B[34m*\u001B[0m\u001B[34m*\u001B[0m\u001B[34m*\u001B[0m\u001B[34m*\u001B[0m\u001B[34m*\u001B[0m\u001B[34m*\u001B[0m\u001B[34m*\u001B[0m\u001B[34m*\u001B[0m\u001B[34m*\u001B[0m\u001B[34m*\u001B[0m\u001B[34m*\u001B[0m\u001B[34m*\u001B[0m\u001B[34m*\u001B[0m\u001B[34m*\u001B[0m\u001B[34m*\u001B[0m\u001B[34m*\u001B[0m\u001B[34m*\u001B[0m\u001B[34m*\u001B[0m\u001B[34m*\u001B[0m\u001B[34m*\u001B[0m\u001B[34m*\u001B[0m\u001B[34m*\u001B[0m\u001B[34m*\u001B[0m\u001B[34m*\u001B[0m\u001B[34m*\u001B[0m\u001B[34m*\u001B[0m\u001B[34m*\u001B[0m\u001B[34m*\u001B[0m\u001B[34m*\u001B[0m\u001B[34m*\u001B[0m\u001B[34m*\u001B[0m\u001B[34m*\u001B[0m\u001B[34m*\u001B[0m\u001B[34m*\u001B[0m\u001B[34m*\u001B[0m\u001B[34m*\u001B[0m\u001B[34m*\u001B[0m\u001B[34m*\u001B[0m\u001B[34m*\u001B[0m\u001B[34m*\u001B[0m\u001B[34m*\u001B[0m\u001B[34m*\u001B[0m\u001B[34m*\u001B[0m\u001B[34m*\u001B[0m\u001B[34m*\u001B[0m\u001B[34m*\u001B[0m\u001B[34m*\u001B[0m\u001B[34m*\u001B[0m\u001B[34m*\u001B[0m\u001B[34m*\u001B[0m\u001B[34m*\u001B[0m\u001B[34m*\u001B[0m\u001B[34m*\u001B[0m\u001B[34m*\u001B[0m\u001B[34m*\u001B[0m\u001B[34m*\u001B[0m\u001B[34m*\u001B[0m\u001B[34m*\u001B[0m\u001B[34m*\u001B[0m\u001B[34m*\u001B[0m\u001B[34m*\u001B[0m\u001B[34m*\u001B[0m\u001B[34m*\u001B[0m\u001B[34m*\u001B[0m\u001B[34m*\u001B[0m\u001B[34m*\u001B[0m\u001B[34m*\u001B[0m\u001B[34m*\u001B[0m\u001B[34m*\u001B[0m\u001B[34m*\u001B[0m\u001B[34m*\u001B[0m\u001B[34m*\u001B[0m\u001B[34m*\u001B[0m\u001B[34m*\u001B[0m\u001B[34m*\u001B[0m\u001B[34m*\u001B[0m\u001B[34m*\u001B[0m\u001B[34m*\u001B[0m\u001B[34m*\u001B[0m\u001B[34m*\u001B[0m\u001B[34m*\u001B[0m\u001B[34m*\u001B[0m\u001B[34m*\u001B[0m\u001B[34m*\u001B[0m\u001B[34m*\u001B[0m\u001B[34m*\u001B[0m\u001B[34m*\u001B[0m\u001B[34m*\u001B[0m\u001B[34m*\u001B[0m\u001B[34m*\u001B[0m\u001B[34m*\u001B[0m\n",
      "\u001B[32m** Rozwiązanie ********************************************************************************\u001B[0m\n",
      "$\\det\\left(\\lambda \\mathbb{I} - A \\right) = \\lambda^{3} - \\lambda^{2}$, \\quad \n",
      "Wartości własne:$ \\left\\{ 0 : 2, \\  1 : 1\\right\\}, $\\\\\n",
      "\\parbox{4em}{Wektory\\\\własne:} $\\left[ \\left( 0, \\  2, \\  \\left[ \\left[\\begin{matrix}-1\\\\1\\\\0\\end{matrix}\\right]\\right]\\right), \\  \\left( 1, \\  1, \\  \\left[ \\left[\\begin{matrix}0\\\\1\\\\0\\end{matrix}\\right]\\right]\\right)\\right]$,\\\\\n",
      "Macierz nie jest diagonalizowalna.\n",
      "\u001B[32m*\u001B[0m\u001B[32m*\u001B[0m\u001B[32m*\u001B[0m\u001B[32m*\u001B[0m\u001B[32m*\u001B[0m\u001B[32m*\u001B[0m\u001B[32m*\u001B[0m\u001B[32m*\u001B[0m\u001B[32m*\u001B[0m\u001B[32m*\u001B[0m\u001B[32m*\u001B[0m\u001B[32m*\u001B[0m\u001B[32m*\u001B[0m\u001B[32m*\u001B[0m\u001B[32m*\u001B[0m\u001B[32m*\u001B[0m\u001B[32m*\u001B[0m\u001B[32m*\u001B[0m\u001B[32m*\u001B[0m\u001B[32m*\u001B[0m\u001B[32m*\u001B[0m\u001B[32m*\u001B[0m\u001B[32m*\u001B[0m\u001B[32m*\u001B[0m\u001B[32m*\u001B[0m\u001B[32m*\u001B[0m\u001B[32m*\u001B[0m\u001B[32m*\u001B[0m\u001B[32m*\u001B[0m\u001B[32m*\u001B[0m\u001B[32m*\u001B[0m\u001B[32m*\u001B[0m\u001B[32m*\u001B[0m\u001B[32m*\u001B[0m\u001B[32m*\u001B[0m\u001B[32m*\u001B[0m\u001B[32m*\u001B[0m\u001B[32m*\u001B[0m\u001B[32m*\u001B[0m\u001B[32m*\u001B[0m\u001B[32m*\u001B[0m\u001B[32m*\u001B[0m\u001B[32m*\u001B[0m\u001B[32m*\u001B[0m\u001B[32m*\u001B[0m\u001B[32m*\u001B[0m\u001B[32m*\u001B[0m\u001B[32m*\u001B[0m\u001B[32m*\u001B[0m\u001B[32m*\u001B[0m\u001B[32m*\u001B[0m\u001B[32m*\u001B[0m\u001B[32m*\u001B[0m\u001B[32m*\u001B[0m\u001B[32m*\u001B[0m\u001B[32m*\u001B[0m\u001B[32m*\u001B[0m\u001B[32m*\u001B[0m\u001B[32m*\u001B[0m\u001B[32m*\u001B[0m\u001B[32m*\u001B[0m\u001B[32m*\u001B[0m\u001B[32m*\u001B[0m\u001B[32m*\u001B[0m\u001B[32m*\u001B[0m\u001B[32m*\u001B[0m\u001B[32m*\u001B[0m\u001B[32m*\u001B[0m\u001B[32m*\u001B[0m\u001B[32m*\u001B[0m\u001B[32m*\u001B[0m\u001B[32m*\u001B[0m\u001B[32m*\u001B[0m\u001B[32m*\u001B[0m\u001B[32m*\u001B[0m\u001B[32m*\u001B[0m\u001B[32m*\u001B[0m\u001B[32m*\u001B[0m\u001B[32m*\u001B[0m\u001B[32m*\u001B[0m\u001B[32m*\u001B[0m\u001B[32m*\u001B[0m\u001B[32m*\u001B[0m\u001B[32m*\u001B[0m\u001B[32m*\u001B[0m\u001B[32m*\u001B[0m\u001B[32m*\u001B[0m\u001B[32m*\u001B[0m\u001B[32m*\u001B[0m\u001B[32m*\u001B[0m\u001B[32m*\u001B[0m\u001B[32m*\u001B[0m\u001B[32m*\u001B[0m\u001B[32m*\u001B[0m\u001B[32m*\u001B[0m\n"
     ]
    }
   ],
   "execution_count": 21
  },
  {
   "metadata": {
    "ExecuteTime": {
     "end_time": "2024-09-12T17:29:01.835524Z",
     "start_time": "2024-09-12T17:29:01.147690Z"
    },
    "tags": [
     "hide-input"
    ]
   },
   "cell_type": "code",
   "source": [
    "for i in range(1, ile_zadan_przykladowych + 1):\n",
    "    zadanie = gz.diagonalizacja_macierzy(wymiar=choice([2, 3, 4]))\n",
    "    print(f\"\\033[34m** Zadanie {i} **\" + '*' * 80 + '\\033[0m')\n",
    "    display(Markdown(zadanie[0][:53]))\n",
    "    display(Latex(zadanie[0][53:]))\n",
    "    print(\"\\033[34m*\\033[0m\" * 95)\n",
    "    print(\"\\033[32m** Rozwiązanie **\" + '*' * 78 + '\\033[0m')\n",
    "    display(Latex(zadanie[1].split(', \\quad')[0].replace(\"$\", \"$$\")))\n",
    "    display(Markdown(\"Wartości własne\"))\n",
    "    display(Latex(\"$$\" + (zadanie[1].split(', \\quad')[1]).split(\"$\")[1] + \"$$\"))\n",
    "    display(Markdown(\"Wektory własne\"))\n",
    "    display(Latex(\"$$\" + (zadanie[1].split(', \\quad')[1]).split(\"$\")[3] + \"$$\"))\n",
    "    display(Markdown(\"Diagonalizacja:\"))\n",
    "    try:\n",
    "        display(Latex(\"$$\" + (zadanie[1].split(', \\quad')[1]).split(\"$\")[5]\n",
    "                      + '\\quad ' + (zadanie[1].split(', \\quad')[1]).split(\"$\")[7] + \"$$\"))\n",
    "    except Exception:\n",
    "        display(Markdown(\"Macierz nie jest diagonalizowalna\"))\n",
    "    print(\"\\033[32m*\\033[0m\" * 95)"
   ],
   "id": "a3c217bdd5614a04",
   "outputs": [
    {
     "name": "stdout",
     "output_type": "stream",
     "text": [
      "\u001B[34m** Zadanie 1 **********************************************************************************\u001B[0m\n"
     ]
    },
    {
     "data": {
      "text/plain": [
       "<IPython.core.display.Markdown object>"
      ],
      "text/markdown": "Przeprowadzić diagonalizację macierzy (jeśli możliwa)"
     },
     "metadata": {},
     "output_type": "display_data"
    },
    {
     "data": {
      "text/plain": [
       "<IPython.core.display.Latex object>"
      ],
      "text/latex": " \n\t\\[\n\t\t\\textnormal{A=} \\left[\\begin{matrix}1 & 3 & 3\\\\3 & 3 & 3\\\\-1 & 3 & 3\\end{matrix}\\right]\n\t\\]"
     },
     "metadata": {},
     "output_type": "display_data"
    },
    {
     "name": "stdout",
     "output_type": "stream",
     "text": [
      "\u001B[34m*\u001B[0m\u001B[34m*\u001B[0m\u001B[34m*\u001B[0m\u001B[34m*\u001B[0m\u001B[34m*\u001B[0m\u001B[34m*\u001B[0m\u001B[34m*\u001B[0m\u001B[34m*\u001B[0m\u001B[34m*\u001B[0m\u001B[34m*\u001B[0m\u001B[34m*\u001B[0m\u001B[34m*\u001B[0m\u001B[34m*\u001B[0m\u001B[34m*\u001B[0m\u001B[34m*\u001B[0m\u001B[34m*\u001B[0m\u001B[34m*\u001B[0m\u001B[34m*\u001B[0m\u001B[34m*\u001B[0m\u001B[34m*\u001B[0m\u001B[34m*\u001B[0m\u001B[34m*\u001B[0m\u001B[34m*\u001B[0m\u001B[34m*\u001B[0m\u001B[34m*\u001B[0m\u001B[34m*\u001B[0m\u001B[34m*\u001B[0m\u001B[34m*\u001B[0m\u001B[34m*\u001B[0m\u001B[34m*\u001B[0m\u001B[34m*\u001B[0m\u001B[34m*\u001B[0m\u001B[34m*\u001B[0m\u001B[34m*\u001B[0m\u001B[34m*\u001B[0m\u001B[34m*\u001B[0m\u001B[34m*\u001B[0m\u001B[34m*\u001B[0m\u001B[34m*\u001B[0m\u001B[34m*\u001B[0m\u001B[34m*\u001B[0m\u001B[34m*\u001B[0m\u001B[34m*\u001B[0m\u001B[34m*\u001B[0m\u001B[34m*\u001B[0m\u001B[34m*\u001B[0m\u001B[34m*\u001B[0m\u001B[34m*\u001B[0m\u001B[34m*\u001B[0m\u001B[34m*\u001B[0m\u001B[34m*\u001B[0m\u001B[34m*\u001B[0m\u001B[34m*\u001B[0m\u001B[34m*\u001B[0m\u001B[34m*\u001B[0m\u001B[34m*\u001B[0m\u001B[34m*\u001B[0m\u001B[34m*\u001B[0m\u001B[34m*\u001B[0m\u001B[34m*\u001B[0m\u001B[34m*\u001B[0m\u001B[34m*\u001B[0m\u001B[34m*\u001B[0m\u001B[34m*\u001B[0m\u001B[34m*\u001B[0m\u001B[34m*\u001B[0m\u001B[34m*\u001B[0m\u001B[34m*\u001B[0m\u001B[34m*\u001B[0m\u001B[34m*\u001B[0m\u001B[34m*\u001B[0m\u001B[34m*\u001B[0m\u001B[34m*\u001B[0m\u001B[34m*\u001B[0m\u001B[34m*\u001B[0m\u001B[34m*\u001B[0m\u001B[34m*\u001B[0m\u001B[34m*\u001B[0m\u001B[34m*\u001B[0m\u001B[34m*\u001B[0m\u001B[34m*\u001B[0m\u001B[34m*\u001B[0m\u001B[34m*\u001B[0m\u001B[34m*\u001B[0m\u001B[34m*\u001B[0m\u001B[34m*\u001B[0m\u001B[34m*\u001B[0m\u001B[34m*\u001B[0m\u001B[34m*\u001B[0m\u001B[34m*\u001B[0m\u001B[34m*\u001B[0m\u001B[34m*\u001B[0m\u001B[34m*\u001B[0m\u001B[34m*\u001B[0m\u001B[34m*\u001B[0m\n",
      "\u001B[32m** Rozwiązanie ********************************************************************************\u001B[0m\n"
     ]
    },
    {
     "data": {
      "text/plain": [
       "<IPython.core.display.Latex object>"
      ],
      "text/latex": "$$\\det\\left(\\lambda \\mathbb{I} - A \\right) = \\lambda^{3} - 7 \\lambda^{2}$$"
     },
     "metadata": {},
     "output_type": "display_data"
    },
    {
     "data": {
      "text/plain": [
       "<IPython.core.display.Markdown object>"
      ],
      "text/markdown": "Wartości własne"
     },
     "metadata": {},
     "output_type": "display_data"
    },
    {
     "data": {
      "text/plain": [
       "<IPython.core.display.Latex object>"
      ],
      "text/latex": "$$ \\left\\{ 0 : 2, \\  7 : 1\\right\\}, $$"
     },
     "metadata": {},
     "output_type": "display_data"
    },
    {
     "data": {
      "text/plain": [
       "<IPython.core.display.Markdown object>"
      ],
      "text/markdown": "Wektory własne"
     },
     "metadata": {},
     "output_type": "display_data"
    },
    {
     "data": {
      "text/plain": [
       "<IPython.core.display.Latex object>"
      ],
      "text/latex": "$$\\left[ \\left( 0, \\  2, \\  \\left[ \\left[\\begin{matrix}0\\\\-1\\\\1\\end{matrix}\\right]\\right]\\right), \\  \\left( 7, \\  1, \\  \\left[ \\left[\\begin{matrix}\\frac{7}{5}\\\\\\frac{9}{5}\\\\1\\end{matrix}\\right]\\right]\\right)\\right]$$"
     },
     "metadata": {},
     "output_type": "display_data"
    },
    {
     "data": {
      "text/plain": [
       "<IPython.core.display.Markdown object>"
      ],
      "text/markdown": "Diagonalizacja:"
     },
     "metadata": {},
     "output_type": "display_data"
    },
    {
     "data": {
      "text/plain": [
       "<IPython.core.display.Markdown object>"
      ],
      "text/markdown": "Macierz nie jest diagonalizowalna"
     },
     "metadata": {},
     "output_type": "display_data"
    },
    {
     "name": "stdout",
     "output_type": "stream",
     "text": [
      "\u001B[32m*\u001B[0m\u001B[32m*\u001B[0m\u001B[32m*\u001B[0m\u001B[32m*\u001B[0m\u001B[32m*\u001B[0m\u001B[32m*\u001B[0m\u001B[32m*\u001B[0m\u001B[32m*\u001B[0m\u001B[32m*\u001B[0m\u001B[32m*\u001B[0m\u001B[32m*\u001B[0m\u001B[32m*\u001B[0m\u001B[32m*\u001B[0m\u001B[32m*\u001B[0m\u001B[32m*\u001B[0m\u001B[32m*\u001B[0m\u001B[32m*\u001B[0m\u001B[32m*\u001B[0m\u001B[32m*\u001B[0m\u001B[32m*\u001B[0m\u001B[32m*\u001B[0m\u001B[32m*\u001B[0m\u001B[32m*\u001B[0m\u001B[32m*\u001B[0m\u001B[32m*\u001B[0m\u001B[32m*\u001B[0m\u001B[32m*\u001B[0m\u001B[32m*\u001B[0m\u001B[32m*\u001B[0m\u001B[32m*\u001B[0m\u001B[32m*\u001B[0m\u001B[32m*\u001B[0m\u001B[32m*\u001B[0m\u001B[32m*\u001B[0m\u001B[32m*\u001B[0m\u001B[32m*\u001B[0m\u001B[32m*\u001B[0m\u001B[32m*\u001B[0m\u001B[32m*\u001B[0m\u001B[32m*\u001B[0m\u001B[32m*\u001B[0m\u001B[32m*\u001B[0m\u001B[32m*\u001B[0m\u001B[32m*\u001B[0m\u001B[32m*\u001B[0m\u001B[32m*\u001B[0m\u001B[32m*\u001B[0m\u001B[32m*\u001B[0m\u001B[32m*\u001B[0m\u001B[32m*\u001B[0m\u001B[32m*\u001B[0m\u001B[32m*\u001B[0m\u001B[32m*\u001B[0m\u001B[32m*\u001B[0m\u001B[32m*\u001B[0m\u001B[32m*\u001B[0m\u001B[32m*\u001B[0m\u001B[32m*\u001B[0m\u001B[32m*\u001B[0m\u001B[32m*\u001B[0m\u001B[32m*\u001B[0m\u001B[32m*\u001B[0m\u001B[32m*\u001B[0m\u001B[32m*\u001B[0m\u001B[32m*\u001B[0m\u001B[32m*\u001B[0m\u001B[32m*\u001B[0m\u001B[32m*\u001B[0m\u001B[32m*\u001B[0m\u001B[32m*\u001B[0m\u001B[32m*\u001B[0m\u001B[32m*\u001B[0m\u001B[32m*\u001B[0m\u001B[32m*\u001B[0m\u001B[32m*\u001B[0m\u001B[32m*\u001B[0m\u001B[32m*\u001B[0m\u001B[32m*\u001B[0m\u001B[32m*\u001B[0m\u001B[32m*\u001B[0m\u001B[32m*\u001B[0m\u001B[32m*\u001B[0m\u001B[32m*\u001B[0m\u001B[32m*\u001B[0m\u001B[32m*\u001B[0m\u001B[32m*\u001B[0m\u001B[32m*\u001B[0m\u001B[32m*\u001B[0m\u001B[32m*\u001B[0m\u001B[32m*\u001B[0m\u001B[32m*\u001B[0m\u001B[32m*\u001B[0m\u001B[32m*\u001B[0m\u001B[32m*\u001B[0m\u001B[32m*\u001B[0m\n",
      "\u001B[34m** Zadanie 2 **********************************************************************************\u001B[0m\n"
     ]
    },
    {
     "data": {
      "text/plain": [
       "<IPython.core.display.Markdown object>"
      ],
      "text/markdown": "Przeprowadzić diagonalizację macierzy (jeśli możliwa)"
     },
     "metadata": {},
     "output_type": "display_data"
    },
    {
     "data": {
      "text/plain": [
       "<IPython.core.display.Latex object>"
      ],
      "text/latex": " \n\t\\[\n\t\t\\textnormal{A=} \\left[\\begin{matrix}2 & -2\\\\-1 & 1\\end{matrix}\\right]\n\t\\]"
     },
     "metadata": {},
     "output_type": "display_data"
    },
    {
     "name": "stdout",
     "output_type": "stream",
     "text": [
      "\u001B[34m*\u001B[0m\u001B[34m*\u001B[0m\u001B[34m*\u001B[0m\u001B[34m*\u001B[0m\u001B[34m*\u001B[0m\u001B[34m*\u001B[0m\u001B[34m*\u001B[0m\u001B[34m*\u001B[0m\u001B[34m*\u001B[0m\u001B[34m*\u001B[0m\u001B[34m*\u001B[0m\u001B[34m*\u001B[0m\u001B[34m*\u001B[0m\u001B[34m*\u001B[0m\u001B[34m*\u001B[0m\u001B[34m*\u001B[0m\u001B[34m*\u001B[0m\u001B[34m*\u001B[0m\u001B[34m*\u001B[0m\u001B[34m*\u001B[0m\u001B[34m*\u001B[0m\u001B[34m*\u001B[0m\u001B[34m*\u001B[0m\u001B[34m*\u001B[0m\u001B[34m*\u001B[0m\u001B[34m*\u001B[0m\u001B[34m*\u001B[0m\u001B[34m*\u001B[0m\u001B[34m*\u001B[0m\u001B[34m*\u001B[0m\u001B[34m*\u001B[0m\u001B[34m*\u001B[0m\u001B[34m*\u001B[0m\u001B[34m*\u001B[0m\u001B[34m*\u001B[0m\u001B[34m*\u001B[0m\u001B[34m*\u001B[0m\u001B[34m*\u001B[0m\u001B[34m*\u001B[0m\u001B[34m*\u001B[0m\u001B[34m*\u001B[0m\u001B[34m*\u001B[0m\u001B[34m*\u001B[0m\u001B[34m*\u001B[0m\u001B[34m*\u001B[0m\u001B[34m*\u001B[0m\u001B[34m*\u001B[0m\u001B[34m*\u001B[0m\u001B[34m*\u001B[0m\u001B[34m*\u001B[0m\u001B[34m*\u001B[0m\u001B[34m*\u001B[0m\u001B[34m*\u001B[0m\u001B[34m*\u001B[0m\u001B[34m*\u001B[0m\u001B[34m*\u001B[0m\u001B[34m*\u001B[0m\u001B[34m*\u001B[0m\u001B[34m*\u001B[0m\u001B[34m*\u001B[0m\u001B[34m*\u001B[0m\u001B[34m*\u001B[0m\u001B[34m*\u001B[0m\u001B[34m*\u001B[0m\u001B[34m*\u001B[0m\u001B[34m*\u001B[0m\u001B[34m*\u001B[0m\u001B[34m*\u001B[0m\u001B[34m*\u001B[0m\u001B[34m*\u001B[0m\u001B[34m*\u001B[0m\u001B[34m*\u001B[0m\u001B[34m*\u001B[0m\u001B[34m*\u001B[0m\u001B[34m*\u001B[0m\u001B[34m*\u001B[0m\u001B[34m*\u001B[0m\u001B[34m*\u001B[0m\u001B[34m*\u001B[0m\u001B[34m*\u001B[0m\u001B[34m*\u001B[0m\u001B[34m*\u001B[0m\u001B[34m*\u001B[0m\u001B[34m*\u001B[0m\u001B[34m*\u001B[0m\u001B[34m*\u001B[0m\u001B[34m*\u001B[0m\u001B[34m*\u001B[0m\u001B[34m*\u001B[0m\u001B[34m*\u001B[0m\u001B[34m*\u001B[0m\u001B[34m*\u001B[0m\u001B[34m*\u001B[0m\u001B[34m*\u001B[0m\u001B[34m*\u001B[0m\n",
      "\u001B[32m** Rozwiązanie ********************************************************************************\u001B[0m\n"
     ]
    },
    {
     "data": {
      "text/plain": [
       "<IPython.core.display.Latex object>"
      ],
      "text/latex": "$$\\det\\left(\\lambda \\mathbb{I} - A \\right) = \\lambda^{2} - 3 \\lambda$$"
     },
     "metadata": {},
     "output_type": "display_data"
    },
    {
     "data": {
      "text/plain": [
       "<IPython.core.display.Markdown object>"
      ],
      "text/markdown": "Wartości własne"
     },
     "metadata": {},
     "output_type": "display_data"
    },
    {
     "data": {
      "text/plain": [
       "<IPython.core.display.Latex object>"
      ],
      "text/latex": "$$ \\left\\{ 0 : 1, \\  3 : 1\\right\\}, $$"
     },
     "metadata": {},
     "output_type": "display_data"
    },
    {
     "data": {
      "text/plain": [
       "<IPython.core.display.Markdown object>"
      ],
      "text/markdown": "Wektory własne"
     },
     "metadata": {},
     "output_type": "display_data"
    },
    {
     "data": {
      "text/plain": [
       "<IPython.core.display.Latex object>"
      ],
      "text/latex": "$$\\left[ \\left( 0, \\  1, \\  \\left[ \\left[\\begin{matrix}1\\\\1\\end{matrix}\\right]\\right]\\right), \\  \\left( 3, \\  1, \\  \\left[ \\left[\\begin{matrix}-2\\\\1\\end{matrix}\\right]\\right]\\right)\\right]$$"
     },
     "metadata": {},
     "output_type": "display_data"
    },
    {
     "data": {
      "text/plain": [
       "<IPython.core.display.Markdown object>"
      ],
      "text/markdown": "Diagonalizacja:"
     },
     "metadata": {},
     "output_type": "display_data"
    },
    {
     "data": {
      "text/plain": [
       "<IPython.core.display.Latex object>"
      ],
      "text/latex": "$$A = P\\,D\\,P^{-1}: \\quad P=\\left[\\begin{matrix}1 & -2\\\\1 & 1\\end{matrix}\\right],\\quad D=\\left[\\begin{matrix}0 & 0\\\\0 & 3\\end{matrix}\\right]$$"
     },
     "metadata": {},
     "output_type": "display_data"
    },
    {
     "name": "stdout",
     "output_type": "stream",
     "text": [
      "\u001B[32m*\u001B[0m\u001B[32m*\u001B[0m\u001B[32m*\u001B[0m\u001B[32m*\u001B[0m\u001B[32m*\u001B[0m\u001B[32m*\u001B[0m\u001B[32m*\u001B[0m\u001B[32m*\u001B[0m\u001B[32m*\u001B[0m\u001B[32m*\u001B[0m\u001B[32m*\u001B[0m\u001B[32m*\u001B[0m\u001B[32m*\u001B[0m\u001B[32m*\u001B[0m\u001B[32m*\u001B[0m\u001B[32m*\u001B[0m\u001B[32m*\u001B[0m\u001B[32m*\u001B[0m\u001B[32m*\u001B[0m\u001B[32m*\u001B[0m\u001B[32m*\u001B[0m\u001B[32m*\u001B[0m\u001B[32m*\u001B[0m\u001B[32m*\u001B[0m\u001B[32m*\u001B[0m\u001B[32m*\u001B[0m\u001B[32m*\u001B[0m\u001B[32m*\u001B[0m\u001B[32m*\u001B[0m\u001B[32m*\u001B[0m\u001B[32m*\u001B[0m\u001B[32m*\u001B[0m\u001B[32m*\u001B[0m\u001B[32m*\u001B[0m\u001B[32m*\u001B[0m\u001B[32m*\u001B[0m\u001B[32m*\u001B[0m\u001B[32m*\u001B[0m\u001B[32m*\u001B[0m\u001B[32m*\u001B[0m\u001B[32m*\u001B[0m\u001B[32m*\u001B[0m\u001B[32m*\u001B[0m\u001B[32m*\u001B[0m\u001B[32m*\u001B[0m\u001B[32m*\u001B[0m\u001B[32m*\u001B[0m\u001B[32m*\u001B[0m\u001B[32m*\u001B[0m\u001B[32m*\u001B[0m\u001B[32m*\u001B[0m\u001B[32m*\u001B[0m\u001B[32m*\u001B[0m\u001B[32m*\u001B[0m\u001B[32m*\u001B[0m\u001B[32m*\u001B[0m\u001B[32m*\u001B[0m\u001B[32m*\u001B[0m\u001B[32m*\u001B[0m\u001B[32m*\u001B[0m\u001B[32m*\u001B[0m\u001B[32m*\u001B[0m\u001B[32m*\u001B[0m\u001B[32m*\u001B[0m\u001B[32m*\u001B[0m\u001B[32m*\u001B[0m\u001B[32m*\u001B[0m\u001B[32m*\u001B[0m\u001B[32m*\u001B[0m\u001B[32m*\u001B[0m\u001B[32m*\u001B[0m\u001B[32m*\u001B[0m\u001B[32m*\u001B[0m\u001B[32m*\u001B[0m\u001B[32m*\u001B[0m\u001B[32m*\u001B[0m\u001B[32m*\u001B[0m\u001B[32m*\u001B[0m\u001B[32m*\u001B[0m\u001B[32m*\u001B[0m\u001B[32m*\u001B[0m\u001B[32m*\u001B[0m\u001B[32m*\u001B[0m\u001B[32m*\u001B[0m\u001B[32m*\u001B[0m\u001B[32m*\u001B[0m\u001B[32m*\u001B[0m\u001B[32m*\u001B[0m\u001B[32m*\u001B[0m\u001B[32m*\u001B[0m\u001B[32m*\u001B[0m\u001B[32m*\u001B[0m\u001B[32m*\u001B[0m\u001B[32m*\u001B[0m\u001B[32m*\u001B[0m\n",
      "\u001B[34m** Zadanie 3 **********************************************************************************\u001B[0m\n"
     ]
    },
    {
     "data": {
      "text/plain": [
       "<IPython.core.display.Markdown object>"
      ],
      "text/markdown": "Przeprowadzić diagonalizację macierzy (jeśli możliwa)"
     },
     "metadata": {},
     "output_type": "display_data"
    },
    {
     "data": {
      "text/plain": [
       "<IPython.core.display.Latex object>"
      ],
      "text/latex": " \n\t\\[\n\t\t\\textnormal{A=} \\left[\\begin{matrix}1 & 0\\\\3 & -2\\end{matrix}\\right]\n\t\\]"
     },
     "metadata": {},
     "output_type": "display_data"
    },
    {
     "name": "stdout",
     "output_type": "stream",
     "text": [
      "\u001B[34m*\u001B[0m\u001B[34m*\u001B[0m\u001B[34m*\u001B[0m\u001B[34m*\u001B[0m\u001B[34m*\u001B[0m\u001B[34m*\u001B[0m\u001B[34m*\u001B[0m\u001B[34m*\u001B[0m\u001B[34m*\u001B[0m\u001B[34m*\u001B[0m\u001B[34m*\u001B[0m\u001B[34m*\u001B[0m\u001B[34m*\u001B[0m\u001B[34m*\u001B[0m\u001B[34m*\u001B[0m\u001B[34m*\u001B[0m\u001B[34m*\u001B[0m\u001B[34m*\u001B[0m\u001B[34m*\u001B[0m\u001B[34m*\u001B[0m\u001B[34m*\u001B[0m\u001B[34m*\u001B[0m\u001B[34m*\u001B[0m\u001B[34m*\u001B[0m\u001B[34m*\u001B[0m\u001B[34m*\u001B[0m\u001B[34m*\u001B[0m\u001B[34m*\u001B[0m\u001B[34m*\u001B[0m\u001B[34m*\u001B[0m\u001B[34m*\u001B[0m\u001B[34m*\u001B[0m\u001B[34m*\u001B[0m\u001B[34m*\u001B[0m\u001B[34m*\u001B[0m\u001B[34m*\u001B[0m\u001B[34m*\u001B[0m\u001B[34m*\u001B[0m\u001B[34m*\u001B[0m\u001B[34m*\u001B[0m\u001B[34m*\u001B[0m\u001B[34m*\u001B[0m\u001B[34m*\u001B[0m\u001B[34m*\u001B[0m\u001B[34m*\u001B[0m\u001B[34m*\u001B[0m\u001B[34m*\u001B[0m\u001B[34m*\u001B[0m\u001B[34m*\u001B[0m\u001B[34m*\u001B[0m\u001B[34m*\u001B[0m\u001B[34m*\u001B[0m\u001B[34m*\u001B[0m\u001B[34m*\u001B[0m\u001B[34m*\u001B[0m\u001B[34m*\u001B[0m\u001B[34m*\u001B[0m\u001B[34m*\u001B[0m\u001B[34m*\u001B[0m\u001B[34m*\u001B[0m\u001B[34m*\u001B[0m\u001B[34m*\u001B[0m\u001B[34m*\u001B[0m\u001B[34m*\u001B[0m\u001B[34m*\u001B[0m\u001B[34m*\u001B[0m\u001B[34m*\u001B[0m\u001B[34m*\u001B[0m\u001B[34m*\u001B[0m\u001B[34m*\u001B[0m\u001B[34m*\u001B[0m\u001B[34m*\u001B[0m\u001B[34m*\u001B[0m\u001B[34m*\u001B[0m\u001B[34m*\u001B[0m\u001B[34m*\u001B[0m\u001B[34m*\u001B[0m\u001B[34m*\u001B[0m\u001B[34m*\u001B[0m\u001B[34m*\u001B[0m\u001B[34m*\u001B[0m\u001B[34m*\u001B[0m\u001B[34m*\u001B[0m\u001B[34m*\u001B[0m\u001B[34m*\u001B[0m\u001B[34m*\u001B[0m\u001B[34m*\u001B[0m\u001B[34m*\u001B[0m\u001B[34m*\u001B[0m\u001B[34m*\u001B[0m\u001B[34m*\u001B[0m\u001B[34m*\u001B[0m\u001B[34m*\u001B[0m\u001B[34m*\u001B[0m\u001B[34m*\u001B[0m\n",
      "\u001B[32m** Rozwiązanie ********************************************************************************\u001B[0m\n"
     ]
    },
    {
     "data": {
      "text/plain": [
       "<IPython.core.display.Latex object>"
      ],
      "text/latex": "$$\\det\\left(\\lambda \\mathbb{I} - A \\right) = \\lambda^{2} + \\lambda - 2$$"
     },
     "metadata": {},
     "output_type": "display_data"
    },
    {
     "data": {
      "text/plain": [
       "<IPython.core.display.Markdown object>"
      ],
      "text/markdown": "Wartości własne"
     },
     "metadata": {},
     "output_type": "display_data"
    },
    {
     "data": {
      "text/plain": [
       "<IPython.core.display.Latex object>"
      ],
      "text/latex": "$$ \\left\\{ -2 : 1, \\  1 : 1\\right\\}, $$"
     },
     "metadata": {},
     "output_type": "display_data"
    },
    {
     "data": {
      "text/plain": [
       "<IPython.core.display.Markdown object>"
      ],
      "text/markdown": "Wektory własne"
     },
     "metadata": {},
     "output_type": "display_data"
    },
    {
     "data": {
      "text/plain": [
       "<IPython.core.display.Latex object>"
      ],
      "text/latex": "$$\\left[ \\left( -2, \\  1, \\  \\left[ \\left[\\begin{matrix}0\\\\1\\end{matrix}\\right]\\right]\\right), \\  \\left( 1, \\  1, \\  \\left[ \\left[\\begin{matrix}1\\\\1\\end{matrix}\\right]\\right]\\right)\\right]$$"
     },
     "metadata": {},
     "output_type": "display_data"
    },
    {
     "data": {
      "text/plain": [
       "<IPython.core.display.Markdown object>"
      ],
      "text/markdown": "Diagonalizacja:"
     },
     "metadata": {},
     "output_type": "display_data"
    },
    {
     "data": {
      "text/plain": [
       "<IPython.core.display.Latex object>"
      ],
      "text/latex": "$$A = P\\,D\\,P^{-1}: \\quad P=\\left[\\begin{matrix}0 & 1\\\\1 & 1\\end{matrix}\\right],\\quad D=\\left[\\begin{matrix}-2 & 0\\\\0 & 1\\end{matrix}\\right]$$"
     },
     "metadata": {},
     "output_type": "display_data"
    },
    {
     "name": "stdout",
     "output_type": "stream",
     "text": [
      "\u001B[32m*\u001B[0m\u001B[32m*\u001B[0m\u001B[32m*\u001B[0m\u001B[32m*\u001B[0m\u001B[32m*\u001B[0m\u001B[32m*\u001B[0m\u001B[32m*\u001B[0m\u001B[32m*\u001B[0m\u001B[32m*\u001B[0m\u001B[32m*\u001B[0m\u001B[32m*\u001B[0m\u001B[32m*\u001B[0m\u001B[32m*\u001B[0m\u001B[32m*\u001B[0m\u001B[32m*\u001B[0m\u001B[32m*\u001B[0m\u001B[32m*\u001B[0m\u001B[32m*\u001B[0m\u001B[32m*\u001B[0m\u001B[32m*\u001B[0m\u001B[32m*\u001B[0m\u001B[32m*\u001B[0m\u001B[32m*\u001B[0m\u001B[32m*\u001B[0m\u001B[32m*\u001B[0m\u001B[32m*\u001B[0m\u001B[32m*\u001B[0m\u001B[32m*\u001B[0m\u001B[32m*\u001B[0m\u001B[32m*\u001B[0m\u001B[32m*\u001B[0m\u001B[32m*\u001B[0m\u001B[32m*\u001B[0m\u001B[32m*\u001B[0m\u001B[32m*\u001B[0m\u001B[32m*\u001B[0m\u001B[32m*\u001B[0m\u001B[32m*\u001B[0m\u001B[32m*\u001B[0m\u001B[32m*\u001B[0m\u001B[32m*\u001B[0m\u001B[32m*\u001B[0m\u001B[32m*\u001B[0m\u001B[32m*\u001B[0m\u001B[32m*\u001B[0m\u001B[32m*\u001B[0m\u001B[32m*\u001B[0m\u001B[32m*\u001B[0m\u001B[32m*\u001B[0m\u001B[32m*\u001B[0m\u001B[32m*\u001B[0m\u001B[32m*\u001B[0m\u001B[32m*\u001B[0m\u001B[32m*\u001B[0m\u001B[32m*\u001B[0m\u001B[32m*\u001B[0m\u001B[32m*\u001B[0m\u001B[32m*\u001B[0m\u001B[32m*\u001B[0m\u001B[32m*\u001B[0m\u001B[32m*\u001B[0m\u001B[32m*\u001B[0m\u001B[32m*\u001B[0m\u001B[32m*\u001B[0m\u001B[32m*\u001B[0m\u001B[32m*\u001B[0m\u001B[32m*\u001B[0m\u001B[32m*\u001B[0m\u001B[32m*\u001B[0m\u001B[32m*\u001B[0m\u001B[32m*\u001B[0m\u001B[32m*\u001B[0m\u001B[32m*\u001B[0m\u001B[32m*\u001B[0m\u001B[32m*\u001B[0m\u001B[32m*\u001B[0m\u001B[32m*\u001B[0m\u001B[32m*\u001B[0m\u001B[32m*\u001B[0m\u001B[32m*\u001B[0m\u001B[32m*\u001B[0m\u001B[32m*\u001B[0m\u001B[32m*\u001B[0m\u001B[32m*\u001B[0m\u001B[32m*\u001B[0m\u001B[32m*\u001B[0m\u001B[32m*\u001B[0m\u001B[32m*\u001B[0m\u001B[32m*\u001B[0m\u001B[32m*\u001B[0m\u001B[32m*\u001B[0m\u001B[32m*\u001B[0m\u001B[32m*\u001B[0m\u001B[32m*\u001B[0m\u001B[32m*\u001B[0m\n",
      "\u001B[34m** Zadanie 4 **********************************************************************************\u001B[0m\n"
     ]
    },
    {
     "data": {
      "text/plain": [
       "<IPython.core.display.Markdown object>"
      ],
      "text/markdown": "Przeprowadzić diagonalizację macierzy (jeśli możliwa)"
     },
     "metadata": {},
     "output_type": "display_data"
    },
    {
     "data": {
      "text/plain": [
       "<IPython.core.display.Latex object>"
      ],
      "text/latex": " \n\t\\[\n\t\t\\textnormal{A=} \\left[\\begin{matrix}1 & -2\\\\0 & 2\\end{matrix}\\right]\n\t\\]"
     },
     "metadata": {},
     "output_type": "display_data"
    },
    {
     "name": "stdout",
     "output_type": "stream",
     "text": [
      "\u001B[34m*\u001B[0m\u001B[34m*\u001B[0m\u001B[34m*\u001B[0m\u001B[34m*\u001B[0m\u001B[34m*\u001B[0m\u001B[34m*\u001B[0m\u001B[34m*\u001B[0m\u001B[34m*\u001B[0m\u001B[34m*\u001B[0m\u001B[34m*\u001B[0m\u001B[34m*\u001B[0m\u001B[34m*\u001B[0m\u001B[34m*\u001B[0m\u001B[34m*\u001B[0m\u001B[34m*\u001B[0m\u001B[34m*\u001B[0m\u001B[34m*\u001B[0m\u001B[34m*\u001B[0m\u001B[34m*\u001B[0m\u001B[34m*\u001B[0m\u001B[34m*\u001B[0m\u001B[34m*\u001B[0m\u001B[34m*\u001B[0m\u001B[34m*\u001B[0m\u001B[34m*\u001B[0m\u001B[34m*\u001B[0m\u001B[34m*\u001B[0m\u001B[34m*\u001B[0m\u001B[34m*\u001B[0m\u001B[34m*\u001B[0m\u001B[34m*\u001B[0m\u001B[34m*\u001B[0m\u001B[34m*\u001B[0m\u001B[34m*\u001B[0m\u001B[34m*\u001B[0m\u001B[34m*\u001B[0m\u001B[34m*\u001B[0m\u001B[34m*\u001B[0m\u001B[34m*\u001B[0m\u001B[34m*\u001B[0m\u001B[34m*\u001B[0m\u001B[34m*\u001B[0m\u001B[34m*\u001B[0m\u001B[34m*\u001B[0m\u001B[34m*\u001B[0m\u001B[34m*\u001B[0m\u001B[34m*\u001B[0m\u001B[34m*\u001B[0m\u001B[34m*\u001B[0m\u001B[34m*\u001B[0m\u001B[34m*\u001B[0m\u001B[34m*\u001B[0m\u001B[34m*\u001B[0m\u001B[34m*\u001B[0m\u001B[34m*\u001B[0m\u001B[34m*\u001B[0m\u001B[34m*\u001B[0m\u001B[34m*\u001B[0m\u001B[34m*\u001B[0m\u001B[34m*\u001B[0m\u001B[34m*\u001B[0m\u001B[34m*\u001B[0m\u001B[34m*\u001B[0m\u001B[34m*\u001B[0m\u001B[34m*\u001B[0m\u001B[34m*\u001B[0m\u001B[34m*\u001B[0m\u001B[34m*\u001B[0m\u001B[34m*\u001B[0m\u001B[34m*\u001B[0m\u001B[34m*\u001B[0m\u001B[34m*\u001B[0m\u001B[34m*\u001B[0m\u001B[34m*\u001B[0m\u001B[34m*\u001B[0m\u001B[34m*\u001B[0m\u001B[34m*\u001B[0m\u001B[34m*\u001B[0m\u001B[34m*\u001B[0m\u001B[34m*\u001B[0m\u001B[34m*\u001B[0m\u001B[34m*\u001B[0m\u001B[34m*\u001B[0m\u001B[34m*\u001B[0m\u001B[34m*\u001B[0m\u001B[34m*\u001B[0m\u001B[34m*\u001B[0m\u001B[34m*\u001B[0m\u001B[34m*\u001B[0m\u001B[34m*\u001B[0m\u001B[34m*\u001B[0m\u001B[34m*\u001B[0m\u001B[34m*\u001B[0m\u001B[34m*\u001B[0m\u001B[34m*\u001B[0m\n",
      "\u001B[32m** Rozwiązanie ********************************************************************************\u001B[0m\n"
     ]
    },
    {
     "data": {
      "text/plain": [
       "<IPython.core.display.Latex object>"
      ],
      "text/latex": "$$\\det\\left(\\lambda \\mathbb{I} - A \\right) = \\lambda^{2} - 3 \\lambda + 2$$"
     },
     "metadata": {},
     "output_type": "display_data"
    },
    {
     "data": {
      "text/plain": [
       "<IPython.core.display.Markdown object>"
      ],
      "text/markdown": "Wartości własne"
     },
     "metadata": {},
     "output_type": "display_data"
    },
    {
     "data": {
      "text/plain": [
       "<IPython.core.display.Latex object>"
      ],
      "text/latex": "$$ \\left\\{ 1 : 1, \\  2 : 1\\right\\}, $$"
     },
     "metadata": {},
     "output_type": "display_data"
    },
    {
     "data": {
      "text/plain": [
       "<IPython.core.display.Markdown object>"
      ],
      "text/markdown": "Wektory własne"
     },
     "metadata": {},
     "output_type": "display_data"
    },
    {
     "data": {
      "text/plain": [
       "<IPython.core.display.Latex object>"
      ],
      "text/latex": "$$\\left[ \\left( 1, \\  1, \\  \\left[ \\left[\\begin{matrix}1\\\\0\\end{matrix}\\right]\\right]\\right), \\  \\left( 2, \\  1, \\  \\left[ \\left[\\begin{matrix}-2\\\\1\\end{matrix}\\right]\\right]\\right)\\right]$$"
     },
     "metadata": {},
     "output_type": "display_data"
    },
    {
     "data": {
      "text/plain": [
       "<IPython.core.display.Markdown object>"
      ],
      "text/markdown": "Diagonalizacja:"
     },
     "metadata": {},
     "output_type": "display_data"
    },
    {
     "data": {
      "text/plain": [
       "<IPython.core.display.Latex object>"
      ],
      "text/latex": "$$A = P\\,D\\,P^{-1}: \\quad P=\\left[\\begin{matrix}1 & -2\\\\0 & 1\\end{matrix}\\right],\\quad D=\\left[\\begin{matrix}1 & 0\\\\0 & 2\\end{matrix}\\right]$$"
     },
     "metadata": {},
     "output_type": "display_data"
    },
    {
     "name": "stdout",
     "output_type": "stream",
     "text": [
      "\u001B[32m*\u001B[0m\u001B[32m*\u001B[0m\u001B[32m*\u001B[0m\u001B[32m*\u001B[0m\u001B[32m*\u001B[0m\u001B[32m*\u001B[0m\u001B[32m*\u001B[0m\u001B[32m*\u001B[0m\u001B[32m*\u001B[0m\u001B[32m*\u001B[0m\u001B[32m*\u001B[0m\u001B[32m*\u001B[0m\u001B[32m*\u001B[0m\u001B[32m*\u001B[0m\u001B[32m*\u001B[0m\u001B[32m*\u001B[0m\u001B[32m*\u001B[0m\u001B[32m*\u001B[0m\u001B[32m*\u001B[0m\u001B[32m*\u001B[0m\u001B[32m*\u001B[0m\u001B[32m*\u001B[0m\u001B[32m*\u001B[0m\u001B[32m*\u001B[0m\u001B[32m*\u001B[0m\u001B[32m*\u001B[0m\u001B[32m*\u001B[0m\u001B[32m*\u001B[0m\u001B[32m*\u001B[0m\u001B[32m*\u001B[0m\u001B[32m*\u001B[0m\u001B[32m*\u001B[0m\u001B[32m*\u001B[0m\u001B[32m*\u001B[0m\u001B[32m*\u001B[0m\u001B[32m*\u001B[0m\u001B[32m*\u001B[0m\u001B[32m*\u001B[0m\u001B[32m*\u001B[0m\u001B[32m*\u001B[0m\u001B[32m*\u001B[0m\u001B[32m*\u001B[0m\u001B[32m*\u001B[0m\u001B[32m*\u001B[0m\u001B[32m*\u001B[0m\u001B[32m*\u001B[0m\u001B[32m*\u001B[0m\u001B[32m*\u001B[0m\u001B[32m*\u001B[0m\u001B[32m*\u001B[0m\u001B[32m*\u001B[0m\u001B[32m*\u001B[0m\u001B[32m*\u001B[0m\u001B[32m*\u001B[0m\u001B[32m*\u001B[0m\u001B[32m*\u001B[0m\u001B[32m*\u001B[0m\u001B[32m*\u001B[0m\u001B[32m*\u001B[0m\u001B[32m*\u001B[0m\u001B[32m*\u001B[0m\u001B[32m*\u001B[0m\u001B[32m*\u001B[0m\u001B[32m*\u001B[0m\u001B[32m*\u001B[0m\u001B[32m*\u001B[0m\u001B[32m*\u001B[0m\u001B[32m*\u001B[0m\u001B[32m*\u001B[0m\u001B[32m*\u001B[0m\u001B[32m*\u001B[0m\u001B[32m*\u001B[0m\u001B[32m*\u001B[0m\u001B[32m*\u001B[0m\u001B[32m*\u001B[0m\u001B[32m*\u001B[0m\u001B[32m*\u001B[0m\u001B[32m*\u001B[0m\u001B[32m*\u001B[0m\u001B[32m*\u001B[0m\u001B[32m*\u001B[0m\u001B[32m*\u001B[0m\u001B[32m*\u001B[0m\u001B[32m*\u001B[0m\u001B[32m*\u001B[0m\u001B[32m*\u001B[0m\u001B[32m*\u001B[0m\u001B[32m*\u001B[0m\u001B[32m*\u001B[0m\u001B[32m*\u001B[0m\u001B[32m*\u001B[0m\u001B[32m*\u001B[0m\u001B[32m*\u001B[0m\u001B[32m*\u001B[0m\u001B[32m*\u001B[0m\n",
      "\u001B[34m** Zadanie 5 **********************************************************************************\u001B[0m\n"
     ]
    },
    {
     "data": {
      "text/plain": [
       "<IPython.core.display.Markdown object>"
      ],
      "text/markdown": "Przeprowadzić diagonalizację macierzy (jeśli możliwa)"
     },
     "metadata": {},
     "output_type": "display_data"
    },
    {
     "data": {
      "text/plain": [
       "<IPython.core.display.Latex object>"
      ],
      "text/latex": " \n\t\\[\n\t\t\\textnormal{A=} \\left[\\begin{matrix}2 & 2\\\\-2 & -2\\end{matrix}\\right]\n\t\\]"
     },
     "metadata": {},
     "output_type": "display_data"
    },
    {
     "name": "stdout",
     "output_type": "stream",
     "text": [
      "\u001B[34m*\u001B[0m\u001B[34m*\u001B[0m\u001B[34m*\u001B[0m\u001B[34m*\u001B[0m\u001B[34m*\u001B[0m\u001B[34m*\u001B[0m\u001B[34m*\u001B[0m\u001B[34m*\u001B[0m\u001B[34m*\u001B[0m\u001B[34m*\u001B[0m\u001B[34m*\u001B[0m\u001B[34m*\u001B[0m\u001B[34m*\u001B[0m\u001B[34m*\u001B[0m\u001B[34m*\u001B[0m\u001B[34m*\u001B[0m\u001B[34m*\u001B[0m\u001B[34m*\u001B[0m\u001B[34m*\u001B[0m\u001B[34m*\u001B[0m\u001B[34m*\u001B[0m\u001B[34m*\u001B[0m\u001B[34m*\u001B[0m\u001B[34m*\u001B[0m\u001B[34m*\u001B[0m\u001B[34m*\u001B[0m\u001B[34m*\u001B[0m\u001B[34m*\u001B[0m\u001B[34m*\u001B[0m\u001B[34m*\u001B[0m\u001B[34m*\u001B[0m\u001B[34m*\u001B[0m\u001B[34m*\u001B[0m\u001B[34m*\u001B[0m\u001B[34m*\u001B[0m\u001B[34m*\u001B[0m\u001B[34m*\u001B[0m\u001B[34m*\u001B[0m\u001B[34m*\u001B[0m\u001B[34m*\u001B[0m\u001B[34m*\u001B[0m\u001B[34m*\u001B[0m\u001B[34m*\u001B[0m\u001B[34m*\u001B[0m\u001B[34m*\u001B[0m\u001B[34m*\u001B[0m\u001B[34m*\u001B[0m\u001B[34m*\u001B[0m\u001B[34m*\u001B[0m\u001B[34m*\u001B[0m\u001B[34m*\u001B[0m\u001B[34m*\u001B[0m\u001B[34m*\u001B[0m\u001B[34m*\u001B[0m\u001B[34m*\u001B[0m\u001B[34m*\u001B[0m\u001B[34m*\u001B[0m\u001B[34m*\u001B[0m\u001B[34m*\u001B[0m\u001B[34m*\u001B[0m\u001B[34m*\u001B[0m\u001B[34m*\u001B[0m\u001B[34m*\u001B[0m\u001B[34m*\u001B[0m\u001B[34m*\u001B[0m\u001B[34m*\u001B[0m\u001B[34m*\u001B[0m\u001B[34m*\u001B[0m\u001B[34m*\u001B[0m\u001B[34m*\u001B[0m\u001B[34m*\u001B[0m\u001B[34m*\u001B[0m\u001B[34m*\u001B[0m\u001B[34m*\u001B[0m\u001B[34m*\u001B[0m\u001B[34m*\u001B[0m\u001B[34m*\u001B[0m\u001B[34m*\u001B[0m\u001B[34m*\u001B[0m\u001B[34m*\u001B[0m\u001B[34m*\u001B[0m\u001B[34m*\u001B[0m\u001B[34m*\u001B[0m\u001B[34m*\u001B[0m\u001B[34m*\u001B[0m\u001B[34m*\u001B[0m\u001B[34m*\u001B[0m\u001B[34m*\u001B[0m\u001B[34m*\u001B[0m\u001B[34m*\u001B[0m\u001B[34m*\u001B[0m\u001B[34m*\u001B[0m\u001B[34m*\u001B[0m\u001B[34m*\u001B[0m\u001B[34m*\u001B[0m\n",
      "\u001B[32m** Rozwiązanie ********************************************************************************\u001B[0m\n"
     ]
    },
    {
     "data": {
      "text/plain": [
       "<IPython.core.display.Latex object>"
      ],
      "text/latex": "$$\\det\\left(\\lambda \\mathbb{I} - A \\right) = \\lambda^{2}$$"
     },
     "metadata": {},
     "output_type": "display_data"
    },
    {
     "data": {
      "text/plain": [
       "<IPython.core.display.Markdown object>"
      ],
      "text/markdown": "Wartości własne"
     },
     "metadata": {},
     "output_type": "display_data"
    },
    {
     "data": {
      "text/plain": [
       "<IPython.core.display.Latex object>"
      ],
      "text/latex": "$$ \\left\\{ 0 : 2\\right\\}, $$"
     },
     "metadata": {},
     "output_type": "display_data"
    },
    {
     "data": {
      "text/plain": [
       "<IPython.core.display.Markdown object>"
      ],
      "text/markdown": "Wektory własne"
     },
     "metadata": {},
     "output_type": "display_data"
    },
    {
     "data": {
      "text/plain": [
       "<IPython.core.display.Latex object>"
      ],
      "text/latex": "$$\\left[ \\left( 0, \\  2, \\  \\left[ \\left[\\begin{matrix}-1\\\\1\\end{matrix}\\right]\\right]\\right)\\right]$$"
     },
     "metadata": {},
     "output_type": "display_data"
    },
    {
     "data": {
      "text/plain": [
       "<IPython.core.display.Markdown object>"
      ],
      "text/markdown": "Diagonalizacja:"
     },
     "metadata": {},
     "output_type": "display_data"
    },
    {
     "data": {
      "text/plain": [
       "<IPython.core.display.Markdown object>"
      ],
      "text/markdown": "Macierz nie jest diagonalizowalna"
     },
     "metadata": {},
     "output_type": "display_data"
    },
    {
     "name": "stdout",
     "output_type": "stream",
     "text": [
      "\u001B[32m*\u001B[0m\u001B[32m*\u001B[0m\u001B[32m*\u001B[0m\u001B[32m*\u001B[0m\u001B[32m*\u001B[0m\u001B[32m*\u001B[0m\u001B[32m*\u001B[0m\u001B[32m*\u001B[0m\u001B[32m*\u001B[0m\u001B[32m*\u001B[0m\u001B[32m*\u001B[0m\u001B[32m*\u001B[0m\u001B[32m*\u001B[0m\u001B[32m*\u001B[0m\u001B[32m*\u001B[0m\u001B[32m*\u001B[0m\u001B[32m*\u001B[0m\u001B[32m*\u001B[0m\u001B[32m*\u001B[0m\u001B[32m*\u001B[0m\u001B[32m*\u001B[0m\u001B[32m*\u001B[0m\u001B[32m*\u001B[0m\u001B[32m*\u001B[0m\u001B[32m*\u001B[0m\u001B[32m*\u001B[0m\u001B[32m*\u001B[0m\u001B[32m*\u001B[0m\u001B[32m*\u001B[0m\u001B[32m*\u001B[0m\u001B[32m*\u001B[0m\u001B[32m*\u001B[0m\u001B[32m*\u001B[0m\u001B[32m*\u001B[0m\u001B[32m*\u001B[0m\u001B[32m*\u001B[0m\u001B[32m*\u001B[0m\u001B[32m*\u001B[0m\u001B[32m*\u001B[0m\u001B[32m*\u001B[0m\u001B[32m*\u001B[0m\u001B[32m*\u001B[0m\u001B[32m*\u001B[0m\u001B[32m*\u001B[0m\u001B[32m*\u001B[0m\u001B[32m*\u001B[0m\u001B[32m*\u001B[0m\u001B[32m*\u001B[0m\u001B[32m*\u001B[0m\u001B[32m*\u001B[0m\u001B[32m*\u001B[0m\u001B[32m*\u001B[0m\u001B[32m*\u001B[0m\u001B[32m*\u001B[0m\u001B[32m*\u001B[0m\u001B[32m*\u001B[0m\u001B[32m*\u001B[0m\u001B[32m*\u001B[0m\u001B[32m*\u001B[0m\u001B[32m*\u001B[0m\u001B[32m*\u001B[0m\u001B[32m*\u001B[0m\u001B[32m*\u001B[0m\u001B[32m*\u001B[0m\u001B[32m*\u001B[0m\u001B[32m*\u001B[0m\u001B[32m*\u001B[0m\u001B[32m*\u001B[0m\u001B[32m*\u001B[0m\u001B[32m*\u001B[0m\u001B[32m*\u001B[0m\u001B[32m*\u001B[0m\u001B[32m*\u001B[0m\u001B[32m*\u001B[0m\u001B[32m*\u001B[0m\u001B[32m*\u001B[0m\u001B[32m*\u001B[0m\u001B[32m*\u001B[0m\u001B[32m*\u001B[0m\u001B[32m*\u001B[0m\u001B[32m*\u001B[0m\u001B[32m*\u001B[0m\u001B[32m*\u001B[0m\u001B[32m*\u001B[0m\u001B[32m*\u001B[0m\u001B[32m*\u001B[0m\u001B[32m*\u001B[0m\u001B[32m*\u001B[0m\u001B[32m*\u001B[0m\u001B[32m*\u001B[0m\u001B[32m*\u001B[0m\u001B[32m*\u001B[0m\u001B[32m*\u001B[0m\u001B[32m*\u001B[0m\u001B[32m*\u001B[0m\n",
      "\u001B[34m** Zadanie 6 **********************************************************************************\u001B[0m\n"
     ]
    },
    {
     "data": {
      "text/plain": [
       "<IPython.core.display.Markdown object>"
      ],
      "text/markdown": "Przeprowadzić diagonalizację macierzy (jeśli możliwa)"
     },
     "metadata": {},
     "output_type": "display_data"
    },
    {
     "data": {
      "text/plain": [
       "<IPython.core.display.Latex object>"
      ],
      "text/latex": " \n\t\\[\n\t\t\\textnormal{A=} \\left[\\begin{matrix}0 & -1 & -1 & 1\\\\-2 & 2 & 1 & 2\\\\1 & -2 & 0 & -1\\\\-1 & 2 & 0 & 2\\end{matrix}\\right]\n\t\\]"
     },
     "metadata": {},
     "output_type": "display_data"
    },
    {
     "name": "stdout",
     "output_type": "stream",
     "text": [
      "\u001B[34m*\u001B[0m\u001B[34m*\u001B[0m\u001B[34m*\u001B[0m\u001B[34m*\u001B[0m\u001B[34m*\u001B[0m\u001B[34m*\u001B[0m\u001B[34m*\u001B[0m\u001B[34m*\u001B[0m\u001B[34m*\u001B[0m\u001B[34m*\u001B[0m\u001B[34m*\u001B[0m\u001B[34m*\u001B[0m\u001B[34m*\u001B[0m\u001B[34m*\u001B[0m\u001B[34m*\u001B[0m\u001B[34m*\u001B[0m\u001B[34m*\u001B[0m\u001B[34m*\u001B[0m\u001B[34m*\u001B[0m\u001B[34m*\u001B[0m\u001B[34m*\u001B[0m\u001B[34m*\u001B[0m\u001B[34m*\u001B[0m\u001B[34m*\u001B[0m\u001B[34m*\u001B[0m\u001B[34m*\u001B[0m\u001B[34m*\u001B[0m\u001B[34m*\u001B[0m\u001B[34m*\u001B[0m\u001B[34m*\u001B[0m\u001B[34m*\u001B[0m\u001B[34m*\u001B[0m\u001B[34m*\u001B[0m\u001B[34m*\u001B[0m\u001B[34m*\u001B[0m\u001B[34m*\u001B[0m\u001B[34m*\u001B[0m\u001B[34m*\u001B[0m\u001B[34m*\u001B[0m\u001B[34m*\u001B[0m\u001B[34m*\u001B[0m\u001B[34m*\u001B[0m\u001B[34m*\u001B[0m\u001B[34m*\u001B[0m\u001B[34m*\u001B[0m\u001B[34m*\u001B[0m\u001B[34m*\u001B[0m\u001B[34m*\u001B[0m\u001B[34m*\u001B[0m\u001B[34m*\u001B[0m\u001B[34m*\u001B[0m\u001B[34m*\u001B[0m\u001B[34m*\u001B[0m\u001B[34m*\u001B[0m\u001B[34m*\u001B[0m\u001B[34m*\u001B[0m\u001B[34m*\u001B[0m\u001B[34m*\u001B[0m\u001B[34m*\u001B[0m\u001B[34m*\u001B[0m\u001B[34m*\u001B[0m\u001B[34m*\u001B[0m\u001B[34m*\u001B[0m\u001B[34m*\u001B[0m\u001B[34m*\u001B[0m\u001B[34m*\u001B[0m\u001B[34m*\u001B[0m\u001B[34m*\u001B[0m\u001B[34m*\u001B[0m\u001B[34m*\u001B[0m\u001B[34m*\u001B[0m\u001B[34m*\u001B[0m\u001B[34m*\u001B[0m\u001B[34m*\u001B[0m\u001B[34m*\u001B[0m\u001B[34m*\u001B[0m\u001B[34m*\u001B[0m\u001B[34m*\u001B[0m\u001B[34m*\u001B[0m\u001B[34m*\u001B[0m\u001B[34m*\u001B[0m\u001B[34m*\u001B[0m\u001B[34m*\u001B[0m\u001B[34m*\u001B[0m\u001B[34m*\u001B[0m\u001B[34m*\u001B[0m\u001B[34m*\u001B[0m\u001B[34m*\u001B[0m\u001B[34m*\u001B[0m\u001B[34m*\u001B[0m\u001B[34m*\u001B[0m\u001B[34m*\u001B[0m\u001B[34m*\u001B[0m\u001B[34m*\u001B[0m\u001B[34m*\u001B[0m\n",
      "\u001B[32m** Rozwiązanie ********************************************************************************\u001B[0m\n"
     ]
    },
    {
     "data": {
      "text/plain": [
       "<IPython.core.display.Latex object>"
      ],
      "text/latex": "$$\\det\\left(\\lambda \\mathbb{I} - A \\right) = \\lambda^{4} - 4 \\lambda^{3} + 2 \\lambda^{2} + 4 \\lambda - 3$$"
     },
     "metadata": {},
     "output_type": "display_data"
    },
    {
     "data": {
      "text/plain": [
       "<IPython.core.display.Markdown object>"
      ],
      "text/markdown": "Wartości własne"
     },
     "metadata": {},
     "output_type": "display_data"
    },
    {
     "data": {
      "text/plain": [
       "<IPython.core.display.Latex object>"
      ],
      "text/latex": "$$ \\left\\{ -1 : 1, \\  1 : 2, \\  3 : 1\\right\\}, $$"
     },
     "metadata": {},
     "output_type": "display_data"
    },
    {
     "data": {
      "text/plain": [
       "<IPython.core.display.Markdown object>"
      ],
      "text/markdown": "Wektory własne"
     },
     "metadata": {},
     "output_type": "display_data"
    },
    {
     "data": {
      "text/plain": [
       "<IPython.core.display.Latex object>"
      ],
      "text/latex": "$$\\left[ \\left( -1, \\  1, \\  \\left[ \\left[\\begin{matrix}-9\\\\-6\\\\-2\\\\1\\end{matrix}\\right]\\right]\\right), \\  \\left( 1, \\  2, \\  \\left[ \\left[\\begin{matrix}1\\\\0\\\\0\\\\1\\end{matrix}\\right]\\right]\\right), \\  \\left( 3, \\  1, \\  \\left[ \\left[\\begin{matrix}\\frac{1}{3}\\\\\\frac{2}{3}\\\\- \\frac{2}{3}\\\\1\\end{matrix}\\right]\\right]\\right)\\right]$$"
     },
     "metadata": {},
     "output_type": "display_data"
    },
    {
     "data": {
      "text/plain": [
       "<IPython.core.display.Markdown object>"
      ],
      "text/markdown": "Diagonalizacja:"
     },
     "metadata": {},
     "output_type": "display_data"
    },
    {
     "data": {
      "text/plain": [
       "<IPython.core.display.Markdown object>"
      ],
      "text/markdown": "Macierz nie jest diagonalizowalna"
     },
     "metadata": {},
     "output_type": "display_data"
    },
    {
     "name": "stdout",
     "output_type": "stream",
     "text": [
      "\u001B[32m*\u001B[0m\u001B[32m*\u001B[0m\u001B[32m*\u001B[0m\u001B[32m*\u001B[0m\u001B[32m*\u001B[0m\u001B[32m*\u001B[0m\u001B[32m*\u001B[0m\u001B[32m*\u001B[0m\u001B[32m*\u001B[0m\u001B[32m*\u001B[0m\u001B[32m*\u001B[0m\u001B[32m*\u001B[0m\u001B[32m*\u001B[0m\u001B[32m*\u001B[0m\u001B[32m*\u001B[0m\u001B[32m*\u001B[0m\u001B[32m*\u001B[0m\u001B[32m*\u001B[0m\u001B[32m*\u001B[0m\u001B[32m*\u001B[0m\u001B[32m*\u001B[0m\u001B[32m*\u001B[0m\u001B[32m*\u001B[0m\u001B[32m*\u001B[0m\u001B[32m*\u001B[0m\u001B[32m*\u001B[0m\u001B[32m*\u001B[0m\u001B[32m*\u001B[0m\u001B[32m*\u001B[0m\u001B[32m*\u001B[0m\u001B[32m*\u001B[0m\u001B[32m*\u001B[0m\u001B[32m*\u001B[0m\u001B[32m*\u001B[0m\u001B[32m*\u001B[0m\u001B[32m*\u001B[0m\u001B[32m*\u001B[0m\u001B[32m*\u001B[0m\u001B[32m*\u001B[0m\u001B[32m*\u001B[0m\u001B[32m*\u001B[0m\u001B[32m*\u001B[0m\u001B[32m*\u001B[0m\u001B[32m*\u001B[0m\u001B[32m*\u001B[0m\u001B[32m*\u001B[0m\u001B[32m*\u001B[0m\u001B[32m*\u001B[0m\u001B[32m*\u001B[0m\u001B[32m*\u001B[0m\u001B[32m*\u001B[0m\u001B[32m*\u001B[0m\u001B[32m*\u001B[0m\u001B[32m*\u001B[0m\u001B[32m*\u001B[0m\u001B[32m*\u001B[0m\u001B[32m*\u001B[0m\u001B[32m*\u001B[0m\u001B[32m*\u001B[0m\u001B[32m*\u001B[0m\u001B[32m*\u001B[0m\u001B[32m*\u001B[0m\u001B[32m*\u001B[0m\u001B[32m*\u001B[0m\u001B[32m*\u001B[0m\u001B[32m*\u001B[0m\u001B[32m*\u001B[0m\u001B[32m*\u001B[0m\u001B[32m*\u001B[0m\u001B[32m*\u001B[0m\u001B[32m*\u001B[0m\u001B[32m*\u001B[0m\u001B[32m*\u001B[0m\u001B[32m*\u001B[0m\u001B[32m*\u001B[0m\u001B[32m*\u001B[0m\u001B[32m*\u001B[0m\u001B[32m*\u001B[0m\u001B[32m*\u001B[0m\u001B[32m*\u001B[0m\u001B[32m*\u001B[0m\u001B[32m*\u001B[0m\u001B[32m*\u001B[0m\u001B[32m*\u001B[0m\u001B[32m*\u001B[0m\u001B[32m*\u001B[0m\u001B[32m*\u001B[0m\u001B[32m*\u001B[0m\u001B[32m*\u001B[0m\u001B[32m*\u001B[0m\u001B[32m*\u001B[0m\u001B[32m*\u001B[0m\u001B[32m*\u001B[0m\u001B[32m*\u001B[0m\u001B[32m*\u001B[0m\n",
      "\u001B[34m** Zadanie 7 **********************************************************************************\u001B[0m\n"
     ]
    },
    {
     "data": {
      "text/plain": [
       "<IPython.core.display.Markdown object>"
      ],
      "text/markdown": "Przeprowadzić diagonalizację macierzy (jeśli możliwa)"
     },
     "metadata": {},
     "output_type": "display_data"
    },
    {
     "data": {
      "text/plain": [
       "<IPython.core.display.Latex object>"
      ],
      "text/latex": " \n\t\\[\n\t\t\\textnormal{A=} \\left[\\begin{matrix}-1 & -1 & -2 & 0\\\\-1 & -2 & -1 & 1\\\\-2 & 0 & 1 & -2\\\\1 & 1 & 2 & 0\\end{matrix}\\right]\n\t\\]"
     },
     "metadata": {},
     "output_type": "display_data"
    },
    {
     "name": "stdout",
     "output_type": "stream",
     "text": [
      "\u001B[34m*\u001B[0m\u001B[34m*\u001B[0m\u001B[34m*\u001B[0m\u001B[34m*\u001B[0m\u001B[34m*\u001B[0m\u001B[34m*\u001B[0m\u001B[34m*\u001B[0m\u001B[34m*\u001B[0m\u001B[34m*\u001B[0m\u001B[34m*\u001B[0m\u001B[34m*\u001B[0m\u001B[34m*\u001B[0m\u001B[34m*\u001B[0m\u001B[34m*\u001B[0m\u001B[34m*\u001B[0m\u001B[34m*\u001B[0m\u001B[34m*\u001B[0m\u001B[34m*\u001B[0m\u001B[34m*\u001B[0m\u001B[34m*\u001B[0m\u001B[34m*\u001B[0m\u001B[34m*\u001B[0m\u001B[34m*\u001B[0m\u001B[34m*\u001B[0m\u001B[34m*\u001B[0m\u001B[34m*\u001B[0m\u001B[34m*\u001B[0m\u001B[34m*\u001B[0m\u001B[34m*\u001B[0m\u001B[34m*\u001B[0m\u001B[34m*\u001B[0m\u001B[34m*\u001B[0m\u001B[34m*\u001B[0m\u001B[34m*\u001B[0m\u001B[34m*\u001B[0m\u001B[34m*\u001B[0m\u001B[34m*\u001B[0m\u001B[34m*\u001B[0m\u001B[34m*\u001B[0m\u001B[34m*\u001B[0m\u001B[34m*\u001B[0m\u001B[34m*\u001B[0m\u001B[34m*\u001B[0m\u001B[34m*\u001B[0m\u001B[34m*\u001B[0m\u001B[34m*\u001B[0m\u001B[34m*\u001B[0m\u001B[34m*\u001B[0m\u001B[34m*\u001B[0m\u001B[34m*\u001B[0m\u001B[34m*\u001B[0m\u001B[34m*\u001B[0m\u001B[34m*\u001B[0m\u001B[34m*\u001B[0m\u001B[34m*\u001B[0m\u001B[34m*\u001B[0m\u001B[34m*\u001B[0m\u001B[34m*\u001B[0m\u001B[34m*\u001B[0m\u001B[34m*\u001B[0m\u001B[34m*\u001B[0m\u001B[34m*\u001B[0m\u001B[34m*\u001B[0m\u001B[34m*\u001B[0m\u001B[34m*\u001B[0m\u001B[34m*\u001B[0m\u001B[34m*\u001B[0m\u001B[34m*\u001B[0m\u001B[34m*\u001B[0m\u001B[34m*\u001B[0m\u001B[34m*\u001B[0m\u001B[34m*\u001B[0m\u001B[34m*\u001B[0m\u001B[34m*\u001B[0m\u001B[34m*\u001B[0m\u001B[34m*\u001B[0m\u001B[34m*\u001B[0m\u001B[34m*\u001B[0m\u001B[34m*\u001B[0m\u001B[34m*\u001B[0m\u001B[34m*\u001B[0m\u001B[34m*\u001B[0m\u001B[34m*\u001B[0m\u001B[34m*\u001B[0m\u001B[34m*\u001B[0m\u001B[34m*\u001B[0m\u001B[34m*\u001B[0m\u001B[34m*\u001B[0m\u001B[34m*\u001B[0m\u001B[34m*\u001B[0m\u001B[34m*\u001B[0m\u001B[34m*\u001B[0m\u001B[34m*\u001B[0m\u001B[34m*\u001B[0m\u001B[34m*\u001B[0m\n",
      "\u001B[32m** Rozwiązanie ********************************************************************************\u001B[0m\n"
     ]
    },
    {
     "data": {
      "text/plain": [
       "<IPython.core.display.Latex object>"
      ],
      "text/latex": "$$\\det\\left(\\lambda \\mathbb{I} - A \\right) = \\lambda^{4} + 2 \\lambda^{3} - 3 \\lambda^{2}$$"
     },
     "metadata": {},
     "output_type": "display_data"
    },
    {
     "data": {
      "text/plain": [
       "<IPython.core.display.Markdown object>"
      ],
      "text/markdown": "Wartości własne"
     },
     "metadata": {},
     "output_type": "display_data"
    },
    {
     "data": {
      "text/plain": [
       "<IPython.core.display.Latex object>"
      ],
      "text/latex": "$$ \\left\\{ -3 : 1, \\  0 : 2, \\  1 : 1\\right\\}, $$"
     },
     "metadata": {},
     "output_type": "display_data"
    },
    {
     "data": {
      "text/plain": [
       "<IPython.core.display.Markdown object>"
      ],
      "text/markdown": "Wektory własne"
     },
     "metadata": {},
     "output_type": "display_data"
    },
    {
     "data": {
      "text/plain": [
       "<IPython.core.display.Latex object>"
      ],
      "text/latex": "$$\\left[ \\left( -3, \\  1, \\  \\left[ \\left[\\begin{matrix}-1\\\\-2\\\\0\\\\1\\end{matrix}\\right]\\right]\\right), \\  \\left( 0, \\  2, \\  \\left[ \\left[\\begin{matrix}-1\\\\1\\\\0\\\\1\\end{matrix}\\right]\\right]\\right), \\  \\left( 1, \\  1, \\  \\left[ \\left[\\begin{matrix}-1\\\\\\frac{2}{5}\\\\\\frac{4}{5}\\\\1\\end{matrix}\\right]\\right]\\right)\\right]$$"
     },
     "metadata": {},
     "output_type": "display_data"
    },
    {
     "data": {
      "text/plain": [
       "<IPython.core.display.Markdown object>"
      ],
      "text/markdown": "Diagonalizacja:"
     },
     "metadata": {},
     "output_type": "display_data"
    },
    {
     "data": {
      "text/plain": [
       "<IPython.core.display.Markdown object>"
      ],
      "text/markdown": "Macierz nie jest diagonalizowalna"
     },
     "metadata": {},
     "output_type": "display_data"
    },
    {
     "name": "stdout",
     "output_type": "stream",
     "text": [
      "\u001B[32m*\u001B[0m\u001B[32m*\u001B[0m\u001B[32m*\u001B[0m\u001B[32m*\u001B[0m\u001B[32m*\u001B[0m\u001B[32m*\u001B[0m\u001B[32m*\u001B[0m\u001B[32m*\u001B[0m\u001B[32m*\u001B[0m\u001B[32m*\u001B[0m\u001B[32m*\u001B[0m\u001B[32m*\u001B[0m\u001B[32m*\u001B[0m\u001B[32m*\u001B[0m\u001B[32m*\u001B[0m\u001B[32m*\u001B[0m\u001B[32m*\u001B[0m\u001B[32m*\u001B[0m\u001B[32m*\u001B[0m\u001B[32m*\u001B[0m\u001B[32m*\u001B[0m\u001B[32m*\u001B[0m\u001B[32m*\u001B[0m\u001B[32m*\u001B[0m\u001B[32m*\u001B[0m\u001B[32m*\u001B[0m\u001B[32m*\u001B[0m\u001B[32m*\u001B[0m\u001B[32m*\u001B[0m\u001B[32m*\u001B[0m\u001B[32m*\u001B[0m\u001B[32m*\u001B[0m\u001B[32m*\u001B[0m\u001B[32m*\u001B[0m\u001B[32m*\u001B[0m\u001B[32m*\u001B[0m\u001B[32m*\u001B[0m\u001B[32m*\u001B[0m\u001B[32m*\u001B[0m\u001B[32m*\u001B[0m\u001B[32m*\u001B[0m\u001B[32m*\u001B[0m\u001B[32m*\u001B[0m\u001B[32m*\u001B[0m\u001B[32m*\u001B[0m\u001B[32m*\u001B[0m\u001B[32m*\u001B[0m\u001B[32m*\u001B[0m\u001B[32m*\u001B[0m\u001B[32m*\u001B[0m\u001B[32m*\u001B[0m\u001B[32m*\u001B[0m\u001B[32m*\u001B[0m\u001B[32m*\u001B[0m\u001B[32m*\u001B[0m\u001B[32m*\u001B[0m\u001B[32m*\u001B[0m\u001B[32m*\u001B[0m\u001B[32m*\u001B[0m\u001B[32m*\u001B[0m\u001B[32m*\u001B[0m\u001B[32m*\u001B[0m\u001B[32m*\u001B[0m\u001B[32m*\u001B[0m\u001B[32m*\u001B[0m\u001B[32m*\u001B[0m\u001B[32m*\u001B[0m\u001B[32m*\u001B[0m\u001B[32m*\u001B[0m\u001B[32m*\u001B[0m\u001B[32m*\u001B[0m\u001B[32m*\u001B[0m\u001B[32m*\u001B[0m\u001B[32m*\u001B[0m\u001B[32m*\u001B[0m\u001B[32m*\u001B[0m\u001B[32m*\u001B[0m\u001B[32m*\u001B[0m\u001B[32m*\u001B[0m\u001B[32m*\u001B[0m\u001B[32m*\u001B[0m\u001B[32m*\u001B[0m\u001B[32m*\u001B[0m\u001B[32m*\u001B[0m\u001B[32m*\u001B[0m\u001B[32m*\u001B[0m\u001B[32m*\u001B[0m\u001B[32m*\u001B[0m\u001B[32m*\u001B[0m\u001B[32m*\u001B[0m\u001B[32m*\u001B[0m\u001B[32m*\u001B[0m\u001B[32m*\u001B[0m\u001B[32m*\u001B[0m\u001B[32m*\u001B[0m\n",
      "\u001B[34m** Zadanie 8 **********************************************************************************\u001B[0m\n"
     ]
    },
    {
     "data": {
      "text/plain": [
       "<IPython.core.display.Markdown object>"
      ],
      "text/markdown": "Przeprowadzić diagonalizację macierzy (jeśli możliwa)"
     },
     "metadata": {},
     "output_type": "display_data"
    },
    {
     "data": {
      "text/plain": [
       "<IPython.core.display.Latex object>"
      ],
      "text/latex": " \n\t\\[\n\t\t\\textnormal{A=} \\left[\\begin{matrix}-2 & -2 & 0\\\\1 & -2 & 3\\\\1 & 2 & 1\\end{matrix}\\right]\n\t\\]"
     },
     "metadata": {},
     "output_type": "display_data"
    },
    {
     "name": "stdout",
     "output_type": "stream",
     "text": [
      "\u001B[34m*\u001B[0m\u001B[34m*\u001B[0m\u001B[34m*\u001B[0m\u001B[34m*\u001B[0m\u001B[34m*\u001B[0m\u001B[34m*\u001B[0m\u001B[34m*\u001B[0m\u001B[34m*\u001B[0m\u001B[34m*\u001B[0m\u001B[34m*\u001B[0m\u001B[34m*\u001B[0m\u001B[34m*\u001B[0m\u001B[34m*\u001B[0m\u001B[34m*\u001B[0m\u001B[34m*\u001B[0m\u001B[34m*\u001B[0m\u001B[34m*\u001B[0m\u001B[34m*\u001B[0m\u001B[34m*\u001B[0m\u001B[34m*\u001B[0m\u001B[34m*\u001B[0m\u001B[34m*\u001B[0m\u001B[34m*\u001B[0m\u001B[34m*\u001B[0m\u001B[34m*\u001B[0m\u001B[34m*\u001B[0m\u001B[34m*\u001B[0m\u001B[34m*\u001B[0m\u001B[34m*\u001B[0m\u001B[34m*\u001B[0m\u001B[34m*\u001B[0m\u001B[34m*\u001B[0m\u001B[34m*\u001B[0m\u001B[34m*\u001B[0m\u001B[34m*\u001B[0m\u001B[34m*\u001B[0m\u001B[34m*\u001B[0m\u001B[34m*\u001B[0m\u001B[34m*\u001B[0m\u001B[34m*\u001B[0m\u001B[34m*\u001B[0m\u001B[34m*\u001B[0m\u001B[34m*\u001B[0m\u001B[34m*\u001B[0m\u001B[34m*\u001B[0m\u001B[34m*\u001B[0m\u001B[34m*\u001B[0m\u001B[34m*\u001B[0m\u001B[34m*\u001B[0m\u001B[34m*\u001B[0m\u001B[34m*\u001B[0m\u001B[34m*\u001B[0m\u001B[34m*\u001B[0m\u001B[34m*\u001B[0m\u001B[34m*\u001B[0m\u001B[34m*\u001B[0m\u001B[34m*\u001B[0m\u001B[34m*\u001B[0m\u001B[34m*\u001B[0m\u001B[34m*\u001B[0m\u001B[34m*\u001B[0m\u001B[34m*\u001B[0m\u001B[34m*\u001B[0m\u001B[34m*\u001B[0m\u001B[34m*\u001B[0m\u001B[34m*\u001B[0m\u001B[34m*\u001B[0m\u001B[34m*\u001B[0m\u001B[34m*\u001B[0m\u001B[34m*\u001B[0m\u001B[34m*\u001B[0m\u001B[34m*\u001B[0m\u001B[34m*\u001B[0m\u001B[34m*\u001B[0m\u001B[34m*\u001B[0m\u001B[34m*\u001B[0m\u001B[34m*\u001B[0m\u001B[34m*\u001B[0m\u001B[34m*\u001B[0m\u001B[34m*\u001B[0m\u001B[34m*\u001B[0m\u001B[34m*\u001B[0m\u001B[34m*\u001B[0m\u001B[34m*\u001B[0m\u001B[34m*\u001B[0m\u001B[34m*\u001B[0m\u001B[34m*\u001B[0m\u001B[34m*\u001B[0m\u001B[34m*\u001B[0m\u001B[34m*\u001B[0m\u001B[34m*\u001B[0m\u001B[34m*\u001B[0m\u001B[34m*\u001B[0m\u001B[34m*\u001B[0m\u001B[34m*\u001B[0m\n",
      "\u001B[32m** Rozwiązanie ********************************************************************************\u001B[0m\n"
     ]
    },
    {
     "data": {
      "text/plain": [
       "<IPython.core.display.Latex object>"
      ],
      "text/latex": "$$\\det\\left(\\lambda \\mathbb{I} - A \\right) = \\lambda^{3} + 3 \\lambda^{2} - 4 \\lambda - 12$$"
     },
     "metadata": {},
     "output_type": "display_data"
    },
    {
     "data": {
      "text/plain": [
       "<IPython.core.display.Markdown object>"
      ],
      "text/markdown": "Wartości własne"
     },
     "metadata": {},
     "output_type": "display_data"
    },
    {
     "data": {
      "text/plain": [
       "<IPython.core.display.Latex object>"
      ],
      "text/latex": "$$ \\left\\{ -3 : 1, \\  -2 : 1, \\  2 : 1\\right\\}, $$"
     },
     "metadata": {},
     "output_type": "display_data"
    },
    {
     "data": {
      "text/plain": [
       "<IPython.core.display.Markdown object>"
      ],
      "text/markdown": "Wektory własne"
     },
     "metadata": {},
     "output_type": "display_data"
    },
    {
     "data": {
      "text/plain": [
       "<IPython.core.display.Latex object>"
      ],
      "text/latex": "$$\\left[ \\left( -3, \\  1, \\  \\left[ \\left[\\begin{matrix}-2\\\\-1\\\\1\\end{matrix}\\right]\\right]\\right), \\  \\left( -2, \\  1, \\  \\left[ \\left[\\begin{matrix}-3\\\\0\\\\1\\end{matrix}\\right]\\right]\\right), \\  \\left( 2, \\  1, \\  \\left[ \\left[\\begin{matrix}- \\frac{1}{3}\\\\\\frac{2}{3}\\\\1\\end{matrix}\\right]\\right]\\right)\\right]$$"
     },
     "metadata": {},
     "output_type": "display_data"
    },
    {
     "data": {
      "text/plain": [
       "<IPython.core.display.Markdown object>"
      ],
      "text/markdown": "Diagonalizacja:"
     },
     "metadata": {},
     "output_type": "display_data"
    },
    {
     "data": {
      "text/plain": [
       "<IPython.core.display.Latex object>"
      ],
      "text/latex": "$$A = P\\,D\\,P^{-1}: \\quad P=\\left[\\begin{matrix}-2 & -3 & -1\\\\-1 & 0 & 2\\\\1 & 1 & 3\\end{matrix}\\right],\\quad D=\\left[\\begin{matrix}-3 & 0 & 0\\\\0 & -2 & 0\\\\0 & 0 & 2\\end{matrix}\\right]$$"
     },
     "metadata": {},
     "output_type": "display_data"
    },
    {
     "name": "stdout",
     "output_type": "stream",
     "text": [
      "\u001B[32m*\u001B[0m\u001B[32m*\u001B[0m\u001B[32m*\u001B[0m\u001B[32m*\u001B[0m\u001B[32m*\u001B[0m\u001B[32m*\u001B[0m\u001B[32m*\u001B[0m\u001B[32m*\u001B[0m\u001B[32m*\u001B[0m\u001B[32m*\u001B[0m\u001B[32m*\u001B[0m\u001B[32m*\u001B[0m\u001B[32m*\u001B[0m\u001B[32m*\u001B[0m\u001B[32m*\u001B[0m\u001B[32m*\u001B[0m\u001B[32m*\u001B[0m\u001B[32m*\u001B[0m\u001B[32m*\u001B[0m\u001B[32m*\u001B[0m\u001B[32m*\u001B[0m\u001B[32m*\u001B[0m\u001B[32m*\u001B[0m\u001B[32m*\u001B[0m\u001B[32m*\u001B[0m\u001B[32m*\u001B[0m\u001B[32m*\u001B[0m\u001B[32m*\u001B[0m\u001B[32m*\u001B[0m\u001B[32m*\u001B[0m\u001B[32m*\u001B[0m\u001B[32m*\u001B[0m\u001B[32m*\u001B[0m\u001B[32m*\u001B[0m\u001B[32m*\u001B[0m\u001B[32m*\u001B[0m\u001B[32m*\u001B[0m\u001B[32m*\u001B[0m\u001B[32m*\u001B[0m\u001B[32m*\u001B[0m\u001B[32m*\u001B[0m\u001B[32m*\u001B[0m\u001B[32m*\u001B[0m\u001B[32m*\u001B[0m\u001B[32m*\u001B[0m\u001B[32m*\u001B[0m\u001B[32m*\u001B[0m\u001B[32m*\u001B[0m\u001B[32m*\u001B[0m\u001B[32m*\u001B[0m\u001B[32m*\u001B[0m\u001B[32m*\u001B[0m\u001B[32m*\u001B[0m\u001B[32m*\u001B[0m\u001B[32m*\u001B[0m\u001B[32m*\u001B[0m\u001B[32m*\u001B[0m\u001B[32m*\u001B[0m\u001B[32m*\u001B[0m\u001B[32m*\u001B[0m\u001B[32m*\u001B[0m\u001B[32m*\u001B[0m\u001B[32m*\u001B[0m\u001B[32m*\u001B[0m\u001B[32m*\u001B[0m\u001B[32m*\u001B[0m\u001B[32m*\u001B[0m\u001B[32m*\u001B[0m\u001B[32m*\u001B[0m\u001B[32m*\u001B[0m\u001B[32m*\u001B[0m\u001B[32m*\u001B[0m\u001B[32m*\u001B[0m\u001B[32m*\u001B[0m\u001B[32m*\u001B[0m\u001B[32m*\u001B[0m\u001B[32m*\u001B[0m\u001B[32m*\u001B[0m\u001B[32m*\u001B[0m\u001B[32m*\u001B[0m\u001B[32m*\u001B[0m\u001B[32m*\u001B[0m\u001B[32m*\u001B[0m\u001B[32m*\u001B[0m\u001B[32m*\u001B[0m\u001B[32m*\u001B[0m\u001B[32m*\u001B[0m\u001B[32m*\u001B[0m\u001B[32m*\u001B[0m\u001B[32m*\u001B[0m\u001B[32m*\u001B[0m\u001B[32m*\u001B[0m\u001B[32m*\u001B[0m\u001B[32m*\u001B[0m\u001B[32m*\u001B[0m\n",
      "\u001B[34m** Zadanie 9 **********************************************************************************\u001B[0m\n"
     ]
    },
    {
     "data": {
      "text/plain": [
       "<IPython.core.display.Markdown object>"
      ],
      "text/markdown": "Przeprowadzić diagonalizację macierzy (jeśli możliwa)"
     },
     "metadata": {},
     "output_type": "display_data"
    },
    {
     "data": {
      "text/plain": [
       "<IPython.core.display.Latex object>"
      ],
      "text/latex": " \n\t\\[\n\t\t\\textnormal{A=} \\left[\\begin{matrix}3 & 2 & 1 & 1\\\\0 & -1 & -2 & -2\\\\2 & -1 & -2 & -1\\\\0 & -1 & -2 & -2\\end{matrix}\\right]\n\t\\]"
     },
     "metadata": {},
     "output_type": "display_data"
    },
    {
     "name": "stdout",
     "output_type": "stream",
     "text": [
      "\u001B[34m*\u001B[0m\u001B[34m*\u001B[0m\u001B[34m*\u001B[0m\u001B[34m*\u001B[0m\u001B[34m*\u001B[0m\u001B[34m*\u001B[0m\u001B[34m*\u001B[0m\u001B[34m*\u001B[0m\u001B[34m*\u001B[0m\u001B[34m*\u001B[0m\u001B[34m*\u001B[0m\u001B[34m*\u001B[0m\u001B[34m*\u001B[0m\u001B[34m*\u001B[0m\u001B[34m*\u001B[0m\u001B[34m*\u001B[0m\u001B[34m*\u001B[0m\u001B[34m*\u001B[0m\u001B[34m*\u001B[0m\u001B[34m*\u001B[0m\u001B[34m*\u001B[0m\u001B[34m*\u001B[0m\u001B[34m*\u001B[0m\u001B[34m*\u001B[0m\u001B[34m*\u001B[0m\u001B[34m*\u001B[0m\u001B[34m*\u001B[0m\u001B[34m*\u001B[0m\u001B[34m*\u001B[0m\u001B[34m*\u001B[0m\u001B[34m*\u001B[0m\u001B[34m*\u001B[0m\u001B[34m*\u001B[0m\u001B[34m*\u001B[0m\u001B[34m*\u001B[0m\u001B[34m*\u001B[0m\u001B[34m*\u001B[0m\u001B[34m*\u001B[0m\u001B[34m*\u001B[0m\u001B[34m*\u001B[0m\u001B[34m*\u001B[0m\u001B[34m*\u001B[0m\u001B[34m*\u001B[0m\u001B[34m*\u001B[0m\u001B[34m*\u001B[0m\u001B[34m*\u001B[0m\u001B[34m*\u001B[0m\u001B[34m*\u001B[0m\u001B[34m*\u001B[0m\u001B[34m*\u001B[0m\u001B[34m*\u001B[0m\u001B[34m*\u001B[0m\u001B[34m*\u001B[0m\u001B[34m*\u001B[0m\u001B[34m*\u001B[0m\u001B[34m*\u001B[0m\u001B[34m*\u001B[0m\u001B[34m*\u001B[0m\u001B[34m*\u001B[0m\u001B[34m*\u001B[0m\u001B[34m*\u001B[0m\u001B[34m*\u001B[0m\u001B[34m*\u001B[0m\u001B[34m*\u001B[0m\u001B[34m*\u001B[0m\u001B[34m*\u001B[0m\u001B[34m*\u001B[0m\u001B[34m*\u001B[0m\u001B[34m*\u001B[0m\u001B[34m*\u001B[0m\u001B[34m*\u001B[0m\u001B[34m*\u001B[0m\u001B[34m*\u001B[0m\u001B[34m*\u001B[0m\u001B[34m*\u001B[0m\u001B[34m*\u001B[0m\u001B[34m*\u001B[0m\u001B[34m*\u001B[0m\u001B[34m*\u001B[0m\u001B[34m*\u001B[0m\u001B[34m*\u001B[0m\u001B[34m*\u001B[0m\u001B[34m*\u001B[0m\u001B[34m*\u001B[0m\u001B[34m*\u001B[0m\u001B[34m*\u001B[0m\u001B[34m*\u001B[0m\u001B[34m*\u001B[0m\u001B[34m*\u001B[0m\u001B[34m*\u001B[0m\u001B[34m*\u001B[0m\u001B[34m*\u001B[0m\u001B[34m*\u001B[0m\u001B[34m*\u001B[0m\u001B[34m*\u001B[0m\n",
      "\u001B[32m** Rozwiązanie ********************************************************************************\u001B[0m\n"
     ]
    },
    {
     "data": {
      "text/plain": [
       "<IPython.core.display.Latex object>"
      ],
      "text/latex": "$$\\det\\left(\\lambda \\mathbb{I} - A \\right) = \\lambda^{4} + 2 \\lambda^{3} - 15 \\lambda^{2}$$"
     },
     "metadata": {},
     "output_type": "display_data"
    },
    {
     "data": {
      "text/plain": [
       "<IPython.core.display.Markdown object>"
      ],
      "text/markdown": "Wartości własne"
     },
     "metadata": {},
     "output_type": "display_data"
    },
    {
     "data": {
      "text/plain": [
       "<IPython.core.display.Latex object>"
      ],
      "text/latex": "$$ \\left\\{ -5 : 1, \\  0 : 2, \\  3 : 1\\right\\}, $$"
     },
     "metadata": {},
     "output_type": "display_data"
    },
    {
     "data": {
      "text/plain": [
       "<IPython.core.display.Markdown object>"
      ],
      "text/markdown": "Wektory własne"
     },
     "metadata": {},
     "output_type": "display_data"
    },
    {
     "data": {
      "text/plain": [
       "<IPython.core.display.Latex object>"
      ],
      "text/latex": "$$\\left[ \\left( -5, \\  1, \\  \\left[ \\left[\\begin{matrix}- \\frac{1}{2}\\\\1\\\\1\\\\1\\end{matrix}\\right]\\right]\\right), \\  \\left( 0, \\  2, \\  \\left[ \\left[\\begin{matrix}- \\frac{1}{2}\\\\1\\\\- \\frac{3}{2}\\\\1\\end{matrix}\\right]\\right]\\right), \\  \\left( 3, \\  1, \\  \\left[ \\left[\\begin{matrix}- \\frac{13}{2}\\\\1\\\\-3\\\\1\\end{matrix}\\right]\\right]\\right)\\right]$$"
     },
     "metadata": {},
     "output_type": "display_data"
    },
    {
     "data": {
      "text/plain": [
       "<IPython.core.display.Markdown object>"
      ],
      "text/markdown": "Diagonalizacja:"
     },
     "metadata": {},
     "output_type": "display_data"
    },
    {
     "data": {
      "text/plain": [
       "<IPython.core.display.Markdown object>"
      ],
      "text/markdown": "Macierz nie jest diagonalizowalna"
     },
     "metadata": {},
     "output_type": "display_data"
    },
    {
     "name": "stdout",
     "output_type": "stream",
     "text": [
      "\u001B[32m*\u001B[0m\u001B[32m*\u001B[0m\u001B[32m*\u001B[0m\u001B[32m*\u001B[0m\u001B[32m*\u001B[0m\u001B[32m*\u001B[0m\u001B[32m*\u001B[0m\u001B[32m*\u001B[0m\u001B[32m*\u001B[0m\u001B[32m*\u001B[0m\u001B[32m*\u001B[0m\u001B[32m*\u001B[0m\u001B[32m*\u001B[0m\u001B[32m*\u001B[0m\u001B[32m*\u001B[0m\u001B[32m*\u001B[0m\u001B[32m*\u001B[0m\u001B[32m*\u001B[0m\u001B[32m*\u001B[0m\u001B[32m*\u001B[0m\u001B[32m*\u001B[0m\u001B[32m*\u001B[0m\u001B[32m*\u001B[0m\u001B[32m*\u001B[0m\u001B[32m*\u001B[0m\u001B[32m*\u001B[0m\u001B[32m*\u001B[0m\u001B[32m*\u001B[0m\u001B[32m*\u001B[0m\u001B[32m*\u001B[0m\u001B[32m*\u001B[0m\u001B[32m*\u001B[0m\u001B[32m*\u001B[0m\u001B[32m*\u001B[0m\u001B[32m*\u001B[0m\u001B[32m*\u001B[0m\u001B[32m*\u001B[0m\u001B[32m*\u001B[0m\u001B[32m*\u001B[0m\u001B[32m*\u001B[0m\u001B[32m*\u001B[0m\u001B[32m*\u001B[0m\u001B[32m*\u001B[0m\u001B[32m*\u001B[0m\u001B[32m*\u001B[0m\u001B[32m*\u001B[0m\u001B[32m*\u001B[0m\u001B[32m*\u001B[0m\u001B[32m*\u001B[0m\u001B[32m*\u001B[0m\u001B[32m*\u001B[0m\u001B[32m*\u001B[0m\u001B[32m*\u001B[0m\u001B[32m*\u001B[0m\u001B[32m*\u001B[0m\u001B[32m*\u001B[0m\u001B[32m*\u001B[0m\u001B[32m*\u001B[0m\u001B[32m*\u001B[0m\u001B[32m*\u001B[0m\u001B[32m*\u001B[0m\u001B[32m*\u001B[0m\u001B[32m*\u001B[0m\u001B[32m*\u001B[0m\u001B[32m*\u001B[0m\u001B[32m*\u001B[0m\u001B[32m*\u001B[0m\u001B[32m*\u001B[0m\u001B[32m*\u001B[0m\u001B[32m*\u001B[0m\u001B[32m*\u001B[0m\u001B[32m*\u001B[0m\u001B[32m*\u001B[0m\u001B[32m*\u001B[0m\u001B[32m*\u001B[0m\u001B[32m*\u001B[0m\u001B[32m*\u001B[0m\u001B[32m*\u001B[0m\u001B[32m*\u001B[0m\u001B[32m*\u001B[0m\u001B[32m*\u001B[0m\u001B[32m*\u001B[0m\u001B[32m*\u001B[0m\u001B[32m*\u001B[0m\u001B[32m*\u001B[0m\u001B[32m*\u001B[0m\u001B[32m*\u001B[0m\u001B[32m*\u001B[0m\u001B[32m*\u001B[0m\u001B[32m*\u001B[0m\u001B[32m*\u001B[0m\u001B[32m*\u001B[0m\u001B[32m*\u001B[0m\u001B[32m*\u001B[0m\u001B[32m*\u001B[0m\n",
      "\u001B[34m** Zadanie 10 **********************************************************************************\u001B[0m\n"
     ]
    },
    {
     "data": {
      "text/plain": [
       "<IPython.core.display.Markdown object>"
      ],
      "text/markdown": "Przeprowadzić diagonalizację macierzy (jeśli możliwa)"
     },
     "metadata": {},
     "output_type": "display_data"
    },
    {
     "data": {
      "text/plain": [
       "<IPython.core.display.Latex object>"
      ],
      "text/latex": " \n\t\\[\n\t\t\\textnormal{A=} \\left[\\begin{matrix}-2 & -1 & 2\\\\-1 & 0 & 0\\\\-1 & 1 & -1\\end{matrix}\\right]\n\t\\]"
     },
     "metadata": {},
     "output_type": "display_data"
    },
    {
     "name": "stdout",
     "output_type": "stream",
     "text": [
      "\u001B[34m*\u001B[0m\u001B[34m*\u001B[0m\u001B[34m*\u001B[0m\u001B[34m*\u001B[0m\u001B[34m*\u001B[0m\u001B[34m*\u001B[0m\u001B[34m*\u001B[0m\u001B[34m*\u001B[0m\u001B[34m*\u001B[0m\u001B[34m*\u001B[0m\u001B[34m*\u001B[0m\u001B[34m*\u001B[0m\u001B[34m*\u001B[0m\u001B[34m*\u001B[0m\u001B[34m*\u001B[0m\u001B[34m*\u001B[0m\u001B[34m*\u001B[0m\u001B[34m*\u001B[0m\u001B[34m*\u001B[0m\u001B[34m*\u001B[0m\u001B[34m*\u001B[0m\u001B[34m*\u001B[0m\u001B[34m*\u001B[0m\u001B[34m*\u001B[0m\u001B[34m*\u001B[0m\u001B[34m*\u001B[0m\u001B[34m*\u001B[0m\u001B[34m*\u001B[0m\u001B[34m*\u001B[0m\u001B[34m*\u001B[0m\u001B[34m*\u001B[0m\u001B[34m*\u001B[0m\u001B[34m*\u001B[0m\u001B[34m*\u001B[0m\u001B[34m*\u001B[0m\u001B[34m*\u001B[0m\u001B[34m*\u001B[0m\u001B[34m*\u001B[0m\u001B[34m*\u001B[0m\u001B[34m*\u001B[0m\u001B[34m*\u001B[0m\u001B[34m*\u001B[0m\u001B[34m*\u001B[0m\u001B[34m*\u001B[0m\u001B[34m*\u001B[0m\u001B[34m*\u001B[0m\u001B[34m*\u001B[0m\u001B[34m*\u001B[0m\u001B[34m*\u001B[0m\u001B[34m*\u001B[0m\u001B[34m*\u001B[0m\u001B[34m*\u001B[0m\u001B[34m*\u001B[0m\u001B[34m*\u001B[0m\u001B[34m*\u001B[0m\u001B[34m*\u001B[0m\u001B[34m*\u001B[0m\u001B[34m*\u001B[0m\u001B[34m*\u001B[0m\u001B[34m*\u001B[0m\u001B[34m*\u001B[0m\u001B[34m*\u001B[0m\u001B[34m*\u001B[0m\u001B[34m*\u001B[0m\u001B[34m*\u001B[0m\u001B[34m*\u001B[0m\u001B[34m*\u001B[0m\u001B[34m*\u001B[0m\u001B[34m*\u001B[0m\u001B[34m*\u001B[0m\u001B[34m*\u001B[0m\u001B[34m*\u001B[0m\u001B[34m*\u001B[0m\u001B[34m*\u001B[0m\u001B[34m*\u001B[0m\u001B[34m*\u001B[0m\u001B[34m*\u001B[0m\u001B[34m*\u001B[0m\u001B[34m*\u001B[0m\u001B[34m*\u001B[0m\u001B[34m*\u001B[0m\u001B[34m*\u001B[0m\u001B[34m*\u001B[0m\u001B[34m*\u001B[0m\u001B[34m*\u001B[0m\u001B[34m*\u001B[0m\u001B[34m*\u001B[0m\u001B[34m*\u001B[0m\u001B[34m*\u001B[0m\u001B[34m*\u001B[0m\u001B[34m*\u001B[0m\u001B[34m*\u001B[0m\u001B[34m*\u001B[0m\u001B[34m*\u001B[0m\u001B[34m*\u001B[0m\n",
      "\u001B[32m** Rozwiązanie ********************************************************************************\u001B[0m\n"
     ]
    },
    {
     "data": {
      "text/plain": [
       "<IPython.core.display.Latex object>"
      ],
      "text/latex": "$$\\det\\left(\\lambda \\mathbb{I} - A \\right) = \\lambda^{3} + 3 \\lambda^{2} + 3 \\lambda + 1$$"
     },
     "metadata": {},
     "output_type": "display_data"
    },
    {
     "data": {
      "text/plain": [
       "<IPython.core.display.Markdown object>"
      ],
      "text/markdown": "Wartości własne"
     },
     "metadata": {},
     "output_type": "display_data"
    },
    {
     "data": {
      "text/plain": [
       "<IPython.core.display.Latex object>"
      ],
      "text/latex": "$$ \\left\\{ -1 : 3\\right\\}, $$"
     },
     "metadata": {},
     "output_type": "display_data"
    },
    {
     "data": {
      "text/plain": [
       "<IPython.core.display.Markdown object>"
      ],
      "text/markdown": "Wektory własne"
     },
     "metadata": {},
     "output_type": "display_data"
    },
    {
     "data": {
      "text/plain": [
       "<IPython.core.display.Latex object>"
      ],
      "text/latex": "$$\\left[ \\left( -1, \\  3, \\  \\left[ \\left[\\begin{matrix}1\\\\1\\\\1\\end{matrix}\\right]\\right]\\right)\\right]$$"
     },
     "metadata": {},
     "output_type": "display_data"
    },
    {
     "data": {
      "text/plain": [
       "<IPython.core.display.Markdown object>"
      ],
      "text/markdown": "Diagonalizacja:"
     },
     "metadata": {},
     "output_type": "display_data"
    },
    {
     "data": {
      "text/plain": [
       "<IPython.core.display.Markdown object>"
      ],
      "text/markdown": "Macierz nie jest diagonalizowalna"
     },
     "metadata": {},
     "output_type": "display_data"
    },
    {
     "name": "stdout",
     "output_type": "stream",
     "text": [
      "\u001B[32m*\u001B[0m\u001B[32m*\u001B[0m\u001B[32m*\u001B[0m\u001B[32m*\u001B[0m\u001B[32m*\u001B[0m\u001B[32m*\u001B[0m\u001B[32m*\u001B[0m\u001B[32m*\u001B[0m\u001B[32m*\u001B[0m\u001B[32m*\u001B[0m\u001B[32m*\u001B[0m\u001B[32m*\u001B[0m\u001B[32m*\u001B[0m\u001B[32m*\u001B[0m\u001B[32m*\u001B[0m\u001B[32m*\u001B[0m\u001B[32m*\u001B[0m\u001B[32m*\u001B[0m\u001B[32m*\u001B[0m\u001B[32m*\u001B[0m\u001B[32m*\u001B[0m\u001B[32m*\u001B[0m\u001B[32m*\u001B[0m\u001B[32m*\u001B[0m\u001B[32m*\u001B[0m\u001B[32m*\u001B[0m\u001B[32m*\u001B[0m\u001B[32m*\u001B[0m\u001B[32m*\u001B[0m\u001B[32m*\u001B[0m\u001B[32m*\u001B[0m\u001B[32m*\u001B[0m\u001B[32m*\u001B[0m\u001B[32m*\u001B[0m\u001B[32m*\u001B[0m\u001B[32m*\u001B[0m\u001B[32m*\u001B[0m\u001B[32m*\u001B[0m\u001B[32m*\u001B[0m\u001B[32m*\u001B[0m\u001B[32m*\u001B[0m\u001B[32m*\u001B[0m\u001B[32m*\u001B[0m\u001B[32m*\u001B[0m\u001B[32m*\u001B[0m\u001B[32m*\u001B[0m\u001B[32m*\u001B[0m\u001B[32m*\u001B[0m\u001B[32m*\u001B[0m\u001B[32m*\u001B[0m\u001B[32m*\u001B[0m\u001B[32m*\u001B[0m\u001B[32m*\u001B[0m\u001B[32m*\u001B[0m\u001B[32m*\u001B[0m\u001B[32m*\u001B[0m\u001B[32m*\u001B[0m\u001B[32m*\u001B[0m\u001B[32m*\u001B[0m\u001B[32m*\u001B[0m\u001B[32m*\u001B[0m\u001B[32m*\u001B[0m\u001B[32m*\u001B[0m\u001B[32m*\u001B[0m\u001B[32m*\u001B[0m\u001B[32m*\u001B[0m\u001B[32m*\u001B[0m\u001B[32m*\u001B[0m\u001B[32m*\u001B[0m\u001B[32m*\u001B[0m\u001B[32m*\u001B[0m\u001B[32m*\u001B[0m\u001B[32m*\u001B[0m\u001B[32m*\u001B[0m\u001B[32m*\u001B[0m\u001B[32m*\u001B[0m\u001B[32m*\u001B[0m\u001B[32m*\u001B[0m\u001B[32m*\u001B[0m\u001B[32m*\u001B[0m\u001B[32m*\u001B[0m\u001B[32m*\u001B[0m\u001B[32m*\u001B[0m\u001B[32m*\u001B[0m\u001B[32m*\u001B[0m\u001B[32m*\u001B[0m\u001B[32m*\u001B[0m\u001B[32m*\u001B[0m\u001B[32m*\u001B[0m\u001B[32m*\u001B[0m\u001B[32m*\u001B[0m\u001B[32m*\u001B[0m\u001B[32m*\u001B[0m\u001B[32m*\u001B[0m\u001B[32m*\u001B[0m\n"
     ]
    }
   ],
   "execution_count": 22
  },
  {
   "metadata": {},
   "cell_type": "markdown",
   "source": "## Diagonalizacja z wielokrotnymi wartościamy własnymi",
   "id": "d7ac16b3d54fe50f"
  },
  {
   "metadata": {
    "ExecuteTime": {
     "end_time": "2024-09-12T17:38:31.898681Z",
     "start_time": "2024-09-12T17:38:22.951343Z"
    }
   },
   "cell_type": "code",
   "source": [
    "zadanie = gz.diagonalizacja_macierzy_z_wielokrotnym_wartosciami_wlasnymi(wymiar=choice([2, 3, 4]))\n",
    "zadanie"
   ],
   "id": "57eb164dff6e7909",
   "outputs": [
    {
     "data": {
      "text/plain": [
       "('Przeprowadzić diagonalizację macierzy\\n\\t\\\\[\\n\\t\\t\\\\textnormal{A=} \\\\left[\\\\begin{matrix}0 & 1 & 2\\\\\\\\0 & 1 & 0\\\\\\\\-1 & 1 & 3\\\\end{matrix}\\\\right]\\n\\t\\\\]',\n",
       " '$\\\\det\\\\left(\\\\lambda \\\\mathbb{I} - A \\\\right) = \\\\lambda^{3} - 4 \\\\lambda^{2} + 5 \\\\lambda - 2$, \\\\quad \\nWartości własne:$ \\\\left\\\\{ 1 : 2, \\\\  2 : 1\\\\right\\\\}, $\\\\\\\\\\n\\\\parbox{4em}{Wektory\\\\\\\\własne:} $\\\\left[ \\\\left( 1, \\\\  2, \\\\  \\\\left[ \\\\left[\\\\begin{matrix}1\\\\\\\\1\\\\\\\\0\\\\end{matrix}\\\\right], \\\\  \\\\left[\\\\begin{matrix}2\\\\\\\\0\\\\\\\\1\\\\end{matrix}\\\\right]\\\\right]\\\\right), \\\\  \\\\left( 2, \\\\  1, \\\\  \\\\left[ \\\\left[\\\\begin{matrix}1\\\\\\\\0\\\\\\\\1\\\\end{matrix}\\\\right]\\\\right]\\\\right)\\\\right]$,\\\\\\\\\\n$A = P\\\\,D\\\\,P^{-1}: \\\\quad P=\\\\left[\\\\begin{matrix}1 & 2 & 1\\\\\\\\1 & 0 & 0\\\\\\\\0 & 1 & 1\\\\end{matrix}\\\\right],$ \\\\quad \\n$D=\\\\left[\\\\begin{matrix}1 & 0 & 0\\\\\\\\0 & 1 & 0\\\\\\\\0 & 0 & 2\\\\end{matrix}\\\\right]$')"
      ]
     },
     "execution_count": 3,
     "metadata": {},
     "output_type": "execute_result"
    }
   ],
   "execution_count": 3
  },
  {
   "metadata": {
    "ExecuteTime": {
     "end_time": "2024-09-12T17:39:00.474647Z",
     "start_time": "2024-09-12T17:39:00.469195Z"
    },
    "tags": [
     "hide-input"
    ]
   },
   "cell_type": "code",
   "source": [
    "print(\"\\033[34m** Zadanie **\" + '*' * 81 + '\\033[0m')\n",
    "print(zadanie[0])\n",
    "print(\"\\033[34m*\\033[0m\" * 95)\n",
    "print(\"\\033[32m** Rozwiązanie **\" + '*' * 78 + '\\033[0m')\n",
    "print(zadanie[1])\n",
    "print(\"\\033[32m*\\033[0m\" * 95)"
   ],
   "id": "8e591dddd4378f93",
   "outputs": [
    {
     "name": "stdout",
     "output_type": "stream",
     "text": [
      "\u001B[34m** Zadanie ***********************************************************************************\u001B[0m\n",
      "Przeprowadzić diagonalizację macierzy\n",
      "\t\\[\n",
      "\t\t\\textnormal{A=} \\left[\\begin{matrix}0 & 1 & 2\\\\0 & 1 & 0\\\\-1 & 1 & 3\\end{matrix}\\right]\n",
      "\t\\]\n",
      "\u001B[34m*\u001B[0m\u001B[34m*\u001B[0m\u001B[34m*\u001B[0m\u001B[34m*\u001B[0m\u001B[34m*\u001B[0m\u001B[34m*\u001B[0m\u001B[34m*\u001B[0m\u001B[34m*\u001B[0m\u001B[34m*\u001B[0m\u001B[34m*\u001B[0m\u001B[34m*\u001B[0m\u001B[34m*\u001B[0m\u001B[34m*\u001B[0m\u001B[34m*\u001B[0m\u001B[34m*\u001B[0m\u001B[34m*\u001B[0m\u001B[34m*\u001B[0m\u001B[34m*\u001B[0m\u001B[34m*\u001B[0m\u001B[34m*\u001B[0m\u001B[34m*\u001B[0m\u001B[34m*\u001B[0m\u001B[34m*\u001B[0m\u001B[34m*\u001B[0m\u001B[34m*\u001B[0m\u001B[34m*\u001B[0m\u001B[34m*\u001B[0m\u001B[34m*\u001B[0m\u001B[34m*\u001B[0m\u001B[34m*\u001B[0m\u001B[34m*\u001B[0m\u001B[34m*\u001B[0m\u001B[34m*\u001B[0m\u001B[34m*\u001B[0m\u001B[34m*\u001B[0m\u001B[34m*\u001B[0m\u001B[34m*\u001B[0m\u001B[34m*\u001B[0m\u001B[34m*\u001B[0m\u001B[34m*\u001B[0m\u001B[34m*\u001B[0m\u001B[34m*\u001B[0m\u001B[34m*\u001B[0m\u001B[34m*\u001B[0m\u001B[34m*\u001B[0m\u001B[34m*\u001B[0m\u001B[34m*\u001B[0m\u001B[34m*\u001B[0m\u001B[34m*\u001B[0m\u001B[34m*\u001B[0m\u001B[34m*\u001B[0m\u001B[34m*\u001B[0m\u001B[34m*\u001B[0m\u001B[34m*\u001B[0m\u001B[34m*\u001B[0m\u001B[34m*\u001B[0m\u001B[34m*\u001B[0m\u001B[34m*\u001B[0m\u001B[34m*\u001B[0m\u001B[34m*\u001B[0m\u001B[34m*\u001B[0m\u001B[34m*\u001B[0m\u001B[34m*\u001B[0m\u001B[34m*\u001B[0m\u001B[34m*\u001B[0m\u001B[34m*\u001B[0m\u001B[34m*\u001B[0m\u001B[34m*\u001B[0m\u001B[34m*\u001B[0m\u001B[34m*\u001B[0m\u001B[34m*\u001B[0m\u001B[34m*\u001B[0m\u001B[34m*\u001B[0m\u001B[34m*\u001B[0m\u001B[34m*\u001B[0m\u001B[34m*\u001B[0m\u001B[34m*\u001B[0m\u001B[34m*\u001B[0m\u001B[34m*\u001B[0m\u001B[34m*\u001B[0m\u001B[34m*\u001B[0m\u001B[34m*\u001B[0m\u001B[34m*\u001B[0m\u001B[34m*\u001B[0m\u001B[34m*\u001B[0m\u001B[34m*\u001B[0m\u001B[34m*\u001B[0m\u001B[34m*\u001B[0m\u001B[34m*\u001B[0m\u001B[34m*\u001B[0m\u001B[34m*\u001B[0m\u001B[34m*\u001B[0m\u001B[34m*\u001B[0m\u001B[34m*\u001B[0m\u001B[34m*\u001B[0m\n",
      "\u001B[32m** Rozwiązanie ********************************************************************************\u001B[0m\n",
      "$\\det\\left(\\lambda \\mathbb{I} - A \\right) = \\lambda^{3} - 4 \\lambda^{2} + 5 \\lambda - 2$, \\quad \n",
      "Wartości własne:$ \\left\\{ 1 : 2, \\  2 : 1\\right\\}, $\\\\\n",
      "\\parbox{4em}{Wektory\\\\własne:} $\\left[ \\left( 1, \\  2, \\  \\left[ \\left[\\begin{matrix}1\\\\1\\\\0\\end{matrix}\\right], \\  \\left[\\begin{matrix}2\\\\0\\\\1\\end{matrix}\\right]\\right]\\right), \\  \\left( 2, \\  1, \\  \\left[ \\left[\\begin{matrix}1\\\\0\\\\1\\end{matrix}\\right]\\right]\\right)\\right]$,\\\\\n",
      "$A = P\\,D\\,P^{-1}: \\quad P=\\left[\\begin{matrix}1 & 2 & 1\\\\1 & 0 & 0\\\\0 & 1 & 1\\end{matrix}\\right],$ \\quad \n",
      "$D=\\left[\\begin{matrix}1 & 0 & 0\\\\0 & 1 & 0\\\\0 & 0 & 2\\end{matrix}\\right]$\n",
      "\u001B[32m*\u001B[0m\u001B[32m*\u001B[0m\u001B[32m*\u001B[0m\u001B[32m*\u001B[0m\u001B[32m*\u001B[0m\u001B[32m*\u001B[0m\u001B[32m*\u001B[0m\u001B[32m*\u001B[0m\u001B[32m*\u001B[0m\u001B[32m*\u001B[0m\u001B[32m*\u001B[0m\u001B[32m*\u001B[0m\u001B[32m*\u001B[0m\u001B[32m*\u001B[0m\u001B[32m*\u001B[0m\u001B[32m*\u001B[0m\u001B[32m*\u001B[0m\u001B[32m*\u001B[0m\u001B[32m*\u001B[0m\u001B[32m*\u001B[0m\u001B[32m*\u001B[0m\u001B[32m*\u001B[0m\u001B[32m*\u001B[0m\u001B[32m*\u001B[0m\u001B[32m*\u001B[0m\u001B[32m*\u001B[0m\u001B[32m*\u001B[0m\u001B[32m*\u001B[0m\u001B[32m*\u001B[0m\u001B[32m*\u001B[0m\u001B[32m*\u001B[0m\u001B[32m*\u001B[0m\u001B[32m*\u001B[0m\u001B[32m*\u001B[0m\u001B[32m*\u001B[0m\u001B[32m*\u001B[0m\u001B[32m*\u001B[0m\u001B[32m*\u001B[0m\u001B[32m*\u001B[0m\u001B[32m*\u001B[0m\u001B[32m*\u001B[0m\u001B[32m*\u001B[0m\u001B[32m*\u001B[0m\u001B[32m*\u001B[0m\u001B[32m*\u001B[0m\u001B[32m*\u001B[0m\u001B[32m*\u001B[0m\u001B[32m*\u001B[0m\u001B[32m*\u001B[0m\u001B[32m*\u001B[0m\u001B[32m*\u001B[0m\u001B[32m*\u001B[0m\u001B[32m*\u001B[0m\u001B[32m*\u001B[0m\u001B[32m*\u001B[0m\u001B[32m*\u001B[0m\u001B[32m*\u001B[0m\u001B[32m*\u001B[0m\u001B[32m*\u001B[0m\u001B[32m*\u001B[0m\u001B[32m*\u001B[0m\u001B[32m*\u001B[0m\u001B[32m*\u001B[0m\u001B[32m*\u001B[0m\u001B[32m*\u001B[0m\u001B[32m*\u001B[0m\u001B[32m*\u001B[0m\u001B[32m*\u001B[0m\u001B[32m*\u001B[0m\u001B[32m*\u001B[0m\u001B[32m*\u001B[0m\u001B[32m*\u001B[0m\u001B[32m*\u001B[0m\u001B[32m*\u001B[0m\u001B[32m*\u001B[0m\u001B[32m*\u001B[0m\u001B[32m*\u001B[0m\u001B[32m*\u001B[0m\u001B[32m*\u001B[0m\u001B[32m*\u001B[0m\u001B[32m*\u001B[0m\u001B[32m*\u001B[0m\u001B[32m*\u001B[0m\u001B[32m*\u001B[0m\u001B[32m*\u001B[0m\u001B[32m*\u001B[0m\u001B[32m*\u001B[0m\u001B[32m*\u001B[0m\u001B[32m*\u001B[0m\u001B[32m*\u001B[0m\u001B[32m*\u001B[0m\u001B[32m*\u001B[0m\u001B[32m*\u001B[0m\u001B[32m*\u001B[0m\u001B[32m*\u001B[0m\n"
     ]
    }
   ],
   "execution_count": 4
  },
  {
   "metadata": {
    "ExecuteTime": {
     "end_time": "2024-09-12T17:40:49.067054Z",
     "start_time": "2024-09-12T17:39:15.041522Z"
    },
    "tags": [
     "hide-input"
    ]
   },
   "cell_type": "code",
   "source": [
    "from random import choice\n",
    "\n",
    "for i in range(1, ile_zadan_przykladowych):\n",
    "    zadanie = gz.diagonalizacja_macierzy_z_wielokrotnym_wartosciami_wlasnymi(wymiar=choice([2, 3, 4]))\n",
    "    print(f\"\\033[34m** Zadanie {i} **\" + '*' * 80 + '\\033[0m')\n",
    "    display(Markdown(zadanie[0][:39]))\n",
    "    display(Latex(zadanie[0][39:]))\n",
    "    print(\"\\033[34m*\\033[0m\" * 95)\n",
    "    print(\"\\033[32m** Rozwiązanie **\" + '*' * 78 + '\\033[0m')\n",
    "    display(Latex(zadanie[1].split(', \\quad')[0].replace(\"$\", \"$$\")))\n",
    "    display(Markdown(\"Wartości własne\"))\n",
    "    display(Latex(\"$$\" + (zadanie[1].split(', \\quad')[1]).split(\"$\")[1] + \"$$\"))\n",
    "    display(Markdown(\"Wektory własne\"))\n",
    "    display(Latex(\"$$\" + (zadanie[1].split(', \\quad')[1]).split(\"$\")[3] + \"$$\"))\n",
    "    display(Markdown(\"Diagonalizacja:\"))\n",
    "    try:\n",
    "        display(Latex(\"$$\" + (zadanie[1].split(', \\quad')[1]).split(\"$\")[5]\n",
    "                      + '\\quad ' + (zadanie[1].split(', \\quad')[1]).split(\"$\")[7] + \"$$\"))\n",
    "    except Exception:\n",
    "        display(Markdown(\"Macierz nie jest diagonalizowalna\"))\n",
    "    print(\"\\033[32m*\\033[0m\" * 95)"
   ],
   "id": "1065318f097e07a5",
   "outputs": [
    {
     "name": "stdout",
     "output_type": "stream",
     "text": [
      "\u001B[34m** Zadanie 1 **********************************************************************************\u001B[0m\n"
     ]
    },
    {
     "data": {
      "text/plain": [
       "<IPython.core.display.Markdown object>"
      ],
      "text/markdown": "Przeprowadzić diagonalizację macierzy\n\t"
     },
     "metadata": {},
     "output_type": "display_data"
    },
    {
     "data": {
      "text/plain": [
       "<IPython.core.display.Latex object>"
      ],
      "text/latex": "\\[\n\t\t\\textnormal{A=} \\left[\\begin{matrix}3 & 0 & 0\\\\1 & 0 & 0\\\\-2 & 0 & 0\\end{matrix}\\right]\n\t\\]"
     },
     "metadata": {},
     "output_type": "display_data"
    },
    {
     "name": "stdout",
     "output_type": "stream",
     "text": [
      "\u001B[34m*\u001B[0m\u001B[34m*\u001B[0m\u001B[34m*\u001B[0m\u001B[34m*\u001B[0m\u001B[34m*\u001B[0m\u001B[34m*\u001B[0m\u001B[34m*\u001B[0m\u001B[34m*\u001B[0m\u001B[34m*\u001B[0m\u001B[34m*\u001B[0m\u001B[34m*\u001B[0m\u001B[34m*\u001B[0m\u001B[34m*\u001B[0m\u001B[34m*\u001B[0m\u001B[34m*\u001B[0m\u001B[34m*\u001B[0m\u001B[34m*\u001B[0m\u001B[34m*\u001B[0m\u001B[34m*\u001B[0m\u001B[34m*\u001B[0m\u001B[34m*\u001B[0m\u001B[34m*\u001B[0m\u001B[34m*\u001B[0m\u001B[34m*\u001B[0m\u001B[34m*\u001B[0m\u001B[34m*\u001B[0m\u001B[34m*\u001B[0m\u001B[34m*\u001B[0m\u001B[34m*\u001B[0m\u001B[34m*\u001B[0m\u001B[34m*\u001B[0m\u001B[34m*\u001B[0m\u001B[34m*\u001B[0m\u001B[34m*\u001B[0m\u001B[34m*\u001B[0m\u001B[34m*\u001B[0m\u001B[34m*\u001B[0m\u001B[34m*\u001B[0m\u001B[34m*\u001B[0m\u001B[34m*\u001B[0m\u001B[34m*\u001B[0m\u001B[34m*\u001B[0m\u001B[34m*\u001B[0m\u001B[34m*\u001B[0m\u001B[34m*\u001B[0m\u001B[34m*\u001B[0m\u001B[34m*\u001B[0m\u001B[34m*\u001B[0m\u001B[34m*\u001B[0m\u001B[34m*\u001B[0m\u001B[34m*\u001B[0m\u001B[34m*\u001B[0m\u001B[34m*\u001B[0m\u001B[34m*\u001B[0m\u001B[34m*\u001B[0m\u001B[34m*\u001B[0m\u001B[34m*\u001B[0m\u001B[34m*\u001B[0m\u001B[34m*\u001B[0m\u001B[34m*\u001B[0m\u001B[34m*\u001B[0m\u001B[34m*\u001B[0m\u001B[34m*\u001B[0m\u001B[34m*\u001B[0m\u001B[34m*\u001B[0m\u001B[34m*\u001B[0m\u001B[34m*\u001B[0m\u001B[34m*\u001B[0m\u001B[34m*\u001B[0m\u001B[34m*\u001B[0m\u001B[34m*\u001B[0m\u001B[34m*\u001B[0m\u001B[34m*\u001B[0m\u001B[34m*\u001B[0m\u001B[34m*\u001B[0m\u001B[34m*\u001B[0m\u001B[34m*\u001B[0m\u001B[34m*\u001B[0m\u001B[34m*\u001B[0m\u001B[34m*\u001B[0m\u001B[34m*\u001B[0m\u001B[34m*\u001B[0m\u001B[34m*\u001B[0m\u001B[34m*\u001B[0m\u001B[34m*\u001B[0m\u001B[34m*\u001B[0m\u001B[34m*\u001B[0m\u001B[34m*\u001B[0m\u001B[34m*\u001B[0m\u001B[34m*\u001B[0m\u001B[34m*\u001B[0m\u001B[34m*\u001B[0m\u001B[34m*\u001B[0m\u001B[34m*\u001B[0m\u001B[34m*\u001B[0m\n",
      "\u001B[32m** Rozwiązanie ********************************************************************************\u001B[0m\n"
     ]
    },
    {
     "data": {
      "text/plain": [
       "<IPython.core.display.Latex object>"
      ],
      "text/latex": "$$\\det\\left(\\lambda \\mathbb{I} - A \\right) = \\lambda^{3} - 3 \\lambda^{2}$$"
     },
     "metadata": {},
     "output_type": "display_data"
    },
    {
     "data": {
      "text/plain": [
       "<IPython.core.display.Markdown object>"
      ],
      "text/markdown": "Wartości własne"
     },
     "metadata": {},
     "output_type": "display_data"
    },
    {
     "data": {
      "text/plain": [
       "<IPython.core.display.Latex object>"
      ],
      "text/latex": "$$ \\left\\{ 0 : 2, \\  3 : 1\\right\\}, $$"
     },
     "metadata": {},
     "output_type": "display_data"
    },
    {
     "data": {
      "text/plain": [
       "<IPython.core.display.Markdown object>"
      ],
      "text/markdown": "Wektory własne"
     },
     "metadata": {},
     "output_type": "display_data"
    },
    {
     "data": {
      "text/plain": [
       "<IPython.core.display.Latex object>"
      ],
      "text/latex": "$$\\left[ \\left( 0, \\  2, \\  \\left[ \\left[\\begin{matrix}0\\\\1\\\\0\\end{matrix}\\right], \\  \\left[\\begin{matrix}0\\\\0\\\\1\\end{matrix}\\right]\\right]\\right), \\  \\left( 3, \\  1, \\  \\left[ \\left[\\begin{matrix}- \\frac{3}{2}\\\\- \\frac{1}{2}\\\\1\\end{matrix}\\right]\\right]\\right)\\right]$$"
     },
     "metadata": {},
     "output_type": "display_data"
    },
    {
     "data": {
      "text/plain": [
       "<IPython.core.display.Markdown object>"
      ],
      "text/markdown": "Diagonalizacja:"
     },
     "metadata": {},
     "output_type": "display_data"
    },
    {
     "data": {
      "text/plain": [
       "<IPython.core.display.Latex object>"
      ],
      "text/latex": "$$A = P\\,D\\,P^{-1}: \\quad P=\\left[\\begin{matrix}0 & 0 & -3\\\\1 & 0 & -1\\\\0 & 1 & 2\\end{matrix}\\right],\\quad D=\\left[\\begin{matrix}0 & 0 & 0\\\\0 & 0 & 0\\\\0 & 0 & 3\\end{matrix}\\right]$$"
     },
     "metadata": {},
     "output_type": "display_data"
    },
    {
     "name": "stdout",
     "output_type": "stream",
     "text": [
      "\u001B[32m*\u001B[0m\u001B[32m*\u001B[0m\u001B[32m*\u001B[0m\u001B[32m*\u001B[0m\u001B[32m*\u001B[0m\u001B[32m*\u001B[0m\u001B[32m*\u001B[0m\u001B[32m*\u001B[0m\u001B[32m*\u001B[0m\u001B[32m*\u001B[0m\u001B[32m*\u001B[0m\u001B[32m*\u001B[0m\u001B[32m*\u001B[0m\u001B[32m*\u001B[0m\u001B[32m*\u001B[0m\u001B[32m*\u001B[0m\u001B[32m*\u001B[0m\u001B[32m*\u001B[0m\u001B[32m*\u001B[0m\u001B[32m*\u001B[0m\u001B[32m*\u001B[0m\u001B[32m*\u001B[0m\u001B[32m*\u001B[0m\u001B[32m*\u001B[0m\u001B[32m*\u001B[0m\u001B[32m*\u001B[0m\u001B[32m*\u001B[0m\u001B[32m*\u001B[0m\u001B[32m*\u001B[0m\u001B[32m*\u001B[0m\u001B[32m*\u001B[0m\u001B[32m*\u001B[0m\u001B[32m*\u001B[0m\u001B[32m*\u001B[0m\u001B[32m*\u001B[0m\u001B[32m*\u001B[0m\u001B[32m*\u001B[0m\u001B[32m*\u001B[0m\u001B[32m*\u001B[0m\u001B[32m*\u001B[0m\u001B[32m*\u001B[0m\u001B[32m*\u001B[0m\u001B[32m*\u001B[0m\u001B[32m*\u001B[0m\u001B[32m*\u001B[0m\u001B[32m*\u001B[0m\u001B[32m*\u001B[0m\u001B[32m*\u001B[0m\u001B[32m*\u001B[0m\u001B[32m*\u001B[0m\u001B[32m*\u001B[0m\u001B[32m*\u001B[0m\u001B[32m*\u001B[0m\u001B[32m*\u001B[0m\u001B[32m*\u001B[0m\u001B[32m*\u001B[0m\u001B[32m*\u001B[0m\u001B[32m*\u001B[0m\u001B[32m*\u001B[0m\u001B[32m*\u001B[0m\u001B[32m*\u001B[0m\u001B[32m*\u001B[0m\u001B[32m*\u001B[0m\u001B[32m*\u001B[0m\u001B[32m*\u001B[0m\u001B[32m*\u001B[0m\u001B[32m*\u001B[0m\u001B[32m*\u001B[0m\u001B[32m*\u001B[0m\u001B[32m*\u001B[0m\u001B[32m*\u001B[0m\u001B[32m*\u001B[0m\u001B[32m*\u001B[0m\u001B[32m*\u001B[0m\u001B[32m*\u001B[0m\u001B[32m*\u001B[0m\u001B[32m*\u001B[0m\u001B[32m*\u001B[0m\u001B[32m*\u001B[0m\u001B[32m*\u001B[0m\u001B[32m*\u001B[0m\u001B[32m*\u001B[0m\u001B[32m*\u001B[0m\u001B[32m*\u001B[0m\u001B[32m*\u001B[0m\u001B[32m*\u001B[0m\u001B[32m*\u001B[0m\u001B[32m*\u001B[0m\u001B[32m*\u001B[0m\u001B[32m*\u001B[0m\u001B[32m*\u001B[0m\u001B[32m*\u001B[0m\u001B[32m*\u001B[0m\u001B[32m*\u001B[0m\u001B[32m*\u001B[0m\n",
      "\u001B[34m** Zadanie 2 **********************************************************************************\u001B[0m\n"
     ]
    },
    {
     "data": {
      "text/plain": [
       "<IPython.core.display.Markdown object>"
      ],
      "text/markdown": "Przeprowadzić diagonalizację macierzy\n\t"
     },
     "metadata": {},
     "output_type": "display_data"
    },
    {
     "data": {
      "text/plain": [
       "<IPython.core.display.Latex object>"
      ],
      "text/latex": "\\[\n\t\t\\textnormal{A=} \\left[\\begin{matrix}-2 & 2 & -1 & -1\\\\2 & -2 & 2 & 3\\\\1 & -2 & 0 & 1\\\\1 & -2 & 1 & 0\\end{matrix}\\right]\n\t\\]"
     },
     "metadata": {},
     "output_type": "display_data"
    },
    {
     "name": "stdout",
     "output_type": "stream",
     "text": [
      "\u001B[34m*\u001B[0m\u001B[34m*\u001B[0m\u001B[34m*\u001B[0m\u001B[34m*\u001B[0m\u001B[34m*\u001B[0m\u001B[34m*\u001B[0m\u001B[34m*\u001B[0m\u001B[34m*\u001B[0m\u001B[34m*\u001B[0m\u001B[34m*\u001B[0m\u001B[34m*\u001B[0m\u001B[34m*\u001B[0m\u001B[34m*\u001B[0m\u001B[34m*\u001B[0m\u001B[34m*\u001B[0m\u001B[34m*\u001B[0m\u001B[34m*\u001B[0m\u001B[34m*\u001B[0m\u001B[34m*\u001B[0m\u001B[34m*\u001B[0m\u001B[34m*\u001B[0m\u001B[34m*\u001B[0m\u001B[34m*\u001B[0m\u001B[34m*\u001B[0m\u001B[34m*\u001B[0m\u001B[34m*\u001B[0m\u001B[34m*\u001B[0m\u001B[34m*\u001B[0m\u001B[34m*\u001B[0m\u001B[34m*\u001B[0m\u001B[34m*\u001B[0m\u001B[34m*\u001B[0m\u001B[34m*\u001B[0m\u001B[34m*\u001B[0m\u001B[34m*\u001B[0m\u001B[34m*\u001B[0m\u001B[34m*\u001B[0m\u001B[34m*\u001B[0m\u001B[34m*\u001B[0m\u001B[34m*\u001B[0m\u001B[34m*\u001B[0m\u001B[34m*\u001B[0m\u001B[34m*\u001B[0m\u001B[34m*\u001B[0m\u001B[34m*\u001B[0m\u001B[34m*\u001B[0m\u001B[34m*\u001B[0m\u001B[34m*\u001B[0m\u001B[34m*\u001B[0m\u001B[34m*\u001B[0m\u001B[34m*\u001B[0m\u001B[34m*\u001B[0m\u001B[34m*\u001B[0m\u001B[34m*\u001B[0m\u001B[34m*\u001B[0m\u001B[34m*\u001B[0m\u001B[34m*\u001B[0m\u001B[34m*\u001B[0m\u001B[34m*\u001B[0m\u001B[34m*\u001B[0m\u001B[34m*\u001B[0m\u001B[34m*\u001B[0m\u001B[34m*\u001B[0m\u001B[34m*\u001B[0m\u001B[34m*\u001B[0m\u001B[34m*\u001B[0m\u001B[34m*\u001B[0m\u001B[34m*\u001B[0m\u001B[34m*\u001B[0m\u001B[34m*\u001B[0m\u001B[34m*\u001B[0m\u001B[34m*\u001B[0m\u001B[34m*\u001B[0m\u001B[34m*\u001B[0m\u001B[34m*\u001B[0m\u001B[34m*\u001B[0m\u001B[34m*\u001B[0m\u001B[34m*\u001B[0m\u001B[34m*\u001B[0m\u001B[34m*\u001B[0m\u001B[34m*\u001B[0m\u001B[34m*\u001B[0m\u001B[34m*\u001B[0m\u001B[34m*\u001B[0m\u001B[34m*\u001B[0m\u001B[34m*\u001B[0m\u001B[34m*\u001B[0m\u001B[34m*\u001B[0m\u001B[34m*\u001B[0m\u001B[34m*\u001B[0m\u001B[34m*\u001B[0m\u001B[34m*\u001B[0m\u001B[34m*\u001B[0m\u001B[34m*\u001B[0m\u001B[34m*\u001B[0m\n",
      "\u001B[32m** Rozwiązanie ********************************************************************************\u001B[0m\n"
     ]
    },
    {
     "data": {
      "text/plain": [
       "<IPython.core.display.Latex object>"
      ],
      "text/latex": "$$\\det\\left(\\lambda \\mathbb{I} - A \\right) = \\lambda^{4} + 4 \\lambda^{3} + 11 \\lambda^{2} + 14 \\lambda + 6$$"
     },
     "metadata": {},
     "output_type": "display_data"
    },
    {
     "data": {
      "text/plain": [
       "<IPython.core.display.Markdown object>"
      ],
      "text/markdown": "Wartości własne"
     },
     "metadata": {},
     "output_type": "display_data"
    },
    {
     "data": {
      "text/plain": [
       "<IPython.core.display.Latex object>"
      ],
      "text/latex": "$$ \\left\\{ -1 : 2, \\  -1 - \\sqrt{5} i : 1, \\  -1 + \\sqrt{5} i : 1\\right\\}, $$"
     },
     "metadata": {},
     "output_type": "display_data"
    },
    {
     "data": {
      "text/plain": [
       "<IPython.core.display.Markdown object>"
      ],
      "text/markdown": "Wektory własne"
     },
     "metadata": {},
     "output_type": "display_data"
    },
    {
     "data": {
      "text/plain": [
       "<IPython.core.display.Latex object>"
      ],
      "text/latex": "$$\\left[ \\left( -1, \\  2, \\  \\left[ \\left[\\begin{matrix}-1\\\\0\\\\1\\\\0\\end{matrix}\\right], \\  \\left[\\begin{matrix}- \\frac{5}{3}\\\\- \\frac{1}{3}\\\\0\\\\1\\end{matrix}\\right]\\right]\\right), \\  \\left( -1 - \\sqrt{5} i, \\  1, \\  \\left[ \\left[\\begin{matrix}-1\\\\\\frac{1}{2} + \\frac{\\sqrt{5} i}{2}\\\\1\\\\1\\end{matrix}\\right]\\right]\\right), \\  \\left( -1 + \\sqrt{5} i, \\  1, \\  \\left[ \\left[\\begin{matrix}-1\\\\\\frac{1}{2} - \\frac{\\sqrt{5} i}{2}\\\\1\\\\1\\end{matrix}\\right]\\right]\\right)\\right]$$"
     },
     "metadata": {},
     "output_type": "display_data"
    },
    {
     "data": {
      "text/plain": [
       "<IPython.core.display.Markdown object>"
      ],
      "text/markdown": "Diagonalizacja:"
     },
     "metadata": {},
     "output_type": "display_data"
    },
    {
     "data": {
      "text/plain": [
       "<IPython.core.display.Latex object>"
      ],
      "text/latex": "$$A = P\\,D\\,P^{-1}: \\quad P=\\left[\\begin{matrix}-1 & -5 & -1 & -1\\\\0 & -1 & \\frac{1}{2} + \\frac{\\sqrt{5} i}{2} & \\frac{1}{2} - \\frac{\\sqrt{5} i}{2}\\\\1 & 0 & 1 & 1\\\\0 & 3 & 1 & 1\\end{matrix}\\right],\\quad D=\\left[\\begin{matrix}-1 & 0 & 0 & 0\\\\0 & -1 & 0 & 0\\\\0 & 0 & -1 - \\sqrt{5} i & 0\\\\0 & 0 & 0 & -1 + \\sqrt{5} i\\end{matrix}\\right]$$"
     },
     "metadata": {},
     "output_type": "display_data"
    },
    {
     "name": "stdout",
     "output_type": "stream",
     "text": [
      "\u001B[32m*\u001B[0m\u001B[32m*\u001B[0m\u001B[32m*\u001B[0m\u001B[32m*\u001B[0m\u001B[32m*\u001B[0m\u001B[32m*\u001B[0m\u001B[32m*\u001B[0m\u001B[32m*\u001B[0m\u001B[32m*\u001B[0m\u001B[32m*\u001B[0m\u001B[32m*\u001B[0m\u001B[32m*\u001B[0m\u001B[32m*\u001B[0m\u001B[32m*\u001B[0m\u001B[32m*\u001B[0m\u001B[32m*\u001B[0m\u001B[32m*\u001B[0m\u001B[32m*\u001B[0m\u001B[32m*\u001B[0m\u001B[32m*\u001B[0m\u001B[32m*\u001B[0m\u001B[32m*\u001B[0m\u001B[32m*\u001B[0m\u001B[32m*\u001B[0m\u001B[32m*\u001B[0m\u001B[32m*\u001B[0m\u001B[32m*\u001B[0m\u001B[32m*\u001B[0m\u001B[32m*\u001B[0m\u001B[32m*\u001B[0m\u001B[32m*\u001B[0m\u001B[32m*\u001B[0m\u001B[32m*\u001B[0m\u001B[32m*\u001B[0m\u001B[32m*\u001B[0m\u001B[32m*\u001B[0m\u001B[32m*\u001B[0m\u001B[32m*\u001B[0m\u001B[32m*\u001B[0m\u001B[32m*\u001B[0m\u001B[32m*\u001B[0m\u001B[32m*\u001B[0m\u001B[32m*\u001B[0m\u001B[32m*\u001B[0m\u001B[32m*\u001B[0m\u001B[32m*\u001B[0m\u001B[32m*\u001B[0m\u001B[32m*\u001B[0m\u001B[32m*\u001B[0m\u001B[32m*\u001B[0m\u001B[32m*\u001B[0m\u001B[32m*\u001B[0m\u001B[32m*\u001B[0m\u001B[32m*\u001B[0m\u001B[32m*\u001B[0m\u001B[32m*\u001B[0m\u001B[32m*\u001B[0m\u001B[32m*\u001B[0m\u001B[32m*\u001B[0m\u001B[32m*\u001B[0m\u001B[32m*\u001B[0m\u001B[32m*\u001B[0m\u001B[32m*\u001B[0m\u001B[32m*\u001B[0m\u001B[32m*\u001B[0m\u001B[32m*\u001B[0m\u001B[32m*\u001B[0m\u001B[32m*\u001B[0m\u001B[32m*\u001B[0m\u001B[32m*\u001B[0m\u001B[32m*\u001B[0m\u001B[32m*\u001B[0m\u001B[32m*\u001B[0m\u001B[32m*\u001B[0m\u001B[32m*\u001B[0m\u001B[32m*\u001B[0m\u001B[32m*\u001B[0m\u001B[32m*\u001B[0m\u001B[32m*\u001B[0m\u001B[32m*\u001B[0m\u001B[32m*\u001B[0m\u001B[32m*\u001B[0m\u001B[32m*\u001B[0m\u001B[32m*\u001B[0m\u001B[32m*\u001B[0m\u001B[32m*\u001B[0m\u001B[32m*\u001B[0m\u001B[32m*\u001B[0m\u001B[32m*\u001B[0m\u001B[32m*\u001B[0m\u001B[32m*\u001B[0m\u001B[32m*\u001B[0m\u001B[32m*\u001B[0m\u001B[32m*\u001B[0m\u001B[32m*\u001B[0m\n",
      "\u001B[34m** Zadanie 3 **********************************************************************************\u001B[0m\n"
     ]
    },
    {
     "data": {
      "text/plain": [
       "<IPython.core.display.Markdown object>"
      ],
      "text/markdown": "Przeprowadzić diagonalizację macierzy\n\t"
     },
     "metadata": {},
     "output_type": "display_data"
    },
    {
     "data": {
      "text/plain": [
       "<IPython.core.display.Latex object>"
      ],
      "text/latex": "\\[\n\t\t\\textnormal{A=} \\left[\\begin{matrix}2 & 2 & -1\\\\3 & 1 & -1\\\\3 & 2 & -2\\end{matrix}\\right]\n\t\\]"
     },
     "metadata": {},
     "output_type": "display_data"
    },
    {
     "name": "stdout",
     "output_type": "stream",
     "text": [
      "\u001B[34m*\u001B[0m\u001B[34m*\u001B[0m\u001B[34m*\u001B[0m\u001B[34m*\u001B[0m\u001B[34m*\u001B[0m\u001B[34m*\u001B[0m\u001B[34m*\u001B[0m\u001B[34m*\u001B[0m\u001B[34m*\u001B[0m\u001B[34m*\u001B[0m\u001B[34m*\u001B[0m\u001B[34m*\u001B[0m\u001B[34m*\u001B[0m\u001B[34m*\u001B[0m\u001B[34m*\u001B[0m\u001B[34m*\u001B[0m\u001B[34m*\u001B[0m\u001B[34m*\u001B[0m\u001B[34m*\u001B[0m\u001B[34m*\u001B[0m\u001B[34m*\u001B[0m\u001B[34m*\u001B[0m\u001B[34m*\u001B[0m\u001B[34m*\u001B[0m\u001B[34m*\u001B[0m\u001B[34m*\u001B[0m\u001B[34m*\u001B[0m\u001B[34m*\u001B[0m\u001B[34m*\u001B[0m\u001B[34m*\u001B[0m\u001B[34m*\u001B[0m\u001B[34m*\u001B[0m\u001B[34m*\u001B[0m\u001B[34m*\u001B[0m\u001B[34m*\u001B[0m\u001B[34m*\u001B[0m\u001B[34m*\u001B[0m\u001B[34m*\u001B[0m\u001B[34m*\u001B[0m\u001B[34m*\u001B[0m\u001B[34m*\u001B[0m\u001B[34m*\u001B[0m\u001B[34m*\u001B[0m\u001B[34m*\u001B[0m\u001B[34m*\u001B[0m\u001B[34m*\u001B[0m\u001B[34m*\u001B[0m\u001B[34m*\u001B[0m\u001B[34m*\u001B[0m\u001B[34m*\u001B[0m\u001B[34m*\u001B[0m\u001B[34m*\u001B[0m\u001B[34m*\u001B[0m\u001B[34m*\u001B[0m\u001B[34m*\u001B[0m\u001B[34m*\u001B[0m\u001B[34m*\u001B[0m\u001B[34m*\u001B[0m\u001B[34m*\u001B[0m\u001B[34m*\u001B[0m\u001B[34m*\u001B[0m\u001B[34m*\u001B[0m\u001B[34m*\u001B[0m\u001B[34m*\u001B[0m\u001B[34m*\u001B[0m\u001B[34m*\u001B[0m\u001B[34m*\u001B[0m\u001B[34m*\u001B[0m\u001B[34m*\u001B[0m\u001B[34m*\u001B[0m\u001B[34m*\u001B[0m\u001B[34m*\u001B[0m\u001B[34m*\u001B[0m\u001B[34m*\u001B[0m\u001B[34m*\u001B[0m\u001B[34m*\u001B[0m\u001B[34m*\u001B[0m\u001B[34m*\u001B[0m\u001B[34m*\u001B[0m\u001B[34m*\u001B[0m\u001B[34m*\u001B[0m\u001B[34m*\u001B[0m\u001B[34m*\u001B[0m\u001B[34m*\u001B[0m\u001B[34m*\u001B[0m\u001B[34m*\u001B[0m\u001B[34m*\u001B[0m\u001B[34m*\u001B[0m\u001B[34m*\u001B[0m\u001B[34m*\u001B[0m\u001B[34m*\u001B[0m\u001B[34m*\u001B[0m\u001B[34m*\u001B[0m\u001B[34m*\u001B[0m\u001B[34m*\u001B[0m\n",
      "\u001B[32m** Rozwiązanie ********************************************************************************\u001B[0m\n"
     ]
    },
    {
     "data": {
      "text/plain": [
       "<IPython.core.display.Latex object>"
      ],
      "text/latex": "$$\\det\\left(\\lambda \\mathbb{I} - A \\right) = \\lambda^{3} - \\lambda^{2} - 5 \\lambda - 3$$"
     },
     "metadata": {},
     "output_type": "display_data"
    },
    {
     "data": {
      "text/plain": [
       "<IPython.core.display.Markdown object>"
      ],
      "text/markdown": "Wartości własne"
     },
     "metadata": {},
     "output_type": "display_data"
    },
    {
     "data": {
      "text/plain": [
       "<IPython.core.display.Latex object>"
      ],
      "text/latex": "$$ \\left\\{ -1 : 2, \\  3 : 1\\right\\}, $$"
     },
     "metadata": {},
     "output_type": "display_data"
    },
    {
     "data": {
      "text/plain": [
       "<IPython.core.display.Markdown object>"
      ],
      "text/markdown": "Wektory własne"
     },
     "metadata": {},
     "output_type": "display_data"
    },
    {
     "data": {
      "text/plain": [
       "<IPython.core.display.Latex object>"
      ],
      "text/latex": "$$\\left[ \\left( -1, \\  2, \\  \\left[ \\left[\\begin{matrix}- \\frac{2}{3}\\\\1\\\\0\\end{matrix}\\right], \\  \\left[\\begin{matrix}\\frac{1}{3}\\\\0\\\\1\\end{matrix}\\right]\\right]\\right), \\  \\left( 3, \\  1, \\  \\left[ \\left[\\begin{matrix}1\\\\1\\\\1\\end{matrix}\\right]\\right]\\right)\\right]$$"
     },
     "metadata": {},
     "output_type": "display_data"
    },
    {
     "data": {
      "text/plain": [
       "<IPython.core.display.Markdown object>"
      ],
      "text/markdown": "Diagonalizacja:"
     },
     "metadata": {},
     "output_type": "display_data"
    },
    {
     "data": {
      "text/plain": [
       "<IPython.core.display.Latex object>"
      ],
      "text/latex": "$$A = P\\,D\\,P^{-1}: \\quad P=\\left[\\begin{matrix}-2 & 1 & 1\\\\3 & 0 & 1\\\\0 & 3 & 1\\end{matrix}\\right],\\quad D=\\left[\\begin{matrix}-1 & 0 & 0\\\\0 & -1 & 0\\\\0 & 0 & 3\\end{matrix}\\right]$$"
     },
     "metadata": {},
     "output_type": "display_data"
    },
    {
     "name": "stdout",
     "output_type": "stream",
     "text": [
      "\u001B[32m*\u001B[0m\u001B[32m*\u001B[0m\u001B[32m*\u001B[0m\u001B[32m*\u001B[0m\u001B[32m*\u001B[0m\u001B[32m*\u001B[0m\u001B[32m*\u001B[0m\u001B[32m*\u001B[0m\u001B[32m*\u001B[0m\u001B[32m*\u001B[0m\u001B[32m*\u001B[0m\u001B[32m*\u001B[0m\u001B[32m*\u001B[0m\u001B[32m*\u001B[0m\u001B[32m*\u001B[0m\u001B[32m*\u001B[0m\u001B[32m*\u001B[0m\u001B[32m*\u001B[0m\u001B[32m*\u001B[0m\u001B[32m*\u001B[0m\u001B[32m*\u001B[0m\u001B[32m*\u001B[0m\u001B[32m*\u001B[0m\u001B[32m*\u001B[0m\u001B[32m*\u001B[0m\u001B[32m*\u001B[0m\u001B[32m*\u001B[0m\u001B[32m*\u001B[0m\u001B[32m*\u001B[0m\u001B[32m*\u001B[0m\u001B[32m*\u001B[0m\u001B[32m*\u001B[0m\u001B[32m*\u001B[0m\u001B[32m*\u001B[0m\u001B[32m*\u001B[0m\u001B[32m*\u001B[0m\u001B[32m*\u001B[0m\u001B[32m*\u001B[0m\u001B[32m*\u001B[0m\u001B[32m*\u001B[0m\u001B[32m*\u001B[0m\u001B[32m*\u001B[0m\u001B[32m*\u001B[0m\u001B[32m*\u001B[0m\u001B[32m*\u001B[0m\u001B[32m*\u001B[0m\u001B[32m*\u001B[0m\u001B[32m*\u001B[0m\u001B[32m*\u001B[0m\u001B[32m*\u001B[0m\u001B[32m*\u001B[0m\u001B[32m*\u001B[0m\u001B[32m*\u001B[0m\u001B[32m*\u001B[0m\u001B[32m*\u001B[0m\u001B[32m*\u001B[0m\u001B[32m*\u001B[0m\u001B[32m*\u001B[0m\u001B[32m*\u001B[0m\u001B[32m*\u001B[0m\u001B[32m*\u001B[0m\u001B[32m*\u001B[0m\u001B[32m*\u001B[0m\u001B[32m*\u001B[0m\u001B[32m*\u001B[0m\u001B[32m*\u001B[0m\u001B[32m*\u001B[0m\u001B[32m*\u001B[0m\u001B[32m*\u001B[0m\u001B[32m*\u001B[0m\u001B[32m*\u001B[0m\u001B[32m*\u001B[0m\u001B[32m*\u001B[0m\u001B[32m*\u001B[0m\u001B[32m*\u001B[0m\u001B[32m*\u001B[0m\u001B[32m*\u001B[0m\u001B[32m*\u001B[0m\u001B[32m*\u001B[0m\u001B[32m*\u001B[0m\u001B[32m*\u001B[0m\u001B[32m*\u001B[0m\u001B[32m*\u001B[0m\u001B[32m*\u001B[0m\u001B[32m*\u001B[0m\u001B[32m*\u001B[0m\u001B[32m*\u001B[0m\u001B[32m*\u001B[0m\u001B[32m*\u001B[0m\u001B[32m*\u001B[0m\u001B[32m*\u001B[0m\u001B[32m*\u001B[0m\u001B[32m*\u001B[0m\u001B[32m*\u001B[0m\u001B[32m*\u001B[0m\n",
      "\u001B[34m** Zadanie 4 **********************************************************************************\u001B[0m\n"
     ]
    },
    {
     "data": {
      "text/plain": [
       "<IPython.core.display.Markdown object>"
      ],
      "text/markdown": "Przeprowadzić diagonalizację macierzy\n\t"
     },
     "metadata": {},
     "output_type": "display_data"
    },
    {
     "data": {
      "text/plain": [
       "<IPython.core.display.Latex object>"
      ],
      "text/latex": "\\[\n\t\t\\textnormal{A=} \\left[\\begin{matrix}0 & -1 & 0 & -1\\\\3 & 3 & 2 & 3\\\\2 & 2 & -2 & -2\\\\3 & 2 & -2 & 2\\end{matrix}\\right]\n\t\\]"
     },
     "metadata": {},
     "output_type": "display_data"
    },
    {
     "name": "stdout",
     "output_type": "stream",
     "text": [
      "\u001B[34m*\u001B[0m\u001B[34m*\u001B[0m\u001B[34m*\u001B[0m\u001B[34m*\u001B[0m\u001B[34m*\u001B[0m\u001B[34m*\u001B[0m\u001B[34m*\u001B[0m\u001B[34m*\u001B[0m\u001B[34m*\u001B[0m\u001B[34m*\u001B[0m\u001B[34m*\u001B[0m\u001B[34m*\u001B[0m\u001B[34m*\u001B[0m\u001B[34m*\u001B[0m\u001B[34m*\u001B[0m\u001B[34m*\u001B[0m\u001B[34m*\u001B[0m\u001B[34m*\u001B[0m\u001B[34m*\u001B[0m\u001B[34m*\u001B[0m\u001B[34m*\u001B[0m\u001B[34m*\u001B[0m\u001B[34m*\u001B[0m\u001B[34m*\u001B[0m\u001B[34m*\u001B[0m\u001B[34m*\u001B[0m\u001B[34m*\u001B[0m\u001B[34m*\u001B[0m\u001B[34m*\u001B[0m\u001B[34m*\u001B[0m\u001B[34m*\u001B[0m\u001B[34m*\u001B[0m\u001B[34m*\u001B[0m\u001B[34m*\u001B[0m\u001B[34m*\u001B[0m\u001B[34m*\u001B[0m\u001B[34m*\u001B[0m\u001B[34m*\u001B[0m\u001B[34m*\u001B[0m\u001B[34m*\u001B[0m\u001B[34m*\u001B[0m\u001B[34m*\u001B[0m\u001B[34m*\u001B[0m\u001B[34m*\u001B[0m\u001B[34m*\u001B[0m\u001B[34m*\u001B[0m\u001B[34m*\u001B[0m\u001B[34m*\u001B[0m\u001B[34m*\u001B[0m\u001B[34m*\u001B[0m\u001B[34m*\u001B[0m\u001B[34m*\u001B[0m\u001B[34m*\u001B[0m\u001B[34m*\u001B[0m\u001B[34m*\u001B[0m\u001B[34m*\u001B[0m\u001B[34m*\u001B[0m\u001B[34m*\u001B[0m\u001B[34m*\u001B[0m\u001B[34m*\u001B[0m\u001B[34m*\u001B[0m\u001B[34m*\u001B[0m\u001B[34m*\u001B[0m\u001B[34m*\u001B[0m\u001B[34m*\u001B[0m\u001B[34m*\u001B[0m\u001B[34m*\u001B[0m\u001B[34m*\u001B[0m\u001B[34m*\u001B[0m\u001B[34m*\u001B[0m\u001B[34m*\u001B[0m\u001B[34m*\u001B[0m\u001B[34m*\u001B[0m\u001B[34m*\u001B[0m\u001B[34m*\u001B[0m\u001B[34m*\u001B[0m\u001B[34m*\u001B[0m\u001B[34m*\u001B[0m\u001B[34m*\u001B[0m\u001B[34m*\u001B[0m\u001B[34m*\u001B[0m\u001B[34m*\u001B[0m\u001B[34m*\u001B[0m\u001B[34m*\u001B[0m\u001B[34m*\u001B[0m\u001B[34m*\u001B[0m\u001B[34m*\u001B[0m\u001B[34m*\u001B[0m\u001B[34m*\u001B[0m\u001B[34m*\u001B[0m\u001B[34m*\u001B[0m\u001B[34m*\u001B[0m\u001B[34m*\u001B[0m\u001B[34m*\u001B[0m\u001B[34m*\u001B[0m\n",
      "\u001B[32m** Rozwiązanie ********************************************************************************\u001B[0m\n"
     ]
    },
    {
     "data": {
      "text/plain": [
       "<IPython.core.display.Latex object>"
      ],
      "text/latex": "$$\\det\\left(\\lambda \\mathbb{I} - A \\right) = \\lambda^{4} - 3 \\lambda^{3} - 12 \\lambda^{2} + 52 \\lambda - 48$$"
     },
     "metadata": {},
     "output_type": "display_data"
    },
    {
     "data": {
      "text/plain": [
       "<IPython.core.display.Markdown object>"
      ],
      "text/markdown": "Wartości własne"
     },
     "metadata": {},
     "output_type": "display_data"
    },
    {
     "data": {
      "text/plain": [
       "<IPython.core.display.Latex object>"
      ],
      "text/latex": "$$ \\left\\{ -4 : 1, \\  2 : 2, \\  3 : 1\\right\\}, $$"
     },
     "metadata": {},
     "output_type": "display_data"
    },
    {
     "data": {
      "text/plain": [
       "<IPython.core.display.Markdown object>"
      ],
      "text/markdown": "Wektory własne"
     },
     "metadata": {},
     "output_type": "display_data"
    },
    {
     "data": {
      "text/plain": [
       "<IPython.core.display.Latex object>"
      ],
      "text/latex": "$$\\left[ \\left( -4, \\  1, \\  \\left[ \\left[\\begin{matrix}0\\\\-1\\\\2\\\\1\\end{matrix}\\right]\\right]\\right), \\  \\left( 2, \\  2, \\  \\left[ \\left[\\begin{matrix}-2\\\\4\\\\1\\\\0\\end{matrix}\\right], \\  \\left[\\begin{matrix}-2\\\\3\\\\0\\\\1\\end{matrix}\\right]\\right]\\right), \\  \\left( 3, \\  1, \\  \\left[ \\left[\\begin{matrix}-1\\\\2\\\\0\\\\1\\end{matrix}\\right]\\right]\\right)\\right]$$"
     },
     "metadata": {},
     "output_type": "display_data"
    },
    {
     "data": {
      "text/plain": [
       "<IPython.core.display.Markdown object>"
      ],
      "text/markdown": "Diagonalizacja:"
     },
     "metadata": {},
     "output_type": "display_data"
    },
    {
     "data": {
      "text/plain": [
       "<IPython.core.display.Latex object>"
      ],
      "text/latex": "$$A = P\\,D\\,P^{-1}: \\quad P=\\left[\\begin{matrix}0 & -2 & -2 & -1\\\\-1 & 4 & 3 & 2\\\\2 & 1 & 0 & 0\\\\1 & 0 & 1 & 1\\end{matrix}\\right],\\quad D=\\left[\\begin{matrix}-4 & 0 & 0 & 0\\\\0 & 2 & 0 & 0\\\\0 & 0 & 2 & 0\\\\0 & 0 & 0 & 3\\end{matrix}\\right]$$"
     },
     "metadata": {},
     "output_type": "display_data"
    },
    {
     "name": "stdout",
     "output_type": "stream",
     "text": [
      "\u001B[32m*\u001B[0m\u001B[32m*\u001B[0m\u001B[32m*\u001B[0m\u001B[32m*\u001B[0m\u001B[32m*\u001B[0m\u001B[32m*\u001B[0m\u001B[32m*\u001B[0m\u001B[32m*\u001B[0m\u001B[32m*\u001B[0m\u001B[32m*\u001B[0m\u001B[32m*\u001B[0m\u001B[32m*\u001B[0m\u001B[32m*\u001B[0m\u001B[32m*\u001B[0m\u001B[32m*\u001B[0m\u001B[32m*\u001B[0m\u001B[32m*\u001B[0m\u001B[32m*\u001B[0m\u001B[32m*\u001B[0m\u001B[32m*\u001B[0m\u001B[32m*\u001B[0m\u001B[32m*\u001B[0m\u001B[32m*\u001B[0m\u001B[32m*\u001B[0m\u001B[32m*\u001B[0m\u001B[32m*\u001B[0m\u001B[32m*\u001B[0m\u001B[32m*\u001B[0m\u001B[32m*\u001B[0m\u001B[32m*\u001B[0m\u001B[32m*\u001B[0m\u001B[32m*\u001B[0m\u001B[32m*\u001B[0m\u001B[32m*\u001B[0m\u001B[32m*\u001B[0m\u001B[32m*\u001B[0m\u001B[32m*\u001B[0m\u001B[32m*\u001B[0m\u001B[32m*\u001B[0m\u001B[32m*\u001B[0m\u001B[32m*\u001B[0m\u001B[32m*\u001B[0m\u001B[32m*\u001B[0m\u001B[32m*\u001B[0m\u001B[32m*\u001B[0m\u001B[32m*\u001B[0m\u001B[32m*\u001B[0m\u001B[32m*\u001B[0m\u001B[32m*\u001B[0m\u001B[32m*\u001B[0m\u001B[32m*\u001B[0m\u001B[32m*\u001B[0m\u001B[32m*\u001B[0m\u001B[32m*\u001B[0m\u001B[32m*\u001B[0m\u001B[32m*\u001B[0m\u001B[32m*\u001B[0m\u001B[32m*\u001B[0m\u001B[32m*\u001B[0m\u001B[32m*\u001B[0m\u001B[32m*\u001B[0m\u001B[32m*\u001B[0m\u001B[32m*\u001B[0m\u001B[32m*\u001B[0m\u001B[32m*\u001B[0m\u001B[32m*\u001B[0m\u001B[32m*\u001B[0m\u001B[32m*\u001B[0m\u001B[32m*\u001B[0m\u001B[32m*\u001B[0m\u001B[32m*\u001B[0m\u001B[32m*\u001B[0m\u001B[32m*\u001B[0m\u001B[32m*\u001B[0m\u001B[32m*\u001B[0m\u001B[32m*\u001B[0m\u001B[32m*\u001B[0m\u001B[32m*\u001B[0m\u001B[32m*\u001B[0m\u001B[32m*\u001B[0m\u001B[32m*\u001B[0m\u001B[32m*\u001B[0m\u001B[32m*\u001B[0m\u001B[32m*\u001B[0m\u001B[32m*\u001B[0m\u001B[32m*\u001B[0m\u001B[32m*\u001B[0m\u001B[32m*\u001B[0m\u001B[32m*\u001B[0m\u001B[32m*\u001B[0m\u001B[32m*\u001B[0m\u001B[32m*\u001B[0m\u001B[32m*\u001B[0m\u001B[32m*\u001B[0m\u001B[32m*\u001B[0m\n",
      "\u001B[34m** Zadanie 5 **********************************************************************************\u001B[0m\n"
     ]
    },
    {
     "data": {
      "text/plain": [
       "<IPython.core.display.Markdown object>"
      ],
      "text/markdown": "Przeprowadzić diagonalizację macierzy\n\t"
     },
     "metadata": {},
     "output_type": "display_data"
    },
    {
     "data": {
      "text/plain": [
       "<IPython.core.display.Latex object>"
      ],
      "text/latex": "\\[\n\t\t\\textnormal{A=} \\left[\\begin{matrix}2 & 0 & 0\\\\1 & 1 & -2\\\\0 & 0 & 2\\end{matrix}\\right]\n\t\\]"
     },
     "metadata": {},
     "output_type": "display_data"
    },
    {
     "name": "stdout",
     "output_type": "stream",
     "text": [
      "\u001B[34m*\u001B[0m\u001B[34m*\u001B[0m\u001B[34m*\u001B[0m\u001B[34m*\u001B[0m\u001B[34m*\u001B[0m\u001B[34m*\u001B[0m\u001B[34m*\u001B[0m\u001B[34m*\u001B[0m\u001B[34m*\u001B[0m\u001B[34m*\u001B[0m\u001B[34m*\u001B[0m\u001B[34m*\u001B[0m\u001B[34m*\u001B[0m\u001B[34m*\u001B[0m\u001B[34m*\u001B[0m\u001B[34m*\u001B[0m\u001B[34m*\u001B[0m\u001B[34m*\u001B[0m\u001B[34m*\u001B[0m\u001B[34m*\u001B[0m\u001B[34m*\u001B[0m\u001B[34m*\u001B[0m\u001B[34m*\u001B[0m\u001B[34m*\u001B[0m\u001B[34m*\u001B[0m\u001B[34m*\u001B[0m\u001B[34m*\u001B[0m\u001B[34m*\u001B[0m\u001B[34m*\u001B[0m\u001B[34m*\u001B[0m\u001B[34m*\u001B[0m\u001B[34m*\u001B[0m\u001B[34m*\u001B[0m\u001B[34m*\u001B[0m\u001B[34m*\u001B[0m\u001B[34m*\u001B[0m\u001B[34m*\u001B[0m\u001B[34m*\u001B[0m\u001B[34m*\u001B[0m\u001B[34m*\u001B[0m\u001B[34m*\u001B[0m\u001B[34m*\u001B[0m\u001B[34m*\u001B[0m\u001B[34m*\u001B[0m\u001B[34m*\u001B[0m\u001B[34m*\u001B[0m\u001B[34m*\u001B[0m\u001B[34m*\u001B[0m\u001B[34m*\u001B[0m\u001B[34m*\u001B[0m\u001B[34m*\u001B[0m\u001B[34m*\u001B[0m\u001B[34m*\u001B[0m\u001B[34m*\u001B[0m\u001B[34m*\u001B[0m\u001B[34m*\u001B[0m\u001B[34m*\u001B[0m\u001B[34m*\u001B[0m\u001B[34m*\u001B[0m\u001B[34m*\u001B[0m\u001B[34m*\u001B[0m\u001B[34m*\u001B[0m\u001B[34m*\u001B[0m\u001B[34m*\u001B[0m\u001B[34m*\u001B[0m\u001B[34m*\u001B[0m\u001B[34m*\u001B[0m\u001B[34m*\u001B[0m\u001B[34m*\u001B[0m\u001B[34m*\u001B[0m\u001B[34m*\u001B[0m\u001B[34m*\u001B[0m\u001B[34m*\u001B[0m\u001B[34m*\u001B[0m\u001B[34m*\u001B[0m\u001B[34m*\u001B[0m\u001B[34m*\u001B[0m\u001B[34m*\u001B[0m\u001B[34m*\u001B[0m\u001B[34m*\u001B[0m\u001B[34m*\u001B[0m\u001B[34m*\u001B[0m\u001B[34m*\u001B[0m\u001B[34m*\u001B[0m\u001B[34m*\u001B[0m\u001B[34m*\u001B[0m\u001B[34m*\u001B[0m\u001B[34m*\u001B[0m\u001B[34m*\u001B[0m\u001B[34m*\u001B[0m\u001B[34m*\u001B[0m\u001B[34m*\u001B[0m\u001B[34m*\u001B[0m\u001B[34m*\u001B[0m\u001B[34m*\u001B[0m\n",
      "\u001B[32m** Rozwiązanie ********************************************************************************\u001B[0m\n"
     ]
    },
    {
     "data": {
      "text/plain": [
       "<IPython.core.display.Latex object>"
      ],
      "text/latex": "$$\\det\\left(\\lambda \\mathbb{I} - A \\right) = \\lambda^{3} - 5 \\lambda^{2} + 8 \\lambda - 4$$"
     },
     "metadata": {},
     "output_type": "display_data"
    },
    {
     "data": {
      "text/plain": [
       "<IPython.core.display.Markdown object>"
      ],
      "text/markdown": "Wartości własne"
     },
     "metadata": {},
     "output_type": "display_data"
    },
    {
     "data": {
      "text/plain": [
       "<IPython.core.display.Latex object>"
      ],
      "text/latex": "$$ \\left\\{ 1 : 1, \\  2 : 2\\right\\}, $$"
     },
     "metadata": {},
     "output_type": "display_data"
    },
    {
     "data": {
      "text/plain": [
       "<IPython.core.display.Markdown object>"
      ],
      "text/markdown": "Wektory własne"
     },
     "metadata": {},
     "output_type": "display_data"
    },
    {
     "data": {
      "text/plain": [
       "<IPython.core.display.Latex object>"
      ],
      "text/latex": "$$\\left[ \\left( 1, \\  1, \\  \\left[ \\left[\\begin{matrix}0\\\\1\\\\0\\end{matrix}\\right]\\right]\\right), \\  \\left( 2, \\  2, \\  \\left[ \\left[\\begin{matrix}1\\\\1\\\\0\\end{matrix}\\right], \\  \\left[\\begin{matrix}2\\\\0\\\\1\\end{matrix}\\right]\\right]\\right)\\right]$$"
     },
     "metadata": {},
     "output_type": "display_data"
    },
    {
     "data": {
      "text/plain": [
       "<IPython.core.display.Markdown object>"
      ],
      "text/markdown": "Diagonalizacja:"
     },
     "metadata": {},
     "output_type": "display_data"
    },
    {
     "data": {
      "text/plain": [
       "<IPython.core.display.Latex object>"
      ],
      "text/latex": "$$A = P\\,D\\,P^{-1}: \\quad P=\\left[\\begin{matrix}0 & 1 & 2\\\\1 & 1 & 0\\\\0 & 0 & 1\\end{matrix}\\right],\\quad D=\\left[\\begin{matrix}1 & 0 & 0\\\\0 & 2 & 0\\\\0 & 0 & 2\\end{matrix}\\right]$$"
     },
     "metadata": {},
     "output_type": "display_data"
    },
    {
     "name": "stdout",
     "output_type": "stream",
     "text": [
      "\u001B[32m*\u001B[0m\u001B[32m*\u001B[0m\u001B[32m*\u001B[0m\u001B[32m*\u001B[0m\u001B[32m*\u001B[0m\u001B[32m*\u001B[0m\u001B[32m*\u001B[0m\u001B[32m*\u001B[0m\u001B[32m*\u001B[0m\u001B[32m*\u001B[0m\u001B[32m*\u001B[0m\u001B[32m*\u001B[0m\u001B[32m*\u001B[0m\u001B[32m*\u001B[0m\u001B[32m*\u001B[0m\u001B[32m*\u001B[0m\u001B[32m*\u001B[0m\u001B[32m*\u001B[0m\u001B[32m*\u001B[0m\u001B[32m*\u001B[0m\u001B[32m*\u001B[0m\u001B[32m*\u001B[0m\u001B[32m*\u001B[0m\u001B[32m*\u001B[0m\u001B[32m*\u001B[0m\u001B[32m*\u001B[0m\u001B[32m*\u001B[0m\u001B[32m*\u001B[0m\u001B[32m*\u001B[0m\u001B[32m*\u001B[0m\u001B[32m*\u001B[0m\u001B[32m*\u001B[0m\u001B[32m*\u001B[0m\u001B[32m*\u001B[0m\u001B[32m*\u001B[0m\u001B[32m*\u001B[0m\u001B[32m*\u001B[0m\u001B[32m*\u001B[0m\u001B[32m*\u001B[0m\u001B[32m*\u001B[0m\u001B[32m*\u001B[0m\u001B[32m*\u001B[0m\u001B[32m*\u001B[0m\u001B[32m*\u001B[0m\u001B[32m*\u001B[0m\u001B[32m*\u001B[0m\u001B[32m*\u001B[0m\u001B[32m*\u001B[0m\u001B[32m*\u001B[0m\u001B[32m*\u001B[0m\u001B[32m*\u001B[0m\u001B[32m*\u001B[0m\u001B[32m*\u001B[0m\u001B[32m*\u001B[0m\u001B[32m*\u001B[0m\u001B[32m*\u001B[0m\u001B[32m*\u001B[0m\u001B[32m*\u001B[0m\u001B[32m*\u001B[0m\u001B[32m*\u001B[0m\u001B[32m*\u001B[0m\u001B[32m*\u001B[0m\u001B[32m*\u001B[0m\u001B[32m*\u001B[0m\u001B[32m*\u001B[0m\u001B[32m*\u001B[0m\u001B[32m*\u001B[0m\u001B[32m*\u001B[0m\u001B[32m*\u001B[0m\u001B[32m*\u001B[0m\u001B[32m*\u001B[0m\u001B[32m*\u001B[0m\u001B[32m*\u001B[0m\u001B[32m*\u001B[0m\u001B[32m*\u001B[0m\u001B[32m*\u001B[0m\u001B[32m*\u001B[0m\u001B[32m*\u001B[0m\u001B[32m*\u001B[0m\u001B[32m*\u001B[0m\u001B[32m*\u001B[0m\u001B[32m*\u001B[0m\u001B[32m*\u001B[0m\u001B[32m*\u001B[0m\u001B[32m*\u001B[0m\u001B[32m*\u001B[0m\u001B[32m*\u001B[0m\u001B[32m*\u001B[0m\u001B[32m*\u001B[0m\u001B[32m*\u001B[0m\u001B[32m*\u001B[0m\u001B[32m*\u001B[0m\u001B[32m*\u001B[0m\u001B[32m*\u001B[0m\u001B[32m*\u001B[0m\n",
      "\u001B[34m** Zadanie 6 **********************************************************************************\u001B[0m\n"
     ]
    },
    {
     "data": {
      "text/plain": [
       "<IPython.core.display.Markdown object>"
      ],
      "text/markdown": "Przeprowadzić diagonalizację macierzy\n\t"
     },
     "metadata": {},
     "output_type": "display_data"
    },
    {
     "data": {
      "text/plain": [
       "<IPython.core.display.Latex object>"
      ],
      "text/latex": "\\[\n\t\t\\textnormal{A=} \\left[\\begin{matrix}-2 & 0\\\\0 & -2\\end{matrix}\\right]\n\t\\]"
     },
     "metadata": {},
     "output_type": "display_data"
    },
    {
     "name": "stdout",
     "output_type": "stream",
     "text": [
      "\u001B[34m*\u001B[0m\u001B[34m*\u001B[0m\u001B[34m*\u001B[0m\u001B[34m*\u001B[0m\u001B[34m*\u001B[0m\u001B[34m*\u001B[0m\u001B[34m*\u001B[0m\u001B[34m*\u001B[0m\u001B[34m*\u001B[0m\u001B[34m*\u001B[0m\u001B[34m*\u001B[0m\u001B[34m*\u001B[0m\u001B[34m*\u001B[0m\u001B[34m*\u001B[0m\u001B[34m*\u001B[0m\u001B[34m*\u001B[0m\u001B[34m*\u001B[0m\u001B[34m*\u001B[0m\u001B[34m*\u001B[0m\u001B[34m*\u001B[0m\u001B[34m*\u001B[0m\u001B[34m*\u001B[0m\u001B[34m*\u001B[0m\u001B[34m*\u001B[0m\u001B[34m*\u001B[0m\u001B[34m*\u001B[0m\u001B[34m*\u001B[0m\u001B[34m*\u001B[0m\u001B[34m*\u001B[0m\u001B[34m*\u001B[0m\u001B[34m*\u001B[0m\u001B[34m*\u001B[0m\u001B[34m*\u001B[0m\u001B[34m*\u001B[0m\u001B[34m*\u001B[0m\u001B[34m*\u001B[0m\u001B[34m*\u001B[0m\u001B[34m*\u001B[0m\u001B[34m*\u001B[0m\u001B[34m*\u001B[0m\u001B[34m*\u001B[0m\u001B[34m*\u001B[0m\u001B[34m*\u001B[0m\u001B[34m*\u001B[0m\u001B[34m*\u001B[0m\u001B[34m*\u001B[0m\u001B[34m*\u001B[0m\u001B[34m*\u001B[0m\u001B[34m*\u001B[0m\u001B[34m*\u001B[0m\u001B[34m*\u001B[0m\u001B[34m*\u001B[0m\u001B[34m*\u001B[0m\u001B[34m*\u001B[0m\u001B[34m*\u001B[0m\u001B[34m*\u001B[0m\u001B[34m*\u001B[0m\u001B[34m*\u001B[0m\u001B[34m*\u001B[0m\u001B[34m*\u001B[0m\u001B[34m*\u001B[0m\u001B[34m*\u001B[0m\u001B[34m*\u001B[0m\u001B[34m*\u001B[0m\u001B[34m*\u001B[0m\u001B[34m*\u001B[0m\u001B[34m*\u001B[0m\u001B[34m*\u001B[0m\u001B[34m*\u001B[0m\u001B[34m*\u001B[0m\u001B[34m*\u001B[0m\u001B[34m*\u001B[0m\u001B[34m*\u001B[0m\u001B[34m*\u001B[0m\u001B[34m*\u001B[0m\u001B[34m*\u001B[0m\u001B[34m*\u001B[0m\u001B[34m*\u001B[0m\u001B[34m*\u001B[0m\u001B[34m*\u001B[0m\u001B[34m*\u001B[0m\u001B[34m*\u001B[0m\u001B[34m*\u001B[0m\u001B[34m*\u001B[0m\u001B[34m*\u001B[0m\u001B[34m*\u001B[0m\u001B[34m*\u001B[0m\u001B[34m*\u001B[0m\u001B[34m*\u001B[0m\u001B[34m*\u001B[0m\u001B[34m*\u001B[0m\u001B[34m*\u001B[0m\u001B[34m*\u001B[0m\u001B[34m*\u001B[0m\u001B[34m*\u001B[0m\n",
      "\u001B[32m** Rozwiązanie ********************************************************************************\u001B[0m\n"
     ]
    },
    {
     "data": {
      "text/plain": [
       "<IPython.core.display.Latex object>"
      ],
      "text/latex": "$$\\det\\left(\\lambda \\mathbb{I} - A \\right) = \\lambda^{2} + 4 \\lambda + 4$$"
     },
     "metadata": {},
     "output_type": "display_data"
    },
    {
     "data": {
      "text/plain": [
       "<IPython.core.display.Markdown object>"
      ],
      "text/markdown": "Wartości własne"
     },
     "metadata": {},
     "output_type": "display_data"
    },
    {
     "data": {
      "text/plain": [
       "<IPython.core.display.Latex object>"
      ],
      "text/latex": "$$ \\left\\{ -2 : 2\\right\\}, $$"
     },
     "metadata": {},
     "output_type": "display_data"
    },
    {
     "data": {
      "text/plain": [
       "<IPython.core.display.Markdown object>"
      ],
      "text/markdown": "Wektory własne"
     },
     "metadata": {},
     "output_type": "display_data"
    },
    {
     "data": {
      "text/plain": [
       "<IPython.core.display.Latex object>"
      ],
      "text/latex": "$$\\left[ \\left( -2, \\  2, \\  \\left[ \\left[\\begin{matrix}1\\\\0\\end{matrix}\\right], \\  \\left[\\begin{matrix}0\\\\1\\end{matrix}\\right]\\right]\\right)\\right]$$"
     },
     "metadata": {},
     "output_type": "display_data"
    },
    {
     "data": {
      "text/plain": [
       "<IPython.core.display.Markdown object>"
      ],
      "text/markdown": "Diagonalizacja:"
     },
     "metadata": {},
     "output_type": "display_data"
    },
    {
     "data": {
      "text/plain": [
       "<IPython.core.display.Latex object>"
      ],
      "text/latex": "$$A = P\\,D\\,P^{-1}: \\quad P=\\left[\\begin{matrix}1 & 0\\\\0 & 1\\end{matrix}\\right],\\quad D=\\left[\\begin{matrix}-2 & 0\\\\0 & -2\\end{matrix}\\right]$$"
     },
     "metadata": {},
     "output_type": "display_data"
    },
    {
     "name": "stdout",
     "output_type": "stream",
     "text": [
      "\u001B[32m*\u001B[0m\u001B[32m*\u001B[0m\u001B[32m*\u001B[0m\u001B[32m*\u001B[0m\u001B[32m*\u001B[0m\u001B[32m*\u001B[0m\u001B[32m*\u001B[0m\u001B[32m*\u001B[0m\u001B[32m*\u001B[0m\u001B[32m*\u001B[0m\u001B[32m*\u001B[0m\u001B[32m*\u001B[0m\u001B[32m*\u001B[0m\u001B[32m*\u001B[0m\u001B[32m*\u001B[0m\u001B[32m*\u001B[0m\u001B[32m*\u001B[0m\u001B[32m*\u001B[0m\u001B[32m*\u001B[0m\u001B[32m*\u001B[0m\u001B[32m*\u001B[0m\u001B[32m*\u001B[0m\u001B[32m*\u001B[0m\u001B[32m*\u001B[0m\u001B[32m*\u001B[0m\u001B[32m*\u001B[0m\u001B[32m*\u001B[0m\u001B[32m*\u001B[0m\u001B[32m*\u001B[0m\u001B[32m*\u001B[0m\u001B[32m*\u001B[0m\u001B[32m*\u001B[0m\u001B[32m*\u001B[0m\u001B[32m*\u001B[0m\u001B[32m*\u001B[0m\u001B[32m*\u001B[0m\u001B[32m*\u001B[0m\u001B[32m*\u001B[0m\u001B[32m*\u001B[0m\u001B[32m*\u001B[0m\u001B[32m*\u001B[0m\u001B[32m*\u001B[0m\u001B[32m*\u001B[0m\u001B[32m*\u001B[0m\u001B[32m*\u001B[0m\u001B[32m*\u001B[0m\u001B[32m*\u001B[0m\u001B[32m*\u001B[0m\u001B[32m*\u001B[0m\u001B[32m*\u001B[0m\u001B[32m*\u001B[0m\u001B[32m*\u001B[0m\u001B[32m*\u001B[0m\u001B[32m*\u001B[0m\u001B[32m*\u001B[0m\u001B[32m*\u001B[0m\u001B[32m*\u001B[0m\u001B[32m*\u001B[0m\u001B[32m*\u001B[0m\u001B[32m*\u001B[0m\u001B[32m*\u001B[0m\u001B[32m*\u001B[0m\u001B[32m*\u001B[0m\u001B[32m*\u001B[0m\u001B[32m*\u001B[0m\u001B[32m*\u001B[0m\u001B[32m*\u001B[0m\u001B[32m*\u001B[0m\u001B[32m*\u001B[0m\u001B[32m*\u001B[0m\u001B[32m*\u001B[0m\u001B[32m*\u001B[0m\u001B[32m*\u001B[0m\u001B[32m*\u001B[0m\u001B[32m*\u001B[0m\u001B[32m*\u001B[0m\u001B[32m*\u001B[0m\u001B[32m*\u001B[0m\u001B[32m*\u001B[0m\u001B[32m*\u001B[0m\u001B[32m*\u001B[0m\u001B[32m*\u001B[0m\u001B[32m*\u001B[0m\u001B[32m*\u001B[0m\u001B[32m*\u001B[0m\u001B[32m*\u001B[0m\u001B[32m*\u001B[0m\u001B[32m*\u001B[0m\u001B[32m*\u001B[0m\u001B[32m*\u001B[0m\u001B[32m*\u001B[0m\u001B[32m*\u001B[0m\u001B[32m*\u001B[0m\u001B[32m*\u001B[0m\u001B[32m*\u001B[0m\n",
      "\u001B[34m** Zadanie 7 **********************************************************************************\u001B[0m\n"
     ]
    },
    {
     "data": {
      "text/plain": [
       "<IPython.core.display.Markdown object>"
      ],
      "text/markdown": "Przeprowadzić diagonalizację macierzy\n\t"
     },
     "metadata": {},
     "output_type": "display_data"
    },
    {
     "data": {
      "text/plain": [
       "<IPython.core.display.Latex object>"
      ],
      "text/latex": "\\[\n\t\t\\textnormal{A=} \\left[\\begin{matrix}2 & 0 & 2\\\\0 & 2 & 0\\\\0 & 0 & -2\\end{matrix}\\right]\n\t\\]"
     },
     "metadata": {},
     "output_type": "display_data"
    },
    {
     "name": "stdout",
     "output_type": "stream",
     "text": [
      "\u001B[34m*\u001B[0m\u001B[34m*\u001B[0m\u001B[34m*\u001B[0m\u001B[34m*\u001B[0m\u001B[34m*\u001B[0m\u001B[34m*\u001B[0m\u001B[34m*\u001B[0m\u001B[34m*\u001B[0m\u001B[34m*\u001B[0m\u001B[34m*\u001B[0m\u001B[34m*\u001B[0m\u001B[34m*\u001B[0m\u001B[34m*\u001B[0m\u001B[34m*\u001B[0m\u001B[34m*\u001B[0m\u001B[34m*\u001B[0m\u001B[34m*\u001B[0m\u001B[34m*\u001B[0m\u001B[34m*\u001B[0m\u001B[34m*\u001B[0m\u001B[34m*\u001B[0m\u001B[34m*\u001B[0m\u001B[34m*\u001B[0m\u001B[34m*\u001B[0m\u001B[34m*\u001B[0m\u001B[34m*\u001B[0m\u001B[34m*\u001B[0m\u001B[34m*\u001B[0m\u001B[34m*\u001B[0m\u001B[34m*\u001B[0m\u001B[34m*\u001B[0m\u001B[34m*\u001B[0m\u001B[34m*\u001B[0m\u001B[34m*\u001B[0m\u001B[34m*\u001B[0m\u001B[34m*\u001B[0m\u001B[34m*\u001B[0m\u001B[34m*\u001B[0m\u001B[34m*\u001B[0m\u001B[34m*\u001B[0m\u001B[34m*\u001B[0m\u001B[34m*\u001B[0m\u001B[34m*\u001B[0m\u001B[34m*\u001B[0m\u001B[34m*\u001B[0m\u001B[34m*\u001B[0m\u001B[34m*\u001B[0m\u001B[34m*\u001B[0m\u001B[34m*\u001B[0m\u001B[34m*\u001B[0m\u001B[34m*\u001B[0m\u001B[34m*\u001B[0m\u001B[34m*\u001B[0m\u001B[34m*\u001B[0m\u001B[34m*\u001B[0m\u001B[34m*\u001B[0m\u001B[34m*\u001B[0m\u001B[34m*\u001B[0m\u001B[34m*\u001B[0m\u001B[34m*\u001B[0m\u001B[34m*\u001B[0m\u001B[34m*\u001B[0m\u001B[34m*\u001B[0m\u001B[34m*\u001B[0m\u001B[34m*\u001B[0m\u001B[34m*\u001B[0m\u001B[34m*\u001B[0m\u001B[34m*\u001B[0m\u001B[34m*\u001B[0m\u001B[34m*\u001B[0m\u001B[34m*\u001B[0m\u001B[34m*\u001B[0m\u001B[34m*\u001B[0m\u001B[34m*\u001B[0m\u001B[34m*\u001B[0m\u001B[34m*\u001B[0m\u001B[34m*\u001B[0m\u001B[34m*\u001B[0m\u001B[34m*\u001B[0m\u001B[34m*\u001B[0m\u001B[34m*\u001B[0m\u001B[34m*\u001B[0m\u001B[34m*\u001B[0m\u001B[34m*\u001B[0m\u001B[34m*\u001B[0m\u001B[34m*\u001B[0m\u001B[34m*\u001B[0m\u001B[34m*\u001B[0m\u001B[34m*\u001B[0m\u001B[34m*\u001B[0m\u001B[34m*\u001B[0m\u001B[34m*\u001B[0m\u001B[34m*\u001B[0m\u001B[34m*\u001B[0m\u001B[34m*\u001B[0m\n",
      "\u001B[32m** Rozwiązanie ********************************************************************************\u001B[0m\n"
     ]
    },
    {
     "data": {
      "text/plain": [
       "<IPython.core.display.Latex object>"
      ],
      "text/latex": "$$\\det\\left(\\lambda \\mathbb{I} - A \\right) = \\lambda^{3} - 2 \\lambda^{2} - 4 \\lambda + 8$$"
     },
     "metadata": {},
     "output_type": "display_data"
    },
    {
     "data": {
      "text/plain": [
       "<IPython.core.display.Markdown object>"
      ],
      "text/markdown": "Wartości własne"
     },
     "metadata": {},
     "output_type": "display_data"
    },
    {
     "data": {
      "text/plain": [
       "<IPython.core.display.Latex object>"
      ],
      "text/latex": "$$ \\left\\{ -2 : 1, \\  2 : 2\\right\\}, $$"
     },
     "metadata": {},
     "output_type": "display_data"
    },
    {
     "data": {
      "text/plain": [
       "<IPython.core.display.Markdown object>"
      ],
      "text/markdown": "Wektory własne"
     },
     "metadata": {},
     "output_type": "display_data"
    },
    {
     "data": {
      "text/plain": [
       "<IPython.core.display.Latex object>"
      ],
      "text/latex": "$$\\left[ \\left( -2, \\  1, \\  \\left[ \\left[\\begin{matrix}- \\frac{1}{2}\\\\0\\\\1\\end{matrix}\\right]\\right]\\right), \\  \\left( 2, \\  2, \\  \\left[ \\left[\\begin{matrix}1\\\\0\\\\0\\end{matrix}\\right], \\  \\left[\\begin{matrix}0\\\\1\\\\0\\end{matrix}\\right]\\right]\\right)\\right]$$"
     },
     "metadata": {},
     "output_type": "display_data"
    },
    {
     "data": {
      "text/plain": [
       "<IPython.core.display.Markdown object>"
      ],
      "text/markdown": "Diagonalizacja:"
     },
     "metadata": {},
     "output_type": "display_data"
    },
    {
     "data": {
      "text/plain": [
       "<IPython.core.display.Latex object>"
      ],
      "text/latex": "$$A = P\\,D\\,P^{-1}: \\quad P=\\left[\\begin{matrix}-1 & 1 & 0\\\\0 & 0 & 1\\\\2 & 0 & 0\\end{matrix}\\right],\\quad D=\\left[\\begin{matrix}-2 & 0 & 0\\\\0 & 2 & 0\\\\0 & 0 & 2\\end{matrix}\\right]$$"
     },
     "metadata": {},
     "output_type": "display_data"
    },
    {
     "name": "stdout",
     "output_type": "stream",
     "text": [
      "\u001B[32m*\u001B[0m\u001B[32m*\u001B[0m\u001B[32m*\u001B[0m\u001B[32m*\u001B[0m\u001B[32m*\u001B[0m\u001B[32m*\u001B[0m\u001B[32m*\u001B[0m\u001B[32m*\u001B[0m\u001B[32m*\u001B[0m\u001B[32m*\u001B[0m\u001B[32m*\u001B[0m\u001B[32m*\u001B[0m\u001B[32m*\u001B[0m\u001B[32m*\u001B[0m\u001B[32m*\u001B[0m\u001B[32m*\u001B[0m\u001B[32m*\u001B[0m\u001B[32m*\u001B[0m\u001B[32m*\u001B[0m\u001B[32m*\u001B[0m\u001B[32m*\u001B[0m\u001B[32m*\u001B[0m\u001B[32m*\u001B[0m\u001B[32m*\u001B[0m\u001B[32m*\u001B[0m\u001B[32m*\u001B[0m\u001B[32m*\u001B[0m\u001B[32m*\u001B[0m\u001B[32m*\u001B[0m\u001B[32m*\u001B[0m\u001B[32m*\u001B[0m\u001B[32m*\u001B[0m\u001B[32m*\u001B[0m\u001B[32m*\u001B[0m\u001B[32m*\u001B[0m\u001B[32m*\u001B[0m\u001B[32m*\u001B[0m\u001B[32m*\u001B[0m\u001B[32m*\u001B[0m\u001B[32m*\u001B[0m\u001B[32m*\u001B[0m\u001B[32m*\u001B[0m\u001B[32m*\u001B[0m\u001B[32m*\u001B[0m\u001B[32m*\u001B[0m\u001B[32m*\u001B[0m\u001B[32m*\u001B[0m\u001B[32m*\u001B[0m\u001B[32m*\u001B[0m\u001B[32m*\u001B[0m\u001B[32m*\u001B[0m\u001B[32m*\u001B[0m\u001B[32m*\u001B[0m\u001B[32m*\u001B[0m\u001B[32m*\u001B[0m\u001B[32m*\u001B[0m\u001B[32m*\u001B[0m\u001B[32m*\u001B[0m\u001B[32m*\u001B[0m\u001B[32m*\u001B[0m\u001B[32m*\u001B[0m\u001B[32m*\u001B[0m\u001B[32m*\u001B[0m\u001B[32m*\u001B[0m\u001B[32m*\u001B[0m\u001B[32m*\u001B[0m\u001B[32m*\u001B[0m\u001B[32m*\u001B[0m\u001B[32m*\u001B[0m\u001B[32m*\u001B[0m\u001B[32m*\u001B[0m\u001B[32m*\u001B[0m\u001B[32m*\u001B[0m\u001B[32m*\u001B[0m\u001B[32m*\u001B[0m\u001B[32m*\u001B[0m\u001B[32m*\u001B[0m\u001B[32m*\u001B[0m\u001B[32m*\u001B[0m\u001B[32m*\u001B[0m\u001B[32m*\u001B[0m\u001B[32m*\u001B[0m\u001B[32m*\u001B[0m\u001B[32m*\u001B[0m\u001B[32m*\u001B[0m\u001B[32m*\u001B[0m\u001B[32m*\u001B[0m\u001B[32m*\u001B[0m\u001B[32m*\u001B[0m\u001B[32m*\u001B[0m\u001B[32m*\u001B[0m\u001B[32m*\u001B[0m\u001B[32m*\u001B[0m\u001B[32m*\u001B[0m\u001B[32m*\u001B[0m\n",
      "\u001B[34m** Zadanie 8 **********************************************************************************\u001B[0m\n"
     ]
    },
    {
     "data": {
      "text/plain": [
       "<IPython.core.display.Markdown object>"
      ],
      "text/markdown": "Przeprowadzić diagonalizację macierzy\n\t"
     },
     "metadata": {},
     "output_type": "display_data"
    },
    {
     "data": {
      "text/plain": [
       "<IPython.core.display.Latex object>"
      ],
      "text/latex": "\\[\n\t\t\\textnormal{A=} \\left[\\begin{matrix}2 & 0 & -2\\\\0 & 3 & 0\\\\-2 & 0 & -1\\end{matrix}\\right]\n\t\\]"
     },
     "metadata": {},
     "output_type": "display_data"
    },
    {
     "name": "stdout",
     "output_type": "stream",
     "text": [
      "\u001B[34m*\u001B[0m\u001B[34m*\u001B[0m\u001B[34m*\u001B[0m\u001B[34m*\u001B[0m\u001B[34m*\u001B[0m\u001B[34m*\u001B[0m\u001B[34m*\u001B[0m\u001B[34m*\u001B[0m\u001B[34m*\u001B[0m\u001B[34m*\u001B[0m\u001B[34m*\u001B[0m\u001B[34m*\u001B[0m\u001B[34m*\u001B[0m\u001B[34m*\u001B[0m\u001B[34m*\u001B[0m\u001B[34m*\u001B[0m\u001B[34m*\u001B[0m\u001B[34m*\u001B[0m\u001B[34m*\u001B[0m\u001B[34m*\u001B[0m\u001B[34m*\u001B[0m\u001B[34m*\u001B[0m\u001B[34m*\u001B[0m\u001B[34m*\u001B[0m\u001B[34m*\u001B[0m\u001B[34m*\u001B[0m\u001B[34m*\u001B[0m\u001B[34m*\u001B[0m\u001B[34m*\u001B[0m\u001B[34m*\u001B[0m\u001B[34m*\u001B[0m\u001B[34m*\u001B[0m\u001B[34m*\u001B[0m\u001B[34m*\u001B[0m\u001B[34m*\u001B[0m\u001B[34m*\u001B[0m\u001B[34m*\u001B[0m\u001B[34m*\u001B[0m\u001B[34m*\u001B[0m\u001B[34m*\u001B[0m\u001B[34m*\u001B[0m\u001B[34m*\u001B[0m\u001B[34m*\u001B[0m\u001B[34m*\u001B[0m\u001B[34m*\u001B[0m\u001B[34m*\u001B[0m\u001B[34m*\u001B[0m\u001B[34m*\u001B[0m\u001B[34m*\u001B[0m\u001B[34m*\u001B[0m\u001B[34m*\u001B[0m\u001B[34m*\u001B[0m\u001B[34m*\u001B[0m\u001B[34m*\u001B[0m\u001B[34m*\u001B[0m\u001B[34m*\u001B[0m\u001B[34m*\u001B[0m\u001B[34m*\u001B[0m\u001B[34m*\u001B[0m\u001B[34m*\u001B[0m\u001B[34m*\u001B[0m\u001B[34m*\u001B[0m\u001B[34m*\u001B[0m\u001B[34m*\u001B[0m\u001B[34m*\u001B[0m\u001B[34m*\u001B[0m\u001B[34m*\u001B[0m\u001B[34m*\u001B[0m\u001B[34m*\u001B[0m\u001B[34m*\u001B[0m\u001B[34m*\u001B[0m\u001B[34m*\u001B[0m\u001B[34m*\u001B[0m\u001B[34m*\u001B[0m\u001B[34m*\u001B[0m\u001B[34m*\u001B[0m\u001B[34m*\u001B[0m\u001B[34m*\u001B[0m\u001B[34m*\u001B[0m\u001B[34m*\u001B[0m\u001B[34m*\u001B[0m\u001B[34m*\u001B[0m\u001B[34m*\u001B[0m\u001B[34m*\u001B[0m\u001B[34m*\u001B[0m\u001B[34m*\u001B[0m\u001B[34m*\u001B[0m\u001B[34m*\u001B[0m\u001B[34m*\u001B[0m\u001B[34m*\u001B[0m\u001B[34m*\u001B[0m\u001B[34m*\u001B[0m\u001B[34m*\u001B[0m\u001B[34m*\u001B[0m\u001B[34m*\u001B[0m\n",
      "\u001B[32m** Rozwiązanie ********************************************************************************\u001B[0m\n"
     ]
    },
    {
     "data": {
      "text/plain": [
       "<IPython.core.display.Latex object>"
      ],
      "text/latex": "$$\\det\\left(\\lambda \\mathbb{I} - A \\right) = \\lambda^{3} - 4 \\lambda^{2} - 3 \\lambda + 18$$"
     },
     "metadata": {},
     "output_type": "display_data"
    },
    {
     "data": {
      "text/plain": [
       "<IPython.core.display.Markdown object>"
      ],
      "text/markdown": "Wartości własne"
     },
     "metadata": {},
     "output_type": "display_data"
    },
    {
     "data": {
      "text/plain": [
       "<IPython.core.display.Latex object>"
      ],
      "text/latex": "$$ \\left\\{ -2 : 1, \\  3 : 2\\right\\}, $$"
     },
     "metadata": {},
     "output_type": "display_data"
    },
    {
     "data": {
      "text/plain": [
       "<IPython.core.display.Markdown object>"
      ],
      "text/markdown": "Wektory własne"
     },
     "metadata": {},
     "output_type": "display_data"
    },
    {
     "data": {
      "text/plain": [
       "<IPython.core.display.Latex object>"
      ],
      "text/latex": "$$\\left[ \\left( -2, \\  1, \\  \\left[ \\left[\\begin{matrix}\\frac{1}{2}\\\\0\\\\1\\end{matrix}\\right]\\right]\\right), \\  \\left( 3, \\  2, \\  \\left[ \\left[\\begin{matrix}0\\\\1\\\\0\\end{matrix}\\right], \\  \\left[\\begin{matrix}-2\\\\0\\\\1\\end{matrix}\\right]\\right]\\right)\\right]$$"
     },
     "metadata": {},
     "output_type": "display_data"
    },
    {
     "data": {
      "text/plain": [
       "<IPython.core.display.Markdown object>"
      ],
      "text/markdown": "Diagonalizacja:"
     },
     "metadata": {},
     "output_type": "display_data"
    },
    {
     "data": {
      "text/plain": [
       "<IPython.core.display.Latex object>"
      ],
      "text/latex": "$$A = P\\,D\\,P^{-1}: \\quad P=\\left[\\begin{matrix}1 & 0 & -2\\\\0 & 1 & 0\\\\2 & 0 & 1\\end{matrix}\\right],\\quad D=\\left[\\begin{matrix}-2 & 0 & 0\\\\0 & 3 & 0\\\\0 & 0 & 3\\end{matrix}\\right]$$"
     },
     "metadata": {},
     "output_type": "display_data"
    },
    {
     "name": "stdout",
     "output_type": "stream",
     "text": [
      "\u001B[32m*\u001B[0m\u001B[32m*\u001B[0m\u001B[32m*\u001B[0m\u001B[32m*\u001B[0m\u001B[32m*\u001B[0m\u001B[32m*\u001B[0m\u001B[32m*\u001B[0m\u001B[32m*\u001B[0m\u001B[32m*\u001B[0m\u001B[32m*\u001B[0m\u001B[32m*\u001B[0m\u001B[32m*\u001B[0m\u001B[32m*\u001B[0m\u001B[32m*\u001B[0m\u001B[32m*\u001B[0m\u001B[32m*\u001B[0m\u001B[32m*\u001B[0m\u001B[32m*\u001B[0m\u001B[32m*\u001B[0m\u001B[32m*\u001B[0m\u001B[32m*\u001B[0m\u001B[32m*\u001B[0m\u001B[32m*\u001B[0m\u001B[32m*\u001B[0m\u001B[32m*\u001B[0m\u001B[32m*\u001B[0m\u001B[32m*\u001B[0m\u001B[32m*\u001B[0m\u001B[32m*\u001B[0m\u001B[32m*\u001B[0m\u001B[32m*\u001B[0m\u001B[32m*\u001B[0m\u001B[32m*\u001B[0m\u001B[32m*\u001B[0m\u001B[32m*\u001B[0m\u001B[32m*\u001B[0m\u001B[32m*\u001B[0m\u001B[32m*\u001B[0m\u001B[32m*\u001B[0m\u001B[32m*\u001B[0m\u001B[32m*\u001B[0m\u001B[32m*\u001B[0m\u001B[32m*\u001B[0m\u001B[32m*\u001B[0m\u001B[32m*\u001B[0m\u001B[32m*\u001B[0m\u001B[32m*\u001B[0m\u001B[32m*\u001B[0m\u001B[32m*\u001B[0m\u001B[32m*\u001B[0m\u001B[32m*\u001B[0m\u001B[32m*\u001B[0m\u001B[32m*\u001B[0m\u001B[32m*\u001B[0m\u001B[32m*\u001B[0m\u001B[32m*\u001B[0m\u001B[32m*\u001B[0m\u001B[32m*\u001B[0m\u001B[32m*\u001B[0m\u001B[32m*\u001B[0m\u001B[32m*\u001B[0m\u001B[32m*\u001B[0m\u001B[32m*\u001B[0m\u001B[32m*\u001B[0m\u001B[32m*\u001B[0m\u001B[32m*\u001B[0m\u001B[32m*\u001B[0m\u001B[32m*\u001B[0m\u001B[32m*\u001B[0m\u001B[32m*\u001B[0m\u001B[32m*\u001B[0m\u001B[32m*\u001B[0m\u001B[32m*\u001B[0m\u001B[32m*\u001B[0m\u001B[32m*\u001B[0m\u001B[32m*\u001B[0m\u001B[32m*\u001B[0m\u001B[32m*\u001B[0m\u001B[32m*\u001B[0m\u001B[32m*\u001B[0m\u001B[32m*\u001B[0m\u001B[32m*\u001B[0m\u001B[32m*\u001B[0m\u001B[32m*\u001B[0m\u001B[32m*\u001B[0m\u001B[32m*\u001B[0m\u001B[32m*\u001B[0m\u001B[32m*\u001B[0m\u001B[32m*\u001B[0m\u001B[32m*\u001B[0m\u001B[32m*\u001B[0m\u001B[32m*\u001B[0m\u001B[32m*\u001B[0m\u001B[32m*\u001B[0m\u001B[32m*\u001B[0m\n",
      "\u001B[34m** Zadanie 9 **********************************************************************************\u001B[0m\n"
     ]
    },
    {
     "data": {
      "text/plain": [
       "<IPython.core.display.Markdown object>"
      ],
      "text/markdown": "Przeprowadzić diagonalizację macierzy\n\t"
     },
     "metadata": {},
     "output_type": "display_data"
    },
    {
     "data": {
      "text/plain": [
       "<IPython.core.display.Latex object>"
      ],
      "text/latex": "\\[\n\t\t\\textnormal{A=} \\left[\\begin{matrix}3 & 2 & -1 & 0\\\\2 & 0 & 2 & 0\\\\-1 & 2 & 3 & 0\\\\2 & 1 & 0 & 0\\end{matrix}\\right]\n\t\\]"
     },
     "metadata": {},
     "output_type": "display_data"
    },
    {
     "name": "stdout",
     "output_type": "stream",
     "text": [
      "\u001B[34m*\u001B[0m\u001B[34m*\u001B[0m\u001B[34m*\u001B[0m\u001B[34m*\u001B[0m\u001B[34m*\u001B[0m\u001B[34m*\u001B[0m\u001B[34m*\u001B[0m\u001B[34m*\u001B[0m\u001B[34m*\u001B[0m\u001B[34m*\u001B[0m\u001B[34m*\u001B[0m\u001B[34m*\u001B[0m\u001B[34m*\u001B[0m\u001B[34m*\u001B[0m\u001B[34m*\u001B[0m\u001B[34m*\u001B[0m\u001B[34m*\u001B[0m\u001B[34m*\u001B[0m\u001B[34m*\u001B[0m\u001B[34m*\u001B[0m\u001B[34m*\u001B[0m\u001B[34m*\u001B[0m\u001B[34m*\u001B[0m\u001B[34m*\u001B[0m\u001B[34m*\u001B[0m\u001B[34m*\u001B[0m\u001B[34m*\u001B[0m\u001B[34m*\u001B[0m\u001B[34m*\u001B[0m\u001B[34m*\u001B[0m\u001B[34m*\u001B[0m\u001B[34m*\u001B[0m\u001B[34m*\u001B[0m\u001B[34m*\u001B[0m\u001B[34m*\u001B[0m\u001B[34m*\u001B[0m\u001B[34m*\u001B[0m\u001B[34m*\u001B[0m\u001B[34m*\u001B[0m\u001B[34m*\u001B[0m\u001B[34m*\u001B[0m\u001B[34m*\u001B[0m\u001B[34m*\u001B[0m\u001B[34m*\u001B[0m\u001B[34m*\u001B[0m\u001B[34m*\u001B[0m\u001B[34m*\u001B[0m\u001B[34m*\u001B[0m\u001B[34m*\u001B[0m\u001B[34m*\u001B[0m\u001B[34m*\u001B[0m\u001B[34m*\u001B[0m\u001B[34m*\u001B[0m\u001B[34m*\u001B[0m\u001B[34m*\u001B[0m\u001B[34m*\u001B[0m\u001B[34m*\u001B[0m\u001B[34m*\u001B[0m\u001B[34m*\u001B[0m\u001B[34m*\u001B[0m\u001B[34m*\u001B[0m\u001B[34m*\u001B[0m\u001B[34m*\u001B[0m\u001B[34m*\u001B[0m\u001B[34m*\u001B[0m\u001B[34m*\u001B[0m\u001B[34m*\u001B[0m\u001B[34m*\u001B[0m\u001B[34m*\u001B[0m\u001B[34m*\u001B[0m\u001B[34m*\u001B[0m\u001B[34m*\u001B[0m\u001B[34m*\u001B[0m\u001B[34m*\u001B[0m\u001B[34m*\u001B[0m\u001B[34m*\u001B[0m\u001B[34m*\u001B[0m\u001B[34m*\u001B[0m\u001B[34m*\u001B[0m\u001B[34m*\u001B[0m\u001B[34m*\u001B[0m\u001B[34m*\u001B[0m\u001B[34m*\u001B[0m\u001B[34m*\u001B[0m\u001B[34m*\u001B[0m\u001B[34m*\u001B[0m\u001B[34m*\u001B[0m\u001B[34m*\u001B[0m\u001B[34m*\u001B[0m\u001B[34m*\u001B[0m\u001B[34m*\u001B[0m\u001B[34m*\u001B[0m\u001B[34m*\u001B[0m\u001B[34m*\u001B[0m\u001B[34m*\u001B[0m\n",
      "\u001B[32m** Rozwiązanie ********************************************************************************\u001B[0m\n"
     ]
    },
    {
     "data": {
      "text/plain": [
       "<IPython.core.display.Latex object>"
      ],
      "text/latex": "$$\\det\\left(\\lambda \\mathbb{I} - A \\right) = \\lambda^{4} - 6 \\lambda^{3} + 32 \\lambda$$"
     },
     "metadata": {},
     "output_type": "display_data"
    },
    {
     "data": {
      "text/plain": [
       "<IPython.core.display.Markdown object>"
      ],
      "text/markdown": "Wartości własne"
     },
     "metadata": {},
     "output_type": "display_data"
    },
    {
     "data": {
      "text/plain": [
       "<IPython.core.display.Latex object>"
      ],
      "text/latex": "$$ \\left\\{ -2 : 1, \\  0 : 1, \\  4 : 2\\right\\}, $$"
     },
     "metadata": {},
     "output_type": "display_data"
    },
    {
     "data": {
      "text/plain": [
       "<IPython.core.display.Markdown object>"
      ],
      "text/markdown": "Wektory własne"
     },
     "metadata": {},
     "output_type": "display_data"
    },
    {
     "data": {
      "text/plain": [
       "<IPython.core.display.Latex object>"
      ],
      "text/latex": "$$\\left[ \\left( -2, \\  1, \\  \\left[ \\left[\\begin{matrix}1\\\\-2\\\\1\\\\0\\end{matrix}\\right]\\right]\\right), \\  \\left( 0, \\  1, \\  \\left[ \\left[\\begin{matrix}0\\\\0\\\\0\\\\1\\end{matrix}\\right]\\right]\\right), \\  \\left( 4, \\  2, \\  \\left[ \\left[\\begin{matrix}- \\frac{1}{5}\\\\\\frac{2}{5}\\\\1\\\\0\\end{matrix}\\right], \\  \\left[\\begin{matrix}\\frac{8}{5}\\\\\\frac{4}{5}\\\\0\\\\1\\end{matrix}\\right]\\right]\\right)\\right]$$"
     },
     "metadata": {},
     "output_type": "display_data"
    },
    {
     "data": {
      "text/plain": [
       "<IPython.core.display.Markdown object>"
      ],
      "text/markdown": "Diagonalizacja:"
     },
     "metadata": {},
     "output_type": "display_data"
    },
    {
     "data": {
      "text/plain": [
       "<IPython.core.display.Latex object>"
      ],
      "text/latex": "$$A = P\\,D\\,P^{-1}: \\quad P=\\left[\\begin{matrix}1 & 0 & -1 & 8\\\\-2 & 0 & 2 & 4\\\\1 & 0 & 5 & 0\\\\0 & 1 & 0 & 5\\end{matrix}\\right],\\quad D=\\left[\\begin{matrix}-2 & 0 & 0 & 0\\\\0 & 0 & 0 & 0\\\\0 & 0 & 4 & 0\\\\0 & 0 & 0 & 4\\end{matrix}\\right]$$"
     },
     "metadata": {},
     "output_type": "display_data"
    },
    {
     "name": "stdout",
     "output_type": "stream",
     "text": [
      "\u001B[32m*\u001B[0m\u001B[32m*\u001B[0m\u001B[32m*\u001B[0m\u001B[32m*\u001B[0m\u001B[32m*\u001B[0m\u001B[32m*\u001B[0m\u001B[32m*\u001B[0m\u001B[32m*\u001B[0m\u001B[32m*\u001B[0m\u001B[32m*\u001B[0m\u001B[32m*\u001B[0m\u001B[32m*\u001B[0m\u001B[32m*\u001B[0m\u001B[32m*\u001B[0m\u001B[32m*\u001B[0m\u001B[32m*\u001B[0m\u001B[32m*\u001B[0m\u001B[32m*\u001B[0m\u001B[32m*\u001B[0m\u001B[32m*\u001B[0m\u001B[32m*\u001B[0m\u001B[32m*\u001B[0m\u001B[32m*\u001B[0m\u001B[32m*\u001B[0m\u001B[32m*\u001B[0m\u001B[32m*\u001B[0m\u001B[32m*\u001B[0m\u001B[32m*\u001B[0m\u001B[32m*\u001B[0m\u001B[32m*\u001B[0m\u001B[32m*\u001B[0m\u001B[32m*\u001B[0m\u001B[32m*\u001B[0m\u001B[32m*\u001B[0m\u001B[32m*\u001B[0m\u001B[32m*\u001B[0m\u001B[32m*\u001B[0m\u001B[32m*\u001B[0m\u001B[32m*\u001B[0m\u001B[32m*\u001B[0m\u001B[32m*\u001B[0m\u001B[32m*\u001B[0m\u001B[32m*\u001B[0m\u001B[32m*\u001B[0m\u001B[32m*\u001B[0m\u001B[32m*\u001B[0m\u001B[32m*\u001B[0m\u001B[32m*\u001B[0m\u001B[32m*\u001B[0m\u001B[32m*\u001B[0m\u001B[32m*\u001B[0m\u001B[32m*\u001B[0m\u001B[32m*\u001B[0m\u001B[32m*\u001B[0m\u001B[32m*\u001B[0m\u001B[32m*\u001B[0m\u001B[32m*\u001B[0m\u001B[32m*\u001B[0m\u001B[32m*\u001B[0m\u001B[32m*\u001B[0m\u001B[32m*\u001B[0m\u001B[32m*\u001B[0m\u001B[32m*\u001B[0m\u001B[32m*\u001B[0m\u001B[32m*\u001B[0m\u001B[32m*\u001B[0m\u001B[32m*\u001B[0m\u001B[32m*\u001B[0m\u001B[32m*\u001B[0m\u001B[32m*\u001B[0m\u001B[32m*\u001B[0m\u001B[32m*\u001B[0m\u001B[32m*\u001B[0m\u001B[32m*\u001B[0m\u001B[32m*\u001B[0m\u001B[32m*\u001B[0m\u001B[32m*\u001B[0m\u001B[32m*\u001B[0m\u001B[32m*\u001B[0m\u001B[32m*\u001B[0m\u001B[32m*\u001B[0m\u001B[32m*\u001B[0m\u001B[32m*\u001B[0m\u001B[32m*\u001B[0m\u001B[32m*\u001B[0m\u001B[32m*\u001B[0m\u001B[32m*\u001B[0m\u001B[32m*\u001B[0m\u001B[32m*\u001B[0m\u001B[32m*\u001B[0m\u001B[32m*\u001B[0m\u001B[32m*\u001B[0m\u001B[32m*\u001B[0m\u001B[32m*\u001B[0m\u001B[32m*\u001B[0m\n"
     ]
    }
   ],
   "execution_count": 5
  },
  {
   "metadata": {},
   "cell_type": "markdown",
   "source": "## Regresja liniowa i wielomianowa (tylko wielomian pierwszego i drugiego stopnia)",
   "id": "d5ebca1c47d28e8e"
  },
  {
   "metadata": {
    "ExecuteTime": {
     "end_time": "2024-11-08T10:48:11.142787Z",
     "start_time": "2024-11-08T10:48:04.877866Z"
    }
   },
   "cell_type": "code",
   "source": [
    "zadanie = gz.regresja(stopien=1, nr_zadania=1)\n",
    "zadanie"
   ],
   "id": "3ed72b938f8a79c9",
   "outputs": [
    {
     "name": "stdout",
     "output_type": "stream",
     "text": [
      "1\n"
     ]
    },
    {
     "data": {
      "text/plain": [
       "('Wyznaczyć prostą regresji dla punktów \\n\\t\\\\[\\n\\t\\t(-4,2),\\\\  (3,-3),\\\\  (-2,-1),\\\\  (5,-2),\\\\  (4,-4).\\n\\t\\\\]',\n",
       " '\\t\\\\begin{tabular}{p{0.5\\\\textwidth}p{0.3\\\\textwidth}}\\n\\t\\\\vspace{0pt}\\n\\t\\\\[\\n\\t\\t\\\\left[\\\\begin{matrix}-4 & 1\\\\\\\\3 & 1\\\\\\\\-2 & 1\\\\\\\\5 & 1\\\\\\\\4 & 1\\\\end{matrix}\\\\right]\\n\\t\\t\\\\cdot \\\\left[\\\\begin{matrix} a \\\\\\\\ b \\\\end{matrix}\\\\right]\\n\\t\\t= \\\\left[\\\\begin{matrix}2\\\\\\\\-3\\\\\\\\-1\\\\\\\\-2\\\\\\\\-4\\\\end{matrix}\\\\right]\\n\\t\\t\\\\quad \\\\Biggm/ \\\\cdot \\\\left(\\\\left(A^T A \\\\right)^{-1} A^T \\\\right)_L\\n\\t\\\\]\\n\\t\\\\[\\n\\t\\t \\\\left[\\\\begin{matrix} a \\\\\\\\ b \\\\end{matrix}\\\\right] = \\n\\t\\t \\\\left[\\\\begin{matrix} - \\\\frac{1}{2} \\\\\\\\ -1 \\\\end{matrix}\\\\right]\\n\\t\\\\]\\n\\t&\\n\\t\\t\\\\raisebox{-4.9cm}{\\\\resizebox{5.2cm}{!}{\\\\includegraphics{../pics/regresja1}}}\\n\\t\\\\end{tabular}\\n')"
      ]
     },
     "execution_count": 4,
     "metadata": {},
     "output_type": "execute_result"
    }
   ],
   "execution_count": 4
  },
  {
   "metadata": {
    "ExecuteTime": {
     "end_time": "2024-11-08T10:48:11.448630Z",
     "start_time": "2024-11-08T10:48:11.440608Z"
    }
   },
   "cell_type": "code",
   "source": [
    "print(\"\\033[34m** Zadanie **\" + '*' * 81 + '\\033[0m')\n",
    "print(zadanie[0])\n",
    "print(\"\\033[34m*\\033[0m\" * 95)\n",
    "print(\"\\033[32m** Rozwiązanie **\" + '*' * 78 + '\\033[0m')\n",
    "print(zadanie[1])\n",
    "print(\"\\033[32m*\\033[0m\" * 95)"
   ],
   "id": "74a933dbcbd0b352",
   "outputs": [
    {
     "name": "stdout",
     "output_type": "stream",
     "text": [
      "\u001B[34m** Zadanie ***********************************************************************************\u001B[0m\n",
      "Wyznaczyć prostą regresji dla punktów \n",
      "\t\\[\n",
      "\t\t(-4,2),\\  (3,-3),\\  (-2,-1),\\  (5,-2),\\  (4,-4).\n",
      "\t\\]\n",
      "\u001B[34m*\u001B[0m\u001B[34m*\u001B[0m\u001B[34m*\u001B[0m\u001B[34m*\u001B[0m\u001B[34m*\u001B[0m\u001B[34m*\u001B[0m\u001B[34m*\u001B[0m\u001B[34m*\u001B[0m\u001B[34m*\u001B[0m\u001B[34m*\u001B[0m\u001B[34m*\u001B[0m\u001B[34m*\u001B[0m\u001B[34m*\u001B[0m\u001B[34m*\u001B[0m\u001B[34m*\u001B[0m\u001B[34m*\u001B[0m\u001B[34m*\u001B[0m\u001B[34m*\u001B[0m\u001B[34m*\u001B[0m\u001B[34m*\u001B[0m\u001B[34m*\u001B[0m\u001B[34m*\u001B[0m\u001B[34m*\u001B[0m\u001B[34m*\u001B[0m\u001B[34m*\u001B[0m\u001B[34m*\u001B[0m\u001B[34m*\u001B[0m\u001B[34m*\u001B[0m\u001B[34m*\u001B[0m\u001B[34m*\u001B[0m\u001B[34m*\u001B[0m\u001B[34m*\u001B[0m\u001B[34m*\u001B[0m\u001B[34m*\u001B[0m\u001B[34m*\u001B[0m\u001B[34m*\u001B[0m\u001B[34m*\u001B[0m\u001B[34m*\u001B[0m\u001B[34m*\u001B[0m\u001B[34m*\u001B[0m\u001B[34m*\u001B[0m\u001B[34m*\u001B[0m\u001B[34m*\u001B[0m\u001B[34m*\u001B[0m\u001B[34m*\u001B[0m\u001B[34m*\u001B[0m\u001B[34m*\u001B[0m\u001B[34m*\u001B[0m\u001B[34m*\u001B[0m\u001B[34m*\u001B[0m\u001B[34m*\u001B[0m\u001B[34m*\u001B[0m\u001B[34m*\u001B[0m\u001B[34m*\u001B[0m\u001B[34m*\u001B[0m\u001B[34m*\u001B[0m\u001B[34m*\u001B[0m\u001B[34m*\u001B[0m\u001B[34m*\u001B[0m\u001B[34m*\u001B[0m\u001B[34m*\u001B[0m\u001B[34m*\u001B[0m\u001B[34m*\u001B[0m\u001B[34m*\u001B[0m\u001B[34m*\u001B[0m\u001B[34m*\u001B[0m\u001B[34m*\u001B[0m\u001B[34m*\u001B[0m\u001B[34m*\u001B[0m\u001B[34m*\u001B[0m\u001B[34m*\u001B[0m\u001B[34m*\u001B[0m\u001B[34m*\u001B[0m\u001B[34m*\u001B[0m\u001B[34m*\u001B[0m\u001B[34m*\u001B[0m\u001B[34m*\u001B[0m\u001B[34m*\u001B[0m\u001B[34m*\u001B[0m\u001B[34m*\u001B[0m\u001B[34m*\u001B[0m\u001B[34m*\u001B[0m\u001B[34m*\u001B[0m\u001B[34m*\u001B[0m\u001B[34m*\u001B[0m\u001B[34m*\u001B[0m\u001B[34m*\u001B[0m\u001B[34m*\u001B[0m\u001B[34m*\u001B[0m\u001B[34m*\u001B[0m\u001B[34m*\u001B[0m\u001B[34m*\u001B[0m\u001B[34m*\u001B[0m\u001B[34m*\u001B[0m\u001B[34m*\u001B[0m\n",
      "\u001B[32m** Rozwiązanie ********************************************************************************\u001B[0m\n",
      "\t\\begin{tabular}{p{0.5\\textwidth}p{0.3\\textwidth}}\n",
      "\t\\vspace{0pt}\n",
      "\t\\[\n",
      "\t\t\\left[\\begin{matrix}-4 & 1\\\\3 & 1\\\\-2 & 1\\\\5 & 1\\\\4 & 1\\end{matrix}\\right]\n",
      "\t\t\\cdot \\left[\\begin{matrix} a \\\\ b \\end{matrix}\\right]\n",
      "\t\t= \\left[\\begin{matrix}2\\\\-3\\\\-1\\\\-2\\\\-4\\end{matrix}\\right]\n",
      "\t\t\\quad \\Biggm/ \\cdot \\left(\\left(A^T A \\right)^{-1} A^T \\right)_L\n",
      "\t\\]\n",
      "\t\\[\n",
      "\t\t \\left[\\begin{matrix} a \\\\ b \\end{matrix}\\right] = \n",
      "\t\t \\left[\\begin{matrix} - \\frac{1}{2} \\\\ -1 \\end{matrix}\\right]\n",
      "\t\\]\n",
      "\t&\n",
      "\t\t\\raisebox{-4.9cm}{\\resizebox{5.2cm}{!}{\\includegraphics{../pics/regresja1}}}\n",
      "\t\\end{tabular}\n",
      "\n",
      "\u001B[32m*\u001B[0m\u001B[32m*\u001B[0m\u001B[32m*\u001B[0m\u001B[32m*\u001B[0m\u001B[32m*\u001B[0m\u001B[32m*\u001B[0m\u001B[32m*\u001B[0m\u001B[32m*\u001B[0m\u001B[32m*\u001B[0m\u001B[32m*\u001B[0m\u001B[32m*\u001B[0m\u001B[32m*\u001B[0m\u001B[32m*\u001B[0m\u001B[32m*\u001B[0m\u001B[32m*\u001B[0m\u001B[32m*\u001B[0m\u001B[32m*\u001B[0m\u001B[32m*\u001B[0m\u001B[32m*\u001B[0m\u001B[32m*\u001B[0m\u001B[32m*\u001B[0m\u001B[32m*\u001B[0m\u001B[32m*\u001B[0m\u001B[32m*\u001B[0m\u001B[32m*\u001B[0m\u001B[32m*\u001B[0m\u001B[32m*\u001B[0m\u001B[32m*\u001B[0m\u001B[32m*\u001B[0m\u001B[32m*\u001B[0m\u001B[32m*\u001B[0m\u001B[32m*\u001B[0m\u001B[32m*\u001B[0m\u001B[32m*\u001B[0m\u001B[32m*\u001B[0m\u001B[32m*\u001B[0m\u001B[32m*\u001B[0m\u001B[32m*\u001B[0m\u001B[32m*\u001B[0m\u001B[32m*\u001B[0m\u001B[32m*\u001B[0m\u001B[32m*\u001B[0m\u001B[32m*\u001B[0m\u001B[32m*\u001B[0m\u001B[32m*\u001B[0m\u001B[32m*\u001B[0m\u001B[32m*\u001B[0m\u001B[32m*\u001B[0m\u001B[32m*\u001B[0m\u001B[32m*\u001B[0m\u001B[32m*\u001B[0m\u001B[32m*\u001B[0m\u001B[32m*\u001B[0m\u001B[32m*\u001B[0m\u001B[32m*\u001B[0m\u001B[32m*\u001B[0m\u001B[32m*\u001B[0m\u001B[32m*\u001B[0m\u001B[32m*\u001B[0m\u001B[32m*\u001B[0m\u001B[32m*\u001B[0m\u001B[32m*\u001B[0m\u001B[32m*\u001B[0m\u001B[32m*\u001B[0m\u001B[32m*\u001B[0m\u001B[32m*\u001B[0m\u001B[32m*\u001B[0m\u001B[32m*\u001B[0m\u001B[32m*\u001B[0m\u001B[32m*\u001B[0m\u001B[32m*\u001B[0m\u001B[32m*\u001B[0m\u001B[32m*\u001B[0m\u001B[32m*\u001B[0m\u001B[32m*\u001B[0m\u001B[32m*\u001B[0m\u001B[32m*\u001B[0m\u001B[32m*\u001B[0m\u001B[32m*\u001B[0m\u001B[32m*\u001B[0m\u001B[32m*\u001B[0m\u001B[32m*\u001B[0m\u001B[32m*\u001B[0m\u001B[32m*\u001B[0m\u001B[32m*\u001B[0m\u001B[32m*\u001B[0m\u001B[32m*\u001B[0m\u001B[32m*\u001B[0m\u001B[32m*\u001B[0m\u001B[32m*\u001B[0m\u001B[32m*\u001B[0m\u001B[32m*\u001B[0m\u001B[32m*\u001B[0m\u001B[32m*\u001B[0m\u001B[32m*\u001B[0m\n"
     ]
    }
   ],
   "execution_count": 5
  },
  {
   "metadata": {
    "ExecuteTime": {
     "end_time": "2024-11-08T10:51:50.633730Z",
     "start_time": "2024-11-08T10:51:18.003699Z"
    }
   },
   "cell_type": "code",
   "source": [
    "for i in range(1, ile_zadan_przykladowych + 1):\n",
    "    zadanie = gz.regresja(stopien=choice([1, 2]), nr_zadania=i)\n",
    "    print(f\"\\033[34m** Zadanie {i} **\" + '*' * 80 + '\\033[0m')\n",
    "    display(Markdown(zadanie[0].split('\\n')[0].replace('\\\\', '')))\n",
    "    display(Latex('$$' + zadanie[0].split('\\[')[1].split('\\]')[0] + '$$'))\n",
    "    print(\"\\033[34m*\\033[0m\" * 95)\n",
    "    print(\"\\033[32m** Rozwiązanie **\" + '*' * 78 + '\\033[0m')\n",
    "    temp = zadanie[1].split('_L')[0].split('[\\n\\t\\t')[1] + '_L'\n",
    "    display(Latex(f'$${temp}$$'))\n",
    "    display(Latex(f\"$${zadanie[1].split('_L')[1][12:].split('raisebox')[0][:-11]}$$\"))\n",
    "    display(Markdown(f'![](./pics//regresja{i}.png)'))\n",
    "    # display(Markdown(f\"<img src=./pics//regresja{i}.png width='350'>\"))\n",
    "    print(\"\\033[32m*\\033[0m\" * 95)"
   ],
   "id": "b8008df9b71f7876",
   "outputs": [
    {
     "name": "stdout",
     "output_type": "stream",
     "text": [
      "\u001B[34m** Zadanie 1 **********************************************************************************\u001B[0m\n"
     ]
    },
    {
     "data": {
      "text/plain": [
       "<IPython.core.display.Markdown object>"
      ],
      "text/markdown": "Wyznaczyć prostą regresji dla punktów "
     },
     "metadata": {},
     "output_type": "display_data"
    },
    {
     "data": {
      "text/plain": [
       "<IPython.core.display.Latex object>"
      ],
      "text/latex": "$$\n\t\t(4,-4),\\  (5,-2),\\  (1,1),\\  (2,2),\\  (-1,5).\n\t$$"
     },
     "metadata": {},
     "output_type": "display_data"
    },
    {
     "name": "stdout",
     "output_type": "stream",
     "text": [
      "\u001B[34m*\u001B[0m\u001B[34m*\u001B[0m\u001B[34m*\u001B[0m\u001B[34m*\u001B[0m\u001B[34m*\u001B[0m\u001B[34m*\u001B[0m\u001B[34m*\u001B[0m\u001B[34m*\u001B[0m\u001B[34m*\u001B[0m\u001B[34m*\u001B[0m\u001B[34m*\u001B[0m\u001B[34m*\u001B[0m\u001B[34m*\u001B[0m\u001B[34m*\u001B[0m\u001B[34m*\u001B[0m\u001B[34m*\u001B[0m\u001B[34m*\u001B[0m\u001B[34m*\u001B[0m\u001B[34m*\u001B[0m\u001B[34m*\u001B[0m\u001B[34m*\u001B[0m\u001B[34m*\u001B[0m\u001B[34m*\u001B[0m\u001B[34m*\u001B[0m\u001B[34m*\u001B[0m\u001B[34m*\u001B[0m\u001B[34m*\u001B[0m\u001B[34m*\u001B[0m\u001B[34m*\u001B[0m\u001B[34m*\u001B[0m\u001B[34m*\u001B[0m\u001B[34m*\u001B[0m\u001B[34m*\u001B[0m\u001B[34m*\u001B[0m\u001B[34m*\u001B[0m\u001B[34m*\u001B[0m\u001B[34m*\u001B[0m\u001B[34m*\u001B[0m\u001B[34m*\u001B[0m\u001B[34m*\u001B[0m\u001B[34m*\u001B[0m\u001B[34m*\u001B[0m\u001B[34m*\u001B[0m\u001B[34m*\u001B[0m\u001B[34m*\u001B[0m\u001B[34m*\u001B[0m\u001B[34m*\u001B[0m\u001B[34m*\u001B[0m\u001B[34m*\u001B[0m\u001B[34m*\u001B[0m\u001B[34m*\u001B[0m\u001B[34m*\u001B[0m\u001B[34m*\u001B[0m\u001B[34m*\u001B[0m\u001B[34m*\u001B[0m\u001B[34m*\u001B[0m\u001B[34m*\u001B[0m\u001B[34m*\u001B[0m\u001B[34m*\u001B[0m\u001B[34m*\u001B[0m\u001B[34m*\u001B[0m\u001B[34m*\u001B[0m\u001B[34m*\u001B[0m\u001B[34m*\u001B[0m\u001B[34m*\u001B[0m\u001B[34m*\u001B[0m\u001B[34m*\u001B[0m\u001B[34m*\u001B[0m\u001B[34m*\u001B[0m\u001B[34m*\u001B[0m\u001B[34m*\u001B[0m\u001B[34m*\u001B[0m\u001B[34m*\u001B[0m\u001B[34m*\u001B[0m\u001B[34m*\u001B[0m\u001B[34m*\u001B[0m\u001B[34m*\u001B[0m\u001B[34m*\u001B[0m\u001B[34m*\u001B[0m\u001B[34m*\u001B[0m\u001B[34m*\u001B[0m\u001B[34m*\u001B[0m\u001B[34m*\u001B[0m\u001B[34m*\u001B[0m\u001B[34m*\u001B[0m\u001B[34m*\u001B[0m\u001B[34m*\u001B[0m\u001B[34m*\u001B[0m\u001B[34m*\u001B[0m\u001B[34m*\u001B[0m\u001B[34m*\u001B[0m\u001B[34m*\u001B[0m\u001B[34m*\u001B[0m\u001B[34m*\u001B[0m\u001B[34m*\u001B[0m\n",
      "\u001B[32m** Rozwiązanie ********************************************************************************\u001B[0m\n"
     ]
    },
    {
     "data": {
      "text/plain": [
       "<IPython.core.display.Latex object>"
      ],
      "text/latex": "$$\\left[\\begin{matrix}4 & 1\\\\5 & 1\\\\1 & 1\\\\2 & 1\\\\-1 & 1\\end{matrix}\\right]\n\t\t\\cdot \\left[\\begin{matrix} a \\\\ b \\end{matrix}\\right]\n\t\t= \\left[\\begin{matrix}-4\\\\-2\\\\1\\\\2\\\\5\\end{matrix}\\right]\n\t\t\\quad \\Biggm/ \\cdot \\left(\\left(A^T A \\right)^{-1} A^T \\right)_L$$"
     },
     "metadata": {},
     "output_type": "display_data"
    },
    {
     "data": {
      "text/plain": [
       "<IPython.core.display.Latex object>"
      ],
      "text/latex": "$$\\left[\\begin{matrix} a \\\\ b \\end{matrix}\\right] = \n\t\t \\left[\\begin{matrix} - \\frac{4}{3} \\\\ \\frac{10}{3} \\end{matrix}\\right]$$"
     },
     "metadata": {},
     "output_type": "display_data"
    },
    {
     "data": {
      "text/plain": [
       "<IPython.core.display.Markdown object>"
      ],
      "text/markdown": "![](./pics//regresja1.png)"
     },
     "metadata": {},
     "output_type": "display_data"
    },
    {
     "name": "stdout",
     "output_type": "stream",
     "text": [
      "\u001B[32m*\u001B[0m\u001B[32m*\u001B[0m\u001B[32m*\u001B[0m\u001B[32m*\u001B[0m\u001B[32m*\u001B[0m\u001B[32m*\u001B[0m\u001B[32m*\u001B[0m\u001B[32m*\u001B[0m\u001B[32m*\u001B[0m\u001B[32m*\u001B[0m\u001B[32m*\u001B[0m\u001B[32m*\u001B[0m\u001B[32m*\u001B[0m\u001B[32m*\u001B[0m\u001B[32m*\u001B[0m\u001B[32m*\u001B[0m\u001B[32m*\u001B[0m\u001B[32m*\u001B[0m\u001B[32m*\u001B[0m\u001B[32m*\u001B[0m\u001B[32m*\u001B[0m\u001B[32m*\u001B[0m\u001B[32m*\u001B[0m\u001B[32m*\u001B[0m\u001B[32m*\u001B[0m\u001B[32m*\u001B[0m\u001B[32m*\u001B[0m\u001B[32m*\u001B[0m\u001B[32m*\u001B[0m\u001B[32m*\u001B[0m\u001B[32m*\u001B[0m\u001B[32m*\u001B[0m\u001B[32m*\u001B[0m\u001B[32m*\u001B[0m\u001B[32m*\u001B[0m\u001B[32m*\u001B[0m\u001B[32m*\u001B[0m\u001B[32m*\u001B[0m\u001B[32m*\u001B[0m\u001B[32m*\u001B[0m\u001B[32m*\u001B[0m\u001B[32m*\u001B[0m\u001B[32m*\u001B[0m\u001B[32m*\u001B[0m\u001B[32m*\u001B[0m\u001B[32m*\u001B[0m\u001B[32m*\u001B[0m\u001B[32m*\u001B[0m\u001B[32m*\u001B[0m\u001B[32m*\u001B[0m\u001B[32m*\u001B[0m\u001B[32m*\u001B[0m\u001B[32m*\u001B[0m\u001B[32m*\u001B[0m\u001B[32m*\u001B[0m\u001B[32m*\u001B[0m\u001B[32m*\u001B[0m\u001B[32m*\u001B[0m\u001B[32m*\u001B[0m\u001B[32m*\u001B[0m\u001B[32m*\u001B[0m\u001B[32m*\u001B[0m\u001B[32m*\u001B[0m\u001B[32m*\u001B[0m\u001B[32m*\u001B[0m\u001B[32m*\u001B[0m\u001B[32m*\u001B[0m\u001B[32m*\u001B[0m\u001B[32m*\u001B[0m\u001B[32m*\u001B[0m\u001B[32m*\u001B[0m\u001B[32m*\u001B[0m\u001B[32m*\u001B[0m\u001B[32m*\u001B[0m\u001B[32m*\u001B[0m\u001B[32m*\u001B[0m\u001B[32m*\u001B[0m\u001B[32m*\u001B[0m\u001B[32m*\u001B[0m\u001B[32m*\u001B[0m\u001B[32m*\u001B[0m\u001B[32m*\u001B[0m\u001B[32m*\u001B[0m\u001B[32m*\u001B[0m\u001B[32m*\u001B[0m\u001B[32m*\u001B[0m\u001B[32m*\u001B[0m\u001B[32m*\u001B[0m\u001B[32m*\u001B[0m\u001B[32m*\u001B[0m\u001B[32m*\u001B[0m\u001B[32m*\u001B[0m\u001B[32m*\u001B[0m\u001B[32m*\u001B[0m\u001B[32m*\u001B[0m\n",
      "\u001B[34m** Zadanie 2 **********************************************************************************\u001B[0m\n"
     ]
    },
    {
     "data": {
      "text/plain": [
       "<IPython.core.display.Markdown object>"
      ],
      "text/markdown": "Wyznaczyć prostą regresji dla punktów "
     },
     "metadata": {},
     "output_type": "display_data"
    },
    {
     "data": {
      "text/plain": [
       "<IPython.core.display.Latex object>"
      ],
      "text/latex": "$$\n\t\t(2,-5),\\  (1,-1),\\  (3,-3),\\  (-2,1),\\  (-4,3).\n\t$$"
     },
     "metadata": {},
     "output_type": "display_data"
    },
    {
     "name": "stdout",
     "output_type": "stream",
     "text": [
      "\u001B[34m*\u001B[0m\u001B[34m*\u001B[0m\u001B[34m*\u001B[0m\u001B[34m*\u001B[0m\u001B[34m*\u001B[0m\u001B[34m*\u001B[0m\u001B[34m*\u001B[0m\u001B[34m*\u001B[0m\u001B[34m*\u001B[0m\u001B[34m*\u001B[0m\u001B[34m*\u001B[0m\u001B[34m*\u001B[0m\u001B[34m*\u001B[0m\u001B[34m*\u001B[0m\u001B[34m*\u001B[0m\u001B[34m*\u001B[0m\u001B[34m*\u001B[0m\u001B[34m*\u001B[0m\u001B[34m*\u001B[0m\u001B[34m*\u001B[0m\u001B[34m*\u001B[0m\u001B[34m*\u001B[0m\u001B[34m*\u001B[0m\u001B[34m*\u001B[0m\u001B[34m*\u001B[0m\u001B[34m*\u001B[0m\u001B[34m*\u001B[0m\u001B[34m*\u001B[0m\u001B[34m*\u001B[0m\u001B[34m*\u001B[0m\u001B[34m*\u001B[0m\u001B[34m*\u001B[0m\u001B[34m*\u001B[0m\u001B[34m*\u001B[0m\u001B[34m*\u001B[0m\u001B[34m*\u001B[0m\u001B[34m*\u001B[0m\u001B[34m*\u001B[0m\u001B[34m*\u001B[0m\u001B[34m*\u001B[0m\u001B[34m*\u001B[0m\u001B[34m*\u001B[0m\u001B[34m*\u001B[0m\u001B[34m*\u001B[0m\u001B[34m*\u001B[0m\u001B[34m*\u001B[0m\u001B[34m*\u001B[0m\u001B[34m*\u001B[0m\u001B[34m*\u001B[0m\u001B[34m*\u001B[0m\u001B[34m*\u001B[0m\u001B[34m*\u001B[0m\u001B[34m*\u001B[0m\u001B[34m*\u001B[0m\u001B[34m*\u001B[0m\u001B[34m*\u001B[0m\u001B[34m*\u001B[0m\u001B[34m*\u001B[0m\u001B[34m*\u001B[0m\u001B[34m*\u001B[0m\u001B[34m*\u001B[0m\u001B[34m*\u001B[0m\u001B[34m*\u001B[0m\u001B[34m*\u001B[0m\u001B[34m*\u001B[0m\u001B[34m*\u001B[0m\u001B[34m*\u001B[0m\u001B[34m*\u001B[0m\u001B[34m*\u001B[0m\u001B[34m*\u001B[0m\u001B[34m*\u001B[0m\u001B[34m*\u001B[0m\u001B[34m*\u001B[0m\u001B[34m*\u001B[0m\u001B[34m*\u001B[0m\u001B[34m*\u001B[0m\u001B[34m*\u001B[0m\u001B[34m*\u001B[0m\u001B[34m*\u001B[0m\u001B[34m*\u001B[0m\u001B[34m*\u001B[0m\u001B[34m*\u001B[0m\u001B[34m*\u001B[0m\u001B[34m*\u001B[0m\u001B[34m*\u001B[0m\u001B[34m*\u001B[0m\u001B[34m*\u001B[0m\u001B[34m*\u001B[0m\u001B[34m*\u001B[0m\u001B[34m*\u001B[0m\u001B[34m*\u001B[0m\u001B[34m*\u001B[0m\u001B[34m*\u001B[0m\u001B[34m*\u001B[0m\u001B[34m*\u001B[0m\n",
      "\u001B[32m** Rozwiązanie ********************************************************************************\u001B[0m\n"
     ]
    },
    {
     "data": {
      "text/plain": [
       "<IPython.core.display.Latex object>"
      ],
      "text/latex": "$$\\left[\\begin{matrix}2 & 1\\\\1 & 1\\\\3 & 1\\\\-2 & 1\\\\-4 & 1\\end{matrix}\\right]\n\t\t\\cdot \\left[\\begin{matrix} a \\\\ b \\end{matrix}\\right]\n\t\t= \\left[\\begin{matrix}-5\\\\-1\\\\-3\\\\1\\\\3\\end{matrix}\\right]\n\t\t\\quad \\Biggm/ \\cdot \\left(\\left(A^T A \\right)^{-1} A^T \\right)_L$$"
     },
     "metadata": {},
     "output_type": "display_data"
    },
    {
     "data": {
      "text/plain": [
       "<IPython.core.display.Latex object>"
      ],
      "text/latex": "$$\\left[\\begin{matrix} a \\\\ b \\end{matrix}\\right] = \n\t\t \\left[\\begin{matrix} -1 \\\\ -1 \\end{matrix}\\right]$$"
     },
     "metadata": {},
     "output_type": "display_data"
    },
    {
     "data": {
      "text/plain": [
       "<IPython.core.display.Markdown object>"
      ],
      "text/markdown": "![](./pics//regresja2.png)"
     },
     "metadata": {},
     "output_type": "display_data"
    },
    {
     "name": "stdout",
     "output_type": "stream",
     "text": [
      "\u001B[32m*\u001B[0m\u001B[32m*\u001B[0m\u001B[32m*\u001B[0m\u001B[32m*\u001B[0m\u001B[32m*\u001B[0m\u001B[32m*\u001B[0m\u001B[32m*\u001B[0m\u001B[32m*\u001B[0m\u001B[32m*\u001B[0m\u001B[32m*\u001B[0m\u001B[32m*\u001B[0m\u001B[32m*\u001B[0m\u001B[32m*\u001B[0m\u001B[32m*\u001B[0m\u001B[32m*\u001B[0m\u001B[32m*\u001B[0m\u001B[32m*\u001B[0m\u001B[32m*\u001B[0m\u001B[32m*\u001B[0m\u001B[32m*\u001B[0m\u001B[32m*\u001B[0m\u001B[32m*\u001B[0m\u001B[32m*\u001B[0m\u001B[32m*\u001B[0m\u001B[32m*\u001B[0m\u001B[32m*\u001B[0m\u001B[32m*\u001B[0m\u001B[32m*\u001B[0m\u001B[32m*\u001B[0m\u001B[32m*\u001B[0m\u001B[32m*\u001B[0m\u001B[32m*\u001B[0m\u001B[32m*\u001B[0m\u001B[32m*\u001B[0m\u001B[32m*\u001B[0m\u001B[32m*\u001B[0m\u001B[32m*\u001B[0m\u001B[32m*\u001B[0m\u001B[32m*\u001B[0m\u001B[32m*\u001B[0m\u001B[32m*\u001B[0m\u001B[32m*\u001B[0m\u001B[32m*\u001B[0m\u001B[32m*\u001B[0m\u001B[32m*\u001B[0m\u001B[32m*\u001B[0m\u001B[32m*\u001B[0m\u001B[32m*\u001B[0m\u001B[32m*\u001B[0m\u001B[32m*\u001B[0m\u001B[32m*\u001B[0m\u001B[32m*\u001B[0m\u001B[32m*\u001B[0m\u001B[32m*\u001B[0m\u001B[32m*\u001B[0m\u001B[32m*\u001B[0m\u001B[32m*\u001B[0m\u001B[32m*\u001B[0m\u001B[32m*\u001B[0m\u001B[32m*\u001B[0m\u001B[32m*\u001B[0m\u001B[32m*\u001B[0m\u001B[32m*\u001B[0m\u001B[32m*\u001B[0m\u001B[32m*\u001B[0m\u001B[32m*\u001B[0m\u001B[32m*\u001B[0m\u001B[32m*\u001B[0m\u001B[32m*\u001B[0m\u001B[32m*\u001B[0m\u001B[32m*\u001B[0m\u001B[32m*\u001B[0m\u001B[32m*\u001B[0m\u001B[32m*\u001B[0m\u001B[32m*\u001B[0m\u001B[32m*\u001B[0m\u001B[32m*\u001B[0m\u001B[32m*\u001B[0m\u001B[32m*\u001B[0m\u001B[32m*\u001B[0m\u001B[32m*\u001B[0m\u001B[32m*\u001B[0m\u001B[32m*\u001B[0m\u001B[32m*\u001B[0m\u001B[32m*\u001B[0m\u001B[32m*\u001B[0m\u001B[32m*\u001B[0m\u001B[32m*\u001B[0m\u001B[32m*\u001B[0m\u001B[32m*\u001B[0m\u001B[32m*\u001B[0m\u001B[32m*\u001B[0m\u001B[32m*\u001B[0m\u001B[32m*\u001B[0m\u001B[32m*\u001B[0m\n",
      "\u001B[34m** Zadanie 3 **********************************************************************************\u001B[0m\n"
     ]
    },
    {
     "data": {
      "text/plain": [
       "<IPython.core.display.Markdown object>"
      ],
      "text/markdown": "Wyznaczyć prostą regresji dla punktów "
     },
     "metadata": {},
     "output_type": "display_data"
    },
    {
     "data": {
      "text/plain": [
       "<IPython.core.display.Latex object>"
      ],
      "text/latex": "$$\n\t\t(-4,-3),\\  (0,1),\\  (5,5),\\  (-2,-4),\\  (-1,-1).\n\t$$"
     },
     "metadata": {},
     "output_type": "display_data"
    },
    {
     "name": "stdout",
     "output_type": "stream",
     "text": [
      "\u001B[34m*\u001B[0m\u001B[34m*\u001B[0m\u001B[34m*\u001B[0m\u001B[34m*\u001B[0m\u001B[34m*\u001B[0m\u001B[34m*\u001B[0m\u001B[34m*\u001B[0m\u001B[34m*\u001B[0m\u001B[34m*\u001B[0m\u001B[34m*\u001B[0m\u001B[34m*\u001B[0m\u001B[34m*\u001B[0m\u001B[34m*\u001B[0m\u001B[34m*\u001B[0m\u001B[34m*\u001B[0m\u001B[34m*\u001B[0m\u001B[34m*\u001B[0m\u001B[34m*\u001B[0m\u001B[34m*\u001B[0m\u001B[34m*\u001B[0m\u001B[34m*\u001B[0m\u001B[34m*\u001B[0m\u001B[34m*\u001B[0m\u001B[34m*\u001B[0m\u001B[34m*\u001B[0m\u001B[34m*\u001B[0m\u001B[34m*\u001B[0m\u001B[34m*\u001B[0m\u001B[34m*\u001B[0m\u001B[34m*\u001B[0m\u001B[34m*\u001B[0m\u001B[34m*\u001B[0m\u001B[34m*\u001B[0m\u001B[34m*\u001B[0m\u001B[34m*\u001B[0m\u001B[34m*\u001B[0m\u001B[34m*\u001B[0m\u001B[34m*\u001B[0m\u001B[34m*\u001B[0m\u001B[34m*\u001B[0m\u001B[34m*\u001B[0m\u001B[34m*\u001B[0m\u001B[34m*\u001B[0m\u001B[34m*\u001B[0m\u001B[34m*\u001B[0m\u001B[34m*\u001B[0m\u001B[34m*\u001B[0m\u001B[34m*\u001B[0m\u001B[34m*\u001B[0m\u001B[34m*\u001B[0m\u001B[34m*\u001B[0m\u001B[34m*\u001B[0m\u001B[34m*\u001B[0m\u001B[34m*\u001B[0m\u001B[34m*\u001B[0m\u001B[34m*\u001B[0m\u001B[34m*\u001B[0m\u001B[34m*\u001B[0m\u001B[34m*\u001B[0m\u001B[34m*\u001B[0m\u001B[34m*\u001B[0m\u001B[34m*\u001B[0m\u001B[34m*\u001B[0m\u001B[34m*\u001B[0m\u001B[34m*\u001B[0m\u001B[34m*\u001B[0m\u001B[34m*\u001B[0m\u001B[34m*\u001B[0m\u001B[34m*\u001B[0m\u001B[34m*\u001B[0m\u001B[34m*\u001B[0m\u001B[34m*\u001B[0m\u001B[34m*\u001B[0m\u001B[34m*\u001B[0m\u001B[34m*\u001B[0m\u001B[34m*\u001B[0m\u001B[34m*\u001B[0m\u001B[34m*\u001B[0m\u001B[34m*\u001B[0m\u001B[34m*\u001B[0m\u001B[34m*\u001B[0m\u001B[34m*\u001B[0m\u001B[34m*\u001B[0m\u001B[34m*\u001B[0m\u001B[34m*\u001B[0m\u001B[34m*\u001B[0m\u001B[34m*\u001B[0m\u001B[34m*\u001B[0m\u001B[34m*\u001B[0m\u001B[34m*\u001B[0m\u001B[34m*\u001B[0m\u001B[34m*\u001B[0m\u001B[34m*\u001B[0m\u001B[34m*\u001B[0m\u001B[34m*\u001B[0m\n",
      "\u001B[32m** Rozwiązanie ********************************************************************************\u001B[0m\n"
     ]
    },
    {
     "data": {
      "text/plain": [
       "<IPython.core.display.Latex object>"
      ],
      "text/latex": "$$\\left[\\begin{matrix}-4 & 1\\\\0 & 1\\\\5 & 1\\\\-2 & 1\\\\-1 & 1\\end{matrix}\\right]\n\t\t\\cdot \\left[\\begin{matrix} a \\\\ b \\end{matrix}\\right]\n\t\t= \\left[\\begin{matrix}-3\\\\1\\\\5\\\\-4\\\\-1\\end{matrix}\\right]\n\t\t\\quad \\Biggm/ \\cdot \\left(\\left(A^T A \\right)^{-1} A^T \\right)_L$$"
     },
     "metadata": {},
     "output_type": "display_data"
    },
    {
     "data": {
      "text/plain": [
       "<IPython.core.display.Latex object>"
      ],
      "text/latex": "$$\\left[\\begin{matrix} a \\\\ b \\end{matrix}\\right] = \n\t\t \\left[\\begin{matrix} 1 \\\\ 0 \\end{matrix}\\right]$$"
     },
     "metadata": {},
     "output_type": "display_data"
    },
    {
     "data": {
      "text/plain": [
       "<IPython.core.display.Markdown object>"
      ],
      "text/markdown": "![](./pics//regresja3.png)"
     },
     "metadata": {},
     "output_type": "display_data"
    },
    {
     "name": "stdout",
     "output_type": "stream",
     "text": [
      "\u001B[32m*\u001B[0m\u001B[32m*\u001B[0m\u001B[32m*\u001B[0m\u001B[32m*\u001B[0m\u001B[32m*\u001B[0m\u001B[32m*\u001B[0m\u001B[32m*\u001B[0m\u001B[32m*\u001B[0m\u001B[32m*\u001B[0m\u001B[32m*\u001B[0m\u001B[32m*\u001B[0m\u001B[32m*\u001B[0m\u001B[32m*\u001B[0m\u001B[32m*\u001B[0m\u001B[32m*\u001B[0m\u001B[32m*\u001B[0m\u001B[32m*\u001B[0m\u001B[32m*\u001B[0m\u001B[32m*\u001B[0m\u001B[32m*\u001B[0m\u001B[32m*\u001B[0m\u001B[32m*\u001B[0m\u001B[32m*\u001B[0m\u001B[32m*\u001B[0m\u001B[32m*\u001B[0m\u001B[32m*\u001B[0m\u001B[32m*\u001B[0m\u001B[32m*\u001B[0m\u001B[32m*\u001B[0m\u001B[32m*\u001B[0m\u001B[32m*\u001B[0m\u001B[32m*\u001B[0m\u001B[32m*\u001B[0m\u001B[32m*\u001B[0m\u001B[32m*\u001B[0m\u001B[32m*\u001B[0m\u001B[32m*\u001B[0m\u001B[32m*\u001B[0m\u001B[32m*\u001B[0m\u001B[32m*\u001B[0m\u001B[32m*\u001B[0m\u001B[32m*\u001B[0m\u001B[32m*\u001B[0m\u001B[32m*\u001B[0m\u001B[32m*\u001B[0m\u001B[32m*\u001B[0m\u001B[32m*\u001B[0m\u001B[32m*\u001B[0m\u001B[32m*\u001B[0m\u001B[32m*\u001B[0m\u001B[32m*\u001B[0m\u001B[32m*\u001B[0m\u001B[32m*\u001B[0m\u001B[32m*\u001B[0m\u001B[32m*\u001B[0m\u001B[32m*\u001B[0m\u001B[32m*\u001B[0m\u001B[32m*\u001B[0m\u001B[32m*\u001B[0m\u001B[32m*\u001B[0m\u001B[32m*\u001B[0m\u001B[32m*\u001B[0m\u001B[32m*\u001B[0m\u001B[32m*\u001B[0m\u001B[32m*\u001B[0m\u001B[32m*\u001B[0m\u001B[32m*\u001B[0m\u001B[32m*\u001B[0m\u001B[32m*\u001B[0m\u001B[32m*\u001B[0m\u001B[32m*\u001B[0m\u001B[32m*\u001B[0m\u001B[32m*\u001B[0m\u001B[32m*\u001B[0m\u001B[32m*\u001B[0m\u001B[32m*\u001B[0m\u001B[32m*\u001B[0m\u001B[32m*\u001B[0m\u001B[32m*\u001B[0m\u001B[32m*\u001B[0m\u001B[32m*\u001B[0m\u001B[32m*\u001B[0m\u001B[32m*\u001B[0m\u001B[32m*\u001B[0m\u001B[32m*\u001B[0m\u001B[32m*\u001B[0m\u001B[32m*\u001B[0m\u001B[32m*\u001B[0m\u001B[32m*\u001B[0m\u001B[32m*\u001B[0m\u001B[32m*\u001B[0m\u001B[32m*\u001B[0m\u001B[32m*\u001B[0m\u001B[32m*\u001B[0m\u001B[32m*\u001B[0m\n",
      "\u001B[34m** Zadanie 4 **********************************************************************************\u001B[0m\n"
     ]
    },
    {
     "data": {
      "text/plain": [
       "<IPython.core.display.Markdown object>"
      ],
      "text/markdown": "Wyznaczyć prostą regresji dla punktów "
     },
     "metadata": {},
     "output_type": "display_data"
    },
    {
     "data": {
      "text/plain": [
       "<IPython.core.display.Latex object>"
      ],
      "text/latex": "$$\n\t\t(1,1),\\  (-1,0),\\  (4,4),\\  (2,2),\\  (-2,-4).\n\t$$"
     },
     "metadata": {},
     "output_type": "display_data"
    },
    {
     "name": "stdout",
     "output_type": "stream",
     "text": [
      "\u001B[34m*\u001B[0m\u001B[34m*\u001B[0m\u001B[34m*\u001B[0m\u001B[34m*\u001B[0m\u001B[34m*\u001B[0m\u001B[34m*\u001B[0m\u001B[34m*\u001B[0m\u001B[34m*\u001B[0m\u001B[34m*\u001B[0m\u001B[34m*\u001B[0m\u001B[34m*\u001B[0m\u001B[34m*\u001B[0m\u001B[34m*\u001B[0m\u001B[34m*\u001B[0m\u001B[34m*\u001B[0m\u001B[34m*\u001B[0m\u001B[34m*\u001B[0m\u001B[34m*\u001B[0m\u001B[34m*\u001B[0m\u001B[34m*\u001B[0m\u001B[34m*\u001B[0m\u001B[34m*\u001B[0m\u001B[34m*\u001B[0m\u001B[34m*\u001B[0m\u001B[34m*\u001B[0m\u001B[34m*\u001B[0m\u001B[34m*\u001B[0m\u001B[34m*\u001B[0m\u001B[34m*\u001B[0m\u001B[34m*\u001B[0m\u001B[34m*\u001B[0m\u001B[34m*\u001B[0m\u001B[34m*\u001B[0m\u001B[34m*\u001B[0m\u001B[34m*\u001B[0m\u001B[34m*\u001B[0m\u001B[34m*\u001B[0m\u001B[34m*\u001B[0m\u001B[34m*\u001B[0m\u001B[34m*\u001B[0m\u001B[34m*\u001B[0m\u001B[34m*\u001B[0m\u001B[34m*\u001B[0m\u001B[34m*\u001B[0m\u001B[34m*\u001B[0m\u001B[34m*\u001B[0m\u001B[34m*\u001B[0m\u001B[34m*\u001B[0m\u001B[34m*\u001B[0m\u001B[34m*\u001B[0m\u001B[34m*\u001B[0m\u001B[34m*\u001B[0m\u001B[34m*\u001B[0m\u001B[34m*\u001B[0m\u001B[34m*\u001B[0m\u001B[34m*\u001B[0m\u001B[34m*\u001B[0m\u001B[34m*\u001B[0m\u001B[34m*\u001B[0m\u001B[34m*\u001B[0m\u001B[34m*\u001B[0m\u001B[34m*\u001B[0m\u001B[34m*\u001B[0m\u001B[34m*\u001B[0m\u001B[34m*\u001B[0m\u001B[34m*\u001B[0m\u001B[34m*\u001B[0m\u001B[34m*\u001B[0m\u001B[34m*\u001B[0m\u001B[34m*\u001B[0m\u001B[34m*\u001B[0m\u001B[34m*\u001B[0m\u001B[34m*\u001B[0m\u001B[34m*\u001B[0m\u001B[34m*\u001B[0m\u001B[34m*\u001B[0m\u001B[34m*\u001B[0m\u001B[34m*\u001B[0m\u001B[34m*\u001B[0m\u001B[34m*\u001B[0m\u001B[34m*\u001B[0m\u001B[34m*\u001B[0m\u001B[34m*\u001B[0m\u001B[34m*\u001B[0m\u001B[34m*\u001B[0m\u001B[34m*\u001B[0m\u001B[34m*\u001B[0m\u001B[34m*\u001B[0m\u001B[34m*\u001B[0m\u001B[34m*\u001B[0m\u001B[34m*\u001B[0m\u001B[34m*\u001B[0m\u001B[34m*\u001B[0m\u001B[34m*\u001B[0m\u001B[34m*\u001B[0m\n",
      "\u001B[32m** Rozwiązanie ********************************************************************************\u001B[0m\n"
     ]
    },
    {
     "data": {
      "text/plain": [
       "<IPython.core.display.Latex object>"
      ],
      "text/latex": "$$\\left[\\begin{matrix}1 & 1\\\\-1 & 1\\\\4 & 1\\\\2 & 1\\\\-2 & 1\\end{matrix}\\right]\n\t\t\\cdot \\left[\\begin{matrix} a \\\\ b \\end{matrix}\\right]\n\t\t= \\left[\\begin{matrix}1\\\\0\\\\4\\\\2\\\\-4\\end{matrix}\\right]\n\t\t\\quad \\Biggm/ \\cdot \\left(\\left(A^T A \\right)^{-1} A^T \\right)_L$$"
     },
     "metadata": {},
     "output_type": "display_data"
    },
    {
     "data": {
      "text/plain": [
       "<IPython.core.display.Latex object>"
      ],
      "text/latex": "$$\\left[\\begin{matrix} a \\\\ b \\end{matrix}\\right] = \n\t\t \\left[\\begin{matrix} \\frac{7}{6} \\\\ - \\frac{1}{3} \\end{matrix}\\right]$$"
     },
     "metadata": {},
     "output_type": "display_data"
    },
    {
     "data": {
      "text/plain": [
       "<IPython.core.display.Markdown object>"
      ],
      "text/markdown": "![](./pics//regresja4.png)"
     },
     "metadata": {},
     "output_type": "display_data"
    },
    {
     "name": "stdout",
     "output_type": "stream",
     "text": [
      "\u001B[32m*\u001B[0m\u001B[32m*\u001B[0m\u001B[32m*\u001B[0m\u001B[32m*\u001B[0m\u001B[32m*\u001B[0m\u001B[32m*\u001B[0m\u001B[32m*\u001B[0m\u001B[32m*\u001B[0m\u001B[32m*\u001B[0m\u001B[32m*\u001B[0m\u001B[32m*\u001B[0m\u001B[32m*\u001B[0m\u001B[32m*\u001B[0m\u001B[32m*\u001B[0m\u001B[32m*\u001B[0m\u001B[32m*\u001B[0m\u001B[32m*\u001B[0m\u001B[32m*\u001B[0m\u001B[32m*\u001B[0m\u001B[32m*\u001B[0m\u001B[32m*\u001B[0m\u001B[32m*\u001B[0m\u001B[32m*\u001B[0m\u001B[32m*\u001B[0m\u001B[32m*\u001B[0m\u001B[32m*\u001B[0m\u001B[32m*\u001B[0m\u001B[32m*\u001B[0m\u001B[32m*\u001B[0m\u001B[32m*\u001B[0m\u001B[32m*\u001B[0m\u001B[32m*\u001B[0m\u001B[32m*\u001B[0m\u001B[32m*\u001B[0m\u001B[32m*\u001B[0m\u001B[32m*\u001B[0m\u001B[32m*\u001B[0m\u001B[32m*\u001B[0m\u001B[32m*\u001B[0m\u001B[32m*\u001B[0m\u001B[32m*\u001B[0m\u001B[32m*\u001B[0m\u001B[32m*\u001B[0m\u001B[32m*\u001B[0m\u001B[32m*\u001B[0m\u001B[32m*\u001B[0m\u001B[32m*\u001B[0m\u001B[32m*\u001B[0m\u001B[32m*\u001B[0m\u001B[32m*\u001B[0m\u001B[32m*\u001B[0m\u001B[32m*\u001B[0m\u001B[32m*\u001B[0m\u001B[32m*\u001B[0m\u001B[32m*\u001B[0m\u001B[32m*\u001B[0m\u001B[32m*\u001B[0m\u001B[32m*\u001B[0m\u001B[32m*\u001B[0m\u001B[32m*\u001B[0m\u001B[32m*\u001B[0m\u001B[32m*\u001B[0m\u001B[32m*\u001B[0m\u001B[32m*\u001B[0m\u001B[32m*\u001B[0m\u001B[32m*\u001B[0m\u001B[32m*\u001B[0m\u001B[32m*\u001B[0m\u001B[32m*\u001B[0m\u001B[32m*\u001B[0m\u001B[32m*\u001B[0m\u001B[32m*\u001B[0m\u001B[32m*\u001B[0m\u001B[32m*\u001B[0m\u001B[32m*\u001B[0m\u001B[32m*\u001B[0m\u001B[32m*\u001B[0m\u001B[32m*\u001B[0m\u001B[32m*\u001B[0m\u001B[32m*\u001B[0m\u001B[32m*\u001B[0m\u001B[32m*\u001B[0m\u001B[32m*\u001B[0m\u001B[32m*\u001B[0m\u001B[32m*\u001B[0m\u001B[32m*\u001B[0m\u001B[32m*\u001B[0m\u001B[32m*\u001B[0m\u001B[32m*\u001B[0m\u001B[32m*\u001B[0m\u001B[32m*\u001B[0m\u001B[32m*\u001B[0m\u001B[32m*\u001B[0m\u001B[32m*\u001B[0m\u001B[32m*\u001B[0m\n",
      "\u001B[34m** Zadanie 5 **********************************************************************************\u001B[0m\n"
     ]
    },
    {
     "data": {
      "text/plain": [
       "<IPython.core.display.Markdown object>"
      ],
      "text/markdown": "Wyznaczyć prostą regresji dla punktów "
     },
     "metadata": {},
     "output_type": "display_data"
    },
    {
     "data": {
      "text/plain": [
       "<IPython.core.display.Latex object>"
      ],
      "text/latex": "$$\n\t\t(2,1),\\  (1,-2),\\  (0,-4),\\  (3,2),\\  (-4,-5).\n\t$$"
     },
     "metadata": {},
     "output_type": "display_data"
    },
    {
     "name": "stdout",
     "output_type": "stream",
     "text": [
      "\u001B[34m*\u001B[0m\u001B[34m*\u001B[0m\u001B[34m*\u001B[0m\u001B[34m*\u001B[0m\u001B[34m*\u001B[0m\u001B[34m*\u001B[0m\u001B[34m*\u001B[0m\u001B[34m*\u001B[0m\u001B[34m*\u001B[0m\u001B[34m*\u001B[0m\u001B[34m*\u001B[0m\u001B[34m*\u001B[0m\u001B[34m*\u001B[0m\u001B[34m*\u001B[0m\u001B[34m*\u001B[0m\u001B[34m*\u001B[0m\u001B[34m*\u001B[0m\u001B[34m*\u001B[0m\u001B[34m*\u001B[0m\u001B[34m*\u001B[0m\u001B[34m*\u001B[0m\u001B[34m*\u001B[0m\u001B[34m*\u001B[0m\u001B[34m*\u001B[0m\u001B[34m*\u001B[0m\u001B[34m*\u001B[0m\u001B[34m*\u001B[0m\u001B[34m*\u001B[0m\u001B[34m*\u001B[0m\u001B[34m*\u001B[0m\u001B[34m*\u001B[0m\u001B[34m*\u001B[0m\u001B[34m*\u001B[0m\u001B[34m*\u001B[0m\u001B[34m*\u001B[0m\u001B[34m*\u001B[0m\u001B[34m*\u001B[0m\u001B[34m*\u001B[0m\u001B[34m*\u001B[0m\u001B[34m*\u001B[0m\u001B[34m*\u001B[0m\u001B[34m*\u001B[0m\u001B[34m*\u001B[0m\u001B[34m*\u001B[0m\u001B[34m*\u001B[0m\u001B[34m*\u001B[0m\u001B[34m*\u001B[0m\u001B[34m*\u001B[0m\u001B[34m*\u001B[0m\u001B[34m*\u001B[0m\u001B[34m*\u001B[0m\u001B[34m*\u001B[0m\u001B[34m*\u001B[0m\u001B[34m*\u001B[0m\u001B[34m*\u001B[0m\u001B[34m*\u001B[0m\u001B[34m*\u001B[0m\u001B[34m*\u001B[0m\u001B[34m*\u001B[0m\u001B[34m*\u001B[0m\u001B[34m*\u001B[0m\u001B[34m*\u001B[0m\u001B[34m*\u001B[0m\u001B[34m*\u001B[0m\u001B[34m*\u001B[0m\u001B[34m*\u001B[0m\u001B[34m*\u001B[0m\u001B[34m*\u001B[0m\u001B[34m*\u001B[0m\u001B[34m*\u001B[0m\u001B[34m*\u001B[0m\u001B[34m*\u001B[0m\u001B[34m*\u001B[0m\u001B[34m*\u001B[0m\u001B[34m*\u001B[0m\u001B[34m*\u001B[0m\u001B[34m*\u001B[0m\u001B[34m*\u001B[0m\u001B[34m*\u001B[0m\u001B[34m*\u001B[0m\u001B[34m*\u001B[0m\u001B[34m*\u001B[0m\u001B[34m*\u001B[0m\u001B[34m*\u001B[0m\u001B[34m*\u001B[0m\u001B[34m*\u001B[0m\u001B[34m*\u001B[0m\u001B[34m*\u001B[0m\u001B[34m*\u001B[0m\u001B[34m*\u001B[0m\u001B[34m*\u001B[0m\u001B[34m*\u001B[0m\u001B[34m*\u001B[0m\u001B[34m*\u001B[0m\u001B[34m*\u001B[0m\n",
      "\u001B[32m** Rozwiązanie ********************************************************************************\u001B[0m\n"
     ]
    },
    {
     "data": {
      "text/plain": [
       "<IPython.core.display.Latex object>"
      ],
      "text/latex": "$$\\left[\\begin{matrix}2 & 1\\\\1 & 1\\\\0 & 1\\\\3 & 1\\\\-4 & 1\\end{matrix}\\right]\n\t\t\\cdot \\left[\\begin{matrix} a \\\\ b \\end{matrix}\\right]\n\t\t= \\left[\\begin{matrix}1\\\\-2\\\\-4\\\\2\\\\-5\\end{matrix}\\right]\n\t\t\\quad \\Biggm/ \\cdot \\left(\\left(A^T A \\right)^{-1} A^T \\right)_L$$"
     },
     "metadata": {},
     "output_type": "display_data"
    },
    {
     "data": {
      "text/plain": [
       "<IPython.core.display.Latex object>"
      ],
      "text/latex": "$$\\left[\\begin{matrix} a \\\\ b \\end{matrix}\\right] = \n\t\t \\left[\\begin{matrix} 1 \\\\ -2 \\end{matrix}\\right]$$"
     },
     "metadata": {},
     "output_type": "display_data"
    },
    {
     "data": {
      "text/plain": [
       "<IPython.core.display.Markdown object>"
      ],
      "text/markdown": "![](./pics//regresja5.png)"
     },
     "metadata": {},
     "output_type": "display_data"
    },
    {
     "name": "stdout",
     "output_type": "stream",
     "text": [
      "\u001B[32m*\u001B[0m\u001B[32m*\u001B[0m\u001B[32m*\u001B[0m\u001B[32m*\u001B[0m\u001B[32m*\u001B[0m\u001B[32m*\u001B[0m\u001B[32m*\u001B[0m\u001B[32m*\u001B[0m\u001B[32m*\u001B[0m\u001B[32m*\u001B[0m\u001B[32m*\u001B[0m\u001B[32m*\u001B[0m\u001B[32m*\u001B[0m\u001B[32m*\u001B[0m\u001B[32m*\u001B[0m\u001B[32m*\u001B[0m\u001B[32m*\u001B[0m\u001B[32m*\u001B[0m\u001B[32m*\u001B[0m\u001B[32m*\u001B[0m\u001B[32m*\u001B[0m\u001B[32m*\u001B[0m\u001B[32m*\u001B[0m\u001B[32m*\u001B[0m\u001B[32m*\u001B[0m\u001B[32m*\u001B[0m\u001B[32m*\u001B[0m\u001B[32m*\u001B[0m\u001B[32m*\u001B[0m\u001B[32m*\u001B[0m\u001B[32m*\u001B[0m\u001B[32m*\u001B[0m\u001B[32m*\u001B[0m\u001B[32m*\u001B[0m\u001B[32m*\u001B[0m\u001B[32m*\u001B[0m\u001B[32m*\u001B[0m\u001B[32m*\u001B[0m\u001B[32m*\u001B[0m\u001B[32m*\u001B[0m\u001B[32m*\u001B[0m\u001B[32m*\u001B[0m\u001B[32m*\u001B[0m\u001B[32m*\u001B[0m\u001B[32m*\u001B[0m\u001B[32m*\u001B[0m\u001B[32m*\u001B[0m\u001B[32m*\u001B[0m\u001B[32m*\u001B[0m\u001B[32m*\u001B[0m\u001B[32m*\u001B[0m\u001B[32m*\u001B[0m\u001B[32m*\u001B[0m\u001B[32m*\u001B[0m\u001B[32m*\u001B[0m\u001B[32m*\u001B[0m\u001B[32m*\u001B[0m\u001B[32m*\u001B[0m\u001B[32m*\u001B[0m\u001B[32m*\u001B[0m\u001B[32m*\u001B[0m\u001B[32m*\u001B[0m\u001B[32m*\u001B[0m\u001B[32m*\u001B[0m\u001B[32m*\u001B[0m\u001B[32m*\u001B[0m\u001B[32m*\u001B[0m\u001B[32m*\u001B[0m\u001B[32m*\u001B[0m\u001B[32m*\u001B[0m\u001B[32m*\u001B[0m\u001B[32m*\u001B[0m\u001B[32m*\u001B[0m\u001B[32m*\u001B[0m\u001B[32m*\u001B[0m\u001B[32m*\u001B[0m\u001B[32m*\u001B[0m\u001B[32m*\u001B[0m\u001B[32m*\u001B[0m\u001B[32m*\u001B[0m\u001B[32m*\u001B[0m\u001B[32m*\u001B[0m\u001B[32m*\u001B[0m\u001B[32m*\u001B[0m\u001B[32m*\u001B[0m\u001B[32m*\u001B[0m\u001B[32m*\u001B[0m\u001B[32m*\u001B[0m\u001B[32m*\u001B[0m\u001B[32m*\u001B[0m\u001B[32m*\u001B[0m\u001B[32m*\u001B[0m\u001B[32m*\u001B[0m\u001B[32m*\u001B[0m\u001B[32m*\u001B[0m\n",
      "\u001B[34m** Zadanie 6 **********************************************************************************\u001B[0m\n"
     ]
    },
    {
     "data": {
      "text/plain": [
       "<IPython.core.display.Markdown object>"
      ],
      "text/markdown": "Wyznaczyć prostą regresji dla punktów "
     },
     "metadata": {},
     "output_type": "display_data"
    },
    {
     "data": {
      "text/plain": [
       "<IPython.core.display.Latex object>"
      ],
      "text/latex": "$$\n\t\t(-1,0),\\  (1,-3),\\  (-3,3),\\  (-2,-1),\\  (0,-4).\n\t$$"
     },
     "metadata": {},
     "output_type": "display_data"
    },
    {
     "name": "stdout",
     "output_type": "stream",
     "text": [
      "\u001B[34m*\u001B[0m\u001B[34m*\u001B[0m\u001B[34m*\u001B[0m\u001B[34m*\u001B[0m\u001B[34m*\u001B[0m\u001B[34m*\u001B[0m\u001B[34m*\u001B[0m\u001B[34m*\u001B[0m\u001B[34m*\u001B[0m\u001B[34m*\u001B[0m\u001B[34m*\u001B[0m\u001B[34m*\u001B[0m\u001B[34m*\u001B[0m\u001B[34m*\u001B[0m\u001B[34m*\u001B[0m\u001B[34m*\u001B[0m\u001B[34m*\u001B[0m\u001B[34m*\u001B[0m\u001B[34m*\u001B[0m\u001B[34m*\u001B[0m\u001B[34m*\u001B[0m\u001B[34m*\u001B[0m\u001B[34m*\u001B[0m\u001B[34m*\u001B[0m\u001B[34m*\u001B[0m\u001B[34m*\u001B[0m\u001B[34m*\u001B[0m\u001B[34m*\u001B[0m\u001B[34m*\u001B[0m\u001B[34m*\u001B[0m\u001B[34m*\u001B[0m\u001B[34m*\u001B[0m\u001B[34m*\u001B[0m\u001B[34m*\u001B[0m\u001B[34m*\u001B[0m\u001B[34m*\u001B[0m\u001B[34m*\u001B[0m\u001B[34m*\u001B[0m\u001B[34m*\u001B[0m\u001B[34m*\u001B[0m\u001B[34m*\u001B[0m\u001B[34m*\u001B[0m\u001B[34m*\u001B[0m\u001B[34m*\u001B[0m\u001B[34m*\u001B[0m\u001B[34m*\u001B[0m\u001B[34m*\u001B[0m\u001B[34m*\u001B[0m\u001B[34m*\u001B[0m\u001B[34m*\u001B[0m\u001B[34m*\u001B[0m\u001B[34m*\u001B[0m\u001B[34m*\u001B[0m\u001B[34m*\u001B[0m\u001B[34m*\u001B[0m\u001B[34m*\u001B[0m\u001B[34m*\u001B[0m\u001B[34m*\u001B[0m\u001B[34m*\u001B[0m\u001B[34m*\u001B[0m\u001B[34m*\u001B[0m\u001B[34m*\u001B[0m\u001B[34m*\u001B[0m\u001B[34m*\u001B[0m\u001B[34m*\u001B[0m\u001B[34m*\u001B[0m\u001B[34m*\u001B[0m\u001B[34m*\u001B[0m\u001B[34m*\u001B[0m\u001B[34m*\u001B[0m\u001B[34m*\u001B[0m\u001B[34m*\u001B[0m\u001B[34m*\u001B[0m\u001B[34m*\u001B[0m\u001B[34m*\u001B[0m\u001B[34m*\u001B[0m\u001B[34m*\u001B[0m\u001B[34m*\u001B[0m\u001B[34m*\u001B[0m\u001B[34m*\u001B[0m\u001B[34m*\u001B[0m\u001B[34m*\u001B[0m\u001B[34m*\u001B[0m\u001B[34m*\u001B[0m\u001B[34m*\u001B[0m\u001B[34m*\u001B[0m\u001B[34m*\u001B[0m\u001B[34m*\u001B[0m\u001B[34m*\u001B[0m\u001B[34m*\u001B[0m\u001B[34m*\u001B[0m\u001B[34m*\u001B[0m\u001B[34m*\u001B[0m\u001B[34m*\u001B[0m\u001B[34m*\u001B[0m\n",
      "\u001B[32m** Rozwiązanie ********************************************************************************\u001B[0m\n"
     ]
    },
    {
     "data": {
      "text/plain": [
       "<IPython.core.display.Latex object>"
      ],
      "text/latex": "$$\\left[\\begin{matrix}-1 & 1\\\\1 & 1\\\\-3 & 1\\\\-2 & 1\\\\0 & 1\\end{matrix}\\right]\n\t\t\\cdot \\left[\\begin{matrix} a \\\\ b \\end{matrix}\\right]\n\t\t= \\left[\\begin{matrix}0\\\\-3\\\\3\\\\-1\\\\-4\\end{matrix}\\right]\n\t\t\\quad \\Biggm/ \\cdot \\left(\\left(A^T A \\right)^{-1} A^T \\right)_L$$"
     },
     "metadata": {},
     "output_type": "display_data"
    },
    {
     "data": {
      "text/plain": [
       "<IPython.core.display.Latex object>"
      ],
      "text/latex": "$$\\left[\\begin{matrix} a \\\\ b \\end{matrix}\\right] = \n\t\t \\left[\\begin{matrix} - \\frac{3}{2} \\\\ - \\frac{5}{2} \\end{matrix}\\right]$$"
     },
     "metadata": {},
     "output_type": "display_data"
    },
    {
     "data": {
      "text/plain": [
       "<IPython.core.display.Markdown object>"
      ],
      "text/markdown": "![](./pics//regresja6.png)"
     },
     "metadata": {},
     "output_type": "display_data"
    },
    {
     "name": "stdout",
     "output_type": "stream",
     "text": [
      "\u001B[32m*\u001B[0m\u001B[32m*\u001B[0m\u001B[32m*\u001B[0m\u001B[32m*\u001B[0m\u001B[32m*\u001B[0m\u001B[32m*\u001B[0m\u001B[32m*\u001B[0m\u001B[32m*\u001B[0m\u001B[32m*\u001B[0m\u001B[32m*\u001B[0m\u001B[32m*\u001B[0m\u001B[32m*\u001B[0m\u001B[32m*\u001B[0m\u001B[32m*\u001B[0m\u001B[32m*\u001B[0m\u001B[32m*\u001B[0m\u001B[32m*\u001B[0m\u001B[32m*\u001B[0m\u001B[32m*\u001B[0m\u001B[32m*\u001B[0m\u001B[32m*\u001B[0m\u001B[32m*\u001B[0m\u001B[32m*\u001B[0m\u001B[32m*\u001B[0m\u001B[32m*\u001B[0m\u001B[32m*\u001B[0m\u001B[32m*\u001B[0m\u001B[32m*\u001B[0m\u001B[32m*\u001B[0m\u001B[32m*\u001B[0m\u001B[32m*\u001B[0m\u001B[32m*\u001B[0m\u001B[32m*\u001B[0m\u001B[32m*\u001B[0m\u001B[32m*\u001B[0m\u001B[32m*\u001B[0m\u001B[32m*\u001B[0m\u001B[32m*\u001B[0m\u001B[32m*\u001B[0m\u001B[32m*\u001B[0m\u001B[32m*\u001B[0m\u001B[32m*\u001B[0m\u001B[32m*\u001B[0m\u001B[32m*\u001B[0m\u001B[32m*\u001B[0m\u001B[32m*\u001B[0m\u001B[32m*\u001B[0m\u001B[32m*\u001B[0m\u001B[32m*\u001B[0m\u001B[32m*\u001B[0m\u001B[32m*\u001B[0m\u001B[32m*\u001B[0m\u001B[32m*\u001B[0m\u001B[32m*\u001B[0m\u001B[32m*\u001B[0m\u001B[32m*\u001B[0m\u001B[32m*\u001B[0m\u001B[32m*\u001B[0m\u001B[32m*\u001B[0m\u001B[32m*\u001B[0m\u001B[32m*\u001B[0m\u001B[32m*\u001B[0m\u001B[32m*\u001B[0m\u001B[32m*\u001B[0m\u001B[32m*\u001B[0m\u001B[32m*\u001B[0m\u001B[32m*\u001B[0m\u001B[32m*\u001B[0m\u001B[32m*\u001B[0m\u001B[32m*\u001B[0m\u001B[32m*\u001B[0m\u001B[32m*\u001B[0m\u001B[32m*\u001B[0m\u001B[32m*\u001B[0m\u001B[32m*\u001B[0m\u001B[32m*\u001B[0m\u001B[32m*\u001B[0m\u001B[32m*\u001B[0m\u001B[32m*\u001B[0m\u001B[32m*\u001B[0m\u001B[32m*\u001B[0m\u001B[32m*\u001B[0m\u001B[32m*\u001B[0m\u001B[32m*\u001B[0m\u001B[32m*\u001B[0m\u001B[32m*\u001B[0m\u001B[32m*\u001B[0m\u001B[32m*\u001B[0m\u001B[32m*\u001B[0m\u001B[32m*\u001B[0m\u001B[32m*\u001B[0m\u001B[32m*\u001B[0m\u001B[32m*\u001B[0m\u001B[32m*\u001B[0m\u001B[32m*\u001B[0m\n",
      "\u001B[34m** Zadanie 7 **********************************************************************************\u001B[0m\n"
     ]
    },
    {
     "data": {
      "text/plain": [
       "<IPython.core.display.Markdown object>"
      ],
      "text/markdown": "Wyznaczyć prostą regresji dla punktów "
     },
     "metadata": {},
     "output_type": "display_data"
    },
    {
     "data": {
      "text/plain": [
       "<IPython.core.display.Latex object>"
      ],
      "text/latex": "$$\n\t\t(0,2),\\  (3,1),\\  (2,-1),\\  (4,-3),\\  (-2,4).\n\t$$"
     },
     "metadata": {},
     "output_type": "display_data"
    },
    {
     "name": "stdout",
     "output_type": "stream",
     "text": [
      "\u001B[34m*\u001B[0m\u001B[34m*\u001B[0m\u001B[34m*\u001B[0m\u001B[34m*\u001B[0m\u001B[34m*\u001B[0m\u001B[34m*\u001B[0m\u001B[34m*\u001B[0m\u001B[34m*\u001B[0m\u001B[34m*\u001B[0m\u001B[34m*\u001B[0m\u001B[34m*\u001B[0m\u001B[34m*\u001B[0m\u001B[34m*\u001B[0m\u001B[34m*\u001B[0m\u001B[34m*\u001B[0m\u001B[34m*\u001B[0m\u001B[34m*\u001B[0m\u001B[34m*\u001B[0m\u001B[34m*\u001B[0m\u001B[34m*\u001B[0m\u001B[34m*\u001B[0m\u001B[34m*\u001B[0m\u001B[34m*\u001B[0m\u001B[34m*\u001B[0m\u001B[34m*\u001B[0m\u001B[34m*\u001B[0m\u001B[34m*\u001B[0m\u001B[34m*\u001B[0m\u001B[34m*\u001B[0m\u001B[34m*\u001B[0m\u001B[34m*\u001B[0m\u001B[34m*\u001B[0m\u001B[34m*\u001B[0m\u001B[34m*\u001B[0m\u001B[34m*\u001B[0m\u001B[34m*\u001B[0m\u001B[34m*\u001B[0m\u001B[34m*\u001B[0m\u001B[34m*\u001B[0m\u001B[34m*\u001B[0m\u001B[34m*\u001B[0m\u001B[34m*\u001B[0m\u001B[34m*\u001B[0m\u001B[34m*\u001B[0m\u001B[34m*\u001B[0m\u001B[34m*\u001B[0m\u001B[34m*\u001B[0m\u001B[34m*\u001B[0m\u001B[34m*\u001B[0m\u001B[34m*\u001B[0m\u001B[34m*\u001B[0m\u001B[34m*\u001B[0m\u001B[34m*\u001B[0m\u001B[34m*\u001B[0m\u001B[34m*\u001B[0m\u001B[34m*\u001B[0m\u001B[34m*\u001B[0m\u001B[34m*\u001B[0m\u001B[34m*\u001B[0m\u001B[34m*\u001B[0m\u001B[34m*\u001B[0m\u001B[34m*\u001B[0m\u001B[34m*\u001B[0m\u001B[34m*\u001B[0m\u001B[34m*\u001B[0m\u001B[34m*\u001B[0m\u001B[34m*\u001B[0m\u001B[34m*\u001B[0m\u001B[34m*\u001B[0m\u001B[34m*\u001B[0m\u001B[34m*\u001B[0m\u001B[34m*\u001B[0m\u001B[34m*\u001B[0m\u001B[34m*\u001B[0m\u001B[34m*\u001B[0m\u001B[34m*\u001B[0m\u001B[34m*\u001B[0m\u001B[34m*\u001B[0m\u001B[34m*\u001B[0m\u001B[34m*\u001B[0m\u001B[34m*\u001B[0m\u001B[34m*\u001B[0m\u001B[34m*\u001B[0m\u001B[34m*\u001B[0m\u001B[34m*\u001B[0m\u001B[34m*\u001B[0m\u001B[34m*\u001B[0m\u001B[34m*\u001B[0m\u001B[34m*\u001B[0m\u001B[34m*\u001B[0m\u001B[34m*\u001B[0m\u001B[34m*\u001B[0m\u001B[34m*\u001B[0m\u001B[34m*\u001B[0m\u001B[34m*\u001B[0m\n",
      "\u001B[32m** Rozwiązanie ********************************************************************************\u001B[0m\n"
     ]
    },
    {
     "data": {
      "text/plain": [
       "<IPython.core.display.Latex object>"
      ],
      "text/latex": "$$\\left[\\begin{matrix}0 & 1\\\\3 & 1\\\\2 & 1\\\\4 & 1\\\\-2 & 1\\end{matrix}\\right]\n\t\t\\cdot \\left[\\begin{matrix} a \\\\ b \\end{matrix}\\right]\n\t\t= \\left[\\begin{matrix}2\\\\1\\\\-1\\\\-3\\\\4\\end{matrix}\\right]\n\t\t\\quad \\Biggm/ \\cdot \\left(\\left(A^T A \\right)^{-1} A^T \\right)_L$$"
     },
     "metadata": {},
     "output_type": "display_data"
    },
    {
     "data": {
      "text/plain": [
       "<IPython.core.display.Latex object>"
      ],
      "text/latex": "$$\\left[\\begin{matrix} a \\\\ b \\end{matrix}\\right] = \n\t\t \\left[\\begin{matrix} -1 \\\\ 2 \\end{matrix}\\right]$$"
     },
     "metadata": {},
     "output_type": "display_data"
    },
    {
     "data": {
      "text/plain": [
       "<IPython.core.display.Markdown object>"
      ],
      "text/markdown": "![](./pics//regresja7.png)"
     },
     "metadata": {},
     "output_type": "display_data"
    },
    {
     "name": "stdout",
     "output_type": "stream",
     "text": [
      "\u001B[32m*\u001B[0m\u001B[32m*\u001B[0m\u001B[32m*\u001B[0m\u001B[32m*\u001B[0m\u001B[32m*\u001B[0m\u001B[32m*\u001B[0m\u001B[32m*\u001B[0m\u001B[32m*\u001B[0m\u001B[32m*\u001B[0m\u001B[32m*\u001B[0m\u001B[32m*\u001B[0m\u001B[32m*\u001B[0m\u001B[32m*\u001B[0m\u001B[32m*\u001B[0m\u001B[32m*\u001B[0m\u001B[32m*\u001B[0m\u001B[32m*\u001B[0m\u001B[32m*\u001B[0m\u001B[32m*\u001B[0m\u001B[32m*\u001B[0m\u001B[32m*\u001B[0m\u001B[32m*\u001B[0m\u001B[32m*\u001B[0m\u001B[32m*\u001B[0m\u001B[32m*\u001B[0m\u001B[32m*\u001B[0m\u001B[32m*\u001B[0m\u001B[32m*\u001B[0m\u001B[32m*\u001B[0m\u001B[32m*\u001B[0m\u001B[32m*\u001B[0m\u001B[32m*\u001B[0m\u001B[32m*\u001B[0m\u001B[32m*\u001B[0m\u001B[32m*\u001B[0m\u001B[32m*\u001B[0m\u001B[32m*\u001B[0m\u001B[32m*\u001B[0m\u001B[32m*\u001B[0m\u001B[32m*\u001B[0m\u001B[32m*\u001B[0m\u001B[32m*\u001B[0m\u001B[32m*\u001B[0m\u001B[32m*\u001B[0m\u001B[32m*\u001B[0m\u001B[32m*\u001B[0m\u001B[32m*\u001B[0m\u001B[32m*\u001B[0m\u001B[32m*\u001B[0m\u001B[32m*\u001B[0m\u001B[32m*\u001B[0m\u001B[32m*\u001B[0m\u001B[32m*\u001B[0m\u001B[32m*\u001B[0m\u001B[32m*\u001B[0m\u001B[32m*\u001B[0m\u001B[32m*\u001B[0m\u001B[32m*\u001B[0m\u001B[32m*\u001B[0m\u001B[32m*\u001B[0m\u001B[32m*\u001B[0m\u001B[32m*\u001B[0m\u001B[32m*\u001B[0m\u001B[32m*\u001B[0m\u001B[32m*\u001B[0m\u001B[32m*\u001B[0m\u001B[32m*\u001B[0m\u001B[32m*\u001B[0m\u001B[32m*\u001B[0m\u001B[32m*\u001B[0m\u001B[32m*\u001B[0m\u001B[32m*\u001B[0m\u001B[32m*\u001B[0m\u001B[32m*\u001B[0m\u001B[32m*\u001B[0m\u001B[32m*\u001B[0m\u001B[32m*\u001B[0m\u001B[32m*\u001B[0m\u001B[32m*\u001B[0m\u001B[32m*\u001B[0m\u001B[32m*\u001B[0m\u001B[32m*\u001B[0m\u001B[32m*\u001B[0m\u001B[32m*\u001B[0m\u001B[32m*\u001B[0m\u001B[32m*\u001B[0m\u001B[32m*\u001B[0m\u001B[32m*\u001B[0m\u001B[32m*\u001B[0m\u001B[32m*\u001B[0m\u001B[32m*\u001B[0m\u001B[32m*\u001B[0m\u001B[32m*\u001B[0m\u001B[32m*\u001B[0m\u001B[32m*\u001B[0m\n",
      "\u001B[34m** Zadanie 8 **********************************************************************************\u001B[0m\n"
     ]
    },
    {
     "data": {
      "text/plain": [
       "<IPython.core.display.Markdown object>"
      ],
      "text/markdown": "Wyznaczyć prostą regresji dla punktów "
     },
     "metadata": {},
     "output_type": "display_data"
    },
    {
     "data": {
      "text/plain": [
       "<IPython.core.display.Latex object>"
      ],
      "text/latex": "$$\n\t\t(-1,5),\\  (0,2),\\  (-5,4),\\  (4,1),\\  (5,-1).\n\t$$"
     },
     "metadata": {},
     "output_type": "display_data"
    },
    {
     "name": "stdout",
     "output_type": "stream",
     "text": [
      "\u001B[34m*\u001B[0m\u001B[34m*\u001B[0m\u001B[34m*\u001B[0m\u001B[34m*\u001B[0m\u001B[34m*\u001B[0m\u001B[34m*\u001B[0m\u001B[34m*\u001B[0m\u001B[34m*\u001B[0m\u001B[34m*\u001B[0m\u001B[34m*\u001B[0m\u001B[34m*\u001B[0m\u001B[34m*\u001B[0m\u001B[34m*\u001B[0m\u001B[34m*\u001B[0m\u001B[34m*\u001B[0m\u001B[34m*\u001B[0m\u001B[34m*\u001B[0m\u001B[34m*\u001B[0m\u001B[34m*\u001B[0m\u001B[34m*\u001B[0m\u001B[34m*\u001B[0m\u001B[34m*\u001B[0m\u001B[34m*\u001B[0m\u001B[34m*\u001B[0m\u001B[34m*\u001B[0m\u001B[34m*\u001B[0m\u001B[34m*\u001B[0m\u001B[34m*\u001B[0m\u001B[34m*\u001B[0m\u001B[34m*\u001B[0m\u001B[34m*\u001B[0m\u001B[34m*\u001B[0m\u001B[34m*\u001B[0m\u001B[34m*\u001B[0m\u001B[34m*\u001B[0m\u001B[34m*\u001B[0m\u001B[34m*\u001B[0m\u001B[34m*\u001B[0m\u001B[34m*\u001B[0m\u001B[34m*\u001B[0m\u001B[34m*\u001B[0m\u001B[34m*\u001B[0m\u001B[34m*\u001B[0m\u001B[34m*\u001B[0m\u001B[34m*\u001B[0m\u001B[34m*\u001B[0m\u001B[34m*\u001B[0m\u001B[34m*\u001B[0m\u001B[34m*\u001B[0m\u001B[34m*\u001B[0m\u001B[34m*\u001B[0m\u001B[34m*\u001B[0m\u001B[34m*\u001B[0m\u001B[34m*\u001B[0m\u001B[34m*\u001B[0m\u001B[34m*\u001B[0m\u001B[34m*\u001B[0m\u001B[34m*\u001B[0m\u001B[34m*\u001B[0m\u001B[34m*\u001B[0m\u001B[34m*\u001B[0m\u001B[34m*\u001B[0m\u001B[34m*\u001B[0m\u001B[34m*\u001B[0m\u001B[34m*\u001B[0m\u001B[34m*\u001B[0m\u001B[34m*\u001B[0m\u001B[34m*\u001B[0m\u001B[34m*\u001B[0m\u001B[34m*\u001B[0m\u001B[34m*\u001B[0m\u001B[34m*\u001B[0m\u001B[34m*\u001B[0m\u001B[34m*\u001B[0m\u001B[34m*\u001B[0m\u001B[34m*\u001B[0m\u001B[34m*\u001B[0m\u001B[34m*\u001B[0m\u001B[34m*\u001B[0m\u001B[34m*\u001B[0m\u001B[34m*\u001B[0m\u001B[34m*\u001B[0m\u001B[34m*\u001B[0m\u001B[34m*\u001B[0m\u001B[34m*\u001B[0m\u001B[34m*\u001B[0m\u001B[34m*\u001B[0m\u001B[34m*\u001B[0m\u001B[34m*\u001B[0m\u001B[34m*\u001B[0m\u001B[34m*\u001B[0m\u001B[34m*\u001B[0m\u001B[34m*\u001B[0m\u001B[34m*\u001B[0m\u001B[34m*\u001B[0m\n",
      "\u001B[32m** Rozwiązanie ********************************************************************************\u001B[0m\n"
     ]
    },
    {
     "data": {
      "text/plain": [
       "<IPython.core.display.Latex object>"
      ],
      "text/latex": "$$\\left[\\begin{matrix}-1 & 1\\\\0 & 1\\\\-5 & 1\\\\4 & 1\\\\5 & 1\\end{matrix}\\right]\n\t\t\\cdot \\left[\\begin{matrix} a \\\\ b \\end{matrix}\\right]\n\t\t= \\left[\\begin{matrix}5\\\\2\\\\4\\\\1\\\\-1\\end{matrix}\\right]\n\t\t\\quad \\Biggm/ \\cdot \\left(\\left(A^T A \\right)^{-1} A^T \\right)_L$$"
     },
     "metadata": {},
     "output_type": "display_data"
    },
    {
     "data": {
      "text/plain": [
       "<IPython.core.display.Latex object>"
      ],
      "text/latex": "$$\\left[\\begin{matrix} a \\\\ b \\end{matrix}\\right] = \n\t\t \\left[\\begin{matrix} - \\frac{1}{2} \\\\ \\frac{5}{2} \\end{matrix}\\right]$$"
     },
     "metadata": {},
     "output_type": "display_data"
    },
    {
     "data": {
      "text/plain": [
       "<IPython.core.display.Markdown object>"
      ],
      "text/markdown": "![](./pics//regresja8.png)"
     },
     "metadata": {},
     "output_type": "display_data"
    },
    {
     "name": "stdout",
     "output_type": "stream",
     "text": [
      "\u001B[32m*\u001B[0m\u001B[32m*\u001B[0m\u001B[32m*\u001B[0m\u001B[32m*\u001B[0m\u001B[32m*\u001B[0m\u001B[32m*\u001B[0m\u001B[32m*\u001B[0m\u001B[32m*\u001B[0m\u001B[32m*\u001B[0m\u001B[32m*\u001B[0m\u001B[32m*\u001B[0m\u001B[32m*\u001B[0m\u001B[32m*\u001B[0m\u001B[32m*\u001B[0m\u001B[32m*\u001B[0m\u001B[32m*\u001B[0m\u001B[32m*\u001B[0m\u001B[32m*\u001B[0m\u001B[32m*\u001B[0m\u001B[32m*\u001B[0m\u001B[32m*\u001B[0m\u001B[32m*\u001B[0m\u001B[32m*\u001B[0m\u001B[32m*\u001B[0m\u001B[32m*\u001B[0m\u001B[32m*\u001B[0m\u001B[32m*\u001B[0m\u001B[32m*\u001B[0m\u001B[32m*\u001B[0m\u001B[32m*\u001B[0m\u001B[32m*\u001B[0m\u001B[32m*\u001B[0m\u001B[32m*\u001B[0m\u001B[32m*\u001B[0m\u001B[32m*\u001B[0m\u001B[32m*\u001B[0m\u001B[32m*\u001B[0m\u001B[32m*\u001B[0m\u001B[32m*\u001B[0m\u001B[32m*\u001B[0m\u001B[32m*\u001B[0m\u001B[32m*\u001B[0m\u001B[32m*\u001B[0m\u001B[32m*\u001B[0m\u001B[32m*\u001B[0m\u001B[32m*\u001B[0m\u001B[32m*\u001B[0m\u001B[32m*\u001B[0m\u001B[32m*\u001B[0m\u001B[32m*\u001B[0m\u001B[32m*\u001B[0m\u001B[32m*\u001B[0m\u001B[32m*\u001B[0m\u001B[32m*\u001B[0m\u001B[32m*\u001B[0m\u001B[32m*\u001B[0m\u001B[32m*\u001B[0m\u001B[32m*\u001B[0m\u001B[32m*\u001B[0m\u001B[32m*\u001B[0m\u001B[32m*\u001B[0m\u001B[32m*\u001B[0m\u001B[32m*\u001B[0m\u001B[32m*\u001B[0m\u001B[32m*\u001B[0m\u001B[32m*\u001B[0m\u001B[32m*\u001B[0m\u001B[32m*\u001B[0m\u001B[32m*\u001B[0m\u001B[32m*\u001B[0m\u001B[32m*\u001B[0m\u001B[32m*\u001B[0m\u001B[32m*\u001B[0m\u001B[32m*\u001B[0m\u001B[32m*\u001B[0m\u001B[32m*\u001B[0m\u001B[32m*\u001B[0m\u001B[32m*\u001B[0m\u001B[32m*\u001B[0m\u001B[32m*\u001B[0m\u001B[32m*\u001B[0m\u001B[32m*\u001B[0m\u001B[32m*\u001B[0m\u001B[32m*\u001B[0m\u001B[32m*\u001B[0m\u001B[32m*\u001B[0m\u001B[32m*\u001B[0m\u001B[32m*\u001B[0m\u001B[32m*\u001B[0m\u001B[32m*\u001B[0m\u001B[32m*\u001B[0m\u001B[32m*\u001B[0m\u001B[32m*\u001B[0m\u001B[32m*\u001B[0m\u001B[32m*\u001B[0m\n",
      "\u001B[34m** Zadanie 9 **********************************************************************************\u001B[0m\n"
     ]
    },
    {
     "data": {
      "text/plain": [
       "<IPython.core.display.Markdown object>"
      ],
      "text/markdown": "Wyznaczyć prostą regresji dla punktów "
     },
     "metadata": {},
     "output_type": "display_data"
    },
    {
     "data": {
      "text/plain": [
       "<IPython.core.display.Latex object>"
      ],
      "text/latex": "$$\n\t\t(-5,1),\\  (3,-1),\\  (-2,2),\\  (-3,4),\\  (4,0).\n\t$$"
     },
     "metadata": {},
     "output_type": "display_data"
    },
    {
     "name": "stdout",
     "output_type": "stream",
     "text": [
      "\u001B[34m*\u001B[0m\u001B[34m*\u001B[0m\u001B[34m*\u001B[0m\u001B[34m*\u001B[0m\u001B[34m*\u001B[0m\u001B[34m*\u001B[0m\u001B[34m*\u001B[0m\u001B[34m*\u001B[0m\u001B[34m*\u001B[0m\u001B[34m*\u001B[0m\u001B[34m*\u001B[0m\u001B[34m*\u001B[0m\u001B[34m*\u001B[0m\u001B[34m*\u001B[0m\u001B[34m*\u001B[0m\u001B[34m*\u001B[0m\u001B[34m*\u001B[0m\u001B[34m*\u001B[0m\u001B[34m*\u001B[0m\u001B[34m*\u001B[0m\u001B[34m*\u001B[0m\u001B[34m*\u001B[0m\u001B[34m*\u001B[0m\u001B[34m*\u001B[0m\u001B[34m*\u001B[0m\u001B[34m*\u001B[0m\u001B[34m*\u001B[0m\u001B[34m*\u001B[0m\u001B[34m*\u001B[0m\u001B[34m*\u001B[0m\u001B[34m*\u001B[0m\u001B[34m*\u001B[0m\u001B[34m*\u001B[0m\u001B[34m*\u001B[0m\u001B[34m*\u001B[0m\u001B[34m*\u001B[0m\u001B[34m*\u001B[0m\u001B[34m*\u001B[0m\u001B[34m*\u001B[0m\u001B[34m*\u001B[0m\u001B[34m*\u001B[0m\u001B[34m*\u001B[0m\u001B[34m*\u001B[0m\u001B[34m*\u001B[0m\u001B[34m*\u001B[0m\u001B[34m*\u001B[0m\u001B[34m*\u001B[0m\u001B[34m*\u001B[0m\u001B[34m*\u001B[0m\u001B[34m*\u001B[0m\u001B[34m*\u001B[0m\u001B[34m*\u001B[0m\u001B[34m*\u001B[0m\u001B[34m*\u001B[0m\u001B[34m*\u001B[0m\u001B[34m*\u001B[0m\u001B[34m*\u001B[0m\u001B[34m*\u001B[0m\u001B[34m*\u001B[0m\u001B[34m*\u001B[0m\u001B[34m*\u001B[0m\u001B[34m*\u001B[0m\u001B[34m*\u001B[0m\u001B[34m*\u001B[0m\u001B[34m*\u001B[0m\u001B[34m*\u001B[0m\u001B[34m*\u001B[0m\u001B[34m*\u001B[0m\u001B[34m*\u001B[0m\u001B[34m*\u001B[0m\u001B[34m*\u001B[0m\u001B[34m*\u001B[0m\u001B[34m*\u001B[0m\u001B[34m*\u001B[0m\u001B[34m*\u001B[0m\u001B[34m*\u001B[0m\u001B[34m*\u001B[0m\u001B[34m*\u001B[0m\u001B[34m*\u001B[0m\u001B[34m*\u001B[0m\u001B[34m*\u001B[0m\u001B[34m*\u001B[0m\u001B[34m*\u001B[0m\u001B[34m*\u001B[0m\u001B[34m*\u001B[0m\u001B[34m*\u001B[0m\u001B[34m*\u001B[0m\u001B[34m*\u001B[0m\u001B[34m*\u001B[0m\u001B[34m*\u001B[0m\u001B[34m*\u001B[0m\u001B[34m*\u001B[0m\u001B[34m*\u001B[0m\u001B[34m*\u001B[0m\u001B[34m*\u001B[0m\n",
      "\u001B[32m** Rozwiązanie ********************************************************************************\u001B[0m\n"
     ]
    },
    {
     "data": {
      "text/plain": [
       "<IPython.core.display.Latex object>"
      ],
      "text/latex": "$$\\left[\\begin{matrix}-5 & 1\\\\3 & 1\\\\-2 & 1\\\\-3 & 1\\\\4 & 1\\end{matrix}\\right]\n\t\t\\cdot \\left[\\begin{matrix} a \\\\ b \\end{matrix}\\right]\n\t\t= \\left[\\begin{matrix}1\\\\-1\\\\2\\\\4\\\\0\\end{matrix}\\right]\n\t\t\\quad \\Biggm/ \\cdot \\left(\\left(A^T A \\right)^{-1} A^T \\right)_L$$"
     },
     "metadata": {},
     "output_type": "display_data"
    },
    {
     "data": {
      "text/plain": [
       "<IPython.core.display.Latex object>"
      ],
      "text/latex": "$$\\left[\\begin{matrix} a \\\\ b \\end{matrix}\\right] = \n\t\t \\left[\\begin{matrix} - \\frac{1}{3} \\\\ 1 \\end{matrix}\\right]$$"
     },
     "metadata": {},
     "output_type": "display_data"
    },
    {
     "data": {
      "text/plain": [
       "<IPython.core.display.Markdown object>"
      ],
      "text/markdown": "![](./pics//regresja9.png)"
     },
     "metadata": {},
     "output_type": "display_data"
    },
    {
     "name": "stdout",
     "output_type": "stream",
     "text": [
      "\u001B[32m*\u001B[0m\u001B[32m*\u001B[0m\u001B[32m*\u001B[0m\u001B[32m*\u001B[0m\u001B[32m*\u001B[0m\u001B[32m*\u001B[0m\u001B[32m*\u001B[0m\u001B[32m*\u001B[0m\u001B[32m*\u001B[0m\u001B[32m*\u001B[0m\u001B[32m*\u001B[0m\u001B[32m*\u001B[0m\u001B[32m*\u001B[0m\u001B[32m*\u001B[0m\u001B[32m*\u001B[0m\u001B[32m*\u001B[0m\u001B[32m*\u001B[0m\u001B[32m*\u001B[0m\u001B[32m*\u001B[0m\u001B[32m*\u001B[0m\u001B[32m*\u001B[0m\u001B[32m*\u001B[0m\u001B[32m*\u001B[0m\u001B[32m*\u001B[0m\u001B[32m*\u001B[0m\u001B[32m*\u001B[0m\u001B[32m*\u001B[0m\u001B[32m*\u001B[0m\u001B[32m*\u001B[0m\u001B[32m*\u001B[0m\u001B[32m*\u001B[0m\u001B[32m*\u001B[0m\u001B[32m*\u001B[0m\u001B[32m*\u001B[0m\u001B[32m*\u001B[0m\u001B[32m*\u001B[0m\u001B[32m*\u001B[0m\u001B[32m*\u001B[0m\u001B[32m*\u001B[0m\u001B[32m*\u001B[0m\u001B[32m*\u001B[0m\u001B[32m*\u001B[0m\u001B[32m*\u001B[0m\u001B[32m*\u001B[0m\u001B[32m*\u001B[0m\u001B[32m*\u001B[0m\u001B[32m*\u001B[0m\u001B[32m*\u001B[0m\u001B[32m*\u001B[0m\u001B[32m*\u001B[0m\u001B[32m*\u001B[0m\u001B[32m*\u001B[0m\u001B[32m*\u001B[0m\u001B[32m*\u001B[0m\u001B[32m*\u001B[0m\u001B[32m*\u001B[0m\u001B[32m*\u001B[0m\u001B[32m*\u001B[0m\u001B[32m*\u001B[0m\u001B[32m*\u001B[0m\u001B[32m*\u001B[0m\u001B[32m*\u001B[0m\u001B[32m*\u001B[0m\u001B[32m*\u001B[0m\u001B[32m*\u001B[0m\u001B[32m*\u001B[0m\u001B[32m*\u001B[0m\u001B[32m*\u001B[0m\u001B[32m*\u001B[0m\u001B[32m*\u001B[0m\u001B[32m*\u001B[0m\u001B[32m*\u001B[0m\u001B[32m*\u001B[0m\u001B[32m*\u001B[0m\u001B[32m*\u001B[0m\u001B[32m*\u001B[0m\u001B[32m*\u001B[0m\u001B[32m*\u001B[0m\u001B[32m*\u001B[0m\u001B[32m*\u001B[0m\u001B[32m*\u001B[0m\u001B[32m*\u001B[0m\u001B[32m*\u001B[0m\u001B[32m*\u001B[0m\u001B[32m*\u001B[0m\u001B[32m*\u001B[0m\u001B[32m*\u001B[0m\u001B[32m*\u001B[0m\u001B[32m*\u001B[0m\u001B[32m*\u001B[0m\u001B[32m*\u001B[0m\u001B[32m*\u001B[0m\u001B[32m*\u001B[0m\u001B[32m*\u001B[0m\u001B[32m*\u001B[0m\n",
      "\u001B[34m** Zadanie 10 **********************************************************************************\u001B[0m\n"
     ]
    },
    {
     "data": {
      "text/plain": [
       "<IPython.core.display.Markdown object>"
      ],
      "text/markdown": "Wyznaczyć trójmian kwadratowy regresji dla punktów "
     },
     "metadata": {},
     "output_type": "display_data"
    },
    {
     "data": {
      "text/plain": [
       "<IPython.core.display.Latex object>"
      ],
      "text/latex": "$$\n\t\t(0,2),\\  (-2,-4),\\  (2,3),\\  (-1,1),\\  (3,-2).\n\t$$"
     },
     "metadata": {},
     "output_type": "display_data"
    },
    {
     "name": "stdout",
     "output_type": "stream",
     "text": [
      "\u001B[34m*\u001B[0m\u001B[34m*\u001B[0m\u001B[34m*\u001B[0m\u001B[34m*\u001B[0m\u001B[34m*\u001B[0m\u001B[34m*\u001B[0m\u001B[34m*\u001B[0m\u001B[34m*\u001B[0m\u001B[34m*\u001B[0m\u001B[34m*\u001B[0m\u001B[34m*\u001B[0m\u001B[34m*\u001B[0m\u001B[34m*\u001B[0m\u001B[34m*\u001B[0m\u001B[34m*\u001B[0m\u001B[34m*\u001B[0m\u001B[34m*\u001B[0m\u001B[34m*\u001B[0m\u001B[34m*\u001B[0m\u001B[34m*\u001B[0m\u001B[34m*\u001B[0m\u001B[34m*\u001B[0m\u001B[34m*\u001B[0m\u001B[34m*\u001B[0m\u001B[34m*\u001B[0m\u001B[34m*\u001B[0m\u001B[34m*\u001B[0m\u001B[34m*\u001B[0m\u001B[34m*\u001B[0m\u001B[34m*\u001B[0m\u001B[34m*\u001B[0m\u001B[34m*\u001B[0m\u001B[34m*\u001B[0m\u001B[34m*\u001B[0m\u001B[34m*\u001B[0m\u001B[34m*\u001B[0m\u001B[34m*\u001B[0m\u001B[34m*\u001B[0m\u001B[34m*\u001B[0m\u001B[34m*\u001B[0m\u001B[34m*\u001B[0m\u001B[34m*\u001B[0m\u001B[34m*\u001B[0m\u001B[34m*\u001B[0m\u001B[34m*\u001B[0m\u001B[34m*\u001B[0m\u001B[34m*\u001B[0m\u001B[34m*\u001B[0m\u001B[34m*\u001B[0m\u001B[34m*\u001B[0m\u001B[34m*\u001B[0m\u001B[34m*\u001B[0m\u001B[34m*\u001B[0m\u001B[34m*\u001B[0m\u001B[34m*\u001B[0m\u001B[34m*\u001B[0m\u001B[34m*\u001B[0m\u001B[34m*\u001B[0m\u001B[34m*\u001B[0m\u001B[34m*\u001B[0m\u001B[34m*\u001B[0m\u001B[34m*\u001B[0m\u001B[34m*\u001B[0m\u001B[34m*\u001B[0m\u001B[34m*\u001B[0m\u001B[34m*\u001B[0m\u001B[34m*\u001B[0m\u001B[34m*\u001B[0m\u001B[34m*\u001B[0m\u001B[34m*\u001B[0m\u001B[34m*\u001B[0m\u001B[34m*\u001B[0m\u001B[34m*\u001B[0m\u001B[34m*\u001B[0m\u001B[34m*\u001B[0m\u001B[34m*\u001B[0m\u001B[34m*\u001B[0m\u001B[34m*\u001B[0m\u001B[34m*\u001B[0m\u001B[34m*\u001B[0m\u001B[34m*\u001B[0m\u001B[34m*\u001B[0m\u001B[34m*\u001B[0m\u001B[34m*\u001B[0m\u001B[34m*\u001B[0m\u001B[34m*\u001B[0m\u001B[34m*\u001B[0m\u001B[34m*\u001B[0m\u001B[34m*\u001B[0m\u001B[34m*\u001B[0m\u001B[34m*\u001B[0m\u001B[34m*\u001B[0m\u001B[34m*\u001B[0m\u001B[34m*\u001B[0m\u001B[34m*\u001B[0m\n",
      "\u001B[32m** Rozwiązanie ********************************************************************************\u001B[0m\n"
     ]
    },
    {
     "data": {
      "text/plain": [
       "<IPython.core.display.Latex object>"
      ],
      "text/latex": "$$\\left[\\begin{matrix}0 & 0 & 1\\\\4 & -2 & 1\\\\4 & 2 & 1\\\\1 & -1 & 1\\\\9 & 3 & 1\\end{matrix}\\right]\n\t\t\\cdot \\left[\\begin{matrix} a \\\\ b \\\\ c \\end{matrix}\\right]\n\t\t= \\left[\\begin{matrix}2\\\\-4\\\\3\\\\1\\\\-2\\end{matrix}\\right]\n\t\t\\quad \\Biggm/ \\cdot \\left(\\left(A^T A \\right)^{-1} A^T \\right)_L$$"
     },
     "metadata": {},
     "output_type": "display_data"
    },
    {
     "data": {
      "text/plain": [
       "<IPython.core.display.Latex object>"
      ],
      "text/latex": "$$\\left[\\begin{matrix} a \\\\ b \\\\ c \\end{matrix}\\right] = \n\t\t \\left[\\begin{matrix} -1 \\\\ \\frac{3}{2} \\\\ 3 \\end{matrix}\\right]$$"
     },
     "metadata": {},
     "output_type": "display_data"
    },
    {
     "data": {
      "text/plain": [
       "<IPython.core.display.Markdown object>"
      ],
      "text/markdown": "![](./pics//regresja10.png)"
     },
     "metadata": {},
     "output_type": "display_data"
    },
    {
     "name": "stdout",
     "output_type": "stream",
     "text": [
      "\u001B[32m*\u001B[0m\u001B[32m*\u001B[0m\u001B[32m*\u001B[0m\u001B[32m*\u001B[0m\u001B[32m*\u001B[0m\u001B[32m*\u001B[0m\u001B[32m*\u001B[0m\u001B[32m*\u001B[0m\u001B[32m*\u001B[0m\u001B[32m*\u001B[0m\u001B[32m*\u001B[0m\u001B[32m*\u001B[0m\u001B[32m*\u001B[0m\u001B[32m*\u001B[0m\u001B[32m*\u001B[0m\u001B[32m*\u001B[0m\u001B[32m*\u001B[0m\u001B[32m*\u001B[0m\u001B[32m*\u001B[0m\u001B[32m*\u001B[0m\u001B[32m*\u001B[0m\u001B[32m*\u001B[0m\u001B[32m*\u001B[0m\u001B[32m*\u001B[0m\u001B[32m*\u001B[0m\u001B[32m*\u001B[0m\u001B[32m*\u001B[0m\u001B[32m*\u001B[0m\u001B[32m*\u001B[0m\u001B[32m*\u001B[0m\u001B[32m*\u001B[0m\u001B[32m*\u001B[0m\u001B[32m*\u001B[0m\u001B[32m*\u001B[0m\u001B[32m*\u001B[0m\u001B[32m*\u001B[0m\u001B[32m*\u001B[0m\u001B[32m*\u001B[0m\u001B[32m*\u001B[0m\u001B[32m*\u001B[0m\u001B[32m*\u001B[0m\u001B[32m*\u001B[0m\u001B[32m*\u001B[0m\u001B[32m*\u001B[0m\u001B[32m*\u001B[0m\u001B[32m*\u001B[0m\u001B[32m*\u001B[0m\u001B[32m*\u001B[0m\u001B[32m*\u001B[0m\u001B[32m*\u001B[0m\u001B[32m*\u001B[0m\u001B[32m*\u001B[0m\u001B[32m*\u001B[0m\u001B[32m*\u001B[0m\u001B[32m*\u001B[0m\u001B[32m*\u001B[0m\u001B[32m*\u001B[0m\u001B[32m*\u001B[0m\u001B[32m*\u001B[0m\u001B[32m*\u001B[0m\u001B[32m*\u001B[0m\u001B[32m*\u001B[0m\u001B[32m*\u001B[0m\u001B[32m*\u001B[0m\u001B[32m*\u001B[0m\u001B[32m*\u001B[0m\u001B[32m*\u001B[0m\u001B[32m*\u001B[0m\u001B[32m*\u001B[0m\u001B[32m*\u001B[0m\u001B[32m*\u001B[0m\u001B[32m*\u001B[0m\u001B[32m*\u001B[0m\u001B[32m*\u001B[0m\u001B[32m*\u001B[0m\u001B[32m*\u001B[0m\u001B[32m*\u001B[0m\u001B[32m*\u001B[0m\u001B[32m*\u001B[0m\u001B[32m*\u001B[0m\u001B[32m*\u001B[0m\u001B[32m*\u001B[0m\u001B[32m*\u001B[0m\u001B[32m*\u001B[0m\u001B[32m*\u001B[0m\u001B[32m*\u001B[0m\u001B[32m*\u001B[0m\u001B[32m*\u001B[0m\u001B[32m*\u001B[0m\u001B[32m*\u001B[0m\u001B[32m*\u001B[0m\u001B[32m*\u001B[0m\u001B[32m*\u001B[0m\u001B[32m*\u001B[0m\u001B[32m*\u001B[0m\n"
     ]
    }
   ],
   "execution_count": 3
  },
  {
   "metadata": {},
   "cell_type": "code",
   "outputs": [],
   "execution_count": null,
   "source": "",
   "id": "c69403c5d09250a6"
  }
 ],
 "metadata": {
  "kernelspec": {
   "display_name": "Python 3",
   "language": "python",
   "name": "python3"
  },
  "language_info": {
   "codemirror_mode": {
    "name": "ipython",
    "version": 2
   },
   "file_extension": ".py",
   "mimetype": "text/x-python",
   "name": "python",
   "nbconvert_exporter": "python",
   "pygments_lexer": "ipython2",
   "version": "2.7.6"
  }
 },
 "nbformat": 4,
 "nbformat_minor": 5
}
