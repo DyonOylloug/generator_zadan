{
 "cells": [
  {
   "metadata": {},
   "cell_type": "markdown",
   "source": "# Macierze",
   "id": "8eb6bbeebb3f54"
  },
  {
   "cell_type": "code",
   "id": "initial_id",
   "metadata": {
    "collapsed": true,
    "ExecuteTime": {
     "end_time": "2024-09-10T21:31:22.099655Z",
     "start_time": "2024-09-10T21:31:20.285687Z"
    }
   },
   "source": [
    "from IPython.display import display, Markdown, Latex\n",
    "\n",
    "import generator_zadan.generatory as gz\n",
    "\n",
    "print(gz.__version__)"
   ],
   "outputs": [
    {
     "name": "stdout",
     "output_type": "stream",
     "text": [
      "0.1.0\n"
     ]
    }
   ],
   "execution_count": 1
  },
  {
   "metadata": {
    "ExecuteTime": {
     "end_time": "2024-09-10T20:26:43.012634Z",
     "start_time": "2024-09-10T20:26:43.005227Z"
    }
   },
   "cell_type": "code",
   "source": "# display(Latex(''))  # bez tego sphinx wyświetla \"czysty\" kod TeXa. ",
   "id": "43d5ce8381b58523",
   "outputs": [
    {
     "data": {
      "text/plain": [
       "<IPython.core.display.Latex object>"
      ],
      "text/latex": ""
     },
     "metadata": {},
     "output_type": "display_data"
    }
   ],
   "execution_count": 54
  },
  {
   "metadata": {
    "ExecuteTime": {
     "end_time": "2024-09-10T20:26:43.329790Z",
     "start_time": "2024-09-10T20:26:43.162807Z"
    }
   },
   "cell_type": "code",
   "source": [
    "zadanie = gz.rownanie_macierzowe()\n",
    "zadanie"
   ],
   "id": "7c0693c3f5d1f84b",
   "outputs": [
    {
     "data": {
      "text/plain": [
       "('Rozwiązać równanie:\\n\\t\\\\[\\n\\t\\t\\\\left[\\\\begin{matrix}1 & -1 & 0 & 1 & 1\\\\\\\\-1 & 2 & 1 & 2 & 0\\\\end{matrix}\\\\right]\\\\cdot \\n\\t\\t\\\\left[\\\\begin{matrix}1 & 1 & -1 & 1 & 0\\\\\\\\-2 & -2 & -2 & 1 & -1\\\\end{matrix}\\\\right]^T + \\n\\t\\t2X=\\n\\t\\t\\\\left[\\\\begin{matrix}1 & 0\\\\\\\\0 & 0\\\\\\\\-1 & -1\\\\\\\\0 & 2\\\\\\\\0 & 1\\\\end{matrix}\\\\right]^T \\\\cdot\\n\\t\\t\\\\left[\\\\begin{matrix}0 & 0\\\\\\\\-1 & 0\\\\\\\\0 & -2\\\\\\\\0 & 1\\\\\\\\0 & -1\\\\end{matrix}\\\\right] \\\\cdot X\\n\\t\\\\]',\n",
       " '$ \\\\left[\\\\begin{matrix}1 & 0\\\\\\\\2 & -2\\\\end{matrix}\\\\right] + \\n\\t2X=\\n\\t\\\\left[\\\\begin{matrix}0 & 2\\\\\\\\0 & 3\\\\end{matrix}\\\\right] \\\\cdot X, \\\\quad \\n\\t\\\\left[\\\\begin{matrix}1 & 0\\\\\\\\2 & -2\\\\end{matrix}\\\\right] = \\n\\t\\\\left[\\\\begin{matrix}-2 & 2\\\\\\\\0 & 1\\\\end{matrix}\\\\right] \\\\cdot X $ \\\\\\\\ \\n\\t$X=\\\\frac{1}{-2}\\\\left[\\\\begin{matrix}-3 & 4\\\\\\\\-4 & 4\\\\end{matrix}\\\\right].$')"
      ]
     },
     "execution_count": 55,
     "metadata": {},
     "output_type": "execute_result"
    }
   ],
   "execution_count": 55
  },
  {
   "metadata": {
    "ExecuteTime": {
     "end_time": "2024-09-10T20:26:43.456889Z",
     "start_time": "2024-09-10T20:26:43.451718Z"
    }
   },
   "cell_type": "code",
   "source": [
    "print(zadanie[0])\n",
    "print(zadanie[1])"
   ],
   "id": "21e088742fa3c7aa",
   "outputs": [
    {
     "name": "stdout",
     "output_type": "stream",
     "text": [
      "Rozwiązać równanie:\n",
      "\t\\[\n",
      "\t\t\\left[\\begin{matrix}1 & -1 & 0 & 1 & 1\\\\-1 & 2 & 1 & 2 & 0\\end{matrix}\\right]\\cdot \n",
      "\t\t\\left[\\begin{matrix}1 & 1 & -1 & 1 & 0\\\\-2 & -2 & -2 & 1 & -1\\end{matrix}\\right]^T + \n",
      "\t\t2X=\n",
      "\t\t\\left[\\begin{matrix}1 & 0\\\\0 & 0\\\\-1 & -1\\\\0 & 2\\\\0 & 1\\end{matrix}\\right]^T \\cdot\n",
      "\t\t\\left[\\begin{matrix}0 & 0\\\\-1 & 0\\\\0 & -2\\\\0 & 1\\\\0 & -1\\end{matrix}\\right] \\cdot X\n",
      "\t\\]\n",
      "$ \\left[\\begin{matrix}1 & 0\\\\2 & -2\\end{matrix}\\right] + \n",
      "\t2X=\n",
      "\t\\left[\\begin{matrix}0 & 2\\\\0 & 3\\end{matrix}\\right] \\cdot X, \\quad \n",
      "\t\\left[\\begin{matrix}1 & 0\\\\2 & -2\\end{matrix}\\right] = \n",
      "\t\\left[\\begin{matrix}-2 & 2\\\\0 & 1\\end{matrix}\\right] \\cdot X $ \\\\ \n",
      "\t$X=\\frac{1}{-2}\\left[\\begin{matrix}-3 & 4\\\\-4 & 4\\end{matrix}\\right].$\n"
     ]
    }
   ],
   "execution_count": 56
  },
  {
   "metadata": {
    "ExecuteTime": {
     "end_time": "2024-09-10T20:26:45.908778Z",
     "start_time": "2024-09-10T20:26:43.593987Z"
    }
   },
   "cell_type": "code",
   "source": [
    "for i in range(1, 11):\n",
    "    z = gz.rownanie_macierzowe()\n",
    "    display(Markdown(f'{i}. ' + z[0].split(':')[0]))\n",
    "    display(Latex(zadanie[0].split(':')[1]))\n",
    "    display(Markdown('Rozwiązanie: '))\n",
    "    display(Latex(zadanie[1].replace('$ \\\\\\\\ \\n\\t$', ',\\\\quad ').replace('$', '$$')))\n"
   ],
   "id": "56cf46cba10c2829",
   "outputs": [
    {
     "data": {
      "text/plain": [
       "<IPython.core.display.Markdown object>"
      ],
      "text/markdown": "1. Rozwiązać równanie"
     },
     "metadata": {},
     "output_type": "display_data"
    },
    {
     "data": {
      "text/plain": [
       "<IPython.core.display.Latex object>"
      ],
      "text/latex": "\n\t\\[\n\t\t\\left[\\begin{matrix}1 & -1 & 0 & 1 & 1\\\\-1 & 2 & 1 & 2 & 0\\end{matrix}\\right]\\cdot \n\t\t\\left[\\begin{matrix}1 & 1 & -1 & 1 & 0\\\\-2 & -2 & -2 & 1 & -1\\end{matrix}\\right]^T + \n\t\t2X=\n\t\t\\left[\\begin{matrix}1 & 0\\\\0 & 0\\\\-1 & -1\\\\0 & 2\\\\0 & 1\\end{matrix}\\right]^T \\cdot\n\t\t\\left[\\begin{matrix}0 & 0\\\\-1 & 0\\\\0 & -2\\\\0 & 1\\\\0 & -1\\end{matrix}\\right] \\cdot X\n\t\\]"
     },
     "metadata": {},
     "output_type": "display_data"
    },
    {
     "data": {
      "text/plain": [
       "<IPython.core.display.Markdown object>"
      ],
      "text/markdown": "Rozwiązanie: "
     },
     "metadata": {},
     "output_type": "display_data"
    },
    {
     "data": {
      "text/plain": [
       "<IPython.core.display.Latex object>"
      ],
      "text/latex": "$$ \\left[\\begin{matrix}1 & 0\\\\2 & -2\\end{matrix}\\right] + \n\t2X=\n\t\\left[\\begin{matrix}0 & 2\\\\0 & 3\\end{matrix}\\right] \\cdot X, \\quad \n\t\\left[\\begin{matrix}1 & 0\\\\2 & -2\\end{matrix}\\right] = \n\t\\left[\\begin{matrix}-2 & 2\\\\0 & 1\\end{matrix}\\right] \\cdot X ,\\quad X=\\frac{1}{-2}\\left[\\begin{matrix}-3 & 4\\\\-4 & 4\\end{matrix}\\right].$$"
     },
     "metadata": {},
     "output_type": "display_data"
    },
    {
     "data": {
      "text/plain": [
       "<IPython.core.display.Markdown object>"
      ],
      "text/markdown": "2. Rozwiązać równanie"
     },
     "metadata": {},
     "output_type": "display_data"
    },
    {
     "data": {
      "text/plain": [
       "<IPython.core.display.Latex object>"
      ],
      "text/latex": "\n\t\\[\n\t\t\\left[\\begin{matrix}1 & -1 & 0 & 1 & 1\\\\-1 & 2 & 1 & 2 & 0\\end{matrix}\\right]\\cdot \n\t\t\\left[\\begin{matrix}1 & 1 & -1 & 1 & 0\\\\-2 & -2 & -2 & 1 & -1\\end{matrix}\\right]^T + \n\t\t2X=\n\t\t\\left[\\begin{matrix}1 & 0\\\\0 & 0\\\\-1 & -1\\\\0 & 2\\\\0 & 1\\end{matrix}\\right]^T \\cdot\n\t\t\\left[\\begin{matrix}0 & 0\\\\-1 & 0\\\\0 & -2\\\\0 & 1\\\\0 & -1\\end{matrix}\\right] \\cdot X\n\t\\]"
     },
     "metadata": {},
     "output_type": "display_data"
    },
    {
     "data": {
      "text/plain": [
       "<IPython.core.display.Markdown object>"
      ],
      "text/markdown": "Rozwiązanie: "
     },
     "metadata": {},
     "output_type": "display_data"
    },
    {
     "data": {
      "text/plain": [
       "<IPython.core.display.Latex object>"
      ],
      "text/latex": "$$ \\left[\\begin{matrix}1 & 0\\\\2 & -2\\end{matrix}\\right] + \n\t2X=\n\t\\left[\\begin{matrix}0 & 2\\\\0 & 3\\end{matrix}\\right] \\cdot X, \\quad \n\t\\left[\\begin{matrix}1 & 0\\\\2 & -2\\end{matrix}\\right] = \n\t\\left[\\begin{matrix}-2 & 2\\\\0 & 1\\end{matrix}\\right] \\cdot X ,\\quad X=\\frac{1}{-2}\\left[\\begin{matrix}-3 & 4\\\\-4 & 4\\end{matrix}\\right].$$"
     },
     "metadata": {},
     "output_type": "display_data"
    },
    {
     "data": {
      "text/plain": [
       "<IPython.core.display.Markdown object>"
      ],
      "text/markdown": "3. Rozwiązać równanie"
     },
     "metadata": {},
     "output_type": "display_data"
    },
    {
     "data": {
      "text/plain": [
       "<IPython.core.display.Latex object>"
      ],
      "text/latex": "\n\t\\[\n\t\t\\left[\\begin{matrix}1 & -1 & 0 & 1 & 1\\\\-1 & 2 & 1 & 2 & 0\\end{matrix}\\right]\\cdot \n\t\t\\left[\\begin{matrix}1 & 1 & -1 & 1 & 0\\\\-2 & -2 & -2 & 1 & -1\\end{matrix}\\right]^T + \n\t\t2X=\n\t\t\\left[\\begin{matrix}1 & 0\\\\0 & 0\\\\-1 & -1\\\\0 & 2\\\\0 & 1\\end{matrix}\\right]^T \\cdot\n\t\t\\left[\\begin{matrix}0 & 0\\\\-1 & 0\\\\0 & -2\\\\0 & 1\\\\0 & -1\\end{matrix}\\right] \\cdot X\n\t\\]"
     },
     "metadata": {},
     "output_type": "display_data"
    },
    {
     "data": {
      "text/plain": [
       "<IPython.core.display.Markdown object>"
      ],
      "text/markdown": "Rozwiązanie: "
     },
     "metadata": {},
     "output_type": "display_data"
    },
    {
     "data": {
      "text/plain": [
       "<IPython.core.display.Latex object>"
      ],
      "text/latex": "$$ \\left[\\begin{matrix}1 & 0\\\\2 & -2\\end{matrix}\\right] + \n\t2X=\n\t\\left[\\begin{matrix}0 & 2\\\\0 & 3\\end{matrix}\\right] \\cdot X, \\quad \n\t\\left[\\begin{matrix}1 & 0\\\\2 & -2\\end{matrix}\\right] = \n\t\\left[\\begin{matrix}-2 & 2\\\\0 & 1\\end{matrix}\\right] \\cdot X ,\\quad X=\\frac{1}{-2}\\left[\\begin{matrix}-3 & 4\\\\-4 & 4\\end{matrix}\\right].$$"
     },
     "metadata": {},
     "output_type": "display_data"
    },
    {
     "data": {
      "text/plain": [
       "<IPython.core.display.Markdown object>"
      ],
      "text/markdown": "4. Rozwiązać równanie"
     },
     "metadata": {},
     "output_type": "display_data"
    },
    {
     "data": {
      "text/plain": [
       "<IPython.core.display.Latex object>"
      ],
      "text/latex": "\n\t\\[\n\t\t\\left[\\begin{matrix}1 & -1 & 0 & 1 & 1\\\\-1 & 2 & 1 & 2 & 0\\end{matrix}\\right]\\cdot \n\t\t\\left[\\begin{matrix}1 & 1 & -1 & 1 & 0\\\\-2 & -2 & -2 & 1 & -1\\end{matrix}\\right]^T + \n\t\t2X=\n\t\t\\left[\\begin{matrix}1 & 0\\\\0 & 0\\\\-1 & -1\\\\0 & 2\\\\0 & 1\\end{matrix}\\right]^T \\cdot\n\t\t\\left[\\begin{matrix}0 & 0\\\\-1 & 0\\\\0 & -2\\\\0 & 1\\\\0 & -1\\end{matrix}\\right] \\cdot X\n\t\\]"
     },
     "metadata": {},
     "output_type": "display_data"
    },
    {
     "data": {
      "text/plain": [
       "<IPython.core.display.Markdown object>"
      ],
      "text/markdown": "Rozwiązanie: "
     },
     "metadata": {},
     "output_type": "display_data"
    },
    {
     "data": {
      "text/plain": [
       "<IPython.core.display.Latex object>"
      ],
      "text/latex": "$$ \\left[\\begin{matrix}1 & 0\\\\2 & -2\\end{matrix}\\right] + \n\t2X=\n\t\\left[\\begin{matrix}0 & 2\\\\0 & 3\\end{matrix}\\right] \\cdot X, \\quad \n\t\\left[\\begin{matrix}1 & 0\\\\2 & -2\\end{matrix}\\right] = \n\t\\left[\\begin{matrix}-2 & 2\\\\0 & 1\\end{matrix}\\right] \\cdot X ,\\quad X=\\frac{1}{-2}\\left[\\begin{matrix}-3 & 4\\\\-4 & 4\\end{matrix}\\right].$$"
     },
     "metadata": {},
     "output_type": "display_data"
    },
    {
     "data": {
      "text/plain": [
       "<IPython.core.display.Markdown object>"
      ],
      "text/markdown": "5. Rozwiązać równanie"
     },
     "metadata": {},
     "output_type": "display_data"
    },
    {
     "data": {
      "text/plain": [
       "<IPython.core.display.Latex object>"
      ],
      "text/latex": "\n\t\\[\n\t\t\\left[\\begin{matrix}1 & -1 & 0 & 1 & 1\\\\-1 & 2 & 1 & 2 & 0\\end{matrix}\\right]\\cdot \n\t\t\\left[\\begin{matrix}1 & 1 & -1 & 1 & 0\\\\-2 & -2 & -2 & 1 & -1\\end{matrix}\\right]^T + \n\t\t2X=\n\t\t\\left[\\begin{matrix}1 & 0\\\\0 & 0\\\\-1 & -1\\\\0 & 2\\\\0 & 1\\end{matrix}\\right]^T \\cdot\n\t\t\\left[\\begin{matrix}0 & 0\\\\-1 & 0\\\\0 & -2\\\\0 & 1\\\\0 & -1\\end{matrix}\\right] \\cdot X\n\t\\]"
     },
     "metadata": {},
     "output_type": "display_data"
    },
    {
     "data": {
      "text/plain": [
       "<IPython.core.display.Markdown object>"
      ],
      "text/markdown": "Rozwiązanie: "
     },
     "metadata": {},
     "output_type": "display_data"
    },
    {
     "data": {
      "text/plain": [
       "<IPython.core.display.Latex object>"
      ],
      "text/latex": "$$ \\left[\\begin{matrix}1 & 0\\\\2 & -2\\end{matrix}\\right] + \n\t2X=\n\t\\left[\\begin{matrix}0 & 2\\\\0 & 3\\end{matrix}\\right] \\cdot X, \\quad \n\t\\left[\\begin{matrix}1 & 0\\\\2 & -2\\end{matrix}\\right] = \n\t\\left[\\begin{matrix}-2 & 2\\\\0 & 1\\end{matrix}\\right] \\cdot X ,\\quad X=\\frac{1}{-2}\\left[\\begin{matrix}-3 & 4\\\\-4 & 4\\end{matrix}\\right].$$"
     },
     "metadata": {},
     "output_type": "display_data"
    },
    {
     "data": {
      "text/plain": [
       "<IPython.core.display.Markdown object>"
      ],
      "text/markdown": "6. Rozwiązać równanie"
     },
     "metadata": {},
     "output_type": "display_data"
    },
    {
     "data": {
      "text/plain": [
       "<IPython.core.display.Latex object>"
      ],
      "text/latex": "\n\t\\[\n\t\t\\left[\\begin{matrix}1 & -1 & 0 & 1 & 1\\\\-1 & 2 & 1 & 2 & 0\\end{matrix}\\right]\\cdot \n\t\t\\left[\\begin{matrix}1 & 1 & -1 & 1 & 0\\\\-2 & -2 & -2 & 1 & -1\\end{matrix}\\right]^T + \n\t\t2X=\n\t\t\\left[\\begin{matrix}1 & 0\\\\0 & 0\\\\-1 & -1\\\\0 & 2\\\\0 & 1\\end{matrix}\\right]^T \\cdot\n\t\t\\left[\\begin{matrix}0 & 0\\\\-1 & 0\\\\0 & -2\\\\0 & 1\\\\0 & -1\\end{matrix}\\right] \\cdot X\n\t\\]"
     },
     "metadata": {},
     "output_type": "display_data"
    },
    {
     "data": {
      "text/plain": [
       "<IPython.core.display.Markdown object>"
      ],
      "text/markdown": "Rozwiązanie: "
     },
     "metadata": {},
     "output_type": "display_data"
    },
    {
     "data": {
      "text/plain": [
       "<IPython.core.display.Latex object>"
      ],
      "text/latex": "$$ \\left[\\begin{matrix}1 & 0\\\\2 & -2\\end{matrix}\\right] + \n\t2X=\n\t\\left[\\begin{matrix}0 & 2\\\\0 & 3\\end{matrix}\\right] \\cdot X, \\quad \n\t\\left[\\begin{matrix}1 & 0\\\\2 & -2\\end{matrix}\\right] = \n\t\\left[\\begin{matrix}-2 & 2\\\\0 & 1\\end{matrix}\\right] \\cdot X ,\\quad X=\\frac{1}{-2}\\left[\\begin{matrix}-3 & 4\\\\-4 & 4\\end{matrix}\\right].$$"
     },
     "metadata": {},
     "output_type": "display_data"
    },
    {
     "data": {
      "text/plain": [
       "<IPython.core.display.Markdown object>"
      ],
      "text/markdown": "7. Rozwiązać równanie"
     },
     "metadata": {},
     "output_type": "display_data"
    },
    {
     "data": {
      "text/plain": [
       "<IPython.core.display.Latex object>"
      ],
      "text/latex": "\n\t\\[\n\t\t\\left[\\begin{matrix}1 & -1 & 0 & 1 & 1\\\\-1 & 2 & 1 & 2 & 0\\end{matrix}\\right]\\cdot \n\t\t\\left[\\begin{matrix}1 & 1 & -1 & 1 & 0\\\\-2 & -2 & -2 & 1 & -1\\end{matrix}\\right]^T + \n\t\t2X=\n\t\t\\left[\\begin{matrix}1 & 0\\\\0 & 0\\\\-1 & -1\\\\0 & 2\\\\0 & 1\\end{matrix}\\right]^T \\cdot\n\t\t\\left[\\begin{matrix}0 & 0\\\\-1 & 0\\\\0 & -2\\\\0 & 1\\\\0 & -1\\end{matrix}\\right] \\cdot X\n\t\\]"
     },
     "metadata": {},
     "output_type": "display_data"
    },
    {
     "data": {
      "text/plain": [
       "<IPython.core.display.Markdown object>"
      ],
      "text/markdown": "Rozwiązanie: "
     },
     "metadata": {},
     "output_type": "display_data"
    },
    {
     "data": {
      "text/plain": [
       "<IPython.core.display.Latex object>"
      ],
      "text/latex": "$$ \\left[\\begin{matrix}1 & 0\\\\2 & -2\\end{matrix}\\right] + \n\t2X=\n\t\\left[\\begin{matrix}0 & 2\\\\0 & 3\\end{matrix}\\right] \\cdot X, \\quad \n\t\\left[\\begin{matrix}1 & 0\\\\2 & -2\\end{matrix}\\right] = \n\t\\left[\\begin{matrix}-2 & 2\\\\0 & 1\\end{matrix}\\right] \\cdot X ,\\quad X=\\frac{1}{-2}\\left[\\begin{matrix}-3 & 4\\\\-4 & 4\\end{matrix}\\right].$$"
     },
     "metadata": {},
     "output_type": "display_data"
    },
    {
     "data": {
      "text/plain": [
       "<IPython.core.display.Markdown object>"
      ],
      "text/markdown": "8. Rozwiązać równanie"
     },
     "metadata": {},
     "output_type": "display_data"
    },
    {
     "data": {
      "text/plain": [
       "<IPython.core.display.Latex object>"
      ],
      "text/latex": "\n\t\\[\n\t\t\\left[\\begin{matrix}1 & -1 & 0 & 1 & 1\\\\-1 & 2 & 1 & 2 & 0\\end{matrix}\\right]\\cdot \n\t\t\\left[\\begin{matrix}1 & 1 & -1 & 1 & 0\\\\-2 & -2 & -2 & 1 & -1\\end{matrix}\\right]^T + \n\t\t2X=\n\t\t\\left[\\begin{matrix}1 & 0\\\\0 & 0\\\\-1 & -1\\\\0 & 2\\\\0 & 1\\end{matrix}\\right]^T \\cdot\n\t\t\\left[\\begin{matrix}0 & 0\\\\-1 & 0\\\\0 & -2\\\\0 & 1\\\\0 & -1\\end{matrix}\\right] \\cdot X\n\t\\]"
     },
     "metadata": {},
     "output_type": "display_data"
    },
    {
     "data": {
      "text/plain": [
       "<IPython.core.display.Markdown object>"
      ],
      "text/markdown": "Rozwiązanie: "
     },
     "metadata": {},
     "output_type": "display_data"
    },
    {
     "data": {
      "text/plain": [
       "<IPython.core.display.Latex object>"
      ],
      "text/latex": "$$ \\left[\\begin{matrix}1 & 0\\\\2 & -2\\end{matrix}\\right] + \n\t2X=\n\t\\left[\\begin{matrix}0 & 2\\\\0 & 3\\end{matrix}\\right] \\cdot X, \\quad \n\t\\left[\\begin{matrix}1 & 0\\\\2 & -2\\end{matrix}\\right] = \n\t\\left[\\begin{matrix}-2 & 2\\\\0 & 1\\end{matrix}\\right] \\cdot X ,\\quad X=\\frac{1}{-2}\\left[\\begin{matrix}-3 & 4\\\\-4 & 4\\end{matrix}\\right].$$"
     },
     "metadata": {},
     "output_type": "display_data"
    },
    {
     "data": {
      "text/plain": [
       "<IPython.core.display.Markdown object>"
      ],
      "text/markdown": "9. Rozwiązać równanie"
     },
     "metadata": {},
     "output_type": "display_data"
    },
    {
     "data": {
      "text/plain": [
       "<IPython.core.display.Latex object>"
      ],
      "text/latex": "\n\t\\[\n\t\t\\left[\\begin{matrix}1 & -1 & 0 & 1 & 1\\\\-1 & 2 & 1 & 2 & 0\\end{matrix}\\right]\\cdot \n\t\t\\left[\\begin{matrix}1 & 1 & -1 & 1 & 0\\\\-2 & -2 & -2 & 1 & -1\\end{matrix}\\right]^T + \n\t\t2X=\n\t\t\\left[\\begin{matrix}1 & 0\\\\0 & 0\\\\-1 & -1\\\\0 & 2\\\\0 & 1\\end{matrix}\\right]^T \\cdot\n\t\t\\left[\\begin{matrix}0 & 0\\\\-1 & 0\\\\0 & -2\\\\0 & 1\\\\0 & -1\\end{matrix}\\right] \\cdot X\n\t\\]"
     },
     "metadata": {},
     "output_type": "display_data"
    },
    {
     "data": {
      "text/plain": [
       "<IPython.core.display.Markdown object>"
      ],
      "text/markdown": "Rozwiązanie: "
     },
     "metadata": {},
     "output_type": "display_data"
    },
    {
     "data": {
      "text/plain": [
       "<IPython.core.display.Latex object>"
      ],
      "text/latex": "$$ \\left[\\begin{matrix}1 & 0\\\\2 & -2\\end{matrix}\\right] + \n\t2X=\n\t\\left[\\begin{matrix}0 & 2\\\\0 & 3\\end{matrix}\\right] \\cdot X, \\quad \n\t\\left[\\begin{matrix}1 & 0\\\\2 & -2\\end{matrix}\\right] = \n\t\\left[\\begin{matrix}-2 & 2\\\\0 & 1\\end{matrix}\\right] \\cdot X ,\\quad X=\\frac{1}{-2}\\left[\\begin{matrix}-3 & 4\\\\-4 & 4\\end{matrix}\\right].$$"
     },
     "metadata": {},
     "output_type": "display_data"
    },
    {
     "data": {
      "text/plain": [
       "<IPython.core.display.Markdown object>"
      ],
      "text/markdown": "10. Rozwiązać równanie"
     },
     "metadata": {},
     "output_type": "display_data"
    },
    {
     "data": {
      "text/plain": [
       "<IPython.core.display.Latex object>"
      ],
      "text/latex": "\n\t\\[\n\t\t\\left[\\begin{matrix}1 & -1 & 0 & 1 & 1\\\\-1 & 2 & 1 & 2 & 0\\end{matrix}\\right]\\cdot \n\t\t\\left[\\begin{matrix}1 & 1 & -1 & 1 & 0\\\\-2 & -2 & -2 & 1 & -1\\end{matrix}\\right]^T + \n\t\t2X=\n\t\t\\left[\\begin{matrix}1 & 0\\\\0 & 0\\\\-1 & -1\\\\0 & 2\\\\0 & 1\\end{matrix}\\right]^T \\cdot\n\t\t\\left[\\begin{matrix}0 & 0\\\\-1 & 0\\\\0 & -2\\\\0 & 1\\\\0 & -1\\end{matrix}\\right] \\cdot X\n\t\\]"
     },
     "metadata": {},
     "output_type": "display_data"
    },
    {
     "data": {
      "text/plain": [
       "<IPython.core.display.Markdown object>"
      ],
      "text/markdown": "Rozwiązanie: "
     },
     "metadata": {},
     "output_type": "display_data"
    },
    {
     "data": {
      "text/plain": [
       "<IPython.core.display.Latex object>"
      ],
      "text/latex": "$$ \\left[\\begin{matrix}1 & 0\\\\2 & -2\\end{matrix}\\right] + \n\t2X=\n\t\\left[\\begin{matrix}0 & 2\\\\0 & 3\\end{matrix}\\right] \\cdot X, \\quad \n\t\\left[\\begin{matrix}1 & 0\\\\2 & -2\\end{matrix}\\right] = \n\t\\left[\\begin{matrix}-2 & 2\\\\0 & 1\\end{matrix}\\right] \\cdot X ,\\quad X=\\frac{1}{-2}\\left[\\begin{matrix}-3 & 4\\\\-4 & 4\\end{matrix}\\right].$$"
     },
     "metadata": {},
     "output_type": "display_data"
    }
   ],
   "execution_count": 57
  },
  {
   "metadata": {
    "ExecuteTime": {
     "end_time": "2024-09-10T20:26:45.926246Z",
     "start_time": "2024-09-10T20:26:45.923259Z"
    }
   },
   "cell_type": "code",
   "source": "",
   "id": "5c8f1369c3e845fb",
   "outputs": [],
   "execution_count": null
  }
 ],
 "metadata": {
  "kernelspec": {
   "display_name": "Python 3",
   "language": "python",
   "name": "python3"
  },
  "language_info": {
   "codemirror_mode": {
    "name": "ipython",
    "version": 2
   },
   "file_extension": ".py",
   "mimetype": "text/x-python",
   "name": "python",
   "nbconvert_exporter": "python",
   "pygments_lexer": "ipython2",
   "version": "2.7.6"
  }
 },
 "nbformat": 4,
 "nbformat_minor": 5
}
