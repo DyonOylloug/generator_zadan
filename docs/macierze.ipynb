{
 "cells": [
  {
   "metadata": {},
   "cell_type": "markdown",
   "source": "# test",
   "id": "8eb6bbeebb3f54"
  },
  {
   "cell_type": "code",
   "id": "initial_id",
   "metadata": {
    "collapsed": true,
    "ExecuteTime": {
     "end_time": "2024-09-10T17:43:08.951331Z",
     "start_time": "2024-09-10T17:43:08.946653Z"
    }
   },
   "source": [
    "from IPython.display import display, Markdown, Latex\n",
    "import generator_zadan.generatory as gz\n",
    "print(gz.__version__)"
   ],
   "outputs": [
    {
     "name": "stdout",
     "output_type": "stream",
     "text": [
      "0.1.0\n"
     ]
    }
   ],
   "execution_count": 11
  },
  {
   "metadata": {
    "ExecuteTime": {
     "end_time": "2024-09-10T17:43:18.949574Z",
     "start_time": "2024-09-10T17:43:18.943744Z"
    }
   },
   "cell_type": "code",
   "source": "display(Latex(''))  # bez tego sphinx wyświetla \"czysty\" kod TeXa. ",
   "id": "43d5ce8381b58523",
   "outputs": [
    {
     "data": {
      "text/plain": [
       "<IPython.core.display.Latex object>"
      ],
      "text/latex": ""
     },
     "metadata": {},
     "output_type": "display_data"
    }
   ],
   "execution_count": 12
  },
  {
   "metadata": {
    "ExecuteTime": {
     "end_time": "2024-09-10T17:42:53.247494Z",
     "start_time": "2024-09-10T17:42:52.637952Z"
    }
   },
   "cell_type": "code",
   "source": [
    "zadanie = gz.rownanie_macierzowe()\n",
    "zadanie"
   ],
   "id": "7c0693c3f5d1f84b",
   "outputs": [
    {
     "data": {
      "text/plain": [
       "('Rozwiązać równanie:\\n\\t\\\\[\\n\\t\\t\\\\left[\\\\begin{matrix}-1 & 2 & 1 & 2 & 1\\\\\\\\1 & 1 & 0 & 1 & -1\\\\end{matrix}\\\\right]\\\\cdot \\n\\t\\t\\\\left[\\\\begin{matrix}-1 & 0 & -1 & -1 & 1\\\\\\\\0 & 0 & 1 & -1 & 1\\\\end{matrix}\\\\right]^T + \\n\\t\\t2X=\\n\\t\\t\\\\left[\\\\begin{matrix}-1 & 0\\\\\\\\1 & 0\\\\\\\\0 & 1\\\\\\\\-1 & 1\\\\\\\\1 & -1\\\\end{matrix}\\\\right]^T \\\\cdot\\n\\t\\t\\\\left[\\\\begin{matrix}0 & 1\\\\\\\\-1 & 0\\\\\\\\-1 & 0\\\\\\\\-2 & -2\\\\\\\\1 & 0\\\\end{matrix}\\\\right] \\\\cdot X\\n\\t\\\\]',\n",
       " '$ \\\\left[\\\\begin{matrix}-1 & 0\\\\\\\\-3 & -2\\\\end{matrix}\\\\right] + \\n\\t2X=\\n\\t\\\\left[\\\\begin{matrix}2 & 1\\\\\\\\-4 & -2\\\\end{matrix}\\\\right] \\\\cdot X, \\\\quad \\n\\t\\\\left[\\\\begin{matrix}-1 & 0\\\\\\\\-3 & -2\\\\end{matrix}\\\\right] = \\n\\t\\\\left[\\\\begin{matrix}0 & 1\\\\\\\\-4 & -4\\\\end{matrix}\\\\right] \\\\cdot X $ \\\\\\\\ \\n\\t$X=\\\\frac{1}{4}\\\\left[\\\\begin{matrix}7 & 2\\\\\\\\-4 & 0\\\\end{matrix}\\\\right].$')"
      ]
     },
     "execution_count": 9,
     "metadata": {},
     "output_type": "execute_result"
    }
   ],
   "execution_count": 9
  },
  {
   "metadata": {
    "ExecuteTime": {
     "end_time": "2024-09-10T17:42:54.244279Z",
     "start_time": "2024-09-10T17:42:54.239156Z"
    }
   },
   "cell_type": "code",
   "source": [
    "print(zadanie[0])\n",
    "print(zadanie[1])"
   ],
   "id": "21e088742fa3c7aa",
   "outputs": [
    {
     "name": "stdout",
     "output_type": "stream",
     "text": [
      "Rozwiązać równanie:\n",
      "\t\\[\n",
      "\t\t\\left[\\begin{matrix}-1 & 2 & 1 & 2 & 1\\\\1 & 1 & 0 & 1 & -1\\end{matrix}\\right]\\cdot \n",
      "\t\t\\left[\\begin{matrix}-1 & 0 & -1 & -1 & 1\\\\0 & 0 & 1 & -1 & 1\\end{matrix}\\right]^T + \n",
      "\t\t2X=\n",
      "\t\t\\left[\\begin{matrix}-1 & 0\\\\1 & 0\\\\0 & 1\\\\-1 & 1\\\\1 & -1\\end{matrix}\\right]^T \\cdot\n",
      "\t\t\\left[\\begin{matrix}0 & 1\\\\-1 & 0\\\\-1 & 0\\\\-2 & -2\\\\1 & 0\\end{matrix}\\right] \\cdot X\n",
      "\t\\]\n",
      "$ \\left[\\begin{matrix}-1 & 0\\\\-3 & -2\\end{matrix}\\right] + \n",
      "\t2X=\n",
      "\t\\left[\\begin{matrix}2 & 1\\\\-4 & -2\\end{matrix}\\right] \\cdot X, \\quad \n",
      "\t\\left[\\begin{matrix}-1 & 0\\\\-3 & -2\\end{matrix}\\right] = \n",
      "\t\\left[\\begin{matrix}0 & 1\\\\-4 & -4\\end{matrix}\\right] \\cdot X $ \\\\ \n",
      "\t$X=\\frac{1}{4}\\left[\\begin{matrix}7 & 2\\\\-4 & 0\\end{matrix}\\right].$\n"
     ]
    }
   ],
   "execution_count": 10
  },
  {
   "metadata": {
    "ExecuteTime": {
     "end_time": "2024-09-10T17:45:29.006978Z",
     "start_time": "2024-09-10T17:45:28.694442Z"
    }
   },
   "cell_type": "code",
   "source": [
    "z = gz.rownanie_macierzowe()\n",
    "display(Markdown(\n",
    "    z[0].replace('\\[', '$$').replace('\\]', '$$').replace('\\\\ ', '<br> ') + '  \\n' + 'Rozwiązanie: ' + z[\n",
    "        1].replace('$', '$$').replace('\\\\ ', ' <br> ')))"
   ],
   "id": "36ed75373dff4ddd",
   "outputs": [
    {
     "data": {
      "text/plain": [
       "<IPython.core.display.Markdown object>"
      ],
      "text/markdown": "Rozwiązać równanie:\n\t$$\n\t\t\\left[\\begin{matrix}0 & 0 & 1 & 1 & 0\\\\2 & -1 & 0 & 1 & 2\\end{matrix}\\right]\\cdot \n\t\t\\left[\\begin{matrix}1 & 1 & 0 & 0 & -2\\\\0 & 1 & 1 & -2 & -2\\end{matrix}\\right]^T + \n\t\t3X=\n\t\tX \\cdot \\left[\\begin{matrix}2 & -1\\\\1 & 0\\\\1 & 1\\\\-1 & 0\\\\1 & 1\\end{matrix}\\right]^T \\cdot\n\t\t\\left[\\begin{matrix}-1 & -1\\\\1 & -2\\\\0 & 1\\\\0 & 1\\\\-2 & 1\\end{matrix}\\right] \n\t$$  \nRozwiązanie: $$ \\left[\\begin{matrix}0 & -1\\\\-3 & -7\\end{matrix}\\right] + \n\t3X=\n\tX \\cdot \\left[\\begin{matrix}-3 & -3\\\\-1 & 3\\end{matrix}\\right] , \\quad \n\t\\left[\\begin{matrix}0 & -1\\\\-3 & -7\\end{matrix}\\right] = \n\tX \\cdot \\left[\\begin{matrix}-6 & -3\\\\-1 & 0\\end{matrix}\\right] $$ \\ <br> \n\t$$X=\\frac{1}{-3}\\left[\\begin{matrix}-1 & 6\\\\-7 & 33\\end{matrix}\\right].$$"
     },
     "metadata": {},
     "output_type": "display_data"
    }
   ],
   "execution_count": 18
  },
  {
   "metadata": {
    "ExecuteTime": {
     "end_time": "2024-09-10T17:37:58.993444Z",
     "start_time": "2024-09-10T17:37:58.350761Z"
    }
   },
   "cell_type": "code",
   "source": "Latex(gz.rownanie_liniowe()[0])",
   "id": "e9780044603ad021",
   "outputs": [
    {
     "data": {
      "text/plain": [
       "<IPython.core.display.Latex object>"
      ],
      "text/latex": "Rozwiązać równanie w zbiorze liczb zespolonych.\\ Sprawdzić rozwiązanie.\n\t\\[\n\t\t9 - 3i+\\left(3 + 6i\\right)z = \\left(2 + 5i\\right)z\n\t\\]"
     },
     "execution_count": 7,
     "metadata": {},
     "output_type": "execute_result"
    }
   ],
   "execution_count": 7
  },
  {
   "metadata": {},
   "cell_type": "code",
   "outputs": [],
   "execution_count": null,
   "source": "",
   "id": "56cf46cba10c2829"
  }
 ],
 "metadata": {
  "kernelspec": {
   "display_name": "Python 3",
   "language": "python",
   "name": "python3"
  },
  "language_info": {
   "codemirror_mode": {
    "name": "ipython",
    "version": 2
   },
   "file_extension": ".py",
   "mimetype": "text/x-python",
   "name": "python",
   "nbconvert_exporter": "python",
   "pygments_lexer": "ipython2",
   "version": "2.7.6"
  }
 },
 "nbformat": 4,
 "nbformat_minor": 5
}
