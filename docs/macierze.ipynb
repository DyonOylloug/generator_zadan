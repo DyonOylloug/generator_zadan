{
 "cells": [
  {
   "metadata": {},
   "cell_type": "markdown",
   "source": "# Macierze",
   "id": "8eb6bbeebb3f54"
  },
  {
   "cell_type": "code",
   "id": "initial_id",
   "metadata": {
    "collapsed": true,
    "ExecuteTime": {
     "end_time": "2024-09-11T06:44:15.181227Z",
     "start_time": "2024-09-11T06:44:15.176346Z"
    }
   },
   "source": [
    "from IPython.display import display, Markdown, Latex\n",
    "\n",
    "import generator_zadan.generatory as gz\n",
    "\n",
    "print(gz.__version__)"
   ],
   "outputs": [
    {
     "name": "stdout",
     "output_type": "stream",
     "text": [
      "0.1.0\n"
     ]
    }
   ],
   "execution_count": 9
  },
  {
   "metadata": {
    "ExecuteTime": {
     "end_time": "2024-09-11T06:42:55.263318Z",
     "start_time": "2024-09-11T06:42:55.259274Z"
    }
   },
   "cell_type": "code",
   "source": "ile_zadan_przykladowych = 2",
   "id": "740696d134d16786",
   "outputs": [],
   "execution_count": 3
  },
  {
   "metadata": {},
   "cell_type": "markdown",
   "source": "## Równanie macierzowe",
   "id": "beea89ec40d1a15c"
  },
  {
   "metadata": {
    "ExecuteTime": {
     "end_time": "2024-09-11T06:42:55.415253Z",
     "start_time": "2024-09-11T06:42:55.320610Z"
    }
   },
   "cell_type": "code",
   "source": [
    "zadanie = gz.rownanie_macierzowe()\n",
    "zadanie"
   ],
   "id": "7c0693c3f5d1f84b",
   "outputs": [
    {
     "data": {
      "text/plain": [
       "('Rozwiązać równanie:\\n\\t\\\\[\\n\\t\\t\\\\left[\\\\begin{matrix}2 & -1 & 0 & 0 & 1\\\\\\\\-1 & 0 & 2 & 2 & -1\\\\end{matrix}\\\\right]\\\\cdot \\n\\t\\t\\\\left[\\\\begin{matrix}1 & 1 & 0 & -2 & -1\\\\\\\\1 & 1 & 0 & 1 & 0\\\\end{matrix}\\\\right]^T + \\n\\t\\t2X=\\n\\t\\t\\\\left[\\\\begin{matrix}-1 & 2\\\\\\\\1 & 0\\\\\\\\0 & -1\\\\\\\\2 & -1\\\\\\\\-1 & -1\\\\end{matrix}\\\\right]^T \\\\cdot\\n\\t\\t\\\\left[\\\\begin{matrix}1 & 0\\\\\\\\0 & -2\\\\\\\\1 & -2\\\\\\\\-1 & 1\\\\\\\\-1 & 0\\\\end{matrix}\\\\right] \\\\cdot X\\n\\t\\\\]',\n",
       " '$ \\\\left[\\\\begin{matrix}0 & 1\\\\\\\\-4 & 1\\\\end{matrix}\\\\right] + \\n\\t2X=\\n\\t\\\\left[\\\\begin{matrix}-2 & 0\\\\\\\\3 & 1\\\\end{matrix}\\\\right] \\\\cdot X, \\\\quad \\n\\t\\\\left[\\\\begin{matrix}0 & 1\\\\\\\\-4 & 1\\\\end{matrix}\\\\right] = \\n\\t\\\\left[\\\\begin{matrix}-4 & 0\\\\\\\\3 & -1\\\\end{matrix}\\\\right] \\\\cdot X $ \\\\\\\\ \\n\\t$X=\\\\frac{1}{4}\\\\left[\\\\begin{matrix}0 & -1\\\\\\\\16 & -7\\\\end{matrix}\\\\right].$')"
      ]
     },
     "execution_count": 5,
     "metadata": {},
     "output_type": "execute_result"
    }
   ],
   "execution_count": 5
  },
  {
   "metadata": {
    "ExecuteTime": {
     "end_time": "2024-09-11T06:42:55.559603Z",
     "start_time": "2024-09-11T06:42:55.553257Z"
    }
   },
   "cell_type": "code",
   "source": [
    "print(zadanie[0])\n",
    "print(\"\\033[32m*\\033[0m\" * 80)\n",
    "print(zadanie[1])"
   ],
   "id": "21e088742fa3c7aa",
   "outputs": [
    {
     "name": "stdout",
     "output_type": "stream",
     "text": [
      "Rozwiązać równanie:\n",
      "\t\\[\n",
      "\t\t\\left[\\begin{matrix}2 & -1 & 0 & 0 & 1\\\\-1 & 0 & 2 & 2 & -1\\end{matrix}\\right]\\cdot \n",
      "\t\t\\left[\\begin{matrix}1 & 1 & 0 & -2 & -1\\\\1 & 1 & 0 & 1 & 0\\end{matrix}\\right]^T + \n",
      "\t\t2X=\n",
      "\t\t\\left[\\begin{matrix}-1 & 2\\\\1 & 0\\\\0 & -1\\\\2 & -1\\\\-1 & -1\\end{matrix}\\right]^T \\cdot\n",
      "\t\t\\left[\\begin{matrix}1 & 0\\\\0 & -2\\\\1 & -2\\\\-1 & 1\\\\-1 & 0\\end{matrix}\\right] \\cdot X\n",
      "\t\\]\n",
      "\u001B[32m*\u001B[0m\u001B[32m*\u001B[0m\u001B[32m*\u001B[0m\u001B[32m*\u001B[0m\u001B[32m*\u001B[0m\u001B[32m*\u001B[0m\u001B[32m*\u001B[0m\u001B[32m*\u001B[0m\u001B[32m*\u001B[0m\u001B[32m*\u001B[0m\u001B[32m*\u001B[0m\u001B[32m*\u001B[0m\u001B[32m*\u001B[0m\u001B[32m*\u001B[0m\u001B[32m*\u001B[0m\u001B[32m*\u001B[0m\u001B[32m*\u001B[0m\u001B[32m*\u001B[0m\u001B[32m*\u001B[0m\u001B[32m*\u001B[0m\u001B[32m*\u001B[0m\u001B[32m*\u001B[0m\u001B[32m*\u001B[0m\u001B[32m*\u001B[0m\u001B[32m*\u001B[0m\u001B[32m*\u001B[0m\u001B[32m*\u001B[0m\u001B[32m*\u001B[0m\u001B[32m*\u001B[0m\u001B[32m*\u001B[0m\u001B[32m*\u001B[0m\u001B[32m*\u001B[0m\u001B[32m*\u001B[0m\u001B[32m*\u001B[0m\u001B[32m*\u001B[0m\u001B[32m*\u001B[0m\u001B[32m*\u001B[0m\u001B[32m*\u001B[0m\u001B[32m*\u001B[0m\u001B[32m*\u001B[0m\u001B[32m*\u001B[0m\u001B[32m*\u001B[0m\u001B[32m*\u001B[0m\u001B[32m*\u001B[0m\u001B[32m*\u001B[0m\u001B[32m*\u001B[0m\u001B[32m*\u001B[0m\u001B[32m*\u001B[0m\u001B[32m*\u001B[0m\u001B[32m*\u001B[0m\u001B[32m*\u001B[0m\u001B[32m*\u001B[0m\u001B[32m*\u001B[0m\u001B[32m*\u001B[0m\u001B[32m*\u001B[0m\u001B[32m*\u001B[0m\u001B[32m*\u001B[0m\u001B[32m*\u001B[0m\u001B[32m*\u001B[0m\u001B[32m*\u001B[0m\u001B[32m*\u001B[0m\u001B[32m*\u001B[0m\u001B[32m*\u001B[0m\u001B[32m*\u001B[0m\u001B[32m*\u001B[0m\u001B[32m*\u001B[0m\u001B[32m*\u001B[0m\u001B[32m*\u001B[0m\u001B[32m*\u001B[0m\u001B[32m*\u001B[0m\u001B[32m*\u001B[0m\u001B[32m*\u001B[0m\u001B[32m*\u001B[0m\u001B[32m*\u001B[0m\u001B[32m*\u001B[0m\u001B[32m*\u001B[0m\u001B[32m*\u001B[0m\u001B[32m*\u001B[0m\u001B[32m*\u001B[0m\u001B[32m*\u001B[0m\n",
      "$ \\left[\\begin{matrix}0 & 1\\\\-4 & 1\\end{matrix}\\right] + \n",
      "\t2X=\n",
      "\t\\left[\\begin{matrix}-2 & 0\\\\3 & 1\\end{matrix}\\right] \\cdot X, \\quad \n",
      "\t\\left[\\begin{matrix}0 & 1\\\\-4 & 1\\end{matrix}\\right] = \n",
      "\t\\left[\\begin{matrix}-4 & 0\\\\3 & -1\\end{matrix}\\right] \\cdot X $ \\\\ \n",
      "\t$X=\\frac{1}{4}\\left[\\begin{matrix}0 & -1\\\\16 & -7\\end{matrix}\\right].$\n"
     ]
    }
   ],
   "execution_count": 6
  },
  {
   "metadata": {
    "ExecuteTime": {
     "end_time": "2024-09-11T06:42:56.540304Z",
     "start_time": "2024-09-11T06:42:55.768172Z"
    }
   },
   "cell_type": "code",
   "source": [
    "for i in range(1, ile_zadan_przykladowych + 1):\n",
    "    z = gz.rownanie_macierzowe()\n",
    "    display(Markdown(f'{i}. ' + z[0].split(':')[0]))\n",
    "    display(Latex(z[0].split(':')[1]))\n",
    "    display(Markdown('Rozwiązanie: '))\n",
    "    display(Latex(z[1].replace('$ \\\\\\\\ \\n\\t$', ',\\\\quad ').replace('$', '$$')))\n",
    "    print(\"\\033[32m*\\033[0m\" * 80)\n"
   ],
   "id": "56cf46cba10c2829",
   "outputs": [
    {
     "data": {
      "text/plain": [
       "<IPython.core.display.Markdown object>"
      ],
      "text/markdown": "1. Rozwiązać równanie"
     },
     "metadata": {},
     "output_type": "display_data"
    },
    {
     "data": {
      "text/plain": [
       "<IPython.core.display.Latex object>"
      ],
      "text/latex": "\n\t\\[\n\t\t\\left[\\begin{matrix}1 & 2 & 0 & 0 & 2\\\\-1 & -1 & 0 & 2 & -1\\end{matrix}\\right]\\cdot \n\t\t\\left[\\begin{matrix}0 & 1 & -2 & 1 & -1\\\\1 & -2 & 1 & 1 & 0\\end{matrix}\\right]^T + \n\t\t2X=\n\t\t\\left[\\begin{matrix}1 & 2\\\\2 & 0\\\\2 & -1\\\\0 & -1\\\\-1 & 2\\end{matrix}\\right]^T \\cdot\n\t\t\\left[\\begin{matrix}-1 & -2\\\\-2 & 0\\\\0 & -2\\\\-1 & 1\\\\-1 & 1\\end{matrix}\\right] \\cdot X\n\t\\]"
     },
     "metadata": {},
     "output_type": "display_data"
    },
    {
     "data": {
      "text/plain": [
       "<IPython.core.display.Markdown object>"
      ],
      "text/markdown": "Rozwiązanie: "
     },
     "metadata": {},
     "output_type": "display_data"
    },
    {
     "data": {
      "text/plain": [
       "<IPython.core.display.Latex object>"
      ],
      "text/latex": "$$ \\left[\\begin{matrix}0 & -3\\\\2 & 3\\end{matrix}\\right] + \n\t2X=\n\t\\left[\\begin{matrix}-4 & -7\\\\-3 & -1\\end{matrix}\\right] \\cdot X, \\quad \n\t\\left[\\begin{matrix}0 & -3\\\\2 & 3\\end{matrix}\\right] = \n\t\\left[\\begin{matrix}-6 & -7\\\\-3 & -3\\end{matrix}\\right] \\cdot X ,\\quad X=\\frac{1}{-3}\\left[\\begin{matrix}14 & 30\\\\-12 & -27\\end{matrix}\\right].$$"
     },
     "metadata": {},
     "output_type": "display_data"
    },
    {
     "name": "stdout",
     "output_type": "stream",
     "text": [
      "\u001B[32m*\u001B[0m\u001B[32m*\u001B[0m\u001B[32m*\u001B[0m\u001B[32m*\u001B[0m\u001B[32m*\u001B[0m\u001B[32m*\u001B[0m\u001B[32m*\u001B[0m\u001B[32m*\u001B[0m\u001B[32m*\u001B[0m\u001B[32m*\u001B[0m\u001B[32m*\u001B[0m\u001B[32m*\u001B[0m\u001B[32m*\u001B[0m\u001B[32m*\u001B[0m\u001B[32m*\u001B[0m\u001B[32m*\u001B[0m\u001B[32m*\u001B[0m\u001B[32m*\u001B[0m\u001B[32m*\u001B[0m\u001B[32m*\u001B[0m\u001B[32m*\u001B[0m\u001B[32m*\u001B[0m\u001B[32m*\u001B[0m\u001B[32m*\u001B[0m\u001B[32m*\u001B[0m\u001B[32m*\u001B[0m\u001B[32m*\u001B[0m\u001B[32m*\u001B[0m\u001B[32m*\u001B[0m\u001B[32m*\u001B[0m\u001B[32m*\u001B[0m\u001B[32m*\u001B[0m\u001B[32m*\u001B[0m\u001B[32m*\u001B[0m\u001B[32m*\u001B[0m\u001B[32m*\u001B[0m\u001B[32m*\u001B[0m\u001B[32m*\u001B[0m\u001B[32m*\u001B[0m\u001B[32m*\u001B[0m\u001B[32m*\u001B[0m\u001B[32m*\u001B[0m\u001B[32m*\u001B[0m\u001B[32m*\u001B[0m\u001B[32m*\u001B[0m\u001B[32m*\u001B[0m\u001B[32m*\u001B[0m\u001B[32m*\u001B[0m\u001B[32m*\u001B[0m\u001B[32m*\u001B[0m\u001B[32m*\u001B[0m\u001B[32m*\u001B[0m\u001B[32m*\u001B[0m\u001B[32m*\u001B[0m\u001B[32m*\u001B[0m\u001B[32m*\u001B[0m\u001B[32m*\u001B[0m\u001B[32m*\u001B[0m\u001B[32m*\u001B[0m\u001B[32m*\u001B[0m\u001B[32m*\u001B[0m\u001B[32m*\u001B[0m\u001B[32m*\u001B[0m\u001B[32m*\u001B[0m\u001B[32m*\u001B[0m\u001B[32m*\u001B[0m\u001B[32m*\u001B[0m\u001B[32m*\u001B[0m\u001B[32m*\u001B[0m\u001B[32m*\u001B[0m\u001B[32m*\u001B[0m\u001B[32m*\u001B[0m\u001B[32m*\u001B[0m\u001B[32m*\u001B[0m\u001B[32m*\u001B[0m\u001B[32m*\u001B[0m\u001B[32m*\u001B[0m\u001B[32m*\u001B[0m\u001B[32m*\u001B[0m\u001B[32m*\u001B[0m\n"
     ]
    },
    {
     "data": {
      "text/plain": [
       "<IPython.core.display.Markdown object>"
      ],
      "text/markdown": "2. Rozwiązać równanie"
     },
     "metadata": {},
     "output_type": "display_data"
    },
    {
     "data": {
      "text/plain": [
       "<IPython.core.display.Latex object>"
      ],
      "text/latex": "\n\t\\[\n\t\t\\left[\\begin{matrix}-1 & 1 & 1 & -1 & -1\\\\2 & 0 & 1 & 0 & 1\\end{matrix}\\right]\\cdot \n\t\t\\left[\\begin{matrix}1 & 1 & 1 & 1 & 0\\\\1 & -2 & 1 & 0 & 0\\end{matrix}\\right]^T + \n\t\t3X=\n\t\t\\left[\\begin{matrix}-1 & 0\\\\-1 & 0\\\\0 & -1\\\\-1 & 1\\\\0 & 0\\end{matrix}\\right]^T \\cdot\n\t\t\\left[\\begin{matrix}-1 & 1\\\\-2 & -1\\\\-1 & -2\\\\-2 & -1\\\\0 & 0\\end{matrix}\\right] \\cdot X\n\t\\]"
     },
     "metadata": {},
     "output_type": "display_data"
    },
    {
     "data": {
      "text/plain": [
       "<IPython.core.display.Markdown object>"
      ],
      "text/markdown": "Rozwiązanie: "
     },
     "metadata": {},
     "output_type": "display_data"
    },
    {
     "data": {
      "text/plain": [
       "<IPython.core.display.Latex object>"
      ],
      "text/latex": "$$ \\left[\\begin{matrix}0 & -2\\\\3 & 3\\end{matrix}\\right] + \n\t3X=\n\t\\left[\\begin{matrix}5 & 1\\\\-1 & 1\\end{matrix}\\right] \\cdot X, \\quad \n\t\\left[\\begin{matrix}0 & -2\\\\3 & 3\\end{matrix}\\right] = \n\t\\left[\\begin{matrix}2 & 1\\\\-1 & -2\\end{matrix}\\right] \\cdot X ,\\quad X=\\frac{1}{-3}\\left[\\begin{matrix}-3 & 1\\\\6 & 4\\end{matrix}\\right].$$"
     },
     "metadata": {},
     "output_type": "display_data"
    },
    {
     "name": "stdout",
     "output_type": "stream",
     "text": [
      "\u001B[32m*\u001B[0m\u001B[32m*\u001B[0m\u001B[32m*\u001B[0m\u001B[32m*\u001B[0m\u001B[32m*\u001B[0m\u001B[32m*\u001B[0m\u001B[32m*\u001B[0m\u001B[32m*\u001B[0m\u001B[32m*\u001B[0m\u001B[32m*\u001B[0m\u001B[32m*\u001B[0m\u001B[32m*\u001B[0m\u001B[32m*\u001B[0m\u001B[32m*\u001B[0m\u001B[32m*\u001B[0m\u001B[32m*\u001B[0m\u001B[32m*\u001B[0m\u001B[32m*\u001B[0m\u001B[32m*\u001B[0m\u001B[32m*\u001B[0m\u001B[32m*\u001B[0m\u001B[32m*\u001B[0m\u001B[32m*\u001B[0m\u001B[32m*\u001B[0m\u001B[32m*\u001B[0m\u001B[32m*\u001B[0m\u001B[32m*\u001B[0m\u001B[32m*\u001B[0m\u001B[32m*\u001B[0m\u001B[32m*\u001B[0m\u001B[32m*\u001B[0m\u001B[32m*\u001B[0m\u001B[32m*\u001B[0m\u001B[32m*\u001B[0m\u001B[32m*\u001B[0m\u001B[32m*\u001B[0m\u001B[32m*\u001B[0m\u001B[32m*\u001B[0m\u001B[32m*\u001B[0m\u001B[32m*\u001B[0m\u001B[32m*\u001B[0m\u001B[32m*\u001B[0m\u001B[32m*\u001B[0m\u001B[32m*\u001B[0m\u001B[32m*\u001B[0m\u001B[32m*\u001B[0m\u001B[32m*\u001B[0m\u001B[32m*\u001B[0m\u001B[32m*\u001B[0m\u001B[32m*\u001B[0m\u001B[32m*\u001B[0m\u001B[32m*\u001B[0m\u001B[32m*\u001B[0m\u001B[32m*\u001B[0m\u001B[32m*\u001B[0m\u001B[32m*\u001B[0m\u001B[32m*\u001B[0m\u001B[32m*\u001B[0m\u001B[32m*\u001B[0m\u001B[32m*\u001B[0m\u001B[32m*\u001B[0m\u001B[32m*\u001B[0m\u001B[32m*\u001B[0m\u001B[32m*\u001B[0m\u001B[32m*\u001B[0m\u001B[32m*\u001B[0m\u001B[32m*\u001B[0m\u001B[32m*\u001B[0m\u001B[32m*\u001B[0m\u001B[32m*\u001B[0m\u001B[32m*\u001B[0m\u001B[32m*\u001B[0m\u001B[32m*\u001B[0m\u001B[32m*\u001B[0m\u001B[32m*\u001B[0m\u001B[32m*\u001B[0m\u001B[32m*\u001B[0m\u001B[32m*\u001B[0m\u001B[32m*\u001B[0m\u001B[32m*\u001B[0m\n"
     ]
    }
   ],
   "execution_count": 7
  },
  {
   "metadata": {},
   "cell_type": "markdown",
   "source": "## Wyznacznik z parametrem",
   "id": "403b32d7023b7b78"
  },
  {
   "metadata": {
    "ExecuteTime": {
     "end_time": "2024-09-11T06:46:04.360908Z",
     "start_time": "2024-09-11T06:46:00.190983Z"
    }
   },
   "cell_type": "code",
   "source": [
    "zadanie = gz.wyznacznik_parametr()\n",
    "zadanie"
   ],
   "id": "5c8f1369c3e845fb",
   "outputs": [
    {
     "data": {
      "text/plain": [
       "('Dla jakich rzeczywistych wartości parametru $x$ wyznacznik macierzy $A$ jest różny od zera?\\n\\t\\\\[\\n\\t\\t\\\\textnormal{A=}\\n\\t\\t\\\\left[\\\\begin{matrix}3 & x + 1 & -4\\\\\\\\1 & -2 & -3\\\\\\\\x + 1 & 2 x - 1 & -4\\\\end{matrix}\\\\right]\\n\\t\\\\]',\n",
       " '$\\\\det A=12 - 3 x^{2} \\\\neq 0, \\\\quad x\\\\neq -2, \\\\ x\\\\neq 2, \\\\ $')"
      ]
     },
     "execution_count": 17,
     "metadata": {},
     "output_type": "execute_result"
    }
   ],
   "execution_count": 17
  },
  {
   "metadata": {
    "ExecuteTime": {
     "end_time": "2024-09-11T06:46:14.819735Z",
     "start_time": "2024-09-11T06:46:14.814421Z"
    }
   },
   "cell_type": "code",
   "source": [
    "print(zadanie[0])\n",
    "print(\"\\033[32m*\\033[0m\" * 80)\n",
    "print(zadanie[1])"
   ],
   "id": "26b2689a8ef78464",
   "outputs": [
    {
     "name": "stdout",
     "output_type": "stream",
     "text": [
      "Dla jakich rzeczywistych wartości parametru $x$ wyznacznik macierzy $A$ jest różny od zera?\n",
      "\t\\[\n",
      "\t\t\\textnormal{A=}\n",
      "\t\t\\left[\\begin{matrix}3 & x + 1 & -4\\\\1 & -2 & -3\\\\x + 1 & 2 x - 1 & -4\\end{matrix}\\right]\n",
      "\t\\]\n",
      "\u001B[32m*\u001B[0m\u001B[32m*\u001B[0m\u001B[32m*\u001B[0m\u001B[32m*\u001B[0m\u001B[32m*\u001B[0m\u001B[32m*\u001B[0m\u001B[32m*\u001B[0m\u001B[32m*\u001B[0m\u001B[32m*\u001B[0m\u001B[32m*\u001B[0m\u001B[32m*\u001B[0m\u001B[32m*\u001B[0m\u001B[32m*\u001B[0m\u001B[32m*\u001B[0m\u001B[32m*\u001B[0m\u001B[32m*\u001B[0m\u001B[32m*\u001B[0m\u001B[32m*\u001B[0m\u001B[32m*\u001B[0m\u001B[32m*\u001B[0m\u001B[32m*\u001B[0m\u001B[32m*\u001B[0m\u001B[32m*\u001B[0m\u001B[32m*\u001B[0m\u001B[32m*\u001B[0m\u001B[32m*\u001B[0m\u001B[32m*\u001B[0m\u001B[32m*\u001B[0m\u001B[32m*\u001B[0m\u001B[32m*\u001B[0m\u001B[32m*\u001B[0m\u001B[32m*\u001B[0m\u001B[32m*\u001B[0m\u001B[32m*\u001B[0m\u001B[32m*\u001B[0m\u001B[32m*\u001B[0m\u001B[32m*\u001B[0m\u001B[32m*\u001B[0m\u001B[32m*\u001B[0m\u001B[32m*\u001B[0m\u001B[32m*\u001B[0m\u001B[32m*\u001B[0m\u001B[32m*\u001B[0m\u001B[32m*\u001B[0m\u001B[32m*\u001B[0m\u001B[32m*\u001B[0m\u001B[32m*\u001B[0m\u001B[32m*\u001B[0m\u001B[32m*\u001B[0m\u001B[32m*\u001B[0m\u001B[32m*\u001B[0m\u001B[32m*\u001B[0m\u001B[32m*\u001B[0m\u001B[32m*\u001B[0m\u001B[32m*\u001B[0m\u001B[32m*\u001B[0m\u001B[32m*\u001B[0m\u001B[32m*\u001B[0m\u001B[32m*\u001B[0m\u001B[32m*\u001B[0m\u001B[32m*\u001B[0m\u001B[32m*\u001B[0m\u001B[32m*\u001B[0m\u001B[32m*\u001B[0m\u001B[32m*\u001B[0m\u001B[32m*\u001B[0m\u001B[32m*\u001B[0m\u001B[32m*\u001B[0m\u001B[32m*\u001B[0m\u001B[32m*\u001B[0m\u001B[32m*\u001B[0m\u001B[32m*\u001B[0m\u001B[32m*\u001B[0m\u001B[32m*\u001B[0m\u001B[32m*\u001B[0m\u001B[32m*\u001B[0m\u001B[32m*\u001B[0m\u001B[32m*\u001B[0m\u001B[32m*\u001B[0m\u001B[32m*\u001B[0m\n",
      "$\\det A=12 - 3 x^{2} \\neq 0, \\quad x\\neq -2, \\ x\\neq 2, \\ $\n"
     ]
    }
   ],
   "execution_count": 18
  },
  {
   "metadata": {
    "ExecuteTime": {
     "end_time": "2024-09-11T06:50:27.494589Z",
     "start_time": "2024-09-11T06:50:21.606033Z"
    }
   },
   "cell_type": "code",
   "source": [
    "for i in range(1, ile_zadan_przykladowych + 1):\n",
    "    z = gz.wyznacznik_parametr()\n",
    "    display(Markdown(f'{i}. ' + z[0][:91].replace('\\\\ ', ' ')))\n",
    "    display(Latex(z[0][91:]))\n",
    "    display(Markdown('Rozwiązanie: '))\n",
    "    display(Latex(z[1].replace('$ \\\\\\\\ \\n\\t$', ',\\\\quad ').replace('$', '$$')))\n",
    "    print(\"\\033[32m*\\033[0m\" * 80)"
   ],
   "id": "328cdd4b576c7b9",
   "outputs": [
    {
     "data": {
      "text/plain": [
       "<IPython.core.display.Markdown object>"
      ],
      "text/markdown": "1. Dla jakich rzeczywistych wartości parametru $x$ wyznacznik macierzy $A$ jest różny od zera?"
     },
     "metadata": {},
     "output_type": "display_data"
    },
    {
     "data": {
      "text/plain": [
       "<IPython.core.display.Latex object>"
      ],
      "text/latex": "\n\t\\[\n\t\t\\textnormal{A=}\n\t\t\\left[\\begin{matrix}0 & -1 & -1\\\\x + 4 & -2 & x + 2\\\\x + 4 & x - 2 & -4\\end{matrix}\\right]\n\t\\]"
     },
     "metadata": {},
     "output_type": "display_data"
    },
    {
     "data": {
      "text/plain": [
       "<IPython.core.display.Markdown object>"
      ],
      "text/markdown": "Rozwiązanie: "
     },
     "metadata": {},
     "output_type": "display_data"
    },
    {
     "data": {
      "text/plain": [
       "<IPython.core.display.Latex object>"
      ],
      "text/latex": "$$\\det A=- 2 x^{2} - 14 x - 24 \\neq 0, \\quad x\\neq -4, \\ x\\neq -3, \\ $$"
     },
     "metadata": {},
     "output_type": "display_data"
    },
    {
     "name": "stdout",
     "output_type": "stream",
     "text": [
      "\u001B[32m*\u001B[0m\u001B[32m*\u001B[0m\u001B[32m*\u001B[0m\u001B[32m*\u001B[0m\u001B[32m*\u001B[0m\u001B[32m*\u001B[0m\u001B[32m*\u001B[0m\u001B[32m*\u001B[0m\u001B[32m*\u001B[0m\u001B[32m*\u001B[0m\u001B[32m*\u001B[0m\u001B[32m*\u001B[0m\u001B[32m*\u001B[0m\u001B[32m*\u001B[0m\u001B[32m*\u001B[0m\u001B[32m*\u001B[0m\u001B[32m*\u001B[0m\u001B[32m*\u001B[0m\u001B[32m*\u001B[0m\u001B[32m*\u001B[0m\u001B[32m*\u001B[0m\u001B[32m*\u001B[0m\u001B[32m*\u001B[0m\u001B[32m*\u001B[0m\u001B[32m*\u001B[0m\u001B[32m*\u001B[0m\u001B[32m*\u001B[0m\u001B[32m*\u001B[0m\u001B[32m*\u001B[0m\u001B[32m*\u001B[0m\u001B[32m*\u001B[0m\u001B[32m*\u001B[0m\u001B[32m*\u001B[0m\u001B[32m*\u001B[0m\u001B[32m*\u001B[0m\u001B[32m*\u001B[0m\u001B[32m*\u001B[0m\u001B[32m*\u001B[0m\u001B[32m*\u001B[0m\u001B[32m*\u001B[0m\u001B[32m*\u001B[0m\u001B[32m*\u001B[0m\u001B[32m*\u001B[0m\u001B[32m*\u001B[0m\u001B[32m*\u001B[0m\u001B[32m*\u001B[0m\u001B[32m*\u001B[0m\u001B[32m*\u001B[0m\u001B[32m*\u001B[0m\u001B[32m*\u001B[0m\u001B[32m*\u001B[0m\u001B[32m*\u001B[0m\u001B[32m*\u001B[0m\u001B[32m*\u001B[0m\u001B[32m*\u001B[0m\u001B[32m*\u001B[0m\u001B[32m*\u001B[0m\u001B[32m*\u001B[0m\u001B[32m*\u001B[0m\u001B[32m*\u001B[0m\u001B[32m*\u001B[0m\u001B[32m*\u001B[0m\u001B[32m*\u001B[0m\u001B[32m*\u001B[0m\u001B[32m*\u001B[0m\u001B[32m*\u001B[0m\u001B[32m*\u001B[0m\u001B[32m*\u001B[0m\u001B[32m*\u001B[0m\u001B[32m*\u001B[0m\u001B[32m*\u001B[0m\u001B[32m*\u001B[0m\u001B[32m*\u001B[0m\u001B[32m*\u001B[0m\u001B[32m*\u001B[0m\u001B[32m*\u001B[0m\u001B[32m*\u001B[0m\u001B[32m*\u001B[0m\u001B[32m*\u001B[0m\u001B[32m*\u001B[0m\n"
     ]
    }
   ],
   "execution_count": 29
  },
  {
   "metadata": {},
   "cell_type": "markdown",
   "source": "## Macierz odwrotna z parametrem",
   "id": "8384ca02538ae1e3"
  },
  {
   "metadata": {
    "ExecuteTime": {
     "end_time": "2024-09-11T06:54:39.028756Z",
     "start_time": "2024-09-11T06:54:34.475743Z"
    }
   },
   "cell_type": "code",
   "source": [
    "zadanie = gz.macierz_odwrotna_parametr()\n",
    "zadanie"
   ],
   "id": "f27fac4b3c692ee7",
   "outputs": [
    {
     "data": {
      "text/plain": [
       "('Dla jakich rzeczywistych wartości parametru $x$ macierz $A$ posiada odwrotność?\\n\\t\\\\[\\n\\t\\t\\\\textnormal{A=}\\\\left[\\\\begin{matrix}x - 3 & 4 & 2 x - 2\\\\\\\\0 & 4 & 1\\\\\\\\-2 & x + 3 & -2\\\\end{matrix}\\\\right]\\n\\t\\\\]\\nWyznaczyć macierz odwrotną dla $x=-2.$ Wykonać sprawdzenie.\\\\\\\\',\n",
       " '$\\\\det A=- x^{2} + 8 x + 9\\\\neq 0, \\\\quad \\n\\tx\\\\neq -1\\\\ \\\\textnormal{oraz} \\\\ x\\\\neq 9,$\\\\\\\\\\n\\t$A(-2)= \\\\left[\\\\begin{matrix}-5 & 4 & -6\\\\\\\\0 & 4 & 1\\\\\\\\-2 & 1 & -2\\\\end{matrix}\\\\right],\\\\ \\n\\t\\\\det A(-2)=-11,\\\\ \\n\\tA^{-1}=- \\\\frac{1}{11}\\\\left[\\\\begin{matrix}-9 & 2 & 28\\\\\\\\-2 & -2 & 5\\\\\\\\8 & -3 & -20\\\\end{matrix}\\\\right].$')"
      ]
     },
     "execution_count": 30,
     "metadata": {},
     "output_type": "execute_result"
    }
   ],
   "execution_count": 30
  },
  {
   "metadata": {
    "ExecuteTime": {
     "end_time": "2024-09-11T06:54:50.503977Z",
     "start_time": "2024-09-11T06:54:50.496890Z"
    }
   },
   "cell_type": "code",
   "source": [
    "print(zadanie[0])\n",
    "print(\"\\033[32m*\\033[0m\" * 80)\n",
    "print(zadanie[1])"
   ],
   "id": "7da8ca0f4b34ff95",
   "outputs": [
    {
     "name": "stdout",
     "output_type": "stream",
     "text": [
      "Dla jakich rzeczywistych wartości parametru $x$ macierz $A$ posiada odwrotność?\n",
      "\t\\[\n",
      "\t\t\\textnormal{A=}\\left[\\begin{matrix}x - 3 & 4 & 2 x - 2\\\\0 & 4 & 1\\\\-2 & x + 3 & -2\\end{matrix}\\right]\n",
      "\t\\]\n",
      "Wyznaczyć macierz odwrotną dla $x=-2.$ Wykonać sprawdzenie.\\\\\n",
      "\u001B[32m*\u001B[0m\u001B[32m*\u001B[0m\u001B[32m*\u001B[0m\u001B[32m*\u001B[0m\u001B[32m*\u001B[0m\u001B[32m*\u001B[0m\u001B[32m*\u001B[0m\u001B[32m*\u001B[0m\u001B[32m*\u001B[0m\u001B[32m*\u001B[0m\u001B[32m*\u001B[0m\u001B[32m*\u001B[0m\u001B[32m*\u001B[0m\u001B[32m*\u001B[0m\u001B[32m*\u001B[0m\u001B[32m*\u001B[0m\u001B[32m*\u001B[0m\u001B[32m*\u001B[0m\u001B[32m*\u001B[0m\u001B[32m*\u001B[0m\u001B[32m*\u001B[0m\u001B[32m*\u001B[0m\u001B[32m*\u001B[0m\u001B[32m*\u001B[0m\u001B[32m*\u001B[0m\u001B[32m*\u001B[0m\u001B[32m*\u001B[0m\u001B[32m*\u001B[0m\u001B[32m*\u001B[0m\u001B[32m*\u001B[0m\u001B[32m*\u001B[0m\u001B[32m*\u001B[0m\u001B[32m*\u001B[0m\u001B[32m*\u001B[0m\u001B[32m*\u001B[0m\u001B[32m*\u001B[0m\u001B[32m*\u001B[0m\u001B[32m*\u001B[0m\u001B[32m*\u001B[0m\u001B[32m*\u001B[0m\u001B[32m*\u001B[0m\u001B[32m*\u001B[0m\u001B[32m*\u001B[0m\u001B[32m*\u001B[0m\u001B[32m*\u001B[0m\u001B[32m*\u001B[0m\u001B[32m*\u001B[0m\u001B[32m*\u001B[0m\u001B[32m*\u001B[0m\u001B[32m*\u001B[0m\u001B[32m*\u001B[0m\u001B[32m*\u001B[0m\u001B[32m*\u001B[0m\u001B[32m*\u001B[0m\u001B[32m*\u001B[0m\u001B[32m*\u001B[0m\u001B[32m*\u001B[0m\u001B[32m*\u001B[0m\u001B[32m*\u001B[0m\u001B[32m*\u001B[0m\u001B[32m*\u001B[0m\u001B[32m*\u001B[0m\u001B[32m*\u001B[0m\u001B[32m*\u001B[0m\u001B[32m*\u001B[0m\u001B[32m*\u001B[0m\u001B[32m*\u001B[0m\u001B[32m*\u001B[0m\u001B[32m*\u001B[0m\u001B[32m*\u001B[0m\u001B[32m*\u001B[0m\u001B[32m*\u001B[0m\u001B[32m*\u001B[0m\u001B[32m*\u001B[0m\u001B[32m*\u001B[0m\u001B[32m*\u001B[0m\u001B[32m*\u001B[0m\u001B[32m*\u001B[0m\u001B[32m*\u001B[0m\u001B[32m*\u001B[0m\n",
      "$\\det A=- x^{2} + 8 x + 9\\neq 0, \\quad \n",
      "\tx\\neq -1\\ \\textnormal{oraz} \\ x\\neq 9,$\\\\\n",
      "\t$A(-2)= \\left[\\begin{matrix}-5 & 4 & -6\\\\0 & 4 & 1\\\\-2 & 1 & -2\\end{matrix}\\right],\\ \n",
      "\t\\det A(-2)=-11,\\ \n",
      "\tA^{-1}=- \\frac{1}{11}\\left[\\begin{matrix}-9 & 2 & 28\\\\-2 & -2 & 5\\\\8 & -3 & -20\\end{matrix}\\right].$\n"
     ]
    }
   ],
   "execution_count": 31
  },
  {
   "metadata": {
    "ExecuteTime": {
     "end_time": "2024-09-11T07:25:31.722563Z",
     "start_time": "2024-09-11T07:25:31.689811Z"
    }
   },
   "cell_type": "code",
   "source": [
    "for i in range(1, ile_zadan_przykladowych + 1):\n",
    "    z = gz.macierz_odwrotna_parametr()\n",
    "    display(Markdown(f'{i}. ' + z[0][:79].replace('$','*')))\n",
    "    display(Latex(z[0][79:].split('W')[0]))\n",
    "    display(Markdown('W' + z[0][79:].split('W')[1].replace('$','*')))\n",
    "    display(Markdown('Rozwiązanie: '))\n",
    "    rozwiazanie = z[1].replace('$\\\\\\\\\\n\\t$', ' $ ').split('$')\n",
    "    for i in range(1, len(rozwiazanie) - 1):\n",
    "        display(Latex('$$' + rozwiazanie[i] + '$$'))\n",
    "    print(\"\\033[32m*\\033[0m\" * 80)"
   ],
   "id": "c70e277ba9908551",
   "outputs": [
    {
     "data": {
      "text/plain": [
       "<IPython.core.display.Markdown object>"
      ],
      "text/markdown": "1. Dla jakich rzeczywistych wartości parametru *x* macierz *A* posiada odwrotność?"
     },
     "metadata": {},
     "output_type": "display_data"
    },
    {
     "data": {
      "text/plain": [
       "<IPython.core.display.Latex object>"
      ],
      "text/latex": "\n\t\\[\n\t\t\\textnormal{A=}\\left[\\begin{matrix}2 & 4 & 1\\\\x - 2 & x + 1 & x - 1\\\\-2 & x + 2 & -1\\end{matrix}\\right]\n\t\\]\n"
     },
     "metadata": {},
     "output_type": "display_data"
    },
    {
     "data": {
      "text/plain": [
       "<IPython.core.display.Markdown object>"
      ],
      "text/markdown": "Wyznaczyć macierz odwrotną dla *x=-2.* "
     },
     "metadata": {},
     "output_type": "display_data"
    },
    {
     "data": {
      "text/plain": [
       "<IPython.core.display.Markdown object>"
      ],
      "text/markdown": "Rozwiązanie: "
     },
     "metadata": {},
     "output_type": "display_data"
    },
    {
     "data": {
      "text/plain": [
       "<IPython.core.display.Latex object>"
      ],
      "text/latex": "$$\\det A=- x^{2} - 6 x\\neq 0, \\quad \n\tx\\neq -6\\ \\textnormal{oraz} \\ x\\neq 0, $$"
     },
     "metadata": {},
     "output_type": "display_data"
    },
    {
     "data": {
      "text/plain": [
       "<IPython.core.display.Latex object>"
      ],
      "text/latex": "$$ A(-2)= \\left[\\begin{matrix}2 & 4 & 1\\\\-4 & -1 & -3\\\\-2 & 0 & -1\\end{matrix}\\right],\\ \n\t\\det A(-2)=8,\\ \n\tA^{-1}=\\frac{1}{8}\\left[\\begin{matrix}1 & 4 & -11\\\\2 & 0 & 2\\\\-2 & -8 & 14\\end{matrix}\\right].$$"
     },
     "metadata": {},
     "output_type": "display_data"
    },
    {
     "name": "stdout",
     "output_type": "stream",
     "text": [
      "\u001B[32m*\u001B[0m\u001B[32m*\u001B[0m\u001B[32m*\u001B[0m\u001B[32m*\u001B[0m\u001B[32m*\u001B[0m\u001B[32m*\u001B[0m\u001B[32m*\u001B[0m\u001B[32m*\u001B[0m\u001B[32m*\u001B[0m\u001B[32m*\u001B[0m\u001B[32m*\u001B[0m\u001B[32m*\u001B[0m\u001B[32m*\u001B[0m\u001B[32m*\u001B[0m\u001B[32m*\u001B[0m\u001B[32m*\u001B[0m\u001B[32m*\u001B[0m\u001B[32m*\u001B[0m\u001B[32m*\u001B[0m\u001B[32m*\u001B[0m\u001B[32m*\u001B[0m\u001B[32m*\u001B[0m\u001B[32m*\u001B[0m\u001B[32m*\u001B[0m\u001B[32m*\u001B[0m\u001B[32m*\u001B[0m\u001B[32m*\u001B[0m\u001B[32m*\u001B[0m\u001B[32m*\u001B[0m\u001B[32m*\u001B[0m\u001B[32m*\u001B[0m\u001B[32m*\u001B[0m\u001B[32m*\u001B[0m\u001B[32m*\u001B[0m\u001B[32m*\u001B[0m\u001B[32m*\u001B[0m\u001B[32m*\u001B[0m\u001B[32m*\u001B[0m\u001B[32m*\u001B[0m\u001B[32m*\u001B[0m\u001B[32m*\u001B[0m\u001B[32m*\u001B[0m\u001B[32m*\u001B[0m\u001B[32m*\u001B[0m\u001B[32m*\u001B[0m\u001B[32m*\u001B[0m\u001B[32m*\u001B[0m\u001B[32m*\u001B[0m\u001B[32m*\u001B[0m\u001B[32m*\u001B[0m\u001B[32m*\u001B[0m\u001B[32m*\u001B[0m\u001B[32m*\u001B[0m\u001B[32m*\u001B[0m\u001B[32m*\u001B[0m\u001B[32m*\u001B[0m\u001B[32m*\u001B[0m\u001B[32m*\u001B[0m\u001B[32m*\u001B[0m\u001B[32m*\u001B[0m\u001B[32m*\u001B[0m\u001B[32m*\u001B[0m\u001B[32m*\u001B[0m\u001B[32m*\u001B[0m\u001B[32m*\u001B[0m\u001B[32m*\u001B[0m\u001B[32m*\u001B[0m\u001B[32m*\u001B[0m\u001B[32m*\u001B[0m\u001B[32m*\u001B[0m\u001B[32m*\u001B[0m\u001B[32m*\u001B[0m\u001B[32m*\u001B[0m\u001B[32m*\u001B[0m\u001B[32m*\u001B[0m\u001B[32m*\u001B[0m\u001B[32m*\u001B[0m\u001B[32m*\u001B[0m\u001B[32m*\u001B[0m\u001B[32m*\u001B[0m\n"
     ]
    },
    {
     "data": {
      "text/plain": [
       "<IPython.core.display.Markdown object>"
      ],
      "text/markdown": "2. Dla jakich rzeczywistych wartości parametru *x* macierz *A* posiada odwrotność?"
     },
     "metadata": {},
     "output_type": "display_data"
    },
    {
     "data": {
      "text/plain": [
       "<IPython.core.display.Latex object>"
      ],
      "text/latex": "\n\t\\[\n\t\t\\textnormal{A=}\\left[\\begin{matrix}2 & 4 & 1\\\\x - 2 & x + 1 & x - 1\\\\-2 & x + 2 & -1\\end{matrix}\\right]\n\t\\]\n"
     },
     "metadata": {},
     "output_type": "display_data"
    },
    {
     "data": {
      "text/plain": [
       "<IPython.core.display.Markdown object>"
      ],
      "text/markdown": "Wyznaczyć macierz odwrotną dla *x=-2.* "
     },
     "metadata": {},
     "output_type": "display_data"
    },
    {
     "data": {
      "text/plain": [
       "<IPython.core.display.Markdown object>"
      ],
      "text/markdown": "Rozwiązanie: "
     },
     "metadata": {},
     "output_type": "display_data"
    },
    {
     "data": {
      "text/plain": [
       "<IPython.core.display.Latex object>"
      ],
      "text/latex": "$$\\det A=- x^{2} - 6 x\\neq 0, \\quad \n\tx\\neq -6\\ \\textnormal{oraz} \\ x\\neq 0, $$"
     },
     "metadata": {},
     "output_type": "display_data"
    },
    {
     "data": {
      "text/plain": [
       "<IPython.core.display.Latex object>"
      ],
      "text/latex": "$$ A(-2)= \\left[\\begin{matrix}2 & 4 & 1\\\\-4 & -1 & -3\\\\-2 & 0 & -1\\end{matrix}\\right],\\ \n\t\\det A(-2)=8,\\ \n\tA^{-1}=\\frac{1}{8}\\left[\\begin{matrix}1 & 4 & -11\\\\2 & 0 & 2\\\\-2 & -8 & 14\\end{matrix}\\right].$$"
     },
     "metadata": {},
     "output_type": "display_data"
    },
    {
     "name": "stdout",
     "output_type": "stream",
     "text": [
      "\u001B[32m*\u001B[0m\u001B[32m*\u001B[0m\u001B[32m*\u001B[0m\u001B[32m*\u001B[0m\u001B[32m*\u001B[0m\u001B[32m*\u001B[0m\u001B[32m*\u001B[0m\u001B[32m*\u001B[0m\u001B[32m*\u001B[0m\u001B[32m*\u001B[0m\u001B[32m*\u001B[0m\u001B[32m*\u001B[0m\u001B[32m*\u001B[0m\u001B[32m*\u001B[0m\u001B[32m*\u001B[0m\u001B[32m*\u001B[0m\u001B[32m*\u001B[0m\u001B[32m*\u001B[0m\u001B[32m*\u001B[0m\u001B[32m*\u001B[0m\u001B[32m*\u001B[0m\u001B[32m*\u001B[0m\u001B[32m*\u001B[0m\u001B[32m*\u001B[0m\u001B[32m*\u001B[0m\u001B[32m*\u001B[0m\u001B[32m*\u001B[0m\u001B[32m*\u001B[0m\u001B[32m*\u001B[0m\u001B[32m*\u001B[0m\u001B[32m*\u001B[0m\u001B[32m*\u001B[0m\u001B[32m*\u001B[0m\u001B[32m*\u001B[0m\u001B[32m*\u001B[0m\u001B[32m*\u001B[0m\u001B[32m*\u001B[0m\u001B[32m*\u001B[0m\u001B[32m*\u001B[0m\u001B[32m*\u001B[0m\u001B[32m*\u001B[0m\u001B[32m*\u001B[0m\u001B[32m*\u001B[0m\u001B[32m*\u001B[0m\u001B[32m*\u001B[0m\u001B[32m*\u001B[0m\u001B[32m*\u001B[0m\u001B[32m*\u001B[0m\u001B[32m*\u001B[0m\u001B[32m*\u001B[0m\u001B[32m*\u001B[0m\u001B[32m*\u001B[0m\u001B[32m*\u001B[0m\u001B[32m*\u001B[0m\u001B[32m*\u001B[0m\u001B[32m*\u001B[0m\u001B[32m*\u001B[0m\u001B[32m*\u001B[0m\u001B[32m*\u001B[0m\u001B[32m*\u001B[0m\u001B[32m*\u001B[0m\u001B[32m*\u001B[0m\u001B[32m*\u001B[0m\u001B[32m*\u001B[0m\u001B[32m*\u001B[0m\u001B[32m*\u001B[0m\u001B[32m*\u001B[0m\u001B[32m*\u001B[0m\u001B[32m*\u001B[0m\u001B[32m*\u001B[0m\u001B[32m*\u001B[0m\u001B[32m*\u001B[0m\u001B[32m*\u001B[0m\u001B[32m*\u001B[0m\u001B[32m*\u001B[0m\u001B[32m*\u001B[0m\u001B[32m*\u001B[0m\u001B[32m*\u001B[0m\u001B[32m*\u001B[0m\u001B[32m*\u001B[0m\n"
     ]
    }
   ],
   "execution_count": 73
  }
 ],
 "metadata": {
  "kernelspec": {
   "display_name": "Python 3",
   "language": "python",
   "name": "python3"
  },
  "language_info": {
   "codemirror_mode": {
    "name": "ipython",
    "version": 2
   },
   "file_extension": ".py",
   "mimetype": "text/x-python",
   "name": "python",
   "nbconvert_exporter": "python",
   "pygments_lexer": "ipython2",
   "version": "2.7.6"
  }
 },
 "nbformat": 4,
 "nbformat_minor": 5
}
