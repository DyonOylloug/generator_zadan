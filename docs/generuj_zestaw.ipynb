{
 "cells": [
  {
   "metadata": {},
   "cell_type": "markdown",
   "source": "# Generuj zestaw zadań",
   "id": "e6685f821bf3b135"
  },
  {
   "metadata": {},
   "cell_type": "markdown",
   "source": [
    "```{admonition} Wskazówka\n",
    ":class: tip\n",
    "\n",
    "[![Binder](https://mybinder.org/badge_logo.svg)](https://mybinder.org/v2/gh/DyonOylloug/generator_zadan/HEAD?labpath=docs%2Fgeneruj_zestaw.ipynb) <- interaktywna sesja notebooka\n",
    "\n",
    "```"
   ],
   "id": "ca8a7b6043e294a0"
  },
  {
   "metadata": {
    "ExecuteTime": {
     "end_time": "2024-09-17T22:28:19.236039Z",
     "start_time": "2024-09-17T22:28:19.230335Z"
    }
   },
   "cell_type": "code",
   "source": [
    "import os\n",
    "import sys\n",
    "from random import choice\n",
    "\n",
    "import ipywidgets as widgets\n",
    "from IPython.display import display, Image, Markdown, Latex\n",
    "from pdf2image import convert_from_path\n",
    "\n",
    "import generator_zadan.generatory as gz\n",
    "\n",
    "print(gz.__version__)"
   ],
   "id": "e09fa3157fc76075",
   "outputs": [
    {
     "name": "stdout",
     "output_type": "stream",
     "text": [
      "0.2.1\n"
     ]
    }
   ],
   "execution_count": 4
  },
  {
   "metadata": {},
   "cell_type": "markdown",
   "source": [
    "---\n",
    "\n",
    "## Wybierz zadania\n"
   ],
   "id": "c7b6887d61c3d313"
  },
  {
   "metadata": {},
   "cell_type": "markdown",
   "source": [
    "```{admonition} Wskazówka\n",
    ":class: tip\n",
    "> - Można komórki uruchamiać wielokrotnie. Aż się trafi ciekawszy przykład.\n",
    "> - Można zmieniać parametry funkcji generujących.\n",
    "> - Zmień __`zadanie_nr`__ na odpowiednio rozróżnialne __`zadanie_1`__,  __`zadanie_2`__ itp.\n",
    "> - Te będą potem przekazywane do funkcji generującej zestaw.\n",
    "> - Na potrzeby dokumentacji na początku numery ustawione ma pierwszych pięć przykładów. \n",
    "\n",
    "```"
   ],
   "id": "92a5e20e31055a8b"
  },
  {
   "metadata": {},
   "cell_type": "markdown",
   "source": "### Liczby zespolone",
   "id": "200f7a6af031672a"
  },
  {
   "metadata": {},
   "cell_type": "markdown",
   "source": "####  Równanie liniowe",
   "id": "6d953d959dd85432"
  },
  {
   "metadata": {
    "tags": [
     "hide-input"
    ],
    "ExecuteTime": {
     "end_time": "2024-09-17T21:52:23.755838Z",
     "start_time": "2024-09-17T21:52:22.859214Z"
    }
   },
   "cell_type": "code",
   "source": [
    "zadanie = gz.rownanie_liniowe()\n",
    "print(f\"\\033[34m** Zadanie **\" + '*' * 82 + '\\033[0m')\n",
    "display(Markdown(zadanie[0].split('\\n')[0].replace('\\\\', '')))\n",
    "display(Latex('$$' + zadanie[0].split('\\n')[2] + '$$'))\n",
    "print(\"\\033[32m** Rozwiązanie **\" + '*' * 78 + '\\033[0m')\n",
    "display(Latex('$' + zadanie[1] + '$'))\n",
    "zadanie_1 = zadanie"
   ],
   "id": "5449b3729c720f05",
   "outputs": [
    {
     "name": "stdout",
     "output_type": "stream",
     "text": [
      "\u001B[34m** Zadanie ************************************************************************************\u001B[0m\n"
     ]
    },
    {
     "data": {
      "text/plain": [
       "<IPython.core.display.Markdown object>"
      ],
      "text/markdown": "Rozwiązać równanie w zbiorze liczb zespolonych. Sprawdzić rozwiązanie."
     },
     "metadata": {},
     "output_type": "display_data"
    },
    {
     "data": {
      "text/plain": [
       "<IPython.core.display.Latex object>"
      ],
      "text/latex": "$$\t\t\\left(3 + 8i\\right)z = 8 - 6i+\\left(6 + 7i\\right)z$$"
     },
     "metadata": {},
     "output_type": "display_data"
    },
    {
     "name": "stdout",
     "output_type": "stream",
     "text": [
      "\u001B[32m** Rozwiązanie ********************************************************************************\u001B[0m\n"
     ]
    },
    {
     "data": {
      "text/plain": [
       "<IPython.core.display.Latex object>"
      ],
      "text/latex": "$$z=-3 + i.$$"
     },
     "metadata": {},
     "output_type": "display_data"
    }
   ],
   "execution_count": 2
  },
  {
   "metadata": {},
   "cell_type": "markdown",
   "source": "####  Równanie kwadratowe",
   "id": "a2a3c96cb612544a"
  },
  {
   "metadata": {
    "tags": [
     "hide-input"
    ],
    "ExecuteTime": {
     "end_time": "2024-09-17T21:52:24.355171Z",
     "start_time": "2024-09-17T21:52:24.170664Z"
    }
   },
   "cell_type": "code",
   "source": [
    "zadanie = gz.rownanie_kwadratowe()\n",
    "print(f\"\\033[34m** Zadanie **\" + '*' * 82 + '\\033[0m')\n",
    "display(Markdown(zadanie[0].split('\\n')[0].replace('\\\\', '')))\n",
    "display(Latex('$$' + zadanie[0].split('\\n')[2] + '$$'))\n",
    "print(\"\\033[32m** Rozwiązanie **\" + '*' * 78 + '\\033[0m')\n",
    "display(Latex('$' + zadanie[1] + '$'))\n",
    "zadanie_2 = zadanie"
   ],
   "id": "63ea204b35f34245",
   "outputs": [
    {
     "name": "stdout",
     "output_type": "stream",
     "text": [
      "\u001B[34m** Zadanie ************************************************************************************\u001B[0m\n"
     ]
    },
    {
     "data": {
      "text/plain": [
       "<IPython.core.display.Markdown object>"
      ],
      "text/markdown": "Rozwiązać równanie w zbiorze liczb zespolonych. Sprawdzić jedno z rozwiązań."
     },
     "metadata": {},
     "output_type": "display_data"
    },
    {
     "data": {
      "text/plain": [
       "<IPython.core.display.Latex object>"
      ],
      "text/latex": "$$\t\t\\left(1 + 2 i\\right)z^2 + \\left(-5 + 10 i\\right) z + \\left(-14 + 2 i\\right)=0$$"
     },
     "metadata": {},
     "output_type": "display_data"
    },
    {
     "name": "stdout",
     "output_type": "stream",
     "text": [
      "\u001B[32m** Rozwiązanie ********************************************************************************\u001B[0m\n"
     ]
    },
    {
     "data": {
      "text/plain": [
       "<IPython.core.display.Latex object>"
      ],
      "text/latex": "$$\\Delta = -3+4i, \\quad \\sqrt{\\Delta}=\\pm( 1 + 2 i), \\quad z_{1}=-2 - 2 i, \\quad z_{2}=-1 - 2 i$$"
     },
     "metadata": {},
     "output_type": "display_data"
    }
   ],
   "execution_count": 3
  },
  {
   "metadata": {},
   "cell_type": "markdown",
   "source": "####  Pierwiastek zespolony",
   "id": "33923be2cec66dd9"
  },
  {
   "metadata": {
    "tags": [
     "hide-input"
    ],
    "ExecuteTime": {
     "end_time": "2024-09-17T21:52:24.676900Z",
     "start_time": "2024-09-17T21:52:24.628790Z"
    }
   },
   "cell_type": "code",
   "source": [
    "zadanie = gz.pierwiastek_zespolony(stopien=choice([3, 4]))\n",
    "print(f\"\\033[34m** Zadanie **\" + '*' * 82 + '\\033[0m')\n",
    "display(Markdown(zadanie[0].split('\\n')[0].replace('\\\\', '')))\n",
    "display(Latex('$$' + zadanie[0].split('\\n')[2] + '$$'))\n",
    "print(\"\\033[32m** Rozwiązanie **\" + '*' * 78 + '\\033[0m')\n",
    "display(Latex('$' + zadanie[1] + '$'))\n",
    "zadanie_3 = zadanie"
   ],
   "id": "9474837fa71f3d66",
   "outputs": [
    {
     "name": "stdout",
     "output_type": "stream",
     "text": [
      "\u001B[34m** Zadanie ************************************************************************************\u001B[0m\n"
     ]
    },
    {
     "data": {
      "text/plain": [
       "<IPython.core.display.Markdown object>"
      ],
      "text/markdown": "Wyznaczyć wszystkie zadane pierwiastki zespolone i zaznaczyć je na płaszczyźnie zespolonej"
     },
     "metadata": {},
     "output_type": "display_data"
    },
    {
     "data": {
      "text/plain": [
       "<IPython.core.display.Latex object>"
      ],
      "text/latex": "$$\t\t\\sqrt[\\leftroot{2}\\uproot{-4} \\displaystyle ^{4}]{\\left(\\frac{4}{9} + \\frac{8 \\sqrt{2} i}{9} \\right) \\left(-1 + 2 \\sqrt{2} i \\right)}$$"
     },
     "metadata": {},
     "output_type": "display_data"
    },
    {
     "name": "stdout",
     "output_type": "stream",
     "text": [
      "\u001B[32m** Rozwiązanie ********************************************************************************\u001B[0m\n"
     ]
    },
    {
     "data": {
      "text/plain": [
       "<IPython.core.display.Latex object>"
      ],
      "text/latex": "$$\\sqrt[\\leftroot{2}\\uproot{-4} \\displaystyle ^{4}]{-4} = \\left\\{ -1 - i, \\  -1 + i, \\  1 - i, \\  1 + i\\right\\}.$$"
     },
     "metadata": {},
     "output_type": "display_data"
    }
   ],
   "execution_count": 4
  },
  {
   "metadata": {},
   "cell_type": "markdown",
   "source": "####  Równanie zespolone ze sprzężeniem",
   "id": "fafbf5e0aaf89dd3"
  },
  {
   "metadata": {
    "tags": [
     "hide-input"
    ],
    "ExecuteTime": {
     "end_time": "2024-09-17T21:52:25.595247Z",
     "start_time": "2024-09-17T21:52:25.015070Z"
    }
   },
   "cell_type": "code",
   "source": [
    "zadanie = gz.rownanie_ze_sprzezeniem(calkowite=choice([False, True]), kwadratowe=choice([False, True]))\n",
    "print(f\"\\033[34m** Zadanie **\" + '*' * 82 + '\\033[0m')\n",
    "display(Markdown(zadanie[0].split('\\n')[0].replace('\\\\', '')))\n",
    "display(Latex('$$' + zadanie[0].split('\\n')[2] + '$$'))\n",
    "print(\"\\033[32m** Rozwiązanie **\" + '*' * 78 + '\\033[0m')\n",
    "rozwiazanie = zadanie[1].replace('$ \\\\\\\\ \\n$', ' $ ').replace('$\\\\\\\\\\n$', ' $ ').replace('$ \\\\\\\\\\n$', ' $ ').split('$')\n",
    "for i in range(1, len(rozwiazanie) - 1):\n",
    "    display(Latex('$$' + rozwiazanie[i] + '$$'))\n",
    "zadanie_4 = zadanie"
   ],
   "id": "fed64507b29eaad3",
   "outputs": [
    {
     "name": "stdout",
     "output_type": "stream",
     "text": [
      "\u001B[34m** Zadanie ************************************************************************************\u001B[0m\n"
     ]
    },
    {
     "data": {
      "text/plain": [
       "<IPython.core.display.Markdown object>"
      ],
      "text/markdown": "Rozwiązać równanie w zbiorze liczb zespolonych"
     },
     "metadata": {},
     "output_type": "display_data"
    },
    {
     "data": {
      "text/plain": [
       "<IPython.core.display.Latex object>"
      ],
      "text/latex": "$$\t\tz^{2} - \\overline{z} - 6 = 0$$"
     },
     "metadata": {},
     "output_type": "display_data"
    },
    {
     "name": "stdout",
     "output_type": "stream",
     "text": [
      "\u001B[32m** Rozwiązanie ********************************************************************************\u001B[0m\n"
     ]
    },
    {
     "data": {
      "text/plain": [
       "<IPython.core.display.Latex object>"
      ],
      "text/latex": "$$- x + i y + \\left(x + i y\\right)^{2} - 6 = 0, $$"
     },
     "metadata": {},
     "output_type": "display_data"
    },
    {
     "data": {
      "text/plain": [
       "<IPython.core.display.Latex object>"
      ],
      "text/latex": "$$ x^{2} + 2 i x y - x - y^{2} + i y - 6 = 0, $$"
     },
     "metadata": {},
     "output_type": "display_data"
    },
    {
     "data": {
      "text/plain": [
       "<IPython.core.display.Latex object>"
      ],
      "text/latex": "$$ \\left\\{\n\t\\begin{array}{c}\n\t\tx^{2} - x - y^{2} - 6 = 0\\\\\n\t\t2 x y + y = 0\n\t\\end{array}\n\\right. $$"
     },
     "metadata": {},
     "output_type": "display_data"
    },
    {
     "data": {
      "text/plain": [
       "<IPython.core.display.Latex object>"
      ],
      "text/latex": "$$ z = \\left[ \\left\\{ x : -2, \\  y : 0\\right\\}, \\  \\left\\{ x : 3, \\  y : 0\\right\\}\\right].$$"
     },
     "metadata": {},
     "output_type": "display_data"
    }
   ],
   "execution_count": 5
  },
  {
   "metadata": {},
   "cell_type": "markdown",
   "source": "####  Obszar zespolony",
   "id": "ca38ed1076be1123"
  },
  {
   "metadata": {
    "tags": [
     "hide-input"
    ],
    "ExecuteTime": {
     "end_time": "2024-09-17T21:52:26.414504Z",
     "start_time": "2024-09-17T21:52:25.897745Z"
    }
   },
   "cell_type": "code",
   "source": [
    "zadanie = gz.obszar_zespolony(typ=choice([1, 2, 3, 4, 5]), nr_zadania=0)\n",
    "print(f\"\\033[34m** Zadanie **\" + '*' * 82 + '\\033[0m')\n",
    "display(Markdown(zadanie[0].split('\\n')[0].replace('\\\\', '')))\n",
    "display(Latex('$$' + zadanie[0].split('\\[')[1].split('\\]')[0] + '$$'))\n",
    "print(\"\\033[32m** Rozwiązanie **\" + '*' * 78 + '\\033[0m')\n",
    "display(Latex('$$\\\\begin{gather*}' + zadanie[1].split('{gather*}')[1] + '{gather*}$$'))\n",
    "display(Markdown(f'![](./pics//obszar0.png)'))\n",
    "zadanie_5 = zadanie"
   ],
   "id": "ce45879c406a855",
   "outputs": [
    {
     "name": "stdout",
     "output_type": "stream",
     "text": [
      "\u001B[34m** Zadanie ************************************************************************************\u001B[0m\n"
     ]
    },
    {
     "data": {
      "text/plain": [
       "<IPython.core.display.Markdown object>"
      ],
      "text/markdown": "Zaznaczyć na płaszczyźnie zespolonej obszar spełniający warunek"
     },
     "metadata": {},
     "output_type": "display_data"
    },
    {
     "data": {
      "text/plain": [
       "<IPython.core.display.Latex object>"
      ],
      "text/latex": "$$\n\t\t\\left|z+2 - 3 i\\right|  =  \\frac{3}{2}\n\t$$"
     },
     "metadata": {},
     "output_type": "display_data"
    },
    {
     "name": "stdout",
     "output_type": "stream",
     "text": [
      "\u001B[32m** Rozwiązanie ********************************************************************************\u001B[0m\n"
     ]
    },
    {
     "data": {
      "text/plain": [
       "<IPython.core.display.Latex object>"
      ],
      "text/latex": "$$\\begin{gather*}\n\t\t\\left(x + 2\\right)^{2} + \\left(y - 3\\right)^{2} = \\frac{9}{4}\n\t\\end{gather*}$$"
     },
     "metadata": {},
     "output_type": "display_data"
    },
    {
     "data": {
      "text/plain": [
       "<IPython.core.display.Markdown object>"
      ],
      "text/markdown": "![](./pics//obszar0.png)"
     },
     "metadata": {},
     "output_type": "display_data"
    }
   ],
   "execution_count": 6
  },
  {
   "metadata": {},
   "cell_type": "markdown",
   "source": "### Macierze",
   "id": "6e3dd4a5c695230a"
  },
  {
   "metadata": {},
   "cell_type": "markdown",
   "source": "####  Równanie macierzowe",
   "id": "32759ff628403709"
  },
  {
   "metadata": {
    "tags": [
     "hide-input"
    ],
    "ExecuteTime": {
     "end_time": "2024-09-17T21:52:26.760290Z",
     "start_time": "2024-09-17T21:52:26.726702Z"
    }
   },
   "cell_type": "code",
   "source": [
    "print(\"\\033[34m** Zadanie **\" + '*' * 81 + '\\033[0m')\n",
    "zadanie = gz.rownanie_macierzowe()\n",
    "display(Markdown(zadanie[0].split(':')[0]))\n",
    "display(Latex(zadanie[0].split(':')[1]))\n",
    "print(\"\\033[32m** Rozwiązanie **\" + '*' * 78 + '\\033[0m')\n",
    "display(Latex(zadanie[1].replace('$ \\\\\\\\ \\n\\t$', ',\\\\quad ').replace('$', '$$')))\n",
    "zadanie_nr = zadanie"
   ],
   "id": "b1c732f6ba6212e9",
   "outputs": [
    {
     "name": "stdout",
     "output_type": "stream",
     "text": [
      "\u001B[34m** Zadanie ***********************************************************************************\u001B[0m\n"
     ]
    },
    {
     "data": {
      "text/plain": [
       "<IPython.core.display.Markdown object>"
      ],
      "text/markdown": "Rozwiązać równanie"
     },
     "metadata": {},
     "output_type": "display_data"
    },
    {
     "data": {
      "text/plain": [
       "<IPython.core.display.Latex object>"
      ],
      "text/latex": "\n\t\\[\n\t\t\\left[\\begin{matrix}0 & 1 & 1 & 2 & 2\\\\-1 & 1 & 0 & -1 & 2\\end{matrix}\\right]\\cdot \n\t\t\\left[\\begin{matrix}-2 & 1 & -2 & 1 & -1\\\\1 & -2 & -2 & -1 & -2\\end{matrix}\\right]^T + \n\t\t2X=\n\t\t\\left[\\begin{matrix}0 & -1\\\\0 & 0\\\\0 & 1\\\\-1 & 0\\\\2 & 1\\end{matrix}\\right]^T \\cdot\n\t\t\\left[\\begin{matrix}-1 & -2\\\\-2 & -1\\\\-2 & 0\\\\0 & -2\\\\0 & -2\\end{matrix}\\right] \\cdot X\n\t\\]"
     },
     "metadata": {},
     "output_type": "display_data"
    },
    {
     "name": "stdout",
     "output_type": "stream",
     "text": [
      "\u001B[32m** Rozwiązanie ********************************************************************************\u001B[0m\n"
     ]
    },
    {
     "data": {
      "text/plain": [
       "<IPython.core.display.Latex object>"
      ],
      "text/latex": "$$ \\left[\\begin{matrix}-1 & -10\\\\0 & -6\\end{matrix}\\right] + \n\t2X=\n\t\\left[\\begin{matrix}0 & -2\\\\-1 & 0\\end{matrix}\\right] \\cdot X, \\quad \n\t\\left[\\begin{matrix}-1 & -10\\\\0 & -6\\end{matrix}\\right] = \n\t\\left[\\begin{matrix}-2 & -2\\\\-1 & -2\\end{matrix}\\right] \\cdot X ,\\quad X=\\frac{1}{2}\\left[\\begin{matrix}2 & 8\\\\-1 & 2\\end{matrix}\\right].$$"
     },
     "metadata": {},
     "output_type": "display_data"
    }
   ],
   "execution_count": 7
  },
  {
   "metadata": {},
   "cell_type": "markdown",
   "source": "#### Wyznacznik z parametrem",
   "id": "ae175fbb12e39851"
  },
  {
   "metadata": {
    "tags": [
     "hide-input"
    ],
    "ExecuteTime": {
     "end_time": "2024-09-17T21:52:27.195351Z",
     "start_time": "2024-09-17T21:52:27.164355Z"
    }
   },
   "cell_type": "code",
   "source": [
    "zadanie = gz.wyznacznik_parametr(wymiar=choice([2, 3, 4]), gotowiec=True)\n",
    "print(f\"\\033[34m** Zadanie **\" + '*' * 82 + '\\033[0m')\n",
    "display(Markdown(zadanie[0][:91].replace('\\\\ ', ' ').replace('$', '*')))\n",
    "display(Latex(zadanie[0][91:]))\n",
    "print(\"\\033[32m** Rozwiązanie **\" + '*' * 78 + '\\033[0m')\n",
    "display(Latex(zadanie[1].replace('$ \\\\\\\\ \\n\\t$', ',\\\\quad ').replace('$', '$$')))\n",
    "zadanie_nr = zadanie"
   ],
   "id": "d31f4b2d63b140d9",
   "outputs": [
    {
     "name": "stdout",
     "output_type": "stream",
     "text": [
      "\u001B[34m** Zadanie ************************************************************************************\u001B[0m\n"
     ]
    },
    {
     "data": {
      "text/plain": [
       "<IPython.core.display.Markdown object>"
      ],
      "text/markdown": "Dla jakich rzeczywistych wartości parametru *x* wyznacznik macierzy *A* jest różny od zera?"
     },
     "metadata": {},
     "output_type": "display_data"
    },
    {
     "data": {
      "text/plain": [
       "<IPython.core.display.Latex object>"
      ],
      "text/latex": "\n\t\\[\n\t\t\\textnormal{A=}\n\t\t\\left[\\begin{matrix}x - 3 & -2 & 1\\\\x - 1 & -2 & 3\\\\0 & x - 4 & x - 4\\end{matrix}\\right]\n\t\\]"
     },
     "metadata": {},
     "output_type": "display_data"
    },
    {
     "name": "stdout",
     "output_type": "stream",
     "text": [
      "\u001B[32m** Rozwiązanie ********************************************************************************\u001B[0m\n"
     ]
    },
    {
     "data": {
      "text/plain": [
       "<IPython.core.display.Latex object>"
      ],
      "text/latex": "$$\\det A=- 2 x^{2} + 20 x - 48 \\neq 0, \\quad x\\neq 4, \\ x\\neq 6, \\ $$"
     },
     "metadata": {},
     "output_type": "display_data"
    }
   ],
   "execution_count": 8
  },
  {
   "metadata": {},
   "cell_type": "markdown",
   "source": "#### Macierz odwrotna z parametrem",
   "id": "1b8029e290f37927"
  },
  {
   "metadata": {
    "tags": [
     "hide-input"
    ],
    "ExecuteTime": {
     "end_time": "2024-09-17T21:52:27.659230Z",
     "start_time": "2024-09-17T21:52:27.612731Z"
    }
   },
   "cell_type": "code",
   "source": [
    "zadanie = gz.macierz_odwrotna_parametr(wymiar=choice([2, 3, 4]), gotowiec=True)\n",
    "print(f\"\\033[34m** Zadanie **\" + '*' * 82 + '\\033[0m')\n",
    "display(Markdown(zadanie[0][:79].replace('$', '*')))\n",
    "display(Latex(zadanie[0][79:].split('W')[0]))\n",
    "display(Markdown('W' + zadanie[0][79:].split('W')[1].replace('$', '*')))\n",
    "print(\"\\033[32m** Rozwiązanie **\" + '*' * 78 + '\\033[0m')\n",
    "rozwiazanie = zadanie[1].replace('$\\\\\\\\\\n\\t$', ' $ ').split('$')\n",
    "for i in range(1, len(rozwiazanie) - 1):\n",
    "    display(Latex('$$' + rozwiazanie[i] + '$$'))\n",
    "zadanie_nr = zadanie"
   ],
   "id": "e71af03aa056326b",
   "outputs": [
    {
     "name": "stdout",
     "output_type": "stream",
     "text": [
      "\u001B[34m** Zadanie ************************************************************************************\u001B[0m\n"
     ]
    },
    {
     "data": {
      "text/plain": [
       "<IPython.core.display.Markdown object>"
      ],
      "text/markdown": "Dla jakich rzeczywistych wartości parametru *x* macierz *A* posiada odwrotność?"
     },
     "metadata": {},
     "output_type": "display_data"
    },
    {
     "data": {
      "text/plain": [
       "<IPython.core.display.Latex object>"
      ],
      "text/latex": "\n\t\\[\n\t\t\\textnormal{A=}\\left[\\begin{matrix}2 & -1 & -1 & 0\\\\-1 & -1 & 3 & 3\\\\x - 2 & 2 & 2 & x + 2\\\\-3 & -3 & x + 1 & x + 1\\end{matrix}\\right]\n\t\\]\n"
     },
     "metadata": {},
     "output_type": "display_data"
    },
    {
     "data": {
      "text/plain": [
       "<IPython.core.display.Markdown object>"
      ],
      "text/markdown": "Wyznaczyć macierz odwrotną dla *x=3.* "
     },
     "metadata": {},
     "output_type": "display_data"
    },
    {
     "name": "stdout",
     "output_type": "stream",
     "text": [
      "\u001B[32m** Rozwiązanie ********************************************************************************\u001B[0m\n"
     ]
    },
    {
     "data": {
      "text/plain": [
       "<IPython.core.display.Latex object>"
      ],
      "text/latex": "$$\\det A=2 x^{2} - 12 x - 32\\neq 0, \\quad \n\tx\\neq -2\\ \\textnormal{oraz} \\ x\\neq 8, $$"
     },
     "metadata": {},
     "output_type": "display_data"
    },
    {
     "data": {
      "text/plain": [
       "<IPython.core.display.Latex object>"
      ],
      "text/latex": "$$ A(3)= \\left[\\begin{matrix}2 & -1 & -1 & 0\\\\-1 & -1 & 3 & 3\\\\1 & 2 & 2 & 5\\\\-3 & -3 & 4 & 4\\end{matrix}\\right],\\ \n\t\\det A(3)=-50,\\ \n\tA^{-1}=- \\frac{1}{50}\\left[\\begin{matrix}-15 & -35 & 5 & 20\\\\15 & -5 & -5 & 10\\\\5 & -65 & 15 & 30\\\\-5 & 35 & -15 & -20\\end{matrix}\\right].$$"
     },
     "metadata": {},
     "output_type": "display_data"
    }
   ],
   "execution_count": 9
  },
  {
   "metadata": {},
   "cell_type": "markdown",
   "source": "#### Wektor własne",
   "id": "3010127a4d59e647"
  },
  {
   "metadata": {
    "tags": [
     "hide-input"
    ],
    "ExecuteTime": {
     "end_time": "2024-09-17T21:52:28.090745Z",
     "start_time": "2024-09-17T21:52:28.051397Z"
    }
   },
   "cell_type": "code",
   "source": [
    "zadanie = gz.wartosci_wlasne(wymiar=choice([2, 3, 4]), zespolone=choice([False, True]))\n",
    "print(f\"\\033[34m** Zadanie **\" + '*' * 82 + '\\033[0m')\n",
    "display(Markdown(zadanie[0][:51]))\n",
    "display(Latex(zadanie[0][51:]))\n",
    "print(\"\\033[32m** Rozwiązanie **\" + '*' * 78 + '\\033[0m')\n",
    "display(Latex(zadanie[1].split(', \\quad')[0].replace(\"$\", \"$$\")))\n",
    "display(Markdown(\"Wartości własne\"))\n",
    "display(Latex(\"$$\" + (zadanie[1].split(', \\quad')[1]).split(\"$\")[1] + \"$$\"))\n",
    "display(Markdown(\"Wektory własne\"))\n",
    "display(Latex(\"$$\" + (zadanie[1].split(', \\quad')[1]).split(\"$\")[3] + \"$$\"))\n",
    "zadanie_nr = zadanie"
   ],
   "id": "b56c24c55e327704",
   "outputs": [
    {
     "name": "stdout",
     "output_type": "stream",
     "text": [
      "\u001B[34m** Zadanie ************************************************************************************\u001B[0m\n"
     ]
    },
    {
     "data": {
      "text/plain": [
       "<IPython.core.display.Markdown object>"
      ],
      "text/markdown": "Wyznaczyć wartości własne i wektory własne macierzy"
     },
     "metadata": {},
     "output_type": "display_data"
    },
    {
     "data": {
      "text/plain": [
       "<IPython.core.display.Latex object>"
      ],
      "text/latex": " \n\t\\[\n\t\t\\textnormal{A=} \\left[\\begin{matrix}-2 & -1\\\\3 & 1\\end{matrix}\\right]\n\t\\]"
     },
     "metadata": {},
     "output_type": "display_data"
    },
    {
     "name": "stdout",
     "output_type": "stream",
     "text": [
      "\u001B[32m** Rozwiązanie ********************************************************************************\u001B[0m\n"
     ]
    },
    {
     "data": {
      "text/plain": [
       "<IPython.core.display.Latex object>"
      ],
      "text/latex": "$$\\det\\left(\\lambda \\mathbb{I} - A \\right) = \\lambda^{2} + \\lambda + 1$$"
     },
     "metadata": {},
     "output_type": "display_data"
    },
    {
     "data": {
      "text/plain": [
       "<IPython.core.display.Markdown object>"
      ],
      "text/markdown": "Wartości własne"
     },
     "metadata": {},
     "output_type": "display_data"
    },
    {
     "data": {
      "text/plain": [
       "<IPython.core.display.Latex object>"
      ],
      "text/latex": "$$ \\left\\{ - \\frac{1}{2} - \\frac{\\sqrt{3} i}{2} : 1, \\  - \\frac{1}{2} + \\frac{\\sqrt{3} i}{2} : 1\\right\\}, $$"
     },
     "metadata": {},
     "output_type": "display_data"
    },
    {
     "data": {
      "text/plain": [
       "<IPython.core.display.Markdown object>"
      ],
      "text/markdown": "Wektory własne"
     },
     "metadata": {},
     "output_type": "display_data"
    },
    {
     "data": {
      "text/plain": [
       "<IPython.core.display.Latex object>"
      ],
      "text/latex": "$$\\left[ \\left( - \\frac{1}{2} - \\frac{\\sqrt{3} i}{2}, \\  1, \\  \\left[ \\left[\\begin{matrix}- \\frac{1}{2} - \\frac{\\sqrt{3} i}{6}\\\\1\\end{matrix}\\right]\\right]\\right), \\  \\left( - \\frac{1}{2} + \\frac{\\sqrt{3} i}{2}, \\  1, \\  \\left[ \\left[\\begin{matrix}- \\frac{1}{2} + \\frac{\\sqrt{3} i}{6}\\\\1\\end{matrix}\\right]\\right]\\right)\\right]$$"
     },
     "metadata": {},
     "output_type": "display_data"
    }
   ],
   "execution_count": 10
  },
  {
   "metadata": {},
   "cell_type": "markdown",
   "source": "####  Rząd macierzy",
   "id": "9a2a41aa10ace55f"
  },
  {
   "metadata": {
    "tags": [
     "hide-input"
    ],
    "ExecuteTime": {
     "end_time": "2024-09-17T21:52:29.591745Z",
     "start_time": "2024-09-17T21:52:28.588976Z"
    }
   },
   "cell_type": "code",
   "source": [
    "zadanie = gz.rzad_macierzy()\n",
    "print(f\"\\033[34m** Zadanie **\" + '*' * 82 + '\\033[0m')\n",
    "display(Markdown(zadanie[0][:25].replace('A', '*A*')))\n",
    "display(Latex(zadanie[0][25:]))\n",
    "print(\"\\033[32m** Rozwiązanie **\" + '*' * 78 + '\\033[0m')\n",
    "display(Latex(zadanie[1].replace(\"$\", \"$$\")))\n",
    "zadanie_nr = zadanie"
   ],
   "id": "e28efaa57ef234ba",
   "outputs": [
    {
     "name": "stdout",
     "output_type": "stream",
     "text": [
      "\u001B[34m** Zadanie ************************************************************************************\u001B[0m\n"
     ]
    },
    {
     "data": {
      "text/plain": [
       "<IPython.core.display.Markdown object>"
      ],
      "text/markdown": "Wyznaczyć rząd macierzy *A*"
     },
     "metadata": {},
     "output_type": "display_data"
    },
    {
     "data": {
      "text/plain": [
       "<IPython.core.display.Latex object>"
      ],
      "text/latex": "\n\t\\[\n\t\t\\textnormal{A=} \\left[\\begin{matrix}2 & -2 & 1 & 2 & 0 & 0\\\\-2 & -2 & -1 & -2 & -1 & 2\\\\-2 & 2 & 0 & 1 & 0 & 2\\\\-2 & 2 & 0 & 1 & 0 & 2\\end{matrix}\\right]\n\t\\]"
     },
     "metadata": {},
     "output_type": "display_data"
    },
    {
     "name": "stdout",
     "output_type": "stream",
     "text": [
      "\u001B[32m** Rozwiązanie ********************************************************************************\u001B[0m\n"
     ]
    },
    {
     "data": {
      "text/plain": [
       "<IPython.core.display.Latex object>"
      ],
      "text/latex": "$$R(A)= 3$$"
     },
     "metadata": {},
     "output_type": "display_data"
    }
   ],
   "execution_count": 11
  },
  {
   "metadata": {},
   "cell_type": "markdown",
   "source": "#### Diagonalizacja macierzy",
   "id": "3cbe73968108312b"
  },
  {
   "metadata": {
    "tags": [
     "hide-input"
    ],
    "ExecuteTime": {
     "end_time": "2024-09-17T21:52:29.979822Z",
     "start_time": "2024-09-17T21:52:29.838241Z"
    }
   },
   "cell_type": "code",
   "source": [
    "zadanie = gz.diagonalizacja_macierzy(choice([2, 3, 4]))\n",
    "print(f\"\\033[34m** Zadanie **\" + '*' * 82 + '\\033[0m')\n",
    "display(Markdown(zadanie[0][:53]))\n",
    "display(Latex(zadanie[0][53:]))\n",
    "print(\"\\033[32m** Rozwiązanie **\" + '*' * 78 + '\\033[0m')\n",
    "display(Latex(zadanie[1].split(', \\quad')[0].replace(\"$\", \"$$\")))\n",
    "display(Markdown(\"Wartości własne\"))\n",
    "display(Latex(\"$$\" + (zadanie[1].split(', \\quad')[1]).split(\"$\")[1] + \"$$\"))\n",
    "display(Markdown(\"Wektory własne\"))\n",
    "display(Latex(\"$$\" + (zadanie[1].split(', \\quad')[1]).split(\"$\")[3] + \"$$\"))\n",
    "display(Markdown(\"Diagonalizacja:\"))\n",
    "try:\n",
    "    display(Latex(\"$$\" + (zadanie[1].split(', \\quad')[1]).split(\"$\")[5]\n",
    "                  + '\\quad ' + (zadanie[1].split(', \\quad')[1]).split(\"$\")[7] + \"$$\"))\n",
    "except Exception:\n",
    "    display(Markdown(\"Macierz nie jest diagonalizowalna\"))\n",
    "zadanie_nr = zadanie"
   ],
   "id": "6131594766ee9356",
   "outputs": [
    {
     "name": "stdout",
     "output_type": "stream",
     "text": [
      "\u001B[34m** Zadanie ************************************************************************************\u001B[0m\n"
     ]
    },
    {
     "data": {
      "text/plain": [
       "<IPython.core.display.Markdown object>"
      ],
      "text/markdown": "Przeprowadzić diagonalizację macierzy (jeśli możliwa)"
     },
     "metadata": {},
     "output_type": "display_data"
    },
    {
     "data": {
      "text/plain": [
       "<IPython.core.display.Latex object>"
      ],
      "text/latex": " \n\t\\[\n\t\t\\textnormal{A=} \\left[\\begin{matrix}-1 & -2 & 0 & 0\\\\1 & -2 & 0 & 2\\\\-1 & -2 & 1 & -2\\\\1 & 2 & 0 & 0\\end{matrix}\\right]\n\t\\]"
     },
     "metadata": {},
     "output_type": "display_data"
    },
    {
     "name": "stdout",
     "output_type": "stream",
     "text": [
      "\u001B[32m** Rozwiązanie ********************************************************************************\u001B[0m\n"
     ]
    },
    {
     "data": {
      "text/plain": [
       "<IPython.core.display.Latex object>"
      ],
      "text/latex": "$$\\det\\left(\\lambda \\mathbb{I} - A \\right) = \\lambda^{4} + 2 \\lambda^{3} - 3 \\lambda^{2}$$"
     },
     "metadata": {},
     "output_type": "display_data"
    },
    {
     "data": {
      "text/plain": [
       "<IPython.core.display.Markdown object>"
      ],
      "text/markdown": "Wartości własne"
     },
     "metadata": {},
     "output_type": "display_data"
    },
    {
     "data": {
      "text/plain": [
       "<IPython.core.display.Latex object>"
      ],
      "text/latex": "$$ \\left\\{ -3 : 1, \\  0 : 2, \\  1 : 1\\right\\}, $$"
     },
     "metadata": {},
     "output_type": "display_data"
    },
    {
     "data": {
      "text/plain": [
       "<IPython.core.display.Markdown object>"
      ],
      "text/markdown": "Wektory własne"
     },
     "metadata": {},
     "output_type": "display_data"
    },
    {
     "data": {
      "text/plain": [
       "<IPython.core.display.Latex object>"
      ],
      "text/latex": "$$\\left[ \\left( -3, \\  1, \\  \\left[ \\left[\\begin{matrix}-1\\\\-1\\\\- \\frac{1}{4}\\\\1\\end{matrix}\\right]\\right]\\right), \\  \\left( 0, \\  2, \\  \\left[ \\left[\\begin{matrix}-1\\\\\\frac{1}{2}\\\\2\\\\1\\end{matrix}\\right]\\right]\\right), \\  \\left( 1, \\  1, \\  \\left[ \\left[\\begin{matrix}0\\\\0\\\\1\\\\0\\end{matrix}\\right]\\right]\\right)\\right]$$"
     },
     "metadata": {},
     "output_type": "display_data"
    },
    {
     "data": {
      "text/plain": [
       "<IPython.core.display.Markdown object>"
      ],
      "text/markdown": "Diagonalizacja:"
     },
     "metadata": {},
     "output_type": "display_data"
    },
    {
     "data": {
      "text/plain": [
       "<IPython.core.display.Markdown object>"
      ],
      "text/markdown": "Macierz nie jest diagonalizowalna"
     },
     "metadata": {},
     "output_type": "display_data"
    }
   ],
   "execution_count": 12
  },
  {
   "metadata": {},
   "cell_type": "markdown",
   "source": "#### Diagonalizacja z wielokrotnymi wartościami własnymi ",
   "id": "1131aa71c7f9c14"
  },
  {
   "metadata": {
    "tags": [
     "hide-input"
    ],
    "ExecuteTime": {
     "end_time": "2024-09-17T21:52:31.246443Z",
     "start_time": "2024-09-17T21:52:30.392047Z"
    }
   },
   "cell_type": "code",
   "source": [
    "zadanie = gz.diagonalizacja_macierzy_z_wielokrotnym_wartosciami_wlasnymi(choice([2, 3, 4]))\n",
    "print(f\"\\033[34m** Zadanie **\" + '*' * 82 + '\\033[0m')\n",
    "display(Markdown(zadanie[0][:39]))\n",
    "display(Latex(zadanie[0][39:]))\n",
    "print(\"\\033[34m*\\033[0m\" * 95)\n",
    "print(\"\\033[32m** Rozwiązanie **\" + '*' * 78 + '\\033[0m')\n",
    "display(Latex(zadanie[1].split(', \\quad')[0].replace(\"$\", \"$$\")))\n",
    "display(Markdown(\"Wartości własne\"))\n",
    "display(Latex(\"$$\" + (zadanie[1].split(', \\quad')[1]).split(\"$\")[1] + \"$$\"))\n",
    "display(Markdown(\"Wektory własne\"))\n",
    "display(Latex(\"$$\" + (zadanie[1].split(', \\quad')[1]).split(\"$\")[3] + \"$$\"))\n",
    "display(Markdown(\"Diagonalizacja:\"))\n",
    "try:\n",
    "    display(Latex(\"$$\" + (zadanie[1].split(', \\quad')[1]).split(\"$\")[5]\n",
    "                  + '\\quad ' + (zadanie[1].split(', \\quad')[1]).split(\"$\")[7] + \"$$\"))\n",
    "except Exception:\n",
    "    display(Markdown(\"Macierz nie jest diagonalizowalna\"))\n",
    "zadanie_nr = zadanie"
   ],
   "id": "7a582c07dd4eb72",
   "outputs": [
    {
     "name": "stdout",
     "output_type": "stream",
     "text": [
      "\u001B[34m** Zadanie ************************************************************************************\u001B[0m\n"
     ]
    },
    {
     "data": {
      "text/plain": [
       "<IPython.core.display.Markdown object>"
      ],
      "text/markdown": "Przeprowadzić diagonalizację macierzy\n\t"
     },
     "metadata": {},
     "output_type": "display_data"
    },
    {
     "data": {
      "text/plain": [
       "<IPython.core.display.Latex object>"
      ],
      "text/latex": "\\[\n\t\t\\textnormal{A=} \\left[\\begin{matrix}1 & 0 & 1\\\\2 & 3 & -1\\\\0 & 0 & 3\\end{matrix}\\right]\n\t\\]"
     },
     "metadata": {},
     "output_type": "display_data"
    },
    {
     "name": "stdout",
     "output_type": "stream",
     "text": [
      "\u001B[34m*\u001B[0m\u001B[34m*\u001B[0m\u001B[34m*\u001B[0m\u001B[34m*\u001B[0m\u001B[34m*\u001B[0m\u001B[34m*\u001B[0m\u001B[34m*\u001B[0m\u001B[34m*\u001B[0m\u001B[34m*\u001B[0m\u001B[34m*\u001B[0m\u001B[34m*\u001B[0m\u001B[34m*\u001B[0m\u001B[34m*\u001B[0m\u001B[34m*\u001B[0m\u001B[34m*\u001B[0m\u001B[34m*\u001B[0m\u001B[34m*\u001B[0m\u001B[34m*\u001B[0m\u001B[34m*\u001B[0m\u001B[34m*\u001B[0m\u001B[34m*\u001B[0m\u001B[34m*\u001B[0m\u001B[34m*\u001B[0m\u001B[34m*\u001B[0m\u001B[34m*\u001B[0m\u001B[34m*\u001B[0m\u001B[34m*\u001B[0m\u001B[34m*\u001B[0m\u001B[34m*\u001B[0m\u001B[34m*\u001B[0m\u001B[34m*\u001B[0m\u001B[34m*\u001B[0m\u001B[34m*\u001B[0m\u001B[34m*\u001B[0m\u001B[34m*\u001B[0m\u001B[34m*\u001B[0m\u001B[34m*\u001B[0m\u001B[34m*\u001B[0m\u001B[34m*\u001B[0m\u001B[34m*\u001B[0m\u001B[34m*\u001B[0m\u001B[34m*\u001B[0m\u001B[34m*\u001B[0m\u001B[34m*\u001B[0m\u001B[34m*\u001B[0m\u001B[34m*\u001B[0m\u001B[34m*\u001B[0m\u001B[34m*\u001B[0m\u001B[34m*\u001B[0m\u001B[34m*\u001B[0m\u001B[34m*\u001B[0m\u001B[34m*\u001B[0m\u001B[34m*\u001B[0m\u001B[34m*\u001B[0m\u001B[34m*\u001B[0m\u001B[34m*\u001B[0m\u001B[34m*\u001B[0m\u001B[34m*\u001B[0m\u001B[34m*\u001B[0m\u001B[34m*\u001B[0m\u001B[34m*\u001B[0m\u001B[34m*\u001B[0m\u001B[34m*\u001B[0m\u001B[34m*\u001B[0m\u001B[34m*\u001B[0m\u001B[34m*\u001B[0m\u001B[34m*\u001B[0m\u001B[34m*\u001B[0m\u001B[34m*\u001B[0m\u001B[34m*\u001B[0m\u001B[34m*\u001B[0m\u001B[34m*\u001B[0m\u001B[34m*\u001B[0m\u001B[34m*\u001B[0m\u001B[34m*\u001B[0m\u001B[34m*\u001B[0m\u001B[34m*\u001B[0m\u001B[34m*\u001B[0m\u001B[34m*\u001B[0m\u001B[34m*\u001B[0m\u001B[34m*\u001B[0m\u001B[34m*\u001B[0m\u001B[34m*\u001B[0m\u001B[34m*\u001B[0m\u001B[34m*\u001B[0m\u001B[34m*\u001B[0m\u001B[34m*\u001B[0m\u001B[34m*\u001B[0m\u001B[34m*\u001B[0m\u001B[34m*\u001B[0m\u001B[34m*\u001B[0m\u001B[34m*\u001B[0m\u001B[34m*\u001B[0m\u001B[34m*\u001B[0m\u001B[34m*\u001B[0m\n",
      "\u001B[32m** Rozwiązanie ********************************************************************************\u001B[0m\n"
     ]
    },
    {
     "data": {
      "text/plain": [
       "<IPython.core.display.Latex object>"
      ],
      "text/latex": "$$\\det\\left(\\lambda \\mathbb{I} - A \\right) = \\lambda^{3} - 7 \\lambda^{2} + 15 \\lambda - 9$$"
     },
     "metadata": {},
     "output_type": "display_data"
    },
    {
     "data": {
      "text/plain": [
       "<IPython.core.display.Markdown object>"
      ],
      "text/markdown": "Wartości własne"
     },
     "metadata": {},
     "output_type": "display_data"
    },
    {
     "data": {
      "text/plain": [
       "<IPython.core.display.Latex object>"
      ],
      "text/latex": "$$ \\left\\{ 1 : 1, \\  3 : 2\\right\\}, $$"
     },
     "metadata": {},
     "output_type": "display_data"
    },
    {
     "data": {
      "text/plain": [
       "<IPython.core.display.Markdown object>"
      ],
      "text/markdown": "Wektory własne"
     },
     "metadata": {},
     "output_type": "display_data"
    },
    {
     "data": {
      "text/plain": [
       "<IPython.core.display.Latex object>"
      ],
      "text/latex": "$$\\left[ \\left( 1, \\  1, \\  \\left[ \\left[\\begin{matrix}-1\\\\1\\\\0\\end{matrix}\\right]\\right]\\right), \\  \\left( 3, \\  2, \\  \\left[ \\left[\\begin{matrix}0\\\\1\\\\0\\end{matrix}\\right], \\  \\left[\\begin{matrix}\\frac{1}{2}\\\\0\\\\1\\end{matrix}\\right]\\right]\\right)\\right]$$"
     },
     "metadata": {},
     "output_type": "display_data"
    },
    {
     "data": {
      "text/plain": [
       "<IPython.core.display.Markdown object>"
      ],
      "text/markdown": "Diagonalizacja:"
     },
     "metadata": {},
     "output_type": "display_data"
    },
    {
     "data": {
      "text/plain": [
       "<IPython.core.display.Latex object>"
      ],
      "text/latex": "$$A = P\\,D\\,P^{-1}: \\quad P=\\left[\\begin{matrix}-1 & 0 & 1\\\\1 & 1 & 0\\\\0 & 0 & 2\\end{matrix}\\right],\\quad D=\\left[\\begin{matrix}1 & 0 & 0\\\\0 & 3 & 0\\\\0 & 0 & 3\\end{matrix}\\right]$$"
     },
     "metadata": {},
     "output_type": "display_data"
    }
   ],
   "execution_count": 13
  },
  {
   "metadata": {},
   "cell_type": "markdown",
   "source": "### Układy równań liniowych",
   "id": "ed041be275eb03d8"
  },
  {
   "metadata": {},
   "cell_type": "markdown",
   "source": "#### Układ Cramera",
   "id": "49a1746cae7c7adf"
  },
  {
   "metadata": {
    "tags": [
     "hide-input"
    ],
    "ExecuteTime": {
     "end_time": "2024-09-17T21:52:31.564876Z",
     "start_time": "2024-09-17T21:52:31.540574Z"
    }
   },
   "cell_type": "code",
   "source": [
    "zadanie = gz.uklad_Cramera(choice([2, 3, 4, 5]))\n",
    "print(f\"\\033[34m** Zadanie **\" + '*' * 82 + '\\033[0m')\n",
    "display(Markdown(zadanie[0].split('\\n')[0].split('$')[0] +\n",
    "                 '*' + zadanie[0].split('$')[1].split('$')[0] + '*'))\n",
    "display(Latex('$$' + zadanie[0].split('\\[')[1].split('\\]')[0] + '$$'))\n",
    "print(\"\\033[32m** Rozwiązanie **\" + '*' * 78 + '\\033[0m')\n",
    "display(Latex(zadanie[1].replace('$ \\\\\\\\ \\n\\t$', ',\\\\quad ').replace('$', '$$')))\n",
    "zadanie_nr = zadanie"
   ],
   "id": "fb9db48fec4f734a",
   "outputs": [
    {
     "name": "stdout",
     "output_type": "stream",
     "text": [
      "\u001B[34m** Zadanie ************************************************************************************\u001B[0m\n"
     ]
    },
    {
     "data": {
      "text/plain": [
       "<IPython.core.display.Markdown object>"
      ],
      "text/markdown": "Z układu równań wyznaczyć niewiadomą *z*"
     },
     "metadata": {},
     "output_type": "display_data"
    },
    {
     "data": {
      "text/plain": [
       "<IPython.core.display.Latex object>"
      ],
      "text/latex": "$$\n\t\t\\left\\{\n\t\t\t\\begin{matrix}\n\t\t\t\t- 3 x + 3 z = -1 \\\\ \n\t\t\t\tx = -1 \\\\ \n\t\t\t\tx + y = -2 \\\\ \n\t\t\t\\end{matrix}\n\t\t\\right.\n\t$$"
     },
     "metadata": {},
     "output_type": "display_data"
    },
    {
     "name": "stdout",
     "output_type": "stream",
     "text": [
      "\u001B[32m** Rozwiązanie ********************************************************************************\u001B[0m\n"
     ]
    },
    {
     "data": {
      "text/plain": [
       "<IPython.core.display.Latex object>"
      ],
      "text/latex": "$$\\det(A) = 3,\\ \\det(A_z)=-4,\\ z = - \\frac{4}{3}$$"
     },
     "metadata": {},
     "output_type": "display_data"
    }
   ],
   "execution_count": 14
  },
  {
   "metadata": {},
   "cell_type": "markdown",
   "source": "#### Układ nieoznaczony",
   "id": "9342255bdf531150"
  },
  {
   "metadata": {
    "tags": [
     "hide-input"
    ],
    "ExecuteTime": {
     "end_time": "2024-09-17T21:52:32.040041Z",
     "start_time": "2024-09-17T21:52:31.955542Z"
    }
   },
   "cell_type": "code",
   "source": [
    "zadanie = gz.uklad_rownan_nieoznaczony()\n",
    "print(f\"\\033[34m** Zadanie **\" + '*' * 82 + '\\033[0m')\n",
    "display(Markdown(zadanie[0].split('\\n')[0].replace('\\\\ ', ' ')))\n",
    "display(Latex('$$' + zadanie[0].split('\\[')[1].split('\\]')[0] + '$$'))\n",
    "print(\"\\033[32m** Rozwiązanie **\" + '*' * 78 + '\\033[0m')\n",
    "display(Latex(zadanie[1].replace('$ \\\\\\\\ \\n\\t$', ',\\\\quad ').replace('$', '$$')))\n",
    "zadanie_nr = zadanie"
   ],
   "id": "1edae10760f2a91c",
   "outputs": [
    {
     "name": "stdout",
     "output_type": "stream",
     "text": [
      "\u001B[34m** Zadanie ************************************************************************************\u001B[0m\n"
     ]
    },
    {
     "data": {
      "text/plain": [
       "<IPython.core.display.Markdown object>"
      ],
      "text/markdown": "Rozwiązać układ równań. Jeśli możliwe podać trzy przykładowe rozwiązania. Jedno rozwiązanie sprawdzić. "
     },
     "metadata": {},
     "output_type": "display_data"
    },
    {
     "data": {
      "text/plain": [
       "<IPython.core.display.Latex object>"
      ],
      "text/latex": "$$\n\t\t\\left\\{\n\t\t\t\\begin{matrix}\n\t\t\t\t- 8 t - 2 y - 2 z = -2 \\\\ \n\t\t\t\t5 t + x + 2 y + 2 z = 0 \\\\ \n\t\t\t\t- t - x - y - z = 1 \\\\ \n\t\t\t\t- 2 t - 2 x - 2 y - 3 z = 3 \\\\ \n\t\t\t\t- 2 t - 2 x - 2 y - 2 z = 2 \\\\ \n\t\t\t\\end{matrix}\n\t\t\\right.\n\t$$"
     },
     "metadata": {},
     "output_type": "display_data"
    },
    {
     "name": "stdout",
     "output_type": "stream",
     "text": [
      "\u001B[32m** Rozwiązanie ********************************************************************************\u001B[0m\n"
     ]
    },
    {
     "data": {
      "text/plain": [
       "<IPython.core.display.Latex object>"
      ],
      "text/latex": "$$\\left\\{ t  =  \\frac{1}{2} - \\frac{y}{4}, \\  x  =  - \\frac{3 y}{4} - \\frac{1}{2}, \\  z  =  -1\\right\\}$$"
     },
     "metadata": {},
     "output_type": "display_data"
    }
   ],
   "execution_count": 15
  },
  {
   "metadata": {},
   "cell_type": "markdown",
   "source": "### Geometria analityczna",
   "id": "475145fc6380a639"
  },
  {
   "metadata": {},
   "cell_type": "markdown",
   "source": "#### Równanie prostej",
   "id": "7bfeb0581947fc1f"
  },
  {
   "metadata": {
    "tags": [
     "hide-input"
    ],
    "ExecuteTime": {
     "end_time": "2024-09-17T21:52:32.451681Z",
     "start_time": "2024-09-17T21:52:32.389631Z"
    }
   },
   "cell_type": "code",
   "source": [
    "zadanie = gz.rownanie_prostej()\n",
    "print(f\"\\033[34m** Zadanie **\" + '*' * 82 + '\\033[0m')\n",
    "display(Markdown(zadanie[0].split('\\n\\t')[0]))\n",
    "display(Latex('$$' + (zadanie[0].split('\\n\\t')[2]) + '$$'))\n",
    "display(Markdown(zadanie[0].split('\\n\\t')[4]))\n",
    "display(Latex('$$' + (zadanie[0].split('\\n\\t')[6]) + '$$'))\n",
    "print(\"\\033[32m** Rozwiązanie **\" + '*' * 78 + '\\033[0m')\n",
    "display(Latex('$' + zadanie[1] + '$'))\n",
    "zadanie_nr = zadanie"
   ],
   "id": "7e85d20973ad3dfb",
   "outputs": [
    {
     "name": "stdout",
     "output_type": "stream",
     "text": [
      "\u001B[34m** Zadanie ************************************************************************************\u001B[0m\n"
     ]
    },
    {
     "data": {
      "text/plain": [
       "<IPython.core.display.Markdown object>"
      ],
      "text/markdown": "Wyznaczyć równanie prostej przechodzącej przez punkty"
     },
     "metadata": {},
     "output_type": "display_data"
    },
    {
     "data": {
      "text/plain": [
       "<IPython.core.display.Latex object>"
      ],
      "text/latex": "$$\tP_1 = (1, -3, 2), \\quad P_2 = (1, 1, -1).$$"
     },
     "metadata": {},
     "output_type": "display_data"
    },
    {
     "data": {
      "text/plain": [
       "<IPython.core.display.Markdown object>"
      ],
      "text/markdown": "Obliczyć odległość wyznaczonej prostej od punktu"
     },
     "metadata": {},
     "output_type": "display_data"
    },
    {
     "data": {
      "text/plain": [
       "<IPython.core.display.Latex object>"
      ],
      "text/latex": "$$\tP_3 = (1, 5, 5).$$"
     },
     "metadata": {},
     "output_type": "display_data"
    },
    {
     "name": "stdout",
     "output_type": "stream",
     "text": [
      "\u001B[32m** Rozwiązanie ********************************************************************************\u001B[0m\n"
     ]
    },
    {
     "data": {
      "text/plain": [
       "<IPython.core.display.Latex object>"
      ],
      "text/latex": "$$l\\colon  \\frac{x - 1}{0}= \\frac{y + 3}{4}= \\frac{z - 2}{-3}; \\qquad d(P_3,l) = \\frac{36}{5}$$"
     },
     "metadata": {},
     "output_type": "display_data"
    }
   ],
   "execution_count": 16
  },
  {
   "metadata": {},
   "cell_type": "markdown",
   "source": "#### Równanie płaszczyzny",
   "id": "986d67807361e2e0"
  },
  {
   "metadata": {
    "tags": [
     "hide-input"
    ],
    "ExecuteTime": {
     "end_time": "2024-09-17T21:52:32.893064Z",
     "start_time": "2024-09-17T21:52:32.812059Z"
    }
   },
   "cell_type": "code",
   "source": [
    "zadanie = gz.rownanie_plaszczyzny()\n",
    "print(f\"\\033[34m** Zadanie **\" + '*' * 82 + '\\033[0m')\n",
    "display(Markdown(zadanie[0].split('\\n\\t')[0]))\n",
    "display(Latex('$$' + (zadanie[0].split('\\n\\t')[2]) + '$$'))\n",
    "display(Markdown(zadanie[0].split('\\n\\t')[4]))\n",
    "display(Latex('$$' + (zadanie[0].split('\\n\\t')[6]) + '$$'))\n",
    "print(\"\\033[32m** Rozwiązanie **\" + '*' * 78 + '\\033[0m')\n",
    "display(Latex('$' + zadanie[1] + '$'))\n",
    "zadanie_nr = zadanie"
   ],
   "id": "afabcb0490f9eaa1",
   "outputs": [
    {
     "name": "stdout",
     "output_type": "stream",
     "text": [
      "\u001B[34m** Zadanie ************************************************************************************\u001B[0m\n"
     ]
    },
    {
     "data": {
      "text/plain": [
       "<IPython.core.display.Markdown object>"
      ],
      "text/markdown": "Wyznaczyć równanie płaszczyzny przechodzącej przez punkty"
     },
     "metadata": {},
     "output_type": "display_data"
    },
    {
     "data": {
      "text/plain": [
       "<IPython.core.display.Latex object>"
      ],
      "text/latex": "$$\tP_1 = (0, 4, 4), \\quad P_2 = (5, -1, 4), \\quad P_3 = (-1, -3, 2).$$"
     },
     "metadata": {},
     "output_type": "display_data"
    },
    {
     "data": {
      "text/plain": [
       "<IPython.core.display.Markdown object>"
      ],
      "text/markdown": "Obliczyć odległość wyznaczonej płaszczyzny od punktu"
     },
     "metadata": {},
     "output_type": "display_data"
    },
    {
     "data": {
      "text/plain": [
       "<IPython.core.display.Latex object>"
      ],
      "text/latex": "$$\tP_4 = (-2, 2, 3).$$"
     },
     "metadata": {},
     "output_type": "display_data"
    },
    {
     "name": "stdout",
     "output_type": "stream",
     "text": [
      "\u001B[32m** Rozwiązanie ********************************************************************************\u001B[0m\n"
     ]
    },
    {
     "data": {
      "text/plain": [
       "<IPython.core.display.Latex object>"
      ],
      "text/latex": "$$\\pi\\colon 10 x + 10 y - 40 z + 120=0; \\qquad d(P_4,\\pi) = 0$$"
     },
     "metadata": {},
     "output_type": "display_data"
    }
   ],
   "execution_count": 17
  },
  {
   "metadata": {},
   "cell_type": "markdown",
   "source": "#### Punkty symetryczny do płaszczyzny",
   "id": "9e2498526fc2871d"
  },
  {
   "metadata": {
    "tags": [
     "hide-input"
    ],
    "ExecuteTime": {
     "end_time": "2024-09-17T21:52:33.293214Z",
     "start_time": "2024-09-17T21:52:33.261067Z"
    }
   },
   "cell_type": "code",
   "source": [
    "zadanie = gz.punkt_symetryczny_do_plaszczyzny()\n",
    "print(f\"\\033[34m** Zadanie **\" + '*' * 82 + '\\033[0m')\n",
    "display(Markdown(zadanie[0].split('\\n\\t')[0]))\n",
    "display(Latex('$$' + (zadanie[0].split('\\n\\t')[2]) + '$$'))\n",
    "display(Markdown(zadanie[0].split('\\n\\t')[4]))\n",
    "display(Latex('$$' + (zadanie[0].split('\\n\\t')[6]) + '$$'))\n",
    "print(\"\\033[32m** Rozwiązanie **\" + '*' * 78 + '\\033[0m')\n",
    "display(Markdown(zadanie[1].split('$')[0]))\n",
    "display(Latex('$$' + zadanie[1].split('$')[1] + '$$'))\n",
    "display(Markdown(zadanie[1].split('$')[4][2:]))\n",
    "display(Latex('$$' + zadanie[1].split('$')[5] + ' \\quad ' + zadanie[1].split('$')[3] + '$$'))\n",
    "display(Markdown(zadanie[1].split('$')[6][6:]))\n",
    "display(Latex('$$' + zadanie[1].split('$')[7] + '$$'))\n",
    "zadanie_nr = zadanie"
   ],
   "id": "96c88e82c933041d",
   "outputs": [
    {
     "name": "stdout",
     "output_type": "stream",
     "text": [
      "\u001B[34m** Zadanie ************************************************************************************\u001B[0m\n"
     ]
    },
    {
     "data": {
      "text/plain": [
       "<IPython.core.display.Markdown object>"
      ],
      "text/markdown": "Wyznaczyć punkt symetryczny do punktu"
     },
     "metadata": {},
     "output_type": "display_data"
    },
    {
     "data": {
      "text/plain": [
       "<IPython.core.display.Latex object>"
      ],
      "text/latex": "$$\tP = (-1, -2, 4)$$"
     },
     "metadata": {},
     "output_type": "display_data"
    },
    {
     "data": {
      "text/plain": [
       "<IPython.core.display.Markdown object>"
      ],
      "text/markdown": "względem płaszczyzny"
     },
     "metadata": {},
     "output_type": "display_data"
    },
    {
     "data": {
      "text/plain": [
       "<IPython.core.display.Latex object>"
      ],
      "text/latex": "$$\t\\pi\\colon - x + y + 2 z + 5  = 0.$$"
     },
     "metadata": {},
     "output_type": "display_data"
    },
    {
     "name": "stdout",
     "output_type": "stream",
     "text": [
      "\u001B[32m** Rozwiązanie ********************************************************************************\u001B[0m\n"
     ]
    },
    {
     "data": {
      "text/plain": [
       "<IPython.core.display.Markdown object>"
      ],
      "text/markdown": "Prosta prostopadła: "
     },
     "metadata": {},
     "output_type": "display_data"
    },
    {
     "data": {
      "text/plain": [
       "<IPython.core.display.Latex object>"
      ],
      "text/latex": "$$ \\frac{x + 1}{-1}= \\frac{y + 2}{1}= \\frac{z - 4}{2}= t,$$"
     },
     "metadata": {},
     "output_type": "display_data"
    },
    {
     "data": {
      "text/plain": [
       "<IPython.core.display.Markdown object>"
      ],
      "text/markdown": "\\\nPunkt przecięcia to: "
     },
     "metadata": {},
     "output_type": "display_data"
    },
    {
     "data": {
      "text/plain": [
       "<IPython.core.display.Latex object>"
      ],
      "text/latex": "$$P_p =(1,-4,0), \\quad t_p=-2$$"
     },
     "metadata": {},
     "output_type": "display_data"
    },
    {
     "data": {
      "text/plain": [
       "<IPython.core.display.Markdown object>"
      ],
      "text/markdown": " \nPunkt symetryczny to: "
     },
     "metadata": {},
     "output_type": "display_data"
    },
    {
     "data": {
      "text/plain": [
       "<IPython.core.display.Latex object>"
      ],
      "text/latex": "$$P_s = (3,-6,-4)$$"
     },
     "metadata": {},
     "output_type": "display_data"
    }
   ],
   "execution_count": 18
  },
  {
   "metadata": {},
   "cell_type": "markdown",
   "source": "#### Punkty symetryczny do prostej",
   "id": "6e45a9ef1e15047b"
  },
  {
   "metadata": {
    "tags": [
     "hide-input"
    ],
    "ExecuteTime": {
     "end_time": "2024-09-17T21:52:33.799541Z",
     "start_time": "2024-09-17T21:52:33.756834Z"
    }
   },
   "cell_type": "code",
   "source": [
    "zadanie = gz.punkt_symetryczny_do_prostej()\n",
    "print(f\"\\033[34m** Zadanie **\" + '*' * 82 + '\\033[0m')\n",
    "display(Markdown(zadanie[0].split('\\n\\t')[0]))\n",
    "display(Latex('$$' + (zadanie[0].split('\\n\\t')[2]) + '$$'))\n",
    "display(Markdown(zadanie[0].split('\\n\\t')[4]))\n",
    "display(Latex('$$' + (zadanie[0].split('\\n\\t')[6]) + '$$'))\n",
    "print(\"\\033[32m** Rozwiązanie **\" + '*' * 78 + '\\033[0m')\n",
    "display(Markdown(zadanie[1].split('$')[0]))\n",
    "display(Latex('$$' + zadanie[1].split('$')[1].split('\\\\quad')[0] + '$$'))\n",
    "display(Markdown(zadanie[1].split('$')[2][8:]))\n",
    "display(Latex('$$' + zadanie[1].split('$')[3] + ' \\quad ' + zadanie[1].split('$')[1].split('\\quad')[1] + '$$'))\n",
    "display(Markdown(zadanie[1].split('$')[4][12:]))\n",
    "display(Latex('$$' + zadanie[1].split('$')[5] + '$$'))\n",
    "zadanie_nr = zadanie"
   ],
   "id": "3e0283d4a703b0ac",
   "outputs": [
    {
     "name": "stdout",
     "output_type": "stream",
     "text": [
      "\u001B[34m** Zadanie ************************************************************************************\u001B[0m\n"
     ]
    },
    {
     "data": {
      "text/plain": [
       "<IPython.core.display.Markdown object>"
      ],
      "text/markdown": "Wyznaczyć punkt symetryczny do punktu"
     },
     "metadata": {},
     "output_type": "display_data"
    },
    {
     "data": {
      "text/plain": [
       "<IPython.core.display.Latex object>"
      ],
      "text/latex": "$$\tP = (1, 5, 4)$$"
     },
     "metadata": {},
     "output_type": "display_data"
    },
    {
     "data": {
      "text/plain": [
       "<IPython.core.display.Markdown object>"
      ],
      "text/markdown": "względem prostej"
     },
     "metadata": {},
     "output_type": "display_data"
    },
    {
     "data": {
      "text/plain": [
       "<IPython.core.display.Latex object>"
      ],
      "text/latex": "$$\tl\\colon \\frac{x - 3}{-1}= \\frac{y + 1}{3}= \\frac{z + 2}{3}.$$"
     },
     "metadata": {},
     "output_type": "display_data"
    },
    {
     "name": "stdout",
     "output_type": "stream",
     "text": [
      "\u001B[32m** Rozwiązanie ********************************************************************************\u001B[0m\n"
     ]
    },
    {
     "data": {
      "text/plain": [
       "<IPython.core.display.Markdown object>"
      ],
      "text/markdown": "Płaszczyzna prostopadła: "
     },
     "metadata": {},
     "output_type": "display_data"
    },
    {
     "data": {
      "text/plain": [
       "<IPython.core.display.Latex object>"
      ],
      "text/latex": "$$\\pi\\colon - x + 3 y + 3 z - 26 = 0, $$"
     },
     "metadata": {},
     "output_type": "display_data"
    },
    {
     "data": {
      "text/plain": [
       "<IPython.core.display.Markdown object>"
      ],
      "text/markdown": "Punkt przecięcia to: "
     },
     "metadata": {},
     "output_type": "display_data"
    },
    {
     "data": {
      "text/plain": [
       "<IPython.core.display.Latex object>"
      ],
      "text/latex": "$$P_p =(1,5,4), \\quad  t_p=2$$"
     },
     "metadata": {},
     "output_type": "display_data"
    },
    {
     "data": {
      "text/plain": [
       "<IPython.core.display.Markdown object>"
      ],
      "text/markdown": "Punkt symetryczny to: "
     },
     "metadata": {},
     "output_type": "display_data"
    },
    {
     "data": {
      "text/plain": [
       "<IPython.core.display.Latex object>"
      ],
      "text/latex": "$$P_s = (1,5,4)$$"
     },
     "metadata": {},
     "output_type": "display_data"
    }
   ],
   "execution_count": 19
  },
  {
   "metadata": {},
   "cell_type": "markdown",
   "source": "#### Proste skośne",
   "id": "eed5a4a5decccb25"
  },
  {
   "metadata": {
    "tags": [
     "hide-input"
    ],
    "ExecuteTime": {
     "end_time": "2024-09-17T21:52:43.794003Z",
     "start_time": "2024-09-17T21:52:34.258321Z"
    }
   },
   "cell_type": "code",
   "source": [
    "zadanie = gz.odleglosc_prostych_skosnych()\n",
    "print(f\"\\033[34m** Zadanie **\" + '*' * 82 + '\\033[0m')\n",
    "display(Markdown(zadanie[0].split('\\n\\t')[0]))\n",
    "display(Latex('$$' + (zadanie[0].split('\\n\\t')[2]) + '$$'))\n",
    "display(Latex('$$' + (zadanie[0].split('\\n\\t')[3]) + '$$'))\n",
    "display(Markdown(zadanie[0].split('\\n\\t')[4][3:]))\n",
    "print(\"\\033[32m** Rozwiązanie **\" + '*' * 78 + '\\033[0m')\n",
    "display(Markdown('Płaszczyzna zawierająca *l<sub>2</sub>* i równoległa do *l<sub>1</sub>* to'))\n",
    "display(Latex('$$' + (zadanie[1].split('$')[5]) + '$$'))\n",
    "display(Markdown('Odległość prostych skośnych to'))\n",
    "display(Latex('$$' + (zadanie[1].split('$')[7]) + '$$'))\n",
    "display(Markdown('Punkty realizujące minimalną odległość to'))\n",
    "display(Latex('$$' + (zadanie[1].split('$')[9]).replace('\\\\ ', '\\qquad ') + '$$'))\n",
    "zadanie_nr = zadanie"
   ],
   "id": "6d4fa2126c85917f",
   "outputs": [
    {
     "name": "stdout",
     "output_type": "stream",
     "text": [
      "\u001B[34m** Zadanie ************************************************************************************\u001B[0m\n"
     ]
    },
    {
     "data": {
      "text/plain": [
       "<IPython.core.display.Markdown object>"
      ],
      "text/markdown": "Obliczyć odległość prostych skośnych"
     },
     "metadata": {},
     "output_type": "display_data"
    },
    {
     "data": {
      "text/plain": [
       "<IPython.core.display.Latex object>"
      ],
      "text/latex": "$$\tl_1\\colon \\frac{x - 1}{-2}=\\frac{y - 5}{-3}=\\frac{z - 5}{2}, \\quad $$"
     },
     "metadata": {},
     "output_type": "display_data"
    },
    {
     "data": {
      "text/plain": [
       "<IPython.core.display.Latex object>"
      ],
      "text/latex": "$$\tl_2\\colon \\frac{x + 2}{1}=\\frac{y + 2}{2}=\\frac{z - 4}{-2}.$$"
     },
     "metadata": {},
     "output_type": "display_data"
    },
    {
     "data": {
      "text/plain": [
       "<IPython.core.display.Markdown object>"
      ],
      "text/markdown": "Wyznaczyć punkty realizujące minimalną odległość."
     },
     "metadata": {},
     "output_type": "display_data"
    },
    {
     "name": "stdout",
     "output_type": "stream",
     "text": [
      "\u001B[32m** Rozwiązanie ********************************************************************************\u001B[0m\n"
     ]
    },
    {
     "data": {
      "text/plain": [
       "<IPython.core.display.Markdown object>"
      ],
      "text/markdown": "Płaszczyzna zawierająca *l<sub>2</sub>* i równoległa do *l<sub>1</sub>* to"
     },
     "metadata": {},
     "output_type": "display_data"
    },
    {
     "data": {
      "text/plain": [
       "<IPython.core.display.Latex object>"
      ],
      "text/latex": "$$\\pi\\colon 2 x - 2 y - z + 4=0$$"
     },
     "metadata": {},
     "output_type": "display_data"
    },
    {
     "data": {
      "text/plain": [
       "<IPython.core.display.Markdown object>"
      ],
      "text/markdown": "Odległość prostych skośnych to"
     },
     "metadata": {},
     "output_type": "display_data"
    },
    {
     "data": {
      "text/plain": [
       "<IPython.core.display.Latex object>"
      ],
      "text/latex": "$$d(l_1,l_2)=3;$$"
     },
     "metadata": {},
     "output_type": "display_data"
    },
    {
     "data": {
      "text/plain": [
       "<IPython.core.display.Markdown object>"
      ],
      "text/markdown": "Punkty realizujące minimalną odległość to"
     },
     "metadata": {},
     "output_type": "display_data"
    },
    {
     "data": {
      "text/plain": [
       "<IPython.core.display.Latex object>"
      ],
      "text/latex": "$$ P_3=(-9,-10,15),\\qquad P_4=(-7,-12,14)$$"
     },
     "metadata": {},
     "output_type": "display_data"
    }
   ],
   "execution_count": 20
  },
  {
   "metadata": {},
   "cell_type": "markdown",
   "source": "#### Kąty w trójkącie",
   "id": "d9811786cfcf0e97"
  },
  {
   "metadata": {
    "tags": [
     "hide-input"
    ],
    "ExecuteTime": {
     "end_time": "2024-09-17T21:53:09.258309Z",
     "start_time": "2024-09-17T21:52:44.090841Z"
    }
   },
   "cell_type": "code",
   "source": [
    "zadanie = gz.katy_w_trojkacie(prosty=choice([False, True]), calkowite=choice([False, True]))\n",
    "print(f\"\\033[34m** Zadanie **\" + '*' * 82 + '\\033[0m')\n",
    "display(Markdown('Wyznaczyć miary kątów wewnętrznych trójkąta *ABC*, gdzie'))\n",
    "display(Latex('$$' + (zadanie[0].split('\\n\\t')[2]) + '$$'))\n",
    "display(Markdown('Sprawdzić, czy sumują się do 180\\u00b0'))\n",
    "print(\"\\033[32m** Rozwiązanie **\" + '*' * 78 + '\\033[0m')\n",
    "display(Latex('$' + zadanie[1] + '$'))\n",
    "zadanie_nr = zadanie"
   ],
   "id": "139210171c77c0d",
   "outputs": [
    {
     "name": "stdout",
     "output_type": "stream",
     "text": [
      "\u001B[34m** Zadanie ************************************************************************************\u001B[0m\n"
     ]
    },
    {
     "data": {
      "text/plain": [
       "<IPython.core.display.Markdown object>"
      ],
      "text/markdown": "Wyznaczyć miary kątów wewnętrznych trójkąta *ABC*, gdzie"
     },
     "metadata": {},
     "output_type": "display_data"
    },
    {
     "data": {
      "text/plain": [
       "<IPython.core.display.Latex object>"
      ],
      "text/latex": "$$\tA = (0, 0, -2),\\ B = (-2, 0, 0),\\ C = (0, 4, 2)$$"
     },
     "metadata": {},
     "output_type": "display_data"
    },
    {
     "data": {
      "text/plain": [
       "<IPython.core.display.Markdown object>"
      ],
      "text/markdown": "Sprawdzić, czy sumują się do 180°"
     },
     "metadata": {},
     "output_type": "display_data"
    },
    {
     "name": "stdout",
     "output_type": "stream",
     "text": [
      "\u001B[32m** Rozwiązanie ********************************************************************************\u001B[0m\n"
     ]
    },
    {
     "data": {
      "text/plain": [
       "<IPython.core.display.Latex object>"
      ],
      "text/latex": "$$\\alpha = 60.00^{\\circ},\\  \\beta = 90.00^{\\circ},\\  \\gamma = 30.00^{\\circ}.$$"
     },
     "metadata": {},
     "output_type": "display_data"
    }
   ],
   "execution_count": 21
  },
  {
   "metadata": {},
   "cell_type": "markdown",
   "source": "#### Pole trójkąta",
   "id": "c63a611fece77618"
  },
  {
   "metadata": {
    "tags": [
     "hide-input"
    ],
    "ExecuteTime": {
     "end_time": "2024-09-17T21:53:09.580022Z",
     "start_time": "2024-09-17T21:53:09.448230Z"
    }
   },
   "cell_type": "code",
   "source": [
    "zadanie = gz.pole_trojkata(calkowite=choice([False, True]))\n",
    "print(f\"\\033[34m** Zadanie **\" + '*' * 82 + '\\033[0m')\n",
    "display(Markdown(\n",
    "    f'Wyznaczyć pole  trójkąta *ABC* oraz długość wysokości opuszczonej z wierzchołka *{zadanie[0].split(\"ka \")[1].split(\" dla\")[0]}*' + ' dla'))\n",
    "display(Latex('$$' + (zadanie[0].split('\\n\\t')[2]) + '$$'))\n",
    "print(\"\\033[32m** Rozwiązanie **\" + '*' * 78 + '\\033[0m')\n",
    "display(Latex('$' + zadanie[1].replace('\\\\ \\\\', '\\qquad') + '$'))\n",
    "zadanie_nr = zadanie"
   ],
   "id": "3a4b4aec80644542",
   "outputs": [
    {
     "name": "stdout",
     "output_type": "stream",
     "text": [
      "\u001B[34m** Zadanie ************************************************************************************\u001B[0m\n"
     ]
    },
    {
     "data": {
      "text/plain": [
       "<IPython.core.display.Markdown object>"
      ],
      "text/markdown": "Wyznaczyć pole  trójkąta *ABC* oraz długość wysokości opuszczonej z wierzchołka *B* dla"
     },
     "metadata": {},
     "output_type": "display_data"
    },
    {
     "data": {
      "text/plain": [
       "<IPython.core.display.Latex object>"
      ],
      "text/latex": "$$\tA = (-1, 5, 5),\\ B = (4, -3, 4),\\ C = (1, 3, 4)$$"
     },
     "metadata": {},
     "output_type": "display_data"
    },
    {
     "name": "stdout",
     "output_type": "stream",
     "text": [
      "\u001B[32m** Rozwiązanie ********************************************************************************\u001B[0m\n"
     ]
    },
    {
     "data": {
      "text/plain": [
       "<IPython.core.display.Latex object>"
      ],
      "text/latex": "$$P=\\frac{9}{2},\\qquad h_B=3$$"
     },
     "metadata": {},
     "output_type": "display_data"
    }
   ],
   "execution_count": 22
  },
  {
   "metadata": {},
   "cell_type": "markdown",
   "source": "#### Płaszczyzna styczna",
   "id": "af87c3f75306266f"
  },
  {
   "metadata": {
    "tags": [
     "hide-input"
    ],
    "ExecuteTime": {
     "end_time": "2024-09-17T21:53:10.045259Z",
     "start_time": "2024-09-17T21:53:09.770581Z"
    }
   },
   "cell_type": "code",
   "source": [
    "zadanie = gz.plaszczyzna_styczna()\n",
    "print(f\"\\033[34m** Zadanie **\" + '*' * 82 + '\\033[0m')\n",
    "display(Markdown(\n",
    "    f'Wyznaczyć płaszczyznę styczną do powierzchni'))\n",
    "display(Latex('$$' + (zadanie[0].split('$$')[1]) + '$$'))\n",
    "display(Markdown('w punkcie'))\n",
    "display(Latex('$' + zadanie[0].split('punkcie ')[1] + '$'))\n",
    "print(\"\\033[32m** Rozwiązanie **\" + '*' * 78 + '\\033[0m')\n",
    "display(Latex('$' + zadanie[1].replace('\\\\ \\\\', '\\qquad') + '$'))\n",
    "zadanie_nr = zadanie"
   ],
   "id": "1c7fe7d5a193a1ed",
   "outputs": [
    {
     "name": "stdout",
     "output_type": "stream",
     "text": [
      "\u001B[34m** Zadanie ************************************************************************************\u001B[0m\n"
     ]
    },
    {
     "data": {
      "text/plain": [
       "<IPython.core.display.Markdown object>"
      ],
      "text/markdown": "Wyznaczyć płaszczyznę styczną do powierzchni"
     },
     "metadata": {},
     "output_type": "display_data"
    },
    {
     "data": {
      "text/plain": [
       "<IPython.core.display.Latex object>"
      ],
      "text/latex": "$$f(x,y)=\\frac{\\sqrt{4 x^{2} + 4 y^{2} + 16}}{5 x + 3 y}$$"
     },
     "metadata": {},
     "output_type": "display_data"
    },
    {
     "data": {
      "text/plain": [
       "<IPython.core.display.Markdown object>"
      ],
      "text/markdown": "w punkcie"
     },
     "metadata": {},
     "output_type": "display_data"
    },
    {
     "data": {
      "text/plain": [
       "<IPython.core.display.Latex object>"
      ],
      "text/latex": "$$P=(-1,-2,f(-1,-2)).$$"
     },
     "metadata": {},
     "output_type": "display_data"
    },
    {
     "name": "stdout",
     "output_type": "stream",
     "text": [
      "\u001B[32m** Rozwiązanie ********************************************************************************\u001B[0m\n"
     ]
    },
    {
     "data": {
      "text/plain": [
       "<IPython.core.display.Latex object>"
      ],
      "text/latex": "$$z = - \\frac{68 x}{363} - \\frac{10 y}{363} - \\frac{26}{33}$$"
     },
     "metadata": {},
     "output_type": "display_data"
    }
   ],
   "execution_count": 23
  },
  {
   "metadata": {},
   "cell_type": "markdown",
   "source": "#### Całka podwójna po trójkącie",
   "id": "f8e6ec693af5d42b"
  },
  {
   "metadata": {
    "tags": [
     "hide-input"
    ],
    "ExecuteTime": {
     "end_time": "2024-09-17T22:32:01.595942Z",
     "start_time": "2024-09-17T22:32:00.314440Z"
    }
   },
   "cell_type": "code",
   "source": [
    "zadanie = gz.calka_podwojna(typ=1, nr_zadania=0)\n",
    "print(f\"\\033[34m** Zadanie **\" + '*' * 82 + '\\033[0m')\n",
    "display(Markdown(zadanie[0].replace('\\\\,', '').replace('$', '*', ).replace('*', '$$', 2)))\n",
    "print(\"\\033[32m** Rozwiązanie **\" + '*' * 78 + '\\033[0m')\n",
    "img1 = open(f'pics/calka_podwojna{0}x.png', 'rb').read()\n",
    "wi1 = widgets.Image(value=img1, format='jpg', width=300, height=400)\n",
    "img2 = open(f'pics/calka_podwojna{0}y.png', 'rb').read()\n",
    "wi2 = widgets.Image(value=img2, format='jpg', width=300, height=400)\n",
    "a = [wi1, wi2]\n",
    "wid = widgets.HBox(a)\n",
    "display(wid)\n",
    "print(len(zadanie[1].split('$')))\n",
    "if len(zadanie[1].split('$')) == 5:\n",
    "    display(Markdown(f'Względem *{zadanie[1].split(\"$\")[1]}*'))\n",
    "    display(Markdown('$$' + zadanie[1].split('$')[3].split('$')[0] + '$$'))\n",
    "else:\n",
    "    display(Markdown(f'Względem *{zadanie[1].split(\"$\")[1]}*'))\n",
    "    display(Markdown('$$' + zadanie[1].split('$')[3].split('$')[0] + '$$'))\n",
    "    display(Markdown(f'Względem *{zadanie[1].split(\"$\")[5]}*'))\n",
    "    display(Markdown('$$' + zadanie[1].split('$')[7].split('$')[0] + '$$'))\n",
    "zadanie_nr = zadanie"
   ],
   "id": "b37b6ca382f549dd",
   "outputs": [
    {
     "name": "stdout",
     "output_type": "stream",
     "text": [
      "\u001B[34m** Zadanie ************************************************************************************\u001B[0m\n"
     ]
    },
    {
     "data": {
      "text/plain": [
       "<IPython.core.display.Markdown object>"
      ],
      "text/markdown": "Obliczyć $$\\iint\\limits_D\\left(3 x + y + 1\\right)dxdy$$ gdzie *D* - trójkąt *ABC* dla *A=(4,-2), B=(0,0), C=(1,1)*"
     },
     "metadata": {},
     "output_type": "display_data"
    },
    {
     "name": "stdout",
     "output_type": "stream",
     "text": [
      "\u001B[32m** Rozwiązanie ********************************************************************************\u001B[0m\n"
     ]
    },
    {
     "data": {
      "text/plain": [
       "HBox(children=(Image(value=b'\\x89PNG\\r\\n\\x1a\\n\\x00\\x00\\x00\\rIHDR\\x00\\x00\\x01\\xc2\\x00\\x00\\x01\\xc2\\x08\\x06\\x00\\x…"
      ],
      "application/vnd.jupyter.widget-view+json": {
       "version_major": 2,
       "version_minor": 0,
       "model_id": "fad39aac79b6451899918cdf401fbb62"
      }
     },
     "metadata": {},
     "output_type": "display_data"
    },
    {
     "name": "stdout",
     "output_type": "stream",
     "text": [
      "9\n"
     ]
    },
    {
     "data": {
      "text/plain": [
       "<IPython.core.display.Markdown object>"
      ],
      "text/markdown": "Względem *Ox:*"
     },
     "metadata": {},
     "output_type": "display_data"
    },
    {
     "data": {
      "text/plain": [
       "<IPython.core.display.Markdown object>"
      ],
      "text/markdown": "$$\\int\\limits_{0}^{1}\\left(\\int\\limits_{- \\frac{x}{2}}^{x}\\left(3 x + y + 1\\right)dy\\right)dx + \\int\\limits_{1}^{4}\\left(\\int\\limits_{- \\frac{x}{2}}^{2 - x}\\left(3 x + y + 1\\right)dy\\right)dx\n\t=\\ldots=\\int\\limits_{0}^{1}\\left( \\frac{39 x^{2}}{8} + \\frac{3 x}{2}   \\right)dx + \\int\\limits_{1}^{4}\\left(  - \\frac{9 x^{2}}{8} + \\frac{7 x}{2} + 4    \\right)dx = \\ldots = 17$$"
     },
     "metadata": {},
     "output_type": "display_data"
    },
    {
     "data": {
      "text/plain": [
       "<IPython.core.display.Markdown object>"
      ],
      "text/markdown": "Względem *Oy:*"
     },
     "metadata": {},
     "output_type": "display_data"
    },
    {
     "data": {
      "text/plain": [
       "<IPython.core.display.Markdown object>"
      ],
      "text/markdown": "$$\\int\\limits_{-2}^{0}\\left(\\int\\limits_{- 2 y}^{2 - y}\\left(3 x + y + 1\\right)dx\\right)dy + \\int\\limits_{0}^{1}\\left(\\int\\limits_{y}^{2 - y}\\left(3 x + y + 1\\right)dx\\right)dy\n\t=\\ldots=\\int\\limits_{-2}^{0}\\left(  - \\frac{7 y^{2}}{2} - 3 y + 8  \\right)dy + \\int\\limits_{0}^{1}\\left(  - 2 y^{2} - 6 y + 8  \\right)dy = \\ldots = 17$$"
     },
     "metadata": {},
     "output_type": "display_data"
    }
   ],
   "execution_count": 12
  },
  {
   "metadata": {},
   "cell_type": "markdown",
   "source": "#### Całka podwójna po obszarze ograniczonym krzywymi",
   "id": "e8b8625e9c805ff2"
  },
  {
   "metadata": {
    "ExecuteTime": {
     "end_time": "2024-09-17T22:35:19.538488Z",
     "start_time": "2024-09-17T22:35:12.899705Z"
    }
   },
   "cell_type": "code",
   "source": [
    "zadanie = gz.calka_podwojna(typ=2, nr_zadania=1111)  # nr by wykluczyć zduplikowanie wykresu\n",
    "print(f\"\\033[34m** Zadanie **\" + '*' * 82 + '\\033[0m')\n",
    "display(Markdown(\n",
    "    zadanie[0].split('krzywymi')[0].replace('\\\\,', '').replace('$', '*', ).replace('*', '$$', 2) + 'krzywymi'))\n",
    "display(Markdown('$$' + zadanie[0].split('$')[5] + '\\\\quad \\\\text{' + zadanie[0].split('$')[6][1:] + '} \\\\quad ' +\n",
    "                 zadanie[0].split('$')[7] + '$$'))\n",
    "print(\"\\033[32m** Rozwiązanie **\" + '*' * 78 + '\\033[0m')\n",
    "img1 = open(f'pics/calka_podwojna1111x.png', 'rb').read()\n",
    "wi1 = widgets.Image(value=img1, format='jpg', width=300, height=400)\n",
    "img2 = open(f'pics/calka_podwojna1111y.png', 'rb').read()\n",
    "wi2 = widgets.Image(value=img2, format='jpg', width=300, height=400)\n",
    "a = [wi1, wi2]\n",
    "wid = widgets.HBox(a)\n",
    "display(wid)\n",
    "print(len(zadanie[1].split('$')))\n",
    "if len(zadanie[1].split('$')) == 5:\n",
    "    display(Markdown(f'Względem *{zadanie[1].split(\"$\")[1]}*'))\n",
    "    display(Markdown('$$' + zadanie[1].split('$')[3].split('$')[0] + '$$'))\n",
    "else:\n",
    "    display(Markdown(f'Względem *{zadanie[1].split(\"$\")[1]}*'))\n",
    "    display(Markdown('$$' + zadanie[1].split('$')[3].split('$')[0] + '$$'))\n",
    "    display(Markdown(f'Względem *{zadanie[1].split(\"$\")[5]}*'))\n",
    "    display(Markdown('$$' + zadanie[1].split('$')[7].split('$')[0] + '$$'))\n",
    "zadanie_nr = zadanie"
   ],
   "id": "3fd097f7da71ed9b",
   "outputs": [
    {
     "name": "stdout",
     "output_type": "stream",
     "text": [
      "\u001B[34m** Zadanie ************************************************************************************\u001B[0m\n"
     ]
    },
    {
     "data": {
      "text/plain": [
       "<IPython.core.display.Markdown object>"
      ],
      "text/markdown": "Obliczyć $$\\iint\\limits_D\\left(3 y\\right)dxdy$$ gdzie *D* - obszar ograniczony krzywymi"
     },
     "metadata": {},
     "output_type": "display_data"
    },
    {
     "data": {
      "text/plain": [
       "<IPython.core.display.Markdown object>"
      ],
      "text/markdown": "$$y=\\frac{x^{2}}{2}\\quad \\text{ oraz } \\quad y=- 3 x$$"
     },
     "metadata": {},
     "output_type": "display_data"
    },
    {
     "name": "stdout",
     "output_type": "stream",
     "text": [
      "\u001B[32m** Rozwiązanie ********************************************************************************\u001B[0m\n"
     ]
    },
    {
     "data": {
      "text/plain": [
       "HBox(children=(Image(value=b'\\x89PNG\\r\\n\\x1a\\n\\x00\\x00\\x00\\rIHDR\\x00\\x00\\x01\\xc2\\x00\\x00\\x01\\xc2\\x08\\x06\\x00\\x…"
      ],
      "application/vnd.jupyter.widget-view+json": {
       "version_major": 2,
       "version_minor": 0,
       "model_id": "f2b771cc987f4bdc89ca1196592d9515"
      }
     },
     "metadata": {},
     "output_type": "display_data"
    },
    {
     "name": "stdout",
     "output_type": "stream",
     "text": [
      "5\n"
     ]
    },
    {
     "data": {
      "text/plain": [
       "<IPython.core.display.Markdown object>"
      ],
      "text/markdown": "Względem *Ox:*"
     },
     "metadata": {},
     "output_type": "display_data"
    },
    {
     "data": {
      "text/plain": [
       "<IPython.core.display.Markdown object>"
      ],
      "text/markdown": "$$\\int\\limits_{-6}^{0}\\left(\\int\\limits_{\\frac{x^{2}}{2}}^{- 3 x}\\left(3 y\\right)dy\\right)dx\n\t=\\ldots=\\int\\limits_{-6}^{0}\\left(- \\frac{3 x^{4}}{8} + \\frac{27 x^{2}}{2}\\right)dx = \\ldots = \\frac{1944}{5}$$"
     },
     "metadata": {},
     "output_type": "display_data"
    }
   ],
   "execution_count": 13
  },
  {
   "metadata": {},
   "cell_type": "markdown",
   "source": [
    "---\n",
    "\n",
    "## Ustaw nazwy"
   ],
   "id": "5dc817ea97ab66bc"
  },
  {
   "metadata": {},
   "cell_type": "markdown",
   "source": [
    "```{admonition} Wskazówka\n",
    ":class: tip\n",
    "\n",
    "> Nazwy mogą być puste, tzn. ''. Nie wszystkie, bo na ich podstawie tworzona jest nazwa pliku.\n",
    "> \n",
    "> 'kolor_odpowiedzi' jest ważny dla pliku tex:\n",
    "> - 'red' - odpowiedzi ukryte, ale dostępne po kliknięciu,\n",
    "> - 'white' - ukrywa, ale zostawia miejsce,\n",
    "> - 'brak' - ukrywa i chowa miejsce,\n",
    "> - dla innych kolorów odpowiedzi są pokazywane, ale można je ukryć po kliknięciu.\n",
    ">\n",
    "> Dlatego potrzebna jest dwukrotna kompilacja i potrzebny jest czytnik pdf z obsługą warst i JavaScript. Zalecam Adobe Acrobat Reader \n",
    "\n",
    "```\n"
   ],
   "id": "521cc21f07383cf6"
  },
  {
   "metadata": {
    "ExecuteTime": {
     "end_time": "2024-09-17T21:57:46.687002Z",
     "start_time": "2024-09-17T21:57:46.682301Z"
    }
   },
   "cell_type": "code",
   "source": [
    "# bez podkreśleń !!! bo są błędy w kompilacji z podkreśleniami\n",
    "kierunek = 'Bulbatologia'  # np. AiR  \n",
    "grupa = 'Bulbatolodzy'  # np. Grupa-11\n",
    "przedmiot = 'Bulbastyka'  # np. Algebra\n",
    "semestr = 'Sem 1'  # np. Semestr-1 \n",
    "kolokwium = 'Kol 2'  # np. Kolokwium nr 2\n",
    "data = '30 lutego 2024'  # tego już w nazwie pliku nie będzie\n",
    "kolor_odpowiedzi = 'blue'\n",
    "\n",
    "nazwa_pliku = f'{kierunek}-{grupa}-{przedmiot}-{semestr}-{kolokwium}'\n"
   ],
   "id": "d771398ed607d314",
   "outputs": [],
   "execution_count": 41
  },
  {
   "metadata": {
    "ExecuteTime": {
     "end_time": "2024-09-17T21:57:48.516191Z",
     "start_time": "2024-09-17T21:57:48.508320Z"
    }
   },
   "cell_type": "code",
   "source": "nazwa_pliku",
   "id": "ad78cc4b08194d4a",
   "outputs": [
    {
     "data": {
      "text/plain": [
       "'Bulbatologia-Bulbatolodzy-Bulbastyka-Sem 1-Kol 2'"
      ]
     },
     "execution_count": 42,
     "metadata": {},
     "output_type": "execute_result"
    }
   ],
   "execution_count": 42
  },
  {
   "metadata": {},
   "cell_type": "markdown",
   "source": [
    "---\n",
    "\n",
    "## Generuj plik LaTeX z wybranych zadań"
   ],
   "id": "a0b7605ed4e08dfc"
  },
  {
   "metadata": {},
   "cell_type": "markdown",
   "source": [
    "```{admonition} Wskazówka\n",
    ":class: tip\n",
    "\n",
    "> Wynik jest gotową zawartością pliku LaTeX.\n",
    "> \n",
    "> W mybinder (interaktywna sesja) można skopiować.\n",
    "> \n",
    "> Kompilować dwukrotnie pdflatex.\n",
    "> \n",
    "> W przypadku zadań z obrazkami trzeba też je pobierać w odpowiednie miejsce.\n",
    "> \n",
    "> Lepiej po prostu wygenerować pdf poniżej.\n",
    "\n",
    "```"
   ],
   "id": "40a07fabed117e71"
  },
  {
   "metadata": {
    "ExecuteTime": {
     "end_time": "2024-09-17T21:57:53.293666Z",
     "start_time": "2024-09-17T21:57:53.288703Z"
    }
   },
   "cell_type": "code",
   "source": [
    "# Wynik jest gotową zawartością pliku LaTeX. Można skopiować i wkleić. \n",
    "# Kompilować dwukrotnie pdflatex.\n",
    "LaTeX_source = gz.generuj_LaTeX(kierunek,\n",
    "                                grupa,\n",
    "                                przedmiot,\n",
    "                                semestr,\n",
    "                                kolokwium,\n",
    "                                data,\n",
    "                                kolor_odpowiedzi,\n",
    "                                zadanie_1, zadanie_2, zadanie_3, zadanie_4, zadanie_5)\n",
    "print(LaTeX_source)"
   ],
   "id": "3e909f0406dbf9b9",
   "outputs": [
    {
     "name": "stdout",
     "output_type": "stream",
     "text": [
      "% !TeX spellcheck = pl_PL-Polish\n",
      "\\documentclass[a4paper,12pt]{article}\n",
      "\\linespread{1.3} %odstepy miedzy liniami\n",
      "\\usepackage[a4paper, lmargin=2cm, rmargin=2cm, tmargin=2cm, bmargin=2cm]{geometry}\n",
      "\\usepackage{amsfonts}\n",
      "\\usepackage{amsmath}\n",
      "\\usepackage{color}\n",
      "\\usepackage{enumitem}\n",
      "\\usepackage{fancyhdr}\n",
      "\\usepackage{float}\n",
      "\\usepackage{graphicx}\n",
      "\\usepackage{ifthen}\n",
      "\\usepackage[utf8]{inputenc}\n",
      "\\usepackage{lmodern}\n",
      "\\usepackage{ocgx}\n",
      "\\usepackage{polski}\n",
      "\\usepackage{tcolorbox}\n",
      "\\tcbuselibrary{most}\n",
      "\\tcbuselibrary{skins}\n",
      "\\tcbuselibrary{raster}\n",
      "% brak - bez odpowiedzi i bez miejsca, white - bez odpowiedzi z miejscem, red = odpowiedzi ukryte ale dostepne\n",
      "\\newcommand{\\kolorodpowiedzi}{blue}\n",
      "\\renewcommand{\\footrulewidth}{0.4pt}% linia pozioma na końcu strony - default is 0pt\n",
      "\\DeclareFontShape{OMX}{cmex}{m}{n}\n",
      "    {<-7.5> cmex7\n",
      "    <7.5-8.5> cmex8\n",
      "    <8.5-9.5> cmex9\n",
      "    <9.5-> cmex10}{}\n",
      "\\DeclareSymbolFont{largesymbols}{OMX}{cmex}{m}{n}\n",
      "\n",
      "\n",
      "\\newcommand{\\ukryte}{1}  % domyślnie odpowiedzi są do pokazywania po kliknięciu\n",
      "\\ifthenelse{\\equal{\\kolorodpowiedzi}{red}}  % ukrywamy od pokazywania gdy kolor jest red\n",
      "\t{\\renewcommand{\\ukryte}{0}}{}\n",
      "\n",
      "\\newcommand{\\zOdpowiedziami}[3]{\n",
      "\t\\ifthenelse{\\equal{#1}{brak}}{}{\n",
      "\t\t\\ifthenelse{\\equal{#1}{white}}{\\vphantom{#3}}{\n",
      "\t\t\t\\switchocg{#2}{\\textcolor{\\kolorodpowiedzi}{\\\\Rozwiązanie: }}\n",
      "\t\t\t\t\\begin{ocg}{Warstwa odpowiedzi}{#2}{\\ukryte}\n",
      "\t\t\t\t\t\\textcolor{\\kolorodpowiedzi}{#3}\n",
      "\t\t\t\t\\end{ocg}}}}\n",
      "\n",
      "\\pdfinfo{/Author (https://generator-zadan.readthedocs.io)}\n",
      "\n",
      "\\begin{document}\n",
      "    \\pagestyle{fancy}\n",
      "    \\setlength{\\headheight}{27.29453pt}\n",
      "    \\fancyhead{}\n",
      "    \\fancyhead[L]{\\textbf{Bulbatologia\\\\Bulbastyka - Bulbatolodzy}}\n",
      "    \\fancyhead[R]{\\textbf{Kol 2\\\\ 30 lutego 2024}}\n",
      "    \\fancyfoot{}\n",
      "    \\fancyfoot[R]{\\tiny\\textbf{17 września 2024, 23:57}}\n",
      "%    \\hspace{1cm}\n",
      "    \\begin{enumerate}[label= \\textbf{Zadanie \\arabic*. }, leftmargin=1cm, align=left, itemsep=0pt]\n",
      "\t\t\\item Rozwiązać równanie w zbiorze liczb zespolonych.\\ Sprawdzić rozwiązanie.\n",
      "\t\t\t\\[\n",
      "\t\t\t\t\\left(3 + 8i\\right)z = 8 - 6i+\\left(6 + 7i\\right)z\n",
      "\t\t\t\\]\n",
      "\t\t\t\\zOdpowiedziami{\\kolorodpowiedzi}{ocg0}\n",
      "\t\t\t\t{$z=-3 + i.$}\n",
      "\n",
      "\t\t\\item Rozwiązać równanie w zbiorze liczb zespolonych.\\ Sprawdzić jedno z rozwiązań.\n",
      "\t\t\t\\[\n",
      "\t\t\t\t\\left(1 + 2 i\\right)z^2 + \\left(-5 + 10 i\\right) z + \\left(-14 + 2 i\\right)=0\n",
      "\t\t\t\\]\n",
      "\t\t\t\\zOdpowiedziami{\\kolorodpowiedzi}{ocg1}\n",
      "\t\t\t\t{$\\Delta = -3+4i, \\quad \\sqrt{\\Delta}=\\pm( 1 + 2 i), \\quad z_{1}=-2 - 2 i, \\quad z_{2}=-1 - 2 i$}\n",
      "\n",
      "\t\t\\item Wyznaczyć wszystkie zadane pierwiastki zespolone i zaznaczyć je na płaszczyźnie zespolonej\n",
      "\t\t\t\\[\n",
      "\t\t\t\t\\sqrt[\\leftroot{2}\\uproot{-4} \\displaystyle ^{4}]{\\left(\\frac{4}{9} + \\frac{8 \\sqrt{2} i}{9} \\right) \\left(-1 + 2 \\sqrt{2} i \\right)}\n",
      "\t\t\t\\]\n",
      "\t\t\t\\zOdpowiedziami{\\kolorodpowiedzi}{ocg2}\n",
      "\t\t\t\t{$\\sqrt[\\leftroot{2}\\uproot{-4} \\displaystyle ^{4}]{-4} = \\left\\{ -1 - i, \\  -1 + i, \\  1 - i, \\  1 + i\\right\\}.$}\n",
      "\n",
      "\t\t\\item Rozwiązać równanie w zbiorze liczb zespolonych\n",
      "\t\t\t\\[\n",
      "\t\t\t\tz^{2} - \\overline{z} - 6 = 0\n",
      "\t\t\t\\]\n",
      "\t\t\t\\zOdpowiedziami{\\kolorodpowiedzi}{ocg3}\n",
      "\t\t\t\t{$- x + i y + \\left(x + i y\\right)^{2} - 6 = 0,$ \\\\ \n",
      "\t\t\t$x^{2} + 2 i x y - x - y^{2} + i y - 6 = 0,$\\\\\n",
      "\t\t\t$\\left\\{\n",
      "\t\t\t\t\\begin{array}{c}\n",
      "\t\t\t\t\tx^{2} - x - y^{2} - 6 = 0\\\\\n",
      "\t\t\t\t\t2 x y + y = 0\n",
      "\t\t\t\t\\end{array}\n",
      "\t\t\t\\right.$ \\\\\n",
      "\t\t\t$z = \\left[ \\left\\{ x : -2, \\  y : 0\\right\\}, \\  \\left\\{ x : 3, \\  y : 0\\right\\}\\right].$}\n",
      "\n",
      "\t\t\\item Zaznaczyć na płaszczyźnie zespolonej obszar spełniający warunek\n",
      "\t\t\t\\[\n",
      "\t\t\t\t\\left|z+2 - 3 i\\right|  =  \\frac{3}{2}\n",
      "\t\t\t\\]\n",
      "\t\t\t\\zOdpowiedziami{\\kolorodpowiedzi}{ocg4}\n",
      "\t\t\t\t{\t\\begin{tabular}{p{0.4\\textwidth}p{0.3\\textwidth}}\n",
      "\t\t\t\t\\begin{gather*}\n",
      "\t\t\t\t\t\\left(x + 2\\right)^{2} + \\left(y - 3\\right)^{2} = \\frac{9}{4}\n",
      "\t\t\t\t\\end{gather*}\t\t\n",
      "\t\t\t\t&\n",
      "\t\t\t\t\t\\raisebox{-2.8cm}{\\resizebox{4cm}{!}{\\includegraphics{../pics/obszar0}}}\n",
      "\t\t\t\t\\end{tabular}\n",
      "\t\t\t}\n",
      "\n",
      "    \\end{enumerate}\n",
      "\\end{document}\n"
     ]
    }
   ],
   "execution_count": 43
  },
  {
   "metadata": {},
   "cell_type": "markdown",
   "source": [
    "```{admonition} Wskazówka\n",
    ":class: tip\n",
    "\n",
    "Poniżej można zapisać gotowy plik na dysku. Można go edytować.  \n",
    "W mybinder można go pobrać w menu po lewej stronie z katalogu wygenerowane. \n",
    "Kompilować dwukrotnie.\n",
    "\n",
    "```"
   ],
   "id": "90c5ffcb997a03dc"
  },
  {
   "metadata": {
    "ExecuteTime": {
     "end_time": "2024-09-17T21:57:55.332837Z",
     "start_time": "2024-09-17T21:57:55.326602Z"
    }
   },
   "cell_type": "code",
   "source": [
    "if not os.path.exists('wygenerowane'):\n",
    "    os.makedirs('wygenerowane')\n",
    "    print(\" ! Tworzę katalog wygenerowane \", file=sys.stderr)\n",
    "with open(f'./wygenerowane/{nazwa_pliku}.tex', 'w',\n",
    "          encoding='utf-8') as LaTeX_file:\n",
    "    print(LaTeX_source, file=LaTeX_file)"
   ],
   "id": "b0d3947f4938122d",
   "outputs": [],
   "execution_count": 44
  },
  {
   "metadata": {},
   "cell_type": "markdown",
   "source": [
    "---\n",
    "\n",
    "## Generuj plik Pdf z pliku Latex"
   ],
   "id": "5654250ece733965"
  },
  {
   "metadata": {},
   "cell_type": "markdown",
   "source": [
    "\n",
    "```{admonition} Wskazówka\n",
    ":class: tip\n",
    "\n",
    "Można wygenerować gotowego pdf-a.\n",
    " \n",
    "W mybinder (interaktywna sesja) plik pdf jest w menu po lewej. Można pobrać. \n",
    "W mybinder wszystkie pakiety LaTeX-a są zainstalowane. U siebie pewnie trzeba będzie coś doinstalować. \n",
    "\n",
    "Kompilacja wykonuje się dwukrotnie.\n",
    "\n",
    "```\n",
    "\n",
    "```{admonition} Uwaga\n",
    ":class: attention\n",
    "Przy ponownej kompilacji online pliku z taką samą nazwą podgląd pdf-a w przeglądarce może pokazywać poprzednią wersję. \n",
    "\n",
    "Trzeba wygenerowanego pdf-a pobrać na dysk lokalny i tam go oglądać.\n",
    "Albo podejrzeć niżej pdf-a przetworzonego na jpg.\n",
    "```\n"
   ],
   "id": "b129b40b982120cc"
  },
  {
   "metadata": {
    "ExecuteTime": {
     "end_time": "2024-09-17T21:58:02.524485Z",
     "start_time": "2024-09-17T21:57:58.125117Z"
    }
   },
   "cell_type": "code",
   "source": [
    "import subprocess\n",
    "\n",
    "for i in range(2):\n",
    "    result = subprocess.run(\n",
    "        'cd wygenerowane && pdflatex \"' + f'{nazwa_pliku}' + '\".tex',\n",
    "        capture_output=True,\n",
    "        shell=True)\n",
    "\n",
    "# w razie problemów poniżej można zobaczyć komunikaty\n",
    "# trzeba odkomentować \n",
    "\n",
    "# for i in str(result).split(', '):\n",
    "#     print(i.replace('\\\\n', '\\n'))"
   ],
   "id": "86469940cc43c2f4",
   "outputs": [
    {
     "name": "stdout",
     "output_type": "stream",
     "text": [
      "CompletedProcess(args='cd wygenerowane && pdflatex \"Bulbatologia-Bulbatolodzy-Bulbastyka-Sem 1-Kol 2\".tex'\n",
      "returncode=0\n",
      "stdout=b'This is pdfTeX\n",
      "Version 3.141592653-2.6-1.40.25 (MiKTeX 23.5) (preloaded format=pdflatex.fmt)\\r\n",
      " restricted \\\\write18 enabled.\\r\n",
      "entering extended mode\\r\n",
      "(Bulbatologia-Bulbatolodzy-Bulbastyka-Sem 1-Kol 2.tex\\r\n",
      "LaTeX2e <2023-06-01> patch level 1\\r\n",
      "L3 programming layer <2023-06-30>\\r\n",
      "(C:\\\\Users\\\\Adam\\\\AppData\\\\Local\\\\Programs\\\\MiKTeX\\\\tex/latex/base\\\\article.cls\\r\n",
      "Document Class: article 2023/05/17 v1.4n Standard LaTeX document class\\r\n",
      "(C:\\\\Users\\\\Adam\\\\AppData\\\\Local\\\\Programs\\\\MiKTeX\\\\tex/latex/base\\\\size12.clo))\\r\n",
      "(C:\\\\Users\\\\Adam\\\\AppData\\\\Local\\\\Programs\\\\MiKTeX\\\\tex/latex/geometry\\\\geometry.sty\\r\n",
      "(C:\\\\Users\\\\Adam\\\\AppData\\\\Local\\\\Programs\\\\MiKTeX\\\\tex/latex/graphics\\\\keyval.sty)\\r\n",
      "(C:\\\\Users\\\\Adam\\\\AppData\\\\Local\\\\Programs\\\\MiKTeX\\\\tex/generic/iftex\\\\ifvtex.sty\\r\n",
      "(C:\\\\Users\\\\Adam\\\\AppData\\\\Local\\\\Programs\\\\MiKTeX\\\\tex/generic/iftex\\\\iftex.sty))\\r\n",
      "(C:\\\\Users\\\\Adam\\\\AppData\\\\Local\\\\Programs\\\\MiKTeX\\\\tex/latex/geometry\\\\geometry.cfg))\\r\n",
      "(C:\\\\Users\\\\Adam\\\\AppData\\\\Local\\\\Programs\\\\MiKTeX\\\\tex/latex/amsfonts\\\\amsfonts.sty)\\r\n",
      "(C:\\\\Users\\\\Adam\\\\AppData\\\\Local\\\\Programs\\\\MiKTeX\\\\tex/latex/amsmath\\\\amsmath.sty\\r\n",
      "For additional information on amsmath\n",
      "use the `?\\' option.\\r\n",
      "(C:\\\\Users\\\\Adam\\\\AppData\\\\Local\\\\Programs\\\\MiKTeX\\\\tex/latex/amsmath\\\\amstext.sty\\r\n",
      "(C:\\\\Users\\\\Adam\\\\AppData\\\\Local\\\\Programs\\\\MiKTeX\\\\tex/latex/amsmath\\\\amsgen.sty))\\r\n",
      "(C:\\\\Users\\\\Adam\\\\AppData\\\\Local\\\\Programs\\\\MiKTeX\\\\tex/latex/amsmath\\\\amsbsy.sty)\\r\n",
      "(C:\\\\Users\\\\Adam\\\\AppData\\\\Local\\\\Programs\\\\MiKTeX\\\\tex/latex/amsmath\\\\amsopn.sty))\\r\n",
      "(C:\\\\Users\\\\Adam\\\\AppData\\\\Local\\\\Programs\\\\MiKTeX\\\\tex/latex/graphics\\\\color.sty\\r\n",
      "(C:\\\\Users\\\\Adam\\\\AppData\\\\Local\\\\Programs\\\\MiKTeX\\\\tex/latex/graphics-cfg\\\\color.cfg)\\r\n",
      "(C:\\\\Users\\\\Adam\\\\AppData\\\\Local\\\\Programs\\\\MiKTeX\\\\tex/latex/graphics-def\\\\pdftex.def)\\r\n",
      " (C:\\\\Users\\\\Adam\\\\AppData\\\\Local\\\\Programs\\\\MiKTeX\\\\tex/latex/graphics\\\\mathcolor.ltx)\\r\n",
      ") (C:\\\\Users\\\\Adam\\\\AppData\\\\Local\\\\Programs\\\\MiKTeX\\\\tex/latex/enumitem\\\\enumitem.sty)\\r\n",
      " (C:\\\\Users\\\\Adam\\\\AppData\\\\Local\\\\Programs\\\\MiKTeX\\\\tex/latex/fancyhdr\\\\fancyhdr.sty)\\r\n",
      "(C:\\\\Users\\\\Adam\\\\AppData\\\\Local\\\\Programs\\\\MiKTeX\\\\tex/latex/float\\\\float.sty)\\r\n",
      "(C:\\\\Users\\\\Adam\\\\AppData\\\\Local\\\\Programs\\\\MiKTeX\\\\tex/latex/graphics\\\\graphicx.sty\\r\n",
      "(C:\\\\Users\\\\Adam\\\\AppData\\\\Local\\\\Programs\\\\MiKTeX\\\\tex/latex/graphics\\\\graphics.sty\\r\n",
      "(C:\\\\Users\\\\Adam\\\\AppData\\\\Local\\\\Programs\\\\MiKTeX\\\\tex/latex/graphics\\\\trig.sty)\\r\n",
      "(C:\\\\Users\\\\Adam\\\\AppData\\\\Local\\\\Programs\\\\MiKTeX\\\\tex/latex/graphics-cfg\\\\graphics.cf\\r\n",
      "g))) (C:\\\\Users\\\\Adam\\\\AppData\\\\Local\\\\Programs\\\\MiKTeX\\\\tex/latex/base\\\\ifthen.sty)\\r\n",
      "(C:\\\\Users\\\\Adam\\\\AppData\\\\Local\\\\Programs\\\\MiKTeX\\\\tex/latex/base\\\\inputenc.sty)\\r\n",
      "(C:\\\\Users\\\\Adam\\\\AppData\\\\Local\\\\Programs\\\\MiKTeX\\\\tex/latex/lm\\\\lmodern.sty)\\r\n",
      "(C:\\\\Users\\\\Adam\\\\AppData\\\\Local\\\\Programs\\\\MiKTeX\\\\tex/latex/ocgx\\\\ocgx.sty\\r\n",
      "(C:\\\\Users\\\\Adam\\\\AppData\\\\Local\\\\Programs\\\\MiKTeX\\\\tex/latex/ocg-p\\\\ocg-p.sty\\r\n",
      "(C:\\\\Users\\\\Adam\\\\AppData\\\\Local\\\\Programs\\\\MiKTeX\\\\tex/latex/eso-pic\\\\eso-pic.sty)\\r\n",
      "(C:\\\\Users\\\\Adam\\\\AppData\\\\Local\\\\Programs\\\\MiKTeX\\\\tex/generic/iftex\\\\ifpdf.sty)\\r\n",
      "(C:\\\\Users\\\\Adam\\\\AppData\\\\Local\\\\Programs\\\\MiKTeX\\\\tex/generic/iftex\\\\ifxetex.sty)\\r\n",
      "(C:\\\\Users\\\\Adam\\\\AppData\\\\Local\\\\Programs\\\\MiKTeX\\\\tex/latex/xkeyval\\\\xkeyval.sty\\r\n",
      "(C:\\\\Users\\\\Adam\\\\AppData\\\\Local\\\\Programs\\\\MiKTeX\\\\tex/generic/xkeyval\\\\xkeyval.tex\\r\n",
      "(C:\\\\Users\\\\Adam\\\\AppData\\\\Local\\\\Programs\\\\MiKTeX\\\\tex/generic/xkeyval\\\\xkvutils.tex))\\r\n",
      "))) (C:\\\\Users\\\\Adam\\\\AppData\\\\Local\\\\Programs\\\\MiKTeX\\\\tex/latex/polski\\\\polski.sty\\r\n",
      "   Inputenc package detected. Catcodes not changed.\\r\n",
      "   Switching to Polish text encoding and Polish maths fonts.\\r\n",
      "(C:\\\\Users\\\\Adam\\\\AppData\\\\Local\\\\Programs\\\\MiKTeX\\\\tex/latex/base\\\\ot4enc.def)\\r\n",
      "(C:\\\\Users\\\\Adam\\\\AppData\\\\Local\\\\Programs\\\\MiKTeX\\\\tex/latex/polski\\\\ot4cmr.fd))\\r\n",
      "(C:\\\\Users\\\\Adam\\\\AppData\\\\Local\\\\Programs\\\\MiKTeX\\\\tex/latex/tcolorbox\\\\tcolorbox.sty\\r\n",
      "(C:\\\\Users\\\\Adam\\\\AppData\\\\Local\\\\Programs\\\\MiKTeX\\\\tex/latex/pgf/basiclayer\\\\pgf.sty\\r\n",
      "(C:\\\\Users\\\\Adam\\\\AppData\\\\Local\\\\Programs\\\\MiKTeX\\\\tex/latex/pgf/utilities\\\\pgfrcs.sty\\r\n",
      "\\r\n",
      "(C:\\\\Users\\\\Adam\\\\AppData\\\\Local\\\\Programs\\\\MiKTeX\\\\tex/generic/pgf/utilities\\\\pgfutil-\\r\n",
      "common.tex)\\r\n",
      "(C:\\\\Users\\\\Adam\\\\AppData\\\\Local\\\\Programs\\\\MiKTeX\\\\tex/generic/pgf/utilities\\\\pgfutil-\\r\n",
      "latex.def)\\r\n",
      "(C:\\\\Users\\\\Adam\\\\AppData\\\\Local\\\\Programs\\\\MiKTeX\\\\tex/generic/pgf/utilities\\\\pgfrcs.c\\r\n",
      "ode.tex\\r\n",
      "(C:\\\\Users\\\\Adam\\\\AppData\\\\Local\\\\Programs\\\\MiKTeX\\\\tex/generic/pgf\\\\pgf.revision.tex))\\r\n",
      ")\\r\n",
      "(C:\\\\Users\\\\Adam\\\\AppData\\\\Local\\\\Programs\\\\MiKTeX\\\\tex/latex/pgf/basiclayer\\\\pgfcore.s\\r\n",
      "ty\\r\n",
      "(C:\\\\Users\\\\Adam\\\\AppData\\\\Local\\\\Programs\\\\MiKTeX\\\\tex/latex/pgf/systemlayer\\\\pgfsys.s\\r\n",
      "ty\\r\n",
      "(C:\\\\Users\\\\Adam\\\\AppData\\\\Local\\\\Programs\\\\MiKTeX\\\\tex/generic/pgf/systemlayer\\\\pgfsys\\r\n",
      ".code.tex\\r\n",
      "(C:\\\\Users\\\\Adam\\\\AppData\\\\Local\\\\Programs\\\\MiKTeX\\\\tex/generic/pgf/utilities\\\\pgfkeys.\\r\n",
      "code.tex\\r\n",
      "(C:\\\\Users\\\\Adam\\\\AppData\\\\Local\\\\Programs\\\\MiKTeX\\\\tex/generic/pgf/utilities\\\\pgfkeysl\\r\n",
      "ibraryfiltered.code.tex))\\r\n",
      "(C:\\\\Users\\\\Adam\\\\AppData\\\\Local\\\\Programs\\\\MiKTeX\\\\tex/generic/pgf/systemlayer\\\\pgf.cf\\r\n",
      "g)\\r\n",
      "(C:\\\\Users\\\\Adam\\\\AppData\\\\Local\\\\Programs\\\\MiKTeX\\\\tex/generic/pgf/systemlayer\\\\pgfsys\\r\n",
      "-pdftex.def\\r\n",
      "(C:\\\\Users\\\\Adam\\\\AppData\\\\Local\\\\Programs\\\\MiKTeX\\\\tex/generic/pgf/systemlayer\\\\pgfsys\\r\n",
      "-common-pdf.def)))\\r\n",
      "(C:\\\\Users\\\\Adam\\\\AppData\\\\Local\\\\Programs\\\\MiKTeX\\\\tex/generic/pgf/systemlayer\\\\pgfsys\\r\n",
      "softpath.code.tex)\\r\n",
      "(C:\\\\Users\\\\Adam\\\\AppData\\\\Local\\\\Programs\\\\MiKTeX\\\\tex/generic/pgf/systemlayer\\\\pgfsys\\r\n",
      "protocol.code.tex))\\r\n",
      "(C:\\\\Users\\\\Adam\\\\AppData\\\\Local\\\\Programs\\\\MiKTeX\\\\tex/latex/xcolor\\\\xcolor.sty\\r\n",
      "(C:\\\\Users\\\\Adam\\\\AppData\\\\Local\\\\Programs\\\\MiKTeX\\\\tex/latex/graphics-cfg\\\\color.cfg)\\r\n",
      "(C:\\\\Users\\\\Adam\\\\AppData\\\\Local\\\\Programs\\\\MiKTeX\\\\tex/latex/graphics\\\\mathcolor.ltx))\\r\n",
      "\\r\n",
      "(C:\\\\Users\\\\Adam\\\\AppData\\\\Local\\\\Programs\\\\MiKTeX\\\\tex/generic/pgf/basiclayer\\\\pgfcore\\r\n",
      ".code.tex\\r\n",
      "(C:\\\\Users\\\\Adam\\\\AppData\\\\Local\\\\Programs\\\\MiKTeX\\\\tex/generic/pgf/math\\\\pgfmath.code.\\r\n",
      "tex\\r\n",
      "(C:\\\\Users\\\\Adam\\\\AppData\\\\Local\\\\Programs\\\\MiKTeX\\\\tex/generic/pgf/math\\\\pgfmathutil.c\\r\n",
      "ode.tex)\\r\n",
      "(C:\\\\Users\\\\Adam\\\\AppData\\\\Local\\\\Programs\\\\MiKTeX\\\\tex/generic/pgf/math\\\\pgfmathparser\\r\n",
      ".code.tex)\\r\n",
      "(C:\\\\Users\\\\Adam\\\\AppData\\\\Local\\\\Programs\\\\MiKTeX\\\\tex/generic/pgf/math\\\\pgfmathfuncti\\r\n",
      "ons.code.tex)\\r\n",
      "(C:\\\\Users\\\\Adam\\\\AppData\\\\Local\\\\Programs\\\\MiKTeX\\\\tex/generic/pgf/math\\\\pgfmathfuncti\\r\n",
      "ons.basic.code.tex)\\r\n",
      "(C:\\\\Users\\\\Adam\\\\AppData\\\\Local\\\\Programs\\\\MiKTeX\\\\tex/generic/pgf/math\\\\pgfmathfuncti\\r\n",
      "ons.trigonometric.code.tex)\\r\n",
      "(C:\\\\Users\\\\Adam\\\\AppData\\\\Local\\\\Programs\\\\MiKTeX\\\\tex/generic/pgf/math\\\\pgfmathfuncti\\r\n",
      "ons.random.code.tex)\\r\n",
      "(C:\\\\Users\\\\Adam\\\\AppData\\\\Local\\\\Programs\\\\MiKTeX\\\\tex/generic/pgf/math\\\\pgfmathfuncti\\r\n",
      "ons.comparison.code.tex)\\r\n",
      "(C:\\\\Users\\\\Adam\\\\AppData\\\\Local\\\\Programs\\\\MiKTeX\\\\tex/generic/pgf/math\\\\pgfmathfuncti\\r\n",
      "ons.base.code.tex)\\r\n",
      "(C:\\\\Users\\\\Adam\\\\AppData\\\\Local\\\\Programs\\\\MiKTeX\\\\tex/generic/pgf/math\\\\pgfmathfuncti\\r\n",
      "ons.round.code.tex)\\r\n",
      "(C:\\\\Users\\\\Adam\\\\AppData\\\\Local\\\\Programs\\\\MiKTeX\\\\tex/generic/pgf/math\\\\pgfmathfuncti\\r\n",
      "ons.misc.code.tex)\\r\n",
      "(C:\\\\Users\\\\Adam\\\\AppData\\\\Local\\\\Programs\\\\MiKTeX\\\\tex/generic/pgf/math\\\\pgfmathfuncti\\r\n",
      "ons.integerarithmetics.code.tex)\\r\n",
      "(C:\\\\Users\\\\Adam\\\\AppData\\\\Local\\\\Programs\\\\MiKTeX\\\\tex/generic/pgf/math\\\\pgfmathcalc.c\\r\n",
      "ode.tex)\\r\n",
      "(C:\\\\Users\\\\Adam\\\\AppData\\\\Local\\\\Programs\\\\MiKTeX\\\\tex/generic/pgf/math\\\\pgfmathfloat.\\r\n",
      "code.tex))\\r\n",
      "(C:\\\\Users\\\\Adam\\\\AppData\\\\Local\\\\Programs\\\\MiKTeX\\\\tex/generic/pgf/math\\\\pgfint.code.t\\r\n",
      "ex)\\r\n",
      "(C:\\\\Users\\\\Adam\\\\AppData\\\\Local\\\\Programs\\\\MiKTeX\\\\tex/generic/pgf/basiclayer\\\\pgfcore\\r\n",
      "points.code.tex)\\r\n",
      "(C:\\\\Users\\\\Adam\\\\AppData\\\\Local\\\\Programs\\\\MiKTeX\\\\tex/generic/pgf/basiclayer\\\\pgfcore\\r\n",
      "pathconstruct.code.tex)\\r\n",
      "(C:\\\\Users\\\\Adam\\\\AppData\\\\Local\\\\Programs\\\\MiKTeX\\\\tex/generic/pgf/basiclayer\\\\pgfcore\\r\n",
      "pathusage.code.tex)\\r\n",
      "(C:\\\\Users\\\\Adam\\\\AppData\\\\Local\\\\Programs\\\\MiKTeX\\\\tex/generic/pgf/basiclayer\\\\pgfcore\\r\n",
      "scopes.code.tex)\\r\n",
      "(C:\\\\Users\\\\Adam\\\\AppData\\\\Local\\\\Programs\\\\MiKTeX\\\\tex/generic/pgf/basiclayer\\\\pgfcore\\r\n",
      "graphicstate.code.tex)\\r\n",
      "(C:\\\\Users\\\\Adam\\\\AppData\\\\Local\\\\Programs\\\\MiKTeX\\\\tex/generic/pgf/basiclayer\\\\pgfcore\\r\n",
      "transformations.code.tex)\\r\n",
      "(C:\\\\Users\\\\Adam\\\\AppData\\\\Local\\\\Programs\\\\MiKTeX\\\\tex/generic/pgf/basiclayer\\\\pgfcore\\r\n",
      "quick.code.tex)\\r\n",
      "(C:\\\\Users\\\\Adam\\\\AppData\\\\Local\\\\Programs\\\\MiKTeX\\\\tex/generic/pgf/basiclayer\\\\pgfcore\\r\n",
      "objects.code.tex)\\r\n",
      "(C:\\\\Users\\\\Adam\\\\AppData\\\\Local\\\\Programs\\\\MiKTeX\\\\tex/generic/pgf/basiclayer\\\\pgfcore\\r\n",
      "pathprocessing.code.tex)\\r\n",
      "(C:\\\\Users\\\\Adam\\\\AppData\\\\Local\\\\Programs\\\\MiKTeX\\\\tex/generic/pgf/basiclayer\\\\pgfcore\\r\n",
      "arrows.code.tex)\\r\n",
      "(C:\\\\Users\\\\Adam\\\\AppData\\\\Local\\\\Programs\\\\MiKTeX\\\\tex/generic/pgf/basiclayer\\\\pgfcore\\r\n",
      "shade.code.tex)\\r\n",
      "(C:\\\\Users\\\\Adam\\\\AppData\\\\Local\\\\Programs\\\\MiKTeX\\\\tex/generic/pgf/basiclayer\\\\pgfcore\\r\n",
      "image.code.tex)\\r\n",
      "(C:\\\\Users\\\\Adam\\\\AppData\\\\Local\\\\Programs\\\\MiKTeX\\\\tex/generic/pgf/basiclayer\\\\pgfcore\\r\n",
      "external.code.tex)\\r\n",
      "(C:\\\\Users\\\\Adam\\\\AppData\\\\Local\\\\Programs\\\\MiKTeX\\\\tex/generic/pgf/basiclayer\\\\pgfcore\\r\n",
      "layers.code.tex)\\r\n",
      "(C:\\\\Users\\\\Adam\\\\AppData\\\\Local\\\\Programs\\\\MiKTeX\\\\tex/generic/pgf/basiclayer\\\\pgfcore\\r\n",
      "transparency.code.tex)\\r\n",
      "(C:\\\\Users\\\\Adam\\\\AppData\\\\Local\\\\Programs\\\\MiKTeX\\\\tex/generic/pgf/basiclayer\\\\pgfcore\\r\n",
      "patterns.code.tex)\\r\n",
      "(C:\\\\Users\\\\Adam\\\\AppData\\\\Local\\\\Programs\\\\MiKTeX\\\\tex/generic/pgf/basiclayer\\\\pgfcore\\r\n",
      "rdf.code.tex)))\\r\n",
      "(C:\\\\Users\\\\Adam\\\\AppData\\\\Local\\\\Programs\\\\MiKTeX\\\\tex/generic/pgf/modules\\\\pgfmodules\\r\n",
      "hapes.code.tex)\\r\n",
      "(C:\\\\Users\\\\Adam\\\\AppData\\\\Local\\\\Programs\\\\MiKTeX\\\\tex/generic/pgf/modules\\\\pgfmodulep\\r\n",
      "lot.code.tex)\\r\n",
      "(C:\\\\Users\\\\Adam\\\\AppData\\\\Local\\\\Programs\\\\MiKTeX\\\\tex/latex/pgf/compatibility\\\\pgfcom\\r\n",
      "p-version-0-65.sty)\\r\n",
      "(C:\\\\Users\\\\Adam\\\\AppData\\\\Local\\\\Programs\\\\MiKTeX\\\\tex/latex/pgf/compatibility\\\\pgfcom\\r\n",
      "p-version-1-18.sty))\\r\n",
      "(C:\\\\Users\\\\Adam\\\\AppData\\\\Local\\\\Programs\\\\MiKTeX\\\\tex/latex/tools\\\\verbatim.sty)\\r\n",
      "(C:\\\\Users\\\\Adam\\\\AppData\\\\Local\\\\Programs\\\\MiKTeX\\\\tex/latex/environ\\\\environ.sty\\r\n",
      "(C:\\\\Users\\\\Adam\\\\AppData\\\\Local\\\\Programs\\\\MiKTeX\\\\tex/latex/trimspaces\\\\trimspaces.st\\r\n",
      "y))\\r\n",
      "(C:\\\\Users\\\\Adam\\\\AppData\\\\Local\\\\Programs\\\\MiKTeX\\\\tex/latex/etoolbox\\\\etoolbox.sty))\\r\n",
      "(C:\\\\Users\\\\Adam\\\\AppData\\\\Local\\\\Programs\\\\MiKTeX\\\\tex/latex/tcolorbox\\\\tcbraster.code\\r\n",
      ".tex\\r\n",
      "Library (tcolorbox): \\'tcbraster.code.tex\\' version \\'6.0.4\\'\\r\n",
      ")\\r\n",
      "(C:\\\\Users\\\\Adam\\\\AppData\\\\Local\\\\Programs\\\\MiKTeX\\\\tex/latex/tcolorbox\\\\tcbskins.code.\\r\n",
      "tex\\r\n",
      "Library (tcolorbox): \\'tcbskins.code.tex\\' version \\'6.0.4\\'\\r\n",
      "\\r\n",
      "(C:\\\\Users\\\\Adam\\\\AppData\\\\Local\\\\Programs\\\\MiKTeX\\\\tex/latex/pgf/frontendlayer\\\\tikz.s\\r\n",
      "ty\\r\n",
      "(C:\\\\Users\\\\Adam\\\\AppData\\\\Local\\\\Programs\\\\MiKTeX\\\\tex/latex/pgf/utilities\\\\pgffor.sty\\r\n",
      "\\r\n",
      "(C:\\\\Users\\\\Adam\\\\AppData\\\\Local\\\\Programs\\\\MiKTeX\\\\tex/latex/pgf/utilities\\\\pgfkeys.st\\r\n",
      "y\\r\n",
      "(C:\\\\Users\\\\Adam\\\\AppData\\\\Local\\\\Programs\\\\MiKTeX\\\\tex/generic/pgf/utilities\\\\pgfkeys.\\r\n",
      "code.tex))\\r\n",
      "(C:\\\\Users\\\\Adam\\\\AppData\\\\Local\\\\Programs\\\\MiKTeX\\\\tex/latex/pgf/math\\\\pgfmath.sty\\r\n",
      "(C:\\\\Users\\\\Adam\\\\AppData\\\\Local\\\\Programs\\\\MiKTeX\\\\tex/generic/pgf/math\\\\pgfmath.code.\\r\n",
      "tex))\\r\n",
      "(C:\\\\Users\\\\Adam\\\\AppData\\\\Local\\\\Programs\\\\MiKTeX\\\\tex/generic/pgf/utilities\\\\pgffor.c\\r\n",
      "ode.tex))\\r\n",
      "(C:\\\\Users\\\\Adam\\\\AppData\\\\Local\\\\Programs\\\\MiKTeX\\\\tex/generic/pgf/frontendlayer/tikz\\r\n",
      "\\\\tikz.code.tex\\r\n",
      "(C:\\\\Users\\\\Adam\\\\AppData\\\\Local\\\\Programs\\\\MiKTeX\\\\tex/generic/pgf/libraries\\\\pgflibra\\r\n",
      "ryplothandlers.code.tex)\\r\n",
      "(C:\\\\Users\\\\Adam\\\\AppData\\\\Local\\\\Programs\\\\MiKTeX\\\\tex/generic/pgf/modules\\\\pgfmodulem\\r\n",
      "atrix.code.tex)\\r\n",
      "(C:\\\\Users\\\\Adam\\\\AppData\\\\Local\\\\Programs\\\\MiKTeX\\\\tex/generic/pgf/frontendlayer/tikz\\r\n",
      "/libraries\\\\tikzlibrarytopaths.code.tex)))\\r\n",
      "(C:\\\\Users\\\\Adam\\\\AppData\\\\Local\\\\Programs\\\\MiKTeX\\\\tex/latex/tikzfill\\\\tikzfill.image.\\r\n",
      "sty\\r\n",
      "(C:\\\\Users\\\\Adam\\\\AppData\\\\Local\\\\Programs\\\\MiKTeX\\\\tex/latex/tikzfill\\\\tikzfill-common\\r\n",
      ".sty)\\r\n",
      "(C:\\\\Users\\\\Adam\\\\AppData\\\\Local\\\\Programs\\\\MiKTeX\\\\tex/latex/tikzfill\\\\tikzlibraryfill\\r\n",
      ".image.code.tex))\\r\n",
      "(C:\\\\Users\\\\Adam\\\\AppData\\\\Local\\\\Programs\\\\MiKTeX\\\\tex/latex/tcolorbox\\\\tcbskinsjigsaw\\r\n",
      ".code.tex\\r\n",
      "Library (tcolorbox): \\'tcbskinsjigsaw.code.tex\\' version \\'6.0.4\\'\\r\n",
      "))\\r\n",
      "(C:\\\\Users\\\\Adam\\\\AppData\\\\Local\\\\Programs\\\\MiKTeX\\\\tex/latex/tcolorbox\\\\tcbbreakable.c\\r\n",
      "ode.tex\\r\n",
      "Library (tcolorbox): \\'tcbbreakable.code.tex\\' version \\'6.0.4\\'\\r\n",
      "(C:\\\\Users\\\\Adam\\\\AppData\\\\Local\\\\Programs\\\\MiKTeX\\\\tex/latex/pdfcol\\\\pdfcol.sty\\r\n",
      "(C:\\\\Users\\\\Adam\\\\AppData\\\\Local\\\\Programs\\\\MiKTeX\\\\tex/generic/ltxcmds\\\\ltxcmds.sty)\\r\n",
      "(C:\\\\Users\\\\Adam\\\\AppData\\\\Local\\\\Programs\\\\MiKTeX\\\\tex/generic/infwarerr\\\\infwarerr.st\\r\n",
      "y)))\\r\n",
      "(C:\\\\Users\\\\Adam\\\\AppData\\\\Local\\\\Programs\\\\MiKTeX\\\\tex/latex/tcolorbox\\\\tcbhooks.code.\\r\n",
      "tex\\r\n",
      "Library (tcolorbox): \\'tcbhooks.code.tex\\' version \\'6.0.4\\'\\r\n",
      ")\\r\n",
      "(C:\\\\Users\\\\Adam\\\\AppData\\\\Local\\\\Programs\\\\MiKTeX\\\\tex/latex/tcolorbox\\\\tcbtheorems.co\\r\n",
      "de.tex\\r\n",
      "Library (tcolorbox): \\'tcbtheorems.code.tex\\' version \\'6.0.4\\'\\r\n",
      ")\\r\n",
      "(C:\\\\Users\\\\Adam\\\\AppData\\\\Local\\\\Programs\\\\MiKTeX\\\\tex/latex/tcolorbox\\\\tcbfitting.cod\\r\n",
      "e.tex\\r\n",
      "Library (tcolorbox): \\'tcbfitting.code.tex\\' version \\'6.0.4\\'\\r\n",
      ")\\r\n",
      "(C:\\\\Users\\\\Adam\\\\AppData\\\\Local\\\\Programs\\\\MiKTeX\\\\tex/latex/tcolorbox\\\\tcblistingsutf\\r\n",
      "8.code.tex\\r\n",
      "Library (tcolorbox): \\'tcblistingsutf8.code.tex\\' version \\'6.0.4\\'\\r\n",
      "\\r\n",
      "(C:\\\\Users\\\\Adam\\\\AppData\\\\Local\\\\Programs\\\\MiKTeX\\\\tex/latex/tcolorbox\\\\tcblistings.co\\r\n",
      "de.tex\\r\n",
      "Library (tcolorbox): \\'tcblistings.code.tex\\' version \\'6.0.4\\'\\r\n",
      "(C:\\\\Users\\\\Adam\\\\AppData\\\\Local\\\\Programs\\\\MiKTeX\\\\tex/latex/listings\\\\listings.sty\\r\n",
      "(C:\\\\Users\\\\Adam\\\\AppData\\\\Local\\\\Programs\\\\MiKTeX\\\\tex/latex/listings\\\\lstmisc.sty)\\r\n",
      "(C:\\\\Users\\\\Adam\\\\AppData\\\\Local\\\\Programs\\\\MiKTeX\\\\tex/latex/listings\\\\listings.cfg))\\r\n",
      "(C:\\\\Users\\\\Adam\\\\AppData\\\\Local\\\\Programs\\\\MiKTeX\\\\tex/latex/tcolorbox\\\\tcblistingscor\\r\n",
      "e.code.tex\\r\n",
      "Library (tcolorbox): \\'tcblistingscore.code.tex\\' version \\'6.0.4\\'\\r\n",
      "\\r\n",
      "(C:\\\\Users\\\\Adam\\\\AppData\\\\Local\\\\Programs\\\\MiKTeX\\\\tex/latex/tcolorbox\\\\tcbprocessing.\\r\n",
      "code.tex\\r\n",
      "Library (tcolorbox): \\'tcbprocessing.code.tex\\' version \\'6.0.4\\'\\r\n",
      "\\r\n",
      "(C:\\\\Users\\\\Adam\\\\AppData\\\\Local\\\\Programs\\\\MiKTeX\\\\tex/generic/pdftexcmds\\\\pdftexcmds.\\r\n",
      "sty) (C:\\\\Users\\\\Adam\\\\AppData\\\\Local\\\\Programs\\\\MiKTeX\\\\tex/latex/tools\\\\shellesc.sty)\\r\n",
      ")))\\r\n",
      "(C:\\\\Users\\\\Adam\\\\AppData\\\\Local\\\\Programs\\\\MiKTeX\\\\tex/latex/listingsutf8\\\\listingsutf\\r\n",
      "8.sty\\r\n",
      "(C:\\\\Users\\\\Adam\\\\AppData\\\\Local\\\\Programs\\\\MiKTeX\\\\tex/generic/stringenc\\\\stringenc.st\\r\n",
      "y\\r\n",
      "(C:\\\\Users\\\\Adam\\\\AppData\\\\Local\\\\Programs\\\\MiKTeX\\\\tex/generic/pdfescape\\\\pdfescape.st\\r\n",
      "y))))\\r\n",
      "(C:\\\\Users\\\\Adam\\\\AppData\\\\Local\\\\Programs\\\\MiKTeX\\\\tex/latex/tcolorbox\\\\tcbexternal.co\\r\n",
      "de.tex\\r\n",
      "Library (tcolorbox): \\'tcbexternal.code.tex\\' version \\'6.0.4\\'\\r\n",
      ")\\r\n",
      "(C:\\\\Users\\\\Adam\\\\AppData\\\\Local\\\\Programs\\\\MiKTeX\\\\tex/latex/tcolorbox\\\\tcbmagazine.co\\r\n",
      "de.tex\\r\n",
      "Library (tcolorbox): \\'tcbmagazine.code.tex\\' version \\'6.0.4\\'\\r\n",
      ")\\r\n",
      "(C:\\\\Users\\\\Adam\\\\AppData\\\\Local\\\\Programs\\\\MiKTeX\\\\tex/latex/tcolorbox\\\\tcbvignette.co\\r\n",
      "de.tex\\r\n",
      "Library (tcolorbox): \\'tcbvignette.code.tex\\' version \\'6.0.4\\'\\r\n",
      "\\r\n",
      "(C:\\\\Users\\\\Adam\\\\AppData\\\\Local\\\\Programs\\\\MiKTeX\\\\tex/generic/pgf/frontendlayer/tikz\\r\n",
      "/libraries\\\\tikzlibraryfadings.code.tex\\r\n",
      "(C:\\\\Users\\\\Adam\\\\AppData\\\\Local\\\\Programs\\\\MiKTeX\\\\tex/generic/pgf/libraries\\\\pgflibra\\r\n",
      "ryfadings.code.tex)))\\r\n",
      "(C:\\\\Users\\\\Adam\\\\AppData\\\\Local\\\\Programs\\\\MiKTeX\\\\tex/latex/tcolorbox\\\\tcbposter.code\\r\n",
      ".tex\\r\n",
      "Library (tcolorbox): \\'tcbposter.code.tex\\' version \\'6.0.4\\'\\r\n",
      ") (C:\\\\Users\\\\Adam\\\\AppData\\\\Local\\\\Programs\\\\MiKTeX\\\\tex/latex/lm\\\\ot4lmr.fd)\\r\n",
      "(C:\\\\Users\\\\Adam\\\\AppData\\\\Local\\\\Programs\\\\MiKTeX\\\\tex/latex/l3backend\\\\l3backend-pdft\\r\n",
      "ex.def) (Bulbatologia-Bulbatolodzy-Bulbastyka-Sem 1-Kol 2.aux)\\r\n",
      "*geometry* driver: auto-detecting\\r\n",
      "*geometry* detected driver: pdftex\\r\n",
      "\\r\n",
      "(C:\\\\Users\\\\Adam\\\\AppData\\\\Local\\\\Programs\\\\MiKTeX\\\\tex/context/base/mkii\\\\supp-pdf.mki\\r\n",
      "i\\r\n",
      "[Loading MPS to PDF converter (version 2006.09.02).]\\r\n",
      ")\\r\n",
      "(C:\\\\Users\\\\Adam\\\\AppData\\\\Local\\\\Programs\\\\MiKTeX\\\\tex/latex/epstopdf-pkg\\\\epstopdf-ba\\r\n",
      "se.sty\\r\n",
      "(C:\\\\Users\\\\Adam\\\\AppData\\\\Local\\\\Programs\\\\MiKTeX\\\\tex/latex/00miktex\\\\epstopdf-sys.cf\\r\n",
      "g)) (C:\\\\Users\\\\Adam\\\\AppData\\\\Local\\\\Programs\\\\MiKTeX\\\\tex/latex/polski\\\\omlplm.fd)\\r\n",
      "(C:\\\\Users\\\\Adam\\\\AppData\\\\Local\\\\Programs\\\\MiKTeX\\\\tex/latex/polski\\\\omsplsy.fd)\\r\n",
      "(C:\\\\Users\\\\Adam\\\\AppData\\\\Local\\\\Programs\\\\MiKTeX\\\\tex/latex/amsfonts\\\\umsa.fd)\\r\n",
      "(C:\\\\Users\\\\Adam\\\\AppData\\\\Local\\\\Programs\\\\MiKTeX\\\\tex/latex/amsfonts\\\\umsb.fd)\\r\n",
      "/OCocg0 /OCocg1 /OCocg2 /OCocg3 /OCocg4 [1{C:/Users/Adam/AppData/Local/MiKTeX/f\\r\n",
      "onts/map/pdftex/pdftex.map}{C:/Users/Adam/AppData/Local/Programs/MiKTeX/fonts/e\\r\n",
      "nc/dvips/lm/lm-rm.enc}{C:/Users/Adam/AppData/Local/Programs/MiKTeX/fonts/enc/dv\\r\n",
      "ips/pl/plrm.enc}{C:/Users/Adam/AppData/Local/Programs/MiKTeX/fonts/enc/dvips/pl\\r\n",
      "/plmi.enc}{C:/Users/Adam/AppData/Local/Programs/MiKTeX/fonts/enc/dvips/pl/plms.\\r\n",
      "enc} <../pics/obszar0.pdf>]\\r\n",
      "(Bulbatologia-Bulbatolodzy-Bulbastyka-Sem 1-Kol 2.aux) )<C:/Users/Adam/AppData/\\r\n",
      "Local/Programs/MiKTeX/fonts/type1/public/amsfonts/cm/cmex10.pfb><C:/Users/Adam/\\r\n",
      "AppData/Local/Programs/MiKTeX/fonts/type1/public/lm/lmbx12.pfb><C:/Users/Adam/A\\r\n",
      "ppData/Local/Programs/MiKTeX/fonts/type1/public/lm/lmbx6.pfb><C:/Users/Adam/App\\r\n",
      "Data/Local/Programs/MiKTeX/fonts/type1/public/lm/lmr12.pfb><C:/Users/Adam/AppDa\\r\n",
      "ta/Local/Programs/MiKTeX/fonts/type1/public/pl/plmi12.pfb><C:/Users/Adam/AppDat\\r\n",
      "a/Local/Programs/MiKTeX/fonts/type1/public/pl/plr12.pfb><C:/Users/Adam/AppData/\\r\n",
      "Local/Programs/MiKTeX/fonts/type1/public/pl/plr8.pfb><C:/Users/Adam/AppData/Loc\\r\n",
      "al/Programs/MiKTeX/fonts/type1/public/pl/plsy10.pfb>\\r\n",
      "Output written on \"Bulbatologia-Bulbatolodzy-Bulbastyka-Sem 1-Kol 2.pdf\" (1 pag\\r\n",
      "e\n",
      "134485 bytes).\\r\n",
      "Transcript written on \"Bulbatologia-Bulbatolodzy-Bulbastyka-Sem 1-Kol 2.log\".\\r\n",
      "'\n",
      "stderr=b'')\n"
     ]
    }
   ],
   "execution_count": 45
  },
  {
   "metadata": {},
   "cell_type": "markdown",
   "source": [
    "```{admonition} Uwaga\n",
    ":class: attention\n",
    "\n",
    "To co widać niżej to jest obraz stworzony z pdf-a.\n",
    "Kolor odpowiedzi jest 'blue' - czyli widoczne, do ukrycia po kliknięciu (w pliku pdf).\n",
    "Kolor można zmieniać w pliku tex. \n",
    "\n",
    "Widoczna jest tylko pierwsza strona. \n",
    "\n",
    "```"
   ],
   "id": "85028946c1b64a27"
  },
  {
   "metadata": {
    "ExecuteTime": {
     "end_time": "2024-09-17T21:58:04.180113Z",
     "start_time": "2024-09-17T21:58:02.638417Z"
    }
   },
   "cell_type": "code",
   "source": [
    "image = convert_from_path(f'wygenerowane/{nazwa_pliku}.pdf')\n",
    "image[0].save(f'wygenerowane/{nazwa_pliku}.png')\n",
    "display(Image(f'wygenerowane/{nazwa_pliku}.png', width=300))"
   ],
   "id": "763e92f1aeb5b4cb",
   "outputs": [
    {
     "data": {
      "image/png": "[encoded data removed]",
      "text/plain": [
       "<IPython.core.display.Image object>"
      ]
     },
     "metadata": {
      "image/png": {
       "width": 300
      }
     },
     "output_type": "display_data"
    }
   ],
   "execution_count": 46
  },
  {
   "metadata": {
    "ExecuteTime": {
     "end_time": "2024-09-17T21:53:14.881108Z",
     "start_time": "2024-09-17T21:53:14.878460Z"
    }
   },
   "cell_type": "code",
   "source": "",
   "id": "d2eb5a6ee2c09a62",
   "outputs": [],
   "execution_count": null
  }
 ],
 "metadata": {
  "kernelspec": {
   "display_name": "Python 3",
   "language": "python",
   "name": "python3"
  },
  "language_info": {
   "codemirror_mode": {
    "name": "ipython",
    "version": 2
   },
   "file_extension": ".py",
   "mimetype": "text/x-python",
   "name": "python",
   "nbconvert_exporter": "python",
   "pygments_lexer": "ipython2",
   "version": "2.7.6"
  }
 },
 "nbformat": 4,
 "nbformat_minor": 5
}
