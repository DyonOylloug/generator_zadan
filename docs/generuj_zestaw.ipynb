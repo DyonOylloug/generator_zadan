{
 "cells": [
  {
   "metadata": {},
   "cell_type": "markdown",
   "source": "# Generuj zestaw zadań",
   "id": "e6685f821bf3b135"
  },
  {
   "metadata": {},
   "cell_type": "markdown",
   "source": "[![Binder](https://mybinder.org/badge_logo.svg)](https://mybinder.org/v2/gh/DyonOylloug/generator_zadan/HEAD?labpath=docs%2Fgeneruj_zestaw.ipynb) - interaktywna sesja notebooka",
   "id": "ca8a7b6043e294a0"
  },
  {
   "metadata": {
    "ExecuteTime": {
     "end_time": "2024-09-14T09:08:37.803047Z",
     "start_time": "2024-09-14T09:08:37.796319Z"
    }
   },
   "cell_type": "code",
   "source": [
    "import os\n",
    "import sys\n",
    "from random import choice\n",
    "\n",
    "from IPython.display import display, Markdown, Latex\n",
    "\n",
    "import generator_zadan.generatory as gz\n",
    "\n",
    "print(gz.__version__)"
   ],
   "id": "e09fa3157fc76075",
   "outputs": [
    {
     "name": "stdout",
     "output_type": "stream",
     "text": [
      "0.2.0\n"
     ]
    }
   ],
   "execution_count": 2
  },
  {
   "metadata": {},
   "cell_type": "markdown",
   "source": [
    "## Wybierz zadania\n",
    "\n",
    "\n",
    "__`Można komórki uruchamiać wielokrotnie. Aż się trafi ciekawe.`__\n",
    "\n",
    "\n",
    "Zmień __`zadanie_nr`__ na odpowiednio rozróżnialne __`zadanie_1`__,  __`zadanie_2`__ itp.\n",
    "\n",
    "Te będą potem przekazywane do funkcji generującej zestaw \n"
   ],
   "id": "92a5e20e31055a8b"
  },
  {
   "metadata": {},
   "cell_type": "markdown",
   "source": "### Liczby zespolone",
   "id": "200f7a6af031672a"
  },
  {
   "metadata": {
    "ExecuteTime": {
     "end_time": "2024-09-14T09:08:39.784686Z",
     "start_time": "2024-09-14T09:08:37.914982Z"
    }
   },
   "cell_type": "code",
   "source": [
    "zadanie = gz.rownanie_liniowe()\n",
    "print(f\"\\033[34m** Zadanie **\" + '*' * 82 + '\\033[0m')\n",
    "display(Markdown(zadanie[0].split('\\n')[0].replace('\\\\', '')))\n",
    "display(Latex('$$' + zadanie[0].split('\\n')[2] + '$$'))\n",
    "print(\"\\033[32m** Rozwiązanie **\" + '*' * 78 + '\\033[0m')\n",
    "display(Latex('$' + zadanie[1] + '$'))\n",
    "zadanie_1 = zadanie"
   ],
   "id": "5449b3729c720f05",
   "outputs": [
    {
     "name": "stdout",
     "output_type": "stream",
     "text": [
      "\u001B[34m** Zadanie ************************************************************************************\u001B[0m\n"
     ]
    },
    {
     "data": {
      "text/plain": [
       "<IPython.core.display.Markdown object>"
      ],
      "text/markdown": "Rozwiązać równanie w zbiorze liczb zespolonych. Sprawdzić rozwiązanie."
     },
     "metadata": {},
     "output_type": "display_data"
    },
    {
     "data": {
      "text/plain": [
       "<IPython.core.display.Latex object>"
      ],
      "text/latex": "$$\t\t\\left(4 - 3i\\right)z = -2 - 6i+\\left(2 - 5i\\right)z$$"
     },
     "metadata": {},
     "output_type": "display_data"
    },
    {
     "name": "stdout",
     "output_type": "stream",
     "text": [
      "\u001B[32m** Rozwiązanie ********************************************************************************\u001B[0m\n"
     ]
    },
    {
     "data": {
      "text/plain": [
       "<IPython.core.display.Latex object>"
      ],
      "text/latex": "$$z=-2 - i.$$"
     },
     "metadata": {},
     "output_type": "display_data"
    }
   ],
   "execution_count": 3
  },
  {
   "metadata": {
    "ExecuteTime": {
     "end_time": "2024-09-14T09:08:40.117782Z",
     "start_time": "2024-09-14T09:08:39.915766Z"
    }
   },
   "cell_type": "code",
   "source": [
    "zadanie = gz.rownanie_kwadratowe()\n",
    "print(f\"\\033[34m** Zadanie **\" + '*' * 82 + '\\033[0m')\n",
    "display(Markdown(zadanie[0].split('\\n')[0].replace('\\\\', '')))\n",
    "display(Latex('$$' + zadanie[0].split('\\n')[2] + '$$'))\n",
    "print(\"\\033[32m** Rozwiązanie **\" + '*' * 78 + '\\033[0m')\n",
    "display(Latex('$' + zadanie[1] + '$'))\n",
    "zadanie_2 = zadanie"
   ],
   "id": "63ea204b35f34245",
   "outputs": [
    {
     "name": "stdout",
     "output_type": "stream",
     "text": [
      "\u001B[34m** Zadanie ************************************************************************************\u001B[0m\n"
     ]
    },
    {
     "data": {
      "text/plain": [
       "<IPython.core.display.Markdown object>"
      ],
      "text/markdown": "Rozwiązać równanie w zbiorze liczb zespolonych. Sprawdzić jedno z rozwiązań."
     },
     "metadata": {},
     "output_type": "display_data"
    },
    {
     "data": {
      "text/plain": [
       "<IPython.core.display.Latex object>"
      ],
      "text/latex": "$$\t\t\\left(2 - i\\right)z^2 + \\left(11 + 7 i\\right) z + \\left(20 i\\right)=0$$"
     },
     "metadata": {},
     "output_type": "display_data"
    },
    {
     "name": "stdout",
     "output_type": "stream",
     "text": [
      "\u001B[32m** Rozwiązanie ********************************************************************************\u001B[0m\n"
     ]
    },
    {
     "data": {
      "text/plain": [
       "<IPython.core.display.Latex object>"
      ],
      "text/latex": "$$\\Delta = -8-6i, \\quad \\sqrt{\\Delta}=\\pm( 1 - 3 i), \\quad z_{1}=-2 - 2 i, \\quad z_{2}=-1 - 3 i$$"
     },
     "metadata": {},
     "output_type": "display_data"
    }
   ],
   "execution_count": 4
  },
  {
   "metadata": {
    "ExecuteTime": {
     "end_time": "2024-09-14T09:08:40.367998Z",
     "start_time": "2024-09-14T09:08:40.236446Z"
    }
   },
   "cell_type": "code",
   "source": [
    "zadanie = gz.pierwiastek_zespolony(stopien=choice([3, 4]))\n",
    "print(f\"\\033[34m** Zadanie **\" + '*' * 82 + '\\033[0m')\n",
    "display(Markdown(zadanie[0].split('\\n')[0].replace('\\\\', '')))\n",
    "display(Latex('$$' + zadanie[0].split('\\n')[2] + '$$'))\n",
    "print(\"\\033[32m** Rozwiązanie **\" + '*' * 78 + '\\033[0m')\n",
    "display(Latex('$' + zadanie[1] + '$'))\n",
    "zadanie_3 = zadanie"
   ],
   "id": "9474837fa71f3d66",
   "outputs": [
    {
     "name": "stdout",
     "output_type": "stream",
     "text": [
      "\u001B[34m** Zadanie ************************************************************************************\u001B[0m\n"
     ]
    },
    {
     "data": {
      "text/plain": [
       "<IPython.core.display.Markdown object>"
      ],
      "text/markdown": "Wyznaczyć wszystkie zadane pierwiastki zespolone i zaznaczyć je na płaszczyźnie zespolonej"
     },
     "metadata": {},
     "output_type": "display_data"
    },
    {
     "data": {
      "text/plain": [
       "<IPython.core.display.Latex object>"
      ],
      "text/latex": "$$\t\t\\sqrt[\\leftroot{2}\\uproot{-4} \\displaystyle ^{4}]{\\left(- \\frac{4 \\sqrt{6}}{3} + \\frac{4}{3} + i \\left(\\frac{4 \\sqrt{2}}{3} + \\frac{4 \\sqrt{3}}{3}\\right) \\right) \\left(-2 + 2 \\sqrt{2} i \\right)}$$"
     },
     "metadata": {},
     "output_type": "display_data"
    },
    {
     "name": "stdout",
     "output_type": "stream",
     "text": [
      "\u001B[32m** Rozwiązanie ********************************************************************************\u001B[0m\n"
     ]
    },
    {
     "data": {
      "text/plain": [
       "<IPython.core.display.Latex object>"
      ],
      "text/latex": "$$\\sqrt[\\leftroot{2}\\uproot{-4} \\displaystyle ^{4}]{-8 - 8 \\sqrt{3} i} = \\left\\{ -1 - \\sqrt{3} i, \\  1 + \\sqrt{3} i, \\  - \\sqrt{3} + i, \\  \\sqrt{3} - i\\right\\}.$$"
     },
     "metadata": {},
     "output_type": "display_data"
    }
   ],
   "execution_count": 5
  },
  {
   "metadata": {
    "ExecuteTime": {
     "end_time": "2024-09-14T09:08:40.979796Z",
     "start_time": "2024-09-14T09:08:40.606103Z"
    }
   },
   "cell_type": "code",
   "source": [
    "zadanie = gz.rownanie_ze_sprzezeniem(calkowite=choice([False, True]), kwadratowe=choice([False, True]))\n",
    "print(f\"\\033[34m** Zadanie **\" + '*' * 82 + '\\033[0m')\n",
    "display(Markdown(zadanie[0].split('\\n')[0].replace('\\\\', '')))\n",
    "display(Latex('$$' + zadanie[0].split('\\n')[2] + '$$'))\n",
    "print(\"\\033[32m** Rozwiązanie **\" + '*' * 78 + '\\033[0m')\n",
    "rozwiazanie = zadanie[1].replace('$ \\\\\\\\ \\n$', ' $ ').replace('$\\\\\\\\\\n$', ' $ ').replace('$ \\\\\\\\\\n$', ' $ ').split('$')\n",
    "for i in range(1, len(rozwiazanie) - 1):\n",
    "    display(Latex('$$' + rozwiazanie[i] + '$$'))\n",
    "zadanie_4 = zadanie"
   ],
   "id": "fed64507b29eaad3",
   "outputs": [
    {
     "name": "stdout",
     "output_type": "stream",
     "text": [
      "\u001B[34m** Zadanie ************************************************************************************\u001B[0m\n"
     ]
    },
    {
     "data": {
      "text/plain": [
       "<IPython.core.display.Markdown object>"
      ],
      "text/markdown": "Rozwiązać równanie w zbiorze liczb zespolonych"
     },
     "metadata": {},
     "output_type": "display_data"
    },
    {
     "data": {
      "text/plain": [
       "<IPython.core.display.Latex object>"
      ],
      "text/latex": "$$\t\tz \\left(-3 + 4 i\\right) + \\left(1 - 5 i\\right) \\overline{z} - 1 - i = 0$$"
     },
     "metadata": {},
     "output_type": "display_data"
    },
    {
     "name": "stdout",
     "output_type": "stream",
     "text": [
      "\u001B[32m** Rozwiązanie ********************************************************************************\u001B[0m\n"
     ]
    },
    {
     "data": {
      "text/plain": [
       "<IPython.core.display.Latex object>"
      ],
      "text/latex": "$$\\left(1 - 5 i\\right) \\left(x - i y\\right) + \\left(-3 + 4 i\\right) \\left(x + i y\\right) - 1 - i = 0, $$"
     },
     "metadata": {},
     "output_type": "display_data"
    },
    {
     "data": {
      "text/plain": [
       "<IPython.core.display.Latex object>"
      ],
      "text/latex": "$$ - i \\left(x \\left(1 - 2 i\\right) + y \\left(4 - 9 i\\right) + 1 - i\\right) = 0, $$"
     },
     "metadata": {},
     "output_type": "display_data"
    },
    {
     "data": {
      "text/plain": [
       "<IPython.core.display.Latex object>"
      ],
      "text/latex": "$$ \\left\\{\n\t\\begin{array}{c}\n\t\t- 2 x - 9 y - 1 = 0\\\\\n\t\t- x - 4 y - 1 = 0\n\t\\end{array}\n\\right. $$"
     },
     "metadata": {},
     "output_type": "display_data"
    },
    {
     "data": {
      "text/plain": [
       "<IPython.core.display.Latex object>"
      ],
      "text/latex": "$$ z = \\left\\{ x : -5, \\  y : 1\\right\\}.$$"
     },
     "metadata": {},
     "output_type": "display_data"
    }
   ],
   "execution_count": 6
  },
  {
   "metadata": {},
   "cell_type": "markdown",
   "source": "## Ustaw nazwy",
   "id": "521cc21f07383cf6"
  },
  {
   "metadata": {
    "ExecuteTime": {
     "end_time": "2024-09-14T09:08:41.242777Z",
     "start_time": "2024-09-14T09:08:41.237642Z"
    }
   },
   "cell_type": "code",
   "source": [
    "kierunek = 'KIERUNEK'  # bez podkreśleń !!! bo są błędy w kompilacji z podkreśleniami w nagłówku\n",
    "grupa = 'GRUPA'  # Grupa 11\n",
    "przedmiot = 'PRZEDMIOT'  # Matematyka Algebra\n",
    "semestr = 'SEMESTR'  # Semestr 1 \n",
    "kolokwium = 'NR1'  # Kolokwium nr 2\n",
    "data = '25 maja 2024'  # w stylu: 01 grudnia 2022 - będzie w nagłówku wydruku\n",
    "kolor_odpowiedzi = 'blue'  # 'white' - ukrywa, ale zostawia miejsce, 'brak' - ukrywa i chowa miejsce"
   ],
   "id": "d771398ed607d314",
   "outputs": [],
   "execution_count": 7
  },
  {
   "metadata": {},
   "cell_type": "markdown",
   "source": "## Generuj plik LaTeX z wybranych zadań",
   "id": "40a07fabed117e71"
  },
  {
   "metadata": {
    "ExecuteTime": {
     "end_time": "2024-09-14T09:08:41.377699Z",
     "start_time": "2024-09-14T09:08:41.318337Z"
    }
   },
   "cell_type": "code",
   "source": [
    "# Wynik jest gotową zawartością pliku LaTeX. Można skopiować i wkleić. \n",
    "# Kompilować dwukrotnie pdflatex.\n",
    "LaTeX_source = gz.generuj_LaTeX(kierunek,\n",
    "                                grupa,\n",
    "                                przedmiot,\n",
    "                                semestr,\n",
    "                                kolokwium,\n",
    "                                data,\n",
    "                                kolor_odpowiedzi,\n",
    "                                zadanie_1, zadanie_2, zadanie_3, zadanie_4)\n",
    "print(LaTeX_source)"
   ],
   "id": "3e909f0406dbf9b9",
   "outputs": [
    {
     "name": "stdout",
     "output_type": "stream",
     "text": [
      "% !TeX spellcheck = pl_PL-Polish\n",
      "\\documentclass[a4paper,12pt]{article}\n",
      "\\linespread{1.3} %odstepy miedzy liniami\n",
      "\\usepackage[a4paper, lmargin=2cm, rmargin=2cm, tmargin=2cm, bmargin=2cm]{geometry}\n",
      "\\usepackage{amsfonts}\n",
      "\\usepackage{amsmath}\n",
      "\\usepackage{color}\n",
      "\\usepackage{enumitem}\n",
      "\\usepackage{fancyhdr}\n",
      "\\usepackage{float}\n",
      "\\usepackage{graphicx}\n",
      "\\usepackage{ifthen}\n",
      "\\usepackage[utf8]{inputenc}\n",
      "\\usepackage{lmodern}\n",
      "\\usepackage{ocgx}\n",
      "\\usepackage{polski}\n",
      "\\usepackage{tcolorbox}\n",
      "\\tcbuselibrary{most}\n",
      "\\tcbuselibrary{skins}\n",
      "\\tcbuselibrary{raster}\n",
      "% brak - bez odpowiedzi i bez miejsca, white - bez odpowiedzi z miejscem, red = odpowiedzi ukryte ale dostepne\n",
      "\\newcommand{\\kolorodpowiedzi}{blue}\n",
      "\\renewcommand{\\footrulewidth}{0.4pt}% linia pozioma na końcu strony - default is 0pt\n",
      "\\DeclareFontShape{OMX}{cmex}{m}{n}\n",
      "    {<-7.5> cmex7\n",
      "    <7.5-8.5> cmex8\n",
      "    <8.5-9.5> cmex9\n",
      "    <9.5-> cmex10}{}\n",
      "\\DeclareSymbolFont{largesymbols}{OMX}{cmex}{m}{n}\n",
      "\n",
      "\n",
      "\\newcommand{\\ukryte}{1}  % domyślnie odpowiedzi są do pokazywania po kliknięciu\n",
      "\\ifthenelse{\\equal{\\kolorodpowiedzi}{red}}  % ukrywamy od pokazywania gdy kolor jest red\n",
      "\t{\\renewcommand{\\ukryte}{0}}{}\n",
      "\n",
      "\\newcommand{\\zOdpowiedziami}[3]{\n",
      "\t\\ifthenelse{\\equal{#1}{brak}}{}{\n",
      "\t\t\\ifthenelse{\\equal{#1}{white}}{\\vphantom{#3}}{\n",
      "\t\t\t\\switchocg{#2}{\\textcolor{\\kolorodpowiedzi}{\\\\Rozwiązanie: }}\n",
      "\t\t\t\t\\begin{ocg}{Warstwa odpowiedzi}{#2}{\\ukryte}\n",
      "\t\t\t\t\t\\textcolor{\\kolorodpowiedzi}{#3}\n",
      "\t\t\t\t\\end{ocg}}}}\n",
      "\n",
      "\\begin{document}\n",
      "    \\pagestyle{fancy}\n",
      "    \\setlength{\\headheight}{27.29453pt}\n",
      "    \\fancyhead{}\n",
      "    \\fancyhead[L]{\\textbf{KIERUNEK\\\\PRZEDMIOT - GRUPA}}\n",
      "    \\fancyhead[R]{\\textbf{NR1\\\\ 25 maja 2024}}\n",
      "    \\fancyfoot{}\n",
      "    \\fancyfoot[R]{\\tiny\\textbf{14 września 2024, 11:08}}\n",
      "%    \\hspace{1cm}\n",
      "    \\begin{enumerate}[label= \\textbf{Zadanie \\arabic*. }, leftmargin=1cm, align=left, itemsep=0pt]\n",
      "\t\t\\item Rozwiązać równanie w zbiorze liczb zespolonych.\\ Sprawdzić rozwiązanie.\n",
      "\t\t\t\\[\n",
      "\t\t\t\t\\left(4 - 3i\\right)z = -2 - 6i+\\left(2 - 5i\\right)z\n",
      "\t\t\t\\]\n",
      "\t\t\t\\zOdpowiedziami{\\kolorodpowiedzi}{ocg0}\n",
      "\t\t\t\t{$z=-2 - i.$}\n",
      "\n",
      "\t\t\\item Rozwiązać równanie w zbiorze liczb zespolonych.\\ Sprawdzić jedno z rozwiązań.\n",
      "\t\t\t\\[\n",
      "\t\t\t\t\\left(2 - i\\right)z^2 + \\left(11 + 7 i\\right) z + \\left(20 i\\right)=0\n",
      "\t\t\t\\]\n",
      "\t\t\t\\zOdpowiedziami{\\kolorodpowiedzi}{ocg1}\n",
      "\t\t\t\t{$\\Delta = -8-6i, \\quad \\sqrt{\\Delta}=\\pm( 1 - 3 i), \\quad z_{1}=-2 - 2 i, \\quad z_{2}=-1 - 3 i$}\n",
      "\n",
      "\t\t\\item Wyznaczyć wszystkie zadane pierwiastki zespolone i zaznaczyć je na płaszczyźnie zespolonej\n",
      "\t\t\t\\[\n",
      "\t\t\t\t\\sqrt[\\leftroot{2}\\uproot{-4} \\displaystyle ^{4}]{\\left(- \\frac{4 \\sqrt{6}}{3} + \\frac{4}{3} + i \\left(\\frac{4 \\sqrt{2}}{3} + \\frac{4 \\sqrt{3}}{3}\\right) \\right) \\left(-2 + 2 \\sqrt{2} i \\right)}\n",
      "\t\t\t\\]\n",
      "\t\t\t\\zOdpowiedziami{\\kolorodpowiedzi}{ocg2}\n",
      "\t\t\t\t{$\\sqrt[\\leftroot{2}\\uproot{-4} \\displaystyle ^{4}]{-8 - 8 \\sqrt{3} i} = \\left\\{ -1 - \\sqrt{3} i, \\  1 + \\sqrt{3} i, \\  - \\sqrt{3} + i, \\  \\sqrt{3} - i\\right\\}.$}\n",
      "\n",
      "\t\t\\item Rozwiązać równanie w zbiorze liczb zespolonych\n",
      "\t\t\t\\[\n",
      "\t\t\t\tz \\left(-3 + 4 i\\right) + \\left(1 - 5 i\\right) \\overline{z} - 1 - i = 0\n",
      "\t\t\t\\]\n",
      "\t\t\t\\zOdpowiedziami{\\kolorodpowiedzi}{ocg3}\n",
      "\t\t\t\t{$\\left(1 - 5 i\\right) \\left(x - i y\\right) + \\left(-3 + 4 i\\right) \\left(x + i y\\right) - 1 - i = 0,$ \\\\ \n",
      "\t\t\t$- i \\left(x \\left(1 - 2 i\\right) + y \\left(4 - 9 i\\right) + 1 - i\\right) = 0,$\\\\\n",
      "\t\t\t$\\left\\{\n",
      "\t\t\t\t\\begin{array}{c}\n",
      "\t\t\t\t\t- 2 x - 9 y - 1 = 0\\\\\n",
      "\t\t\t\t\t- x - 4 y - 1 = 0\n",
      "\t\t\t\t\\end{array}\n",
      "\t\t\t\\right.$ \\\\\n",
      "\t\t\t$z = \\left\\{ x : -5, \\  y : 1\\right\\}.$}\n",
      "\n",
      "    \\end{enumerate}\n",
      "\\end{document}\n"
     ]
    }
   ],
   "execution_count": 8
  },
  {
   "metadata": {
    "ExecuteTime": {
     "end_time": "2024-09-14T09:49:08.843773Z",
     "start_time": "2024-09-14T09:49:08.837701Z"
    }
   },
   "cell_type": "code",
   "source": [
    "# A tu jest gotowy plik. W mybinder można go pobrać w menu po lewej stronie z katalogu wygenerowane. \n",
    "# Kompilować dwukrotnie.\n",
    "if not os.path.exists('wygenerowane'):\n",
    "    os.makedirs('wygenerowane')\n",
    "    print(\" ! Tworzę katalog wygenerowane \", file=sys.stderr)\n",
    "with open(f'./wygenerowane/{kierunek}-{grupa}-{przedmiot}-{semestr}-{kolokwium}.tex', 'w',\n",
    "          encoding='utf-8') as LaTeX_file:\n",
    "    print(LaTeX_source, file=LaTeX_file)"
   ],
   "id": "b0d3947f4938122d",
   "outputs": [],
   "execution_count": 80
  },
  {
   "metadata": {
    "ExecuteTime": {
     "end_time": "2024-09-14T09:49:13.070462Z",
     "start_time": "2024-09-14T09:49:11.102912Z"
    }
   },
   "cell_type": "code",
   "source": [
    "import subprocess\n",
    "\n",
    "result = subprocess.run(f'cd wygenerowane & pdflatex {kierunek}-{grupa}-{przedmiot}-{semestr}-{kolokwium}.tex',\n",
    "                        capture_output=True, encoding='UTF-8', shell=True)\n",
    "print(result)\n"
   ],
   "id": "86469940cc43c2f4",
   "outputs": [
    {
     "name": "stdout",
     "output_type": "stream",
     "text": [
      "CompletedProcess(args='cd wygenerowane & pdflatex KIERUNEK-GRUPA-PRZEDMIOT-SEMESTR-NR1.tex', returncode=0, stdout=\"This is pdfTeX, Version 3.141592653-2.6-1.40.25 (MiKTeX 23.5) (preloaded format=pdflatex.fmt)\\n restricted \\\\write18 enabled.\\nentering extended mode\\n(KIERUNEK-GRUPA-PRZEDMIOT-SEMESTR-NR1.tex\\nLaTeX2e <2023-06-01> patch level 1\\nL3 programming layer <2023-06-30>\\n(C:\\\\Users\\\\Adam\\\\AppData\\\\Local\\\\Programs\\\\MiKTeX\\\\tex/latex/base\\\\article.cls\\nDocument Class: article 2023/05/17 v1.4n Standard LaTeX document class\\n(C:\\\\Users\\\\Adam\\\\AppData\\\\Local\\\\Programs\\\\MiKTeX\\\\tex/latex/base\\\\size12.clo))\\n(C:\\\\Users\\\\Adam\\\\AppData\\\\Local\\\\Programs\\\\MiKTeX\\\\tex/latex/geometry\\\\geometry.sty\\n(C:\\\\Users\\\\Adam\\\\AppData\\\\Local\\\\Programs\\\\MiKTeX\\\\tex/latex/graphics\\\\keyval.sty)\\n(C:\\\\Users\\\\Adam\\\\AppData\\\\Local\\\\Programs\\\\MiKTeX\\\\tex/generic/iftex\\\\ifvtex.sty\\n(C:\\\\Users\\\\Adam\\\\AppData\\\\Local\\\\Programs\\\\MiKTeX\\\\tex/generic/iftex\\\\iftex.sty))\\n(C:\\\\Users\\\\Adam\\\\AppData\\\\Local\\\\Programs\\\\MiKTeX\\\\tex/latex/geometry\\\\geometry.cfg))\\n(C:\\\\Users\\\\Adam\\\\AppData\\\\Local\\\\Programs\\\\MiKTeX\\\\tex/latex/amsfonts\\\\amsfonts.sty)\\n(C:\\\\Users\\\\Adam\\\\AppData\\\\Local\\\\Programs\\\\MiKTeX\\\\tex/latex/amsmath\\\\amsmath.sty\\nFor additional information on amsmath, use the `?' option.\\n(C:\\\\Users\\\\Adam\\\\AppData\\\\Local\\\\Programs\\\\MiKTeX\\\\tex/latex/amsmath\\\\amstext.sty\\n(C:\\\\Users\\\\Adam\\\\AppData\\\\Local\\\\Programs\\\\MiKTeX\\\\tex/latex/amsmath\\\\amsgen.sty))\\n(C:\\\\Users\\\\Adam\\\\AppData\\\\Local\\\\Programs\\\\MiKTeX\\\\tex/latex/amsmath\\\\amsbsy.sty)\\n(C:\\\\Users\\\\Adam\\\\AppData\\\\Local\\\\Programs\\\\MiKTeX\\\\tex/latex/amsmath\\\\amsopn.sty))\\n(C:\\\\Users\\\\Adam\\\\AppData\\\\Local\\\\Programs\\\\MiKTeX\\\\tex/latex/graphics\\\\color.sty\\n(C:\\\\Users\\\\Adam\\\\AppData\\\\Local\\\\Programs\\\\MiKTeX\\\\tex/latex/graphics-cfg\\\\color.cfg)\\n(C:\\\\Users\\\\Adam\\\\AppData\\\\Local\\\\Programs\\\\MiKTeX\\\\tex/latex/graphics-def\\\\pdftex.def)\\n (C:\\\\Users\\\\Adam\\\\AppData\\\\Local\\\\Programs\\\\MiKTeX\\\\tex/latex/graphics\\\\mathcolor.ltx)\\n) (C:\\\\Users\\\\Adam\\\\AppData\\\\Local\\\\Programs\\\\MiKTeX\\\\tex/latex/enumitem\\\\enumitem.sty)\\n (C:\\\\Users\\\\Adam\\\\AppData\\\\Local\\\\Programs\\\\MiKTeX\\\\tex/latex/fancyhdr\\\\fancyhdr.sty)\\n(C:\\\\Users\\\\Adam\\\\AppData\\\\Local\\\\Programs\\\\MiKTeX\\\\tex/latex/float\\\\float.sty)\\n(C:\\\\Users\\\\Adam\\\\AppData\\\\Local\\\\Programs\\\\MiKTeX\\\\tex/latex/graphics\\\\graphicx.sty\\n(C:\\\\Users\\\\Adam\\\\AppData\\\\Local\\\\Programs\\\\MiKTeX\\\\tex/latex/graphics\\\\graphics.sty\\n(C:\\\\Users\\\\Adam\\\\AppData\\\\Local\\\\Programs\\\\MiKTeX\\\\tex/latex/graphics\\\\trig.sty)\\n(C:\\\\Users\\\\Adam\\\\AppData\\\\Local\\\\Programs\\\\MiKTeX\\\\tex/latex/graphics-cfg\\\\graphics.cf\\ng))) (C:\\\\Users\\\\Adam\\\\AppData\\\\Local\\\\Programs\\\\MiKTeX\\\\tex/latex/base\\\\ifthen.sty)\\n(C:\\\\Users\\\\Adam\\\\AppData\\\\Local\\\\Programs\\\\MiKTeX\\\\tex/latex/base\\\\inputenc.sty)\\n(C:\\\\Users\\\\Adam\\\\AppData\\\\Local\\\\Programs\\\\MiKTeX\\\\tex/latex/lm\\\\lmodern.sty)\\n(C:\\\\Users\\\\Adam\\\\AppData\\\\Local\\\\Programs\\\\MiKTeX\\\\tex/latex/ocgx\\\\ocgx.sty\\n(C:\\\\Users\\\\Adam\\\\AppData\\\\Local\\\\Programs\\\\MiKTeX\\\\tex/latex/ocg-p\\\\ocg-p.sty\\n(C:\\\\Users\\\\Adam\\\\AppData\\\\Local\\\\Programs\\\\MiKTeX\\\\tex/latex/eso-pic\\\\eso-pic.sty)\\n(C:\\\\Users\\\\Adam\\\\AppData\\\\Local\\\\Programs\\\\MiKTeX\\\\tex/generic/iftex\\\\ifpdf.sty)\\n(C:\\\\Users\\\\Adam\\\\AppData\\\\Local\\\\Programs\\\\MiKTeX\\\\tex/generic/iftex\\\\ifxetex.sty)\\n(C:\\\\Users\\\\Adam\\\\AppData\\\\Local\\\\Programs\\\\MiKTeX\\\\tex/latex/xkeyval\\\\xkeyval.sty\\n(C:\\\\Users\\\\Adam\\\\AppData\\\\Local\\\\Programs\\\\MiKTeX\\\\tex/generic/xkeyval\\\\xkeyval.tex\\n(C:\\\\Users\\\\Adam\\\\AppData\\\\Local\\\\Programs\\\\MiKTeX\\\\tex/generic/xkeyval\\\\xkvutils.tex))\\n))) (C:\\\\Users\\\\Adam\\\\AppData\\\\Local\\\\Programs\\\\MiKTeX\\\\tex/latex/polski\\\\polski.sty\\n   Inputenc package detected. Catcodes not changed.\\n   Switching to Polish text encoding and Polish maths fonts.\\n(C:\\\\Users\\\\Adam\\\\AppData\\\\Local\\\\Programs\\\\MiKTeX\\\\tex/latex/base\\\\ot4enc.def)\\n(C:\\\\Users\\\\Adam\\\\AppData\\\\Local\\\\Programs\\\\MiKTeX\\\\tex/latex/polski\\\\ot4cmr.fd))\\n(C:\\\\Users\\\\Adam\\\\AppData\\\\Local\\\\Programs\\\\MiKTeX\\\\tex/latex/tcolorbox\\\\tcolorbox.sty\\n(C:\\\\Users\\\\Adam\\\\AppData\\\\Local\\\\Programs\\\\MiKTeX\\\\tex/latex/pgf/basiclayer\\\\pgf.sty\\n(C:\\\\Users\\\\Adam\\\\AppData\\\\Local\\\\Programs\\\\MiKTeX\\\\tex/latex/pgf/utilities\\\\pgfrcs.sty\\n\\n(C:\\\\Users\\\\Adam\\\\AppData\\\\Local\\\\Programs\\\\MiKTeX\\\\tex/generic/pgf/utilities\\\\pgfutil-\\ncommon.tex)\\n(C:\\\\Users\\\\Adam\\\\AppData\\\\Local\\\\Programs\\\\MiKTeX\\\\tex/generic/pgf/utilities\\\\pgfutil-\\nlatex.def)\\n(C:\\\\Users\\\\Adam\\\\AppData\\\\Local\\\\Programs\\\\MiKTeX\\\\tex/generic/pgf/utilities\\\\pgfrcs.c\\node.tex\\n(C:\\\\Users\\\\Adam\\\\AppData\\\\Local\\\\Programs\\\\MiKTeX\\\\tex/generic/pgf\\\\pgf.revision.tex))\\n)\\n(C:\\\\Users\\\\Adam\\\\AppData\\\\Local\\\\Programs\\\\MiKTeX\\\\tex/latex/pgf/basiclayer\\\\pgfcore.s\\nty\\n(C:\\\\Users\\\\Adam\\\\AppData\\\\Local\\\\Programs\\\\MiKTeX\\\\tex/latex/pgf/systemlayer\\\\pgfsys.s\\nty\\n(C:\\\\Users\\\\Adam\\\\AppData\\\\Local\\\\Programs\\\\MiKTeX\\\\tex/generic/pgf/systemlayer\\\\pgfsys\\n.code.tex\\n(C:\\\\Users\\\\Adam\\\\AppData\\\\Local\\\\Programs\\\\MiKTeX\\\\tex/generic/pgf/utilities\\\\pgfkeys.\\ncode.tex\\n(C:\\\\Users\\\\Adam\\\\AppData\\\\Local\\\\Programs\\\\MiKTeX\\\\tex/generic/pgf/utilities\\\\pgfkeysl\\nibraryfiltered.code.tex))\\n(C:\\\\Users\\\\Adam\\\\AppData\\\\Local\\\\Programs\\\\MiKTeX\\\\tex/generic/pgf/systemlayer\\\\pgf.cf\\ng)\\n(C:\\\\Users\\\\Adam\\\\AppData\\\\Local\\\\Programs\\\\MiKTeX\\\\tex/generic/pgf/systemlayer\\\\pgfsys\\n-pdftex.def\\n(C:\\\\Users\\\\Adam\\\\AppData\\\\Local\\\\Programs\\\\MiKTeX\\\\tex/generic/pgf/systemlayer\\\\pgfsys\\n-common-pdf.def)))\\n(C:\\\\Users\\\\Adam\\\\AppData\\\\Local\\\\Programs\\\\MiKTeX\\\\tex/generic/pgf/systemlayer\\\\pgfsys\\nsoftpath.code.tex)\\n(C:\\\\Users\\\\Adam\\\\AppData\\\\Local\\\\Programs\\\\MiKTeX\\\\tex/generic/pgf/systemlayer\\\\pgfsys\\nprotocol.code.tex))\\n(C:\\\\Users\\\\Adam\\\\AppData\\\\Local\\\\Programs\\\\MiKTeX\\\\tex/latex/xcolor\\\\xcolor.sty\\n(C:\\\\Users\\\\Adam\\\\AppData\\\\Local\\\\Programs\\\\MiKTeX\\\\tex/latex/graphics-cfg\\\\color.cfg)\\n(C:\\\\Users\\\\Adam\\\\AppData\\\\Local\\\\Programs\\\\MiKTeX\\\\tex/latex/graphics\\\\mathcolor.ltx))\\n\\n(C:\\\\Users\\\\Adam\\\\AppData\\\\Local\\\\Programs\\\\MiKTeX\\\\tex/generic/pgf/basiclayer\\\\pgfcore\\n.code.tex\\n(C:\\\\Users\\\\Adam\\\\AppData\\\\Local\\\\Programs\\\\MiKTeX\\\\tex/generic/pgf/math\\\\pgfmath.code.\\ntex\\n(C:\\\\Users\\\\Adam\\\\AppData\\\\Local\\\\Programs\\\\MiKTeX\\\\tex/generic/pgf/math\\\\pgfmathutil.c\\node.tex)\\n(C:\\\\Users\\\\Adam\\\\AppData\\\\Local\\\\Programs\\\\MiKTeX\\\\tex/generic/pgf/math\\\\pgfmathparser\\n.code.tex)\\n(C:\\\\Users\\\\Adam\\\\AppData\\\\Local\\\\Programs\\\\MiKTeX\\\\tex/generic/pgf/math\\\\pgfmathfuncti\\nons.code.tex)\\n(C:\\\\Users\\\\Adam\\\\AppData\\\\Local\\\\Programs\\\\MiKTeX\\\\tex/generic/pgf/math\\\\pgfmathfuncti\\nons.basic.code.tex)\\n(C:\\\\Users\\\\Adam\\\\AppData\\\\Local\\\\Programs\\\\MiKTeX\\\\tex/generic/pgf/math\\\\pgfmathfuncti\\nons.trigonometric.code.tex)\\n(C:\\\\Users\\\\Adam\\\\AppData\\\\Local\\\\Programs\\\\MiKTeX\\\\tex/generic/pgf/math\\\\pgfmathfuncti\\nons.random.code.tex)\\n(C:\\\\Users\\\\Adam\\\\AppData\\\\Local\\\\Programs\\\\MiKTeX\\\\tex/generic/pgf/math\\\\pgfmathfuncti\\nons.comparison.code.tex)\\n(C:\\\\Users\\\\Adam\\\\AppData\\\\Local\\\\Programs\\\\MiKTeX\\\\tex/generic/pgf/math\\\\pgfmathfuncti\\nons.base.code.tex)\\n(C:\\\\Users\\\\Adam\\\\AppData\\\\Local\\\\Programs\\\\MiKTeX\\\\tex/generic/pgf/math\\\\pgfmathfuncti\\nons.round.code.tex)\\n(C:\\\\Users\\\\Adam\\\\AppData\\\\Local\\\\Programs\\\\MiKTeX\\\\tex/generic/pgf/math\\\\pgfmathfuncti\\nons.misc.code.tex)\\n(C:\\\\Users\\\\Adam\\\\AppData\\\\Local\\\\Programs\\\\MiKTeX\\\\tex/generic/pgf/math\\\\pgfmathfuncti\\nons.integerarithmetics.code.tex)\\n(C:\\\\Users\\\\Adam\\\\AppData\\\\Local\\\\Programs\\\\MiKTeX\\\\tex/generic/pgf/math\\\\pgfmathcalc.c\\node.tex)\\n(C:\\\\Users\\\\Adam\\\\AppData\\\\Local\\\\Programs\\\\MiKTeX\\\\tex/generic/pgf/math\\\\pgfmathfloat.\\ncode.tex))\\n(C:\\\\Users\\\\Adam\\\\AppData\\\\Local\\\\Programs\\\\MiKTeX\\\\tex/generic/pgf/math\\\\pgfint.code.t\\nex)\\n(C:\\\\Users\\\\Adam\\\\AppData\\\\Local\\\\Programs\\\\MiKTeX\\\\tex/generic/pgf/basiclayer\\\\pgfcore\\npoints.code.tex)\\n(C:\\\\Users\\\\Adam\\\\AppData\\\\Local\\\\Programs\\\\MiKTeX\\\\tex/generic/pgf/basiclayer\\\\pgfcore\\npathconstruct.code.tex)\\n(C:\\\\Users\\\\Adam\\\\AppData\\\\Local\\\\Programs\\\\MiKTeX\\\\tex/generic/pgf/basiclayer\\\\pgfcore\\npathusage.code.tex)\\n(C:\\\\Users\\\\Adam\\\\AppData\\\\Local\\\\Programs\\\\MiKTeX\\\\tex/generic/pgf/basiclayer\\\\pgfcore\\nscopes.code.tex)\\n(C:\\\\Users\\\\Adam\\\\AppData\\\\Local\\\\Programs\\\\MiKTeX\\\\tex/generic/pgf/basiclayer\\\\pgfcore\\ngraphicstate.code.tex)\\n(C:\\\\Users\\\\Adam\\\\AppData\\\\Local\\\\Programs\\\\MiKTeX\\\\tex/generic/pgf/basiclayer\\\\pgfcore\\ntransformations.code.tex)\\n(C:\\\\Users\\\\Adam\\\\AppData\\\\Local\\\\Programs\\\\MiKTeX\\\\tex/generic/pgf/basiclayer\\\\pgfcore\\nquick.code.tex)\\n(C:\\\\Users\\\\Adam\\\\AppData\\\\Local\\\\Programs\\\\MiKTeX\\\\tex/generic/pgf/basiclayer\\\\pgfcore\\nobjects.code.tex)\\n(C:\\\\Users\\\\Adam\\\\AppData\\\\Local\\\\Programs\\\\MiKTeX\\\\tex/generic/pgf/basiclayer\\\\pgfcore\\npathprocessing.code.tex)\\n(C:\\\\Users\\\\Adam\\\\AppData\\\\Local\\\\Programs\\\\MiKTeX\\\\tex/generic/pgf/basiclayer\\\\pgfcore\\narrows.code.tex)\\n(C:\\\\Users\\\\Adam\\\\AppData\\\\Local\\\\Programs\\\\MiKTeX\\\\tex/generic/pgf/basiclayer\\\\pgfcore\\nshade.code.tex)\\n(C:\\\\Users\\\\Adam\\\\AppData\\\\Local\\\\Programs\\\\MiKTeX\\\\tex/generic/pgf/basiclayer\\\\pgfcore\\nimage.code.tex)\\n(C:\\\\Users\\\\Adam\\\\AppData\\\\Local\\\\Programs\\\\MiKTeX\\\\tex/generic/pgf/basiclayer\\\\pgfcore\\nexternal.code.tex)\\n(C:\\\\Users\\\\Adam\\\\AppData\\\\Local\\\\Programs\\\\MiKTeX\\\\tex/generic/pgf/basiclayer\\\\pgfcore\\nlayers.code.tex)\\n(C:\\\\Users\\\\Adam\\\\AppData\\\\Local\\\\Programs\\\\MiKTeX\\\\tex/generic/pgf/basiclayer\\\\pgfcore\\ntransparency.code.tex)\\n(C:\\\\Users\\\\Adam\\\\AppData\\\\Local\\\\Programs\\\\MiKTeX\\\\tex/generic/pgf/basiclayer\\\\pgfcore\\npatterns.code.tex)\\n(C:\\\\Users\\\\Adam\\\\AppData\\\\Local\\\\Programs\\\\MiKTeX\\\\tex/generic/pgf/basiclayer\\\\pgfcore\\nrdf.code.tex)))\\n(C:\\\\Users\\\\Adam\\\\AppData\\\\Local\\\\Programs\\\\MiKTeX\\\\tex/generic/pgf/modules\\\\pgfmodules\\nhapes.code.tex)\\n(C:\\\\Users\\\\Adam\\\\AppData\\\\Local\\\\Programs\\\\MiKTeX\\\\tex/generic/pgf/modules\\\\pgfmodulep\\nlot.code.tex)\\n(C:\\\\Users\\\\Adam\\\\AppData\\\\Local\\\\Programs\\\\MiKTeX\\\\tex/latex/pgf/compatibility\\\\pgfcom\\np-version-0-65.sty)\\n(C:\\\\Users\\\\Adam\\\\AppData\\\\Local\\\\Programs\\\\MiKTeX\\\\tex/latex/pgf/compatibility\\\\pgfcom\\np-version-1-18.sty))\\n(C:\\\\Users\\\\Adam\\\\AppData\\\\Local\\\\Programs\\\\MiKTeX\\\\tex/latex/tools\\\\verbatim.sty)\\n(C:\\\\Users\\\\Adam\\\\AppData\\\\Local\\\\Programs\\\\MiKTeX\\\\tex/latex/environ\\\\environ.sty\\n(C:\\\\Users\\\\Adam\\\\AppData\\\\Local\\\\Programs\\\\MiKTeX\\\\tex/latex/trimspaces\\\\trimspaces.st\\ny))\\n(C:\\\\Users\\\\Adam\\\\AppData\\\\Local\\\\Programs\\\\MiKTeX\\\\tex/latex/etoolbox\\\\etoolbox.sty))\\n(C:\\\\Users\\\\Adam\\\\AppData\\\\Local\\\\Programs\\\\MiKTeX\\\\tex/latex/tcolorbox\\\\tcbraster.code\\n.tex\\nLibrary (tcolorbox): 'tcbraster.code.tex' version '6.0.4'\\n)\\n(C:\\\\Users\\\\Adam\\\\AppData\\\\Local\\\\Programs\\\\MiKTeX\\\\tex/latex/tcolorbox\\\\tcbskins.code.\\ntex\\nLibrary (tcolorbox): 'tcbskins.code.tex' version '6.0.4'\\n\\n(C:\\\\Users\\\\Adam\\\\AppData\\\\Local\\\\Programs\\\\MiKTeX\\\\tex/latex/pgf/frontendlayer\\\\tikz.s\\nty\\n(C:\\\\Users\\\\Adam\\\\AppData\\\\Local\\\\Programs\\\\MiKTeX\\\\tex/latex/pgf/utilities\\\\pgffor.sty\\n\\n(C:\\\\Users\\\\Adam\\\\AppData\\\\Local\\\\Programs\\\\MiKTeX\\\\tex/latex/pgf/utilities\\\\pgfkeys.st\\ny\\n(C:\\\\Users\\\\Adam\\\\AppData\\\\Local\\\\Programs\\\\MiKTeX\\\\tex/generic/pgf/utilities\\\\pgfkeys.\\ncode.tex))\\n(C:\\\\Users\\\\Adam\\\\AppData\\\\Local\\\\Programs\\\\MiKTeX\\\\tex/latex/pgf/math\\\\pgfmath.sty\\n(C:\\\\Users\\\\Adam\\\\AppData\\\\Local\\\\Programs\\\\MiKTeX\\\\tex/generic/pgf/math\\\\pgfmath.code.\\ntex))\\n(C:\\\\Users\\\\Adam\\\\AppData\\\\Local\\\\Programs\\\\MiKTeX\\\\tex/generic/pgf/utilities\\\\pgffor.c\\node.tex))\\n(C:\\\\Users\\\\Adam\\\\AppData\\\\Local\\\\Programs\\\\MiKTeX\\\\tex/generic/pgf/frontendlayer/tikz\\n\\\\tikz.code.tex\\n(C:\\\\Users\\\\Adam\\\\AppData\\\\Local\\\\Programs\\\\MiKTeX\\\\tex/generic/pgf/libraries\\\\pgflibra\\nryplothandlers.code.tex)\\n(C:\\\\Users\\\\Adam\\\\AppData\\\\Local\\\\Programs\\\\MiKTeX\\\\tex/generic/pgf/modules\\\\pgfmodulem\\natrix.code.tex)\\n(C:\\\\Users\\\\Adam\\\\AppData\\\\Local\\\\Programs\\\\MiKTeX\\\\tex/generic/pgf/frontendlayer/tikz\\n/libraries\\\\tikzlibrarytopaths.code.tex)))\\n(C:\\\\Users\\\\Adam\\\\AppData\\\\Local\\\\Programs\\\\MiKTeX\\\\tex/latex/tikzfill\\\\tikzfill.image.\\nsty\\n(C:\\\\Users\\\\Adam\\\\AppData\\\\Local\\\\Programs\\\\MiKTeX\\\\tex/latex/tikzfill\\\\tikzfill-common\\n.sty)\\n(C:\\\\Users\\\\Adam\\\\AppData\\\\Local\\\\Programs\\\\MiKTeX\\\\tex/latex/tikzfill\\\\tikzlibraryfill\\n.image.code.tex))\\n(C:\\\\Users\\\\Adam\\\\AppData\\\\Local\\\\Programs\\\\MiKTeX\\\\tex/latex/tcolorbox\\\\tcbskinsjigsaw\\n.code.tex\\nLibrary (tcolorbox): 'tcbskinsjigsaw.code.tex' version '6.0.4'\\n))\\n(C:\\\\Users\\\\Adam\\\\AppData\\\\Local\\\\Programs\\\\MiKTeX\\\\tex/latex/tcolorbox\\\\tcbbreakable.c\\node.tex\\nLibrary (tcolorbox): 'tcbbreakable.code.tex' version '6.0.4'\\n(C:\\\\Users\\\\Adam\\\\AppData\\\\Local\\\\Programs\\\\MiKTeX\\\\tex/latex/pdfcol\\\\pdfcol.sty\\n(C:\\\\Users\\\\Adam\\\\AppData\\\\Local\\\\Programs\\\\MiKTeX\\\\tex/generic/ltxcmds\\\\ltxcmds.sty)\\n(C:\\\\Users\\\\Adam\\\\AppData\\\\Local\\\\Programs\\\\MiKTeX\\\\tex/generic/infwarerr\\\\infwarerr.st\\ny)))\\n(C:\\\\Users\\\\Adam\\\\AppData\\\\Local\\\\Programs\\\\MiKTeX\\\\tex/latex/tcolorbox\\\\tcbhooks.code.\\ntex\\nLibrary (tcolorbox): 'tcbhooks.code.tex' version '6.0.4'\\n)\\n(C:\\\\Users\\\\Adam\\\\AppData\\\\Local\\\\Programs\\\\MiKTeX\\\\tex/latex/tcolorbox\\\\tcbtheorems.co\\nde.tex\\nLibrary (tcolorbox): 'tcbtheorems.code.tex' version '6.0.4'\\n)\\n(C:\\\\Users\\\\Adam\\\\AppData\\\\Local\\\\Programs\\\\MiKTeX\\\\tex/latex/tcolorbox\\\\tcbfitting.cod\\ne.tex\\nLibrary (tcolorbox): 'tcbfitting.code.tex' version '6.0.4'\\n)\\n(C:\\\\Users\\\\Adam\\\\AppData\\\\Local\\\\Programs\\\\MiKTeX\\\\tex/latex/tcolorbox\\\\tcblistingsutf\\n8.code.tex\\nLibrary (tcolorbox): 'tcblistingsutf8.code.tex' version '6.0.4'\\n\\n(C:\\\\Users\\\\Adam\\\\AppData\\\\Local\\\\Programs\\\\MiKTeX\\\\tex/latex/tcolorbox\\\\tcblistings.co\\nde.tex\\nLibrary (tcolorbox): 'tcblistings.code.tex' version '6.0.4'\\n(C:\\\\Users\\\\Adam\\\\AppData\\\\Local\\\\Programs\\\\MiKTeX\\\\tex/latex/listings\\\\listings.sty\\n(C:\\\\Users\\\\Adam\\\\AppData\\\\Local\\\\Programs\\\\MiKTeX\\\\tex/latex/listings\\\\lstmisc.sty)\\n(C:\\\\Users\\\\Adam\\\\AppData\\\\Local\\\\Programs\\\\MiKTeX\\\\tex/latex/listings\\\\listings.cfg))\\n(C:\\\\Users\\\\Adam\\\\AppData\\\\Local\\\\Programs\\\\MiKTeX\\\\tex/latex/tcolorbox\\\\tcblistingscor\\ne.code.tex\\nLibrary (tcolorbox): 'tcblistingscore.code.tex' version '6.0.4'\\n\\n(C:\\\\Users\\\\Adam\\\\AppData\\\\Local\\\\Programs\\\\MiKTeX\\\\tex/latex/tcolorbox\\\\tcbprocessing.\\ncode.tex\\nLibrary (tcolorbox): 'tcbprocessing.code.tex' version '6.0.4'\\n\\n(C:\\\\Users\\\\Adam\\\\AppData\\\\Local\\\\Programs\\\\MiKTeX\\\\tex/generic/pdftexcmds\\\\pdftexcmds.\\nsty) (C:\\\\Users\\\\Adam\\\\AppData\\\\Local\\\\Programs\\\\MiKTeX\\\\tex/latex/tools\\\\shellesc.sty)\\n)))\\n(C:\\\\Users\\\\Adam\\\\AppData\\\\Local\\\\Programs\\\\MiKTeX\\\\tex/latex/listingsutf8\\\\listingsutf\\n8.sty\\n(C:\\\\Users\\\\Adam\\\\AppData\\\\Local\\\\Programs\\\\MiKTeX\\\\tex/generic/stringenc\\\\stringenc.st\\ny\\n(C:\\\\Users\\\\Adam\\\\AppData\\\\Local\\\\Programs\\\\MiKTeX\\\\tex/generic/pdfescape\\\\pdfescape.st\\ny))))\\n(C:\\\\Users\\\\Adam\\\\AppData\\\\Local\\\\Programs\\\\MiKTeX\\\\tex/latex/tcolorbox\\\\tcbexternal.co\\nde.tex\\nLibrary (tcolorbox): 'tcbexternal.code.tex' version '6.0.4'\\n)\\n(C:\\\\Users\\\\Adam\\\\AppData\\\\Local\\\\Programs\\\\MiKTeX\\\\tex/latex/tcolorbox\\\\tcbmagazine.co\\nde.tex\\nLibrary (tcolorbox): 'tcbmagazine.code.tex' version '6.0.4'\\n)\\n(C:\\\\Users\\\\Adam\\\\AppData\\\\Local\\\\Programs\\\\MiKTeX\\\\tex/latex/tcolorbox\\\\tcbvignette.co\\nde.tex\\nLibrary (tcolorbox): 'tcbvignette.code.tex' version '6.0.4'\\n\\n(C:\\\\Users\\\\Adam\\\\AppData\\\\Local\\\\Programs\\\\MiKTeX\\\\tex/generic/pgf/frontendlayer/tikz\\n/libraries\\\\tikzlibraryfadings.code.tex\\n(C:\\\\Users\\\\Adam\\\\AppData\\\\Local\\\\Programs\\\\MiKTeX\\\\tex/generic/pgf/libraries\\\\pgflibra\\nryfadings.code.tex)))\\n(C:\\\\Users\\\\Adam\\\\AppData\\\\Local\\\\Programs\\\\MiKTeX\\\\tex/latex/tcolorbox\\\\tcbposter.code\\n.tex\\nLibrary (tcolorbox): 'tcbposter.code.tex' version '6.0.4'\\n) (C:\\\\Users\\\\Adam\\\\AppData\\\\Local\\\\Programs\\\\MiKTeX\\\\tex/latex/lm\\\\ot4lmr.fd)\\n(C:\\\\Users\\\\Adam\\\\AppData\\\\Local\\\\Programs\\\\MiKTeX\\\\tex/latex/l3backend\\\\l3backend-pdft\\nex.def) (KIERUNEK-GRUPA-PRZEDMIOT-SEMESTR-NR1.aux)\\n*geometry* driver: auto-detecting\\n*geometry* detected driver: pdftex\\n\\n(C:\\\\Users\\\\Adam\\\\AppData\\\\Local\\\\Programs\\\\MiKTeX\\\\tex/context/base/mkii\\\\supp-pdf.mki\\ni\\n[Loading MPS to PDF converter (version 2006.09.02).]\\n)\\n(C:\\\\Users\\\\Adam\\\\AppData\\\\Local\\\\Programs\\\\MiKTeX\\\\tex/latex/epstopdf-pkg\\\\epstopdf-ba\\nse.sty\\n(C:\\\\Users\\\\Adam\\\\AppData\\\\Local\\\\Programs\\\\MiKTeX\\\\tex/latex/00miktex\\\\epstopdf-sys.cf\\ng)) (C:\\\\Users\\\\Adam\\\\AppData\\\\Local\\\\Programs\\\\MiKTeX\\\\tex/latex/polski\\\\omlplm.fd)\\n(C:\\\\Users\\\\Adam\\\\AppData\\\\Local\\\\Programs\\\\MiKTeX\\\\tex/latex/polski\\\\omsplsy.fd)\\n(C:\\\\Users\\\\Adam\\\\AppData\\\\Local\\\\Programs\\\\MiKTeX\\\\tex/latex/amsfonts\\\\umsa.fd)\\n(C:\\\\Users\\\\Adam\\\\AppData\\\\Local\\\\Programs\\\\MiKTeX\\\\tex/latex/amsfonts\\\\umsb.fd)\\n/OCocg0 /OCocg1 /OCocg2 /OCocg3 [1{C:/Users/Adam/AppData/Local/MiKTeX/fonts/map\\n/pdftex/pdftex.map}{C:/Users/Adam/AppData/Local/Programs/MiKTeX/fonts/enc/dvips\\n/lm/lm-rm.enc}{C:/Users/Adam/AppData/Local/Programs/MiKTeX/fonts/enc/dvips/pl/p\\nlrm.enc}{C:/Users/Adam/AppData/Local/Programs/MiKTeX/fonts/enc/dvips/pl/plms.en\\nc}{C:/Users/Adam/AppData/Local/Programs/MiKTeX/fonts/enc/dvips/pl/plmi.enc}]\\n(KIERUNEK-GRUPA-PRZEDMIOT-SEMESTR-NR1.aux) )<C:/Users/Adam/AppData/Local/Progra\\nms/MiKTeX/fonts/type1/public/amsfonts/cm/cmex10.pfb><C:/Users/Adam/AppData/Loca\\nl/Programs/MiKTeX/fonts/type1/public/lm/lmbx12.pfb><C:/Users/Adam/AppData/Local\\n/Programs/MiKTeX/fonts/type1/public/lm/lmbx6.pfb><C:/Users/Adam/AppData/Local/P\\nrograms/MiKTeX/fonts/type1/public/lm/lmr12.pfb><C:/Users/Adam/AppData/Local/Pro\\ngrams/MiKTeX/fonts/type1/public/pl/plmi12.pfb><C:/Users/Adam/AppData/Local/Prog\\nrams/MiKTeX/fonts/type1/public/pl/plr12.pfb><C:/Users/Adam/AppData/Local/Progra\\nms/MiKTeX/fonts/type1/public/pl/plr8.pfb><C:/Users/Adam/AppData/Local/Programs/\\nMiKTeX/fonts/type1/public/pl/plsy10.pfb>\\nOutput written on KIERUNEK-GRUPA-PRZEDMIOT-SEMESTR-NR1.pdf (1 page, 127165 byte\\ns).\\nTranscript written on KIERUNEK-GRUPA-PRZEDMIOT-SEMESTR-NR1.log.\\n\", stderr='')\n"
     ]
    }
   ],
   "execution_count": 81
  },
  {
   "metadata": {},
   "cell_type": "code",
   "outputs": [],
   "source": "",
   "id": "d3250b68dc2a0714",
   "execution_count": null
  }
 ],
 "metadata": {
  "kernelspec": {
   "display_name": "Python 3",
   "language": "python",
   "name": "python3"
  },
  "language_info": {
   "codemirror_mode": {
    "name": "ipython",
    "version": 2
   },
   "file_extension": ".py",
   "mimetype": "text/x-python",
   "name": "python",
   "nbconvert_exporter": "python",
   "pygments_lexer": "ipython2",
   "version": "2.7.6"
  }
 },
 "nbformat": 4,
 "nbformat_minor": 5
}
