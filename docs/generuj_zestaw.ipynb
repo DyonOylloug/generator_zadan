{
 "cells": [
  {
   "metadata": {},
   "cell_type": "markdown",
   "source": "# Generuj zestaw zadań",
   "id": "e6685f821bf3b135"
  },
  {
   "metadata": {},
   "cell_type": "markdown",
   "source": "[![Binder](https://mybinder.org/badge_logo.svg)](https://mybinder.org/v2/gh/DyonOylloug/generator_zadan/HEAD?labpath=docs%2Fgeneruj_zestaw.ipynb) - interaktywna sesja notebooka",
   "id": "ca8a7b6043e294a0"
  },
  {
   "metadata": {
    "ExecuteTime": {
     "end_time": "2024-09-13T19:06:23.711357Z",
     "start_time": "2024-09-13T19:06:23.706173Z"
    }
   },
   "cell_type": "code",
   "source": [
    "import datetime  # do pobierania daty\n",
    "import textwrap\n",
    "from random import choice\n",
    "\n",
    "import babel.dates  # do ładnego generowania daty\n",
    "from IPython.display import display, Markdown, Latex\n",
    "\n",
    "import generator_zadan.generatory as gz"
   ],
   "id": "e09fa3157fc76075",
   "outputs": [],
   "execution_count": 12
  },
  {
   "metadata": {},
   "cell_type": "markdown",
   "source": "## Ustaw nazwy",
   "id": "521cc21f07383cf6"
  },
  {
   "metadata": {
    "ExecuteTime": {
     "end_time": "2024-09-13T19:06:23.746697Z",
     "start_time": "2024-09-13T19:06:23.741341Z"
    }
   },
   "cell_type": "code",
   "source": [
    "kierunek = 'KIERUNEK'  # bez podkreśleń !!! bo są błędy w kompilacji z podkreślniemia w nagłówku\n",
    "grupa = 'GRUPA'  # Grupa 11\n",
    "przedmiot = 'PRZEDMIOT'  # Matematyka Algebra\n",
    "semestr = 'SEMESTR'  # Semestr 1 \n",
    "kolokwium = 'NR1'  # Kolokwium nr 2\n",
    "data = '25 maja 2024'  # w stylu: 01 grudnia 2022 - będzie w nagłówku wydruku\n",
    "kolor_odpowiedzi = 'blue'  # 'white' - ukrywa ale zostawia miejsce, 'brak' - ukrywa i chowa miejsce"
   ],
   "id": "d771398ed607d314",
   "outputs": [],
   "execution_count": 13
  },
  {
   "metadata": {},
   "cell_type": "markdown",
   "source": [
    "## Wybierz zadania\n",
    "Można komórki uruchamiać wielokrotnie. Aż się trafi takie wymarzone. \n",
    "Zmień __`zadanie_nr`__ na odpowiednio rozróżnialne __`zadanie_1`__,  __`zadanie_2`__ itp. Te będą potem przekazywane do funkcji generującej zestaw "
   ],
   "id": "92a5e20e31055a8b"
  },
  {
   "metadata": {},
   "cell_type": "markdown",
   "source": "### Liczby zespolone",
   "id": "200f7a6af031672a"
  },
  {
   "metadata": {
    "ExecuteTime": {
     "end_time": "2024-09-13T19:06:24.278737Z",
     "start_time": "2024-09-13T19:06:23.761247Z"
    }
   },
   "cell_type": "code",
   "source": [
    "zadanie = gz.rownanie_liniowe()\n",
    "print(f\"\\033[34m** Zadanie **\" + '*' * 82 + '\\033[0m')\n",
    "display(Markdown(zadanie[0].split('\\n')[0].replace('\\\\', '')))\n",
    "display(Latex('$$' + zadanie[0].split('\\n')[2] + '$$'))\n",
    "print(\"\\033[32m** Rozwiązanie **\" + '*' * 78 + '\\033[0m')\n",
    "display(Latex('$' + zadanie[1] + '$'))\n",
    "zadanie_1 = zadanie"
   ],
   "id": "5449b3729c720f05",
   "outputs": [
    {
     "name": "stdout",
     "output_type": "stream",
     "text": [
      "\u001B[34m** Zadanie ************************************************************************************\u001B[0m\n"
     ]
    },
    {
     "data": {
      "text/plain": [
       "<IPython.core.display.Markdown object>"
      ],
      "text/markdown": "Rozwiązać równanie w zbiorze liczb zespolonych. Sprawdzić rozwiązanie."
     },
     "metadata": {},
     "output_type": "display_data"
    },
    {
     "data": {
      "text/plain": [
       "<IPython.core.display.Latex object>"
      ],
      "text/latex": "$$\t\t\\left(3 - 3i\\right)z = 4 + 8i+\\left(3 - 5i\\right)z$$"
     },
     "metadata": {},
     "output_type": "display_data"
    },
    {
     "name": "stdout",
     "output_type": "stream",
     "text": [
      "\u001B[32m** Rozwiązanie ********************************************************************************\u001B[0m\n"
     ]
    },
    {
     "data": {
      "text/plain": [
       "<IPython.core.display.Latex object>"
      ],
      "text/latex": "$$z=4 - 2i.$$"
     },
     "metadata": {},
     "output_type": "display_data"
    }
   ],
   "execution_count": 14
  },
  {
   "metadata": {
    "ExecuteTime": {
     "end_time": "2024-09-13T19:06:24.747185Z",
     "start_time": "2024-09-13T19:06:24.490760Z"
    }
   },
   "cell_type": "code",
   "source": [
    "zadanie = gz.rownanie_kwadratowe()\n",
    "print(f\"\\033[34m** Zadanie **\" + '*' * 82 + '\\033[0m')\n",
    "display(Markdown(zadanie[0].split('\\n')[0].replace('\\\\', '')))\n",
    "display(Latex('$$' + zadanie[0].split('\\n')[2] + '$$'))\n",
    "print(\"\\033[32m** Rozwiązanie **\" + '*' * 78 + '\\033[0m')\n",
    "display(Latex('$' + zadanie[1] + '$'))\n",
    "zadanie_2 = zadanie"
   ],
   "id": "63ea204b35f34245",
   "outputs": [
    {
     "name": "stdout",
     "output_type": "stream",
     "text": [
      "\u001B[34m** Zadanie ************************************************************************************\u001B[0m\n"
     ]
    },
    {
     "data": {
      "text/plain": [
       "<IPython.core.display.Markdown object>"
      ],
      "text/markdown": "Rozwiązać równanie w zbiorze liczb zespolonych. Sprawdzić jedno z rozwiązań."
     },
     "metadata": {},
     "output_type": "display_data"
    },
    {
     "data": {
      "text/plain": [
       "<IPython.core.display.Latex object>"
      ],
      "text/latex": "$$\t\t\\left(1 - 2 i\\right)z^2 + \\left(11 - 7 i\\right) z + \\left(18 - i\\right)=0$$"
     },
     "metadata": {},
     "output_type": "display_data"
    },
    {
     "name": "stdout",
     "output_type": "stream",
     "text": [
      "\u001B[32m** Rozwiązanie ********************************************************************************\u001B[0m\n"
     ]
    },
    {
     "data": {
      "text/plain": [
       "<IPython.core.display.Latex object>"
      ],
      "text/latex": "$$\\Delta = 8-6i, \\quad \\sqrt{\\Delta}=\\pm( 3 - i), \\quad z_{1}=-3 - 2 i, \\quad z_{2}=-2 - i$$"
     },
     "metadata": {},
     "output_type": "display_data"
    }
   ],
   "execution_count": 15
  },
  {
   "metadata": {
    "ExecuteTime": {
     "end_time": "2024-09-13T19:06:24.868040Z",
     "start_time": "2024-09-13T19:06:24.820654Z"
    }
   },
   "cell_type": "code",
   "source": [
    "zadanie = gz.pierwiastek_zespolony(stopien=choice([3, 4]))\n",
    "print(f\"\\033[34m** Zadanie **\" + '*' * 82 + '\\033[0m')\n",
    "display(Markdown(zadanie[0].split('\\n')[0].replace('\\\\', '')))\n",
    "display(Latex('$$' + zadanie[0].split('\\n')[2] + '$$'))\n",
    "print(\"\\033[32m** Rozwiązanie **\" + '*' * 78 + '\\033[0m')\n",
    "display(Latex('$' + zadanie[1] + '$'))\n",
    "zadanie_3 = zadanie"
   ],
   "id": "9474837fa71f3d66",
   "outputs": [
    {
     "name": "stdout",
     "output_type": "stream",
     "text": [
      "\u001B[34m** Zadanie ************************************************************************************\u001B[0m\n"
     ]
    },
    {
     "data": {
      "text/plain": [
       "<IPython.core.display.Markdown object>"
      ],
      "text/markdown": "Wyznaczyć wszystkie zadane pierwiastki zespolone i zaznaczyć je na płaszczyźnie zespolonej"
     },
     "metadata": {},
     "output_type": "display_data"
    },
    {
     "data": {
      "text/plain": [
       "<IPython.core.display.Latex object>"
      ],
      "text/latex": "$$\t\t\\sqrt[\\leftroot{2}\\uproot{-4} \\displaystyle ^{3}]{\\left(-1 + \\sqrt{2} i \\right) \\left(- \\frac{64 \\sqrt{2}}{81} + \\frac{64 i}{81} \\right)}$$"
     },
     "metadata": {},
     "output_type": "display_data"
    },
    {
     "name": "stdout",
     "output_type": "stream",
     "text": [
      "\u001B[32m** Rozwiązanie ********************************************************************************\u001B[0m\n"
     ]
    },
    {
     "data": {
      "text/plain": [
       "<IPython.core.display.Latex object>"
      ],
      "text/latex": "$$\\sqrt[\\leftroot{2}\\uproot{-4} \\displaystyle ^{3}]{- \\frac{64 i}{27}} = \\left\\{ \\frac{4 i}{3}, \\  - \\frac{2 \\sqrt{3}}{3} - \\frac{2 i}{3}, \\  \\frac{2 \\sqrt{3}}{3} - \\frac{2 i}{3}\\right\\}.$$"
     },
     "metadata": {},
     "output_type": "display_data"
    }
   ],
   "execution_count": 16
  },
  {
   "metadata": {
    "ExecuteTime": {
     "end_time": "2024-09-13T19:06:25.152126Z",
     "start_time": "2024-09-13T19:06:24.984796Z"
    }
   },
   "cell_type": "code",
   "source": [
    "zadanie = gz.rownanie_ze_sprzezeniem(calkowite=choice([False, True]), kwadratowe=choice([False, True]))\n",
    "print(f\"\\033[34m** Zadanie **\" + '*' * 82 + '\\033[0m')\n",
    "display(Markdown(zadanie[0].split('\\n')[0].replace('\\\\', '')))\n",
    "display(Latex('$$' + zadanie[0].split('\\n')[2] + '$$'))\n",
    "print(\"\\033[32m** Rozwiązanie **\" + '*' * 78 + '\\033[0m')\n",
    "rozwiazanie = zadanie[1].replace('$ \\\\\\\\ \\n$', ' $ ').replace('$\\\\\\\\\\n$', ' $ ').replace('$ \\\\\\\\\\n$', ' $ ').split('$')\n",
    "for i in range(1, len(rozwiazanie) - 1):\n",
    "    display(Latex('$$' + rozwiazanie[i] + '$$'))\n",
    "zadanie_4 = zadanie"
   ],
   "id": "fed64507b29eaad3",
   "outputs": [
    {
     "name": "stdout",
     "output_type": "stream",
     "text": [
      "\u001B[34m** Zadanie ************************************************************************************\u001B[0m\n"
     ]
    },
    {
     "data": {
      "text/plain": [
       "<IPython.core.display.Markdown object>"
      ],
      "text/markdown": "Rozwiązać równanie w zbiorze liczb zespolonych"
     },
     "metadata": {},
     "output_type": "display_data"
    },
    {
     "data": {
      "text/plain": [
       "<IPython.core.display.Latex object>"
      ],
      "text/latex": "$$\t\tz^{2} + 4 \\overline{z} - 1 = 0$$"
     },
     "metadata": {},
     "output_type": "display_data"
    },
    {
     "name": "stdout",
     "output_type": "stream",
     "text": [
      "\u001B[32m** Rozwiązanie ********************************************************************************\u001B[0m\n"
     ]
    },
    {
     "data": {
      "text/plain": [
       "<IPython.core.display.Latex object>"
      ],
      "text/latex": "$$4 x - 4 i y + \\left(x + i y\\right)^{2} - 1 = 0, $$"
     },
     "metadata": {},
     "output_type": "display_data"
    },
    {
     "data": {
      "text/plain": [
       "<IPython.core.display.Latex object>"
      ],
      "text/latex": "$$ x^{2} + 2 i x y + 4 x - y^{2} - 4 i y - 1 = 0, $$"
     },
     "metadata": {},
     "output_type": "display_data"
    },
    {
     "data": {
      "text/plain": [
       "<IPython.core.display.Latex object>"
      ],
      "text/latex": "$$ \\left\\{\n\t\\begin{array}{c}\n\t\tx^{2} + 4 x - y^{2} - 1 = 0\\\\\n\t\t2 x y - 4 y = 0\n\t\\end{array}\n\\right. $$"
     },
     "metadata": {},
     "output_type": "display_data"
    },
    {
     "data": {
      "text/plain": [
       "<IPython.core.display.Latex object>"
      ],
      "text/latex": "$$ z = \\left[ \\left\\{ x : 2, \\  y : - \\sqrt{11}\\right\\}, \\  \\left\\{ x : 2, \\  y : \\sqrt{11}\\right\\}, \\  \\left\\{ x : -2 + \\sqrt{5}, \\  y : 0\\right\\}, \\  \\left\\{ x : - \\sqrt{5} - 2, \\  y : 0\\right\\}\\right].$$"
     },
     "metadata": {},
     "output_type": "display_data"
    }
   ],
   "execution_count": 17
  },
  {
   "metadata": {},
   "cell_type": "markdown",
   "source": "## Generuj plik LaTeX z wybranych zadań",
   "id": "40a07fabed117e71"
  },
  {
   "metadata": {
    "ExecuteTime": {
     "end_time": "2024-09-13T19:06:25.251434Z",
     "start_time": "2024-09-13T19:06:25.245074Z"
    }
   },
   "cell_type": "code",
   "source": [
    "def dodaj_zadanie(zadanie, warstwa):\n",
    "    polecenie, rozwiazanie = zadanie\n",
    "    polecenie = '\\\\item ' + polecenie + '\\n'\n",
    "    polecenie = textwrap.indent(polecenie, prefix='\\t\\t')\n",
    "    rozwiazanie = f'\\\\zOdpowiedziami{{\\\\kolorodpowiedzi}}{{ocg{warstwa}}}\\n\\t{{{rozwiazanie}}}\\n\\n'\n",
    "    rozwiazanie = textwrap.indent(rozwiazanie, prefix='\\t\\t\\t')\n",
    "    return polecenie + rozwiazanie"
   ],
   "id": "1ddcc5ce0885a09f",
   "outputs": [],
   "execution_count": 18
  },
  {
   "metadata": {
    "ExecuteTime": {
     "end_time": "2024-09-13T19:12:17.688198Z",
     "start_time": "2024-09-13T19:12:17.679084Z"
    }
   },
   "cell_type": "code",
   "source": [
    "def generuj_zestaw(*zadania):\n",
    "    plik_tex = ('% !TeX spellcheck = pl_PL-Polish\\n'\n",
    "                '\\\\documentclass[a4paper,12pt]{article}\\n'  # można zmieniać rozmiar czcionki\n",
    "                '\\\\linespread{1.3} %odstepy miedzy liniami\\n'\n",
    "                '\\\\usepackage[a4paper, lmargin=2cm, rmargin=2cm, tmargin=2cm, bmargin=2cm]{geometry}\\n'\n",
    "                '\\\\usepackage{amsfonts}\\n'\n",
    "                '\\\\usepackage{amsmath}\\n'\n",
    "                '\\\\usepackage{color}\\n'\n",
    "                '\\\\usepackage{enumitem}\\n'\n",
    "                '\\\\usepackage{fancyhdr}\\n'\n",
    "                '\\\\usepackage{float}\\n'\n",
    "                '\\\\usepackage{graphicx}\\n'  # do pdf\n",
    "                '\\\\usepackage{ifthen}\\n'\n",
    "                '\\\\usepackage[utf8]{inputenc}\\n'\n",
    "                '\\\\usepackage{lmodern}\\n'\n",
    "                '\\\\usepackage{ocgx}\\n'\n",
    "                # '\\\\usepackage{pgf}\\n'  # niepotrzebne gdy importujemy pdf-y\n",
    "                '\\\\usepackage{polski}\\n'\n",
    "                '\\\\usepackage{tcolorbox}\\n'\n",
    "                '\\\\tcbuselibrary{most}\\n'\n",
    "                '\\\\tcbuselibrary{skins}\\n'\n",
    "                '\\\\tcbuselibrary{raster}\\n'\n",
    "                '% brak - bez odpowiedzi i bez miejsca, white - bez odpowiedzi z miejscem, red = odpowiedzi ukryte ale dostepne\\n'\n",
    "                f'\\\\newcommand{{\\kolorodpowiedzi}}{{{kolor_odpowiedzi}}}\\n'\n",
    "                '\\\\renewcommand{\\\\footrulewidth}{0.4pt}% linia pozioma na końcu strony - default is 0pt\\n'\n",
    "                '\\\\DeclareFontShape{OMX}{cmex}{m}{n}\\n'\n",
    "                '    {<-7.5> cmex7\\n'\n",
    "                '    <7.5-8.5> cmex8\\n'\n",
    "                '    <8.5-9.5> cmex9\\n'\n",
    "                '    <9.5-> cmex10}{}\\n'\n",
    "                '\\\\DeclareSymbolFont{largesymbols}{OMX}{cmex}{m}{n}\\n\\n'\n",
    "                # '\\\\newcommand{\\\\zOdpowiedziami}[1]{\\n'\n",
    "                # '\\t\\\\ifthenelse{\\\\equal{#1}{brak}}{\\\\hphantom}{\\n'\n",
    "                # '\\t\\t\\\\ifthenelse{\\\\equal{#1}{white}}{\\\\vphantom}{\\n'\n",
    "                # '\\t\\t\\t\\\\textcolor{\\\\kolorodpowiedzi}}}}\\n\\n'\n",
    "                '\\n'\n",
    "                '\\\\newcommand{\\\\ukryte}{1}  % domyślnie odpowiedzi są do pokazywania po kliknięciu\\n'\n",
    "                '\\\\ifthenelse{\\\\equal{\\\\kolorodpowiedzi}{red}}  % ukrywamy od pokazywania gdy kolor jest red\\n'\n",
    "                '\\t{\\\\renewcommand{\\\\ukryte}{0}}{}\\n\\n'\n",
    "                '\\\\newcommand{\\\\zOdpowiedziami}[3]{\\n'\n",
    "                '\\t\\\\ifthenelse{\\\\equal{#1}{brak}}{}{\\n'\n",
    "                '\\t\\t\\\\ifthenelse{\\\\equal{#1}{white}}{\\\\vphantom{#3}}{\\n'\n",
    "                '\\t\\t\\t\\\\switchocg{#2}{\\\\textcolor{\\\\kolorodpowiedzi}{\\\\\\\\Rozwiązanie: }}\\n'\n",
    "                '\\t\\t\\t\\t\\\\begin{ocg}{Warstwa odpowiedzi}{#2}{\\\\ukryte}\\n'\n",
    "                '\\t\\t\\t\\t\\t\\\\textcolor{\\kolorodpowiedzi}{#3}\\n'\n",
    "                '\\t\\t\\t\\t\\\\end{ocg}}}}\\n\\n'\n",
    "\n",
    "                '\\\\begin{document}\\n'\n",
    "                '    \\\\pagestyle{fancy}\\n'\n",
    "                '    \\\\setlength{\\headheight}{27.29453pt}\\n'\n",
    "                '    \\\\fancyhead{}\\n'\n",
    "                '    \\\\fancyhead[L]{\\\\textbf{' + kierunek + '\\\\\\\\' + przedmiot + ' - ' + grupa + '}}\\n'\n",
    "                                                                                                 '    \\\\fancyhead[R]{\\\\textbf{' + kolokwium + '\\\\\\\\ ' + data + '}}' + '\\n' +\n",
    "                '    \\\\fancyfoot{}' + '\\n' +\n",
    "                '    \\\\fancyfoot[R]{\\\\tiny\\\\textbf{' +\n",
    "                babel.dates.format_datetime(datetime.datetime.now(), \"d MMMM yyyy, HH:mm\", locale='pl_PL') + '}}\\n' +\n",
    "                '%    \\hspace{1cm}\\n' +\n",
    "                r'    \\begin{enumerate}[label= \\textbf{Zadanie \\arabic*. },' +\n",
    "                ' leftmargin=1cm, align=left, itemsep=0pt]' + '\\n'\n",
    "                )\n",
    "    for n, zadanie in enumerate(zadania):\n",
    "        plik_tex += dodaj_zadanie(zadanie, n)\n",
    "\n",
    "    plik_tex += (r'    \\end{enumerate}' + '\\n'\n",
    "                 + '\\end{document}')\n",
    "    return plik_tex"
   ],
   "id": "4af3c669a4f23df8",
   "outputs": [],
   "execution_count": 24
  },
  {
   "metadata": {
    "ExecuteTime": {
     "end_time": "2024-09-13T19:16:37.948103Z",
     "start_time": "2024-09-13T19:16:37.942341Z"
    }
   },
   "cell_type": "code",
   "source": "a = generuj_zestaw(zadanie_1, zadanie_2, zadanie_3, zadanie_4)",
   "id": "3e909f0406dbf9b9",
   "outputs": [],
   "execution_count": 28
  },
  {
   "metadata": {
    "ExecuteTime": {
     "end_time": "2024-09-13T19:16:39.462129Z",
     "start_time": "2024-09-13T19:16:39.456297Z"
    }
   },
   "cell_type": "code",
   "source": "a",
   "id": "c94c4ba2be8d6511",
   "outputs": [
    {
     "data": {
      "text/plain": [
       "'% !TeX spellcheck = pl_PL-Polish\\n\\\\documentclass[a4paper,12pt]{article}\\n\\\\linespread{1.3} %odstepy miedzy liniami\\n\\\\usepackage[a4paper, lmargin=2cm, rmargin=2cm, tmargin=2cm, bmargin=2cm]{geometry}\\n\\\\usepackage{amsfonts}\\n\\\\usepackage{amsmath}\\n\\\\usepackage{color}\\n\\\\usepackage{enumitem}\\n\\\\usepackage{fancyhdr}\\n\\\\usepackage{float}\\n\\\\usepackage{graphicx}\\n\\\\usepackage{ifthen}\\n\\\\usepackage[utf8]{inputenc}\\n\\\\usepackage{lmodern}\\n\\\\usepackage{ocgx}\\n\\\\usepackage{polski}\\n\\\\usepackage{tcolorbox}\\n\\\\tcbuselibrary{most}\\n\\\\tcbuselibrary{skins}\\n\\\\tcbuselibrary{raster}\\n% brak - bez odpowiedzi i bez miejsca, white - bez odpowiedzi z miejscem, red = odpowiedzi ukryte ale dostepne\\n\\\\newcommand{\\\\kolorodpowiedzi}{blue}\\n\\\\renewcommand{\\\\footrulewidth}{0.4pt}% linia pozioma na końcu strony - default is 0pt\\n\\\\DeclareFontShape{OMX}{cmex}{m}{n}\\n    {<-7.5> cmex7\\n    <7.5-8.5> cmex8\\n    <8.5-9.5> cmex9\\n    <9.5-> cmex10}{}\\n\\\\DeclareSymbolFont{largesymbols}{OMX}{cmex}{m}{n}\\n\\n\\n\\\\newcommand{\\\\ukryte}{1}  % domyślnie odpowiedzi są do pokazywania po kliknięciu\\n\\\\ifthenelse{\\\\equal{\\\\kolorodpowiedzi}{red}}  % ukrywamy od pokazywania gdy kolor jest red\\n\\t{\\\\renewcommand{\\\\ukryte}{0}}{}\\n\\n\\\\newcommand{\\\\zOdpowiedziami}[3]{\\n\\t\\\\ifthenelse{\\\\equal{#1}{brak}}{}{\\n\\t\\t\\\\ifthenelse{\\\\equal{#1}{white}}{\\\\vphantom{#3}}{\\n\\t\\t\\t\\\\switchocg{#2}{\\\\textcolor{\\\\kolorodpowiedzi}{\\\\\\\\Rozwiązanie: }}\\n\\t\\t\\t\\t\\\\begin{ocg}{Warstwa odpowiedzi}{#2}{\\\\ukryte}\\n\\t\\t\\t\\t\\t\\\\textcolor{\\\\kolorodpowiedzi}{#3}\\n\\t\\t\\t\\t\\\\end{ocg}}}}\\n\\n\\\\begin{document}\\n    \\\\pagestyle{fancy}\\n    \\\\setlength{\\\\headheight}{27.29453pt}\\n    \\\\fancyhead{}\\n    \\\\fancyhead[L]{\\\\textbf{KIERUNEK\\\\\\\\PRZEDMIOT - GRUPA}}\\n    \\\\fancyhead[R]{\\\\textbf{NR1\\\\\\\\ 25 maja 2024}}\\n    \\\\fancyfoot{}\\n    \\\\fancyfoot[R]{\\\\tiny\\\\textbf{13 września 2024, 21:16}}\\n%    \\\\hspace{1cm}\\n    \\\\begin{enumerate}[label= \\\\textbf{Zadanie \\\\arabic*. }, leftmargin=1cm, align=left, itemsep=0pt]\\n\\t\\t\\\\item Rozwiązać równanie w zbiorze liczb zespolonych.\\\\ Sprawdzić rozwiązanie.\\n\\t\\t\\t\\\\[\\n\\t\\t\\t\\t\\\\left(3 - 3i\\\\right)z = 4 + 8i+\\\\left(3 - 5i\\\\right)z\\n\\t\\t\\t\\\\]\\n\\t\\t\\t\\\\zOdpowiedziami{\\\\kolorodpowiedzi}{ocg0}\\n\\t\\t\\t\\t{$z=4 - 2i.$}\\n\\n\\t\\t\\\\item Rozwiązać równanie w zbiorze liczb zespolonych.\\\\ Sprawdzić jedno z rozwiązań.\\n\\t\\t\\t\\\\[\\n\\t\\t\\t\\t\\\\left(1 - 2 i\\\\right)z^2 + \\\\left(11 - 7 i\\\\right) z + \\\\left(18 - i\\\\right)=0\\n\\t\\t\\t\\\\]\\n\\t\\t\\t\\\\zOdpowiedziami{\\\\kolorodpowiedzi}{ocg1}\\n\\t\\t\\t\\t{$\\\\Delta = 8-6i, \\\\quad \\\\sqrt{\\\\Delta}=\\\\pm( 3 - i), \\\\quad z_{1}=-3 - 2 i, \\\\quad z_{2}=-2 - i$}\\n\\n\\t\\t\\\\item Wyznaczyć wszystkie zadane pierwiastki zespolone i zaznaczyć je na płaszczyźnie zespolonej\\n\\t\\t\\t\\\\[\\n\\t\\t\\t\\t\\\\sqrt[\\\\leftroot{2}\\\\uproot{-4} \\\\displaystyle ^{3}]{\\\\left(-1 + \\\\sqrt{2} i \\\\right) \\\\left(- \\\\frac{64 \\\\sqrt{2}}{81} + \\\\frac{64 i}{81} \\\\right)}\\n\\t\\t\\t\\\\]\\n\\t\\t\\t\\\\zOdpowiedziami{\\\\kolorodpowiedzi}{ocg2}\\n\\t\\t\\t\\t{$\\\\sqrt[\\\\leftroot{2}\\\\uproot{-4} \\\\displaystyle ^{3}]{- \\\\frac{64 i}{27}} = \\\\left\\\\{ \\\\frac{4 i}{3}, \\\\  - \\\\frac{2 \\\\sqrt{3}}{3} - \\\\frac{2 i}{3}, \\\\  \\\\frac{2 \\\\sqrt{3}}{3} - \\\\frac{2 i}{3}\\\\right\\\\}.$}\\n\\n\\t\\t\\\\item Rozwiązać równanie w zbiorze liczb zespolonych\\n\\t\\t\\t\\\\[\\n\\t\\t\\t\\tz^{2} + 4 \\\\overline{z} - 1 = 0\\n\\t\\t\\t\\\\]\\n\\t\\t\\t\\\\zOdpowiedziami{\\\\kolorodpowiedzi}{ocg3}\\n\\t\\t\\t\\t{$4 x - 4 i y + \\\\left(x + i y\\\\right)^{2} - 1 = 0,$ \\\\\\\\ \\n\\t\\t\\t$x^{2} + 2 i x y + 4 x - y^{2} - 4 i y - 1 = 0,$\\\\\\\\\\n\\t\\t\\t$\\\\left\\\\{\\n\\t\\t\\t\\t\\\\begin{array}{c}\\n\\t\\t\\t\\t\\tx^{2} + 4 x - y^{2} - 1 = 0\\\\\\\\\\n\\t\\t\\t\\t\\t2 x y - 4 y = 0\\n\\t\\t\\t\\t\\\\end{array}\\n\\t\\t\\t\\\\right.$ \\\\\\\\\\n\\t\\t\\t$z = \\\\left[ \\\\left\\\\{ x : 2, \\\\  y : - \\\\sqrt{11}\\\\right\\\\}, \\\\  \\\\left\\\\{ x : 2, \\\\  y : \\\\sqrt{11}\\\\right\\\\}, \\\\  \\\\left\\\\{ x : -2 + \\\\sqrt{5}, \\\\  y : 0\\\\right\\\\}, \\\\  \\\\left\\\\{ x : - \\\\sqrt{5} - 2, \\\\  y : 0\\\\right\\\\}\\\\right].$}\\n\\n    \\\\end{enumerate}\\n\\\\end{document}'"
      ]
     },
     "execution_count": 29,
     "metadata": {},
     "output_type": "execute_result"
    }
   ],
   "execution_count": 29
  },
  {
   "metadata": {},
   "cell_type": "code",
   "outputs": [],
   "execution_count": null,
   "source": "",
   "id": "b0d3947f4938122d"
  }
 ],
 "metadata": {
  "kernelspec": {
   "display_name": "Python 3",
   "language": "python",
   "name": "python3"
  },
  "language_info": {
   "codemirror_mode": {
    "name": "ipython",
    "version": 2
   },
   "file_extension": ".py",
   "mimetype": "text/x-python",
   "name": "python",
   "nbconvert_exporter": "python",
   "pygments_lexer": "ipython2",
   "version": "2.7.6"
  }
 },
 "nbformat": 4,
 "nbformat_minor": 5
}
