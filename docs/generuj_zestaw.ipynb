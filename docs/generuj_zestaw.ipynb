{
 "cells": [
  {
   "metadata": {},
   "cell_type": "markdown",
   "source": "# Generuj zestaw zadań",
   "id": "e6685f821bf3b135"
  },
  {
   "metadata": {},
   "cell_type": "markdown",
   "source": "[![Binder](https://mybinder.org/badge_logo.svg)](https://mybinder.org/v2/gh/DyonOylloug/generator_zadan/HEAD?labpath=docs%2Fgeneruj_zestaw.ipynb) - interaktywna sesja notebooka",
   "id": "ca8a7b6043e294a0"
  },
  {
   "metadata": {
    "ExecuteTime": {
     "end_time": "2024-09-14T22:16:39.449834Z",
     "start_time": "2024-09-14T22:16:37.841821Z"
    }
   },
   "cell_type": "code",
   "source": [
    "import os\n",
    "import sys\n",
    "from random import choice\n",
    "\n",
    "from IPython.display import display, Markdown, Latex\n",
    "\n",
    "import generator_zadan.generatory as gz\n",
    "\n",
    "print(gz.__version__)"
   ],
   "id": "e09fa3157fc76075",
   "outputs": [
    {
     "name": "stdout",
     "output_type": "stream",
     "text": [
      "0.2.1\n"
     ]
    }
   ],
   "execution_count": 1
  },
  {
   "metadata": {},
   "cell_type": "markdown",
   "source": [
    "---\n",
    "\n",
    "## Wybierz zadania"
   ],
   "id": "c7b6887d61c3d313"
  },
  {
   "metadata": {},
   "cell_type": "markdown",
   "source": [
    "> - Można komórki uruchamiać wielokrotnie. Aż się trafi ciekawszy przykład.\n",
    "> - Można zmieniać parametry funkcji generujących.\n",
    "> - Zmień __`zadanie_nr`__ na odpowiednio rozróżnialne __`zadanie_1`__,  __`zadanie_2`__ itp.\n",
    "> - Te będą potem przekazywane do funkcji generującej zestaw.\n",
    "> - Na potrzeby dokumentacji na początku numery ustawione ma pierwszych pięć przykładów. \n"
   ],
   "id": "92a5e20e31055a8b"
  },
  {
   "metadata": {},
   "cell_type": "markdown",
   "source": "### Liczby zespolone",
   "id": "200f7a6af031672a"
  },
  {
   "metadata": {},
   "cell_type": "markdown",
   "source": "####  Równanie liniowe",
   "id": "6d953d959dd85432"
  },
  {
   "metadata": {
    "tags": [
     "hide-input"
    ],
    "ExecuteTime": {
     "end_time": "2024-09-14T20:09:04.588523Z",
     "start_time": "2024-09-14T20:09:02.530911Z"
    }
   },
   "cell_type": "code",
   "source": [
    "zadanie = gz.rownanie_liniowe()\n",
    "print(f\"\\033[34m** Zadanie **\" + '*' * 82 + '\\033[0m')\n",
    "display(Markdown(zadanie[0].split('\\n')[0].replace('\\\\', '')))\n",
    "display(Latex('$$' + zadanie[0].split('\\n')[2] + '$$'))\n",
    "print(\"\\033[32m** Rozwiązanie **\" + '*' * 78 + '\\033[0m')\n",
    "display(Latex('$' + zadanie[1] + '$'))\n",
    "zadanie_1 = zadanie"
   ],
   "id": "5449b3729c720f05",
   "outputs": [
    {
     "name": "stdout",
     "output_type": "stream",
     "text": [
      "\u001B[34m** Zadanie ************************************************************************************\u001B[0m\n"
     ]
    },
    {
     "data": {
      "text/plain": [
       "<IPython.core.display.Markdown object>"
      ],
      "text/markdown": "Rozwiązać równanie w zbiorze liczb zespolonych. Sprawdzić rozwiązanie."
     },
     "metadata": {},
     "output_type": "display_data"
    },
    {
     "data": {
      "text/plain": [
       "<IPython.core.display.Latex object>"
      ],
      "text/latex": "$$\t\t\\left(9 + 3i\\right)z = -2 - 6i+\\left(9 + 5i\\right)z$$"
     },
     "metadata": {},
     "output_type": "display_data"
    },
    {
     "name": "stdout",
     "output_type": "stream",
     "text": [
      "\u001B[32m** Rozwiązanie ********************************************************************************\u001B[0m\n"
     ]
    },
    {
     "data": {
      "text/plain": [
       "<IPython.core.display.Latex object>"
      ],
      "text/latex": "$$z=3 - i.$$"
     },
     "metadata": {},
     "output_type": "display_data"
    }
   ],
   "execution_count": 2
  },
  {
   "metadata": {},
   "cell_type": "markdown",
   "source": "####  Równanie kwadratowe",
   "id": "a2a3c96cb612544a"
  },
  {
   "metadata": {
    "tags": [
     "hide-input"
    ],
    "ExecuteTime": {
     "end_time": "2024-09-14T20:09:05.136758Z",
     "start_time": "2024-09-14T20:09:04.911360Z"
    }
   },
   "cell_type": "code",
   "source": [
    "zadanie = gz.rownanie_kwadratowe()\n",
    "print(f\"\\033[34m** Zadanie **\" + '*' * 82 + '\\033[0m')\n",
    "display(Markdown(zadanie[0].split('\\n')[0].replace('\\\\', '')))\n",
    "display(Latex('$$' + zadanie[0].split('\\n')[2] + '$$'))\n",
    "print(\"\\033[32m** Rozwiązanie **\" + '*' * 78 + '\\033[0m')\n",
    "display(Latex('$' + zadanie[1] + '$'))\n",
    "zadanie_2 = zadanie"
   ],
   "id": "63ea204b35f34245",
   "outputs": [
    {
     "name": "stdout",
     "output_type": "stream",
     "text": [
      "\u001B[34m** Zadanie ************************************************************************************\u001B[0m\n"
     ]
    },
    {
     "data": {
      "text/plain": [
       "<IPython.core.display.Markdown object>"
      ],
      "text/markdown": "Rozwiązać równanie w zbiorze liczb zespolonych. Sprawdzić jedno z rozwiązań."
     },
     "metadata": {},
     "output_type": "display_data"
    },
    {
     "data": {
      "text/plain": [
       "<IPython.core.display.Latex object>"
      ],
      "text/latex": "$$\t\t\\left(1 + 2 i\\right)z^2 + \\left(3 - 14 i\\right) z + \\left(-18 + 14 i\\right)=0$$"
     },
     "metadata": {},
     "output_type": "display_data"
    },
    {
     "name": "stdout",
     "output_type": "stream",
     "text": [
      "\u001B[32m** Rozwiązanie ********************************************************************************\u001B[0m\n"
     ]
    },
    {
     "data": {
      "text/plain": [
       "<IPython.core.display.Latex object>"
      ],
      "text/latex": "$$\\Delta = -3+4i, \\quad \\sqrt{\\Delta}=\\pm( 1 + 2 i), \\quad z_{1}=2 + 2 i, \\quad z_{2}=3 + 2 i$$"
     },
     "metadata": {},
     "output_type": "display_data"
    }
   ],
   "execution_count": 3
  },
  {
   "metadata": {},
   "cell_type": "markdown",
   "source": "####  Pierwiastek zespolony",
   "id": "33923be2cec66dd9"
  },
  {
   "metadata": {
    "tags": [
     "hide-input"
    ],
    "ExecuteTime": {
     "end_time": "2024-09-14T20:09:05.584620Z",
     "start_time": "2024-09-14T20:09:05.511213Z"
    }
   },
   "cell_type": "code",
   "source": [
    "zadanie = gz.pierwiastek_zespolony(stopien=choice([3, 4]))\n",
    "print(f\"\\033[34m** Zadanie **\" + '*' * 82 + '\\033[0m')\n",
    "display(Markdown(zadanie[0].split('\\n')[0].replace('\\\\', '')))\n",
    "display(Latex('$$' + zadanie[0].split('\\n')[2] + '$$'))\n",
    "print(\"\\033[32m** Rozwiązanie **\" + '*' * 78 + '\\033[0m')\n",
    "display(Latex('$' + zadanie[1] + '$'))\n",
    "zadanie_3 = zadanie"
   ],
   "id": "9474837fa71f3d66",
   "outputs": [
    {
     "name": "stdout",
     "output_type": "stream",
     "text": [
      "\u001B[34m** Zadanie ************************************************************************************\u001B[0m\n"
     ]
    },
    {
     "data": {
      "text/plain": [
       "<IPython.core.display.Markdown object>"
      ],
      "text/markdown": "Wyznaczyć wszystkie zadane pierwiastki zespolone i zaznaczyć je na płaszczyźnie zespolonej"
     },
     "metadata": {},
     "output_type": "display_data"
    },
    {
     "data": {
      "text/plain": [
       "<IPython.core.display.Latex object>"
      ],
      "text/latex": "$$\t\t\\sqrt[\\leftroot{2}\\uproot{-4} \\displaystyle ^{3}]{\\left(9 \\sqrt{2} - 9 i \\right) \\left(-1 + \\sqrt{2} i \\right)}$$"
     },
     "metadata": {},
     "output_type": "display_data"
    },
    {
     "name": "stdout",
     "output_type": "stream",
     "text": [
      "\u001B[32m** Rozwiązanie ********************************************************************************\u001B[0m\n"
     ]
    },
    {
     "data": {
      "text/plain": [
       "<IPython.core.display.Latex object>"
      ],
      "text/latex": "$$\\sqrt[\\leftroot{2}\\uproot{-4} \\displaystyle ^{3}]{27 i} = \\left\\{ - 3 i, \\  - \\frac{3 \\sqrt{3}}{2} + \\frac{3 i}{2}, \\  \\frac{3 \\sqrt{3}}{2} + \\frac{3 i}{2}\\right\\}.$$"
     },
     "metadata": {},
     "output_type": "display_data"
    }
   ],
   "execution_count": 4
  },
  {
   "metadata": {},
   "cell_type": "markdown",
   "source": "####  Równanie zespolone ze sprzężeniem",
   "id": "fafbf5e0aaf89dd3"
  },
  {
   "metadata": {
    "tags": [
     "hide-input"
    ],
    "ExecuteTime": {
     "end_time": "2024-09-14T20:10:21.623290Z",
     "start_time": "2024-09-14T20:10:20.796578Z"
    }
   },
   "cell_type": "code",
   "source": [
    "zadanie = gz.rownanie_ze_sprzezeniem(calkowite=choice([False, True]), kwadratowe=choice([False, True]))\n",
    "print(f\"\\033[34m** Zadanie **\" + '*' * 82 + '\\033[0m')\n",
    "display(Markdown(zadanie[0].split('\\n')[0].replace('\\\\', '')))\n",
    "display(Latex('$$' + zadanie[0].split('\\n')[2] + '$$'))\n",
    "print(\"\\033[32m** Rozwiązanie **\" + '*' * 78 + '\\033[0m')\n",
    "rozwiazanie = zadanie[1].replace('$ \\\\\\\\ \\n$', ' $ ').replace('$\\\\\\\\\\n$', ' $ ').replace('$ \\\\\\\\\\n$', ' $ ').split('$')\n",
    "for i in range(1, len(rozwiazanie) - 1):\n",
    "    display(Latex('$$' + rozwiazanie[i] + '$$'))\n",
    "zadanie_4 = zadanie"
   ],
   "id": "fed64507b29eaad3",
   "outputs": [
    {
     "name": "stdout",
     "output_type": "stream",
     "text": [
      "\u001B[34m** Zadanie ************************************************************************************\u001B[0m\n"
     ]
    },
    {
     "data": {
      "text/plain": [
       "<IPython.core.display.Markdown object>"
      ],
      "text/markdown": "Rozwiązać równanie w zbiorze liczb zespolonych"
     },
     "metadata": {},
     "output_type": "display_data"
    },
    {
     "data": {
      "text/plain": [
       "<IPython.core.display.Latex object>"
      ],
      "text/latex": "$$\t\tz \\left(-5 + 2 i\\right) + \\left(1 + 5 i\\right) \\overline{z} + 2 + i = 0$$"
     },
     "metadata": {},
     "output_type": "display_data"
    },
    {
     "name": "stdout",
     "output_type": "stream",
     "text": [
      "\u001B[32m** Rozwiązanie ********************************************************************************\u001B[0m\n"
     ]
    },
    {
     "data": {
      "text/plain": [
       "<IPython.core.display.Latex object>"
      ],
      "text/latex": "$$\\left(1 + 5 i\\right) \\left(x - i y\\right) + \\left(-5 + 2 i\\right) \\left(x + i y\\right) + 2 + i = 0, $$"
     },
     "metadata": {},
     "output_type": "display_data"
    },
    {
     "data": {
      "text/plain": [
       "<IPython.core.display.Latex object>"
      ],
      "text/latex": "$$ - x \\left(4 - 7 i\\right) - y \\left(-3 + 6 i\\right) + 2 + i = 0, $$"
     },
     "metadata": {},
     "output_type": "display_data"
    },
    {
     "data": {
      "text/plain": [
       "<IPython.core.display.Latex object>"
      ],
      "text/latex": "$$ \\left\\{\n\t\\begin{array}{c}\n\t\t- 4 x + 3 y + 2 = 0\\\\\n\t\t7 x - 6 y + 1 = 0\n\t\\end{array}\n\\right. $$"
     },
     "metadata": {},
     "output_type": "display_data"
    },
    {
     "data": {
      "text/plain": [
       "<IPython.core.display.Latex object>"
      ],
      "text/latex": "$$ z = \\left\\{ x : 5, \\  y : 6\\right\\}.$$"
     },
     "metadata": {},
     "output_type": "display_data"
    }
   ],
   "execution_count": 9
  },
  {
   "metadata": {},
   "cell_type": "markdown",
   "source": "####  Obszar zespolony",
   "id": "ca38ed1076be1123"
  },
  {
   "metadata": {
    "tags": [
     "hide-input"
    ],
    "ExecuteTime": {
     "end_time": "2024-09-14T22:17:30.793989Z",
     "start_time": "2024-09-14T22:17:30.545223Z"
    }
   },
   "cell_type": "code",
   "source": [
    "zadanie = gz.obszar_zespolony(typ=choice([1, 2, 3, 4, 5]), nr_zadania=0)\n",
    "print(f\"\\033[34m** Zadanie **\" + '*' * 82 + '\\033[0m')\n",
    "display(Markdown(zadanie[0].split('\\n')[0].replace('\\\\', '')))\n",
    "display(Latex('$$' + zadanie[0].split('\\[')[1].split('\\]')[0] + '$$'))\n",
    "print(\"\\033[34m*\\033[0m\" * 95)\n",
    "print(\"\\033[32m** Rozwiązanie **\" + '*' * 78 + '\\033[0m')\n",
    "display(Latex('$$\\\\begin{gather*}' + zadanie[1].split('{gather*}')[1] + '{gather*}$$'))\n",
    "display(Markdown(f'![](./pics//obszar0.png)'))\n",
    "zadanie_5 = zadanie"
   ],
   "id": "ce45879c406a855",
   "outputs": [
    {
     "name": "stdout",
     "output_type": "stream",
     "text": [
      "\u001B[34m** Zadanie ************************************************************************************\u001B[0m\n"
     ]
    },
    {
     "data": {
      "text/plain": [
       "<IPython.core.display.Markdown object>"
      ],
      "text/markdown": "Zaznaczyć na płaszczyźnie zespolonej obszar spełniający warunek"
     },
     "metadata": {},
     "output_type": "display_data"
    },
    {
     "data": {
      "text/plain": [
       "<IPython.core.display.Latex object>"
      ],
      "text/latex": "$$\n\t\t\\left|z+3 + i\\right|  \\geq \\frac{5}{2}\n\t$$"
     },
     "metadata": {},
     "output_type": "display_data"
    },
    {
     "name": "stdout",
     "output_type": "stream",
     "text": [
      "\u001B[34m*\u001B[0m\u001B[34m*\u001B[0m\u001B[34m*\u001B[0m\u001B[34m*\u001B[0m\u001B[34m*\u001B[0m\u001B[34m*\u001B[0m\u001B[34m*\u001B[0m\u001B[34m*\u001B[0m\u001B[34m*\u001B[0m\u001B[34m*\u001B[0m\u001B[34m*\u001B[0m\u001B[34m*\u001B[0m\u001B[34m*\u001B[0m\u001B[34m*\u001B[0m\u001B[34m*\u001B[0m\u001B[34m*\u001B[0m\u001B[34m*\u001B[0m\u001B[34m*\u001B[0m\u001B[34m*\u001B[0m\u001B[34m*\u001B[0m\u001B[34m*\u001B[0m\u001B[34m*\u001B[0m\u001B[34m*\u001B[0m\u001B[34m*\u001B[0m\u001B[34m*\u001B[0m\u001B[34m*\u001B[0m\u001B[34m*\u001B[0m\u001B[34m*\u001B[0m\u001B[34m*\u001B[0m\u001B[34m*\u001B[0m\u001B[34m*\u001B[0m\u001B[34m*\u001B[0m\u001B[34m*\u001B[0m\u001B[34m*\u001B[0m\u001B[34m*\u001B[0m\u001B[34m*\u001B[0m\u001B[34m*\u001B[0m\u001B[34m*\u001B[0m\u001B[34m*\u001B[0m\u001B[34m*\u001B[0m\u001B[34m*\u001B[0m\u001B[34m*\u001B[0m\u001B[34m*\u001B[0m\u001B[34m*\u001B[0m\u001B[34m*\u001B[0m\u001B[34m*\u001B[0m\u001B[34m*\u001B[0m\u001B[34m*\u001B[0m\u001B[34m*\u001B[0m\u001B[34m*\u001B[0m\u001B[34m*\u001B[0m\u001B[34m*\u001B[0m\u001B[34m*\u001B[0m\u001B[34m*\u001B[0m\u001B[34m*\u001B[0m\u001B[34m*\u001B[0m\u001B[34m*\u001B[0m\u001B[34m*\u001B[0m\u001B[34m*\u001B[0m\u001B[34m*\u001B[0m\u001B[34m*\u001B[0m\u001B[34m*\u001B[0m\u001B[34m*\u001B[0m\u001B[34m*\u001B[0m\u001B[34m*\u001B[0m\u001B[34m*\u001B[0m\u001B[34m*\u001B[0m\u001B[34m*\u001B[0m\u001B[34m*\u001B[0m\u001B[34m*\u001B[0m\u001B[34m*\u001B[0m\u001B[34m*\u001B[0m\u001B[34m*\u001B[0m\u001B[34m*\u001B[0m\u001B[34m*\u001B[0m\u001B[34m*\u001B[0m\u001B[34m*\u001B[0m\u001B[34m*\u001B[0m\u001B[34m*\u001B[0m\u001B[34m*\u001B[0m\u001B[34m*\u001B[0m\u001B[34m*\u001B[0m\u001B[34m*\u001B[0m\u001B[34m*\u001B[0m\u001B[34m*\u001B[0m\u001B[34m*\u001B[0m\u001B[34m*\u001B[0m\u001B[34m*\u001B[0m\u001B[34m*\u001B[0m\u001B[34m*\u001B[0m\u001B[34m*\u001B[0m\u001B[34m*\u001B[0m\u001B[34m*\u001B[0m\u001B[34m*\u001B[0m\u001B[34m*\u001B[0m\n",
      "\u001B[32m** Rozwiązanie ********************************************************************************\u001B[0m\n"
     ]
    },
    {
     "data": {
      "text/plain": [
       "<IPython.core.display.Latex object>"
      ],
      "text/latex": "$$\\begin{gather*}\n\t\t\\left(x + 3\\right)^{2} + \\left(y + 1\\right)^{2}\\geq\\frac{25}{4}\n\t\\end{gather*}$$"
     },
     "metadata": {},
     "output_type": "display_data"
    },
    {
     "data": {
      "text/plain": [
       "<IPython.core.display.Markdown object>"
      ],
      "text/markdown": "![](./pics//obszar0.png)"
     },
     "metadata": {},
     "output_type": "display_data"
    }
   ],
   "execution_count": 5
  },
  {
   "metadata": {},
   "cell_type": "markdown",
   "source": "### Macierze",
   "id": "6e3dd4a5c695230a"
  },
  {
   "metadata": {},
   "cell_type": "markdown",
   "source": "####  Równanie macierzowe",
   "id": "32759ff628403709"
  },
  {
   "metadata": {
    "ExecuteTime": {
     "end_time": "2024-09-14T13:46:23.931948Z",
     "start_time": "2024-09-14T13:46:23.721966Z"
    },
    "tags": [
     "hide-input"
    ]
   },
   "cell_type": "code",
   "source": [
    "print(\"\\033[34m** Zadanie **\" + '*' * 81 + '\\033[0m')\n",
    "zadanie = gz.rownanie_macierzowe()\n",
    "display(Markdown(zadanie[0].split(':')[0]))\n",
    "display(Latex(zadanie[0].split(':')[1]))\n",
    "print(\"\\033[32m** Rozwiązanie **\" + '*' * 78 + '\\033[0m')\n",
    "display(Latex(zadanie[1].replace('$ \\\\\\\\ \\n\\t$', ',\\\\quad ').replace('$', '$$')))\n",
    "zadanie_nr = zadanie"
   ],
   "id": "b1c732f6ba6212e9",
   "outputs": [
    {
     "name": "stdout",
     "output_type": "stream",
     "text": [
      "\u001B[34m** Zadanie ***********************************************************************************\u001B[0m\n"
     ]
    },
    {
     "data": {
      "text/plain": [
       "<IPython.core.display.Markdown object>"
      ],
      "text/markdown": "Rozwiązać równanie"
     },
     "metadata": {},
     "output_type": "display_data"
    },
    {
     "data": {
      "text/plain": [
       "<IPython.core.display.Latex object>"
      ],
      "text/latex": "\n\t\\[\n\t\t\\left[\\begin{matrix}0 & 1 & 1 & 1 & -1\\\\-1 & -1 & 1 & 1 & -1\\end{matrix}\\right]\\cdot \n\t\t\\left[\\begin{matrix}1 & 0 & 1 & -1 & 1\\\\-1 & 0 & 1 & 1 & -1\\end{matrix}\\right]^T + \n\t\t2X=\n\t\t\\left[\\begin{matrix}2 & -1\\\\-1 & -1\\\\1 & 2\\\\2 & -1\\\\1 & 1\\end{matrix}\\right]^T \\cdot\n\t\t\\left[\\begin{matrix}1 & 0\\\\0 & -2\\\\0 & 1\\\\0 & 0\\\\1 & 0\\end{matrix}\\right] \\cdot X\n\t\\]"
     },
     "metadata": {},
     "output_type": "display_data"
    },
    {
     "name": "stdout",
     "output_type": "stream",
     "text": [
      "\u001B[32m** Rozwiązanie ********************************************************************************\u001B[0m\n"
     ]
    },
    {
     "data": {
      "text/plain": [
       "<IPython.core.display.Latex object>"
      ],
      "text/latex": "$$ \\left[\\begin{matrix}-1 & 3\\\\-2 & 4\\end{matrix}\\right] + \n\t2X=\n\t\\left[\\begin{matrix}3 & 3\\\\0 & 4\\end{matrix}\\right] \\cdot X, \\quad \n\t\\left[\\begin{matrix}-1 & 3\\\\-2 & 4\\end{matrix}\\right] = \n\t\\left[\\begin{matrix}1 & 3\\\\0 & 2\\end{matrix}\\right] \\cdot X ,\\quad X=\\frac{1}{2}\\left[\\begin{matrix}4 & -6\\\\-2 & 4\\end{matrix}\\right].$$"
     },
     "metadata": {},
     "output_type": "display_data"
    }
   ],
   "execution_count": 38
  },
  {
   "metadata": {},
   "cell_type": "markdown",
   "source": "#### Wyznacznik z parametrem",
   "id": "ae175fbb12e39851"
  },
  {
   "metadata": {
    "ExecuteTime": {
     "end_time": "2024-09-14T13:46:24.006844Z",
     "start_time": "2024-09-14T13:46:23.984447Z"
    },
    "tags": [
     "hide-input"
    ]
   },
   "cell_type": "code",
   "source": [
    "zadanie = gz.wyznacznik_parametr(wymiar=choice([2, 3, 4]), gotowiec=True)\n",
    "print(f\"\\033[34m** Zadanie **\" + '*' * 82 + '\\033[0m')\n",
    "display(Markdown(zadanie[0][:91].replace('\\\\ ', ' ').replace('$', '*')))\n",
    "display(Latex(zadanie[0][91:]))\n",
    "print(\"\\033[32m** Rozwiązanie **\" + '*' * 78 + '\\033[0m')\n",
    "display(Latex(zadanie[1].replace('$ \\\\\\\\ \\n\\t$', ',\\\\quad ').replace('$', '$$')))\n",
    "zadanie_nr = zadanie"
   ],
   "id": "d31f4b2d63b140d9",
   "outputs": [
    {
     "name": "stdout",
     "output_type": "stream",
     "text": [
      "\u001B[34m** Zadanie ************************************************************************************\u001B[0m\n"
     ]
    },
    {
     "data": {
      "text/plain": [
       "<IPython.core.display.Markdown object>"
      ],
      "text/markdown": "Dla jakich rzeczywistych wartości parametru *x* wyznacznik macierzy *A* jest różny od zera?"
     },
     "metadata": {},
     "output_type": "display_data"
    },
    {
     "data": {
      "text/plain": [
       "<IPython.core.display.Latex object>"
      ],
      "text/latex": "\n\t\\[\n\t\t\\textnormal{A=}\n\t\t\\left[\\begin{matrix}1 & x & -3 & -2\\\\-1 & 0 & x + 3 & 2\\\\-2 & -3 & 3 & -3\\\\-4 & x + 4 & x - 2 & x - 3\\end{matrix}\\right]\n\t\\]"
     },
     "metadata": {},
     "output_type": "display_data"
    },
    {
     "name": "stdout",
     "output_type": "stream",
     "text": [
      "\u001B[32m** Rozwiązanie ********************************************************************************\u001B[0m\n"
     ]
    },
    {
     "data": {
      "text/plain": [
       "<IPython.core.display.Latex object>"
      ],
      "text/latex": "$$\\det A=- 2 x^{3} - 6 x^{2} - 126 x \\neq 0, \\quad x\\neq 0, \\ $$"
     },
     "metadata": {},
     "output_type": "display_data"
    }
   ],
   "execution_count": 39
  },
  {
   "metadata": {},
   "cell_type": "markdown",
   "source": "#### Macierz odwrotna z parametrem",
   "id": "1b8029e290f37927"
  },
  {
   "metadata": {
    "ExecuteTime": {
     "end_time": "2024-09-14T13:46:24.220512Z",
     "start_time": "2024-09-14T13:46:24.165753Z"
    },
    "tags": [
     "hide-input"
    ]
   },
   "cell_type": "code",
   "source": [
    "zadanie = gz.macierz_odwrotna_parametr(wymiar=choice([2, 3, 4]), gotowiec=True)\n",
    "print(f\"\\033[34m** Zadanie **\" + '*' * 82 + '\\033[0m')\n",
    "display(Markdown(zadanie[0][:79].replace('$', '*')))\n",
    "display(Latex(zadanie[0][79:].split('W')[0]))\n",
    "display(Markdown('W' + zadanie[0][79:].split('W')[1].replace('$', '*')))\n",
    "print(\"\\033[32m** Rozwiązanie **\" + '*' * 78 + '\\033[0m')\n",
    "rozwiazanie = zadanie[1].replace('$\\\\\\\\\\n\\t$', ' $ ').split('$')\n",
    "for i in range(1, len(rozwiazanie) - 1):\n",
    "    display(Latex('$$' + rozwiazanie[i] + '$$'))\n",
    "zadanie_nr = zadanie"
   ],
   "id": "e71af03aa056326b",
   "outputs": [
    {
     "name": "stdout",
     "output_type": "stream",
     "text": [
      "\u001B[34m** Zadanie ************************************************************************************\u001B[0m\n"
     ]
    },
    {
     "data": {
      "text/plain": [
       "<IPython.core.display.Markdown object>"
      ],
      "text/markdown": "Dla jakich rzeczywistych wartości parametru *x* macierz *A* posiada odwrotność?"
     },
     "metadata": {},
     "output_type": "display_data"
    },
    {
     "data": {
      "text/plain": [
       "<IPython.core.display.Latex object>"
      ],
      "text/latex": "\n\t\\[\n\t\t\\textnormal{A=}\\left[\\begin{matrix}4 & x - 4 & 4 & -2\\\\x + 3 & 2 & 2 & x\\\\-2 & x - 2 & -4 & 1\\\\2 & 0 & 3 & -1\\end{matrix}\\right]\n\t\\]\n"
     },
     "metadata": {},
     "output_type": "display_data"
    },
    {
     "data": {
      "text/plain": [
       "<IPython.core.display.Markdown object>"
      ],
      "text/markdown": "Wyznaczyć macierz odwrotną dla *x=3.* "
     },
     "metadata": {},
     "output_type": "display_data"
    },
    {
     "name": "stdout",
     "output_type": "stream",
     "text": [
      "\u001B[32m** Rozwiązanie ********************************************************************************\u001B[0m\n"
     ]
    },
    {
     "data": {
      "text/plain": [
       "<IPython.core.display.Latex object>"
      ],
      "text/latex": "$$\\det A=3 x^{2} + 3 x\\neq 0, \\quad \n\tx\\neq -1\\ \\textnormal{oraz} \\ x\\neq 0, $$"
     },
     "metadata": {},
     "output_type": "display_data"
    },
    {
     "data": {
      "text/plain": [
       "<IPython.core.display.Latex object>"
      ],
      "text/latex": "$$ A(3)= \\left[\\begin{matrix}4 & -1 & 4 & -2\\\\6 & 2 & 2 & 3\\\\-2 & 1 & -4 & 1\\\\2 & 0 & 3 & -1\\end{matrix}\\right],\\ \n\t\\det A(3)=36,\\ \n\tA^{-1}=\\frac{1}{36}\\left[\\begin{matrix}13 & 3 & 7 & -10\\\\-12 & 0 & 24 & 48\\\\-12 & 0 & -12 & 12\\\\-10 & 6 & -22 & -20\\end{matrix}\\right].$$"
     },
     "metadata": {},
     "output_type": "display_data"
    }
   ],
   "execution_count": 40
  },
  {
   "metadata": {},
   "cell_type": "markdown",
   "source": "#### Wektor własne",
   "id": "3010127a4d59e647"
  },
  {
   "metadata": {
    "ExecuteTime": {
     "end_time": "2024-09-14T13:46:24.408138Z",
     "start_time": "2024-09-14T13:46:24.351221Z"
    },
    "tags": [
     "hide-input"
    ]
   },
   "cell_type": "code",
   "source": [
    "zadanie = gz.wartosci_wlasne(wymiar=choice([2, 3, 4]), zespolone=choice([False, True]))\n",
    "print(f\"\\033[34m** Zadanie **\" + '*' * 82 + '\\033[0m')\n",
    "display(Markdown(zadanie[0][:51]))\n",
    "display(Latex(zadanie[0][51:]))\n",
    "print(\"\\033[32m** Rozwiązanie **\" + '*' * 78 + '\\033[0m')\n",
    "display(Latex(zadanie[1].split(', \\quad')[0].replace(\"$\", \"$$\")))\n",
    "display(Markdown(\"Wartości własne\"))\n",
    "display(Latex(\"$$\" + (zadanie[1].split(', \\quad')[1]).split(\"$\")[1] + \"$$\"))\n",
    "display(Markdown(\"Wektory własne\"))\n",
    "display(Latex(\"$$\" + (zadanie[1].split(', \\quad')[1]).split(\"$\")[3] + \"$$\"))\n",
    "zadanie_nr = zadanie"
   ],
   "id": "b56c24c55e327704",
   "outputs": [
    {
     "name": "stdout",
     "output_type": "stream",
     "text": [
      "\u001B[34m** Zadanie ************************************************************************************\u001B[0m\n"
     ]
    },
    {
     "data": {
      "text/plain": [
       "<IPython.core.display.Markdown object>"
      ],
      "text/markdown": "Wyznaczyć wartości własne i wektory własne macierzy"
     },
     "metadata": {},
     "output_type": "display_data"
    },
    {
     "data": {
      "text/plain": [
       "<IPython.core.display.Latex object>"
      ],
      "text/latex": " \n\t\\[\n\t\t\\textnormal{A=} \\left[\\begin{matrix}2 & -2\\\\1 & 3\\end{matrix}\\right]\n\t\\]"
     },
     "metadata": {},
     "output_type": "display_data"
    },
    {
     "name": "stdout",
     "output_type": "stream",
     "text": [
      "\u001B[32m** Rozwiązanie ********************************************************************************\u001B[0m\n"
     ]
    },
    {
     "data": {
      "text/plain": [
       "<IPython.core.display.Latex object>"
      ],
      "text/latex": "$$\\det\\left(\\lambda \\mathbb{I} - A \\right) = \\lambda^{2} - 5 \\lambda + 8$$"
     },
     "metadata": {},
     "output_type": "display_data"
    },
    {
     "data": {
      "text/plain": [
       "<IPython.core.display.Markdown object>"
      ],
      "text/markdown": "Wartości własne"
     },
     "metadata": {},
     "output_type": "display_data"
    },
    {
     "data": {
      "text/plain": [
       "<IPython.core.display.Latex object>"
      ],
      "text/latex": "$$ \\left\\{ \\frac{5}{2} - \\frac{\\sqrt{7} i}{2} : 1, \\  \\frac{5}{2} + \\frac{\\sqrt{7} i}{2} : 1\\right\\}, $$"
     },
     "metadata": {},
     "output_type": "display_data"
    },
    {
     "data": {
      "text/plain": [
       "<IPython.core.display.Markdown object>"
      ],
      "text/markdown": "Wektory własne"
     },
     "metadata": {},
     "output_type": "display_data"
    },
    {
     "data": {
      "text/plain": [
       "<IPython.core.display.Latex object>"
      ],
      "text/latex": "$$\\left[ \\left( \\frac{5}{2} - \\frac{\\sqrt{7} i}{2}, \\  1, \\  \\left[ \\left[\\begin{matrix}- \\frac{1}{2} - \\frac{\\sqrt{7} i}{2}\\\\1\\end{matrix}\\right]\\right]\\right), \\  \\left( \\frac{5}{2} + \\frac{\\sqrt{7} i}{2}, \\  1, \\  \\left[ \\left[\\begin{matrix}- \\frac{1}{2} + \\frac{\\sqrt{7} i}{2}\\\\1\\end{matrix}\\right]\\right]\\right)\\right]$$"
     },
     "metadata": {},
     "output_type": "display_data"
    }
   ],
   "execution_count": 41
  },
  {
   "metadata": {},
   "cell_type": "markdown",
   "source": "####  Rząd macierzy",
   "id": "9a2a41aa10ace55f"
  },
  {
   "metadata": {
    "ExecuteTime": {
     "end_time": "2024-09-14T13:46:24.603088Z",
     "start_time": "2024-09-14T13:46:24.580143Z"
    },
    "tags": [
     "hide-input"
    ]
   },
   "cell_type": "code",
   "source": [
    "zadanie = gz.rzad_macierzy()\n",
    "print(f\"\\033[34m** Zadanie **\" + '*' * 82 + '\\033[0m')\n",
    "display(Markdown(zadanie[0][:25].replace('A', '*A*')))\n",
    "display(Latex(zadanie[0][25:]))\n",
    "print(\"\\033[32m** Rozwiązanie **\" + '*' * 78 + '\\033[0m')\n",
    "display(Latex(zadanie[1].replace(\"$\", \"$$\")))\n",
    "zadanie_nr = zadanie"
   ],
   "id": "e28efaa57ef234ba",
   "outputs": [
    {
     "name": "stdout",
     "output_type": "stream",
     "text": [
      "\u001B[34m** Zadanie ************************************************************************************\u001B[0m\n"
     ]
    },
    {
     "data": {
      "text/plain": [
       "<IPython.core.display.Markdown object>"
      ],
      "text/markdown": "Wyznaczyć rząd macierzy *A*"
     },
     "metadata": {},
     "output_type": "display_data"
    },
    {
     "data": {
      "text/plain": [
       "<IPython.core.display.Latex object>"
      ],
      "text/latex": "\n\t\\[\n\t\t\\textnormal{A=} \\left[\\begin{matrix}3 & 1 & 1 & 0\\\\0 & 0 & -2 & 1\\\\3 & 1 & 2 & 2\\\\-1 & -1 & 2 & 0\\\\-1 & -2 & 1 & 3\\\\1 & -2 & 2 & 2\\end{matrix}\\right]\n\t\\]"
     },
     "metadata": {},
     "output_type": "display_data"
    },
    {
     "name": "stdout",
     "output_type": "stream",
     "text": [
      "\u001B[32m** Rozwiązanie ********************************************************************************\u001B[0m\n"
     ]
    },
    {
     "data": {
      "text/plain": [
       "<IPython.core.display.Latex object>"
      ],
      "text/latex": "$$R(A)= 4$$"
     },
     "metadata": {},
     "output_type": "display_data"
    }
   ],
   "execution_count": 42
  },
  {
   "metadata": {},
   "cell_type": "markdown",
   "source": "#### Diagonalizacja macierzy",
   "id": "3cbe73968108312b"
  },
  {
   "metadata": {
    "ExecuteTime": {
     "end_time": "2024-09-14T13:46:24.771523Z",
     "start_time": "2024-09-14T13:46:24.729382Z"
    },
    "tags": [
     "hide-input"
    ]
   },
   "cell_type": "code",
   "source": [
    "zadanie = gz.diagonalizacja_macierzy(choice([2, 3, 4]))\n",
    "print(f\"\\033[34m** Zadanie **\" + '*' * 82 + '\\033[0m')\n",
    "display(Markdown(zadanie[0][:53]))\n",
    "display(Latex(zadanie[0][53:]))\n",
    "print(\"\\033[32m** Rozwiązanie **\" + '*' * 78 + '\\033[0m')\n",
    "display(Latex(zadanie[1].split(', \\quad')[0].replace(\"$\", \"$$\")))\n",
    "display(Markdown(\"Wartości własne\"))\n",
    "display(Latex(\"$$\" + (zadanie[1].split(', \\quad')[1]).split(\"$\")[1] + \"$$\"))\n",
    "display(Markdown(\"Wektory własne\"))\n",
    "display(Latex(\"$$\" + (zadanie[1].split(', \\quad')[1]).split(\"$\")[3] + \"$$\"))\n",
    "display(Markdown(\"Diagonalizacja:\"))\n",
    "try:\n",
    "    display(Latex(\"$$\" + (zadanie[1].split(', \\quad')[1]).split(\"$\")[5]\n",
    "                  + '\\quad ' + (zadanie[1].split(', \\quad')[1]).split(\"$\")[7] + \"$$\"))\n",
    "except Exception:\n",
    "    display(Markdown(\"Macierz nie jest diagonalizowalna\"))\n",
    "zadanie_nr = zadanie"
   ],
   "id": "6131594766ee9356",
   "outputs": [
    {
     "name": "stdout",
     "output_type": "stream",
     "text": [
      "\u001B[34m** Zadanie ************************************************************************************\u001B[0m\n"
     ]
    },
    {
     "data": {
      "text/plain": [
       "<IPython.core.display.Markdown object>"
      ],
      "text/markdown": "Przeprowadzić diagonalizację macierzy (jeśli możliwa)"
     },
     "metadata": {},
     "output_type": "display_data"
    },
    {
     "data": {
      "text/plain": [
       "<IPython.core.display.Latex object>"
      ],
      "text/latex": " \n\t\\[\n\t\t\\textnormal{A=} \\left[\\begin{matrix}0 & 0\\\\2 & 3\\end{matrix}\\right]\n\t\\]"
     },
     "metadata": {},
     "output_type": "display_data"
    },
    {
     "name": "stdout",
     "output_type": "stream",
     "text": [
      "\u001B[32m** Rozwiązanie ********************************************************************************\u001B[0m\n"
     ]
    },
    {
     "data": {
      "text/plain": [
       "<IPython.core.display.Latex object>"
      ],
      "text/latex": "$$\\det\\left(\\lambda \\mathbb{I} - A \\right) = \\lambda^{2} - 3 \\lambda$$"
     },
     "metadata": {},
     "output_type": "display_data"
    },
    {
     "data": {
      "text/plain": [
       "<IPython.core.display.Markdown object>"
      ],
      "text/markdown": "Wartości własne"
     },
     "metadata": {},
     "output_type": "display_data"
    },
    {
     "data": {
      "text/plain": [
       "<IPython.core.display.Latex object>"
      ],
      "text/latex": "$$ \\left\\{ 0 : 1, \\  3 : 1\\right\\}, $$"
     },
     "metadata": {},
     "output_type": "display_data"
    },
    {
     "data": {
      "text/plain": [
       "<IPython.core.display.Markdown object>"
      ],
      "text/markdown": "Wektory własne"
     },
     "metadata": {},
     "output_type": "display_data"
    },
    {
     "data": {
      "text/plain": [
       "<IPython.core.display.Latex object>"
      ],
      "text/latex": "$$\\left[ \\left( 0, \\  1, \\  \\left[ \\left[\\begin{matrix}- \\frac{3}{2}\\\\1\\end{matrix}\\right]\\right]\\right), \\  \\left( 3, \\  1, \\  \\left[ \\left[\\begin{matrix}0\\\\1\\end{matrix}\\right]\\right]\\right)\\right]$$"
     },
     "metadata": {},
     "output_type": "display_data"
    },
    {
     "data": {
      "text/plain": [
       "<IPython.core.display.Markdown object>"
      ],
      "text/markdown": "Diagonalizacja:"
     },
     "metadata": {},
     "output_type": "display_data"
    },
    {
     "data": {
      "text/plain": [
       "<IPython.core.display.Latex object>"
      ],
      "text/latex": "$$A = P\\,D\\,P^{-1}: \\quad P=\\left[\\begin{matrix}-3 & 0\\\\2 & 1\\end{matrix}\\right],\\quad D=\\left[\\begin{matrix}0 & 0\\\\0 & 3\\end{matrix}\\right]$$"
     },
     "metadata": {},
     "output_type": "display_data"
    }
   ],
   "execution_count": 43
  },
  {
   "metadata": {},
   "cell_type": "markdown",
   "source": "#### Diagonalizacja z wielokrotnymi wartościami własnymi ",
   "id": "1131aa71c7f9c14"
  },
  {
   "metadata": {
    "ExecuteTime": {
     "end_time": "2024-09-14T13:46:29.708167Z",
     "start_time": "2024-09-14T13:46:25.006043Z"
    },
    "tags": [
     "hide-input"
    ]
   },
   "cell_type": "code",
   "source": [
    "zadanie = gz.diagonalizacja_macierzy_z_wielokrotnym_wartosciami_wlasnymi(choice([2, 3, 4]))\n",
    "print(f\"\\033[34m** Zadanie **\" + '*' * 82 + '\\033[0m')\n",
    "display(Markdown(zadanie[0][:39]))\n",
    "display(Latex(zadanie[0][39:]))\n",
    "print(\"\\033[34m*\\033[0m\" * 95)\n",
    "print(\"\\033[32m** Rozwiązanie **\" + '*' * 78 + '\\033[0m')\n",
    "display(Latex(zadanie[1].split(', \\quad')[0].replace(\"$\", \"$$\")))\n",
    "display(Markdown(\"Wartości własne\"))\n",
    "display(Latex(\"$$\" + (zadanie[1].split(', \\quad')[1]).split(\"$\")[1] + \"$$\"))\n",
    "display(Markdown(\"Wektory własne\"))\n",
    "display(Latex(\"$$\" + (zadanie[1].split(', \\quad')[1]).split(\"$\")[3] + \"$$\"))\n",
    "display(Markdown(\"Diagonalizacja:\"))\n",
    "try:\n",
    "    display(Latex(\"$$\" + (zadanie[1].split(', \\quad')[1]).split(\"$\")[5]\n",
    "                  + '\\quad ' + (zadanie[1].split(', \\quad')[1]).split(\"$\")[7] + \"$$\"))\n",
    "except Exception:\n",
    "    display(Markdown(\"Macierz nie jest diagonalizowalna\"))\n",
    "zadanie_nr = zadanie"
   ],
   "id": "7a582c07dd4eb72",
   "outputs": [
    {
     "name": "stdout",
     "output_type": "stream",
     "text": [
      "\u001B[34m** Zadanie ************************************************************************************\u001B[0m\n"
     ]
    },
    {
     "data": {
      "text/plain": [
       "<IPython.core.display.Markdown object>"
      ],
      "text/markdown": "Przeprowadzić diagonalizację macierzy\n\t"
     },
     "metadata": {},
     "output_type": "display_data"
    },
    {
     "data": {
      "text/plain": [
       "<IPython.core.display.Latex object>"
      ],
      "text/latex": "\\[\n\t\t\\textnormal{A=} \\left[\\begin{matrix}2 & -1 & 2\\\\1 & 0 & 2\\\\-1 & 1 & -1\\end{matrix}\\right]\n\t\\]"
     },
     "metadata": {},
     "output_type": "display_data"
    },
    {
     "name": "stdout",
     "output_type": "stream",
     "text": [
      "\u001B[34m*\u001B[0m\u001B[34m*\u001B[0m\u001B[34m*\u001B[0m\u001B[34m*\u001B[0m\u001B[34m*\u001B[0m\u001B[34m*\u001B[0m\u001B[34m*\u001B[0m\u001B[34m*\u001B[0m\u001B[34m*\u001B[0m\u001B[34m*\u001B[0m\u001B[34m*\u001B[0m\u001B[34m*\u001B[0m\u001B[34m*\u001B[0m\u001B[34m*\u001B[0m\u001B[34m*\u001B[0m\u001B[34m*\u001B[0m\u001B[34m*\u001B[0m\u001B[34m*\u001B[0m\u001B[34m*\u001B[0m\u001B[34m*\u001B[0m\u001B[34m*\u001B[0m\u001B[34m*\u001B[0m\u001B[34m*\u001B[0m\u001B[34m*\u001B[0m\u001B[34m*\u001B[0m\u001B[34m*\u001B[0m\u001B[34m*\u001B[0m\u001B[34m*\u001B[0m\u001B[34m*\u001B[0m\u001B[34m*\u001B[0m\u001B[34m*\u001B[0m\u001B[34m*\u001B[0m\u001B[34m*\u001B[0m\u001B[34m*\u001B[0m\u001B[34m*\u001B[0m\u001B[34m*\u001B[0m\u001B[34m*\u001B[0m\u001B[34m*\u001B[0m\u001B[34m*\u001B[0m\u001B[34m*\u001B[0m\u001B[34m*\u001B[0m\u001B[34m*\u001B[0m\u001B[34m*\u001B[0m\u001B[34m*\u001B[0m\u001B[34m*\u001B[0m\u001B[34m*\u001B[0m\u001B[34m*\u001B[0m\u001B[34m*\u001B[0m\u001B[34m*\u001B[0m\u001B[34m*\u001B[0m\u001B[34m*\u001B[0m\u001B[34m*\u001B[0m\u001B[34m*\u001B[0m\u001B[34m*\u001B[0m\u001B[34m*\u001B[0m\u001B[34m*\u001B[0m\u001B[34m*\u001B[0m\u001B[34m*\u001B[0m\u001B[34m*\u001B[0m\u001B[34m*\u001B[0m\u001B[34m*\u001B[0m\u001B[34m*\u001B[0m\u001B[34m*\u001B[0m\u001B[34m*\u001B[0m\u001B[34m*\u001B[0m\u001B[34m*\u001B[0m\u001B[34m*\u001B[0m\u001B[34m*\u001B[0m\u001B[34m*\u001B[0m\u001B[34m*\u001B[0m\u001B[34m*\u001B[0m\u001B[34m*\u001B[0m\u001B[34m*\u001B[0m\u001B[34m*\u001B[0m\u001B[34m*\u001B[0m\u001B[34m*\u001B[0m\u001B[34m*\u001B[0m\u001B[34m*\u001B[0m\u001B[34m*\u001B[0m\u001B[34m*\u001B[0m\u001B[34m*\u001B[0m\u001B[34m*\u001B[0m\u001B[34m*\u001B[0m\u001B[34m*\u001B[0m\u001B[34m*\u001B[0m\u001B[34m*\u001B[0m\u001B[34m*\u001B[0m\u001B[34m*\u001B[0m\u001B[34m*\u001B[0m\u001B[34m*\u001B[0m\u001B[34m*\u001B[0m\u001B[34m*\u001B[0m\u001B[34m*\u001B[0m\u001B[34m*\u001B[0m\u001B[34m*\u001B[0m\n",
      "\u001B[32m** Rozwiązanie ********************************************************************************\u001B[0m\n"
     ]
    },
    {
     "data": {
      "text/plain": [
       "<IPython.core.display.Latex object>"
      ],
      "text/latex": "$$\\det\\left(\\lambda \\mathbb{I} - A \\right) = \\lambda^{3} - \\lambda^{2} - \\lambda + 1$$"
     },
     "metadata": {},
     "output_type": "display_data"
    },
    {
     "data": {
      "text/plain": [
       "<IPython.core.display.Markdown object>"
      ],
      "text/markdown": "Wartości własne"
     },
     "metadata": {},
     "output_type": "display_data"
    },
    {
     "data": {
      "text/plain": [
       "<IPython.core.display.Latex object>"
      ],
      "text/latex": "$$ \\left\\{ -1 : 1, \\  1 : 2\\right\\}, $$"
     },
     "metadata": {},
     "output_type": "display_data"
    },
    {
     "data": {
      "text/plain": [
       "<IPython.core.display.Markdown object>"
      ],
      "text/markdown": "Wektory własne"
     },
     "metadata": {},
     "output_type": "display_data"
    },
    {
     "data": {
      "text/plain": [
       "<IPython.core.display.Latex object>"
      ],
      "text/latex": "$$\\left[ \\left( -1, \\  1, \\  \\left[ \\left[\\begin{matrix}-1\\\\-1\\\\1\\end{matrix}\\right]\\right]\\right), \\  \\left( 1, \\  2, \\  \\left[ \\left[\\begin{matrix}1\\\\1\\\\0\\end{matrix}\\right], \\  \\left[\\begin{matrix}-2\\\\0\\\\1\\end{matrix}\\right]\\right]\\right)\\right]$$"
     },
     "metadata": {},
     "output_type": "display_data"
    },
    {
     "data": {
      "text/plain": [
       "<IPython.core.display.Markdown object>"
      ],
      "text/markdown": "Diagonalizacja:"
     },
     "metadata": {},
     "output_type": "display_data"
    },
    {
     "data": {
      "text/plain": [
       "<IPython.core.display.Latex object>"
      ],
      "text/latex": "$$A = P\\,D\\,P^{-1}: \\quad P=\\left[\\begin{matrix}-1 & 1 & -2\\\\-1 & 1 & 0\\\\1 & 0 & 1\\end{matrix}\\right],\\quad D=\\left[\\begin{matrix}-1 & 0 & 0\\\\0 & 1 & 0\\\\0 & 0 & 1\\end{matrix}\\right]$$"
     },
     "metadata": {},
     "output_type": "display_data"
    }
   ],
   "execution_count": 44
  },
  {
   "metadata": {},
   "cell_type": "markdown",
   "source": "### Geometria analityczna",
   "id": "475145fc6380a639"
  },
  {
   "metadata": {},
   "cell_type": "markdown",
   "source": "#### Równanie prostej",
   "id": "7bfeb0581947fc1f"
  },
  {
   "metadata": {
    "ExecuteTime": {
     "end_time": "2024-09-14T13:46:29.900444Z",
     "start_time": "2024-09-14T13:46:29.790119Z"
    },
    "tags": [
     "hide-input"
    ]
   },
   "cell_type": "code",
   "source": [
    "zadanie = gz.rownanie_prostej()\n",
    "print(f\"\\033[34m** Zadanie **\" + '*' * 82 + '\\033[0m')\n",
    "display(Markdown(zadanie[0].split('\\n\\t')[0]))\n",
    "display(Latex('$$' + (zadanie[0].split('\\n\\t')[2]) + '$$'))\n",
    "display(Markdown(zadanie[0].split('\\n\\t')[4]))\n",
    "display(Latex('$$' + (zadanie[0].split('\\n\\t')[6]) + '$$'))\n",
    "print(\"\\033[32m** Rozwiązanie **\" + '*' * 78 + '\\033[0m')\n",
    "display(Latex('$' + zadanie[1] + '$'))\n",
    "zadanie_nr = zadanie"
   ],
   "id": "7e85d20973ad3dfb",
   "outputs": [
    {
     "name": "stdout",
     "output_type": "stream",
     "text": [
      "\u001B[34m** Zadanie ************************************************************************************\u001B[0m\n"
     ]
    },
    {
     "data": {
      "text/plain": [
       "<IPython.core.display.Markdown object>"
      ],
      "text/markdown": "Wyznaczyć równanie prostej przechodzącej przez punkty"
     },
     "metadata": {},
     "output_type": "display_data"
    },
    {
     "data": {
      "text/plain": [
       "<IPython.core.display.Latex object>"
      ],
      "text/latex": "$$\tP_1 = (1, -3, 2), \\quad P_2 = (-3, -1, 2).$$"
     },
     "metadata": {},
     "output_type": "display_data"
    },
    {
     "data": {
      "text/plain": [
       "<IPython.core.display.Markdown object>"
      ],
      "text/markdown": "Obliczyć odległość wyznaczonej prostej od punktu"
     },
     "metadata": {},
     "output_type": "display_data"
    },
    {
     "data": {
      "text/plain": [
       "<IPython.core.display.Latex object>"
      ],
      "text/latex": "$$\tP_3 = (1, -3, -2).$$"
     },
     "metadata": {},
     "output_type": "display_data"
    },
    {
     "name": "stdout",
     "output_type": "stream",
     "text": [
      "\u001B[32m** Rozwiązanie ********************************************************************************\u001B[0m\n"
     ]
    },
    {
     "data": {
      "text/plain": [
       "<IPython.core.display.Latex object>"
      ],
      "text/latex": "$$l\\colon  \\frac{x - 1}{-4}= \\frac{y + 3}{2}= \\frac{z - 2}{0}; \\qquad d(P_3,l) = 4$$"
     },
     "metadata": {},
     "output_type": "display_data"
    }
   ],
   "execution_count": 45
  },
  {
   "metadata": {},
   "cell_type": "markdown",
   "source": [
    "---\n",
    "\n",
    "## Ustaw nazwy"
   ],
   "id": "5dc817ea97ab66bc"
  },
  {
   "metadata": {},
   "cell_type": "markdown",
   "source": [
    "\n",
    "> Nazwy mogą być puste, tzn. ''. Nie wszystkie, bo na ich podstawie tworzona jest nazwa pliku.\n",
    "> \n",
    "> - 'kolor_odpowiedzi' jest ważny dla pliku tex:\n",
    "> - 'red' - odpowiedzi ukryte, ale dostępne po kliknięciu,\n",
    "> - 'white' - ukrywa, ale zostawia miejsce,\n",
    "> - 'brak' - ukrywa i chowa miejsce,\n",
    "> - dla innych kolorów odpowiedzi są pokazywane, ale można je ukryć po kliknięciu.\n",
    ">\n",
    "> Dlatego potrzebna jest dwukrotna kompilacja i potrzebny jest czytnik pdf z obsługą warst i JavaScript. Zalecam Adobe Acrobat Reader \n"
   ],
   "id": "521cc21f07383cf6"
  },
  {
   "metadata": {
    "ExecuteTime": {
     "end_time": "2024-09-14T20:15:41.526148Z",
     "start_time": "2024-09-14T20:15:41.521047Z"
    }
   },
   "cell_type": "code",
   "source": [
    "# bez podkreśleń !!! bo są błędy w kompilacji z podkreśleniami\n",
    "kierunek = 'KIERUNEK'  # np. AiR  \n",
    "grupa = 'GRUPA'  # np. Grupa 11\n",
    "przedmiot = 'PRZEDMIOT'  # np. Algebra\n",
    "semestr = 'SEMESTR'  # np. Semestr 1 \n",
    "kolokwium = 'NR1'  # np. Kolokwium nr 2\n",
    "data = '25 maja 2024'  # np. 01 grudnia 2022 \n",
    "kolor_odpowiedzi = 'blue' "
   ],
   "id": "d771398ed607d314",
   "outputs": [],
   "execution_count": 18
  },
  {
   "metadata": {},
   "cell_type": "markdown",
   "source": [
    "---\n",
    "\n",
    "## Generuj plik LaTeX z wybranych zadań"
   ],
   "id": "a0b7605ed4e08dfc"
  },
  {
   "metadata": {},
   "cell_type": "markdown",
   "source": [
    "\n",
    "> Wynik jest gotową zawartością pliku LaTeX.\n",
    "> \n",
    "> W mybinder (interaktywna sesja) można skopiować.\n",
    "> \n",
    "> Kompilować dwukrotnie pdflatex.\n",
    "> \n",
    "> W przypadku zadań z obrazkami trzeba też je pobierać w odpowiednie miejsce.\n",
    "> \n",
    "> Lepiej po prostu wygenerować pdf poniżej.\n"
   ],
   "id": "40a07fabed117e71"
  },
  {
   "metadata": {
    "ExecuteTime": {
     "end_time": "2024-09-14T20:11:25.937760Z",
     "start_time": "2024-09-14T20:11:25.931182Z"
    }
   },
   "cell_type": "code",
   "source": [
    "# Wynik jest gotową zawartością pliku LaTeX. Można skopiować i wkleić. \n",
    "# Kompilować dwukrotnie pdflatex.\n",
    "LaTeX_source = gz.generuj_LaTeX(kierunek,\n",
    "                                grupa,\n",
    "                                przedmiot,\n",
    "                                semestr,\n",
    "                                kolokwium,\n",
    "                                data,\n",
    "                                kolor_odpowiedzi,\n",
    "                                zadanie_1, zadanie_2, zadanie_3, zadanie_4, zadanie_5)\n",
    "print(LaTeX_source)"
   ],
   "id": "3e909f0406dbf9b9",
   "outputs": [
    {
     "name": "stdout",
     "output_type": "stream",
     "text": [
      "% !TeX spellcheck = pl_PL-Polish\n",
      "\\documentclass[a4paper,12pt]{article}\n",
      "\\linespread{1.3} %odstepy miedzy liniami\n",
      "\\usepackage[a4paper, lmargin=2cm, rmargin=2cm, tmargin=2cm, bmargin=2cm]{geometry}\n",
      "\\usepackage{amsfonts}\n",
      "\\usepackage{amsmath}\n",
      "\\usepackage{color}\n",
      "\\usepackage{enumitem}\n",
      "\\usepackage{fancyhdr}\n",
      "\\usepackage{float}\n",
      "\\usepackage{graphicx}\n",
      "\\usepackage{ifthen}\n",
      "\\usepackage[utf8]{inputenc}\n",
      "\\usepackage{lmodern}\n",
      "\\usepackage{ocgx}\n",
      "\\usepackage{polski}\n",
      "\\usepackage{tcolorbox}\n",
      "\\tcbuselibrary{most}\n",
      "\\tcbuselibrary{skins}\n",
      "\\tcbuselibrary{raster}\n",
      "% brak - bez odpowiedzi i bez miejsca, white - bez odpowiedzi z miejscem, red = odpowiedzi ukryte ale dostepne\n",
      "\\newcommand{\\kolorodpowiedzi}{blue}\n",
      "\\renewcommand{\\footrulewidth}{0.4pt}% linia pozioma na końcu strony - default is 0pt\n",
      "\\DeclareFontShape{OMX}{cmex}{m}{n}\n",
      "    {<-7.5> cmex7\n",
      "    <7.5-8.5> cmex8\n",
      "    <8.5-9.5> cmex9\n",
      "    <9.5-> cmex10}{}\n",
      "\\DeclareSymbolFont{largesymbols}{OMX}{cmex}{m}{n}\n",
      "\n",
      "\n",
      "\\newcommand{\\ukryte}{1}  % domyślnie odpowiedzi są do pokazywania po kliknięciu\n",
      "\\ifthenelse{\\equal{\\kolorodpowiedzi}{red}}  % ukrywamy od pokazywania gdy kolor jest red\n",
      "\t{\\renewcommand{\\ukryte}{0}}{}\n",
      "\n",
      "\\newcommand{\\zOdpowiedziami}[3]{\n",
      "\t\\ifthenelse{\\equal{#1}{brak}}{}{\n",
      "\t\t\\ifthenelse{\\equal{#1}{white}}{\\vphantom{#3}}{\n",
      "\t\t\t\\switchocg{#2}{\\textcolor{\\kolorodpowiedzi}{\\\\Rozwiązanie: }}\n",
      "\t\t\t\t\\begin{ocg}{Warstwa odpowiedzi}{#2}{\\ukryte}\n",
      "\t\t\t\t\t\\textcolor{\\kolorodpowiedzi}{#3}\n",
      "\t\t\t\t\\end{ocg}}}}\n",
      "\n",
      "\\pdfinfo{/Author (https://generator-zadan.readthedocs.io)}\n",
      "\n",
      "\\begin{document}\n",
      "    \\pagestyle{fancy}\n",
      "    \\setlength{\\headheight}{27.29453pt}\n",
      "    \\fancyhead{}\n",
      "    \\fancyhead[L]{\\textbf{KIERUNEK\\\\PRZEDMIOT - GRUPA}}\n",
      "    \\fancyhead[R]{\\textbf{NR1\\\\ 25 maja 2024}}\n",
      "    \\fancyfoot{}\n",
      "    \\fancyfoot[R]{\\tiny\\textbf{14 września 2024, 22:11}}\n",
      "%    \\hspace{1cm}\n",
      "    \\begin{enumerate}[label= \\textbf{Zadanie \\arabic*. }, leftmargin=1cm, align=left, itemsep=0pt]\n",
      "\t\t\\item Rozwiązać równanie w zbiorze liczb zespolonych.\\ Sprawdzić rozwiązanie.\n",
      "\t\t\t\\[\n",
      "\t\t\t\t\\left(9 + 3i\\right)z = -2 - 6i+\\left(9 + 5i\\right)z\n",
      "\t\t\t\\]\n",
      "\t\t\t\\zOdpowiedziami{\\kolorodpowiedzi}{ocg0}\n",
      "\t\t\t\t{$z=3 - i.$}\n",
      "\n",
      "\t\t\\item Rozwiązać równanie w zbiorze liczb zespolonych.\\ Sprawdzić jedno z rozwiązań.\n",
      "\t\t\t\\[\n",
      "\t\t\t\t\\left(1 + 2 i\\right)z^2 + \\left(3 - 14 i\\right) z + \\left(-18 + 14 i\\right)=0\n",
      "\t\t\t\\]\n",
      "\t\t\t\\zOdpowiedziami{\\kolorodpowiedzi}{ocg1}\n",
      "\t\t\t\t{$\\Delta = -3+4i, \\quad \\sqrt{\\Delta}=\\pm( 1 + 2 i), \\quad z_{1}=2 + 2 i, \\quad z_{2}=3 + 2 i$}\n",
      "\n",
      "\t\t\\item Wyznaczyć wszystkie zadane pierwiastki zespolone i zaznaczyć je na płaszczyźnie zespolonej\n",
      "\t\t\t\\[\n",
      "\t\t\t\t\\sqrt[\\leftroot{2}\\uproot{-4} \\displaystyle ^{3}]{\\left(9 \\sqrt{2} - 9 i \\right) \\left(-1 + \\sqrt{2} i \\right)}\n",
      "\t\t\t\\]\n",
      "\t\t\t\\zOdpowiedziami{\\kolorodpowiedzi}{ocg2}\n",
      "\t\t\t\t{$\\sqrt[\\leftroot{2}\\uproot{-4} \\displaystyle ^{3}]{27 i} = \\left\\{ - 3 i, \\  - \\frac{3 \\sqrt{3}}{2} + \\frac{3 i}{2}, \\  \\frac{3 \\sqrt{3}}{2} + \\frac{3 i}{2}\\right\\}.$}\n",
      "\n",
      "\t\t\\item Rozwiązać równanie w zbiorze liczb zespolonych\n",
      "\t\t\t\\[\n",
      "\t\t\t\tz \\left(-5 + 2 i\\right) + \\left(1 + 5 i\\right) \\overline{z} + 2 + i = 0\n",
      "\t\t\t\\]\n",
      "\t\t\t\\zOdpowiedziami{\\kolorodpowiedzi}{ocg3}\n",
      "\t\t\t\t{$\\left(1 + 5 i\\right) \\left(x - i y\\right) + \\left(-5 + 2 i\\right) \\left(x + i y\\right) + 2 + i = 0,$ \\\\ \n",
      "\t\t\t$- x \\left(4 - 7 i\\right) - y \\left(-3 + 6 i\\right) + 2 + i = 0,$\\\\\n",
      "\t\t\t$\\left\\{\n",
      "\t\t\t\t\\begin{array}{c}\n",
      "\t\t\t\t\t- 4 x + 3 y + 2 = 0\\\\\n",
      "\t\t\t\t\t7 x - 6 y + 1 = 0\n",
      "\t\t\t\t\\end{array}\n",
      "\t\t\t\\right.$ \\\\\n",
      "\t\t\t$z = \\left\\{ x : 5, \\  y : 6\\right\\}.$}\n",
      "\n",
      "\t\t\\item Zaznaczyć na płaszczyźnie zespolonej obszar spełniający warunki\n",
      "\t\t\t\\[\n",
      "\t\t\t\t\\left|z-2 + 3 i\\right| > 2\n",
      "\t\t \t\t\\quad \\textnormal{oraz} \\quad\n",
      "\t\t\t\t\\left|z+2 + i\\right| \\leq \\frac{5}{2}\n",
      "\t\t\t\\]\n",
      "\t\t\t\\zOdpowiedziami{\\kolorodpowiedzi}{ocg4}\n",
      "\t\t\t\t{\t\\begin{tabular}{p{0.4\\textwidth}p{0.3\\textwidth}}\n",
      "\t\t\t\t\\begin{gather*}\n",
      "\t\t\t\t\t\\left(x - 2\\right)^{2} + \\left(y + 3\\right)^{2} > 4\\\\\n",
      "\t\t\t\t\t\\left(x + 2\\right)^{2} + \\left(y + 1\\right)^{2} \\leq \\frac{25}{4}\n",
      "\t\t\t\t\\end{gather*}\t\t\n",
      "\t\t\t\t&\n",
      "\t\t\t\t\t\\raisebox{-3.1cm}{\\resizebox{4cm}{!}{\\includegraphics{../pics/obszar1}}}\n",
      "\t\t\t\t\\end{tabular}\n",
      "\t\t\t}\n",
      "\n",
      "    \\end{enumerate}\n",
      "\\end{document}\n"
     ]
    }
   ],
   "execution_count": 15
  },
  {
   "metadata": {
    "ExecuteTime": {
     "end_time": "2024-09-14T20:11:28.943456Z",
     "start_time": "2024-09-14T20:11:28.936973Z"
    }
   },
   "cell_type": "code",
   "source": [
    "# A tu jest gotowy plik. Można go edytować.  \n",
    "# W mybinder można go pobrać w menu po lewej stronie z katalogu wygenerowane. \n",
    "# Kompilować dwukrotnie.\n",
    "if not os.path.exists('wygenerowane'):\n",
    "    os.makedirs('wygenerowane')\n",
    "    print(\" ! Tworzę katalog wygenerowane \", file=sys.stderr)\n",
    "with open(f'./wygenerowane/{kierunek}-{grupa}-{przedmiot}-{semestr}-{kolokwium}.tex', 'w',\n",
    "          encoding='utf-8') as LaTeX_file:\n",
    "    print(LaTeX_source, file=LaTeX_file)"
   ],
   "id": "b0d3947f4938122d",
   "outputs": [],
   "execution_count": 16
  },
  {
   "metadata": {},
   "cell_type": "markdown",
   "source": [
    "---\n",
    "\n",
    "## Generuj plik Pdf z pliku Latex"
   ],
   "id": "5654250ece733965"
  },
  {
   "metadata": {},
   "cell_type": "markdown",
   "source": [
    "\n",
    "```\n",
    "Można wygenerować gotowego pdf-a.\n",
    " \n",
    "W mybinder (interaktywna sesja) plik pdf jest w menu po lewej. Można pobrać.\n",
    "\n",
    "Kompilacja wykonuje się dwukrotnie.\n",
    "\n",
    "```\n"
   ],
   "id": "b129b40b982120cc"
  },
  {
   "metadata": {
    "ExecuteTime": {
     "end_time": "2024-09-14T20:11:36.007903Z",
     "start_time": "2024-09-14T20:11:32.149295Z"
    }
   },
   "cell_type": "code",
   "source": [
    "import subprocess\n",
    "\n",
    "for i in range(2):\n",
    "    result = subprocess.run(\n",
    "        f'cd wygenerowane && pdflatex {kierunek}-{grupa}-{przedmiot}-{semestr}-{kolokwium}.tex',\n",
    "        capture_output=True,\n",
    "        encoding='UTF-8',\n",
    "        shell=True)\n",
    "    \n",
    "# w razie problemów poniżej można zobaczyć komunikaty\n",
    "# trzeba odkomentować \n",
    "\n",
    "# for i in str(result).split(', '):\n",
    "#     print(i.replace('\\\\n', '\\n'))"
   ],
   "id": "86469940cc43c2f4",
   "outputs": [],
   "execution_count": 17
  }
 ],
 "metadata": {
  "kernelspec": {
   "display_name": "Python 3",
   "language": "python",
   "name": "python3"
  },
  "language_info": {
   "codemirror_mode": {
    "name": "ipython",
    "version": 2
   },
   "file_extension": ".py",
   "mimetype": "text/x-python",
   "name": "python",
   "nbconvert_exporter": "python",
   "pygments_lexer": "ipython2",
   "version": "2.7.6"
  }
 },
 "nbformat": 4,
 "nbformat_minor": 5
}
