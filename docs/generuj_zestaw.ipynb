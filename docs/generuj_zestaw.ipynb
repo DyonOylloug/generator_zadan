{
 "cells": [
  {
   "metadata": {},
   "cell_type": "markdown",
   "source": "# Generuj zestaw zadań",
   "id": "e6685f821bf3b135"
  },
  {
   "metadata": {},
   "cell_type": "markdown",
   "source": [
    "```{admonition} Wskazówka\n",
    ":class: tip\n",
    "\n",
    "[![Binder](https://mybinder.org/badge_logo.svg)](https://mybinder.org/v2/gh/DyonOylloug/generator_zadan/HEAD?labpath=docs%2Fgeneruj_zestaw.ipynb) <- interaktywna sesja notebooka\n",
    "\n",
    "```"
   ],
   "id": "ca8a7b6043e294a0"
  },
  {
   "metadata": {
    "ExecuteTime": {
     "end_time": "2024-09-24T13:21:07.299746Z",
     "start_time": "2024-09-24T13:21:04.977275Z"
    }
   },
   "cell_type": "code",
   "source": [
    "import os\n",
    "import sys\n",
    "from random import choice\n",
    "\n",
    "import ipywidgets as widgets\n",
    "from IPython.display import display, Image, Markdown, Latex\n",
    "from pdf2image import convert_from_path\n",
    "\n",
    "import generator_zadan.generatory as gz\n",
    "\n",
    "print(gz.__version__)"
   ],
   "id": "e09fa3157fc76075",
   "outputs": [
    {
     "name": "stdout",
     "output_type": "stream",
     "text": [
      "0.2.2\n"
     ]
    }
   ],
   "execution_count": 1
  },
  {
   "metadata": {},
   "cell_type": "markdown",
   "source": [
    "---\n",
    "\n",
    "## Wybierz zadania\n"
   ],
   "id": "c7b6887d61c3d313"
  },
  {
   "metadata": {},
   "cell_type": "markdown",
   "source": [
    "```{admonition} Wskazówka\n",
    ":class: tip\n",
    "> - Można komórki uruchamiać wielokrotnie. Aż się trafi ciekawszy przykład.\n",
    "> - Można zmieniać parametry funkcji generujących.\n",
    "> - Zmień __`zadanie_nr`__ na odpowiednio rozróżnialne __`zadanie_1`__,  __`zadanie_2`__ itp. Tylko te będą potem przekazywane do funkcji generującej zestaw. Domyślnie pięć zadań. Można to zmienić niżej przy wywołaniu funkcji ***generuj_LaTeX()***.\n",
    "> - Na potrzeby dokumentacji na początku numery ustawione ma pierwszych pięć przykładów. \n",
    "\n",
    "```"
   ],
   "id": "92a5e20e31055a8b"
  },
  {
   "metadata": {},
   "cell_type": "markdown",
   "source": "### Liczby zespolone",
   "id": "200f7a6af031672a"
  },
  {
   "metadata": {},
   "cell_type": "markdown",
   "source": "####  Równanie liniowe",
   "id": "6d953d959dd85432"
  },
  {
   "metadata": {
    "tags": [
     "hide-input"
    ],
    "ExecuteTime": {
     "end_time": "2024-09-24T13:21:08.115600Z",
     "start_time": "2024-09-24T13:21:07.481637Z"
    }
   },
   "cell_type": "code",
   "source": [
    "zadanie = gz.rownanie_liniowe()\n",
    "print(f\"\\033[34m** Zadanie **\" + '*' * 82 + '\\033[0m')\n",
    "display(Markdown(zadanie[0].split('\\n')[0].replace('\\\\', '')))\n",
    "display(Latex('$$' + zadanie[0].split('\\n')[2] + '$$'))\n",
    "print(\"\\033[32m** Rozwiązanie **\" + '*' * 78 + '\\033[0m')\n",
    "display(Latex('$' + zadanie[1] + '$'))\n",
    "zadanie_1 = zadanie"
   ],
   "id": "5449b3729c720f05",
   "outputs": [
    {
     "name": "stdout",
     "output_type": "stream",
     "text": [
      "\u001B[34m** Zadanie ************************************************************************************\u001B[0m\n"
     ]
    },
    {
     "data": {
      "text/plain": [
       "<IPython.core.display.Markdown object>"
      ],
      "text/markdown": "Rozwiązać równanie w zbiorze liczb zespolonych. Sprawdzić rozwiązanie."
     },
     "metadata": {},
     "output_type": "display_data"
    },
    {
     "data": {
      "text/plain": [
       "<IPython.core.display.Latex object>"
      ],
      "text/latex": "$$\t\t-3 + 7i+\\left(8 + 9i\\right)z = \\left(9 + 8i\\right)z$$"
     },
     "metadata": {},
     "output_type": "display_data"
    },
    {
     "name": "stdout",
     "output_type": "stream",
     "text": [
      "\u001B[32m** Rozwiązanie ********************************************************************************\u001B[0m\n"
     ]
    },
    {
     "data": {
      "text/plain": [
       "<IPython.core.display.Latex object>"
      ],
      "text/latex": "$$z=-5 + 2i.$$"
     },
     "metadata": {},
     "output_type": "display_data"
    }
   ],
   "execution_count": 2
  },
  {
   "metadata": {},
   "cell_type": "markdown",
   "source": "####  Równanie kwadratowe",
   "id": "a2a3c96cb612544a"
  },
  {
   "metadata": {
    "tags": [
     "hide-input"
    ],
    "ExecuteTime": {
     "end_time": "2024-09-24T13:21:08.816409Z",
     "start_time": "2024-09-24T13:21:08.611029Z"
    }
   },
   "cell_type": "code",
   "source": [
    "zadanie = gz.rownanie_kwadratowe()\n",
    "print(f\"\\033[34m** Zadanie **\" + '*' * 82 + '\\033[0m')\n",
    "display(Markdown(zadanie[0].split('\\n')[0].replace('\\\\', '')))\n",
    "display(Latex('$$' + zadanie[0].split('\\n')[2] + '$$'))\n",
    "print(\"\\033[32m** Rozwiązanie **\" + '*' * 78 + '\\033[0m')\n",
    "display(Latex('$' + zadanie[1] + '$'))\n",
    "zadanie_2 = zadanie"
   ],
   "id": "63ea204b35f34245",
   "outputs": [
    {
     "name": "stdout",
     "output_type": "stream",
     "text": [
      "\u001B[34m** Zadanie ************************************************************************************\u001B[0m\n"
     ]
    },
    {
     "data": {
      "text/plain": [
       "<IPython.core.display.Markdown object>"
      ],
      "text/markdown": "Rozwiązać równanie w zbiorze liczb zespolonych. Sprawdzić jedno z rozwiązań."
     },
     "metadata": {},
     "output_type": "display_data"
    },
    {
     "data": {
      "text/plain": [
       "<IPython.core.display.Latex object>"
      ],
      "text/latex": "$$\t\t\\left(1 - 3 i\\right)z^2 + \\left(9 - 7 i\\right) z + \\left(10\\right)=0$$"
     },
     "metadata": {},
     "output_type": "display_data"
    },
    {
     "name": "stdout",
     "output_type": "stream",
     "text": [
      "\u001B[32m** Rozwiązanie ********************************************************************************\u001B[0m\n"
     ]
    },
    {
     "data": {
      "text/plain": [
       "<IPython.core.display.Latex object>"
      ],
      "text/latex": "$$\\Delta = -8-6i, \\quad \\sqrt{\\Delta}=\\pm( 1 - 3 i), \\quad z_{1}=-2 - i, \\quad z_{2}=-1 - i$$"
     },
     "metadata": {},
     "output_type": "display_data"
    }
   ],
   "execution_count": 3
  },
  {
   "metadata": {},
   "cell_type": "markdown",
   "source": "####  Pierwiastek zespolony",
   "id": "33923be2cec66dd9"
  },
  {
   "metadata": {
    "tags": [
     "hide-input"
    ],
    "ExecuteTime": {
     "end_time": "2024-09-24T13:21:09.218737Z",
     "start_time": "2024-09-24T13:21:09.154099Z"
    }
   },
   "cell_type": "code",
   "source": [
    "zadanie = gz.pierwiastek_zespolony(stopien=choice([3, 4]))\n",
    "print(f\"\\033[34m** Zadanie **\" + '*' * 82 + '\\033[0m')\n",
    "display(Markdown(zadanie[0].split('\\n')[0].replace('\\\\', '')))\n",
    "display(Latex('$$' + zadanie[0].split('\\n')[2] + '$$'))\n",
    "print(\"\\033[32m** Rozwiązanie **\" + '*' * 78 + '\\033[0m')\n",
    "display(Latex('$' + zadanie[1] + '$'))\n",
    "zadanie_3 = zadanie"
   ],
   "id": "9474837fa71f3d66",
   "outputs": [
    {
     "name": "stdout",
     "output_type": "stream",
     "text": [
      "\u001B[34m** Zadanie ************************************************************************************\u001B[0m\n"
     ]
    },
    {
     "data": {
      "text/plain": [
       "<IPython.core.display.Markdown object>"
      ],
      "text/markdown": "Wyznaczyć wszystkie zadane pierwiastki zespolone i zaznaczyć je na płaszczyźnie zespolonej"
     },
     "metadata": {},
     "output_type": "display_data"
    },
    {
     "data": {
      "text/plain": [
       "<IPython.core.display.Latex object>"
      ],
      "text/latex": "$$\t\t\\sqrt[\\leftroot{2}\\uproot{-4} \\displaystyle ^{4}]{\\left(1 + 2 \\sqrt{2} i \\right) \\left(- \\frac{4}{9} + \\frac{8 \\sqrt{2} i}{9} \\right)}$$"
     },
     "metadata": {},
     "output_type": "display_data"
    },
    {
     "name": "stdout",
     "output_type": "stream",
     "text": [
      "\u001B[32m** Rozwiązanie ********************************************************************************\u001B[0m\n"
     ]
    },
    {
     "data": {
      "text/plain": [
       "<IPython.core.display.Latex object>"
      ],
      "text/latex": "$$\\sqrt[\\leftroot{2}\\uproot{-4} \\displaystyle ^{4}]{-4} = \\left\\{ -1 - i, \\  -1 + i, \\  1 - i, \\  1 + i\\right\\}.$$"
     },
     "metadata": {},
     "output_type": "display_data"
    }
   ],
   "execution_count": 4
  },
  {
   "metadata": {},
   "cell_type": "markdown",
   "source": "####  Równanie zespolone ze sprzężeniem",
   "id": "fafbf5e0aaf89dd3"
  },
  {
   "metadata": {
    "tags": [
     "hide-input"
    ],
    "ExecuteTime": {
     "end_time": "2024-09-24T13:21:09.969405Z",
     "start_time": "2024-09-24T13:21:09.710438Z"
    }
   },
   "cell_type": "code",
   "source": [
    "zadanie = gz.rownanie_ze_sprzezeniem(calkowite=choice([False, True]), kwadratowe=choice([False, True]))\n",
    "print(f\"\\033[34m** Zadanie **\" + '*' * 82 + '\\033[0m')\n",
    "display(Markdown(zadanie[0].split('\\n')[0].replace('\\\\', '')))\n",
    "display(Latex('$$' + zadanie[0].split('\\n')[2] + '$$'))\n",
    "print(\"\\033[32m** Rozwiązanie **\" + '*' * 78 + '\\033[0m')\n",
    "rozwiazanie = zadanie[1].replace('$ \\\\\\\\ \\n$', ' $ ').replace('$\\\\\\\\\\n$', ' $ ').replace('$ \\\\\\\\\\n$', ' $ ').split('$')\n",
    "for i in range(1, len(rozwiazanie) - 1):\n",
    "    display(Latex('$$' + rozwiazanie[i] + '$$'))\n",
    "zadanie_4 = zadanie"
   ],
   "id": "fed64507b29eaad3",
   "outputs": [
    {
     "name": "stdout",
     "output_type": "stream",
     "text": [
      "\u001B[34m** Zadanie ************************************************************************************\u001B[0m\n"
     ]
    },
    {
     "data": {
      "text/plain": [
       "<IPython.core.display.Markdown object>"
      ],
      "text/markdown": "Rozwiązać równanie w zbiorze liczb zespolonych"
     },
     "metadata": {},
     "output_type": "display_data"
    },
    {
     "data": {
      "text/plain": [
       "<IPython.core.display.Latex object>"
      ],
      "text/latex": "$$\t\tz \\left(7 - i\\right) + \\left(-6 + 5 i\\right) \\overline{z} + 1 + 4 i = 0$$"
     },
     "metadata": {},
     "output_type": "display_data"
    },
    {
     "name": "stdout",
     "output_type": "stream",
     "text": [
      "\u001B[32m** Rozwiązanie ********************************************************************************\u001B[0m\n"
     ]
    },
    {
     "data": {
      "text/plain": [
       "<IPython.core.display.Latex object>"
      ],
      "text/latex": "$$\\left(-6 + 5 i\\right) \\left(x - i y\\right) + \\left(7 - i\\right) \\left(x + i y\\right) + 1 + 4 i = 0, $$"
     },
     "metadata": {},
     "output_type": "display_data"
    },
    {
     "data": {
      "text/plain": [
       "<IPython.core.display.Latex object>"
      ],
      "text/latex": "$$ i \\left(x \\left(4 - i\\right) + y \\left(13 - 6 i\\right) + 4 - i\\right) = 0, $$"
     },
     "metadata": {},
     "output_type": "display_data"
    },
    {
     "data": {
      "text/plain": [
       "<IPython.core.display.Latex object>"
      ],
      "text/latex": "$$ \\left\\{\n\t\\begin{array}{c}\n\t\tx + 6 y + 1 = 0\\\\\n\t\t4 x + 13 y + 4 = 0\n\t\\end{array}\n\\right. $$"
     },
     "metadata": {},
     "output_type": "display_data"
    },
    {
     "data": {
      "text/plain": [
       "<IPython.core.display.Latex object>"
      ],
      "text/latex": "$$ z = \\left\\{ x : -1, \\  y : 0\\right\\}.$$"
     },
     "metadata": {},
     "output_type": "display_data"
    }
   ],
   "execution_count": 5
  },
  {
   "metadata": {},
   "cell_type": "markdown",
   "source": "####  Obszar zespolony",
   "id": "ca38ed1076be1123"
  },
  {
   "metadata": {
    "tags": [
     "hide-input"
    ],
    "ExecuteTime": {
     "end_time": "2024-09-24T13:21:21.929460Z",
     "start_time": "2024-09-24T13:21:10.471654Z"
    }
   },
   "cell_type": "code",
   "source": [
    "zadanie = gz.obszar_zespolony(typ=choice([1, 2, 3, 4, 5]), nr_zadania=0)\n",
    "print(f\"\\033[34m** Zadanie **\" + '*' * 82 + '\\033[0m')\n",
    "display(Markdown(zadanie[0].split('\\n')[0].replace('\\\\', '')))\n",
    "display(Latex('$$' + zadanie[0].split('\\[')[1].split('\\]')[0] + '$$'))\n",
    "print(\"\\033[32m** Rozwiązanie **\" + '*' * 78 + '\\033[0m')\n",
    "display(Latex('$$\\\\begin{gather*}' + zadanie[1].split('{gather*}')[1] + '{gather*}$$'))\n",
    "display(Markdown(f'![](./pics//obszar0.png)'))\n",
    "zadanie_5 = zadanie"
   ],
   "id": "ce45879c406a855",
   "outputs": [
    {
     "name": "stdout",
     "output_type": "stream",
     "text": [
      "\u001B[34m** Zadanie ************************************************************************************\u001B[0m\n"
     ]
    },
    {
     "data": {
      "text/plain": [
       "<IPython.core.display.Markdown object>"
      ],
      "text/markdown": "Zaznaczyć na płaszczyźnie zespolonej obszar spełniający warunek"
     },
     "metadata": {},
     "output_type": "display_data"
    },
    {
     "data": {
      "text/plain": [
       "<IPython.core.display.Latex object>"
      ],
      "text/latex": "$$\n\t\t\\frac{3}{2}< \\left|z-3 - i\\right| \\leq 2\n\t$$"
     },
     "metadata": {},
     "output_type": "display_data"
    },
    {
     "name": "stdout",
     "output_type": "stream",
     "text": [
      "\u001B[32m** Rozwiązanie ********************************************************************************\u001B[0m\n"
     ]
    },
    {
     "data": {
      "text/plain": [
       "<IPython.core.display.Latex object>"
      ],
      "text/latex": "$$\\begin{gather*}\n\t\t\\left(x - 3\\right)^{2} + \\left(y - 1\\right)^{2}>\\frac{9}{4}\\\\\n\t\t\\left(x - 3\\right)^{2} + \\left(y - 1\\right)^{2}\\leq4\n\t\\end{gather*}$$"
     },
     "metadata": {},
     "output_type": "display_data"
    },
    {
     "data": {
      "text/plain": [
       "<IPython.core.display.Markdown object>"
      ],
      "text/markdown": "![](./pics//obszar0.png)"
     },
     "metadata": {},
     "output_type": "display_data"
    }
   ],
   "execution_count": 6
  },
  {
   "metadata": {},
   "cell_type": "markdown",
   "source": "### Macierze",
   "id": "6e3dd4a5c695230a"
  },
  {
   "metadata": {},
   "cell_type": "markdown",
   "source": "####  Równanie macierzowe",
   "id": "32759ff628403709"
  },
  {
   "metadata": {
    "tags": [
     "hide-input"
    ],
    "ExecuteTime": {
     "end_time": "2024-09-24T13:21:22.653171Z",
     "start_time": "2024-09-24T13:21:22.158833Z"
    }
   },
   "cell_type": "code",
   "source": [
    "print(\"\\033[34m** Zadanie **\" + '*' * 81 + '\\033[0m')\n",
    "zadanie = gz.rownanie_macierzowe()\n",
    "display(Markdown(zadanie[0].split(':')[0]))\n",
    "display(Latex(zadanie[0].split(':')[1]))\n",
    "print(\"\\033[32m** Rozwiązanie **\" + '*' * 78 + '\\033[0m')\n",
    "display(Latex(zadanie[1].replace('$ \\\\\\\\ \\n\\t$', ',\\\\quad ').replace('$', '$$')))\n",
    "zadanie_nr = zadanie"
   ],
   "id": "b1c732f6ba6212e9",
   "outputs": [
    {
     "name": "stdout",
     "output_type": "stream",
     "text": [
      "\u001B[34m** Zadanie ***********************************************************************************\u001B[0m\n"
     ]
    },
    {
     "data": {
      "text/plain": [
       "<IPython.core.display.Markdown object>"
      ],
      "text/markdown": "Rozwiązać równanie"
     },
     "metadata": {},
     "output_type": "display_data"
    },
    {
     "data": {
      "text/plain": [
       "<IPython.core.display.Latex object>"
      ],
      "text/latex": "\n\t\\[\n\t\t\\left[\\begin{matrix}0 & 0 & 1 & 2 & 2\\\\1 & -1 & 2 & -1 & 2\\end{matrix}\\right]\\cdot \n\t\t\\left[\\begin{matrix}-2 & 1 & -2 & -1 & 1\\\\-1 & -2 & -1 & 0 & 0\\end{matrix}\\right]^T + \n\t\t2X=\n\t\tX \\cdot \\left[\\begin{matrix}0 & 0\\\\2 & -1\\\\0 & -1\\\\1 & 0\\\\-1 & -1\\end{matrix}\\right]^T \\cdot\n\t\t\\left[\\begin{matrix}-1 & -1\\\\1 & -1\\\\-2 & 0\\\\-2 & 1\\\\-1 & 0\\end{matrix}\\right] \n\t\\]"
     },
     "metadata": {},
     "output_type": "display_data"
    },
    {
     "name": "stdout",
     "output_type": "stream",
     "text": [
      "\u001B[32m** Rozwiązanie ********************************************************************************\u001B[0m\n"
     ]
    },
    {
     "data": {
      "text/plain": [
       "<IPython.core.display.Latex object>"
      ],
      "text/latex": "$$ \\left[\\begin{matrix}-2 & -1\\\\-4 & -1\\end{matrix}\\right] + \n\t2X=\n\tX \\cdot \\left[\\begin{matrix}1 & -1\\\\2 & 1\\end{matrix}\\right] , \\quad \n\t\\left[\\begin{matrix}-2 & -1\\\\-4 & -1\\end{matrix}\\right] = \n\tX \\cdot \\left[\\begin{matrix}-1 & -1\\\\2 & -1\\end{matrix}\\right] ,\\quad X=\\frac{1}{3}\\left[\\begin{matrix}4 & -1\\\\6 & -3\\end{matrix}\\right].$$"
     },
     "metadata": {},
     "output_type": "display_data"
    }
   ],
   "execution_count": 7
  },
  {
   "metadata": {},
   "cell_type": "markdown",
   "source": "#### Wyznacznik z parametrem",
   "id": "ae175fbb12e39851"
  },
  {
   "metadata": {
    "tags": [
     "hide-input"
    ],
    "ExecuteTime": {
     "end_time": "2024-09-24T13:21:22.879740Z",
     "start_time": "2024-09-24T13:21:22.860326Z"
    }
   },
   "cell_type": "code",
   "source": [
    "zadanie = gz.wyznacznik_parametr(wymiar=choice([2, 3, 4]), gotowiec=True)\n",
    "print(f\"\\033[34m** Zadanie **\" + '*' * 82 + '\\033[0m')\n",
    "display(Markdown(zadanie[0][:91].replace('\\\\ ', ' ').replace('$', '*')))\n",
    "display(Latex(zadanie[0][91:]))\n",
    "print(\"\\033[32m** Rozwiązanie **\" + '*' * 78 + '\\033[0m')\n",
    "display(Latex(zadanie[1].replace('$ \\\\\\\\ \\n\\t$', ',\\\\quad ').replace('$', '$$')))\n",
    "zadanie_nr = zadanie"
   ],
   "id": "d31f4b2d63b140d9",
   "outputs": [
    {
     "name": "stdout",
     "output_type": "stream",
     "text": [
      "\u001B[34m** Zadanie ************************************************************************************\u001B[0m\n"
     ]
    },
    {
     "data": {
      "text/plain": [
       "<IPython.core.display.Markdown object>"
      ],
      "text/markdown": "Dla jakich rzeczywistych wartości parametru *x* wyznacznik macierzy *A* jest różny od zera?"
     },
     "metadata": {},
     "output_type": "display_data"
    },
    {
     "data": {
      "text/plain": [
       "<IPython.core.display.Latex object>"
      ],
      "text/latex": "\n\t\\[\n\t\t\\textnormal{A=}\n\t\t\\left[\\begin{matrix}x - 1 & 3 & -2 & 0\\\\-1 & 3 & x - 4 & x - 3\\\\1 & 3 & -2 & 0\\\\-3 & x - 2 & 2 & x - 1\\end{matrix}\\right]\n\t\\]"
     },
     "metadata": {},
     "output_type": "display_data"
    },
    {
     "name": "stdout",
     "output_type": "stream",
     "text": [
      "\u001B[32m** Rozwiązanie ********************************************************************************\u001B[0m\n"
     ]
    },
    {
     "data": {
      "text/plain": [
       "<IPython.core.display.Latex object>"
      ],
      "text/latex": "$$\\det A=- x^{3} + 7 x^{2} - 22 x + 24 \\neq 0, \\quad x\\neq 2, \\ $$"
     },
     "metadata": {},
     "output_type": "display_data"
    }
   ],
   "execution_count": 8
  },
  {
   "metadata": {},
   "cell_type": "markdown",
   "source": "#### Macierz odwrotna z parametrem",
   "id": "1b8029e290f37927"
  },
  {
   "metadata": {
    "tags": [
     "hide-input"
    ],
    "ExecuteTime": {
     "end_time": "2024-09-24T13:21:23.242330Z",
     "start_time": "2024-09-24T13:21:23.195517Z"
    }
   },
   "cell_type": "code",
   "source": [
    "zadanie = gz.macierz_odwrotna_parametr(wymiar=choice([2, 3, 4]), gotowiec=True)\n",
    "print(f\"\\033[34m** Zadanie **\" + '*' * 82 + '\\033[0m')\n",
    "display(Markdown(zadanie[0][:79].replace('$', '*')))\n",
    "display(Latex(zadanie[0][79:].split('W')[0]))\n",
    "display(Markdown('W' + zadanie[0][79:].split('W')[1].replace('$', '*')))\n",
    "print(\"\\033[32m** Rozwiązanie **\" + '*' * 78 + '\\033[0m')\n",
    "rozwiazanie = zadanie[1].replace('$\\\\\\\\\\n\\t$', ' $ ').split('$')\n",
    "for i in range(1, len(rozwiazanie) - 1):\n",
    "    display(Latex('$$' + rozwiazanie[i] + '$$'))\n",
    "zadanie_nr = zadanie"
   ],
   "id": "e71af03aa056326b",
   "outputs": [
    {
     "name": "stdout",
     "output_type": "stream",
     "text": [
      "\u001B[34m** Zadanie ************************************************************************************\u001B[0m\n"
     ]
    },
    {
     "data": {
      "text/plain": [
       "<IPython.core.display.Markdown object>"
      ],
      "text/markdown": "Dla jakich rzeczywistych wartości parametru *x* macierz *A* posiada odwrotność?"
     },
     "metadata": {},
     "output_type": "display_data"
    },
    {
     "data": {
      "text/plain": [
       "<IPython.core.display.Latex object>"
      ],
      "text/latex": "\n\t\\[\n\t\t\\textnormal{A=}\\left[\\begin{matrix}-4 & x - 3 & x - 4 & 2\\\\-1 & 1 & 3 & 1\\\\x + 2 & -1 & x + 2 & -1\\\\-3 & -4 & 1 & 2\\end{matrix}\\right]\n\t\\]\n"
     },
     "metadata": {},
     "output_type": "display_data"
    },
    {
     "data": {
      "text/plain": [
       "<IPython.core.display.Markdown object>"
      ],
      "text/markdown": "Wyznaczyć macierz odwrotną dla *x=-2.* "
     },
     "metadata": {},
     "output_type": "display_data"
    },
    {
     "name": "stdout",
     "output_type": "stream",
     "text": [
      "\u001B[32m** Rozwiązanie ********************************************************************************\u001B[0m\n"
     ]
    },
    {
     "data": {
      "text/plain": [
       "<IPython.core.display.Latex object>"
      ],
      "text/latex": "$$\\det A=- 2 x^{2} + 22 x\\neq 0, \\quad \n\tx\\neq 0\\ \\textnormal{oraz} \\ x\\neq 11, $$"
     },
     "metadata": {},
     "output_type": "display_data"
    },
    {
     "data": {
      "text/plain": [
       "<IPython.core.display.Latex object>"
      ],
      "text/latex": "$$ A(-2)= \\left[\\begin{matrix}-4 & -5 & -6 & 2\\\\-1 & 1 & 3 & 1\\\\0 & -1 & 0 & -1\\\\-3 & -4 & 1 & 2\\end{matrix}\\right],\\ \n\t\\det A(-2)=-52,\\ \n\tA^{-1}=- \\frac{1}{52}\\left[\\begin{matrix}18 & 43 & 37 & -21\\\\-8 & -22 & -2 & 18\\\\6 & -3 & -5 & -7\\\\8 & 22 & 54 & -18\\end{matrix}\\right].$$"
     },
     "metadata": {},
     "output_type": "display_data"
    }
   ],
   "execution_count": 9
  },
  {
   "metadata": {},
   "cell_type": "markdown",
   "source": "#### Wektor własne",
   "id": "3010127a4d59e647"
  },
  {
   "metadata": {
    "tags": [
     "hide-input"
    ],
    "ExecuteTime": {
     "end_time": "2024-09-24T13:21:23.638555Z",
     "start_time": "2024-09-24T13:21:23.592966Z"
    }
   },
   "cell_type": "code",
   "source": [
    "zadanie = gz.wartosci_wlasne(wymiar=choice([2, 3, 4]), zespolone=choice([False, True]))\n",
    "print(f\"\\033[34m** Zadanie **\" + '*' * 82 + '\\033[0m')\n",
    "display(Markdown(zadanie[0][:51]))\n",
    "display(Latex(zadanie[0][51:]))\n",
    "print(\"\\033[32m** Rozwiązanie **\" + '*' * 78 + '\\033[0m')\n",
    "display(Latex(zadanie[1].split(', \\quad')[0].replace(\"$\", \"$$\")))\n",
    "display(Markdown(\"Wartości własne\"))\n",
    "display(Latex(\"$$\" + (zadanie[1].split(', \\quad')[1]).split(\"$\")[1] + \"$$\"))\n",
    "display(Markdown(\"Wektory własne\"))\n",
    "display(Latex(\"$$\" + (zadanie[1].split(', \\quad')[1]).split(\"$\")[3] + \"$$\"))\n",
    "zadanie_nr = zadanie"
   ],
   "id": "b56c24c55e327704",
   "outputs": [
    {
     "name": "stdout",
     "output_type": "stream",
     "text": [
      "\u001B[34m** Zadanie ************************************************************************************\u001B[0m\n"
     ]
    },
    {
     "data": {
      "text/plain": [
       "<IPython.core.display.Markdown object>"
      ],
      "text/markdown": "Wyznaczyć wartości własne i wektory własne macierzy"
     },
     "metadata": {},
     "output_type": "display_data"
    },
    {
     "data": {
      "text/plain": [
       "<IPython.core.display.Latex object>"
      ],
      "text/latex": " \n\t\\[\n\t\t\\textnormal{A=} \\left[\\begin{matrix}0 & -2\\\\1 & -1\\end{matrix}\\right]\n\t\\]"
     },
     "metadata": {},
     "output_type": "display_data"
    },
    {
     "name": "stdout",
     "output_type": "stream",
     "text": [
      "\u001B[32m** Rozwiązanie ********************************************************************************\u001B[0m\n"
     ]
    },
    {
     "data": {
      "text/plain": [
       "<IPython.core.display.Latex object>"
      ],
      "text/latex": "$$\\det\\left(\\lambda \\mathbb{I} - A \\right) = \\lambda^{2} + \\lambda + 2$$"
     },
     "metadata": {},
     "output_type": "display_data"
    },
    {
     "data": {
      "text/plain": [
       "<IPython.core.display.Markdown object>"
      ],
      "text/markdown": "Wartości własne"
     },
     "metadata": {},
     "output_type": "display_data"
    },
    {
     "data": {
      "text/plain": [
       "<IPython.core.display.Latex object>"
      ],
      "text/latex": "$$ \\left\\{ - \\frac{1}{2} - \\frac{\\sqrt{7} i}{2} : 1, \\  - \\frac{1}{2} + \\frac{\\sqrt{7} i}{2} : 1\\right\\}, $$"
     },
     "metadata": {},
     "output_type": "display_data"
    },
    {
     "data": {
      "text/plain": [
       "<IPython.core.display.Markdown object>"
      ],
      "text/markdown": "Wektory własne"
     },
     "metadata": {},
     "output_type": "display_data"
    },
    {
     "data": {
      "text/plain": [
       "<IPython.core.display.Latex object>"
      ],
      "text/latex": "$$\\left[ \\left( - \\frac{1}{2} - \\frac{\\sqrt{7} i}{2}, \\  1, \\  \\left[ \\left[\\begin{matrix}\\frac{1}{2} - \\frac{\\sqrt{7} i}{2}\\\\1\\end{matrix}\\right]\\right]\\right), \\  \\left( - \\frac{1}{2} + \\frac{\\sqrt{7} i}{2}, \\  1, \\  \\left[ \\left[\\begin{matrix}\\frac{1}{2} + \\frac{\\sqrt{7} i}{2}\\\\1\\end{matrix}\\right]\\right]\\right)\\right]$$"
     },
     "metadata": {},
     "output_type": "display_data"
    }
   ],
   "execution_count": 10
  },
  {
   "metadata": {},
   "cell_type": "markdown",
   "source": "####  Rząd macierzy",
   "id": "9a2a41aa10ace55f"
  },
  {
   "metadata": {
    "tags": [
     "hide-input"
    ],
    "ExecuteTime": {
     "end_time": "2024-09-24T13:21:24.116546Z",
     "start_time": "2024-09-24T13:21:24.096968Z"
    }
   },
   "cell_type": "code",
   "source": [
    "zadanie = gz.rzad_macierzy()\n",
    "print(f\"\\033[34m** Zadanie **\" + '*' * 82 + '\\033[0m')\n",
    "display(Markdown(zadanie[0][:25].replace('A', '*A*')))\n",
    "display(Latex(zadanie[0][25:]))\n",
    "print(\"\\033[32m** Rozwiązanie **\" + '*' * 78 + '\\033[0m')\n",
    "display(Latex(zadanie[1].replace(\"$\", \"$$\")))\n",
    "zadanie_nr = zadanie"
   ],
   "id": "e28efaa57ef234ba",
   "outputs": [
    {
     "name": "stdout",
     "output_type": "stream",
     "text": [
      "\u001B[34m** Zadanie ************************************************************************************\u001B[0m\n"
     ]
    },
    {
     "data": {
      "text/plain": [
       "<IPython.core.display.Markdown object>"
      ],
      "text/markdown": "Wyznaczyć rząd macierzy *A*"
     },
     "metadata": {},
     "output_type": "display_data"
    },
    {
     "data": {
      "text/plain": [
       "<IPython.core.display.Latex object>"
      ],
      "text/latex": "\n\t\\[\n\t\t\\textnormal{A=} \\left[\\begin{matrix}1 & 3 & -2 & 1 & 3 & 1\\\\-2 & -1 & 0 & 3 & -1 & 1\\\\1 & 0 & -2 & 1 & 0 & 3\\\\-2 & 3 & 0 & 0 & -2 & -2\\end{matrix}\\right]\n\t\\]"
     },
     "metadata": {},
     "output_type": "display_data"
    },
    {
     "name": "stdout",
     "output_type": "stream",
     "text": [
      "\u001B[32m** Rozwiązanie ********************************************************************************\u001B[0m\n"
     ]
    },
    {
     "data": {
      "text/plain": [
       "<IPython.core.display.Latex object>"
      ],
      "text/latex": "$$R(A)= 4$$"
     },
     "metadata": {},
     "output_type": "display_data"
    }
   ],
   "execution_count": 11
  },
  {
   "metadata": {},
   "cell_type": "markdown",
   "source": "#### Diagonalizacja macierzy",
   "id": "3cbe73968108312b"
  },
  {
   "metadata": {
    "tags": [
     "hide-input"
    ],
    "ExecuteTime": {
     "end_time": "2024-09-24T13:21:24.535574Z",
     "start_time": "2024-09-24T13:21:24.480160Z"
    }
   },
   "cell_type": "code",
   "source": [
    "zadanie = gz.diagonalizacja_macierzy(choice([2, 3, 4]))\n",
    "print(f\"\\033[34m** Zadanie **\" + '*' * 82 + '\\033[0m')\n",
    "display(Markdown(zadanie[0][:53]))\n",
    "display(Latex(zadanie[0][53:]))\n",
    "print(\"\\033[32m** Rozwiązanie **\" + '*' * 78 + '\\033[0m')\n",
    "display(Latex(zadanie[1].split(', \\quad')[0].replace(\"$\", \"$$\")))\n",
    "display(Markdown(\"Wartości własne\"))\n",
    "display(Latex(\"$$\" + (zadanie[1].split(', \\quad')[1]).split(\"$\")[1] + \"$$\"))\n",
    "display(Markdown(\"Wektory własne\"))\n",
    "display(Latex(\"$$\" + (zadanie[1].split(', \\quad')[1]).split(\"$\")[3] + \"$$\"))\n",
    "display(Markdown(\"Diagonalizacja:\"))\n",
    "try:\n",
    "    display(Latex(\"$$\" + (zadanie[1].split(', \\quad')[1]).split(\"$\")[5]\n",
    "                  + '\\quad ' + (zadanie[1].split(', \\quad')[1]).split(\"$\")[7] + \"$$\"))\n",
    "except Exception:\n",
    "    display(Markdown(\"Macierz nie jest diagonalizowalna\"))\n",
    "zadanie_nr = zadanie"
   ],
   "id": "6131594766ee9356",
   "outputs": [
    {
     "name": "stdout",
     "output_type": "stream",
     "text": [
      "\u001B[34m** Zadanie ************************************************************************************\u001B[0m\n"
     ]
    },
    {
     "data": {
      "text/plain": [
       "<IPython.core.display.Markdown object>"
      ],
      "text/markdown": "Przeprowadzić diagonalizację macierzy (jeśli możliwa)"
     },
     "metadata": {},
     "output_type": "display_data"
    },
    {
     "data": {
      "text/plain": [
       "<IPython.core.display.Latex object>"
      ],
      "text/latex": " \n\t\\[\n\t\t\\textnormal{A=} \\left[\\begin{matrix}2 & 0 & 0\\\\0 & -2 & 1\\\\3 & 0 & 1\\end{matrix}\\right]\n\t\\]"
     },
     "metadata": {},
     "output_type": "display_data"
    },
    {
     "name": "stdout",
     "output_type": "stream",
     "text": [
      "\u001B[32m** Rozwiązanie ********************************************************************************\u001B[0m\n"
     ]
    },
    {
     "data": {
      "text/plain": [
       "<IPython.core.display.Latex object>"
      ],
      "text/latex": "$$\\det\\left(\\lambda \\mathbb{I} - A \\right) = \\lambda^{3} - \\lambda^{2} - 4 \\lambda + 4$$"
     },
     "metadata": {},
     "output_type": "display_data"
    },
    {
     "data": {
      "text/plain": [
       "<IPython.core.display.Markdown object>"
      ],
      "text/markdown": "Wartości własne"
     },
     "metadata": {},
     "output_type": "display_data"
    },
    {
     "data": {
      "text/plain": [
       "<IPython.core.display.Latex object>"
      ],
      "text/latex": "$$ \\left\\{ -2 : 1, \\  1 : 1, \\  2 : 1\\right\\}, $$"
     },
     "metadata": {},
     "output_type": "display_data"
    },
    {
     "data": {
      "text/plain": [
       "<IPython.core.display.Markdown object>"
      ],
      "text/markdown": "Wektory własne"
     },
     "metadata": {},
     "output_type": "display_data"
    },
    {
     "data": {
      "text/plain": [
       "<IPython.core.display.Latex object>"
      ],
      "text/latex": "$$\\left[ \\left( -2, \\  1, \\  \\left[ \\left[\\begin{matrix}0\\\\1\\\\0\\end{matrix}\\right]\\right]\\right), \\  \\left( 1, \\  1, \\  \\left[ \\left[\\begin{matrix}0\\\\\\frac{1}{3}\\\\1\\end{matrix}\\right]\\right]\\right), \\  \\left( 2, \\  1, \\  \\left[ \\left[\\begin{matrix}\\frac{1}{3}\\\\\\frac{1}{4}\\\\1\\end{matrix}\\right]\\right]\\right)\\right]$$"
     },
     "metadata": {},
     "output_type": "display_data"
    },
    {
     "data": {
      "text/plain": [
       "<IPython.core.display.Markdown object>"
      ],
      "text/markdown": "Diagonalizacja:"
     },
     "metadata": {},
     "output_type": "display_data"
    },
    {
     "data": {
      "text/plain": [
       "<IPython.core.display.Latex object>"
      ],
      "text/latex": "$$A = P\\,D\\,P^{-1}: \\quad P=\\left[\\begin{matrix}0 & 0 & 4\\\\1 & 1 & 3\\\\0 & 3 & 12\\end{matrix}\\right],\\quad D=\\left[\\begin{matrix}-2 & 0 & 0\\\\0 & 1 & 0\\\\0 & 0 & 2\\end{matrix}\\right]$$"
     },
     "metadata": {},
     "output_type": "display_data"
    }
   ],
   "execution_count": 12
  },
  {
   "metadata": {},
   "cell_type": "markdown",
   "source": "#### Diagonalizacja z wielokrotnymi wartościami własnymi ",
   "id": "1131aa71c7f9c14"
  },
  {
   "metadata": {
    "tags": [
     "hide-input"
    ],
    "ExecuteTime": {
     "end_time": "2024-09-24T13:21:40.262164Z",
     "start_time": "2024-09-24T13:21:24.964079Z"
    }
   },
   "cell_type": "code",
   "source": [
    "zadanie = gz.diagonalizacja_macierzy_z_wielokrotnym_wartosciami_wlasnymi(choice([2, 3, 4]))\n",
    "print(f\"\\033[34m** Zadanie **\" + '*' * 82 + '\\033[0m')\n",
    "display(Markdown(zadanie[0][:39]))\n",
    "display(Latex(zadanie[0][39:]))\n",
    "print(\"\\033[34m*\\033[0m\" * 95)\n",
    "print(\"\\033[32m** Rozwiązanie **\" + '*' * 78 + '\\033[0m')\n",
    "display(Latex(zadanie[1].split(', \\quad')[0].replace(\"$\", \"$$\")))\n",
    "display(Markdown(\"Wartości własne\"))\n",
    "display(Latex(\"$$\" + (zadanie[1].split(', \\quad')[1]).split(\"$\")[1] + \"$$\"))\n",
    "display(Markdown(\"Wektory własne\"))\n",
    "display(Latex(\"$$\" + (zadanie[1].split(', \\quad')[1]).split(\"$\")[3] + \"$$\"))\n",
    "display(Markdown(\"Diagonalizacja:\"))\n",
    "try:\n",
    "    display(Latex(\"$$\" + (zadanie[1].split(', \\quad')[1]).split(\"$\")[5]\n",
    "                  + '\\quad ' + (zadanie[1].split(', \\quad')[1]).split(\"$\")[7] + \"$$\"))\n",
    "except Exception:\n",
    "    display(Markdown(\"Macierz nie jest diagonalizowalna\"))\n",
    "zadanie_nr = zadanie"
   ],
   "id": "7a582c07dd4eb72",
   "outputs": [
    {
     "name": "stdout",
     "output_type": "stream",
     "text": [
      "\u001B[34m** Zadanie ************************************************************************************\u001B[0m\n"
     ]
    },
    {
     "data": {
      "text/plain": [
       "<IPython.core.display.Markdown object>"
      ],
      "text/markdown": "Przeprowadzić diagonalizację macierzy\n\t"
     },
     "metadata": {},
     "output_type": "display_data"
    },
    {
     "data": {
      "text/plain": [
       "<IPython.core.display.Latex object>"
      ],
      "text/latex": "\\[\n\t\t\\textnormal{A=} \\left[\\begin{matrix}1 & 2 & 1 & 0\\\\0 & 2 & 0 & 2\\\\1 & -2 & 1 & 2\\\\-1 & 2 & 1 & -2\\end{matrix}\\right]\n\t\\]"
     },
     "metadata": {},
     "output_type": "display_data"
    },
    {
     "name": "stdout",
     "output_type": "stream",
     "text": [
      "\u001B[34m*\u001B[0m\u001B[34m*\u001B[0m\u001B[34m*\u001B[0m\u001B[34m*\u001B[0m\u001B[34m*\u001B[0m\u001B[34m*\u001B[0m\u001B[34m*\u001B[0m\u001B[34m*\u001B[0m\u001B[34m*\u001B[0m\u001B[34m*\u001B[0m\u001B[34m*\u001B[0m\u001B[34m*\u001B[0m\u001B[34m*\u001B[0m\u001B[34m*\u001B[0m\u001B[34m*\u001B[0m\u001B[34m*\u001B[0m\u001B[34m*\u001B[0m\u001B[34m*\u001B[0m\u001B[34m*\u001B[0m\u001B[34m*\u001B[0m\u001B[34m*\u001B[0m\u001B[34m*\u001B[0m\u001B[34m*\u001B[0m\u001B[34m*\u001B[0m\u001B[34m*\u001B[0m\u001B[34m*\u001B[0m\u001B[34m*\u001B[0m\u001B[34m*\u001B[0m\u001B[34m*\u001B[0m\u001B[34m*\u001B[0m\u001B[34m*\u001B[0m\u001B[34m*\u001B[0m\u001B[34m*\u001B[0m\u001B[34m*\u001B[0m\u001B[34m*\u001B[0m\u001B[34m*\u001B[0m\u001B[34m*\u001B[0m\u001B[34m*\u001B[0m\u001B[34m*\u001B[0m\u001B[34m*\u001B[0m\u001B[34m*\u001B[0m\u001B[34m*\u001B[0m\u001B[34m*\u001B[0m\u001B[34m*\u001B[0m\u001B[34m*\u001B[0m\u001B[34m*\u001B[0m\u001B[34m*\u001B[0m\u001B[34m*\u001B[0m\u001B[34m*\u001B[0m\u001B[34m*\u001B[0m\u001B[34m*\u001B[0m\u001B[34m*\u001B[0m\u001B[34m*\u001B[0m\u001B[34m*\u001B[0m\u001B[34m*\u001B[0m\u001B[34m*\u001B[0m\u001B[34m*\u001B[0m\u001B[34m*\u001B[0m\u001B[34m*\u001B[0m\u001B[34m*\u001B[0m\u001B[34m*\u001B[0m\u001B[34m*\u001B[0m\u001B[34m*\u001B[0m\u001B[34m*\u001B[0m\u001B[34m*\u001B[0m\u001B[34m*\u001B[0m\u001B[34m*\u001B[0m\u001B[34m*\u001B[0m\u001B[34m*\u001B[0m\u001B[34m*\u001B[0m\u001B[34m*\u001B[0m\u001B[34m*\u001B[0m\u001B[34m*\u001B[0m\u001B[34m*\u001B[0m\u001B[34m*\u001B[0m\u001B[34m*\u001B[0m\u001B[34m*\u001B[0m\u001B[34m*\u001B[0m\u001B[34m*\u001B[0m\u001B[34m*\u001B[0m\u001B[34m*\u001B[0m\u001B[34m*\u001B[0m\u001B[34m*\u001B[0m\u001B[34m*\u001B[0m\u001B[34m*\u001B[0m\u001B[34m*\u001B[0m\u001B[34m*\u001B[0m\u001B[34m*\u001B[0m\u001B[34m*\u001B[0m\u001B[34m*\u001B[0m\u001B[34m*\u001B[0m\u001B[34m*\u001B[0m\u001B[34m*\u001B[0m\u001B[34m*\u001B[0m\u001B[34m*\u001B[0m\n",
      "\u001B[32m** Rozwiązanie ********************************************************************************\u001B[0m\n"
     ]
    },
    {
     "data": {
      "text/plain": [
       "<IPython.core.display.Latex object>"
      ],
      "text/latex": "$$\\det\\left(\\lambda \\mathbb{I} - A \\right) = \\lambda^{4} - 2 \\lambda^{3} - 10 \\lambda^{2} + 32 \\lambda - 24$$"
     },
     "metadata": {},
     "output_type": "display_data"
    },
    {
     "data": {
      "text/plain": [
       "<IPython.core.display.Markdown object>"
      ],
      "text/markdown": "Wartości własne"
     },
     "metadata": {},
     "output_type": "display_data"
    },
    {
     "data": {
      "text/plain": [
       "<IPython.core.display.Latex object>"
      ],
      "text/latex": "$$ \\left\\{ 2 : 2, \\  -1 + \\sqrt{7} : 1, \\  - \\sqrt{7} - 1 : 1\\right\\}, $$"
     },
     "metadata": {},
     "output_type": "display_data"
    },
    {
     "data": {
      "text/plain": [
       "<IPython.core.display.Markdown object>"
      ],
      "text/markdown": "Wektory własne"
     },
     "metadata": {},
     "output_type": "display_data"
    },
    {
     "data": {
      "text/plain": [
       "<IPython.core.display.Latex object>"
      ],
      "text/latex": "$$\\left[ \\left( 2, \\  2, \\  \\left[ \\left[\\begin{matrix}2\\\\1\\\\0\\\\0\\end{matrix}\\right], \\  \\left[\\begin{matrix}1\\\\0\\\\1\\\\0\\end{matrix}\\right]\\right]\\right), \\  \\left( -1 + \\sqrt{7}, \\  1, \\  \\left[ \\left[\\begin{matrix}- 2 \\sqrt{7} - 5\\\\-3 - \\sqrt{7}\\\\2 + \\sqrt{7}\\\\1\\end{matrix}\\right]\\right]\\right), \\  \\left( - \\sqrt{7} - 1, \\  1, \\  \\left[ \\left[\\begin{matrix}-5 + 2 \\sqrt{7}\\\\-3 + \\sqrt{7}\\\\2 - \\sqrt{7}\\\\1\\end{matrix}\\right]\\right]\\right)\\right]$$"
     },
     "metadata": {},
     "output_type": "display_data"
    },
    {
     "data": {
      "text/plain": [
       "<IPython.core.display.Markdown object>"
      ],
      "text/markdown": "Diagonalizacja:"
     },
     "metadata": {},
     "output_type": "display_data"
    },
    {
     "data": {
      "text/plain": [
       "<IPython.core.display.Latex object>"
      ],
      "text/latex": "$$A = P\\,D\\,P^{-1}: \\quad P=\\left[\\begin{matrix}2 & 1 & - 2 \\sqrt{7} - 5 & -5 + 2 \\sqrt{7}\\\\1 & 0 & -3 - \\sqrt{7} & -3 + \\sqrt{7}\\\\0 & 1 & 2 + \\sqrt{7} & 2 - \\sqrt{7}\\\\0 & 0 & 1 & 1\\end{matrix}\\right],\\quad D=\\left[\\begin{matrix}2 & 0 & 0 & 0\\\\0 & 2 & 0 & 0\\\\0 & 0 & -1 + \\sqrt{7} & 0\\\\0 & 0 & 0 & - \\sqrt{7} - 1\\end{matrix}\\right]$$"
     },
     "metadata": {},
     "output_type": "display_data"
    }
   ],
   "execution_count": 13
  },
  {
   "metadata": {},
   "cell_type": "markdown",
   "source": "### Układy równań liniowych",
   "id": "ed041be275eb03d8"
  },
  {
   "metadata": {},
   "cell_type": "markdown",
   "source": "#### Układ Cramera",
   "id": "49a1746cae7c7adf"
  },
  {
   "metadata": {
    "tags": [
     "hide-input"
    ],
    "ExecuteTime": {
     "end_time": "2024-09-24T13:21:40.589406Z",
     "start_time": "2024-09-24T13:21:40.538Z"
    }
   },
   "cell_type": "code",
   "source": [
    "zadanie = gz.uklad_Cramera(choice([2, 3, 4, 5]))\n",
    "print(f\"\\033[34m** Zadanie **\" + '*' * 82 + '\\033[0m')\n",
    "display(Markdown(zadanie[0].split('\\n')[0].split('$')[0] +\n",
    "                 '*' + zadanie[0].split('$')[1].split('$')[0] + '*'))\n",
    "display(Latex('$$' + zadanie[0].split('\\[')[1].split('\\]')[0] + '$$'))\n",
    "print(\"\\033[32m** Rozwiązanie **\" + '*' * 78 + '\\033[0m')\n",
    "display(Latex(zadanie[1].replace('$ \\\\\\\\ \\n\\t$', ',\\\\quad ').replace('$', '$$')))\n",
    "zadanie_nr = zadanie"
   ],
   "id": "fb9db48fec4f734a",
   "outputs": [
    {
     "name": "stdout",
     "output_type": "stream",
     "text": [
      "\u001B[34m** Zadanie ************************************************************************************\u001B[0m\n"
     ]
    },
    {
     "data": {
      "text/plain": [
       "<IPython.core.display.Markdown object>"
      ],
      "text/markdown": "Z układu równań wyznaczyć niewiadomą *y*"
     },
     "metadata": {},
     "output_type": "display_data"
    },
    {
     "data": {
      "text/plain": [
       "<IPython.core.display.Latex object>"
      ],
      "text/latex": "$$\n\t\t\\left\\{\n\t\t\t\\begin{matrix}\n\t\t\t\t2 t + 4 x - 3 y - z = 0 \\\\ \n\t\t\t\t2 t + 2 x - 3 y + 2 z = 2 \\\\ \n\t\t\t\t4 t + 3 x + 4 y + 4 z = 3 \\\\ \n\t\t\t\t- 3 t - 3 x - 3 y - 2 z = -2 \\\\ \n\t\t\t\\end{matrix}\n\t\t\\right.\n\t$$"
     },
     "metadata": {},
     "output_type": "display_data"
    },
    {
     "name": "stdout",
     "output_type": "stream",
     "text": [
      "\u001B[32m** Rozwiązanie ********************************************************************************\u001B[0m\n"
     ]
    },
    {
     "data": {
      "text/plain": [
       "<IPython.core.display.Latex object>"
      ],
      "text/latex": "$$\\det(A) = 5,\\ \\det(A_y)=2,\\ y = \\frac{2}{5}$$"
     },
     "metadata": {},
     "output_type": "display_data"
    }
   ],
   "execution_count": 14
  },
  {
   "metadata": {},
   "cell_type": "markdown",
   "source": "#### Układ nieoznaczony",
   "id": "9342255bdf531150"
  },
  {
   "metadata": {
    "tags": [
     "hide-input"
    ],
    "ExecuteTime": {
     "end_time": "2024-09-24T13:21:41.215973Z",
     "start_time": "2024-09-24T13:21:40.897376Z"
    }
   },
   "cell_type": "code",
   "source": [
    "zadanie = gz.uklad_rownan_nieoznaczony()\n",
    "print(f\"\\033[34m** Zadanie **\" + '*' * 82 + '\\033[0m')\n",
    "display(Markdown(zadanie[0].split('\\n')[0].replace('\\\\ ', ' ')))\n",
    "display(Latex('$$' + zadanie[0].split('\\[')[1].split('\\]')[0] + '$$'))\n",
    "print(\"\\033[32m** Rozwiązanie **\" + '*' * 78 + '\\033[0m')\n",
    "display(Latex(zadanie[1].replace('$ \\\\\\\\ \\n\\t$', ',\\\\quad ').replace('$', '$$')))\n",
    "zadanie_nr = zadanie"
   ],
   "id": "1edae10760f2a91c",
   "outputs": [
    {
     "name": "stdout",
     "output_type": "stream",
     "text": [
      "\u001B[34m** Zadanie ************************************************************************************\u001B[0m\n"
     ]
    },
    {
     "data": {
      "text/plain": [
       "<IPython.core.display.Markdown object>"
      ],
      "text/markdown": "Rozwiązać układ równań. Jeśli możliwe podać trzy przykładowe rozwiązania. Jedno rozwiązanie sprawdzić. "
     },
     "metadata": {},
     "output_type": "display_data"
    },
    {
     "data": {
      "text/plain": [
       "<IPython.core.display.Latex object>"
      ],
      "text/latex": "$$\n\t\t\\left\\{\n\t\t\t\\begin{matrix}\n\t\t\t\tt + 2 x + y + z = 3 \\\\ \n\t\t\t\tt + 2 x + 4 y + 3 z = -2 \\\\ \n\t\t\t\t- t + x + 2 y + z = -2 \\\\ \n\t\t\t\tt + y + z = -1 \\\\ \n\t\t\t\t- 2 t - x - 2 y - 2 z = 0 \\\\ \n\t\t\t\\end{matrix}\n\t\t\\right.\n\t$$"
     },
     "metadata": {},
     "output_type": "display_data"
    },
    {
     "name": "stdout",
     "output_type": "stream",
     "text": [
      "\u001B[32m** Rozwiązanie ********************************************************************************\u001B[0m\n"
     ]
    },
    {
     "data": {
      "text/plain": [
       "<IPython.core.display.Latex object>"
      ],
      "text/latex": "$$\\left\\{ t  =  \\frac{2}{3} - \\frac{z}{3}, \\  x  =  2, \\  y  =  - \\frac{2 z}{3} - \\frac{5}{3}\\right\\}$$"
     },
     "metadata": {},
     "output_type": "display_data"
    }
   ],
   "execution_count": 15
  },
  {
   "metadata": {},
   "cell_type": "markdown",
   "source": "### Geometria analityczna",
   "id": "475145fc6380a639"
  },
  {
   "metadata": {},
   "cell_type": "markdown",
   "source": "#### Równanie prostej",
   "id": "7bfeb0581947fc1f"
  },
  {
   "metadata": {
    "tags": [
     "hide-input"
    ],
    "ExecuteTime": {
     "end_time": "2024-09-24T13:21:41.676413Z",
     "start_time": "2024-09-24T13:21:41.412537Z"
    }
   },
   "cell_type": "code",
   "source": [
    "zadanie = gz.rownanie_prostej()\n",
    "print(f\"\\033[34m** Zadanie **\" + '*' * 82 + '\\033[0m')\n",
    "display(Markdown(zadanie[0].split('\\n\\t')[0]))\n",
    "display(Latex('$$' + (zadanie[0].split('\\n\\t')[2]) + '$$'))\n",
    "display(Markdown(zadanie[0].split('\\n\\t')[4]))\n",
    "display(Latex('$$' + (zadanie[0].split('\\n\\t')[6]) + '$$'))\n",
    "print(\"\\033[32m** Rozwiązanie **\" + '*' * 78 + '\\033[0m')\n",
    "display(Latex('$' + zadanie[1] + '$'))\n",
    "zadanie_nr = zadanie"
   ],
   "id": "7e85d20973ad3dfb",
   "outputs": [
    {
     "name": "stdout",
     "output_type": "stream",
     "text": [
      "\u001B[34m** Zadanie ************************************************************************************\u001B[0m\n"
     ]
    },
    {
     "data": {
      "text/plain": [
       "<IPython.core.display.Markdown object>"
      ],
      "text/markdown": "Wyznaczyć równanie prostej przechodzącej przez punkty"
     },
     "metadata": {},
     "output_type": "display_data"
    },
    {
     "data": {
      "text/plain": [
       "<IPython.core.display.Latex object>"
      ],
      "text/latex": "$$\tP_1 = (-3, -2, -3), \\quad P_2 = (-3, 5, 4).$$"
     },
     "metadata": {},
     "output_type": "display_data"
    },
    {
     "data": {
      "text/plain": [
       "<IPython.core.display.Markdown object>"
      ],
      "text/markdown": "Obliczyć odległość wyznaczonej prostej od punktu"
     },
     "metadata": {},
     "output_type": "display_data"
    },
    {
     "data": {
      "text/plain": [
       "<IPython.core.display.Latex object>"
      ],
      "text/latex": "$$\tP_3 = (-1, -2, -3).$$"
     },
     "metadata": {},
     "output_type": "display_data"
    },
    {
     "name": "stdout",
     "output_type": "stream",
     "text": [
      "\u001B[32m** Rozwiązanie ********************************************************************************\u001B[0m\n"
     ]
    },
    {
     "data": {
      "text/plain": [
       "<IPython.core.display.Latex object>"
      ],
      "text/latex": "$$l\\colon  \\frac{x + 3}{0}= \\frac{y + 2}{7}= \\frac{z + 3}{7}; \\qquad d(P_3,l) = 2$$"
     },
     "metadata": {},
     "output_type": "display_data"
    }
   ],
   "execution_count": 16
  },
  {
   "metadata": {},
   "cell_type": "markdown",
   "source": "#### Równanie płaszczyzny",
   "id": "986d67807361e2e0"
  },
  {
   "metadata": {
    "tags": [
     "hide-input"
    ],
    "ExecuteTime": {
     "end_time": "2024-09-24T13:21:41.952607Z",
     "start_time": "2024-09-24T13:21:41.905809Z"
    }
   },
   "cell_type": "code",
   "source": [
    "zadanie = gz.rownanie_plaszczyzny()\n",
    "print(f\"\\033[34m** Zadanie **\" + '*' * 82 + '\\033[0m')\n",
    "display(Markdown(zadanie[0].split('\\n\\t')[0]))\n",
    "display(Latex('$$' + (zadanie[0].split('\\n\\t')[2]) + '$$'))\n",
    "display(Markdown(zadanie[0].split('\\n\\t')[4]))\n",
    "display(Latex('$$' + (zadanie[0].split('\\n\\t')[6]) + '$$'))\n",
    "print(\"\\033[32m** Rozwiązanie **\" + '*' * 78 + '\\033[0m')\n",
    "display(Latex('$' + zadanie[1] + '$'))\n",
    "zadanie_nr = zadanie"
   ],
   "id": "afabcb0490f9eaa1",
   "outputs": [
    {
     "name": "stdout",
     "output_type": "stream",
     "text": [
      "\u001B[34m** Zadanie ************************************************************************************\u001B[0m\n"
     ]
    },
    {
     "data": {
      "text/plain": [
       "<IPython.core.display.Markdown object>"
      ],
      "text/markdown": "Wyznaczyć równanie płaszczyzny przechodzącej przez punkty"
     },
     "metadata": {},
     "output_type": "display_data"
    },
    {
     "data": {
      "text/plain": [
       "<IPython.core.display.Latex object>"
      ],
      "text/latex": "$$\tP_1 = (-1, 0, 0), \\quad P_2 = (2, 4, -2), \\quad P_3 = (-1, 0, -3).$$"
     },
     "metadata": {},
     "output_type": "display_data"
    },
    {
     "data": {
      "text/plain": [
       "<IPython.core.display.Markdown object>"
      ],
      "text/markdown": "Obliczyć odległość wyznaczonej płaszczyzny od punktu"
     },
     "metadata": {},
     "output_type": "display_data"
    },
    {
     "data": {
      "text/plain": [
       "<IPython.core.display.Latex object>"
      ],
      "text/latex": "$$\tP_4 = (-2, -3, 0).$$"
     },
     "metadata": {},
     "output_type": "display_data"
    },
    {
     "name": "stdout",
     "output_type": "stream",
     "text": [
      "\u001B[32m** Rozwiązanie ********************************************************************************\u001B[0m\n"
     ]
    },
    {
     "data": {
      "text/plain": [
       "<IPython.core.display.Latex object>"
      ],
      "text/latex": "$$\\pi\\colon - 12 x + 9 y - 12=0; \\qquad d(P_4,\\pi) = 1$$"
     },
     "metadata": {},
     "output_type": "display_data"
    }
   ],
   "execution_count": 17
  },
  {
   "metadata": {},
   "cell_type": "markdown",
   "source": "#### Punkty symetryczny do płaszczyzny",
   "id": "9e2498526fc2871d"
  },
  {
   "metadata": {
    "tags": [
     "hide-input"
    ],
    "ExecuteTime": {
     "end_time": "2024-09-24T13:21:42.364228Z",
     "start_time": "2024-09-24T13:21:42.319389Z"
    }
   },
   "cell_type": "code",
   "source": [
    "zadanie = gz.punkt_symetryczny_do_plaszczyzny()\n",
    "print(f\"\\033[34m** Zadanie **\" + '*' * 82 + '\\033[0m')\n",
    "display(Markdown(zadanie[0].split('\\n\\t')[0]))\n",
    "display(Latex('$$' + (zadanie[0].split('\\n\\t')[2]) + '$$'))\n",
    "display(Markdown(zadanie[0].split('\\n\\t')[4]))\n",
    "display(Latex('$$' + (zadanie[0].split('\\n\\t')[6]) + '$$'))\n",
    "print(\"\\033[32m** Rozwiązanie **\" + '*' * 78 + '\\033[0m')\n",
    "display(Markdown(zadanie[1].split('$')[0]))\n",
    "display(Latex('$$' + zadanie[1].split('$')[1] + '$$'))\n",
    "display(Markdown(zadanie[1].split('$')[4][2:]))\n",
    "display(Latex('$$' + zadanie[1].split('$')[5] + ' \\quad ' + zadanie[1].split('$')[3] + '$$'))\n",
    "display(Markdown(zadanie[1].split('$')[6][6:]))\n",
    "display(Latex('$$' + zadanie[1].split('$')[7] + '$$'))\n",
    "zadanie_nr = zadanie"
   ],
   "id": "96c88e82c933041d",
   "outputs": [
    {
     "name": "stdout",
     "output_type": "stream",
     "text": [
      "\u001B[34m** Zadanie ************************************************************************************\u001B[0m\n"
     ]
    },
    {
     "data": {
      "text/plain": [
       "<IPython.core.display.Markdown object>"
      ],
      "text/markdown": "Wyznaczyć punkt symetryczny do punktu"
     },
     "metadata": {},
     "output_type": "display_data"
    },
    {
     "data": {
      "text/plain": [
       "<IPython.core.display.Latex object>"
      ],
      "text/latex": "$$\tP = (5, 3, 5)$$"
     },
     "metadata": {},
     "output_type": "display_data"
    },
    {
     "data": {
      "text/plain": [
       "<IPython.core.display.Markdown object>"
      ],
      "text/markdown": "względem płaszczyzny"
     },
     "metadata": {},
     "output_type": "display_data"
    },
    {
     "data": {
      "text/plain": [
       "<IPython.core.display.Latex object>"
      ],
      "text/latex": "$$\t\\pi\\colon - x + y + 2 z + 4  = 0.$$"
     },
     "metadata": {},
     "output_type": "display_data"
    },
    {
     "name": "stdout",
     "output_type": "stream",
     "text": [
      "\u001B[32m** Rozwiązanie ********************************************************************************\u001B[0m\n"
     ]
    },
    {
     "data": {
      "text/plain": [
       "<IPython.core.display.Markdown object>"
      ],
      "text/markdown": "Prosta prostopadła: "
     },
     "metadata": {},
     "output_type": "display_data"
    },
    {
     "data": {
      "text/plain": [
       "<IPython.core.display.Latex object>"
      ],
      "text/latex": "$$ \\frac{x - 5}{-1}= \\frac{y - 3}{1}= \\frac{z - 5}{2}= t,$$"
     },
     "metadata": {},
     "output_type": "display_data"
    },
    {
     "data": {
      "text/plain": [
       "<IPython.core.display.Markdown object>"
      ],
      "text/markdown": "\\\nPunkt przecięcia to: "
     },
     "metadata": {},
     "output_type": "display_data"
    },
    {
     "data": {
      "text/plain": [
       "<IPython.core.display.Latex object>"
      ],
      "text/latex": "$$P_p =(7,1,1), \\quad t_p=-2$$"
     },
     "metadata": {},
     "output_type": "display_data"
    },
    {
     "data": {
      "text/plain": [
       "<IPython.core.display.Markdown object>"
      ],
      "text/markdown": " \nPunkt symetryczny to: "
     },
     "metadata": {},
     "output_type": "display_data"
    },
    {
     "data": {
      "text/plain": [
       "<IPython.core.display.Latex object>"
      ],
      "text/latex": "$$P_s = (9,-1,-3)$$"
     },
     "metadata": {},
     "output_type": "display_data"
    }
   ],
   "execution_count": 18
  },
  {
   "metadata": {},
   "cell_type": "markdown",
   "source": "#### Punkty symetryczny do prostej",
   "id": "6e45a9ef1e15047b"
  },
  {
   "metadata": {
    "tags": [
     "hide-input"
    ],
    "ExecuteTime": {
     "end_time": "2024-09-24T13:21:42.807874Z",
     "start_time": "2024-09-24T13:21:42.777274Z"
    }
   },
   "cell_type": "code",
   "source": [
    "zadanie = gz.punkt_symetryczny_do_prostej()\n",
    "print(f\"\\033[34m** Zadanie **\" + '*' * 82 + '\\033[0m')\n",
    "display(Markdown(zadanie[0].split('\\n\\t')[0]))\n",
    "display(Latex('$$' + (zadanie[0].split('\\n\\t')[2]) + '$$'))\n",
    "display(Markdown(zadanie[0].split('\\n\\t')[4]))\n",
    "display(Latex('$$' + (zadanie[0].split('\\n\\t')[6]) + '$$'))\n",
    "print(\"\\033[32m** Rozwiązanie **\" + '*' * 78 + '\\033[0m')\n",
    "display(Markdown(zadanie[1].split('$')[0]))\n",
    "display(Latex('$$' + zadanie[1].split('$')[1].split('\\\\quad')[0] + '$$'))\n",
    "display(Markdown(zadanie[1].split('$')[2][8:]))\n",
    "display(Latex('$$' + zadanie[1].split('$')[3] + ' \\quad ' + zadanie[1].split('$')[1].split('\\quad')[1] + '$$'))\n",
    "display(Markdown(zadanie[1].split('$')[4][12:]))\n",
    "display(Latex('$$' + zadanie[1].split('$')[5] + '$$'))\n",
    "zadanie_nr = zadanie"
   ],
   "id": "3e0283d4a703b0ac",
   "outputs": [
    {
     "name": "stdout",
     "output_type": "stream",
     "text": [
      "\u001B[34m** Zadanie ************************************************************************************\u001B[0m\n"
     ]
    },
    {
     "data": {
      "text/plain": [
       "<IPython.core.display.Markdown object>"
      ],
      "text/markdown": "Wyznaczyć punkt symetryczny do punktu"
     },
     "metadata": {},
     "output_type": "display_data"
    },
    {
     "data": {
      "text/plain": [
       "<IPython.core.display.Latex object>"
      ],
      "text/latex": "$$\tP = (-2, -3, 2)$$"
     },
     "metadata": {},
     "output_type": "display_data"
    },
    {
     "data": {
      "text/plain": [
       "<IPython.core.display.Markdown object>"
      ],
      "text/markdown": "względem prostej"
     },
     "metadata": {},
     "output_type": "display_data"
    },
    {
     "data": {
      "text/plain": [
       "<IPython.core.display.Latex object>"
      ],
      "text/latex": "$$\tl\\colon \\frac{x - 4}{-3}= \\frac{y - 3}{-1}= \\frac{z - 4}{1}.$$"
     },
     "metadata": {},
     "output_type": "display_data"
    },
    {
     "name": "stdout",
     "output_type": "stream",
     "text": [
      "\u001B[32m** Rozwiązanie ********************************************************************************\u001B[0m\n"
     ]
    },
    {
     "data": {
      "text/plain": [
       "<IPython.core.display.Markdown object>"
      ],
      "text/markdown": "Płaszczyzna prostopadła: "
     },
     "metadata": {},
     "output_type": "display_data"
    },
    {
     "data": {
      "text/plain": [
       "<IPython.core.display.Latex object>"
      ],
      "text/latex": "$$\\pi\\colon - 3 x - y + z - 11 = 0, $$"
     },
     "metadata": {},
     "output_type": "display_data"
    },
    {
     "data": {
      "text/plain": [
       "<IPython.core.display.Markdown object>"
      ],
      "text/markdown": "Punkt przecięcia to: "
     },
     "metadata": {},
     "output_type": "display_data"
    },
    {
     "data": {
      "text/plain": [
       "<IPython.core.display.Latex object>"
      ],
      "text/latex": "$$P_p =(-2,1,6), \\quad  t_p=2$$"
     },
     "metadata": {},
     "output_type": "display_data"
    },
    {
     "data": {
      "text/plain": [
       "<IPython.core.display.Markdown object>"
      ],
      "text/markdown": "Punkt symetryczny to: "
     },
     "metadata": {},
     "output_type": "display_data"
    },
    {
     "data": {
      "text/plain": [
       "<IPython.core.display.Latex object>"
      ],
      "text/latex": "$$P_s = (-2,5,10)$$"
     },
     "metadata": {},
     "output_type": "display_data"
    }
   ],
   "execution_count": 19
  },
  {
   "metadata": {},
   "cell_type": "markdown",
   "source": "#### Proste skośne",
   "id": "eed5a4a5decccb25"
  },
  {
   "metadata": {
    "tags": [
     "hide-input"
    ],
    "ExecuteTime": {
     "end_time": "2024-09-24T13:21:57.011800Z",
     "start_time": "2024-09-24T13:21:43.206035Z"
    }
   },
   "cell_type": "code",
   "source": [
    "zadanie = gz.odleglosc_prostych_skosnych()\n",
    "print(f\"\\033[34m** Zadanie **\" + '*' * 82 + '\\033[0m')\n",
    "display(Markdown(zadanie[0].split('\\n\\t')[0]))\n",
    "display(Latex('$$' + (zadanie[0].split('\\n\\t')[2]) + '$$'))\n",
    "display(Latex('$$' + (zadanie[0].split('\\n\\t')[3]) + '$$'))\n",
    "display(Markdown(zadanie[0].split('\\n\\t')[4][3:]))\n",
    "print(\"\\033[32m** Rozwiązanie **\" + '*' * 78 + '\\033[0m')\n",
    "display(Markdown('Płaszczyzna zawierająca *l<sub>2</sub>* i równoległa do *l<sub>1</sub>* to'))\n",
    "display(Latex('$$' + (zadanie[1].split('$')[5]) + '$$'))\n",
    "display(Markdown('Odległość prostych skośnych to'))\n",
    "display(Latex('$$' + (zadanie[1].split('$')[7]) + '$$'))\n",
    "display(Markdown('Punkty realizujące minimalną odległość to'))\n",
    "display(Latex('$$' + (zadanie[1].split('$')[9]).replace('\\\\ ', '\\qquad ') + '$$'))\n",
    "zadanie_nr = zadanie"
   ],
   "id": "6d4fa2126c85917f",
   "outputs": [
    {
     "name": "stdout",
     "output_type": "stream",
     "text": [
      "\u001B[34m** Zadanie ************************************************************************************\u001B[0m\n"
     ]
    },
    {
     "data": {
      "text/plain": [
       "<IPython.core.display.Markdown object>"
      ],
      "text/markdown": "Obliczyć odległość prostych skośnych"
     },
     "metadata": {},
     "output_type": "display_data"
    },
    {
     "data": {
      "text/plain": [
       "<IPython.core.display.Latex object>"
      ],
      "text/latex": "$$\tl_1\\colon \\frac{x + 1}{2}=\\frac{y - 4}{4}=\\frac{z - 2}{4}, \\quad $$"
     },
     "metadata": {},
     "output_type": "display_data"
    },
    {
     "data": {
      "text/plain": [
       "<IPython.core.display.Latex object>"
      ],
      "text/latex": "$$\tl_2\\colon \\frac{x - 3}{3}=\\frac{y - 2}{5}=\\frac{z + 1}{4}.$$"
     },
     "metadata": {},
     "output_type": "display_data"
    },
    {
     "data": {
      "text/plain": [
       "<IPython.core.display.Markdown object>"
      ],
      "text/markdown": "Wyznaczyć punkty realizujące minimalną odległość."
     },
     "metadata": {},
     "output_type": "display_data"
    },
    {
     "name": "stdout",
     "output_type": "stream",
     "text": [
      "\u001B[32m** Rozwiązanie ********************************************************************************\u001B[0m\n"
     ]
    },
    {
     "data": {
      "text/plain": [
       "<IPython.core.display.Markdown object>"
      ],
      "text/markdown": "Płaszczyzna zawierająca *l<sub>2</sub>* i równoległa do *l<sub>1</sub>* to"
     },
     "metadata": {},
     "output_type": "display_data"
    },
    {
     "data": {
      "text/plain": [
       "<IPython.core.display.Latex object>"
      ],
      "text/latex": "$$\\pi\\colon - 4 x + 4 y - 2 z + 2=0$$"
     },
     "metadata": {},
     "output_type": "display_data"
    },
    {
     "data": {
      "text/plain": [
       "<IPython.core.display.Markdown object>"
      ],
      "text/markdown": "Odległość prostych skośnych to"
     },
     "metadata": {},
     "output_type": "display_data"
    },
    {
     "data": {
      "text/plain": [
       "<IPython.core.display.Latex object>"
      ],
      "text/latex": "$$d(l_1,l_2)=3;$$"
     },
     "metadata": {},
     "output_type": "display_data"
    },
    {
     "data": {
      "text/plain": [
       "<IPython.core.display.Markdown object>"
      ],
      "text/markdown": "Punkty realizujące minimalną odległość to"
     },
     "metadata": {},
     "output_type": "display_data"
    },
    {
     "data": {
      "text/plain": [
       "<IPython.core.display.Latex object>"
      ],
      "text/latex": "$$ P_3=(-11,-16,-18),\\qquad P_4=(-9,-18,-17)$$"
     },
     "metadata": {},
     "output_type": "display_data"
    }
   ],
   "execution_count": 20
  },
  {
   "metadata": {},
   "cell_type": "markdown",
   "source": "#### Kąty w trójkącie",
   "id": "d9811786cfcf0e97"
  },
  {
   "metadata": {
    "tags": [
     "hide-input"
    ],
    "ExecuteTime": {
     "end_time": "2024-09-24T13:21:57.473879Z",
     "start_time": "2024-09-24T13:21:57.430159Z"
    }
   },
   "cell_type": "code",
   "source": [
    "zadanie = gz.katy_w_trojkacie(prosty=choice([False, True]), calkowite=choice([False, True]))\n",
    "print(f\"\\033[34m** Zadanie **\" + '*' * 82 + '\\033[0m')\n",
    "display(Markdown('Wyznaczyć miary kątów wewnętrznych trójkąta *ABC*, gdzie'))\n",
    "display(Latex('$$' + (zadanie[0].split('\\n\\t')[2]) + '$$'))\n",
    "display(Markdown('Sprawdzić, czy sumują się do 180\\u00b0'))\n",
    "print(\"\\033[32m** Rozwiązanie **\" + '*' * 78 + '\\033[0m')\n",
    "display(Latex('$' + zadanie[1] + '$'))\n",
    "zadanie_nr = zadanie"
   ],
   "id": "139210171c77c0d",
   "outputs": [
    {
     "name": "stdout",
     "output_type": "stream",
     "text": [
      "\u001B[34m** Zadanie ************************************************************************************\u001B[0m\n"
     ]
    },
    {
     "data": {
      "text/plain": [
       "<IPython.core.display.Markdown object>"
      ],
      "text/markdown": "Wyznaczyć miary kątów wewnętrznych trójkąta *ABC*, gdzie"
     },
     "metadata": {},
     "output_type": "display_data"
    },
    {
     "data": {
      "text/plain": [
       "<IPython.core.display.Latex object>"
      ],
      "text/latex": "$$\tA = (0, 0, 3),\\ B = (-1, -1, 5),\\ C = (-3, 1, -1)$$"
     },
     "metadata": {},
     "output_type": "display_data"
    },
    {
     "data": {
      "text/plain": [
       "<IPython.core.display.Markdown object>"
      ],
      "text/markdown": "Sprawdzić, czy sumują się do 180°"
     },
     "metadata": {},
     "output_type": "display_data"
    },
    {
     "name": "stdout",
     "output_type": "stream",
     "text": [
      "\u001B[32m** Rozwiązanie ********************************************************************************\u001B[0m\n"
     ]
    },
    {
     "data": {
      "text/plain": [
       "<IPython.core.display.Latex object>"
      ],
      "text/latex": "$$\\alpha \\approx 118.71^{\\circ},\\  \\beta \\approx 42.39^{\\circ},\\  \\gamma \\approx 18.90^{\\circ}.$$"
     },
     "metadata": {},
     "output_type": "display_data"
    }
   ],
   "execution_count": 21
  },
  {
   "metadata": {},
   "cell_type": "markdown",
   "source": "#### Pole trójkąta",
   "id": "c63a611fece77618"
  },
  {
   "metadata": {
    "tags": [
     "hide-input"
    ],
    "ExecuteTime": {
     "end_time": "2024-09-24T13:21:58.063096Z",
     "start_time": "2024-09-24T13:21:58.039765Z"
    }
   },
   "cell_type": "code",
   "source": [
    "zadanie = gz.pole_trojkata(calkowite=choice([False, True]))\n",
    "print(f\"\\033[34m** Zadanie **\" + '*' * 82 + '\\033[0m')\n",
    "display(Markdown(\n",
    "    f'Wyznaczyć pole  trójkąta *ABC* oraz długość wysokości opuszczonej z wierzchołka *{zadanie[0].split(\"ka \")[1].split(\" dla\")[0]}*' + ' dla'))\n",
    "display(Latex('$$' + (zadanie[0].split('\\n\\t')[2]) + '$$'))\n",
    "print(\"\\033[32m** Rozwiązanie **\" + '*' * 78 + '\\033[0m')\n",
    "display(Latex('$' + zadanie[1].replace('\\\\ \\\\', '\\qquad') + '$'))\n",
    "zadanie_nr = zadanie"
   ],
   "id": "3a4b4aec80644542",
   "outputs": [
    {
     "name": "stdout",
     "output_type": "stream",
     "text": [
      "\u001B[34m** Zadanie ************************************************************************************\u001B[0m\n"
     ]
    },
    {
     "data": {
      "text/plain": [
       "<IPython.core.display.Markdown object>"
      ],
      "text/markdown": "Wyznaczyć pole  trójkąta *ABC* oraz długość wysokości opuszczonej z wierzchołka *A* dla"
     },
     "metadata": {},
     "output_type": "display_data"
    },
    {
     "data": {
      "text/plain": [
       "<IPython.core.display.Latex object>"
      ],
      "text/latex": "$$\tA = (-3, 3, 1),\\ B = (-3, 4, 5),\\ C = (-1, 2, -2)$$"
     },
     "metadata": {},
     "output_type": "display_data"
    },
    {
     "name": "stdout",
     "output_type": "stream",
     "text": [
      "\u001B[32m** Rozwiązanie ********************************************************************************\u001B[0m\n"
     ]
    },
    {
     "data": {
      "text/plain": [
       "<IPython.core.display.Latex object>"
      ],
      "text/latex": "$$P=\\frac{\\sqrt{69}}{2},\\qquad h_A=\\frac{\\sqrt{437}}{19}$$"
     },
     "metadata": {},
     "output_type": "display_data"
    }
   ],
   "execution_count": 22
  },
  {
   "metadata": {},
   "cell_type": "markdown",
   "source": "#### Płaszczyzna styczna",
   "id": "af87c3f75306266f"
  },
  {
   "metadata": {
    "tags": [
     "hide-input"
    ],
    "ExecuteTime": {
     "end_time": "2024-09-24T13:22:00.217747500Z",
     "start_time": "2024-09-18T10:18:28.191488Z"
    }
   },
   "cell_type": "code",
   "outputs": [
    {
     "name": "stdout",
     "output_type": "stream",
     "text": [
      "\u001B[34m** Zadanie ************************************************************************************\u001B[0m\n"
     ]
    },
    {
     "data": {
      "text/plain": [
       "<IPython.core.display.Markdown object>"
      ],
      "text/markdown": "Wyznaczyć płaszczyznę styczną do powierzchni"
     },
     "metadata": {},
     "output_type": "display_data"
    },
    {
     "data": {
      "text/plain": [
       "<IPython.core.display.Latex object>"
      ],
      "text/latex": "$$f(x,y)=\\sqrt{x^{2} - y^{2} + 25}$$"
     },
     "metadata": {},
     "output_type": "display_data"
    },
    {
     "data": {
      "text/plain": [
       "<IPython.core.display.Markdown object>"
      ],
      "text/markdown": "w punkcie"
     },
     "metadata": {},
     "output_type": "display_data"
    },
    {
     "data": {
      "text/plain": [
       "<IPython.core.display.Latex object>"
      ],
      "text/latex": "$$P=(-2,5,f(-2,5)).$$"
     },
     "metadata": {},
     "output_type": "display_data"
    },
    {
     "name": "stdout",
     "output_type": "stream",
     "text": [
      "\u001B[32m** Rozwiązanie ********************************************************************************\u001B[0m\n"
     ]
    },
    {
     "data": {
      "text/plain": [
       "<IPython.core.display.Latex object>"
      ],
      "text/latex": "$$z = - x - \\frac{5 y}{2} + \\frac{25}{2}$$"
     },
     "metadata": {},
     "output_type": "display_data"
    }
   ],
   "execution_count": 23,
   "source": [
    "zadanie = gz.plaszczyzna_styczna()\n",
    "print(f\"\\033[34m** Zadanie **\" + '*' * 82 + '\\033[0m')\n",
    "display(Markdown(\n",
    "    f'Wyznaczyć płaszczyznę styczną do powierzchni'))\n",
    "display(Latex('$$' + (zadanie[0].split('$$')[1]) + '$$'))\n",
    "display(Markdown('w punkcie'))\n",
    "display(Latex('$' + zadanie[0].split('punkcie ')[1] + '$'))\n",
    "print(\"\\033[32m** Rozwiązanie **\" + '*' * 78 + '\\033[0m')\n",
    "display(Latex('$' + zadanie[1].replace('\\\\ \\\\', '\\qquad') + '$'))\n",
    "zadanie_nr = zadanie"
   ],
   "id": "1c7fe7d5a193a1ed"
  },
  {
   "metadata": {},
   "cell_type": "markdown",
   "source": "### Granice",
   "id": "623ec82fba5315c5"
  },
  {
   "metadata": {},
   "cell_type": "markdown",
   "source": "#### Granice ciągów",
   "id": "a0979c91daf7a633"
  },
  {
   "metadata": {
    "ExecuteTime": {
     "end_time": "2024-09-24T13:21:59.153612Z",
     "start_time": "2024-09-24T13:21:58.765079Z"
    },
    "tags": [
     "hide-input"
    ]
   },
   "cell_type": "code",
   "outputs": [
    {
     "data": {
      "text/plain": [
       "('Obliczyć granicę\\n\\t\\\\[\\n\\t\\t\\\\lim\\\\limits_{n \\\\rightarrow \\\\infty} \\\\frac{- 3 \\\\cdot 2^{n} + 4 \\\\cdot 3^{n}}{4 \\\\cdot 2^{n} + 2 \\\\cdot 3^{n}} \\n\\t\\\\]\\n',\n",
       " '$2$')"
      ]
     },
     "execution_count": 23,
     "metadata": {},
     "output_type": "execute_result"
    }
   ],
   "execution_count": 23,
   "source": [
    "zadanie = gz.granica_ciagu(typ=choice([0, 1, 2, 3]))\n",
    "print(f\"\\033[34m** Zadanie **\" + '*' * 82 + '\\033[0m')\n",
    "display(Markdown(zadanie[0].split('\\n\\t')[0]))\n",
    "display(Latex('$$' + (zadanie[0].split('\\n\\t')[2]) + '$$'))\n",
    "print(\"\\033[32m** Rozwiązanie **\" + '*' * 78 + '\\033[0m')\n",
    "display(Latex('$' + zadanie[1] + '$'))\n",
    "zadanie_nr = zadanie"
   ],
   "id": "da99c8ad97058032"
  },
  {
   "metadata": {},
   "cell_type": "markdown",
   "source": "#### Granice funkcji",
   "id": "ecf81fd5ff4d1990"
  },
  {
   "metadata": {
    "tags": [
     "hide-input"
    ]
   },
   "cell_type": "code",
   "outputs": [],
   "execution_count": null,
   "source": [
    "zadanie = gz.granica_funkcji()\n",
    "print(f\"\\033[34m** Zadanie **\" + '*' * 82 + '\\033[0m')\n",
    "display(Markdown(zadanie[0].split('\\n\\t')[0]))\n",
    "display(Latex('$$' + (zadanie[0].split('\\n\\t')[2]) + '$$'))\n",
    "print(\"\\033[32m** Rozwiązanie **\" + '*' * 78 + '\\033[0m')\n",
    "display(Latex('$' + zadanie[1] + '$'))\n",
    "zadanie_nr = zadanie"
   ],
   "id": "ae2c5d9bcdff6d80"
  },
  {
   "metadata": {},
   "cell_type": "markdown",
   "source": "### Monotonicznoźć",
   "id": "f53318a7df11ec88"
  },
  {
   "metadata": {
    "ExecuteTime": {
     "end_time": "2024-09-24T13:22:00.217747500Z",
     "start_time": "2024-09-18T10:18:34.327419Z"
    },
    "tags": [
     "hide-input"
    ]
   },
   "cell_type": "code",
   "outputs": [
    {
     "name": "stdout",
     "output_type": "stream",
     "text": [
      "\u001B[34m** Zadanie ************************************************************************************\u001B[0m\n"
     ]
    },
    {
     "data": {
      "text/plain": [
       "<IPython.core.display.Markdown object>"
      ],
      "text/markdown": "Zbadać monotoniczność i ekstrema funkcji"
     },
     "metadata": {},
     "output_type": "display_data"
    },
    {
     "data": {
      "text/plain": [
       "<IPython.core.display.Latex object>"
      ],
      "text/latex": "$$\tf(x)=\\frac{2 x + 2}{x^{2} + x + 4} $$"
     },
     "metadata": {},
     "output_type": "display_data"
    },
    {
     "name": "stdout",
     "output_type": "stream",
     "text": [
      "\u001B[32m** Rozwiązanie ********************************************************************************\u001B[0m\n"
     ]
    },
    {
     "data": {
      "text/plain": [
       "<IPython.core.display.Markdown object>"
      ],
      "text/markdown": "$$f'(x)=- \\frac{2 \\left(x - 1\\right) \\left(x + 3\\right)}{\\left(x^{2} + x + 4\\right)^{2}}$$"
     },
     "metadata": {},
     "output_type": "display_data"
    },
    {
     "data": {
      "text/plain": [
       "<IPython.core.display.Markdown object>"
      ],
      "text/markdown": "$$f'(x) > 0 \\textnormal{ dla: }-3 < x \\wedge x < 1 \\implies$$"
     },
     "metadata": {},
     "output_type": "display_data"
    },
    {
     "data": {
      "text/plain": [
       "<IPython.core.display.Markdown object>"
      ],
      "text/markdown": "$$\\implies f(x) \\textnormal{ rośnie dla } x \\in \\left( -3, 1  \\right) $$"
     },
     "metadata": {},
     "output_type": "display_data"
    },
    {
     "data": {
      "text/plain": [
       "<IPython.core.display.Markdown object>"
      ],
      "text/markdown": "$$f'(x) < 0 \\textnormal{ dla: }1 < x \\vee x < -3 \\implies$$"
     },
     "metadata": {},
     "output_type": "display_data"
    },
    {
     "data": {
      "text/plain": [
       "<IPython.core.display.Markdown object>"
      ],
      "text/markdown": "$$\\implies f(x) \\textnormal{ maleje dla } x \\in \\left( -\\infty, -3  \\right)\\textnormal{ oraz } x \\in \\left(1, \\infty  \\right) $$"
     },
     "metadata": {},
     "output_type": "display_data"
    },
    {
     "data": {
      "text/plain": [
       "<IPython.core.display.Markdown object>"
      ],
      "text/markdown": "$$f'(x) = 0 \\textnormal{ dla } x \\in \\left\\lbrace -3, \\  1\\right\\rbrace \\implies f_{\\min}\\left(-3\\right) = - \\frac{2}{5} \\textnormal{ oraz } f_{\\max}\\left(1\\right) = \\frac{2}{3}$$"
     },
     "metadata": {},
     "output_type": "display_data"
    }
   ],
   "execution_count": 26,
   "source": [
    "zadanie = gz.monotonicznosc(choice([1,2,3]))\n",
    "print(f\"\\033[34m** Zadanie **\" + '*' * 82 + '\\033[0m')\n",
    "display(Markdown(zadanie[0].split('\\n\\t')[0]))\n",
    "display(Latex('$$' + (zadanie[0].split('\\n\\t')[2]) + '$$'))\n",
    "print(\"\\033[32m** Rozwiązanie **\" + '*' * 78 + '\\033[0m')\n",
    "display(Markdown('$$' + zadanie[1].split('$')[1] + '$$'))\n",
    "display(Markdown('$$' + zadanie[1].split('$')[3].split('\\\\implies')[0] + '\\\\implies' + '$$' ))\n",
    "display(Markdown('$$' + '\\\\implies' + zadanie[1].split('$')[3].split('\\\\implies')[1] + '$$' ))\n",
    "display(Markdown('$$' + zadanie[1].split('$')[5].split('\\\\implies')[0] + '\\\\implies' + '$$' ))\n",
    "display(Markdown('$$' + '\\\\implies' + zadanie[1].split('$')[5].split('\\\\implies')[1] + '$$' ))\n",
    "display(Markdown('$$' + zadanie[1].split('$')[7].replace('\\\\left\\\\{', '\\\\left\\\\lbrace').replace('\\\\right\\\\}', '\\\\right\\\\rbrace') + '$$'))\n",
    "zadanie_nr = zadanie"
   ],
   "id": "967f8c2facdf9ef1"
  },
  {
   "metadata": {},
   "cell_type": "markdown",
   "source": "### Całki nieoznaczone",
   "id": "22a53cf59d9f596c"
  },
  {
   "metadata": {},
   "cell_type": "markdown",
   "source": "#### Przez podstawianie i przez części",
   "id": "fd34a60e81d26975"
  },
  {
   "metadata": {
    "ExecuteTime": {
     "start_time": "2024-09-24T16:07:27.933278Z"
    },
    "tags": [
     "hide-input"
    ]
   },
   "cell_type": "code",
   "outputs": [],
   "execution_count": null,
   "source": [
    "zadanie = gz.calka_nieoznaczona(typ=choice([1, 2, 3, 4]))\n",
    "print(f\"\\033[34m** Zadanie **\" + '*' * 82 + '\\033[0m')\n",
    "display(Markdown(zadanie[0].split('\\n\\t')[0]))\n",
    "display(Latex('$$' + (zadanie[0].split('\\n\\t')[2]) + '$$'))\n",
    "print(\"\\033[32m** Rozwiązanie **\" + '*' * 78 + '\\033[0m')\n",
    "display(Latex('$$' +  zadanie[1].split('=')[1] + '$'))\n",
    "zadanie_nr = zadanie"
   ],
   "id": "2a9374610434009e"
  },
  {
   "metadata": {},
   "cell_type": "markdown",
   "source": "#### Wymierne",
   "id": "507adf6dc0c4691b"
  },
  {
   "metadata": {
    "tags": [
     "hide-input"
    ]
   },
   "cell_type": "code",
   "outputs": [],
   "execution_count": null,
   "source": [
    "zadanie = gz.calka_wymierna(wlasciwy=choice([False, True]))\n",
    "print(f\"\\033[34m** Zadanie **\" + '*' * 82 + '\\033[0m')\n",
    "display(Markdown(zadanie[0].split('\\n\\t')[0]))\n",
    "display(Latex('$$' + (zadanie[0].split('\\n\\t')[2]) + '$$'))\n",
    "print(\"\\033[32m** Rozwiązanie **\" + '*' * 78 + '\\033[0m')\n",
    "display(Latex('$' + zadanie[1] + '$'))\n",
    "zadanie_nr = zadanie"
   ],
   "id": "8a17fb33ba4e09e9"
  },
  {
   "metadata": {},
   "cell_type": "markdown",
   "source": "### Całki podwójne",
   "id": "e4d748b56b9e4eca"
  },
  {
   "metadata": {},
   "cell_type": "markdown",
   "source": "#### Po trójkącie",
   "id": "f8e6ec693af5d42b"
  },
  {
   "metadata": {
    "tags": [
     "hide-input"
    ],
    "ExecuteTime": {
     "end_time": "2024-09-24T13:22:00.217747500Z",
     "start_time": "2024-09-18T10:18:28.927266Z"
    }
   },
   "cell_type": "code",
   "outputs": [
    {
     "name": "stdout",
     "output_type": "stream",
     "text": [
      "\u001B[34m** Zadanie ************************************************************************************\u001B[0m\n"
     ]
    },
    {
     "data": {
      "text/plain": [
       "<IPython.core.display.Markdown object>"
      ],
      "text/markdown": "Obliczyć $$\\iint\\limits_D\\left(3 x - y + 2\\right)dxdy$$ gdzie *D* - trójkąt *ABC* dla *A=(3,0), B=(0,-2), C=(0,0)*"
     },
     "metadata": {},
     "output_type": "display_data"
    },
    {
     "name": "stdout",
     "output_type": "stream",
     "text": [
      "\u001B[32m** Rozwiązanie ********************************************************************************\u001B[0m\n"
     ]
    },
    {
     "data": {
      "text/plain": [
       "HBox(children=(Image(value=b'\\x89PNG\\r\\n\\x1a\\n\\x00\\x00\\x00\\rIHDR\\x00\\x00\\x01\\xc2\\x00\\x00\\x01\\xc2\\x08\\x06\\x00\\x…"
      ],
      "application/vnd.jupyter.widget-view+json": {
       "version_major": 2,
       "version_minor": 0,
       "model_id": "4db4303a67d2461487a202ec977d0b66"
      }
     },
     "metadata": {},
     "output_type": "display_data"
    },
    {
     "name": "stdout",
     "output_type": "stream",
     "text": [
      "9\n"
     ]
    },
    {
     "data": {
      "text/plain": [
       "<IPython.core.display.Markdown object>"
      ],
      "text/markdown": "Względem *Ox:*"
     },
     "metadata": {},
     "output_type": "display_data"
    },
    {
     "data": {
      "text/plain": [
       "<IPython.core.display.Markdown object>"
      ],
      "text/markdown": "$$\\int\\limits_{0}^{3}\\left(\\int\\limits_{\\frac{2 x}{3} - 2}^{0}\\left(3 x - y + 2\\right)dy\\right)dx\n\t=\\ldots=\\int\\limits_{0}^{3}\\left(- \\frac{16 x^{2}}{9} + \\frac{10 x}{3} + 6\\right)dx = \\ldots = 17$$"
     },
     "metadata": {},
     "output_type": "display_data"
    },
    {
     "data": {
      "text/plain": [
       "<IPython.core.display.Markdown object>"
      ],
      "text/markdown": "Względem *Oy:*"
     },
     "metadata": {},
     "output_type": "display_data"
    },
    {
     "data": {
      "text/plain": [
       "<IPython.core.display.Markdown object>"
      ],
      "text/markdown": "$$\\int\\limits_{-2}^{0}\\left(\\int\\limits_{0}^{\\frac{3 y}{2} + 3}\\left(3 x - y + 2\\right)dx\\right)dy\n\t=\\ldots=\\int\\limits_{-2}^{0}\\left(\\frac{15 y^{2}}{8} + \\frac{27 y}{2} + \\frac{39}{2}\\right)dy = \\ldots = 17$$"
     },
     "metadata": {},
     "output_type": "display_data"
    }
   ],
   "execution_count": 24,
   "source": [
    "zadanie = gz.calka_podwojna(typ=1, nr_zadania=0)\n",
    "print(f\"\\033[34m** Zadanie **\" + '*' * 82 + '\\033[0m')\n",
    "display(Markdown(zadanie[0].replace('\\\\,', '').replace('$', '*', ).replace('*', '$$', 2)))\n",
    "print(\"\\033[32m** Rozwiązanie **\" + '*' * 78 + '\\033[0m')\n",
    "img1 = open(f'pics/calka_podwojna{0}x.png', 'rb').read()\n",
    "wi1 = widgets.Image(value=img1, format='jpg', width=300, height=400)\n",
    "img2 = open(f'pics/calka_podwojna{0}y.png', 'rb').read()\n",
    "wi2 = widgets.Image(value=img2, format='jpg', width=300, height=400)\n",
    "a = [wi1, wi2]\n",
    "wid = widgets.HBox(a)\n",
    "display(wid)\n",
    "print(len(zadanie[1].split('$')))\n",
    "if len(zadanie[1].split('$')) == 5:\n",
    "    display(Markdown(f'Względem *{zadanie[1].split(\"$\")[1]}*'))\n",
    "    display(Markdown('$$' + zadanie[1].split('$')[3].split('$')[0] + '$$'))\n",
    "else:\n",
    "    display(Markdown(f'Względem *{zadanie[1].split(\"$\")[1]}*'))\n",
    "    display(Markdown('$$' + zadanie[1].split('$')[3].split('$')[0] + '$$'))\n",
    "    display(Markdown(f'Względem *{zadanie[1].split(\"$\")[5]}*'))\n",
    "    display(Markdown('$$' + zadanie[1].split('$')[7].split('$')[0] + '$$'))\n",
    "zadanie_nr = zadanie"
   ],
   "id": "b37b6ca382f549dd"
  },
  {
   "metadata": {},
   "cell_type": "markdown",
   "source": "#### Po obszarze ograniczonym krzywymi",
   "id": "e8b8625e9c805ff2"
  },
  {
   "metadata": {
    "tags": [
     "hide-input"
    ],
    "ExecuteTime": {
     "end_time": "2024-09-24T13:22:00.218746900Z",
     "start_time": "2024-09-18T10:18:31.595700Z"
    }
   },
   "cell_type": "code",
   "outputs": [
    {
     "name": "stdout",
     "output_type": "stream",
     "text": [
      "\u001B[34m** Zadanie ************************************************************************************\u001B[0m\n"
     ]
    },
    {
     "data": {
      "text/plain": [
       "<IPython.core.display.Markdown object>"
      ],
      "text/markdown": "Obliczyć $$\\iint\\limits_D\\left(\\frac{3 x}{2} + \\frac{y}{2}\\right)dxdy$$ gdzie *D* - obszar ograniczony krzywymi"
     },
     "metadata": {},
     "output_type": "display_data"
    },
    {
     "data": {
      "text/plain": [
       "<IPython.core.display.Markdown object>"
      ],
      "text/markdown": "$$y=2 x^{2}\\quad \\text{ oraz } \\quad y=- 2 x$$"
     },
     "metadata": {},
     "output_type": "display_data"
    },
    {
     "name": "stdout",
     "output_type": "stream",
     "text": [
      "\u001B[32m** Rozwiązanie ********************************************************************************\u001B[0m\n"
     ]
    },
    {
     "data": {
      "text/plain": [
       "HBox(children=(Image(value=b'\\x89PNG\\r\\n\\x1a\\n\\x00\\x00\\x00\\rIHDR\\x00\\x00\\x01\\xc2\\x00\\x00\\x01\\xc2\\x08\\x06\\x00\\x…"
      ],
      "application/vnd.jupyter.widget-view+json": {
       "version_major": 2,
       "version_minor": 0,
       "model_id": "88727e0c82544997becc1cbae22b848f"
      }
     },
     "metadata": {},
     "output_type": "display_data"
    },
    {
     "name": "stdout",
     "output_type": "stream",
     "text": [
      "5\n"
     ]
    },
    {
     "data": {
      "text/plain": [
       "<IPython.core.display.Markdown object>"
      ],
      "text/markdown": "Względem *Ox:*"
     },
     "metadata": {},
     "output_type": "display_data"
    },
    {
     "data": {
      "text/plain": [
       "<IPython.core.display.Markdown object>"
      ],
      "text/markdown": "$$\\int\\limits_{-1}^{0}\\left(\\int\\limits_{2 x^{2}}^{- 2 x}\\left(\\frac{3 x}{2} + \\frac{y}{2}\\right)dy\\right)dx\n\t=\\ldots=\\int\\limits_{-1}^{0}\\left(- x^{4} - 3 x^{3} - 2 x^{2}\\right)dx = \\ldots = - \\frac{7}{60}$$"
     },
     "metadata": {},
     "output_type": "display_data"
    }
   ],
   "execution_count": 25,
   "source": [
    "zadanie = gz.calka_podwojna(typ=2, nr_zadania=1111)  # nr by wykluczyć zduplikowanie wykresu\n",
    "print(f\"\\033[34m** Zadanie **\" + '*' * 82 + '\\033[0m')\n",
    "display(Markdown(\n",
    "    zadanie[0].split('krzywymi')[0].replace('\\\\,', '').replace('$', '*', ).replace('*', '$$', 2) + 'krzywymi'))\n",
    "display(Markdown('$$' + zadanie[0].split('$')[5] + '\\\\quad \\\\text{' + zadanie[0].split('$')[6][1:] + '} \\\\quad ' +\n",
    "                 zadanie[0].split('$')[7] + '$$'))\n",
    "print(\"\\033[32m** Rozwiązanie **\" + '*' * 78 + '\\033[0m')\n",
    "img1 = open(f'pics/calka_podwojna1111x.png', 'rb').read()\n",
    "wi1 = widgets.Image(value=img1, format='jpg', width=300, height=400)\n",
    "img2 = open(f'pics/calka_podwojna1111y.png', 'rb').read()\n",
    "wi2 = widgets.Image(value=img2, format='jpg', width=300, height=400)\n",
    "a = [wi1, wi2]\n",
    "wid = widgets.HBox(a)\n",
    "display(wid)\n",
    "print(len(zadanie[1].split('$')))\n",
    "if len(zadanie[1].split('$')) == 5:\n",
    "    display(Markdown(f'Względem *{zadanie[1].split(\"$\")[1]}*'))\n",
    "    display(Markdown('$$' + zadanie[1].split('$')[3].split('$')[0] + '$$'))\n",
    "else:\n",
    "    display(Markdown(f'Względem *{zadanie[1].split(\"$\")[1]}*'))\n",
    "    display(Markdown('$$' + zadanie[1].split('$')[3].split('$')[0] + '$$'))\n",
    "    display(Markdown(f'Względem *{zadanie[1].split(\"$\")[5]}*'))\n",
    "    display(Markdown('$$' + zadanie[1].split('$')[7].split('$')[0] + '$$'))\n",
    "zadanie_nr = zadanie"
   ],
   "id": "3fd097f7da71ed9b"
  },
  {
   "metadata": {},
   "cell_type": "markdown",
   "source": [
    "---\n",
    "\n",
    "## Ustaw nazwy"
   ],
   "id": "5dc817ea97ab66bc"
  },
  {
   "metadata": {},
   "cell_type": "markdown",
   "source": [
    "```{admonition} Wskazówka\n",
    ":class: tip\n",
    "\n",
    "> Nazwy mogą być puste, tzn. ''. Nie wszystkie, bo na ich podstawie tworzona jest nazwa pliku.\n",
    "> \n",
    "> 'kolor_odpowiedzi' jest ważny dla pliku tex:\n",
    "> - 'red' - odpowiedzi ukryte, ale dostępne po kliknięciu,\n",
    "> - 'white' - ukrywa, ale zostawia miejsce,\n",
    "> - 'brak' - ukrywa i chowa miejsce,\n",
    "> - dla innych kolorów odpowiedzi są pokazywane, ale można je ukryć po kliknięciu.\n",
    ">\n",
    "> Dlatego potrzebna jest dwukrotna kompilacja i potrzebny jest czytnik pdf z obsługą warst i JavaScript. Zalecam Adobe Acrobat Reader \n",
    "\n",
    "```\n"
   ],
   "id": "521cc21f07383cf6"
  },
  {
   "metadata": {
    "ExecuteTime": {
     "end_time": "2024-09-24T13:22:00.218746900Z",
     "start_time": "2024-09-18T10:18:34.851535Z"
    }
   },
   "cell_type": "code",
   "source": [
    "# bez podkreśleń !!! bo są błędy w kompilacji z podkreśleniami\n",
    "kierunek = 'Bulbatologia'  # np. AiR  \n",
    "grupa = 'Bulbatolodzy'  # np. Grupa-11\n",
    "przedmiot = 'Bulbastyka'  # np. Algebra\n",
    "semestr = 'Sem 1'  # np. Semestr-1 \n",
    "kolokwium = 'Kol 2'  # np. Kolokwium nr 2\n",
    "data = '30 lutego 2024'  # tego już w nazwie pliku nie będzie\n",
    "kolor_odpowiedzi = 'blue'\n",
    "\n",
    "nazwa_pliku = f'{kierunek}-{grupa}-{przedmiot}-{semestr}-{kolokwium}'\n"
   ],
   "id": "d771398ed607d314",
   "outputs": [],
   "execution_count": 27
  },
  {
   "metadata": {
    "ExecuteTime": {
     "end_time": "2024-09-24T13:22:00.218746900Z",
     "start_time": "2024-09-18T10:18:34.960653Z"
    }
   },
   "cell_type": "code",
   "source": "nazwa_pliku",
   "id": "ad78cc4b08194d4a",
   "outputs": [
    {
     "data": {
      "text/plain": [
       "'Bulbatologia-Bulbatolodzy-Bulbastyka-Sem 1-Kol 2'"
      ]
     },
     "execution_count": 28,
     "metadata": {},
     "output_type": "execute_result"
    }
   ],
   "execution_count": 28
  },
  {
   "metadata": {},
   "cell_type": "markdown",
   "source": [
    "---\n",
    "\n",
    "## Generuj plik LaTeX z wybranych zadań"
   ],
   "id": "a0b7605ed4e08dfc"
  },
  {
   "metadata": {},
   "cell_type": "markdown",
   "source": [
    "```{admonition} Wskazówka\n",
    ":class: tip\n",
    "\n",
    "> Wynik jest gotową zawartością pliku LaTeX.\n",
    "> \n",
    "> W mybinder (interaktywna sesja) można skopiować.\n",
    "> \n",
    "> Kompilować dwukrotnie pdflatex.\n",
    "> \n",
    "> W przypadku zadań z obrazkami trzeba też je pobierać w odpowiednie miejsce.\n",
    "> \n",
    "> Lepiej po prostu wygenerować pdf poniżej.\n",
    "\n",
    "```"
   ],
   "id": "40a07fabed117e71"
  },
  {
   "metadata": {
    "ExecuteTime": {
     "end_time": "2024-09-24T13:22:00.219746800Z",
     "start_time": "2024-09-18T10:18:35.067474Z"
    }
   },
   "cell_type": "code",
   "source": [
    "# Wynik jest gotową zawartością pliku LaTeX. Można skopiować i wkleić. \n",
    "# Kompilować dwukrotnie pdflatex.\n",
    "LaTeX_source = gz.generuj_LaTeX(kierunek,\n",
    "                                grupa,\n",
    "                                przedmiot,\n",
    "                                semestr,\n",
    "                                kolokwium,\n",
    "                                data,\n",
    "                                kolor_odpowiedzi,\n",
    "                                zadanie_1, zadanie_2, zadanie_3, zadanie_4, zadanie_5)\n",
    "print(LaTeX_source)"
   ],
   "id": "3e909f0406dbf9b9",
   "outputs": [
    {
     "name": "stdout",
     "output_type": "stream",
     "text": [
      "% !TeX spellcheck = pl_PL-Polish\n",
      "\\documentclass[a4paper,12pt]{article}\n",
      "\\linespread{1.3} %odstepy miedzy liniami\n",
      "\\usepackage[a4paper, lmargin=2cm, rmargin=2cm, tmargin=2cm, bmargin=2cm]{geometry}\n",
      "\\usepackage{amsfonts}\n",
      "\\usepackage{amsmath}\n",
      "\\usepackage{color}\n",
      "\\usepackage{enumitem}\n",
      "\\usepackage{fancyhdr}\n",
      "\\usepackage{float}\n",
      "\\usepackage{graphicx}\n",
      "\\usepackage{ifthen}\n",
      "\\usepackage[utf8]{inputenc}\n",
      "\\usepackage{lmodern}\n",
      "\\usepackage{ocgx}\n",
      "\\usepackage{polski}\n",
      "\\usepackage{tcolorbox}\n",
      "\\tcbuselibrary{most}\n",
      "\\tcbuselibrary{skins}\n",
      "\\tcbuselibrary{raster}\n",
      "% brak - bez odpowiedzi i bez miejsca, white - bez odpowiedzi z miejscem, red = odpowiedzi ukryte ale dostepne\n",
      "\\newcommand{\\kolorodpowiedzi}{blue}\n",
      "\\renewcommand{\\footrulewidth}{0.4pt}% linia pozioma na końcu strony - default is 0pt\n",
      "\\DeclareFontShape{OMX}{cmex}{m}{n}\n",
      "    {<-7.5> cmex7\n",
      "    <7.5-8.5> cmex8\n",
      "    <8.5-9.5> cmex9\n",
      "    <9.5-> cmex10}{}\n",
      "\\DeclareSymbolFont{largesymbols}{OMX}{cmex}{m}{n}\n",
      "\n",
      "\n",
      "\\newcommand{\\ukryte}{1}  % domyślnie odpowiedzi są do pokazywania po kliknięciu\n",
      "\\ifthenelse{\\equal{\\kolorodpowiedzi}{red}}  % ukrywamy od pokazywania gdy kolor jest red\n",
      "\t{\\renewcommand{\\ukryte}{0}}{}\n",
      "\n",
      "\\newcommand{\\zOdpowiedziami}[3]{\n",
      "\t\\ifthenelse{\\equal{#1}{brak}}{}{\n",
      "\t\t\\ifthenelse{\\equal{#1}{white}}{\\vphantom{#3}}{\n",
      "\t\t\t\\switchocg{#2}{\\textcolor{\\kolorodpowiedzi}{\\\\Rozwiązanie: }}\n",
      "\t\t\t\t\\begin{ocg}{Warstwa odpowiedzi}{#2}{\\ukryte}\n",
      "\t\t\t\t\t\\textcolor{\\kolorodpowiedzi}{#3}\n",
      "\t\t\t\t\\end{ocg}}}}\n",
      "\n",
      "\\pdfinfo{/Author (https://generator-zadan.readthedocs.io)}\n",
      "\n",
      "\\begin{document}\n",
      "    \\pagestyle{fancy}\n",
      "    \\setlength{\\headheight}{27.29453pt}\n",
      "    \\fancyhead{}\n",
      "    \\fancyhead[L]{\\textbf{Bulbatologia\\\\Bulbastyka - Bulbatolodzy}}\n",
      "    \\fancyhead[R]{\\textbf{Kol 2\\\\ 30 lutego 2024}}\n",
      "    \\fancyfoot{}\n",
      "    \\fancyfoot[R]{\\tiny\\textbf{18 września 2024, 12:18}}\n",
      "%    \\hspace{1cm}\n",
      "    \\begin{enumerate}[label= \\textbf{Zadanie \\arabic*. }, leftmargin=1cm, align=left, itemsep=0pt]\n",
      "\t\t\\item Rozwiązać równanie w zbiorze liczb zespolonych.\\ Sprawdzić rozwiązanie.\n",
      "\t\t\t\\[\n",
      "\t\t\t\t-3 - 4i+\\left(6 - 4i\\right)z = \\left(4 - 5i\\right)z\n",
      "\t\t\t\\]\n",
      "\t\t\t\\zOdpowiedziami{\\kolorodpowiedzi}{ocg0}\n",
      "\t\t\t\t{$z=2 + i.$}\n",
      "\n",
      "\t\t\\item Rozwiązać równanie w zbiorze liczb zespolonych.\\ Sprawdzić jedno z rozwiązań.\n",
      "\t\t\t\\[\n",
      "\t\t\t\t\\left(1 - i\\right)z^2 + \\left(11 - 3 i\\right) z + \\left(22 + 4 i\\right)=0\n",
      "\t\t\t\\]\n",
      "\t\t\t\\zOdpowiedziami{\\kolorodpowiedzi}{ocg1}\n",
      "\t\t\t\t{$\\Delta = 8+6i, \\quad \\sqrt{\\Delta}=\\pm( 3 + i), \\quad z_{1}=-4 - 3 i, \\quad z_{2}=-3 - i$}\n",
      "\n",
      "\t\t\\item Wyznaczyć wszystkie zadane pierwiastki zespolone i zaznaczyć je na płaszczyźnie zespolonej\n",
      "\t\t\t\\[\n",
      "\t\t\t\t\\sqrt[\\leftroot{2}\\uproot{-4} \\displaystyle ^{4}]{\\left(- \\frac{8}{3} + \\frac{4 \\sqrt{6}}{3} + i \\left(\\frac{4 \\sqrt{2}}{3} + \\frac{8 \\sqrt{3}}{3}\\right) \\right) \\left(2 + \\sqrt{2} i \\right)}\n",
      "\t\t\t\\]\n",
      "\t\t\t\\zOdpowiedziami{\\kolorodpowiedzi}{ocg2}\n",
      "\t\t\t\t{$\\sqrt[\\leftroot{2}\\uproot{-4} \\displaystyle ^{4}]{-8 + 8 \\sqrt{3} i} = \\left\\{ -1 + \\sqrt{3} i, \\  1 - \\sqrt{3} i, \\  - \\sqrt{3} - i, \\  \\sqrt{3} + i\\right\\}.$}\n",
      "\n",
      "\t\t\\item Rozwiązać równanie w zbiorze liczb zespolonych\n",
      "\t\t\t\\[\n",
      "\t\t\t\tz^{2} + 4 \\overline{z} - 2 = 0\n",
      "\t\t\t\\]\n",
      "\t\t\t\\zOdpowiedziami{\\kolorodpowiedzi}{ocg3}\n",
      "\t\t\t\t{$4 x - 4 i y + \\left(x + i y\\right)^{2} - 2 = 0,$ \\\\ \n",
      "\t\t\t$x^{2} + 2 i x y + 4 x - y^{2} - 4 i y - 2 = 0,$\\\\\n",
      "\t\t\t$\\left\\{\n",
      "\t\t\t\t\\begin{array}{c}\n",
      "\t\t\t\t\tx^{2} + 4 x - y^{2} - 2 = 0\\\\\n",
      "\t\t\t\t\t2 x y - 4 y = 0\n",
      "\t\t\t\t\\end{array}\n",
      "\t\t\t\\right.$ \\\\\n",
      "\t\t\t$z = \\left[ \\left\\{ x : 2, \\  y : - \\sqrt{10}\\right\\}, \\  \\left\\{ x : 2, \\  y : \\sqrt{10}\\right\\}, \\  \\left\\{ x : -2 + \\sqrt{6}, \\  y : 0\\right\\}, \\  \\left\\{ x : - \\sqrt{6} - 2, \\  y : 0\\right\\}\\right].$}\n",
      "\n",
      "\t\t\\item Zaznaczyć na płaszczyźnie zespolonej obszar spełniający warunek\n",
      "\t\t\t\\[\n",
      "\t\t\t\t\\left|z+1 - 2 i\\right|  \\leq \\sqrt{2}\n",
      "\t\t\t\\]\n",
      "\t\t\t\\zOdpowiedziami{\\kolorodpowiedzi}{ocg4}\n",
      "\t\t\t\t{\t\\begin{tabular}{p{0.4\\textwidth}p{0.3\\textwidth}}\n",
      "\t\t\t\t\\begin{gather*}\n",
      "\t\t\t\t\t\\left(x + 1\\right)^{2} + \\left(y - 2\\right)^{2}\\leq2\n",
      "\t\t\t\t\\end{gather*}\t\t\n",
      "\t\t\t\t&\n",
      "\t\t\t\t\t\\raisebox{-2.8cm}{\\resizebox{4cm}{!}{\\includegraphics{../pics/obszar0}}}\n",
      "\t\t\t\t\\end{tabular}\n",
      "\t\t\t}\n",
      "\n",
      "    \\end{enumerate}\n",
      "\\end{document}\n"
     ]
    }
   ],
   "execution_count": 29
  },
  {
   "metadata": {},
   "cell_type": "markdown",
   "source": [
    "```{admonition} Wskazówka\n",
    ":class: tip\n",
    "\n",
    "Poniżej można zapisać gotowy plik na dysku. Można go edytować.  \n",
    "W mybinder można go pobrać w menu po lewej stronie z katalogu wygenerowane. \n",
    "Kompilować dwukrotnie.\n",
    "\n",
    "```"
   ],
   "id": "90c5ffcb997a03dc"
  },
  {
   "metadata": {
    "ExecuteTime": {
     "end_time": "2024-09-24T13:22:00.219746800Z",
     "start_time": "2024-09-18T10:18:35.268993Z"
    }
   },
   "cell_type": "code",
   "source": [
    "if not os.path.exists('wygenerowane'):\n",
    "    os.makedirs('wygenerowane')\n",
    "    print(\" ! Tworzę katalog wygenerowane \", file=sys.stderr)\n",
    "with open(f'./wygenerowane/{nazwa_pliku}.tex', 'w',\n",
    "          encoding='utf-8') as LaTeX_file:\n",
    "    print(LaTeX_source, file=LaTeX_file)"
   ],
   "id": "b0d3947f4938122d",
   "outputs": [],
   "execution_count": 30
  },
  {
   "metadata": {},
   "cell_type": "markdown",
   "source": [
    "---\n",
    "\n",
    "## Generuj plik Pdf z pliku Latex"
   ],
   "id": "5654250ece733965"
  },
  {
   "metadata": {},
   "cell_type": "markdown",
   "source": [
    "\n",
    "```{admonition} Wskazówka\n",
    ":class: tip\n",
    "\n",
    "Można wygenerować gotowego pdf-a.\n",
    " \n",
    "W mybinder (interaktywna sesja) plik pdf jest w menu po lewej. Można pobrać. \n",
    "W mybinder wszystkie pakiety LaTeX-a są zainstalowane. U siebie pewnie trzeba będzie coś doinstalować. \n",
    "\n",
    "Kompilacja wykonuje się dwukrotnie.\n",
    "\n",
    "```\n",
    "\n",
    "```{admonition} Uwaga\n",
    ":class: attention\n",
    "Przy ponownej kompilacji online pliku z taką samą nazwą podgląd pdf-a w przeglądarce może pokazywać poprzednią wersję. \n",
    "\n",
    "Trzeba wygenerowanego pdf-a pobrać na dysk lokalny i tam go oglądać.\n",
    "Albo podejrzeć niżej pdf-a przetworzonego na jpg.\n",
    "```\n"
   ],
   "id": "b129b40b982120cc"
  },
  {
   "metadata": {
    "ExecuteTime": {
     "end_time": "2024-09-24T13:22:00.219746800Z",
     "start_time": "2024-09-18T10:18:35.322383Z"
    }
   },
   "cell_type": "code",
   "source": [
    "import subprocess\n",
    "\n",
    "for i in range(2):\n",
    "    result = subprocess.run(\n",
    "        'cd wygenerowane && pdflatex \"' + f'{nazwa_pliku}' + '\".tex',\n",
    "        capture_output=True,\n",
    "        shell=True)\n",
    "\n",
    "# w razie problemów poniżej można zobaczyć komunikaty\n",
    "# trzeba odkomentować \n",
    "\n",
    "# for i in str(result).split(', '):\n",
    "#     print(i.replace('\\\\n', '\\n'))"
   ],
   "id": "86469940cc43c2f4",
   "outputs": [],
   "execution_count": 31
  },
  {
   "metadata": {},
   "cell_type": "markdown",
   "source": [
    "```{admonition} Uwaga\n",
    ":class: attention\n",
    "\n",
    "To co widać niżej to jest obraz stworzony z pdf-a.\n",
    "Kolor odpowiedzi jest 'blue' - czyli widoczne, do ukrycia po kliknięciu (w pliku pdf).\n",
    "Kolor można zmieniać w pliku tex. \n",
    "\n",
    "Widoczna jest tylko pierwsza strona. \n",
    "\n",
    "```"
   ],
   "id": "85028946c1b64a27"
  },
  {
   "metadata": {
    "ExecuteTime": {
     "end_time": "2024-09-24T13:22:00.219746800Z",
     "start_time": "2024-09-18T10:18:38.785394Z"
    }
   },
   "cell_type": "code",
   "source": [
    "image = convert_from_path(f'wygenerowane/{nazwa_pliku}.pdf')\n",
    "image[0].save(f'wygenerowane/{nazwa_pliku}.png')\n",
    "display(Image(f'wygenerowane/{nazwa_pliku}.png', width=300))"
   ],
   "id": "763e92f1aeb5b4cb",
   "outputs": [
    {
     "data": {
      "image/png": "[encoded data removed]",
      "text/plain": [
       "<IPython.core.display.Image object>"
      ]
     },
     "metadata": {
      "image/png": {
       "width": 300
      }
     },
     "output_type": "display_data"
    }
   ],
   "execution_count": 32
  },
  {
   "metadata": {
    "ExecuteTime": {
     "end_time": "2024-09-24T13:22:00.262653Z",
     "start_time": "2024-09-18T10:18:40.291700Z"
    }
   },
   "cell_type": "code",
   "source": "",
   "id": "d2eb5a6ee2c09a62",
   "outputs": [],
   "execution_count": null
  }
 ],
 "metadata": {
  "kernelspec": {
   "display_name": "Python 3",
   "language": "python",
   "name": "python3"
  },
  "language_info": {
   "codemirror_mode": {
    "name": "ipython",
    "version": 2
   },
   "file_extension": ".py",
   "mimetype": "text/x-python",
   "name": "python",
   "nbconvert_exporter": "python",
   "pygments_lexer": "ipython2",
   "version": "2.7.6"
  }
 },
 "nbformat": 4,
 "nbformat_minor": 5
}
