{
 "cells": [
  {
   "metadata": {},
   "cell_type": "markdown",
   "source": "# Generuj zestaw zadań",
   "id": "e6685f821bf3b135"
  },
  {
   "metadata": {},
   "cell_type": "markdown",
   "source": "[![Binder](https://mybinder.org/badge_logo.svg)](https://mybinder.org/v2/gh/DyonOylloug/generator_zadan/HEAD?labpath=docs%2Fgeneruj_zestaw.ipynb) - interaktywna sesja notebooka",
   "id": "ca8a7b6043e294a0"
  },
  {
   "metadata": {
    "ExecuteTime": {
     "end_time": "2024-09-13T20:19:25.808884Z",
     "start_time": "2024-09-13T20:19:25.804582Z"
    }
   },
   "cell_type": "code",
   "source": [
    "import os\n",
    "from random import choice\n",
    "\n",
    "from IPython.display import display, Markdown, Latex\n",
    "\n",
    "import generator_zadan.generatory as gz"
   ],
   "id": "e09fa3157fc76075",
   "outputs": [],
   "execution_count": 9
  },
  {
   "metadata": {},
   "cell_type": "markdown",
   "source": [
    "## Wybierz zadania\n",
    "\n",
    "\n",
    "__`Można komórki uruchamiać wielokrotnie. Aż się trafi ciekawe.`__\n",
    "\n",
    "\n",
    "Zmień __`zadanie_nr`__ na odpowiednio rozróżnialne __`zadanie_1`__,  __`zadanie_2`__ itp.\n",
    "\n",
    "Te będą potem przekazywane do funkcji generującej zestaw \n"
   ],
   "id": "92a5e20e31055a8b"
  },
  {
   "metadata": {},
   "cell_type": "markdown",
   "source": "### Liczby zespolone",
   "id": "200f7a6af031672a"
  },
  {
   "metadata": {
    "ExecuteTime": {
     "end_time": "2024-09-13T20:19:25.895574Z",
     "start_time": "2024-09-13T20:19:25.830876Z"
    }
   },
   "cell_type": "code",
   "source": [
    "zadanie = gz.rownanie_liniowe()\n",
    "print(f\"\\033[34m** Zadanie **\" + '*' * 82 + '\\033[0m')\n",
    "display(Markdown(zadanie[0].split('\\n')[0].replace('\\\\', '')))\n",
    "display(Latex('$$' + zadanie[0].split('\\n')[2] + '$$'))\n",
    "print(\"\\033[32m** Rozwiązanie **\" + '*' * 78 + '\\033[0m')\n",
    "display(Latex('$' + zadanie[1] + '$'))\n",
    "zadanie_1 = zadanie"
   ],
   "id": "5449b3729c720f05",
   "outputs": [
    {
     "name": "stdout",
     "output_type": "stream",
     "text": [
      "\u001B[34m** Zadanie ************************************************************************************\u001B[0m\n"
     ]
    },
    {
     "data": {
      "text/plain": [
       "<IPython.core.display.Markdown object>"
      ],
      "text/markdown": "Rozwiązać równanie w zbiorze liczb zespolonych. Sprawdzić rozwiązanie."
     },
     "metadata": {},
     "output_type": "display_data"
    },
    {
     "data": {
      "text/plain": [
       "<IPython.core.display.Latex object>"
      ],
      "text/latex": "$$\t\t-6 + 8i+\\left(5 - 6i\\right)z = \\left(8 - 5i\\right)z$$"
     },
     "metadata": {},
     "output_type": "display_data"
    },
    {
     "name": "stdout",
     "output_type": "stream",
     "text": [
      "\u001B[32m** Rozwiązanie ********************************************************************************\u001B[0m\n"
     ]
    },
    {
     "data": {
      "text/plain": [
       "<IPython.core.display.Latex object>"
      ],
      "text/latex": "$$z=-1 + 3i.$$"
     },
     "metadata": {},
     "output_type": "display_data"
    }
   ],
   "execution_count": 10
  },
  {
   "metadata": {
    "ExecuteTime": {
     "end_time": "2024-09-13T20:19:26.553522Z",
     "start_time": "2024-09-13T20:19:25.959311Z"
    }
   },
   "cell_type": "code",
   "source": [
    "zadanie = gz.rownanie_kwadratowe()\n",
    "print(f\"\\033[34m** Zadanie **\" + '*' * 82 + '\\033[0m')\n",
    "display(Markdown(zadanie[0].split('\\n')[0].replace('\\\\', '')))\n",
    "display(Latex('$$' + zadanie[0].split('\\n')[2] + '$$'))\n",
    "print(\"\\033[32m** Rozwiązanie **\" + '*' * 78 + '\\033[0m')\n",
    "display(Latex('$' + zadanie[1] + '$'))\n",
    "zadanie_2 = zadanie"
   ],
   "id": "63ea204b35f34245",
   "outputs": [
    {
     "name": "stdout",
     "output_type": "stream",
     "text": [
      "\u001B[34m** Zadanie ************************************************************************************\u001B[0m\n"
     ]
    },
    {
     "data": {
      "text/plain": [
       "<IPython.core.display.Markdown object>"
      ],
      "text/markdown": "Rozwiązać równanie w zbiorze liczb zespolonych. Sprawdzić jedno z rozwiązań."
     },
     "metadata": {},
     "output_type": "display_data"
    },
    {
     "data": {
      "text/plain": [
       "<IPython.core.display.Latex object>"
      ],
      "text/latex": "$$\t\t\\left(2 - i\\right)z^2 + \\left(-14 - 3 i\\right) z + \\left(14 + 18 i\\right)=0$$"
     },
     "metadata": {},
     "output_type": "display_data"
    },
    {
     "name": "stdout",
     "output_type": "stream",
     "text": [
      "\u001B[32m** Rozwiązanie ********************************************************************************\u001B[0m\n"
     ]
    },
    {
     "data": {
      "text/plain": [
       "<IPython.core.display.Latex object>"
      ],
      "text/latex": "$$\\Delta = 3-4i, \\quad \\sqrt{\\Delta}=\\pm( 2 - i), \\quad z_{1}=2 + 2 i, \\quad z_{2}=3 + 2 i$$"
     },
     "metadata": {},
     "output_type": "display_data"
    }
   ],
   "execution_count": 11
  },
  {
   "metadata": {
    "ExecuteTime": {
     "end_time": "2024-09-13T20:19:26.643930Z",
     "start_time": "2024-09-13T20:19:26.599852Z"
    }
   },
   "cell_type": "code",
   "source": [
    "zadanie = gz.pierwiastek_zespolony(stopien=choice([3, 4]))\n",
    "print(f\"\\033[34m** Zadanie **\" + '*' * 82 + '\\033[0m')\n",
    "display(Markdown(zadanie[0].split('\\n')[0].replace('\\\\', '')))\n",
    "display(Latex('$$' + zadanie[0].split('\\n')[2] + '$$'))\n",
    "print(\"\\033[32m** Rozwiązanie **\" + '*' * 78 + '\\033[0m')\n",
    "display(Latex('$' + zadanie[1] + '$'))\n",
    "zadanie_3 = zadanie"
   ],
   "id": "9474837fa71f3d66",
   "outputs": [
    {
     "name": "stdout",
     "output_type": "stream",
     "text": [
      "\u001B[34m** Zadanie ************************************************************************************\u001B[0m\n"
     ]
    },
    {
     "data": {
      "text/plain": [
       "<IPython.core.display.Markdown object>"
      ],
      "text/markdown": "Wyznaczyć wszystkie zadane pierwiastki zespolone i zaznaczyć je na płaszczyźnie zespolonej"
     },
     "metadata": {},
     "output_type": "display_data"
    },
    {
     "data": {
      "text/plain": [
       "<IPython.core.display.Latex object>"
      ],
      "text/latex": "$$\t\t\\sqrt[\\leftroot{2}\\uproot{-4} \\displaystyle ^{3}]{\\left(1 - \\sqrt{2} i \\right) \\left(9 \\sqrt{2} - 9 i \\right)}$$"
     },
     "metadata": {},
     "output_type": "display_data"
    },
    {
     "name": "stdout",
     "output_type": "stream",
     "text": [
      "\u001B[32m** Rozwiązanie ********************************************************************************\u001B[0m\n"
     ]
    },
    {
     "data": {
      "text/plain": [
       "<IPython.core.display.Latex object>"
      ],
      "text/latex": "$$\\sqrt[\\leftroot{2}\\uproot{-4} \\displaystyle ^{3}]{- 27 i} = \\left\\{ 3 i, \\  - \\frac{3 \\sqrt{3}}{2} - \\frac{3 i}{2}, \\  \\frac{3 \\sqrt{3}}{2} - \\frac{3 i}{2}\\right\\}.$$"
     },
     "metadata": {},
     "output_type": "display_data"
    }
   ],
   "execution_count": 12
  },
  {
   "metadata": {
    "ExecuteTime": {
     "end_time": "2024-09-13T20:19:26.841860Z",
     "start_time": "2024-09-13T20:19:26.688091Z"
    }
   },
   "cell_type": "code",
   "source": [
    "zadanie = gz.rownanie_ze_sprzezeniem(calkowite=choice([False, True]), kwadratowe=choice([False, True]))\n",
    "print(f\"\\033[34m** Zadanie **\" + '*' * 82 + '\\033[0m')\n",
    "display(Markdown(zadanie[0].split('\\n')[0].replace('\\\\', '')))\n",
    "display(Latex('$$' + zadanie[0].split('\\n')[2] + '$$'))\n",
    "print(\"\\033[32m** Rozwiązanie **\" + '*' * 78 + '\\033[0m')\n",
    "rozwiazanie = zadanie[1].replace('$ \\\\\\\\ \\n$', ' $ ').replace('$\\\\\\\\\\n$', ' $ ').replace('$ \\\\\\\\\\n$', ' $ ').split('$')\n",
    "for i in range(1, len(rozwiazanie) - 1):\n",
    "    display(Latex('$$' + rozwiazanie[i] + '$$'))\n",
    "zadanie_4 = zadanie"
   ],
   "id": "fed64507b29eaad3",
   "outputs": [
    {
     "name": "stdout",
     "output_type": "stream",
     "text": [
      "\u001B[34m** Zadanie ************************************************************************************\u001B[0m\n"
     ]
    },
    {
     "data": {
      "text/plain": [
       "<IPython.core.display.Markdown object>"
      ],
      "text/markdown": "Rozwiązać równanie w zbiorze liczb zespolonych"
     },
     "metadata": {},
     "output_type": "display_data"
    },
    {
     "data": {
      "text/plain": [
       "<IPython.core.display.Latex object>"
      ],
      "text/latex": "$$\t\tz \\left(-4 - 2 i\\right) + \\left(3 + 4 i\\right) \\overline{z} - 3 + i = 0$$"
     },
     "metadata": {},
     "output_type": "display_data"
    },
    {
     "name": "stdout",
     "output_type": "stream",
     "text": [
      "\u001B[32m** Rozwiązanie ********************************************************************************\u001B[0m\n"
     ]
    },
    {
     "data": {
      "text/plain": [
       "<IPython.core.display.Latex object>"
      ],
      "text/latex": "$$\\left(3 + 4 i\\right) \\left(x - i y\\right) + \\left(-4 - 2 i\\right) \\left(x + i y\\right) - 3 + i = 0, $$"
     },
     "metadata": {},
     "output_type": "display_data"
    },
    {
     "data": {
      "text/plain": [
       "<IPython.core.display.Latex object>"
      ],
      "text/latex": "$$ \\left(-1 + 2 i\\right) \\left(x + y \\left(-4 - i\\right) + 1 + i\\right) = 0, $$"
     },
     "metadata": {},
     "output_type": "display_data"
    },
    {
     "data": {
      "text/plain": [
       "<IPython.core.display.Latex object>"
      ],
      "text/latex": "$$ \\left\\{\n\t\\begin{array}{c}\n\t\t- x + 6 y - 3 = 0\\\\\n\t\t2 x - 7 y + 1 = 0\n\t\\end{array}\n\\right. $$"
     },
     "metadata": {},
     "output_type": "display_data"
    },
    {
     "data": {
      "text/plain": [
       "<IPython.core.display.Latex object>"
      ],
      "text/latex": "$$ z = \\left\\{ x : 3, \\  y : 1\\right\\}.$$"
     },
     "metadata": {},
     "output_type": "display_data"
    }
   ],
   "execution_count": 13
  },
  {
   "metadata": {},
   "cell_type": "markdown",
   "source": "## Ustaw nazwy",
   "id": "521cc21f07383cf6"
  },
  {
   "metadata": {
    "ExecuteTime": {
     "end_time": "2024-09-13T20:19:26.918529Z",
     "start_time": "2024-09-13T20:19:26.913047Z"
    }
   },
   "cell_type": "code",
   "source": [
    "kierunek = 'KIERUNEK'  # bez podkreśleń !!! bo są błędy w kompilacji z podkreślniemia w nagłówku\n",
    "grupa = 'GRUPA'  # Grupa 11\n",
    "przedmiot = 'PRZEDMIOT'  # Matematyka Algebra\n",
    "semestr = 'SEMESTR'  # Semestr 1 \n",
    "kolokwium = 'NR1'  # Kolokwium nr 2\n",
    "data = '25 maja 2024'  # w stylu: 01 grudnia 2022 - będzie w nagłówku wydruku\n",
    "kolor_odpowiedzi = 'blue'  # 'white' - ukrywa ale zostawia miejsce, 'brak' - ukrywa i chowa miejsce"
   ],
   "id": "d771398ed607d314",
   "outputs": [],
   "execution_count": 14
  },
  {
   "metadata": {},
   "cell_type": "markdown",
   "source": "## Generuj plik LaTeX z wybranych zadań",
   "id": "40a07fabed117e71"
  },
  {
   "metadata": {
    "ExecuteTime": {
     "end_time": "2024-09-13T20:19:26.948352Z",
     "start_time": "2024-09-13T20:19:26.940028Z"
    }
   },
   "cell_type": "code",
   "source": [
    "# To co wyjdzie jest gotową zawartością pliku LaTeX. Można skopiować i wkleić. \n",
    "# Kompilować dwukrotnie pdflatex.\n",
    "LaTeX_source = gz.generuj_LaTeX(kierunek,\n",
    "                       grupa,\n",
    "                       przedmiot,\n",
    "                       semestr,\n",
    "                       kolokwium,\n",
    "                       data,\n",
    "                       kolor_odpowiedzi,\n",
    "                       zadanie_1, zadanie_2, zadanie_3, zadanie_4)\n",
    "print(LaTeX_source)"
   ],
   "id": "3e909f0406dbf9b9",
   "outputs": [
    {
     "name": "stdout",
     "output_type": "stream",
     "text": [
      "% !TeX spellcheck = pl_PL-Polish\n",
      "\\documentclass[a4paper,12pt]{article}\n",
      "\\linespread{1.3} %odstepy miedzy liniami\n",
      "\\usepackage[a4paper, lmargin=2cm, rmargin=2cm, tmargin=2cm, bmargin=2cm]{geometry}\n",
      "\\usepackage{amsfonts}\n",
      "\\usepackage{amsmath}\n",
      "\\usepackage{color}\n",
      "\\usepackage{enumitem}\n",
      "\\usepackage{fancyhdr}\n",
      "\\usepackage{float}\n",
      "\\usepackage{graphicx}\n",
      "\\usepackage{ifthen}\n",
      "\\usepackage[utf8]{inputenc}\n",
      "\\usepackage{lmodern}\n",
      "\\usepackage{ocgx}\n",
      "\\usepackage{polski}\n",
      "\\usepackage{tcolorbox}\n",
      "\\tcbuselibrary{most}\n",
      "\\tcbuselibrary{skins}\n",
      "\\tcbuselibrary{raster}\n",
      "% brak - bez odpowiedzi i bez miejsca, white - bez odpowiedzi z miejscem, red = odpowiedzi ukryte ale dostepne\n",
      "\\newcommand{\\kolorodpowiedzi}{blue}\n",
      "\\renewcommand{\\footrulewidth}{0.4pt}% linia pozioma na końcu strony - default is 0pt\n",
      "\\DeclareFontShape{OMX}{cmex}{m}{n}\n",
      "    {<-7.5> cmex7\n",
      "    <7.5-8.5> cmex8\n",
      "    <8.5-9.5> cmex9\n",
      "    <9.5-> cmex10}{}\n",
      "\\DeclareSymbolFont{largesymbols}{OMX}{cmex}{m}{n}\n",
      "\n",
      "\n",
      "\\newcommand{\\ukryte}{1}  % domyślnie odpowiedzi są do pokazywania po kliknięciu\n",
      "\\ifthenelse{\\equal{\\kolorodpowiedzi}{red}}  % ukrywamy od pokazywania gdy kolor jest red\n",
      "\t{\\renewcommand{\\ukryte}{0}}{}\n",
      "\n",
      "\\newcommand{\\zOdpowiedziami}[3]{\n",
      "\t\\ifthenelse{\\equal{#1}{brak}}{}{\n",
      "\t\t\\ifthenelse{\\equal{#1}{white}}{\\vphantom{#3}}{\n",
      "\t\t\t\\switchocg{#2}{\\textcolor{\\kolorodpowiedzi}{\\\\Rozwiązanie: }}\n",
      "\t\t\t\t\\begin{ocg}{Warstwa odpowiedzi}{#2}{\\ukryte}\n",
      "\t\t\t\t\t\\textcolor{\\kolorodpowiedzi}{#3}\n",
      "\t\t\t\t\\end{ocg}}}}\n",
      "\n",
      "\\begin{document}\n",
      "    \\pagestyle{fancy}\n",
      "    \\setlength{\\headheight}{27.29453pt}\n",
      "    \\fancyhead{}\n",
      "    \\fancyhead[L]{\\textbf{KIERUNEK\\\\PRZEDMIOT - GRUPA}}\n",
      "    \\fancyhead[R]{\\textbf{NR1\\\\ 25 maja 2024}}\n",
      "    \\fancyfoot{}\n",
      "    \\fancyfoot[R]{\\tiny\\textbf{13 września 2024, 22:19}}\n",
      "%    \\hspace{1cm}\n",
      "    \\begin{enumerate}[label= \\textbf{Zadanie \\arabic*. }, leftmargin=1cm, align=left, itemsep=0pt]\n",
      "\t\t\\item Rozwiązać równanie w zbiorze liczb zespolonych.\\ Sprawdzić rozwiązanie.\n",
      "\t\t\t\\[\n",
      "\t\t\t\t-6 + 8i+\\left(5 - 6i\\right)z = \\left(8 - 5i\\right)z\n",
      "\t\t\t\\]\n",
      "\t\t\t\\zOdpowiedziami{\\kolorodpowiedzi}{ocg0}\n",
      "\t\t\t\t{$z=-1 + 3i.$}\n",
      "\n",
      "\t\t\\item Rozwiązać równanie w zbiorze liczb zespolonych.\\ Sprawdzić jedno z rozwiązań.\n",
      "\t\t\t\\[\n",
      "\t\t\t\t\\left(2 - i\\right)z^2 + \\left(-14 - 3 i\\right) z + \\left(14 + 18 i\\right)=0\n",
      "\t\t\t\\]\n",
      "\t\t\t\\zOdpowiedziami{\\kolorodpowiedzi}{ocg1}\n",
      "\t\t\t\t{$\\Delta = 3-4i, \\quad \\sqrt{\\Delta}=\\pm( 2 - i), \\quad z_{1}=2 + 2 i, \\quad z_{2}=3 + 2 i$}\n",
      "\n",
      "\t\t\\item Wyznaczyć wszystkie zadane pierwiastki zespolone i zaznaczyć je na płaszczyźnie zespolonej\n",
      "\t\t\t\\[\n",
      "\t\t\t\t\\sqrt[\\leftroot{2}\\uproot{-4} \\displaystyle ^{3}]{\\left(1 - \\sqrt{2} i \\right) \\left(9 \\sqrt{2} - 9 i \\right)}\n",
      "\t\t\t\\]\n",
      "\t\t\t\\zOdpowiedziami{\\kolorodpowiedzi}{ocg2}\n",
      "\t\t\t\t{$\\sqrt[\\leftroot{2}\\uproot{-4} \\displaystyle ^{3}]{- 27 i} = \\left\\{ 3 i, \\  - \\frac{3 \\sqrt{3}}{2} - \\frac{3 i}{2}, \\  \\frac{3 \\sqrt{3}}{2} - \\frac{3 i}{2}\\right\\}.$}\n",
      "\n",
      "\t\t\\item Rozwiązać równanie w zbiorze liczb zespolonych\n",
      "\t\t\t\\[\n",
      "\t\t\t\tz \\left(-4 - 2 i\\right) + \\left(3 + 4 i\\right) \\overline{z} - 3 + i = 0\n",
      "\t\t\t\\]\n",
      "\t\t\t\\zOdpowiedziami{\\kolorodpowiedzi}{ocg3}\n",
      "\t\t\t\t{$\\left(3 + 4 i\\right) \\left(x - i y\\right) + \\left(-4 - 2 i\\right) \\left(x + i y\\right) - 3 + i = 0,$ \\\\ \n",
      "\t\t\t$\\left(-1 + 2 i\\right) \\left(x + y \\left(-4 - i\\right) + 1 + i\\right) = 0,$\\\\\n",
      "\t\t\t$\\left\\{\n",
      "\t\t\t\t\\begin{array}{c}\n",
      "\t\t\t\t\t- x + 6 y - 3 = 0\\\\\n",
      "\t\t\t\t\t2 x - 7 y + 1 = 0\n",
      "\t\t\t\t\\end{array}\n",
      "\t\t\t\\right.$ \\\\\n",
      "\t\t\t$z = \\left\\{ x : 3, \\  y : 1\\right\\}.$}\n",
      "\n",
      "    \\end{enumerate}\n",
      "\\end{document}\n"
     ]
    }
   ],
   "execution_count": 15
  },
  {
   "metadata": {
    "ExecuteTime": {
     "end_time": "2024-09-13T20:19:27.057757Z",
     "start_time": "2024-09-13T20:19:27.050037Z"
    }
   },
   "cell_type": "code",
   "source": [
    "# A tu jest gotowy plik. W mybinder można go pobrać w menu po lewej stronie z katalogu wygenerowane. \n",
    "# Kompilować dwukrotnie.\n",
    "if not os.path.exists('wygenerowane'):\n",
    "    os.makedirs('wygenerowane')\n",
    "    print(\" ! Tworzę katalog wygenerowane \", file=sys.stderr)\n",
    "with open(f'./wygenerowane/{kierunek}-{grupa}-{przedmiot}-{semestr}-{kolokwium}.tex', 'w',\n",
    "          encoding='utf-8') as LaTeX_file:\n",
    "    print(LaTeX_source, file=LaTeX_file)"
   ],
   "id": "b0d3947f4938122d",
   "outputs": [],
   "execution_count": 16
  },
  {
   "metadata": {
    "ExecuteTime": {
     "end_time": "2024-09-13T20:19:27.095140Z",
     "start_time": "2024-09-13T20:19:27.091729Z"
    }
   },
   "cell_type": "code",
   "source": "",
   "id": "a0633783fe5bee92",
   "outputs": [],
   "execution_count": null
  }
 ],
 "metadata": {
  "kernelspec": {
   "display_name": "Python 3",
   "language": "python",
   "name": "python3"
  },
  "language_info": {
   "codemirror_mode": {
    "name": "ipython",
    "version": 2
   },
   "file_extension": ".py",
   "mimetype": "text/x-python",
   "name": "python",
   "nbconvert_exporter": "python",
   "pygments_lexer": "ipython2",
   "version": "2.7.6"
  }
 },
 "nbformat": 4,
 "nbformat_minor": 5
}
