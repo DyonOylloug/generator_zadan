{
 "cells": [
  {
   "metadata": {},
   "cell_type": "markdown",
   "source": "# Geometria analityczna",
   "id": "9da5cd5565042dec"
  },
  {
   "cell_type": "code",
   "id": "initial_id",
   "metadata": {
    "collapsed": true,
    "ExecuteTime": {
     "end_time": "2024-09-15T18:29:09.893164Z",
     "start_time": "2024-09-15T18:29:09.888301Z"
    }
   },
   "source": [
    "from random import choice\n",
    "\n",
    "from IPython.display import display, Markdown, Latex\n",
    "\n",
    "import generator_zadan.generatory as gz\n",
    "\n",
    "print(gz.__version__)"
   ],
   "outputs": [
    {
     "name": "stdout",
     "output_type": "stream",
     "text": [
      "0.2.1\n"
     ]
    }
   ],
   "execution_count": 122
  },
  {
   "metadata": {},
   "cell_type": "markdown",
   "source": "[![Binder](https://mybinder.org/badge_logo.svg)](https://mybinder.org/v2/gh/DyonOylloug/generator_zadan/HEAD?labpath=docs%2Fgeometria_analityczna.ipynb) - interaktywna sesja notebooka",
   "id": "5fe9140df8e4872e"
  },
  {
   "metadata": {
    "ExecuteTime": {
     "end_time": "2024-09-15T18:29:10.074771Z",
     "start_time": "2024-09-15T18:29:10.069807Z"
    }
   },
   "cell_type": "code",
   "source": "ile_zadan_przykladowych = 10",
   "id": "570eb1960fbc1e12",
   "outputs": [],
   "execution_count": 123
  },
  {
   "metadata": {},
   "cell_type": "markdown",
   "source": "## Równanie prostej w R^3",
   "id": "c2ba2ed07cb8b3cd"
  },
  {
   "metadata": {
    "ExecuteTime": {
     "end_time": "2024-09-15T18:29:10.276191Z",
     "start_time": "2024-09-15T18:29:10.127862Z"
    }
   },
   "cell_type": "code",
   "source": [
    "zadanie = gz.rownanie_prostej()\n",
    "zadanie"
   ],
   "id": "1b919afbe57f554b",
   "outputs": [
    {
     "data": {
      "text/plain": [
       "('Wyznaczyć równanie prostej przechodzącej przez punkty\\n\\t\\\\[\\n\\t\\tP_1 = (4, 2, -2), \\\\quad P_2 = (3, -1, 5).\\n\\t\\\\]\\n\\tObliczyć odległość wyznaczonej prostej od punktu\\n\\t\\\\[\\n\\t\\tP_3 = (4, 2, -2).\\n\\t\\\\]',\n",
       " '$l\\\\colon  \\\\frac{x - 4}{-1}= \\\\frac{y - 2}{-3}= \\\\frac{z + 2}{7}; \\\\qquad d(P_3,l) = 0$')"
      ]
     },
     "execution_count": 124,
     "metadata": {},
     "output_type": "execute_result"
    }
   ],
   "execution_count": 124
  },
  {
   "metadata": {
    "ExecuteTime": {
     "end_time": "2024-09-15T18:29:10.375662Z",
     "start_time": "2024-09-15T18:29:10.368771Z"
    }
   },
   "cell_type": "code",
   "source": [
    "print(\"\\033[34m** Zadanie **\" + '*' * 81 + '\\033[0m')\n",
    "print(zadanie[0])\n",
    "print(\"\\033[34m*\\033[0m\" * 95)\n",
    "print(\"\\033[32m** Rozwiązanie **\" + '*' * 78 + '\\033[0m')\n",
    "print(zadanie[1])\n",
    "print(\"\\033[32m*\\033[0m\" * 95)"
   ],
   "id": "17a5000417933a89",
   "outputs": [
    {
     "name": "stdout",
     "output_type": "stream",
     "text": [
      "\u001B[34m** Zadanie ***********************************************************************************\u001B[0m\n",
      "Wyznaczyć równanie prostej przechodzącej przez punkty\n",
      "\t\\[\n",
      "\t\tP_1 = (4, 2, -2), \\quad P_2 = (3, -1, 5).\n",
      "\t\\]\n",
      "\tObliczyć odległość wyznaczonej prostej od punktu\n",
      "\t\\[\n",
      "\t\tP_3 = (4, 2, -2).\n",
      "\t\\]\n",
      "\u001B[34m*\u001B[0m\u001B[34m*\u001B[0m\u001B[34m*\u001B[0m\u001B[34m*\u001B[0m\u001B[34m*\u001B[0m\u001B[34m*\u001B[0m\u001B[34m*\u001B[0m\u001B[34m*\u001B[0m\u001B[34m*\u001B[0m\u001B[34m*\u001B[0m\u001B[34m*\u001B[0m\u001B[34m*\u001B[0m\u001B[34m*\u001B[0m\u001B[34m*\u001B[0m\u001B[34m*\u001B[0m\u001B[34m*\u001B[0m\u001B[34m*\u001B[0m\u001B[34m*\u001B[0m\u001B[34m*\u001B[0m\u001B[34m*\u001B[0m\u001B[34m*\u001B[0m\u001B[34m*\u001B[0m\u001B[34m*\u001B[0m\u001B[34m*\u001B[0m\u001B[34m*\u001B[0m\u001B[34m*\u001B[0m\u001B[34m*\u001B[0m\u001B[34m*\u001B[0m\u001B[34m*\u001B[0m\u001B[34m*\u001B[0m\u001B[34m*\u001B[0m\u001B[34m*\u001B[0m\u001B[34m*\u001B[0m\u001B[34m*\u001B[0m\u001B[34m*\u001B[0m\u001B[34m*\u001B[0m\u001B[34m*\u001B[0m\u001B[34m*\u001B[0m\u001B[34m*\u001B[0m\u001B[34m*\u001B[0m\u001B[34m*\u001B[0m\u001B[34m*\u001B[0m\u001B[34m*\u001B[0m\u001B[34m*\u001B[0m\u001B[34m*\u001B[0m\u001B[34m*\u001B[0m\u001B[34m*\u001B[0m\u001B[34m*\u001B[0m\u001B[34m*\u001B[0m\u001B[34m*\u001B[0m\u001B[34m*\u001B[0m\u001B[34m*\u001B[0m\u001B[34m*\u001B[0m\u001B[34m*\u001B[0m\u001B[34m*\u001B[0m\u001B[34m*\u001B[0m\u001B[34m*\u001B[0m\u001B[34m*\u001B[0m\u001B[34m*\u001B[0m\u001B[34m*\u001B[0m\u001B[34m*\u001B[0m\u001B[34m*\u001B[0m\u001B[34m*\u001B[0m\u001B[34m*\u001B[0m\u001B[34m*\u001B[0m\u001B[34m*\u001B[0m\u001B[34m*\u001B[0m\u001B[34m*\u001B[0m\u001B[34m*\u001B[0m\u001B[34m*\u001B[0m\u001B[34m*\u001B[0m\u001B[34m*\u001B[0m\u001B[34m*\u001B[0m\u001B[34m*\u001B[0m\u001B[34m*\u001B[0m\u001B[34m*\u001B[0m\u001B[34m*\u001B[0m\u001B[34m*\u001B[0m\u001B[34m*\u001B[0m\u001B[34m*\u001B[0m\u001B[34m*\u001B[0m\u001B[34m*\u001B[0m\u001B[34m*\u001B[0m\u001B[34m*\u001B[0m\u001B[34m*\u001B[0m\u001B[34m*\u001B[0m\u001B[34m*\u001B[0m\u001B[34m*\u001B[0m\u001B[34m*\u001B[0m\u001B[34m*\u001B[0m\u001B[34m*\u001B[0m\u001B[34m*\u001B[0m\u001B[34m*\u001B[0m\u001B[34m*\u001B[0m\u001B[34m*\u001B[0m\n",
      "\u001B[32m** Rozwiązanie ********************************************************************************\u001B[0m\n",
      "$l\\colon  \\frac{x - 4}{-1}= \\frac{y - 2}{-3}= \\frac{z + 2}{7}; \\qquad d(P_3,l) = 0$\n",
      "\u001B[32m*\u001B[0m\u001B[32m*\u001B[0m\u001B[32m*\u001B[0m\u001B[32m*\u001B[0m\u001B[32m*\u001B[0m\u001B[32m*\u001B[0m\u001B[32m*\u001B[0m\u001B[32m*\u001B[0m\u001B[32m*\u001B[0m\u001B[32m*\u001B[0m\u001B[32m*\u001B[0m\u001B[32m*\u001B[0m\u001B[32m*\u001B[0m\u001B[32m*\u001B[0m\u001B[32m*\u001B[0m\u001B[32m*\u001B[0m\u001B[32m*\u001B[0m\u001B[32m*\u001B[0m\u001B[32m*\u001B[0m\u001B[32m*\u001B[0m\u001B[32m*\u001B[0m\u001B[32m*\u001B[0m\u001B[32m*\u001B[0m\u001B[32m*\u001B[0m\u001B[32m*\u001B[0m\u001B[32m*\u001B[0m\u001B[32m*\u001B[0m\u001B[32m*\u001B[0m\u001B[32m*\u001B[0m\u001B[32m*\u001B[0m\u001B[32m*\u001B[0m\u001B[32m*\u001B[0m\u001B[32m*\u001B[0m\u001B[32m*\u001B[0m\u001B[32m*\u001B[0m\u001B[32m*\u001B[0m\u001B[32m*\u001B[0m\u001B[32m*\u001B[0m\u001B[32m*\u001B[0m\u001B[32m*\u001B[0m\u001B[32m*\u001B[0m\u001B[32m*\u001B[0m\u001B[32m*\u001B[0m\u001B[32m*\u001B[0m\u001B[32m*\u001B[0m\u001B[32m*\u001B[0m\u001B[32m*\u001B[0m\u001B[32m*\u001B[0m\u001B[32m*\u001B[0m\u001B[32m*\u001B[0m\u001B[32m*\u001B[0m\u001B[32m*\u001B[0m\u001B[32m*\u001B[0m\u001B[32m*\u001B[0m\u001B[32m*\u001B[0m\u001B[32m*\u001B[0m\u001B[32m*\u001B[0m\u001B[32m*\u001B[0m\u001B[32m*\u001B[0m\u001B[32m*\u001B[0m\u001B[32m*\u001B[0m\u001B[32m*\u001B[0m\u001B[32m*\u001B[0m\u001B[32m*\u001B[0m\u001B[32m*\u001B[0m\u001B[32m*\u001B[0m\u001B[32m*\u001B[0m\u001B[32m*\u001B[0m\u001B[32m*\u001B[0m\u001B[32m*\u001B[0m\u001B[32m*\u001B[0m\u001B[32m*\u001B[0m\u001B[32m*\u001B[0m\u001B[32m*\u001B[0m\u001B[32m*\u001B[0m\u001B[32m*\u001B[0m\u001B[32m*\u001B[0m\u001B[32m*\u001B[0m\u001B[32m*\u001B[0m\u001B[32m*\u001B[0m\u001B[32m*\u001B[0m\u001B[32m*\u001B[0m\u001B[32m*\u001B[0m\u001B[32m*\u001B[0m\u001B[32m*\u001B[0m\u001B[32m*\u001B[0m\u001B[32m*\u001B[0m\u001B[32m*\u001B[0m\u001B[32m*\u001B[0m\u001B[32m*\u001B[0m\u001B[32m*\u001B[0m\u001B[32m*\u001B[0m\u001B[32m*\u001B[0m\u001B[32m*\u001B[0m\u001B[32m*\u001B[0m\n"
     ]
    }
   ],
   "execution_count": 125
  },
  {
   "metadata": {
    "ExecuteTime": {
     "end_time": "2024-09-15T18:29:12.240061Z",
     "start_time": "2024-09-15T18:29:10.557466Z"
    }
   },
   "cell_type": "code",
   "source": [
    "for i in range(1, ile_zadan_przykladowych + 1):\n",
    "    zadanie = gz.rownanie_prostej()\n",
    "    print(f\"\\033[34m** Zadanie {i} **\" + '*' * 80 + '\\033[0m')\n",
    "    display(Markdown(zadanie[0].split('\\n\\t')[0]))\n",
    "    display(Latex('$$' + (zadanie[0].split('\\n\\t')[2]) + '$$'))\n",
    "    display(Markdown(zadanie[0].split('\\n\\t')[4]))\n",
    "    display(Latex('$$' + (zadanie[0].split('\\n\\t')[6]) + '$$'))\n",
    "    print(\"\\033[34m*\\033[0m\" * 95)\n",
    "    print(\"\\033[32m** Rozwiązanie **\" + '*' * 78 + '\\033[0m')\n",
    "    display(Latex('$' + zadanie[1] + '$'))\n",
    "    print(\"\\033[32m*\\033[0m\" * 95)"
   ],
   "id": "80025aead9ea95f3",
   "outputs": [
    {
     "name": "stdout",
     "output_type": "stream",
     "text": [
      "\u001B[34m** Zadanie 1 **********************************************************************************\u001B[0m\n"
     ]
    },
    {
     "data": {
      "text/plain": [
       "<IPython.core.display.Markdown object>"
      ],
      "text/markdown": "Wyznaczyć równanie prostej przechodzącej przez punkty"
     },
     "metadata": {},
     "output_type": "display_data"
    },
    {
     "data": {
      "text/plain": [
       "<IPython.core.display.Latex object>"
      ],
      "text/latex": "$$\tP_1 = (1, -1, -2), \\quad P_2 = (2, -3, -2).$$"
     },
     "metadata": {},
     "output_type": "display_data"
    },
    {
     "data": {
      "text/plain": [
       "<IPython.core.display.Markdown object>"
      ],
      "text/markdown": "Obliczyć odległość wyznaczonej prostej od punktu"
     },
     "metadata": {},
     "output_type": "display_data"
    },
    {
     "data": {
      "text/plain": [
       "<IPython.core.display.Latex object>"
      ],
      "text/latex": "$$\tP_3 = (-2, 5, 4).$$"
     },
     "metadata": {},
     "output_type": "display_data"
    },
    {
     "name": "stdout",
     "output_type": "stream",
     "text": [
      "\u001B[34m*\u001B[0m\u001B[34m*\u001B[0m\u001B[34m*\u001B[0m\u001B[34m*\u001B[0m\u001B[34m*\u001B[0m\u001B[34m*\u001B[0m\u001B[34m*\u001B[0m\u001B[34m*\u001B[0m\u001B[34m*\u001B[0m\u001B[34m*\u001B[0m\u001B[34m*\u001B[0m\u001B[34m*\u001B[0m\u001B[34m*\u001B[0m\u001B[34m*\u001B[0m\u001B[34m*\u001B[0m\u001B[34m*\u001B[0m\u001B[34m*\u001B[0m\u001B[34m*\u001B[0m\u001B[34m*\u001B[0m\u001B[34m*\u001B[0m\u001B[34m*\u001B[0m\u001B[34m*\u001B[0m\u001B[34m*\u001B[0m\u001B[34m*\u001B[0m\u001B[34m*\u001B[0m\u001B[34m*\u001B[0m\u001B[34m*\u001B[0m\u001B[34m*\u001B[0m\u001B[34m*\u001B[0m\u001B[34m*\u001B[0m\u001B[34m*\u001B[0m\u001B[34m*\u001B[0m\u001B[34m*\u001B[0m\u001B[34m*\u001B[0m\u001B[34m*\u001B[0m\u001B[34m*\u001B[0m\u001B[34m*\u001B[0m\u001B[34m*\u001B[0m\u001B[34m*\u001B[0m\u001B[34m*\u001B[0m\u001B[34m*\u001B[0m\u001B[34m*\u001B[0m\u001B[34m*\u001B[0m\u001B[34m*\u001B[0m\u001B[34m*\u001B[0m\u001B[34m*\u001B[0m\u001B[34m*\u001B[0m\u001B[34m*\u001B[0m\u001B[34m*\u001B[0m\u001B[34m*\u001B[0m\u001B[34m*\u001B[0m\u001B[34m*\u001B[0m\u001B[34m*\u001B[0m\u001B[34m*\u001B[0m\u001B[34m*\u001B[0m\u001B[34m*\u001B[0m\u001B[34m*\u001B[0m\u001B[34m*\u001B[0m\u001B[34m*\u001B[0m\u001B[34m*\u001B[0m\u001B[34m*\u001B[0m\u001B[34m*\u001B[0m\u001B[34m*\u001B[0m\u001B[34m*\u001B[0m\u001B[34m*\u001B[0m\u001B[34m*\u001B[0m\u001B[34m*\u001B[0m\u001B[34m*\u001B[0m\u001B[34m*\u001B[0m\u001B[34m*\u001B[0m\u001B[34m*\u001B[0m\u001B[34m*\u001B[0m\u001B[34m*\u001B[0m\u001B[34m*\u001B[0m\u001B[34m*\u001B[0m\u001B[34m*\u001B[0m\u001B[34m*\u001B[0m\u001B[34m*\u001B[0m\u001B[34m*\u001B[0m\u001B[34m*\u001B[0m\u001B[34m*\u001B[0m\u001B[34m*\u001B[0m\u001B[34m*\u001B[0m\u001B[34m*\u001B[0m\u001B[34m*\u001B[0m\u001B[34m*\u001B[0m\u001B[34m*\u001B[0m\u001B[34m*\u001B[0m\u001B[34m*\u001B[0m\u001B[34m*\u001B[0m\u001B[34m*\u001B[0m\u001B[34m*\u001B[0m\u001B[34m*\u001B[0m\u001B[34m*\u001B[0m\u001B[34m*\u001B[0m\n",
      "\u001B[32m** Rozwiązanie ********************************************************************************\u001B[0m\n"
     ]
    },
    {
     "data": {
      "text/plain": [
       "<IPython.core.display.Latex object>"
      ],
      "text/latex": "$$l\\colon  \\frac{x - 1}{1}= \\frac{y + 1}{-2}= \\frac{z + 2}{0}; \\qquad d(P_3,l) = 6$$"
     },
     "metadata": {},
     "output_type": "display_data"
    },
    {
     "name": "stdout",
     "output_type": "stream",
     "text": [
      "\u001B[32m*\u001B[0m\u001B[32m*\u001B[0m\u001B[32m*\u001B[0m\u001B[32m*\u001B[0m\u001B[32m*\u001B[0m\u001B[32m*\u001B[0m\u001B[32m*\u001B[0m\u001B[32m*\u001B[0m\u001B[32m*\u001B[0m\u001B[32m*\u001B[0m\u001B[32m*\u001B[0m\u001B[32m*\u001B[0m\u001B[32m*\u001B[0m\u001B[32m*\u001B[0m\u001B[32m*\u001B[0m\u001B[32m*\u001B[0m\u001B[32m*\u001B[0m\u001B[32m*\u001B[0m\u001B[32m*\u001B[0m\u001B[32m*\u001B[0m\u001B[32m*\u001B[0m\u001B[32m*\u001B[0m\u001B[32m*\u001B[0m\u001B[32m*\u001B[0m\u001B[32m*\u001B[0m\u001B[32m*\u001B[0m\u001B[32m*\u001B[0m\u001B[32m*\u001B[0m\u001B[32m*\u001B[0m\u001B[32m*\u001B[0m\u001B[32m*\u001B[0m\u001B[32m*\u001B[0m\u001B[32m*\u001B[0m\u001B[32m*\u001B[0m\u001B[32m*\u001B[0m\u001B[32m*\u001B[0m\u001B[32m*\u001B[0m\u001B[32m*\u001B[0m\u001B[32m*\u001B[0m\u001B[32m*\u001B[0m\u001B[32m*\u001B[0m\u001B[32m*\u001B[0m\u001B[32m*\u001B[0m\u001B[32m*\u001B[0m\u001B[32m*\u001B[0m\u001B[32m*\u001B[0m\u001B[32m*\u001B[0m\u001B[32m*\u001B[0m\u001B[32m*\u001B[0m\u001B[32m*\u001B[0m\u001B[32m*\u001B[0m\u001B[32m*\u001B[0m\u001B[32m*\u001B[0m\u001B[32m*\u001B[0m\u001B[32m*\u001B[0m\u001B[32m*\u001B[0m\u001B[32m*\u001B[0m\u001B[32m*\u001B[0m\u001B[32m*\u001B[0m\u001B[32m*\u001B[0m\u001B[32m*\u001B[0m\u001B[32m*\u001B[0m\u001B[32m*\u001B[0m\u001B[32m*\u001B[0m\u001B[32m*\u001B[0m\u001B[32m*\u001B[0m\u001B[32m*\u001B[0m\u001B[32m*\u001B[0m\u001B[32m*\u001B[0m\u001B[32m*\u001B[0m\u001B[32m*\u001B[0m\u001B[32m*\u001B[0m\u001B[32m*\u001B[0m\u001B[32m*\u001B[0m\u001B[32m*\u001B[0m\u001B[32m*\u001B[0m\u001B[32m*\u001B[0m\u001B[32m*\u001B[0m\u001B[32m*\u001B[0m\u001B[32m*\u001B[0m\u001B[32m*\u001B[0m\u001B[32m*\u001B[0m\u001B[32m*\u001B[0m\u001B[32m*\u001B[0m\u001B[32m*\u001B[0m\u001B[32m*\u001B[0m\u001B[32m*\u001B[0m\u001B[32m*\u001B[0m\u001B[32m*\u001B[0m\u001B[32m*\u001B[0m\u001B[32m*\u001B[0m\u001B[32m*\u001B[0m\u001B[32m*\u001B[0m\u001B[32m*\u001B[0m\u001B[32m*\u001B[0m\n",
      "\u001B[34m** Zadanie 2 **********************************************************************************\u001B[0m\n"
     ]
    },
    {
     "data": {
      "text/plain": [
       "<IPython.core.display.Markdown object>"
      ],
      "text/markdown": "Wyznaczyć równanie prostej przechodzącej przez punkty"
     },
     "metadata": {},
     "output_type": "display_data"
    },
    {
     "data": {
      "text/plain": [
       "<IPython.core.display.Latex object>"
      ],
      "text/latex": "$$\tP_1 = (-1, -2, -1), \\quad P_2 = (-2, -2, -3).$$"
     },
     "metadata": {},
     "output_type": "display_data"
    },
    {
     "data": {
      "text/plain": [
       "<IPython.core.display.Markdown object>"
      ],
      "text/markdown": "Obliczyć odległość wyznaczonej prostej od punktu"
     },
     "metadata": {},
     "output_type": "display_data"
    },
    {
     "data": {
      "text/plain": [
       "<IPython.core.display.Latex object>"
      ],
      "text/latex": "$$\tP_3 = (-1, 5, -1).$$"
     },
     "metadata": {},
     "output_type": "display_data"
    },
    {
     "name": "stdout",
     "output_type": "stream",
     "text": [
      "\u001B[34m*\u001B[0m\u001B[34m*\u001B[0m\u001B[34m*\u001B[0m\u001B[34m*\u001B[0m\u001B[34m*\u001B[0m\u001B[34m*\u001B[0m\u001B[34m*\u001B[0m\u001B[34m*\u001B[0m\u001B[34m*\u001B[0m\u001B[34m*\u001B[0m\u001B[34m*\u001B[0m\u001B[34m*\u001B[0m\u001B[34m*\u001B[0m\u001B[34m*\u001B[0m\u001B[34m*\u001B[0m\u001B[34m*\u001B[0m\u001B[34m*\u001B[0m\u001B[34m*\u001B[0m\u001B[34m*\u001B[0m\u001B[34m*\u001B[0m\u001B[34m*\u001B[0m\u001B[34m*\u001B[0m\u001B[34m*\u001B[0m\u001B[34m*\u001B[0m\u001B[34m*\u001B[0m\u001B[34m*\u001B[0m\u001B[34m*\u001B[0m\u001B[34m*\u001B[0m\u001B[34m*\u001B[0m\u001B[34m*\u001B[0m\u001B[34m*\u001B[0m\u001B[34m*\u001B[0m\u001B[34m*\u001B[0m\u001B[34m*\u001B[0m\u001B[34m*\u001B[0m\u001B[34m*\u001B[0m\u001B[34m*\u001B[0m\u001B[34m*\u001B[0m\u001B[34m*\u001B[0m\u001B[34m*\u001B[0m\u001B[34m*\u001B[0m\u001B[34m*\u001B[0m\u001B[34m*\u001B[0m\u001B[34m*\u001B[0m\u001B[34m*\u001B[0m\u001B[34m*\u001B[0m\u001B[34m*\u001B[0m\u001B[34m*\u001B[0m\u001B[34m*\u001B[0m\u001B[34m*\u001B[0m\u001B[34m*\u001B[0m\u001B[34m*\u001B[0m\u001B[34m*\u001B[0m\u001B[34m*\u001B[0m\u001B[34m*\u001B[0m\u001B[34m*\u001B[0m\u001B[34m*\u001B[0m\u001B[34m*\u001B[0m\u001B[34m*\u001B[0m\u001B[34m*\u001B[0m\u001B[34m*\u001B[0m\u001B[34m*\u001B[0m\u001B[34m*\u001B[0m\u001B[34m*\u001B[0m\u001B[34m*\u001B[0m\u001B[34m*\u001B[0m\u001B[34m*\u001B[0m\u001B[34m*\u001B[0m\u001B[34m*\u001B[0m\u001B[34m*\u001B[0m\u001B[34m*\u001B[0m\u001B[34m*\u001B[0m\u001B[34m*\u001B[0m\u001B[34m*\u001B[0m\u001B[34m*\u001B[0m\u001B[34m*\u001B[0m\u001B[34m*\u001B[0m\u001B[34m*\u001B[0m\u001B[34m*\u001B[0m\u001B[34m*\u001B[0m\u001B[34m*\u001B[0m\u001B[34m*\u001B[0m\u001B[34m*\u001B[0m\u001B[34m*\u001B[0m\u001B[34m*\u001B[0m\u001B[34m*\u001B[0m\u001B[34m*\u001B[0m\u001B[34m*\u001B[0m\u001B[34m*\u001B[0m\u001B[34m*\u001B[0m\u001B[34m*\u001B[0m\u001B[34m*\u001B[0m\u001B[34m*\u001B[0m\u001B[34m*\u001B[0m\u001B[34m*\u001B[0m\n",
      "\u001B[32m** Rozwiązanie ********************************************************************************\u001B[0m\n"
     ]
    },
    {
     "data": {
      "text/plain": [
       "<IPython.core.display.Latex object>"
      ],
      "text/latex": "$$l\\colon  \\frac{x + 1}{-1}= \\frac{y + 2}{0}= \\frac{z + 1}{-2}; \\qquad d(P_3,l) = 7$$"
     },
     "metadata": {},
     "output_type": "display_data"
    },
    {
     "name": "stdout",
     "output_type": "stream",
     "text": [
      "\u001B[32m*\u001B[0m\u001B[32m*\u001B[0m\u001B[32m*\u001B[0m\u001B[32m*\u001B[0m\u001B[32m*\u001B[0m\u001B[32m*\u001B[0m\u001B[32m*\u001B[0m\u001B[32m*\u001B[0m\u001B[32m*\u001B[0m\u001B[32m*\u001B[0m\u001B[32m*\u001B[0m\u001B[32m*\u001B[0m\u001B[32m*\u001B[0m\u001B[32m*\u001B[0m\u001B[32m*\u001B[0m\u001B[32m*\u001B[0m\u001B[32m*\u001B[0m\u001B[32m*\u001B[0m\u001B[32m*\u001B[0m\u001B[32m*\u001B[0m\u001B[32m*\u001B[0m\u001B[32m*\u001B[0m\u001B[32m*\u001B[0m\u001B[32m*\u001B[0m\u001B[32m*\u001B[0m\u001B[32m*\u001B[0m\u001B[32m*\u001B[0m\u001B[32m*\u001B[0m\u001B[32m*\u001B[0m\u001B[32m*\u001B[0m\u001B[32m*\u001B[0m\u001B[32m*\u001B[0m\u001B[32m*\u001B[0m\u001B[32m*\u001B[0m\u001B[32m*\u001B[0m\u001B[32m*\u001B[0m\u001B[32m*\u001B[0m\u001B[32m*\u001B[0m\u001B[32m*\u001B[0m\u001B[32m*\u001B[0m\u001B[32m*\u001B[0m\u001B[32m*\u001B[0m\u001B[32m*\u001B[0m\u001B[32m*\u001B[0m\u001B[32m*\u001B[0m\u001B[32m*\u001B[0m\u001B[32m*\u001B[0m\u001B[32m*\u001B[0m\u001B[32m*\u001B[0m\u001B[32m*\u001B[0m\u001B[32m*\u001B[0m\u001B[32m*\u001B[0m\u001B[32m*\u001B[0m\u001B[32m*\u001B[0m\u001B[32m*\u001B[0m\u001B[32m*\u001B[0m\u001B[32m*\u001B[0m\u001B[32m*\u001B[0m\u001B[32m*\u001B[0m\u001B[32m*\u001B[0m\u001B[32m*\u001B[0m\u001B[32m*\u001B[0m\u001B[32m*\u001B[0m\u001B[32m*\u001B[0m\u001B[32m*\u001B[0m\u001B[32m*\u001B[0m\u001B[32m*\u001B[0m\u001B[32m*\u001B[0m\u001B[32m*\u001B[0m\u001B[32m*\u001B[0m\u001B[32m*\u001B[0m\u001B[32m*\u001B[0m\u001B[32m*\u001B[0m\u001B[32m*\u001B[0m\u001B[32m*\u001B[0m\u001B[32m*\u001B[0m\u001B[32m*\u001B[0m\u001B[32m*\u001B[0m\u001B[32m*\u001B[0m\u001B[32m*\u001B[0m\u001B[32m*\u001B[0m\u001B[32m*\u001B[0m\u001B[32m*\u001B[0m\u001B[32m*\u001B[0m\u001B[32m*\u001B[0m\u001B[32m*\u001B[0m\u001B[32m*\u001B[0m\u001B[32m*\u001B[0m\u001B[32m*\u001B[0m\u001B[32m*\u001B[0m\u001B[32m*\u001B[0m\u001B[32m*\u001B[0m\u001B[32m*\u001B[0m\u001B[32m*\u001B[0m\u001B[32m*\u001B[0m\n",
      "\u001B[34m** Zadanie 3 **********************************************************************************\u001B[0m\n"
     ]
    },
    {
     "data": {
      "text/plain": [
       "<IPython.core.display.Markdown object>"
      ],
      "text/markdown": "Wyznaczyć równanie prostej przechodzącej przez punkty"
     },
     "metadata": {},
     "output_type": "display_data"
    },
    {
     "data": {
      "text/plain": [
       "<IPython.core.display.Latex object>"
      ],
      "text/latex": "$$\tP_1 = (4, 3, 5), \\quad P_2 = (4, 4, 2).$$"
     },
     "metadata": {},
     "output_type": "display_data"
    },
    {
     "data": {
      "text/plain": [
       "<IPython.core.display.Markdown object>"
      ],
      "text/markdown": "Obliczyć odległość wyznaczonej prostej od punktu"
     },
     "metadata": {},
     "output_type": "display_data"
    },
    {
     "data": {
      "text/plain": [
       "<IPython.core.display.Latex object>"
      ],
      "text/latex": "$$\tP_3 = (5, 5, -1).$$"
     },
     "metadata": {},
     "output_type": "display_data"
    },
    {
     "name": "stdout",
     "output_type": "stream",
     "text": [
      "\u001B[34m*\u001B[0m\u001B[34m*\u001B[0m\u001B[34m*\u001B[0m\u001B[34m*\u001B[0m\u001B[34m*\u001B[0m\u001B[34m*\u001B[0m\u001B[34m*\u001B[0m\u001B[34m*\u001B[0m\u001B[34m*\u001B[0m\u001B[34m*\u001B[0m\u001B[34m*\u001B[0m\u001B[34m*\u001B[0m\u001B[34m*\u001B[0m\u001B[34m*\u001B[0m\u001B[34m*\u001B[0m\u001B[34m*\u001B[0m\u001B[34m*\u001B[0m\u001B[34m*\u001B[0m\u001B[34m*\u001B[0m\u001B[34m*\u001B[0m\u001B[34m*\u001B[0m\u001B[34m*\u001B[0m\u001B[34m*\u001B[0m\u001B[34m*\u001B[0m\u001B[34m*\u001B[0m\u001B[34m*\u001B[0m\u001B[34m*\u001B[0m\u001B[34m*\u001B[0m\u001B[34m*\u001B[0m\u001B[34m*\u001B[0m\u001B[34m*\u001B[0m\u001B[34m*\u001B[0m\u001B[34m*\u001B[0m\u001B[34m*\u001B[0m\u001B[34m*\u001B[0m\u001B[34m*\u001B[0m\u001B[34m*\u001B[0m\u001B[34m*\u001B[0m\u001B[34m*\u001B[0m\u001B[34m*\u001B[0m\u001B[34m*\u001B[0m\u001B[34m*\u001B[0m\u001B[34m*\u001B[0m\u001B[34m*\u001B[0m\u001B[34m*\u001B[0m\u001B[34m*\u001B[0m\u001B[34m*\u001B[0m\u001B[34m*\u001B[0m\u001B[34m*\u001B[0m\u001B[34m*\u001B[0m\u001B[34m*\u001B[0m\u001B[34m*\u001B[0m\u001B[34m*\u001B[0m\u001B[34m*\u001B[0m\u001B[34m*\u001B[0m\u001B[34m*\u001B[0m\u001B[34m*\u001B[0m\u001B[34m*\u001B[0m\u001B[34m*\u001B[0m\u001B[34m*\u001B[0m\u001B[34m*\u001B[0m\u001B[34m*\u001B[0m\u001B[34m*\u001B[0m\u001B[34m*\u001B[0m\u001B[34m*\u001B[0m\u001B[34m*\u001B[0m\u001B[34m*\u001B[0m\u001B[34m*\u001B[0m\u001B[34m*\u001B[0m\u001B[34m*\u001B[0m\u001B[34m*\u001B[0m\u001B[34m*\u001B[0m\u001B[34m*\u001B[0m\u001B[34m*\u001B[0m\u001B[34m*\u001B[0m\u001B[34m*\u001B[0m\u001B[34m*\u001B[0m\u001B[34m*\u001B[0m\u001B[34m*\u001B[0m\u001B[34m*\u001B[0m\u001B[34m*\u001B[0m\u001B[34m*\u001B[0m\u001B[34m*\u001B[0m\u001B[34m*\u001B[0m\u001B[34m*\u001B[0m\u001B[34m*\u001B[0m\u001B[34m*\u001B[0m\u001B[34m*\u001B[0m\u001B[34m*\u001B[0m\u001B[34m*\u001B[0m\u001B[34m*\u001B[0m\u001B[34m*\u001B[0m\u001B[34m*\u001B[0m\u001B[34m*\u001B[0m\u001B[34m*\u001B[0m\n",
      "\u001B[32m** Rozwiązanie ********************************************************************************\u001B[0m\n"
     ]
    },
    {
     "data": {
      "text/plain": [
       "<IPython.core.display.Latex object>"
      ],
      "text/latex": "$$l\\colon  \\frac{x - 4}{0}= \\frac{y - 3}{1}= \\frac{z - 5}{-3}; \\qquad d(P_3,l) = 1$$"
     },
     "metadata": {},
     "output_type": "display_data"
    },
    {
     "name": "stdout",
     "output_type": "stream",
     "text": [
      "\u001B[32m*\u001B[0m\u001B[32m*\u001B[0m\u001B[32m*\u001B[0m\u001B[32m*\u001B[0m\u001B[32m*\u001B[0m\u001B[32m*\u001B[0m\u001B[32m*\u001B[0m\u001B[32m*\u001B[0m\u001B[32m*\u001B[0m\u001B[32m*\u001B[0m\u001B[32m*\u001B[0m\u001B[32m*\u001B[0m\u001B[32m*\u001B[0m\u001B[32m*\u001B[0m\u001B[32m*\u001B[0m\u001B[32m*\u001B[0m\u001B[32m*\u001B[0m\u001B[32m*\u001B[0m\u001B[32m*\u001B[0m\u001B[32m*\u001B[0m\u001B[32m*\u001B[0m\u001B[32m*\u001B[0m\u001B[32m*\u001B[0m\u001B[32m*\u001B[0m\u001B[32m*\u001B[0m\u001B[32m*\u001B[0m\u001B[32m*\u001B[0m\u001B[32m*\u001B[0m\u001B[32m*\u001B[0m\u001B[32m*\u001B[0m\u001B[32m*\u001B[0m\u001B[32m*\u001B[0m\u001B[32m*\u001B[0m\u001B[32m*\u001B[0m\u001B[32m*\u001B[0m\u001B[32m*\u001B[0m\u001B[32m*\u001B[0m\u001B[32m*\u001B[0m\u001B[32m*\u001B[0m\u001B[32m*\u001B[0m\u001B[32m*\u001B[0m\u001B[32m*\u001B[0m\u001B[32m*\u001B[0m\u001B[32m*\u001B[0m\u001B[32m*\u001B[0m\u001B[32m*\u001B[0m\u001B[32m*\u001B[0m\u001B[32m*\u001B[0m\u001B[32m*\u001B[0m\u001B[32m*\u001B[0m\u001B[32m*\u001B[0m\u001B[32m*\u001B[0m\u001B[32m*\u001B[0m\u001B[32m*\u001B[0m\u001B[32m*\u001B[0m\u001B[32m*\u001B[0m\u001B[32m*\u001B[0m\u001B[32m*\u001B[0m\u001B[32m*\u001B[0m\u001B[32m*\u001B[0m\u001B[32m*\u001B[0m\u001B[32m*\u001B[0m\u001B[32m*\u001B[0m\u001B[32m*\u001B[0m\u001B[32m*\u001B[0m\u001B[32m*\u001B[0m\u001B[32m*\u001B[0m\u001B[32m*\u001B[0m\u001B[32m*\u001B[0m\u001B[32m*\u001B[0m\u001B[32m*\u001B[0m\u001B[32m*\u001B[0m\u001B[32m*\u001B[0m\u001B[32m*\u001B[0m\u001B[32m*\u001B[0m\u001B[32m*\u001B[0m\u001B[32m*\u001B[0m\u001B[32m*\u001B[0m\u001B[32m*\u001B[0m\u001B[32m*\u001B[0m\u001B[32m*\u001B[0m\u001B[32m*\u001B[0m\u001B[32m*\u001B[0m\u001B[32m*\u001B[0m\u001B[32m*\u001B[0m\u001B[32m*\u001B[0m\u001B[32m*\u001B[0m\u001B[32m*\u001B[0m\u001B[32m*\u001B[0m\u001B[32m*\u001B[0m\u001B[32m*\u001B[0m\u001B[32m*\u001B[0m\u001B[32m*\u001B[0m\u001B[32m*\u001B[0m\u001B[32m*\u001B[0m\n",
      "\u001B[34m** Zadanie 4 **********************************************************************************\u001B[0m\n"
     ]
    },
    {
     "data": {
      "text/plain": [
       "<IPython.core.display.Markdown object>"
      ],
      "text/markdown": "Wyznaczyć równanie prostej przechodzącej przez punkty"
     },
     "metadata": {},
     "output_type": "display_data"
    },
    {
     "data": {
      "text/plain": [
       "<IPython.core.display.Latex object>"
      ],
      "text/latex": "$$\tP_1 = (3, 4, -1), \\quad P_2 = (1, 4, 3).$$"
     },
     "metadata": {},
     "output_type": "display_data"
    },
    {
     "data": {
      "text/plain": [
       "<IPython.core.display.Markdown object>"
      ],
      "text/markdown": "Obliczyć odległość wyznaczonej prostej od punktu"
     },
     "metadata": {},
     "output_type": "display_data"
    },
    {
     "data": {
      "text/plain": [
       "<IPython.core.display.Latex object>"
      ],
      "text/latex": "$$\tP_3 = (1, -2, 3).$$"
     },
     "metadata": {},
     "output_type": "display_data"
    },
    {
     "name": "stdout",
     "output_type": "stream",
     "text": [
      "\u001B[34m*\u001B[0m\u001B[34m*\u001B[0m\u001B[34m*\u001B[0m\u001B[34m*\u001B[0m\u001B[34m*\u001B[0m\u001B[34m*\u001B[0m\u001B[34m*\u001B[0m\u001B[34m*\u001B[0m\u001B[34m*\u001B[0m\u001B[34m*\u001B[0m\u001B[34m*\u001B[0m\u001B[34m*\u001B[0m\u001B[34m*\u001B[0m\u001B[34m*\u001B[0m\u001B[34m*\u001B[0m\u001B[34m*\u001B[0m\u001B[34m*\u001B[0m\u001B[34m*\u001B[0m\u001B[34m*\u001B[0m\u001B[34m*\u001B[0m\u001B[34m*\u001B[0m\u001B[34m*\u001B[0m\u001B[34m*\u001B[0m\u001B[34m*\u001B[0m\u001B[34m*\u001B[0m\u001B[34m*\u001B[0m\u001B[34m*\u001B[0m\u001B[34m*\u001B[0m\u001B[34m*\u001B[0m\u001B[34m*\u001B[0m\u001B[34m*\u001B[0m\u001B[34m*\u001B[0m\u001B[34m*\u001B[0m\u001B[34m*\u001B[0m\u001B[34m*\u001B[0m\u001B[34m*\u001B[0m\u001B[34m*\u001B[0m\u001B[34m*\u001B[0m\u001B[34m*\u001B[0m\u001B[34m*\u001B[0m\u001B[34m*\u001B[0m\u001B[34m*\u001B[0m\u001B[34m*\u001B[0m\u001B[34m*\u001B[0m\u001B[34m*\u001B[0m\u001B[34m*\u001B[0m\u001B[34m*\u001B[0m\u001B[34m*\u001B[0m\u001B[34m*\u001B[0m\u001B[34m*\u001B[0m\u001B[34m*\u001B[0m\u001B[34m*\u001B[0m\u001B[34m*\u001B[0m\u001B[34m*\u001B[0m\u001B[34m*\u001B[0m\u001B[34m*\u001B[0m\u001B[34m*\u001B[0m\u001B[34m*\u001B[0m\u001B[34m*\u001B[0m\u001B[34m*\u001B[0m\u001B[34m*\u001B[0m\u001B[34m*\u001B[0m\u001B[34m*\u001B[0m\u001B[34m*\u001B[0m\u001B[34m*\u001B[0m\u001B[34m*\u001B[0m\u001B[34m*\u001B[0m\u001B[34m*\u001B[0m\u001B[34m*\u001B[0m\u001B[34m*\u001B[0m\u001B[34m*\u001B[0m\u001B[34m*\u001B[0m\u001B[34m*\u001B[0m\u001B[34m*\u001B[0m\u001B[34m*\u001B[0m\u001B[34m*\u001B[0m\u001B[34m*\u001B[0m\u001B[34m*\u001B[0m\u001B[34m*\u001B[0m\u001B[34m*\u001B[0m\u001B[34m*\u001B[0m\u001B[34m*\u001B[0m\u001B[34m*\u001B[0m\u001B[34m*\u001B[0m\u001B[34m*\u001B[0m\u001B[34m*\u001B[0m\u001B[34m*\u001B[0m\u001B[34m*\u001B[0m\u001B[34m*\u001B[0m\u001B[34m*\u001B[0m\u001B[34m*\u001B[0m\u001B[34m*\u001B[0m\u001B[34m*\u001B[0m\u001B[34m*\u001B[0m\u001B[34m*\u001B[0m\n",
      "\u001B[32m** Rozwiązanie ********************************************************************************\u001B[0m\n"
     ]
    },
    {
     "data": {
      "text/plain": [
       "<IPython.core.display.Latex object>"
      ],
      "text/latex": "$$l\\colon  \\frac{x - 3}{-2}= \\frac{y - 4}{0}= \\frac{z + 1}{4}; \\qquad d(P_3,l) = 6$$"
     },
     "metadata": {},
     "output_type": "display_data"
    },
    {
     "name": "stdout",
     "output_type": "stream",
     "text": [
      "\u001B[32m*\u001B[0m\u001B[32m*\u001B[0m\u001B[32m*\u001B[0m\u001B[32m*\u001B[0m\u001B[32m*\u001B[0m\u001B[32m*\u001B[0m\u001B[32m*\u001B[0m\u001B[32m*\u001B[0m\u001B[32m*\u001B[0m\u001B[32m*\u001B[0m\u001B[32m*\u001B[0m\u001B[32m*\u001B[0m\u001B[32m*\u001B[0m\u001B[32m*\u001B[0m\u001B[32m*\u001B[0m\u001B[32m*\u001B[0m\u001B[32m*\u001B[0m\u001B[32m*\u001B[0m\u001B[32m*\u001B[0m\u001B[32m*\u001B[0m\u001B[32m*\u001B[0m\u001B[32m*\u001B[0m\u001B[32m*\u001B[0m\u001B[32m*\u001B[0m\u001B[32m*\u001B[0m\u001B[32m*\u001B[0m\u001B[32m*\u001B[0m\u001B[32m*\u001B[0m\u001B[32m*\u001B[0m\u001B[32m*\u001B[0m\u001B[32m*\u001B[0m\u001B[32m*\u001B[0m\u001B[32m*\u001B[0m\u001B[32m*\u001B[0m\u001B[32m*\u001B[0m\u001B[32m*\u001B[0m\u001B[32m*\u001B[0m\u001B[32m*\u001B[0m\u001B[32m*\u001B[0m\u001B[32m*\u001B[0m\u001B[32m*\u001B[0m\u001B[32m*\u001B[0m\u001B[32m*\u001B[0m\u001B[32m*\u001B[0m\u001B[32m*\u001B[0m\u001B[32m*\u001B[0m\u001B[32m*\u001B[0m\u001B[32m*\u001B[0m\u001B[32m*\u001B[0m\u001B[32m*\u001B[0m\u001B[32m*\u001B[0m\u001B[32m*\u001B[0m\u001B[32m*\u001B[0m\u001B[32m*\u001B[0m\u001B[32m*\u001B[0m\u001B[32m*\u001B[0m\u001B[32m*\u001B[0m\u001B[32m*\u001B[0m\u001B[32m*\u001B[0m\u001B[32m*\u001B[0m\u001B[32m*\u001B[0m\u001B[32m*\u001B[0m\u001B[32m*\u001B[0m\u001B[32m*\u001B[0m\u001B[32m*\u001B[0m\u001B[32m*\u001B[0m\u001B[32m*\u001B[0m\u001B[32m*\u001B[0m\u001B[32m*\u001B[0m\u001B[32m*\u001B[0m\u001B[32m*\u001B[0m\u001B[32m*\u001B[0m\u001B[32m*\u001B[0m\u001B[32m*\u001B[0m\u001B[32m*\u001B[0m\u001B[32m*\u001B[0m\u001B[32m*\u001B[0m\u001B[32m*\u001B[0m\u001B[32m*\u001B[0m\u001B[32m*\u001B[0m\u001B[32m*\u001B[0m\u001B[32m*\u001B[0m\u001B[32m*\u001B[0m\u001B[32m*\u001B[0m\u001B[32m*\u001B[0m\u001B[32m*\u001B[0m\u001B[32m*\u001B[0m\u001B[32m*\u001B[0m\u001B[32m*\u001B[0m\u001B[32m*\u001B[0m\u001B[32m*\u001B[0m\u001B[32m*\u001B[0m\u001B[32m*\u001B[0m\u001B[32m*\u001B[0m\u001B[32m*\u001B[0m\n",
      "\u001B[34m** Zadanie 5 **********************************************************************************\u001B[0m\n"
     ]
    },
    {
     "data": {
      "text/plain": [
       "<IPython.core.display.Markdown object>"
      ],
      "text/markdown": "Wyznaczyć równanie prostej przechodzącej przez punkty"
     },
     "metadata": {},
     "output_type": "display_data"
    },
    {
     "data": {
      "text/plain": [
       "<IPython.core.display.Latex object>"
      ],
      "text/latex": "$$\tP_1 = (-1, -3, 2), \\quad P_2 = (3, -3, -1).$$"
     },
     "metadata": {},
     "output_type": "display_data"
    },
    {
     "data": {
      "text/plain": [
       "<IPython.core.display.Markdown object>"
      ],
      "text/markdown": "Obliczyć odległość wyznaczonej prostej od punktu"
     },
     "metadata": {},
     "output_type": "display_data"
    },
    {
     "data": {
      "text/plain": [
       "<IPython.core.display.Latex object>"
      ],
      "text/latex": "$$\tP_3 = (-3, -3, -2).$$"
     },
     "metadata": {},
     "output_type": "display_data"
    },
    {
     "name": "stdout",
     "output_type": "stream",
     "text": [
      "\u001B[34m*\u001B[0m\u001B[34m*\u001B[0m\u001B[34m*\u001B[0m\u001B[34m*\u001B[0m\u001B[34m*\u001B[0m\u001B[34m*\u001B[0m\u001B[34m*\u001B[0m\u001B[34m*\u001B[0m\u001B[34m*\u001B[0m\u001B[34m*\u001B[0m\u001B[34m*\u001B[0m\u001B[34m*\u001B[0m\u001B[34m*\u001B[0m\u001B[34m*\u001B[0m\u001B[34m*\u001B[0m\u001B[34m*\u001B[0m\u001B[34m*\u001B[0m\u001B[34m*\u001B[0m\u001B[34m*\u001B[0m\u001B[34m*\u001B[0m\u001B[34m*\u001B[0m\u001B[34m*\u001B[0m\u001B[34m*\u001B[0m\u001B[34m*\u001B[0m\u001B[34m*\u001B[0m\u001B[34m*\u001B[0m\u001B[34m*\u001B[0m\u001B[34m*\u001B[0m\u001B[34m*\u001B[0m\u001B[34m*\u001B[0m\u001B[34m*\u001B[0m\u001B[34m*\u001B[0m\u001B[34m*\u001B[0m\u001B[34m*\u001B[0m\u001B[34m*\u001B[0m\u001B[34m*\u001B[0m\u001B[34m*\u001B[0m\u001B[34m*\u001B[0m\u001B[34m*\u001B[0m\u001B[34m*\u001B[0m\u001B[34m*\u001B[0m\u001B[34m*\u001B[0m\u001B[34m*\u001B[0m\u001B[34m*\u001B[0m\u001B[34m*\u001B[0m\u001B[34m*\u001B[0m\u001B[34m*\u001B[0m\u001B[34m*\u001B[0m\u001B[34m*\u001B[0m\u001B[34m*\u001B[0m\u001B[34m*\u001B[0m\u001B[34m*\u001B[0m\u001B[34m*\u001B[0m\u001B[34m*\u001B[0m\u001B[34m*\u001B[0m\u001B[34m*\u001B[0m\u001B[34m*\u001B[0m\u001B[34m*\u001B[0m\u001B[34m*\u001B[0m\u001B[34m*\u001B[0m\u001B[34m*\u001B[0m\u001B[34m*\u001B[0m\u001B[34m*\u001B[0m\u001B[34m*\u001B[0m\u001B[34m*\u001B[0m\u001B[34m*\u001B[0m\u001B[34m*\u001B[0m\u001B[34m*\u001B[0m\u001B[34m*\u001B[0m\u001B[34m*\u001B[0m\u001B[34m*\u001B[0m\u001B[34m*\u001B[0m\u001B[34m*\u001B[0m\u001B[34m*\u001B[0m\u001B[34m*\u001B[0m\u001B[34m*\u001B[0m\u001B[34m*\u001B[0m\u001B[34m*\u001B[0m\u001B[34m*\u001B[0m\u001B[34m*\u001B[0m\u001B[34m*\u001B[0m\u001B[34m*\u001B[0m\u001B[34m*\u001B[0m\u001B[34m*\u001B[0m\u001B[34m*\u001B[0m\u001B[34m*\u001B[0m\u001B[34m*\u001B[0m\u001B[34m*\u001B[0m\u001B[34m*\u001B[0m\u001B[34m*\u001B[0m\u001B[34m*\u001B[0m\u001B[34m*\u001B[0m\u001B[34m*\u001B[0m\u001B[34m*\u001B[0m\u001B[34m*\u001B[0m\n",
      "\u001B[32m** Rozwiązanie ********************************************************************************\u001B[0m\n"
     ]
    },
    {
     "data": {
      "text/plain": [
       "<IPython.core.display.Latex object>"
      ],
      "text/latex": "$$l\\colon  \\frac{x + 1}{4}= \\frac{y + 3}{0}= \\frac{z - 2}{-3}; \\qquad d(P_3,l) = \\frac{22}{5}$$"
     },
     "metadata": {},
     "output_type": "display_data"
    },
    {
     "name": "stdout",
     "output_type": "stream",
     "text": [
      "\u001B[32m*\u001B[0m\u001B[32m*\u001B[0m\u001B[32m*\u001B[0m\u001B[32m*\u001B[0m\u001B[32m*\u001B[0m\u001B[32m*\u001B[0m\u001B[32m*\u001B[0m\u001B[32m*\u001B[0m\u001B[32m*\u001B[0m\u001B[32m*\u001B[0m\u001B[32m*\u001B[0m\u001B[32m*\u001B[0m\u001B[32m*\u001B[0m\u001B[32m*\u001B[0m\u001B[32m*\u001B[0m\u001B[32m*\u001B[0m\u001B[32m*\u001B[0m\u001B[32m*\u001B[0m\u001B[32m*\u001B[0m\u001B[32m*\u001B[0m\u001B[32m*\u001B[0m\u001B[32m*\u001B[0m\u001B[32m*\u001B[0m\u001B[32m*\u001B[0m\u001B[32m*\u001B[0m\u001B[32m*\u001B[0m\u001B[32m*\u001B[0m\u001B[32m*\u001B[0m\u001B[32m*\u001B[0m\u001B[32m*\u001B[0m\u001B[32m*\u001B[0m\u001B[32m*\u001B[0m\u001B[32m*\u001B[0m\u001B[32m*\u001B[0m\u001B[32m*\u001B[0m\u001B[32m*\u001B[0m\u001B[32m*\u001B[0m\u001B[32m*\u001B[0m\u001B[32m*\u001B[0m\u001B[32m*\u001B[0m\u001B[32m*\u001B[0m\u001B[32m*\u001B[0m\u001B[32m*\u001B[0m\u001B[32m*\u001B[0m\u001B[32m*\u001B[0m\u001B[32m*\u001B[0m\u001B[32m*\u001B[0m\u001B[32m*\u001B[0m\u001B[32m*\u001B[0m\u001B[32m*\u001B[0m\u001B[32m*\u001B[0m\u001B[32m*\u001B[0m\u001B[32m*\u001B[0m\u001B[32m*\u001B[0m\u001B[32m*\u001B[0m\u001B[32m*\u001B[0m\u001B[32m*\u001B[0m\u001B[32m*\u001B[0m\u001B[32m*\u001B[0m\u001B[32m*\u001B[0m\u001B[32m*\u001B[0m\u001B[32m*\u001B[0m\u001B[32m*\u001B[0m\u001B[32m*\u001B[0m\u001B[32m*\u001B[0m\u001B[32m*\u001B[0m\u001B[32m*\u001B[0m\u001B[32m*\u001B[0m\u001B[32m*\u001B[0m\u001B[32m*\u001B[0m\u001B[32m*\u001B[0m\u001B[32m*\u001B[0m\u001B[32m*\u001B[0m\u001B[32m*\u001B[0m\u001B[32m*\u001B[0m\u001B[32m*\u001B[0m\u001B[32m*\u001B[0m\u001B[32m*\u001B[0m\u001B[32m*\u001B[0m\u001B[32m*\u001B[0m\u001B[32m*\u001B[0m\u001B[32m*\u001B[0m\u001B[32m*\u001B[0m\u001B[32m*\u001B[0m\u001B[32m*\u001B[0m\u001B[32m*\u001B[0m\u001B[32m*\u001B[0m\u001B[32m*\u001B[0m\u001B[32m*\u001B[0m\u001B[32m*\u001B[0m\u001B[32m*\u001B[0m\u001B[32m*\u001B[0m\u001B[32m*\u001B[0m\u001B[32m*\u001B[0m\u001B[32m*\u001B[0m\n",
      "\u001B[34m** Zadanie 6 **********************************************************************************\u001B[0m\n"
     ]
    },
    {
     "data": {
      "text/plain": [
       "<IPython.core.display.Markdown object>"
      ],
      "text/markdown": "Wyznaczyć równanie prostej przechodzącej przez punkty"
     },
     "metadata": {},
     "output_type": "display_data"
    },
    {
     "data": {
      "text/plain": [
       "<IPython.core.display.Latex object>"
      ],
      "text/latex": "$$\tP_1 = (4, 3, -3), \\quad P_2 = (2, 5, 5).$$"
     },
     "metadata": {},
     "output_type": "display_data"
    },
    {
     "data": {
      "text/plain": [
       "<IPython.core.display.Markdown object>"
      ],
      "text/markdown": "Obliczyć odległość wyznaczonej prostej od punktu"
     },
     "metadata": {},
     "output_type": "display_data"
    },
    {
     "data": {
      "text/plain": [
       "<IPython.core.display.Latex object>"
      ],
      "text/latex": "$$\tP_3 = (1, 2, -2).$$"
     },
     "metadata": {},
     "output_type": "display_data"
    },
    {
     "name": "stdout",
     "output_type": "stream",
     "text": [
      "\u001B[34m*\u001B[0m\u001B[34m*\u001B[0m\u001B[34m*\u001B[0m\u001B[34m*\u001B[0m\u001B[34m*\u001B[0m\u001B[34m*\u001B[0m\u001B[34m*\u001B[0m\u001B[34m*\u001B[0m\u001B[34m*\u001B[0m\u001B[34m*\u001B[0m\u001B[34m*\u001B[0m\u001B[34m*\u001B[0m\u001B[34m*\u001B[0m\u001B[34m*\u001B[0m\u001B[34m*\u001B[0m\u001B[34m*\u001B[0m\u001B[34m*\u001B[0m\u001B[34m*\u001B[0m\u001B[34m*\u001B[0m\u001B[34m*\u001B[0m\u001B[34m*\u001B[0m\u001B[34m*\u001B[0m\u001B[34m*\u001B[0m\u001B[34m*\u001B[0m\u001B[34m*\u001B[0m\u001B[34m*\u001B[0m\u001B[34m*\u001B[0m\u001B[34m*\u001B[0m\u001B[34m*\u001B[0m\u001B[34m*\u001B[0m\u001B[34m*\u001B[0m\u001B[34m*\u001B[0m\u001B[34m*\u001B[0m\u001B[34m*\u001B[0m\u001B[34m*\u001B[0m\u001B[34m*\u001B[0m\u001B[34m*\u001B[0m\u001B[34m*\u001B[0m\u001B[34m*\u001B[0m\u001B[34m*\u001B[0m\u001B[34m*\u001B[0m\u001B[34m*\u001B[0m\u001B[34m*\u001B[0m\u001B[34m*\u001B[0m\u001B[34m*\u001B[0m\u001B[34m*\u001B[0m\u001B[34m*\u001B[0m\u001B[34m*\u001B[0m\u001B[34m*\u001B[0m\u001B[34m*\u001B[0m\u001B[34m*\u001B[0m\u001B[34m*\u001B[0m\u001B[34m*\u001B[0m\u001B[34m*\u001B[0m\u001B[34m*\u001B[0m\u001B[34m*\u001B[0m\u001B[34m*\u001B[0m\u001B[34m*\u001B[0m\u001B[34m*\u001B[0m\u001B[34m*\u001B[0m\u001B[34m*\u001B[0m\u001B[34m*\u001B[0m\u001B[34m*\u001B[0m\u001B[34m*\u001B[0m\u001B[34m*\u001B[0m\u001B[34m*\u001B[0m\u001B[34m*\u001B[0m\u001B[34m*\u001B[0m\u001B[34m*\u001B[0m\u001B[34m*\u001B[0m\u001B[34m*\u001B[0m\u001B[34m*\u001B[0m\u001B[34m*\u001B[0m\u001B[34m*\u001B[0m\u001B[34m*\u001B[0m\u001B[34m*\u001B[0m\u001B[34m*\u001B[0m\u001B[34m*\u001B[0m\u001B[34m*\u001B[0m\u001B[34m*\u001B[0m\u001B[34m*\u001B[0m\u001B[34m*\u001B[0m\u001B[34m*\u001B[0m\u001B[34m*\u001B[0m\u001B[34m*\u001B[0m\u001B[34m*\u001B[0m\u001B[34m*\u001B[0m\u001B[34m*\u001B[0m\u001B[34m*\u001B[0m\u001B[34m*\u001B[0m\u001B[34m*\u001B[0m\u001B[34m*\u001B[0m\u001B[34m*\u001B[0m\u001B[34m*\u001B[0m\u001B[34m*\u001B[0m\n",
      "\u001B[32m** Rozwiązanie ********************************************************************************\u001B[0m\n"
     ]
    },
    {
     "data": {
      "text/plain": [
       "<IPython.core.display.Latex object>"
      ],
      "text/latex": "$$l\\colon  \\frac{x - 4}{-2}= \\frac{y - 3}{2}= \\frac{z + 3}{8}; \\qquad d(P_3,l) = 3$$"
     },
     "metadata": {},
     "output_type": "display_data"
    },
    {
     "name": "stdout",
     "output_type": "stream",
     "text": [
      "\u001B[32m*\u001B[0m\u001B[32m*\u001B[0m\u001B[32m*\u001B[0m\u001B[32m*\u001B[0m\u001B[32m*\u001B[0m\u001B[32m*\u001B[0m\u001B[32m*\u001B[0m\u001B[32m*\u001B[0m\u001B[32m*\u001B[0m\u001B[32m*\u001B[0m\u001B[32m*\u001B[0m\u001B[32m*\u001B[0m\u001B[32m*\u001B[0m\u001B[32m*\u001B[0m\u001B[32m*\u001B[0m\u001B[32m*\u001B[0m\u001B[32m*\u001B[0m\u001B[32m*\u001B[0m\u001B[32m*\u001B[0m\u001B[32m*\u001B[0m\u001B[32m*\u001B[0m\u001B[32m*\u001B[0m\u001B[32m*\u001B[0m\u001B[32m*\u001B[0m\u001B[32m*\u001B[0m\u001B[32m*\u001B[0m\u001B[32m*\u001B[0m\u001B[32m*\u001B[0m\u001B[32m*\u001B[0m\u001B[32m*\u001B[0m\u001B[32m*\u001B[0m\u001B[32m*\u001B[0m\u001B[32m*\u001B[0m\u001B[32m*\u001B[0m\u001B[32m*\u001B[0m\u001B[32m*\u001B[0m\u001B[32m*\u001B[0m\u001B[32m*\u001B[0m\u001B[32m*\u001B[0m\u001B[32m*\u001B[0m\u001B[32m*\u001B[0m\u001B[32m*\u001B[0m\u001B[32m*\u001B[0m\u001B[32m*\u001B[0m\u001B[32m*\u001B[0m\u001B[32m*\u001B[0m\u001B[32m*\u001B[0m\u001B[32m*\u001B[0m\u001B[32m*\u001B[0m\u001B[32m*\u001B[0m\u001B[32m*\u001B[0m\u001B[32m*\u001B[0m\u001B[32m*\u001B[0m\u001B[32m*\u001B[0m\u001B[32m*\u001B[0m\u001B[32m*\u001B[0m\u001B[32m*\u001B[0m\u001B[32m*\u001B[0m\u001B[32m*\u001B[0m\u001B[32m*\u001B[0m\u001B[32m*\u001B[0m\u001B[32m*\u001B[0m\u001B[32m*\u001B[0m\u001B[32m*\u001B[0m\u001B[32m*\u001B[0m\u001B[32m*\u001B[0m\u001B[32m*\u001B[0m\u001B[32m*\u001B[0m\u001B[32m*\u001B[0m\u001B[32m*\u001B[0m\u001B[32m*\u001B[0m\u001B[32m*\u001B[0m\u001B[32m*\u001B[0m\u001B[32m*\u001B[0m\u001B[32m*\u001B[0m\u001B[32m*\u001B[0m\u001B[32m*\u001B[0m\u001B[32m*\u001B[0m\u001B[32m*\u001B[0m\u001B[32m*\u001B[0m\u001B[32m*\u001B[0m\u001B[32m*\u001B[0m\u001B[32m*\u001B[0m\u001B[32m*\u001B[0m\u001B[32m*\u001B[0m\u001B[32m*\u001B[0m\u001B[32m*\u001B[0m\u001B[32m*\u001B[0m\u001B[32m*\u001B[0m\u001B[32m*\u001B[0m\u001B[32m*\u001B[0m\u001B[32m*\u001B[0m\u001B[32m*\u001B[0m\u001B[32m*\u001B[0m\u001B[32m*\u001B[0m\n",
      "\u001B[34m** Zadanie 7 **********************************************************************************\u001B[0m\n"
     ]
    },
    {
     "data": {
      "text/plain": [
       "<IPython.core.display.Markdown object>"
      ],
      "text/markdown": "Wyznaczyć równanie prostej przechodzącej przez punkty"
     },
     "metadata": {},
     "output_type": "display_data"
    },
    {
     "data": {
      "text/plain": [
       "<IPython.core.display.Latex object>"
      ],
      "text/latex": "$$\tP_1 = (4, 2, -2), \\quad P_2 = (-2, 5, -2).$$"
     },
     "metadata": {},
     "output_type": "display_data"
    },
    {
     "data": {
      "text/plain": [
       "<IPython.core.display.Markdown object>"
      ],
      "text/markdown": "Obliczyć odległość wyznaczonej prostej od punktu"
     },
     "metadata": {},
     "output_type": "display_data"
    },
    {
     "data": {
      "text/plain": [
       "<IPython.core.display.Latex object>"
      ],
      "text/latex": "$$\tP_3 = (4, 2, -2).$$"
     },
     "metadata": {},
     "output_type": "display_data"
    },
    {
     "name": "stdout",
     "output_type": "stream",
     "text": [
      "\u001B[34m*\u001B[0m\u001B[34m*\u001B[0m\u001B[34m*\u001B[0m\u001B[34m*\u001B[0m\u001B[34m*\u001B[0m\u001B[34m*\u001B[0m\u001B[34m*\u001B[0m\u001B[34m*\u001B[0m\u001B[34m*\u001B[0m\u001B[34m*\u001B[0m\u001B[34m*\u001B[0m\u001B[34m*\u001B[0m\u001B[34m*\u001B[0m\u001B[34m*\u001B[0m\u001B[34m*\u001B[0m\u001B[34m*\u001B[0m\u001B[34m*\u001B[0m\u001B[34m*\u001B[0m\u001B[34m*\u001B[0m\u001B[34m*\u001B[0m\u001B[34m*\u001B[0m\u001B[34m*\u001B[0m\u001B[34m*\u001B[0m\u001B[34m*\u001B[0m\u001B[34m*\u001B[0m\u001B[34m*\u001B[0m\u001B[34m*\u001B[0m\u001B[34m*\u001B[0m\u001B[34m*\u001B[0m\u001B[34m*\u001B[0m\u001B[34m*\u001B[0m\u001B[34m*\u001B[0m\u001B[34m*\u001B[0m\u001B[34m*\u001B[0m\u001B[34m*\u001B[0m\u001B[34m*\u001B[0m\u001B[34m*\u001B[0m\u001B[34m*\u001B[0m\u001B[34m*\u001B[0m\u001B[34m*\u001B[0m\u001B[34m*\u001B[0m\u001B[34m*\u001B[0m\u001B[34m*\u001B[0m\u001B[34m*\u001B[0m\u001B[34m*\u001B[0m\u001B[34m*\u001B[0m\u001B[34m*\u001B[0m\u001B[34m*\u001B[0m\u001B[34m*\u001B[0m\u001B[34m*\u001B[0m\u001B[34m*\u001B[0m\u001B[34m*\u001B[0m\u001B[34m*\u001B[0m\u001B[34m*\u001B[0m\u001B[34m*\u001B[0m\u001B[34m*\u001B[0m\u001B[34m*\u001B[0m\u001B[34m*\u001B[0m\u001B[34m*\u001B[0m\u001B[34m*\u001B[0m\u001B[34m*\u001B[0m\u001B[34m*\u001B[0m\u001B[34m*\u001B[0m\u001B[34m*\u001B[0m\u001B[34m*\u001B[0m\u001B[34m*\u001B[0m\u001B[34m*\u001B[0m\u001B[34m*\u001B[0m\u001B[34m*\u001B[0m\u001B[34m*\u001B[0m\u001B[34m*\u001B[0m\u001B[34m*\u001B[0m\u001B[34m*\u001B[0m\u001B[34m*\u001B[0m\u001B[34m*\u001B[0m\u001B[34m*\u001B[0m\u001B[34m*\u001B[0m\u001B[34m*\u001B[0m\u001B[34m*\u001B[0m\u001B[34m*\u001B[0m\u001B[34m*\u001B[0m\u001B[34m*\u001B[0m\u001B[34m*\u001B[0m\u001B[34m*\u001B[0m\u001B[34m*\u001B[0m\u001B[34m*\u001B[0m\u001B[34m*\u001B[0m\u001B[34m*\u001B[0m\u001B[34m*\u001B[0m\u001B[34m*\u001B[0m\u001B[34m*\u001B[0m\u001B[34m*\u001B[0m\u001B[34m*\u001B[0m\u001B[34m*\u001B[0m\u001B[34m*\u001B[0m\n",
      "\u001B[32m** Rozwiązanie ********************************************************************************\u001B[0m\n"
     ]
    },
    {
     "data": {
      "text/plain": [
       "<IPython.core.display.Latex object>"
      ],
      "text/latex": "$$l\\colon  \\frac{x - 4}{-6}= \\frac{y - 2}{3}= \\frac{z + 2}{0}; \\qquad d(P_3,l) = 0$$"
     },
     "metadata": {},
     "output_type": "display_data"
    },
    {
     "name": "stdout",
     "output_type": "stream",
     "text": [
      "\u001B[32m*\u001B[0m\u001B[32m*\u001B[0m\u001B[32m*\u001B[0m\u001B[32m*\u001B[0m\u001B[32m*\u001B[0m\u001B[32m*\u001B[0m\u001B[32m*\u001B[0m\u001B[32m*\u001B[0m\u001B[32m*\u001B[0m\u001B[32m*\u001B[0m\u001B[32m*\u001B[0m\u001B[32m*\u001B[0m\u001B[32m*\u001B[0m\u001B[32m*\u001B[0m\u001B[32m*\u001B[0m\u001B[32m*\u001B[0m\u001B[32m*\u001B[0m\u001B[32m*\u001B[0m\u001B[32m*\u001B[0m\u001B[32m*\u001B[0m\u001B[32m*\u001B[0m\u001B[32m*\u001B[0m\u001B[32m*\u001B[0m\u001B[32m*\u001B[0m\u001B[32m*\u001B[0m\u001B[32m*\u001B[0m\u001B[32m*\u001B[0m\u001B[32m*\u001B[0m\u001B[32m*\u001B[0m\u001B[32m*\u001B[0m\u001B[32m*\u001B[0m\u001B[32m*\u001B[0m\u001B[32m*\u001B[0m\u001B[32m*\u001B[0m\u001B[32m*\u001B[0m\u001B[32m*\u001B[0m\u001B[32m*\u001B[0m\u001B[32m*\u001B[0m\u001B[32m*\u001B[0m\u001B[32m*\u001B[0m\u001B[32m*\u001B[0m\u001B[32m*\u001B[0m\u001B[32m*\u001B[0m\u001B[32m*\u001B[0m\u001B[32m*\u001B[0m\u001B[32m*\u001B[0m\u001B[32m*\u001B[0m\u001B[32m*\u001B[0m\u001B[32m*\u001B[0m\u001B[32m*\u001B[0m\u001B[32m*\u001B[0m\u001B[32m*\u001B[0m\u001B[32m*\u001B[0m\u001B[32m*\u001B[0m\u001B[32m*\u001B[0m\u001B[32m*\u001B[0m\u001B[32m*\u001B[0m\u001B[32m*\u001B[0m\u001B[32m*\u001B[0m\u001B[32m*\u001B[0m\u001B[32m*\u001B[0m\u001B[32m*\u001B[0m\u001B[32m*\u001B[0m\u001B[32m*\u001B[0m\u001B[32m*\u001B[0m\u001B[32m*\u001B[0m\u001B[32m*\u001B[0m\u001B[32m*\u001B[0m\u001B[32m*\u001B[0m\u001B[32m*\u001B[0m\u001B[32m*\u001B[0m\u001B[32m*\u001B[0m\u001B[32m*\u001B[0m\u001B[32m*\u001B[0m\u001B[32m*\u001B[0m\u001B[32m*\u001B[0m\u001B[32m*\u001B[0m\u001B[32m*\u001B[0m\u001B[32m*\u001B[0m\u001B[32m*\u001B[0m\u001B[32m*\u001B[0m\u001B[32m*\u001B[0m\u001B[32m*\u001B[0m\u001B[32m*\u001B[0m\u001B[32m*\u001B[0m\u001B[32m*\u001B[0m\u001B[32m*\u001B[0m\u001B[32m*\u001B[0m\u001B[32m*\u001B[0m\u001B[32m*\u001B[0m\u001B[32m*\u001B[0m\u001B[32m*\u001B[0m\u001B[32m*\u001B[0m\u001B[32m*\u001B[0m\u001B[32m*\u001B[0m\n",
      "\u001B[34m** Zadanie 8 **********************************************************************************\u001B[0m\n"
     ]
    },
    {
     "data": {
      "text/plain": [
       "<IPython.core.display.Markdown object>"
      ],
      "text/markdown": "Wyznaczyć równanie prostej przechodzącej przez punkty"
     },
     "metadata": {},
     "output_type": "display_data"
    },
    {
     "data": {
      "text/plain": [
       "<IPython.core.display.Latex object>"
      ],
      "text/latex": "$$\tP_1 = (2, -1, 3), \\quad P_2 = (-3, 1, -1).$$"
     },
     "metadata": {},
     "output_type": "display_data"
    },
    {
     "data": {
      "text/plain": [
       "<IPython.core.display.Markdown object>"
      ],
      "text/markdown": "Obliczyć odległość wyznaczonej prostej od punktu"
     },
     "metadata": {},
     "output_type": "display_data"
    },
    {
     "data": {
      "text/plain": [
       "<IPython.core.display.Latex object>"
      ],
      "text/latex": "$$\tP_3 = (5, 1, 4).$$"
     },
     "metadata": {},
     "output_type": "display_data"
    },
    {
     "name": "stdout",
     "output_type": "stream",
     "text": [
      "\u001B[34m*\u001B[0m\u001B[34m*\u001B[0m\u001B[34m*\u001B[0m\u001B[34m*\u001B[0m\u001B[34m*\u001B[0m\u001B[34m*\u001B[0m\u001B[34m*\u001B[0m\u001B[34m*\u001B[0m\u001B[34m*\u001B[0m\u001B[34m*\u001B[0m\u001B[34m*\u001B[0m\u001B[34m*\u001B[0m\u001B[34m*\u001B[0m\u001B[34m*\u001B[0m\u001B[34m*\u001B[0m\u001B[34m*\u001B[0m\u001B[34m*\u001B[0m\u001B[34m*\u001B[0m\u001B[34m*\u001B[0m\u001B[34m*\u001B[0m\u001B[34m*\u001B[0m\u001B[34m*\u001B[0m\u001B[34m*\u001B[0m\u001B[34m*\u001B[0m\u001B[34m*\u001B[0m\u001B[34m*\u001B[0m\u001B[34m*\u001B[0m\u001B[34m*\u001B[0m\u001B[34m*\u001B[0m\u001B[34m*\u001B[0m\u001B[34m*\u001B[0m\u001B[34m*\u001B[0m\u001B[34m*\u001B[0m\u001B[34m*\u001B[0m\u001B[34m*\u001B[0m\u001B[34m*\u001B[0m\u001B[34m*\u001B[0m\u001B[34m*\u001B[0m\u001B[34m*\u001B[0m\u001B[34m*\u001B[0m\u001B[34m*\u001B[0m\u001B[34m*\u001B[0m\u001B[34m*\u001B[0m\u001B[34m*\u001B[0m\u001B[34m*\u001B[0m\u001B[34m*\u001B[0m\u001B[34m*\u001B[0m\u001B[34m*\u001B[0m\u001B[34m*\u001B[0m\u001B[34m*\u001B[0m\u001B[34m*\u001B[0m\u001B[34m*\u001B[0m\u001B[34m*\u001B[0m\u001B[34m*\u001B[0m\u001B[34m*\u001B[0m\u001B[34m*\u001B[0m\u001B[34m*\u001B[0m\u001B[34m*\u001B[0m\u001B[34m*\u001B[0m\u001B[34m*\u001B[0m\u001B[34m*\u001B[0m\u001B[34m*\u001B[0m\u001B[34m*\u001B[0m\u001B[34m*\u001B[0m\u001B[34m*\u001B[0m\u001B[34m*\u001B[0m\u001B[34m*\u001B[0m\u001B[34m*\u001B[0m\u001B[34m*\u001B[0m\u001B[34m*\u001B[0m\u001B[34m*\u001B[0m\u001B[34m*\u001B[0m\u001B[34m*\u001B[0m\u001B[34m*\u001B[0m\u001B[34m*\u001B[0m\u001B[34m*\u001B[0m\u001B[34m*\u001B[0m\u001B[34m*\u001B[0m\u001B[34m*\u001B[0m\u001B[34m*\u001B[0m\u001B[34m*\u001B[0m\u001B[34m*\u001B[0m\u001B[34m*\u001B[0m\u001B[34m*\u001B[0m\u001B[34m*\u001B[0m\u001B[34m*\u001B[0m\u001B[34m*\u001B[0m\u001B[34m*\u001B[0m\u001B[34m*\u001B[0m\u001B[34m*\u001B[0m\u001B[34m*\u001B[0m\u001B[34m*\u001B[0m\u001B[34m*\u001B[0m\u001B[34m*\u001B[0m\u001B[34m*\u001B[0m\n",
      "\u001B[32m** Rozwiązanie ********************************************************************************\u001B[0m\n"
     ]
    },
    {
     "data": {
      "text/plain": [
       "<IPython.core.display.Latex object>"
      ],
      "text/latex": "$$l\\colon  \\frac{x - 2}{-5}= \\frac{y + 1}{2}= \\frac{z - 3}{-4}; \\qquad d(P_3,l) = 3$$"
     },
     "metadata": {},
     "output_type": "display_data"
    },
    {
     "name": "stdout",
     "output_type": "stream",
     "text": [
      "\u001B[32m*\u001B[0m\u001B[32m*\u001B[0m\u001B[32m*\u001B[0m\u001B[32m*\u001B[0m\u001B[32m*\u001B[0m\u001B[32m*\u001B[0m\u001B[32m*\u001B[0m\u001B[32m*\u001B[0m\u001B[32m*\u001B[0m\u001B[32m*\u001B[0m\u001B[32m*\u001B[0m\u001B[32m*\u001B[0m\u001B[32m*\u001B[0m\u001B[32m*\u001B[0m\u001B[32m*\u001B[0m\u001B[32m*\u001B[0m\u001B[32m*\u001B[0m\u001B[32m*\u001B[0m\u001B[32m*\u001B[0m\u001B[32m*\u001B[0m\u001B[32m*\u001B[0m\u001B[32m*\u001B[0m\u001B[32m*\u001B[0m\u001B[32m*\u001B[0m\u001B[32m*\u001B[0m\u001B[32m*\u001B[0m\u001B[32m*\u001B[0m\u001B[32m*\u001B[0m\u001B[32m*\u001B[0m\u001B[32m*\u001B[0m\u001B[32m*\u001B[0m\u001B[32m*\u001B[0m\u001B[32m*\u001B[0m\u001B[32m*\u001B[0m\u001B[32m*\u001B[0m\u001B[32m*\u001B[0m\u001B[32m*\u001B[0m\u001B[32m*\u001B[0m\u001B[32m*\u001B[0m\u001B[32m*\u001B[0m\u001B[32m*\u001B[0m\u001B[32m*\u001B[0m\u001B[32m*\u001B[0m\u001B[32m*\u001B[0m\u001B[32m*\u001B[0m\u001B[32m*\u001B[0m\u001B[32m*\u001B[0m\u001B[32m*\u001B[0m\u001B[32m*\u001B[0m\u001B[32m*\u001B[0m\u001B[32m*\u001B[0m\u001B[32m*\u001B[0m\u001B[32m*\u001B[0m\u001B[32m*\u001B[0m\u001B[32m*\u001B[0m\u001B[32m*\u001B[0m\u001B[32m*\u001B[0m\u001B[32m*\u001B[0m\u001B[32m*\u001B[0m\u001B[32m*\u001B[0m\u001B[32m*\u001B[0m\u001B[32m*\u001B[0m\u001B[32m*\u001B[0m\u001B[32m*\u001B[0m\u001B[32m*\u001B[0m\u001B[32m*\u001B[0m\u001B[32m*\u001B[0m\u001B[32m*\u001B[0m\u001B[32m*\u001B[0m\u001B[32m*\u001B[0m\u001B[32m*\u001B[0m\u001B[32m*\u001B[0m\u001B[32m*\u001B[0m\u001B[32m*\u001B[0m\u001B[32m*\u001B[0m\u001B[32m*\u001B[0m\u001B[32m*\u001B[0m\u001B[32m*\u001B[0m\u001B[32m*\u001B[0m\u001B[32m*\u001B[0m\u001B[32m*\u001B[0m\u001B[32m*\u001B[0m\u001B[32m*\u001B[0m\u001B[32m*\u001B[0m\u001B[32m*\u001B[0m\u001B[32m*\u001B[0m\u001B[32m*\u001B[0m\u001B[32m*\u001B[0m\u001B[32m*\u001B[0m\u001B[32m*\u001B[0m\u001B[32m*\u001B[0m\u001B[32m*\u001B[0m\u001B[32m*\u001B[0m\u001B[32m*\u001B[0m\u001B[32m*\u001B[0m\n",
      "\u001B[34m** Zadanie 9 **********************************************************************************\u001B[0m\n"
     ]
    },
    {
     "data": {
      "text/plain": [
       "<IPython.core.display.Markdown object>"
      ],
      "text/markdown": "Wyznaczyć równanie prostej przechodzącej przez punkty"
     },
     "metadata": {},
     "output_type": "display_data"
    },
    {
     "data": {
      "text/plain": [
       "<IPython.core.display.Latex object>"
      ],
      "text/latex": "$$\tP_1 = (3, 3, -2), \\quad P_2 = (3, -1, 2).$$"
     },
     "metadata": {},
     "output_type": "display_data"
    },
    {
     "data": {
      "text/plain": [
       "<IPython.core.display.Markdown object>"
      ],
      "text/markdown": "Obliczyć odległość wyznaczonej prostej od punktu"
     },
     "metadata": {},
     "output_type": "display_data"
    },
    {
     "data": {
      "text/plain": [
       "<IPython.core.display.Latex object>"
      ],
      "text/latex": "$$\tP_3 = (4, -1, -2).$$"
     },
     "metadata": {},
     "output_type": "display_data"
    },
    {
     "name": "stdout",
     "output_type": "stream",
     "text": [
      "\u001B[34m*\u001B[0m\u001B[34m*\u001B[0m\u001B[34m*\u001B[0m\u001B[34m*\u001B[0m\u001B[34m*\u001B[0m\u001B[34m*\u001B[0m\u001B[34m*\u001B[0m\u001B[34m*\u001B[0m\u001B[34m*\u001B[0m\u001B[34m*\u001B[0m\u001B[34m*\u001B[0m\u001B[34m*\u001B[0m\u001B[34m*\u001B[0m\u001B[34m*\u001B[0m\u001B[34m*\u001B[0m\u001B[34m*\u001B[0m\u001B[34m*\u001B[0m\u001B[34m*\u001B[0m\u001B[34m*\u001B[0m\u001B[34m*\u001B[0m\u001B[34m*\u001B[0m\u001B[34m*\u001B[0m\u001B[34m*\u001B[0m\u001B[34m*\u001B[0m\u001B[34m*\u001B[0m\u001B[34m*\u001B[0m\u001B[34m*\u001B[0m\u001B[34m*\u001B[0m\u001B[34m*\u001B[0m\u001B[34m*\u001B[0m\u001B[34m*\u001B[0m\u001B[34m*\u001B[0m\u001B[34m*\u001B[0m\u001B[34m*\u001B[0m\u001B[34m*\u001B[0m\u001B[34m*\u001B[0m\u001B[34m*\u001B[0m\u001B[34m*\u001B[0m\u001B[34m*\u001B[0m\u001B[34m*\u001B[0m\u001B[34m*\u001B[0m\u001B[34m*\u001B[0m\u001B[34m*\u001B[0m\u001B[34m*\u001B[0m\u001B[34m*\u001B[0m\u001B[34m*\u001B[0m\u001B[34m*\u001B[0m\u001B[34m*\u001B[0m\u001B[34m*\u001B[0m\u001B[34m*\u001B[0m\u001B[34m*\u001B[0m\u001B[34m*\u001B[0m\u001B[34m*\u001B[0m\u001B[34m*\u001B[0m\u001B[34m*\u001B[0m\u001B[34m*\u001B[0m\u001B[34m*\u001B[0m\u001B[34m*\u001B[0m\u001B[34m*\u001B[0m\u001B[34m*\u001B[0m\u001B[34m*\u001B[0m\u001B[34m*\u001B[0m\u001B[34m*\u001B[0m\u001B[34m*\u001B[0m\u001B[34m*\u001B[0m\u001B[34m*\u001B[0m\u001B[34m*\u001B[0m\u001B[34m*\u001B[0m\u001B[34m*\u001B[0m\u001B[34m*\u001B[0m\u001B[34m*\u001B[0m\u001B[34m*\u001B[0m\u001B[34m*\u001B[0m\u001B[34m*\u001B[0m\u001B[34m*\u001B[0m\u001B[34m*\u001B[0m\u001B[34m*\u001B[0m\u001B[34m*\u001B[0m\u001B[34m*\u001B[0m\u001B[34m*\u001B[0m\u001B[34m*\u001B[0m\u001B[34m*\u001B[0m\u001B[34m*\u001B[0m\u001B[34m*\u001B[0m\u001B[34m*\u001B[0m\u001B[34m*\u001B[0m\u001B[34m*\u001B[0m\u001B[34m*\u001B[0m\u001B[34m*\u001B[0m\u001B[34m*\u001B[0m\u001B[34m*\u001B[0m\u001B[34m*\u001B[0m\u001B[34m*\u001B[0m\u001B[34m*\u001B[0m\u001B[34m*\u001B[0m\n",
      "\u001B[32m** Rozwiązanie ********************************************************************************\u001B[0m\n"
     ]
    },
    {
     "data": {
      "text/plain": [
       "<IPython.core.display.Latex object>"
      ],
      "text/latex": "$$l\\colon  \\frac{x - 3}{0}= \\frac{y - 3}{-4}= \\frac{z + 2}{4}; \\qquad d(P_3,l) = 3$$"
     },
     "metadata": {},
     "output_type": "display_data"
    },
    {
     "name": "stdout",
     "output_type": "stream",
     "text": [
      "\u001B[32m*\u001B[0m\u001B[32m*\u001B[0m\u001B[32m*\u001B[0m\u001B[32m*\u001B[0m\u001B[32m*\u001B[0m\u001B[32m*\u001B[0m\u001B[32m*\u001B[0m\u001B[32m*\u001B[0m\u001B[32m*\u001B[0m\u001B[32m*\u001B[0m\u001B[32m*\u001B[0m\u001B[32m*\u001B[0m\u001B[32m*\u001B[0m\u001B[32m*\u001B[0m\u001B[32m*\u001B[0m\u001B[32m*\u001B[0m\u001B[32m*\u001B[0m\u001B[32m*\u001B[0m\u001B[32m*\u001B[0m\u001B[32m*\u001B[0m\u001B[32m*\u001B[0m\u001B[32m*\u001B[0m\u001B[32m*\u001B[0m\u001B[32m*\u001B[0m\u001B[32m*\u001B[0m\u001B[32m*\u001B[0m\u001B[32m*\u001B[0m\u001B[32m*\u001B[0m\u001B[32m*\u001B[0m\u001B[32m*\u001B[0m\u001B[32m*\u001B[0m\u001B[32m*\u001B[0m\u001B[32m*\u001B[0m\u001B[32m*\u001B[0m\u001B[32m*\u001B[0m\u001B[32m*\u001B[0m\u001B[32m*\u001B[0m\u001B[32m*\u001B[0m\u001B[32m*\u001B[0m\u001B[32m*\u001B[0m\u001B[32m*\u001B[0m\u001B[32m*\u001B[0m\u001B[32m*\u001B[0m\u001B[32m*\u001B[0m\u001B[32m*\u001B[0m\u001B[32m*\u001B[0m\u001B[32m*\u001B[0m\u001B[32m*\u001B[0m\u001B[32m*\u001B[0m\u001B[32m*\u001B[0m\u001B[32m*\u001B[0m\u001B[32m*\u001B[0m\u001B[32m*\u001B[0m\u001B[32m*\u001B[0m\u001B[32m*\u001B[0m\u001B[32m*\u001B[0m\u001B[32m*\u001B[0m\u001B[32m*\u001B[0m\u001B[32m*\u001B[0m\u001B[32m*\u001B[0m\u001B[32m*\u001B[0m\u001B[32m*\u001B[0m\u001B[32m*\u001B[0m\u001B[32m*\u001B[0m\u001B[32m*\u001B[0m\u001B[32m*\u001B[0m\u001B[32m*\u001B[0m\u001B[32m*\u001B[0m\u001B[32m*\u001B[0m\u001B[32m*\u001B[0m\u001B[32m*\u001B[0m\u001B[32m*\u001B[0m\u001B[32m*\u001B[0m\u001B[32m*\u001B[0m\u001B[32m*\u001B[0m\u001B[32m*\u001B[0m\u001B[32m*\u001B[0m\u001B[32m*\u001B[0m\u001B[32m*\u001B[0m\u001B[32m*\u001B[0m\u001B[32m*\u001B[0m\u001B[32m*\u001B[0m\u001B[32m*\u001B[0m\u001B[32m*\u001B[0m\u001B[32m*\u001B[0m\u001B[32m*\u001B[0m\u001B[32m*\u001B[0m\u001B[32m*\u001B[0m\u001B[32m*\u001B[0m\u001B[32m*\u001B[0m\u001B[32m*\u001B[0m\u001B[32m*\u001B[0m\u001B[32m*\u001B[0m\u001B[32m*\u001B[0m\u001B[32m*\u001B[0m\n",
      "\u001B[34m** Zadanie 10 **********************************************************************************\u001B[0m\n"
     ]
    },
    {
     "data": {
      "text/plain": [
       "<IPython.core.display.Markdown object>"
      ],
      "text/markdown": "Wyznaczyć równanie prostej przechodzącej przez punkty"
     },
     "metadata": {},
     "output_type": "display_data"
    },
    {
     "data": {
      "text/plain": [
       "<IPython.core.display.Latex object>"
      ],
      "text/latex": "$$\tP_1 = (5, -1, 1), \\quad P_2 = (1, -1, -2).$$"
     },
     "metadata": {},
     "output_type": "display_data"
    },
    {
     "data": {
      "text/plain": [
       "<IPython.core.display.Markdown object>"
      ],
      "text/markdown": "Obliczyć odległość wyznaczonej prostej od punktu"
     },
     "metadata": {},
     "output_type": "display_data"
    },
    {
     "data": {
      "text/plain": [
       "<IPython.core.display.Latex object>"
      ],
      "text/latex": "$$\tP_3 = (-2, -1, 1).$$"
     },
     "metadata": {},
     "output_type": "display_data"
    },
    {
     "name": "stdout",
     "output_type": "stream",
     "text": [
      "\u001B[34m*\u001B[0m\u001B[34m*\u001B[0m\u001B[34m*\u001B[0m\u001B[34m*\u001B[0m\u001B[34m*\u001B[0m\u001B[34m*\u001B[0m\u001B[34m*\u001B[0m\u001B[34m*\u001B[0m\u001B[34m*\u001B[0m\u001B[34m*\u001B[0m\u001B[34m*\u001B[0m\u001B[34m*\u001B[0m\u001B[34m*\u001B[0m\u001B[34m*\u001B[0m\u001B[34m*\u001B[0m\u001B[34m*\u001B[0m\u001B[34m*\u001B[0m\u001B[34m*\u001B[0m\u001B[34m*\u001B[0m\u001B[34m*\u001B[0m\u001B[34m*\u001B[0m\u001B[34m*\u001B[0m\u001B[34m*\u001B[0m\u001B[34m*\u001B[0m\u001B[34m*\u001B[0m\u001B[34m*\u001B[0m\u001B[34m*\u001B[0m\u001B[34m*\u001B[0m\u001B[34m*\u001B[0m\u001B[34m*\u001B[0m\u001B[34m*\u001B[0m\u001B[34m*\u001B[0m\u001B[34m*\u001B[0m\u001B[34m*\u001B[0m\u001B[34m*\u001B[0m\u001B[34m*\u001B[0m\u001B[34m*\u001B[0m\u001B[34m*\u001B[0m\u001B[34m*\u001B[0m\u001B[34m*\u001B[0m\u001B[34m*\u001B[0m\u001B[34m*\u001B[0m\u001B[34m*\u001B[0m\u001B[34m*\u001B[0m\u001B[34m*\u001B[0m\u001B[34m*\u001B[0m\u001B[34m*\u001B[0m\u001B[34m*\u001B[0m\u001B[34m*\u001B[0m\u001B[34m*\u001B[0m\u001B[34m*\u001B[0m\u001B[34m*\u001B[0m\u001B[34m*\u001B[0m\u001B[34m*\u001B[0m\u001B[34m*\u001B[0m\u001B[34m*\u001B[0m\u001B[34m*\u001B[0m\u001B[34m*\u001B[0m\u001B[34m*\u001B[0m\u001B[34m*\u001B[0m\u001B[34m*\u001B[0m\u001B[34m*\u001B[0m\u001B[34m*\u001B[0m\u001B[34m*\u001B[0m\u001B[34m*\u001B[0m\u001B[34m*\u001B[0m\u001B[34m*\u001B[0m\u001B[34m*\u001B[0m\u001B[34m*\u001B[0m\u001B[34m*\u001B[0m\u001B[34m*\u001B[0m\u001B[34m*\u001B[0m\u001B[34m*\u001B[0m\u001B[34m*\u001B[0m\u001B[34m*\u001B[0m\u001B[34m*\u001B[0m\u001B[34m*\u001B[0m\u001B[34m*\u001B[0m\u001B[34m*\u001B[0m\u001B[34m*\u001B[0m\u001B[34m*\u001B[0m\u001B[34m*\u001B[0m\u001B[34m*\u001B[0m\u001B[34m*\u001B[0m\u001B[34m*\u001B[0m\u001B[34m*\u001B[0m\u001B[34m*\u001B[0m\u001B[34m*\u001B[0m\u001B[34m*\u001B[0m\u001B[34m*\u001B[0m\u001B[34m*\u001B[0m\u001B[34m*\u001B[0m\u001B[34m*\u001B[0m\u001B[34m*\u001B[0m\u001B[34m*\u001B[0m\n",
      "\u001B[32m** Rozwiązanie ********************************************************************************\u001B[0m\n"
     ]
    },
    {
     "data": {
      "text/plain": [
       "<IPython.core.display.Latex object>"
      ],
      "text/latex": "$$l\\colon  \\frac{x - 5}{-4}= \\frac{y + 1}{0}= \\frac{z - 1}{-3}; \\qquad d(P_3,l) = \\frac{21}{5}$$"
     },
     "metadata": {},
     "output_type": "display_data"
    },
    {
     "name": "stdout",
     "output_type": "stream",
     "text": [
      "\u001B[32m*\u001B[0m\u001B[32m*\u001B[0m\u001B[32m*\u001B[0m\u001B[32m*\u001B[0m\u001B[32m*\u001B[0m\u001B[32m*\u001B[0m\u001B[32m*\u001B[0m\u001B[32m*\u001B[0m\u001B[32m*\u001B[0m\u001B[32m*\u001B[0m\u001B[32m*\u001B[0m\u001B[32m*\u001B[0m\u001B[32m*\u001B[0m\u001B[32m*\u001B[0m\u001B[32m*\u001B[0m\u001B[32m*\u001B[0m\u001B[32m*\u001B[0m\u001B[32m*\u001B[0m\u001B[32m*\u001B[0m\u001B[32m*\u001B[0m\u001B[32m*\u001B[0m\u001B[32m*\u001B[0m\u001B[32m*\u001B[0m\u001B[32m*\u001B[0m\u001B[32m*\u001B[0m\u001B[32m*\u001B[0m\u001B[32m*\u001B[0m\u001B[32m*\u001B[0m\u001B[32m*\u001B[0m\u001B[32m*\u001B[0m\u001B[32m*\u001B[0m\u001B[32m*\u001B[0m\u001B[32m*\u001B[0m\u001B[32m*\u001B[0m\u001B[32m*\u001B[0m\u001B[32m*\u001B[0m\u001B[32m*\u001B[0m\u001B[32m*\u001B[0m\u001B[32m*\u001B[0m\u001B[32m*\u001B[0m\u001B[32m*\u001B[0m\u001B[32m*\u001B[0m\u001B[32m*\u001B[0m\u001B[32m*\u001B[0m\u001B[32m*\u001B[0m\u001B[32m*\u001B[0m\u001B[32m*\u001B[0m\u001B[32m*\u001B[0m\u001B[32m*\u001B[0m\u001B[32m*\u001B[0m\u001B[32m*\u001B[0m\u001B[32m*\u001B[0m\u001B[32m*\u001B[0m\u001B[32m*\u001B[0m\u001B[32m*\u001B[0m\u001B[32m*\u001B[0m\u001B[32m*\u001B[0m\u001B[32m*\u001B[0m\u001B[32m*\u001B[0m\u001B[32m*\u001B[0m\u001B[32m*\u001B[0m\u001B[32m*\u001B[0m\u001B[32m*\u001B[0m\u001B[32m*\u001B[0m\u001B[32m*\u001B[0m\u001B[32m*\u001B[0m\u001B[32m*\u001B[0m\u001B[32m*\u001B[0m\u001B[32m*\u001B[0m\u001B[32m*\u001B[0m\u001B[32m*\u001B[0m\u001B[32m*\u001B[0m\u001B[32m*\u001B[0m\u001B[32m*\u001B[0m\u001B[32m*\u001B[0m\u001B[32m*\u001B[0m\u001B[32m*\u001B[0m\u001B[32m*\u001B[0m\u001B[32m*\u001B[0m\u001B[32m*\u001B[0m\u001B[32m*\u001B[0m\u001B[32m*\u001B[0m\u001B[32m*\u001B[0m\u001B[32m*\u001B[0m\u001B[32m*\u001B[0m\u001B[32m*\u001B[0m\u001B[32m*\u001B[0m\u001B[32m*\u001B[0m\u001B[32m*\u001B[0m\u001B[32m*\u001B[0m\u001B[32m*\u001B[0m\u001B[32m*\u001B[0m\u001B[32m*\u001B[0m\u001B[32m*\u001B[0m\u001B[32m*\u001B[0m\n"
     ]
    }
   ],
   "execution_count": 126
  },
  {
   "metadata": {},
   "cell_type": "markdown",
   "source": "## Równanie płaszczyzny w R^3",
   "id": "a2ca9b3db09ae92"
  },
  {
   "metadata": {
    "ExecuteTime": {
     "end_time": "2024-09-15T18:29:12.993181Z",
     "start_time": "2024-09-15T18:29:12.845733Z"
    }
   },
   "cell_type": "code",
   "source": [
    "zadanie = gz.rownanie_plaszczyzny()\n",
    "zadanie"
   ],
   "id": "ec06394fa2818846",
   "outputs": [
    {
     "data": {
      "text/plain": [
       "('Wyznaczyć równanie płaszczyzny przechodzącej przez punkty\\n\\t\\\\[\\n\\t\\tP_1 = (-2, 3, -2), \\\\quad P_2 = (-2, 4, -3), \\\\quad P_3 = (4, 3, 1).\\n\\t\\\\]\\n\\tObliczyć odległość wyznaczonej płaszczyzny od punktu\\n\\t\\\\[\\n\\t\\tP_4 = (-3, -2, 4).\\n\\t\\\\]',\n",
       " '$\\\\pi\\\\colon 3 x - 6 y - 6 z + 12=0; \\\\qquad d(P_4,\\\\pi) = 1$')"
      ]
     },
     "execution_count": 127,
     "metadata": {},
     "output_type": "execute_result"
    }
   ],
   "execution_count": 127
  },
  {
   "metadata": {
    "ExecuteTime": {
     "end_time": "2024-09-15T18:29:13.019516Z",
     "start_time": "2024-09-15T18:29:13.014264Z"
    }
   },
   "cell_type": "code",
   "source": [
    "print(\"\\033[34m** Zadanie **\" + '*' * 81 + '\\033[0m')\n",
    "print(zadanie[0])\n",
    "print(\"\\033[34m*\\033[0m\" * 95)\n",
    "print(\"\\033[32m** Rozwiązanie **\" + '*' * 78 + '\\033[0m')\n",
    "print(zadanie[1])\n",
    "print(\"\\033[32m*\\033[0m\" * 95)"
   ],
   "id": "a9ff79bf5e594a50",
   "outputs": [
    {
     "name": "stdout",
     "output_type": "stream",
     "text": [
      "\u001B[34m** Zadanie ***********************************************************************************\u001B[0m\n",
      "Wyznaczyć równanie płaszczyzny przechodzącej przez punkty\n",
      "\t\\[\n",
      "\t\tP_1 = (-2, 3, -2), \\quad P_2 = (-2, 4, -3), \\quad P_3 = (4, 3, 1).\n",
      "\t\\]\n",
      "\tObliczyć odległość wyznaczonej płaszczyzny od punktu\n",
      "\t\\[\n",
      "\t\tP_4 = (-3, -2, 4).\n",
      "\t\\]\n",
      "\u001B[34m*\u001B[0m\u001B[34m*\u001B[0m\u001B[34m*\u001B[0m\u001B[34m*\u001B[0m\u001B[34m*\u001B[0m\u001B[34m*\u001B[0m\u001B[34m*\u001B[0m\u001B[34m*\u001B[0m\u001B[34m*\u001B[0m\u001B[34m*\u001B[0m\u001B[34m*\u001B[0m\u001B[34m*\u001B[0m\u001B[34m*\u001B[0m\u001B[34m*\u001B[0m\u001B[34m*\u001B[0m\u001B[34m*\u001B[0m\u001B[34m*\u001B[0m\u001B[34m*\u001B[0m\u001B[34m*\u001B[0m\u001B[34m*\u001B[0m\u001B[34m*\u001B[0m\u001B[34m*\u001B[0m\u001B[34m*\u001B[0m\u001B[34m*\u001B[0m\u001B[34m*\u001B[0m\u001B[34m*\u001B[0m\u001B[34m*\u001B[0m\u001B[34m*\u001B[0m\u001B[34m*\u001B[0m\u001B[34m*\u001B[0m\u001B[34m*\u001B[0m\u001B[34m*\u001B[0m\u001B[34m*\u001B[0m\u001B[34m*\u001B[0m\u001B[34m*\u001B[0m\u001B[34m*\u001B[0m\u001B[34m*\u001B[0m\u001B[34m*\u001B[0m\u001B[34m*\u001B[0m\u001B[34m*\u001B[0m\u001B[34m*\u001B[0m\u001B[34m*\u001B[0m\u001B[34m*\u001B[0m\u001B[34m*\u001B[0m\u001B[34m*\u001B[0m\u001B[34m*\u001B[0m\u001B[34m*\u001B[0m\u001B[34m*\u001B[0m\u001B[34m*\u001B[0m\u001B[34m*\u001B[0m\u001B[34m*\u001B[0m\u001B[34m*\u001B[0m\u001B[34m*\u001B[0m\u001B[34m*\u001B[0m\u001B[34m*\u001B[0m\u001B[34m*\u001B[0m\u001B[34m*\u001B[0m\u001B[34m*\u001B[0m\u001B[34m*\u001B[0m\u001B[34m*\u001B[0m\u001B[34m*\u001B[0m\u001B[34m*\u001B[0m\u001B[34m*\u001B[0m\u001B[34m*\u001B[0m\u001B[34m*\u001B[0m\u001B[34m*\u001B[0m\u001B[34m*\u001B[0m\u001B[34m*\u001B[0m\u001B[34m*\u001B[0m\u001B[34m*\u001B[0m\u001B[34m*\u001B[0m\u001B[34m*\u001B[0m\u001B[34m*\u001B[0m\u001B[34m*\u001B[0m\u001B[34m*\u001B[0m\u001B[34m*\u001B[0m\u001B[34m*\u001B[0m\u001B[34m*\u001B[0m\u001B[34m*\u001B[0m\u001B[34m*\u001B[0m\u001B[34m*\u001B[0m\u001B[34m*\u001B[0m\u001B[34m*\u001B[0m\u001B[34m*\u001B[0m\u001B[34m*\u001B[0m\u001B[34m*\u001B[0m\u001B[34m*\u001B[0m\u001B[34m*\u001B[0m\u001B[34m*\u001B[0m\u001B[34m*\u001B[0m\u001B[34m*\u001B[0m\u001B[34m*\u001B[0m\u001B[34m*\u001B[0m\u001B[34m*\u001B[0m\u001B[34m*\u001B[0m\n",
      "\u001B[32m** Rozwiązanie ********************************************************************************\u001B[0m\n",
      "$\\pi\\colon 3 x - 6 y - 6 z + 12=0; \\qquad d(P_4,\\pi) = 1$\n",
      "\u001B[32m*\u001B[0m\u001B[32m*\u001B[0m\u001B[32m*\u001B[0m\u001B[32m*\u001B[0m\u001B[32m*\u001B[0m\u001B[32m*\u001B[0m\u001B[32m*\u001B[0m\u001B[32m*\u001B[0m\u001B[32m*\u001B[0m\u001B[32m*\u001B[0m\u001B[32m*\u001B[0m\u001B[32m*\u001B[0m\u001B[32m*\u001B[0m\u001B[32m*\u001B[0m\u001B[32m*\u001B[0m\u001B[32m*\u001B[0m\u001B[32m*\u001B[0m\u001B[32m*\u001B[0m\u001B[32m*\u001B[0m\u001B[32m*\u001B[0m\u001B[32m*\u001B[0m\u001B[32m*\u001B[0m\u001B[32m*\u001B[0m\u001B[32m*\u001B[0m\u001B[32m*\u001B[0m\u001B[32m*\u001B[0m\u001B[32m*\u001B[0m\u001B[32m*\u001B[0m\u001B[32m*\u001B[0m\u001B[32m*\u001B[0m\u001B[32m*\u001B[0m\u001B[32m*\u001B[0m\u001B[32m*\u001B[0m\u001B[32m*\u001B[0m\u001B[32m*\u001B[0m\u001B[32m*\u001B[0m\u001B[32m*\u001B[0m\u001B[32m*\u001B[0m\u001B[32m*\u001B[0m\u001B[32m*\u001B[0m\u001B[32m*\u001B[0m\u001B[32m*\u001B[0m\u001B[32m*\u001B[0m\u001B[32m*\u001B[0m\u001B[32m*\u001B[0m\u001B[32m*\u001B[0m\u001B[32m*\u001B[0m\u001B[32m*\u001B[0m\u001B[32m*\u001B[0m\u001B[32m*\u001B[0m\u001B[32m*\u001B[0m\u001B[32m*\u001B[0m\u001B[32m*\u001B[0m\u001B[32m*\u001B[0m\u001B[32m*\u001B[0m\u001B[32m*\u001B[0m\u001B[32m*\u001B[0m\u001B[32m*\u001B[0m\u001B[32m*\u001B[0m\u001B[32m*\u001B[0m\u001B[32m*\u001B[0m\u001B[32m*\u001B[0m\u001B[32m*\u001B[0m\u001B[32m*\u001B[0m\u001B[32m*\u001B[0m\u001B[32m*\u001B[0m\u001B[32m*\u001B[0m\u001B[32m*\u001B[0m\u001B[32m*\u001B[0m\u001B[32m*\u001B[0m\u001B[32m*\u001B[0m\u001B[32m*\u001B[0m\u001B[32m*\u001B[0m\u001B[32m*\u001B[0m\u001B[32m*\u001B[0m\u001B[32m*\u001B[0m\u001B[32m*\u001B[0m\u001B[32m*\u001B[0m\u001B[32m*\u001B[0m\u001B[32m*\u001B[0m\u001B[32m*\u001B[0m\u001B[32m*\u001B[0m\u001B[32m*\u001B[0m\u001B[32m*\u001B[0m\u001B[32m*\u001B[0m\u001B[32m*\u001B[0m\u001B[32m*\u001B[0m\u001B[32m*\u001B[0m\u001B[32m*\u001B[0m\u001B[32m*\u001B[0m\u001B[32m*\u001B[0m\u001B[32m*\u001B[0m\u001B[32m*\u001B[0m\u001B[32m*\u001B[0m\u001B[32m*\u001B[0m\n"
     ]
    }
   ],
   "execution_count": 128
  },
  {
   "metadata": {
    "ExecuteTime": {
     "end_time": "2024-09-15T18:29:14.273906Z",
     "start_time": "2024-09-15T18:29:13.118034Z"
    }
   },
   "cell_type": "code",
   "source": [
    "for i in range(1, ile_zadan_przykladowych + 1):\n",
    "    zadanie = gz.rownanie_plaszczyzny()\n",
    "    print(f\"\\033[34m** Zadanie {i} **\" + '*' * 80 + '\\033[0m')\n",
    "    display(Markdown(zadanie[0].split('\\n\\t')[0]))\n",
    "    display(Latex('$$' + (zadanie[0].split('\\n\\t')[2]) + '$$'))\n",
    "    display(Markdown(zadanie[0].split('\\n\\t')[4]))\n",
    "    display(Latex('$$' + (zadanie[0].split('\\n\\t')[6]) + '$$'))\n",
    "    print(\"\\033[34m*\\033[0m\" * 95)\n",
    "    print(\"\\033[32m** Rozwiązanie **\" + '*' * 78 + '\\033[0m')\n",
    "    display(Latex('$' + zadanie[1] + '$'))\n",
    "    print(\"\\033[32m*\\033[0m\" * 95)"
   ],
   "id": "1f366cd4ea19d006",
   "outputs": [
    {
     "name": "stdout",
     "output_type": "stream",
     "text": [
      "\u001B[34m** Zadanie 1 **********************************************************************************\u001B[0m\n"
     ]
    },
    {
     "data": {
      "text/plain": [
       "<IPython.core.display.Markdown object>"
      ],
      "text/markdown": "Wyznaczyć równanie płaszczyzny przechodzącej przez punkty"
     },
     "metadata": {},
     "output_type": "display_data"
    },
    {
     "data": {
      "text/plain": [
       "<IPython.core.display.Latex object>"
      ],
      "text/latex": "$$\tP_1 = (5, 4, 0), \\quad P_2 = (4, 5, 2), \\quad P_3 = (-1, -1, 1).$$"
     },
     "metadata": {},
     "output_type": "display_data"
    },
    {
     "data": {
      "text/plain": [
       "<IPython.core.display.Markdown object>"
      ],
      "text/markdown": "Obliczyć odległość wyznaczonej płaszczyzny od punktu"
     },
     "metadata": {},
     "output_type": "display_data"
    },
    {
     "data": {
      "text/plain": [
       "<IPython.core.display.Latex object>"
      ],
      "text/latex": "$$\tP_4 = (2, 4, 3).$$"
     },
     "metadata": {},
     "output_type": "display_data"
    },
    {
     "name": "stdout",
     "output_type": "stream",
     "text": [
      "\u001B[34m*\u001B[0m\u001B[34m*\u001B[0m\u001B[34m*\u001B[0m\u001B[34m*\u001B[0m\u001B[34m*\u001B[0m\u001B[34m*\u001B[0m\u001B[34m*\u001B[0m\u001B[34m*\u001B[0m\u001B[34m*\u001B[0m\u001B[34m*\u001B[0m\u001B[34m*\u001B[0m\u001B[34m*\u001B[0m\u001B[34m*\u001B[0m\u001B[34m*\u001B[0m\u001B[34m*\u001B[0m\u001B[34m*\u001B[0m\u001B[34m*\u001B[0m\u001B[34m*\u001B[0m\u001B[34m*\u001B[0m\u001B[34m*\u001B[0m\u001B[34m*\u001B[0m\u001B[34m*\u001B[0m\u001B[34m*\u001B[0m\u001B[34m*\u001B[0m\u001B[34m*\u001B[0m\u001B[34m*\u001B[0m\u001B[34m*\u001B[0m\u001B[34m*\u001B[0m\u001B[34m*\u001B[0m\u001B[34m*\u001B[0m\u001B[34m*\u001B[0m\u001B[34m*\u001B[0m\u001B[34m*\u001B[0m\u001B[34m*\u001B[0m\u001B[34m*\u001B[0m\u001B[34m*\u001B[0m\u001B[34m*\u001B[0m\u001B[34m*\u001B[0m\u001B[34m*\u001B[0m\u001B[34m*\u001B[0m\u001B[34m*\u001B[0m\u001B[34m*\u001B[0m\u001B[34m*\u001B[0m\u001B[34m*\u001B[0m\u001B[34m*\u001B[0m\u001B[34m*\u001B[0m\u001B[34m*\u001B[0m\u001B[34m*\u001B[0m\u001B[34m*\u001B[0m\u001B[34m*\u001B[0m\u001B[34m*\u001B[0m\u001B[34m*\u001B[0m\u001B[34m*\u001B[0m\u001B[34m*\u001B[0m\u001B[34m*\u001B[0m\u001B[34m*\u001B[0m\u001B[34m*\u001B[0m\u001B[34m*\u001B[0m\u001B[34m*\u001B[0m\u001B[34m*\u001B[0m\u001B[34m*\u001B[0m\u001B[34m*\u001B[0m\u001B[34m*\u001B[0m\u001B[34m*\u001B[0m\u001B[34m*\u001B[0m\u001B[34m*\u001B[0m\u001B[34m*\u001B[0m\u001B[34m*\u001B[0m\u001B[34m*\u001B[0m\u001B[34m*\u001B[0m\u001B[34m*\u001B[0m\u001B[34m*\u001B[0m\u001B[34m*\u001B[0m\u001B[34m*\u001B[0m\u001B[34m*\u001B[0m\u001B[34m*\u001B[0m\u001B[34m*\u001B[0m\u001B[34m*\u001B[0m\u001B[34m*\u001B[0m\u001B[34m*\u001B[0m\u001B[34m*\u001B[0m\u001B[34m*\u001B[0m\u001B[34m*\u001B[0m\u001B[34m*\u001B[0m\u001B[34m*\u001B[0m\u001B[34m*\u001B[0m\u001B[34m*\u001B[0m\u001B[34m*\u001B[0m\u001B[34m*\u001B[0m\u001B[34m*\u001B[0m\u001B[34m*\u001B[0m\u001B[34m*\u001B[0m\u001B[34m*\u001B[0m\u001B[34m*\u001B[0m\u001B[34m*\u001B[0m\n",
      "\u001B[32m** Rozwiązanie ********************************************************************************\u001B[0m\n"
     ]
    },
    {
     "data": {
      "text/plain": [
       "<IPython.core.display.Latex object>"
      ],
      "text/latex": "$$\\pi\\colon 11 x - 11 y + 11 z - 11=0; \\qquad d(P_4,\\pi) = 0$$"
     },
     "metadata": {},
     "output_type": "display_data"
    },
    {
     "name": "stdout",
     "output_type": "stream",
     "text": [
      "\u001B[32m*\u001B[0m\u001B[32m*\u001B[0m\u001B[32m*\u001B[0m\u001B[32m*\u001B[0m\u001B[32m*\u001B[0m\u001B[32m*\u001B[0m\u001B[32m*\u001B[0m\u001B[32m*\u001B[0m\u001B[32m*\u001B[0m\u001B[32m*\u001B[0m\u001B[32m*\u001B[0m\u001B[32m*\u001B[0m\u001B[32m*\u001B[0m\u001B[32m*\u001B[0m\u001B[32m*\u001B[0m\u001B[32m*\u001B[0m\u001B[32m*\u001B[0m\u001B[32m*\u001B[0m\u001B[32m*\u001B[0m\u001B[32m*\u001B[0m\u001B[32m*\u001B[0m\u001B[32m*\u001B[0m\u001B[32m*\u001B[0m\u001B[32m*\u001B[0m\u001B[32m*\u001B[0m\u001B[32m*\u001B[0m\u001B[32m*\u001B[0m\u001B[32m*\u001B[0m\u001B[32m*\u001B[0m\u001B[32m*\u001B[0m\u001B[32m*\u001B[0m\u001B[32m*\u001B[0m\u001B[32m*\u001B[0m\u001B[32m*\u001B[0m\u001B[32m*\u001B[0m\u001B[32m*\u001B[0m\u001B[32m*\u001B[0m\u001B[32m*\u001B[0m\u001B[32m*\u001B[0m\u001B[32m*\u001B[0m\u001B[32m*\u001B[0m\u001B[32m*\u001B[0m\u001B[32m*\u001B[0m\u001B[32m*\u001B[0m\u001B[32m*\u001B[0m\u001B[32m*\u001B[0m\u001B[32m*\u001B[0m\u001B[32m*\u001B[0m\u001B[32m*\u001B[0m\u001B[32m*\u001B[0m\u001B[32m*\u001B[0m\u001B[32m*\u001B[0m\u001B[32m*\u001B[0m\u001B[32m*\u001B[0m\u001B[32m*\u001B[0m\u001B[32m*\u001B[0m\u001B[32m*\u001B[0m\u001B[32m*\u001B[0m\u001B[32m*\u001B[0m\u001B[32m*\u001B[0m\u001B[32m*\u001B[0m\u001B[32m*\u001B[0m\u001B[32m*\u001B[0m\u001B[32m*\u001B[0m\u001B[32m*\u001B[0m\u001B[32m*\u001B[0m\u001B[32m*\u001B[0m\u001B[32m*\u001B[0m\u001B[32m*\u001B[0m\u001B[32m*\u001B[0m\u001B[32m*\u001B[0m\u001B[32m*\u001B[0m\u001B[32m*\u001B[0m\u001B[32m*\u001B[0m\u001B[32m*\u001B[0m\u001B[32m*\u001B[0m\u001B[32m*\u001B[0m\u001B[32m*\u001B[0m\u001B[32m*\u001B[0m\u001B[32m*\u001B[0m\u001B[32m*\u001B[0m\u001B[32m*\u001B[0m\u001B[32m*\u001B[0m\u001B[32m*\u001B[0m\u001B[32m*\u001B[0m\u001B[32m*\u001B[0m\u001B[32m*\u001B[0m\u001B[32m*\u001B[0m\u001B[32m*\u001B[0m\u001B[32m*\u001B[0m\u001B[32m*\u001B[0m\u001B[32m*\u001B[0m\u001B[32m*\u001B[0m\u001B[32m*\u001B[0m\u001B[32m*\u001B[0m\n",
      "\u001B[34m** Zadanie 2 **********************************************************************************\u001B[0m\n"
     ]
    },
    {
     "data": {
      "text/plain": [
       "<IPython.core.display.Markdown object>"
      ],
      "text/markdown": "Wyznaczyć równanie płaszczyzny przechodzącej przez punkty"
     },
     "metadata": {},
     "output_type": "display_data"
    },
    {
     "data": {
      "text/plain": [
       "<IPython.core.display.Latex object>"
      ],
      "text/latex": "$$\tP_1 = (0, -1, 0), \\quad P_2 = (-3, 2, -3), \\quad P_3 = (-2, -2, -2).$$"
     },
     "metadata": {},
     "output_type": "display_data"
    },
    {
     "data": {
      "text/plain": [
       "<IPython.core.display.Markdown object>"
      ],
      "text/markdown": "Obliczyć odległość wyznaczonej płaszczyzny od punktu"
     },
     "metadata": {},
     "output_type": "display_data"
    },
    {
     "data": {
      "text/plain": [
       "<IPython.core.display.Latex object>"
      ],
      "text/latex": "$$\tP_4 = (-3, 5, -3).$$"
     },
     "metadata": {},
     "output_type": "display_data"
    },
    {
     "name": "stdout",
     "output_type": "stream",
     "text": [
      "\u001B[34m*\u001B[0m\u001B[34m*\u001B[0m\u001B[34m*\u001B[0m\u001B[34m*\u001B[0m\u001B[34m*\u001B[0m\u001B[34m*\u001B[0m\u001B[34m*\u001B[0m\u001B[34m*\u001B[0m\u001B[34m*\u001B[0m\u001B[34m*\u001B[0m\u001B[34m*\u001B[0m\u001B[34m*\u001B[0m\u001B[34m*\u001B[0m\u001B[34m*\u001B[0m\u001B[34m*\u001B[0m\u001B[34m*\u001B[0m\u001B[34m*\u001B[0m\u001B[34m*\u001B[0m\u001B[34m*\u001B[0m\u001B[34m*\u001B[0m\u001B[34m*\u001B[0m\u001B[34m*\u001B[0m\u001B[34m*\u001B[0m\u001B[34m*\u001B[0m\u001B[34m*\u001B[0m\u001B[34m*\u001B[0m\u001B[34m*\u001B[0m\u001B[34m*\u001B[0m\u001B[34m*\u001B[0m\u001B[34m*\u001B[0m\u001B[34m*\u001B[0m\u001B[34m*\u001B[0m\u001B[34m*\u001B[0m\u001B[34m*\u001B[0m\u001B[34m*\u001B[0m\u001B[34m*\u001B[0m\u001B[34m*\u001B[0m\u001B[34m*\u001B[0m\u001B[34m*\u001B[0m\u001B[34m*\u001B[0m\u001B[34m*\u001B[0m\u001B[34m*\u001B[0m\u001B[34m*\u001B[0m\u001B[34m*\u001B[0m\u001B[34m*\u001B[0m\u001B[34m*\u001B[0m\u001B[34m*\u001B[0m\u001B[34m*\u001B[0m\u001B[34m*\u001B[0m\u001B[34m*\u001B[0m\u001B[34m*\u001B[0m\u001B[34m*\u001B[0m\u001B[34m*\u001B[0m\u001B[34m*\u001B[0m\u001B[34m*\u001B[0m\u001B[34m*\u001B[0m\u001B[34m*\u001B[0m\u001B[34m*\u001B[0m\u001B[34m*\u001B[0m\u001B[34m*\u001B[0m\u001B[34m*\u001B[0m\u001B[34m*\u001B[0m\u001B[34m*\u001B[0m\u001B[34m*\u001B[0m\u001B[34m*\u001B[0m\u001B[34m*\u001B[0m\u001B[34m*\u001B[0m\u001B[34m*\u001B[0m\u001B[34m*\u001B[0m\u001B[34m*\u001B[0m\u001B[34m*\u001B[0m\u001B[34m*\u001B[0m\u001B[34m*\u001B[0m\u001B[34m*\u001B[0m\u001B[34m*\u001B[0m\u001B[34m*\u001B[0m\u001B[34m*\u001B[0m\u001B[34m*\u001B[0m\u001B[34m*\u001B[0m\u001B[34m*\u001B[0m\u001B[34m*\u001B[0m\u001B[34m*\u001B[0m\u001B[34m*\u001B[0m\u001B[34m*\u001B[0m\u001B[34m*\u001B[0m\u001B[34m*\u001B[0m\u001B[34m*\u001B[0m\u001B[34m*\u001B[0m\u001B[34m*\u001B[0m\u001B[34m*\u001B[0m\u001B[34m*\u001B[0m\u001B[34m*\u001B[0m\u001B[34m*\u001B[0m\u001B[34m*\u001B[0m\u001B[34m*\u001B[0m\n",
      "\u001B[32m** Rozwiązanie ********************************************************************************\u001B[0m\n"
     ]
    },
    {
     "data": {
      "text/plain": [
       "<IPython.core.display.Latex object>"
      ],
      "text/latex": "$$\\pi\\colon - 9 x + 9 z=0; \\qquad d(P_4,\\pi) = 0$$"
     },
     "metadata": {},
     "output_type": "display_data"
    },
    {
     "name": "stdout",
     "output_type": "stream",
     "text": [
      "\u001B[32m*\u001B[0m\u001B[32m*\u001B[0m\u001B[32m*\u001B[0m\u001B[32m*\u001B[0m\u001B[32m*\u001B[0m\u001B[32m*\u001B[0m\u001B[32m*\u001B[0m\u001B[32m*\u001B[0m\u001B[32m*\u001B[0m\u001B[32m*\u001B[0m\u001B[32m*\u001B[0m\u001B[32m*\u001B[0m\u001B[32m*\u001B[0m\u001B[32m*\u001B[0m\u001B[32m*\u001B[0m\u001B[32m*\u001B[0m\u001B[32m*\u001B[0m\u001B[32m*\u001B[0m\u001B[32m*\u001B[0m\u001B[32m*\u001B[0m\u001B[32m*\u001B[0m\u001B[32m*\u001B[0m\u001B[32m*\u001B[0m\u001B[32m*\u001B[0m\u001B[32m*\u001B[0m\u001B[32m*\u001B[0m\u001B[32m*\u001B[0m\u001B[32m*\u001B[0m\u001B[32m*\u001B[0m\u001B[32m*\u001B[0m\u001B[32m*\u001B[0m\u001B[32m*\u001B[0m\u001B[32m*\u001B[0m\u001B[32m*\u001B[0m\u001B[32m*\u001B[0m\u001B[32m*\u001B[0m\u001B[32m*\u001B[0m\u001B[32m*\u001B[0m\u001B[32m*\u001B[0m\u001B[32m*\u001B[0m\u001B[32m*\u001B[0m\u001B[32m*\u001B[0m\u001B[32m*\u001B[0m\u001B[32m*\u001B[0m\u001B[32m*\u001B[0m\u001B[32m*\u001B[0m\u001B[32m*\u001B[0m\u001B[32m*\u001B[0m\u001B[32m*\u001B[0m\u001B[32m*\u001B[0m\u001B[32m*\u001B[0m\u001B[32m*\u001B[0m\u001B[32m*\u001B[0m\u001B[32m*\u001B[0m\u001B[32m*\u001B[0m\u001B[32m*\u001B[0m\u001B[32m*\u001B[0m\u001B[32m*\u001B[0m\u001B[32m*\u001B[0m\u001B[32m*\u001B[0m\u001B[32m*\u001B[0m\u001B[32m*\u001B[0m\u001B[32m*\u001B[0m\u001B[32m*\u001B[0m\u001B[32m*\u001B[0m\u001B[32m*\u001B[0m\u001B[32m*\u001B[0m\u001B[32m*\u001B[0m\u001B[32m*\u001B[0m\u001B[32m*\u001B[0m\u001B[32m*\u001B[0m\u001B[32m*\u001B[0m\u001B[32m*\u001B[0m\u001B[32m*\u001B[0m\u001B[32m*\u001B[0m\u001B[32m*\u001B[0m\u001B[32m*\u001B[0m\u001B[32m*\u001B[0m\u001B[32m*\u001B[0m\u001B[32m*\u001B[0m\u001B[32m*\u001B[0m\u001B[32m*\u001B[0m\u001B[32m*\u001B[0m\u001B[32m*\u001B[0m\u001B[32m*\u001B[0m\u001B[32m*\u001B[0m\u001B[32m*\u001B[0m\u001B[32m*\u001B[0m\u001B[32m*\u001B[0m\u001B[32m*\u001B[0m\u001B[32m*\u001B[0m\u001B[32m*\u001B[0m\u001B[32m*\u001B[0m\u001B[32m*\u001B[0m\u001B[32m*\u001B[0m\n",
      "\u001B[34m** Zadanie 3 **********************************************************************************\u001B[0m\n"
     ]
    },
    {
     "data": {
      "text/plain": [
       "<IPython.core.display.Markdown object>"
      ],
      "text/markdown": "Wyznaczyć równanie płaszczyzny przechodzącej przez punkty"
     },
     "metadata": {},
     "output_type": "display_data"
    },
    {
     "data": {
      "text/plain": [
       "<IPython.core.display.Latex object>"
      ],
      "text/latex": "$$\tP_1 = (1, -3, 3), \\quad P_2 = (3, 0, 4), \\quad P_3 = (4, 3, 3).$$"
     },
     "metadata": {},
     "output_type": "display_data"
    },
    {
     "data": {
      "text/plain": [
       "<IPython.core.display.Markdown object>"
      ],
      "text/markdown": "Obliczyć odległość wyznaczonej płaszczyzny od punktu"
     },
     "metadata": {},
     "output_type": "display_data"
    },
    {
     "data": {
      "text/plain": [
       "<IPython.core.display.Latex object>"
      ],
      "text/latex": "$$\tP_4 = (0, -1, -1).$$"
     },
     "metadata": {},
     "output_type": "display_data"
    },
    {
     "name": "stdout",
     "output_type": "stream",
     "text": [
      "\u001B[34m*\u001B[0m\u001B[34m*\u001B[0m\u001B[34m*\u001B[0m\u001B[34m*\u001B[0m\u001B[34m*\u001B[0m\u001B[34m*\u001B[0m\u001B[34m*\u001B[0m\u001B[34m*\u001B[0m\u001B[34m*\u001B[0m\u001B[34m*\u001B[0m\u001B[34m*\u001B[0m\u001B[34m*\u001B[0m\u001B[34m*\u001B[0m\u001B[34m*\u001B[0m\u001B[34m*\u001B[0m\u001B[34m*\u001B[0m\u001B[34m*\u001B[0m\u001B[34m*\u001B[0m\u001B[34m*\u001B[0m\u001B[34m*\u001B[0m\u001B[34m*\u001B[0m\u001B[34m*\u001B[0m\u001B[34m*\u001B[0m\u001B[34m*\u001B[0m\u001B[34m*\u001B[0m\u001B[34m*\u001B[0m\u001B[34m*\u001B[0m\u001B[34m*\u001B[0m\u001B[34m*\u001B[0m\u001B[34m*\u001B[0m\u001B[34m*\u001B[0m\u001B[34m*\u001B[0m\u001B[34m*\u001B[0m\u001B[34m*\u001B[0m\u001B[34m*\u001B[0m\u001B[34m*\u001B[0m\u001B[34m*\u001B[0m\u001B[34m*\u001B[0m\u001B[34m*\u001B[0m\u001B[34m*\u001B[0m\u001B[34m*\u001B[0m\u001B[34m*\u001B[0m\u001B[34m*\u001B[0m\u001B[34m*\u001B[0m\u001B[34m*\u001B[0m\u001B[34m*\u001B[0m\u001B[34m*\u001B[0m\u001B[34m*\u001B[0m\u001B[34m*\u001B[0m\u001B[34m*\u001B[0m\u001B[34m*\u001B[0m\u001B[34m*\u001B[0m\u001B[34m*\u001B[0m\u001B[34m*\u001B[0m\u001B[34m*\u001B[0m\u001B[34m*\u001B[0m\u001B[34m*\u001B[0m\u001B[34m*\u001B[0m\u001B[34m*\u001B[0m\u001B[34m*\u001B[0m\u001B[34m*\u001B[0m\u001B[34m*\u001B[0m\u001B[34m*\u001B[0m\u001B[34m*\u001B[0m\u001B[34m*\u001B[0m\u001B[34m*\u001B[0m\u001B[34m*\u001B[0m\u001B[34m*\u001B[0m\u001B[34m*\u001B[0m\u001B[34m*\u001B[0m\u001B[34m*\u001B[0m\u001B[34m*\u001B[0m\u001B[34m*\u001B[0m\u001B[34m*\u001B[0m\u001B[34m*\u001B[0m\u001B[34m*\u001B[0m\u001B[34m*\u001B[0m\u001B[34m*\u001B[0m\u001B[34m*\u001B[0m\u001B[34m*\u001B[0m\u001B[34m*\u001B[0m\u001B[34m*\u001B[0m\u001B[34m*\u001B[0m\u001B[34m*\u001B[0m\u001B[34m*\u001B[0m\u001B[34m*\u001B[0m\u001B[34m*\u001B[0m\u001B[34m*\u001B[0m\u001B[34m*\u001B[0m\u001B[34m*\u001B[0m\u001B[34m*\u001B[0m\u001B[34m*\u001B[0m\u001B[34m*\u001B[0m\u001B[34m*\u001B[0m\u001B[34m*\u001B[0m\n",
      "\u001B[32m** Rozwiązanie ********************************************************************************\u001B[0m\n"
     ]
    },
    {
     "data": {
      "text/plain": [
       "<IPython.core.display.Latex object>"
      ],
      "text/latex": "$$\\pi\\colon - 6 x + 3 y + 3 z + 6=0; \\qquad d(P_4,\\pi) = 0$$"
     },
     "metadata": {},
     "output_type": "display_data"
    },
    {
     "name": "stdout",
     "output_type": "stream",
     "text": [
      "\u001B[32m*\u001B[0m\u001B[32m*\u001B[0m\u001B[32m*\u001B[0m\u001B[32m*\u001B[0m\u001B[32m*\u001B[0m\u001B[32m*\u001B[0m\u001B[32m*\u001B[0m\u001B[32m*\u001B[0m\u001B[32m*\u001B[0m\u001B[32m*\u001B[0m\u001B[32m*\u001B[0m\u001B[32m*\u001B[0m\u001B[32m*\u001B[0m\u001B[32m*\u001B[0m\u001B[32m*\u001B[0m\u001B[32m*\u001B[0m\u001B[32m*\u001B[0m\u001B[32m*\u001B[0m\u001B[32m*\u001B[0m\u001B[32m*\u001B[0m\u001B[32m*\u001B[0m\u001B[32m*\u001B[0m\u001B[32m*\u001B[0m\u001B[32m*\u001B[0m\u001B[32m*\u001B[0m\u001B[32m*\u001B[0m\u001B[32m*\u001B[0m\u001B[32m*\u001B[0m\u001B[32m*\u001B[0m\u001B[32m*\u001B[0m\u001B[32m*\u001B[0m\u001B[32m*\u001B[0m\u001B[32m*\u001B[0m\u001B[32m*\u001B[0m\u001B[32m*\u001B[0m\u001B[32m*\u001B[0m\u001B[32m*\u001B[0m\u001B[32m*\u001B[0m\u001B[32m*\u001B[0m\u001B[32m*\u001B[0m\u001B[32m*\u001B[0m\u001B[32m*\u001B[0m\u001B[32m*\u001B[0m\u001B[32m*\u001B[0m\u001B[32m*\u001B[0m\u001B[32m*\u001B[0m\u001B[32m*\u001B[0m\u001B[32m*\u001B[0m\u001B[32m*\u001B[0m\u001B[32m*\u001B[0m\u001B[32m*\u001B[0m\u001B[32m*\u001B[0m\u001B[32m*\u001B[0m\u001B[32m*\u001B[0m\u001B[32m*\u001B[0m\u001B[32m*\u001B[0m\u001B[32m*\u001B[0m\u001B[32m*\u001B[0m\u001B[32m*\u001B[0m\u001B[32m*\u001B[0m\u001B[32m*\u001B[0m\u001B[32m*\u001B[0m\u001B[32m*\u001B[0m\u001B[32m*\u001B[0m\u001B[32m*\u001B[0m\u001B[32m*\u001B[0m\u001B[32m*\u001B[0m\u001B[32m*\u001B[0m\u001B[32m*\u001B[0m\u001B[32m*\u001B[0m\u001B[32m*\u001B[0m\u001B[32m*\u001B[0m\u001B[32m*\u001B[0m\u001B[32m*\u001B[0m\u001B[32m*\u001B[0m\u001B[32m*\u001B[0m\u001B[32m*\u001B[0m\u001B[32m*\u001B[0m\u001B[32m*\u001B[0m\u001B[32m*\u001B[0m\u001B[32m*\u001B[0m\u001B[32m*\u001B[0m\u001B[32m*\u001B[0m\u001B[32m*\u001B[0m\u001B[32m*\u001B[0m\u001B[32m*\u001B[0m\u001B[32m*\u001B[0m\u001B[32m*\u001B[0m\u001B[32m*\u001B[0m\u001B[32m*\u001B[0m\u001B[32m*\u001B[0m\u001B[32m*\u001B[0m\u001B[32m*\u001B[0m\u001B[32m*\u001B[0m\u001B[32m*\u001B[0m\n",
      "\u001B[34m** Zadanie 4 **********************************************************************************\u001B[0m\n"
     ]
    },
    {
     "data": {
      "text/plain": [
       "<IPython.core.display.Markdown object>"
      ],
      "text/markdown": "Wyznaczyć równanie płaszczyzny przechodzącej przez punkty"
     },
     "metadata": {},
     "output_type": "display_data"
    },
    {
     "data": {
      "text/plain": [
       "<IPython.core.display.Latex object>"
      ],
      "text/latex": "$$\tP_1 = (-1, 5, 3), \\quad P_2 = (3, -3, 0), \\quad P_3 = (3, 3, 0).$$"
     },
     "metadata": {},
     "output_type": "display_data"
    },
    {
     "data": {
      "text/plain": [
       "<IPython.core.display.Markdown object>"
      ],
      "text/markdown": "Obliczyć odległość wyznaczonej płaszczyzny od punktu"
     },
     "metadata": {},
     "output_type": "display_data"
    },
    {
     "data": {
      "text/plain": [
       "<IPython.core.display.Latex object>"
      ],
      "text/latex": "$$\tP_4 = (3, 5, -1).$$"
     },
     "metadata": {},
     "output_type": "display_data"
    },
    {
     "name": "stdout",
     "output_type": "stream",
     "text": [
      "\u001B[34m*\u001B[0m\u001B[34m*\u001B[0m\u001B[34m*\u001B[0m\u001B[34m*\u001B[0m\u001B[34m*\u001B[0m\u001B[34m*\u001B[0m\u001B[34m*\u001B[0m\u001B[34m*\u001B[0m\u001B[34m*\u001B[0m\u001B[34m*\u001B[0m\u001B[34m*\u001B[0m\u001B[34m*\u001B[0m\u001B[34m*\u001B[0m\u001B[34m*\u001B[0m\u001B[34m*\u001B[0m\u001B[34m*\u001B[0m\u001B[34m*\u001B[0m\u001B[34m*\u001B[0m\u001B[34m*\u001B[0m\u001B[34m*\u001B[0m\u001B[34m*\u001B[0m\u001B[34m*\u001B[0m\u001B[34m*\u001B[0m\u001B[34m*\u001B[0m\u001B[34m*\u001B[0m\u001B[34m*\u001B[0m\u001B[34m*\u001B[0m\u001B[34m*\u001B[0m\u001B[34m*\u001B[0m\u001B[34m*\u001B[0m\u001B[34m*\u001B[0m\u001B[34m*\u001B[0m\u001B[34m*\u001B[0m\u001B[34m*\u001B[0m\u001B[34m*\u001B[0m\u001B[34m*\u001B[0m\u001B[34m*\u001B[0m\u001B[34m*\u001B[0m\u001B[34m*\u001B[0m\u001B[34m*\u001B[0m\u001B[34m*\u001B[0m\u001B[34m*\u001B[0m\u001B[34m*\u001B[0m\u001B[34m*\u001B[0m\u001B[34m*\u001B[0m\u001B[34m*\u001B[0m\u001B[34m*\u001B[0m\u001B[34m*\u001B[0m\u001B[34m*\u001B[0m\u001B[34m*\u001B[0m\u001B[34m*\u001B[0m\u001B[34m*\u001B[0m\u001B[34m*\u001B[0m\u001B[34m*\u001B[0m\u001B[34m*\u001B[0m\u001B[34m*\u001B[0m\u001B[34m*\u001B[0m\u001B[34m*\u001B[0m\u001B[34m*\u001B[0m\u001B[34m*\u001B[0m\u001B[34m*\u001B[0m\u001B[34m*\u001B[0m\u001B[34m*\u001B[0m\u001B[34m*\u001B[0m\u001B[34m*\u001B[0m\u001B[34m*\u001B[0m\u001B[34m*\u001B[0m\u001B[34m*\u001B[0m\u001B[34m*\u001B[0m\u001B[34m*\u001B[0m\u001B[34m*\u001B[0m\u001B[34m*\u001B[0m\u001B[34m*\u001B[0m\u001B[34m*\u001B[0m\u001B[34m*\u001B[0m\u001B[34m*\u001B[0m\u001B[34m*\u001B[0m\u001B[34m*\u001B[0m\u001B[34m*\u001B[0m\u001B[34m*\u001B[0m\u001B[34m*\u001B[0m\u001B[34m*\u001B[0m\u001B[34m*\u001B[0m\u001B[34m*\u001B[0m\u001B[34m*\u001B[0m\u001B[34m*\u001B[0m\u001B[34m*\u001B[0m\u001B[34m*\u001B[0m\u001B[34m*\u001B[0m\u001B[34m*\u001B[0m\u001B[34m*\u001B[0m\u001B[34m*\u001B[0m\u001B[34m*\u001B[0m\u001B[34m*\u001B[0m\u001B[34m*\u001B[0m\n",
      "\u001B[32m** Rozwiązanie ********************************************************************************\u001B[0m\n"
     ]
    },
    {
     "data": {
      "text/plain": [
       "<IPython.core.display.Latex object>"
      ],
      "text/latex": "$$\\pi\\colon 18 x + 24 z - 54=0; \\qquad d(P_4,\\pi) = \\frac{4}{5}$$"
     },
     "metadata": {},
     "output_type": "display_data"
    },
    {
     "name": "stdout",
     "output_type": "stream",
     "text": [
      "\u001B[32m*\u001B[0m\u001B[32m*\u001B[0m\u001B[32m*\u001B[0m\u001B[32m*\u001B[0m\u001B[32m*\u001B[0m\u001B[32m*\u001B[0m\u001B[32m*\u001B[0m\u001B[32m*\u001B[0m\u001B[32m*\u001B[0m\u001B[32m*\u001B[0m\u001B[32m*\u001B[0m\u001B[32m*\u001B[0m\u001B[32m*\u001B[0m\u001B[32m*\u001B[0m\u001B[32m*\u001B[0m\u001B[32m*\u001B[0m\u001B[32m*\u001B[0m\u001B[32m*\u001B[0m\u001B[32m*\u001B[0m\u001B[32m*\u001B[0m\u001B[32m*\u001B[0m\u001B[32m*\u001B[0m\u001B[32m*\u001B[0m\u001B[32m*\u001B[0m\u001B[32m*\u001B[0m\u001B[32m*\u001B[0m\u001B[32m*\u001B[0m\u001B[32m*\u001B[0m\u001B[32m*\u001B[0m\u001B[32m*\u001B[0m\u001B[32m*\u001B[0m\u001B[32m*\u001B[0m\u001B[32m*\u001B[0m\u001B[32m*\u001B[0m\u001B[32m*\u001B[0m\u001B[32m*\u001B[0m\u001B[32m*\u001B[0m\u001B[32m*\u001B[0m\u001B[32m*\u001B[0m\u001B[32m*\u001B[0m\u001B[32m*\u001B[0m\u001B[32m*\u001B[0m\u001B[32m*\u001B[0m\u001B[32m*\u001B[0m\u001B[32m*\u001B[0m\u001B[32m*\u001B[0m\u001B[32m*\u001B[0m\u001B[32m*\u001B[0m\u001B[32m*\u001B[0m\u001B[32m*\u001B[0m\u001B[32m*\u001B[0m\u001B[32m*\u001B[0m\u001B[32m*\u001B[0m\u001B[32m*\u001B[0m\u001B[32m*\u001B[0m\u001B[32m*\u001B[0m\u001B[32m*\u001B[0m\u001B[32m*\u001B[0m\u001B[32m*\u001B[0m\u001B[32m*\u001B[0m\u001B[32m*\u001B[0m\u001B[32m*\u001B[0m\u001B[32m*\u001B[0m\u001B[32m*\u001B[0m\u001B[32m*\u001B[0m\u001B[32m*\u001B[0m\u001B[32m*\u001B[0m\u001B[32m*\u001B[0m\u001B[32m*\u001B[0m\u001B[32m*\u001B[0m\u001B[32m*\u001B[0m\u001B[32m*\u001B[0m\u001B[32m*\u001B[0m\u001B[32m*\u001B[0m\u001B[32m*\u001B[0m\u001B[32m*\u001B[0m\u001B[32m*\u001B[0m\u001B[32m*\u001B[0m\u001B[32m*\u001B[0m\u001B[32m*\u001B[0m\u001B[32m*\u001B[0m\u001B[32m*\u001B[0m\u001B[32m*\u001B[0m\u001B[32m*\u001B[0m\u001B[32m*\u001B[0m\u001B[32m*\u001B[0m\u001B[32m*\u001B[0m\u001B[32m*\u001B[0m\u001B[32m*\u001B[0m\u001B[32m*\u001B[0m\u001B[32m*\u001B[0m\u001B[32m*\u001B[0m\u001B[32m*\u001B[0m\u001B[32m*\u001B[0m\u001B[32m*\u001B[0m\n",
      "\u001B[34m** Zadanie 5 **********************************************************************************\u001B[0m\n"
     ]
    },
    {
     "data": {
      "text/plain": [
       "<IPython.core.display.Markdown object>"
      ],
      "text/markdown": "Wyznaczyć równanie płaszczyzny przechodzącej przez punkty"
     },
     "metadata": {},
     "output_type": "display_data"
    },
    {
     "data": {
      "text/plain": [
       "<IPython.core.display.Latex object>"
      ],
      "text/latex": "$$\tP_1 = (2, 1, 2), \\quad P_2 = (0, -2, 4), \\quad P_3 = (-2, 2, -1).$$"
     },
     "metadata": {},
     "output_type": "display_data"
    },
    {
     "data": {
      "text/plain": [
       "<IPython.core.display.Markdown object>"
      ],
      "text/markdown": "Obliczyć odległość wyznaczonej płaszczyzny od punktu"
     },
     "metadata": {},
     "output_type": "display_data"
    },
    {
     "data": {
      "text/plain": [
       "<IPython.core.display.Latex object>"
      ],
      "text/latex": "$$\tP_4 = (5, 2, 1).$$"
     },
     "metadata": {},
     "output_type": "display_data"
    },
    {
     "name": "stdout",
     "output_type": "stream",
     "text": [
      "\u001B[34m*\u001B[0m\u001B[34m*\u001B[0m\u001B[34m*\u001B[0m\u001B[34m*\u001B[0m\u001B[34m*\u001B[0m\u001B[34m*\u001B[0m\u001B[34m*\u001B[0m\u001B[34m*\u001B[0m\u001B[34m*\u001B[0m\u001B[34m*\u001B[0m\u001B[34m*\u001B[0m\u001B[34m*\u001B[0m\u001B[34m*\u001B[0m\u001B[34m*\u001B[0m\u001B[34m*\u001B[0m\u001B[34m*\u001B[0m\u001B[34m*\u001B[0m\u001B[34m*\u001B[0m\u001B[34m*\u001B[0m\u001B[34m*\u001B[0m\u001B[34m*\u001B[0m\u001B[34m*\u001B[0m\u001B[34m*\u001B[0m\u001B[34m*\u001B[0m\u001B[34m*\u001B[0m\u001B[34m*\u001B[0m\u001B[34m*\u001B[0m\u001B[34m*\u001B[0m\u001B[34m*\u001B[0m\u001B[34m*\u001B[0m\u001B[34m*\u001B[0m\u001B[34m*\u001B[0m\u001B[34m*\u001B[0m\u001B[34m*\u001B[0m\u001B[34m*\u001B[0m\u001B[34m*\u001B[0m\u001B[34m*\u001B[0m\u001B[34m*\u001B[0m\u001B[34m*\u001B[0m\u001B[34m*\u001B[0m\u001B[34m*\u001B[0m\u001B[34m*\u001B[0m\u001B[34m*\u001B[0m\u001B[34m*\u001B[0m\u001B[34m*\u001B[0m\u001B[34m*\u001B[0m\u001B[34m*\u001B[0m\u001B[34m*\u001B[0m\u001B[34m*\u001B[0m\u001B[34m*\u001B[0m\u001B[34m*\u001B[0m\u001B[34m*\u001B[0m\u001B[34m*\u001B[0m\u001B[34m*\u001B[0m\u001B[34m*\u001B[0m\u001B[34m*\u001B[0m\u001B[34m*\u001B[0m\u001B[34m*\u001B[0m\u001B[34m*\u001B[0m\u001B[34m*\u001B[0m\u001B[34m*\u001B[0m\u001B[34m*\u001B[0m\u001B[34m*\u001B[0m\u001B[34m*\u001B[0m\u001B[34m*\u001B[0m\u001B[34m*\u001B[0m\u001B[34m*\u001B[0m\u001B[34m*\u001B[0m\u001B[34m*\u001B[0m\u001B[34m*\u001B[0m\u001B[34m*\u001B[0m\u001B[34m*\u001B[0m\u001B[34m*\u001B[0m\u001B[34m*\u001B[0m\u001B[34m*\u001B[0m\u001B[34m*\u001B[0m\u001B[34m*\u001B[0m\u001B[34m*\u001B[0m\u001B[34m*\u001B[0m\u001B[34m*\u001B[0m\u001B[34m*\u001B[0m\u001B[34m*\u001B[0m\u001B[34m*\u001B[0m\u001B[34m*\u001B[0m\u001B[34m*\u001B[0m\u001B[34m*\u001B[0m\u001B[34m*\u001B[0m\u001B[34m*\u001B[0m\u001B[34m*\u001B[0m\u001B[34m*\u001B[0m\u001B[34m*\u001B[0m\u001B[34m*\u001B[0m\u001B[34m*\u001B[0m\u001B[34m*\u001B[0m\u001B[34m*\u001B[0m\n",
      "\u001B[32m** Rozwiązanie ********************************************************************************\u001B[0m\n"
     ]
    },
    {
     "data": {
      "text/plain": [
       "<IPython.core.display.Latex object>"
      ],
      "text/latex": "$$\\pi\\colon 7 x - 14 y - 14 z + 28=0; \\qquad d(P_4,\\pi) = 1$$"
     },
     "metadata": {},
     "output_type": "display_data"
    },
    {
     "name": "stdout",
     "output_type": "stream",
     "text": [
      "\u001B[32m*\u001B[0m\u001B[32m*\u001B[0m\u001B[32m*\u001B[0m\u001B[32m*\u001B[0m\u001B[32m*\u001B[0m\u001B[32m*\u001B[0m\u001B[32m*\u001B[0m\u001B[32m*\u001B[0m\u001B[32m*\u001B[0m\u001B[32m*\u001B[0m\u001B[32m*\u001B[0m\u001B[32m*\u001B[0m\u001B[32m*\u001B[0m\u001B[32m*\u001B[0m\u001B[32m*\u001B[0m\u001B[32m*\u001B[0m\u001B[32m*\u001B[0m\u001B[32m*\u001B[0m\u001B[32m*\u001B[0m\u001B[32m*\u001B[0m\u001B[32m*\u001B[0m\u001B[32m*\u001B[0m\u001B[32m*\u001B[0m\u001B[32m*\u001B[0m\u001B[32m*\u001B[0m\u001B[32m*\u001B[0m\u001B[32m*\u001B[0m\u001B[32m*\u001B[0m\u001B[32m*\u001B[0m\u001B[32m*\u001B[0m\u001B[32m*\u001B[0m\u001B[32m*\u001B[0m\u001B[32m*\u001B[0m\u001B[32m*\u001B[0m\u001B[32m*\u001B[0m\u001B[32m*\u001B[0m\u001B[32m*\u001B[0m\u001B[32m*\u001B[0m\u001B[32m*\u001B[0m\u001B[32m*\u001B[0m\u001B[32m*\u001B[0m\u001B[32m*\u001B[0m\u001B[32m*\u001B[0m\u001B[32m*\u001B[0m\u001B[32m*\u001B[0m\u001B[32m*\u001B[0m\u001B[32m*\u001B[0m\u001B[32m*\u001B[0m\u001B[32m*\u001B[0m\u001B[32m*\u001B[0m\u001B[32m*\u001B[0m\u001B[32m*\u001B[0m\u001B[32m*\u001B[0m\u001B[32m*\u001B[0m\u001B[32m*\u001B[0m\u001B[32m*\u001B[0m\u001B[32m*\u001B[0m\u001B[32m*\u001B[0m\u001B[32m*\u001B[0m\u001B[32m*\u001B[0m\u001B[32m*\u001B[0m\u001B[32m*\u001B[0m\u001B[32m*\u001B[0m\u001B[32m*\u001B[0m\u001B[32m*\u001B[0m\u001B[32m*\u001B[0m\u001B[32m*\u001B[0m\u001B[32m*\u001B[0m\u001B[32m*\u001B[0m\u001B[32m*\u001B[0m\u001B[32m*\u001B[0m\u001B[32m*\u001B[0m\u001B[32m*\u001B[0m\u001B[32m*\u001B[0m\u001B[32m*\u001B[0m\u001B[32m*\u001B[0m\u001B[32m*\u001B[0m\u001B[32m*\u001B[0m\u001B[32m*\u001B[0m\u001B[32m*\u001B[0m\u001B[32m*\u001B[0m\u001B[32m*\u001B[0m\u001B[32m*\u001B[0m\u001B[32m*\u001B[0m\u001B[32m*\u001B[0m\u001B[32m*\u001B[0m\u001B[32m*\u001B[0m\u001B[32m*\u001B[0m\u001B[32m*\u001B[0m\u001B[32m*\u001B[0m\u001B[32m*\u001B[0m\u001B[32m*\u001B[0m\u001B[32m*\u001B[0m\u001B[32m*\u001B[0m\u001B[32m*\u001B[0m\n",
      "\u001B[34m** Zadanie 6 **********************************************************************************\u001B[0m\n"
     ]
    },
    {
     "data": {
      "text/plain": [
       "<IPython.core.display.Markdown object>"
      ],
      "text/markdown": "Wyznaczyć równanie płaszczyzny przechodzącej przez punkty"
     },
     "metadata": {},
     "output_type": "display_data"
    },
    {
     "data": {
      "text/plain": [
       "<IPython.core.display.Latex object>"
      ],
      "text/latex": "$$\tP_1 = (2, 1, 0), \\quad P_2 = (2, -3, 2), \\quad P_3 = (1, 4, -1).$$"
     },
     "metadata": {},
     "output_type": "display_data"
    },
    {
     "data": {
      "text/plain": [
       "<IPython.core.display.Markdown object>"
      ],
      "text/markdown": "Obliczyć odległość wyznaczonej płaszczyzny od punktu"
     },
     "metadata": {},
     "output_type": "display_data"
    },
    {
     "data": {
      "text/plain": [
       "<IPython.core.display.Latex object>"
      ],
      "text/latex": "$$\tP_4 = (-1, 4, 0).$$"
     },
     "metadata": {},
     "output_type": "display_data"
    },
    {
     "name": "stdout",
     "output_type": "stream",
     "text": [
      "\u001B[34m*\u001B[0m\u001B[34m*\u001B[0m\u001B[34m*\u001B[0m\u001B[34m*\u001B[0m\u001B[34m*\u001B[0m\u001B[34m*\u001B[0m\u001B[34m*\u001B[0m\u001B[34m*\u001B[0m\u001B[34m*\u001B[0m\u001B[34m*\u001B[0m\u001B[34m*\u001B[0m\u001B[34m*\u001B[0m\u001B[34m*\u001B[0m\u001B[34m*\u001B[0m\u001B[34m*\u001B[0m\u001B[34m*\u001B[0m\u001B[34m*\u001B[0m\u001B[34m*\u001B[0m\u001B[34m*\u001B[0m\u001B[34m*\u001B[0m\u001B[34m*\u001B[0m\u001B[34m*\u001B[0m\u001B[34m*\u001B[0m\u001B[34m*\u001B[0m\u001B[34m*\u001B[0m\u001B[34m*\u001B[0m\u001B[34m*\u001B[0m\u001B[34m*\u001B[0m\u001B[34m*\u001B[0m\u001B[34m*\u001B[0m\u001B[34m*\u001B[0m\u001B[34m*\u001B[0m\u001B[34m*\u001B[0m\u001B[34m*\u001B[0m\u001B[34m*\u001B[0m\u001B[34m*\u001B[0m\u001B[34m*\u001B[0m\u001B[34m*\u001B[0m\u001B[34m*\u001B[0m\u001B[34m*\u001B[0m\u001B[34m*\u001B[0m\u001B[34m*\u001B[0m\u001B[34m*\u001B[0m\u001B[34m*\u001B[0m\u001B[34m*\u001B[0m\u001B[34m*\u001B[0m\u001B[34m*\u001B[0m\u001B[34m*\u001B[0m\u001B[34m*\u001B[0m\u001B[34m*\u001B[0m\u001B[34m*\u001B[0m\u001B[34m*\u001B[0m\u001B[34m*\u001B[0m\u001B[34m*\u001B[0m\u001B[34m*\u001B[0m\u001B[34m*\u001B[0m\u001B[34m*\u001B[0m\u001B[34m*\u001B[0m\u001B[34m*\u001B[0m\u001B[34m*\u001B[0m\u001B[34m*\u001B[0m\u001B[34m*\u001B[0m\u001B[34m*\u001B[0m\u001B[34m*\u001B[0m\u001B[34m*\u001B[0m\u001B[34m*\u001B[0m\u001B[34m*\u001B[0m\u001B[34m*\u001B[0m\u001B[34m*\u001B[0m\u001B[34m*\u001B[0m\u001B[34m*\u001B[0m\u001B[34m*\u001B[0m\u001B[34m*\u001B[0m\u001B[34m*\u001B[0m\u001B[34m*\u001B[0m\u001B[34m*\u001B[0m\u001B[34m*\u001B[0m\u001B[34m*\u001B[0m\u001B[34m*\u001B[0m\u001B[34m*\u001B[0m\u001B[34m*\u001B[0m\u001B[34m*\u001B[0m\u001B[34m*\u001B[0m\u001B[34m*\u001B[0m\u001B[34m*\u001B[0m\u001B[34m*\u001B[0m\u001B[34m*\u001B[0m\u001B[34m*\u001B[0m\u001B[34m*\u001B[0m\u001B[34m*\u001B[0m\u001B[34m*\u001B[0m\u001B[34m*\u001B[0m\u001B[34m*\u001B[0m\u001B[34m*\u001B[0m\u001B[34m*\u001B[0m\n",
      "\u001B[32m** Rozwiązanie ********************************************************************************\u001B[0m\n"
     ]
    },
    {
     "data": {
      "text/plain": [
       "<IPython.core.display.Latex object>"
      ],
      "text/latex": "$$\\pi\\colon - 2 x - 2 y - 4 z + 6=0; \\qquad d(P_4,\\pi) = 0$$"
     },
     "metadata": {},
     "output_type": "display_data"
    },
    {
     "name": "stdout",
     "output_type": "stream",
     "text": [
      "\u001B[32m*\u001B[0m\u001B[32m*\u001B[0m\u001B[32m*\u001B[0m\u001B[32m*\u001B[0m\u001B[32m*\u001B[0m\u001B[32m*\u001B[0m\u001B[32m*\u001B[0m\u001B[32m*\u001B[0m\u001B[32m*\u001B[0m\u001B[32m*\u001B[0m\u001B[32m*\u001B[0m\u001B[32m*\u001B[0m\u001B[32m*\u001B[0m\u001B[32m*\u001B[0m\u001B[32m*\u001B[0m\u001B[32m*\u001B[0m\u001B[32m*\u001B[0m\u001B[32m*\u001B[0m\u001B[32m*\u001B[0m\u001B[32m*\u001B[0m\u001B[32m*\u001B[0m\u001B[32m*\u001B[0m\u001B[32m*\u001B[0m\u001B[32m*\u001B[0m\u001B[32m*\u001B[0m\u001B[32m*\u001B[0m\u001B[32m*\u001B[0m\u001B[32m*\u001B[0m\u001B[32m*\u001B[0m\u001B[32m*\u001B[0m\u001B[32m*\u001B[0m\u001B[32m*\u001B[0m\u001B[32m*\u001B[0m\u001B[32m*\u001B[0m\u001B[32m*\u001B[0m\u001B[32m*\u001B[0m\u001B[32m*\u001B[0m\u001B[32m*\u001B[0m\u001B[32m*\u001B[0m\u001B[32m*\u001B[0m\u001B[32m*\u001B[0m\u001B[32m*\u001B[0m\u001B[32m*\u001B[0m\u001B[32m*\u001B[0m\u001B[32m*\u001B[0m\u001B[32m*\u001B[0m\u001B[32m*\u001B[0m\u001B[32m*\u001B[0m\u001B[32m*\u001B[0m\u001B[32m*\u001B[0m\u001B[32m*\u001B[0m\u001B[32m*\u001B[0m\u001B[32m*\u001B[0m\u001B[32m*\u001B[0m\u001B[32m*\u001B[0m\u001B[32m*\u001B[0m\u001B[32m*\u001B[0m\u001B[32m*\u001B[0m\u001B[32m*\u001B[0m\u001B[32m*\u001B[0m\u001B[32m*\u001B[0m\u001B[32m*\u001B[0m\u001B[32m*\u001B[0m\u001B[32m*\u001B[0m\u001B[32m*\u001B[0m\u001B[32m*\u001B[0m\u001B[32m*\u001B[0m\u001B[32m*\u001B[0m\u001B[32m*\u001B[0m\u001B[32m*\u001B[0m\u001B[32m*\u001B[0m\u001B[32m*\u001B[0m\u001B[32m*\u001B[0m\u001B[32m*\u001B[0m\u001B[32m*\u001B[0m\u001B[32m*\u001B[0m\u001B[32m*\u001B[0m\u001B[32m*\u001B[0m\u001B[32m*\u001B[0m\u001B[32m*\u001B[0m\u001B[32m*\u001B[0m\u001B[32m*\u001B[0m\u001B[32m*\u001B[0m\u001B[32m*\u001B[0m\u001B[32m*\u001B[0m\u001B[32m*\u001B[0m\u001B[32m*\u001B[0m\u001B[32m*\u001B[0m\u001B[32m*\u001B[0m\u001B[32m*\u001B[0m\u001B[32m*\u001B[0m\u001B[32m*\u001B[0m\u001B[32m*\u001B[0m\u001B[32m*\u001B[0m\u001B[32m*\u001B[0m\n",
      "\u001B[34m** Zadanie 7 **********************************************************************************\u001B[0m\n"
     ]
    },
    {
     "data": {
      "text/plain": [
       "<IPython.core.display.Markdown object>"
      ],
      "text/markdown": "Wyznaczyć równanie płaszczyzny przechodzącej przez punkty"
     },
     "metadata": {},
     "output_type": "display_data"
    },
    {
     "data": {
      "text/plain": [
       "<IPython.core.display.Latex object>"
      ],
      "text/latex": "$$\tP_1 = (-2, 5, 0), \\quad P_2 = (-2, 0, 0), \\quad P_3 = (1, -1, 1).$$"
     },
     "metadata": {},
     "output_type": "display_data"
    },
    {
     "data": {
      "text/plain": [
       "<IPython.core.display.Markdown object>"
      ],
      "text/markdown": "Obliczyć odległość wyznaczonej płaszczyzny od punktu"
     },
     "metadata": {},
     "output_type": "display_data"
    },
    {
     "data": {
      "text/plain": [
       "<IPython.core.display.Latex object>"
      ],
      "text/latex": "$$\tP_4 = (4, -3, 2).$$"
     },
     "metadata": {},
     "output_type": "display_data"
    },
    {
     "name": "stdout",
     "output_type": "stream",
     "text": [
      "\u001B[34m*\u001B[0m\u001B[34m*\u001B[0m\u001B[34m*\u001B[0m\u001B[34m*\u001B[0m\u001B[34m*\u001B[0m\u001B[34m*\u001B[0m\u001B[34m*\u001B[0m\u001B[34m*\u001B[0m\u001B[34m*\u001B[0m\u001B[34m*\u001B[0m\u001B[34m*\u001B[0m\u001B[34m*\u001B[0m\u001B[34m*\u001B[0m\u001B[34m*\u001B[0m\u001B[34m*\u001B[0m\u001B[34m*\u001B[0m\u001B[34m*\u001B[0m\u001B[34m*\u001B[0m\u001B[34m*\u001B[0m\u001B[34m*\u001B[0m\u001B[34m*\u001B[0m\u001B[34m*\u001B[0m\u001B[34m*\u001B[0m\u001B[34m*\u001B[0m\u001B[34m*\u001B[0m\u001B[34m*\u001B[0m\u001B[34m*\u001B[0m\u001B[34m*\u001B[0m\u001B[34m*\u001B[0m\u001B[34m*\u001B[0m\u001B[34m*\u001B[0m\u001B[34m*\u001B[0m\u001B[34m*\u001B[0m\u001B[34m*\u001B[0m\u001B[34m*\u001B[0m\u001B[34m*\u001B[0m\u001B[34m*\u001B[0m\u001B[34m*\u001B[0m\u001B[34m*\u001B[0m\u001B[34m*\u001B[0m\u001B[34m*\u001B[0m\u001B[34m*\u001B[0m\u001B[34m*\u001B[0m\u001B[34m*\u001B[0m\u001B[34m*\u001B[0m\u001B[34m*\u001B[0m\u001B[34m*\u001B[0m\u001B[34m*\u001B[0m\u001B[34m*\u001B[0m\u001B[34m*\u001B[0m\u001B[34m*\u001B[0m\u001B[34m*\u001B[0m\u001B[34m*\u001B[0m\u001B[34m*\u001B[0m\u001B[34m*\u001B[0m\u001B[34m*\u001B[0m\u001B[34m*\u001B[0m\u001B[34m*\u001B[0m\u001B[34m*\u001B[0m\u001B[34m*\u001B[0m\u001B[34m*\u001B[0m\u001B[34m*\u001B[0m\u001B[34m*\u001B[0m\u001B[34m*\u001B[0m\u001B[34m*\u001B[0m\u001B[34m*\u001B[0m\u001B[34m*\u001B[0m\u001B[34m*\u001B[0m\u001B[34m*\u001B[0m\u001B[34m*\u001B[0m\u001B[34m*\u001B[0m\u001B[34m*\u001B[0m\u001B[34m*\u001B[0m\u001B[34m*\u001B[0m\u001B[34m*\u001B[0m\u001B[34m*\u001B[0m\u001B[34m*\u001B[0m\u001B[34m*\u001B[0m\u001B[34m*\u001B[0m\u001B[34m*\u001B[0m\u001B[34m*\u001B[0m\u001B[34m*\u001B[0m\u001B[34m*\u001B[0m\u001B[34m*\u001B[0m\u001B[34m*\u001B[0m\u001B[34m*\u001B[0m\u001B[34m*\u001B[0m\u001B[34m*\u001B[0m\u001B[34m*\u001B[0m\u001B[34m*\u001B[0m\u001B[34m*\u001B[0m\u001B[34m*\u001B[0m\u001B[34m*\u001B[0m\u001B[34m*\u001B[0m\u001B[34m*\u001B[0m\n",
      "\u001B[32m** Rozwiązanie ********************************************************************************\u001B[0m\n"
     ]
    },
    {
     "data": {
      "text/plain": [
       "<IPython.core.display.Latex object>"
      ],
      "text/latex": "$$\\pi\\colon - 5 x + 15 z - 10=0; \\qquad d(P_4,\\pi) = 0$$"
     },
     "metadata": {},
     "output_type": "display_data"
    },
    {
     "name": "stdout",
     "output_type": "stream",
     "text": [
      "\u001B[32m*\u001B[0m\u001B[32m*\u001B[0m\u001B[32m*\u001B[0m\u001B[32m*\u001B[0m\u001B[32m*\u001B[0m\u001B[32m*\u001B[0m\u001B[32m*\u001B[0m\u001B[32m*\u001B[0m\u001B[32m*\u001B[0m\u001B[32m*\u001B[0m\u001B[32m*\u001B[0m\u001B[32m*\u001B[0m\u001B[32m*\u001B[0m\u001B[32m*\u001B[0m\u001B[32m*\u001B[0m\u001B[32m*\u001B[0m\u001B[32m*\u001B[0m\u001B[32m*\u001B[0m\u001B[32m*\u001B[0m\u001B[32m*\u001B[0m\u001B[32m*\u001B[0m\u001B[32m*\u001B[0m\u001B[32m*\u001B[0m\u001B[32m*\u001B[0m\u001B[32m*\u001B[0m\u001B[32m*\u001B[0m\u001B[32m*\u001B[0m\u001B[32m*\u001B[0m\u001B[32m*\u001B[0m\u001B[32m*\u001B[0m\u001B[32m*\u001B[0m\u001B[32m*\u001B[0m\u001B[32m*\u001B[0m\u001B[32m*\u001B[0m\u001B[32m*\u001B[0m\u001B[32m*\u001B[0m\u001B[32m*\u001B[0m\u001B[32m*\u001B[0m\u001B[32m*\u001B[0m\u001B[32m*\u001B[0m\u001B[32m*\u001B[0m\u001B[32m*\u001B[0m\u001B[32m*\u001B[0m\u001B[32m*\u001B[0m\u001B[32m*\u001B[0m\u001B[32m*\u001B[0m\u001B[32m*\u001B[0m\u001B[32m*\u001B[0m\u001B[32m*\u001B[0m\u001B[32m*\u001B[0m\u001B[32m*\u001B[0m\u001B[32m*\u001B[0m\u001B[32m*\u001B[0m\u001B[32m*\u001B[0m\u001B[32m*\u001B[0m\u001B[32m*\u001B[0m\u001B[32m*\u001B[0m\u001B[32m*\u001B[0m\u001B[32m*\u001B[0m\u001B[32m*\u001B[0m\u001B[32m*\u001B[0m\u001B[32m*\u001B[0m\u001B[32m*\u001B[0m\u001B[32m*\u001B[0m\u001B[32m*\u001B[0m\u001B[32m*\u001B[0m\u001B[32m*\u001B[0m\u001B[32m*\u001B[0m\u001B[32m*\u001B[0m\u001B[32m*\u001B[0m\u001B[32m*\u001B[0m\u001B[32m*\u001B[0m\u001B[32m*\u001B[0m\u001B[32m*\u001B[0m\u001B[32m*\u001B[0m\u001B[32m*\u001B[0m\u001B[32m*\u001B[0m\u001B[32m*\u001B[0m\u001B[32m*\u001B[0m\u001B[32m*\u001B[0m\u001B[32m*\u001B[0m\u001B[32m*\u001B[0m\u001B[32m*\u001B[0m\u001B[32m*\u001B[0m\u001B[32m*\u001B[0m\u001B[32m*\u001B[0m\u001B[32m*\u001B[0m\u001B[32m*\u001B[0m\u001B[32m*\u001B[0m\u001B[32m*\u001B[0m\u001B[32m*\u001B[0m\u001B[32m*\u001B[0m\u001B[32m*\u001B[0m\u001B[32m*\u001B[0m\u001B[32m*\u001B[0m\n",
      "\u001B[34m** Zadanie 8 **********************************************************************************\u001B[0m\n"
     ]
    },
    {
     "data": {
      "text/plain": [
       "<IPython.core.display.Markdown object>"
      ],
      "text/markdown": "Wyznaczyć równanie płaszczyzny przechodzącej przez punkty"
     },
     "metadata": {},
     "output_type": "display_data"
    },
    {
     "data": {
      "text/plain": [
       "<IPython.core.display.Latex object>"
      ],
      "text/latex": "$$\tP_1 = (5, 1, 2), \\quad P_2 = (0, 4, -2), \\quad P_3 = (5, 4, -2).$$"
     },
     "metadata": {},
     "output_type": "display_data"
    },
    {
     "data": {
      "text/plain": [
       "<IPython.core.display.Markdown object>"
      ],
      "text/markdown": "Obliczyć odległość wyznaczonej płaszczyzny od punktu"
     },
     "metadata": {},
     "output_type": "display_data"
    },
    {
     "data": {
      "text/plain": [
       "<IPython.core.display.Latex object>"
      ],
      "text/latex": "$$\tP_4 = (-3, -1, 2).$$"
     },
     "metadata": {},
     "output_type": "display_data"
    },
    {
     "name": "stdout",
     "output_type": "stream",
     "text": [
      "\u001B[34m*\u001B[0m\u001B[34m*\u001B[0m\u001B[34m*\u001B[0m\u001B[34m*\u001B[0m\u001B[34m*\u001B[0m\u001B[34m*\u001B[0m\u001B[34m*\u001B[0m\u001B[34m*\u001B[0m\u001B[34m*\u001B[0m\u001B[34m*\u001B[0m\u001B[34m*\u001B[0m\u001B[34m*\u001B[0m\u001B[34m*\u001B[0m\u001B[34m*\u001B[0m\u001B[34m*\u001B[0m\u001B[34m*\u001B[0m\u001B[34m*\u001B[0m\u001B[34m*\u001B[0m\u001B[34m*\u001B[0m\u001B[34m*\u001B[0m\u001B[34m*\u001B[0m\u001B[34m*\u001B[0m\u001B[34m*\u001B[0m\u001B[34m*\u001B[0m\u001B[34m*\u001B[0m\u001B[34m*\u001B[0m\u001B[34m*\u001B[0m\u001B[34m*\u001B[0m\u001B[34m*\u001B[0m\u001B[34m*\u001B[0m\u001B[34m*\u001B[0m\u001B[34m*\u001B[0m\u001B[34m*\u001B[0m\u001B[34m*\u001B[0m\u001B[34m*\u001B[0m\u001B[34m*\u001B[0m\u001B[34m*\u001B[0m\u001B[34m*\u001B[0m\u001B[34m*\u001B[0m\u001B[34m*\u001B[0m\u001B[34m*\u001B[0m\u001B[34m*\u001B[0m\u001B[34m*\u001B[0m\u001B[34m*\u001B[0m\u001B[34m*\u001B[0m\u001B[34m*\u001B[0m\u001B[34m*\u001B[0m\u001B[34m*\u001B[0m\u001B[34m*\u001B[0m\u001B[34m*\u001B[0m\u001B[34m*\u001B[0m\u001B[34m*\u001B[0m\u001B[34m*\u001B[0m\u001B[34m*\u001B[0m\u001B[34m*\u001B[0m\u001B[34m*\u001B[0m\u001B[34m*\u001B[0m\u001B[34m*\u001B[0m\u001B[34m*\u001B[0m\u001B[34m*\u001B[0m\u001B[34m*\u001B[0m\u001B[34m*\u001B[0m\u001B[34m*\u001B[0m\u001B[34m*\u001B[0m\u001B[34m*\u001B[0m\u001B[34m*\u001B[0m\u001B[34m*\u001B[0m\u001B[34m*\u001B[0m\u001B[34m*\u001B[0m\u001B[34m*\u001B[0m\u001B[34m*\u001B[0m\u001B[34m*\u001B[0m\u001B[34m*\u001B[0m\u001B[34m*\u001B[0m\u001B[34m*\u001B[0m\u001B[34m*\u001B[0m\u001B[34m*\u001B[0m\u001B[34m*\u001B[0m\u001B[34m*\u001B[0m\u001B[34m*\u001B[0m\u001B[34m*\u001B[0m\u001B[34m*\u001B[0m\u001B[34m*\u001B[0m\u001B[34m*\u001B[0m\u001B[34m*\u001B[0m\u001B[34m*\u001B[0m\u001B[34m*\u001B[0m\u001B[34m*\u001B[0m\u001B[34m*\u001B[0m\u001B[34m*\u001B[0m\u001B[34m*\u001B[0m\u001B[34m*\u001B[0m\u001B[34m*\u001B[0m\u001B[34m*\u001B[0m\u001B[34m*\u001B[0m\n",
      "\u001B[32m** Rozwiązanie ********************************************************************************\u001B[0m\n"
     ]
    },
    {
     "data": {
      "text/plain": [
       "<IPython.core.display.Latex object>"
      ],
      "text/latex": "$$\\pi\\colon - 20 y - 15 z + 50=0; \\qquad d(P_4,\\pi) = \\frac{8}{5}$$"
     },
     "metadata": {},
     "output_type": "display_data"
    },
    {
     "name": "stdout",
     "output_type": "stream",
     "text": [
      "\u001B[32m*\u001B[0m\u001B[32m*\u001B[0m\u001B[32m*\u001B[0m\u001B[32m*\u001B[0m\u001B[32m*\u001B[0m\u001B[32m*\u001B[0m\u001B[32m*\u001B[0m\u001B[32m*\u001B[0m\u001B[32m*\u001B[0m\u001B[32m*\u001B[0m\u001B[32m*\u001B[0m\u001B[32m*\u001B[0m\u001B[32m*\u001B[0m\u001B[32m*\u001B[0m\u001B[32m*\u001B[0m\u001B[32m*\u001B[0m\u001B[32m*\u001B[0m\u001B[32m*\u001B[0m\u001B[32m*\u001B[0m\u001B[32m*\u001B[0m\u001B[32m*\u001B[0m\u001B[32m*\u001B[0m\u001B[32m*\u001B[0m\u001B[32m*\u001B[0m\u001B[32m*\u001B[0m\u001B[32m*\u001B[0m\u001B[32m*\u001B[0m\u001B[32m*\u001B[0m\u001B[32m*\u001B[0m\u001B[32m*\u001B[0m\u001B[32m*\u001B[0m\u001B[32m*\u001B[0m\u001B[32m*\u001B[0m\u001B[32m*\u001B[0m\u001B[32m*\u001B[0m\u001B[32m*\u001B[0m\u001B[32m*\u001B[0m\u001B[32m*\u001B[0m\u001B[32m*\u001B[0m\u001B[32m*\u001B[0m\u001B[32m*\u001B[0m\u001B[32m*\u001B[0m\u001B[32m*\u001B[0m\u001B[32m*\u001B[0m\u001B[32m*\u001B[0m\u001B[32m*\u001B[0m\u001B[32m*\u001B[0m\u001B[32m*\u001B[0m\u001B[32m*\u001B[0m\u001B[32m*\u001B[0m\u001B[32m*\u001B[0m\u001B[32m*\u001B[0m\u001B[32m*\u001B[0m\u001B[32m*\u001B[0m\u001B[32m*\u001B[0m\u001B[32m*\u001B[0m\u001B[32m*\u001B[0m\u001B[32m*\u001B[0m\u001B[32m*\u001B[0m\u001B[32m*\u001B[0m\u001B[32m*\u001B[0m\u001B[32m*\u001B[0m\u001B[32m*\u001B[0m\u001B[32m*\u001B[0m\u001B[32m*\u001B[0m\u001B[32m*\u001B[0m\u001B[32m*\u001B[0m\u001B[32m*\u001B[0m\u001B[32m*\u001B[0m\u001B[32m*\u001B[0m\u001B[32m*\u001B[0m\u001B[32m*\u001B[0m\u001B[32m*\u001B[0m\u001B[32m*\u001B[0m\u001B[32m*\u001B[0m\u001B[32m*\u001B[0m\u001B[32m*\u001B[0m\u001B[32m*\u001B[0m\u001B[32m*\u001B[0m\u001B[32m*\u001B[0m\u001B[32m*\u001B[0m\u001B[32m*\u001B[0m\u001B[32m*\u001B[0m\u001B[32m*\u001B[0m\u001B[32m*\u001B[0m\u001B[32m*\u001B[0m\u001B[32m*\u001B[0m\u001B[32m*\u001B[0m\u001B[32m*\u001B[0m\u001B[32m*\u001B[0m\u001B[32m*\u001B[0m\u001B[32m*\u001B[0m\u001B[32m*\u001B[0m\u001B[32m*\u001B[0m\u001B[32m*\u001B[0m\n",
      "\u001B[34m** Zadanie 9 **********************************************************************************\u001B[0m\n"
     ]
    },
    {
     "data": {
      "text/plain": [
       "<IPython.core.display.Markdown object>"
      ],
      "text/markdown": "Wyznaczyć równanie płaszczyzny przechodzącej przez punkty"
     },
     "metadata": {},
     "output_type": "display_data"
    },
    {
     "data": {
      "text/plain": [
       "<IPython.core.display.Latex object>"
      ],
      "text/latex": "$$\tP_1 = (1, 1, 0), \\quad P_2 = (0, 1, -1), \\quad P_3 = (5, 0, -3).$$"
     },
     "metadata": {},
     "output_type": "display_data"
    },
    {
     "data": {
      "text/plain": [
       "<IPython.core.display.Markdown object>"
      ],
      "text/markdown": "Obliczyć odległość wyznaczonej płaszczyzny od punktu"
     },
     "metadata": {},
     "output_type": "display_data"
    },
    {
     "data": {
      "text/plain": [
       "<IPython.core.display.Latex object>"
      ],
      "text/latex": "$$\tP_4 = (-1, 2, 5).$$"
     },
     "metadata": {},
     "output_type": "display_data"
    },
    {
     "name": "stdout",
     "output_type": "stream",
     "text": [
      "\u001B[34m*\u001B[0m\u001B[34m*\u001B[0m\u001B[34m*\u001B[0m\u001B[34m*\u001B[0m\u001B[34m*\u001B[0m\u001B[34m*\u001B[0m\u001B[34m*\u001B[0m\u001B[34m*\u001B[0m\u001B[34m*\u001B[0m\u001B[34m*\u001B[0m\u001B[34m*\u001B[0m\u001B[34m*\u001B[0m\u001B[34m*\u001B[0m\u001B[34m*\u001B[0m\u001B[34m*\u001B[0m\u001B[34m*\u001B[0m\u001B[34m*\u001B[0m\u001B[34m*\u001B[0m\u001B[34m*\u001B[0m\u001B[34m*\u001B[0m\u001B[34m*\u001B[0m\u001B[34m*\u001B[0m\u001B[34m*\u001B[0m\u001B[34m*\u001B[0m\u001B[34m*\u001B[0m\u001B[34m*\u001B[0m\u001B[34m*\u001B[0m\u001B[34m*\u001B[0m\u001B[34m*\u001B[0m\u001B[34m*\u001B[0m\u001B[34m*\u001B[0m\u001B[34m*\u001B[0m\u001B[34m*\u001B[0m\u001B[34m*\u001B[0m\u001B[34m*\u001B[0m\u001B[34m*\u001B[0m\u001B[34m*\u001B[0m\u001B[34m*\u001B[0m\u001B[34m*\u001B[0m\u001B[34m*\u001B[0m\u001B[34m*\u001B[0m\u001B[34m*\u001B[0m\u001B[34m*\u001B[0m\u001B[34m*\u001B[0m\u001B[34m*\u001B[0m\u001B[34m*\u001B[0m\u001B[34m*\u001B[0m\u001B[34m*\u001B[0m\u001B[34m*\u001B[0m\u001B[34m*\u001B[0m\u001B[34m*\u001B[0m\u001B[34m*\u001B[0m\u001B[34m*\u001B[0m\u001B[34m*\u001B[0m\u001B[34m*\u001B[0m\u001B[34m*\u001B[0m\u001B[34m*\u001B[0m\u001B[34m*\u001B[0m\u001B[34m*\u001B[0m\u001B[34m*\u001B[0m\u001B[34m*\u001B[0m\u001B[34m*\u001B[0m\u001B[34m*\u001B[0m\u001B[34m*\u001B[0m\u001B[34m*\u001B[0m\u001B[34m*\u001B[0m\u001B[34m*\u001B[0m\u001B[34m*\u001B[0m\u001B[34m*\u001B[0m\u001B[34m*\u001B[0m\u001B[34m*\u001B[0m\u001B[34m*\u001B[0m\u001B[34m*\u001B[0m\u001B[34m*\u001B[0m\u001B[34m*\u001B[0m\u001B[34m*\u001B[0m\u001B[34m*\u001B[0m\u001B[34m*\u001B[0m\u001B[34m*\u001B[0m\u001B[34m*\u001B[0m\u001B[34m*\u001B[0m\u001B[34m*\u001B[0m\u001B[34m*\u001B[0m\u001B[34m*\u001B[0m\u001B[34m*\u001B[0m\u001B[34m*\u001B[0m\u001B[34m*\u001B[0m\u001B[34m*\u001B[0m\u001B[34m*\u001B[0m\u001B[34m*\u001B[0m\u001B[34m*\u001B[0m\u001B[34m*\u001B[0m\u001B[34m*\u001B[0m\u001B[34m*\u001B[0m\u001B[34m*\u001B[0m\n",
      "\u001B[32m** Rozwiązanie ********************************************************************************\u001B[0m\n"
     ]
    },
    {
     "data": {
      "text/plain": [
       "<IPython.core.display.Latex object>"
      ],
      "text/latex": "$$\\pi\\colon - x - 7 y + z + 8=0; \\qquad d(P_4,\\pi) = 0$$"
     },
     "metadata": {},
     "output_type": "display_data"
    },
    {
     "name": "stdout",
     "output_type": "stream",
     "text": [
      "\u001B[32m*\u001B[0m\u001B[32m*\u001B[0m\u001B[32m*\u001B[0m\u001B[32m*\u001B[0m\u001B[32m*\u001B[0m\u001B[32m*\u001B[0m\u001B[32m*\u001B[0m\u001B[32m*\u001B[0m\u001B[32m*\u001B[0m\u001B[32m*\u001B[0m\u001B[32m*\u001B[0m\u001B[32m*\u001B[0m\u001B[32m*\u001B[0m\u001B[32m*\u001B[0m\u001B[32m*\u001B[0m\u001B[32m*\u001B[0m\u001B[32m*\u001B[0m\u001B[32m*\u001B[0m\u001B[32m*\u001B[0m\u001B[32m*\u001B[0m\u001B[32m*\u001B[0m\u001B[32m*\u001B[0m\u001B[32m*\u001B[0m\u001B[32m*\u001B[0m\u001B[32m*\u001B[0m\u001B[32m*\u001B[0m\u001B[32m*\u001B[0m\u001B[32m*\u001B[0m\u001B[32m*\u001B[0m\u001B[32m*\u001B[0m\u001B[32m*\u001B[0m\u001B[32m*\u001B[0m\u001B[32m*\u001B[0m\u001B[32m*\u001B[0m\u001B[32m*\u001B[0m\u001B[32m*\u001B[0m\u001B[32m*\u001B[0m\u001B[32m*\u001B[0m\u001B[32m*\u001B[0m\u001B[32m*\u001B[0m\u001B[32m*\u001B[0m\u001B[32m*\u001B[0m\u001B[32m*\u001B[0m\u001B[32m*\u001B[0m\u001B[32m*\u001B[0m\u001B[32m*\u001B[0m\u001B[32m*\u001B[0m\u001B[32m*\u001B[0m\u001B[32m*\u001B[0m\u001B[32m*\u001B[0m\u001B[32m*\u001B[0m\u001B[32m*\u001B[0m\u001B[32m*\u001B[0m\u001B[32m*\u001B[0m\u001B[32m*\u001B[0m\u001B[32m*\u001B[0m\u001B[32m*\u001B[0m\u001B[32m*\u001B[0m\u001B[32m*\u001B[0m\u001B[32m*\u001B[0m\u001B[32m*\u001B[0m\u001B[32m*\u001B[0m\u001B[32m*\u001B[0m\u001B[32m*\u001B[0m\u001B[32m*\u001B[0m\u001B[32m*\u001B[0m\u001B[32m*\u001B[0m\u001B[32m*\u001B[0m\u001B[32m*\u001B[0m\u001B[32m*\u001B[0m\u001B[32m*\u001B[0m\u001B[32m*\u001B[0m\u001B[32m*\u001B[0m\u001B[32m*\u001B[0m\u001B[32m*\u001B[0m\u001B[32m*\u001B[0m\u001B[32m*\u001B[0m\u001B[32m*\u001B[0m\u001B[32m*\u001B[0m\u001B[32m*\u001B[0m\u001B[32m*\u001B[0m\u001B[32m*\u001B[0m\u001B[32m*\u001B[0m\u001B[32m*\u001B[0m\u001B[32m*\u001B[0m\u001B[32m*\u001B[0m\u001B[32m*\u001B[0m\u001B[32m*\u001B[0m\u001B[32m*\u001B[0m\u001B[32m*\u001B[0m\u001B[32m*\u001B[0m\u001B[32m*\u001B[0m\u001B[32m*\u001B[0m\u001B[32m*\u001B[0m\u001B[32m*\u001B[0m\n",
      "\u001B[34m** Zadanie 10 **********************************************************************************\u001B[0m\n"
     ]
    },
    {
     "data": {
      "text/plain": [
       "<IPython.core.display.Markdown object>"
      ],
      "text/markdown": "Wyznaczyć równanie płaszczyzny przechodzącej przez punkty"
     },
     "metadata": {},
     "output_type": "display_data"
    },
    {
     "data": {
      "text/plain": [
       "<IPython.core.display.Latex object>"
      ],
      "text/latex": "$$\tP_1 = (-3, -3, 0), \\quad P_2 = (-2, 0, -1), \\quad P_3 = (5, 0, -1).$$"
     },
     "metadata": {},
     "output_type": "display_data"
    },
    {
     "data": {
      "text/plain": [
       "<IPython.core.display.Markdown object>"
      ],
      "text/markdown": "Obliczyć odległość wyznaczonej płaszczyzny od punktu"
     },
     "metadata": {},
     "output_type": "display_data"
    },
    {
     "data": {
      "text/plain": [
       "<IPython.core.display.Latex object>"
      ],
      "text/latex": "$$\tP_4 = (3, 0, -1).$$"
     },
     "metadata": {},
     "output_type": "display_data"
    },
    {
     "name": "stdout",
     "output_type": "stream",
     "text": [
      "\u001B[34m*\u001B[0m\u001B[34m*\u001B[0m\u001B[34m*\u001B[0m\u001B[34m*\u001B[0m\u001B[34m*\u001B[0m\u001B[34m*\u001B[0m\u001B[34m*\u001B[0m\u001B[34m*\u001B[0m\u001B[34m*\u001B[0m\u001B[34m*\u001B[0m\u001B[34m*\u001B[0m\u001B[34m*\u001B[0m\u001B[34m*\u001B[0m\u001B[34m*\u001B[0m\u001B[34m*\u001B[0m\u001B[34m*\u001B[0m\u001B[34m*\u001B[0m\u001B[34m*\u001B[0m\u001B[34m*\u001B[0m\u001B[34m*\u001B[0m\u001B[34m*\u001B[0m\u001B[34m*\u001B[0m\u001B[34m*\u001B[0m\u001B[34m*\u001B[0m\u001B[34m*\u001B[0m\u001B[34m*\u001B[0m\u001B[34m*\u001B[0m\u001B[34m*\u001B[0m\u001B[34m*\u001B[0m\u001B[34m*\u001B[0m\u001B[34m*\u001B[0m\u001B[34m*\u001B[0m\u001B[34m*\u001B[0m\u001B[34m*\u001B[0m\u001B[34m*\u001B[0m\u001B[34m*\u001B[0m\u001B[34m*\u001B[0m\u001B[34m*\u001B[0m\u001B[34m*\u001B[0m\u001B[34m*\u001B[0m\u001B[34m*\u001B[0m\u001B[34m*\u001B[0m\u001B[34m*\u001B[0m\u001B[34m*\u001B[0m\u001B[34m*\u001B[0m\u001B[34m*\u001B[0m\u001B[34m*\u001B[0m\u001B[34m*\u001B[0m\u001B[34m*\u001B[0m\u001B[34m*\u001B[0m\u001B[34m*\u001B[0m\u001B[34m*\u001B[0m\u001B[34m*\u001B[0m\u001B[34m*\u001B[0m\u001B[34m*\u001B[0m\u001B[34m*\u001B[0m\u001B[34m*\u001B[0m\u001B[34m*\u001B[0m\u001B[34m*\u001B[0m\u001B[34m*\u001B[0m\u001B[34m*\u001B[0m\u001B[34m*\u001B[0m\u001B[34m*\u001B[0m\u001B[34m*\u001B[0m\u001B[34m*\u001B[0m\u001B[34m*\u001B[0m\u001B[34m*\u001B[0m\u001B[34m*\u001B[0m\u001B[34m*\u001B[0m\u001B[34m*\u001B[0m\u001B[34m*\u001B[0m\u001B[34m*\u001B[0m\u001B[34m*\u001B[0m\u001B[34m*\u001B[0m\u001B[34m*\u001B[0m\u001B[34m*\u001B[0m\u001B[34m*\u001B[0m\u001B[34m*\u001B[0m\u001B[34m*\u001B[0m\u001B[34m*\u001B[0m\u001B[34m*\u001B[0m\u001B[34m*\u001B[0m\u001B[34m*\u001B[0m\u001B[34m*\u001B[0m\u001B[34m*\u001B[0m\u001B[34m*\u001B[0m\u001B[34m*\u001B[0m\u001B[34m*\u001B[0m\u001B[34m*\u001B[0m\u001B[34m*\u001B[0m\u001B[34m*\u001B[0m\u001B[34m*\u001B[0m\u001B[34m*\u001B[0m\u001B[34m*\u001B[0m\u001B[34m*\u001B[0m\n",
      "\u001B[32m** Rozwiązanie ********************************************************************************\u001B[0m\n"
     ]
    },
    {
     "data": {
      "text/plain": [
       "<IPython.core.display.Latex object>"
      ],
      "text/latex": "$$\\pi\\colon - 7 y - 21 z - 21=0; \\qquad d(P_4,\\pi) = 0$$"
     },
     "metadata": {},
     "output_type": "display_data"
    },
    {
     "name": "stdout",
     "output_type": "stream",
     "text": [
      "\u001B[32m*\u001B[0m\u001B[32m*\u001B[0m\u001B[32m*\u001B[0m\u001B[32m*\u001B[0m\u001B[32m*\u001B[0m\u001B[32m*\u001B[0m\u001B[32m*\u001B[0m\u001B[32m*\u001B[0m\u001B[32m*\u001B[0m\u001B[32m*\u001B[0m\u001B[32m*\u001B[0m\u001B[32m*\u001B[0m\u001B[32m*\u001B[0m\u001B[32m*\u001B[0m\u001B[32m*\u001B[0m\u001B[32m*\u001B[0m\u001B[32m*\u001B[0m\u001B[32m*\u001B[0m\u001B[32m*\u001B[0m\u001B[32m*\u001B[0m\u001B[32m*\u001B[0m\u001B[32m*\u001B[0m\u001B[32m*\u001B[0m\u001B[32m*\u001B[0m\u001B[32m*\u001B[0m\u001B[32m*\u001B[0m\u001B[32m*\u001B[0m\u001B[32m*\u001B[0m\u001B[32m*\u001B[0m\u001B[32m*\u001B[0m\u001B[32m*\u001B[0m\u001B[32m*\u001B[0m\u001B[32m*\u001B[0m\u001B[32m*\u001B[0m\u001B[32m*\u001B[0m\u001B[32m*\u001B[0m\u001B[32m*\u001B[0m\u001B[32m*\u001B[0m\u001B[32m*\u001B[0m\u001B[32m*\u001B[0m\u001B[32m*\u001B[0m\u001B[32m*\u001B[0m\u001B[32m*\u001B[0m\u001B[32m*\u001B[0m\u001B[32m*\u001B[0m\u001B[32m*\u001B[0m\u001B[32m*\u001B[0m\u001B[32m*\u001B[0m\u001B[32m*\u001B[0m\u001B[32m*\u001B[0m\u001B[32m*\u001B[0m\u001B[32m*\u001B[0m\u001B[32m*\u001B[0m\u001B[32m*\u001B[0m\u001B[32m*\u001B[0m\u001B[32m*\u001B[0m\u001B[32m*\u001B[0m\u001B[32m*\u001B[0m\u001B[32m*\u001B[0m\u001B[32m*\u001B[0m\u001B[32m*\u001B[0m\u001B[32m*\u001B[0m\u001B[32m*\u001B[0m\u001B[32m*\u001B[0m\u001B[32m*\u001B[0m\u001B[32m*\u001B[0m\u001B[32m*\u001B[0m\u001B[32m*\u001B[0m\u001B[32m*\u001B[0m\u001B[32m*\u001B[0m\u001B[32m*\u001B[0m\u001B[32m*\u001B[0m\u001B[32m*\u001B[0m\u001B[32m*\u001B[0m\u001B[32m*\u001B[0m\u001B[32m*\u001B[0m\u001B[32m*\u001B[0m\u001B[32m*\u001B[0m\u001B[32m*\u001B[0m\u001B[32m*\u001B[0m\u001B[32m*\u001B[0m\u001B[32m*\u001B[0m\u001B[32m*\u001B[0m\u001B[32m*\u001B[0m\u001B[32m*\u001B[0m\u001B[32m*\u001B[0m\u001B[32m*\u001B[0m\u001B[32m*\u001B[0m\u001B[32m*\u001B[0m\u001B[32m*\u001B[0m\u001B[32m*\u001B[0m\u001B[32m*\u001B[0m\u001B[32m*\u001B[0m\u001B[32m*\u001B[0m\u001B[32m*\u001B[0m\n"
     ]
    }
   ],
   "execution_count": 129
  },
  {
   "metadata": {},
   "cell_type": "markdown",
   "source": "## Proste skośne",
   "id": "2c29c2fd447fb2f"
  },
  {
   "metadata": {
    "ExecuteTime": {
     "end_time": "2024-09-15T18:35:58.327743Z",
     "start_time": "2024-09-15T18:35:43.377631Z"
    }
   },
   "cell_type": "code",
   "source": [
    "zadanie = gz.odleglosc_prostych_skosnych()\n",
    "zadanie"
   ],
   "id": "e8ec2c730a2717c9",
   "outputs": [
    {
     "data": {
      "text/plain": [
       "('Obliczyć odległość prostych skośnych\\n\\t\\\\[\\n\\t\\tl_1\\\\colon \\\\frac{x - 5}{-1}=\\\\frac{y - 1}{4}=\\\\frac{z - 4}{-1}, \\\\quad \\n\\t\\tl_2\\\\colon \\\\frac{x + 1}{2}=\\\\frac{y + 3}{2}=\\\\frac{z - 3}{-3}.\\n\\t\\\\]\\tWyznaczyć punkty realizujące minimalną odległość.',\n",
       " 'Płaszczyzna zawierająca $l_2$ i równoległa do $l_1$ to $\\\\pi\\\\colon - 10 x - 5 y - 10 z + 5=0$;\\\\\\\\$d(l_1,l_2)=6;$\\\\quad Punkty realizujące minimalną odległość to:\\\\ $ P_3=(5,1,4),\\\\ P_4=(1,-1,0)$.\\n')"
      ]
     },
     "execution_count": 148,
     "metadata": {},
     "output_type": "execute_result"
    }
   ],
   "execution_count": 148
  },
  {
   "metadata": {
    "ExecuteTime": {
     "end_time": "2024-09-15T18:29:22.000275Z",
     "start_time": "2024-09-15T18:29:21.993839Z"
    }
   },
   "cell_type": "code",
   "source": [
    "print(\"\\033[34m** Zadanie **\" + '*' * 81 + '\\033[0m')\n",
    "print(zadanie[0])\n",
    "print(\"\\033[34m*\\033[0m\" * 95)\n",
    "print(\"\\033[32m** Rozwiązanie **\" + '*' * 78 + '\\033[0m')\n",
    "print(zadanie[1])\n",
    "print(\"\\033[32m*\\033[0m\" * 95)"
   ],
   "id": "8c3cc0a2e0aa3e1a",
   "outputs": [
    {
     "name": "stdout",
     "output_type": "stream",
     "text": [
      "\u001B[34m** Zadanie ***********************************************************************************\u001B[0m\n",
      "Obliczyć odległość prostych skośnych\n",
      "\t\\[\n",
      "\t\tl_1\\colon \\frac{x - 3}{2}=\\frac{y - 3}{4}=\\frac{z - 4}{4}, \\quad \n",
      "\t\tl_2\\colon \\frac{x - 3}{1}=\\frac{y + 3}{3}=\\frac{z - 1}{4}.\n",
      "\t\\]\tWyznaczyć punkty realizujące minimalną odległość.\n",
      "\u001B[34m*\u001B[0m\u001B[34m*\u001B[0m\u001B[34m*\u001B[0m\u001B[34m*\u001B[0m\u001B[34m*\u001B[0m\u001B[34m*\u001B[0m\u001B[34m*\u001B[0m\u001B[34m*\u001B[0m\u001B[34m*\u001B[0m\u001B[34m*\u001B[0m\u001B[34m*\u001B[0m\u001B[34m*\u001B[0m\u001B[34m*\u001B[0m\u001B[34m*\u001B[0m\u001B[34m*\u001B[0m\u001B[34m*\u001B[0m\u001B[34m*\u001B[0m\u001B[34m*\u001B[0m\u001B[34m*\u001B[0m\u001B[34m*\u001B[0m\u001B[34m*\u001B[0m\u001B[34m*\u001B[0m\u001B[34m*\u001B[0m\u001B[34m*\u001B[0m\u001B[34m*\u001B[0m\u001B[34m*\u001B[0m\u001B[34m*\u001B[0m\u001B[34m*\u001B[0m\u001B[34m*\u001B[0m\u001B[34m*\u001B[0m\u001B[34m*\u001B[0m\u001B[34m*\u001B[0m\u001B[34m*\u001B[0m\u001B[34m*\u001B[0m\u001B[34m*\u001B[0m\u001B[34m*\u001B[0m\u001B[34m*\u001B[0m\u001B[34m*\u001B[0m\u001B[34m*\u001B[0m\u001B[34m*\u001B[0m\u001B[34m*\u001B[0m\u001B[34m*\u001B[0m\u001B[34m*\u001B[0m\u001B[34m*\u001B[0m\u001B[34m*\u001B[0m\u001B[34m*\u001B[0m\u001B[34m*\u001B[0m\u001B[34m*\u001B[0m\u001B[34m*\u001B[0m\u001B[34m*\u001B[0m\u001B[34m*\u001B[0m\u001B[34m*\u001B[0m\u001B[34m*\u001B[0m\u001B[34m*\u001B[0m\u001B[34m*\u001B[0m\u001B[34m*\u001B[0m\u001B[34m*\u001B[0m\u001B[34m*\u001B[0m\u001B[34m*\u001B[0m\u001B[34m*\u001B[0m\u001B[34m*\u001B[0m\u001B[34m*\u001B[0m\u001B[34m*\u001B[0m\u001B[34m*\u001B[0m\u001B[34m*\u001B[0m\u001B[34m*\u001B[0m\u001B[34m*\u001B[0m\u001B[34m*\u001B[0m\u001B[34m*\u001B[0m\u001B[34m*\u001B[0m\u001B[34m*\u001B[0m\u001B[34m*\u001B[0m\u001B[34m*\u001B[0m\u001B[34m*\u001B[0m\u001B[34m*\u001B[0m\u001B[34m*\u001B[0m\u001B[34m*\u001B[0m\u001B[34m*\u001B[0m\u001B[34m*\u001B[0m\u001B[34m*\u001B[0m\u001B[34m*\u001B[0m\u001B[34m*\u001B[0m\u001B[34m*\u001B[0m\u001B[34m*\u001B[0m\u001B[34m*\u001B[0m\u001B[34m*\u001B[0m\u001B[34m*\u001B[0m\u001B[34m*\u001B[0m\u001B[34m*\u001B[0m\u001B[34m*\u001B[0m\u001B[34m*\u001B[0m\u001B[34m*\u001B[0m\u001B[34m*\u001B[0m\u001B[34m*\u001B[0m\u001B[34m*\u001B[0m\n",
      "\u001B[32m** Rozwiązanie ********************************************************************************\u001B[0m\n",
      "Płaszczyzna zawierająca $l_2$ i równoległa do $l_1$ to $\\pi\\colon 4 x - 4 y + 2 z - 26=0$;\\\\$d(l_1,l_2)=3;$\\quad Punkty realizujące minimalną odległość to:\\ $ P_3=(1,-1,0),\\ P_4=(3,-3,1)$.\n",
      "\n",
      "\u001B[32m*\u001B[0m\u001B[32m*\u001B[0m\u001B[32m*\u001B[0m\u001B[32m*\u001B[0m\u001B[32m*\u001B[0m\u001B[32m*\u001B[0m\u001B[32m*\u001B[0m\u001B[32m*\u001B[0m\u001B[32m*\u001B[0m\u001B[32m*\u001B[0m\u001B[32m*\u001B[0m\u001B[32m*\u001B[0m\u001B[32m*\u001B[0m\u001B[32m*\u001B[0m\u001B[32m*\u001B[0m\u001B[32m*\u001B[0m\u001B[32m*\u001B[0m\u001B[32m*\u001B[0m\u001B[32m*\u001B[0m\u001B[32m*\u001B[0m\u001B[32m*\u001B[0m\u001B[32m*\u001B[0m\u001B[32m*\u001B[0m\u001B[32m*\u001B[0m\u001B[32m*\u001B[0m\u001B[32m*\u001B[0m\u001B[32m*\u001B[0m\u001B[32m*\u001B[0m\u001B[32m*\u001B[0m\u001B[32m*\u001B[0m\u001B[32m*\u001B[0m\u001B[32m*\u001B[0m\u001B[32m*\u001B[0m\u001B[32m*\u001B[0m\u001B[32m*\u001B[0m\u001B[32m*\u001B[0m\u001B[32m*\u001B[0m\u001B[32m*\u001B[0m\u001B[32m*\u001B[0m\u001B[32m*\u001B[0m\u001B[32m*\u001B[0m\u001B[32m*\u001B[0m\u001B[32m*\u001B[0m\u001B[32m*\u001B[0m\u001B[32m*\u001B[0m\u001B[32m*\u001B[0m\u001B[32m*\u001B[0m\u001B[32m*\u001B[0m\u001B[32m*\u001B[0m\u001B[32m*\u001B[0m\u001B[32m*\u001B[0m\u001B[32m*\u001B[0m\u001B[32m*\u001B[0m\u001B[32m*\u001B[0m\u001B[32m*\u001B[0m\u001B[32m*\u001B[0m\u001B[32m*\u001B[0m\u001B[32m*\u001B[0m\u001B[32m*\u001B[0m\u001B[32m*\u001B[0m\u001B[32m*\u001B[0m\u001B[32m*\u001B[0m\u001B[32m*\u001B[0m\u001B[32m*\u001B[0m\u001B[32m*\u001B[0m\u001B[32m*\u001B[0m\u001B[32m*\u001B[0m\u001B[32m*\u001B[0m\u001B[32m*\u001B[0m\u001B[32m*\u001B[0m\u001B[32m*\u001B[0m\u001B[32m*\u001B[0m\u001B[32m*\u001B[0m\u001B[32m*\u001B[0m\u001B[32m*\u001B[0m\u001B[32m*\u001B[0m\u001B[32m*\u001B[0m\u001B[32m*\u001B[0m\u001B[32m*\u001B[0m\u001B[32m*\u001B[0m\u001B[32m*\u001B[0m\u001B[32m*\u001B[0m\u001B[32m*\u001B[0m\u001B[32m*\u001B[0m\u001B[32m*\u001B[0m\u001B[32m*\u001B[0m\u001B[32m*\u001B[0m\u001B[32m*\u001B[0m\u001B[32m*\u001B[0m\u001B[32m*\u001B[0m\u001B[32m*\u001B[0m\u001B[32m*\u001B[0m\u001B[32m*\u001B[0m\u001B[32m*\u001B[0m\u001B[32m*\u001B[0m\n"
     ]
    }
   ],
   "execution_count": 131
  },
  {
   "metadata": {
    "ExecuteTime": {
     "end_time": "2024-09-15T18:47:36.759839Z",
     "start_time": "2024-09-15T18:45:24.712009Z"
    }
   },
   "cell_type": "code",
   "source": [
    "for i in range(1, ile_zadan_przykladowych + 1):\n",
    "    zadanie = gz.odleglosc_prostych_skosnych()\n",
    "    print(f\"\\033[34m** Zadanie {i} **\" + '*' * 80 + '\\033[0m')\n",
    "    display(Markdown(zadanie[0].split('\\n\\t')[0]))\n",
    "    display(Latex('$$' + (zadanie[0].split('\\n\\t')[2]) + '$$'))\n",
    "    display(Latex('$$' + (zadanie[0].split('\\n\\t')[3]) + '$$'))\n",
    "    display(Markdown(zadanie[0].split('\\n\\t')[4][3:]))\n",
    "    print(\"\\033[34m*\\033[0m\" * 95)\n",
    "    print(\"\\033[32m** Rozwiązanie **\" + '*' * 78 + '\\033[0m')\n",
    "    display(Markdown('Płaszczyzna zawierająca *l<sub>2</sub>* i równoległa do *l<sub>1</sub>* to'))\n",
    "    display(Latex('$$' + (zadanie[1].split('$')[5]) + '$$'))\n",
    "    display(Markdown('Odległość prostych skośnych to'))\n",
    "    display(Latex('$$' + (zadanie[1].split('$')[7]) + '$$'))\n",
    "    display(Markdown('Punkty realizujące minimalną odległość to'))\n",
    "    display(Latex('$$' + (zadanie[1].split('$')[9]).replace('\\\\ ', '\\qquad ') + '$$'))\n",
    "    print(\"\\033[32m*\\033[0m\" * 95)"
   ],
   "id": "fd0492b10852cb11",
   "outputs": [
    {
     "name": "stdout",
     "output_type": "stream",
     "text": [
      "Płaszczyzna zawierająca $l_2$ i równoległa do $l_1$ to $\\pi\\colon - x + 2 y + 2 z - 8=0$;\\\\$d(l_1,l_2)=3;$\\quad Punkty realizujące minimalną odległość to:\\ $ P_3=(-1,6,-7),\\ P_4=(-2,8,-5)$.\n",
      "\n",
      "\u001B[34m** Zadanie 1 **********************************************************************************\u001B[0m\n"
     ]
    },
    {
     "data": {
      "text/plain": [
       "<IPython.core.display.Markdown object>"
      ],
      "text/markdown": "Obliczyć odległość prostych skośnych"
     },
     "metadata": {},
     "output_type": "display_data"
    },
    {
     "data": {
      "text/plain": [
       "<IPython.core.display.Latex object>"
      ],
      "text/latex": "$$\tl_1\\colon \\frac{x - 5}{-2}=\\frac{y - 3}{1}=\\frac{z + 1}{-2}, \\quad $$"
     },
     "metadata": {},
     "output_type": "display_data"
    },
    {
     "data": {
      "text/plain": [
       "<IPython.core.display.Latex object>"
      ],
      "text/latex": "$$\tl_2\\colon \\frac{x - 2}{2}=\\frac{y - 4}{-2}=\\frac{z - 1}{3}.$$"
     },
     "metadata": {},
     "output_type": "display_data"
    },
    {
     "data": {
      "text/plain": [
       "<IPython.core.display.Markdown object>"
      ],
      "text/markdown": "Wyznaczyć punkty realizujące minimalną odległość."
     },
     "metadata": {},
     "output_type": "display_data"
    },
    {
     "name": "stdout",
     "output_type": "stream",
     "text": [
      "\u001B[34m*\u001B[0m\u001B[34m*\u001B[0m\u001B[34m*\u001B[0m\u001B[34m*\u001B[0m\u001B[34m*\u001B[0m\u001B[34m*\u001B[0m\u001B[34m*\u001B[0m\u001B[34m*\u001B[0m\u001B[34m*\u001B[0m\u001B[34m*\u001B[0m\u001B[34m*\u001B[0m\u001B[34m*\u001B[0m\u001B[34m*\u001B[0m\u001B[34m*\u001B[0m\u001B[34m*\u001B[0m\u001B[34m*\u001B[0m\u001B[34m*\u001B[0m\u001B[34m*\u001B[0m\u001B[34m*\u001B[0m\u001B[34m*\u001B[0m\u001B[34m*\u001B[0m\u001B[34m*\u001B[0m\u001B[34m*\u001B[0m\u001B[34m*\u001B[0m\u001B[34m*\u001B[0m\u001B[34m*\u001B[0m\u001B[34m*\u001B[0m\u001B[34m*\u001B[0m\u001B[34m*\u001B[0m\u001B[34m*\u001B[0m\u001B[34m*\u001B[0m\u001B[34m*\u001B[0m\u001B[34m*\u001B[0m\u001B[34m*\u001B[0m\u001B[34m*\u001B[0m\u001B[34m*\u001B[0m\u001B[34m*\u001B[0m\u001B[34m*\u001B[0m\u001B[34m*\u001B[0m\u001B[34m*\u001B[0m\u001B[34m*\u001B[0m\u001B[34m*\u001B[0m\u001B[34m*\u001B[0m\u001B[34m*\u001B[0m\u001B[34m*\u001B[0m\u001B[34m*\u001B[0m\u001B[34m*\u001B[0m\u001B[34m*\u001B[0m\u001B[34m*\u001B[0m\u001B[34m*\u001B[0m\u001B[34m*\u001B[0m\u001B[34m*\u001B[0m\u001B[34m*\u001B[0m\u001B[34m*\u001B[0m\u001B[34m*\u001B[0m\u001B[34m*\u001B[0m\u001B[34m*\u001B[0m\u001B[34m*\u001B[0m\u001B[34m*\u001B[0m\u001B[34m*\u001B[0m\u001B[34m*\u001B[0m\u001B[34m*\u001B[0m\u001B[34m*\u001B[0m\u001B[34m*\u001B[0m\u001B[34m*\u001B[0m\u001B[34m*\u001B[0m\u001B[34m*\u001B[0m\u001B[34m*\u001B[0m\u001B[34m*\u001B[0m\u001B[34m*\u001B[0m\u001B[34m*\u001B[0m\u001B[34m*\u001B[0m\u001B[34m*\u001B[0m\u001B[34m*\u001B[0m\u001B[34m*\u001B[0m\u001B[34m*\u001B[0m\u001B[34m*\u001B[0m\u001B[34m*\u001B[0m\u001B[34m*\u001B[0m\u001B[34m*\u001B[0m\u001B[34m*\u001B[0m\u001B[34m*\u001B[0m\u001B[34m*\u001B[0m\u001B[34m*\u001B[0m\u001B[34m*\u001B[0m\u001B[34m*\u001B[0m\u001B[34m*\u001B[0m\u001B[34m*\u001B[0m\u001B[34m*\u001B[0m\u001B[34m*\u001B[0m\u001B[34m*\u001B[0m\u001B[34m*\u001B[0m\u001B[34m*\u001B[0m\u001B[34m*\u001B[0m\u001B[34m*\u001B[0m\n",
      "\u001B[32m** Rozwiązanie ********************************************************************************\u001B[0m\n"
     ]
    },
    {
     "data": {
      "text/plain": [
       "<IPython.core.display.Markdown object>"
      ],
      "text/markdown": "Płaszczyzna zawierająca *l<sub>2</sub>* i równoległa do *l<sub>1</sub>* to"
     },
     "metadata": {},
     "output_type": "display_data"
    },
    {
     "data": {
      "text/plain": [
       "<IPython.core.display.Latex object>"
      ],
      "text/latex": "$$\\pi\\colon - x + 2 y + 2 z - 8=0$$"
     },
     "metadata": {},
     "output_type": "display_data"
    },
    {
     "data": {
      "text/plain": [
       "<IPython.core.display.Markdown object>"
      ],
      "text/markdown": "Odległość prostych skośnych to"
     },
     "metadata": {},
     "output_type": "display_data"
    },
    {
     "data": {
      "text/plain": [
       "<IPython.core.display.Latex object>"
      ],
      "text/latex": "$$d(l_1,l_2)=3;$$"
     },
     "metadata": {},
     "output_type": "display_data"
    },
    {
     "data": {
      "text/plain": [
       "<IPython.core.display.Markdown object>"
      ],
      "text/markdown": "Punkty realizujące minimalną odległość to"
     },
     "metadata": {},
     "output_type": "display_data"
    },
    {
     "data": {
      "text/plain": [
       "<IPython.core.display.Latex object>"
      ],
      "text/latex": "$$ P_3=(-1,6,-7),\\qquad P_4=(-2,8,-5)$$"
     },
     "metadata": {},
     "output_type": "display_data"
    },
    {
     "name": "stdout",
     "output_type": "stream",
     "text": [
      "\u001B[32m*\u001B[0m\u001B[32m*\u001B[0m\u001B[32m*\u001B[0m\u001B[32m*\u001B[0m\u001B[32m*\u001B[0m\u001B[32m*\u001B[0m\u001B[32m*\u001B[0m\u001B[32m*\u001B[0m\u001B[32m*\u001B[0m\u001B[32m*\u001B[0m\u001B[32m*\u001B[0m\u001B[32m*\u001B[0m\u001B[32m*\u001B[0m\u001B[32m*\u001B[0m\u001B[32m*\u001B[0m\u001B[32m*\u001B[0m\u001B[32m*\u001B[0m\u001B[32m*\u001B[0m\u001B[32m*\u001B[0m\u001B[32m*\u001B[0m\u001B[32m*\u001B[0m\u001B[32m*\u001B[0m\u001B[32m*\u001B[0m\u001B[32m*\u001B[0m\u001B[32m*\u001B[0m\u001B[32m*\u001B[0m\u001B[32m*\u001B[0m\u001B[32m*\u001B[0m\u001B[32m*\u001B[0m\u001B[32m*\u001B[0m\u001B[32m*\u001B[0m\u001B[32m*\u001B[0m\u001B[32m*\u001B[0m\u001B[32m*\u001B[0m\u001B[32m*\u001B[0m\u001B[32m*\u001B[0m\u001B[32m*\u001B[0m\u001B[32m*\u001B[0m\u001B[32m*\u001B[0m\u001B[32m*\u001B[0m\u001B[32m*\u001B[0m\u001B[32m*\u001B[0m\u001B[32m*\u001B[0m\u001B[32m*\u001B[0m\u001B[32m*\u001B[0m\u001B[32m*\u001B[0m\u001B[32m*\u001B[0m\u001B[32m*\u001B[0m\u001B[32m*\u001B[0m\u001B[32m*\u001B[0m\u001B[32m*\u001B[0m\u001B[32m*\u001B[0m\u001B[32m*\u001B[0m\u001B[32m*\u001B[0m\u001B[32m*\u001B[0m\u001B[32m*\u001B[0m\u001B[32m*\u001B[0m\u001B[32m*\u001B[0m\u001B[32m*\u001B[0m\u001B[32m*\u001B[0m\u001B[32m*\u001B[0m\u001B[32m*\u001B[0m\u001B[32m*\u001B[0m\u001B[32m*\u001B[0m\u001B[32m*\u001B[0m\u001B[32m*\u001B[0m\u001B[32m*\u001B[0m\u001B[32m*\u001B[0m\u001B[32m*\u001B[0m\u001B[32m*\u001B[0m\u001B[32m*\u001B[0m\u001B[32m*\u001B[0m\u001B[32m*\u001B[0m\u001B[32m*\u001B[0m\u001B[32m*\u001B[0m\u001B[32m*\u001B[0m\u001B[32m*\u001B[0m\u001B[32m*\u001B[0m\u001B[32m*\u001B[0m\u001B[32m*\u001B[0m\u001B[32m*\u001B[0m\u001B[32m*\u001B[0m\u001B[32m*\u001B[0m\u001B[32m*\u001B[0m\u001B[32m*\u001B[0m\u001B[32m*\u001B[0m\u001B[32m*\u001B[0m\u001B[32m*\u001B[0m\u001B[32m*\u001B[0m\u001B[32m*\u001B[0m\u001B[32m*\u001B[0m\u001B[32m*\u001B[0m\u001B[32m*\u001B[0m\u001B[32m*\u001B[0m\u001B[32m*\u001B[0m\n",
      "Płaszczyzna zawierająca $l_2$ i równoległa do $l_1$ to $\\pi\\colon - 4 x + 8 y + 8 z - 64=0$;\\\\$d(l_1,l_2)=9;$\\quad Punkty realizujące minimalną odległość to:\\ $ P_3=(3,-3,-1),\\ P_4=(0,3,5)$.\n",
      "\n",
      "\u001B[34m** Zadanie 2 **********************************************************************************\u001B[0m\n"
     ]
    },
    {
     "data": {
      "text/plain": [
       "<IPython.core.display.Markdown object>"
      ],
      "text/markdown": "Obliczyć odległość prostych skośnych"
     },
     "metadata": {},
     "output_type": "display_data"
    },
    {
     "data": {
      "text/plain": [
       "<IPython.core.display.Latex object>"
      ],
      "text/latex": "$$\tl_1\\colon \\frac{x - 3}{-2}=\\frac{y + 3}{2}=\\frac{z + 1}{-3}, \\quad $$"
     },
     "metadata": {},
     "output_type": "display_data"
    },
    {
     "data": {
      "text/plain": [
       "<IPython.core.display.Latex object>"
      ],
      "text/latex": "$$\tl_2\\colon \\frac{x - 2}{-2}=\\frac{y - 5}{-2}=\\frac{z - 4}{1}.$$"
     },
     "metadata": {},
     "output_type": "display_data"
    },
    {
     "data": {
      "text/plain": [
       "<IPython.core.display.Markdown object>"
      ],
      "text/markdown": "Wyznaczyć punkty realizujące minimalną odległość."
     },
     "metadata": {},
     "output_type": "display_data"
    },
    {
     "name": "stdout",
     "output_type": "stream",
     "text": [
      "\u001B[34m*\u001B[0m\u001B[34m*\u001B[0m\u001B[34m*\u001B[0m\u001B[34m*\u001B[0m\u001B[34m*\u001B[0m\u001B[34m*\u001B[0m\u001B[34m*\u001B[0m\u001B[34m*\u001B[0m\u001B[34m*\u001B[0m\u001B[34m*\u001B[0m\u001B[34m*\u001B[0m\u001B[34m*\u001B[0m\u001B[34m*\u001B[0m\u001B[34m*\u001B[0m\u001B[34m*\u001B[0m\u001B[34m*\u001B[0m\u001B[34m*\u001B[0m\u001B[34m*\u001B[0m\u001B[34m*\u001B[0m\u001B[34m*\u001B[0m\u001B[34m*\u001B[0m\u001B[34m*\u001B[0m\u001B[34m*\u001B[0m\u001B[34m*\u001B[0m\u001B[34m*\u001B[0m\u001B[34m*\u001B[0m\u001B[34m*\u001B[0m\u001B[34m*\u001B[0m\u001B[34m*\u001B[0m\u001B[34m*\u001B[0m\u001B[34m*\u001B[0m\u001B[34m*\u001B[0m\u001B[34m*\u001B[0m\u001B[34m*\u001B[0m\u001B[34m*\u001B[0m\u001B[34m*\u001B[0m\u001B[34m*\u001B[0m\u001B[34m*\u001B[0m\u001B[34m*\u001B[0m\u001B[34m*\u001B[0m\u001B[34m*\u001B[0m\u001B[34m*\u001B[0m\u001B[34m*\u001B[0m\u001B[34m*\u001B[0m\u001B[34m*\u001B[0m\u001B[34m*\u001B[0m\u001B[34m*\u001B[0m\u001B[34m*\u001B[0m\u001B[34m*\u001B[0m\u001B[34m*\u001B[0m\u001B[34m*\u001B[0m\u001B[34m*\u001B[0m\u001B[34m*\u001B[0m\u001B[34m*\u001B[0m\u001B[34m*\u001B[0m\u001B[34m*\u001B[0m\u001B[34m*\u001B[0m\u001B[34m*\u001B[0m\u001B[34m*\u001B[0m\u001B[34m*\u001B[0m\u001B[34m*\u001B[0m\u001B[34m*\u001B[0m\u001B[34m*\u001B[0m\u001B[34m*\u001B[0m\u001B[34m*\u001B[0m\u001B[34m*\u001B[0m\u001B[34m*\u001B[0m\u001B[34m*\u001B[0m\u001B[34m*\u001B[0m\u001B[34m*\u001B[0m\u001B[34m*\u001B[0m\u001B[34m*\u001B[0m\u001B[34m*\u001B[0m\u001B[34m*\u001B[0m\u001B[34m*\u001B[0m\u001B[34m*\u001B[0m\u001B[34m*\u001B[0m\u001B[34m*\u001B[0m\u001B[34m*\u001B[0m\u001B[34m*\u001B[0m\u001B[34m*\u001B[0m\u001B[34m*\u001B[0m\u001B[34m*\u001B[0m\u001B[34m*\u001B[0m\u001B[34m*\u001B[0m\u001B[34m*\u001B[0m\u001B[34m*\u001B[0m\u001B[34m*\u001B[0m\u001B[34m*\u001B[0m\u001B[34m*\u001B[0m\u001B[34m*\u001B[0m\u001B[34m*\u001B[0m\u001B[34m*\u001B[0m\u001B[34m*\u001B[0m\u001B[34m*\u001B[0m\n",
      "\u001B[32m** Rozwiązanie ********************************************************************************\u001B[0m\n"
     ]
    },
    {
     "data": {
      "text/plain": [
       "<IPython.core.display.Markdown object>"
      ],
      "text/markdown": "Płaszczyzna zawierająca *l<sub>2</sub>* i równoległa do *l<sub>1</sub>* to"
     },
     "metadata": {},
     "output_type": "display_data"
    },
    {
     "data": {
      "text/plain": [
       "<IPython.core.display.Latex object>"
      ],
      "text/latex": "$$\\pi\\colon - 4 x + 8 y + 8 z - 64=0$$"
     },
     "metadata": {},
     "output_type": "display_data"
    },
    {
     "data": {
      "text/plain": [
       "<IPython.core.display.Markdown object>"
      ],
      "text/markdown": "Odległość prostych skośnych to"
     },
     "metadata": {},
     "output_type": "display_data"
    },
    {
     "data": {
      "text/plain": [
       "<IPython.core.display.Latex object>"
      ],
      "text/latex": "$$d(l_1,l_2)=9;$$"
     },
     "metadata": {},
     "output_type": "display_data"
    },
    {
     "data": {
      "text/plain": [
       "<IPython.core.display.Markdown object>"
      ],
      "text/markdown": "Punkty realizujące minimalną odległość to"
     },
     "metadata": {},
     "output_type": "display_data"
    },
    {
     "data": {
      "text/plain": [
       "<IPython.core.display.Latex object>"
      ],
      "text/latex": "$$ P_3=(3,-3,-1),\\qquad P_4=(0,3,5)$$"
     },
     "metadata": {},
     "output_type": "display_data"
    },
    {
     "name": "stdout",
     "output_type": "stream",
     "text": [
      "\u001B[32m*\u001B[0m\u001B[32m*\u001B[0m\u001B[32m*\u001B[0m\u001B[32m*\u001B[0m\u001B[32m*\u001B[0m\u001B[32m*\u001B[0m\u001B[32m*\u001B[0m\u001B[32m*\u001B[0m\u001B[32m*\u001B[0m\u001B[32m*\u001B[0m\u001B[32m*\u001B[0m\u001B[32m*\u001B[0m\u001B[32m*\u001B[0m\u001B[32m*\u001B[0m\u001B[32m*\u001B[0m\u001B[32m*\u001B[0m\u001B[32m*\u001B[0m\u001B[32m*\u001B[0m\u001B[32m*\u001B[0m\u001B[32m*\u001B[0m\u001B[32m*\u001B[0m\u001B[32m*\u001B[0m\u001B[32m*\u001B[0m\u001B[32m*\u001B[0m\u001B[32m*\u001B[0m\u001B[32m*\u001B[0m\u001B[32m*\u001B[0m\u001B[32m*\u001B[0m\u001B[32m*\u001B[0m\u001B[32m*\u001B[0m\u001B[32m*\u001B[0m\u001B[32m*\u001B[0m\u001B[32m*\u001B[0m\u001B[32m*\u001B[0m\u001B[32m*\u001B[0m\u001B[32m*\u001B[0m\u001B[32m*\u001B[0m\u001B[32m*\u001B[0m\u001B[32m*\u001B[0m\u001B[32m*\u001B[0m\u001B[32m*\u001B[0m\u001B[32m*\u001B[0m\u001B[32m*\u001B[0m\u001B[32m*\u001B[0m\u001B[32m*\u001B[0m\u001B[32m*\u001B[0m\u001B[32m*\u001B[0m\u001B[32m*\u001B[0m\u001B[32m*\u001B[0m\u001B[32m*\u001B[0m\u001B[32m*\u001B[0m\u001B[32m*\u001B[0m\u001B[32m*\u001B[0m\u001B[32m*\u001B[0m\u001B[32m*\u001B[0m\u001B[32m*\u001B[0m\u001B[32m*\u001B[0m\u001B[32m*\u001B[0m\u001B[32m*\u001B[0m\u001B[32m*\u001B[0m\u001B[32m*\u001B[0m\u001B[32m*\u001B[0m\u001B[32m*\u001B[0m\u001B[32m*\u001B[0m\u001B[32m*\u001B[0m\u001B[32m*\u001B[0m\u001B[32m*\u001B[0m\u001B[32m*\u001B[0m\u001B[32m*\u001B[0m\u001B[32m*\u001B[0m\u001B[32m*\u001B[0m\u001B[32m*\u001B[0m\u001B[32m*\u001B[0m\u001B[32m*\u001B[0m\u001B[32m*\u001B[0m\u001B[32m*\u001B[0m\u001B[32m*\u001B[0m\u001B[32m*\u001B[0m\u001B[32m*\u001B[0m\u001B[32m*\u001B[0m\u001B[32m*\u001B[0m\u001B[32m*\u001B[0m\u001B[32m*\u001B[0m\u001B[32m*\u001B[0m\u001B[32m*\u001B[0m\u001B[32m*\u001B[0m\u001B[32m*\u001B[0m\u001B[32m*\u001B[0m\u001B[32m*\u001B[0m\u001B[32m*\u001B[0m\u001B[32m*\u001B[0m\u001B[32m*\u001B[0m\u001B[32m*\u001B[0m\u001B[32m*\u001B[0m\u001B[32m*\u001B[0m\n",
      "Płaszczyzna zawierająca $l_2$ i równoległa do $l_1$ to $\\pi\\colon - 3 x - 6 y + 6 z + 33=0$;\\\\$d(l_1,l_2)=3;$\\quad Punkty realizujące minimalną odległość to:\\ $ P_3=(-8,-2,-7),\\ P_4=(-7,0,-9)$.\n",
      "\n",
      "\u001B[34m** Zadanie 3 **********************************************************************************\u001B[0m\n"
     ]
    },
    {
     "data": {
      "text/plain": [
       "<IPython.core.display.Markdown object>"
      ],
      "text/markdown": "Obliczyć odległość prostych skośnych"
     },
     "metadata": {},
     "output_type": "display_data"
    },
    {
     "data": {
      "text/plain": [
       "<IPython.core.display.Latex object>"
      ],
      "text/latex": "$$\tl_1\\colon \\frac{x - 4}{4}=\\frac{y - 1}{1}=\\frac{z - 2}{3}, \\quad $$"
     },
     "metadata": {},
     "output_type": "display_data"
    },
    {
     "data": {
      "text/plain": [
       "<IPython.core.display.Latex object>"
      ],
      "text/latex": "$$\tl_2\\colon \\frac{x + 3}{2}=\\frac{y - 4}{2}=\\frac{z + 3}{3}.$$"
     },
     "metadata": {},
     "output_type": "display_data"
    },
    {
     "data": {
      "text/plain": [
       "<IPython.core.display.Markdown object>"
      ],
      "text/markdown": "Wyznaczyć punkty realizujące minimalną odległość."
     },
     "metadata": {},
     "output_type": "display_data"
    },
    {
     "name": "stdout",
     "output_type": "stream",
     "text": [
      "\u001B[34m*\u001B[0m\u001B[34m*\u001B[0m\u001B[34m*\u001B[0m\u001B[34m*\u001B[0m\u001B[34m*\u001B[0m\u001B[34m*\u001B[0m\u001B[34m*\u001B[0m\u001B[34m*\u001B[0m\u001B[34m*\u001B[0m\u001B[34m*\u001B[0m\u001B[34m*\u001B[0m\u001B[34m*\u001B[0m\u001B[34m*\u001B[0m\u001B[34m*\u001B[0m\u001B[34m*\u001B[0m\u001B[34m*\u001B[0m\u001B[34m*\u001B[0m\u001B[34m*\u001B[0m\u001B[34m*\u001B[0m\u001B[34m*\u001B[0m\u001B[34m*\u001B[0m\u001B[34m*\u001B[0m\u001B[34m*\u001B[0m\u001B[34m*\u001B[0m\u001B[34m*\u001B[0m\u001B[34m*\u001B[0m\u001B[34m*\u001B[0m\u001B[34m*\u001B[0m\u001B[34m*\u001B[0m\u001B[34m*\u001B[0m\u001B[34m*\u001B[0m\u001B[34m*\u001B[0m\u001B[34m*\u001B[0m\u001B[34m*\u001B[0m\u001B[34m*\u001B[0m\u001B[34m*\u001B[0m\u001B[34m*\u001B[0m\u001B[34m*\u001B[0m\u001B[34m*\u001B[0m\u001B[34m*\u001B[0m\u001B[34m*\u001B[0m\u001B[34m*\u001B[0m\u001B[34m*\u001B[0m\u001B[34m*\u001B[0m\u001B[34m*\u001B[0m\u001B[34m*\u001B[0m\u001B[34m*\u001B[0m\u001B[34m*\u001B[0m\u001B[34m*\u001B[0m\u001B[34m*\u001B[0m\u001B[34m*\u001B[0m\u001B[34m*\u001B[0m\u001B[34m*\u001B[0m\u001B[34m*\u001B[0m\u001B[34m*\u001B[0m\u001B[34m*\u001B[0m\u001B[34m*\u001B[0m\u001B[34m*\u001B[0m\u001B[34m*\u001B[0m\u001B[34m*\u001B[0m\u001B[34m*\u001B[0m\u001B[34m*\u001B[0m\u001B[34m*\u001B[0m\u001B[34m*\u001B[0m\u001B[34m*\u001B[0m\u001B[34m*\u001B[0m\u001B[34m*\u001B[0m\u001B[34m*\u001B[0m\u001B[34m*\u001B[0m\u001B[34m*\u001B[0m\u001B[34m*\u001B[0m\u001B[34m*\u001B[0m\u001B[34m*\u001B[0m\u001B[34m*\u001B[0m\u001B[34m*\u001B[0m\u001B[34m*\u001B[0m\u001B[34m*\u001B[0m\u001B[34m*\u001B[0m\u001B[34m*\u001B[0m\u001B[34m*\u001B[0m\u001B[34m*\u001B[0m\u001B[34m*\u001B[0m\u001B[34m*\u001B[0m\u001B[34m*\u001B[0m\u001B[34m*\u001B[0m\u001B[34m*\u001B[0m\u001B[34m*\u001B[0m\u001B[34m*\u001B[0m\u001B[34m*\u001B[0m\u001B[34m*\u001B[0m\u001B[34m*\u001B[0m\u001B[34m*\u001B[0m\u001B[34m*\u001B[0m\u001B[34m*\u001B[0m\u001B[34m*\u001B[0m\n",
      "\u001B[32m** Rozwiązanie ********************************************************************************\u001B[0m\n"
     ]
    },
    {
     "data": {
      "text/plain": [
       "<IPython.core.display.Markdown object>"
      ],
      "text/markdown": "Płaszczyzna zawierająca *l<sub>2</sub>* i równoległa do *l<sub>1</sub>* to"
     },
     "metadata": {},
     "output_type": "display_data"
    },
    {
     "data": {
      "text/plain": [
       "<IPython.core.display.Latex object>"
      ],
      "text/latex": "$$\\pi\\colon - 3 x - 6 y + 6 z + 33=0$$"
     },
     "metadata": {},
     "output_type": "display_data"
    },
    {
     "data": {
      "text/plain": [
       "<IPython.core.display.Markdown object>"
      ],
      "text/markdown": "Odległość prostych skośnych to"
     },
     "metadata": {},
     "output_type": "display_data"
    },
    {
     "data": {
      "text/plain": [
       "<IPython.core.display.Latex object>"
      ],
      "text/latex": "$$d(l_1,l_2)=3;$$"
     },
     "metadata": {},
     "output_type": "display_data"
    },
    {
     "data": {
      "text/plain": [
       "<IPython.core.display.Markdown object>"
      ],
      "text/markdown": "Punkty realizujące minimalną odległość to"
     },
     "metadata": {},
     "output_type": "display_data"
    },
    {
     "data": {
      "text/plain": [
       "<IPython.core.display.Latex object>"
      ],
      "text/latex": "$$ P_3=(-8,-2,-7),\\qquad P_4=(-7,0,-9)$$"
     },
     "metadata": {},
     "output_type": "display_data"
    },
    {
     "name": "stdout",
     "output_type": "stream",
     "text": [
      "\u001B[32m*\u001B[0m\u001B[32m*\u001B[0m\u001B[32m*\u001B[0m\u001B[32m*\u001B[0m\u001B[32m*\u001B[0m\u001B[32m*\u001B[0m\u001B[32m*\u001B[0m\u001B[32m*\u001B[0m\u001B[32m*\u001B[0m\u001B[32m*\u001B[0m\u001B[32m*\u001B[0m\u001B[32m*\u001B[0m\u001B[32m*\u001B[0m\u001B[32m*\u001B[0m\u001B[32m*\u001B[0m\u001B[32m*\u001B[0m\u001B[32m*\u001B[0m\u001B[32m*\u001B[0m\u001B[32m*\u001B[0m\u001B[32m*\u001B[0m\u001B[32m*\u001B[0m\u001B[32m*\u001B[0m\u001B[32m*\u001B[0m\u001B[32m*\u001B[0m\u001B[32m*\u001B[0m\u001B[32m*\u001B[0m\u001B[32m*\u001B[0m\u001B[32m*\u001B[0m\u001B[32m*\u001B[0m\u001B[32m*\u001B[0m\u001B[32m*\u001B[0m\u001B[32m*\u001B[0m\u001B[32m*\u001B[0m\u001B[32m*\u001B[0m\u001B[32m*\u001B[0m\u001B[32m*\u001B[0m\u001B[32m*\u001B[0m\u001B[32m*\u001B[0m\u001B[32m*\u001B[0m\u001B[32m*\u001B[0m\u001B[32m*\u001B[0m\u001B[32m*\u001B[0m\u001B[32m*\u001B[0m\u001B[32m*\u001B[0m\u001B[32m*\u001B[0m\u001B[32m*\u001B[0m\u001B[32m*\u001B[0m\u001B[32m*\u001B[0m\u001B[32m*\u001B[0m\u001B[32m*\u001B[0m\u001B[32m*\u001B[0m\u001B[32m*\u001B[0m\u001B[32m*\u001B[0m\u001B[32m*\u001B[0m\u001B[32m*\u001B[0m\u001B[32m*\u001B[0m\u001B[32m*\u001B[0m\u001B[32m*\u001B[0m\u001B[32m*\u001B[0m\u001B[32m*\u001B[0m\u001B[32m*\u001B[0m\u001B[32m*\u001B[0m\u001B[32m*\u001B[0m\u001B[32m*\u001B[0m\u001B[32m*\u001B[0m\u001B[32m*\u001B[0m\u001B[32m*\u001B[0m\u001B[32m*\u001B[0m\u001B[32m*\u001B[0m\u001B[32m*\u001B[0m\u001B[32m*\u001B[0m\u001B[32m*\u001B[0m\u001B[32m*\u001B[0m\u001B[32m*\u001B[0m\u001B[32m*\u001B[0m\u001B[32m*\u001B[0m\u001B[32m*\u001B[0m\u001B[32m*\u001B[0m\u001B[32m*\u001B[0m\u001B[32m*\u001B[0m\u001B[32m*\u001B[0m\u001B[32m*\u001B[0m\u001B[32m*\u001B[0m\u001B[32m*\u001B[0m\u001B[32m*\u001B[0m\u001B[32m*\u001B[0m\u001B[32m*\u001B[0m\u001B[32m*\u001B[0m\u001B[32m*\u001B[0m\u001B[32m*\u001B[0m\u001B[32m*\u001B[0m\u001B[32m*\u001B[0m\u001B[32m*\u001B[0m\u001B[32m*\u001B[0m\u001B[32m*\u001B[0m\n",
      "Płaszczyzna zawierająca $l_2$ i równoległa do $l_1$ to $\\pi\\colon - 3 x - 6 y + 6 z - 21=0$;\\\\$d(l_1,l_2)=3;$\\quad Punkty realizujące minimalną odległość to:\\ $ P_3=(-2,5,3),\\ P_4=(-3,3,5)$.\n",
      "\n",
      "\u001B[34m** Zadanie 4 **********************************************************************************\u001B[0m\n"
     ]
    },
    {
     "data": {
      "text/plain": [
       "<IPython.core.display.Markdown object>"
      ],
      "text/markdown": "Obliczyć odległość prostych skośnych"
     },
     "metadata": {},
     "output_type": "display_data"
    },
    {
     "data": {
      "text/plain": [
       "<IPython.core.display.Latex object>"
      ],
      "text/latex": "$$\tl_1\\colon \\frac{x + 2}{-2}=\\frac{y - 5}{-1}=\\frac{z - 3}{-2}, \\quad $$"
     },
     "metadata": {},
     "output_type": "display_data"
    },
    {
     "data": {
      "text/plain": [
       "<IPython.core.display.Latex object>"
      ],
      "text/latex": "$$\tl_2\\colon \\frac{x + 3}{4}=\\frac{y - 3}{-1}=\\frac{z - 5}{1}.$$"
     },
     "metadata": {},
     "output_type": "display_data"
    },
    {
     "data": {
      "text/plain": [
       "<IPython.core.display.Markdown object>"
      ],
      "text/markdown": "Wyznaczyć punkty realizujące minimalną odległość."
     },
     "metadata": {},
     "output_type": "display_data"
    },
    {
     "name": "stdout",
     "output_type": "stream",
     "text": [
      "\u001B[34m*\u001B[0m\u001B[34m*\u001B[0m\u001B[34m*\u001B[0m\u001B[34m*\u001B[0m\u001B[34m*\u001B[0m\u001B[34m*\u001B[0m\u001B[34m*\u001B[0m\u001B[34m*\u001B[0m\u001B[34m*\u001B[0m\u001B[34m*\u001B[0m\u001B[34m*\u001B[0m\u001B[34m*\u001B[0m\u001B[34m*\u001B[0m\u001B[34m*\u001B[0m\u001B[34m*\u001B[0m\u001B[34m*\u001B[0m\u001B[34m*\u001B[0m\u001B[34m*\u001B[0m\u001B[34m*\u001B[0m\u001B[34m*\u001B[0m\u001B[34m*\u001B[0m\u001B[34m*\u001B[0m\u001B[34m*\u001B[0m\u001B[34m*\u001B[0m\u001B[34m*\u001B[0m\u001B[34m*\u001B[0m\u001B[34m*\u001B[0m\u001B[34m*\u001B[0m\u001B[34m*\u001B[0m\u001B[34m*\u001B[0m\u001B[34m*\u001B[0m\u001B[34m*\u001B[0m\u001B[34m*\u001B[0m\u001B[34m*\u001B[0m\u001B[34m*\u001B[0m\u001B[34m*\u001B[0m\u001B[34m*\u001B[0m\u001B[34m*\u001B[0m\u001B[34m*\u001B[0m\u001B[34m*\u001B[0m\u001B[34m*\u001B[0m\u001B[34m*\u001B[0m\u001B[34m*\u001B[0m\u001B[34m*\u001B[0m\u001B[34m*\u001B[0m\u001B[34m*\u001B[0m\u001B[34m*\u001B[0m\u001B[34m*\u001B[0m\u001B[34m*\u001B[0m\u001B[34m*\u001B[0m\u001B[34m*\u001B[0m\u001B[34m*\u001B[0m\u001B[34m*\u001B[0m\u001B[34m*\u001B[0m\u001B[34m*\u001B[0m\u001B[34m*\u001B[0m\u001B[34m*\u001B[0m\u001B[34m*\u001B[0m\u001B[34m*\u001B[0m\u001B[34m*\u001B[0m\u001B[34m*\u001B[0m\u001B[34m*\u001B[0m\u001B[34m*\u001B[0m\u001B[34m*\u001B[0m\u001B[34m*\u001B[0m\u001B[34m*\u001B[0m\u001B[34m*\u001B[0m\u001B[34m*\u001B[0m\u001B[34m*\u001B[0m\u001B[34m*\u001B[0m\u001B[34m*\u001B[0m\u001B[34m*\u001B[0m\u001B[34m*\u001B[0m\u001B[34m*\u001B[0m\u001B[34m*\u001B[0m\u001B[34m*\u001B[0m\u001B[34m*\u001B[0m\u001B[34m*\u001B[0m\u001B[34m*\u001B[0m\u001B[34m*\u001B[0m\u001B[34m*\u001B[0m\u001B[34m*\u001B[0m\u001B[34m*\u001B[0m\u001B[34m*\u001B[0m\u001B[34m*\u001B[0m\u001B[34m*\u001B[0m\u001B[34m*\u001B[0m\u001B[34m*\u001B[0m\u001B[34m*\u001B[0m\u001B[34m*\u001B[0m\u001B[34m*\u001B[0m\u001B[34m*\u001B[0m\u001B[34m*\u001B[0m\u001B[34m*\u001B[0m\u001B[34m*\u001B[0m\n",
      "\u001B[32m** Rozwiązanie ********************************************************************************\u001B[0m\n"
     ]
    },
    {
     "data": {
      "text/plain": [
       "<IPython.core.display.Markdown object>"
      ],
      "text/markdown": "Płaszczyzna zawierająca *l<sub>2</sub>* i równoległa do *l<sub>1</sub>* to"
     },
     "metadata": {},
     "output_type": "display_data"
    },
    {
     "data": {
      "text/plain": [
       "<IPython.core.display.Latex object>"
      ],
      "text/latex": "$$\\pi\\colon - 3 x - 6 y + 6 z - 21=0$$"
     },
     "metadata": {},
     "output_type": "display_data"
    },
    {
     "data": {
      "text/plain": [
       "<IPython.core.display.Markdown object>"
      ],
      "text/markdown": "Odległość prostych skośnych to"
     },
     "metadata": {},
     "output_type": "display_data"
    },
    {
     "data": {
      "text/plain": [
       "<IPython.core.display.Latex object>"
      ],
      "text/latex": "$$d(l_1,l_2)=3;$$"
     },
     "metadata": {},
     "output_type": "display_data"
    },
    {
     "data": {
      "text/plain": [
       "<IPython.core.display.Markdown object>"
      ],
      "text/markdown": "Punkty realizujące minimalną odległość to"
     },
     "metadata": {},
     "output_type": "display_data"
    },
    {
     "data": {
      "text/plain": [
       "<IPython.core.display.Latex object>"
      ],
      "text/latex": "$$ P_3=(-2,5,3),\\qquad P_4=(-3,3,5)$$"
     },
     "metadata": {},
     "output_type": "display_data"
    },
    {
     "name": "stdout",
     "output_type": "stream",
     "text": [
      "\u001B[32m*\u001B[0m\u001B[32m*\u001B[0m\u001B[32m*\u001B[0m\u001B[32m*\u001B[0m\u001B[32m*\u001B[0m\u001B[32m*\u001B[0m\u001B[32m*\u001B[0m\u001B[32m*\u001B[0m\u001B[32m*\u001B[0m\u001B[32m*\u001B[0m\u001B[32m*\u001B[0m\u001B[32m*\u001B[0m\u001B[32m*\u001B[0m\u001B[32m*\u001B[0m\u001B[32m*\u001B[0m\u001B[32m*\u001B[0m\u001B[32m*\u001B[0m\u001B[32m*\u001B[0m\u001B[32m*\u001B[0m\u001B[32m*\u001B[0m\u001B[32m*\u001B[0m\u001B[32m*\u001B[0m\u001B[32m*\u001B[0m\u001B[32m*\u001B[0m\u001B[32m*\u001B[0m\u001B[32m*\u001B[0m\u001B[32m*\u001B[0m\u001B[32m*\u001B[0m\u001B[32m*\u001B[0m\u001B[32m*\u001B[0m\u001B[32m*\u001B[0m\u001B[32m*\u001B[0m\u001B[32m*\u001B[0m\u001B[32m*\u001B[0m\u001B[32m*\u001B[0m\u001B[32m*\u001B[0m\u001B[32m*\u001B[0m\u001B[32m*\u001B[0m\u001B[32m*\u001B[0m\u001B[32m*\u001B[0m\u001B[32m*\u001B[0m\u001B[32m*\u001B[0m\u001B[32m*\u001B[0m\u001B[32m*\u001B[0m\u001B[32m*\u001B[0m\u001B[32m*\u001B[0m\u001B[32m*\u001B[0m\u001B[32m*\u001B[0m\u001B[32m*\u001B[0m\u001B[32m*\u001B[0m\u001B[32m*\u001B[0m\u001B[32m*\u001B[0m\u001B[32m*\u001B[0m\u001B[32m*\u001B[0m\u001B[32m*\u001B[0m\u001B[32m*\u001B[0m\u001B[32m*\u001B[0m\u001B[32m*\u001B[0m\u001B[32m*\u001B[0m\u001B[32m*\u001B[0m\u001B[32m*\u001B[0m\u001B[32m*\u001B[0m\u001B[32m*\u001B[0m\u001B[32m*\u001B[0m\u001B[32m*\u001B[0m\u001B[32m*\u001B[0m\u001B[32m*\u001B[0m\u001B[32m*\u001B[0m\u001B[32m*\u001B[0m\u001B[32m*\u001B[0m\u001B[32m*\u001B[0m\u001B[32m*\u001B[0m\u001B[32m*\u001B[0m\u001B[32m*\u001B[0m\u001B[32m*\u001B[0m\u001B[32m*\u001B[0m\u001B[32m*\u001B[0m\u001B[32m*\u001B[0m\u001B[32m*\u001B[0m\u001B[32m*\u001B[0m\u001B[32m*\u001B[0m\u001B[32m*\u001B[0m\u001B[32m*\u001B[0m\u001B[32m*\u001B[0m\u001B[32m*\u001B[0m\u001B[32m*\u001B[0m\u001B[32m*\u001B[0m\u001B[32m*\u001B[0m\u001B[32m*\u001B[0m\u001B[32m*\u001B[0m\u001B[32m*\u001B[0m\u001B[32m*\u001B[0m\u001B[32m*\u001B[0m\u001B[32m*\u001B[0m\u001B[32m*\u001B[0m\n",
      "Płaszczyzna zawierająca $l_2$ i równoległa do $l_1$ to $\\pi\\colon 12 x - 6 y - 12 z + 120=0$;\\\\$d(l_1,l_2)=6;$\\quad Punkty realizujące minimalną odległość to:\\ $ P_3=(\\frac{7}{2},3,3),\\ P_4=(- \\frac{1}{2},5,7)$.\n",
      "\n",
      "\u001B[34m** Zadanie 5 **********************************************************************************\u001B[0m\n"
     ]
    },
    {
     "data": {
      "text/plain": [
       "<IPython.core.display.Markdown object>"
      ],
      "text/markdown": "Obliczyć odległość prostych skośnych"
     },
     "metadata": {},
     "output_type": "display_data"
    },
    {
     "data": {
      "text/plain": [
       "<IPython.core.display.Latex object>"
      ],
      "text/latex": "$$\tl_1\\colon \\frac{x - 3}{-1}=\\frac{y - 4}{2}=\\frac{z - 2}{-2}, \\quad $$"
     },
     "metadata": {},
     "output_type": "display_data"
    },
    {
     "data": {
      "text/plain": [
       "<IPython.core.display.Latex object>"
      ],
      "text/latex": "$$\tl_2\\colon \\frac{x + 3}{5}=\\frac{y - 4}{2}=\\frac{z - 5}{4}.$$"
     },
     "metadata": {},
     "output_type": "display_data"
    },
    {
     "data": {
      "text/plain": [
       "<IPython.core.display.Markdown object>"
      ],
      "text/markdown": "Wyznaczyć punkty realizujące minimalną odległość."
     },
     "metadata": {},
     "output_type": "display_data"
    },
    {
     "name": "stdout",
     "output_type": "stream",
     "text": [
      "\u001B[34m*\u001B[0m\u001B[34m*\u001B[0m\u001B[34m*\u001B[0m\u001B[34m*\u001B[0m\u001B[34m*\u001B[0m\u001B[34m*\u001B[0m\u001B[34m*\u001B[0m\u001B[34m*\u001B[0m\u001B[34m*\u001B[0m\u001B[34m*\u001B[0m\u001B[34m*\u001B[0m\u001B[34m*\u001B[0m\u001B[34m*\u001B[0m\u001B[34m*\u001B[0m\u001B[34m*\u001B[0m\u001B[34m*\u001B[0m\u001B[34m*\u001B[0m\u001B[34m*\u001B[0m\u001B[34m*\u001B[0m\u001B[34m*\u001B[0m\u001B[34m*\u001B[0m\u001B[34m*\u001B[0m\u001B[34m*\u001B[0m\u001B[34m*\u001B[0m\u001B[34m*\u001B[0m\u001B[34m*\u001B[0m\u001B[34m*\u001B[0m\u001B[34m*\u001B[0m\u001B[34m*\u001B[0m\u001B[34m*\u001B[0m\u001B[34m*\u001B[0m\u001B[34m*\u001B[0m\u001B[34m*\u001B[0m\u001B[34m*\u001B[0m\u001B[34m*\u001B[0m\u001B[34m*\u001B[0m\u001B[34m*\u001B[0m\u001B[34m*\u001B[0m\u001B[34m*\u001B[0m\u001B[34m*\u001B[0m\u001B[34m*\u001B[0m\u001B[34m*\u001B[0m\u001B[34m*\u001B[0m\u001B[34m*\u001B[0m\u001B[34m*\u001B[0m\u001B[34m*\u001B[0m\u001B[34m*\u001B[0m\u001B[34m*\u001B[0m\u001B[34m*\u001B[0m\u001B[34m*\u001B[0m\u001B[34m*\u001B[0m\u001B[34m*\u001B[0m\u001B[34m*\u001B[0m\u001B[34m*\u001B[0m\u001B[34m*\u001B[0m\u001B[34m*\u001B[0m\u001B[34m*\u001B[0m\u001B[34m*\u001B[0m\u001B[34m*\u001B[0m\u001B[34m*\u001B[0m\u001B[34m*\u001B[0m\u001B[34m*\u001B[0m\u001B[34m*\u001B[0m\u001B[34m*\u001B[0m\u001B[34m*\u001B[0m\u001B[34m*\u001B[0m\u001B[34m*\u001B[0m\u001B[34m*\u001B[0m\u001B[34m*\u001B[0m\u001B[34m*\u001B[0m\u001B[34m*\u001B[0m\u001B[34m*\u001B[0m\u001B[34m*\u001B[0m\u001B[34m*\u001B[0m\u001B[34m*\u001B[0m\u001B[34m*\u001B[0m\u001B[34m*\u001B[0m\u001B[34m*\u001B[0m\u001B[34m*\u001B[0m\u001B[34m*\u001B[0m\u001B[34m*\u001B[0m\u001B[34m*\u001B[0m\u001B[34m*\u001B[0m\u001B[34m*\u001B[0m\u001B[34m*\u001B[0m\u001B[34m*\u001B[0m\u001B[34m*\u001B[0m\u001B[34m*\u001B[0m\u001B[34m*\u001B[0m\u001B[34m*\u001B[0m\u001B[34m*\u001B[0m\u001B[34m*\u001B[0m\u001B[34m*\u001B[0m\u001B[34m*\u001B[0m\u001B[34m*\u001B[0m\n",
      "\u001B[32m** Rozwiązanie ********************************************************************************\u001B[0m\n"
     ]
    },
    {
     "data": {
      "text/plain": [
       "<IPython.core.display.Markdown object>"
      ],
      "text/markdown": "Płaszczyzna zawierająca *l<sub>2</sub>* i równoległa do *l<sub>1</sub>* to"
     },
     "metadata": {},
     "output_type": "display_data"
    },
    {
     "data": {
      "text/plain": [
       "<IPython.core.display.Latex object>"
      ],
      "text/latex": "$$\\pi\\colon 12 x - 6 y - 12 z + 120=0$$"
     },
     "metadata": {},
     "output_type": "display_data"
    },
    {
     "data": {
      "text/plain": [
       "<IPython.core.display.Markdown object>"
      ],
      "text/markdown": "Odległość prostych skośnych to"
     },
     "metadata": {},
     "output_type": "display_data"
    },
    {
     "data": {
      "text/plain": [
       "<IPython.core.display.Latex object>"
      ],
      "text/latex": "$$d(l_1,l_2)=6;$$"
     },
     "metadata": {},
     "output_type": "display_data"
    },
    {
     "data": {
      "text/plain": [
       "<IPython.core.display.Markdown object>"
      ],
      "text/markdown": "Punkty realizujące minimalną odległość to"
     },
     "metadata": {},
     "output_type": "display_data"
    },
    {
     "data": {
      "text/plain": [
       "<IPython.core.display.Latex object>"
      ],
      "text/latex": "$$ P_3=(\\frac{7}{2},3,3),\\qquad P_4=(- \\frac{1}{2},5,7)$$"
     },
     "metadata": {},
     "output_type": "display_data"
    },
    {
     "name": "stdout",
     "output_type": "stream",
     "text": [
      "\u001B[32m*\u001B[0m\u001B[32m*\u001B[0m\u001B[32m*\u001B[0m\u001B[32m*\u001B[0m\u001B[32m*\u001B[0m\u001B[32m*\u001B[0m\u001B[32m*\u001B[0m\u001B[32m*\u001B[0m\u001B[32m*\u001B[0m\u001B[32m*\u001B[0m\u001B[32m*\u001B[0m\u001B[32m*\u001B[0m\u001B[32m*\u001B[0m\u001B[32m*\u001B[0m\u001B[32m*\u001B[0m\u001B[32m*\u001B[0m\u001B[32m*\u001B[0m\u001B[32m*\u001B[0m\u001B[32m*\u001B[0m\u001B[32m*\u001B[0m\u001B[32m*\u001B[0m\u001B[32m*\u001B[0m\u001B[32m*\u001B[0m\u001B[32m*\u001B[0m\u001B[32m*\u001B[0m\u001B[32m*\u001B[0m\u001B[32m*\u001B[0m\u001B[32m*\u001B[0m\u001B[32m*\u001B[0m\u001B[32m*\u001B[0m\u001B[32m*\u001B[0m\u001B[32m*\u001B[0m\u001B[32m*\u001B[0m\u001B[32m*\u001B[0m\u001B[32m*\u001B[0m\u001B[32m*\u001B[0m\u001B[32m*\u001B[0m\u001B[32m*\u001B[0m\u001B[32m*\u001B[0m\u001B[32m*\u001B[0m\u001B[32m*\u001B[0m\u001B[32m*\u001B[0m\u001B[32m*\u001B[0m\u001B[32m*\u001B[0m\u001B[32m*\u001B[0m\u001B[32m*\u001B[0m\u001B[32m*\u001B[0m\u001B[32m*\u001B[0m\u001B[32m*\u001B[0m\u001B[32m*\u001B[0m\u001B[32m*\u001B[0m\u001B[32m*\u001B[0m\u001B[32m*\u001B[0m\u001B[32m*\u001B[0m\u001B[32m*\u001B[0m\u001B[32m*\u001B[0m\u001B[32m*\u001B[0m\u001B[32m*\u001B[0m\u001B[32m*\u001B[0m\u001B[32m*\u001B[0m\u001B[32m*\u001B[0m\u001B[32m*\u001B[0m\u001B[32m*\u001B[0m\u001B[32m*\u001B[0m\u001B[32m*\u001B[0m\u001B[32m*\u001B[0m\u001B[32m*\u001B[0m\u001B[32m*\u001B[0m\u001B[32m*\u001B[0m\u001B[32m*\u001B[0m\u001B[32m*\u001B[0m\u001B[32m*\u001B[0m\u001B[32m*\u001B[0m\u001B[32m*\u001B[0m\u001B[32m*\u001B[0m\u001B[32m*\u001B[0m\u001B[32m*\u001B[0m\u001B[32m*\u001B[0m\u001B[32m*\u001B[0m\u001B[32m*\u001B[0m\u001B[32m*\u001B[0m\u001B[32m*\u001B[0m\u001B[32m*\u001B[0m\u001B[32m*\u001B[0m\u001B[32m*\u001B[0m\u001B[32m*\u001B[0m\u001B[32m*\u001B[0m\u001B[32m*\u001B[0m\u001B[32m*\u001B[0m\u001B[32m*\u001B[0m\u001B[32m*\u001B[0m\u001B[32m*\u001B[0m\u001B[32m*\u001B[0m\u001B[32m*\u001B[0m\u001B[32m*\u001B[0m\n",
      "Płaszczyzna zawierająca $l_2$ i równoległa do $l_1$ to $\\pi\\colon - 2 x - 4 y + 4 z + 30=0$;\\\\$d(l_1,l_2)=6;$\\quad Punkty realizujące minimalną odległość to:\\ $ P_3=(1,3,5),\\ P_4=(3,7,1)$.\n",
      "\n",
      "\u001B[34m** Zadanie 6 **********************************************************************************\u001B[0m\n"
     ]
    },
    {
     "data": {
      "text/plain": [
       "<IPython.core.display.Markdown object>"
      ],
      "text/markdown": "Obliczyć odległość prostych skośnych"
     },
     "metadata": {},
     "output_type": "display_data"
    },
    {
     "data": {
      "text/plain": [
       "<IPython.core.display.Latex object>"
      ],
      "text/latex": "$$\tl_1\\colon \\frac{x - 1}{2}=\\frac{y - 3}{-2}=\\frac{z - 5}{-1}, \\quad $$"
     },
     "metadata": {},
     "output_type": "display_data"
    },
    {
     "data": {
      "text/plain": [
       "<IPython.core.display.Latex object>"
      ],
      "text/latex": "$$\tl_2\\colon \\frac{x - 5}{-2}=\\frac{y - 3}{4}=\\frac{z + 2}{3}.$$"
     },
     "metadata": {},
     "output_type": "display_data"
    },
    {
     "data": {
      "text/plain": [
       "<IPython.core.display.Markdown object>"
      ],
      "text/markdown": "Wyznaczyć punkty realizujące minimalną odległość."
     },
     "metadata": {},
     "output_type": "display_data"
    },
    {
     "name": "stdout",
     "output_type": "stream",
     "text": [
      "\u001B[34m*\u001B[0m\u001B[34m*\u001B[0m\u001B[34m*\u001B[0m\u001B[34m*\u001B[0m\u001B[34m*\u001B[0m\u001B[34m*\u001B[0m\u001B[34m*\u001B[0m\u001B[34m*\u001B[0m\u001B[34m*\u001B[0m\u001B[34m*\u001B[0m\u001B[34m*\u001B[0m\u001B[34m*\u001B[0m\u001B[34m*\u001B[0m\u001B[34m*\u001B[0m\u001B[34m*\u001B[0m\u001B[34m*\u001B[0m\u001B[34m*\u001B[0m\u001B[34m*\u001B[0m\u001B[34m*\u001B[0m\u001B[34m*\u001B[0m\u001B[34m*\u001B[0m\u001B[34m*\u001B[0m\u001B[34m*\u001B[0m\u001B[34m*\u001B[0m\u001B[34m*\u001B[0m\u001B[34m*\u001B[0m\u001B[34m*\u001B[0m\u001B[34m*\u001B[0m\u001B[34m*\u001B[0m\u001B[34m*\u001B[0m\u001B[34m*\u001B[0m\u001B[34m*\u001B[0m\u001B[34m*\u001B[0m\u001B[34m*\u001B[0m\u001B[34m*\u001B[0m\u001B[34m*\u001B[0m\u001B[34m*\u001B[0m\u001B[34m*\u001B[0m\u001B[34m*\u001B[0m\u001B[34m*\u001B[0m\u001B[34m*\u001B[0m\u001B[34m*\u001B[0m\u001B[34m*\u001B[0m\u001B[34m*\u001B[0m\u001B[34m*\u001B[0m\u001B[34m*\u001B[0m\u001B[34m*\u001B[0m\u001B[34m*\u001B[0m\u001B[34m*\u001B[0m\u001B[34m*\u001B[0m\u001B[34m*\u001B[0m\u001B[34m*\u001B[0m\u001B[34m*\u001B[0m\u001B[34m*\u001B[0m\u001B[34m*\u001B[0m\u001B[34m*\u001B[0m\u001B[34m*\u001B[0m\u001B[34m*\u001B[0m\u001B[34m*\u001B[0m\u001B[34m*\u001B[0m\u001B[34m*\u001B[0m\u001B[34m*\u001B[0m\u001B[34m*\u001B[0m\u001B[34m*\u001B[0m\u001B[34m*\u001B[0m\u001B[34m*\u001B[0m\u001B[34m*\u001B[0m\u001B[34m*\u001B[0m\u001B[34m*\u001B[0m\u001B[34m*\u001B[0m\u001B[34m*\u001B[0m\u001B[34m*\u001B[0m\u001B[34m*\u001B[0m\u001B[34m*\u001B[0m\u001B[34m*\u001B[0m\u001B[34m*\u001B[0m\u001B[34m*\u001B[0m\u001B[34m*\u001B[0m\u001B[34m*\u001B[0m\u001B[34m*\u001B[0m\u001B[34m*\u001B[0m\u001B[34m*\u001B[0m\u001B[34m*\u001B[0m\u001B[34m*\u001B[0m\u001B[34m*\u001B[0m\u001B[34m*\u001B[0m\u001B[34m*\u001B[0m\u001B[34m*\u001B[0m\u001B[34m*\u001B[0m\u001B[34m*\u001B[0m\u001B[34m*\u001B[0m\u001B[34m*\u001B[0m\u001B[34m*\u001B[0m\u001B[34m*\u001B[0m\u001B[34m*\u001B[0m\n",
      "\u001B[32m** Rozwiązanie ********************************************************************************\u001B[0m\n"
     ]
    },
    {
     "data": {
      "text/plain": [
       "<IPython.core.display.Markdown object>"
      ],
      "text/markdown": "Płaszczyzna zawierająca *l<sub>2</sub>* i równoległa do *l<sub>1</sub>* to"
     },
     "metadata": {},
     "output_type": "display_data"
    },
    {
     "data": {
      "text/plain": [
       "<IPython.core.display.Latex object>"
      ],
      "text/latex": "$$\\pi\\colon - 2 x - 4 y + 4 z + 30=0$$"
     },
     "metadata": {},
     "output_type": "display_data"
    },
    {
     "data": {
      "text/plain": [
       "<IPython.core.display.Markdown object>"
      ],
      "text/markdown": "Odległość prostych skośnych to"
     },
     "metadata": {},
     "output_type": "display_data"
    },
    {
     "data": {
      "text/plain": [
       "<IPython.core.display.Latex object>"
      ],
      "text/latex": "$$d(l_1,l_2)=6;$$"
     },
     "metadata": {},
     "output_type": "display_data"
    },
    {
     "data": {
      "text/plain": [
       "<IPython.core.display.Markdown object>"
      ],
      "text/markdown": "Punkty realizujące minimalną odległość to"
     },
     "metadata": {},
     "output_type": "display_data"
    },
    {
     "data": {
      "text/plain": [
       "<IPython.core.display.Latex object>"
      ],
      "text/latex": "$$ P_3=(1,3,5),\\qquad P_4=(3,7,1)$$"
     },
     "metadata": {},
     "output_type": "display_data"
    },
    {
     "name": "stdout",
     "output_type": "stream",
     "text": [
      "\u001B[32m*\u001B[0m\u001B[32m*\u001B[0m\u001B[32m*\u001B[0m\u001B[32m*\u001B[0m\u001B[32m*\u001B[0m\u001B[32m*\u001B[0m\u001B[32m*\u001B[0m\u001B[32m*\u001B[0m\u001B[32m*\u001B[0m\u001B[32m*\u001B[0m\u001B[32m*\u001B[0m\u001B[32m*\u001B[0m\u001B[32m*\u001B[0m\u001B[32m*\u001B[0m\u001B[32m*\u001B[0m\u001B[32m*\u001B[0m\u001B[32m*\u001B[0m\u001B[32m*\u001B[0m\u001B[32m*\u001B[0m\u001B[32m*\u001B[0m\u001B[32m*\u001B[0m\u001B[32m*\u001B[0m\u001B[32m*\u001B[0m\u001B[32m*\u001B[0m\u001B[32m*\u001B[0m\u001B[32m*\u001B[0m\u001B[32m*\u001B[0m\u001B[32m*\u001B[0m\u001B[32m*\u001B[0m\u001B[32m*\u001B[0m\u001B[32m*\u001B[0m\u001B[32m*\u001B[0m\u001B[32m*\u001B[0m\u001B[32m*\u001B[0m\u001B[32m*\u001B[0m\u001B[32m*\u001B[0m\u001B[32m*\u001B[0m\u001B[32m*\u001B[0m\u001B[32m*\u001B[0m\u001B[32m*\u001B[0m\u001B[32m*\u001B[0m\u001B[32m*\u001B[0m\u001B[32m*\u001B[0m\u001B[32m*\u001B[0m\u001B[32m*\u001B[0m\u001B[32m*\u001B[0m\u001B[32m*\u001B[0m\u001B[32m*\u001B[0m\u001B[32m*\u001B[0m\u001B[32m*\u001B[0m\u001B[32m*\u001B[0m\u001B[32m*\u001B[0m\u001B[32m*\u001B[0m\u001B[32m*\u001B[0m\u001B[32m*\u001B[0m\u001B[32m*\u001B[0m\u001B[32m*\u001B[0m\u001B[32m*\u001B[0m\u001B[32m*\u001B[0m\u001B[32m*\u001B[0m\u001B[32m*\u001B[0m\u001B[32m*\u001B[0m\u001B[32m*\u001B[0m\u001B[32m*\u001B[0m\u001B[32m*\u001B[0m\u001B[32m*\u001B[0m\u001B[32m*\u001B[0m\u001B[32m*\u001B[0m\u001B[32m*\u001B[0m\u001B[32m*\u001B[0m\u001B[32m*\u001B[0m\u001B[32m*\u001B[0m\u001B[32m*\u001B[0m\u001B[32m*\u001B[0m\u001B[32m*\u001B[0m\u001B[32m*\u001B[0m\u001B[32m*\u001B[0m\u001B[32m*\u001B[0m\u001B[32m*\u001B[0m\u001B[32m*\u001B[0m\u001B[32m*\u001B[0m\u001B[32m*\u001B[0m\u001B[32m*\u001B[0m\u001B[32m*\u001B[0m\u001B[32m*\u001B[0m\u001B[32m*\u001B[0m\u001B[32m*\u001B[0m\u001B[32m*\u001B[0m\u001B[32m*\u001B[0m\u001B[32m*\u001B[0m\u001B[32m*\u001B[0m\u001B[32m*\u001B[0m\u001B[32m*\u001B[0m\u001B[32m*\u001B[0m\u001B[32m*\u001B[0m\n",
      "Płaszczyzna zawierająca $l_2$ i równoległa do $l_1$ to $\\pi\\colon - 2 x + 4 y - 4 z - 8=0$;\\\\$d(l_1,l_2)=3;$\\quad Punkty realizujące minimalną odległość to:\\ $ P_3=(5,5,5),\\ P_4=(4,7,3)$.\n",
      "\n",
      "\u001B[34m** Zadanie 7 **********************************************************************************\u001B[0m\n"
     ]
    },
    {
     "data": {
      "text/plain": [
       "<IPython.core.display.Markdown object>"
      ],
      "text/markdown": "Obliczyć odległość prostych skośnych"
     },
     "metadata": {},
     "output_type": "display_data"
    },
    {
     "data": {
      "text/plain": [
       "<IPython.core.display.Latex object>"
      ],
      "text/latex": "$$\tl_1\\colon \\frac{x - 3}{4}=\\frac{y - 3}{4}=\\frac{z - 4}{2}, \\quad $$"
     },
     "metadata": {},
     "output_type": "display_data"
    },
    {
     "data": {
      "text/plain": [
       "<IPython.core.display.Latex object>"
      ],
      "text/latex": "$$\tl_2\\colon \\frac{x - 2}{-2}=\\frac{y - 4}{-3}=\\frac{z - 1}{-2}.$$"
     },
     "metadata": {},
     "output_type": "display_data"
    },
    {
     "data": {
      "text/plain": [
       "<IPython.core.display.Markdown object>"
      ],
      "text/markdown": "Wyznaczyć punkty realizujące minimalną odległość."
     },
     "metadata": {},
     "output_type": "display_data"
    },
    {
     "name": "stdout",
     "output_type": "stream",
     "text": [
      "\u001B[34m*\u001B[0m\u001B[34m*\u001B[0m\u001B[34m*\u001B[0m\u001B[34m*\u001B[0m\u001B[34m*\u001B[0m\u001B[34m*\u001B[0m\u001B[34m*\u001B[0m\u001B[34m*\u001B[0m\u001B[34m*\u001B[0m\u001B[34m*\u001B[0m\u001B[34m*\u001B[0m\u001B[34m*\u001B[0m\u001B[34m*\u001B[0m\u001B[34m*\u001B[0m\u001B[34m*\u001B[0m\u001B[34m*\u001B[0m\u001B[34m*\u001B[0m\u001B[34m*\u001B[0m\u001B[34m*\u001B[0m\u001B[34m*\u001B[0m\u001B[34m*\u001B[0m\u001B[34m*\u001B[0m\u001B[34m*\u001B[0m\u001B[34m*\u001B[0m\u001B[34m*\u001B[0m\u001B[34m*\u001B[0m\u001B[34m*\u001B[0m\u001B[34m*\u001B[0m\u001B[34m*\u001B[0m\u001B[34m*\u001B[0m\u001B[34m*\u001B[0m\u001B[34m*\u001B[0m\u001B[34m*\u001B[0m\u001B[34m*\u001B[0m\u001B[34m*\u001B[0m\u001B[34m*\u001B[0m\u001B[34m*\u001B[0m\u001B[34m*\u001B[0m\u001B[34m*\u001B[0m\u001B[34m*\u001B[0m\u001B[34m*\u001B[0m\u001B[34m*\u001B[0m\u001B[34m*\u001B[0m\u001B[34m*\u001B[0m\u001B[34m*\u001B[0m\u001B[34m*\u001B[0m\u001B[34m*\u001B[0m\u001B[34m*\u001B[0m\u001B[34m*\u001B[0m\u001B[34m*\u001B[0m\u001B[34m*\u001B[0m\u001B[34m*\u001B[0m\u001B[34m*\u001B[0m\u001B[34m*\u001B[0m\u001B[34m*\u001B[0m\u001B[34m*\u001B[0m\u001B[34m*\u001B[0m\u001B[34m*\u001B[0m\u001B[34m*\u001B[0m\u001B[34m*\u001B[0m\u001B[34m*\u001B[0m\u001B[34m*\u001B[0m\u001B[34m*\u001B[0m\u001B[34m*\u001B[0m\u001B[34m*\u001B[0m\u001B[34m*\u001B[0m\u001B[34m*\u001B[0m\u001B[34m*\u001B[0m\u001B[34m*\u001B[0m\u001B[34m*\u001B[0m\u001B[34m*\u001B[0m\u001B[34m*\u001B[0m\u001B[34m*\u001B[0m\u001B[34m*\u001B[0m\u001B[34m*\u001B[0m\u001B[34m*\u001B[0m\u001B[34m*\u001B[0m\u001B[34m*\u001B[0m\u001B[34m*\u001B[0m\u001B[34m*\u001B[0m\u001B[34m*\u001B[0m\u001B[34m*\u001B[0m\u001B[34m*\u001B[0m\u001B[34m*\u001B[0m\u001B[34m*\u001B[0m\u001B[34m*\u001B[0m\u001B[34m*\u001B[0m\u001B[34m*\u001B[0m\u001B[34m*\u001B[0m\u001B[34m*\u001B[0m\u001B[34m*\u001B[0m\u001B[34m*\u001B[0m\u001B[34m*\u001B[0m\u001B[34m*\u001B[0m\u001B[34m*\u001B[0m\n",
      "\u001B[32m** Rozwiązanie ********************************************************************************\u001B[0m\n"
     ]
    },
    {
     "data": {
      "text/plain": [
       "<IPython.core.display.Markdown object>"
      ],
      "text/markdown": "Płaszczyzna zawierająca *l<sub>2</sub>* i równoległa do *l<sub>1</sub>* to"
     },
     "metadata": {},
     "output_type": "display_data"
    },
    {
     "data": {
      "text/plain": [
       "<IPython.core.display.Latex object>"
      ],
      "text/latex": "$$\\pi\\colon - 2 x + 4 y - 4 z - 8=0$$"
     },
     "metadata": {},
     "output_type": "display_data"
    },
    {
     "data": {
      "text/plain": [
       "<IPython.core.display.Markdown object>"
      ],
      "text/markdown": "Odległość prostych skośnych to"
     },
     "metadata": {},
     "output_type": "display_data"
    },
    {
     "data": {
      "text/plain": [
       "<IPython.core.display.Latex object>"
      ],
      "text/latex": "$$d(l_1,l_2)=3;$$"
     },
     "metadata": {},
     "output_type": "display_data"
    },
    {
     "data": {
      "text/plain": [
       "<IPython.core.display.Markdown object>"
      ],
      "text/markdown": "Punkty realizujące minimalną odległość to"
     },
     "metadata": {},
     "output_type": "display_data"
    },
    {
     "data": {
      "text/plain": [
       "<IPython.core.display.Latex object>"
      ],
      "text/latex": "$$ P_3=(5,5,5),\\qquad P_4=(4,7,3)$$"
     },
     "metadata": {},
     "output_type": "display_data"
    },
    {
     "name": "stdout",
     "output_type": "stream",
     "text": [
      "\u001B[32m*\u001B[0m\u001B[32m*\u001B[0m\u001B[32m*\u001B[0m\u001B[32m*\u001B[0m\u001B[32m*\u001B[0m\u001B[32m*\u001B[0m\u001B[32m*\u001B[0m\u001B[32m*\u001B[0m\u001B[32m*\u001B[0m\u001B[32m*\u001B[0m\u001B[32m*\u001B[0m\u001B[32m*\u001B[0m\u001B[32m*\u001B[0m\u001B[32m*\u001B[0m\u001B[32m*\u001B[0m\u001B[32m*\u001B[0m\u001B[32m*\u001B[0m\u001B[32m*\u001B[0m\u001B[32m*\u001B[0m\u001B[32m*\u001B[0m\u001B[32m*\u001B[0m\u001B[32m*\u001B[0m\u001B[32m*\u001B[0m\u001B[32m*\u001B[0m\u001B[32m*\u001B[0m\u001B[32m*\u001B[0m\u001B[32m*\u001B[0m\u001B[32m*\u001B[0m\u001B[32m*\u001B[0m\u001B[32m*\u001B[0m\u001B[32m*\u001B[0m\u001B[32m*\u001B[0m\u001B[32m*\u001B[0m\u001B[32m*\u001B[0m\u001B[32m*\u001B[0m\u001B[32m*\u001B[0m\u001B[32m*\u001B[0m\u001B[32m*\u001B[0m\u001B[32m*\u001B[0m\u001B[32m*\u001B[0m\u001B[32m*\u001B[0m\u001B[32m*\u001B[0m\u001B[32m*\u001B[0m\u001B[32m*\u001B[0m\u001B[32m*\u001B[0m\u001B[32m*\u001B[0m\u001B[32m*\u001B[0m\u001B[32m*\u001B[0m\u001B[32m*\u001B[0m\u001B[32m*\u001B[0m\u001B[32m*\u001B[0m\u001B[32m*\u001B[0m\u001B[32m*\u001B[0m\u001B[32m*\u001B[0m\u001B[32m*\u001B[0m\u001B[32m*\u001B[0m\u001B[32m*\u001B[0m\u001B[32m*\u001B[0m\u001B[32m*\u001B[0m\u001B[32m*\u001B[0m\u001B[32m*\u001B[0m\u001B[32m*\u001B[0m\u001B[32m*\u001B[0m\u001B[32m*\u001B[0m\u001B[32m*\u001B[0m\u001B[32m*\u001B[0m\u001B[32m*\u001B[0m\u001B[32m*\u001B[0m\u001B[32m*\u001B[0m\u001B[32m*\u001B[0m\u001B[32m*\u001B[0m\u001B[32m*\u001B[0m\u001B[32m*\u001B[0m\u001B[32m*\u001B[0m\u001B[32m*\u001B[0m\u001B[32m*\u001B[0m\u001B[32m*\u001B[0m\u001B[32m*\u001B[0m\u001B[32m*\u001B[0m\u001B[32m*\u001B[0m\u001B[32m*\u001B[0m\u001B[32m*\u001B[0m\u001B[32m*\u001B[0m\u001B[32m*\u001B[0m\u001B[32m*\u001B[0m\u001B[32m*\u001B[0m\u001B[32m*\u001B[0m\u001B[32m*\u001B[0m\u001B[32m*\u001B[0m\u001B[32m*\u001B[0m\u001B[32m*\u001B[0m\u001B[32m*\u001B[0m\u001B[32m*\u001B[0m\u001B[32m*\u001B[0m\u001B[32m*\u001B[0m\n",
      "Płaszczyzna zawierająca $l_2$ i równoległa do $l_1$ to $\\pi\\colon - 2 x + 4 y - 4 z + 16=0$;\\\\$d(l_1,l_2)=3;$\\quad Punkty realizujące minimalną odległość to:\\ $ P_3=(3,7,5),\\ P_4=(4,5,7)$.\n",
      "\n",
      "\u001B[34m** Zadanie 8 **********************************************************************************\u001B[0m\n"
     ]
    },
    {
     "data": {
      "text/plain": [
       "<IPython.core.display.Markdown object>"
      ],
      "text/markdown": "Obliczyć odległość prostych skośnych"
     },
     "metadata": {},
     "output_type": "display_data"
    },
    {
     "data": {
      "text/plain": [
       "<IPython.core.display.Latex object>"
      ],
      "text/latex": "$$\tl_1\\colon \\frac{x + 1}{2}=\\frac{y - 1}{3}=\\frac{z - 1}{2}, \\quad $$"
     },
     "metadata": {},
     "output_type": "display_data"
    },
    {
     "data": {
      "text/plain": [
       "<IPython.core.display.Latex object>"
      ],
      "text/latex": "$$\tl_2\\colon \\frac{x + 2}{4}=\\frac{y + 1}{4}=\\frac{z - 4}{2}.$$"
     },
     "metadata": {},
     "output_type": "display_data"
    },
    {
     "data": {
      "text/plain": [
       "<IPython.core.display.Markdown object>"
      ],
      "text/markdown": "Wyznaczyć punkty realizujące minimalną odległość."
     },
     "metadata": {},
     "output_type": "display_data"
    },
    {
     "name": "stdout",
     "output_type": "stream",
     "text": [
      "\u001B[34m*\u001B[0m\u001B[34m*\u001B[0m\u001B[34m*\u001B[0m\u001B[34m*\u001B[0m\u001B[34m*\u001B[0m\u001B[34m*\u001B[0m\u001B[34m*\u001B[0m\u001B[34m*\u001B[0m\u001B[34m*\u001B[0m\u001B[34m*\u001B[0m\u001B[34m*\u001B[0m\u001B[34m*\u001B[0m\u001B[34m*\u001B[0m\u001B[34m*\u001B[0m\u001B[34m*\u001B[0m\u001B[34m*\u001B[0m\u001B[34m*\u001B[0m\u001B[34m*\u001B[0m\u001B[34m*\u001B[0m\u001B[34m*\u001B[0m\u001B[34m*\u001B[0m\u001B[34m*\u001B[0m\u001B[34m*\u001B[0m\u001B[34m*\u001B[0m\u001B[34m*\u001B[0m\u001B[34m*\u001B[0m\u001B[34m*\u001B[0m\u001B[34m*\u001B[0m\u001B[34m*\u001B[0m\u001B[34m*\u001B[0m\u001B[34m*\u001B[0m\u001B[34m*\u001B[0m\u001B[34m*\u001B[0m\u001B[34m*\u001B[0m\u001B[34m*\u001B[0m\u001B[34m*\u001B[0m\u001B[34m*\u001B[0m\u001B[34m*\u001B[0m\u001B[34m*\u001B[0m\u001B[34m*\u001B[0m\u001B[34m*\u001B[0m\u001B[34m*\u001B[0m\u001B[34m*\u001B[0m\u001B[34m*\u001B[0m\u001B[34m*\u001B[0m\u001B[34m*\u001B[0m\u001B[34m*\u001B[0m\u001B[34m*\u001B[0m\u001B[34m*\u001B[0m\u001B[34m*\u001B[0m\u001B[34m*\u001B[0m\u001B[34m*\u001B[0m\u001B[34m*\u001B[0m\u001B[34m*\u001B[0m\u001B[34m*\u001B[0m\u001B[34m*\u001B[0m\u001B[34m*\u001B[0m\u001B[34m*\u001B[0m\u001B[34m*\u001B[0m\u001B[34m*\u001B[0m\u001B[34m*\u001B[0m\u001B[34m*\u001B[0m\u001B[34m*\u001B[0m\u001B[34m*\u001B[0m\u001B[34m*\u001B[0m\u001B[34m*\u001B[0m\u001B[34m*\u001B[0m\u001B[34m*\u001B[0m\u001B[34m*\u001B[0m\u001B[34m*\u001B[0m\u001B[34m*\u001B[0m\u001B[34m*\u001B[0m\u001B[34m*\u001B[0m\u001B[34m*\u001B[0m\u001B[34m*\u001B[0m\u001B[34m*\u001B[0m\u001B[34m*\u001B[0m\u001B[34m*\u001B[0m\u001B[34m*\u001B[0m\u001B[34m*\u001B[0m\u001B[34m*\u001B[0m\u001B[34m*\u001B[0m\u001B[34m*\u001B[0m\u001B[34m*\u001B[0m\u001B[34m*\u001B[0m\u001B[34m*\u001B[0m\u001B[34m*\u001B[0m\u001B[34m*\u001B[0m\u001B[34m*\u001B[0m\u001B[34m*\u001B[0m\u001B[34m*\u001B[0m\u001B[34m*\u001B[0m\u001B[34m*\u001B[0m\u001B[34m*\u001B[0m\u001B[34m*\u001B[0m\n",
      "\u001B[32m** Rozwiązanie ********************************************************************************\u001B[0m\n"
     ]
    },
    {
     "data": {
      "text/plain": [
       "<IPython.core.display.Markdown object>"
      ],
      "text/markdown": "Płaszczyzna zawierająca *l<sub>2</sub>* i równoległa do *l<sub>1</sub>* to"
     },
     "metadata": {},
     "output_type": "display_data"
    },
    {
     "data": {
      "text/plain": [
       "<IPython.core.display.Latex object>"
      ],
      "text/latex": "$$\\pi\\colon - 2 x + 4 y - 4 z + 16=0$$"
     },
     "metadata": {},
     "output_type": "display_data"
    },
    {
     "data": {
      "text/plain": [
       "<IPython.core.display.Markdown object>"
      ],
      "text/markdown": "Odległość prostych skośnych to"
     },
     "metadata": {},
     "output_type": "display_data"
    },
    {
     "data": {
      "text/plain": [
       "<IPython.core.display.Latex object>"
      ],
      "text/latex": "$$d(l_1,l_2)=3;$$"
     },
     "metadata": {},
     "output_type": "display_data"
    },
    {
     "data": {
      "text/plain": [
       "<IPython.core.display.Markdown object>"
      ],
      "text/markdown": "Punkty realizujące minimalną odległość to"
     },
     "metadata": {},
     "output_type": "display_data"
    },
    {
     "data": {
      "text/plain": [
       "<IPython.core.display.Latex object>"
      ],
      "text/latex": "$$ P_3=(3,7,5),\\qquad P_4=(4,5,7)$$"
     },
     "metadata": {},
     "output_type": "display_data"
    },
    {
     "name": "stdout",
     "output_type": "stream",
     "text": [
      "\u001B[32m*\u001B[0m\u001B[32m*\u001B[0m\u001B[32m*\u001B[0m\u001B[32m*\u001B[0m\u001B[32m*\u001B[0m\u001B[32m*\u001B[0m\u001B[32m*\u001B[0m\u001B[32m*\u001B[0m\u001B[32m*\u001B[0m\u001B[32m*\u001B[0m\u001B[32m*\u001B[0m\u001B[32m*\u001B[0m\u001B[32m*\u001B[0m\u001B[32m*\u001B[0m\u001B[32m*\u001B[0m\u001B[32m*\u001B[0m\u001B[32m*\u001B[0m\u001B[32m*\u001B[0m\u001B[32m*\u001B[0m\u001B[32m*\u001B[0m\u001B[32m*\u001B[0m\u001B[32m*\u001B[0m\u001B[32m*\u001B[0m\u001B[32m*\u001B[0m\u001B[32m*\u001B[0m\u001B[32m*\u001B[0m\u001B[32m*\u001B[0m\u001B[32m*\u001B[0m\u001B[32m*\u001B[0m\u001B[32m*\u001B[0m\u001B[32m*\u001B[0m\u001B[32m*\u001B[0m\u001B[32m*\u001B[0m\u001B[32m*\u001B[0m\u001B[32m*\u001B[0m\u001B[32m*\u001B[0m\u001B[32m*\u001B[0m\u001B[32m*\u001B[0m\u001B[32m*\u001B[0m\u001B[32m*\u001B[0m\u001B[32m*\u001B[0m\u001B[32m*\u001B[0m\u001B[32m*\u001B[0m\u001B[32m*\u001B[0m\u001B[32m*\u001B[0m\u001B[32m*\u001B[0m\u001B[32m*\u001B[0m\u001B[32m*\u001B[0m\u001B[32m*\u001B[0m\u001B[32m*\u001B[0m\u001B[32m*\u001B[0m\u001B[32m*\u001B[0m\u001B[32m*\u001B[0m\u001B[32m*\u001B[0m\u001B[32m*\u001B[0m\u001B[32m*\u001B[0m\u001B[32m*\u001B[0m\u001B[32m*\u001B[0m\u001B[32m*\u001B[0m\u001B[32m*\u001B[0m\u001B[32m*\u001B[0m\u001B[32m*\u001B[0m\u001B[32m*\u001B[0m\u001B[32m*\u001B[0m\u001B[32m*\u001B[0m\u001B[32m*\u001B[0m\u001B[32m*\u001B[0m\u001B[32m*\u001B[0m\u001B[32m*\u001B[0m\u001B[32m*\u001B[0m\u001B[32m*\u001B[0m\u001B[32m*\u001B[0m\u001B[32m*\u001B[0m\u001B[32m*\u001B[0m\u001B[32m*\u001B[0m\u001B[32m*\u001B[0m\u001B[32m*\u001B[0m\u001B[32m*\u001B[0m\u001B[32m*\u001B[0m\u001B[32m*\u001B[0m\u001B[32m*\u001B[0m\u001B[32m*\u001B[0m\u001B[32m*\u001B[0m\u001B[32m*\u001B[0m\u001B[32m*\u001B[0m\u001B[32m*\u001B[0m\u001B[32m*\u001B[0m\u001B[32m*\u001B[0m\u001B[32m*\u001B[0m\u001B[32m*\u001B[0m\u001B[32m*\u001B[0m\u001B[32m*\u001B[0m\u001B[32m*\u001B[0m\u001B[32m*\u001B[0m\u001B[32m*\u001B[0m\n",
      "Płaszczyzna zawierająca $l_2$ i równoległa do $l_1$ to $\\pi\\colon x - 2 y - 2 z + 5=0$;\\\\$d(l_1,l_2)=3;$\\quad Punkty realizujące minimalną odległość to:\\ $ P_3=(-10,14,-12),\\ P_4=(-9,12,-14)$.\n",
      "\n",
      "\u001B[34m** Zadanie 9 **********************************************************************************\u001B[0m\n"
     ]
    },
    {
     "data": {
      "text/plain": [
       "<IPython.core.display.Markdown object>"
      ],
      "text/markdown": "Obliczyć odległość prostych skośnych"
     },
     "metadata": {},
     "output_type": "display_data"
    },
    {
     "data": {
      "text/plain": [
       "<IPython.core.display.Latex object>"
      ],
      "text/latex": "$$\tl_1\\colon \\frac{x + 2}{2}=\\frac{y - 2}{-3}=\\frac{z - 4}{4}, \\quad $$"
     },
     "metadata": {},
     "output_type": "display_data"
    },
    {
     "data": {
      "text/plain": [
       "<IPython.core.display.Latex object>"
      ],
      "text/latex": "$$\tl_2\\colon \\frac{x - 1}{-2}=\\frac{y - 2}{2}=\\frac{z - 1}{-3}.$$"
     },
     "metadata": {},
     "output_type": "display_data"
    },
    {
     "data": {
      "text/plain": [
       "<IPython.core.display.Markdown object>"
      ],
      "text/markdown": "Wyznaczyć punkty realizujące minimalną odległość."
     },
     "metadata": {},
     "output_type": "display_data"
    },
    {
     "name": "stdout",
     "output_type": "stream",
     "text": [
      "\u001B[34m*\u001B[0m\u001B[34m*\u001B[0m\u001B[34m*\u001B[0m\u001B[34m*\u001B[0m\u001B[34m*\u001B[0m\u001B[34m*\u001B[0m\u001B[34m*\u001B[0m\u001B[34m*\u001B[0m\u001B[34m*\u001B[0m\u001B[34m*\u001B[0m\u001B[34m*\u001B[0m\u001B[34m*\u001B[0m\u001B[34m*\u001B[0m\u001B[34m*\u001B[0m\u001B[34m*\u001B[0m\u001B[34m*\u001B[0m\u001B[34m*\u001B[0m\u001B[34m*\u001B[0m\u001B[34m*\u001B[0m\u001B[34m*\u001B[0m\u001B[34m*\u001B[0m\u001B[34m*\u001B[0m\u001B[34m*\u001B[0m\u001B[34m*\u001B[0m\u001B[34m*\u001B[0m\u001B[34m*\u001B[0m\u001B[34m*\u001B[0m\u001B[34m*\u001B[0m\u001B[34m*\u001B[0m\u001B[34m*\u001B[0m\u001B[34m*\u001B[0m\u001B[34m*\u001B[0m\u001B[34m*\u001B[0m\u001B[34m*\u001B[0m\u001B[34m*\u001B[0m\u001B[34m*\u001B[0m\u001B[34m*\u001B[0m\u001B[34m*\u001B[0m\u001B[34m*\u001B[0m\u001B[34m*\u001B[0m\u001B[34m*\u001B[0m\u001B[34m*\u001B[0m\u001B[34m*\u001B[0m\u001B[34m*\u001B[0m\u001B[34m*\u001B[0m\u001B[34m*\u001B[0m\u001B[34m*\u001B[0m\u001B[34m*\u001B[0m\u001B[34m*\u001B[0m\u001B[34m*\u001B[0m\u001B[34m*\u001B[0m\u001B[34m*\u001B[0m\u001B[34m*\u001B[0m\u001B[34m*\u001B[0m\u001B[34m*\u001B[0m\u001B[34m*\u001B[0m\u001B[34m*\u001B[0m\u001B[34m*\u001B[0m\u001B[34m*\u001B[0m\u001B[34m*\u001B[0m\u001B[34m*\u001B[0m\u001B[34m*\u001B[0m\u001B[34m*\u001B[0m\u001B[34m*\u001B[0m\u001B[34m*\u001B[0m\u001B[34m*\u001B[0m\u001B[34m*\u001B[0m\u001B[34m*\u001B[0m\u001B[34m*\u001B[0m\u001B[34m*\u001B[0m\u001B[34m*\u001B[0m\u001B[34m*\u001B[0m\u001B[34m*\u001B[0m\u001B[34m*\u001B[0m\u001B[34m*\u001B[0m\u001B[34m*\u001B[0m\u001B[34m*\u001B[0m\u001B[34m*\u001B[0m\u001B[34m*\u001B[0m\u001B[34m*\u001B[0m\u001B[34m*\u001B[0m\u001B[34m*\u001B[0m\u001B[34m*\u001B[0m\u001B[34m*\u001B[0m\u001B[34m*\u001B[0m\u001B[34m*\u001B[0m\u001B[34m*\u001B[0m\u001B[34m*\u001B[0m\u001B[34m*\u001B[0m\u001B[34m*\u001B[0m\u001B[34m*\u001B[0m\u001B[34m*\u001B[0m\u001B[34m*\u001B[0m\u001B[34m*\u001B[0m\u001B[34m*\u001B[0m\n",
      "\u001B[32m** Rozwiązanie ********************************************************************************\u001B[0m\n"
     ]
    },
    {
     "data": {
      "text/plain": [
       "<IPython.core.display.Markdown object>"
      ],
      "text/markdown": "Płaszczyzna zawierająca *l<sub>2</sub>* i równoległa do *l<sub>1</sub>* to"
     },
     "metadata": {},
     "output_type": "display_data"
    },
    {
     "data": {
      "text/plain": [
       "<IPython.core.display.Latex object>"
      ],
      "text/latex": "$$\\pi\\colon x - 2 y - 2 z + 5=0$$"
     },
     "metadata": {},
     "output_type": "display_data"
    },
    {
     "data": {
      "text/plain": [
       "<IPython.core.display.Markdown object>"
      ],
      "text/markdown": "Odległość prostych skośnych to"
     },
     "metadata": {},
     "output_type": "display_data"
    },
    {
     "data": {
      "text/plain": [
       "<IPython.core.display.Latex object>"
      ],
      "text/latex": "$$d(l_1,l_2)=3;$$"
     },
     "metadata": {},
     "output_type": "display_data"
    },
    {
     "data": {
      "text/plain": [
       "<IPython.core.display.Markdown object>"
      ],
      "text/markdown": "Punkty realizujące minimalną odległość to"
     },
     "metadata": {},
     "output_type": "display_data"
    },
    {
     "data": {
      "text/plain": [
       "<IPython.core.display.Latex object>"
      ],
      "text/latex": "$$ P_3=(-10,14,-12),\\qquad P_4=(-9,12,-14)$$"
     },
     "metadata": {},
     "output_type": "display_data"
    },
    {
     "name": "stdout",
     "output_type": "stream",
     "text": [
      "\u001B[32m*\u001B[0m\u001B[32m*\u001B[0m\u001B[32m*\u001B[0m\u001B[32m*\u001B[0m\u001B[32m*\u001B[0m\u001B[32m*\u001B[0m\u001B[32m*\u001B[0m\u001B[32m*\u001B[0m\u001B[32m*\u001B[0m\u001B[32m*\u001B[0m\u001B[32m*\u001B[0m\u001B[32m*\u001B[0m\u001B[32m*\u001B[0m\u001B[32m*\u001B[0m\u001B[32m*\u001B[0m\u001B[32m*\u001B[0m\u001B[32m*\u001B[0m\u001B[32m*\u001B[0m\u001B[32m*\u001B[0m\u001B[32m*\u001B[0m\u001B[32m*\u001B[0m\u001B[32m*\u001B[0m\u001B[32m*\u001B[0m\u001B[32m*\u001B[0m\u001B[32m*\u001B[0m\u001B[32m*\u001B[0m\u001B[32m*\u001B[0m\u001B[32m*\u001B[0m\u001B[32m*\u001B[0m\u001B[32m*\u001B[0m\u001B[32m*\u001B[0m\u001B[32m*\u001B[0m\u001B[32m*\u001B[0m\u001B[32m*\u001B[0m\u001B[32m*\u001B[0m\u001B[32m*\u001B[0m\u001B[32m*\u001B[0m\u001B[32m*\u001B[0m\u001B[32m*\u001B[0m\u001B[32m*\u001B[0m\u001B[32m*\u001B[0m\u001B[32m*\u001B[0m\u001B[32m*\u001B[0m\u001B[32m*\u001B[0m\u001B[32m*\u001B[0m\u001B[32m*\u001B[0m\u001B[32m*\u001B[0m\u001B[32m*\u001B[0m\u001B[32m*\u001B[0m\u001B[32m*\u001B[0m\u001B[32m*\u001B[0m\u001B[32m*\u001B[0m\u001B[32m*\u001B[0m\u001B[32m*\u001B[0m\u001B[32m*\u001B[0m\u001B[32m*\u001B[0m\u001B[32m*\u001B[0m\u001B[32m*\u001B[0m\u001B[32m*\u001B[0m\u001B[32m*\u001B[0m\u001B[32m*\u001B[0m\u001B[32m*\u001B[0m\u001B[32m*\u001B[0m\u001B[32m*\u001B[0m\u001B[32m*\u001B[0m\u001B[32m*\u001B[0m\u001B[32m*\u001B[0m\u001B[32m*\u001B[0m\u001B[32m*\u001B[0m\u001B[32m*\u001B[0m\u001B[32m*\u001B[0m\u001B[32m*\u001B[0m\u001B[32m*\u001B[0m\u001B[32m*\u001B[0m\u001B[32m*\u001B[0m\u001B[32m*\u001B[0m\u001B[32m*\u001B[0m\u001B[32m*\u001B[0m\u001B[32m*\u001B[0m\u001B[32m*\u001B[0m\u001B[32m*\u001B[0m\u001B[32m*\u001B[0m\u001B[32m*\u001B[0m\u001B[32m*\u001B[0m\u001B[32m*\u001B[0m\u001B[32m*\u001B[0m\u001B[32m*\u001B[0m\u001B[32m*\u001B[0m\u001B[32m*\u001B[0m\u001B[32m*\u001B[0m\u001B[32m*\u001B[0m\u001B[32m*\u001B[0m\u001B[32m*\u001B[0m\u001B[32m*\u001B[0m\u001B[32m*\u001B[0m\n",
      "Płaszczyzna zawierająca $l_2$ i równoległa do $l_1$ to $\\pi\\colon - 2 x - 2 y + z + 11=0$;\\\\$d(l_1,l_2)=6;$\\quad Punkty realizujące minimalną odległość to:\\ $ P_3=(-7,2,-3),\\ P_4=(-3,6,-5)$.\n",
      "\n",
      "\u001B[34m** Zadanie 10 **********************************************************************************\u001B[0m\n"
     ]
    },
    {
     "data": {
      "text/plain": [
       "<IPython.core.display.Markdown object>"
      ],
      "text/markdown": "Obliczyć odległość prostych skośnych"
     },
     "metadata": {},
     "output_type": "display_data"
    },
    {
     "data": {
      "text/plain": [
       "<IPython.core.display.Latex object>"
      ],
      "text/latex": "$$\tl_1\\colon \\frac{x - 1}{2}=\\frac{y + 2}{-1}=\\frac{z - 5}{2}, \\quad $$"
     },
     "metadata": {},
     "output_type": "display_data"
    },
    {
     "data": {
      "text/plain": [
       "<IPython.core.display.Latex object>"
      ],
      "text/latex": "$$\tl_2\\colon \\frac{x - 3}{3}=\\frac{y - 4}{-1}=\\frac{z - 3}{4}.$$"
     },
     "metadata": {},
     "output_type": "display_data"
    },
    {
     "data": {
      "text/plain": [
       "<IPython.core.display.Markdown object>"
      ],
      "text/markdown": "Wyznaczyć punkty realizujące minimalną odległość."
     },
     "metadata": {},
     "output_type": "display_data"
    },
    {
     "name": "stdout",
     "output_type": "stream",
     "text": [
      "\u001B[34m*\u001B[0m\u001B[34m*\u001B[0m\u001B[34m*\u001B[0m\u001B[34m*\u001B[0m\u001B[34m*\u001B[0m\u001B[34m*\u001B[0m\u001B[34m*\u001B[0m\u001B[34m*\u001B[0m\u001B[34m*\u001B[0m\u001B[34m*\u001B[0m\u001B[34m*\u001B[0m\u001B[34m*\u001B[0m\u001B[34m*\u001B[0m\u001B[34m*\u001B[0m\u001B[34m*\u001B[0m\u001B[34m*\u001B[0m\u001B[34m*\u001B[0m\u001B[34m*\u001B[0m\u001B[34m*\u001B[0m\u001B[34m*\u001B[0m\u001B[34m*\u001B[0m\u001B[34m*\u001B[0m\u001B[34m*\u001B[0m\u001B[34m*\u001B[0m\u001B[34m*\u001B[0m\u001B[34m*\u001B[0m\u001B[34m*\u001B[0m\u001B[34m*\u001B[0m\u001B[34m*\u001B[0m\u001B[34m*\u001B[0m\u001B[34m*\u001B[0m\u001B[34m*\u001B[0m\u001B[34m*\u001B[0m\u001B[34m*\u001B[0m\u001B[34m*\u001B[0m\u001B[34m*\u001B[0m\u001B[34m*\u001B[0m\u001B[34m*\u001B[0m\u001B[34m*\u001B[0m\u001B[34m*\u001B[0m\u001B[34m*\u001B[0m\u001B[34m*\u001B[0m\u001B[34m*\u001B[0m\u001B[34m*\u001B[0m\u001B[34m*\u001B[0m\u001B[34m*\u001B[0m\u001B[34m*\u001B[0m\u001B[34m*\u001B[0m\u001B[34m*\u001B[0m\u001B[34m*\u001B[0m\u001B[34m*\u001B[0m\u001B[34m*\u001B[0m\u001B[34m*\u001B[0m\u001B[34m*\u001B[0m\u001B[34m*\u001B[0m\u001B[34m*\u001B[0m\u001B[34m*\u001B[0m\u001B[34m*\u001B[0m\u001B[34m*\u001B[0m\u001B[34m*\u001B[0m\u001B[34m*\u001B[0m\u001B[34m*\u001B[0m\u001B[34m*\u001B[0m\u001B[34m*\u001B[0m\u001B[34m*\u001B[0m\u001B[34m*\u001B[0m\u001B[34m*\u001B[0m\u001B[34m*\u001B[0m\u001B[34m*\u001B[0m\u001B[34m*\u001B[0m\u001B[34m*\u001B[0m\u001B[34m*\u001B[0m\u001B[34m*\u001B[0m\u001B[34m*\u001B[0m\u001B[34m*\u001B[0m\u001B[34m*\u001B[0m\u001B[34m*\u001B[0m\u001B[34m*\u001B[0m\u001B[34m*\u001B[0m\u001B[34m*\u001B[0m\u001B[34m*\u001B[0m\u001B[34m*\u001B[0m\u001B[34m*\u001B[0m\u001B[34m*\u001B[0m\u001B[34m*\u001B[0m\u001B[34m*\u001B[0m\u001B[34m*\u001B[0m\u001B[34m*\u001B[0m\u001B[34m*\u001B[0m\u001B[34m*\u001B[0m\u001B[34m*\u001B[0m\u001B[34m*\u001B[0m\u001B[34m*\u001B[0m\u001B[34m*\u001B[0m\u001B[34m*\u001B[0m\n",
      "\u001B[32m** Rozwiązanie ********************************************************************************\u001B[0m\n"
     ]
    },
    {
     "data": {
      "text/plain": [
       "<IPython.core.display.Markdown object>"
      ],
      "text/markdown": "Płaszczyzna zawierająca *l<sub>2</sub>* i równoległa do *l<sub>1</sub>* to"
     },
     "metadata": {},
     "output_type": "display_data"
    },
    {
     "data": {
      "text/plain": [
       "<IPython.core.display.Latex object>"
      ],
      "text/latex": "$$\\pi\\colon - 2 x - 2 y + z + 11=0$$"
     },
     "metadata": {},
     "output_type": "display_data"
    },
    {
     "data": {
      "text/plain": [
       "<IPython.core.display.Markdown object>"
      ],
      "text/markdown": "Odległość prostych skośnych to"
     },
     "metadata": {},
     "output_type": "display_data"
    },
    {
     "data": {
      "text/plain": [
       "<IPython.core.display.Latex object>"
      ],
      "text/latex": "$$d(l_1,l_2)=6;$$"
     },
     "metadata": {},
     "output_type": "display_data"
    },
    {
     "data": {
      "text/plain": [
       "<IPython.core.display.Markdown object>"
      ],
      "text/markdown": "Punkty realizujące minimalną odległość to"
     },
     "metadata": {},
     "output_type": "display_data"
    },
    {
     "data": {
      "text/plain": [
       "<IPython.core.display.Latex object>"
      ],
      "text/latex": "$$ P_3=(-7,2,-3),\\qquad P_4=(-3,6,-5)$$"
     },
     "metadata": {},
     "output_type": "display_data"
    },
    {
     "name": "stdout",
     "output_type": "stream",
     "text": [
      "\u001B[32m*\u001B[0m\u001B[32m*\u001B[0m\u001B[32m*\u001B[0m\u001B[32m*\u001B[0m\u001B[32m*\u001B[0m\u001B[32m*\u001B[0m\u001B[32m*\u001B[0m\u001B[32m*\u001B[0m\u001B[32m*\u001B[0m\u001B[32m*\u001B[0m\u001B[32m*\u001B[0m\u001B[32m*\u001B[0m\u001B[32m*\u001B[0m\u001B[32m*\u001B[0m\u001B[32m*\u001B[0m\u001B[32m*\u001B[0m\u001B[32m*\u001B[0m\u001B[32m*\u001B[0m\u001B[32m*\u001B[0m\u001B[32m*\u001B[0m\u001B[32m*\u001B[0m\u001B[32m*\u001B[0m\u001B[32m*\u001B[0m\u001B[32m*\u001B[0m\u001B[32m*\u001B[0m\u001B[32m*\u001B[0m\u001B[32m*\u001B[0m\u001B[32m*\u001B[0m\u001B[32m*\u001B[0m\u001B[32m*\u001B[0m\u001B[32m*\u001B[0m\u001B[32m*\u001B[0m\u001B[32m*\u001B[0m\u001B[32m*\u001B[0m\u001B[32m*\u001B[0m\u001B[32m*\u001B[0m\u001B[32m*\u001B[0m\u001B[32m*\u001B[0m\u001B[32m*\u001B[0m\u001B[32m*\u001B[0m\u001B[32m*\u001B[0m\u001B[32m*\u001B[0m\u001B[32m*\u001B[0m\u001B[32m*\u001B[0m\u001B[32m*\u001B[0m\u001B[32m*\u001B[0m\u001B[32m*\u001B[0m\u001B[32m*\u001B[0m\u001B[32m*\u001B[0m\u001B[32m*\u001B[0m\u001B[32m*\u001B[0m\u001B[32m*\u001B[0m\u001B[32m*\u001B[0m\u001B[32m*\u001B[0m\u001B[32m*\u001B[0m\u001B[32m*\u001B[0m\u001B[32m*\u001B[0m\u001B[32m*\u001B[0m\u001B[32m*\u001B[0m\u001B[32m*\u001B[0m\u001B[32m*\u001B[0m\u001B[32m*\u001B[0m\u001B[32m*\u001B[0m\u001B[32m*\u001B[0m\u001B[32m*\u001B[0m\u001B[32m*\u001B[0m\u001B[32m*\u001B[0m\u001B[32m*\u001B[0m\u001B[32m*\u001B[0m\u001B[32m*\u001B[0m\u001B[32m*\u001B[0m\u001B[32m*\u001B[0m\u001B[32m*\u001B[0m\u001B[32m*\u001B[0m\u001B[32m*\u001B[0m\u001B[32m*\u001B[0m\u001B[32m*\u001B[0m\u001B[32m*\u001B[0m\u001B[32m*\u001B[0m\u001B[32m*\u001B[0m\u001B[32m*\u001B[0m\u001B[32m*\u001B[0m\u001B[32m*\u001B[0m\u001B[32m*\u001B[0m\u001B[32m*\u001B[0m\u001B[32m*\u001B[0m\u001B[32m*\u001B[0m\u001B[32m*\u001B[0m\u001B[32m*\u001B[0m\u001B[32m*\u001B[0m\u001B[32m*\u001B[0m\u001B[32m*\u001B[0m\u001B[32m*\u001B[0m\u001B[32m*\u001B[0m\u001B[32m*\u001B[0m\n"
     ]
    }
   ],
   "execution_count": 154
  },
  {
   "metadata": {},
   "cell_type": "markdown",
   "source": "## Kąty w trójkącie ",
   "id": "1ff30317a49624c0"
  },
  {
   "metadata": {
    "ExecuteTime": {
     "end_time": "2024-09-15T18:31:24.955982Z",
     "start_time": "2024-09-15T18:31:24.621298Z"
    }
   },
   "cell_type": "code",
   "source": [
    "zadanie = gz.katy_w_trojkacie(prosty=choice([False, True]), calkowite=choice([False, True]))\n",
    "zadanie"
   ],
   "id": "d8b1d8822ffb6732",
   "outputs": [
    {
     "data": {
      "text/plain": [
       "('Wyznaczyć miary kątów wewnętrznych trójkąta $ABC,$ gdzie\\n\\t\\\\[\\n\\t\\tA = (4, -1, -3),\\\\ B = (5, 0, 2),\\\\ C = (-2, 0, -2)\\n\\t\\\\]\\n\\tSprawdzić, czy sumują się do $180^{\\\\circ}.$\\\\\\\\',\n",
       " '$\\\\alpha \\\\approx 90.00^{\\\\circ},\\\\  \\\\beta \\\\approx 49.87^{\\\\circ},\\\\  \\\\gamma \\\\approx 40.13^{\\\\circ}.$')"
      ]
     },
     "execution_count": 133,
     "metadata": {},
     "output_type": "execute_result"
    }
   ],
   "execution_count": 133
  },
  {
   "metadata": {
    "ExecuteTime": {
     "end_time": "2024-09-15T18:31:25.001169Z",
     "start_time": "2024-09-15T18:31:24.994445Z"
    }
   },
   "cell_type": "code",
   "source": [
    "print(\"\\033[34m** Zadanie **\" + '*' * 81 + '\\033[0m')\n",
    "print(zadanie[0])\n",
    "print(\"\\033[34m*\\033[0m\" * 95)\n",
    "print(\"\\033[32m** Rozwiązanie **\" + '*' * 78 + '\\033[0m')\n",
    "print(zadanie[1])\n",
    "print(\"\\033[32m*\\033[0m\" * 95)"
   ],
   "id": "1a1b91c501571fa1",
   "outputs": [
    {
     "name": "stdout",
     "output_type": "stream",
     "text": [
      "\u001B[34m** Zadanie ***********************************************************************************\u001B[0m\n",
      "Wyznaczyć miary kątów wewnętrznych trójkąta $ABC,$ gdzie\n",
      "\t\\[\n",
      "\t\tA = (4, -1, -3),\\ B = (5, 0, 2),\\ C = (-2, 0, -2)\n",
      "\t\\]\n",
      "\tSprawdzić, czy sumują się do $180^{\\circ}.$\\\\\n",
      "\u001B[34m*\u001B[0m\u001B[34m*\u001B[0m\u001B[34m*\u001B[0m\u001B[34m*\u001B[0m\u001B[34m*\u001B[0m\u001B[34m*\u001B[0m\u001B[34m*\u001B[0m\u001B[34m*\u001B[0m\u001B[34m*\u001B[0m\u001B[34m*\u001B[0m\u001B[34m*\u001B[0m\u001B[34m*\u001B[0m\u001B[34m*\u001B[0m\u001B[34m*\u001B[0m\u001B[34m*\u001B[0m\u001B[34m*\u001B[0m\u001B[34m*\u001B[0m\u001B[34m*\u001B[0m\u001B[34m*\u001B[0m\u001B[34m*\u001B[0m\u001B[34m*\u001B[0m\u001B[34m*\u001B[0m\u001B[34m*\u001B[0m\u001B[34m*\u001B[0m\u001B[34m*\u001B[0m\u001B[34m*\u001B[0m\u001B[34m*\u001B[0m\u001B[34m*\u001B[0m\u001B[34m*\u001B[0m\u001B[34m*\u001B[0m\u001B[34m*\u001B[0m\u001B[34m*\u001B[0m\u001B[34m*\u001B[0m\u001B[34m*\u001B[0m\u001B[34m*\u001B[0m\u001B[34m*\u001B[0m\u001B[34m*\u001B[0m\u001B[34m*\u001B[0m\u001B[34m*\u001B[0m\u001B[34m*\u001B[0m\u001B[34m*\u001B[0m\u001B[34m*\u001B[0m\u001B[34m*\u001B[0m\u001B[34m*\u001B[0m\u001B[34m*\u001B[0m\u001B[34m*\u001B[0m\u001B[34m*\u001B[0m\u001B[34m*\u001B[0m\u001B[34m*\u001B[0m\u001B[34m*\u001B[0m\u001B[34m*\u001B[0m\u001B[34m*\u001B[0m\u001B[34m*\u001B[0m\u001B[34m*\u001B[0m\u001B[34m*\u001B[0m\u001B[34m*\u001B[0m\u001B[34m*\u001B[0m\u001B[34m*\u001B[0m\u001B[34m*\u001B[0m\u001B[34m*\u001B[0m\u001B[34m*\u001B[0m\u001B[34m*\u001B[0m\u001B[34m*\u001B[0m\u001B[34m*\u001B[0m\u001B[34m*\u001B[0m\u001B[34m*\u001B[0m\u001B[34m*\u001B[0m\u001B[34m*\u001B[0m\u001B[34m*\u001B[0m\u001B[34m*\u001B[0m\u001B[34m*\u001B[0m\u001B[34m*\u001B[0m\u001B[34m*\u001B[0m\u001B[34m*\u001B[0m\u001B[34m*\u001B[0m\u001B[34m*\u001B[0m\u001B[34m*\u001B[0m\u001B[34m*\u001B[0m\u001B[34m*\u001B[0m\u001B[34m*\u001B[0m\u001B[34m*\u001B[0m\u001B[34m*\u001B[0m\u001B[34m*\u001B[0m\u001B[34m*\u001B[0m\u001B[34m*\u001B[0m\u001B[34m*\u001B[0m\u001B[34m*\u001B[0m\u001B[34m*\u001B[0m\u001B[34m*\u001B[0m\u001B[34m*\u001B[0m\u001B[34m*\u001B[0m\u001B[34m*\u001B[0m\u001B[34m*\u001B[0m\u001B[34m*\u001B[0m\u001B[34m*\u001B[0m\n",
      "\u001B[32m** Rozwiązanie ********************************************************************************\u001B[0m\n",
      "$\\alpha \\approx 90.00^{\\circ},\\  \\beta \\approx 49.87^{\\circ},\\  \\gamma \\approx 40.13^{\\circ}.$\n",
      "\u001B[32m*\u001B[0m\u001B[32m*\u001B[0m\u001B[32m*\u001B[0m\u001B[32m*\u001B[0m\u001B[32m*\u001B[0m\u001B[32m*\u001B[0m\u001B[32m*\u001B[0m\u001B[32m*\u001B[0m\u001B[32m*\u001B[0m\u001B[32m*\u001B[0m\u001B[32m*\u001B[0m\u001B[32m*\u001B[0m\u001B[32m*\u001B[0m\u001B[32m*\u001B[0m\u001B[32m*\u001B[0m\u001B[32m*\u001B[0m\u001B[32m*\u001B[0m\u001B[32m*\u001B[0m\u001B[32m*\u001B[0m\u001B[32m*\u001B[0m\u001B[32m*\u001B[0m\u001B[32m*\u001B[0m\u001B[32m*\u001B[0m\u001B[32m*\u001B[0m\u001B[32m*\u001B[0m\u001B[32m*\u001B[0m\u001B[32m*\u001B[0m\u001B[32m*\u001B[0m\u001B[32m*\u001B[0m\u001B[32m*\u001B[0m\u001B[32m*\u001B[0m\u001B[32m*\u001B[0m\u001B[32m*\u001B[0m\u001B[32m*\u001B[0m\u001B[32m*\u001B[0m\u001B[32m*\u001B[0m\u001B[32m*\u001B[0m\u001B[32m*\u001B[0m\u001B[32m*\u001B[0m\u001B[32m*\u001B[0m\u001B[32m*\u001B[0m\u001B[32m*\u001B[0m\u001B[32m*\u001B[0m\u001B[32m*\u001B[0m\u001B[32m*\u001B[0m\u001B[32m*\u001B[0m\u001B[32m*\u001B[0m\u001B[32m*\u001B[0m\u001B[32m*\u001B[0m\u001B[32m*\u001B[0m\u001B[32m*\u001B[0m\u001B[32m*\u001B[0m\u001B[32m*\u001B[0m\u001B[32m*\u001B[0m\u001B[32m*\u001B[0m\u001B[32m*\u001B[0m\u001B[32m*\u001B[0m\u001B[32m*\u001B[0m\u001B[32m*\u001B[0m\u001B[32m*\u001B[0m\u001B[32m*\u001B[0m\u001B[32m*\u001B[0m\u001B[32m*\u001B[0m\u001B[32m*\u001B[0m\u001B[32m*\u001B[0m\u001B[32m*\u001B[0m\u001B[32m*\u001B[0m\u001B[32m*\u001B[0m\u001B[32m*\u001B[0m\u001B[32m*\u001B[0m\u001B[32m*\u001B[0m\u001B[32m*\u001B[0m\u001B[32m*\u001B[0m\u001B[32m*\u001B[0m\u001B[32m*\u001B[0m\u001B[32m*\u001B[0m\u001B[32m*\u001B[0m\u001B[32m*\u001B[0m\u001B[32m*\u001B[0m\u001B[32m*\u001B[0m\u001B[32m*\u001B[0m\u001B[32m*\u001B[0m\u001B[32m*\u001B[0m\u001B[32m*\u001B[0m\u001B[32m*\u001B[0m\u001B[32m*\u001B[0m\u001B[32m*\u001B[0m\u001B[32m*\u001B[0m\u001B[32m*\u001B[0m\u001B[32m*\u001B[0m\u001B[32m*\u001B[0m\u001B[32m*\u001B[0m\u001B[32m*\u001B[0m\u001B[32m*\u001B[0m\u001B[32m*\u001B[0m\n"
     ]
    }
   ],
   "execution_count": 134
  },
  {
   "metadata": {
    "ExecuteTime": {
     "end_time": "2024-09-15T18:31:40.179620Z",
     "start_time": "2024-09-15T18:31:25.072056Z"
    }
   },
   "cell_type": "code",
   "source": [
    "for i in range(1, ile_zadan_przykladowych + 1):\n",
    "    zadanie = gz.katy_w_trojkacie(prosty=choice([False, True]), calkowite=choice([False, True]))\n",
    "    print(f\"\\033[34m** Zadanie {i} **\" + '*' * 80 + '\\033[0m')\n",
    "    display(Markdown('Wyznaczyć miary kątów wewnętrznych trójkąta *ABC*, gdzie'))\n",
    "    display(Latex('$$' + (zadanie[0].split('\\n\\t')[2]) + '$$'))\n",
    "    display(Markdown('Sprawdzić, czy sumują się do 180\\u00b0'))\n",
    "    print(\"\\033[34m*\\033[0m\" * 95)\n",
    "    print(\"\\033[32m** Rozwiązanie **\" + '*' * 78 + '\\033[0m')\n",
    "    display(Latex('$' + zadanie[1] + '$'))\n",
    "    print(\"\\033[32m*\\033[0m\" * 95)"
   ],
   "id": "caf90b232044f02b",
   "outputs": [
    {
     "name": "stdout",
     "output_type": "stream",
     "text": [
      "\u001B[34m** Zadanie 1 **********************************************************************************\u001B[0m\n"
     ]
    },
    {
     "data": {
      "text/plain": [
       "<IPython.core.display.Markdown object>"
      ],
      "text/markdown": "Wyznaczyć miary kątów wewnętrznych trójkąta *ABC*, gdzie"
     },
     "metadata": {},
     "output_type": "display_data"
    },
    {
     "data": {
      "text/plain": [
       "<IPython.core.display.Latex object>"
      ],
      "text/latex": "$$\tA = (-1, 3, 4),\\ B = (-1, 4, 3),\\ C = (0, 0, -1)$$"
     },
     "metadata": {},
     "output_type": "display_data"
    },
    {
     "data": {
      "text/plain": [
       "<IPython.core.display.Markdown object>"
      ],
      "text/markdown": "Sprawdzić, czy sumują się do 180°"
     },
     "metadata": {},
     "output_type": "display_data"
    },
    {
     "name": "stdout",
     "output_type": "stream",
     "text": [
      "\u001B[34m*\u001B[0m\u001B[34m*\u001B[0m\u001B[34m*\u001B[0m\u001B[34m*\u001B[0m\u001B[34m*\u001B[0m\u001B[34m*\u001B[0m\u001B[34m*\u001B[0m\u001B[34m*\u001B[0m\u001B[34m*\u001B[0m\u001B[34m*\u001B[0m\u001B[34m*\u001B[0m\u001B[34m*\u001B[0m\u001B[34m*\u001B[0m\u001B[34m*\u001B[0m\u001B[34m*\u001B[0m\u001B[34m*\u001B[0m\u001B[34m*\u001B[0m\u001B[34m*\u001B[0m\u001B[34m*\u001B[0m\u001B[34m*\u001B[0m\u001B[34m*\u001B[0m\u001B[34m*\u001B[0m\u001B[34m*\u001B[0m\u001B[34m*\u001B[0m\u001B[34m*\u001B[0m\u001B[34m*\u001B[0m\u001B[34m*\u001B[0m\u001B[34m*\u001B[0m\u001B[34m*\u001B[0m\u001B[34m*\u001B[0m\u001B[34m*\u001B[0m\u001B[34m*\u001B[0m\u001B[34m*\u001B[0m\u001B[34m*\u001B[0m\u001B[34m*\u001B[0m\u001B[34m*\u001B[0m\u001B[34m*\u001B[0m\u001B[34m*\u001B[0m\u001B[34m*\u001B[0m\u001B[34m*\u001B[0m\u001B[34m*\u001B[0m\u001B[34m*\u001B[0m\u001B[34m*\u001B[0m\u001B[34m*\u001B[0m\u001B[34m*\u001B[0m\u001B[34m*\u001B[0m\u001B[34m*\u001B[0m\u001B[34m*\u001B[0m\u001B[34m*\u001B[0m\u001B[34m*\u001B[0m\u001B[34m*\u001B[0m\u001B[34m*\u001B[0m\u001B[34m*\u001B[0m\u001B[34m*\u001B[0m\u001B[34m*\u001B[0m\u001B[34m*\u001B[0m\u001B[34m*\u001B[0m\u001B[34m*\u001B[0m\u001B[34m*\u001B[0m\u001B[34m*\u001B[0m\u001B[34m*\u001B[0m\u001B[34m*\u001B[0m\u001B[34m*\u001B[0m\u001B[34m*\u001B[0m\u001B[34m*\u001B[0m\u001B[34m*\u001B[0m\u001B[34m*\u001B[0m\u001B[34m*\u001B[0m\u001B[34m*\u001B[0m\u001B[34m*\u001B[0m\u001B[34m*\u001B[0m\u001B[34m*\u001B[0m\u001B[34m*\u001B[0m\u001B[34m*\u001B[0m\u001B[34m*\u001B[0m\u001B[34m*\u001B[0m\u001B[34m*\u001B[0m\u001B[34m*\u001B[0m\u001B[34m*\u001B[0m\u001B[34m*\u001B[0m\u001B[34m*\u001B[0m\u001B[34m*\u001B[0m\u001B[34m*\u001B[0m\u001B[34m*\u001B[0m\u001B[34m*\u001B[0m\u001B[34m*\u001B[0m\u001B[34m*\u001B[0m\u001B[34m*\u001B[0m\u001B[34m*\u001B[0m\u001B[34m*\u001B[0m\u001B[34m*\u001B[0m\u001B[34m*\u001B[0m\u001B[34m*\u001B[0m\u001B[34m*\u001B[0m\u001B[34m*\u001B[0m\n",
      "\u001B[32m** Rozwiązanie ********************************************************************************\u001B[0m\n"
     ]
    },
    {
     "data": {
      "text/plain": [
       "<IPython.core.display.Latex object>"
      ],
      "text/latex": "$$\\alpha \\approx 76.17^{\\circ},\\  \\beta \\approx 90.00^{\\circ},\\  \\gamma \\approx 13.83^{\\circ}.$$"
     },
     "metadata": {},
     "output_type": "display_data"
    },
    {
     "name": "stdout",
     "output_type": "stream",
     "text": [
      "\u001B[32m*\u001B[0m\u001B[32m*\u001B[0m\u001B[32m*\u001B[0m\u001B[32m*\u001B[0m\u001B[32m*\u001B[0m\u001B[32m*\u001B[0m\u001B[32m*\u001B[0m\u001B[32m*\u001B[0m\u001B[32m*\u001B[0m\u001B[32m*\u001B[0m\u001B[32m*\u001B[0m\u001B[32m*\u001B[0m\u001B[32m*\u001B[0m\u001B[32m*\u001B[0m\u001B[32m*\u001B[0m\u001B[32m*\u001B[0m\u001B[32m*\u001B[0m\u001B[32m*\u001B[0m\u001B[32m*\u001B[0m\u001B[32m*\u001B[0m\u001B[32m*\u001B[0m\u001B[32m*\u001B[0m\u001B[32m*\u001B[0m\u001B[32m*\u001B[0m\u001B[32m*\u001B[0m\u001B[32m*\u001B[0m\u001B[32m*\u001B[0m\u001B[32m*\u001B[0m\u001B[32m*\u001B[0m\u001B[32m*\u001B[0m\u001B[32m*\u001B[0m\u001B[32m*\u001B[0m\u001B[32m*\u001B[0m\u001B[32m*\u001B[0m\u001B[32m*\u001B[0m\u001B[32m*\u001B[0m\u001B[32m*\u001B[0m\u001B[32m*\u001B[0m\u001B[32m*\u001B[0m\u001B[32m*\u001B[0m\u001B[32m*\u001B[0m\u001B[32m*\u001B[0m\u001B[32m*\u001B[0m\u001B[32m*\u001B[0m\u001B[32m*\u001B[0m\u001B[32m*\u001B[0m\u001B[32m*\u001B[0m\u001B[32m*\u001B[0m\u001B[32m*\u001B[0m\u001B[32m*\u001B[0m\u001B[32m*\u001B[0m\u001B[32m*\u001B[0m\u001B[32m*\u001B[0m\u001B[32m*\u001B[0m\u001B[32m*\u001B[0m\u001B[32m*\u001B[0m\u001B[32m*\u001B[0m\u001B[32m*\u001B[0m\u001B[32m*\u001B[0m\u001B[32m*\u001B[0m\u001B[32m*\u001B[0m\u001B[32m*\u001B[0m\u001B[32m*\u001B[0m\u001B[32m*\u001B[0m\u001B[32m*\u001B[0m\u001B[32m*\u001B[0m\u001B[32m*\u001B[0m\u001B[32m*\u001B[0m\u001B[32m*\u001B[0m\u001B[32m*\u001B[0m\u001B[32m*\u001B[0m\u001B[32m*\u001B[0m\u001B[32m*\u001B[0m\u001B[32m*\u001B[0m\u001B[32m*\u001B[0m\u001B[32m*\u001B[0m\u001B[32m*\u001B[0m\u001B[32m*\u001B[0m\u001B[32m*\u001B[0m\u001B[32m*\u001B[0m\u001B[32m*\u001B[0m\u001B[32m*\u001B[0m\u001B[32m*\u001B[0m\u001B[32m*\u001B[0m\u001B[32m*\u001B[0m\u001B[32m*\u001B[0m\u001B[32m*\u001B[0m\u001B[32m*\u001B[0m\u001B[32m*\u001B[0m\u001B[32m*\u001B[0m\u001B[32m*\u001B[0m\u001B[32m*\u001B[0m\u001B[32m*\u001B[0m\u001B[32m*\u001B[0m\u001B[32m*\u001B[0m\n",
      "\u001B[34m** Zadanie 2 **********************************************************************************\u001B[0m\n"
     ]
    },
    {
     "data": {
      "text/plain": [
       "<IPython.core.display.Markdown object>"
      ],
      "text/markdown": "Wyznaczyć miary kątów wewnętrznych trójkąta *ABC*, gdzie"
     },
     "metadata": {},
     "output_type": "display_data"
    },
    {
     "data": {
      "text/plain": [
       "<IPython.core.display.Latex object>"
      ],
      "text/latex": "$$\tA = (-2, 0, 5),\\ B = (-2, -1, 4),\\ C = (-3, 0, 4)$$"
     },
     "metadata": {},
     "output_type": "display_data"
    },
    {
     "data": {
      "text/plain": [
       "<IPython.core.display.Markdown object>"
      ],
      "text/markdown": "Sprawdzić, czy sumują się do 180°"
     },
     "metadata": {},
     "output_type": "display_data"
    },
    {
     "name": "stdout",
     "output_type": "stream",
     "text": [
      "\u001B[34m*\u001B[0m\u001B[34m*\u001B[0m\u001B[34m*\u001B[0m\u001B[34m*\u001B[0m\u001B[34m*\u001B[0m\u001B[34m*\u001B[0m\u001B[34m*\u001B[0m\u001B[34m*\u001B[0m\u001B[34m*\u001B[0m\u001B[34m*\u001B[0m\u001B[34m*\u001B[0m\u001B[34m*\u001B[0m\u001B[34m*\u001B[0m\u001B[34m*\u001B[0m\u001B[34m*\u001B[0m\u001B[34m*\u001B[0m\u001B[34m*\u001B[0m\u001B[34m*\u001B[0m\u001B[34m*\u001B[0m\u001B[34m*\u001B[0m\u001B[34m*\u001B[0m\u001B[34m*\u001B[0m\u001B[34m*\u001B[0m\u001B[34m*\u001B[0m\u001B[34m*\u001B[0m\u001B[34m*\u001B[0m\u001B[34m*\u001B[0m\u001B[34m*\u001B[0m\u001B[34m*\u001B[0m\u001B[34m*\u001B[0m\u001B[34m*\u001B[0m\u001B[34m*\u001B[0m\u001B[34m*\u001B[0m\u001B[34m*\u001B[0m\u001B[34m*\u001B[0m\u001B[34m*\u001B[0m\u001B[34m*\u001B[0m\u001B[34m*\u001B[0m\u001B[34m*\u001B[0m\u001B[34m*\u001B[0m\u001B[34m*\u001B[0m\u001B[34m*\u001B[0m\u001B[34m*\u001B[0m\u001B[34m*\u001B[0m\u001B[34m*\u001B[0m\u001B[34m*\u001B[0m\u001B[34m*\u001B[0m\u001B[34m*\u001B[0m\u001B[34m*\u001B[0m\u001B[34m*\u001B[0m\u001B[34m*\u001B[0m\u001B[34m*\u001B[0m\u001B[34m*\u001B[0m\u001B[34m*\u001B[0m\u001B[34m*\u001B[0m\u001B[34m*\u001B[0m\u001B[34m*\u001B[0m\u001B[34m*\u001B[0m\u001B[34m*\u001B[0m\u001B[34m*\u001B[0m\u001B[34m*\u001B[0m\u001B[34m*\u001B[0m\u001B[34m*\u001B[0m\u001B[34m*\u001B[0m\u001B[34m*\u001B[0m\u001B[34m*\u001B[0m\u001B[34m*\u001B[0m\u001B[34m*\u001B[0m\u001B[34m*\u001B[0m\u001B[34m*\u001B[0m\u001B[34m*\u001B[0m\u001B[34m*\u001B[0m\u001B[34m*\u001B[0m\u001B[34m*\u001B[0m\u001B[34m*\u001B[0m\u001B[34m*\u001B[0m\u001B[34m*\u001B[0m\u001B[34m*\u001B[0m\u001B[34m*\u001B[0m\u001B[34m*\u001B[0m\u001B[34m*\u001B[0m\u001B[34m*\u001B[0m\u001B[34m*\u001B[0m\u001B[34m*\u001B[0m\u001B[34m*\u001B[0m\u001B[34m*\u001B[0m\u001B[34m*\u001B[0m\u001B[34m*\u001B[0m\u001B[34m*\u001B[0m\u001B[34m*\u001B[0m\u001B[34m*\u001B[0m\u001B[34m*\u001B[0m\u001B[34m*\u001B[0m\u001B[34m*\u001B[0m\u001B[34m*\u001B[0m\n",
      "\u001B[32m** Rozwiązanie ********************************************************************************\u001B[0m\n"
     ]
    },
    {
     "data": {
      "text/plain": [
       "<IPython.core.display.Latex object>"
      ],
      "text/latex": "$$\\alpha \\approx 60.00^{\\circ},\\  \\beta \\approx 60.00^{\\circ},\\  \\gamma \\approx 60.00^{\\circ}.$$"
     },
     "metadata": {},
     "output_type": "display_data"
    },
    {
     "name": "stdout",
     "output_type": "stream",
     "text": [
      "\u001B[32m*\u001B[0m\u001B[32m*\u001B[0m\u001B[32m*\u001B[0m\u001B[32m*\u001B[0m\u001B[32m*\u001B[0m\u001B[32m*\u001B[0m\u001B[32m*\u001B[0m\u001B[32m*\u001B[0m\u001B[32m*\u001B[0m\u001B[32m*\u001B[0m\u001B[32m*\u001B[0m\u001B[32m*\u001B[0m\u001B[32m*\u001B[0m\u001B[32m*\u001B[0m\u001B[32m*\u001B[0m\u001B[32m*\u001B[0m\u001B[32m*\u001B[0m\u001B[32m*\u001B[0m\u001B[32m*\u001B[0m\u001B[32m*\u001B[0m\u001B[32m*\u001B[0m\u001B[32m*\u001B[0m\u001B[32m*\u001B[0m\u001B[32m*\u001B[0m\u001B[32m*\u001B[0m\u001B[32m*\u001B[0m\u001B[32m*\u001B[0m\u001B[32m*\u001B[0m\u001B[32m*\u001B[0m\u001B[32m*\u001B[0m\u001B[32m*\u001B[0m\u001B[32m*\u001B[0m\u001B[32m*\u001B[0m\u001B[32m*\u001B[0m\u001B[32m*\u001B[0m\u001B[32m*\u001B[0m\u001B[32m*\u001B[0m\u001B[32m*\u001B[0m\u001B[32m*\u001B[0m\u001B[32m*\u001B[0m\u001B[32m*\u001B[0m\u001B[32m*\u001B[0m\u001B[32m*\u001B[0m\u001B[32m*\u001B[0m\u001B[32m*\u001B[0m\u001B[32m*\u001B[0m\u001B[32m*\u001B[0m\u001B[32m*\u001B[0m\u001B[32m*\u001B[0m\u001B[32m*\u001B[0m\u001B[32m*\u001B[0m\u001B[32m*\u001B[0m\u001B[32m*\u001B[0m\u001B[32m*\u001B[0m\u001B[32m*\u001B[0m\u001B[32m*\u001B[0m\u001B[32m*\u001B[0m\u001B[32m*\u001B[0m\u001B[32m*\u001B[0m\u001B[32m*\u001B[0m\u001B[32m*\u001B[0m\u001B[32m*\u001B[0m\u001B[32m*\u001B[0m\u001B[32m*\u001B[0m\u001B[32m*\u001B[0m\u001B[32m*\u001B[0m\u001B[32m*\u001B[0m\u001B[32m*\u001B[0m\u001B[32m*\u001B[0m\u001B[32m*\u001B[0m\u001B[32m*\u001B[0m\u001B[32m*\u001B[0m\u001B[32m*\u001B[0m\u001B[32m*\u001B[0m\u001B[32m*\u001B[0m\u001B[32m*\u001B[0m\u001B[32m*\u001B[0m\u001B[32m*\u001B[0m\u001B[32m*\u001B[0m\u001B[32m*\u001B[0m\u001B[32m*\u001B[0m\u001B[32m*\u001B[0m\u001B[32m*\u001B[0m\u001B[32m*\u001B[0m\u001B[32m*\u001B[0m\u001B[32m*\u001B[0m\u001B[32m*\u001B[0m\u001B[32m*\u001B[0m\u001B[32m*\u001B[0m\u001B[32m*\u001B[0m\u001B[32m*\u001B[0m\u001B[32m*\u001B[0m\u001B[32m*\u001B[0m\u001B[32m*\u001B[0m\u001B[32m*\u001B[0m\n",
      "\u001B[34m** Zadanie 3 **********************************************************************************\u001B[0m\n"
     ]
    },
    {
     "data": {
      "text/plain": [
       "<IPython.core.display.Markdown object>"
      ],
      "text/markdown": "Wyznaczyć miary kątów wewnętrznych trójkąta *ABC*, gdzie"
     },
     "metadata": {},
     "output_type": "display_data"
    },
    {
     "data": {
      "text/plain": [
       "<IPython.core.display.Latex object>"
      ],
      "text/latex": "$$\tA = (-1, -3, 4),\\ B = (4, 5, -1),\\ C = (-2, 5, 2)$$"
     },
     "metadata": {},
     "output_type": "display_data"
    },
    {
     "data": {
      "text/plain": [
       "<IPython.core.display.Markdown object>"
      ],
      "text/markdown": "Sprawdzić, czy sumują się do 180°"
     },
     "metadata": {},
     "output_type": "display_data"
    },
    {
     "name": "stdout",
     "output_type": "stream",
     "text": [
      "\u001B[34m*\u001B[0m\u001B[34m*\u001B[0m\u001B[34m*\u001B[0m\u001B[34m*\u001B[0m\u001B[34m*\u001B[0m\u001B[34m*\u001B[0m\u001B[34m*\u001B[0m\u001B[34m*\u001B[0m\u001B[34m*\u001B[0m\u001B[34m*\u001B[0m\u001B[34m*\u001B[0m\u001B[34m*\u001B[0m\u001B[34m*\u001B[0m\u001B[34m*\u001B[0m\u001B[34m*\u001B[0m\u001B[34m*\u001B[0m\u001B[34m*\u001B[0m\u001B[34m*\u001B[0m\u001B[34m*\u001B[0m\u001B[34m*\u001B[0m\u001B[34m*\u001B[0m\u001B[34m*\u001B[0m\u001B[34m*\u001B[0m\u001B[34m*\u001B[0m\u001B[34m*\u001B[0m\u001B[34m*\u001B[0m\u001B[34m*\u001B[0m\u001B[34m*\u001B[0m\u001B[34m*\u001B[0m\u001B[34m*\u001B[0m\u001B[34m*\u001B[0m\u001B[34m*\u001B[0m\u001B[34m*\u001B[0m\u001B[34m*\u001B[0m\u001B[34m*\u001B[0m\u001B[34m*\u001B[0m\u001B[34m*\u001B[0m\u001B[34m*\u001B[0m\u001B[34m*\u001B[0m\u001B[34m*\u001B[0m\u001B[34m*\u001B[0m\u001B[34m*\u001B[0m\u001B[34m*\u001B[0m\u001B[34m*\u001B[0m\u001B[34m*\u001B[0m\u001B[34m*\u001B[0m\u001B[34m*\u001B[0m\u001B[34m*\u001B[0m\u001B[34m*\u001B[0m\u001B[34m*\u001B[0m\u001B[34m*\u001B[0m\u001B[34m*\u001B[0m\u001B[34m*\u001B[0m\u001B[34m*\u001B[0m\u001B[34m*\u001B[0m\u001B[34m*\u001B[0m\u001B[34m*\u001B[0m\u001B[34m*\u001B[0m\u001B[34m*\u001B[0m\u001B[34m*\u001B[0m\u001B[34m*\u001B[0m\u001B[34m*\u001B[0m\u001B[34m*\u001B[0m\u001B[34m*\u001B[0m\u001B[34m*\u001B[0m\u001B[34m*\u001B[0m\u001B[34m*\u001B[0m\u001B[34m*\u001B[0m\u001B[34m*\u001B[0m\u001B[34m*\u001B[0m\u001B[34m*\u001B[0m\u001B[34m*\u001B[0m\u001B[34m*\u001B[0m\u001B[34m*\u001B[0m\u001B[34m*\u001B[0m\u001B[34m*\u001B[0m\u001B[34m*\u001B[0m\u001B[34m*\u001B[0m\u001B[34m*\u001B[0m\u001B[34m*\u001B[0m\u001B[34m*\u001B[0m\u001B[34m*\u001B[0m\u001B[34m*\u001B[0m\u001B[34m*\u001B[0m\u001B[34m*\u001B[0m\u001B[34m*\u001B[0m\u001B[34m*\u001B[0m\u001B[34m*\u001B[0m\u001B[34m*\u001B[0m\u001B[34m*\u001B[0m\u001B[34m*\u001B[0m\u001B[34m*\u001B[0m\u001B[34m*\u001B[0m\u001B[34m*\u001B[0m\u001B[34m*\u001B[0m\n",
      "\u001B[32m** Rozwiązanie ********************************************************************************\u001B[0m\n"
     ]
    },
    {
     "data": {
      "text/plain": [
       "<IPython.core.display.Latex object>"
      ],
      "text/latex": "$$\\alpha \\approx 38.92^{\\circ},\\  \\beta \\approx 51.08^{\\circ},\\  \\gamma \\approx 90.00^{\\circ}.$$"
     },
     "metadata": {},
     "output_type": "display_data"
    },
    {
     "name": "stdout",
     "output_type": "stream",
     "text": [
      "\u001B[32m*\u001B[0m\u001B[32m*\u001B[0m\u001B[32m*\u001B[0m\u001B[32m*\u001B[0m\u001B[32m*\u001B[0m\u001B[32m*\u001B[0m\u001B[32m*\u001B[0m\u001B[32m*\u001B[0m\u001B[32m*\u001B[0m\u001B[32m*\u001B[0m\u001B[32m*\u001B[0m\u001B[32m*\u001B[0m\u001B[32m*\u001B[0m\u001B[32m*\u001B[0m\u001B[32m*\u001B[0m\u001B[32m*\u001B[0m\u001B[32m*\u001B[0m\u001B[32m*\u001B[0m\u001B[32m*\u001B[0m\u001B[32m*\u001B[0m\u001B[32m*\u001B[0m\u001B[32m*\u001B[0m\u001B[32m*\u001B[0m\u001B[32m*\u001B[0m\u001B[32m*\u001B[0m\u001B[32m*\u001B[0m\u001B[32m*\u001B[0m\u001B[32m*\u001B[0m\u001B[32m*\u001B[0m\u001B[32m*\u001B[0m\u001B[32m*\u001B[0m\u001B[32m*\u001B[0m\u001B[32m*\u001B[0m\u001B[32m*\u001B[0m\u001B[32m*\u001B[0m\u001B[32m*\u001B[0m\u001B[32m*\u001B[0m\u001B[32m*\u001B[0m\u001B[32m*\u001B[0m\u001B[32m*\u001B[0m\u001B[32m*\u001B[0m\u001B[32m*\u001B[0m\u001B[32m*\u001B[0m\u001B[32m*\u001B[0m\u001B[32m*\u001B[0m\u001B[32m*\u001B[0m\u001B[32m*\u001B[0m\u001B[32m*\u001B[0m\u001B[32m*\u001B[0m\u001B[32m*\u001B[0m\u001B[32m*\u001B[0m\u001B[32m*\u001B[0m\u001B[32m*\u001B[0m\u001B[32m*\u001B[0m\u001B[32m*\u001B[0m\u001B[32m*\u001B[0m\u001B[32m*\u001B[0m\u001B[32m*\u001B[0m\u001B[32m*\u001B[0m\u001B[32m*\u001B[0m\u001B[32m*\u001B[0m\u001B[32m*\u001B[0m\u001B[32m*\u001B[0m\u001B[32m*\u001B[0m\u001B[32m*\u001B[0m\u001B[32m*\u001B[0m\u001B[32m*\u001B[0m\u001B[32m*\u001B[0m\u001B[32m*\u001B[0m\u001B[32m*\u001B[0m\u001B[32m*\u001B[0m\u001B[32m*\u001B[0m\u001B[32m*\u001B[0m\u001B[32m*\u001B[0m\u001B[32m*\u001B[0m\u001B[32m*\u001B[0m\u001B[32m*\u001B[0m\u001B[32m*\u001B[0m\u001B[32m*\u001B[0m\u001B[32m*\u001B[0m\u001B[32m*\u001B[0m\u001B[32m*\u001B[0m\u001B[32m*\u001B[0m\u001B[32m*\u001B[0m\u001B[32m*\u001B[0m\u001B[32m*\u001B[0m\u001B[32m*\u001B[0m\u001B[32m*\u001B[0m\u001B[32m*\u001B[0m\u001B[32m*\u001B[0m\u001B[32m*\u001B[0m\u001B[32m*\u001B[0m\u001B[32m*\u001B[0m\u001B[32m*\u001B[0m\u001B[32m*\u001B[0m\n",
      "\u001B[34m** Zadanie 4 **********************************************************************************\u001B[0m\n"
     ]
    },
    {
     "data": {
      "text/plain": [
       "<IPython.core.display.Markdown object>"
      ],
      "text/markdown": "Wyznaczyć miary kątów wewnętrznych trójkąta *ABC*, gdzie"
     },
     "metadata": {},
     "output_type": "display_data"
    },
    {
     "data": {
      "text/plain": [
       "<IPython.core.display.Latex object>"
      ],
      "text/latex": "$$\tA = (4, -3, 5),\\ B = (2, 1, 3),\\ C = (3, -1, -2)$$"
     },
     "metadata": {},
     "output_type": "display_data"
    },
    {
     "data": {
      "text/plain": [
       "<IPython.core.display.Markdown object>"
      ],
      "text/markdown": "Sprawdzić, czy sumują się do 180°"
     },
     "metadata": {},
     "output_type": "display_data"
    },
    {
     "name": "stdout",
     "output_type": "stream",
     "text": [
      "\u001B[34m*\u001B[0m\u001B[34m*\u001B[0m\u001B[34m*\u001B[0m\u001B[34m*\u001B[0m\u001B[34m*\u001B[0m\u001B[34m*\u001B[0m\u001B[34m*\u001B[0m\u001B[34m*\u001B[0m\u001B[34m*\u001B[0m\u001B[34m*\u001B[0m\u001B[34m*\u001B[0m\u001B[34m*\u001B[0m\u001B[34m*\u001B[0m\u001B[34m*\u001B[0m\u001B[34m*\u001B[0m\u001B[34m*\u001B[0m\u001B[34m*\u001B[0m\u001B[34m*\u001B[0m\u001B[34m*\u001B[0m\u001B[34m*\u001B[0m\u001B[34m*\u001B[0m\u001B[34m*\u001B[0m\u001B[34m*\u001B[0m\u001B[34m*\u001B[0m\u001B[34m*\u001B[0m\u001B[34m*\u001B[0m\u001B[34m*\u001B[0m\u001B[34m*\u001B[0m\u001B[34m*\u001B[0m\u001B[34m*\u001B[0m\u001B[34m*\u001B[0m\u001B[34m*\u001B[0m\u001B[34m*\u001B[0m\u001B[34m*\u001B[0m\u001B[34m*\u001B[0m\u001B[34m*\u001B[0m\u001B[34m*\u001B[0m\u001B[34m*\u001B[0m\u001B[34m*\u001B[0m\u001B[34m*\u001B[0m\u001B[34m*\u001B[0m\u001B[34m*\u001B[0m\u001B[34m*\u001B[0m\u001B[34m*\u001B[0m\u001B[34m*\u001B[0m\u001B[34m*\u001B[0m\u001B[34m*\u001B[0m\u001B[34m*\u001B[0m\u001B[34m*\u001B[0m\u001B[34m*\u001B[0m\u001B[34m*\u001B[0m\u001B[34m*\u001B[0m\u001B[34m*\u001B[0m\u001B[34m*\u001B[0m\u001B[34m*\u001B[0m\u001B[34m*\u001B[0m\u001B[34m*\u001B[0m\u001B[34m*\u001B[0m\u001B[34m*\u001B[0m\u001B[34m*\u001B[0m\u001B[34m*\u001B[0m\u001B[34m*\u001B[0m\u001B[34m*\u001B[0m\u001B[34m*\u001B[0m\u001B[34m*\u001B[0m\u001B[34m*\u001B[0m\u001B[34m*\u001B[0m\u001B[34m*\u001B[0m\u001B[34m*\u001B[0m\u001B[34m*\u001B[0m\u001B[34m*\u001B[0m\u001B[34m*\u001B[0m\u001B[34m*\u001B[0m\u001B[34m*\u001B[0m\u001B[34m*\u001B[0m\u001B[34m*\u001B[0m\u001B[34m*\u001B[0m\u001B[34m*\u001B[0m\u001B[34m*\u001B[0m\u001B[34m*\u001B[0m\u001B[34m*\u001B[0m\u001B[34m*\u001B[0m\u001B[34m*\u001B[0m\u001B[34m*\u001B[0m\u001B[34m*\u001B[0m\u001B[34m*\u001B[0m\u001B[34m*\u001B[0m\u001B[34m*\u001B[0m\u001B[34m*\u001B[0m\u001B[34m*\u001B[0m\u001B[34m*\u001B[0m\u001B[34m*\u001B[0m\u001B[34m*\u001B[0m\u001B[34m*\u001B[0m\u001B[34m*\u001B[0m\n",
      "\u001B[32m** Rozwiązanie ********************************************************************************\u001B[0m\n"
     ]
    },
    {
     "data": {
      "text/plain": [
       "<IPython.core.display.Latex object>"
      ],
      "text/latex": "$$\\alpha \\approx 48.19^{\\circ},\\  \\beta \\approx 90.00^{\\circ},\\  \\gamma \\approx 41.81^{\\circ}.$$"
     },
     "metadata": {},
     "output_type": "display_data"
    },
    {
     "name": "stdout",
     "output_type": "stream",
     "text": [
      "\u001B[32m*\u001B[0m\u001B[32m*\u001B[0m\u001B[32m*\u001B[0m\u001B[32m*\u001B[0m\u001B[32m*\u001B[0m\u001B[32m*\u001B[0m\u001B[32m*\u001B[0m\u001B[32m*\u001B[0m\u001B[32m*\u001B[0m\u001B[32m*\u001B[0m\u001B[32m*\u001B[0m\u001B[32m*\u001B[0m\u001B[32m*\u001B[0m\u001B[32m*\u001B[0m\u001B[32m*\u001B[0m\u001B[32m*\u001B[0m\u001B[32m*\u001B[0m\u001B[32m*\u001B[0m\u001B[32m*\u001B[0m\u001B[32m*\u001B[0m\u001B[32m*\u001B[0m\u001B[32m*\u001B[0m\u001B[32m*\u001B[0m\u001B[32m*\u001B[0m\u001B[32m*\u001B[0m\u001B[32m*\u001B[0m\u001B[32m*\u001B[0m\u001B[32m*\u001B[0m\u001B[32m*\u001B[0m\u001B[32m*\u001B[0m\u001B[32m*\u001B[0m\u001B[32m*\u001B[0m\u001B[32m*\u001B[0m\u001B[32m*\u001B[0m\u001B[32m*\u001B[0m\u001B[32m*\u001B[0m\u001B[32m*\u001B[0m\u001B[32m*\u001B[0m\u001B[32m*\u001B[0m\u001B[32m*\u001B[0m\u001B[32m*\u001B[0m\u001B[32m*\u001B[0m\u001B[32m*\u001B[0m\u001B[32m*\u001B[0m\u001B[32m*\u001B[0m\u001B[32m*\u001B[0m\u001B[32m*\u001B[0m\u001B[32m*\u001B[0m\u001B[32m*\u001B[0m\u001B[32m*\u001B[0m\u001B[32m*\u001B[0m\u001B[32m*\u001B[0m\u001B[32m*\u001B[0m\u001B[32m*\u001B[0m\u001B[32m*\u001B[0m\u001B[32m*\u001B[0m\u001B[32m*\u001B[0m\u001B[32m*\u001B[0m\u001B[32m*\u001B[0m\u001B[32m*\u001B[0m\u001B[32m*\u001B[0m\u001B[32m*\u001B[0m\u001B[32m*\u001B[0m\u001B[32m*\u001B[0m\u001B[32m*\u001B[0m\u001B[32m*\u001B[0m\u001B[32m*\u001B[0m\u001B[32m*\u001B[0m\u001B[32m*\u001B[0m\u001B[32m*\u001B[0m\u001B[32m*\u001B[0m\u001B[32m*\u001B[0m\u001B[32m*\u001B[0m\u001B[32m*\u001B[0m\u001B[32m*\u001B[0m\u001B[32m*\u001B[0m\u001B[32m*\u001B[0m\u001B[32m*\u001B[0m\u001B[32m*\u001B[0m\u001B[32m*\u001B[0m\u001B[32m*\u001B[0m\u001B[32m*\u001B[0m\u001B[32m*\u001B[0m\u001B[32m*\u001B[0m\u001B[32m*\u001B[0m\u001B[32m*\u001B[0m\u001B[32m*\u001B[0m\u001B[32m*\u001B[0m\u001B[32m*\u001B[0m\u001B[32m*\u001B[0m\u001B[32m*\u001B[0m\u001B[32m*\u001B[0m\u001B[32m*\u001B[0m\u001B[32m*\u001B[0m\u001B[32m*\u001B[0m\n",
      "\u001B[34m** Zadanie 5 **********************************************************************************\u001B[0m\n"
     ]
    },
    {
     "data": {
      "text/plain": [
       "<IPython.core.display.Markdown object>"
      ],
      "text/markdown": "Wyznaczyć miary kątów wewnętrznych trójkąta *ABC*, gdzie"
     },
     "metadata": {},
     "output_type": "display_data"
    },
    {
     "data": {
      "text/plain": [
       "<IPython.core.display.Latex object>"
      ],
      "text/latex": "$$\tA = (-1, -2, 0),\\ B = (-1, 0, 1),\\ C = (-1, -1, 3)$$"
     },
     "metadata": {},
     "output_type": "display_data"
    },
    {
     "data": {
      "text/plain": [
       "<IPython.core.display.Markdown object>"
      ],
      "text/markdown": "Sprawdzić, czy sumują się do 180°"
     },
     "metadata": {},
     "output_type": "display_data"
    },
    {
     "name": "stdout",
     "output_type": "stream",
     "text": [
      "\u001B[34m*\u001B[0m\u001B[34m*\u001B[0m\u001B[34m*\u001B[0m\u001B[34m*\u001B[0m\u001B[34m*\u001B[0m\u001B[34m*\u001B[0m\u001B[34m*\u001B[0m\u001B[34m*\u001B[0m\u001B[34m*\u001B[0m\u001B[34m*\u001B[0m\u001B[34m*\u001B[0m\u001B[34m*\u001B[0m\u001B[34m*\u001B[0m\u001B[34m*\u001B[0m\u001B[34m*\u001B[0m\u001B[34m*\u001B[0m\u001B[34m*\u001B[0m\u001B[34m*\u001B[0m\u001B[34m*\u001B[0m\u001B[34m*\u001B[0m\u001B[34m*\u001B[0m\u001B[34m*\u001B[0m\u001B[34m*\u001B[0m\u001B[34m*\u001B[0m\u001B[34m*\u001B[0m\u001B[34m*\u001B[0m\u001B[34m*\u001B[0m\u001B[34m*\u001B[0m\u001B[34m*\u001B[0m\u001B[34m*\u001B[0m\u001B[34m*\u001B[0m\u001B[34m*\u001B[0m\u001B[34m*\u001B[0m\u001B[34m*\u001B[0m\u001B[34m*\u001B[0m\u001B[34m*\u001B[0m\u001B[34m*\u001B[0m\u001B[34m*\u001B[0m\u001B[34m*\u001B[0m\u001B[34m*\u001B[0m\u001B[34m*\u001B[0m\u001B[34m*\u001B[0m\u001B[34m*\u001B[0m\u001B[34m*\u001B[0m\u001B[34m*\u001B[0m\u001B[34m*\u001B[0m\u001B[34m*\u001B[0m\u001B[34m*\u001B[0m\u001B[34m*\u001B[0m\u001B[34m*\u001B[0m\u001B[34m*\u001B[0m\u001B[34m*\u001B[0m\u001B[34m*\u001B[0m\u001B[34m*\u001B[0m\u001B[34m*\u001B[0m\u001B[34m*\u001B[0m\u001B[34m*\u001B[0m\u001B[34m*\u001B[0m\u001B[34m*\u001B[0m\u001B[34m*\u001B[0m\u001B[34m*\u001B[0m\u001B[34m*\u001B[0m\u001B[34m*\u001B[0m\u001B[34m*\u001B[0m\u001B[34m*\u001B[0m\u001B[34m*\u001B[0m\u001B[34m*\u001B[0m\u001B[34m*\u001B[0m\u001B[34m*\u001B[0m\u001B[34m*\u001B[0m\u001B[34m*\u001B[0m\u001B[34m*\u001B[0m\u001B[34m*\u001B[0m\u001B[34m*\u001B[0m\u001B[34m*\u001B[0m\u001B[34m*\u001B[0m\u001B[34m*\u001B[0m\u001B[34m*\u001B[0m\u001B[34m*\u001B[0m\u001B[34m*\u001B[0m\u001B[34m*\u001B[0m\u001B[34m*\u001B[0m\u001B[34m*\u001B[0m\u001B[34m*\u001B[0m\u001B[34m*\u001B[0m\u001B[34m*\u001B[0m\u001B[34m*\u001B[0m\u001B[34m*\u001B[0m\u001B[34m*\u001B[0m\u001B[34m*\u001B[0m\u001B[34m*\u001B[0m\u001B[34m*\u001B[0m\u001B[34m*\u001B[0m\u001B[34m*\u001B[0m\u001B[34m*\u001B[0m\n",
      "\u001B[32m** Rozwiązanie ********************************************************************************\u001B[0m\n"
     ]
    },
    {
     "data": {
      "text/plain": [
       "<IPython.core.display.Latex object>"
      ],
      "text/latex": "$$\\alpha \\approx 45.00^{\\circ},\\  \\beta \\approx 90.00^{\\circ},\\  \\gamma \\approx 45.00^{\\circ}.$$"
     },
     "metadata": {},
     "output_type": "display_data"
    },
    {
     "name": "stdout",
     "output_type": "stream",
     "text": [
      "\u001B[32m*\u001B[0m\u001B[32m*\u001B[0m\u001B[32m*\u001B[0m\u001B[32m*\u001B[0m\u001B[32m*\u001B[0m\u001B[32m*\u001B[0m\u001B[32m*\u001B[0m\u001B[32m*\u001B[0m\u001B[32m*\u001B[0m\u001B[32m*\u001B[0m\u001B[32m*\u001B[0m\u001B[32m*\u001B[0m\u001B[32m*\u001B[0m\u001B[32m*\u001B[0m\u001B[32m*\u001B[0m\u001B[32m*\u001B[0m\u001B[32m*\u001B[0m\u001B[32m*\u001B[0m\u001B[32m*\u001B[0m\u001B[32m*\u001B[0m\u001B[32m*\u001B[0m\u001B[32m*\u001B[0m\u001B[32m*\u001B[0m\u001B[32m*\u001B[0m\u001B[32m*\u001B[0m\u001B[32m*\u001B[0m\u001B[32m*\u001B[0m\u001B[32m*\u001B[0m\u001B[32m*\u001B[0m\u001B[32m*\u001B[0m\u001B[32m*\u001B[0m\u001B[32m*\u001B[0m\u001B[32m*\u001B[0m\u001B[32m*\u001B[0m\u001B[32m*\u001B[0m\u001B[32m*\u001B[0m\u001B[32m*\u001B[0m\u001B[32m*\u001B[0m\u001B[32m*\u001B[0m\u001B[32m*\u001B[0m\u001B[32m*\u001B[0m\u001B[32m*\u001B[0m\u001B[32m*\u001B[0m\u001B[32m*\u001B[0m\u001B[32m*\u001B[0m\u001B[32m*\u001B[0m\u001B[32m*\u001B[0m\u001B[32m*\u001B[0m\u001B[32m*\u001B[0m\u001B[32m*\u001B[0m\u001B[32m*\u001B[0m\u001B[32m*\u001B[0m\u001B[32m*\u001B[0m\u001B[32m*\u001B[0m\u001B[32m*\u001B[0m\u001B[32m*\u001B[0m\u001B[32m*\u001B[0m\u001B[32m*\u001B[0m\u001B[32m*\u001B[0m\u001B[32m*\u001B[0m\u001B[32m*\u001B[0m\u001B[32m*\u001B[0m\u001B[32m*\u001B[0m\u001B[32m*\u001B[0m\u001B[32m*\u001B[0m\u001B[32m*\u001B[0m\u001B[32m*\u001B[0m\u001B[32m*\u001B[0m\u001B[32m*\u001B[0m\u001B[32m*\u001B[0m\u001B[32m*\u001B[0m\u001B[32m*\u001B[0m\u001B[32m*\u001B[0m\u001B[32m*\u001B[0m\u001B[32m*\u001B[0m\u001B[32m*\u001B[0m\u001B[32m*\u001B[0m\u001B[32m*\u001B[0m\u001B[32m*\u001B[0m\u001B[32m*\u001B[0m\u001B[32m*\u001B[0m\u001B[32m*\u001B[0m\u001B[32m*\u001B[0m\u001B[32m*\u001B[0m\u001B[32m*\u001B[0m\u001B[32m*\u001B[0m\u001B[32m*\u001B[0m\u001B[32m*\u001B[0m\u001B[32m*\u001B[0m\u001B[32m*\u001B[0m\u001B[32m*\u001B[0m\u001B[32m*\u001B[0m\u001B[32m*\u001B[0m\u001B[32m*\u001B[0m\u001B[32m*\u001B[0m\n",
      "\u001B[34m** Zadanie 6 **********************************************************************************\u001B[0m\n"
     ]
    },
    {
     "data": {
      "text/plain": [
       "<IPython.core.display.Markdown object>"
      ],
      "text/markdown": "Wyznaczyć miary kątów wewnętrznych trójkąta *ABC*, gdzie"
     },
     "metadata": {},
     "output_type": "display_data"
    },
    {
     "data": {
      "text/plain": [
       "<IPython.core.display.Latex object>"
      ],
      "text/latex": "$$\tA = (1, 4, -2),\\ B = (2, 2, -1),\\ C = (3, 3, -3)$$"
     },
     "metadata": {},
     "output_type": "display_data"
    },
    {
     "data": {
      "text/plain": [
       "<IPython.core.display.Markdown object>"
      ],
      "text/markdown": "Sprawdzić, czy sumują się do 180°"
     },
     "metadata": {},
     "output_type": "display_data"
    },
    {
     "name": "stdout",
     "output_type": "stream",
     "text": [
      "\u001B[34m*\u001B[0m\u001B[34m*\u001B[0m\u001B[34m*\u001B[0m\u001B[34m*\u001B[0m\u001B[34m*\u001B[0m\u001B[34m*\u001B[0m\u001B[34m*\u001B[0m\u001B[34m*\u001B[0m\u001B[34m*\u001B[0m\u001B[34m*\u001B[0m\u001B[34m*\u001B[0m\u001B[34m*\u001B[0m\u001B[34m*\u001B[0m\u001B[34m*\u001B[0m\u001B[34m*\u001B[0m\u001B[34m*\u001B[0m\u001B[34m*\u001B[0m\u001B[34m*\u001B[0m\u001B[34m*\u001B[0m\u001B[34m*\u001B[0m\u001B[34m*\u001B[0m\u001B[34m*\u001B[0m\u001B[34m*\u001B[0m\u001B[34m*\u001B[0m\u001B[34m*\u001B[0m\u001B[34m*\u001B[0m\u001B[34m*\u001B[0m\u001B[34m*\u001B[0m\u001B[34m*\u001B[0m\u001B[34m*\u001B[0m\u001B[34m*\u001B[0m\u001B[34m*\u001B[0m\u001B[34m*\u001B[0m\u001B[34m*\u001B[0m\u001B[34m*\u001B[0m\u001B[34m*\u001B[0m\u001B[34m*\u001B[0m\u001B[34m*\u001B[0m\u001B[34m*\u001B[0m\u001B[34m*\u001B[0m\u001B[34m*\u001B[0m\u001B[34m*\u001B[0m\u001B[34m*\u001B[0m\u001B[34m*\u001B[0m\u001B[34m*\u001B[0m\u001B[34m*\u001B[0m\u001B[34m*\u001B[0m\u001B[34m*\u001B[0m\u001B[34m*\u001B[0m\u001B[34m*\u001B[0m\u001B[34m*\u001B[0m\u001B[34m*\u001B[0m\u001B[34m*\u001B[0m\u001B[34m*\u001B[0m\u001B[34m*\u001B[0m\u001B[34m*\u001B[0m\u001B[34m*\u001B[0m\u001B[34m*\u001B[0m\u001B[34m*\u001B[0m\u001B[34m*\u001B[0m\u001B[34m*\u001B[0m\u001B[34m*\u001B[0m\u001B[34m*\u001B[0m\u001B[34m*\u001B[0m\u001B[34m*\u001B[0m\u001B[34m*\u001B[0m\u001B[34m*\u001B[0m\u001B[34m*\u001B[0m\u001B[34m*\u001B[0m\u001B[34m*\u001B[0m\u001B[34m*\u001B[0m\u001B[34m*\u001B[0m\u001B[34m*\u001B[0m\u001B[34m*\u001B[0m\u001B[34m*\u001B[0m\u001B[34m*\u001B[0m\u001B[34m*\u001B[0m\u001B[34m*\u001B[0m\u001B[34m*\u001B[0m\u001B[34m*\u001B[0m\u001B[34m*\u001B[0m\u001B[34m*\u001B[0m\u001B[34m*\u001B[0m\u001B[34m*\u001B[0m\u001B[34m*\u001B[0m\u001B[34m*\u001B[0m\u001B[34m*\u001B[0m\u001B[34m*\u001B[0m\u001B[34m*\u001B[0m\u001B[34m*\u001B[0m\u001B[34m*\u001B[0m\u001B[34m*\u001B[0m\u001B[34m*\u001B[0m\u001B[34m*\u001B[0m\u001B[34m*\u001B[0m\n",
      "\u001B[32m** Rozwiązanie ********************************************************************************\u001B[0m\n"
     ]
    },
    {
     "data": {
      "text/plain": [
       "<IPython.core.display.Latex object>"
      ],
      "text/latex": "$$\\alpha \\approx 60.00^{\\circ},\\  \\beta \\approx 60.00^{\\circ},\\  \\gamma \\approx 60.00^{\\circ}.$$"
     },
     "metadata": {},
     "output_type": "display_data"
    },
    {
     "name": "stdout",
     "output_type": "stream",
     "text": [
      "\u001B[32m*\u001B[0m\u001B[32m*\u001B[0m\u001B[32m*\u001B[0m\u001B[32m*\u001B[0m\u001B[32m*\u001B[0m\u001B[32m*\u001B[0m\u001B[32m*\u001B[0m\u001B[32m*\u001B[0m\u001B[32m*\u001B[0m\u001B[32m*\u001B[0m\u001B[32m*\u001B[0m\u001B[32m*\u001B[0m\u001B[32m*\u001B[0m\u001B[32m*\u001B[0m\u001B[32m*\u001B[0m\u001B[32m*\u001B[0m\u001B[32m*\u001B[0m\u001B[32m*\u001B[0m\u001B[32m*\u001B[0m\u001B[32m*\u001B[0m\u001B[32m*\u001B[0m\u001B[32m*\u001B[0m\u001B[32m*\u001B[0m\u001B[32m*\u001B[0m\u001B[32m*\u001B[0m\u001B[32m*\u001B[0m\u001B[32m*\u001B[0m\u001B[32m*\u001B[0m\u001B[32m*\u001B[0m\u001B[32m*\u001B[0m\u001B[32m*\u001B[0m\u001B[32m*\u001B[0m\u001B[32m*\u001B[0m\u001B[32m*\u001B[0m\u001B[32m*\u001B[0m\u001B[32m*\u001B[0m\u001B[32m*\u001B[0m\u001B[32m*\u001B[0m\u001B[32m*\u001B[0m\u001B[32m*\u001B[0m\u001B[32m*\u001B[0m\u001B[32m*\u001B[0m\u001B[32m*\u001B[0m\u001B[32m*\u001B[0m\u001B[32m*\u001B[0m\u001B[32m*\u001B[0m\u001B[32m*\u001B[0m\u001B[32m*\u001B[0m\u001B[32m*\u001B[0m\u001B[32m*\u001B[0m\u001B[32m*\u001B[0m\u001B[32m*\u001B[0m\u001B[32m*\u001B[0m\u001B[32m*\u001B[0m\u001B[32m*\u001B[0m\u001B[32m*\u001B[0m\u001B[32m*\u001B[0m\u001B[32m*\u001B[0m\u001B[32m*\u001B[0m\u001B[32m*\u001B[0m\u001B[32m*\u001B[0m\u001B[32m*\u001B[0m\u001B[32m*\u001B[0m\u001B[32m*\u001B[0m\u001B[32m*\u001B[0m\u001B[32m*\u001B[0m\u001B[32m*\u001B[0m\u001B[32m*\u001B[0m\u001B[32m*\u001B[0m\u001B[32m*\u001B[0m\u001B[32m*\u001B[0m\u001B[32m*\u001B[0m\u001B[32m*\u001B[0m\u001B[32m*\u001B[0m\u001B[32m*\u001B[0m\u001B[32m*\u001B[0m\u001B[32m*\u001B[0m\u001B[32m*\u001B[0m\u001B[32m*\u001B[0m\u001B[32m*\u001B[0m\u001B[32m*\u001B[0m\u001B[32m*\u001B[0m\u001B[32m*\u001B[0m\u001B[32m*\u001B[0m\u001B[32m*\u001B[0m\u001B[32m*\u001B[0m\u001B[32m*\u001B[0m\u001B[32m*\u001B[0m\u001B[32m*\u001B[0m\u001B[32m*\u001B[0m\u001B[32m*\u001B[0m\u001B[32m*\u001B[0m\u001B[32m*\u001B[0m\u001B[32m*\u001B[0m\u001B[32m*\u001B[0m\n",
      "\u001B[34m** Zadanie 7 **********************************************************************************\u001B[0m\n"
     ]
    },
    {
     "data": {
      "text/plain": [
       "<IPython.core.display.Markdown object>"
      ],
      "text/markdown": "Wyznaczyć miary kątów wewnętrznych trójkąta *ABC*, gdzie"
     },
     "metadata": {},
     "output_type": "display_data"
    },
    {
     "data": {
      "text/plain": [
       "<IPython.core.display.Latex object>"
      ],
      "text/latex": "$$\tA = (-1, -1, 4),\\ B = (-1, 5, -2),\\ C = (-1, -1, -2)$$"
     },
     "metadata": {},
     "output_type": "display_data"
    },
    {
     "data": {
      "text/plain": [
       "<IPython.core.display.Markdown object>"
      ],
      "text/markdown": "Sprawdzić, czy sumują się do 180°"
     },
     "metadata": {},
     "output_type": "display_data"
    },
    {
     "name": "stdout",
     "output_type": "stream",
     "text": [
      "\u001B[34m*\u001B[0m\u001B[34m*\u001B[0m\u001B[34m*\u001B[0m\u001B[34m*\u001B[0m\u001B[34m*\u001B[0m\u001B[34m*\u001B[0m\u001B[34m*\u001B[0m\u001B[34m*\u001B[0m\u001B[34m*\u001B[0m\u001B[34m*\u001B[0m\u001B[34m*\u001B[0m\u001B[34m*\u001B[0m\u001B[34m*\u001B[0m\u001B[34m*\u001B[0m\u001B[34m*\u001B[0m\u001B[34m*\u001B[0m\u001B[34m*\u001B[0m\u001B[34m*\u001B[0m\u001B[34m*\u001B[0m\u001B[34m*\u001B[0m\u001B[34m*\u001B[0m\u001B[34m*\u001B[0m\u001B[34m*\u001B[0m\u001B[34m*\u001B[0m\u001B[34m*\u001B[0m\u001B[34m*\u001B[0m\u001B[34m*\u001B[0m\u001B[34m*\u001B[0m\u001B[34m*\u001B[0m\u001B[34m*\u001B[0m\u001B[34m*\u001B[0m\u001B[34m*\u001B[0m\u001B[34m*\u001B[0m\u001B[34m*\u001B[0m\u001B[34m*\u001B[0m\u001B[34m*\u001B[0m\u001B[34m*\u001B[0m\u001B[34m*\u001B[0m\u001B[34m*\u001B[0m\u001B[34m*\u001B[0m\u001B[34m*\u001B[0m\u001B[34m*\u001B[0m\u001B[34m*\u001B[0m\u001B[34m*\u001B[0m\u001B[34m*\u001B[0m\u001B[34m*\u001B[0m\u001B[34m*\u001B[0m\u001B[34m*\u001B[0m\u001B[34m*\u001B[0m\u001B[34m*\u001B[0m\u001B[34m*\u001B[0m\u001B[34m*\u001B[0m\u001B[34m*\u001B[0m\u001B[34m*\u001B[0m\u001B[34m*\u001B[0m\u001B[34m*\u001B[0m\u001B[34m*\u001B[0m\u001B[34m*\u001B[0m\u001B[34m*\u001B[0m\u001B[34m*\u001B[0m\u001B[34m*\u001B[0m\u001B[34m*\u001B[0m\u001B[34m*\u001B[0m\u001B[34m*\u001B[0m\u001B[34m*\u001B[0m\u001B[34m*\u001B[0m\u001B[34m*\u001B[0m\u001B[34m*\u001B[0m\u001B[34m*\u001B[0m\u001B[34m*\u001B[0m\u001B[34m*\u001B[0m\u001B[34m*\u001B[0m\u001B[34m*\u001B[0m\u001B[34m*\u001B[0m\u001B[34m*\u001B[0m\u001B[34m*\u001B[0m\u001B[34m*\u001B[0m\u001B[34m*\u001B[0m\u001B[34m*\u001B[0m\u001B[34m*\u001B[0m\u001B[34m*\u001B[0m\u001B[34m*\u001B[0m\u001B[34m*\u001B[0m\u001B[34m*\u001B[0m\u001B[34m*\u001B[0m\u001B[34m*\u001B[0m\u001B[34m*\u001B[0m\u001B[34m*\u001B[0m\u001B[34m*\u001B[0m\u001B[34m*\u001B[0m\u001B[34m*\u001B[0m\u001B[34m*\u001B[0m\u001B[34m*\u001B[0m\u001B[34m*\u001B[0m\u001B[34m*\u001B[0m\n",
      "\u001B[32m** Rozwiązanie ********************************************************************************\u001B[0m\n"
     ]
    },
    {
     "data": {
      "text/plain": [
       "<IPython.core.display.Latex object>"
      ],
      "text/latex": "$$\\alpha \\approx 45.00^{\\circ},\\  \\beta \\approx 45.00^{\\circ},\\  \\gamma \\approx 90.00^{\\circ}.$$"
     },
     "metadata": {},
     "output_type": "display_data"
    },
    {
     "name": "stdout",
     "output_type": "stream",
     "text": [
      "\u001B[32m*\u001B[0m\u001B[32m*\u001B[0m\u001B[32m*\u001B[0m\u001B[32m*\u001B[0m\u001B[32m*\u001B[0m\u001B[32m*\u001B[0m\u001B[32m*\u001B[0m\u001B[32m*\u001B[0m\u001B[32m*\u001B[0m\u001B[32m*\u001B[0m\u001B[32m*\u001B[0m\u001B[32m*\u001B[0m\u001B[32m*\u001B[0m\u001B[32m*\u001B[0m\u001B[32m*\u001B[0m\u001B[32m*\u001B[0m\u001B[32m*\u001B[0m\u001B[32m*\u001B[0m\u001B[32m*\u001B[0m\u001B[32m*\u001B[0m\u001B[32m*\u001B[0m\u001B[32m*\u001B[0m\u001B[32m*\u001B[0m\u001B[32m*\u001B[0m\u001B[32m*\u001B[0m\u001B[32m*\u001B[0m\u001B[32m*\u001B[0m\u001B[32m*\u001B[0m\u001B[32m*\u001B[0m\u001B[32m*\u001B[0m\u001B[32m*\u001B[0m\u001B[32m*\u001B[0m\u001B[32m*\u001B[0m\u001B[32m*\u001B[0m\u001B[32m*\u001B[0m\u001B[32m*\u001B[0m\u001B[32m*\u001B[0m\u001B[32m*\u001B[0m\u001B[32m*\u001B[0m\u001B[32m*\u001B[0m\u001B[32m*\u001B[0m\u001B[32m*\u001B[0m\u001B[32m*\u001B[0m\u001B[32m*\u001B[0m\u001B[32m*\u001B[0m\u001B[32m*\u001B[0m\u001B[32m*\u001B[0m\u001B[32m*\u001B[0m\u001B[32m*\u001B[0m\u001B[32m*\u001B[0m\u001B[32m*\u001B[0m\u001B[32m*\u001B[0m\u001B[32m*\u001B[0m\u001B[32m*\u001B[0m\u001B[32m*\u001B[0m\u001B[32m*\u001B[0m\u001B[32m*\u001B[0m\u001B[32m*\u001B[0m\u001B[32m*\u001B[0m\u001B[32m*\u001B[0m\u001B[32m*\u001B[0m\u001B[32m*\u001B[0m\u001B[32m*\u001B[0m\u001B[32m*\u001B[0m\u001B[32m*\u001B[0m\u001B[32m*\u001B[0m\u001B[32m*\u001B[0m\u001B[32m*\u001B[0m\u001B[32m*\u001B[0m\u001B[32m*\u001B[0m\u001B[32m*\u001B[0m\u001B[32m*\u001B[0m\u001B[32m*\u001B[0m\u001B[32m*\u001B[0m\u001B[32m*\u001B[0m\u001B[32m*\u001B[0m\u001B[32m*\u001B[0m\u001B[32m*\u001B[0m\u001B[32m*\u001B[0m\u001B[32m*\u001B[0m\u001B[32m*\u001B[0m\u001B[32m*\u001B[0m\u001B[32m*\u001B[0m\u001B[32m*\u001B[0m\u001B[32m*\u001B[0m\u001B[32m*\u001B[0m\u001B[32m*\u001B[0m\u001B[32m*\u001B[0m\u001B[32m*\u001B[0m\u001B[32m*\u001B[0m\u001B[32m*\u001B[0m\u001B[32m*\u001B[0m\u001B[32m*\u001B[0m\u001B[32m*\u001B[0m\u001B[32m*\u001B[0m\n",
      "\u001B[34m** Zadanie 8 **********************************************************************************\u001B[0m\n"
     ]
    },
    {
     "data": {
      "text/plain": [
       "<IPython.core.display.Markdown object>"
      ],
      "text/markdown": "Wyznaczyć miary kątów wewnętrznych trójkąta *ABC*, gdzie"
     },
     "metadata": {},
     "output_type": "display_data"
    },
    {
     "data": {
      "text/plain": [
       "<IPython.core.display.Latex object>"
      ],
      "text/latex": "$$\tA = (2, -2, -3),\\ B = (-3, -2, -2),\\ C = (3, -2, 2)$$"
     },
     "metadata": {},
     "output_type": "display_data"
    },
    {
     "data": {
      "text/plain": [
       "<IPython.core.display.Markdown object>"
      ],
      "text/markdown": "Sprawdzić, czy sumują się do 180°"
     },
     "metadata": {},
     "output_type": "display_data"
    },
    {
     "name": "stdout",
     "output_type": "stream",
     "text": [
      "\u001B[34m*\u001B[0m\u001B[34m*\u001B[0m\u001B[34m*\u001B[0m\u001B[34m*\u001B[0m\u001B[34m*\u001B[0m\u001B[34m*\u001B[0m\u001B[34m*\u001B[0m\u001B[34m*\u001B[0m\u001B[34m*\u001B[0m\u001B[34m*\u001B[0m\u001B[34m*\u001B[0m\u001B[34m*\u001B[0m\u001B[34m*\u001B[0m\u001B[34m*\u001B[0m\u001B[34m*\u001B[0m\u001B[34m*\u001B[0m\u001B[34m*\u001B[0m\u001B[34m*\u001B[0m\u001B[34m*\u001B[0m\u001B[34m*\u001B[0m\u001B[34m*\u001B[0m\u001B[34m*\u001B[0m\u001B[34m*\u001B[0m\u001B[34m*\u001B[0m\u001B[34m*\u001B[0m\u001B[34m*\u001B[0m\u001B[34m*\u001B[0m\u001B[34m*\u001B[0m\u001B[34m*\u001B[0m\u001B[34m*\u001B[0m\u001B[34m*\u001B[0m\u001B[34m*\u001B[0m\u001B[34m*\u001B[0m\u001B[34m*\u001B[0m\u001B[34m*\u001B[0m\u001B[34m*\u001B[0m\u001B[34m*\u001B[0m\u001B[34m*\u001B[0m\u001B[34m*\u001B[0m\u001B[34m*\u001B[0m\u001B[34m*\u001B[0m\u001B[34m*\u001B[0m\u001B[34m*\u001B[0m\u001B[34m*\u001B[0m\u001B[34m*\u001B[0m\u001B[34m*\u001B[0m\u001B[34m*\u001B[0m\u001B[34m*\u001B[0m\u001B[34m*\u001B[0m\u001B[34m*\u001B[0m\u001B[34m*\u001B[0m\u001B[34m*\u001B[0m\u001B[34m*\u001B[0m\u001B[34m*\u001B[0m\u001B[34m*\u001B[0m\u001B[34m*\u001B[0m\u001B[34m*\u001B[0m\u001B[34m*\u001B[0m\u001B[34m*\u001B[0m\u001B[34m*\u001B[0m\u001B[34m*\u001B[0m\u001B[34m*\u001B[0m\u001B[34m*\u001B[0m\u001B[34m*\u001B[0m\u001B[34m*\u001B[0m\u001B[34m*\u001B[0m\u001B[34m*\u001B[0m\u001B[34m*\u001B[0m\u001B[34m*\u001B[0m\u001B[34m*\u001B[0m\u001B[34m*\u001B[0m\u001B[34m*\u001B[0m\u001B[34m*\u001B[0m\u001B[34m*\u001B[0m\u001B[34m*\u001B[0m\u001B[34m*\u001B[0m\u001B[34m*\u001B[0m\u001B[34m*\u001B[0m\u001B[34m*\u001B[0m\u001B[34m*\u001B[0m\u001B[34m*\u001B[0m\u001B[34m*\u001B[0m\u001B[34m*\u001B[0m\u001B[34m*\u001B[0m\u001B[34m*\u001B[0m\u001B[34m*\u001B[0m\u001B[34m*\u001B[0m\u001B[34m*\u001B[0m\u001B[34m*\u001B[0m\u001B[34m*\u001B[0m\u001B[34m*\u001B[0m\u001B[34m*\u001B[0m\u001B[34m*\u001B[0m\u001B[34m*\u001B[0m\u001B[34m*\u001B[0m\n",
      "\u001B[32m** Rozwiązanie ********************************************************************************\u001B[0m\n"
     ]
    },
    {
     "data": {
      "text/plain": [
       "<IPython.core.display.Latex object>"
      ],
      "text/latex": "$$\\alpha \\approx 90.00^{\\circ},\\  \\beta \\approx 45.00^{\\circ},\\  \\gamma \\approx 45.00^{\\circ}.$$"
     },
     "metadata": {},
     "output_type": "display_data"
    },
    {
     "name": "stdout",
     "output_type": "stream",
     "text": [
      "\u001B[32m*\u001B[0m\u001B[32m*\u001B[0m\u001B[32m*\u001B[0m\u001B[32m*\u001B[0m\u001B[32m*\u001B[0m\u001B[32m*\u001B[0m\u001B[32m*\u001B[0m\u001B[32m*\u001B[0m\u001B[32m*\u001B[0m\u001B[32m*\u001B[0m\u001B[32m*\u001B[0m\u001B[32m*\u001B[0m\u001B[32m*\u001B[0m\u001B[32m*\u001B[0m\u001B[32m*\u001B[0m\u001B[32m*\u001B[0m\u001B[32m*\u001B[0m\u001B[32m*\u001B[0m\u001B[32m*\u001B[0m\u001B[32m*\u001B[0m\u001B[32m*\u001B[0m\u001B[32m*\u001B[0m\u001B[32m*\u001B[0m\u001B[32m*\u001B[0m\u001B[32m*\u001B[0m\u001B[32m*\u001B[0m\u001B[32m*\u001B[0m\u001B[32m*\u001B[0m\u001B[32m*\u001B[0m\u001B[32m*\u001B[0m\u001B[32m*\u001B[0m\u001B[32m*\u001B[0m\u001B[32m*\u001B[0m\u001B[32m*\u001B[0m\u001B[32m*\u001B[0m\u001B[32m*\u001B[0m\u001B[32m*\u001B[0m\u001B[32m*\u001B[0m\u001B[32m*\u001B[0m\u001B[32m*\u001B[0m\u001B[32m*\u001B[0m\u001B[32m*\u001B[0m\u001B[32m*\u001B[0m\u001B[32m*\u001B[0m\u001B[32m*\u001B[0m\u001B[32m*\u001B[0m\u001B[32m*\u001B[0m\u001B[32m*\u001B[0m\u001B[32m*\u001B[0m\u001B[32m*\u001B[0m\u001B[32m*\u001B[0m\u001B[32m*\u001B[0m\u001B[32m*\u001B[0m\u001B[32m*\u001B[0m\u001B[32m*\u001B[0m\u001B[32m*\u001B[0m\u001B[32m*\u001B[0m\u001B[32m*\u001B[0m\u001B[32m*\u001B[0m\u001B[32m*\u001B[0m\u001B[32m*\u001B[0m\u001B[32m*\u001B[0m\u001B[32m*\u001B[0m\u001B[32m*\u001B[0m\u001B[32m*\u001B[0m\u001B[32m*\u001B[0m\u001B[32m*\u001B[0m\u001B[32m*\u001B[0m\u001B[32m*\u001B[0m\u001B[32m*\u001B[0m\u001B[32m*\u001B[0m\u001B[32m*\u001B[0m\u001B[32m*\u001B[0m\u001B[32m*\u001B[0m\u001B[32m*\u001B[0m\u001B[32m*\u001B[0m\u001B[32m*\u001B[0m\u001B[32m*\u001B[0m\u001B[32m*\u001B[0m\u001B[32m*\u001B[0m\u001B[32m*\u001B[0m\u001B[32m*\u001B[0m\u001B[32m*\u001B[0m\u001B[32m*\u001B[0m\u001B[32m*\u001B[0m\u001B[32m*\u001B[0m\u001B[32m*\u001B[0m\u001B[32m*\u001B[0m\u001B[32m*\u001B[0m\u001B[32m*\u001B[0m\u001B[32m*\u001B[0m\u001B[32m*\u001B[0m\u001B[32m*\u001B[0m\u001B[32m*\u001B[0m\u001B[32m*\u001B[0m\n",
      "\u001B[34m** Zadanie 9 **********************************************************************************\u001B[0m\n"
     ]
    },
    {
     "data": {
      "text/plain": [
       "<IPython.core.display.Markdown object>"
      ],
      "text/markdown": "Wyznaczyć miary kątów wewnętrznych trójkąta *ABC*, gdzie"
     },
     "metadata": {},
     "output_type": "display_data"
    },
    {
     "data": {
      "text/plain": [
       "<IPython.core.display.Latex object>"
      ],
      "text/latex": "$$\tA = (-2, 3, 1),\\ B = (-3, -3, -3),\\ C = (1, -3, 5)$$"
     },
     "metadata": {},
     "output_type": "display_data"
    },
    {
     "data": {
      "text/plain": [
       "<IPython.core.display.Markdown object>"
      ],
      "text/markdown": "Sprawdzić, czy sumują się do 180°"
     },
     "metadata": {},
     "output_type": "display_data"
    },
    {
     "name": "stdout",
     "output_type": "stream",
     "text": [
      "\u001B[34m*\u001B[0m\u001B[34m*\u001B[0m\u001B[34m*\u001B[0m\u001B[34m*\u001B[0m\u001B[34m*\u001B[0m\u001B[34m*\u001B[0m\u001B[34m*\u001B[0m\u001B[34m*\u001B[0m\u001B[34m*\u001B[0m\u001B[34m*\u001B[0m\u001B[34m*\u001B[0m\u001B[34m*\u001B[0m\u001B[34m*\u001B[0m\u001B[34m*\u001B[0m\u001B[34m*\u001B[0m\u001B[34m*\u001B[0m\u001B[34m*\u001B[0m\u001B[34m*\u001B[0m\u001B[34m*\u001B[0m\u001B[34m*\u001B[0m\u001B[34m*\u001B[0m\u001B[34m*\u001B[0m\u001B[34m*\u001B[0m\u001B[34m*\u001B[0m\u001B[34m*\u001B[0m\u001B[34m*\u001B[0m\u001B[34m*\u001B[0m\u001B[34m*\u001B[0m\u001B[34m*\u001B[0m\u001B[34m*\u001B[0m\u001B[34m*\u001B[0m\u001B[34m*\u001B[0m\u001B[34m*\u001B[0m\u001B[34m*\u001B[0m\u001B[34m*\u001B[0m\u001B[34m*\u001B[0m\u001B[34m*\u001B[0m\u001B[34m*\u001B[0m\u001B[34m*\u001B[0m\u001B[34m*\u001B[0m\u001B[34m*\u001B[0m\u001B[34m*\u001B[0m\u001B[34m*\u001B[0m\u001B[34m*\u001B[0m\u001B[34m*\u001B[0m\u001B[34m*\u001B[0m\u001B[34m*\u001B[0m\u001B[34m*\u001B[0m\u001B[34m*\u001B[0m\u001B[34m*\u001B[0m\u001B[34m*\u001B[0m\u001B[34m*\u001B[0m\u001B[34m*\u001B[0m\u001B[34m*\u001B[0m\u001B[34m*\u001B[0m\u001B[34m*\u001B[0m\u001B[34m*\u001B[0m\u001B[34m*\u001B[0m\u001B[34m*\u001B[0m\u001B[34m*\u001B[0m\u001B[34m*\u001B[0m\u001B[34m*\u001B[0m\u001B[34m*\u001B[0m\u001B[34m*\u001B[0m\u001B[34m*\u001B[0m\u001B[34m*\u001B[0m\u001B[34m*\u001B[0m\u001B[34m*\u001B[0m\u001B[34m*\u001B[0m\u001B[34m*\u001B[0m\u001B[34m*\u001B[0m\u001B[34m*\u001B[0m\u001B[34m*\u001B[0m\u001B[34m*\u001B[0m\u001B[34m*\u001B[0m\u001B[34m*\u001B[0m\u001B[34m*\u001B[0m\u001B[34m*\u001B[0m\u001B[34m*\u001B[0m\u001B[34m*\u001B[0m\u001B[34m*\u001B[0m\u001B[34m*\u001B[0m\u001B[34m*\u001B[0m\u001B[34m*\u001B[0m\u001B[34m*\u001B[0m\u001B[34m*\u001B[0m\u001B[34m*\u001B[0m\u001B[34m*\u001B[0m\u001B[34m*\u001B[0m\u001B[34m*\u001B[0m\u001B[34m*\u001B[0m\u001B[34m*\u001B[0m\u001B[34m*\u001B[0m\u001B[34m*\u001B[0m\u001B[34m*\u001B[0m\n",
      "\u001B[32m** Rozwiązanie ********************************************************************************\u001B[0m\n"
     ]
    },
    {
     "data": {
      "text/plain": [
       "<IPython.core.display.Latex object>"
      ],
      "text/latex": "$$\\alpha \\approx 72.60^{\\circ},\\  \\beta \\approx 56.44^{\\circ},\\  \\gamma \\approx 50.96^{\\circ}.$$"
     },
     "metadata": {},
     "output_type": "display_data"
    },
    {
     "name": "stdout",
     "output_type": "stream",
     "text": [
      "\u001B[32m*\u001B[0m\u001B[32m*\u001B[0m\u001B[32m*\u001B[0m\u001B[32m*\u001B[0m\u001B[32m*\u001B[0m\u001B[32m*\u001B[0m\u001B[32m*\u001B[0m\u001B[32m*\u001B[0m\u001B[32m*\u001B[0m\u001B[32m*\u001B[0m\u001B[32m*\u001B[0m\u001B[32m*\u001B[0m\u001B[32m*\u001B[0m\u001B[32m*\u001B[0m\u001B[32m*\u001B[0m\u001B[32m*\u001B[0m\u001B[32m*\u001B[0m\u001B[32m*\u001B[0m\u001B[32m*\u001B[0m\u001B[32m*\u001B[0m\u001B[32m*\u001B[0m\u001B[32m*\u001B[0m\u001B[32m*\u001B[0m\u001B[32m*\u001B[0m\u001B[32m*\u001B[0m\u001B[32m*\u001B[0m\u001B[32m*\u001B[0m\u001B[32m*\u001B[0m\u001B[32m*\u001B[0m\u001B[32m*\u001B[0m\u001B[32m*\u001B[0m\u001B[32m*\u001B[0m\u001B[32m*\u001B[0m\u001B[32m*\u001B[0m\u001B[32m*\u001B[0m\u001B[32m*\u001B[0m\u001B[32m*\u001B[0m\u001B[32m*\u001B[0m\u001B[32m*\u001B[0m\u001B[32m*\u001B[0m\u001B[32m*\u001B[0m\u001B[32m*\u001B[0m\u001B[32m*\u001B[0m\u001B[32m*\u001B[0m\u001B[32m*\u001B[0m\u001B[32m*\u001B[0m\u001B[32m*\u001B[0m\u001B[32m*\u001B[0m\u001B[32m*\u001B[0m\u001B[32m*\u001B[0m\u001B[32m*\u001B[0m\u001B[32m*\u001B[0m\u001B[32m*\u001B[0m\u001B[32m*\u001B[0m\u001B[32m*\u001B[0m\u001B[32m*\u001B[0m\u001B[32m*\u001B[0m\u001B[32m*\u001B[0m\u001B[32m*\u001B[0m\u001B[32m*\u001B[0m\u001B[32m*\u001B[0m\u001B[32m*\u001B[0m\u001B[32m*\u001B[0m\u001B[32m*\u001B[0m\u001B[32m*\u001B[0m\u001B[32m*\u001B[0m\u001B[32m*\u001B[0m\u001B[32m*\u001B[0m\u001B[32m*\u001B[0m\u001B[32m*\u001B[0m\u001B[32m*\u001B[0m\u001B[32m*\u001B[0m\u001B[32m*\u001B[0m\u001B[32m*\u001B[0m\u001B[32m*\u001B[0m\u001B[32m*\u001B[0m\u001B[32m*\u001B[0m\u001B[32m*\u001B[0m\u001B[32m*\u001B[0m\u001B[32m*\u001B[0m\u001B[32m*\u001B[0m\u001B[32m*\u001B[0m\u001B[32m*\u001B[0m\u001B[32m*\u001B[0m\u001B[32m*\u001B[0m\u001B[32m*\u001B[0m\u001B[32m*\u001B[0m\u001B[32m*\u001B[0m\u001B[32m*\u001B[0m\u001B[32m*\u001B[0m\u001B[32m*\u001B[0m\u001B[32m*\u001B[0m\u001B[32m*\u001B[0m\u001B[32m*\u001B[0m\u001B[32m*\u001B[0m\n",
      "\u001B[34m** Zadanie 10 **********************************************************************************\u001B[0m\n"
     ]
    },
    {
     "data": {
      "text/plain": [
       "<IPython.core.display.Markdown object>"
      ],
      "text/markdown": "Wyznaczyć miary kątów wewnętrznych trójkąta *ABC*, gdzie"
     },
     "metadata": {},
     "output_type": "display_data"
    },
    {
     "data": {
      "text/plain": [
       "<IPython.core.display.Latex object>"
      ],
      "text/latex": "$$\tA = (4, 2, 5),\\ B = (2, -1, 3),\\ C = (1, 3, -2)$$"
     },
     "metadata": {},
     "output_type": "display_data"
    },
    {
     "data": {
      "text/plain": [
       "<IPython.core.display.Markdown object>"
      ],
      "text/markdown": "Sprawdzić, czy sumują się do 180°"
     },
     "metadata": {},
     "output_type": "display_data"
    },
    {
     "name": "stdout",
     "output_type": "stream",
     "text": [
      "\u001B[34m*\u001B[0m\u001B[34m*\u001B[0m\u001B[34m*\u001B[0m\u001B[34m*\u001B[0m\u001B[34m*\u001B[0m\u001B[34m*\u001B[0m\u001B[34m*\u001B[0m\u001B[34m*\u001B[0m\u001B[34m*\u001B[0m\u001B[34m*\u001B[0m\u001B[34m*\u001B[0m\u001B[34m*\u001B[0m\u001B[34m*\u001B[0m\u001B[34m*\u001B[0m\u001B[34m*\u001B[0m\u001B[34m*\u001B[0m\u001B[34m*\u001B[0m\u001B[34m*\u001B[0m\u001B[34m*\u001B[0m\u001B[34m*\u001B[0m\u001B[34m*\u001B[0m\u001B[34m*\u001B[0m\u001B[34m*\u001B[0m\u001B[34m*\u001B[0m\u001B[34m*\u001B[0m\u001B[34m*\u001B[0m\u001B[34m*\u001B[0m\u001B[34m*\u001B[0m\u001B[34m*\u001B[0m\u001B[34m*\u001B[0m\u001B[34m*\u001B[0m\u001B[34m*\u001B[0m\u001B[34m*\u001B[0m\u001B[34m*\u001B[0m\u001B[34m*\u001B[0m\u001B[34m*\u001B[0m\u001B[34m*\u001B[0m\u001B[34m*\u001B[0m\u001B[34m*\u001B[0m\u001B[34m*\u001B[0m\u001B[34m*\u001B[0m\u001B[34m*\u001B[0m\u001B[34m*\u001B[0m\u001B[34m*\u001B[0m\u001B[34m*\u001B[0m\u001B[34m*\u001B[0m\u001B[34m*\u001B[0m\u001B[34m*\u001B[0m\u001B[34m*\u001B[0m\u001B[34m*\u001B[0m\u001B[34m*\u001B[0m\u001B[34m*\u001B[0m\u001B[34m*\u001B[0m\u001B[34m*\u001B[0m\u001B[34m*\u001B[0m\u001B[34m*\u001B[0m\u001B[34m*\u001B[0m\u001B[34m*\u001B[0m\u001B[34m*\u001B[0m\u001B[34m*\u001B[0m\u001B[34m*\u001B[0m\u001B[34m*\u001B[0m\u001B[34m*\u001B[0m\u001B[34m*\u001B[0m\u001B[34m*\u001B[0m\u001B[34m*\u001B[0m\u001B[34m*\u001B[0m\u001B[34m*\u001B[0m\u001B[34m*\u001B[0m\u001B[34m*\u001B[0m\u001B[34m*\u001B[0m\u001B[34m*\u001B[0m\u001B[34m*\u001B[0m\u001B[34m*\u001B[0m\u001B[34m*\u001B[0m\u001B[34m*\u001B[0m\u001B[34m*\u001B[0m\u001B[34m*\u001B[0m\u001B[34m*\u001B[0m\u001B[34m*\u001B[0m\u001B[34m*\u001B[0m\u001B[34m*\u001B[0m\u001B[34m*\u001B[0m\u001B[34m*\u001B[0m\u001B[34m*\u001B[0m\u001B[34m*\u001B[0m\u001B[34m*\u001B[0m\u001B[34m*\u001B[0m\u001B[34m*\u001B[0m\u001B[34m*\u001B[0m\u001B[34m*\u001B[0m\u001B[34m*\u001B[0m\u001B[34m*\u001B[0m\u001B[34m*\u001B[0m\u001B[34m*\u001B[0m\n",
      "\u001B[32m** Rozwiązanie ********************************************************************************\u001B[0m\n"
     ]
    },
    {
     "data": {
      "text/plain": [
       "<IPython.core.display.Latex object>"
      ],
      "text/latex": "$$\\alpha \\approx 57.54^{\\circ},\\  \\beta \\approx 90.00^{\\circ},\\  \\gamma \\approx 32.46^{\\circ}.$$"
     },
     "metadata": {},
     "output_type": "display_data"
    },
    {
     "name": "stdout",
     "output_type": "stream",
     "text": [
      "\u001B[32m*\u001B[0m\u001B[32m*\u001B[0m\u001B[32m*\u001B[0m\u001B[32m*\u001B[0m\u001B[32m*\u001B[0m\u001B[32m*\u001B[0m\u001B[32m*\u001B[0m\u001B[32m*\u001B[0m\u001B[32m*\u001B[0m\u001B[32m*\u001B[0m\u001B[32m*\u001B[0m\u001B[32m*\u001B[0m\u001B[32m*\u001B[0m\u001B[32m*\u001B[0m\u001B[32m*\u001B[0m\u001B[32m*\u001B[0m\u001B[32m*\u001B[0m\u001B[32m*\u001B[0m\u001B[32m*\u001B[0m\u001B[32m*\u001B[0m\u001B[32m*\u001B[0m\u001B[32m*\u001B[0m\u001B[32m*\u001B[0m\u001B[32m*\u001B[0m\u001B[32m*\u001B[0m\u001B[32m*\u001B[0m\u001B[32m*\u001B[0m\u001B[32m*\u001B[0m\u001B[32m*\u001B[0m\u001B[32m*\u001B[0m\u001B[32m*\u001B[0m\u001B[32m*\u001B[0m\u001B[32m*\u001B[0m\u001B[32m*\u001B[0m\u001B[32m*\u001B[0m\u001B[32m*\u001B[0m\u001B[32m*\u001B[0m\u001B[32m*\u001B[0m\u001B[32m*\u001B[0m\u001B[32m*\u001B[0m\u001B[32m*\u001B[0m\u001B[32m*\u001B[0m\u001B[32m*\u001B[0m\u001B[32m*\u001B[0m\u001B[32m*\u001B[0m\u001B[32m*\u001B[0m\u001B[32m*\u001B[0m\u001B[32m*\u001B[0m\u001B[32m*\u001B[0m\u001B[32m*\u001B[0m\u001B[32m*\u001B[0m\u001B[32m*\u001B[0m\u001B[32m*\u001B[0m\u001B[32m*\u001B[0m\u001B[32m*\u001B[0m\u001B[32m*\u001B[0m\u001B[32m*\u001B[0m\u001B[32m*\u001B[0m\u001B[32m*\u001B[0m\u001B[32m*\u001B[0m\u001B[32m*\u001B[0m\u001B[32m*\u001B[0m\u001B[32m*\u001B[0m\u001B[32m*\u001B[0m\u001B[32m*\u001B[0m\u001B[32m*\u001B[0m\u001B[32m*\u001B[0m\u001B[32m*\u001B[0m\u001B[32m*\u001B[0m\u001B[32m*\u001B[0m\u001B[32m*\u001B[0m\u001B[32m*\u001B[0m\u001B[32m*\u001B[0m\u001B[32m*\u001B[0m\u001B[32m*\u001B[0m\u001B[32m*\u001B[0m\u001B[32m*\u001B[0m\u001B[32m*\u001B[0m\u001B[32m*\u001B[0m\u001B[32m*\u001B[0m\u001B[32m*\u001B[0m\u001B[32m*\u001B[0m\u001B[32m*\u001B[0m\u001B[32m*\u001B[0m\u001B[32m*\u001B[0m\u001B[32m*\u001B[0m\u001B[32m*\u001B[0m\u001B[32m*\u001B[0m\u001B[32m*\u001B[0m\u001B[32m*\u001B[0m\u001B[32m*\u001B[0m\u001B[32m*\u001B[0m\u001B[32m*\u001B[0m\u001B[32m*\u001B[0m\u001B[32m*\u001B[0m\n"
     ]
    }
   ],
   "execution_count": 135
  },
  {
   "metadata": {},
   "cell_type": "markdown",
   "source": "## Pole trójkąta",
   "id": "394a2d69103bef28"
  },
  {
   "metadata": {
    "ExecuteTime": {
     "end_time": "2024-09-15T18:31:40.783105Z",
     "start_time": "2024-09-15T18:31:40.750168Z"
    }
   },
   "cell_type": "code",
   "source": [
    "zadanie = gz.pole_trojkata(calkowite=choice([False, True]))\n",
    "zadanie"
   ],
   "id": "23aeacb16a3ef397",
   "outputs": [
    {
     "data": {
      "text/plain": [
       "('Wyznaczyć pole trójkąta $ABC$ oraz długość wysokości opuszczonej z wierzchołka C dla\\n\\t\\\\[\\n\\t\\tA = (-2, 3, 1),\\\\ B = (4, -3, 1),\\\\ C = (1, 1, 3)\\n\\t\\\\]',\n",
       " '$P=9,\\\\ \\\\ h_C=\\\\frac{3 \\\\sqrt{2}}{2}$')"
      ]
     },
     "execution_count": 136,
     "metadata": {},
     "output_type": "execute_result"
    }
   ],
   "execution_count": 136
  },
  {
   "metadata": {
    "ExecuteTime": {
     "end_time": "2024-09-15T18:31:40.908407Z",
     "start_time": "2024-09-15T18:31:40.903017Z"
    }
   },
   "cell_type": "code",
   "source": [
    "print(\"\\033[34m** Zadanie **\" + '*' * 81 + '\\033[0m')\n",
    "print(zadanie[0])\n",
    "print(\"\\033[34m*\\033[0m\" * 95)\n",
    "print(\"\\033[32m** Rozwiązanie **\" + '*' * 78 + '\\033[0m')\n",
    "print(zadanie[1])\n",
    "print(\"\\033[32m*\\033[0m\" * 95)"
   ],
   "id": "80166de1163357a5",
   "outputs": [
    {
     "name": "stdout",
     "output_type": "stream",
     "text": [
      "\u001B[34m** Zadanie ***********************************************************************************\u001B[0m\n",
      "Wyznaczyć pole trójkąta $ABC$ oraz długość wysokości opuszczonej z wierzchołka C dla\n",
      "\t\\[\n",
      "\t\tA = (-2, 3, 1),\\ B = (4, -3, 1),\\ C = (1, 1, 3)\n",
      "\t\\]\n",
      "\u001B[34m*\u001B[0m\u001B[34m*\u001B[0m\u001B[34m*\u001B[0m\u001B[34m*\u001B[0m\u001B[34m*\u001B[0m\u001B[34m*\u001B[0m\u001B[34m*\u001B[0m\u001B[34m*\u001B[0m\u001B[34m*\u001B[0m\u001B[34m*\u001B[0m\u001B[34m*\u001B[0m\u001B[34m*\u001B[0m\u001B[34m*\u001B[0m\u001B[34m*\u001B[0m\u001B[34m*\u001B[0m\u001B[34m*\u001B[0m\u001B[34m*\u001B[0m\u001B[34m*\u001B[0m\u001B[34m*\u001B[0m\u001B[34m*\u001B[0m\u001B[34m*\u001B[0m\u001B[34m*\u001B[0m\u001B[34m*\u001B[0m\u001B[34m*\u001B[0m\u001B[34m*\u001B[0m\u001B[34m*\u001B[0m\u001B[34m*\u001B[0m\u001B[34m*\u001B[0m\u001B[34m*\u001B[0m\u001B[34m*\u001B[0m\u001B[34m*\u001B[0m\u001B[34m*\u001B[0m\u001B[34m*\u001B[0m\u001B[34m*\u001B[0m\u001B[34m*\u001B[0m\u001B[34m*\u001B[0m\u001B[34m*\u001B[0m\u001B[34m*\u001B[0m\u001B[34m*\u001B[0m\u001B[34m*\u001B[0m\u001B[34m*\u001B[0m\u001B[34m*\u001B[0m\u001B[34m*\u001B[0m\u001B[34m*\u001B[0m\u001B[34m*\u001B[0m\u001B[34m*\u001B[0m\u001B[34m*\u001B[0m\u001B[34m*\u001B[0m\u001B[34m*\u001B[0m\u001B[34m*\u001B[0m\u001B[34m*\u001B[0m\u001B[34m*\u001B[0m\u001B[34m*\u001B[0m\u001B[34m*\u001B[0m\u001B[34m*\u001B[0m\u001B[34m*\u001B[0m\u001B[34m*\u001B[0m\u001B[34m*\u001B[0m\u001B[34m*\u001B[0m\u001B[34m*\u001B[0m\u001B[34m*\u001B[0m\u001B[34m*\u001B[0m\u001B[34m*\u001B[0m\u001B[34m*\u001B[0m\u001B[34m*\u001B[0m\u001B[34m*\u001B[0m\u001B[34m*\u001B[0m\u001B[34m*\u001B[0m\u001B[34m*\u001B[0m\u001B[34m*\u001B[0m\u001B[34m*\u001B[0m\u001B[34m*\u001B[0m\u001B[34m*\u001B[0m\u001B[34m*\u001B[0m\u001B[34m*\u001B[0m\u001B[34m*\u001B[0m\u001B[34m*\u001B[0m\u001B[34m*\u001B[0m\u001B[34m*\u001B[0m\u001B[34m*\u001B[0m\u001B[34m*\u001B[0m\u001B[34m*\u001B[0m\u001B[34m*\u001B[0m\u001B[34m*\u001B[0m\u001B[34m*\u001B[0m\u001B[34m*\u001B[0m\u001B[34m*\u001B[0m\u001B[34m*\u001B[0m\u001B[34m*\u001B[0m\u001B[34m*\u001B[0m\u001B[34m*\u001B[0m\u001B[34m*\u001B[0m\u001B[34m*\u001B[0m\u001B[34m*\u001B[0m\u001B[34m*\u001B[0m\n",
      "\u001B[32m** Rozwiązanie ********************************************************************************\u001B[0m\n",
      "$P=9,\\ \\ h_C=\\frac{3 \\sqrt{2}}{2}$\n",
      "\u001B[32m*\u001B[0m\u001B[32m*\u001B[0m\u001B[32m*\u001B[0m\u001B[32m*\u001B[0m\u001B[32m*\u001B[0m\u001B[32m*\u001B[0m\u001B[32m*\u001B[0m\u001B[32m*\u001B[0m\u001B[32m*\u001B[0m\u001B[32m*\u001B[0m\u001B[32m*\u001B[0m\u001B[32m*\u001B[0m\u001B[32m*\u001B[0m\u001B[32m*\u001B[0m\u001B[32m*\u001B[0m\u001B[32m*\u001B[0m\u001B[32m*\u001B[0m\u001B[32m*\u001B[0m\u001B[32m*\u001B[0m\u001B[32m*\u001B[0m\u001B[32m*\u001B[0m\u001B[32m*\u001B[0m\u001B[32m*\u001B[0m\u001B[32m*\u001B[0m\u001B[32m*\u001B[0m\u001B[32m*\u001B[0m\u001B[32m*\u001B[0m\u001B[32m*\u001B[0m\u001B[32m*\u001B[0m\u001B[32m*\u001B[0m\u001B[32m*\u001B[0m\u001B[32m*\u001B[0m\u001B[32m*\u001B[0m\u001B[32m*\u001B[0m\u001B[32m*\u001B[0m\u001B[32m*\u001B[0m\u001B[32m*\u001B[0m\u001B[32m*\u001B[0m\u001B[32m*\u001B[0m\u001B[32m*\u001B[0m\u001B[32m*\u001B[0m\u001B[32m*\u001B[0m\u001B[32m*\u001B[0m\u001B[32m*\u001B[0m\u001B[32m*\u001B[0m\u001B[32m*\u001B[0m\u001B[32m*\u001B[0m\u001B[32m*\u001B[0m\u001B[32m*\u001B[0m\u001B[32m*\u001B[0m\u001B[32m*\u001B[0m\u001B[32m*\u001B[0m\u001B[32m*\u001B[0m\u001B[32m*\u001B[0m\u001B[32m*\u001B[0m\u001B[32m*\u001B[0m\u001B[32m*\u001B[0m\u001B[32m*\u001B[0m\u001B[32m*\u001B[0m\u001B[32m*\u001B[0m\u001B[32m*\u001B[0m\u001B[32m*\u001B[0m\u001B[32m*\u001B[0m\u001B[32m*\u001B[0m\u001B[32m*\u001B[0m\u001B[32m*\u001B[0m\u001B[32m*\u001B[0m\u001B[32m*\u001B[0m\u001B[32m*\u001B[0m\u001B[32m*\u001B[0m\u001B[32m*\u001B[0m\u001B[32m*\u001B[0m\u001B[32m*\u001B[0m\u001B[32m*\u001B[0m\u001B[32m*\u001B[0m\u001B[32m*\u001B[0m\u001B[32m*\u001B[0m\u001B[32m*\u001B[0m\u001B[32m*\u001B[0m\u001B[32m*\u001B[0m\u001B[32m*\u001B[0m\u001B[32m*\u001B[0m\u001B[32m*\u001B[0m\u001B[32m*\u001B[0m\u001B[32m*\u001B[0m\u001B[32m*\u001B[0m\u001B[32m*\u001B[0m\u001B[32m*\u001B[0m\u001B[32m*\u001B[0m\u001B[32m*\u001B[0m\u001B[32m*\u001B[0m\u001B[32m*\u001B[0m\u001B[32m*\u001B[0m\u001B[32m*\u001B[0m\u001B[32m*\u001B[0m\n"
     ]
    }
   ],
   "execution_count": 137
  },
  {
   "metadata": {
    "ExecuteTime": {
     "end_time": "2024-09-15T18:31:43.955036Z",
     "start_time": "2024-09-15T18:31:41.008217Z"
    }
   },
   "cell_type": "code",
   "source": [
    "for i in range(1, ile_zadan_przykladowych + 1):\n",
    "    zadanie = gz.pole_trojkata(calkowite=choice([False, True]))\n",
    "    print(f\"\\033[34m** Zadanie {i} **\" + '*' * 80 + '\\033[0m')\n",
    "    display(Markdown(\n",
    "        f'Wyznaczyć pole  trójkąta *ABC* oraz długość wysokości opuszczonej z wierzchołka *{zadanie[0].split(\"ka \")[1].split(\" dla\")[0]}*' + ' dla'))\n",
    "    display(Latex('$$' + (zadanie[0].split('\\n\\t')[2]) + '$$'))\n",
    "    print(\"\\033[34m*\\033[0m\" * 95)\n",
    "    print(\"\\033[32m** Rozwiązanie **\" + '*' * 78 + '\\033[0m')\n",
    "    display(Latex('$' + zadanie[1].replace('\\\\ \\\\', '\\qquad') + '$'))\n",
    "    print(\"\\033[32m*\\033[0m\" * 95)"
   ],
   "id": "80a239ccb5d58e1a",
   "outputs": [
    {
     "name": "stdout",
     "output_type": "stream",
     "text": [
      "\u001B[34m** Zadanie 1 **********************************************************************************\u001B[0m\n"
     ]
    },
    {
     "data": {
      "text/plain": [
       "<IPython.core.display.Markdown object>"
      ],
      "text/markdown": "Wyznaczyć pole  trójkąta *ABC* oraz długość wysokości opuszczonej z wierzchołka *A* dla"
     },
     "metadata": {},
     "output_type": "display_data"
    },
    {
     "data": {
      "text/plain": [
       "<IPython.core.display.Latex object>"
      ],
      "text/latex": "$$\tA = (5, 3, 4),\\ B = (5, 2, -3),\\ C = (5, 2, 3)$$"
     },
     "metadata": {},
     "output_type": "display_data"
    },
    {
     "name": "stdout",
     "output_type": "stream",
     "text": [
      "\u001B[34m*\u001B[0m\u001B[34m*\u001B[0m\u001B[34m*\u001B[0m\u001B[34m*\u001B[0m\u001B[34m*\u001B[0m\u001B[34m*\u001B[0m\u001B[34m*\u001B[0m\u001B[34m*\u001B[0m\u001B[34m*\u001B[0m\u001B[34m*\u001B[0m\u001B[34m*\u001B[0m\u001B[34m*\u001B[0m\u001B[34m*\u001B[0m\u001B[34m*\u001B[0m\u001B[34m*\u001B[0m\u001B[34m*\u001B[0m\u001B[34m*\u001B[0m\u001B[34m*\u001B[0m\u001B[34m*\u001B[0m\u001B[34m*\u001B[0m\u001B[34m*\u001B[0m\u001B[34m*\u001B[0m\u001B[34m*\u001B[0m\u001B[34m*\u001B[0m\u001B[34m*\u001B[0m\u001B[34m*\u001B[0m\u001B[34m*\u001B[0m\u001B[34m*\u001B[0m\u001B[34m*\u001B[0m\u001B[34m*\u001B[0m\u001B[34m*\u001B[0m\u001B[34m*\u001B[0m\u001B[34m*\u001B[0m\u001B[34m*\u001B[0m\u001B[34m*\u001B[0m\u001B[34m*\u001B[0m\u001B[34m*\u001B[0m\u001B[34m*\u001B[0m\u001B[34m*\u001B[0m\u001B[34m*\u001B[0m\u001B[34m*\u001B[0m\u001B[34m*\u001B[0m\u001B[34m*\u001B[0m\u001B[34m*\u001B[0m\u001B[34m*\u001B[0m\u001B[34m*\u001B[0m\u001B[34m*\u001B[0m\u001B[34m*\u001B[0m\u001B[34m*\u001B[0m\u001B[34m*\u001B[0m\u001B[34m*\u001B[0m\u001B[34m*\u001B[0m\u001B[34m*\u001B[0m\u001B[34m*\u001B[0m\u001B[34m*\u001B[0m\u001B[34m*\u001B[0m\u001B[34m*\u001B[0m\u001B[34m*\u001B[0m\u001B[34m*\u001B[0m\u001B[34m*\u001B[0m\u001B[34m*\u001B[0m\u001B[34m*\u001B[0m\u001B[34m*\u001B[0m\u001B[34m*\u001B[0m\u001B[34m*\u001B[0m\u001B[34m*\u001B[0m\u001B[34m*\u001B[0m\u001B[34m*\u001B[0m\u001B[34m*\u001B[0m\u001B[34m*\u001B[0m\u001B[34m*\u001B[0m\u001B[34m*\u001B[0m\u001B[34m*\u001B[0m\u001B[34m*\u001B[0m\u001B[34m*\u001B[0m\u001B[34m*\u001B[0m\u001B[34m*\u001B[0m\u001B[34m*\u001B[0m\u001B[34m*\u001B[0m\u001B[34m*\u001B[0m\u001B[34m*\u001B[0m\u001B[34m*\u001B[0m\u001B[34m*\u001B[0m\u001B[34m*\u001B[0m\u001B[34m*\u001B[0m\u001B[34m*\u001B[0m\u001B[34m*\u001B[0m\u001B[34m*\u001B[0m\u001B[34m*\u001B[0m\u001B[34m*\u001B[0m\u001B[34m*\u001B[0m\u001B[34m*\u001B[0m\u001B[34m*\u001B[0m\u001B[34m*\u001B[0m\u001B[34m*\u001B[0m\n",
      "\u001B[32m** Rozwiązanie ********************************************************************************\u001B[0m\n"
     ]
    },
    {
     "data": {
      "text/plain": [
       "<IPython.core.display.Latex object>"
      ],
      "text/latex": "$$P=3,\\qquad h_A=1$$"
     },
     "metadata": {},
     "output_type": "display_data"
    },
    {
     "name": "stdout",
     "output_type": "stream",
     "text": [
      "\u001B[32m*\u001B[0m\u001B[32m*\u001B[0m\u001B[32m*\u001B[0m\u001B[32m*\u001B[0m\u001B[32m*\u001B[0m\u001B[32m*\u001B[0m\u001B[32m*\u001B[0m\u001B[32m*\u001B[0m\u001B[32m*\u001B[0m\u001B[32m*\u001B[0m\u001B[32m*\u001B[0m\u001B[32m*\u001B[0m\u001B[32m*\u001B[0m\u001B[32m*\u001B[0m\u001B[32m*\u001B[0m\u001B[32m*\u001B[0m\u001B[32m*\u001B[0m\u001B[32m*\u001B[0m\u001B[32m*\u001B[0m\u001B[32m*\u001B[0m\u001B[32m*\u001B[0m\u001B[32m*\u001B[0m\u001B[32m*\u001B[0m\u001B[32m*\u001B[0m\u001B[32m*\u001B[0m\u001B[32m*\u001B[0m\u001B[32m*\u001B[0m\u001B[32m*\u001B[0m\u001B[32m*\u001B[0m\u001B[32m*\u001B[0m\u001B[32m*\u001B[0m\u001B[32m*\u001B[0m\u001B[32m*\u001B[0m\u001B[32m*\u001B[0m\u001B[32m*\u001B[0m\u001B[32m*\u001B[0m\u001B[32m*\u001B[0m\u001B[32m*\u001B[0m\u001B[32m*\u001B[0m\u001B[32m*\u001B[0m\u001B[32m*\u001B[0m\u001B[32m*\u001B[0m\u001B[32m*\u001B[0m\u001B[32m*\u001B[0m\u001B[32m*\u001B[0m\u001B[32m*\u001B[0m\u001B[32m*\u001B[0m\u001B[32m*\u001B[0m\u001B[32m*\u001B[0m\u001B[32m*\u001B[0m\u001B[32m*\u001B[0m\u001B[32m*\u001B[0m\u001B[32m*\u001B[0m\u001B[32m*\u001B[0m\u001B[32m*\u001B[0m\u001B[32m*\u001B[0m\u001B[32m*\u001B[0m\u001B[32m*\u001B[0m\u001B[32m*\u001B[0m\u001B[32m*\u001B[0m\u001B[32m*\u001B[0m\u001B[32m*\u001B[0m\u001B[32m*\u001B[0m\u001B[32m*\u001B[0m\u001B[32m*\u001B[0m\u001B[32m*\u001B[0m\u001B[32m*\u001B[0m\u001B[32m*\u001B[0m\u001B[32m*\u001B[0m\u001B[32m*\u001B[0m\u001B[32m*\u001B[0m\u001B[32m*\u001B[0m\u001B[32m*\u001B[0m\u001B[32m*\u001B[0m\u001B[32m*\u001B[0m\u001B[32m*\u001B[0m\u001B[32m*\u001B[0m\u001B[32m*\u001B[0m\u001B[32m*\u001B[0m\u001B[32m*\u001B[0m\u001B[32m*\u001B[0m\u001B[32m*\u001B[0m\u001B[32m*\u001B[0m\u001B[32m*\u001B[0m\u001B[32m*\u001B[0m\u001B[32m*\u001B[0m\u001B[32m*\u001B[0m\u001B[32m*\u001B[0m\u001B[32m*\u001B[0m\u001B[32m*\u001B[0m\u001B[32m*\u001B[0m\u001B[32m*\u001B[0m\u001B[32m*\u001B[0m\u001B[32m*\u001B[0m\u001B[32m*\u001B[0m\n",
      "\u001B[34m** Zadanie 2 **********************************************************************************\u001B[0m\n"
     ]
    },
    {
     "data": {
      "text/plain": [
       "<IPython.core.display.Markdown object>"
      ],
      "text/markdown": "Wyznaczyć pole  trójkąta *ABC* oraz długość wysokości opuszczonej z wierzchołka *B* dla"
     },
     "metadata": {},
     "output_type": "display_data"
    },
    {
     "data": {
      "text/plain": [
       "<IPython.core.display.Latex object>"
      ],
      "text/latex": "$$\tA = (1, -3, 3),\\ B = (-1, -3, -1),\\ C = (2, -3, 3)$$"
     },
     "metadata": {},
     "output_type": "display_data"
    },
    {
     "name": "stdout",
     "output_type": "stream",
     "text": [
      "\u001B[34m*\u001B[0m\u001B[34m*\u001B[0m\u001B[34m*\u001B[0m\u001B[34m*\u001B[0m\u001B[34m*\u001B[0m\u001B[34m*\u001B[0m\u001B[34m*\u001B[0m\u001B[34m*\u001B[0m\u001B[34m*\u001B[0m\u001B[34m*\u001B[0m\u001B[34m*\u001B[0m\u001B[34m*\u001B[0m\u001B[34m*\u001B[0m\u001B[34m*\u001B[0m\u001B[34m*\u001B[0m\u001B[34m*\u001B[0m\u001B[34m*\u001B[0m\u001B[34m*\u001B[0m\u001B[34m*\u001B[0m\u001B[34m*\u001B[0m\u001B[34m*\u001B[0m\u001B[34m*\u001B[0m\u001B[34m*\u001B[0m\u001B[34m*\u001B[0m\u001B[34m*\u001B[0m\u001B[34m*\u001B[0m\u001B[34m*\u001B[0m\u001B[34m*\u001B[0m\u001B[34m*\u001B[0m\u001B[34m*\u001B[0m\u001B[34m*\u001B[0m\u001B[34m*\u001B[0m\u001B[34m*\u001B[0m\u001B[34m*\u001B[0m\u001B[34m*\u001B[0m\u001B[34m*\u001B[0m\u001B[34m*\u001B[0m\u001B[34m*\u001B[0m\u001B[34m*\u001B[0m\u001B[34m*\u001B[0m\u001B[34m*\u001B[0m\u001B[34m*\u001B[0m\u001B[34m*\u001B[0m\u001B[34m*\u001B[0m\u001B[34m*\u001B[0m\u001B[34m*\u001B[0m\u001B[34m*\u001B[0m\u001B[34m*\u001B[0m\u001B[34m*\u001B[0m\u001B[34m*\u001B[0m\u001B[34m*\u001B[0m\u001B[34m*\u001B[0m\u001B[34m*\u001B[0m\u001B[34m*\u001B[0m\u001B[34m*\u001B[0m\u001B[34m*\u001B[0m\u001B[34m*\u001B[0m\u001B[34m*\u001B[0m\u001B[34m*\u001B[0m\u001B[34m*\u001B[0m\u001B[34m*\u001B[0m\u001B[34m*\u001B[0m\u001B[34m*\u001B[0m\u001B[34m*\u001B[0m\u001B[34m*\u001B[0m\u001B[34m*\u001B[0m\u001B[34m*\u001B[0m\u001B[34m*\u001B[0m\u001B[34m*\u001B[0m\u001B[34m*\u001B[0m\u001B[34m*\u001B[0m\u001B[34m*\u001B[0m\u001B[34m*\u001B[0m\u001B[34m*\u001B[0m\u001B[34m*\u001B[0m\u001B[34m*\u001B[0m\u001B[34m*\u001B[0m\u001B[34m*\u001B[0m\u001B[34m*\u001B[0m\u001B[34m*\u001B[0m\u001B[34m*\u001B[0m\u001B[34m*\u001B[0m\u001B[34m*\u001B[0m\u001B[34m*\u001B[0m\u001B[34m*\u001B[0m\u001B[34m*\u001B[0m\u001B[34m*\u001B[0m\u001B[34m*\u001B[0m\u001B[34m*\u001B[0m\u001B[34m*\u001B[0m\u001B[34m*\u001B[0m\u001B[34m*\u001B[0m\u001B[34m*\u001B[0m\u001B[34m*\u001B[0m\u001B[34m*\u001B[0m\n",
      "\u001B[32m** Rozwiązanie ********************************************************************************\u001B[0m\n"
     ]
    },
    {
     "data": {
      "text/plain": [
       "<IPython.core.display.Latex object>"
      ],
      "text/latex": "$$P=2,\\qquad h_B=4$$"
     },
     "metadata": {},
     "output_type": "display_data"
    },
    {
     "name": "stdout",
     "output_type": "stream",
     "text": [
      "\u001B[32m*\u001B[0m\u001B[32m*\u001B[0m\u001B[32m*\u001B[0m\u001B[32m*\u001B[0m\u001B[32m*\u001B[0m\u001B[32m*\u001B[0m\u001B[32m*\u001B[0m\u001B[32m*\u001B[0m\u001B[32m*\u001B[0m\u001B[32m*\u001B[0m\u001B[32m*\u001B[0m\u001B[32m*\u001B[0m\u001B[32m*\u001B[0m\u001B[32m*\u001B[0m\u001B[32m*\u001B[0m\u001B[32m*\u001B[0m\u001B[32m*\u001B[0m\u001B[32m*\u001B[0m\u001B[32m*\u001B[0m\u001B[32m*\u001B[0m\u001B[32m*\u001B[0m\u001B[32m*\u001B[0m\u001B[32m*\u001B[0m\u001B[32m*\u001B[0m\u001B[32m*\u001B[0m\u001B[32m*\u001B[0m\u001B[32m*\u001B[0m\u001B[32m*\u001B[0m\u001B[32m*\u001B[0m\u001B[32m*\u001B[0m\u001B[32m*\u001B[0m\u001B[32m*\u001B[0m\u001B[32m*\u001B[0m\u001B[32m*\u001B[0m\u001B[32m*\u001B[0m\u001B[32m*\u001B[0m\u001B[32m*\u001B[0m\u001B[32m*\u001B[0m\u001B[32m*\u001B[0m\u001B[32m*\u001B[0m\u001B[32m*\u001B[0m\u001B[32m*\u001B[0m\u001B[32m*\u001B[0m\u001B[32m*\u001B[0m\u001B[32m*\u001B[0m\u001B[32m*\u001B[0m\u001B[32m*\u001B[0m\u001B[32m*\u001B[0m\u001B[32m*\u001B[0m\u001B[32m*\u001B[0m\u001B[32m*\u001B[0m\u001B[32m*\u001B[0m\u001B[32m*\u001B[0m\u001B[32m*\u001B[0m\u001B[32m*\u001B[0m\u001B[32m*\u001B[0m\u001B[32m*\u001B[0m\u001B[32m*\u001B[0m\u001B[32m*\u001B[0m\u001B[32m*\u001B[0m\u001B[32m*\u001B[0m\u001B[32m*\u001B[0m\u001B[32m*\u001B[0m\u001B[32m*\u001B[0m\u001B[32m*\u001B[0m\u001B[32m*\u001B[0m\u001B[32m*\u001B[0m\u001B[32m*\u001B[0m\u001B[32m*\u001B[0m\u001B[32m*\u001B[0m\u001B[32m*\u001B[0m\u001B[32m*\u001B[0m\u001B[32m*\u001B[0m\u001B[32m*\u001B[0m\u001B[32m*\u001B[0m\u001B[32m*\u001B[0m\u001B[32m*\u001B[0m\u001B[32m*\u001B[0m\u001B[32m*\u001B[0m\u001B[32m*\u001B[0m\u001B[32m*\u001B[0m\u001B[32m*\u001B[0m\u001B[32m*\u001B[0m\u001B[32m*\u001B[0m\u001B[32m*\u001B[0m\u001B[32m*\u001B[0m\u001B[32m*\u001B[0m\u001B[32m*\u001B[0m\u001B[32m*\u001B[0m\u001B[32m*\u001B[0m\u001B[32m*\u001B[0m\u001B[32m*\u001B[0m\u001B[32m*\u001B[0m\u001B[32m*\u001B[0m\u001B[32m*\u001B[0m\n",
      "\u001B[34m** Zadanie 3 **********************************************************************************\u001B[0m\n"
     ]
    },
    {
     "data": {
      "text/plain": [
       "<IPython.core.display.Markdown object>"
      ],
      "text/markdown": "Wyznaczyć pole  trójkąta *ABC* oraz długość wysokości opuszczonej z wierzchołka *B* dla"
     },
     "metadata": {},
     "output_type": "display_data"
    },
    {
     "data": {
      "text/plain": [
       "<IPython.core.display.Latex object>"
      ],
      "text/latex": "$$\tA = (5, 3, 4),\\ B = (4, 5, 4),\\ C = (4, 4, 5)$$"
     },
     "metadata": {},
     "output_type": "display_data"
    },
    {
     "name": "stdout",
     "output_type": "stream",
     "text": [
      "\u001B[34m*\u001B[0m\u001B[34m*\u001B[0m\u001B[34m*\u001B[0m\u001B[34m*\u001B[0m\u001B[34m*\u001B[0m\u001B[34m*\u001B[0m\u001B[34m*\u001B[0m\u001B[34m*\u001B[0m\u001B[34m*\u001B[0m\u001B[34m*\u001B[0m\u001B[34m*\u001B[0m\u001B[34m*\u001B[0m\u001B[34m*\u001B[0m\u001B[34m*\u001B[0m\u001B[34m*\u001B[0m\u001B[34m*\u001B[0m\u001B[34m*\u001B[0m\u001B[34m*\u001B[0m\u001B[34m*\u001B[0m\u001B[34m*\u001B[0m\u001B[34m*\u001B[0m\u001B[34m*\u001B[0m\u001B[34m*\u001B[0m\u001B[34m*\u001B[0m\u001B[34m*\u001B[0m\u001B[34m*\u001B[0m\u001B[34m*\u001B[0m\u001B[34m*\u001B[0m\u001B[34m*\u001B[0m\u001B[34m*\u001B[0m\u001B[34m*\u001B[0m\u001B[34m*\u001B[0m\u001B[34m*\u001B[0m\u001B[34m*\u001B[0m\u001B[34m*\u001B[0m\u001B[34m*\u001B[0m\u001B[34m*\u001B[0m\u001B[34m*\u001B[0m\u001B[34m*\u001B[0m\u001B[34m*\u001B[0m\u001B[34m*\u001B[0m\u001B[34m*\u001B[0m\u001B[34m*\u001B[0m\u001B[34m*\u001B[0m\u001B[34m*\u001B[0m\u001B[34m*\u001B[0m\u001B[34m*\u001B[0m\u001B[34m*\u001B[0m\u001B[34m*\u001B[0m\u001B[34m*\u001B[0m\u001B[34m*\u001B[0m\u001B[34m*\u001B[0m\u001B[34m*\u001B[0m\u001B[34m*\u001B[0m\u001B[34m*\u001B[0m\u001B[34m*\u001B[0m\u001B[34m*\u001B[0m\u001B[34m*\u001B[0m\u001B[34m*\u001B[0m\u001B[34m*\u001B[0m\u001B[34m*\u001B[0m\u001B[34m*\u001B[0m\u001B[34m*\u001B[0m\u001B[34m*\u001B[0m\u001B[34m*\u001B[0m\u001B[34m*\u001B[0m\u001B[34m*\u001B[0m\u001B[34m*\u001B[0m\u001B[34m*\u001B[0m\u001B[34m*\u001B[0m\u001B[34m*\u001B[0m\u001B[34m*\u001B[0m\u001B[34m*\u001B[0m\u001B[34m*\u001B[0m\u001B[34m*\u001B[0m\u001B[34m*\u001B[0m\u001B[34m*\u001B[0m\u001B[34m*\u001B[0m\u001B[34m*\u001B[0m\u001B[34m*\u001B[0m\u001B[34m*\u001B[0m\u001B[34m*\u001B[0m\u001B[34m*\u001B[0m\u001B[34m*\u001B[0m\u001B[34m*\u001B[0m\u001B[34m*\u001B[0m\u001B[34m*\u001B[0m\u001B[34m*\u001B[0m\u001B[34m*\u001B[0m\u001B[34m*\u001B[0m\u001B[34m*\u001B[0m\u001B[34m*\u001B[0m\u001B[34m*\u001B[0m\u001B[34m*\u001B[0m\u001B[34m*\u001B[0m\n",
      "\u001B[32m** Rozwiązanie ********************************************************************************\u001B[0m\n"
     ]
    },
    {
     "data": {
      "text/plain": [
       "<IPython.core.display.Latex object>"
      ],
      "text/latex": "$$P=\\frac{\\sqrt{6}}{2},\\qquad h_B=\\sqrt{2}$$"
     },
     "metadata": {},
     "output_type": "display_data"
    },
    {
     "name": "stdout",
     "output_type": "stream",
     "text": [
      "\u001B[32m*\u001B[0m\u001B[32m*\u001B[0m\u001B[32m*\u001B[0m\u001B[32m*\u001B[0m\u001B[32m*\u001B[0m\u001B[32m*\u001B[0m\u001B[32m*\u001B[0m\u001B[32m*\u001B[0m\u001B[32m*\u001B[0m\u001B[32m*\u001B[0m\u001B[32m*\u001B[0m\u001B[32m*\u001B[0m\u001B[32m*\u001B[0m\u001B[32m*\u001B[0m\u001B[32m*\u001B[0m\u001B[32m*\u001B[0m\u001B[32m*\u001B[0m\u001B[32m*\u001B[0m\u001B[32m*\u001B[0m\u001B[32m*\u001B[0m\u001B[32m*\u001B[0m\u001B[32m*\u001B[0m\u001B[32m*\u001B[0m\u001B[32m*\u001B[0m\u001B[32m*\u001B[0m\u001B[32m*\u001B[0m\u001B[32m*\u001B[0m\u001B[32m*\u001B[0m\u001B[32m*\u001B[0m\u001B[32m*\u001B[0m\u001B[32m*\u001B[0m\u001B[32m*\u001B[0m\u001B[32m*\u001B[0m\u001B[32m*\u001B[0m\u001B[32m*\u001B[0m\u001B[32m*\u001B[0m\u001B[32m*\u001B[0m\u001B[32m*\u001B[0m\u001B[32m*\u001B[0m\u001B[32m*\u001B[0m\u001B[32m*\u001B[0m\u001B[32m*\u001B[0m\u001B[32m*\u001B[0m\u001B[32m*\u001B[0m\u001B[32m*\u001B[0m\u001B[32m*\u001B[0m\u001B[32m*\u001B[0m\u001B[32m*\u001B[0m\u001B[32m*\u001B[0m\u001B[32m*\u001B[0m\u001B[32m*\u001B[0m\u001B[32m*\u001B[0m\u001B[32m*\u001B[0m\u001B[32m*\u001B[0m\u001B[32m*\u001B[0m\u001B[32m*\u001B[0m\u001B[32m*\u001B[0m\u001B[32m*\u001B[0m\u001B[32m*\u001B[0m\u001B[32m*\u001B[0m\u001B[32m*\u001B[0m\u001B[32m*\u001B[0m\u001B[32m*\u001B[0m\u001B[32m*\u001B[0m\u001B[32m*\u001B[0m\u001B[32m*\u001B[0m\u001B[32m*\u001B[0m\u001B[32m*\u001B[0m\u001B[32m*\u001B[0m\u001B[32m*\u001B[0m\u001B[32m*\u001B[0m\u001B[32m*\u001B[0m\u001B[32m*\u001B[0m\u001B[32m*\u001B[0m\u001B[32m*\u001B[0m\u001B[32m*\u001B[0m\u001B[32m*\u001B[0m\u001B[32m*\u001B[0m\u001B[32m*\u001B[0m\u001B[32m*\u001B[0m\u001B[32m*\u001B[0m\u001B[32m*\u001B[0m\u001B[32m*\u001B[0m\u001B[32m*\u001B[0m\u001B[32m*\u001B[0m\u001B[32m*\u001B[0m\u001B[32m*\u001B[0m\u001B[32m*\u001B[0m\u001B[32m*\u001B[0m\u001B[32m*\u001B[0m\u001B[32m*\u001B[0m\u001B[32m*\u001B[0m\u001B[32m*\u001B[0m\u001B[32m*\u001B[0m\u001B[32m*\u001B[0m\n",
      "\u001B[34m** Zadanie 4 **********************************************************************************\u001B[0m\n"
     ]
    },
    {
     "data": {
      "text/plain": [
       "<IPython.core.display.Markdown object>"
      ],
      "text/markdown": "Wyznaczyć pole  trójkąta *ABC* oraz długość wysokości opuszczonej z wierzchołka *C* dla"
     },
     "metadata": {},
     "output_type": "display_data"
    },
    {
     "data": {
      "text/plain": [
       "<IPython.core.display.Latex object>"
      ],
      "text/latex": "$$\tA = (1, 5, -3),\\ B = (2, 5, -3),\\ C = (2, 5, 2)$$"
     },
     "metadata": {},
     "output_type": "display_data"
    },
    {
     "name": "stdout",
     "output_type": "stream",
     "text": [
      "\u001B[34m*\u001B[0m\u001B[34m*\u001B[0m\u001B[34m*\u001B[0m\u001B[34m*\u001B[0m\u001B[34m*\u001B[0m\u001B[34m*\u001B[0m\u001B[34m*\u001B[0m\u001B[34m*\u001B[0m\u001B[34m*\u001B[0m\u001B[34m*\u001B[0m\u001B[34m*\u001B[0m\u001B[34m*\u001B[0m\u001B[34m*\u001B[0m\u001B[34m*\u001B[0m\u001B[34m*\u001B[0m\u001B[34m*\u001B[0m\u001B[34m*\u001B[0m\u001B[34m*\u001B[0m\u001B[34m*\u001B[0m\u001B[34m*\u001B[0m\u001B[34m*\u001B[0m\u001B[34m*\u001B[0m\u001B[34m*\u001B[0m\u001B[34m*\u001B[0m\u001B[34m*\u001B[0m\u001B[34m*\u001B[0m\u001B[34m*\u001B[0m\u001B[34m*\u001B[0m\u001B[34m*\u001B[0m\u001B[34m*\u001B[0m\u001B[34m*\u001B[0m\u001B[34m*\u001B[0m\u001B[34m*\u001B[0m\u001B[34m*\u001B[0m\u001B[34m*\u001B[0m\u001B[34m*\u001B[0m\u001B[34m*\u001B[0m\u001B[34m*\u001B[0m\u001B[34m*\u001B[0m\u001B[34m*\u001B[0m\u001B[34m*\u001B[0m\u001B[34m*\u001B[0m\u001B[34m*\u001B[0m\u001B[34m*\u001B[0m\u001B[34m*\u001B[0m\u001B[34m*\u001B[0m\u001B[34m*\u001B[0m\u001B[34m*\u001B[0m\u001B[34m*\u001B[0m\u001B[34m*\u001B[0m\u001B[34m*\u001B[0m\u001B[34m*\u001B[0m\u001B[34m*\u001B[0m\u001B[34m*\u001B[0m\u001B[34m*\u001B[0m\u001B[34m*\u001B[0m\u001B[34m*\u001B[0m\u001B[34m*\u001B[0m\u001B[34m*\u001B[0m\u001B[34m*\u001B[0m\u001B[34m*\u001B[0m\u001B[34m*\u001B[0m\u001B[34m*\u001B[0m\u001B[34m*\u001B[0m\u001B[34m*\u001B[0m\u001B[34m*\u001B[0m\u001B[34m*\u001B[0m\u001B[34m*\u001B[0m\u001B[34m*\u001B[0m\u001B[34m*\u001B[0m\u001B[34m*\u001B[0m\u001B[34m*\u001B[0m\u001B[34m*\u001B[0m\u001B[34m*\u001B[0m\u001B[34m*\u001B[0m\u001B[34m*\u001B[0m\u001B[34m*\u001B[0m\u001B[34m*\u001B[0m\u001B[34m*\u001B[0m\u001B[34m*\u001B[0m\u001B[34m*\u001B[0m\u001B[34m*\u001B[0m\u001B[34m*\u001B[0m\u001B[34m*\u001B[0m\u001B[34m*\u001B[0m\u001B[34m*\u001B[0m\u001B[34m*\u001B[0m\u001B[34m*\u001B[0m\u001B[34m*\u001B[0m\u001B[34m*\u001B[0m\u001B[34m*\u001B[0m\u001B[34m*\u001B[0m\u001B[34m*\u001B[0m\u001B[34m*\u001B[0m\u001B[34m*\u001B[0m\n",
      "\u001B[32m** Rozwiązanie ********************************************************************************\u001B[0m\n"
     ]
    },
    {
     "data": {
      "text/plain": [
       "<IPython.core.display.Latex object>"
      ],
      "text/latex": "$$P=\\frac{5}{2},\\qquad h_C=5$$"
     },
     "metadata": {},
     "output_type": "display_data"
    },
    {
     "name": "stdout",
     "output_type": "stream",
     "text": [
      "\u001B[32m*\u001B[0m\u001B[32m*\u001B[0m\u001B[32m*\u001B[0m\u001B[32m*\u001B[0m\u001B[32m*\u001B[0m\u001B[32m*\u001B[0m\u001B[32m*\u001B[0m\u001B[32m*\u001B[0m\u001B[32m*\u001B[0m\u001B[32m*\u001B[0m\u001B[32m*\u001B[0m\u001B[32m*\u001B[0m\u001B[32m*\u001B[0m\u001B[32m*\u001B[0m\u001B[32m*\u001B[0m\u001B[32m*\u001B[0m\u001B[32m*\u001B[0m\u001B[32m*\u001B[0m\u001B[32m*\u001B[0m\u001B[32m*\u001B[0m\u001B[32m*\u001B[0m\u001B[32m*\u001B[0m\u001B[32m*\u001B[0m\u001B[32m*\u001B[0m\u001B[32m*\u001B[0m\u001B[32m*\u001B[0m\u001B[32m*\u001B[0m\u001B[32m*\u001B[0m\u001B[32m*\u001B[0m\u001B[32m*\u001B[0m\u001B[32m*\u001B[0m\u001B[32m*\u001B[0m\u001B[32m*\u001B[0m\u001B[32m*\u001B[0m\u001B[32m*\u001B[0m\u001B[32m*\u001B[0m\u001B[32m*\u001B[0m\u001B[32m*\u001B[0m\u001B[32m*\u001B[0m\u001B[32m*\u001B[0m\u001B[32m*\u001B[0m\u001B[32m*\u001B[0m\u001B[32m*\u001B[0m\u001B[32m*\u001B[0m\u001B[32m*\u001B[0m\u001B[32m*\u001B[0m\u001B[32m*\u001B[0m\u001B[32m*\u001B[0m\u001B[32m*\u001B[0m\u001B[32m*\u001B[0m\u001B[32m*\u001B[0m\u001B[32m*\u001B[0m\u001B[32m*\u001B[0m\u001B[32m*\u001B[0m\u001B[32m*\u001B[0m\u001B[32m*\u001B[0m\u001B[32m*\u001B[0m\u001B[32m*\u001B[0m\u001B[32m*\u001B[0m\u001B[32m*\u001B[0m\u001B[32m*\u001B[0m\u001B[32m*\u001B[0m\u001B[32m*\u001B[0m\u001B[32m*\u001B[0m\u001B[32m*\u001B[0m\u001B[32m*\u001B[0m\u001B[32m*\u001B[0m\u001B[32m*\u001B[0m\u001B[32m*\u001B[0m\u001B[32m*\u001B[0m\u001B[32m*\u001B[0m\u001B[32m*\u001B[0m\u001B[32m*\u001B[0m\u001B[32m*\u001B[0m\u001B[32m*\u001B[0m\u001B[32m*\u001B[0m\u001B[32m*\u001B[0m\u001B[32m*\u001B[0m\u001B[32m*\u001B[0m\u001B[32m*\u001B[0m\u001B[32m*\u001B[0m\u001B[32m*\u001B[0m\u001B[32m*\u001B[0m\u001B[32m*\u001B[0m\u001B[32m*\u001B[0m\u001B[32m*\u001B[0m\u001B[32m*\u001B[0m\u001B[32m*\u001B[0m\u001B[32m*\u001B[0m\u001B[32m*\u001B[0m\u001B[32m*\u001B[0m\u001B[32m*\u001B[0m\u001B[32m*\u001B[0m\u001B[32m*\u001B[0m\u001B[32m*\u001B[0m\n",
      "\u001B[34m** Zadanie 5 **********************************************************************************\u001B[0m\n"
     ]
    },
    {
     "data": {
      "text/plain": [
       "<IPython.core.display.Markdown object>"
      ],
      "text/markdown": "Wyznaczyć pole  trójkąta *ABC* oraz długość wysokości opuszczonej z wierzchołka *C* dla"
     },
     "metadata": {},
     "output_type": "display_data"
    },
    {
     "data": {
      "text/plain": [
       "<IPython.core.display.Latex object>"
      ],
      "text/latex": "$$\tA = (5, 4, -3),\\ B = (1, 2, 1),\\ C = (4, 4, 1)$$"
     },
     "metadata": {},
     "output_type": "display_data"
    },
    {
     "name": "stdout",
     "output_type": "stream",
     "text": [
      "\u001B[34m*\u001B[0m\u001B[34m*\u001B[0m\u001B[34m*\u001B[0m\u001B[34m*\u001B[0m\u001B[34m*\u001B[0m\u001B[34m*\u001B[0m\u001B[34m*\u001B[0m\u001B[34m*\u001B[0m\u001B[34m*\u001B[0m\u001B[34m*\u001B[0m\u001B[34m*\u001B[0m\u001B[34m*\u001B[0m\u001B[34m*\u001B[0m\u001B[34m*\u001B[0m\u001B[34m*\u001B[0m\u001B[34m*\u001B[0m\u001B[34m*\u001B[0m\u001B[34m*\u001B[0m\u001B[34m*\u001B[0m\u001B[34m*\u001B[0m\u001B[34m*\u001B[0m\u001B[34m*\u001B[0m\u001B[34m*\u001B[0m\u001B[34m*\u001B[0m\u001B[34m*\u001B[0m\u001B[34m*\u001B[0m\u001B[34m*\u001B[0m\u001B[34m*\u001B[0m\u001B[34m*\u001B[0m\u001B[34m*\u001B[0m\u001B[34m*\u001B[0m\u001B[34m*\u001B[0m\u001B[34m*\u001B[0m\u001B[34m*\u001B[0m\u001B[34m*\u001B[0m\u001B[34m*\u001B[0m\u001B[34m*\u001B[0m\u001B[34m*\u001B[0m\u001B[34m*\u001B[0m\u001B[34m*\u001B[0m\u001B[34m*\u001B[0m\u001B[34m*\u001B[0m\u001B[34m*\u001B[0m\u001B[34m*\u001B[0m\u001B[34m*\u001B[0m\u001B[34m*\u001B[0m\u001B[34m*\u001B[0m\u001B[34m*\u001B[0m\u001B[34m*\u001B[0m\u001B[34m*\u001B[0m\u001B[34m*\u001B[0m\u001B[34m*\u001B[0m\u001B[34m*\u001B[0m\u001B[34m*\u001B[0m\u001B[34m*\u001B[0m\u001B[34m*\u001B[0m\u001B[34m*\u001B[0m\u001B[34m*\u001B[0m\u001B[34m*\u001B[0m\u001B[34m*\u001B[0m\u001B[34m*\u001B[0m\u001B[34m*\u001B[0m\u001B[34m*\u001B[0m\u001B[34m*\u001B[0m\u001B[34m*\u001B[0m\u001B[34m*\u001B[0m\u001B[34m*\u001B[0m\u001B[34m*\u001B[0m\u001B[34m*\u001B[0m\u001B[34m*\u001B[0m\u001B[34m*\u001B[0m\u001B[34m*\u001B[0m\u001B[34m*\u001B[0m\u001B[34m*\u001B[0m\u001B[34m*\u001B[0m\u001B[34m*\u001B[0m\u001B[34m*\u001B[0m\u001B[34m*\u001B[0m\u001B[34m*\u001B[0m\u001B[34m*\u001B[0m\u001B[34m*\u001B[0m\u001B[34m*\u001B[0m\u001B[34m*\u001B[0m\u001B[34m*\u001B[0m\u001B[34m*\u001B[0m\u001B[34m*\u001B[0m\u001B[34m*\u001B[0m\u001B[34m*\u001B[0m\u001B[34m*\u001B[0m\u001B[34m*\u001B[0m\u001B[34m*\u001B[0m\u001B[34m*\u001B[0m\u001B[34m*\u001B[0m\u001B[34m*\u001B[0m\u001B[34m*\u001B[0m\n",
      "\u001B[32m** Rozwiązanie ********************************************************************************\u001B[0m\n"
     ]
    },
    {
     "data": {
      "text/plain": [
       "<IPython.core.display.Latex object>"
      ],
      "text/latex": "$$P=\\sqrt{53},\\qquad h_C=\\frac{\\sqrt{53}}{3}$$"
     },
     "metadata": {},
     "output_type": "display_data"
    },
    {
     "name": "stdout",
     "output_type": "stream",
     "text": [
      "\u001B[32m*\u001B[0m\u001B[32m*\u001B[0m\u001B[32m*\u001B[0m\u001B[32m*\u001B[0m\u001B[32m*\u001B[0m\u001B[32m*\u001B[0m\u001B[32m*\u001B[0m\u001B[32m*\u001B[0m\u001B[32m*\u001B[0m\u001B[32m*\u001B[0m\u001B[32m*\u001B[0m\u001B[32m*\u001B[0m\u001B[32m*\u001B[0m\u001B[32m*\u001B[0m\u001B[32m*\u001B[0m\u001B[32m*\u001B[0m\u001B[32m*\u001B[0m\u001B[32m*\u001B[0m\u001B[32m*\u001B[0m\u001B[32m*\u001B[0m\u001B[32m*\u001B[0m\u001B[32m*\u001B[0m\u001B[32m*\u001B[0m\u001B[32m*\u001B[0m\u001B[32m*\u001B[0m\u001B[32m*\u001B[0m\u001B[32m*\u001B[0m\u001B[32m*\u001B[0m\u001B[32m*\u001B[0m\u001B[32m*\u001B[0m\u001B[32m*\u001B[0m\u001B[32m*\u001B[0m\u001B[32m*\u001B[0m\u001B[32m*\u001B[0m\u001B[32m*\u001B[0m\u001B[32m*\u001B[0m\u001B[32m*\u001B[0m\u001B[32m*\u001B[0m\u001B[32m*\u001B[0m\u001B[32m*\u001B[0m\u001B[32m*\u001B[0m\u001B[32m*\u001B[0m\u001B[32m*\u001B[0m\u001B[32m*\u001B[0m\u001B[32m*\u001B[0m\u001B[32m*\u001B[0m\u001B[32m*\u001B[0m\u001B[32m*\u001B[0m\u001B[32m*\u001B[0m\u001B[32m*\u001B[0m\u001B[32m*\u001B[0m\u001B[32m*\u001B[0m\u001B[32m*\u001B[0m\u001B[32m*\u001B[0m\u001B[32m*\u001B[0m\u001B[32m*\u001B[0m\u001B[32m*\u001B[0m\u001B[32m*\u001B[0m\u001B[32m*\u001B[0m\u001B[32m*\u001B[0m\u001B[32m*\u001B[0m\u001B[32m*\u001B[0m\u001B[32m*\u001B[0m\u001B[32m*\u001B[0m\u001B[32m*\u001B[0m\u001B[32m*\u001B[0m\u001B[32m*\u001B[0m\u001B[32m*\u001B[0m\u001B[32m*\u001B[0m\u001B[32m*\u001B[0m\u001B[32m*\u001B[0m\u001B[32m*\u001B[0m\u001B[32m*\u001B[0m\u001B[32m*\u001B[0m\u001B[32m*\u001B[0m\u001B[32m*\u001B[0m\u001B[32m*\u001B[0m\u001B[32m*\u001B[0m\u001B[32m*\u001B[0m\u001B[32m*\u001B[0m\u001B[32m*\u001B[0m\u001B[32m*\u001B[0m\u001B[32m*\u001B[0m\u001B[32m*\u001B[0m\u001B[32m*\u001B[0m\u001B[32m*\u001B[0m\u001B[32m*\u001B[0m\u001B[32m*\u001B[0m\u001B[32m*\u001B[0m\u001B[32m*\u001B[0m\u001B[32m*\u001B[0m\u001B[32m*\u001B[0m\u001B[32m*\u001B[0m\u001B[32m*\u001B[0m\u001B[32m*\u001B[0m\n",
      "\u001B[34m** Zadanie 6 **********************************************************************************\u001B[0m\n"
     ]
    },
    {
     "data": {
      "text/plain": [
       "<IPython.core.display.Markdown object>"
      ],
      "text/markdown": "Wyznaczyć pole  trójkąta *ABC* oraz długość wysokości opuszczonej z wierzchołka *C* dla"
     },
     "metadata": {},
     "output_type": "display_data"
    },
    {
     "data": {
      "text/plain": [
       "<IPython.core.display.Latex object>"
      ],
      "text/latex": "$$\tA = (3, 4, -2),\\ B = (-2, 4, -2),\\ C = (4, 4, -1)$$"
     },
     "metadata": {},
     "output_type": "display_data"
    },
    {
     "name": "stdout",
     "output_type": "stream",
     "text": [
      "\u001B[34m*\u001B[0m\u001B[34m*\u001B[0m\u001B[34m*\u001B[0m\u001B[34m*\u001B[0m\u001B[34m*\u001B[0m\u001B[34m*\u001B[0m\u001B[34m*\u001B[0m\u001B[34m*\u001B[0m\u001B[34m*\u001B[0m\u001B[34m*\u001B[0m\u001B[34m*\u001B[0m\u001B[34m*\u001B[0m\u001B[34m*\u001B[0m\u001B[34m*\u001B[0m\u001B[34m*\u001B[0m\u001B[34m*\u001B[0m\u001B[34m*\u001B[0m\u001B[34m*\u001B[0m\u001B[34m*\u001B[0m\u001B[34m*\u001B[0m\u001B[34m*\u001B[0m\u001B[34m*\u001B[0m\u001B[34m*\u001B[0m\u001B[34m*\u001B[0m\u001B[34m*\u001B[0m\u001B[34m*\u001B[0m\u001B[34m*\u001B[0m\u001B[34m*\u001B[0m\u001B[34m*\u001B[0m\u001B[34m*\u001B[0m\u001B[34m*\u001B[0m\u001B[34m*\u001B[0m\u001B[34m*\u001B[0m\u001B[34m*\u001B[0m\u001B[34m*\u001B[0m\u001B[34m*\u001B[0m\u001B[34m*\u001B[0m\u001B[34m*\u001B[0m\u001B[34m*\u001B[0m\u001B[34m*\u001B[0m\u001B[34m*\u001B[0m\u001B[34m*\u001B[0m\u001B[34m*\u001B[0m\u001B[34m*\u001B[0m\u001B[34m*\u001B[0m\u001B[34m*\u001B[0m\u001B[34m*\u001B[0m\u001B[34m*\u001B[0m\u001B[34m*\u001B[0m\u001B[34m*\u001B[0m\u001B[34m*\u001B[0m\u001B[34m*\u001B[0m\u001B[34m*\u001B[0m\u001B[34m*\u001B[0m\u001B[34m*\u001B[0m\u001B[34m*\u001B[0m\u001B[34m*\u001B[0m\u001B[34m*\u001B[0m\u001B[34m*\u001B[0m\u001B[34m*\u001B[0m\u001B[34m*\u001B[0m\u001B[34m*\u001B[0m\u001B[34m*\u001B[0m\u001B[34m*\u001B[0m\u001B[34m*\u001B[0m\u001B[34m*\u001B[0m\u001B[34m*\u001B[0m\u001B[34m*\u001B[0m\u001B[34m*\u001B[0m\u001B[34m*\u001B[0m\u001B[34m*\u001B[0m\u001B[34m*\u001B[0m\u001B[34m*\u001B[0m\u001B[34m*\u001B[0m\u001B[34m*\u001B[0m\u001B[34m*\u001B[0m\u001B[34m*\u001B[0m\u001B[34m*\u001B[0m\u001B[34m*\u001B[0m\u001B[34m*\u001B[0m\u001B[34m*\u001B[0m\u001B[34m*\u001B[0m\u001B[34m*\u001B[0m\u001B[34m*\u001B[0m\u001B[34m*\u001B[0m\u001B[34m*\u001B[0m\u001B[34m*\u001B[0m\u001B[34m*\u001B[0m\u001B[34m*\u001B[0m\u001B[34m*\u001B[0m\u001B[34m*\u001B[0m\u001B[34m*\u001B[0m\u001B[34m*\u001B[0m\u001B[34m*\u001B[0m\u001B[34m*\u001B[0m\n",
      "\u001B[32m** Rozwiązanie ********************************************************************************\u001B[0m\n"
     ]
    },
    {
     "data": {
      "text/plain": [
       "<IPython.core.display.Latex object>"
      ],
      "text/latex": "$$P=\\frac{5}{2},\\qquad h_C=1$$"
     },
     "metadata": {},
     "output_type": "display_data"
    },
    {
     "name": "stdout",
     "output_type": "stream",
     "text": [
      "\u001B[32m*\u001B[0m\u001B[32m*\u001B[0m\u001B[32m*\u001B[0m\u001B[32m*\u001B[0m\u001B[32m*\u001B[0m\u001B[32m*\u001B[0m\u001B[32m*\u001B[0m\u001B[32m*\u001B[0m\u001B[32m*\u001B[0m\u001B[32m*\u001B[0m\u001B[32m*\u001B[0m\u001B[32m*\u001B[0m\u001B[32m*\u001B[0m\u001B[32m*\u001B[0m\u001B[32m*\u001B[0m\u001B[32m*\u001B[0m\u001B[32m*\u001B[0m\u001B[32m*\u001B[0m\u001B[32m*\u001B[0m\u001B[32m*\u001B[0m\u001B[32m*\u001B[0m\u001B[32m*\u001B[0m\u001B[32m*\u001B[0m\u001B[32m*\u001B[0m\u001B[32m*\u001B[0m\u001B[32m*\u001B[0m\u001B[32m*\u001B[0m\u001B[32m*\u001B[0m\u001B[32m*\u001B[0m\u001B[32m*\u001B[0m\u001B[32m*\u001B[0m\u001B[32m*\u001B[0m\u001B[32m*\u001B[0m\u001B[32m*\u001B[0m\u001B[32m*\u001B[0m\u001B[32m*\u001B[0m\u001B[32m*\u001B[0m\u001B[32m*\u001B[0m\u001B[32m*\u001B[0m\u001B[32m*\u001B[0m\u001B[32m*\u001B[0m\u001B[32m*\u001B[0m\u001B[32m*\u001B[0m\u001B[32m*\u001B[0m\u001B[32m*\u001B[0m\u001B[32m*\u001B[0m\u001B[32m*\u001B[0m\u001B[32m*\u001B[0m\u001B[32m*\u001B[0m\u001B[32m*\u001B[0m\u001B[32m*\u001B[0m\u001B[32m*\u001B[0m\u001B[32m*\u001B[0m\u001B[32m*\u001B[0m\u001B[32m*\u001B[0m\u001B[32m*\u001B[0m\u001B[32m*\u001B[0m\u001B[32m*\u001B[0m\u001B[32m*\u001B[0m\u001B[32m*\u001B[0m\u001B[32m*\u001B[0m\u001B[32m*\u001B[0m\u001B[32m*\u001B[0m\u001B[32m*\u001B[0m\u001B[32m*\u001B[0m\u001B[32m*\u001B[0m\u001B[32m*\u001B[0m\u001B[32m*\u001B[0m\u001B[32m*\u001B[0m\u001B[32m*\u001B[0m\u001B[32m*\u001B[0m\u001B[32m*\u001B[0m\u001B[32m*\u001B[0m\u001B[32m*\u001B[0m\u001B[32m*\u001B[0m\u001B[32m*\u001B[0m\u001B[32m*\u001B[0m\u001B[32m*\u001B[0m\u001B[32m*\u001B[0m\u001B[32m*\u001B[0m\u001B[32m*\u001B[0m\u001B[32m*\u001B[0m\u001B[32m*\u001B[0m\u001B[32m*\u001B[0m\u001B[32m*\u001B[0m\u001B[32m*\u001B[0m\u001B[32m*\u001B[0m\u001B[32m*\u001B[0m\u001B[32m*\u001B[0m\u001B[32m*\u001B[0m\u001B[32m*\u001B[0m\u001B[32m*\u001B[0m\u001B[32m*\u001B[0m\u001B[32m*\u001B[0m\u001B[32m*\u001B[0m\n",
      "\u001B[34m** Zadanie 7 **********************************************************************************\u001B[0m\n"
     ]
    },
    {
     "data": {
      "text/plain": [
       "<IPython.core.display.Markdown object>"
      ],
      "text/markdown": "Wyznaczyć pole  trójkąta *ABC* oraz długość wysokości opuszczonej z wierzchołka *A* dla"
     },
     "metadata": {},
     "output_type": "display_data"
    },
    {
     "data": {
      "text/plain": [
       "<IPython.core.display.Latex object>"
      ],
      "text/latex": "$$\tA = (-2, -3, -3),\\ B = (2, -1, -3),\\ C = (3, -1, 1)$$"
     },
     "metadata": {},
     "output_type": "display_data"
    },
    {
     "name": "stdout",
     "output_type": "stream",
     "text": [
      "\u001B[34m*\u001B[0m\u001B[34m*\u001B[0m\u001B[34m*\u001B[0m\u001B[34m*\u001B[0m\u001B[34m*\u001B[0m\u001B[34m*\u001B[0m\u001B[34m*\u001B[0m\u001B[34m*\u001B[0m\u001B[34m*\u001B[0m\u001B[34m*\u001B[0m\u001B[34m*\u001B[0m\u001B[34m*\u001B[0m\u001B[34m*\u001B[0m\u001B[34m*\u001B[0m\u001B[34m*\u001B[0m\u001B[34m*\u001B[0m\u001B[34m*\u001B[0m\u001B[34m*\u001B[0m\u001B[34m*\u001B[0m\u001B[34m*\u001B[0m\u001B[34m*\u001B[0m\u001B[34m*\u001B[0m\u001B[34m*\u001B[0m\u001B[34m*\u001B[0m\u001B[34m*\u001B[0m\u001B[34m*\u001B[0m\u001B[34m*\u001B[0m\u001B[34m*\u001B[0m\u001B[34m*\u001B[0m\u001B[34m*\u001B[0m\u001B[34m*\u001B[0m\u001B[34m*\u001B[0m\u001B[34m*\u001B[0m\u001B[34m*\u001B[0m\u001B[34m*\u001B[0m\u001B[34m*\u001B[0m\u001B[34m*\u001B[0m\u001B[34m*\u001B[0m\u001B[34m*\u001B[0m\u001B[34m*\u001B[0m\u001B[34m*\u001B[0m\u001B[34m*\u001B[0m\u001B[34m*\u001B[0m\u001B[34m*\u001B[0m\u001B[34m*\u001B[0m\u001B[34m*\u001B[0m\u001B[34m*\u001B[0m\u001B[34m*\u001B[0m\u001B[34m*\u001B[0m\u001B[34m*\u001B[0m\u001B[34m*\u001B[0m\u001B[34m*\u001B[0m\u001B[34m*\u001B[0m\u001B[34m*\u001B[0m\u001B[34m*\u001B[0m\u001B[34m*\u001B[0m\u001B[34m*\u001B[0m\u001B[34m*\u001B[0m\u001B[34m*\u001B[0m\u001B[34m*\u001B[0m\u001B[34m*\u001B[0m\u001B[34m*\u001B[0m\u001B[34m*\u001B[0m\u001B[34m*\u001B[0m\u001B[34m*\u001B[0m\u001B[34m*\u001B[0m\u001B[34m*\u001B[0m\u001B[34m*\u001B[0m\u001B[34m*\u001B[0m\u001B[34m*\u001B[0m\u001B[34m*\u001B[0m\u001B[34m*\u001B[0m\u001B[34m*\u001B[0m\u001B[34m*\u001B[0m\u001B[34m*\u001B[0m\u001B[34m*\u001B[0m\u001B[34m*\u001B[0m\u001B[34m*\u001B[0m\u001B[34m*\u001B[0m\u001B[34m*\u001B[0m\u001B[34m*\u001B[0m\u001B[34m*\u001B[0m\u001B[34m*\u001B[0m\u001B[34m*\u001B[0m\u001B[34m*\u001B[0m\u001B[34m*\u001B[0m\u001B[34m*\u001B[0m\u001B[34m*\u001B[0m\u001B[34m*\u001B[0m\u001B[34m*\u001B[0m\u001B[34m*\u001B[0m\u001B[34m*\u001B[0m\u001B[34m*\u001B[0m\u001B[34m*\u001B[0m\u001B[34m*\u001B[0m\n",
      "\u001B[32m** Rozwiązanie ********************************************************************************\u001B[0m\n"
     ]
    },
    {
     "data": {
      "text/plain": [
       "<IPython.core.display.Latex object>"
      ],
      "text/latex": "$$P=9,\\qquad h_A=\\frac{18 \\sqrt{17}}{17}$$"
     },
     "metadata": {},
     "output_type": "display_data"
    },
    {
     "name": "stdout",
     "output_type": "stream",
     "text": [
      "\u001B[32m*\u001B[0m\u001B[32m*\u001B[0m\u001B[32m*\u001B[0m\u001B[32m*\u001B[0m\u001B[32m*\u001B[0m\u001B[32m*\u001B[0m\u001B[32m*\u001B[0m\u001B[32m*\u001B[0m\u001B[32m*\u001B[0m\u001B[32m*\u001B[0m\u001B[32m*\u001B[0m\u001B[32m*\u001B[0m\u001B[32m*\u001B[0m\u001B[32m*\u001B[0m\u001B[32m*\u001B[0m\u001B[32m*\u001B[0m\u001B[32m*\u001B[0m\u001B[32m*\u001B[0m\u001B[32m*\u001B[0m\u001B[32m*\u001B[0m\u001B[32m*\u001B[0m\u001B[32m*\u001B[0m\u001B[32m*\u001B[0m\u001B[32m*\u001B[0m\u001B[32m*\u001B[0m\u001B[32m*\u001B[0m\u001B[32m*\u001B[0m\u001B[32m*\u001B[0m\u001B[32m*\u001B[0m\u001B[32m*\u001B[0m\u001B[32m*\u001B[0m\u001B[32m*\u001B[0m\u001B[32m*\u001B[0m\u001B[32m*\u001B[0m\u001B[32m*\u001B[0m\u001B[32m*\u001B[0m\u001B[32m*\u001B[0m\u001B[32m*\u001B[0m\u001B[32m*\u001B[0m\u001B[32m*\u001B[0m\u001B[32m*\u001B[0m\u001B[32m*\u001B[0m\u001B[32m*\u001B[0m\u001B[32m*\u001B[0m\u001B[32m*\u001B[0m\u001B[32m*\u001B[0m\u001B[32m*\u001B[0m\u001B[32m*\u001B[0m\u001B[32m*\u001B[0m\u001B[32m*\u001B[0m\u001B[32m*\u001B[0m\u001B[32m*\u001B[0m\u001B[32m*\u001B[0m\u001B[32m*\u001B[0m\u001B[32m*\u001B[0m\u001B[32m*\u001B[0m\u001B[32m*\u001B[0m\u001B[32m*\u001B[0m\u001B[32m*\u001B[0m\u001B[32m*\u001B[0m\u001B[32m*\u001B[0m\u001B[32m*\u001B[0m\u001B[32m*\u001B[0m\u001B[32m*\u001B[0m\u001B[32m*\u001B[0m\u001B[32m*\u001B[0m\u001B[32m*\u001B[0m\u001B[32m*\u001B[0m\u001B[32m*\u001B[0m\u001B[32m*\u001B[0m\u001B[32m*\u001B[0m\u001B[32m*\u001B[0m\u001B[32m*\u001B[0m\u001B[32m*\u001B[0m\u001B[32m*\u001B[0m\u001B[32m*\u001B[0m\u001B[32m*\u001B[0m\u001B[32m*\u001B[0m\u001B[32m*\u001B[0m\u001B[32m*\u001B[0m\u001B[32m*\u001B[0m\u001B[32m*\u001B[0m\u001B[32m*\u001B[0m\u001B[32m*\u001B[0m\u001B[32m*\u001B[0m\u001B[32m*\u001B[0m\u001B[32m*\u001B[0m\u001B[32m*\u001B[0m\u001B[32m*\u001B[0m\u001B[32m*\u001B[0m\u001B[32m*\u001B[0m\u001B[32m*\u001B[0m\u001B[32m*\u001B[0m\u001B[32m*\u001B[0m\u001B[32m*\u001B[0m\n",
      "\u001B[34m** Zadanie 8 **********************************************************************************\u001B[0m\n"
     ]
    },
    {
     "data": {
      "text/plain": [
       "<IPython.core.display.Markdown object>"
      ],
      "text/markdown": "Wyznaczyć pole  trójkąta *ABC* oraz długość wysokości opuszczonej z wierzchołka *A* dla"
     },
     "metadata": {},
     "output_type": "display_data"
    },
    {
     "data": {
      "text/plain": [
       "<IPython.core.display.Latex object>"
      ],
      "text/latex": "$$\tA = (4, 2, 5),\\ B = (-2, 1, -2),\\ C = (4, 2, 2)$$"
     },
     "metadata": {},
     "output_type": "display_data"
    },
    {
     "name": "stdout",
     "output_type": "stream",
     "text": [
      "\u001B[34m*\u001B[0m\u001B[34m*\u001B[0m\u001B[34m*\u001B[0m\u001B[34m*\u001B[0m\u001B[34m*\u001B[0m\u001B[34m*\u001B[0m\u001B[34m*\u001B[0m\u001B[34m*\u001B[0m\u001B[34m*\u001B[0m\u001B[34m*\u001B[0m\u001B[34m*\u001B[0m\u001B[34m*\u001B[0m\u001B[34m*\u001B[0m\u001B[34m*\u001B[0m\u001B[34m*\u001B[0m\u001B[34m*\u001B[0m\u001B[34m*\u001B[0m\u001B[34m*\u001B[0m\u001B[34m*\u001B[0m\u001B[34m*\u001B[0m\u001B[34m*\u001B[0m\u001B[34m*\u001B[0m\u001B[34m*\u001B[0m\u001B[34m*\u001B[0m\u001B[34m*\u001B[0m\u001B[34m*\u001B[0m\u001B[34m*\u001B[0m\u001B[34m*\u001B[0m\u001B[34m*\u001B[0m\u001B[34m*\u001B[0m\u001B[34m*\u001B[0m\u001B[34m*\u001B[0m\u001B[34m*\u001B[0m\u001B[34m*\u001B[0m\u001B[34m*\u001B[0m\u001B[34m*\u001B[0m\u001B[34m*\u001B[0m\u001B[34m*\u001B[0m\u001B[34m*\u001B[0m\u001B[34m*\u001B[0m\u001B[34m*\u001B[0m\u001B[34m*\u001B[0m\u001B[34m*\u001B[0m\u001B[34m*\u001B[0m\u001B[34m*\u001B[0m\u001B[34m*\u001B[0m\u001B[34m*\u001B[0m\u001B[34m*\u001B[0m\u001B[34m*\u001B[0m\u001B[34m*\u001B[0m\u001B[34m*\u001B[0m\u001B[34m*\u001B[0m\u001B[34m*\u001B[0m\u001B[34m*\u001B[0m\u001B[34m*\u001B[0m\u001B[34m*\u001B[0m\u001B[34m*\u001B[0m\u001B[34m*\u001B[0m\u001B[34m*\u001B[0m\u001B[34m*\u001B[0m\u001B[34m*\u001B[0m\u001B[34m*\u001B[0m\u001B[34m*\u001B[0m\u001B[34m*\u001B[0m\u001B[34m*\u001B[0m\u001B[34m*\u001B[0m\u001B[34m*\u001B[0m\u001B[34m*\u001B[0m\u001B[34m*\u001B[0m\u001B[34m*\u001B[0m\u001B[34m*\u001B[0m\u001B[34m*\u001B[0m\u001B[34m*\u001B[0m\u001B[34m*\u001B[0m\u001B[34m*\u001B[0m\u001B[34m*\u001B[0m\u001B[34m*\u001B[0m\u001B[34m*\u001B[0m\u001B[34m*\u001B[0m\u001B[34m*\u001B[0m\u001B[34m*\u001B[0m\u001B[34m*\u001B[0m\u001B[34m*\u001B[0m\u001B[34m*\u001B[0m\u001B[34m*\u001B[0m\u001B[34m*\u001B[0m\u001B[34m*\u001B[0m\u001B[34m*\u001B[0m\u001B[34m*\u001B[0m\u001B[34m*\u001B[0m\u001B[34m*\u001B[0m\u001B[34m*\u001B[0m\u001B[34m*\u001B[0m\u001B[34m*\u001B[0m\u001B[34m*\u001B[0m\n",
      "\u001B[32m** Rozwiązanie ********************************************************************************\u001B[0m\n"
     ]
    },
    {
     "data": {
      "text/plain": [
       "<IPython.core.display.Latex object>"
      ],
      "text/latex": "$$P=\\frac{3 \\sqrt{37}}{2},\\qquad h_A=\\frac{3 \\sqrt{1961}}{53}$$"
     },
     "metadata": {},
     "output_type": "display_data"
    },
    {
     "name": "stdout",
     "output_type": "stream",
     "text": [
      "\u001B[32m*\u001B[0m\u001B[32m*\u001B[0m\u001B[32m*\u001B[0m\u001B[32m*\u001B[0m\u001B[32m*\u001B[0m\u001B[32m*\u001B[0m\u001B[32m*\u001B[0m\u001B[32m*\u001B[0m\u001B[32m*\u001B[0m\u001B[32m*\u001B[0m\u001B[32m*\u001B[0m\u001B[32m*\u001B[0m\u001B[32m*\u001B[0m\u001B[32m*\u001B[0m\u001B[32m*\u001B[0m\u001B[32m*\u001B[0m\u001B[32m*\u001B[0m\u001B[32m*\u001B[0m\u001B[32m*\u001B[0m\u001B[32m*\u001B[0m\u001B[32m*\u001B[0m\u001B[32m*\u001B[0m\u001B[32m*\u001B[0m\u001B[32m*\u001B[0m\u001B[32m*\u001B[0m\u001B[32m*\u001B[0m\u001B[32m*\u001B[0m\u001B[32m*\u001B[0m\u001B[32m*\u001B[0m\u001B[32m*\u001B[0m\u001B[32m*\u001B[0m\u001B[32m*\u001B[0m\u001B[32m*\u001B[0m\u001B[32m*\u001B[0m\u001B[32m*\u001B[0m\u001B[32m*\u001B[0m\u001B[32m*\u001B[0m\u001B[32m*\u001B[0m\u001B[32m*\u001B[0m\u001B[32m*\u001B[0m\u001B[32m*\u001B[0m\u001B[32m*\u001B[0m\u001B[32m*\u001B[0m\u001B[32m*\u001B[0m\u001B[32m*\u001B[0m\u001B[32m*\u001B[0m\u001B[32m*\u001B[0m\u001B[32m*\u001B[0m\u001B[32m*\u001B[0m\u001B[32m*\u001B[0m\u001B[32m*\u001B[0m\u001B[32m*\u001B[0m\u001B[32m*\u001B[0m\u001B[32m*\u001B[0m\u001B[32m*\u001B[0m\u001B[32m*\u001B[0m\u001B[32m*\u001B[0m\u001B[32m*\u001B[0m\u001B[32m*\u001B[0m\u001B[32m*\u001B[0m\u001B[32m*\u001B[0m\u001B[32m*\u001B[0m\u001B[32m*\u001B[0m\u001B[32m*\u001B[0m\u001B[32m*\u001B[0m\u001B[32m*\u001B[0m\u001B[32m*\u001B[0m\u001B[32m*\u001B[0m\u001B[32m*\u001B[0m\u001B[32m*\u001B[0m\u001B[32m*\u001B[0m\u001B[32m*\u001B[0m\u001B[32m*\u001B[0m\u001B[32m*\u001B[0m\u001B[32m*\u001B[0m\u001B[32m*\u001B[0m\u001B[32m*\u001B[0m\u001B[32m*\u001B[0m\u001B[32m*\u001B[0m\u001B[32m*\u001B[0m\u001B[32m*\u001B[0m\u001B[32m*\u001B[0m\u001B[32m*\u001B[0m\u001B[32m*\u001B[0m\u001B[32m*\u001B[0m\u001B[32m*\u001B[0m\u001B[32m*\u001B[0m\u001B[32m*\u001B[0m\u001B[32m*\u001B[0m\u001B[32m*\u001B[0m\u001B[32m*\u001B[0m\u001B[32m*\u001B[0m\u001B[32m*\u001B[0m\u001B[32m*\u001B[0m\u001B[32m*\u001B[0m\n",
      "\u001B[34m** Zadanie 9 **********************************************************************************\u001B[0m\n"
     ]
    },
    {
     "data": {
      "text/plain": [
       "<IPython.core.display.Markdown object>"
      ],
      "text/markdown": "Wyznaczyć pole  trójkąta *ABC* oraz długość wysokości opuszczonej z wierzchołka *A* dla"
     },
     "metadata": {},
     "output_type": "display_data"
    },
    {
     "data": {
      "text/plain": [
       "<IPython.core.display.Latex object>"
      ],
      "text/latex": "$$\tA = (-3, 1, -1),\\ B = (-3, 3, 3),\\ C = (-3, 3, -2)$$"
     },
     "metadata": {},
     "output_type": "display_data"
    },
    {
     "name": "stdout",
     "output_type": "stream",
     "text": [
      "\u001B[34m*\u001B[0m\u001B[34m*\u001B[0m\u001B[34m*\u001B[0m\u001B[34m*\u001B[0m\u001B[34m*\u001B[0m\u001B[34m*\u001B[0m\u001B[34m*\u001B[0m\u001B[34m*\u001B[0m\u001B[34m*\u001B[0m\u001B[34m*\u001B[0m\u001B[34m*\u001B[0m\u001B[34m*\u001B[0m\u001B[34m*\u001B[0m\u001B[34m*\u001B[0m\u001B[34m*\u001B[0m\u001B[34m*\u001B[0m\u001B[34m*\u001B[0m\u001B[34m*\u001B[0m\u001B[34m*\u001B[0m\u001B[34m*\u001B[0m\u001B[34m*\u001B[0m\u001B[34m*\u001B[0m\u001B[34m*\u001B[0m\u001B[34m*\u001B[0m\u001B[34m*\u001B[0m\u001B[34m*\u001B[0m\u001B[34m*\u001B[0m\u001B[34m*\u001B[0m\u001B[34m*\u001B[0m\u001B[34m*\u001B[0m\u001B[34m*\u001B[0m\u001B[34m*\u001B[0m\u001B[34m*\u001B[0m\u001B[34m*\u001B[0m\u001B[34m*\u001B[0m\u001B[34m*\u001B[0m\u001B[34m*\u001B[0m\u001B[34m*\u001B[0m\u001B[34m*\u001B[0m\u001B[34m*\u001B[0m\u001B[34m*\u001B[0m\u001B[34m*\u001B[0m\u001B[34m*\u001B[0m\u001B[34m*\u001B[0m\u001B[34m*\u001B[0m\u001B[34m*\u001B[0m\u001B[34m*\u001B[0m\u001B[34m*\u001B[0m\u001B[34m*\u001B[0m\u001B[34m*\u001B[0m\u001B[34m*\u001B[0m\u001B[34m*\u001B[0m\u001B[34m*\u001B[0m\u001B[34m*\u001B[0m\u001B[34m*\u001B[0m\u001B[34m*\u001B[0m\u001B[34m*\u001B[0m\u001B[34m*\u001B[0m\u001B[34m*\u001B[0m\u001B[34m*\u001B[0m\u001B[34m*\u001B[0m\u001B[34m*\u001B[0m\u001B[34m*\u001B[0m\u001B[34m*\u001B[0m\u001B[34m*\u001B[0m\u001B[34m*\u001B[0m\u001B[34m*\u001B[0m\u001B[34m*\u001B[0m\u001B[34m*\u001B[0m\u001B[34m*\u001B[0m\u001B[34m*\u001B[0m\u001B[34m*\u001B[0m\u001B[34m*\u001B[0m\u001B[34m*\u001B[0m\u001B[34m*\u001B[0m\u001B[34m*\u001B[0m\u001B[34m*\u001B[0m\u001B[34m*\u001B[0m\u001B[34m*\u001B[0m\u001B[34m*\u001B[0m\u001B[34m*\u001B[0m\u001B[34m*\u001B[0m\u001B[34m*\u001B[0m\u001B[34m*\u001B[0m\u001B[34m*\u001B[0m\u001B[34m*\u001B[0m\u001B[34m*\u001B[0m\u001B[34m*\u001B[0m\u001B[34m*\u001B[0m\u001B[34m*\u001B[0m\u001B[34m*\u001B[0m\u001B[34m*\u001B[0m\u001B[34m*\u001B[0m\u001B[34m*\u001B[0m\u001B[34m*\u001B[0m\n",
      "\u001B[32m** Rozwiązanie ********************************************************************************\u001B[0m\n"
     ]
    },
    {
     "data": {
      "text/plain": [
       "<IPython.core.display.Latex object>"
      ],
      "text/latex": "$$P=5,\\qquad h_A=2$$"
     },
     "metadata": {},
     "output_type": "display_data"
    },
    {
     "name": "stdout",
     "output_type": "stream",
     "text": [
      "\u001B[32m*\u001B[0m\u001B[32m*\u001B[0m\u001B[32m*\u001B[0m\u001B[32m*\u001B[0m\u001B[32m*\u001B[0m\u001B[32m*\u001B[0m\u001B[32m*\u001B[0m\u001B[32m*\u001B[0m\u001B[32m*\u001B[0m\u001B[32m*\u001B[0m\u001B[32m*\u001B[0m\u001B[32m*\u001B[0m\u001B[32m*\u001B[0m\u001B[32m*\u001B[0m\u001B[32m*\u001B[0m\u001B[32m*\u001B[0m\u001B[32m*\u001B[0m\u001B[32m*\u001B[0m\u001B[32m*\u001B[0m\u001B[32m*\u001B[0m\u001B[32m*\u001B[0m\u001B[32m*\u001B[0m\u001B[32m*\u001B[0m\u001B[32m*\u001B[0m\u001B[32m*\u001B[0m\u001B[32m*\u001B[0m\u001B[32m*\u001B[0m\u001B[32m*\u001B[0m\u001B[32m*\u001B[0m\u001B[32m*\u001B[0m\u001B[32m*\u001B[0m\u001B[32m*\u001B[0m\u001B[32m*\u001B[0m\u001B[32m*\u001B[0m\u001B[32m*\u001B[0m\u001B[32m*\u001B[0m\u001B[32m*\u001B[0m\u001B[32m*\u001B[0m\u001B[32m*\u001B[0m\u001B[32m*\u001B[0m\u001B[32m*\u001B[0m\u001B[32m*\u001B[0m\u001B[32m*\u001B[0m\u001B[32m*\u001B[0m\u001B[32m*\u001B[0m\u001B[32m*\u001B[0m\u001B[32m*\u001B[0m\u001B[32m*\u001B[0m\u001B[32m*\u001B[0m\u001B[32m*\u001B[0m\u001B[32m*\u001B[0m\u001B[32m*\u001B[0m\u001B[32m*\u001B[0m\u001B[32m*\u001B[0m\u001B[32m*\u001B[0m\u001B[32m*\u001B[0m\u001B[32m*\u001B[0m\u001B[32m*\u001B[0m\u001B[32m*\u001B[0m\u001B[32m*\u001B[0m\u001B[32m*\u001B[0m\u001B[32m*\u001B[0m\u001B[32m*\u001B[0m\u001B[32m*\u001B[0m\u001B[32m*\u001B[0m\u001B[32m*\u001B[0m\u001B[32m*\u001B[0m\u001B[32m*\u001B[0m\u001B[32m*\u001B[0m\u001B[32m*\u001B[0m\u001B[32m*\u001B[0m\u001B[32m*\u001B[0m\u001B[32m*\u001B[0m\u001B[32m*\u001B[0m\u001B[32m*\u001B[0m\u001B[32m*\u001B[0m\u001B[32m*\u001B[0m\u001B[32m*\u001B[0m\u001B[32m*\u001B[0m\u001B[32m*\u001B[0m\u001B[32m*\u001B[0m\u001B[32m*\u001B[0m\u001B[32m*\u001B[0m\u001B[32m*\u001B[0m\u001B[32m*\u001B[0m\u001B[32m*\u001B[0m\u001B[32m*\u001B[0m\u001B[32m*\u001B[0m\u001B[32m*\u001B[0m\u001B[32m*\u001B[0m\u001B[32m*\u001B[0m\u001B[32m*\u001B[0m\u001B[32m*\u001B[0m\u001B[32m*\u001B[0m\u001B[32m*\u001B[0m\n",
      "\u001B[34m** Zadanie 10 **********************************************************************************\u001B[0m\n"
     ]
    },
    {
     "data": {
      "text/plain": [
       "<IPython.core.display.Markdown object>"
      ],
      "text/markdown": "Wyznaczyć pole  trójkąta *ABC* oraz długość wysokości opuszczonej z wierzchołka *B* dla"
     },
     "metadata": {},
     "output_type": "display_data"
    },
    {
     "data": {
      "text/plain": [
       "<IPython.core.display.Latex object>"
      ],
      "text/latex": "$$\tA = (-2, 2, -1),\\ B = (1, 4, 4),\\ C = (4, 5, 4)$$"
     },
     "metadata": {},
     "output_type": "display_data"
    },
    {
     "name": "stdout",
     "output_type": "stream",
     "text": [
      "\u001B[34m*\u001B[0m\u001B[34m*\u001B[0m\u001B[34m*\u001B[0m\u001B[34m*\u001B[0m\u001B[34m*\u001B[0m\u001B[34m*\u001B[0m\u001B[34m*\u001B[0m\u001B[34m*\u001B[0m\u001B[34m*\u001B[0m\u001B[34m*\u001B[0m\u001B[34m*\u001B[0m\u001B[34m*\u001B[0m\u001B[34m*\u001B[0m\u001B[34m*\u001B[0m\u001B[34m*\u001B[0m\u001B[34m*\u001B[0m\u001B[34m*\u001B[0m\u001B[34m*\u001B[0m\u001B[34m*\u001B[0m\u001B[34m*\u001B[0m\u001B[34m*\u001B[0m\u001B[34m*\u001B[0m\u001B[34m*\u001B[0m\u001B[34m*\u001B[0m\u001B[34m*\u001B[0m\u001B[34m*\u001B[0m\u001B[34m*\u001B[0m\u001B[34m*\u001B[0m\u001B[34m*\u001B[0m\u001B[34m*\u001B[0m\u001B[34m*\u001B[0m\u001B[34m*\u001B[0m\u001B[34m*\u001B[0m\u001B[34m*\u001B[0m\u001B[34m*\u001B[0m\u001B[34m*\u001B[0m\u001B[34m*\u001B[0m\u001B[34m*\u001B[0m\u001B[34m*\u001B[0m\u001B[34m*\u001B[0m\u001B[34m*\u001B[0m\u001B[34m*\u001B[0m\u001B[34m*\u001B[0m\u001B[34m*\u001B[0m\u001B[34m*\u001B[0m\u001B[34m*\u001B[0m\u001B[34m*\u001B[0m\u001B[34m*\u001B[0m\u001B[34m*\u001B[0m\u001B[34m*\u001B[0m\u001B[34m*\u001B[0m\u001B[34m*\u001B[0m\u001B[34m*\u001B[0m\u001B[34m*\u001B[0m\u001B[34m*\u001B[0m\u001B[34m*\u001B[0m\u001B[34m*\u001B[0m\u001B[34m*\u001B[0m\u001B[34m*\u001B[0m\u001B[34m*\u001B[0m\u001B[34m*\u001B[0m\u001B[34m*\u001B[0m\u001B[34m*\u001B[0m\u001B[34m*\u001B[0m\u001B[34m*\u001B[0m\u001B[34m*\u001B[0m\u001B[34m*\u001B[0m\u001B[34m*\u001B[0m\u001B[34m*\u001B[0m\u001B[34m*\u001B[0m\u001B[34m*\u001B[0m\u001B[34m*\u001B[0m\u001B[34m*\u001B[0m\u001B[34m*\u001B[0m\u001B[34m*\u001B[0m\u001B[34m*\u001B[0m\u001B[34m*\u001B[0m\u001B[34m*\u001B[0m\u001B[34m*\u001B[0m\u001B[34m*\u001B[0m\u001B[34m*\u001B[0m\u001B[34m*\u001B[0m\u001B[34m*\u001B[0m\u001B[34m*\u001B[0m\u001B[34m*\u001B[0m\u001B[34m*\u001B[0m\u001B[34m*\u001B[0m\u001B[34m*\u001B[0m\u001B[34m*\u001B[0m\u001B[34m*\u001B[0m\u001B[34m*\u001B[0m\u001B[34m*\u001B[0m\u001B[34m*\u001B[0m\u001B[34m*\u001B[0m\u001B[34m*\u001B[0m\n",
      "\u001B[32m** Rozwiązanie ********************************************************************************\u001B[0m\n"
     ]
    },
    {
     "data": {
      "text/plain": [
       "<IPython.core.display.Latex object>"
      ],
      "text/latex": "$$P=\\frac{\\sqrt{259}}{2},\\qquad h_B=\\frac{\\sqrt{370}}{10}$$"
     },
     "metadata": {},
     "output_type": "display_data"
    },
    {
     "name": "stdout",
     "output_type": "stream",
     "text": [
      "\u001B[32m*\u001B[0m\u001B[32m*\u001B[0m\u001B[32m*\u001B[0m\u001B[32m*\u001B[0m\u001B[32m*\u001B[0m\u001B[32m*\u001B[0m\u001B[32m*\u001B[0m\u001B[32m*\u001B[0m\u001B[32m*\u001B[0m\u001B[32m*\u001B[0m\u001B[32m*\u001B[0m\u001B[32m*\u001B[0m\u001B[32m*\u001B[0m\u001B[32m*\u001B[0m\u001B[32m*\u001B[0m\u001B[32m*\u001B[0m\u001B[32m*\u001B[0m\u001B[32m*\u001B[0m\u001B[32m*\u001B[0m\u001B[32m*\u001B[0m\u001B[32m*\u001B[0m\u001B[32m*\u001B[0m\u001B[32m*\u001B[0m\u001B[32m*\u001B[0m\u001B[32m*\u001B[0m\u001B[32m*\u001B[0m\u001B[32m*\u001B[0m\u001B[32m*\u001B[0m\u001B[32m*\u001B[0m\u001B[32m*\u001B[0m\u001B[32m*\u001B[0m\u001B[32m*\u001B[0m\u001B[32m*\u001B[0m\u001B[32m*\u001B[0m\u001B[32m*\u001B[0m\u001B[32m*\u001B[0m\u001B[32m*\u001B[0m\u001B[32m*\u001B[0m\u001B[32m*\u001B[0m\u001B[32m*\u001B[0m\u001B[32m*\u001B[0m\u001B[32m*\u001B[0m\u001B[32m*\u001B[0m\u001B[32m*\u001B[0m\u001B[32m*\u001B[0m\u001B[32m*\u001B[0m\u001B[32m*\u001B[0m\u001B[32m*\u001B[0m\u001B[32m*\u001B[0m\u001B[32m*\u001B[0m\u001B[32m*\u001B[0m\u001B[32m*\u001B[0m\u001B[32m*\u001B[0m\u001B[32m*\u001B[0m\u001B[32m*\u001B[0m\u001B[32m*\u001B[0m\u001B[32m*\u001B[0m\u001B[32m*\u001B[0m\u001B[32m*\u001B[0m\u001B[32m*\u001B[0m\u001B[32m*\u001B[0m\u001B[32m*\u001B[0m\u001B[32m*\u001B[0m\u001B[32m*\u001B[0m\u001B[32m*\u001B[0m\u001B[32m*\u001B[0m\u001B[32m*\u001B[0m\u001B[32m*\u001B[0m\u001B[32m*\u001B[0m\u001B[32m*\u001B[0m\u001B[32m*\u001B[0m\u001B[32m*\u001B[0m\u001B[32m*\u001B[0m\u001B[32m*\u001B[0m\u001B[32m*\u001B[0m\u001B[32m*\u001B[0m\u001B[32m*\u001B[0m\u001B[32m*\u001B[0m\u001B[32m*\u001B[0m\u001B[32m*\u001B[0m\u001B[32m*\u001B[0m\u001B[32m*\u001B[0m\u001B[32m*\u001B[0m\u001B[32m*\u001B[0m\u001B[32m*\u001B[0m\u001B[32m*\u001B[0m\u001B[32m*\u001B[0m\u001B[32m*\u001B[0m\u001B[32m*\u001B[0m\u001B[32m*\u001B[0m\u001B[32m*\u001B[0m\u001B[32m*\u001B[0m\u001B[32m*\u001B[0m\u001B[32m*\u001B[0m\u001B[32m*\u001B[0m\n"
     ]
    }
   ],
   "execution_count": 138
  },
  {
   "metadata": {},
   "cell_type": "markdown",
   "source": "## Płaszczyzna styczna",
   "id": "8ab47aac732677fe"
  },
  {
   "metadata": {
    "ExecuteTime": {
     "end_time": "2024-09-15T18:31:44.807816Z",
     "start_time": "2024-09-15T18:31:44.766889Z"
    }
   },
   "cell_type": "code",
   "source": [
    "zadanie = gz.plaszczyzna_styczna()\n",
    "zadanie"
   ],
   "id": "826d83dfff477e0a",
   "outputs": [
    {
     "data": {
      "text/plain": [
       "('Wyznaczyć płaszczyznę styczną do powierzchni $$f(x,y)=3 x^{3} y + 3 x^{2} y - x^{2} - 4 x y^{3} - y^{2}$$ w punkcie $P=(0,-1,f(0,-1)).$',\n",
       " '$z = 4 x + 2 y + 1$')"
      ]
     },
     "execution_count": 139,
     "metadata": {},
     "output_type": "execute_result"
    }
   ],
   "execution_count": 139
  },
  {
   "metadata": {
    "ExecuteTime": {
     "end_time": "2024-09-15T18:31:44.905188Z",
     "start_time": "2024-09-15T18:31:44.899918Z"
    }
   },
   "cell_type": "code",
   "source": [
    "print(\"\\033[34m** Zadanie **\" + '*' * 81 + '\\033[0m')\n",
    "print(zadanie[0])\n",
    "print(\"\\033[34m*\\033[0m\" * 95)\n",
    "print(\"\\033[32m** Rozwiązanie **\" + '*' * 78 + '\\033[0m')\n",
    "print(zadanie[1])\n",
    "print(\"\\033[32m*\\033[0m\" * 95)"
   ],
   "id": "8ee57708b88e8d43",
   "outputs": [
    {
     "name": "stdout",
     "output_type": "stream",
     "text": [
      "\u001B[34m** Zadanie ***********************************************************************************\u001B[0m\n",
      "Wyznaczyć płaszczyznę styczną do powierzchni $$f(x,y)=3 x^{3} y + 3 x^{2} y - x^{2} - 4 x y^{3} - y^{2}$$ w punkcie $P=(0,-1,f(0,-1)).$\n",
      "\u001B[34m*\u001B[0m\u001B[34m*\u001B[0m\u001B[34m*\u001B[0m\u001B[34m*\u001B[0m\u001B[34m*\u001B[0m\u001B[34m*\u001B[0m\u001B[34m*\u001B[0m\u001B[34m*\u001B[0m\u001B[34m*\u001B[0m\u001B[34m*\u001B[0m\u001B[34m*\u001B[0m\u001B[34m*\u001B[0m\u001B[34m*\u001B[0m\u001B[34m*\u001B[0m\u001B[34m*\u001B[0m\u001B[34m*\u001B[0m\u001B[34m*\u001B[0m\u001B[34m*\u001B[0m\u001B[34m*\u001B[0m\u001B[34m*\u001B[0m\u001B[34m*\u001B[0m\u001B[34m*\u001B[0m\u001B[34m*\u001B[0m\u001B[34m*\u001B[0m\u001B[34m*\u001B[0m\u001B[34m*\u001B[0m\u001B[34m*\u001B[0m\u001B[34m*\u001B[0m\u001B[34m*\u001B[0m\u001B[34m*\u001B[0m\u001B[34m*\u001B[0m\u001B[34m*\u001B[0m\u001B[34m*\u001B[0m\u001B[34m*\u001B[0m\u001B[34m*\u001B[0m\u001B[34m*\u001B[0m\u001B[34m*\u001B[0m\u001B[34m*\u001B[0m\u001B[34m*\u001B[0m\u001B[34m*\u001B[0m\u001B[34m*\u001B[0m\u001B[34m*\u001B[0m\u001B[34m*\u001B[0m\u001B[34m*\u001B[0m\u001B[34m*\u001B[0m\u001B[34m*\u001B[0m\u001B[34m*\u001B[0m\u001B[34m*\u001B[0m\u001B[34m*\u001B[0m\u001B[34m*\u001B[0m\u001B[34m*\u001B[0m\u001B[34m*\u001B[0m\u001B[34m*\u001B[0m\u001B[34m*\u001B[0m\u001B[34m*\u001B[0m\u001B[34m*\u001B[0m\u001B[34m*\u001B[0m\u001B[34m*\u001B[0m\u001B[34m*\u001B[0m\u001B[34m*\u001B[0m\u001B[34m*\u001B[0m\u001B[34m*\u001B[0m\u001B[34m*\u001B[0m\u001B[34m*\u001B[0m\u001B[34m*\u001B[0m\u001B[34m*\u001B[0m\u001B[34m*\u001B[0m\u001B[34m*\u001B[0m\u001B[34m*\u001B[0m\u001B[34m*\u001B[0m\u001B[34m*\u001B[0m\u001B[34m*\u001B[0m\u001B[34m*\u001B[0m\u001B[34m*\u001B[0m\u001B[34m*\u001B[0m\u001B[34m*\u001B[0m\u001B[34m*\u001B[0m\u001B[34m*\u001B[0m\u001B[34m*\u001B[0m\u001B[34m*\u001B[0m\u001B[34m*\u001B[0m\u001B[34m*\u001B[0m\u001B[34m*\u001B[0m\u001B[34m*\u001B[0m\u001B[34m*\u001B[0m\u001B[34m*\u001B[0m\u001B[34m*\u001B[0m\u001B[34m*\u001B[0m\u001B[34m*\u001B[0m\u001B[34m*\u001B[0m\u001B[34m*\u001B[0m\u001B[34m*\u001B[0m\u001B[34m*\u001B[0m\u001B[34m*\u001B[0m\u001B[34m*\u001B[0m\n",
      "\u001B[32m** Rozwiązanie ********************************************************************************\u001B[0m\n",
      "$z = 4 x + 2 y + 1$\n",
      "\u001B[32m*\u001B[0m\u001B[32m*\u001B[0m\u001B[32m*\u001B[0m\u001B[32m*\u001B[0m\u001B[32m*\u001B[0m\u001B[32m*\u001B[0m\u001B[32m*\u001B[0m\u001B[32m*\u001B[0m\u001B[32m*\u001B[0m\u001B[32m*\u001B[0m\u001B[32m*\u001B[0m\u001B[32m*\u001B[0m\u001B[32m*\u001B[0m\u001B[32m*\u001B[0m\u001B[32m*\u001B[0m\u001B[32m*\u001B[0m\u001B[32m*\u001B[0m\u001B[32m*\u001B[0m\u001B[32m*\u001B[0m\u001B[32m*\u001B[0m\u001B[32m*\u001B[0m\u001B[32m*\u001B[0m\u001B[32m*\u001B[0m\u001B[32m*\u001B[0m\u001B[32m*\u001B[0m\u001B[32m*\u001B[0m\u001B[32m*\u001B[0m\u001B[32m*\u001B[0m\u001B[32m*\u001B[0m\u001B[32m*\u001B[0m\u001B[32m*\u001B[0m\u001B[32m*\u001B[0m\u001B[32m*\u001B[0m\u001B[32m*\u001B[0m\u001B[32m*\u001B[0m\u001B[32m*\u001B[0m\u001B[32m*\u001B[0m\u001B[32m*\u001B[0m\u001B[32m*\u001B[0m\u001B[32m*\u001B[0m\u001B[32m*\u001B[0m\u001B[32m*\u001B[0m\u001B[32m*\u001B[0m\u001B[32m*\u001B[0m\u001B[32m*\u001B[0m\u001B[32m*\u001B[0m\u001B[32m*\u001B[0m\u001B[32m*\u001B[0m\u001B[32m*\u001B[0m\u001B[32m*\u001B[0m\u001B[32m*\u001B[0m\u001B[32m*\u001B[0m\u001B[32m*\u001B[0m\u001B[32m*\u001B[0m\u001B[32m*\u001B[0m\u001B[32m*\u001B[0m\u001B[32m*\u001B[0m\u001B[32m*\u001B[0m\u001B[32m*\u001B[0m\u001B[32m*\u001B[0m\u001B[32m*\u001B[0m\u001B[32m*\u001B[0m\u001B[32m*\u001B[0m\u001B[32m*\u001B[0m\u001B[32m*\u001B[0m\u001B[32m*\u001B[0m\u001B[32m*\u001B[0m\u001B[32m*\u001B[0m\u001B[32m*\u001B[0m\u001B[32m*\u001B[0m\u001B[32m*\u001B[0m\u001B[32m*\u001B[0m\u001B[32m*\u001B[0m\u001B[32m*\u001B[0m\u001B[32m*\u001B[0m\u001B[32m*\u001B[0m\u001B[32m*\u001B[0m\u001B[32m*\u001B[0m\u001B[32m*\u001B[0m\u001B[32m*\u001B[0m\u001B[32m*\u001B[0m\u001B[32m*\u001B[0m\u001B[32m*\u001B[0m\u001B[32m*\u001B[0m\u001B[32m*\u001B[0m\u001B[32m*\u001B[0m\u001B[32m*\u001B[0m\u001B[32m*\u001B[0m\u001B[32m*\u001B[0m\u001B[32m*\u001B[0m\u001B[32m*\u001B[0m\u001B[32m*\u001B[0m\u001B[32m*\u001B[0m\u001B[32m*\u001B[0m\u001B[32m*\u001B[0m\n"
     ]
    }
   ],
   "execution_count": 140
  },
  {
   "metadata": {
    "ExecuteTime": {
     "end_time": "2024-09-15T18:31:52.263407Z",
     "start_time": "2024-09-15T18:31:45.008078Z"
    }
   },
   "cell_type": "code",
   "source": [
    "for i in range(1, ile_zadan_przykladowych + 1):\n",
    "    zadanie = gz.plaszczyzna_styczna()\n",
    "    print(f\"\\033[34m** Zadanie {i} **\" + '*' * 80 + '\\033[0m')\n",
    "    display(Markdown(\n",
    "        f'Wyznaczyć płaszczyznę styczną do powierzchni'))\n",
    "    display(Latex('$$' + (zadanie[0].split('$$')[1]) + '$$'))\n",
    "    display(Markdown('w punkcie'))\n",
    "    display(Latex('$' + zadanie[0].split('punkcie ')[1] + '$'))\n",
    "    print(\"\\033[34m*\\033[0m\" * 95)\n",
    "    print(\"\\033[32m** Rozwiązanie **\" + '*' * 78 + '\\033[0m')\n",
    "    display(Latex('$' + zadanie[1].replace('\\\\ \\\\', '\\qquad') + '$'))\n",
    "    print(\"\\033[32m*\\033[0m\" * 95)"
   ],
   "id": "29856e2667685f15",
   "outputs": [
    {
     "name": "stdout",
     "output_type": "stream",
     "text": [
      "\u001B[34m** Zadanie 1 **********************************************************************************\u001B[0m\n"
     ]
    },
    {
     "data": {
      "text/plain": [
       "<IPython.core.display.Markdown object>"
      ],
      "text/markdown": "Wyznaczyć płaszczyznę styczną do powierzchni"
     },
     "metadata": {},
     "output_type": "display_data"
    },
    {
     "data": {
      "text/plain": [
       "<IPython.core.display.Latex object>"
      ],
      "text/latex": "$$f(x,y)=4 x^{3} y + 2 x^{2} y - 2 x^{2} + 3 x y^{3} - 2 y^{2}$$"
     },
     "metadata": {},
     "output_type": "display_data"
    },
    {
     "data": {
      "text/plain": [
       "<IPython.core.display.Markdown object>"
      ],
      "text/markdown": "w punkcie"
     },
     "metadata": {},
     "output_type": "display_data"
    },
    {
     "data": {
      "text/plain": [
       "<IPython.core.display.Latex object>"
      ],
      "text/latex": "$$P=(1,0,f(1,0)).$$"
     },
     "metadata": {},
     "output_type": "display_data"
    },
    {
     "name": "stdout",
     "output_type": "stream",
     "text": [
      "\u001B[34m*\u001B[0m\u001B[34m*\u001B[0m\u001B[34m*\u001B[0m\u001B[34m*\u001B[0m\u001B[34m*\u001B[0m\u001B[34m*\u001B[0m\u001B[34m*\u001B[0m\u001B[34m*\u001B[0m\u001B[34m*\u001B[0m\u001B[34m*\u001B[0m\u001B[34m*\u001B[0m\u001B[34m*\u001B[0m\u001B[34m*\u001B[0m\u001B[34m*\u001B[0m\u001B[34m*\u001B[0m\u001B[34m*\u001B[0m\u001B[34m*\u001B[0m\u001B[34m*\u001B[0m\u001B[34m*\u001B[0m\u001B[34m*\u001B[0m\u001B[34m*\u001B[0m\u001B[34m*\u001B[0m\u001B[34m*\u001B[0m\u001B[34m*\u001B[0m\u001B[34m*\u001B[0m\u001B[34m*\u001B[0m\u001B[34m*\u001B[0m\u001B[34m*\u001B[0m\u001B[34m*\u001B[0m\u001B[34m*\u001B[0m\u001B[34m*\u001B[0m\u001B[34m*\u001B[0m\u001B[34m*\u001B[0m\u001B[34m*\u001B[0m\u001B[34m*\u001B[0m\u001B[34m*\u001B[0m\u001B[34m*\u001B[0m\u001B[34m*\u001B[0m\u001B[34m*\u001B[0m\u001B[34m*\u001B[0m\u001B[34m*\u001B[0m\u001B[34m*\u001B[0m\u001B[34m*\u001B[0m\u001B[34m*\u001B[0m\u001B[34m*\u001B[0m\u001B[34m*\u001B[0m\u001B[34m*\u001B[0m\u001B[34m*\u001B[0m\u001B[34m*\u001B[0m\u001B[34m*\u001B[0m\u001B[34m*\u001B[0m\u001B[34m*\u001B[0m\u001B[34m*\u001B[0m\u001B[34m*\u001B[0m\u001B[34m*\u001B[0m\u001B[34m*\u001B[0m\u001B[34m*\u001B[0m\u001B[34m*\u001B[0m\u001B[34m*\u001B[0m\u001B[34m*\u001B[0m\u001B[34m*\u001B[0m\u001B[34m*\u001B[0m\u001B[34m*\u001B[0m\u001B[34m*\u001B[0m\u001B[34m*\u001B[0m\u001B[34m*\u001B[0m\u001B[34m*\u001B[0m\u001B[34m*\u001B[0m\u001B[34m*\u001B[0m\u001B[34m*\u001B[0m\u001B[34m*\u001B[0m\u001B[34m*\u001B[0m\u001B[34m*\u001B[0m\u001B[34m*\u001B[0m\u001B[34m*\u001B[0m\u001B[34m*\u001B[0m\u001B[34m*\u001B[0m\u001B[34m*\u001B[0m\u001B[34m*\u001B[0m\u001B[34m*\u001B[0m\u001B[34m*\u001B[0m\u001B[34m*\u001B[0m\u001B[34m*\u001B[0m\u001B[34m*\u001B[0m\u001B[34m*\u001B[0m\u001B[34m*\u001B[0m\u001B[34m*\u001B[0m\u001B[34m*\u001B[0m\u001B[34m*\u001B[0m\u001B[34m*\u001B[0m\u001B[34m*\u001B[0m\u001B[34m*\u001B[0m\u001B[34m*\u001B[0m\u001B[34m*\u001B[0m\u001B[34m*\u001B[0m\n",
      "\u001B[32m** Rozwiązanie ********************************************************************************\u001B[0m\n"
     ]
    },
    {
     "data": {
      "text/plain": [
       "<IPython.core.display.Latex object>"
      ],
      "text/latex": "$$z = - 4 x + 6 y + 2$$"
     },
     "metadata": {},
     "output_type": "display_data"
    },
    {
     "name": "stdout",
     "output_type": "stream",
     "text": [
      "\u001B[32m*\u001B[0m\u001B[32m*\u001B[0m\u001B[32m*\u001B[0m\u001B[32m*\u001B[0m\u001B[32m*\u001B[0m\u001B[32m*\u001B[0m\u001B[32m*\u001B[0m\u001B[32m*\u001B[0m\u001B[32m*\u001B[0m\u001B[32m*\u001B[0m\u001B[32m*\u001B[0m\u001B[32m*\u001B[0m\u001B[32m*\u001B[0m\u001B[32m*\u001B[0m\u001B[32m*\u001B[0m\u001B[32m*\u001B[0m\u001B[32m*\u001B[0m\u001B[32m*\u001B[0m\u001B[32m*\u001B[0m\u001B[32m*\u001B[0m\u001B[32m*\u001B[0m\u001B[32m*\u001B[0m\u001B[32m*\u001B[0m\u001B[32m*\u001B[0m\u001B[32m*\u001B[0m\u001B[32m*\u001B[0m\u001B[32m*\u001B[0m\u001B[32m*\u001B[0m\u001B[32m*\u001B[0m\u001B[32m*\u001B[0m\u001B[32m*\u001B[0m\u001B[32m*\u001B[0m\u001B[32m*\u001B[0m\u001B[32m*\u001B[0m\u001B[32m*\u001B[0m\u001B[32m*\u001B[0m\u001B[32m*\u001B[0m\u001B[32m*\u001B[0m\u001B[32m*\u001B[0m\u001B[32m*\u001B[0m\u001B[32m*\u001B[0m\u001B[32m*\u001B[0m\u001B[32m*\u001B[0m\u001B[32m*\u001B[0m\u001B[32m*\u001B[0m\u001B[32m*\u001B[0m\u001B[32m*\u001B[0m\u001B[32m*\u001B[0m\u001B[32m*\u001B[0m\u001B[32m*\u001B[0m\u001B[32m*\u001B[0m\u001B[32m*\u001B[0m\u001B[32m*\u001B[0m\u001B[32m*\u001B[0m\u001B[32m*\u001B[0m\u001B[32m*\u001B[0m\u001B[32m*\u001B[0m\u001B[32m*\u001B[0m\u001B[32m*\u001B[0m\u001B[32m*\u001B[0m\u001B[32m*\u001B[0m\u001B[32m*\u001B[0m\u001B[32m*\u001B[0m\u001B[32m*\u001B[0m\u001B[32m*\u001B[0m\u001B[32m*\u001B[0m\u001B[32m*\u001B[0m\u001B[32m*\u001B[0m\u001B[32m*\u001B[0m\u001B[32m*\u001B[0m\u001B[32m*\u001B[0m\u001B[32m*\u001B[0m\u001B[32m*\u001B[0m\u001B[32m*\u001B[0m\u001B[32m*\u001B[0m\u001B[32m*\u001B[0m\u001B[32m*\u001B[0m\u001B[32m*\u001B[0m\u001B[32m*\u001B[0m\u001B[32m*\u001B[0m\u001B[32m*\u001B[0m\u001B[32m*\u001B[0m\u001B[32m*\u001B[0m\u001B[32m*\u001B[0m\u001B[32m*\u001B[0m\u001B[32m*\u001B[0m\u001B[32m*\u001B[0m\u001B[32m*\u001B[0m\u001B[32m*\u001B[0m\u001B[32m*\u001B[0m\u001B[32m*\u001B[0m\u001B[32m*\u001B[0m\u001B[32m*\u001B[0m\u001B[32m*\u001B[0m\u001B[32m*\u001B[0m\n",
      "\u001B[34m** Zadanie 2 **********************************************************************************\u001B[0m\n"
     ]
    },
    {
     "data": {
      "text/plain": [
       "<IPython.core.display.Markdown object>"
      ],
      "text/markdown": "Wyznaczyć płaszczyznę styczną do powierzchni"
     },
     "metadata": {},
     "output_type": "display_data"
    },
    {
     "data": {
      "text/plain": [
       "<IPython.core.display.Latex object>"
      ],
      "text/latex": "$$f(x,y)=\\frac{\\sqrt{- x^{2} + 4 y^{2} + 16}}{- 2 x - y}$$"
     },
     "metadata": {},
     "output_type": "display_data"
    },
    {
     "data": {
      "text/plain": [
       "<IPython.core.display.Markdown object>"
      ],
      "text/markdown": "w punkcie"
     },
     "metadata": {},
     "output_type": "display_data"
    },
    {
     "data": {
      "text/plain": [
       "<IPython.core.display.Latex object>"
      ],
      "text/latex": "$$P=(-2,-1,f(-2,-1)).$$"
     },
     "metadata": {},
     "output_type": "display_data"
    },
    {
     "name": "stdout",
     "output_type": "stream",
     "text": [
      "\u001B[34m*\u001B[0m\u001B[34m*\u001B[0m\u001B[34m*\u001B[0m\u001B[34m*\u001B[0m\u001B[34m*\u001B[0m\u001B[34m*\u001B[0m\u001B[34m*\u001B[0m\u001B[34m*\u001B[0m\u001B[34m*\u001B[0m\u001B[34m*\u001B[0m\u001B[34m*\u001B[0m\u001B[34m*\u001B[0m\u001B[34m*\u001B[0m\u001B[34m*\u001B[0m\u001B[34m*\u001B[0m\u001B[34m*\u001B[0m\u001B[34m*\u001B[0m\u001B[34m*\u001B[0m\u001B[34m*\u001B[0m\u001B[34m*\u001B[0m\u001B[34m*\u001B[0m\u001B[34m*\u001B[0m\u001B[34m*\u001B[0m\u001B[34m*\u001B[0m\u001B[34m*\u001B[0m\u001B[34m*\u001B[0m\u001B[34m*\u001B[0m\u001B[34m*\u001B[0m\u001B[34m*\u001B[0m\u001B[34m*\u001B[0m\u001B[34m*\u001B[0m\u001B[34m*\u001B[0m\u001B[34m*\u001B[0m\u001B[34m*\u001B[0m\u001B[34m*\u001B[0m\u001B[34m*\u001B[0m\u001B[34m*\u001B[0m\u001B[34m*\u001B[0m\u001B[34m*\u001B[0m\u001B[34m*\u001B[0m\u001B[34m*\u001B[0m\u001B[34m*\u001B[0m\u001B[34m*\u001B[0m\u001B[34m*\u001B[0m\u001B[34m*\u001B[0m\u001B[34m*\u001B[0m\u001B[34m*\u001B[0m\u001B[34m*\u001B[0m\u001B[34m*\u001B[0m\u001B[34m*\u001B[0m\u001B[34m*\u001B[0m\u001B[34m*\u001B[0m\u001B[34m*\u001B[0m\u001B[34m*\u001B[0m\u001B[34m*\u001B[0m\u001B[34m*\u001B[0m\u001B[34m*\u001B[0m\u001B[34m*\u001B[0m\u001B[34m*\u001B[0m\u001B[34m*\u001B[0m\u001B[34m*\u001B[0m\u001B[34m*\u001B[0m\u001B[34m*\u001B[0m\u001B[34m*\u001B[0m\u001B[34m*\u001B[0m\u001B[34m*\u001B[0m\u001B[34m*\u001B[0m\u001B[34m*\u001B[0m\u001B[34m*\u001B[0m\u001B[34m*\u001B[0m\u001B[34m*\u001B[0m\u001B[34m*\u001B[0m\u001B[34m*\u001B[0m\u001B[34m*\u001B[0m\u001B[34m*\u001B[0m\u001B[34m*\u001B[0m\u001B[34m*\u001B[0m\u001B[34m*\u001B[0m\u001B[34m*\u001B[0m\u001B[34m*\u001B[0m\u001B[34m*\u001B[0m\u001B[34m*\u001B[0m\u001B[34m*\u001B[0m\u001B[34m*\u001B[0m\u001B[34m*\u001B[0m\u001B[34m*\u001B[0m\u001B[34m*\u001B[0m\u001B[34m*\u001B[0m\u001B[34m*\u001B[0m\u001B[34m*\u001B[0m\u001B[34m*\u001B[0m\u001B[34m*\u001B[0m\u001B[34m*\u001B[0m\u001B[34m*\u001B[0m\u001B[34m*\u001B[0m\n",
      "\u001B[32m** Rozwiązanie ********************************************************************************\u001B[0m\n"
     ]
    },
    {
     "data": {
      "text/plain": [
       "<IPython.core.display.Latex object>"
      ],
      "text/latex": "$$z = \\frac{21 x}{50} - \\frac{y}{25} + \\frac{8}{5}$$"
     },
     "metadata": {},
     "output_type": "display_data"
    },
    {
     "name": "stdout",
     "output_type": "stream",
     "text": [
      "\u001B[32m*\u001B[0m\u001B[32m*\u001B[0m\u001B[32m*\u001B[0m\u001B[32m*\u001B[0m\u001B[32m*\u001B[0m\u001B[32m*\u001B[0m\u001B[32m*\u001B[0m\u001B[32m*\u001B[0m\u001B[32m*\u001B[0m\u001B[32m*\u001B[0m\u001B[32m*\u001B[0m\u001B[32m*\u001B[0m\u001B[32m*\u001B[0m\u001B[32m*\u001B[0m\u001B[32m*\u001B[0m\u001B[32m*\u001B[0m\u001B[32m*\u001B[0m\u001B[32m*\u001B[0m\u001B[32m*\u001B[0m\u001B[32m*\u001B[0m\u001B[32m*\u001B[0m\u001B[32m*\u001B[0m\u001B[32m*\u001B[0m\u001B[32m*\u001B[0m\u001B[32m*\u001B[0m\u001B[32m*\u001B[0m\u001B[32m*\u001B[0m\u001B[32m*\u001B[0m\u001B[32m*\u001B[0m\u001B[32m*\u001B[0m\u001B[32m*\u001B[0m\u001B[32m*\u001B[0m\u001B[32m*\u001B[0m\u001B[32m*\u001B[0m\u001B[32m*\u001B[0m\u001B[32m*\u001B[0m\u001B[32m*\u001B[0m\u001B[32m*\u001B[0m\u001B[32m*\u001B[0m\u001B[32m*\u001B[0m\u001B[32m*\u001B[0m\u001B[32m*\u001B[0m\u001B[32m*\u001B[0m\u001B[32m*\u001B[0m\u001B[32m*\u001B[0m\u001B[32m*\u001B[0m\u001B[32m*\u001B[0m\u001B[32m*\u001B[0m\u001B[32m*\u001B[0m\u001B[32m*\u001B[0m\u001B[32m*\u001B[0m\u001B[32m*\u001B[0m\u001B[32m*\u001B[0m\u001B[32m*\u001B[0m\u001B[32m*\u001B[0m\u001B[32m*\u001B[0m\u001B[32m*\u001B[0m\u001B[32m*\u001B[0m\u001B[32m*\u001B[0m\u001B[32m*\u001B[0m\u001B[32m*\u001B[0m\u001B[32m*\u001B[0m\u001B[32m*\u001B[0m\u001B[32m*\u001B[0m\u001B[32m*\u001B[0m\u001B[32m*\u001B[0m\u001B[32m*\u001B[0m\u001B[32m*\u001B[0m\u001B[32m*\u001B[0m\u001B[32m*\u001B[0m\u001B[32m*\u001B[0m\u001B[32m*\u001B[0m\u001B[32m*\u001B[0m\u001B[32m*\u001B[0m\u001B[32m*\u001B[0m\u001B[32m*\u001B[0m\u001B[32m*\u001B[0m\u001B[32m*\u001B[0m\u001B[32m*\u001B[0m\u001B[32m*\u001B[0m\u001B[32m*\u001B[0m\u001B[32m*\u001B[0m\u001B[32m*\u001B[0m\u001B[32m*\u001B[0m\u001B[32m*\u001B[0m\u001B[32m*\u001B[0m\u001B[32m*\u001B[0m\u001B[32m*\u001B[0m\u001B[32m*\u001B[0m\u001B[32m*\u001B[0m\u001B[32m*\u001B[0m\u001B[32m*\u001B[0m\u001B[32m*\u001B[0m\u001B[32m*\u001B[0m\u001B[32m*\u001B[0m\n",
      "\u001B[34m** Zadanie 3 **********************************************************************************\u001B[0m\n"
     ]
    },
    {
     "data": {
      "text/plain": [
       "<IPython.core.display.Markdown object>"
      ],
      "text/markdown": "Wyznaczyć płaszczyznę styczną do powierzchni"
     },
     "metadata": {},
     "output_type": "display_data"
    },
    {
     "data": {
      "text/plain": [
       "<IPython.core.display.Latex object>"
      ],
      "text/latex": "$$f(x,y)=x - 2 y + \\frac{2}{y} + \\frac{4 y}{x} - \\frac{1}{x}$$"
     },
     "metadata": {},
     "output_type": "display_data"
    },
    {
     "data": {
      "text/plain": [
       "<IPython.core.display.Markdown object>"
      ],
      "text/markdown": "w punkcie"
     },
     "metadata": {},
     "output_type": "display_data"
    },
    {
     "data": {
      "text/plain": [
       "<IPython.core.display.Latex object>"
      ],
      "text/latex": "$$P=(-4,3,f(-4,3)).$$"
     },
     "metadata": {},
     "output_type": "display_data"
    },
    {
     "name": "stdout",
     "output_type": "stream",
     "text": [
      "\u001B[34m*\u001B[0m\u001B[34m*\u001B[0m\u001B[34m*\u001B[0m\u001B[34m*\u001B[0m\u001B[34m*\u001B[0m\u001B[34m*\u001B[0m\u001B[34m*\u001B[0m\u001B[34m*\u001B[0m\u001B[34m*\u001B[0m\u001B[34m*\u001B[0m\u001B[34m*\u001B[0m\u001B[34m*\u001B[0m\u001B[34m*\u001B[0m\u001B[34m*\u001B[0m\u001B[34m*\u001B[0m\u001B[34m*\u001B[0m\u001B[34m*\u001B[0m\u001B[34m*\u001B[0m\u001B[34m*\u001B[0m\u001B[34m*\u001B[0m\u001B[34m*\u001B[0m\u001B[34m*\u001B[0m\u001B[34m*\u001B[0m\u001B[34m*\u001B[0m\u001B[34m*\u001B[0m\u001B[34m*\u001B[0m\u001B[34m*\u001B[0m\u001B[34m*\u001B[0m\u001B[34m*\u001B[0m\u001B[34m*\u001B[0m\u001B[34m*\u001B[0m\u001B[34m*\u001B[0m\u001B[34m*\u001B[0m\u001B[34m*\u001B[0m\u001B[34m*\u001B[0m\u001B[34m*\u001B[0m\u001B[34m*\u001B[0m\u001B[34m*\u001B[0m\u001B[34m*\u001B[0m\u001B[34m*\u001B[0m\u001B[34m*\u001B[0m\u001B[34m*\u001B[0m\u001B[34m*\u001B[0m\u001B[34m*\u001B[0m\u001B[34m*\u001B[0m\u001B[34m*\u001B[0m\u001B[34m*\u001B[0m\u001B[34m*\u001B[0m\u001B[34m*\u001B[0m\u001B[34m*\u001B[0m\u001B[34m*\u001B[0m\u001B[34m*\u001B[0m\u001B[34m*\u001B[0m\u001B[34m*\u001B[0m\u001B[34m*\u001B[0m\u001B[34m*\u001B[0m\u001B[34m*\u001B[0m\u001B[34m*\u001B[0m\u001B[34m*\u001B[0m\u001B[34m*\u001B[0m\u001B[34m*\u001B[0m\u001B[34m*\u001B[0m\u001B[34m*\u001B[0m\u001B[34m*\u001B[0m\u001B[34m*\u001B[0m\u001B[34m*\u001B[0m\u001B[34m*\u001B[0m\u001B[34m*\u001B[0m\u001B[34m*\u001B[0m\u001B[34m*\u001B[0m\u001B[34m*\u001B[0m\u001B[34m*\u001B[0m\u001B[34m*\u001B[0m\u001B[34m*\u001B[0m\u001B[34m*\u001B[0m\u001B[34m*\u001B[0m\u001B[34m*\u001B[0m\u001B[34m*\u001B[0m\u001B[34m*\u001B[0m\u001B[34m*\u001B[0m\u001B[34m*\u001B[0m\u001B[34m*\u001B[0m\u001B[34m*\u001B[0m\u001B[34m*\u001B[0m\u001B[34m*\u001B[0m\u001B[34m*\u001B[0m\u001B[34m*\u001B[0m\u001B[34m*\u001B[0m\u001B[34m*\u001B[0m\u001B[34m*\u001B[0m\u001B[34m*\u001B[0m\u001B[34m*\u001B[0m\u001B[34m*\u001B[0m\u001B[34m*\u001B[0m\u001B[34m*\u001B[0m\n",
      "\u001B[32m** Rozwiązanie ********************************************************************************\u001B[0m\n"
     ]
    },
    {
     "data": {
      "text/plain": [
       "<IPython.core.display.Latex object>"
      ],
      "text/latex": "$$z = \\frac{5 x}{16} - \\frac{29 y}{9} - \\frac{7}{6}$$"
     },
     "metadata": {},
     "output_type": "display_data"
    },
    {
     "name": "stdout",
     "output_type": "stream",
     "text": [
      "\u001B[32m*\u001B[0m\u001B[32m*\u001B[0m\u001B[32m*\u001B[0m\u001B[32m*\u001B[0m\u001B[32m*\u001B[0m\u001B[32m*\u001B[0m\u001B[32m*\u001B[0m\u001B[32m*\u001B[0m\u001B[32m*\u001B[0m\u001B[32m*\u001B[0m\u001B[32m*\u001B[0m\u001B[32m*\u001B[0m\u001B[32m*\u001B[0m\u001B[32m*\u001B[0m\u001B[32m*\u001B[0m\u001B[32m*\u001B[0m\u001B[32m*\u001B[0m\u001B[32m*\u001B[0m\u001B[32m*\u001B[0m\u001B[32m*\u001B[0m\u001B[32m*\u001B[0m\u001B[32m*\u001B[0m\u001B[32m*\u001B[0m\u001B[32m*\u001B[0m\u001B[32m*\u001B[0m\u001B[32m*\u001B[0m\u001B[32m*\u001B[0m\u001B[32m*\u001B[0m\u001B[32m*\u001B[0m\u001B[32m*\u001B[0m\u001B[32m*\u001B[0m\u001B[32m*\u001B[0m\u001B[32m*\u001B[0m\u001B[32m*\u001B[0m\u001B[32m*\u001B[0m\u001B[32m*\u001B[0m\u001B[32m*\u001B[0m\u001B[32m*\u001B[0m\u001B[32m*\u001B[0m\u001B[32m*\u001B[0m\u001B[32m*\u001B[0m\u001B[32m*\u001B[0m\u001B[32m*\u001B[0m\u001B[32m*\u001B[0m\u001B[32m*\u001B[0m\u001B[32m*\u001B[0m\u001B[32m*\u001B[0m\u001B[32m*\u001B[0m\u001B[32m*\u001B[0m\u001B[32m*\u001B[0m\u001B[32m*\u001B[0m\u001B[32m*\u001B[0m\u001B[32m*\u001B[0m\u001B[32m*\u001B[0m\u001B[32m*\u001B[0m\u001B[32m*\u001B[0m\u001B[32m*\u001B[0m\u001B[32m*\u001B[0m\u001B[32m*\u001B[0m\u001B[32m*\u001B[0m\u001B[32m*\u001B[0m\u001B[32m*\u001B[0m\u001B[32m*\u001B[0m\u001B[32m*\u001B[0m\u001B[32m*\u001B[0m\u001B[32m*\u001B[0m\u001B[32m*\u001B[0m\u001B[32m*\u001B[0m\u001B[32m*\u001B[0m\u001B[32m*\u001B[0m\u001B[32m*\u001B[0m\u001B[32m*\u001B[0m\u001B[32m*\u001B[0m\u001B[32m*\u001B[0m\u001B[32m*\u001B[0m\u001B[32m*\u001B[0m\u001B[32m*\u001B[0m\u001B[32m*\u001B[0m\u001B[32m*\u001B[0m\u001B[32m*\u001B[0m\u001B[32m*\u001B[0m\u001B[32m*\u001B[0m\u001B[32m*\u001B[0m\u001B[32m*\u001B[0m\u001B[32m*\u001B[0m\u001B[32m*\u001B[0m\u001B[32m*\u001B[0m\u001B[32m*\u001B[0m\u001B[32m*\u001B[0m\u001B[32m*\u001B[0m\u001B[32m*\u001B[0m\u001B[32m*\u001B[0m\u001B[32m*\u001B[0m\u001B[32m*\u001B[0m\u001B[32m*\u001B[0m\n",
      "\u001B[34m** Zadanie 4 **********************************************************************************\u001B[0m\n"
     ]
    },
    {
     "data": {
      "text/plain": [
       "<IPython.core.display.Markdown object>"
      ],
      "text/markdown": "Wyznaczyć płaszczyznę styczną do powierzchni"
     },
     "metadata": {},
     "output_type": "display_data"
    },
    {
     "data": {
      "text/plain": [
       "<IPython.core.display.Latex object>"
      ],
      "text/latex": "$$f(x,y)=\\frac{\\sqrt{- 3 x^{2} + 4 y^{2} + 16}}{x}$$"
     },
     "metadata": {},
     "output_type": "display_data"
    },
    {
     "data": {
      "text/plain": [
       "<IPython.core.display.Markdown object>"
      ],
      "text/markdown": "w punkcie"
     },
     "metadata": {},
     "output_type": "display_data"
    },
    {
     "data": {
      "text/plain": [
       "<IPython.core.display.Latex object>"
      ],
      "text/latex": "$$P=(-1,-3,f(-1,-3)).$$"
     },
     "metadata": {},
     "output_type": "display_data"
    },
    {
     "name": "stdout",
     "output_type": "stream",
     "text": [
      "\u001B[34m*\u001B[0m\u001B[34m*\u001B[0m\u001B[34m*\u001B[0m\u001B[34m*\u001B[0m\u001B[34m*\u001B[0m\u001B[34m*\u001B[0m\u001B[34m*\u001B[0m\u001B[34m*\u001B[0m\u001B[34m*\u001B[0m\u001B[34m*\u001B[0m\u001B[34m*\u001B[0m\u001B[34m*\u001B[0m\u001B[34m*\u001B[0m\u001B[34m*\u001B[0m\u001B[34m*\u001B[0m\u001B[34m*\u001B[0m\u001B[34m*\u001B[0m\u001B[34m*\u001B[0m\u001B[34m*\u001B[0m\u001B[34m*\u001B[0m\u001B[34m*\u001B[0m\u001B[34m*\u001B[0m\u001B[34m*\u001B[0m\u001B[34m*\u001B[0m\u001B[34m*\u001B[0m\u001B[34m*\u001B[0m\u001B[34m*\u001B[0m\u001B[34m*\u001B[0m\u001B[34m*\u001B[0m\u001B[34m*\u001B[0m\u001B[34m*\u001B[0m\u001B[34m*\u001B[0m\u001B[34m*\u001B[0m\u001B[34m*\u001B[0m\u001B[34m*\u001B[0m\u001B[34m*\u001B[0m\u001B[34m*\u001B[0m\u001B[34m*\u001B[0m\u001B[34m*\u001B[0m\u001B[34m*\u001B[0m\u001B[34m*\u001B[0m\u001B[34m*\u001B[0m\u001B[34m*\u001B[0m\u001B[34m*\u001B[0m\u001B[34m*\u001B[0m\u001B[34m*\u001B[0m\u001B[34m*\u001B[0m\u001B[34m*\u001B[0m\u001B[34m*\u001B[0m\u001B[34m*\u001B[0m\u001B[34m*\u001B[0m\u001B[34m*\u001B[0m\u001B[34m*\u001B[0m\u001B[34m*\u001B[0m\u001B[34m*\u001B[0m\u001B[34m*\u001B[0m\u001B[34m*\u001B[0m\u001B[34m*\u001B[0m\u001B[34m*\u001B[0m\u001B[34m*\u001B[0m\u001B[34m*\u001B[0m\u001B[34m*\u001B[0m\u001B[34m*\u001B[0m\u001B[34m*\u001B[0m\u001B[34m*\u001B[0m\u001B[34m*\u001B[0m\u001B[34m*\u001B[0m\u001B[34m*\u001B[0m\u001B[34m*\u001B[0m\u001B[34m*\u001B[0m\u001B[34m*\u001B[0m\u001B[34m*\u001B[0m\u001B[34m*\u001B[0m\u001B[34m*\u001B[0m\u001B[34m*\u001B[0m\u001B[34m*\u001B[0m\u001B[34m*\u001B[0m\u001B[34m*\u001B[0m\u001B[34m*\u001B[0m\u001B[34m*\u001B[0m\u001B[34m*\u001B[0m\u001B[34m*\u001B[0m\u001B[34m*\u001B[0m\u001B[34m*\u001B[0m\u001B[34m*\u001B[0m\u001B[34m*\u001B[0m\u001B[34m*\u001B[0m\u001B[34m*\u001B[0m\u001B[34m*\u001B[0m\u001B[34m*\u001B[0m\u001B[34m*\u001B[0m\u001B[34m*\u001B[0m\u001B[34m*\u001B[0m\u001B[34m*\u001B[0m\u001B[34m*\u001B[0m\n",
      "\u001B[32m** Rozwiązanie ********************************************************************************\u001B[0m\n"
     ]
    },
    {
     "data": {
      "text/plain": [
       "<IPython.core.display.Latex object>"
      ],
      "text/latex": "$$z = - \\frac{52 x}{7} + \\frac{12 y}{7} - \\frac{65}{7}$$"
     },
     "metadata": {},
     "output_type": "display_data"
    },
    {
     "name": "stdout",
     "output_type": "stream",
     "text": [
      "\u001B[32m*\u001B[0m\u001B[32m*\u001B[0m\u001B[32m*\u001B[0m\u001B[32m*\u001B[0m\u001B[32m*\u001B[0m\u001B[32m*\u001B[0m\u001B[32m*\u001B[0m\u001B[32m*\u001B[0m\u001B[32m*\u001B[0m\u001B[32m*\u001B[0m\u001B[32m*\u001B[0m\u001B[32m*\u001B[0m\u001B[32m*\u001B[0m\u001B[32m*\u001B[0m\u001B[32m*\u001B[0m\u001B[32m*\u001B[0m\u001B[32m*\u001B[0m\u001B[32m*\u001B[0m\u001B[32m*\u001B[0m\u001B[32m*\u001B[0m\u001B[32m*\u001B[0m\u001B[32m*\u001B[0m\u001B[32m*\u001B[0m\u001B[32m*\u001B[0m\u001B[32m*\u001B[0m\u001B[32m*\u001B[0m\u001B[32m*\u001B[0m\u001B[32m*\u001B[0m\u001B[32m*\u001B[0m\u001B[32m*\u001B[0m\u001B[32m*\u001B[0m\u001B[32m*\u001B[0m\u001B[32m*\u001B[0m\u001B[32m*\u001B[0m\u001B[32m*\u001B[0m\u001B[32m*\u001B[0m\u001B[32m*\u001B[0m\u001B[32m*\u001B[0m\u001B[32m*\u001B[0m\u001B[32m*\u001B[0m\u001B[32m*\u001B[0m\u001B[32m*\u001B[0m\u001B[32m*\u001B[0m\u001B[32m*\u001B[0m\u001B[32m*\u001B[0m\u001B[32m*\u001B[0m\u001B[32m*\u001B[0m\u001B[32m*\u001B[0m\u001B[32m*\u001B[0m\u001B[32m*\u001B[0m\u001B[32m*\u001B[0m\u001B[32m*\u001B[0m\u001B[32m*\u001B[0m\u001B[32m*\u001B[0m\u001B[32m*\u001B[0m\u001B[32m*\u001B[0m\u001B[32m*\u001B[0m\u001B[32m*\u001B[0m\u001B[32m*\u001B[0m\u001B[32m*\u001B[0m\u001B[32m*\u001B[0m\u001B[32m*\u001B[0m\u001B[32m*\u001B[0m\u001B[32m*\u001B[0m\u001B[32m*\u001B[0m\u001B[32m*\u001B[0m\u001B[32m*\u001B[0m\u001B[32m*\u001B[0m\u001B[32m*\u001B[0m\u001B[32m*\u001B[0m\u001B[32m*\u001B[0m\u001B[32m*\u001B[0m\u001B[32m*\u001B[0m\u001B[32m*\u001B[0m\u001B[32m*\u001B[0m\u001B[32m*\u001B[0m\u001B[32m*\u001B[0m\u001B[32m*\u001B[0m\u001B[32m*\u001B[0m\u001B[32m*\u001B[0m\u001B[32m*\u001B[0m\u001B[32m*\u001B[0m\u001B[32m*\u001B[0m\u001B[32m*\u001B[0m\u001B[32m*\u001B[0m\u001B[32m*\u001B[0m\u001B[32m*\u001B[0m\u001B[32m*\u001B[0m\u001B[32m*\u001B[0m\u001B[32m*\u001B[0m\u001B[32m*\u001B[0m\u001B[32m*\u001B[0m\u001B[32m*\u001B[0m\u001B[32m*\u001B[0m\u001B[32m*\u001B[0m\n",
      "\u001B[34m** Zadanie 5 **********************************************************************************\u001B[0m\n"
     ]
    },
    {
     "data": {
      "text/plain": [
       "<IPython.core.display.Markdown object>"
      ],
      "text/markdown": "Wyznaczyć płaszczyznę styczną do powierzchni"
     },
     "metadata": {},
     "output_type": "display_data"
    },
    {
     "data": {
      "text/plain": [
       "<IPython.core.display.Latex object>"
      ],
      "text/latex": "$$f(x,y)=5 x + 5 y + \\frac{2}{y} + \\frac{4 y}{x}$$"
     },
     "metadata": {},
     "output_type": "display_data"
    },
    {
     "data": {
      "text/plain": [
       "<IPython.core.display.Markdown object>"
      ],
      "text/markdown": "w punkcie"
     },
     "metadata": {},
     "output_type": "display_data"
    },
    {
     "data": {
      "text/plain": [
       "<IPython.core.display.Latex object>"
      ],
      "text/latex": "$$P=(1,-1,f(1,-1)).$$"
     },
     "metadata": {},
     "output_type": "display_data"
    },
    {
     "name": "stdout",
     "output_type": "stream",
     "text": [
      "\u001B[34m*\u001B[0m\u001B[34m*\u001B[0m\u001B[34m*\u001B[0m\u001B[34m*\u001B[0m\u001B[34m*\u001B[0m\u001B[34m*\u001B[0m\u001B[34m*\u001B[0m\u001B[34m*\u001B[0m\u001B[34m*\u001B[0m\u001B[34m*\u001B[0m\u001B[34m*\u001B[0m\u001B[34m*\u001B[0m\u001B[34m*\u001B[0m\u001B[34m*\u001B[0m\u001B[34m*\u001B[0m\u001B[34m*\u001B[0m\u001B[34m*\u001B[0m\u001B[34m*\u001B[0m\u001B[34m*\u001B[0m\u001B[34m*\u001B[0m\u001B[34m*\u001B[0m\u001B[34m*\u001B[0m\u001B[34m*\u001B[0m\u001B[34m*\u001B[0m\u001B[34m*\u001B[0m\u001B[34m*\u001B[0m\u001B[34m*\u001B[0m\u001B[34m*\u001B[0m\u001B[34m*\u001B[0m\u001B[34m*\u001B[0m\u001B[34m*\u001B[0m\u001B[34m*\u001B[0m\u001B[34m*\u001B[0m\u001B[34m*\u001B[0m\u001B[34m*\u001B[0m\u001B[34m*\u001B[0m\u001B[34m*\u001B[0m\u001B[34m*\u001B[0m\u001B[34m*\u001B[0m\u001B[34m*\u001B[0m\u001B[34m*\u001B[0m\u001B[34m*\u001B[0m\u001B[34m*\u001B[0m\u001B[34m*\u001B[0m\u001B[34m*\u001B[0m\u001B[34m*\u001B[0m\u001B[34m*\u001B[0m\u001B[34m*\u001B[0m\u001B[34m*\u001B[0m\u001B[34m*\u001B[0m\u001B[34m*\u001B[0m\u001B[34m*\u001B[0m\u001B[34m*\u001B[0m\u001B[34m*\u001B[0m\u001B[34m*\u001B[0m\u001B[34m*\u001B[0m\u001B[34m*\u001B[0m\u001B[34m*\u001B[0m\u001B[34m*\u001B[0m\u001B[34m*\u001B[0m\u001B[34m*\u001B[0m\u001B[34m*\u001B[0m\u001B[34m*\u001B[0m\u001B[34m*\u001B[0m\u001B[34m*\u001B[0m\u001B[34m*\u001B[0m\u001B[34m*\u001B[0m\u001B[34m*\u001B[0m\u001B[34m*\u001B[0m\u001B[34m*\u001B[0m\u001B[34m*\u001B[0m\u001B[34m*\u001B[0m\u001B[34m*\u001B[0m\u001B[34m*\u001B[0m\u001B[34m*\u001B[0m\u001B[34m*\u001B[0m\u001B[34m*\u001B[0m\u001B[34m*\u001B[0m\u001B[34m*\u001B[0m\u001B[34m*\u001B[0m\u001B[34m*\u001B[0m\u001B[34m*\u001B[0m\u001B[34m*\u001B[0m\u001B[34m*\u001B[0m\u001B[34m*\u001B[0m\u001B[34m*\u001B[0m\u001B[34m*\u001B[0m\u001B[34m*\u001B[0m\u001B[34m*\u001B[0m\u001B[34m*\u001B[0m\u001B[34m*\u001B[0m\u001B[34m*\u001B[0m\u001B[34m*\u001B[0m\u001B[34m*\u001B[0m\u001B[34m*\u001B[0m\n",
      "\u001B[32m** Rozwiązanie ********************************************************************************\u001B[0m\n"
     ]
    },
    {
     "data": {
      "text/plain": [
       "<IPython.core.display.Latex object>"
      ],
      "text/latex": "$$z = 9 x + 7 y - 8$$"
     },
     "metadata": {},
     "output_type": "display_data"
    },
    {
     "name": "stdout",
     "output_type": "stream",
     "text": [
      "\u001B[32m*\u001B[0m\u001B[32m*\u001B[0m\u001B[32m*\u001B[0m\u001B[32m*\u001B[0m\u001B[32m*\u001B[0m\u001B[32m*\u001B[0m\u001B[32m*\u001B[0m\u001B[32m*\u001B[0m\u001B[32m*\u001B[0m\u001B[32m*\u001B[0m\u001B[32m*\u001B[0m\u001B[32m*\u001B[0m\u001B[32m*\u001B[0m\u001B[32m*\u001B[0m\u001B[32m*\u001B[0m\u001B[32m*\u001B[0m\u001B[32m*\u001B[0m\u001B[32m*\u001B[0m\u001B[32m*\u001B[0m\u001B[32m*\u001B[0m\u001B[32m*\u001B[0m\u001B[32m*\u001B[0m\u001B[32m*\u001B[0m\u001B[32m*\u001B[0m\u001B[32m*\u001B[0m\u001B[32m*\u001B[0m\u001B[32m*\u001B[0m\u001B[32m*\u001B[0m\u001B[32m*\u001B[0m\u001B[32m*\u001B[0m\u001B[32m*\u001B[0m\u001B[32m*\u001B[0m\u001B[32m*\u001B[0m\u001B[32m*\u001B[0m\u001B[32m*\u001B[0m\u001B[32m*\u001B[0m\u001B[32m*\u001B[0m\u001B[32m*\u001B[0m\u001B[32m*\u001B[0m\u001B[32m*\u001B[0m\u001B[32m*\u001B[0m\u001B[32m*\u001B[0m\u001B[32m*\u001B[0m\u001B[32m*\u001B[0m\u001B[32m*\u001B[0m\u001B[32m*\u001B[0m\u001B[32m*\u001B[0m\u001B[32m*\u001B[0m\u001B[32m*\u001B[0m\u001B[32m*\u001B[0m\u001B[32m*\u001B[0m\u001B[32m*\u001B[0m\u001B[32m*\u001B[0m\u001B[32m*\u001B[0m\u001B[32m*\u001B[0m\u001B[32m*\u001B[0m\u001B[32m*\u001B[0m\u001B[32m*\u001B[0m\u001B[32m*\u001B[0m\u001B[32m*\u001B[0m\u001B[32m*\u001B[0m\u001B[32m*\u001B[0m\u001B[32m*\u001B[0m\u001B[32m*\u001B[0m\u001B[32m*\u001B[0m\u001B[32m*\u001B[0m\u001B[32m*\u001B[0m\u001B[32m*\u001B[0m\u001B[32m*\u001B[0m\u001B[32m*\u001B[0m\u001B[32m*\u001B[0m\u001B[32m*\u001B[0m\u001B[32m*\u001B[0m\u001B[32m*\u001B[0m\u001B[32m*\u001B[0m\u001B[32m*\u001B[0m\u001B[32m*\u001B[0m\u001B[32m*\u001B[0m\u001B[32m*\u001B[0m\u001B[32m*\u001B[0m\u001B[32m*\u001B[0m\u001B[32m*\u001B[0m\u001B[32m*\u001B[0m\u001B[32m*\u001B[0m\u001B[32m*\u001B[0m\u001B[32m*\u001B[0m\u001B[32m*\u001B[0m\u001B[32m*\u001B[0m\u001B[32m*\u001B[0m\u001B[32m*\u001B[0m\u001B[32m*\u001B[0m\u001B[32m*\u001B[0m\u001B[32m*\u001B[0m\u001B[32m*\u001B[0m\u001B[32m*\u001B[0m\n",
      "\u001B[34m** Zadanie 6 **********************************************************************************\u001B[0m\n"
     ]
    },
    {
     "data": {
      "text/plain": [
       "<IPython.core.display.Markdown object>"
      ],
      "text/markdown": "Wyznaczyć płaszczyznę styczną do powierzchni"
     },
     "metadata": {},
     "output_type": "display_data"
    },
    {
     "data": {
      "text/plain": [
       "<IPython.core.display.Latex object>"
      ],
      "text/latex": "$$f(x,y)=\\sqrt{- x^{2} + 4 y^{2} + 16}$$"
     },
     "metadata": {},
     "output_type": "display_data"
    },
    {
     "data": {
      "text/plain": [
       "<IPython.core.display.Markdown object>"
      ],
      "text/markdown": "w punkcie"
     },
     "metadata": {},
     "output_type": "display_data"
    },
    {
     "data": {
      "text/plain": [
       "<IPython.core.display.Latex object>"
      ],
      "text/latex": "$$P=(-4,-3,f(-4,-3)).$$"
     },
     "metadata": {},
     "output_type": "display_data"
    },
    {
     "name": "stdout",
     "output_type": "stream",
     "text": [
      "\u001B[34m*\u001B[0m\u001B[34m*\u001B[0m\u001B[34m*\u001B[0m\u001B[34m*\u001B[0m\u001B[34m*\u001B[0m\u001B[34m*\u001B[0m\u001B[34m*\u001B[0m\u001B[34m*\u001B[0m\u001B[34m*\u001B[0m\u001B[34m*\u001B[0m\u001B[34m*\u001B[0m\u001B[34m*\u001B[0m\u001B[34m*\u001B[0m\u001B[34m*\u001B[0m\u001B[34m*\u001B[0m\u001B[34m*\u001B[0m\u001B[34m*\u001B[0m\u001B[34m*\u001B[0m\u001B[34m*\u001B[0m\u001B[34m*\u001B[0m\u001B[34m*\u001B[0m\u001B[34m*\u001B[0m\u001B[34m*\u001B[0m\u001B[34m*\u001B[0m\u001B[34m*\u001B[0m\u001B[34m*\u001B[0m\u001B[34m*\u001B[0m\u001B[34m*\u001B[0m\u001B[34m*\u001B[0m\u001B[34m*\u001B[0m\u001B[34m*\u001B[0m\u001B[34m*\u001B[0m\u001B[34m*\u001B[0m\u001B[34m*\u001B[0m\u001B[34m*\u001B[0m\u001B[34m*\u001B[0m\u001B[34m*\u001B[0m\u001B[34m*\u001B[0m\u001B[34m*\u001B[0m\u001B[34m*\u001B[0m\u001B[34m*\u001B[0m\u001B[34m*\u001B[0m\u001B[34m*\u001B[0m\u001B[34m*\u001B[0m\u001B[34m*\u001B[0m\u001B[34m*\u001B[0m\u001B[34m*\u001B[0m\u001B[34m*\u001B[0m\u001B[34m*\u001B[0m\u001B[34m*\u001B[0m\u001B[34m*\u001B[0m\u001B[34m*\u001B[0m\u001B[34m*\u001B[0m\u001B[34m*\u001B[0m\u001B[34m*\u001B[0m\u001B[34m*\u001B[0m\u001B[34m*\u001B[0m\u001B[34m*\u001B[0m\u001B[34m*\u001B[0m\u001B[34m*\u001B[0m\u001B[34m*\u001B[0m\u001B[34m*\u001B[0m\u001B[34m*\u001B[0m\u001B[34m*\u001B[0m\u001B[34m*\u001B[0m\u001B[34m*\u001B[0m\u001B[34m*\u001B[0m\u001B[34m*\u001B[0m\u001B[34m*\u001B[0m\u001B[34m*\u001B[0m\u001B[34m*\u001B[0m\u001B[34m*\u001B[0m\u001B[34m*\u001B[0m\u001B[34m*\u001B[0m\u001B[34m*\u001B[0m\u001B[34m*\u001B[0m\u001B[34m*\u001B[0m\u001B[34m*\u001B[0m\u001B[34m*\u001B[0m\u001B[34m*\u001B[0m\u001B[34m*\u001B[0m\u001B[34m*\u001B[0m\u001B[34m*\u001B[0m\u001B[34m*\u001B[0m\u001B[34m*\u001B[0m\u001B[34m*\u001B[0m\u001B[34m*\u001B[0m\u001B[34m*\u001B[0m\u001B[34m*\u001B[0m\u001B[34m*\u001B[0m\u001B[34m*\u001B[0m\u001B[34m*\u001B[0m\u001B[34m*\u001B[0m\u001B[34m*\u001B[0m\u001B[34m*\u001B[0m\n",
      "\u001B[32m** Rozwiązanie ********************************************************************************\u001B[0m\n"
     ]
    },
    {
     "data": {
      "text/plain": [
       "<IPython.core.display.Latex object>"
      ],
      "text/latex": "$$z = \\frac{2 x}{3} - 2 y + \\frac{8}{3}$$"
     },
     "metadata": {},
     "output_type": "display_data"
    },
    {
     "name": "stdout",
     "output_type": "stream",
     "text": [
      "\u001B[32m*\u001B[0m\u001B[32m*\u001B[0m\u001B[32m*\u001B[0m\u001B[32m*\u001B[0m\u001B[32m*\u001B[0m\u001B[32m*\u001B[0m\u001B[32m*\u001B[0m\u001B[32m*\u001B[0m\u001B[32m*\u001B[0m\u001B[32m*\u001B[0m\u001B[32m*\u001B[0m\u001B[32m*\u001B[0m\u001B[32m*\u001B[0m\u001B[32m*\u001B[0m\u001B[32m*\u001B[0m\u001B[32m*\u001B[0m\u001B[32m*\u001B[0m\u001B[32m*\u001B[0m\u001B[32m*\u001B[0m\u001B[32m*\u001B[0m\u001B[32m*\u001B[0m\u001B[32m*\u001B[0m\u001B[32m*\u001B[0m\u001B[32m*\u001B[0m\u001B[32m*\u001B[0m\u001B[32m*\u001B[0m\u001B[32m*\u001B[0m\u001B[32m*\u001B[0m\u001B[32m*\u001B[0m\u001B[32m*\u001B[0m\u001B[32m*\u001B[0m\u001B[32m*\u001B[0m\u001B[32m*\u001B[0m\u001B[32m*\u001B[0m\u001B[32m*\u001B[0m\u001B[32m*\u001B[0m\u001B[32m*\u001B[0m\u001B[32m*\u001B[0m\u001B[32m*\u001B[0m\u001B[32m*\u001B[0m\u001B[32m*\u001B[0m\u001B[32m*\u001B[0m\u001B[32m*\u001B[0m\u001B[32m*\u001B[0m\u001B[32m*\u001B[0m\u001B[32m*\u001B[0m\u001B[32m*\u001B[0m\u001B[32m*\u001B[0m\u001B[32m*\u001B[0m\u001B[32m*\u001B[0m\u001B[32m*\u001B[0m\u001B[32m*\u001B[0m\u001B[32m*\u001B[0m\u001B[32m*\u001B[0m\u001B[32m*\u001B[0m\u001B[32m*\u001B[0m\u001B[32m*\u001B[0m\u001B[32m*\u001B[0m\u001B[32m*\u001B[0m\u001B[32m*\u001B[0m\u001B[32m*\u001B[0m\u001B[32m*\u001B[0m\u001B[32m*\u001B[0m\u001B[32m*\u001B[0m\u001B[32m*\u001B[0m\u001B[32m*\u001B[0m\u001B[32m*\u001B[0m\u001B[32m*\u001B[0m\u001B[32m*\u001B[0m\u001B[32m*\u001B[0m\u001B[32m*\u001B[0m\u001B[32m*\u001B[0m\u001B[32m*\u001B[0m\u001B[32m*\u001B[0m\u001B[32m*\u001B[0m\u001B[32m*\u001B[0m\u001B[32m*\u001B[0m\u001B[32m*\u001B[0m\u001B[32m*\u001B[0m\u001B[32m*\u001B[0m\u001B[32m*\u001B[0m\u001B[32m*\u001B[0m\u001B[32m*\u001B[0m\u001B[32m*\u001B[0m\u001B[32m*\u001B[0m\u001B[32m*\u001B[0m\u001B[32m*\u001B[0m\u001B[32m*\u001B[0m\u001B[32m*\u001B[0m\u001B[32m*\u001B[0m\u001B[32m*\u001B[0m\u001B[32m*\u001B[0m\u001B[32m*\u001B[0m\u001B[32m*\u001B[0m\u001B[32m*\u001B[0m\n",
      "\u001B[34m** Zadanie 7 **********************************************************************************\u001B[0m\n"
     ]
    },
    {
     "data": {
      "text/plain": [
       "<IPython.core.display.Markdown object>"
      ],
      "text/markdown": "Wyznaczyć płaszczyznę styczną do powierzchni"
     },
     "metadata": {},
     "output_type": "display_data"
    },
    {
     "data": {
      "text/plain": [
       "<IPython.core.display.Latex object>"
      ],
      "text/latex": "$$f(x,y)=\\frac{\\sqrt{4 x^{2} + 2 y^{2} + 1}}{2 y}$$"
     },
     "metadata": {},
     "output_type": "display_data"
    },
    {
     "data": {
      "text/plain": [
       "<IPython.core.display.Markdown object>"
      ],
      "text/markdown": "w punkcie"
     },
     "metadata": {},
     "output_type": "display_data"
    },
    {
     "data": {
      "text/plain": [
       "<IPython.core.display.Latex object>"
      ],
      "text/latex": "$$P=(-2,4,f(-2,4)).$$"
     },
     "metadata": {},
     "output_type": "display_data"
    },
    {
     "name": "stdout",
     "output_type": "stream",
     "text": [
      "\u001B[34m*\u001B[0m\u001B[34m*\u001B[0m\u001B[34m*\u001B[0m\u001B[34m*\u001B[0m\u001B[34m*\u001B[0m\u001B[34m*\u001B[0m\u001B[34m*\u001B[0m\u001B[34m*\u001B[0m\u001B[34m*\u001B[0m\u001B[34m*\u001B[0m\u001B[34m*\u001B[0m\u001B[34m*\u001B[0m\u001B[34m*\u001B[0m\u001B[34m*\u001B[0m\u001B[34m*\u001B[0m\u001B[34m*\u001B[0m\u001B[34m*\u001B[0m\u001B[34m*\u001B[0m\u001B[34m*\u001B[0m\u001B[34m*\u001B[0m\u001B[34m*\u001B[0m\u001B[34m*\u001B[0m\u001B[34m*\u001B[0m\u001B[34m*\u001B[0m\u001B[34m*\u001B[0m\u001B[34m*\u001B[0m\u001B[34m*\u001B[0m\u001B[34m*\u001B[0m\u001B[34m*\u001B[0m\u001B[34m*\u001B[0m\u001B[34m*\u001B[0m\u001B[34m*\u001B[0m\u001B[34m*\u001B[0m\u001B[34m*\u001B[0m\u001B[34m*\u001B[0m\u001B[34m*\u001B[0m\u001B[34m*\u001B[0m\u001B[34m*\u001B[0m\u001B[34m*\u001B[0m\u001B[34m*\u001B[0m\u001B[34m*\u001B[0m\u001B[34m*\u001B[0m\u001B[34m*\u001B[0m\u001B[34m*\u001B[0m\u001B[34m*\u001B[0m\u001B[34m*\u001B[0m\u001B[34m*\u001B[0m\u001B[34m*\u001B[0m\u001B[34m*\u001B[0m\u001B[34m*\u001B[0m\u001B[34m*\u001B[0m\u001B[34m*\u001B[0m\u001B[34m*\u001B[0m\u001B[34m*\u001B[0m\u001B[34m*\u001B[0m\u001B[34m*\u001B[0m\u001B[34m*\u001B[0m\u001B[34m*\u001B[0m\u001B[34m*\u001B[0m\u001B[34m*\u001B[0m\u001B[34m*\u001B[0m\u001B[34m*\u001B[0m\u001B[34m*\u001B[0m\u001B[34m*\u001B[0m\u001B[34m*\u001B[0m\u001B[34m*\u001B[0m\u001B[34m*\u001B[0m\u001B[34m*\u001B[0m\u001B[34m*\u001B[0m\u001B[34m*\u001B[0m\u001B[34m*\u001B[0m\u001B[34m*\u001B[0m\u001B[34m*\u001B[0m\u001B[34m*\u001B[0m\u001B[34m*\u001B[0m\u001B[34m*\u001B[0m\u001B[34m*\u001B[0m\u001B[34m*\u001B[0m\u001B[34m*\u001B[0m\u001B[34m*\u001B[0m\u001B[34m*\u001B[0m\u001B[34m*\u001B[0m\u001B[34m*\u001B[0m\u001B[34m*\u001B[0m\u001B[34m*\u001B[0m\u001B[34m*\u001B[0m\u001B[34m*\u001B[0m\u001B[34m*\u001B[0m\u001B[34m*\u001B[0m\u001B[34m*\u001B[0m\u001B[34m*\u001B[0m\u001B[34m*\u001B[0m\u001B[34m*\u001B[0m\u001B[34m*\u001B[0m\u001B[34m*\u001B[0m\n",
      "\u001B[32m** Rozwiązanie ********************************************************************************\u001B[0m\n"
     ]
    },
    {
     "data": {
      "text/plain": [
       "<IPython.core.display.Latex object>"
      ],
      "text/latex": "$$z = - \\frac{x}{7} - \\frac{17 y}{224} + \\frac{25}{28}$$"
     },
     "metadata": {},
     "output_type": "display_data"
    },
    {
     "name": "stdout",
     "output_type": "stream",
     "text": [
      "\u001B[32m*\u001B[0m\u001B[32m*\u001B[0m\u001B[32m*\u001B[0m\u001B[32m*\u001B[0m\u001B[32m*\u001B[0m\u001B[32m*\u001B[0m\u001B[32m*\u001B[0m\u001B[32m*\u001B[0m\u001B[32m*\u001B[0m\u001B[32m*\u001B[0m\u001B[32m*\u001B[0m\u001B[32m*\u001B[0m\u001B[32m*\u001B[0m\u001B[32m*\u001B[0m\u001B[32m*\u001B[0m\u001B[32m*\u001B[0m\u001B[32m*\u001B[0m\u001B[32m*\u001B[0m\u001B[32m*\u001B[0m\u001B[32m*\u001B[0m\u001B[32m*\u001B[0m\u001B[32m*\u001B[0m\u001B[32m*\u001B[0m\u001B[32m*\u001B[0m\u001B[32m*\u001B[0m\u001B[32m*\u001B[0m\u001B[32m*\u001B[0m\u001B[32m*\u001B[0m\u001B[32m*\u001B[0m\u001B[32m*\u001B[0m\u001B[32m*\u001B[0m\u001B[32m*\u001B[0m\u001B[32m*\u001B[0m\u001B[32m*\u001B[0m\u001B[32m*\u001B[0m\u001B[32m*\u001B[0m\u001B[32m*\u001B[0m\u001B[32m*\u001B[0m\u001B[32m*\u001B[0m\u001B[32m*\u001B[0m\u001B[32m*\u001B[0m\u001B[32m*\u001B[0m\u001B[32m*\u001B[0m\u001B[32m*\u001B[0m\u001B[32m*\u001B[0m\u001B[32m*\u001B[0m\u001B[32m*\u001B[0m\u001B[32m*\u001B[0m\u001B[32m*\u001B[0m\u001B[32m*\u001B[0m\u001B[32m*\u001B[0m\u001B[32m*\u001B[0m\u001B[32m*\u001B[0m\u001B[32m*\u001B[0m\u001B[32m*\u001B[0m\u001B[32m*\u001B[0m\u001B[32m*\u001B[0m\u001B[32m*\u001B[0m\u001B[32m*\u001B[0m\u001B[32m*\u001B[0m\u001B[32m*\u001B[0m\u001B[32m*\u001B[0m\u001B[32m*\u001B[0m\u001B[32m*\u001B[0m\u001B[32m*\u001B[0m\u001B[32m*\u001B[0m\u001B[32m*\u001B[0m\u001B[32m*\u001B[0m\u001B[32m*\u001B[0m\u001B[32m*\u001B[0m\u001B[32m*\u001B[0m\u001B[32m*\u001B[0m\u001B[32m*\u001B[0m\u001B[32m*\u001B[0m\u001B[32m*\u001B[0m\u001B[32m*\u001B[0m\u001B[32m*\u001B[0m\u001B[32m*\u001B[0m\u001B[32m*\u001B[0m\u001B[32m*\u001B[0m\u001B[32m*\u001B[0m\u001B[32m*\u001B[0m\u001B[32m*\u001B[0m\u001B[32m*\u001B[0m\u001B[32m*\u001B[0m\u001B[32m*\u001B[0m\u001B[32m*\u001B[0m\u001B[32m*\u001B[0m\u001B[32m*\u001B[0m\u001B[32m*\u001B[0m\u001B[32m*\u001B[0m\u001B[32m*\u001B[0m\u001B[32m*\u001B[0m\u001B[32m*\u001B[0m\u001B[32m*\u001B[0m\n",
      "\u001B[34m** Zadanie 8 **********************************************************************************\u001B[0m\n"
     ]
    },
    {
     "data": {
      "text/plain": [
       "<IPython.core.display.Markdown object>"
      ],
      "text/markdown": "Wyznaczyć płaszczyznę styczną do powierzchni"
     },
     "metadata": {},
     "output_type": "display_data"
    },
    {
     "data": {
      "text/plain": [
       "<IPython.core.display.Latex object>"
      ],
      "text/latex": "$$f(x,y)=3 x^{2} y + 3 x^{2} + 3 x y^{3} + 5 y^{2}$$"
     },
     "metadata": {},
     "output_type": "display_data"
    },
    {
     "data": {
      "text/plain": [
       "<IPython.core.display.Markdown object>"
      ],
      "text/markdown": "w punkcie"
     },
     "metadata": {},
     "output_type": "display_data"
    },
    {
     "data": {
      "text/plain": [
       "<IPython.core.display.Latex object>"
      ],
      "text/latex": "$$P=(1,-1,f(1,-1)).$$"
     },
     "metadata": {},
     "output_type": "display_data"
    },
    {
     "name": "stdout",
     "output_type": "stream",
     "text": [
      "\u001B[34m*\u001B[0m\u001B[34m*\u001B[0m\u001B[34m*\u001B[0m\u001B[34m*\u001B[0m\u001B[34m*\u001B[0m\u001B[34m*\u001B[0m\u001B[34m*\u001B[0m\u001B[34m*\u001B[0m\u001B[34m*\u001B[0m\u001B[34m*\u001B[0m\u001B[34m*\u001B[0m\u001B[34m*\u001B[0m\u001B[34m*\u001B[0m\u001B[34m*\u001B[0m\u001B[34m*\u001B[0m\u001B[34m*\u001B[0m\u001B[34m*\u001B[0m\u001B[34m*\u001B[0m\u001B[34m*\u001B[0m\u001B[34m*\u001B[0m\u001B[34m*\u001B[0m\u001B[34m*\u001B[0m\u001B[34m*\u001B[0m\u001B[34m*\u001B[0m\u001B[34m*\u001B[0m\u001B[34m*\u001B[0m\u001B[34m*\u001B[0m\u001B[34m*\u001B[0m\u001B[34m*\u001B[0m\u001B[34m*\u001B[0m\u001B[34m*\u001B[0m\u001B[34m*\u001B[0m\u001B[34m*\u001B[0m\u001B[34m*\u001B[0m\u001B[34m*\u001B[0m\u001B[34m*\u001B[0m\u001B[34m*\u001B[0m\u001B[34m*\u001B[0m\u001B[34m*\u001B[0m\u001B[34m*\u001B[0m\u001B[34m*\u001B[0m\u001B[34m*\u001B[0m\u001B[34m*\u001B[0m\u001B[34m*\u001B[0m\u001B[34m*\u001B[0m\u001B[34m*\u001B[0m\u001B[34m*\u001B[0m\u001B[34m*\u001B[0m\u001B[34m*\u001B[0m\u001B[34m*\u001B[0m\u001B[34m*\u001B[0m\u001B[34m*\u001B[0m\u001B[34m*\u001B[0m\u001B[34m*\u001B[0m\u001B[34m*\u001B[0m\u001B[34m*\u001B[0m\u001B[34m*\u001B[0m\u001B[34m*\u001B[0m\u001B[34m*\u001B[0m\u001B[34m*\u001B[0m\u001B[34m*\u001B[0m\u001B[34m*\u001B[0m\u001B[34m*\u001B[0m\u001B[34m*\u001B[0m\u001B[34m*\u001B[0m\u001B[34m*\u001B[0m\u001B[34m*\u001B[0m\u001B[34m*\u001B[0m\u001B[34m*\u001B[0m\u001B[34m*\u001B[0m\u001B[34m*\u001B[0m\u001B[34m*\u001B[0m\u001B[34m*\u001B[0m\u001B[34m*\u001B[0m\u001B[34m*\u001B[0m\u001B[34m*\u001B[0m\u001B[34m*\u001B[0m\u001B[34m*\u001B[0m\u001B[34m*\u001B[0m\u001B[34m*\u001B[0m\u001B[34m*\u001B[0m\u001B[34m*\u001B[0m\u001B[34m*\u001B[0m\u001B[34m*\u001B[0m\u001B[34m*\u001B[0m\u001B[34m*\u001B[0m\u001B[34m*\u001B[0m\u001B[34m*\u001B[0m\u001B[34m*\u001B[0m\u001B[34m*\u001B[0m\u001B[34m*\u001B[0m\u001B[34m*\u001B[0m\u001B[34m*\u001B[0m\u001B[34m*\u001B[0m\u001B[34m*\u001B[0m\n",
      "\u001B[32m** Rozwiązanie ********************************************************************************\u001B[0m\n"
     ]
    },
    {
     "data": {
      "text/plain": [
       "<IPython.core.display.Latex object>"
      ],
      "text/latex": "$$z = - 3 x + 2 y + 7$$"
     },
     "metadata": {},
     "output_type": "display_data"
    },
    {
     "name": "stdout",
     "output_type": "stream",
     "text": [
      "\u001B[32m*\u001B[0m\u001B[32m*\u001B[0m\u001B[32m*\u001B[0m\u001B[32m*\u001B[0m\u001B[32m*\u001B[0m\u001B[32m*\u001B[0m\u001B[32m*\u001B[0m\u001B[32m*\u001B[0m\u001B[32m*\u001B[0m\u001B[32m*\u001B[0m\u001B[32m*\u001B[0m\u001B[32m*\u001B[0m\u001B[32m*\u001B[0m\u001B[32m*\u001B[0m\u001B[32m*\u001B[0m\u001B[32m*\u001B[0m\u001B[32m*\u001B[0m\u001B[32m*\u001B[0m\u001B[32m*\u001B[0m\u001B[32m*\u001B[0m\u001B[32m*\u001B[0m\u001B[32m*\u001B[0m\u001B[32m*\u001B[0m\u001B[32m*\u001B[0m\u001B[32m*\u001B[0m\u001B[32m*\u001B[0m\u001B[32m*\u001B[0m\u001B[32m*\u001B[0m\u001B[32m*\u001B[0m\u001B[32m*\u001B[0m\u001B[32m*\u001B[0m\u001B[32m*\u001B[0m\u001B[32m*\u001B[0m\u001B[32m*\u001B[0m\u001B[32m*\u001B[0m\u001B[32m*\u001B[0m\u001B[32m*\u001B[0m\u001B[32m*\u001B[0m\u001B[32m*\u001B[0m\u001B[32m*\u001B[0m\u001B[32m*\u001B[0m\u001B[32m*\u001B[0m\u001B[32m*\u001B[0m\u001B[32m*\u001B[0m\u001B[32m*\u001B[0m\u001B[32m*\u001B[0m\u001B[32m*\u001B[0m\u001B[32m*\u001B[0m\u001B[32m*\u001B[0m\u001B[32m*\u001B[0m\u001B[32m*\u001B[0m\u001B[32m*\u001B[0m\u001B[32m*\u001B[0m\u001B[32m*\u001B[0m\u001B[32m*\u001B[0m\u001B[32m*\u001B[0m\u001B[32m*\u001B[0m\u001B[32m*\u001B[0m\u001B[32m*\u001B[0m\u001B[32m*\u001B[0m\u001B[32m*\u001B[0m\u001B[32m*\u001B[0m\u001B[32m*\u001B[0m\u001B[32m*\u001B[0m\u001B[32m*\u001B[0m\u001B[32m*\u001B[0m\u001B[32m*\u001B[0m\u001B[32m*\u001B[0m\u001B[32m*\u001B[0m\u001B[32m*\u001B[0m\u001B[32m*\u001B[0m\u001B[32m*\u001B[0m\u001B[32m*\u001B[0m\u001B[32m*\u001B[0m\u001B[32m*\u001B[0m\u001B[32m*\u001B[0m\u001B[32m*\u001B[0m\u001B[32m*\u001B[0m\u001B[32m*\u001B[0m\u001B[32m*\u001B[0m\u001B[32m*\u001B[0m\u001B[32m*\u001B[0m\u001B[32m*\u001B[0m\u001B[32m*\u001B[0m\u001B[32m*\u001B[0m\u001B[32m*\u001B[0m\u001B[32m*\u001B[0m\u001B[32m*\u001B[0m\u001B[32m*\u001B[0m\u001B[32m*\u001B[0m\u001B[32m*\u001B[0m\u001B[32m*\u001B[0m\u001B[32m*\u001B[0m\u001B[32m*\u001B[0m\u001B[32m*\u001B[0m\n",
      "\u001B[34m** Zadanie 9 **********************************************************************************\u001B[0m\n"
     ]
    },
    {
     "data": {
      "text/plain": [
       "<IPython.core.display.Markdown object>"
      ],
      "text/markdown": "Wyznaczyć płaszczyznę styczną do powierzchni"
     },
     "metadata": {},
     "output_type": "display_data"
    },
    {
     "data": {
      "text/plain": [
       "<IPython.core.display.Latex object>"
      ],
      "text/latex": "$$f(x,y)=\\left(5 x - 4 y\\right) e^{3 x^{2} + 3 x + 2 y^{2} + 4 y}$$"
     },
     "metadata": {},
     "output_type": "display_data"
    },
    {
     "data": {
      "text/plain": [
       "<IPython.core.display.Markdown object>"
      ],
      "text/markdown": "w punkcie"
     },
     "metadata": {},
     "output_type": "display_data"
    },
    {
     "data": {
      "text/plain": [
       "<IPython.core.display.Latex object>"
      ],
      "text/latex": "$$P=(0,0,f(0,0)).$$"
     },
     "metadata": {},
     "output_type": "display_data"
    },
    {
     "name": "stdout",
     "output_type": "stream",
     "text": [
      "\u001B[34m*\u001B[0m\u001B[34m*\u001B[0m\u001B[34m*\u001B[0m\u001B[34m*\u001B[0m\u001B[34m*\u001B[0m\u001B[34m*\u001B[0m\u001B[34m*\u001B[0m\u001B[34m*\u001B[0m\u001B[34m*\u001B[0m\u001B[34m*\u001B[0m\u001B[34m*\u001B[0m\u001B[34m*\u001B[0m\u001B[34m*\u001B[0m\u001B[34m*\u001B[0m\u001B[34m*\u001B[0m\u001B[34m*\u001B[0m\u001B[34m*\u001B[0m\u001B[34m*\u001B[0m\u001B[34m*\u001B[0m\u001B[34m*\u001B[0m\u001B[34m*\u001B[0m\u001B[34m*\u001B[0m\u001B[34m*\u001B[0m\u001B[34m*\u001B[0m\u001B[34m*\u001B[0m\u001B[34m*\u001B[0m\u001B[34m*\u001B[0m\u001B[34m*\u001B[0m\u001B[34m*\u001B[0m\u001B[34m*\u001B[0m\u001B[34m*\u001B[0m\u001B[34m*\u001B[0m\u001B[34m*\u001B[0m\u001B[34m*\u001B[0m\u001B[34m*\u001B[0m\u001B[34m*\u001B[0m\u001B[34m*\u001B[0m\u001B[34m*\u001B[0m\u001B[34m*\u001B[0m\u001B[34m*\u001B[0m\u001B[34m*\u001B[0m\u001B[34m*\u001B[0m\u001B[34m*\u001B[0m\u001B[34m*\u001B[0m\u001B[34m*\u001B[0m\u001B[34m*\u001B[0m\u001B[34m*\u001B[0m\u001B[34m*\u001B[0m\u001B[34m*\u001B[0m\u001B[34m*\u001B[0m\u001B[34m*\u001B[0m\u001B[34m*\u001B[0m\u001B[34m*\u001B[0m\u001B[34m*\u001B[0m\u001B[34m*\u001B[0m\u001B[34m*\u001B[0m\u001B[34m*\u001B[0m\u001B[34m*\u001B[0m\u001B[34m*\u001B[0m\u001B[34m*\u001B[0m\u001B[34m*\u001B[0m\u001B[34m*\u001B[0m\u001B[34m*\u001B[0m\u001B[34m*\u001B[0m\u001B[34m*\u001B[0m\u001B[34m*\u001B[0m\u001B[34m*\u001B[0m\u001B[34m*\u001B[0m\u001B[34m*\u001B[0m\u001B[34m*\u001B[0m\u001B[34m*\u001B[0m\u001B[34m*\u001B[0m\u001B[34m*\u001B[0m\u001B[34m*\u001B[0m\u001B[34m*\u001B[0m\u001B[34m*\u001B[0m\u001B[34m*\u001B[0m\u001B[34m*\u001B[0m\u001B[34m*\u001B[0m\u001B[34m*\u001B[0m\u001B[34m*\u001B[0m\u001B[34m*\u001B[0m\u001B[34m*\u001B[0m\u001B[34m*\u001B[0m\u001B[34m*\u001B[0m\u001B[34m*\u001B[0m\u001B[34m*\u001B[0m\u001B[34m*\u001B[0m\u001B[34m*\u001B[0m\u001B[34m*\u001B[0m\u001B[34m*\u001B[0m\u001B[34m*\u001B[0m\u001B[34m*\u001B[0m\u001B[34m*\u001B[0m\u001B[34m*\u001B[0m\n",
      "\u001B[32m** Rozwiązanie ********************************************************************************\u001B[0m\n"
     ]
    },
    {
     "data": {
      "text/plain": [
       "<IPython.core.display.Latex object>"
      ],
      "text/latex": "$$z = 5 x - 4 y$$"
     },
     "metadata": {},
     "output_type": "display_data"
    },
    {
     "name": "stdout",
     "output_type": "stream",
     "text": [
      "\u001B[32m*\u001B[0m\u001B[32m*\u001B[0m\u001B[32m*\u001B[0m\u001B[32m*\u001B[0m\u001B[32m*\u001B[0m\u001B[32m*\u001B[0m\u001B[32m*\u001B[0m\u001B[32m*\u001B[0m\u001B[32m*\u001B[0m\u001B[32m*\u001B[0m\u001B[32m*\u001B[0m\u001B[32m*\u001B[0m\u001B[32m*\u001B[0m\u001B[32m*\u001B[0m\u001B[32m*\u001B[0m\u001B[32m*\u001B[0m\u001B[32m*\u001B[0m\u001B[32m*\u001B[0m\u001B[32m*\u001B[0m\u001B[32m*\u001B[0m\u001B[32m*\u001B[0m\u001B[32m*\u001B[0m\u001B[32m*\u001B[0m\u001B[32m*\u001B[0m\u001B[32m*\u001B[0m\u001B[32m*\u001B[0m\u001B[32m*\u001B[0m\u001B[32m*\u001B[0m\u001B[32m*\u001B[0m\u001B[32m*\u001B[0m\u001B[32m*\u001B[0m\u001B[32m*\u001B[0m\u001B[32m*\u001B[0m\u001B[32m*\u001B[0m\u001B[32m*\u001B[0m\u001B[32m*\u001B[0m\u001B[32m*\u001B[0m\u001B[32m*\u001B[0m\u001B[32m*\u001B[0m\u001B[32m*\u001B[0m\u001B[32m*\u001B[0m\u001B[32m*\u001B[0m\u001B[32m*\u001B[0m\u001B[32m*\u001B[0m\u001B[32m*\u001B[0m\u001B[32m*\u001B[0m\u001B[32m*\u001B[0m\u001B[32m*\u001B[0m\u001B[32m*\u001B[0m\u001B[32m*\u001B[0m\u001B[32m*\u001B[0m\u001B[32m*\u001B[0m\u001B[32m*\u001B[0m\u001B[32m*\u001B[0m\u001B[32m*\u001B[0m\u001B[32m*\u001B[0m\u001B[32m*\u001B[0m\u001B[32m*\u001B[0m\u001B[32m*\u001B[0m\u001B[32m*\u001B[0m\u001B[32m*\u001B[0m\u001B[32m*\u001B[0m\u001B[32m*\u001B[0m\u001B[32m*\u001B[0m\u001B[32m*\u001B[0m\u001B[32m*\u001B[0m\u001B[32m*\u001B[0m\u001B[32m*\u001B[0m\u001B[32m*\u001B[0m\u001B[32m*\u001B[0m\u001B[32m*\u001B[0m\u001B[32m*\u001B[0m\u001B[32m*\u001B[0m\u001B[32m*\u001B[0m\u001B[32m*\u001B[0m\u001B[32m*\u001B[0m\u001B[32m*\u001B[0m\u001B[32m*\u001B[0m\u001B[32m*\u001B[0m\u001B[32m*\u001B[0m\u001B[32m*\u001B[0m\u001B[32m*\u001B[0m\u001B[32m*\u001B[0m\u001B[32m*\u001B[0m\u001B[32m*\u001B[0m\u001B[32m*\u001B[0m\u001B[32m*\u001B[0m\u001B[32m*\u001B[0m\u001B[32m*\u001B[0m\u001B[32m*\u001B[0m\u001B[32m*\u001B[0m\u001B[32m*\u001B[0m\u001B[32m*\u001B[0m\u001B[32m*\u001B[0m\u001B[32m*\u001B[0m\n",
      "\u001B[34m** Zadanie 10 **********************************************************************************\u001B[0m\n"
     ]
    },
    {
     "data": {
      "text/plain": [
       "<IPython.core.display.Markdown object>"
      ],
      "text/markdown": "Wyznaczyć płaszczyznę styczną do powierzchni"
     },
     "metadata": {},
     "output_type": "display_data"
    },
    {
     "data": {
      "text/plain": [
       "<IPython.core.display.Latex object>"
      ],
      "text/latex": "$$f(x,y)=- \\frac{\\sqrt{3 x^{2} + 3 y^{2} + 4}}{3 y}$$"
     },
     "metadata": {},
     "output_type": "display_data"
    },
    {
     "data": {
      "text/plain": [
       "<IPython.core.display.Markdown object>"
      ],
      "text/markdown": "w punkcie"
     },
     "metadata": {},
     "output_type": "display_data"
    },
    {
     "data": {
      "text/plain": [
       "<IPython.core.display.Latex object>"
      ],
      "text/latex": "$$P=(4,-4,f(4,-4)).$$"
     },
     "metadata": {},
     "output_type": "display_data"
    },
    {
     "name": "stdout",
     "output_type": "stream",
     "text": [
      "\u001B[34m*\u001B[0m\u001B[34m*\u001B[0m\u001B[34m*\u001B[0m\u001B[34m*\u001B[0m\u001B[34m*\u001B[0m\u001B[34m*\u001B[0m\u001B[34m*\u001B[0m\u001B[34m*\u001B[0m\u001B[34m*\u001B[0m\u001B[34m*\u001B[0m\u001B[34m*\u001B[0m\u001B[34m*\u001B[0m\u001B[34m*\u001B[0m\u001B[34m*\u001B[0m\u001B[34m*\u001B[0m\u001B[34m*\u001B[0m\u001B[34m*\u001B[0m\u001B[34m*\u001B[0m\u001B[34m*\u001B[0m\u001B[34m*\u001B[0m\u001B[34m*\u001B[0m\u001B[34m*\u001B[0m\u001B[34m*\u001B[0m\u001B[34m*\u001B[0m\u001B[34m*\u001B[0m\u001B[34m*\u001B[0m\u001B[34m*\u001B[0m\u001B[34m*\u001B[0m\u001B[34m*\u001B[0m\u001B[34m*\u001B[0m\u001B[34m*\u001B[0m\u001B[34m*\u001B[0m\u001B[34m*\u001B[0m\u001B[34m*\u001B[0m\u001B[34m*\u001B[0m\u001B[34m*\u001B[0m\u001B[34m*\u001B[0m\u001B[34m*\u001B[0m\u001B[34m*\u001B[0m\u001B[34m*\u001B[0m\u001B[34m*\u001B[0m\u001B[34m*\u001B[0m\u001B[34m*\u001B[0m\u001B[34m*\u001B[0m\u001B[34m*\u001B[0m\u001B[34m*\u001B[0m\u001B[34m*\u001B[0m\u001B[34m*\u001B[0m\u001B[34m*\u001B[0m\u001B[34m*\u001B[0m\u001B[34m*\u001B[0m\u001B[34m*\u001B[0m\u001B[34m*\u001B[0m\u001B[34m*\u001B[0m\u001B[34m*\u001B[0m\u001B[34m*\u001B[0m\u001B[34m*\u001B[0m\u001B[34m*\u001B[0m\u001B[34m*\u001B[0m\u001B[34m*\u001B[0m\u001B[34m*\u001B[0m\u001B[34m*\u001B[0m\u001B[34m*\u001B[0m\u001B[34m*\u001B[0m\u001B[34m*\u001B[0m\u001B[34m*\u001B[0m\u001B[34m*\u001B[0m\u001B[34m*\u001B[0m\u001B[34m*\u001B[0m\u001B[34m*\u001B[0m\u001B[34m*\u001B[0m\u001B[34m*\u001B[0m\u001B[34m*\u001B[0m\u001B[34m*\u001B[0m\u001B[34m*\u001B[0m\u001B[34m*\u001B[0m\u001B[34m*\u001B[0m\u001B[34m*\u001B[0m\u001B[34m*\u001B[0m\u001B[34m*\u001B[0m\u001B[34m*\u001B[0m\u001B[34m*\u001B[0m\u001B[34m*\u001B[0m\u001B[34m*\u001B[0m\u001B[34m*\u001B[0m\u001B[34m*\u001B[0m\u001B[34m*\u001B[0m\u001B[34m*\u001B[0m\u001B[34m*\u001B[0m\u001B[34m*\u001B[0m\u001B[34m*\u001B[0m\u001B[34m*\u001B[0m\u001B[34m*\u001B[0m\u001B[34m*\u001B[0m\u001B[34m*\u001B[0m\n",
      "\u001B[32m** Rozwiązanie ********************************************************************************\u001B[0m\n"
     ]
    },
    {
     "data": {
      "text/plain": [
       "<IPython.core.display.Latex object>"
      ],
      "text/latex": "$$z = \\frac{x}{10} + \\frac{13 y}{120} + \\frac{13}{15}$$"
     },
     "metadata": {},
     "output_type": "display_data"
    },
    {
     "name": "stdout",
     "output_type": "stream",
     "text": [
      "\u001B[32m*\u001B[0m\u001B[32m*\u001B[0m\u001B[32m*\u001B[0m\u001B[32m*\u001B[0m\u001B[32m*\u001B[0m\u001B[32m*\u001B[0m\u001B[32m*\u001B[0m\u001B[32m*\u001B[0m\u001B[32m*\u001B[0m\u001B[32m*\u001B[0m\u001B[32m*\u001B[0m\u001B[32m*\u001B[0m\u001B[32m*\u001B[0m\u001B[32m*\u001B[0m\u001B[32m*\u001B[0m\u001B[32m*\u001B[0m\u001B[32m*\u001B[0m\u001B[32m*\u001B[0m\u001B[32m*\u001B[0m\u001B[32m*\u001B[0m\u001B[32m*\u001B[0m\u001B[32m*\u001B[0m\u001B[32m*\u001B[0m\u001B[32m*\u001B[0m\u001B[32m*\u001B[0m\u001B[32m*\u001B[0m\u001B[32m*\u001B[0m\u001B[32m*\u001B[0m\u001B[32m*\u001B[0m\u001B[32m*\u001B[0m\u001B[32m*\u001B[0m\u001B[32m*\u001B[0m\u001B[32m*\u001B[0m\u001B[32m*\u001B[0m\u001B[32m*\u001B[0m\u001B[32m*\u001B[0m\u001B[32m*\u001B[0m\u001B[32m*\u001B[0m\u001B[32m*\u001B[0m\u001B[32m*\u001B[0m\u001B[32m*\u001B[0m\u001B[32m*\u001B[0m\u001B[32m*\u001B[0m\u001B[32m*\u001B[0m\u001B[32m*\u001B[0m\u001B[32m*\u001B[0m\u001B[32m*\u001B[0m\u001B[32m*\u001B[0m\u001B[32m*\u001B[0m\u001B[32m*\u001B[0m\u001B[32m*\u001B[0m\u001B[32m*\u001B[0m\u001B[32m*\u001B[0m\u001B[32m*\u001B[0m\u001B[32m*\u001B[0m\u001B[32m*\u001B[0m\u001B[32m*\u001B[0m\u001B[32m*\u001B[0m\u001B[32m*\u001B[0m\u001B[32m*\u001B[0m\u001B[32m*\u001B[0m\u001B[32m*\u001B[0m\u001B[32m*\u001B[0m\u001B[32m*\u001B[0m\u001B[32m*\u001B[0m\u001B[32m*\u001B[0m\u001B[32m*\u001B[0m\u001B[32m*\u001B[0m\u001B[32m*\u001B[0m\u001B[32m*\u001B[0m\u001B[32m*\u001B[0m\u001B[32m*\u001B[0m\u001B[32m*\u001B[0m\u001B[32m*\u001B[0m\u001B[32m*\u001B[0m\u001B[32m*\u001B[0m\u001B[32m*\u001B[0m\u001B[32m*\u001B[0m\u001B[32m*\u001B[0m\u001B[32m*\u001B[0m\u001B[32m*\u001B[0m\u001B[32m*\u001B[0m\u001B[32m*\u001B[0m\u001B[32m*\u001B[0m\u001B[32m*\u001B[0m\u001B[32m*\u001B[0m\u001B[32m*\u001B[0m\u001B[32m*\u001B[0m\u001B[32m*\u001B[0m\u001B[32m*\u001B[0m\u001B[32m*\u001B[0m\u001B[32m*\u001B[0m\u001B[32m*\u001B[0m\u001B[32m*\u001B[0m\u001B[32m*\u001B[0m\n"
     ]
    }
   ],
   "execution_count": 141
  }
 ],
 "metadata": {
  "kernelspec": {
   "display_name": "Python 3",
   "language": "python",
   "name": "python3"
  },
  "language_info": {
   "codemirror_mode": {
    "name": "ipython",
    "version": 2
   },
   "file_extension": ".py",
   "mimetype": "text/x-python",
   "name": "python",
   "nbconvert_exporter": "python",
   "pygments_lexer": "ipython2",
   "version": "2.7.6"
  }
 },
 "nbformat": 4,
 "nbformat_minor": 5
}
