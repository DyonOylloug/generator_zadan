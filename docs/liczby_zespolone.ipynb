{
 "cells": [
  {
   "cell_type": "markdown",
   "source": "# Liczby zespolone\n",
   "metadata": {}
  },
  {
   "metadata": {},
   "cell_type": "markdown",
   "source": "[![Binder](https://mybinder.org/badge_logo.svg)](https://mybinder.org/v2/gh/DyonOylloug/generator_zadan/HEAD?labpath=docs%2Fliczby_zespolone.ipynb) - interaktywna sesja notebooka"
  },
  {
   "cell_type": "code",
   "source": [
    "from random import choice\n",
    "\n",
    "from IPython.display import display, Markdown, Latex\n",
    "\n",
    "import generator_zadan.generatory as gz\n",
    "\n",
    "print(gz.__version__)"
   ],
   "metadata": {
    "ExecuteTime": {
     "end_time": "2024-09-14T17:46:14.091747Z",
     "start_time": "2024-09-14T17:46:14.086391Z"
    }
   },
   "outputs": [
    {
     "name": "stdout",
     "output_type": "stream",
     "text": [
      "0.2.0\n"
     ]
    }
   ],
   "execution_count": 29
  },
  {
   "metadata": {
    "ExecuteTime": {
     "end_time": "2024-09-14T17:46:14.965553Z",
     "start_time": "2024-09-14T17:46:14.961717Z"
    }
   },
   "cell_type": "code",
   "source": "ile_zadan_przykladowych = 10",
   "outputs": [],
   "execution_count": 30
  },
  {
   "metadata": {},
   "cell_type": "markdown",
   "source": "## Zespolone równanie liniowe "
  },
  {
   "metadata": {
    "ExecuteTime": {
     "end_time": "2024-09-14T17:07:19.654388Z",
     "start_time": "2024-09-14T17:07:19.072763Z"
    }
   },
   "cell_type": "code",
   "source": [
    "zadanie = gz.rownanie_liniowe()\n",
    "zadanie"
   ],
   "outputs": [
    {
     "data": {
      "text/plain": [
       "('Rozwiązać równanie w zbiorze liczb zespolonych.\\\\ Sprawdzić rozwiązanie.\\n\\t\\\\[\\n\\t\\t\\\\left(9 + 5i\\\\right)z = -6 - 6i+\\\\left(9 + 2i\\\\right)z\\n\\t\\\\]',\n",
       " '$z=-2 + 2i.$')"
      ]
     },
     "execution_count": 4,
     "metadata": {},
     "output_type": "execute_result"
    }
   ],
   "execution_count": 4
  },
  {
   "metadata": {
    "ExecuteTime": {
     "end_time": "2024-09-14T17:07:19.794978Z",
     "start_time": "2024-09-14T17:07:19.788738Z"
    }
   },
   "cell_type": "code",
   "source": [
    "print(\"\\033[34m** Zadanie **\" + '*' * 81 + '\\033[0m')\n",
    "print(zadanie[0])\n",
    "print(\"\\033[34m*\\033[0m\" * 95)\n",
    "print(\"\\033[32m** Rozwiązanie **\" + '*' * 78 + '\\033[0m')\n",
    "print(zadanie[1])\n",
    "print(\"\\033[32m*\\033[0m\" * 95)"
   ],
   "outputs": [
    {
     "name": "stdout",
     "output_type": "stream",
     "text": [
      "\u001B[34m** Zadanie ***********************************************************************************\u001B[0m\n",
      "Rozwiązać równanie w zbiorze liczb zespolonych.\\ Sprawdzić rozwiązanie.\n",
      "\t\\[\n",
      "\t\t\\left(9 + 5i\\right)z = -6 - 6i+\\left(9 + 2i\\right)z\n",
      "\t\\]\n",
      "\u001B[34m*\u001B[0m\u001B[34m*\u001B[0m\u001B[34m*\u001B[0m\u001B[34m*\u001B[0m\u001B[34m*\u001B[0m\u001B[34m*\u001B[0m\u001B[34m*\u001B[0m\u001B[34m*\u001B[0m\u001B[34m*\u001B[0m\u001B[34m*\u001B[0m\u001B[34m*\u001B[0m\u001B[34m*\u001B[0m\u001B[34m*\u001B[0m\u001B[34m*\u001B[0m\u001B[34m*\u001B[0m\u001B[34m*\u001B[0m\u001B[34m*\u001B[0m\u001B[34m*\u001B[0m\u001B[34m*\u001B[0m\u001B[34m*\u001B[0m\u001B[34m*\u001B[0m\u001B[34m*\u001B[0m\u001B[34m*\u001B[0m\u001B[34m*\u001B[0m\u001B[34m*\u001B[0m\u001B[34m*\u001B[0m\u001B[34m*\u001B[0m\u001B[34m*\u001B[0m\u001B[34m*\u001B[0m\u001B[34m*\u001B[0m\u001B[34m*\u001B[0m\u001B[34m*\u001B[0m\u001B[34m*\u001B[0m\u001B[34m*\u001B[0m\u001B[34m*\u001B[0m\u001B[34m*\u001B[0m\u001B[34m*\u001B[0m\u001B[34m*\u001B[0m\u001B[34m*\u001B[0m\u001B[34m*\u001B[0m\u001B[34m*\u001B[0m\u001B[34m*\u001B[0m\u001B[34m*\u001B[0m\u001B[34m*\u001B[0m\u001B[34m*\u001B[0m\u001B[34m*\u001B[0m\u001B[34m*\u001B[0m\u001B[34m*\u001B[0m\u001B[34m*\u001B[0m\u001B[34m*\u001B[0m\u001B[34m*\u001B[0m\u001B[34m*\u001B[0m\u001B[34m*\u001B[0m\u001B[34m*\u001B[0m\u001B[34m*\u001B[0m\u001B[34m*\u001B[0m\u001B[34m*\u001B[0m\u001B[34m*\u001B[0m\u001B[34m*\u001B[0m\u001B[34m*\u001B[0m\u001B[34m*\u001B[0m\u001B[34m*\u001B[0m\u001B[34m*\u001B[0m\u001B[34m*\u001B[0m\u001B[34m*\u001B[0m\u001B[34m*\u001B[0m\u001B[34m*\u001B[0m\u001B[34m*\u001B[0m\u001B[34m*\u001B[0m\u001B[34m*\u001B[0m\u001B[34m*\u001B[0m\u001B[34m*\u001B[0m\u001B[34m*\u001B[0m\u001B[34m*\u001B[0m\u001B[34m*\u001B[0m\u001B[34m*\u001B[0m\u001B[34m*\u001B[0m\u001B[34m*\u001B[0m\u001B[34m*\u001B[0m\u001B[34m*\u001B[0m\u001B[34m*\u001B[0m\u001B[34m*\u001B[0m\u001B[34m*\u001B[0m\u001B[34m*\u001B[0m\u001B[34m*\u001B[0m\u001B[34m*\u001B[0m\u001B[34m*\u001B[0m\u001B[34m*\u001B[0m\u001B[34m*\u001B[0m\u001B[34m*\u001B[0m\u001B[34m*\u001B[0m\u001B[34m*\u001B[0m\u001B[34m*\u001B[0m\u001B[34m*\u001B[0m\u001B[34m*\u001B[0m\n",
      "\u001B[32m** Rozwiązanie ********************************************************************************\u001B[0m\n",
      "$z=-2 + 2i.$\n",
      "\u001B[32m*\u001B[0m\u001B[32m*\u001B[0m\u001B[32m*\u001B[0m\u001B[32m*\u001B[0m\u001B[32m*\u001B[0m\u001B[32m*\u001B[0m\u001B[32m*\u001B[0m\u001B[32m*\u001B[0m\u001B[32m*\u001B[0m\u001B[32m*\u001B[0m\u001B[32m*\u001B[0m\u001B[32m*\u001B[0m\u001B[32m*\u001B[0m\u001B[32m*\u001B[0m\u001B[32m*\u001B[0m\u001B[32m*\u001B[0m\u001B[32m*\u001B[0m\u001B[32m*\u001B[0m\u001B[32m*\u001B[0m\u001B[32m*\u001B[0m\u001B[32m*\u001B[0m\u001B[32m*\u001B[0m\u001B[32m*\u001B[0m\u001B[32m*\u001B[0m\u001B[32m*\u001B[0m\u001B[32m*\u001B[0m\u001B[32m*\u001B[0m\u001B[32m*\u001B[0m\u001B[32m*\u001B[0m\u001B[32m*\u001B[0m\u001B[32m*\u001B[0m\u001B[32m*\u001B[0m\u001B[32m*\u001B[0m\u001B[32m*\u001B[0m\u001B[32m*\u001B[0m\u001B[32m*\u001B[0m\u001B[32m*\u001B[0m\u001B[32m*\u001B[0m\u001B[32m*\u001B[0m\u001B[32m*\u001B[0m\u001B[32m*\u001B[0m\u001B[32m*\u001B[0m\u001B[32m*\u001B[0m\u001B[32m*\u001B[0m\u001B[32m*\u001B[0m\u001B[32m*\u001B[0m\u001B[32m*\u001B[0m\u001B[32m*\u001B[0m\u001B[32m*\u001B[0m\u001B[32m*\u001B[0m\u001B[32m*\u001B[0m\u001B[32m*\u001B[0m\u001B[32m*\u001B[0m\u001B[32m*\u001B[0m\u001B[32m*\u001B[0m\u001B[32m*\u001B[0m\u001B[32m*\u001B[0m\u001B[32m*\u001B[0m\u001B[32m*\u001B[0m\u001B[32m*\u001B[0m\u001B[32m*\u001B[0m\u001B[32m*\u001B[0m\u001B[32m*\u001B[0m\u001B[32m*\u001B[0m\u001B[32m*\u001B[0m\u001B[32m*\u001B[0m\u001B[32m*\u001B[0m\u001B[32m*\u001B[0m\u001B[32m*\u001B[0m\u001B[32m*\u001B[0m\u001B[32m*\u001B[0m\u001B[32m*\u001B[0m\u001B[32m*\u001B[0m\u001B[32m*\u001B[0m\u001B[32m*\u001B[0m\u001B[32m*\u001B[0m\u001B[32m*\u001B[0m\u001B[32m*\u001B[0m\u001B[32m*\u001B[0m\u001B[32m*\u001B[0m\u001B[32m*\u001B[0m\u001B[32m*\u001B[0m\u001B[32m*\u001B[0m\u001B[32m*\u001B[0m\u001B[32m*\u001B[0m\u001B[32m*\u001B[0m\u001B[32m*\u001B[0m\u001B[32m*\u001B[0m\u001B[32m*\u001B[0m\u001B[32m*\u001B[0m\u001B[32m*\u001B[0m\u001B[32m*\u001B[0m\u001B[32m*\u001B[0m\u001B[32m*\u001B[0m\u001B[32m*\u001B[0m\n"
     ]
    }
   ],
   "execution_count": 5
  },
  {
   "metadata": {
    "ExecuteTime": {
     "end_time": "2024-09-14T17:07:24.225259Z",
     "start_time": "2024-09-14T17:07:20.012853Z"
    }
   },
   "cell_type": "code",
   "source": [
    "for i in range(1, ile_zadan_przykladowych + 1):\n",
    "    zadanie = gz.rownanie_liniowe()\n",
    "    print(f\"\\033[34m** Zadanie {i} **\" + '*' * 80 + '\\033[0m')\n",
    "    display(Markdown(zadanie[0].split('\\n')[0].replace('\\\\', '')))\n",
    "    display(Latex('$$' + zadanie[0].split('\\n')[2] + '$$'))\n",
    "    print(\"\\033[34m*\\033[0m\" * 95)\n",
    "    print(\"\\033[32m** Rozwiązanie **\" + '*' * 78 + '\\033[0m')\n",
    "    display(Latex('$' + zadanie[1] + '$'))\n",
    "    print(\"\\033[32m*\\033[0m\" * 95)\n"
   ],
   "outputs": [
    {
     "name": "stdout",
     "output_type": "stream",
     "text": [
      "\u001B[34m** Zadanie 1 **********************************************************************************\u001B[0m\n"
     ]
    },
    {
     "data": {
      "text/plain": [
       "<IPython.core.display.Markdown object>"
      ],
      "text/markdown": "Rozwiązać równanie w zbiorze liczb zespolonych. Sprawdzić rozwiązanie."
     },
     "metadata": {},
     "output_type": "display_data"
    },
    {
     "data": {
      "text/plain": [
       "<IPython.core.display.Latex object>"
      ],
      "text/latex": "$$\t\t\\left(6 + 3i\\right)z = 8 - i+\\left(3 + 5i\\right)z$$"
     },
     "metadata": {},
     "output_type": "display_data"
    },
    {
     "name": "stdout",
     "output_type": "stream",
     "text": [
      "\u001B[34m*\u001B[0m\u001B[34m*\u001B[0m\u001B[34m*\u001B[0m\u001B[34m*\u001B[0m\u001B[34m*\u001B[0m\u001B[34m*\u001B[0m\u001B[34m*\u001B[0m\u001B[34m*\u001B[0m\u001B[34m*\u001B[0m\u001B[34m*\u001B[0m\u001B[34m*\u001B[0m\u001B[34m*\u001B[0m\u001B[34m*\u001B[0m\u001B[34m*\u001B[0m\u001B[34m*\u001B[0m\u001B[34m*\u001B[0m\u001B[34m*\u001B[0m\u001B[34m*\u001B[0m\u001B[34m*\u001B[0m\u001B[34m*\u001B[0m\u001B[34m*\u001B[0m\u001B[34m*\u001B[0m\u001B[34m*\u001B[0m\u001B[34m*\u001B[0m\u001B[34m*\u001B[0m\u001B[34m*\u001B[0m\u001B[34m*\u001B[0m\u001B[34m*\u001B[0m\u001B[34m*\u001B[0m\u001B[34m*\u001B[0m\u001B[34m*\u001B[0m\u001B[34m*\u001B[0m\u001B[34m*\u001B[0m\u001B[34m*\u001B[0m\u001B[34m*\u001B[0m\u001B[34m*\u001B[0m\u001B[34m*\u001B[0m\u001B[34m*\u001B[0m\u001B[34m*\u001B[0m\u001B[34m*\u001B[0m\u001B[34m*\u001B[0m\u001B[34m*\u001B[0m\u001B[34m*\u001B[0m\u001B[34m*\u001B[0m\u001B[34m*\u001B[0m\u001B[34m*\u001B[0m\u001B[34m*\u001B[0m\u001B[34m*\u001B[0m\u001B[34m*\u001B[0m\u001B[34m*\u001B[0m\u001B[34m*\u001B[0m\u001B[34m*\u001B[0m\u001B[34m*\u001B[0m\u001B[34m*\u001B[0m\u001B[34m*\u001B[0m\u001B[34m*\u001B[0m\u001B[34m*\u001B[0m\u001B[34m*\u001B[0m\u001B[34m*\u001B[0m\u001B[34m*\u001B[0m\u001B[34m*\u001B[0m\u001B[34m*\u001B[0m\u001B[34m*\u001B[0m\u001B[34m*\u001B[0m\u001B[34m*\u001B[0m\u001B[34m*\u001B[0m\u001B[34m*\u001B[0m\u001B[34m*\u001B[0m\u001B[34m*\u001B[0m\u001B[34m*\u001B[0m\u001B[34m*\u001B[0m\u001B[34m*\u001B[0m\u001B[34m*\u001B[0m\u001B[34m*\u001B[0m\u001B[34m*\u001B[0m\u001B[34m*\u001B[0m\u001B[34m*\u001B[0m\u001B[34m*\u001B[0m\u001B[34m*\u001B[0m\u001B[34m*\u001B[0m\u001B[34m*\u001B[0m\u001B[34m*\u001B[0m\u001B[34m*\u001B[0m\u001B[34m*\u001B[0m\u001B[34m*\u001B[0m\u001B[34m*\u001B[0m\u001B[34m*\u001B[0m\u001B[34m*\u001B[0m\u001B[34m*\u001B[0m\u001B[34m*\u001B[0m\u001B[34m*\u001B[0m\u001B[34m*\u001B[0m\u001B[34m*\u001B[0m\u001B[34m*\u001B[0m\u001B[34m*\u001B[0m\n",
      "\u001B[32m** Rozwiązanie ********************************************************************************\u001B[0m\n"
     ]
    },
    {
     "data": {
      "text/plain": [
       "<IPython.core.display.Latex object>"
      ],
      "text/latex": "$$z=2 + i.$$"
     },
     "metadata": {},
     "output_type": "display_data"
    },
    {
     "name": "stdout",
     "output_type": "stream",
     "text": [
      "\u001B[32m*\u001B[0m\u001B[32m*\u001B[0m\u001B[32m*\u001B[0m\u001B[32m*\u001B[0m\u001B[32m*\u001B[0m\u001B[32m*\u001B[0m\u001B[32m*\u001B[0m\u001B[32m*\u001B[0m\u001B[32m*\u001B[0m\u001B[32m*\u001B[0m\u001B[32m*\u001B[0m\u001B[32m*\u001B[0m\u001B[32m*\u001B[0m\u001B[32m*\u001B[0m\u001B[32m*\u001B[0m\u001B[32m*\u001B[0m\u001B[32m*\u001B[0m\u001B[32m*\u001B[0m\u001B[32m*\u001B[0m\u001B[32m*\u001B[0m\u001B[32m*\u001B[0m\u001B[32m*\u001B[0m\u001B[32m*\u001B[0m\u001B[32m*\u001B[0m\u001B[32m*\u001B[0m\u001B[32m*\u001B[0m\u001B[32m*\u001B[0m\u001B[32m*\u001B[0m\u001B[32m*\u001B[0m\u001B[32m*\u001B[0m\u001B[32m*\u001B[0m\u001B[32m*\u001B[0m\u001B[32m*\u001B[0m\u001B[32m*\u001B[0m\u001B[32m*\u001B[0m\u001B[32m*\u001B[0m\u001B[32m*\u001B[0m\u001B[32m*\u001B[0m\u001B[32m*\u001B[0m\u001B[32m*\u001B[0m\u001B[32m*\u001B[0m\u001B[32m*\u001B[0m\u001B[32m*\u001B[0m\u001B[32m*\u001B[0m\u001B[32m*\u001B[0m\u001B[32m*\u001B[0m\u001B[32m*\u001B[0m\u001B[32m*\u001B[0m\u001B[32m*\u001B[0m\u001B[32m*\u001B[0m\u001B[32m*\u001B[0m\u001B[32m*\u001B[0m\u001B[32m*\u001B[0m\u001B[32m*\u001B[0m\u001B[32m*\u001B[0m\u001B[32m*\u001B[0m\u001B[32m*\u001B[0m\u001B[32m*\u001B[0m\u001B[32m*\u001B[0m\u001B[32m*\u001B[0m\u001B[32m*\u001B[0m\u001B[32m*\u001B[0m\u001B[32m*\u001B[0m\u001B[32m*\u001B[0m\u001B[32m*\u001B[0m\u001B[32m*\u001B[0m\u001B[32m*\u001B[0m\u001B[32m*\u001B[0m\u001B[32m*\u001B[0m\u001B[32m*\u001B[0m\u001B[32m*\u001B[0m\u001B[32m*\u001B[0m\u001B[32m*\u001B[0m\u001B[32m*\u001B[0m\u001B[32m*\u001B[0m\u001B[32m*\u001B[0m\u001B[32m*\u001B[0m\u001B[32m*\u001B[0m\u001B[32m*\u001B[0m\u001B[32m*\u001B[0m\u001B[32m*\u001B[0m\u001B[32m*\u001B[0m\u001B[32m*\u001B[0m\u001B[32m*\u001B[0m\u001B[32m*\u001B[0m\u001B[32m*\u001B[0m\u001B[32m*\u001B[0m\u001B[32m*\u001B[0m\u001B[32m*\u001B[0m\u001B[32m*\u001B[0m\u001B[32m*\u001B[0m\u001B[32m*\u001B[0m\u001B[32m*\u001B[0m\u001B[32m*\u001B[0m\u001B[32m*\u001B[0m\n",
      "\u001B[34m** Zadanie 2 **********************************************************************************\u001B[0m\n"
     ]
    },
    {
     "data": {
      "text/plain": [
       "<IPython.core.display.Markdown object>"
      ],
      "text/markdown": "Rozwiązać równanie w zbiorze liczb zespolonych. Sprawdzić rozwiązanie."
     },
     "metadata": {},
     "output_type": "display_data"
    },
    {
     "data": {
      "text/plain": [
       "<IPython.core.display.Latex object>"
      ],
      "text/latex": "$$\t\t\\left(8 + 5i\\right)z = 4 - 2i+\\left(8 + 7i\\right)z$$"
     },
     "metadata": {},
     "output_type": "display_data"
    },
    {
     "name": "stdout",
     "output_type": "stream",
     "text": [
      "\u001B[34m*\u001B[0m\u001B[34m*\u001B[0m\u001B[34m*\u001B[0m\u001B[34m*\u001B[0m\u001B[34m*\u001B[0m\u001B[34m*\u001B[0m\u001B[34m*\u001B[0m\u001B[34m*\u001B[0m\u001B[34m*\u001B[0m\u001B[34m*\u001B[0m\u001B[34m*\u001B[0m\u001B[34m*\u001B[0m\u001B[34m*\u001B[0m\u001B[34m*\u001B[0m\u001B[34m*\u001B[0m\u001B[34m*\u001B[0m\u001B[34m*\u001B[0m\u001B[34m*\u001B[0m\u001B[34m*\u001B[0m\u001B[34m*\u001B[0m\u001B[34m*\u001B[0m\u001B[34m*\u001B[0m\u001B[34m*\u001B[0m\u001B[34m*\u001B[0m\u001B[34m*\u001B[0m\u001B[34m*\u001B[0m\u001B[34m*\u001B[0m\u001B[34m*\u001B[0m\u001B[34m*\u001B[0m\u001B[34m*\u001B[0m\u001B[34m*\u001B[0m\u001B[34m*\u001B[0m\u001B[34m*\u001B[0m\u001B[34m*\u001B[0m\u001B[34m*\u001B[0m\u001B[34m*\u001B[0m\u001B[34m*\u001B[0m\u001B[34m*\u001B[0m\u001B[34m*\u001B[0m\u001B[34m*\u001B[0m\u001B[34m*\u001B[0m\u001B[34m*\u001B[0m\u001B[34m*\u001B[0m\u001B[34m*\u001B[0m\u001B[34m*\u001B[0m\u001B[34m*\u001B[0m\u001B[34m*\u001B[0m\u001B[34m*\u001B[0m\u001B[34m*\u001B[0m\u001B[34m*\u001B[0m\u001B[34m*\u001B[0m\u001B[34m*\u001B[0m\u001B[34m*\u001B[0m\u001B[34m*\u001B[0m\u001B[34m*\u001B[0m\u001B[34m*\u001B[0m\u001B[34m*\u001B[0m\u001B[34m*\u001B[0m\u001B[34m*\u001B[0m\u001B[34m*\u001B[0m\u001B[34m*\u001B[0m\u001B[34m*\u001B[0m\u001B[34m*\u001B[0m\u001B[34m*\u001B[0m\u001B[34m*\u001B[0m\u001B[34m*\u001B[0m\u001B[34m*\u001B[0m\u001B[34m*\u001B[0m\u001B[34m*\u001B[0m\u001B[34m*\u001B[0m\u001B[34m*\u001B[0m\u001B[34m*\u001B[0m\u001B[34m*\u001B[0m\u001B[34m*\u001B[0m\u001B[34m*\u001B[0m\u001B[34m*\u001B[0m\u001B[34m*\u001B[0m\u001B[34m*\u001B[0m\u001B[34m*\u001B[0m\u001B[34m*\u001B[0m\u001B[34m*\u001B[0m\u001B[34m*\u001B[0m\u001B[34m*\u001B[0m\u001B[34m*\u001B[0m\u001B[34m*\u001B[0m\u001B[34m*\u001B[0m\u001B[34m*\u001B[0m\u001B[34m*\u001B[0m\u001B[34m*\u001B[0m\u001B[34m*\u001B[0m\u001B[34m*\u001B[0m\u001B[34m*\u001B[0m\u001B[34m*\u001B[0m\u001B[34m*\u001B[0m\u001B[34m*\u001B[0m\n",
      "\u001B[32m** Rozwiązanie ********************************************************************************\u001B[0m\n"
     ]
    },
    {
     "data": {
      "text/plain": [
       "<IPython.core.display.Latex object>"
      ],
      "text/latex": "$$z=1 + 2i.$$"
     },
     "metadata": {},
     "output_type": "display_data"
    },
    {
     "name": "stdout",
     "output_type": "stream",
     "text": [
      "\u001B[32m*\u001B[0m\u001B[32m*\u001B[0m\u001B[32m*\u001B[0m\u001B[32m*\u001B[0m\u001B[32m*\u001B[0m\u001B[32m*\u001B[0m\u001B[32m*\u001B[0m\u001B[32m*\u001B[0m\u001B[32m*\u001B[0m\u001B[32m*\u001B[0m\u001B[32m*\u001B[0m\u001B[32m*\u001B[0m\u001B[32m*\u001B[0m\u001B[32m*\u001B[0m\u001B[32m*\u001B[0m\u001B[32m*\u001B[0m\u001B[32m*\u001B[0m\u001B[32m*\u001B[0m\u001B[32m*\u001B[0m\u001B[32m*\u001B[0m\u001B[32m*\u001B[0m\u001B[32m*\u001B[0m\u001B[32m*\u001B[0m\u001B[32m*\u001B[0m\u001B[32m*\u001B[0m\u001B[32m*\u001B[0m\u001B[32m*\u001B[0m\u001B[32m*\u001B[0m\u001B[32m*\u001B[0m\u001B[32m*\u001B[0m\u001B[32m*\u001B[0m\u001B[32m*\u001B[0m\u001B[32m*\u001B[0m\u001B[32m*\u001B[0m\u001B[32m*\u001B[0m\u001B[32m*\u001B[0m\u001B[32m*\u001B[0m\u001B[32m*\u001B[0m\u001B[32m*\u001B[0m\u001B[32m*\u001B[0m\u001B[32m*\u001B[0m\u001B[32m*\u001B[0m\u001B[32m*\u001B[0m\u001B[32m*\u001B[0m\u001B[32m*\u001B[0m\u001B[32m*\u001B[0m\u001B[32m*\u001B[0m\u001B[32m*\u001B[0m\u001B[32m*\u001B[0m\u001B[32m*\u001B[0m\u001B[32m*\u001B[0m\u001B[32m*\u001B[0m\u001B[32m*\u001B[0m\u001B[32m*\u001B[0m\u001B[32m*\u001B[0m\u001B[32m*\u001B[0m\u001B[32m*\u001B[0m\u001B[32m*\u001B[0m\u001B[32m*\u001B[0m\u001B[32m*\u001B[0m\u001B[32m*\u001B[0m\u001B[32m*\u001B[0m\u001B[32m*\u001B[0m\u001B[32m*\u001B[0m\u001B[32m*\u001B[0m\u001B[32m*\u001B[0m\u001B[32m*\u001B[0m\u001B[32m*\u001B[0m\u001B[32m*\u001B[0m\u001B[32m*\u001B[0m\u001B[32m*\u001B[0m\u001B[32m*\u001B[0m\u001B[32m*\u001B[0m\u001B[32m*\u001B[0m\u001B[32m*\u001B[0m\u001B[32m*\u001B[0m\u001B[32m*\u001B[0m\u001B[32m*\u001B[0m\u001B[32m*\u001B[0m\u001B[32m*\u001B[0m\u001B[32m*\u001B[0m\u001B[32m*\u001B[0m\u001B[32m*\u001B[0m\u001B[32m*\u001B[0m\u001B[32m*\u001B[0m\u001B[32m*\u001B[0m\u001B[32m*\u001B[0m\u001B[32m*\u001B[0m\u001B[32m*\u001B[0m\u001B[32m*\u001B[0m\u001B[32m*\u001B[0m\u001B[32m*\u001B[0m\u001B[32m*\u001B[0m\u001B[32m*\u001B[0m\u001B[32m*\u001B[0m\n",
      "\u001B[34m** Zadanie 3 **********************************************************************************\u001B[0m\n"
     ]
    },
    {
     "data": {
      "text/plain": [
       "<IPython.core.display.Markdown object>"
      ],
      "text/markdown": "Rozwiązać równanie w zbiorze liczb zespolonych. Sprawdzić rozwiązanie."
     },
     "metadata": {},
     "output_type": "display_data"
    },
    {
     "data": {
      "text/plain": [
       "<IPython.core.display.Latex object>"
      ],
      "text/latex": "$$\t\t\\left(3 - 5i\\right)z = -4 + 2i+\\left(3 - 6i\\right)z$$"
     },
     "metadata": {},
     "output_type": "display_data"
    },
    {
     "name": "stdout",
     "output_type": "stream",
     "text": [
      "\u001B[34m*\u001B[0m\u001B[34m*\u001B[0m\u001B[34m*\u001B[0m\u001B[34m*\u001B[0m\u001B[34m*\u001B[0m\u001B[34m*\u001B[0m\u001B[34m*\u001B[0m\u001B[34m*\u001B[0m\u001B[34m*\u001B[0m\u001B[34m*\u001B[0m\u001B[34m*\u001B[0m\u001B[34m*\u001B[0m\u001B[34m*\u001B[0m\u001B[34m*\u001B[0m\u001B[34m*\u001B[0m\u001B[34m*\u001B[0m\u001B[34m*\u001B[0m\u001B[34m*\u001B[0m\u001B[34m*\u001B[0m\u001B[34m*\u001B[0m\u001B[34m*\u001B[0m\u001B[34m*\u001B[0m\u001B[34m*\u001B[0m\u001B[34m*\u001B[0m\u001B[34m*\u001B[0m\u001B[34m*\u001B[0m\u001B[34m*\u001B[0m\u001B[34m*\u001B[0m\u001B[34m*\u001B[0m\u001B[34m*\u001B[0m\u001B[34m*\u001B[0m\u001B[34m*\u001B[0m\u001B[34m*\u001B[0m\u001B[34m*\u001B[0m\u001B[34m*\u001B[0m\u001B[34m*\u001B[0m\u001B[34m*\u001B[0m\u001B[34m*\u001B[0m\u001B[34m*\u001B[0m\u001B[34m*\u001B[0m\u001B[34m*\u001B[0m\u001B[34m*\u001B[0m\u001B[34m*\u001B[0m\u001B[34m*\u001B[0m\u001B[34m*\u001B[0m\u001B[34m*\u001B[0m\u001B[34m*\u001B[0m\u001B[34m*\u001B[0m\u001B[34m*\u001B[0m\u001B[34m*\u001B[0m\u001B[34m*\u001B[0m\u001B[34m*\u001B[0m\u001B[34m*\u001B[0m\u001B[34m*\u001B[0m\u001B[34m*\u001B[0m\u001B[34m*\u001B[0m\u001B[34m*\u001B[0m\u001B[34m*\u001B[0m\u001B[34m*\u001B[0m\u001B[34m*\u001B[0m\u001B[34m*\u001B[0m\u001B[34m*\u001B[0m\u001B[34m*\u001B[0m\u001B[34m*\u001B[0m\u001B[34m*\u001B[0m\u001B[34m*\u001B[0m\u001B[34m*\u001B[0m\u001B[34m*\u001B[0m\u001B[34m*\u001B[0m\u001B[34m*\u001B[0m\u001B[34m*\u001B[0m\u001B[34m*\u001B[0m\u001B[34m*\u001B[0m\u001B[34m*\u001B[0m\u001B[34m*\u001B[0m\u001B[34m*\u001B[0m\u001B[34m*\u001B[0m\u001B[34m*\u001B[0m\u001B[34m*\u001B[0m\u001B[34m*\u001B[0m\u001B[34m*\u001B[0m\u001B[34m*\u001B[0m\u001B[34m*\u001B[0m\u001B[34m*\u001B[0m\u001B[34m*\u001B[0m\u001B[34m*\u001B[0m\u001B[34m*\u001B[0m\u001B[34m*\u001B[0m\u001B[34m*\u001B[0m\u001B[34m*\u001B[0m\u001B[34m*\u001B[0m\u001B[34m*\u001B[0m\u001B[34m*\u001B[0m\u001B[34m*\u001B[0m\u001B[34m*\u001B[0m\n",
      "\u001B[32m** Rozwiązanie ********************************************************************************\u001B[0m\n"
     ]
    },
    {
     "data": {
      "text/plain": [
       "<IPython.core.display.Latex object>"
      ],
      "text/latex": "$$z=2 + 4i.$$"
     },
     "metadata": {},
     "output_type": "display_data"
    },
    {
     "name": "stdout",
     "output_type": "stream",
     "text": [
      "\u001B[32m*\u001B[0m\u001B[32m*\u001B[0m\u001B[32m*\u001B[0m\u001B[32m*\u001B[0m\u001B[32m*\u001B[0m\u001B[32m*\u001B[0m\u001B[32m*\u001B[0m\u001B[32m*\u001B[0m\u001B[32m*\u001B[0m\u001B[32m*\u001B[0m\u001B[32m*\u001B[0m\u001B[32m*\u001B[0m\u001B[32m*\u001B[0m\u001B[32m*\u001B[0m\u001B[32m*\u001B[0m\u001B[32m*\u001B[0m\u001B[32m*\u001B[0m\u001B[32m*\u001B[0m\u001B[32m*\u001B[0m\u001B[32m*\u001B[0m\u001B[32m*\u001B[0m\u001B[32m*\u001B[0m\u001B[32m*\u001B[0m\u001B[32m*\u001B[0m\u001B[32m*\u001B[0m\u001B[32m*\u001B[0m\u001B[32m*\u001B[0m\u001B[32m*\u001B[0m\u001B[32m*\u001B[0m\u001B[32m*\u001B[0m\u001B[32m*\u001B[0m\u001B[32m*\u001B[0m\u001B[32m*\u001B[0m\u001B[32m*\u001B[0m\u001B[32m*\u001B[0m\u001B[32m*\u001B[0m\u001B[32m*\u001B[0m\u001B[32m*\u001B[0m\u001B[32m*\u001B[0m\u001B[32m*\u001B[0m\u001B[32m*\u001B[0m\u001B[32m*\u001B[0m\u001B[32m*\u001B[0m\u001B[32m*\u001B[0m\u001B[32m*\u001B[0m\u001B[32m*\u001B[0m\u001B[32m*\u001B[0m\u001B[32m*\u001B[0m\u001B[32m*\u001B[0m\u001B[32m*\u001B[0m\u001B[32m*\u001B[0m\u001B[32m*\u001B[0m\u001B[32m*\u001B[0m\u001B[32m*\u001B[0m\u001B[32m*\u001B[0m\u001B[32m*\u001B[0m\u001B[32m*\u001B[0m\u001B[32m*\u001B[0m\u001B[32m*\u001B[0m\u001B[32m*\u001B[0m\u001B[32m*\u001B[0m\u001B[32m*\u001B[0m\u001B[32m*\u001B[0m\u001B[32m*\u001B[0m\u001B[32m*\u001B[0m\u001B[32m*\u001B[0m\u001B[32m*\u001B[0m\u001B[32m*\u001B[0m\u001B[32m*\u001B[0m\u001B[32m*\u001B[0m\u001B[32m*\u001B[0m\u001B[32m*\u001B[0m\u001B[32m*\u001B[0m\u001B[32m*\u001B[0m\u001B[32m*\u001B[0m\u001B[32m*\u001B[0m\u001B[32m*\u001B[0m\u001B[32m*\u001B[0m\u001B[32m*\u001B[0m\u001B[32m*\u001B[0m\u001B[32m*\u001B[0m\u001B[32m*\u001B[0m\u001B[32m*\u001B[0m\u001B[32m*\u001B[0m\u001B[32m*\u001B[0m\u001B[32m*\u001B[0m\u001B[32m*\u001B[0m\u001B[32m*\u001B[0m\u001B[32m*\u001B[0m\u001B[32m*\u001B[0m\u001B[32m*\u001B[0m\u001B[32m*\u001B[0m\u001B[32m*\u001B[0m\u001B[32m*\u001B[0m\u001B[32m*\u001B[0m\n",
      "\u001B[34m** Zadanie 4 **********************************************************************************\u001B[0m\n"
     ]
    },
    {
     "data": {
      "text/plain": [
       "<IPython.core.display.Markdown object>"
      ],
      "text/markdown": "Rozwiązać równanie w zbiorze liczb zespolonych. Sprawdzić rozwiązanie."
     },
     "metadata": {},
     "output_type": "display_data"
    },
    {
     "data": {
      "text/plain": [
       "<IPython.core.display.Latex object>"
      ],
      "text/latex": "$$\t\t9 + 3i+\\left(3 + 2i\\right)z = \\left(3 + 3i\\right)z$$"
     },
     "metadata": {},
     "output_type": "display_data"
    },
    {
     "name": "stdout",
     "output_type": "stream",
     "text": [
      "\u001B[34m*\u001B[0m\u001B[34m*\u001B[0m\u001B[34m*\u001B[0m\u001B[34m*\u001B[0m\u001B[34m*\u001B[0m\u001B[34m*\u001B[0m\u001B[34m*\u001B[0m\u001B[34m*\u001B[0m\u001B[34m*\u001B[0m\u001B[34m*\u001B[0m\u001B[34m*\u001B[0m\u001B[34m*\u001B[0m\u001B[34m*\u001B[0m\u001B[34m*\u001B[0m\u001B[34m*\u001B[0m\u001B[34m*\u001B[0m\u001B[34m*\u001B[0m\u001B[34m*\u001B[0m\u001B[34m*\u001B[0m\u001B[34m*\u001B[0m\u001B[34m*\u001B[0m\u001B[34m*\u001B[0m\u001B[34m*\u001B[0m\u001B[34m*\u001B[0m\u001B[34m*\u001B[0m\u001B[34m*\u001B[0m\u001B[34m*\u001B[0m\u001B[34m*\u001B[0m\u001B[34m*\u001B[0m\u001B[34m*\u001B[0m\u001B[34m*\u001B[0m\u001B[34m*\u001B[0m\u001B[34m*\u001B[0m\u001B[34m*\u001B[0m\u001B[34m*\u001B[0m\u001B[34m*\u001B[0m\u001B[34m*\u001B[0m\u001B[34m*\u001B[0m\u001B[34m*\u001B[0m\u001B[34m*\u001B[0m\u001B[34m*\u001B[0m\u001B[34m*\u001B[0m\u001B[34m*\u001B[0m\u001B[34m*\u001B[0m\u001B[34m*\u001B[0m\u001B[34m*\u001B[0m\u001B[34m*\u001B[0m\u001B[34m*\u001B[0m\u001B[34m*\u001B[0m\u001B[34m*\u001B[0m\u001B[34m*\u001B[0m\u001B[34m*\u001B[0m\u001B[34m*\u001B[0m\u001B[34m*\u001B[0m\u001B[34m*\u001B[0m\u001B[34m*\u001B[0m\u001B[34m*\u001B[0m\u001B[34m*\u001B[0m\u001B[34m*\u001B[0m\u001B[34m*\u001B[0m\u001B[34m*\u001B[0m\u001B[34m*\u001B[0m\u001B[34m*\u001B[0m\u001B[34m*\u001B[0m\u001B[34m*\u001B[0m\u001B[34m*\u001B[0m\u001B[34m*\u001B[0m\u001B[34m*\u001B[0m\u001B[34m*\u001B[0m\u001B[34m*\u001B[0m\u001B[34m*\u001B[0m\u001B[34m*\u001B[0m\u001B[34m*\u001B[0m\u001B[34m*\u001B[0m\u001B[34m*\u001B[0m\u001B[34m*\u001B[0m\u001B[34m*\u001B[0m\u001B[34m*\u001B[0m\u001B[34m*\u001B[0m\u001B[34m*\u001B[0m\u001B[34m*\u001B[0m\u001B[34m*\u001B[0m\u001B[34m*\u001B[0m\u001B[34m*\u001B[0m\u001B[34m*\u001B[0m\u001B[34m*\u001B[0m\u001B[34m*\u001B[0m\u001B[34m*\u001B[0m\u001B[34m*\u001B[0m\u001B[34m*\u001B[0m\u001B[34m*\u001B[0m\u001B[34m*\u001B[0m\u001B[34m*\u001B[0m\u001B[34m*\u001B[0m\u001B[34m*\u001B[0m\n",
      "\u001B[32m** Rozwiązanie ********************************************************************************\u001B[0m\n"
     ]
    },
    {
     "data": {
      "text/plain": [
       "<IPython.core.display.Latex object>"
      ],
      "text/latex": "$$z=3 - 9i.$$"
     },
     "metadata": {},
     "output_type": "display_data"
    },
    {
     "name": "stdout",
     "output_type": "stream",
     "text": [
      "\u001B[32m*\u001B[0m\u001B[32m*\u001B[0m\u001B[32m*\u001B[0m\u001B[32m*\u001B[0m\u001B[32m*\u001B[0m\u001B[32m*\u001B[0m\u001B[32m*\u001B[0m\u001B[32m*\u001B[0m\u001B[32m*\u001B[0m\u001B[32m*\u001B[0m\u001B[32m*\u001B[0m\u001B[32m*\u001B[0m\u001B[32m*\u001B[0m\u001B[32m*\u001B[0m\u001B[32m*\u001B[0m\u001B[32m*\u001B[0m\u001B[32m*\u001B[0m\u001B[32m*\u001B[0m\u001B[32m*\u001B[0m\u001B[32m*\u001B[0m\u001B[32m*\u001B[0m\u001B[32m*\u001B[0m\u001B[32m*\u001B[0m\u001B[32m*\u001B[0m\u001B[32m*\u001B[0m\u001B[32m*\u001B[0m\u001B[32m*\u001B[0m\u001B[32m*\u001B[0m\u001B[32m*\u001B[0m\u001B[32m*\u001B[0m\u001B[32m*\u001B[0m\u001B[32m*\u001B[0m\u001B[32m*\u001B[0m\u001B[32m*\u001B[0m\u001B[32m*\u001B[0m\u001B[32m*\u001B[0m\u001B[32m*\u001B[0m\u001B[32m*\u001B[0m\u001B[32m*\u001B[0m\u001B[32m*\u001B[0m\u001B[32m*\u001B[0m\u001B[32m*\u001B[0m\u001B[32m*\u001B[0m\u001B[32m*\u001B[0m\u001B[32m*\u001B[0m\u001B[32m*\u001B[0m\u001B[32m*\u001B[0m\u001B[32m*\u001B[0m\u001B[32m*\u001B[0m\u001B[32m*\u001B[0m\u001B[32m*\u001B[0m\u001B[32m*\u001B[0m\u001B[32m*\u001B[0m\u001B[32m*\u001B[0m\u001B[32m*\u001B[0m\u001B[32m*\u001B[0m\u001B[32m*\u001B[0m\u001B[32m*\u001B[0m\u001B[32m*\u001B[0m\u001B[32m*\u001B[0m\u001B[32m*\u001B[0m\u001B[32m*\u001B[0m\u001B[32m*\u001B[0m\u001B[32m*\u001B[0m\u001B[32m*\u001B[0m\u001B[32m*\u001B[0m\u001B[32m*\u001B[0m\u001B[32m*\u001B[0m\u001B[32m*\u001B[0m\u001B[32m*\u001B[0m\u001B[32m*\u001B[0m\u001B[32m*\u001B[0m\u001B[32m*\u001B[0m\u001B[32m*\u001B[0m\u001B[32m*\u001B[0m\u001B[32m*\u001B[0m\u001B[32m*\u001B[0m\u001B[32m*\u001B[0m\u001B[32m*\u001B[0m\u001B[32m*\u001B[0m\u001B[32m*\u001B[0m\u001B[32m*\u001B[0m\u001B[32m*\u001B[0m\u001B[32m*\u001B[0m\u001B[32m*\u001B[0m\u001B[32m*\u001B[0m\u001B[32m*\u001B[0m\u001B[32m*\u001B[0m\u001B[32m*\u001B[0m\u001B[32m*\u001B[0m\u001B[32m*\u001B[0m\u001B[32m*\u001B[0m\u001B[32m*\u001B[0m\u001B[32m*\u001B[0m\u001B[32m*\u001B[0m\n",
      "\u001B[34m** Zadanie 5 **********************************************************************************\u001B[0m\n"
     ]
    },
    {
     "data": {
      "text/plain": [
       "<IPython.core.display.Markdown object>"
      ],
      "text/markdown": "Rozwiązać równanie w zbiorze liczb zespolonych. Sprawdzić rozwiązanie."
     },
     "metadata": {},
     "output_type": "display_data"
    },
    {
     "data": {
      "text/plain": [
       "<IPython.core.display.Latex object>"
      ],
      "text/latex": "$$\t\t\\left(4 + 7i\\right)z = 7 + 9i+\\left(7 + 8i\\right)z$$"
     },
     "metadata": {},
     "output_type": "display_data"
    },
    {
     "name": "stdout",
     "output_type": "stream",
     "text": [
      "\u001B[34m*\u001B[0m\u001B[34m*\u001B[0m\u001B[34m*\u001B[0m\u001B[34m*\u001B[0m\u001B[34m*\u001B[0m\u001B[34m*\u001B[0m\u001B[34m*\u001B[0m\u001B[34m*\u001B[0m\u001B[34m*\u001B[0m\u001B[34m*\u001B[0m\u001B[34m*\u001B[0m\u001B[34m*\u001B[0m\u001B[34m*\u001B[0m\u001B[34m*\u001B[0m\u001B[34m*\u001B[0m\u001B[34m*\u001B[0m\u001B[34m*\u001B[0m\u001B[34m*\u001B[0m\u001B[34m*\u001B[0m\u001B[34m*\u001B[0m\u001B[34m*\u001B[0m\u001B[34m*\u001B[0m\u001B[34m*\u001B[0m\u001B[34m*\u001B[0m\u001B[34m*\u001B[0m\u001B[34m*\u001B[0m\u001B[34m*\u001B[0m\u001B[34m*\u001B[0m\u001B[34m*\u001B[0m\u001B[34m*\u001B[0m\u001B[34m*\u001B[0m\u001B[34m*\u001B[0m\u001B[34m*\u001B[0m\u001B[34m*\u001B[0m\u001B[34m*\u001B[0m\u001B[34m*\u001B[0m\u001B[34m*\u001B[0m\u001B[34m*\u001B[0m\u001B[34m*\u001B[0m\u001B[34m*\u001B[0m\u001B[34m*\u001B[0m\u001B[34m*\u001B[0m\u001B[34m*\u001B[0m\u001B[34m*\u001B[0m\u001B[34m*\u001B[0m\u001B[34m*\u001B[0m\u001B[34m*\u001B[0m\u001B[34m*\u001B[0m\u001B[34m*\u001B[0m\u001B[34m*\u001B[0m\u001B[34m*\u001B[0m\u001B[34m*\u001B[0m\u001B[34m*\u001B[0m\u001B[34m*\u001B[0m\u001B[34m*\u001B[0m\u001B[34m*\u001B[0m\u001B[34m*\u001B[0m\u001B[34m*\u001B[0m\u001B[34m*\u001B[0m\u001B[34m*\u001B[0m\u001B[34m*\u001B[0m\u001B[34m*\u001B[0m\u001B[34m*\u001B[0m\u001B[34m*\u001B[0m\u001B[34m*\u001B[0m\u001B[34m*\u001B[0m\u001B[34m*\u001B[0m\u001B[34m*\u001B[0m\u001B[34m*\u001B[0m\u001B[34m*\u001B[0m\u001B[34m*\u001B[0m\u001B[34m*\u001B[0m\u001B[34m*\u001B[0m\u001B[34m*\u001B[0m\u001B[34m*\u001B[0m\u001B[34m*\u001B[0m\u001B[34m*\u001B[0m\u001B[34m*\u001B[0m\u001B[34m*\u001B[0m\u001B[34m*\u001B[0m\u001B[34m*\u001B[0m\u001B[34m*\u001B[0m\u001B[34m*\u001B[0m\u001B[34m*\u001B[0m\u001B[34m*\u001B[0m\u001B[34m*\u001B[0m\u001B[34m*\u001B[0m\u001B[34m*\u001B[0m\u001B[34m*\u001B[0m\u001B[34m*\u001B[0m\u001B[34m*\u001B[0m\u001B[34m*\u001B[0m\u001B[34m*\u001B[0m\u001B[34m*\u001B[0m\u001B[34m*\u001B[0m\n",
      "\u001B[32m** Rozwiązanie ********************************************************************************\u001B[0m\n"
     ]
    },
    {
     "data": {
      "text/plain": [
       "<IPython.core.display.Latex object>"
      ],
      "text/latex": "$$z=-3 - 2i.$$"
     },
     "metadata": {},
     "output_type": "display_data"
    },
    {
     "name": "stdout",
     "output_type": "stream",
     "text": [
      "\u001B[32m*\u001B[0m\u001B[32m*\u001B[0m\u001B[32m*\u001B[0m\u001B[32m*\u001B[0m\u001B[32m*\u001B[0m\u001B[32m*\u001B[0m\u001B[32m*\u001B[0m\u001B[32m*\u001B[0m\u001B[32m*\u001B[0m\u001B[32m*\u001B[0m\u001B[32m*\u001B[0m\u001B[32m*\u001B[0m\u001B[32m*\u001B[0m\u001B[32m*\u001B[0m\u001B[32m*\u001B[0m\u001B[32m*\u001B[0m\u001B[32m*\u001B[0m\u001B[32m*\u001B[0m\u001B[32m*\u001B[0m\u001B[32m*\u001B[0m\u001B[32m*\u001B[0m\u001B[32m*\u001B[0m\u001B[32m*\u001B[0m\u001B[32m*\u001B[0m\u001B[32m*\u001B[0m\u001B[32m*\u001B[0m\u001B[32m*\u001B[0m\u001B[32m*\u001B[0m\u001B[32m*\u001B[0m\u001B[32m*\u001B[0m\u001B[32m*\u001B[0m\u001B[32m*\u001B[0m\u001B[32m*\u001B[0m\u001B[32m*\u001B[0m\u001B[32m*\u001B[0m\u001B[32m*\u001B[0m\u001B[32m*\u001B[0m\u001B[32m*\u001B[0m\u001B[32m*\u001B[0m\u001B[32m*\u001B[0m\u001B[32m*\u001B[0m\u001B[32m*\u001B[0m\u001B[32m*\u001B[0m\u001B[32m*\u001B[0m\u001B[32m*\u001B[0m\u001B[32m*\u001B[0m\u001B[32m*\u001B[0m\u001B[32m*\u001B[0m\u001B[32m*\u001B[0m\u001B[32m*\u001B[0m\u001B[32m*\u001B[0m\u001B[32m*\u001B[0m\u001B[32m*\u001B[0m\u001B[32m*\u001B[0m\u001B[32m*\u001B[0m\u001B[32m*\u001B[0m\u001B[32m*\u001B[0m\u001B[32m*\u001B[0m\u001B[32m*\u001B[0m\u001B[32m*\u001B[0m\u001B[32m*\u001B[0m\u001B[32m*\u001B[0m\u001B[32m*\u001B[0m\u001B[32m*\u001B[0m\u001B[32m*\u001B[0m\u001B[32m*\u001B[0m\u001B[32m*\u001B[0m\u001B[32m*\u001B[0m\u001B[32m*\u001B[0m\u001B[32m*\u001B[0m\u001B[32m*\u001B[0m\u001B[32m*\u001B[0m\u001B[32m*\u001B[0m\u001B[32m*\u001B[0m\u001B[32m*\u001B[0m\u001B[32m*\u001B[0m\u001B[32m*\u001B[0m\u001B[32m*\u001B[0m\u001B[32m*\u001B[0m\u001B[32m*\u001B[0m\u001B[32m*\u001B[0m\u001B[32m*\u001B[0m\u001B[32m*\u001B[0m\u001B[32m*\u001B[0m\u001B[32m*\u001B[0m\u001B[32m*\u001B[0m\u001B[32m*\u001B[0m\u001B[32m*\u001B[0m\u001B[32m*\u001B[0m\u001B[32m*\u001B[0m\u001B[32m*\u001B[0m\u001B[32m*\u001B[0m\u001B[32m*\u001B[0m\u001B[32m*\u001B[0m\u001B[32m*\u001B[0m\n",
      "\u001B[34m** Zadanie 6 **********************************************************************************\u001B[0m\n"
     ]
    },
    {
     "data": {
      "text/plain": [
       "<IPython.core.display.Markdown object>"
      ],
      "text/markdown": "Rozwiązać równanie w zbiorze liczb zespolonych. Sprawdzić rozwiązanie."
     },
     "metadata": {},
     "output_type": "display_data"
    },
    {
     "data": {
      "text/plain": [
       "<IPython.core.display.Latex object>"
      ],
      "text/latex": "$$\t\t\\left(6 - 3i\\right)z = -3 + 5i+\\left(5 - 4i\\right)z$$"
     },
     "metadata": {},
     "output_type": "display_data"
    },
    {
     "name": "stdout",
     "output_type": "stream",
     "text": [
      "\u001B[34m*\u001B[0m\u001B[34m*\u001B[0m\u001B[34m*\u001B[0m\u001B[34m*\u001B[0m\u001B[34m*\u001B[0m\u001B[34m*\u001B[0m\u001B[34m*\u001B[0m\u001B[34m*\u001B[0m\u001B[34m*\u001B[0m\u001B[34m*\u001B[0m\u001B[34m*\u001B[0m\u001B[34m*\u001B[0m\u001B[34m*\u001B[0m\u001B[34m*\u001B[0m\u001B[34m*\u001B[0m\u001B[34m*\u001B[0m\u001B[34m*\u001B[0m\u001B[34m*\u001B[0m\u001B[34m*\u001B[0m\u001B[34m*\u001B[0m\u001B[34m*\u001B[0m\u001B[34m*\u001B[0m\u001B[34m*\u001B[0m\u001B[34m*\u001B[0m\u001B[34m*\u001B[0m\u001B[34m*\u001B[0m\u001B[34m*\u001B[0m\u001B[34m*\u001B[0m\u001B[34m*\u001B[0m\u001B[34m*\u001B[0m\u001B[34m*\u001B[0m\u001B[34m*\u001B[0m\u001B[34m*\u001B[0m\u001B[34m*\u001B[0m\u001B[34m*\u001B[0m\u001B[34m*\u001B[0m\u001B[34m*\u001B[0m\u001B[34m*\u001B[0m\u001B[34m*\u001B[0m\u001B[34m*\u001B[0m\u001B[34m*\u001B[0m\u001B[34m*\u001B[0m\u001B[34m*\u001B[0m\u001B[34m*\u001B[0m\u001B[34m*\u001B[0m\u001B[34m*\u001B[0m\u001B[34m*\u001B[0m\u001B[34m*\u001B[0m\u001B[34m*\u001B[0m\u001B[34m*\u001B[0m\u001B[34m*\u001B[0m\u001B[34m*\u001B[0m\u001B[34m*\u001B[0m\u001B[34m*\u001B[0m\u001B[34m*\u001B[0m\u001B[34m*\u001B[0m\u001B[34m*\u001B[0m\u001B[34m*\u001B[0m\u001B[34m*\u001B[0m\u001B[34m*\u001B[0m\u001B[34m*\u001B[0m\u001B[34m*\u001B[0m\u001B[34m*\u001B[0m\u001B[34m*\u001B[0m\u001B[34m*\u001B[0m\u001B[34m*\u001B[0m\u001B[34m*\u001B[0m\u001B[34m*\u001B[0m\u001B[34m*\u001B[0m\u001B[34m*\u001B[0m\u001B[34m*\u001B[0m\u001B[34m*\u001B[0m\u001B[34m*\u001B[0m\u001B[34m*\u001B[0m\u001B[34m*\u001B[0m\u001B[34m*\u001B[0m\u001B[34m*\u001B[0m\u001B[34m*\u001B[0m\u001B[34m*\u001B[0m\u001B[34m*\u001B[0m\u001B[34m*\u001B[0m\u001B[34m*\u001B[0m\u001B[34m*\u001B[0m\u001B[34m*\u001B[0m\u001B[34m*\u001B[0m\u001B[34m*\u001B[0m\u001B[34m*\u001B[0m\u001B[34m*\u001B[0m\u001B[34m*\u001B[0m\u001B[34m*\u001B[0m\u001B[34m*\u001B[0m\u001B[34m*\u001B[0m\u001B[34m*\u001B[0m\u001B[34m*\u001B[0m\u001B[34m*\u001B[0m\n",
      "\u001B[32m** Rozwiązanie ********************************************************************************\u001B[0m\n"
     ]
    },
    {
     "data": {
      "text/plain": [
       "<IPython.core.display.Latex object>"
      ],
      "text/latex": "$$z=1 + 4i.$$"
     },
     "metadata": {},
     "output_type": "display_data"
    },
    {
     "name": "stdout",
     "output_type": "stream",
     "text": [
      "\u001B[32m*\u001B[0m\u001B[32m*\u001B[0m\u001B[32m*\u001B[0m\u001B[32m*\u001B[0m\u001B[32m*\u001B[0m\u001B[32m*\u001B[0m\u001B[32m*\u001B[0m\u001B[32m*\u001B[0m\u001B[32m*\u001B[0m\u001B[32m*\u001B[0m\u001B[32m*\u001B[0m\u001B[32m*\u001B[0m\u001B[32m*\u001B[0m\u001B[32m*\u001B[0m\u001B[32m*\u001B[0m\u001B[32m*\u001B[0m\u001B[32m*\u001B[0m\u001B[32m*\u001B[0m\u001B[32m*\u001B[0m\u001B[32m*\u001B[0m\u001B[32m*\u001B[0m\u001B[32m*\u001B[0m\u001B[32m*\u001B[0m\u001B[32m*\u001B[0m\u001B[32m*\u001B[0m\u001B[32m*\u001B[0m\u001B[32m*\u001B[0m\u001B[32m*\u001B[0m\u001B[32m*\u001B[0m\u001B[32m*\u001B[0m\u001B[32m*\u001B[0m\u001B[32m*\u001B[0m\u001B[32m*\u001B[0m\u001B[32m*\u001B[0m\u001B[32m*\u001B[0m\u001B[32m*\u001B[0m\u001B[32m*\u001B[0m\u001B[32m*\u001B[0m\u001B[32m*\u001B[0m\u001B[32m*\u001B[0m\u001B[32m*\u001B[0m\u001B[32m*\u001B[0m\u001B[32m*\u001B[0m\u001B[32m*\u001B[0m\u001B[32m*\u001B[0m\u001B[32m*\u001B[0m\u001B[32m*\u001B[0m\u001B[32m*\u001B[0m\u001B[32m*\u001B[0m\u001B[32m*\u001B[0m\u001B[32m*\u001B[0m\u001B[32m*\u001B[0m\u001B[32m*\u001B[0m\u001B[32m*\u001B[0m\u001B[32m*\u001B[0m\u001B[32m*\u001B[0m\u001B[32m*\u001B[0m\u001B[32m*\u001B[0m\u001B[32m*\u001B[0m\u001B[32m*\u001B[0m\u001B[32m*\u001B[0m\u001B[32m*\u001B[0m\u001B[32m*\u001B[0m\u001B[32m*\u001B[0m\u001B[32m*\u001B[0m\u001B[32m*\u001B[0m\u001B[32m*\u001B[0m\u001B[32m*\u001B[0m\u001B[32m*\u001B[0m\u001B[32m*\u001B[0m\u001B[32m*\u001B[0m\u001B[32m*\u001B[0m\u001B[32m*\u001B[0m\u001B[32m*\u001B[0m\u001B[32m*\u001B[0m\u001B[32m*\u001B[0m\u001B[32m*\u001B[0m\u001B[32m*\u001B[0m\u001B[32m*\u001B[0m\u001B[32m*\u001B[0m\u001B[32m*\u001B[0m\u001B[32m*\u001B[0m\u001B[32m*\u001B[0m\u001B[32m*\u001B[0m\u001B[32m*\u001B[0m\u001B[32m*\u001B[0m\u001B[32m*\u001B[0m\u001B[32m*\u001B[0m\u001B[32m*\u001B[0m\u001B[32m*\u001B[0m\u001B[32m*\u001B[0m\u001B[32m*\u001B[0m\u001B[32m*\u001B[0m\u001B[32m*\u001B[0m\u001B[32m*\u001B[0m\n",
      "\u001B[34m** Zadanie 7 **********************************************************************************\u001B[0m\n"
     ]
    },
    {
     "data": {
      "text/plain": [
       "<IPython.core.display.Markdown object>"
      ],
      "text/markdown": "Rozwiązać równanie w zbiorze liczb zespolonych. Sprawdzić rozwiązanie."
     },
     "metadata": {},
     "output_type": "display_data"
    },
    {
     "data": {
      "text/plain": [
       "<IPython.core.display.Latex object>"
      ],
      "text/latex": "$$\t\t7 + 9i+\\left(2 - i\\right)z = \\left(3 + 4i\\right)z$$"
     },
     "metadata": {},
     "output_type": "display_data"
    },
    {
     "name": "stdout",
     "output_type": "stream",
     "text": [
      "\u001B[34m*\u001B[0m\u001B[34m*\u001B[0m\u001B[34m*\u001B[0m\u001B[34m*\u001B[0m\u001B[34m*\u001B[0m\u001B[34m*\u001B[0m\u001B[34m*\u001B[0m\u001B[34m*\u001B[0m\u001B[34m*\u001B[0m\u001B[34m*\u001B[0m\u001B[34m*\u001B[0m\u001B[34m*\u001B[0m\u001B[34m*\u001B[0m\u001B[34m*\u001B[0m\u001B[34m*\u001B[0m\u001B[34m*\u001B[0m\u001B[34m*\u001B[0m\u001B[34m*\u001B[0m\u001B[34m*\u001B[0m\u001B[34m*\u001B[0m\u001B[34m*\u001B[0m\u001B[34m*\u001B[0m\u001B[34m*\u001B[0m\u001B[34m*\u001B[0m\u001B[34m*\u001B[0m\u001B[34m*\u001B[0m\u001B[34m*\u001B[0m\u001B[34m*\u001B[0m\u001B[34m*\u001B[0m\u001B[34m*\u001B[0m\u001B[34m*\u001B[0m\u001B[34m*\u001B[0m\u001B[34m*\u001B[0m\u001B[34m*\u001B[0m\u001B[34m*\u001B[0m\u001B[34m*\u001B[0m\u001B[34m*\u001B[0m\u001B[34m*\u001B[0m\u001B[34m*\u001B[0m\u001B[34m*\u001B[0m\u001B[34m*\u001B[0m\u001B[34m*\u001B[0m\u001B[34m*\u001B[0m\u001B[34m*\u001B[0m\u001B[34m*\u001B[0m\u001B[34m*\u001B[0m\u001B[34m*\u001B[0m\u001B[34m*\u001B[0m\u001B[34m*\u001B[0m\u001B[34m*\u001B[0m\u001B[34m*\u001B[0m\u001B[34m*\u001B[0m\u001B[34m*\u001B[0m\u001B[34m*\u001B[0m\u001B[34m*\u001B[0m\u001B[34m*\u001B[0m\u001B[34m*\u001B[0m\u001B[34m*\u001B[0m\u001B[34m*\u001B[0m\u001B[34m*\u001B[0m\u001B[34m*\u001B[0m\u001B[34m*\u001B[0m\u001B[34m*\u001B[0m\u001B[34m*\u001B[0m\u001B[34m*\u001B[0m\u001B[34m*\u001B[0m\u001B[34m*\u001B[0m\u001B[34m*\u001B[0m\u001B[34m*\u001B[0m\u001B[34m*\u001B[0m\u001B[34m*\u001B[0m\u001B[34m*\u001B[0m\u001B[34m*\u001B[0m\u001B[34m*\u001B[0m\u001B[34m*\u001B[0m\u001B[34m*\u001B[0m\u001B[34m*\u001B[0m\u001B[34m*\u001B[0m\u001B[34m*\u001B[0m\u001B[34m*\u001B[0m\u001B[34m*\u001B[0m\u001B[34m*\u001B[0m\u001B[34m*\u001B[0m\u001B[34m*\u001B[0m\u001B[34m*\u001B[0m\u001B[34m*\u001B[0m\u001B[34m*\u001B[0m\u001B[34m*\u001B[0m\u001B[34m*\u001B[0m\u001B[34m*\u001B[0m\u001B[34m*\u001B[0m\u001B[34m*\u001B[0m\u001B[34m*\u001B[0m\u001B[34m*\u001B[0m\u001B[34m*\u001B[0m\n",
      "\u001B[32m** Rozwiązanie ********************************************************************************\u001B[0m\n"
     ]
    },
    {
     "data": {
      "text/plain": [
       "<IPython.core.display.Latex object>"
      ],
      "text/latex": "$$z=2 - i.$$"
     },
     "metadata": {},
     "output_type": "display_data"
    },
    {
     "name": "stdout",
     "output_type": "stream",
     "text": [
      "\u001B[32m*\u001B[0m\u001B[32m*\u001B[0m\u001B[32m*\u001B[0m\u001B[32m*\u001B[0m\u001B[32m*\u001B[0m\u001B[32m*\u001B[0m\u001B[32m*\u001B[0m\u001B[32m*\u001B[0m\u001B[32m*\u001B[0m\u001B[32m*\u001B[0m\u001B[32m*\u001B[0m\u001B[32m*\u001B[0m\u001B[32m*\u001B[0m\u001B[32m*\u001B[0m\u001B[32m*\u001B[0m\u001B[32m*\u001B[0m\u001B[32m*\u001B[0m\u001B[32m*\u001B[0m\u001B[32m*\u001B[0m\u001B[32m*\u001B[0m\u001B[32m*\u001B[0m\u001B[32m*\u001B[0m\u001B[32m*\u001B[0m\u001B[32m*\u001B[0m\u001B[32m*\u001B[0m\u001B[32m*\u001B[0m\u001B[32m*\u001B[0m\u001B[32m*\u001B[0m\u001B[32m*\u001B[0m\u001B[32m*\u001B[0m\u001B[32m*\u001B[0m\u001B[32m*\u001B[0m\u001B[32m*\u001B[0m\u001B[32m*\u001B[0m\u001B[32m*\u001B[0m\u001B[32m*\u001B[0m\u001B[32m*\u001B[0m\u001B[32m*\u001B[0m\u001B[32m*\u001B[0m\u001B[32m*\u001B[0m\u001B[32m*\u001B[0m\u001B[32m*\u001B[0m\u001B[32m*\u001B[0m\u001B[32m*\u001B[0m\u001B[32m*\u001B[0m\u001B[32m*\u001B[0m\u001B[32m*\u001B[0m\u001B[32m*\u001B[0m\u001B[32m*\u001B[0m\u001B[32m*\u001B[0m\u001B[32m*\u001B[0m\u001B[32m*\u001B[0m\u001B[32m*\u001B[0m\u001B[32m*\u001B[0m\u001B[32m*\u001B[0m\u001B[32m*\u001B[0m\u001B[32m*\u001B[0m\u001B[32m*\u001B[0m\u001B[32m*\u001B[0m\u001B[32m*\u001B[0m\u001B[32m*\u001B[0m\u001B[32m*\u001B[0m\u001B[32m*\u001B[0m\u001B[32m*\u001B[0m\u001B[32m*\u001B[0m\u001B[32m*\u001B[0m\u001B[32m*\u001B[0m\u001B[32m*\u001B[0m\u001B[32m*\u001B[0m\u001B[32m*\u001B[0m\u001B[32m*\u001B[0m\u001B[32m*\u001B[0m\u001B[32m*\u001B[0m\u001B[32m*\u001B[0m\u001B[32m*\u001B[0m\u001B[32m*\u001B[0m\u001B[32m*\u001B[0m\u001B[32m*\u001B[0m\u001B[32m*\u001B[0m\u001B[32m*\u001B[0m\u001B[32m*\u001B[0m\u001B[32m*\u001B[0m\u001B[32m*\u001B[0m\u001B[32m*\u001B[0m\u001B[32m*\u001B[0m\u001B[32m*\u001B[0m\u001B[32m*\u001B[0m\u001B[32m*\u001B[0m\u001B[32m*\u001B[0m\u001B[32m*\u001B[0m\u001B[32m*\u001B[0m\u001B[32m*\u001B[0m\u001B[32m*\u001B[0m\u001B[32m*\u001B[0m\u001B[32m*\u001B[0m\n",
      "\u001B[34m** Zadanie 8 **********************************************************************************\u001B[0m\n"
     ]
    },
    {
     "data": {
      "text/plain": [
       "<IPython.core.display.Markdown object>"
      ],
      "text/markdown": "Rozwiązać równanie w zbiorze liczb zespolonych. Sprawdzić rozwiązanie."
     },
     "metadata": {},
     "output_type": "display_data"
    },
    {
     "data": {
      "text/plain": [
       "<IPython.core.display.Latex object>"
      ],
      "text/latex": "$$\t\t-3 - 4i+\\left(4 + 2i\\right)z = \\left(3 + 4i\\right)z$$"
     },
     "metadata": {},
     "output_type": "display_data"
    },
    {
     "name": "stdout",
     "output_type": "stream",
     "text": [
      "\u001B[34m*\u001B[0m\u001B[34m*\u001B[0m\u001B[34m*\u001B[0m\u001B[34m*\u001B[0m\u001B[34m*\u001B[0m\u001B[34m*\u001B[0m\u001B[34m*\u001B[0m\u001B[34m*\u001B[0m\u001B[34m*\u001B[0m\u001B[34m*\u001B[0m\u001B[34m*\u001B[0m\u001B[34m*\u001B[0m\u001B[34m*\u001B[0m\u001B[34m*\u001B[0m\u001B[34m*\u001B[0m\u001B[34m*\u001B[0m\u001B[34m*\u001B[0m\u001B[34m*\u001B[0m\u001B[34m*\u001B[0m\u001B[34m*\u001B[0m\u001B[34m*\u001B[0m\u001B[34m*\u001B[0m\u001B[34m*\u001B[0m\u001B[34m*\u001B[0m\u001B[34m*\u001B[0m\u001B[34m*\u001B[0m\u001B[34m*\u001B[0m\u001B[34m*\u001B[0m\u001B[34m*\u001B[0m\u001B[34m*\u001B[0m\u001B[34m*\u001B[0m\u001B[34m*\u001B[0m\u001B[34m*\u001B[0m\u001B[34m*\u001B[0m\u001B[34m*\u001B[0m\u001B[34m*\u001B[0m\u001B[34m*\u001B[0m\u001B[34m*\u001B[0m\u001B[34m*\u001B[0m\u001B[34m*\u001B[0m\u001B[34m*\u001B[0m\u001B[34m*\u001B[0m\u001B[34m*\u001B[0m\u001B[34m*\u001B[0m\u001B[34m*\u001B[0m\u001B[34m*\u001B[0m\u001B[34m*\u001B[0m\u001B[34m*\u001B[0m\u001B[34m*\u001B[0m\u001B[34m*\u001B[0m\u001B[34m*\u001B[0m\u001B[34m*\u001B[0m\u001B[34m*\u001B[0m\u001B[34m*\u001B[0m\u001B[34m*\u001B[0m\u001B[34m*\u001B[0m\u001B[34m*\u001B[0m\u001B[34m*\u001B[0m\u001B[34m*\u001B[0m\u001B[34m*\u001B[0m\u001B[34m*\u001B[0m\u001B[34m*\u001B[0m\u001B[34m*\u001B[0m\u001B[34m*\u001B[0m\u001B[34m*\u001B[0m\u001B[34m*\u001B[0m\u001B[34m*\u001B[0m\u001B[34m*\u001B[0m\u001B[34m*\u001B[0m\u001B[34m*\u001B[0m\u001B[34m*\u001B[0m\u001B[34m*\u001B[0m\u001B[34m*\u001B[0m\u001B[34m*\u001B[0m\u001B[34m*\u001B[0m\u001B[34m*\u001B[0m\u001B[34m*\u001B[0m\u001B[34m*\u001B[0m\u001B[34m*\u001B[0m\u001B[34m*\u001B[0m\u001B[34m*\u001B[0m\u001B[34m*\u001B[0m\u001B[34m*\u001B[0m\u001B[34m*\u001B[0m\u001B[34m*\u001B[0m\u001B[34m*\u001B[0m\u001B[34m*\u001B[0m\u001B[34m*\u001B[0m\u001B[34m*\u001B[0m\u001B[34m*\u001B[0m\u001B[34m*\u001B[0m\u001B[34m*\u001B[0m\u001B[34m*\u001B[0m\u001B[34m*\u001B[0m\u001B[34m*\u001B[0m\n",
      "\u001B[32m** Rozwiązanie ********************************************************************************\u001B[0m\n"
     ]
    },
    {
     "data": {
      "text/plain": [
       "<IPython.core.display.Latex object>"
      ],
      "text/latex": "$$z=-1 + 2i.$$"
     },
     "metadata": {},
     "output_type": "display_data"
    },
    {
     "name": "stdout",
     "output_type": "stream",
     "text": [
      "\u001B[32m*\u001B[0m\u001B[32m*\u001B[0m\u001B[32m*\u001B[0m\u001B[32m*\u001B[0m\u001B[32m*\u001B[0m\u001B[32m*\u001B[0m\u001B[32m*\u001B[0m\u001B[32m*\u001B[0m\u001B[32m*\u001B[0m\u001B[32m*\u001B[0m\u001B[32m*\u001B[0m\u001B[32m*\u001B[0m\u001B[32m*\u001B[0m\u001B[32m*\u001B[0m\u001B[32m*\u001B[0m\u001B[32m*\u001B[0m\u001B[32m*\u001B[0m\u001B[32m*\u001B[0m\u001B[32m*\u001B[0m\u001B[32m*\u001B[0m\u001B[32m*\u001B[0m\u001B[32m*\u001B[0m\u001B[32m*\u001B[0m\u001B[32m*\u001B[0m\u001B[32m*\u001B[0m\u001B[32m*\u001B[0m\u001B[32m*\u001B[0m\u001B[32m*\u001B[0m\u001B[32m*\u001B[0m\u001B[32m*\u001B[0m\u001B[32m*\u001B[0m\u001B[32m*\u001B[0m\u001B[32m*\u001B[0m\u001B[32m*\u001B[0m\u001B[32m*\u001B[0m\u001B[32m*\u001B[0m\u001B[32m*\u001B[0m\u001B[32m*\u001B[0m\u001B[32m*\u001B[0m\u001B[32m*\u001B[0m\u001B[32m*\u001B[0m\u001B[32m*\u001B[0m\u001B[32m*\u001B[0m\u001B[32m*\u001B[0m\u001B[32m*\u001B[0m\u001B[32m*\u001B[0m\u001B[32m*\u001B[0m\u001B[32m*\u001B[0m\u001B[32m*\u001B[0m\u001B[32m*\u001B[0m\u001B[32m*\u001B[0m\u001B[32m*\u001B[0m\u001B[32m*\u001B[0m\u001B[32m*\u001B[0m\u001B[32m*\u001B[0m\u001B[32m*\u001B[0m\u001B[32m*\u001B[0m\u001B[32m*\u001B[0m\u001B[32m*\u001B[0m\u001B[32m*\u001B[0m\u001B[32m*\u001B[0m\u001B[32m*\u001B[0m\u001B[32m*\u001B[0m\u001B[32m*\u001B[0m\u001B[32m*\u001B[0m\u001B[32m*\u001B[0m\u001B[32m*\u001B[0m\u001B[32m*\u001B[0m\u001B[32m*\u001B[0m\u001B[32m*\u001B[0m\u001B[32m*\u001B[0m\u001B[32m*\u001B[0m\u001B[32m*\u001B[0m\u001B[32m*\u001B[0m\u001B[32m*\u001B[0m\u001B[32m*\u001B[0m\u001B[32m*\u001B[0m\u001B[32m*\u001B[0m\u001B[32m*\u001B[0m\u001B[32m*\u001B[0m\u001B[32m*\u001B[0m\u001B[32m*\u001B[0m\u001B[32m*\u001B[0m\u001B[32m*\u001B[0m\u001B[32m*\u001B[0m\u001B[32m*\u001B[0m\u001B[32m*\u001B[0m\u001B[32m*\u001B[0m\u001B[32m*\u001B[0m\u001B[32m*\u001B[0m\u001B[32m*\u001B[0m\u001B[32m*\u001B[0m\u001B[32m*\u001B[0m\u001B[32m*\u001B[0m\u001B[32m*\u001B[0m\n",
      "\u001B[34m** Zadanie 9 **********************************************************************************\u001B[0m\n"
     ]
    },
    {
     "data": {
      "text/plain": [
       "<IPython.core.display.Markdown object>"
      ],
      "text/markdown": "Rozwiązać równanie w zbiorze liczb zespolonych. Sprawdzić rozwiązanie."
     },
     "metadata": {},
     "output_type": "display_data"
    },
    {
     "data": {
      "text/plain": [
       "<IPython.core.display.Latex object>"
      ],
      "text/latex": "$$\t\t5 + 9i+\\left(3 + 3i\\right)z = \\left(2 + 2i\\right)z$$"
     },
     "metadata": {},
     "output_type": "display_data"
    },
    {
     "name": "stdout",
     "output_type": "stream",
     "text": [
      "\u001B[34m*\u001B[0m\u001B[34m*\u001B[0m\u001B[34m*\u001B[0m\u001B[34m*\u001B[0m\u001B[34m*\u001B[0m\u001B[34m*\u001B[0m\u001B[34m*\u001B[0m\u001B[34m*\u001B[0m\u001B[34m*\u001B[0m\u001B[34m*\u001B[0m\u001B[34m*\u001B[0m\u001B[34m*\u001B[0m\u001B[34m*\u001B[0m\u001B[34m*\u001B[0m\u001B[34m*\u001B[0m\u001B[34m*\u001B[0m\u001B[34m*\u001B[0m\u001B[34m*\u001B[0m\u001B[34m*\u001B[0m\u001B[34m*\u001B[0m\u001B[34m*\u001B[0m\u001B[34m*\u001B[0m\u001B[34m*\u001B[0m\u001B[34m*\u001B[0m\u001B[34m*\u001B[0m\u001B[34m*\u001B[0m\u001B[34m*\u001B[0m\u001B[34m*\u001B[0m\u001B[34m*\u001B[0m\u001B[34m*\u001B[0m\u001B[34m*\u001B[0m\u001B[34m*\u001B[0m\u001B[34m*\u001B[0m\u001B[34m*\u001B[0m\u001B[34m*\u001B[0m\u001B[34m*\u001B[0m\u001B[34m*\u001B[0m\u001B[34m*\u001B[0m\u001B[34m*\u001B[0m\u001B[34m*\u001B[0m\u001B[34m*\u001B[0m\u001B[34m*\u001B[0m\u001B[34m*\u001B[0m\u001B[34m*\u001B[0m\u001B[34m*\u001B[0m\u001B[34m*\u001B[0m\u001B[34m*\u001B[0m\u001B[34m*\u001B[0m\u001B[34m*\u001B[0m\u001B[34m*\u001B[0m\u001B[34m*\u001B[0m\u001B[34m*\u001B[0m\u001B[34m*\u001B[0m\u001B[34m*\u001B[0m\u001B[34m*\u001B[0m\u001B[34m*\u001B[0m\u001B[34m*\u001B[0m\u001B[34m*\u001B[0m\u001B[34m*\u001B[0m\u001B[34m*\u001B[0m\u001B[34m*\u001B[0m\u001B[34m*\u001B[0m\u001B[34m*\u001B[0m\u001B[34m*\u001B[0m\u001B[34m*\u001B[0m\u001B[34m*\u001B[0m\u001B[34m*\u001B[0m\u001B[34m*\u001B[0m\u001B[34m*\u001B[0m\u001B[34m*\u001B[0m\u001B[34m*\u001B[0m\u001B[34m*\u001B[0m\u001B[34m*\u001B[0m\u001B[34m*\u001B[0m\u001B[34m*\u001B[0m\u001B[34m*\u001B[0m\u001B[34m*\u001B[0m\u001B[34m*\u001B[0m\u001B[34m*\u001B[0m\u001B[34m*\u001B[0m\u001B[34m*\u001B[0m\u001B[34m*\u001B[0m\u001B[34m*\u001B[0m\u001B[34m*\u001B[0m\u001B[34m*\u001B[0m\u001B[34m*\u001B[0m\u001B[34m*\u001B[0m\u001B[34m*\u001B[0m\u001B[34m*\u001B[0m\u001B[34m*\u001B[0m\u001B[34m*\u001B[0m\u001B[34m*\u001B[0m\u001B[34m*\u001B[0m\u001B[34m*\u001B[0m\u001B[34m*\u001B[0m\n",
      "\u001B[32m** Rozwiązanie ********************************************************************************\u001B[0m\n"
     ]
    },
    {
     "data": {
      "text/plain": [
       "<IPython.core.display.Latex object>"
      ],
      "text/latex": "$$z=-7 - 2i.$$"
     },
     "metadata": {},
     "output_type": "display_data"
    },
    {
     "name": "stdout",
     "output_type": "stream",
     "text": [
      "\u001B[32m*\u001B[0m\u001B[32m*\u001B[0m\u001B[32m*\u001B[0m\u001B[32m*\u001B[0m\u001B[32m*\u001B[0m\u001B[32m*\u001B[0m\u001B[32m*\u001B[0m\u001B[32m*\u001B[0m\u001B[32m*\u001B[0m\u001B[32m*\u001B[0m\u001B[32m*\u001B[0m\u001B[32m*\u001B[0m\u001B[32m*\u001B[0m\u001B[32m*\u001B[0m\u001B[32m*\u001B[0m\u001B[32m*\u001B[0m\u001B[32m*\u001B[0m\u001B[32m*\u001B[0m\u001B[32m*\u001B[0m\u001B[32m*\u001B[0m\u001B[32m*\u001B[0m\u001B[32m*\u001B[0m\u001B[32m*\u001B[0m\u001B[32m*\u001B[0m\u001B[32m*\u001B[0m\u001B[32m*\u001B[0m\u001B[32m*\u001B[0m\u001B[32m*\u001B[0m\u001B[32m*\u001B[0m\u001B[32m*\u001B[0m\u001B[32m*\u001B[0m\u001B[32m*\u001B[0m\u001B[32m*\u001B[0m\u001B[32m*\u001B[0m\u001B[32m*\u001B[0m\u001B[32m*\u001B[0m\u001B[32m*\u001B[0m\u001B[32m*\u001B[0m\u001B[32m*\u001B[0m\u001B[32m*\u001B[0m\u001B[32m*\u001B[0m\u001B[32m*\u001B[0m\u001B[32m*\u001B[0m\u001B[32m*\u001B[0m\u001B[32m*\u001B[0m\u001B[32m*\u001B[0m\u001B[32m*\u001B[0m\u001B[32m*\u001B[0m\u001B[32m*\u001B[0m\u001B[32m*\u001B[0m\u001B[32m*\u001B[0m\u001B[32m*\u001B[0m\u001B[32m*\u001B[0m\u001B[32m*\u001B[0m\u001B[32m*\u001B[0m\u001B[32m*\u001B[0m\u001B[32m*\u001B[0m\u001B[32m*\u001B[0m\u001B[32m*\u001B[0m\u001B[32m*\u001B[0m\u001B[32m*\u001B[0m\u001B[32m*\u001B[0m\u001B[32m*\u001B[0m\u001B[32m*\u001B[0m\u001B[32m*\u001B[0m\u001B[32m*\u001B[0m\u001B[32m*\u001B[0m\u001B[32m*\u001B[0m\u001B[32m*\u001B[0m\u001B[32m*\u001B[0m\u001B[32m*\u001B[0m\u001B[32m*\u001B[0m\u001B[32m*\u001B[0m\u001B[32m*\u001B[0m\u001B[32m*\u001B[0m\u001B[32m*\u001B[0m\u001B[32m*\u001B[0m\u001B[32m*\u001B[0m\u001B[32m*\u001B[0m\u001B[32m*\u001B[0m\u001B[32m*\u001B[0m\u001B[32m*\u001B[0m\u001B[32m*\u001B[0m\u001B[32m*\u001B[0m\u001B[32m*\u001B[0m\u001B[32m*\u001B[0m\u001B[32m*\u001B[0m\u001B[32m*\u001B[0m\u001B[32m*\u001B[0m\u001B[32m*\u001B[0m\u001B[32m*\u001B[0m\u001B[32m*\u001B[0m\u001B[32m*\u001B[0m\u001B[32m*\u001B[0m\u001B[32m*\u001B[0m\n",
      "\u001B[34m** Zadanie 10 **********************************************************************************\u001B[0m\n"
     ]
    },
    {
     "data": {
      "text/plain": [
       "<IPython.core.display.Markdown object>"
      ],
      "text/markdown": "Rozwiązać równanie w zbiorze liczb zespolonych. Sprawdzić rozwiązanie."
     },
     "metadata": {},
     "output_type": "display_data"
    },
    {
     "data": {
      "text/plain": [
       "<IPython.core.display.Latex object>"
      ],
      "text/latex": "$$\t\t\\left(4 - 3i\\right)z = 5 - 3i+\\left(8 - 2i\\right)z$$"
     },
     "metadata": {},
     "output_type": "display_data"
    },
    {
     "name": "stdout",
     "output_type": "stream",
     "text": [
      "\u001B[34m*\u001B[0m\u001B[34m*\u001B[0m\u001B[34m*\u001B[0m\u001B[34m*\u001B[0m\u001B[34m*\u001B[0m\u001B[34m*\u001B[0m\u001B[34m*\u001B[0m\u001B[34m*\u001B[0m\u001B[34m*\u001B[0m\u001B[34m*\u001B[0m\u001B[34m*\u001B[0m\u001B[34m*\u001B[0m\u001B[34m*\u001B[0m\u001B[34m*\u001B[0m\u001B[34m*\u001B[0m\u001B[34m*\u001B[0m\u001B[34m*\u001B[0m\u001B[34m*\u001B[0m\u001B[34m*\u001B[0m\u001B[34m*\u001B[0m\u001B[34m*\u001B[0m\u001B[34m*\u001B[0m\u001B[34m*\u001B[0m\u001B[34m*\u001B[0m\u001B[34m*\u001B[0m\u001B[34m*\u001B[0m\u001B[34m*\u001B[0m\u001B[34m*\u001B[0m\u001B[34m*\u001B[0m\u001B[34m*\u001B[0m\u001B[34m*\u001B[0m\u001B[34m*\u001B[0m\u001B[34m*\u001B[0m\u001B[34m*\u001B[0m\u001B[34m*\u001B[0m\u001B[34m*\u001B[0m\u001B[34m*\u001B[0m\u001B[34m*\u001B[0m\u001B[34m*\u001B[0m\u001B[34m*\u001B[0m\u001B[34m*\u001B[0m\u001B[34m*\u001B[0m\u001B[34m*\u001B[0m\u001B[34m*\u001B[0m\u001B[34m*\u001B[0m\u001B[34m*\u001B[0m\u001B[34m*\u001B[0m\u001B[34m*\u001B[0m\u001B[34m*\u001B[0m\u001B[34m*\u001B[0m\u001B[34m*\u001B[0m\u001B[34m*\u001B[0m\u001B[34m*\u001B[0m\u001B[34m*\u001B[0m\u001B[34m*\u001B[0m\u001B[34m*\u001B[0m\u001B[34m*\u001B[0m\u001B[34m*\u001B[0m\u001B[34m*\u001B[0m\u001B[34m*\u001B[0m\u001B[34m*\u001B[0m\u001B[34m*\u001B[0m\u001B[34m*\u001B[0m\u001B[34m*\u001B[0m\u001B[34m*\u001B[0m\u001B[34m*\u001B[0m\u001B[34m*\u001B[0m\u001B[34m*\u001B[0m\u001B[34m*\u001B[0m\u001B[34m*\u001B[0m\u001B[34m*\u001B[0m\u001B[34m*\u001B[0m\u001B[34m*\u001B[0m\u001B[34m*\u001B[0m\u001B[34m*\u001B[0m\u001B[34m*\u001B[0m\u001B[34m*\u001B[0m\u001B[34m*\u001B[0m\u001B[34m*\u001B[0m\u001B[34m*\u001B[0m\u001B[34m*\u001B[0m\u001B[34m*\u001B[0m\u001B[34m*\u001B[0m\u001B[34m*\u001B[0m\u001B[34m*\u001B[0m\u001B[34m*\u001B[0m\u001B[34m*\u001B[0m\u001B[34m*\u001B[0m\u001B[34m*\u001B[0m\u001B[34m*\u001B[0m\u001B[34m*\u001B[0m\u001B[34m*\u001B[0m\u001B[34m*\u001B[0m\u001B[34m*\u001B[0m\u001B[34m*\u001B[0m\n",
      "\u001B[32m** Rozwiązanie ********************************************************************************\u001B[0m\n"
     ]
    },
    {
     "data": {
      "text/plain": [
       "<IPython.core.display.Latex object>"
      ],
      "text/latex": "$$z=-1 + i.$$"
     },
     "metadata": {},
     "output_type": "display_data"
    },
    {
     "name": "stdout",
     "output_type": "stream",
     "text": [
      "\u001B[32m*\u001B[0m\u001B[32m*\u001B[0m\u001B[32m*\u001B[0m\u001B[32m*\u001B[0m\u001B[32m*\u001B[0m\u001B[32m*\u001B[0m\u001B[32m*\u001B[0m\u001B[32m*\u001B[0m\u001B[32m*\u001B[0m\u001B[32m*\u001B[0m\u001B[32m*\u001B[0m\u001B[32m*\u001B[0m\u001B[32m*\u001B[0m\u001B[32m*\u001B[0m\u001B[32m*\u001B[0m\u001B[32m*\u001B[0m\u001B[32m*\u001B[0m\u001B[32m*\u001B[0m\u001B[32m*\u001B[0m\u001B[32m*\u001B[0m\u001B[32m*\u001B[0m\u001B[32m*\u001B[0m\u001B[32m*\u001B[0m\u001B[32m*\u001B[0m\u001B[32m*\u001B[0m\u001B[32m*\u001B[0m\u001B[32m*\u001B[0m\u001B[32m*\u001B[0m\u001B[32m*\u001B[0m\u001B[32m*\u001B[0m\u001B[32m*\u001B[0m\u001B[32m*\u001B[0m\u001B[32m*\u001B[0m\u001B[32m*\u001B[0m\u001B[32m*\u001B[0m\u001B[32m*\u001B[0m\u001B[32m*\u001B[0m\u001B[32m*\u001B[0m\u001B[32m*\u001B[0m\u001B[32m*\u001B[0m\u001B[32m*\u001B[0m\u001B[32m*\u001B[0m\u001B[32m*\u001B[0m\u001B[32m*\u001B[0m\u001B[32m*\u001B[0m\u001B[32m*\u001B[0m\u001B[32m*\u001B[0m\u001B[32m*\u001B[0m\u001B[32m*\u001B[0m\u001B[32m*\u001B[0m\u001B[32m*\u001B[0m\u001B[32m*\u001B[0m\u001B[32m*\u001B[0m\u001B[32m*\u001B[0m\u001B[32m*\u001B[0m\u001B[32m*\u001B[0m\u001B[32m*\u001B[0m\u001B[32m*\u001B[0m\u001B[32m*\u001B[0m\u001B[32m*\u001B[0m\u001B[32m*\u001B[0m\u001B[32m*\u001B[0m\u001B[32m*\u001B[0m\u001B[32m*\u001B[0m\u001B[32m*\u001B[0m\u001B[32m*\u001B[0m\u001B[32m*\u001B[0m\u001B[32m*\u001B[0m\u001B[32m*\u001B[0m\u001B[32m*\u001B[0m\u001B[32m*\u001B[0m\u001B[32m*\u001B[0m\u001B[32m*\u001B[0m\u001B[32m*\u001B[0m\u001B[32m*\u001B[0m\u001B[32m*\u001B[0m\u001B[32m*\u001B[0m\u001B[32m*\u001B[0m\u001B[32m*\u001B[0m\u001B[32m*\u001B[0m\u001B[32m*\u001B[0m\u001B[32m*\u001B[0m\u001B[32m*\u001B[0m\u001B[32m*\u001B[0m\u001B[32m*\u001B[0m\u001B[32m*\u001B[0m\u001B[32m*\u001B[0m\u001B[32m*\u001B[0m\u001B[32m*\u001B[0m\u001B[32m*\u001B[0m\u001B[32m*\u001B[0m\u001B[32m*\u001B[0m\u001B[32m*\u001B[0m\u001B[32m*\u001B[0m\u001B[32m*\u001B[0m\n"
     ]
    }
   ],
   "execution_count": 6
  },
  {
   "metadata": {},
   "cell_type": "markdown",
   "source": "## Zespolone równanie kwadratowe"
  },
  {
   "metadata": {
    "ExecuteTime": {
     "end_time": "2024-09-14T17:07:25.173528Z",
     "start_time": "2024-09-14T17:07:25.008087Z"
    }
   },
   "cell_type": "code",
   "source": [
    "zadanie = gz.rownanie_kwadratowe()\n",
    "zadanie"
   ],
   "outputs": [
    {
     "data": {
      "text/plain": [
       "('Rozwiązać równanie w zbiorze liczb zespolonych.\\\\ Sprawdzić jedno z rozwiązań.\\n\\t\\\\[\\n\\t\\t\\\\left(1 + 2 i\\\\right)z^2 + \\\\left(-13 - 6 i\\\\right) z + \\\\left(22 - 6 i\\\\right)=0\\n\\t\\\\]',\n",
       " '$\\\\Delta = -3+4i, \\\\quad \\\\sqrt{\\\\Delta}=\\\\pm( 1 + 2 i), \\\\quad z_{1}=2 - 2 i, \\\\quad z_{2}=3 - 2 i$')"
      ]
     },
     "execution_count": 7,
     "metadata": {},
     "output_type": "execute_result"
    }
   ],
   "execution_count": 7
  },
  {
   "metadata": {
    "ExecuteTime": {
     "end_time": "2024-09-14T17:07:25.229069Z",
     "start_time": "2024-09-14T17:07:25.223854Z"
    }
   },
   "cell_type": "code",
   "source": [
    "print(\"\\033[34m** Zadanie **\" + '*' * 81 + '\\033[0m')\n",
    "print(zadanie[0])\n",
    "print(\"\\033[34m*\\033[0m\" * 95)\n",
    "print(\"\\033[32m** Rozwiązanie **\" + '*' * 78 + '\\033[0m')\n",
    "print(zadanie[1])\n",
    "print(\"\\033[32m*\\033[0m\" * 95)"
   ],
   "outputs": [
    {
     "name": "stdout",
     "output_type": "stream",
     "text": [
      "\u001B[34m** Zadanie ***********************************************************************************\u001B[0m\n",
      "Rozwiązać równanie w zbiorze liczb zespolonych.\\ Sprawdzić jedno z rozwiązań.\n",
      "\t\\[\n",
      "\t\t\\left(1 + 2 i\\right)z^2 + \\left(-13 - 6 i\\right) z + \\left(22 - 6 i\\right)=0\n",
      "\t\\]\n",
      "\u001B[34m*\u001B[0m\u001B[34m*\u001B[0m\u001B[34m*\u001B[0m\u001B[34m*\u001B[0m\u001B[34m*\u001B[0m\u001B[34m*\u001B[0m\u001B[34m*\u001B[0m\u001B[34m*\u001B[0m\u001B[34m*\u001B[0m\u001B[34m*\u001B[0m\u001B[34m*\u001B[0m\u001B[34m*\u001B[0m\u001B[34m*\u001B[0m\u001B[34m*\u001B[0m\u001B[34m*\u001B[0m\u001B[34m*\u001B[0m\u001B[34m*\u001B[0m\u001B[34m*\u001B[0m\u001B[34m*\u001B[0m\u001B[34m*\u001B[0m\u001B[34m*\u001B[0m\u001B[34m*\u001B[0m\u001B[34m*\u001B[0m\u001B[34m*\u001B[0m\u001B[34m*\u001B[0m\u001B[34m*\u001B[0m\u001B[34m*\u001B[0m\u001B[34m*\u001B[0m\u001B[34m*\u001B[0m\u001B[34m*\u001B[0m\u001B[34m*\u001B[0m\u001B[34m*\u001B[0m\u001B[34m*\u001B[0m\u001B[34m*\u001B[0m\u001B[34m*\u001B[0m\u001B[34m*\u001B[0m\u001B[34m*\u001B[0m\u001B[34m*\u001B[0m\u001B[34m*\u001B[0m\u001B[34m*\u001B[0m\u001B[34m*\u001B[0m\u001B[34m*\u001B[0m\u001B[34m*\u001B[0m\u001B[34m*\u001B[0m\u001B[34m*\u001B[0m\u001B[34m*\u001B[0m\u001B[34m*\u001B[0m\u001B[34m*\u001B[0m\u001B[34m*\u001B[0m\u001B[34m*\u001B[0m\u001B[34m*\u001B[0m\u001B[34m*\u001B[0m\u001B[34m*\u001B[0m\u001B[34m*\u001B[0m\u001B[34m*\u001B[0m\u001B[34m*\u001B[0m\u001B[34m*\u001B[0m\u001B[34m*\u001B[0m\u001B[34m*\u001B[0m\u001B[34m*\u001B[0m\u001B[34m*\u001B[0m\u001B[34m*\u001B[0m\u001B[34m*\u001B[0m\u001B[34m*\u001B[0m\u001B[34m*\u001B[0m\u001B[34m*\u001B[0m\u001B[34m*\u001B[0m\u001B[34m*\u001B[0m\u001B[34m*\u001B[0m\u001B[34m*\u001B[0m\u001B[34m*\u001B[0m\u001B[34m*\u001B[0m\u001B[34m*\u001B[0m\u001B[34m*\u001B[0m\u001B[34m*\u001B[0m\u001B[34m*\u001B[0m\u001B[34m*\u001B[0m\u001B[34m*\u001B[0m\u001B[34m*\u001B[0m\u001B[34m*\u001B[0m\u001B[34m*\u001B[0m\u001B[34m*\u001B[0m\u001B[34m*\u001B[0m\u001B[34m*\u001B[0m\u001B[34m*\u001B[0m\u001B[34m*\u001B[0m\u001B[34m*\u001B[0m\u001B[34m*\u001B[0m\u001B[34m*\u001B[0m\u001B[34m*\u001B[0m\u001B[34m*\u001B[0m\u001B[34m*\u001B[0m\u001B[34m*\u001B[0m\u001B[34m*\u001B[0m\u001B[34m*\u001B[0m\n",
      "\u001B[32m** Rozwiązanie ********************************************************************************\u001B[0m\n",
      "$\\Delta = -3+4i, \\quad \\sqrt{\\Delta}=\\pm( 1 + 2 i), \\quad z_{1}=2 - 2 i, \\quad z_{2}=3 - 2 i$\n",
      "\u001B[32m*\u001B[0m\u001B[32m*\u001B[0m\u001B[32m*\u001B[0m\u001B[32m*\u001B[0m\u001B[32m*\u001B[0m\u001B[32m*\u001B[0m\u001B[32m*\u001B[0m\u001B[32m*\u001B[0m\u001B[32m*\u001B[0m\u001B[32m*\u001B[0m\u001B[32m*\u001B[0m\u001B[32m*\u001B[0m\u001B[32m*\u001B[0m\u001B[32m*\u001B[0m\u001B[32m*\u001B[0m\u001B[32m*\u001B[0m\u001B[32m*\u001B[0m\u001B[32m*\u001B[0m\u001B[32m*\u001B[0m\u001B[32m*\u001B[0m\u001B[32m*\u001B[0m\u001B[32m*\u001B[0m\u001B[32m*\u001B[0m\u001B[32m*\u001B[0m\u001B[32m*\u001B[0m\u001B[32m*\u001B[0m\u001B[32m*\u001B[0m\u001B[32m*\u001B[0m\u001B[32m*\u001B[0m\u001B[32m*\u001B[0m\u001B[32m*\u001B[0m\u001B[32m*\u001B[0m\u001B[32m*\u001B[0m\u001B[32m*\u001B[0m\u001B[32m*\u001B[0m\u001B[32m*\u001B[0m\u001B[32m*\u001B[0m\u001B[32m*\u001B[0m\u001B[32m*\u001B[0m\u001B[32m*\u001B[0m\u001B[32m*\u001B[0m\u001B[32m*\u001B[0m\u001B[32m*\u001B[0m\u001B[32m*\u001B[0m\u001B[32m*\u001B[0m\u001B[32m*\u001B[0m\u001B[32m*\u001B[0m\u001B[32m*\u001B[0m\u001B[32m*\u001B[0m\u001B[32m*\u001B[0m\u001B[32m*\u001B[0m\u001B[32m*\u001B[0m\u001B[32m*\u001B[0m\u001B[32m*\u001B[0m\u001B[32m*\u001B[0m\u001B[32m*\u001B[0m\u001B[32m*\u001B[0m\u001B[32m*\u001B[0m\u001B[32m*\u001B[0m\u001B[32m*\u001B[0m\u001B[32m*\u001B[0m\u001B[32m*\u001B[0m\u001B[32m*\u001B[0m\u001B[32m*\u001B[0m\u001B[32m*\u001B[0m\u001B[32m*\u001B[0m\u001B[32m*\u001B[0m\u001B[32m*\u001B[0m\u001B[32m*\u001B[0m\u001B[32m*\u001B[0m\u001B[32m*\u001B[0m\u001B[32m*\u001B[0m\u001B[32m*\u001B[0m\u001B[32m*\u001B[0m\u001B[32m*\u001B[0m\u001B[32m*\u001B[0m\u001B[32m*\u001B[0m\u001B[32m*\u001B[0m\u001B[32m*\u001B[0m\u001B[32m*\u001B[0m\u001B[32m*\u001B[0m\u001B[32m*\u001B[0m\u001B[32m*\u001B[0m\u001B[32m*\u001B[0m\u001B[32m*\u001B[0m\u001B[32m*\u001B[0m\u001B[32m*\u001B[0m\u001B[32m*\u001B[0m\u001B[32m*\u001B[0m\u001B[32m*\u001B[0m\u001B[32m*\u001B[0m\u001B[32m*\u001B[0m\u001B[32m*\u001B[0m\u001B[32m*\u001B[0m\u001B[32m*\u001B[0m\n"
     ]
    }
   ],
   "execution_count": 8
  },
  {
   "metadata": {
    "ExecuteTime": {
     "end_time": "2024-09-14T17:07:27.305554Z",
     "start_time": "2024-09-14T17:07:25.342632Z"
    }
   },
   "cell_type": "code",
   "source": [
    "for i in range(1, ile_zadan_przykladowych + 1):\n",
    "    zadanie = gz.rownanie_kwadratowe()\n",
    "    print(f\"\\033[34m** Zadanie {i} **\" + '*' * 80 + '\\033[0m')\n",
    "    display(Markdown(zadanie[0].split('\\n')[0].replace('\\\\', '')))\n",
    "    display(Latex('$$' + zadanie[0].split('\\n')[2] + '$$'))\n",
    "    print(\"\\033[34m*\\033[0m\" * 95)\n",
    "    print(\"\\033[32m** Rozwiązanie **\" + '*' * 78 + '\\033[0m')\n",
    "    display(Latex('$' + zadanie[1] + '$'))\n",
    "    print(\"\\033[32m*\\033[0m\" * 95)"
   ],
   "outputs": [
    {
     "name": "stdout",
     "output_type": "stream",
     "text": [
      "\u001B[34m** Zadanie 1 **********************************************************************************\u001B[0m\n"
     ]
    },
    {
     "data": {
      "text/plain": [
       "<IPython.core.display.Markdown object>"
      ],
      "text/markdown": "Rozwiązać równanie w zbiorze liczb zespolonych. Sprawdzić jedno z rozwiązań."
     },
     "metadata": {},
     "output_type": "display_data"
    },
    {
     "data": {
      "text/plain": [
       "<IPython.core.display.Latex object>"
      ],
      "text/latex": "$$\t\t\\left(1 - i\\right)z^2 + \\left(-5 - 11 i\\right) z + \\left(-26\\right)=0$$"
     },
     "metadata": {},
     "output_type": "display_data"
    },
    {
     "name": "stdout",
     "output_type": "stream",
     "text": [
      "\u001B[34m*\u001B[0m\u001B[34m*\u001B[0m\u001B[34m*\u001B[0m\u001B[34m*\u001B[0m\u001B[34m*\u001B[0m\u001B[34m*\u001B[0m\u001B[34m*\u001B[0m\u001B[34m*\u001B[0m\u001B[34m*\u001B[0m\u001B[34m*\u001B[0m\u001B[34m*\u001B[0m\u001B[34m*\u001B[0m\u001B[34m*\u001B[0m\u001B[34m*\u001B[0m\u001B[34m*\u001B[0m\u001B[34m*\u001B[0m\u001B[34m*\u001B[0m\u001B[34m*\u001B[0m\u001B[34m*\u001B[0m\u001B[34m*\u001B[0m\u001B[34m*\u001B[0m\u001B[34m*\u001B[0m\u001B[34m*\u001B[0m\u001B[34m*\u001B[0m\u001B[34m*\u001B[0m\u001B[34m*\u001B[0m\u001B[34m*\u001B[0m\u001B[34m*\u001B[0m\u001B[34m*\u001B[0m\u001B[34m*\u001B[0m\u001B[34m*\u001B[0m\u001B[34m*\u001B[0m\u001B[34m*\u001B[0m\u001B[34m*\u001B[0m\u001B[34m*\u001B[0m\u001B[34m*\u001B[0m\u001B[34m*\u001B[0m\u001B[34m*\u001B[0m\u001B[34m*\u001B[0m\u001B[34m*\u001B[0m\u001B[34m*\u001B[0m\u001B[34m*\u001B[0m\u001B[34m*\u001B[0m\u001B[34m*\u001B[0m\u001B[34m*\u001B[0m\u001B[34m*\u001B[0m\u001B[34m*\u001B[0m\u001B[34m*\u001B[0m\u001B[34m*\u001B[0m\u001B[34m*\u001B[0m\u001B[34m*\u001B[0m\u001B[34m*\u001B[0m\u001B[34m*\u001B[0m\u001B[34m*\u001B[0m\u001B[34m*\u001B[0m\u001B[34m*\u001B[0m\u001B[34m*\u001B[0m\u001B[34m*\u001B[0m\u001B[34m*\u001B[0m\u001B[34m*\u001B[0m\u001B[34m*\u001B[0m\u001B[34m*\u001B[0m\u001B[34m*\u001B[0m\u001B[34m*\u001B[0m\u001B[34m*\u001B[0m\u001B[34m*\u001B[0m\u001B[34m*\u001B[0m\u001B[34m*\u001B[0m\u001B[34m*\u001B[0m\u001B[34m*\u001B[0m\u001B[34m*\u001B[0m\u001B[34m*\u001B[0m\u001B[34m*\u001B[0m\u001B[34m*\u001B[0m\u001B[34m*\u001B[0m\u001B[34m*\u001B[0m\u001B[34m*\u001B[0m\u001B[34m*\u001B[0m\u001B[34m*\u001B[0m\u001B[34m*\u001B[0m\u001B[34m*\u001B[0m\u001B[34m*\u001B[0m\u001B[34m*\u001B[0m\u001B[34m*\u001B[0m\u001B[34m*\u001B[0m\u001B[34m*\u001B[0m\u001B[34m*\u001B[0m\u001B[34m*\u001B[0m\u001B[34m*\u001B[0m\u001B[34m*\u001B[0m\u001B[34m*\u001B[0m\u001B[34m*\u001B[0m\u001B[34m*\u001B[0m\u001B[34m*\u001B[0m\u001B[34m*\u001B[0m\n",
      "\u001B[32m** Rozwiązanie ********************************************************************************\u001B[0m\n"
     ]
    },
    {
     "data": {
      "text/plain": [
       "<IPython.core.display.Latex object>"
      ],
      "text/latex": "$$\\Delta = 8+6i, \\quad \\sqrt{\\Delta}=\\pm( 3 + i), \\quad z_{1}=-2 + 3 i, \\quad z_{2}=-1 + 5 i$$"
     },
     "metadata": {},
     "output_type": "display_data"
    },
    {
     "name": "stdout",
     "output_type": "stream",
     "text": [
      "\u001B[32m*\u001B[0m\u001B[32m*\u001B[0m\u001B[32m*\u001B[0m\u001B[32m*\u001B[0m\u001B[32m*\u001B[0m\u001B[32m*\u001B[0m\u001B[32m*\u001B[0m\u001B[32m*\u001B[0m\u001B[32m*\u001B[0m\u001B[32m*\u001B[0m\u001B[32m*\u001B[0m\u001B[32m*\u001B[0m\u001B[32m*\u001B[0m\u001B[32m*\u001B[0m\u001B[32m*\u001B[0m\u001B[32m*\u001B[0m\u001B[32m*\u001B[0m\u001B[32m*\u001B[0m\u001B[32m*\u001B[0m\u001B[32m*\u001B[0m\u001B[32m*\u001B[0m\u001B[32m*\u001B[0m\u001B[32m*\u001B[0m\u001B[32m*\u001B[0m\u001B[32m*\u001B[0m\u001B[32m*\u001B[0m\u001B[32m*\u001B[0m\u001B[32m*\u001B[0m\u001B[32m*\u001B[0m\u001B[32m*\u001B[0m\u001B[32m*\u001B[0m\u001B[32m*\u001B[0m\u001B[32m*\u001B[0m\u001B[32m*\u001B[0m\u001B[32m*\u001B[0m\u001B[32m*\u001B[0m\u001B[32m*\u001B[0m\u001B[32m*\u001B[0m\u001B[32m*\u001B[0m\u001B[32m*\u001B[0m\u001B[32m*\u001B[0m\u001B[32m*\u001B[0m\u001B[32m*\u001B[0m\u001B[32m*\u001B[0m\u001B[32m*\u001B[0m\u001B[32m*\u001B[0m\u001B[32m*\u001B[0m\u001B[32m*\u001B[0m\u001B[32m*\u001B[0m\u001B[32m*\u001B[0m\u001B[32m*\u001B[0m\u001B[32m*\u001B[0m\u001B[32m*\u001B[0m\u001B[32m*\u001B[0m\u001B[32m*\u001B[0m\u001B[32m*\u001B[0m\u001B[32m*\u001B[0m\u001B[32m*\u001B[0m\u001B[32m*\u001B[0m\u001B[32m*\u001B[0m\u001B[32m*\u001B[0m\u001B[32m*\u001B[0m\u001B[32m*\u001B[0m\u001B[32m*\u001B[0m\u001B[32m*\u001B[0m\u001B[32m*\u001B[0m\u001B[32m*\u001B[0m\u001B[32m*\u001B[0m\u001B[32m*\u001B[0m\u001B[32m*\u001B[0m\u001B[32m*\u001B[0m\u001B[32m*\u001B[0m\u001B[32m*\u001B[0m\u001B[32m*\u001B[0m\u001B[32m*\u001B[0m\u001B[32m*\u001B[0m\u001B[32m*\u001B[0m\u001B[32m*\u001B[0m\u001B[32m*\u001B[0m\u001B[32m*\u001B[0m\u001B[32m*\u001B[0m\u001B[32m*\u001B[0m\u001B[32m*\u001B[0m\u001B[32m*\u001B[0m\u001B[32m*\u001B[0m\u001B[32m*\u001B[0m\u001B[32m*\u001B[0m\u001B[32m*\u001B[0m\u001B[32m*\u001B[0m\u001B[32m*\u001B[0m\u001B[32m*\u001B[0m\u001B[32m*\u001B[0m\u001B[32m*\u001B[0m\u001B[32m*\u001B[0m\u001B[32m*\u001B[0m\n",
      "\u001B[34m** Zadanie 2 **********************************************************************************\u001B[0m\n"
     ]
    },
    {
     "data": {
      "text/plain": [
       "<IPython.core.display.Markdown object>"
      ],
      "text/markdown": "Rozwiązać równanie w zbiorze liczb zespolonych. Sprawdzić jedno z rozwiązań."
     },
     "metadata": {},
     "output_type": "display_data"
    },
    {
     "data": {
      "text/plain": [
       "<IPython.core.display.Latex object>"
      ],
      "text/latex": "$$\t\t\\left(1 + 2 i\\right)z^2 + \\left(-3 + 9 i\\right) z + \\left(-8 + 4 i\\right)=0$$"
     },
     "metadata": {},
     "output_type": "display_data"
    },
    {
     "name": "stdout",
     "output_type": "stream",
     "text": [
      "\u001B[34m*\u001B[0m\u001B[34m*\u001B[0m\u001B[34m*\u001B[0m\u001B[34m*\u001B[0m\u001B[34m*\u001B[0m\u001B[34m*\u001B[0m\u001B[34m*\u001B[0m\u001B[34m*\u001B[0m\u001B[34m*\u001B[0m\u001B[34m*\u001B[0m\u001B[34m*\u001B[0m\u001B[34m*\u001B[0m\u001B[34m*\u001B[0m\u001B[34m*\u001B[0m\u001B[34m*\u001B[0m\u001B[34m*\u001B[0m\u001B[34m*\u001B[0m\u001B[34m*\u001B[0m\u001B[34m*\u001B[0m\u001B[34m*\u001B[0m\u001B[34m*\u001B[0m\u001B[34m*\u001B[0m\u001B[34m*\u001B[0m\u001B[34m*\u001B[0m\u001B[34m*\u001B[0m\u001B[34m*\u001B[0m\u001B[34m*\u001B[0m\u001B[34m*\u001B[0m\u001B[34m*\u001B[0m\u001B[34m*\u001B[0m\u001B[34m*\u001B[0m\u001B[34m*\u001B[0m\u001B[34m*\u001B[0m\u001B[34m*\u001B[0m\u001B[34m*\u001B[0m\u001B[34m*\u001B[0m\u001B[34m*\u001B[0m\u001B[34m*\u001B[0m\u001B[34m*\u001B[0m\u001B[34m*\u001B[0m\u001B[34m*\u001B[0m\u001B[34m*\u001B[0m\u001B[34m*\u001B[0m\u001B[34m*\u001B[0m\u001B[34m*\u001B[0m\u001B[34m*\u001B[0m\u001B[34m*\u001B[0m\u001B[34m*\u001B[0m\u001B[34m*\u001B[0m\u001B[34m*\u001B[0m\u001B[34m*\u001B[0m\u001B[34m*\u001B[0m\u001B[34m*\u001B[0m\u001B[34m*\u001B[0m\u001B[34m*\u001B[0m\u001B[34m*\u001B[0m\u001B[34m*\u001B[0m\u001B[34m*\u001B[0m\u001B[34m*\u001B[0m\u001B[34m*\u001B[0m\u001B[34m*\u001B[0m\u001B[34m*\u001B[0m\u001B[34m*\u001B[0m\u001B[34m*\u001B[0m\u001B[34m*\u001B[0m\u001B[34m*\u001B[0m\u001B[34m*\u001B[0m\u001B[34m*\u001B[0m\u001B[34m*\u001B[0m\u001B[34m*\u001B[0m\u001B[34m*\u001B[0m\u001B[34m*\u001B[0m\u001B[34m*\u001B[0m\u001B[34m*\u001B[0m\u001B[34m*\u001B[0m\u001B[34m*\u001B[0m\u001B[34m*\u001B[0m\u001B[34m*\u001B[0m\u001B[34m*\u001B[0m\u001B[34m*\u001B[0m\u001B[34m*\u001B[0m\u001B[34m*\u001B[0m\u001B[34m*\u001B[0m\u001B[34m*\u001B[0m\u001B[34m*\u001B[0m\u001B[34m*\u001B[0m\u001B[34m*\u001B[0m\u001B[34m*\u001B[0m\u001B[34m*\u001B[0m\u001B[34m*\u001B[0m\u001B[34m*\u001B[0m\u001B[34m*\u001B[0m\u001B[34m*\u001B[0m\u001B[34m*\u001B[0m\u001B[34m*\u001B[0m\n",
      "\u001B[32m** Rozwiązanie ********************************************************************************\u001B[0m\n"
     ]
    },
    {
     "data": {
      "text/plain": [
       "<IPython.core.display.Latex object>"
      ],
      "text/latex": "$$\\Delta = -8-6i, \\quad \\sqrt{\\Delta}=\\pm( 1 - 3 i), \\quad z_{1}=-2 - 2 i, \\quad z_{2}=-1 - i$$"
     },
     "metadata": {},
     "output_type": "display_data"
    },
    {
     "name": "stdout",
     "output_type": "stream",
     "text": [
      "\u001B[32m*\u001B[0m\u001B[32m*\u001B[0m\u001B[32m*\u001B[0m\u001B[32m*\u001B[0m\u001B[32m*\u001B[0m\u001B[32m*\u001B[0m\u001B[32m*\u001B[0m\u001B[32m*\u001B[0m\u001B[32m*\u001B[0m\u001B[32m*\u001B[0m\u001B[32m*\u001B[0m\u001B[32m*\u001B[0m\u001B[32m*\u001B[0m\u001B[32m*\u001B[0m\u001B[32m*\u001B[0m\u001B[32m*\u001B[0m\u001B[32m*\u001B[0m\u001B[32m*\u001B[0m\u001B[32m*\u001B[0m\u001B[32m*\u001B[0m\u001B[32m*\u001B[0m\u001B[32m*\u001B[0m\u001B[32m*\u001B[0m\u001B[32m*\u001B[0m\u001B[32m*\u001B[0m\u001B[32m*\u001B[0m\u001B[32m*\u001B[0m\u001B[32m*\u001B[0m\u001B[32m*\u001B[0m\u001B[32m*\u001B[0m\u001B[32m*\u001B[0m\u001B[32m*\u001B[0m\u001B[32m*\u001B[0m\u001B[32m*\u001B[0m\u001B[32m*\u001B[0m\u001B[32m*\u001B[0m\u001B[32m*\u001B[0m\u001B[32m*\u001B[0m\u001B[32m*\u001B[0m\u001B[32m*\u001B[0m\u001B[32m*\u001B[0m\u001B[32m*\u001B[0m\u001B[32m*\u001B[0m\u001B[32m*\u001B[0m\u001B[32m*\u001B[0m\u001B[32m*\u001B[0m\u001B[32m*\u001B[0m\u001B[32m*\u001B[0m\u001B[32m*\u001B[0m\u001B[32m*\u001B[0m\u001B[32m*\u001B[0m\u001B[32m*\u001B[0m\u001B[32m*\u001B[0m\u001B[32m*\u001B[0m\u001B[32m*\u001B[0m\u001B[32m*\u001B[0m\u001B[32m*\u001B[0m\u001B[32m*\u001B[0m\u001B[32m*\u001B[0m\u001B[32m*\u001B[0m\u001B[32m*\u001B[0m\u001B[32m*\u001B[0m\u001B[32m*\u001B[0m\u001B[32m*\u001B[0m\u001B[32m*\u001B[0m\u001B[32m*\u001B[0m\u001B[32m*\u001B[0m\u001B[32m*\u001B[0m\u001B[32m*\u001B[0m\u001B[32m*\u001B[0m\u001B[32m*\u001B[0m\u001B[32m*\u001B[0m\u001B[32m*\u001B[0m\u001B[32m*\u001B[0m\u001B[32m*\u001B[0m\u001B[32m*\u001B[0m\u001B[32m*\u001B[0m\u001B[32m*\u001B[0m\u001B[32m*\u001B[0m\u001B[32m*\u001B[0m\u001B[32m*\u001B[0m\u001B[32m*\u001B[0m\u001B[32m*\u001B[0m\u001B[32m*\u001B[0m\u001B[32m*\u001B[0m\u001B[32m*\u001B[0m\u001B[32m*\u001B[0m\u001B[32m*\u001B[0m\u001B[32m*\u001B[0m\u001B[32m*\u001B[0m\u001B[32m*\u001B[0m\u001B[32m*\u001B[0m\u001B[32m*\u001B[0m\u001B[32m*\u001B[0m\u001B[32m*\u001B[0m\n",
      "\u001B[34m** Zadanie 3 **********************************************************************************\u001B[0m\n"
     ]
    },
    {
     "data": {
      "text/plain": [
       "<IPython.core.display.Markdown object>"
      ],
      "text/markdown": "Rozwiązać równanie w zbiorze liczb zespolonych. Sprawdzić jedno z rozwiązań."
     },
     "metadata": {},
     "output_type": "display_data"
    },
    {
     "data": {
      "text/plain": [
       "<IPython.core.display.Latex object>"
      ],
      "text/latex": "$$\t\t\\left(1 - i\\right)z^2 + \\left(-1 + 11 i\\right) z + \\left(-14 - 18 i\\right)=0$$"
     },
     "metadata": {},
     "output_type": "display_data"
    },
    {
     "name": "stdout",
     "output_type": "stream",
     "text": [
      "\u001B[34m*\u001B[0m\u001B[34m*\u001B[0m\u001B[34m*\u001B[0m\u001B[34m*\u001B[0m\u001B[34m*\u001B[0m\u001B[34m*\u001B[0m\u001B[34m*\u001B[0m\u001B[34m*\u001B[0m\u001B[34m*\u001B[0m\u001B[34m*\u001B[0m\u001B[34m*\u001B[0m\u001B[34m*\u001B[0m\u001B[34m*\u001B[0m\u001B[34m*\u001B[0m\u001B[34m*\u001B[0m\u001B[34m*\u001B[0m\u001B[34m*\u001B[0m\u001B[34m*\u001B[0m\u001B[34m*\u001B[0m\u001B[34m*\u001B[0m\u001B[34m*\u001B[0m\u001B[34m*\u001B[0m\u001B[34m*\u001B[0m\u001B[34m*\u001B[0m\u001B[34m*\u001B[0m\u001B[34m*\u001B[0m\u001B[34m*\u001B[0m\u001B[34m*\u001B[0m\u001B[34m*\u001B[0m\u001B[34m*\u001B[0m\u001B[34m*\u001B[0m\u001B[34m*\u001B[0m\u001B[34m*\u001B[0m\u001B[34m*\u001B[0m\u001B[34m*\u001B[0m\u001B[34m*\u001B[0m\u001B[34m*\u001B[0m\u001B[34m*\u001B[0m\u001B[34m*\u001B[0m\u001B[34m*\u001B[0m\u001B[34m*\u001B[0m\u001B[34m*\u001B[0m\u001B[34m*\u001B[0m\u001B[34m*\u001B[0m\u001B[34m*\u001B[0m\u001B[34m*\u001B[0m\u001B[34m*\u001B[0m\u001B[34m*\u001B[0m\u001B[34m*\u001B[0m\u001B[34m*\u001B[0m\u001B[34m*\u001B[0m\u001B[34m*\u001B[0m\u001B[34m*\u001B[0m\u001B[34m*\u001B[0m\u001B[34m*\u001B[0m\u001B[34m*\u001B[0m\u001B[34m*\u001B[0m\u001B[34m*\u001B[0m\u001B[34m*\u001B[0m\u001B[34m*\u001B[0m\u001B[34m*\u001B[0m\u001B[34m*\u001B[0m\u001B[34m*\u001B[0m\u001B[34m*\u001B[0m\u001B[34m*\u001B[0m\u001B[34m*\u001B[0m\u001B[34m*\u001B[0m\u001B[34m*\u001B[0m\u001B[34m*\u001B[0m\u001B[34m*\u001B[0m\u001B[34m*\u001B[0m\u001B[34m*\u001B[0m\u001B[34m*\u001B[0m\u001B[34m*\u001B[0m\u001B[34m*\u001B[0m\u001B[34m*\u001B[0m\u001B[34m*\u001B[0m\u001B[34m*\u001B[0m\u001B[34m*\u001B[0m\u001B[34m*\u001B[0m\u001B[34m*\u001B[0m\u001B[34m*\u001B[0m\u001B[34m*\u001B[0m\u001B[34m*\u001B[0m\u001B[34m*\u001B[0m\u001B[34m*\u001B[0m\u001B[34m*\u001B[0m\u001B[34m*\u001B[0m\u001B[34m*\u001B[0m\u001B[34m*\u001B[0m\u001B[34m*\u001B[0m\u001B[34m*\u001B[0m\u001B[34m*\u001B[0m\u001B[34m*\u001B[0m\u001B[34m*\u001B[0m\n",
      "\u001B[32m** Rozwiązanie ********************************************************************************\u001B[0m\n"
     ]
    },
    {
     "data": {
      "text/plain": [
       "<IPython.core.display.Latex object>"
      ],
      "text/latex": "$$\\Delta = 8-6i, \\quad \\sqrt{\\Delta}=\\pm( 3 - i), \\quad z_{1}=2 - 3 i, \\quad z_{2}=4 - 2 i$$"
     },
     "metadata": {},
     "output_type": "display_data"
    },
    {
     "name": "stdout",
     "output_type": "stream",
     "text": [
      "\u001B[32m*\u001B[0m\u001B[32m*\u001B[0m\u001B[32m*\u001B[0m\u001B[32m*\u001B[0m\u001B[32m*\u001B[0m\u001B[32m*\u001B[0m\u001B[32m*\u001B[0m\u001B[32m*\u001B[0m\u001B[32m*\u001B[0m\u001B[32m*\u001B[0m\u001B[32m*\u001B[0m\u001B[32m*\u001B[0m\u001B[32m*\u001B[0m\u001B[32m*\u001B[0m\u001B[32m*\u001B[0m\u001B[32m*\u001B[0m\u001B[32m*\u001B[0m\u001B[32m*\u001B[0m\u001B[32m*\u001B[0m\u001B[32m*\u001B[0m\u001B[32m*\u001B[0m\u001B[32m*\u001B[0m\u001B[32m*\u001B[0m\u001B[32m*\u001B[0m\u001B[32m*\u001B[0m\u001B[32m*\u001B[0m\u001B[32m*\u001B[0m\u001B[32m*\u001B[0m\u001B[32m*\u001B[0m\u001B[32m*\u001B[0m\u001B[32m*\u001B[0m\u001B[32m*\u001B[0m\u001B[32m*\u001B[0m\u001B[32m*\u001B[0m\u001B[32m*\u001B[0m\u001B[32m*\u001B[0m\u001B[32m*\u001B[0m\u001B[32m*\u001B[0m\u001B[32m*\u001B[0m\u001B[32m*\u001B[0m\u001B[32m*\u001B[0m\u001B[32m*\u001B[0m\u001B[32m*\u001B[0m\u001B[32m*\u001B[0m\u001B[32m*\u001B[0m\u001B[32m*\u001B[0m\u001B[32m*\u001B[0m\u001B[32m*\u001B[0m\u001B[32m*\u001B[0m\u001B[32m*\u001B[0m\u001B[32m*\u001B[0m\u001B[32m*\u001B[0m\u001B[32m*\u001B[0m\u001B[32m*\u001B[0m\u001B[32m*\u001B[0m\u001B[32m*\u001B[0m\u001B[32m*\u001B[0m\u001B[32m*\u001B[0m\u001B[32m*\u001B[0m\u001B[32m*\u001B[0m\u001B[32m*\u001B[0m\u001B[32m*\u001B[0m\u001B[32m*\u001B[0m\u001B[32m*\u001B[0m\u001B[32m*\u001B[0m\u001B[32m*\u001B[0m\u001B[32m*\u001B[0m\u001B[32m*\u001B[0m\u001B[32m*\u001B[0m\u001B[32m*\u001B[0m\u001B[32m*\u001B[0m\u001B[32m*\u001B[0m\u001B[32m*\u001B[0m\u001B[32m*\u001B[0m\u001B[32m*\u001B[0m\u001B[32m*\u001B[0m\u001B[32m*\u001B[0m\u001B[32m*\u001B[0m\u001B[32m*\u001B[0m\u001B[32m*\u001B[0m\u001B[32m*\u001B[0m\u001B[32m*\u001B[0m\u001B[32m*\u001B[0m\u001B[32m*\u001B[0m\u001B[32m*\u001B[0m\u001B[32m*\u001B[0m\u001B[32m*\u001B[0m\u001B[32m*\u001B[0m\u001B[32m*\u001B[0m\u001B[32m*\u001B[0m\u001B[32m*\u001B[0m\u001B[32m*\u001B[0m\u001B[32m*\u001B[0m\u001B[32m*\u001B[0m\u001B[32m*\u001B[0m\n",
      "\u001B[34m** Zadanie 4 **********************************************************************************\u001B[0m\n"
     ]
    },
    {
     "data": {
      "text/plain": [
       "<IPython.core.display.Markdown object>"
      ],
      "text/markdown": "Rozwiązać równanie w zbiorze liczb zespolonych. Sprawdzić jedno z rozwiązań."
     },
     "metadata": {},
     "output_type": "display_data"
    },
    {
     "data": {
      "text/plain": [
       "<IPython.core.display.Latex object>"
      ],
      "text/latex": "$$\t\t\\left(1 - i\\right)z^2 + \\left(1 + 11 i\\right) z + \\left(-18 - 14 i\\right)=0$$"
     },
     "metadata": {},
     "output_type": "display_data"
    },
    {
     "name": "stdout",
     "output_type": "stream",
     "text": [
      "\u001B[34m*\u001B[0m\u001B[34m*\u001B[0m\u001B[34m*\u001B[0m\u001B[34m*\u001B[0m\u001B[34m*\u001B[0m\u001B[34m*\u001B[0m\u001B[34m*\u001B[0m\u001B[34m*\u001B[0m\u001B[34m*\u001B[0m\u001B[34m*\u001B[0m\u001B[34m*\u001B[0m\u001B[34m*\u001B[0m\u001B[34m*\u001B[0m\u001B[34m*\u001B[0m\u001B[34m*\u001B[0m\u001B[34m*\u001B[0m\u001B[34m*\u001B[0m\u001B[34m*\u001B[0m\u001B[34m*\u001B[0m\u001B[34m*\u001B[0m\u001B[34m*\u001B[0m\u001B[34m*\u001B[0m\u001B[34m*\u001B[0m\u001B[34m*\u001B[0m\u001B[34m*\u001B[0m\u001B[34m*\u001B[0m\u001B[34m*\u001B[0m\u001B[34m*\u001B[0m\u001B[34m*\u001B[0m\u001B[34m*\u001B[0m\u001B[34m*\u001B[0m\u001B[34m*\u001B[0m\u001B[34m*\u001B[0m\u001B[34m*\u001B[0m\u001B[34m*\u001B[0m\u001B[34m*\u001B[0m\u001B[34m*\u001B[0m\u001B[34m*\u001B[0m\u001B[34m*\u001B[0m\u001B[34m*\u001B[0m\u001B[34m*\u001B[0m\u001B[34m*\u001B[0m\u001B[34m*\u001B[0m\u001B[34m*\u001B[0m\u001B[34m*\u001B[0m\u001B[34m*\u001B[0m\u001B[34m*\u001B[0m\u001B[34m*\u001B[0m\u001B[34m*\u001B[0m\u001B[34m*\u001B[0m\u001B[34m*\u001B[0m\u001B[34m*\u001B[0m\u001B[34m*\u001B[0m\u001B[34m*\u001B[0m\u001B[34m*\u001B[0m\u001B[34m*\u001B[0m\u001B[34m*\u001B[0m\u001B[34m*\u001B[0m\u001B[34m*\u001B[0m\u001B[34m*\u001B[0m\u001B[34m*\u001B[0m\u001B[34m*\u001B[0m\u001B[34m*\u001B[0m\u001B[34m*\u001B[0m\u001B[34m*\u001B[0m\u001B[34m*\u001B[0m\u001B[34m*\u001B[0m\u001B[34m*\u001B[0m\u001B[34m*\u001B[0m\u001B[34m*\u001B[0m\u001B[34m*\u001B[0m\u001B[34m*\u001B[0m\u001B[34m*\u001B[0m\u001B[34m*\u001B[0m\u001B[34m*\u001B[0m\u001B[34m*\u001B[0m\u001B[34m*\u001B[0m\u001B[34m*\u001B[0m\u001B[34m*\u001B[0m\u001B[34m*\u001B[0m\u001B[34m*\u001B[0m\u001B[34m*\u001B[0m\u001B[34m*\u001B[0m\u001B[34m*\u001B[0m\u001B[34m*\u001B[0m\u001B[34m*\u001B[0m\u001B[34m*\u001B[0m\u001B[34m*\u001B[0m\u001B[34m*\u001B[0m\u001B[34m*\u001B[0m\u001B[34m*\u001B[0m\u001B[34m*\u001B[0m\u001B[34m*\u001B[0m\u001B[34m*\u001B[0m\u001B[34m*\u001B[0m\n",
      "\u001B[32m** Rozwiązanie ********************************************************************************\u001B[0m\n"
     ]
    },
    {
     "data": {
      "text/plain": [
       "<IPython.core.display.Latex object>"
      ],
      "text/latex": "$$\\Delta = 8+6i, \\quad \\sqrt{\\Delta}=\\pm( 3 + i), \\quad z_{1}=2 - 4 i, \\quad z_{2}=3 - 2 i$$"
     },
     "metadata": {},
     "output_type": "display_data"
    },
    {
     "name": "stdout",
     "output_type": "stream",
     "text": [
      "\u001B[32m*\u001B[0m\u001B[32m*\u001B[0m\u001B[32m*\u001B[0m\u001B[32m*\u001B[0m\u001B[32m*\u001B[0m\u001B[32m*\u001B[0m\u001B[32m*\u001B[0m\u001B[32m*\u001B[0m\u001B[32m*\u001B[0m\u001B[32m*\u001B[0m\u001B[32m*\u001B[0m\u001B[32m*\u001B[0m\u001B[32m*\u001B[0m\u001B[32m*\u001B[0m\u001B[32m*\u001B[0m\u001B[32m*\u001B[0m\u001B[32m*\u001B[0m\u001B[32m*\u001B[0m\u001B[32m*\u001B[0m\u001B[32m*\u001B[0m\u001B[32m*\u001B[0m\u001B[32m*\u001B[0m\u001B[32m*\u001B[0m\u001B[32m*\u001B[0m\u001B[32m*\u001B[0m\u001B[32m*\u001B[0m\u001B[32m*\u001B[0m\u001B[32m*\u001B[0m\u001B[32m*\u001B[0m\u001B[32m*\u001B[0m\u001B[32m*\u001B[0m\u001B[32m*\u001B[0m\u001B[32m*\u001B[0m\u001B[32m*\u001B[0m\u001B[32m*\u001B[0m\u001B[32m*\u001B[0m\u001B[32m*\u001B[0m\u001B[32m*\u001B[0m\u001B[32m*\u001B[0m\u001B[32m*\u001B[0m\u001B[32m*\u001B[0m\u001B[32m*\u001B[0m\u001B[32m*\u001B[0m\u001B[32m*\u001B[0m\u001B[32m*\u001B[0m\u001B[32m*\u001B[0m\u001B[32m*\u001B[0m\u001B[32m*\u001B[0m\u001B[32m*\u001B[0m\u001B[32m*\u001B[0m\u001B[32m*\u001B[0m\u001B[32m*\u001B[0m\u001B[32m*\u001B[0m\u001B[32m*\u001B[0m\u001B[32m*\u001B[0m\u001B[32m*\u001B[0m\u001B[32m*\u001B[0m\u001B[32m*\u001B[0m\u001B[32m*\u001B[0m\u001B[32m*\u001B[0m\u001B[32m*\u001B[0m\u001B[32m*\u001B[0m\u001B[32m*\u001B[0m\u001B[32m*\u001B[0m\u001B[32m*\u001B[0m\u001B[32m*\u001B[0m\u001B[32m*\u001B[0m\u001B[32m*\u001B[0m\u001B[32m*\u001B[0m\u001B[32m*\u001B[0m\u001B[32m*\u001B[0m\u001B[32m*\u001B[0m\u001B[32m*\u001B[0m\u001B[32m*\u001B[0m\u001B[32m*\u001B[0m\u001B[32m*\u001B[0m\u001B[32m*\u001B[0m\u001B[32m*\u001B[0m\u001B[32m*\u001B[0m\u001B[32m*\u001B[0m\u001B[32m*\u001B[0m\u001B[32m*\u001B[0m\u001B[32m*\u001B[0m\u001B[32m*\u001B[0m\u001B[32m*\u001B[0m\u001B[32m*\u001B[0m\u001B[32m*\u001B[0m\u001B[32m*\u001B[0m\u001B[32m*\u001B[0m\u001B[32m*\u001B[0m\u001B[32m*\u001B[0m\u001B[32m*\u001B[0m\u001B[32m*\u001B[0m\u001B[32m*\u001B[0m\u001B[32m*\u001B[0m\n",
      "\u001B[34m** Zadanie 5 **********************************************************************************\u001B[0m\n"
     ]
    },
    {
     "data": {
      "text/plain": [
       "<IPython.core.display.Markdown object>"
      ],
      "text/markdown": "Rozwiązać równanie w zbiorze liczb zespolonych. Sprawdzić jedno z rozwiązań."
     },
     "metadata": {},
     "output_type": "display_data"
    },
    {
     "data": {
      "text/plain": [
       "<IPython.core.display.Latex object>"
      ],
      "text/latex": "$$\t\t\\left(1 - i\\right)z^2 + \\left(-3 - 13 i\\right) z + \\left(-30 - 12 i\\right)=0$$"
     },
     "metadata": {},
     "output_type": "display_data"
    },
    {
     "name": "stdout",
     "output_type": "stream",
     "text": [
      "\u001B[34m*\u001B[0m\u001B[34m*\u001B[0m\u001B[34m*\u001B[0m\u001B[34m*\u001B[0m\u001B[34m*\u001B[0m\u001B[34m*\u001B[0m\u001B[34m*\u001B[0m\u001B[34m*\u001B[0m\u001B[34m*\u001B[0m\u001B[34m*\u001B[0m\u001B[34m*\u001B[0m\u001B[34m*\u001B[0m\u001B[34m*\u001B[0m\u001B[34m*\u001B[0m\u001B[34m*\u001B[0m\u001B[34m*\u001B[0m\u001B[34m*\u001B[0m\u001B[34m*\u001B[0m\u001B[34m*\u001B[0m\u001B[34m*\u001B[0m\u001B[34m*\u001B[0m\u001B[34m*\u001B[0m\u001B[34m*\u001B[0m\u001B[34m*\u001B[0m\u001B[34m*\u001B[0m\u001B[34m*\u001B[0m\u001B[34m*\u001B[0m\u001B[34m*\u001B[0m\u001B[34m*\u001B[0m\u001B[34m*\u001B[0m\u001B[34m*\u001B[0m\u001B[34m*\u001B[0m\u001B[34m*\u001B[0m\u001B[34m*\u001B[0m\u001B[34m*\u001B[0m\u001B[34m*\u001B[0m\u001B[34m*\u001B[0m\u001B[34m*\u001B[0m\u001B[34m*\u001B[0m\u001B[34m*\u001B[0m\u001B[34m*\u001B[0m\u001B[34m*\u001B[0m\u001B[34m*\u001B[0m\u001B[34m*\u001B[0m\u001B[34m*\u001B[0m\u001B[34m*\u001B[0m\u001B[34m*\u001B[0m\u001B[34m*\u001B[0m\u001B[34m*\u001B[0m\u001B[34m*\u001B[0m\u001B[34m*\u001B[0m\u001B[34m*\u001B[0m\u001B[34m*\u001B[0m\u001B[34m*\u001B[0m\u001B[34m*\u001B[0m\u001B[34m*\u001B[0m\u001B[34m*\u001B[0m\u001B[34m*\u001B[0m\u001B[34m*\u001B[0m\u001B[34m*\u001B[0m\u001B[34m*\u001B[0m\u001B[34m*\u001B[0m\u001B[34m*\u001B[0m\u001B[34m*\u001B[0m\u001B[34m*\u001B[0m\u001B[34m*\u001B[0m\u001B[34m*\u001B[0m\u001B[34m*\u001B[0m\u001B[34m*\u001B[0m\u001B[34m*\u001B[0m\u001B[34m*\u001B[0m\u001B[34m*\u001B[0m\u001B[34m*\u001B[0m\u001B[34m*\u001B[0m\u001B[34m*\u001B[0m\u001B[34m*\u001B[0m\u001B[34m*\u001B[0m\u001B[34m*\u001B[0m\u001B[34m*\u001B[0m\u001B[34m*\u001B[0m\u001B[34m*\u001B[0m\u001B[34m*\u001B[0m\u001B[34m*\u001B[0m\u001B[34m*\u001B[0m\u001B[34m*\u001B[0m\u001B[34m*\u001B[0m\u001B[34m*\u001B[0m\u001B[34m*\u001B[0m\u001B[34m*\u001B[0m\u001B[34m*\u001B[0m\u001B[34m*\u001B[0m\u001B[34m*\u001B[0m\u001B[34m*\u001B[0m\u001B[34m*\u001B[0m\u001B[34m*\u001B[0m\n",
      "\u001B[32m** Rozwiązanie ********************************************************************************\u001B[0m\n"
     ]
    },
    {
     "data": {
      "text/plain": [
       "<IPython.core.display.Latex object>"
      ],
      "text/latex": "$$\\Delta = 8+6i, \\quad \\sqrt{\\Delta}=\\pm( 3 + i), \\quad z_{1}=-3 + 3 i, \\quad z_{2}=-2 + 5 i$$"
     },
     "metadata": {},
     "output_type": "display_data"
    },
    {
     "name": "stdout",
     "output_type": "stream",
     "text": [
      "\u001B[32m*\u001B[0m\u001B[32m*\u001B[0m\u001B[32m*\u001B[0m\u001B[32m*\u001B[0m\u001B[32m*\u001B[0m\u001B[32m*\u001B[0m\u001B[32m*\u001B[0m\u001B[32m*\u001B[0m\u001B[32m*\u001B[0m\u001B[32m*\u001B[0m\u001B[32m*\u001B[0m\u001B[32m*\u001B[0m\u001B[32m*\u001B[0m\u001B[32m*\u001B[0m\u001B[32m*\u001B[0m\u001B[32m*\u001B[0m\u001B[32m*\u001B[0m\u001B[32m*\u001B[0m\u001B[32m*\u001B[0m\u001B[32m*\u001B[0m\u001B[32m*\u001B[0m\u001B[32m*\u001B[0m\u001B[32m*\u001B[0m\u001B[32m*\u001B[0m\u001B[32m*\u001B[0m\u001B[32m*\u001B[0m\u001B[32m*\u001B[0m\u001B[32m*\u001B[0m\u001B[32m*\u001B[0m\u001B[32m*\u001B[0m\u001B[32m*\u001B[0m\u001B[32m*\u001B[0m\u001B[32m*\u001B[0m\u001B[32m*\u001B[0m\u001B[32m*\u001B[0m\u001B[32m*\u001B[0m\u001B[32m*\u001B[0m\u001B[32m*\u001B[0m\u001B[32m*\u001B[0m\u001B[32m*\u001B[0m\u001B[32m*\u001B[0m\u001B[32m*\u001B[0m\u001B[32m*\u001B[0m\u001B[32m*\u001B[0m\u001B[32m*\u001B[0m\u001B[32m*\u001B[0m\u001B[32m*\u001B[0m\u001B[32m*\u001B[0m\u001B[32m*\u001B[0m\u001B[32m*\u001B[0m\u001B[32m*\u001B[0m\u001B[32m*\u001B[0m\u001B[32m*\u001B[0m\u001B[32m*\u001B[0m\u001B[32m*\u001B[0m\u001B[32m*\u001B[0m\u001B[32m*\u001B[0m\u001B[32m*\u001B[0m\u001B[32m*\u001B[0m\u001B[32m*\u001B[0m\u001B[32m*\u001B[0m\u001B[32m*\u001B[0m\u001B[32m*\u001B[0m\u001B[32m*\u001B[0m\u001B[32m*\u001B[0m\u001B[32m*\u001B[0m\u001B[32m*\u001B[0m\u001B[32m*\u001B[0m\u001B[32m*\u001B[0m\u001B[32m*\u001B[0m\u001B[32m*\u001B[0m\u001B[32m*\u001B[0m\u001B[32m*\u001B[0m\u001B[32m*\u001B[0m\u001B[32m*\u001B[0m\u001B[32m*\u001B[0m\u001B[32m*\u001B[0m\u001B[32m*\u001B[0m\u001B[32m*\u001B[0m\u001B[32m*\u001B[0m\u001B[32m*\u001B[0m\u001B[32m*\u001B[0m\u001B[32m*\u001B[0m\u001B[32m*\u001B[0m\u001B[32m*\u001B[0m\u001B[32m*\u001B[0m\u001B[32m*\u001B[0m\u001B[32m*\u001B[0m\u001B[32m*\u001B[0m\u001B[32m*\u001B[0m\u001B[32m*\u001B[0m\u001B[32m*\u001B[0m\u001B[32m*\u001B[0m\u001B[32m*\u001B[0m\u001B[32m*\u001B[0m\n",
      "\u001B[34m** Zadanie 6 **********************************************************************************\u001B[0m\n"
     ]
    },
    {
     "data": {
      "text/plain": [
       "<IPython.core.display.Markdown object>"
      ],
      "text/markdown": "Rozwiązać równanie w zbiorze liczb zespolonych. Sprawdzić jedno z rozwiązań."
     },
     "metadata": {},
     "output_type": "display_data"
    },
    {
     "data": {
      "text/plain": [
       "<IPython.core.display.Latex object>"
      ],
      "text/latex": "$$\t\t\\left(2 - i\\right)z^2 + \\left(-13 - 6 i\\right) z + \\left(6 + 22 i\\right)=0$$"
     },
     "metadata": {},
     "output_type": "display_data"
    },
    {
     "name": "stdout",
     "output_type": "stream",
     "text": [
      "\u001B[34m*\u001B[0m\u001B[34m*\u001B[0m\u001B[34m*\u001B[0m\u001B[34m*\u001B[0m\u001B[34m*\u001B[0m\u001B[34m*\u001B[0m\u001B[34m*\u001B[0m\u001B[34m*\u001B[0m\u001B[34m*\u001B[0m\u001B[34m*\u001B[0m\u001B[34m*\u001B[0m\u001B[34m*\u001B[0m\u001B[34m*\u001B[0m\u001B[34m*\u001B[0m\u001B[34m*\u001B[0m\u001B[34m*\u001B[0m\u001B[34m*\u001B[0m\u001B[34m*\u001B[0m\u001B[34m*\u001B[0m\u001B[34m*\u001B[0m\u001B[34m*\u001B[0m\u001B[34m*\u001B[0m\u001B[34m*\u001B[0m\u001B[34m*\u001B[0m\u001B[34m*\u001B[0m\u001B[34m*\u001B[0m\u001B[34m*\u001B[0m\u001B[34m*\u001B[0m\u001B[34m*\u001B[0m\u001B[34m*\u001B[0m\u001B[34m*\u001B[0m\u001B[34m*\u001B[0m\u001B[34m*\u001B[0m\u001B[34m*\u001B[0m\u001B[34m*\u001B[0m\u001B[34m*\u001B[0m\u001B[34m*\u001B[0m\u001B[34m*\u001B[0m\u001B[34m*\u001B[0m\u001B[34m*\u001B[0m\u001B[34m*\u001B[0m\u001B[34m*\u001B[0m\u001B[34m*\u001B[0m\u001B[34m*\u001B[0m\u001B[34m*\u001B[0m\u001B[34m*\u001B[0m\u001B[34m*\u001B[0m\u001B[34m*\u001B[0m\u001B[34m*\u001B[0m\u001B[34m*\u001B[0m\u001B[34m*\u001B[0m\u001B[34m*\u001B[0m\u001B[34m*\u001B[0m\u001B[34m*\u001B[0m\u001B[34m*\u001B[0m\u001B[34m*\u001B[0m\u001B[34m*\u001B[0m\u001B[34m*\u001B[0m\u001B[34m*\u001B[0m\u001B[34m*\u001B[0m\u001B[34m*\u001B[0m\u001B[34m*\u001B[0m\u001B[34m*\u001B[0m\u001B[34m*\u001B[0m\u001B[34m*\u001B[0m\u001B[34m*\u001B[0m\u001B[34m*\u001B[0m\u001B[34m*\u001B[0m\u001B[34m*\u001B[0m\u001B[34m*\u001B[0m\u001B[34m*\u001B[0m\u001B[34m*\u001B[0m\u001B[34m*\u001B[0m\u001B[34m*\u001B[0m\u001B[34m*\u001B[0m\u001B[34m*\u001B[0m\u001B[34m*\u001B[0m\u001B[34m*\u001B[0m\u001B[34m*\u001B[0m\u001B[34m*\u001B[0m\u001B[34m*\u001B[0m\u001B[34m*\u001B[0m\u001B[34m*\u001B[0m\u001B[34m*\u001B[0m\u001B[34m*\u001B[0m\u001B[34m*\u001B[0m\u001B[34m*\u001B[0m\u001B[34m*\u001B[0m\u001B[34m*\u001B[0m\u001B[34m*\u001B[0m\u001B[34m*\u001B[0m\u001B[34m*\u001B[0m\u001B[34m*\u001B[0m\u001B[34m*\u001B[0m\u001B[34m*\u001B[0m\n",
      "\u001B[32m** Rozwiązanie ********************************************************************************\u001B[0m\n"
     ]
    },
    {
     "data": {
      "text/plain": [
       "<IPython.core.display.Latex object>"
      ],
      "text/latex": "$$\\Delta = -3+4i, \\quad \\sqrt{\\Delta}=\\pm( 1 + 2 i), \\quad z_{1}=2 + 2 i, \\quad z_{2}=2 + 3 i$$"
     },
     "metadata": {},
     "output_type": "display_data"
    },
    {
     "name": "stdout",
     "output_type": "stream",
     "text": [
      "\u001B[32m*\u001B[0m\u001B[32m*\u001B[0m\u001B[32m*\u001B[0m\u001B[32m*\u001B[0m\u001B[32m*\u001B[0m\u001B[32m*\u001B[0m\u001B[32m*\u001B[0m\u001B[32m*\u001B[0m\u001B[32m*\u001B[0m\u001B[32m*\u001B[0m\u001B[32m*\u001B[0m\u001B[32m*\u001B[0m\u001B[32m*\u001B[0m\u001B[32m*\u001B[0m\u001B[32m*\u001B[0m\u001B[32m*\u001B[0m\u001B[32m*\u001B[0m\u001B[32m*\u001B[0m\u001B[32m*\u001B[0m\u001B[32m*\u001B[0m\u001B[32m*\u001B[0m\u001B[32m*\u001B[0m\u001B[32m*\u001B[0m\u001B[32m*\u001B[0m\u001B[32m*\u001B[0m\u001B[32m*\u001B[0m\u001B[32m*\u001B[0m\u001B[32m*\u001B[0m\u001B[32m*\u001B[0m\u001B[32m*\u001B[0m\u001B[32m*\u001B[0m\u001B[32m*\u001B[0m\u001B[32m*\u001B[0m\u001B[32m*\u001B[0m\u001B[32m*\u001B[0m\u001B[32m*\u001B[0m\u001B[32m*\u001B[0m\u001B[32m*\u001B[0m\u001B[32m*\u001B[0m\u001B[32m*\u001B[0m\u001B[32m*\u001B[0m\u001B[32m*\u001B[0m\u001B[32m*\u001B[0m\u001B[32m*\u001B[0m\u001B[32m*\u001B[0m\u001B[32m*\u001B[0m\u001B[32m*\u001B[0m\u001B[32m*\u001B[0m\u001B[32m*\u001B[0m\u001B[32m*\u001B[0m\u001B[32m*\u001B[0m\u001B[32m*\u001B[0m\u001B[32m*\u001B[0m\u001B[32m*\u001B[0m\u001B[32m*\u001B[0m\u001B[32m*\u001B[0m\u001B[32m*\u001B[0m\u001B[32m*\u001B[0m\u001B[32m*\u001B[0m\u001B[32m*\u001B[0m\u001B[32m*\u001B[0m\u001B[32m*\u001B[0m\u001B[32m*\u001B[0m\u001B[32m*\u001B[0m\u001B[32m*\u001B[0m\u001B[32m*\u001B[0m\u001B[32m*\u001B[0m\u001B[32m*\u001B[0m\u001B[32m*\u001B[0m\u001B[32m*\u001B[0m\u001B[32m*\u001B[0m\u001B[32m*\u001B[0m\u001B[32m*\u001B[0m\u001B[32m*\u001B[0m\u001B[32m*\u001B[0m\u001B[32m*\u001B[0m\u001B[32m*\u001B[0m\u001B[32m*\u001B[0m\u001B[32m*\u001B[0m\u001B[32m*\u001B[0m\u001B[32m*\u001B[0m\u001B[32m*\u001B[0m\u001B[32m*\u001B[0m\u001B[32m*\u001B[0m\u001B[32m*\u001B[0m\u001B[32m*\u001B[0m\u001B[32m*\u001B[0m\u001B[32m*\u001B[0m\u001B[32m*\u001B[0m\u001B[32m*\u001B[0m\u001B[32m*\u001B[0m\u001B[32m*\u001B[0m\u001B[32m*\u001B[0m\u001B[32m*\u001B[0m\u001B[32m*\u001B[0m\n",
      "\u001B[34m** Zadanie 7 **********************************************************************************\u001B[0m\n"
     ]
    },
    {
     "data": {
      "text/plain": [
       "<IPython.core.display.Markdown object>"
      ],
      "text/markdown": "Rozwiązać równanie w zbiorze liczb zespolonych. Sprawdzić jedno z rozwiązań."
     },
     "metadata": {},
     "output_type": "display_data"
    },
    {
     "data": {
      "text/plain": [
       "<IPython.core.display.Latex object>"
      ],
      "text/latex": "$$\t\t\\left(1 + 2 i\\right)z^2 + \\left(6 - 13 i\\right) z + \\left(-22 + 6 i\\right)=0$$"
     },
     "metadata": {},
     "output_type": "display_data"
    },
    {
     "name": "stdout",
     "output_type": "stream",
     "text": [
      "\u001B[34m*\u001B[0m\u001B[34m*\u001B[0m\u001B[34m*\u001B[0m\u001B[34m*\u001B[0m\u001B[34m*\u001B[0m\u001B[34m*\u001B[0m\u001B[34m*\u001B[0m\u001B[34m*\u001B[0m\u001B[34m*\u001B[0m\u001B[34m*\u001B[0m\u001B[34m*\u001B[0m\u001B[34m*\u001B[0m\u001B[34m*\u001B[0m\u001B[34m*\u001B[0m\u001B[34m*\u001B[0m\u001B[34m*\u001B[0m\u001B[34m*\u001B[0m\u001B[34m*\u001B[0m\u001B[34m*\u001B[0m\u001B[34m*\u001B[0m\u001B[34m*\u001B[0m\u001B[34m*\u001B[0m\u001B[34m*\u001B[0m\u001B[34m*\u001B[0m\u001B[34m*\u001B[0m\u001B[34m*\u001B[0m\u001B[34m*\u001B[0m\u001B[34m*\u001B[0m\u001B[34m*\u001B[0m\u001B[34m*\u001B[0m\u001B[34m*\u001B[0m\u001B[34m*\u001B[0m\u001B[34m*\u001B[0m\u001B[34m*\u001B[0m\u001B[34m*\u001B[0m\u001B[34m*\u001B[0m\u001B[34m*\u001B[0m\u001B[34m*\u001B[0m\u001B[34m*\u001B[0m\u001B[34m*\u001B[0m\u001B[34m*\u001B[0m\u001B[34m*\u001B[0m\u001B[34m*\u001B[0m\u001B[34m*\u001B[0m\u001B[34m*\u001B[0m\u001B[34m*\u001B[0m\u001B[34m*\u001B[0m\u001B[34m*\u001B[0m\u001B[34m*\u001B[0m\u001B[34m*\u001B[0m\u001B[34m*\u001B[0m\u001B[34m*\u001B[0m\u001B[34m*\u001B[0m\u001B[34m*\u001B[0m\u001B[34m*\u001B[0m\u001B[34m*\u001B[0m\u001B[34m*\u001B[0m\u001B[34m*\u001B[0m\u001B[34m*\u001B[0m\u001B[34m*\u001B[0m\u001B[34m*\u001B[0m\u001B[34m*\u001B[0m\u001B[34m*\u001B[0m\u001B[34m*\u001B[0m\u001B[34m*\u001B[0m\u001B[34m*\u001B[0m\u001B[34m*\u001B[0m\u001B[34m*\u001B[0m\u001B[34m*\u001B[0m\u001B[34m*\u001B[0m\u001B[34m*\u001B[0m\u001B[34m*\u001B[0m\u001B[34m*\u001B[0m\u001B[34m*\u001B[0m\u001B[34m*\u001B[0m\u001B[34m*\u001B[0m\u001B[34m*\u001B[0m\u001B[34m*\u001B[0m\u001B[34m*\u001B[0m\u001B[34m*\u001B[0m\u001B[34m*\u001B[0m\u001B[34m*\u001B[0m\u001B[34m*\u001B[0m\u001B[34m*\u001B[0m\u001B[34m*\u001B[0m\u001B[34m*\u001B[0m\u001B[34m*\u001B[0m\u001B[34m*\u001B[0m\u001B[34m*\u001B[0m\u001B[34m*\u001B[0m\u001B[34m*\u001B[0m\u001B[34m*\u001B[0m\u001B[34m*\u001B[0m\u001B[34m*\u001B[0m\u001B[34m*\u001B[0m\n",
      "\u001B[32m** Rozwiązanie ********************************************************************************\u001B[0m\n"
     ]
    },
    {
     "data": {
      "text/plain": [
       "<IPython.core.display.Latex object>"
      ],
      "text/latex": "$$\\Delta = 3-4i, \\quad \\sqrt{\\Delta}=\\pm( 2 - i), \\quad z_{1}=2 + 2 i, \\quad z_{2}=2 + 3 i$$"
     },
     "metadata": {},
     "output_type": "display_data"
    },
    {
     "name": "stdout",
     "output_type": "stream",
     "text": [
      "\u001B[32m*\u001B[0m\u001B[32m*\u001B[0m\u001B[32m*\u001B[0m\u001B[32m*\u001B[0m\u001B[32m*\u001B[0m\u001B[32m*\u001B[0m\u001B[32m*\u001B[0m\u001B[32m*\u001B[0m\u001B[32m*\u001B[0m\u001B[32m*\u001B[0m\u001B[32m*\u001B[0m\u001B[32m*\u001B[0m\u001B[32m*\u001B[0m\u001B[32m*\u001B[0m\u001B[32m*\u001B[0m\u001B[32m*\u001B[0m\u001B[32m*\u001B[0m\u001B[32m*\u001B[0m\u001B[32m*\u001B[0m\u001B[32m*\u001B[0m\u001B[32m*\u001B[0m\u001B[32m*\u001B[0m\u001B[32m*\u001B[0m\u001B[32m*\u001B[0m\u001B[32m*\u001B[0m\u001B[32m*\u001B[0m\u001B[32m*\u001B[0m\u001B[32m*\u001B[0m\u001B[32m*\u001B[0m\u001B[32m*\u001B[0m\u001B[32m*\u001B[0m\u001B[32m*\u001B[0m\u001B[32m*\u001B[0m\u001B[32m*\u001B[0m\u001B[32m*\u001B[0m\u001B[32m*\u001B[0m\u001B[32m*\u001B[0m\u001B[32m*\u001B[0m\u001B[32m*\u001B[0m\u001B[32m*\u001B[0m\u001B[32m*\u001B[0m\u001B[32m*\u001B[0m\u001B[32m*\u001B[0m\u001B[32m*\u001B[0m\u001B[32m*\u001B[0m\u001B[32m*\u001B[0m\u001B[32m*\u001B[0m\u001B[32m*\u001B[0m\u001B[32m*\u001B[0m\u001B[32m*\u001B[0m\u001B[32m*\u001B[0m\u001B[32m*\u001B[0m\u001B[32m*\u001B[0m\u001B[32m*\u001B[0m\u001B[32m*\u001B[0m\u001B[32m*\u001B[0m\u001B[32m*\u001B[0m\u001B[32m*\u001B[0m\u001B[32m*\u001B[0m\u001B[32m*\u001B[0m\u001B[32m*\u001B[0m\u001B[32m*\u001B[0m\u001B[32m*\u001B[0m\u001B[32m*\u001B[0m\u001B[32m*\u001B[0m\u001B[32m*\u001B[0m\u001B[32m*\u001B[0m\u001B[32m*\u001B[0m\u001B[32m*\u001B[0m\u001B[32m*\u001B[0m\u001B[32m*\u001B[0m\u001B[32m*\u001B[0m\u001B[32m*\u001B[0m\u001B[32m*\u001B[0m\u001B[32m*\u001B[0m\u001B[32m*\u001B[0m\u001B[32m*\u001B[0m\u001B[32m*\u001B[0m\u001B[32m*\u001B[0m\u001B[32m*\u001B[0m\u001B[32m*\u001B[0m\u001B[32m*\u001B[0m\u001B[32m*\u001B[0m\u001B[32m*\u001B[0m\u001B[32m*\u001B[0m\u001B[32m*\u001B[0m\u001B[32m*\u001B[0m\u001B[32m*\u001B[0m\u001B[32m*\u001B[0m\u001B[32m*\u001B[0m\u001B[32m*\u001B[0m\u001B[32m*\u001B[0m\u001B[32m*\u001B[0m\u001B[32m*\u001B[0m\u001B[32m*\u001B[0m\n",
      "\u001B[34m** Zadanie 8 **********************************************************************************\u001B[0m\n"
     ]
    },
    {
     "data": {
      "text/plain": [
       "<IPython.core.display.Markdown object>"
      ],
      "text/markdown": "Rozwiązać równanie w zbiorze liczb zespolonych. Sprawdzić jedno z rozwiązań."
     },
     "metadata": {},
     "output_type": "display_data"
    },
    {
     "data": {
      "text/plain": [
       "<IPython.core.display.Latex object>"
      ],
      "text/latex": "$$\t\t\\left(1 - i\\right)z^2 + \\left(-5 - 11 i\\right) z + \\left(-24 + 2 i\\right)=0$$"
     },
     "metadata": {},
     "output_type": "display_data"
    },
    {
     "name": "stdout",
     "output_type": "stream",
     "text": [
      "\u001B[34m*\u001B[0m\u001B[34m*\u001B[0m\u001B[34m*\u001B[0m\u001B[34m*\u001B[0m\u001B[34m*\u001B[0m\u001B[34m*\u001B[0m\u001B[34m*\u001B[0m\u001B[34m*\u001B[0m\u001B[34m*\u001B[0m\u001B[34m*\u001B[0m\u001B[34m*\u001B[0m\u001B[34m*\u001B[0m\u001B[34m*\u001B[0m\u001B[34m*\u001B[0m\u001B[34m*\u001B[0m\u001B[34m*\u001B[0m\u001B[34m*\u001B[0m\u001B[34m*\u001B[0m\u001B[34m*\u001B[0m\u001B[34m*\u001B[0m\u001B[34m*\u001B[0m\u001B[34m*\u001B[0m\u001B[34m*\u001B[0m\u001B[34m*\u001B[0m\u001B[34m*\u001B[0m\u001B[34m*\u001B[0m\u001B[34m*\u001B[0m\u001B[34m*\u001B[0m\u001B[34m*\u001B[0m\u001B[34m*\u001B[0m\u001B[34m*\u001B[0m\u001B[34m*\u001B[0m\u001B[34m*\u001B[0m\u001B[34m*\u001B[0m\u001B[34m*\u001B[0m\u001B[34m*\u001B[0m\u001B[34m*\u001B[0m\u001B[34m*\u001B[0m\u001B[34m*\u001B[0m\u001B[34m*\u001B[0m\u001B[34m*\u001B[0m\u001B[34m*\u001B[0m\u001B[34m*\u001B[0m\u001B[34m*\u001B[0m\u001B[34m*\u001B[0m\u001B[34m*\u001B[0m\u001B[34m*\u001B[0m\u001B[34m*\u001B[0m\u001B[34m*\u001B[0m\u001B[34m*\u001B[0m\u001B[34m*\u001B[0m\u001B[34m*\u001B[0m\u001B[34m*\u001B[0m\u001B[34m*\u001B[0m\u001B[34m*\u001B[0m\u001B[34m*\u001B[0m\u001B[34m*\u001B[0m\u001B[34m*\u001B[0m\u001B[34m*\u001B[0m\u001B[34m*\u001B[0m\u001B[34m*\u001B[0m\u001B[34m*\u001B[0m\u001B[34m*\u001B[0m\u001B[34m*\u001B[0m\u001B[34m*\u001B[0m\u001B[34m*\u001B[0m\u001B[34m*\u001B[0m\u001B[34m*\u001B[0m\u001B[34m*\u001B[0m\u001B[34m*\u001B[0m\u001B[34m*\u001B[0m\u001B[34m*\u001B[0m\u001B[34m*\u001B[0m\u001B[34m*\u001B[0m\u001B[34m*\u001B[0m\u001B[34m*\u001B[0m\u001B[34m*\u001B[0m\u001B[34m*\u001B[0m\u001B[34m*\u001B[0m\u001B[34m*\u001B[0m\u001B[34m*\u001B[0m\u001B[34m*\u001B[0m\u001B[34m*\u001B[0m\u001B[34m*\u001B[0m\u001B[34m*\u001B[0m\u001B[34m*\u001B[0m\u001B[34m*\u001B[0m\u001B[34m*\u001B[0m\u001B[34m*\u001B[0m\u001B[34m*\u001B[0m\u001B[34m*\u001B[0m\u001B[34m*\u001B[0m\u001B[34m*\u001B[0m\u001B[34m*\u001B[0m\u001B[34m*\u001B[0m\n",
      "\u001B[32m** Rozwiązanie ********************************************************************************\u001B[0m\n"
     ]
    },
    {
     "data": {
      "text/plain": [
       "<IPython.core.display.Latex object>"
      ],
      "text/latex": "$$\\Delta = -8+6i, \\quad \\sqrt{\\Delta}=\\pm( 1 + 3 i), \\quad z_{1}=-2 + 5 i, \\quad z_{2}=-1 + 3 i$$"
     },
     "metadata": {},
     "output_type": "display_data"
    },
    {
     "name": "stdout",
     "output_type": "stream",
     "text": [
      "\u001B[32m*\u001B[0m\u001B[32m*\u001B[0m\u001B[32m*\u001B[0m\u001B[32m*\u001B[0m\u001B[32m*\u001B[0m\u001B[32m*\u001B[0m\u001B[32m*\u001B[0m\u001B[32m*\u001B[0m\u001B[32m*\u001B[0m\u001B[32m*\u001B[0m\u001B[32m*\u001B[0m\u001B[32m*\u001B[0m\u001B[32m*\u001B[0m\u001B[32m*\u001B[0m\u001B[32m*\u001B[0m\u001B[32m*\u001B[0m\u001B[32m*\u001B[0m\u001B[32m*\u001B[0m\u001B[32m*\u001B[0m\u001B[32m*\u001B[0m\u001B[32m*\u001B[0m\u001B[32m*\u001B[0m\u001B[32m*\u001B[0m\u001B[32m*\u001B[0m\u001B[32m*\u001B[0m\u001B[32m*\u001B[0m\u001B[32m*\u001B[0m\u001B[32m*\u001B[0m\u001B[32m*\u001B[0m\u001B[32m*\u001B[0m\u001B[32m*\u001B[0m\u001B[32m*\u001B[0m\u001B[32m*\u001B[0m\u001B[32m*\u001B[0m\u001B[32m*\u001B[0m\u001B[32m*\u001B[0m\u001B[32m*\u001B[0m\u001B[32m*\u001B[0m\u001B[32m*\u001B[0m\u001B[32m*\u001B[0m\u001B[32m*\u001B[0m\u001B[32m*\u001B[0m\u001B[32m*\u001B[0m\u001B[32m*\u001B[0m\u001B[32m*\u001B[0m\u001B[32m*\u001B[0m\u001B[32m*\u001B[0m\u001B[32m*\u001B[0m\u001B[32m*\u001B[0m\u001B[32m*\u001B[0m\u001B[32m*\u001B[0m\u001B[32m*\u001B[0m\u001B[32m*\u001B[0m\u001B[32m*\u001B[0m\u001B[32m*\u001B[0m\u001B[32m*\u001B[0m\u001B[32m*\u001B[0m\u001B[32m*\u001B[0m\u001B[32m*\u001B[0m\u001B[32m*\u001B[0m\u001B[32m*\u001B[0m\u001B[32m*\u001B[0m\u001B[32m*\u001B[0m\u001B[32m*\u001B[0m\u001B[32m*\u001B[0m\u001B[32m*\u001B[0m\u001B[32m*\u001B[0m\u001B[32m*\u001B[0m\u001B[32m*\u001B[0m\u001B[32m*\u001B[0m\u001B[32m*\u001B[0m\u001B[32m*\u001B[0m\u001B[32m*\u001B[0m\u001B[32m*\u001B[0m\u001B[32m*\u001B[0m\u001B[32m*\u001B[0m\u001B[32m*\u001B[0m\u001B[32m*\u001B[0m\u001B[32m*\u001B[0m\u001B[32m*\u001B[0m\u001B[32m*\u001B[0m\u001B[32m*\u001B[0m\u001B[32m*\u001B[0m\u001B[32m*\u001B[0m\u001B[32m*\u001B[0m\u001B[32m*\u001B[0m\u001B[32m*\u001B[0m\u001B[32m*\u001B[0m\u001B[32m*\u001B[0m\u001B[32m*\u001B[0m\u001B[32m*\u001B[0m\u001B[32m*\u001B[0m\u001B[32m*\u001B[0m\u001B[32m*\u001B[0m\u001B[32m*\u001B[0m\n",
      "\u001B[34m** Zadanie 9 **********************************************************************************\u001B[0m\n"
     ]
    },
    {
     "data": {
      "text/plain": [
       "<IPython.core.display.Markdown object>"
      ],
      "text/markdown": "Rozwiązać równanie w zbiorze liczb zespolonych. Sprawdzić jedno z rozwiązań."
     },
     "metadata": {},
     "output_type": "display_data"
    },
    {
     "data": {
      "text/plain": [
       "<IPython.core.display.Latex object>"
      ],
      "text/latex": "$$\t\t\\left(1 - i\\right)z^2 + \\left(-3 - 11 i\\right) z + \\left(-22 - 4 i\\right)=0$$"
     },
     "metadata": {},
     "output_type": "display_data"
    },
    {
     "name": "stdout",
     "output_type": "stream",
     "text": [
      "\u001B[34m*\u001B[0m\u001B[34m*\u001B[0m\u001B[34m*\u001B[0m\u001B[34m*\u001B[0m\u001B[34m*\u001B[0m\u001B[34m*\u001B[0m\u001B[34m*\u001B[0m\u001B[34m*\u001B[0m\u001B[34m*\u001B[0m\u001B[34m*\u001B[0m\u001B[34m*\u001B[0m\u001B[34m*\u001B[0m\u001B[34m*\u001B[0m\u001B[34m*\u001B[0m\u001B[34m*\u001B[0m\u001B[34m*\u001B[0m\u001B[34m*\u001B[0m\u001B[34m*\u001B[0m\u001B[34m*\u001B[0m\u001B[34m*\u001B[0m\u001B[34m*\u001B[0m\u001B[34m*\u001B[0m\u001B[34m*\u001B[0m\u001B[34m*\u001B[0m\u001B[34m*\u001B[0m\u001B[34m*\u001B[0m\u001B[34m*\u001B[0m\u001B[34m*\u001B[0m\u001B[34m*\u001B[0m\u001B[34m*\u001B[0m\u001B[34m*\u001B[0m\u001B[34m*\u001B[0m\u001B[34m*\u001B[0m\u001B[34m*\u001B[0m\u001B[34m*\u001B[0m\u001B[34m*\u001B[0m\u001B[34m*\u001B[0m\u001B[34m*\u001B[0m\u001B[34m*\u001B[0m\u001B[34m*\u001B[0m\u001B[34m*\u001B[0m\u001B[34m*\u001B[0m\u001B[34m*\u001B[0m\u001B[34m*\u001B[0m\u001B[34m*\u001B[0m\u001B[34m*\u001B[0m\u001B[34m*\u001B[0m\u001B[34m*\u001B[0m\u001B[34m*\u001B[0m\u001B[34m*\u001B[0m\u001B[34m*\u001B[0m\u001B[34m*\u001B[0m\u001B[34m*\u001B[0m\u001B[34m*\u001B[0m\u001B[34m*\u001B[0m\u001B[34m*\u001B[0m\u001B[34m*\u001B[0m\u001B[34m*\u001B[0m\u001B[34m*\u001B[0m\u001B[34m*\u001B[0m\u001B[34m*\u001B[0m\u001B[34m*\u001B[0m\u001B[34m*\u001B[0m\u001B[34m*\u001B[0m\u001B[34m*\u001B[0m\u001B[34m*\u001B[0m\u001B[34m*\u001B[0m\u001B[34m*\u001B[0m\u001B[34m*\u001B[0m\u001B[34m*\u001B[0m\u001B[34m*\u001B[0m\u001B[34m*\u001B[0m\u001B[34m*\u001B[0m\u001B[34m*\u001B[0m\u001B[34m*\u001B[0m\u001B[34m*\u001B[0m\u001B[34m*\u001B[0m\u001B[34m*\u001B[0m\u001B[34m*\u001B[0m\u001B[34m*\u001B[0m\u001B[34m*\u001B[0m\u001B[34m*\u001B[0m\u001B[34m*\u001B[0m\u001B[34m*\u001B[0m\u001B[34m*\u001B[0m\u001B[34m*\u001B[0m\u001B[34m*\u001B[0m\u001B[34m*\u001B[0m\u001B[34m*\u001B[0m\u001B[34m*\u001B[0m\u001B[34m*\u001B[0m\u001B[34m*\u001B[0m\u001B[34m*\u001B[0m\u001B[34m*\u001B[0m\u001B[34m*\u001B[0m\n",
      "\u001B[32m** Rozwiązanie ********************************************************************************\u001B[0m\n"
     ]
    },
    {
     "data": {
      "text/plain": [
       "<IPython.core.display.Latex object>"
      ],
      "text/latex": "$$\\Delta = -8-6i, \\quad \\sqrt{\\Delta}=\\pm( 1 - 3 i), \\quad z_{1}=-3 + 4 i, \\quad z_{2}=-1 + 3 i$$"
     },
     "metadata": {},
     "output_type": "display_data"
    },
    {
     "name": "stdout",
     "output_type": "stream",
     "text": [
      "\u001B[32m*\u001B[0m\u001B[32m*\u001B[0m\u001B[32m*\u001B[0m\u001B[32m*\u001B[0m\u001B[32m*\u001B[0m\u001B[32m*\u001B[0m\u001B[32m*\u001B[0m\u001B[32m*\u001B[0m\u001B[32m*\u001B[0m\u001B[32m*\u001B[0m\u001B[32m*\u001B[0m\u001B[32m*\u001B[0m\u001B[32m*\u001B[0m\u001B[32m*\u001B[0m\u001B[32m*\u001B[0m\u001B[32m*\u001B[0m\u001B[32m*\u001B[0m\u001B[32m*\u001B[0m\u001B[32m*\u001B[0m\u001B[32m*\u001B[0m\u001B[32m*\u001B[0m\u001B[32m*\u001B[0m\u001B[32m*\u001B[0m\u001B[32m*\u001B[0m\u001B[32m*\u001B[0m\u001B[32m*\u001B[0m\u001B[32m*\u001B[0m\u001B[32m*\u001B[0m\u001B[32m*\u001B[0m\u001B[32m*\u001B[0m\u001B[32m*\u001B[0m\u001B[32m*\u001B[0m\u001B[32m*\u001B[0m\u001B[32m*\u001B[0m\u001B[32m*\u001B[0m\u001B[32m*\u001B[0m\u001B[32m*\u001B[0m\u001B[32m*\u001B[0m\u001B[32m*\u001B[0m\u001B[32m*\u001B[0m\u001B[32m*\u001B[0m\u001B[32m*\u001B[0m\u001B[32m*\u001B[0m\u001B[32m*\u001B[0m\u001B[32m*\u001B[0m\u001B[32m*\u001B[0m\u001B[32m*\u001B[0m\u001B[32m*\u001B[0m\u001B[32m*\u001B[0m\u001B[32m*\u001B[0m\u001B[32m*\u001B[0m\u001B[32m*\u001B[0m\u001B[32m*\u001B[0m\u001B[32m*\u001B[0m\u001B[32m*\u001B[0m\u001B[32m*\u001B[0m\u001B[32m*\u001B[0m\u001B[32m*\u001B[0m\u001B[32m*\u001B[0m\u001B[32m*\u001B[0m\u001B[32m*\u001B[0m\u001B[32m*\u001B[0m\u001B[32m*\u001B[0m\u001B[32m*\u001B[0m\u001B[32m*\u001B[0m\u001B[32m*\u001B[0m\u001B[32m*\u001B[0m\u001B[32m*\u001B[0m\u001B[32m*\u001B[0m\u001B[32m*\u001B[0m\u001B[32m*\u001B[0m\u001B[32m*\u001B[0m\u001B[32m*\u001B[0m\u001B[32m*\u001B[0m\u001B[32m*\u001B[0m\u001B[32m*\u001B[0m\u001B[32m*\u001B[0m\u001B[32m*\u001B[0m\u001B[32m*\u001B[0m\u001B[32m*\u001B[0m\u001B[32m*\u001B[0m\u001B[32m*\u001B[0m\u001B[32m*\u001B[0m\u001B[32m*\u001B[0m\u001B[32m*\u001B[0m\u001B[32m*\u001B[0m\u001B[32m*\u001B[0m\u001B[32m*\u001B[0m\u001B[32m*\u001B[0m\u001B[32m*\u001B[0m\u001B[32m*\u001B[0m\u001B[32m*\u001B[0m\u001B[32m*\u001B[0m\u001B[32m*\u001B[0m\u001B[32m*\u001B[0m\n",
      "\u001B[34m** Zadanie 10 **********************************************************************************\u001B[0m\n"
     ]
    },
    {
     "data": {
      "text/plain": [
       "<IPython.core.display.Markdown object>"
      ],
      "text/markdown": "Rozwiązać równanie w zbiorze liczb zespolonych. Sprawdzić jedno z rozwiązań."
     },
     "metadata": {},
     "output_type": "display_data"
    },
    {
     "data": {
      "text/plain": [
       "<IPython.core.display.Latex object>"
      ],
      "text/latex": "$$\t\t\\left(1 + 2 i\\right)z^2 + \\left(6 - 13 i\\right) z + \\left(-22 + 6 i\\right)=0$$"
     },
     "metadata": {},
     "output_type": "display_data"
    },
    {
     "name": "stdout",
     "output_type": "stream",
     "text": [
      "\u001B[34m*\u001B[0m\u001B[34m*\u001B[0m\u001B[34m*\u001B[0m\u001B[34m*\u001B[0m\u001B[34m*\u001B[0m\u001B[34m*\u001B[0m\u001B[34m*\u001B[0m\u001B[34m*\u001B[0m\u001B[34m*\u001B[0m\u001B[34m*\u001B[0m\u001B[34m*\u001B[0m\u001B[34m*\u001B[0m\u001B[34m*\u001B[0m\u001B[34m*\u001B[0m\u001B[34m*\u001B[0m\u001B[34m*\u001B[0m\u001B[34m*\u001B[0m\u001B[34m*\u001B[0m\u001B[34m*\u001B[0m\u001B[34m*\u001B[0m\u001B[34m*\u001B[0m\u001B[34m*\u001B[0m\u001B[34m*\u001B[0m\u001B[34m*\u001B[0m\u001B[34m*\u001B[0m\u001B[34m*\u001B[0m\u001B[34m*\u001B[0m\u001B[34m*\u001B[0m\u001B[34m*\u001B[0m\u001B[34m*\u001B[0m\u001B[34m*\u001B[0m\u001B[34m*\u001B[0m\u001B[34m*\u001B[0m\u001B[34m*\u001B[0m\u001B[34m*\u001B[0m\u001B[34m*\u001B[0m\u001B[34m*\u001B[0m\u001B[34m*\u001B[0m\u001B[34m*\u001B[0m\u001B[34m*\u001B[0m\u001B[34m*\u001B[0m\u001B[34m*\u001B[0m\u001B[34m*\u001B[0m\u001B[34m*\u001B[0m\u001B[34m*\u001B[0m\u001B[34m*\u001B[0m\u001B[34m*\u001B[0m\u001B[34m*\u001B[0m\u001B[34m*\u001B[0m\u001B[34m*\u001B[0m\u001B[34m*\u001B[0m\u001B[34m*\u001B[0m\u001B[34m*\u001B[0m\u001B[34m*\u001B[0m\u001B[34m*\u001B[0m\u001B[34m*\u001B[0m\u001B[34m*\u001B[0m\u001B[34m*\u001B[0m\u001B[34m*\u001B[0m\u001B[34m*\u001B[0m\u001B[34m*\u001B[0m\u001B[34m*\u001B[0m\u001B[34m*\u001B[0m\u001B[34m*\u001B[0m\u001B[34m*\u001B[0m\u001B[34m*\u001B[0m\u001B[34m*\u001B[0m\u001B[34m*\u001B[0m\u001B[34m*\u001B[0m\u001B[34m*\u001B[0m\u001B[34m*\u001B[0m\u001B[34m*\u001B[0m\u001B[34m*\u001B[0m\u001B[34m*\u001B[0m\u001B[34m*\u001B[0m\u001B[34m*\u001B[0m\u001B[34m*\u001B[0m\u001B[34m*\u001B[0m\u001B[34m*\u001B[0m\u001B[34m*\u001B[0m\u001B[34m*\u001B[0m\u001B[34m*\u001B[0m\u001B[34m*\u001B[0m\u001B[34m*\u001B[0m\u001B[34m*\u001B[0m\u001B[34m*\u001B[0m\u001B[34m*\u001B[0m\u001B[34m*\u001B[0m\u001B[34m*\u001B[0m\u001B[34m*\u001B[0m\u001B[34m*\u001B[0m\u001B[34m*\u001B[0m\u001B[34m*\u001B[0m\u001B[34m*\u001B[0m\u001B[34m*\u001B[0m\n",
      "\u001B[32m** Rozwiązanie ********************************************************************************\u001B[0m\n"
     ]
    },
    {
     "data": {
      "text/plain": [
       "<IPython.core.display.Latex object>"
      ],
      "text/latex": "$$\\Delta = 3-4i, \\quad \\sqrt{\\Delta}=\\pm( 2 - i), \\quad z_{1}=2 + 2 i, \\quad z_{2}=2 + 3 i$$"
     },
     "metadata": {},
     "output_type": "display_data"
    },
    {
     "name": "stdout",
     "output_type": "stream",
     "text": [
      "\u001B[32m*\u001B[0m\u001B[32m*\u001B[0m\u001B[32m*\u001B[0m\u001B[32m*\u001B[0m\u001B[32m*\u001B[0m\u001B[32m*\u001B[0m\u001B[32m*\u001B[0m\u001B[32m*\u001B[0m\u001B[32m*\u001B[0m\u001B[32m*\u001B[0m\u001B[32m*\u001B[0m\u001B[32m*\u001B[0m\u001B[32m*\u001B[0m\u001B[32m*\u001B[0m\u001B[32m*\u001B[0m\u001B[32m*\u001B[0m\u001B[32m*\u001B[0m\u001B[32m*\u001B[0m\u001B[32m*\u001B[0m\u001B[32m*\u001B[0m\u001B[32m*\u001B[0m\u001B[32m*\u001B[0m\u001B[32m*\u001B[0m\u001B[32m*\u001B[0m\u001B[32m*\u001B[0m\u001B[32m*\u001B[0m\u001B[32m*\u001B[0m\u001B[32m*\u001B[0m\u001B[32m*\u001B[0m\u001B[32m*\u001B[0m\u001B[32m*\u001B[0m\u001B[32m*\u001B[0m\u001B[32m*\u001B[0m\u001B[32m*\u001B[0m\u001B[32m*\u001B[0m\u001B[32m*\u001B[0m\u001B[32m*\u001B[0m\u001B[32m*\u001B[0m\u001B[32m*\u001B[0m\u001B[32m*\u001B[0m\u001B[32m*\u001B[0m\u001B[32m*\u001B[0m\u001B[32m*\u001B[0m\u001B[32m*\u001B[0m\u001B[32m*\u001B[0m\u001B[32m*\u001B[0m\u001B[32m*\u001B[0m\u001B[32m*\u001B[0m\u001B[32m*\u001B[0m\u001B[32m*\u001B[0m\u001B[32m*\u001B[0m\u001B[32m*\u001B[0m\u001B[32m*\u001B[0m\u001B[32m*\u001B[0m\u001B[32m*\u001B[0m\u001B[32m*\u001B[0m\u001B[32m*\u001B[0m\u001B[32m*\u001B[0m\u001B[32m*\u001B[0m\u001B[32m*\u001B[0m\u001B[32m*\u001B[0m\u001B[32m*\u001B[0m\u001B[32m*\u001B[0m\u001B[32m*\u001B[0m\u001B[32m*\u001B[0m\u001B[32m*\u001B[0m\u001B[32m*\u001B[0m\u001B[32m*\u001B[0m\u001B[32m*\u001B[0m\u001B[32m*\u001B[0m\u001B[32m*\u001B[0m\u001B[32m*\u001B[0m\u001B[32m*\u001B[0m\u001B[32m*\u001B[0m\u001B[32m*\u001B[0m\u001B[32m*\u001B[0m\u001B[32m*\u001B[0m\u001B[32m*\u001B[0m\u001B[32m*\u001B[0m\u001B[32m*\u001B[0m\u001B[32m*\u001B[0m\u001B[32m*\u001B[0m\u001B[32m*\u001B[0m\u001B[32m*\u001B[0m\u001B[32m*\u001B[0m\u001B[32m*\u001B[0m\u001B[32m*\u001B[0m\u001B[32m*\u001B[0m\u001B[32m*\u001B[0m\u001B[32m*\u001B[0m\u001B[32m*\u001B[0m\u001B[32m*\u001B[0m\u001B[32m*\u001B[0m\u001B[32m*\u001B[0m\u001B[32m*\u001B[0m\n"
     ]
    }
   ],
   "execution_count": 9
  },
  {
   "metadata": {},
   "cell_type": "markdown",
   "source": "## Pierwiastek zespolony"
  },
  {
   "metadata": {
    "ExecuteTime": {
     "end_time": "2024-09-14T17:07:27.772276Z",
     "start_time": "2024-09-14T17:07:27.743318Z"
    }
   },
   "cell_type": "code",
   "source": [
    "zadanie = gz.pierwiastek_zespolony(stopien=choice([3, 4]))\n",
    "zadanie"
   ],
   "outputs": [
    {
     "data": {
      "text/plain": [
       "('Wyznaczyć wszystkie zadane pierwiastki zespolone i zaznaczyć je na płaszczyźnie zespolonej\\n\\t\\\\[\\n\\t\\t\\\\sqrt[\\\\leftroot{2}\\\\uproot{-4} \\\\displaystyle ^{4}]{\\\\left(1 - \\\\sqrt{3} i \\\\right) \\\\left(-1 - \\\\sqrt{3} i \\\\right)}\\n\\t\\\\]',\n",
       " '$\\\\sqrt[\\\\leftroot{2}\\\\uproot{-4} \\\\displaystyle ^{4}]{-4} = \\\\left\\\\{ -1 - i, \\\\  -1 + i, \\\\  1 - i, \\\\  1 + i\\\\right\\\\}.$')"
      ]
     },
     "execution_count": 10,
     "metadata": {},
     "output_type": "execute_result"
    }
   ],
   "execution_count": 10
  },
  {
   "metadata": {
    "ExecuteTime": {
     "end_time": "2024-09-14T17:07:27.928532Z",
     "start_time": "2024-09-14T17:07:27.923192Z"
    }
   },
   "cell_type": "code",
   "source": [
    "print(\"\\033[34m** Zadanie **\" + '*' * 81 + '\\033[0m')\n",
    "print(zadanie[0])\n",
    "print(\"\\033[34m*\\033[0m\" * 95)\n",
    "print(\"\\033[32m** Rozwiązanie **\" + '*' * 78 + '\\033[0m')\n",
    "print(zadanie[1])\n",
    "print(\"\\033[32m*\\033[0m\" * 95)"
   ],
   "outputs": [
    {
     "name": "stdout",
     "output_type": "stream",
     "text": [
      "\u001B[34m** Zadanie ***********************************************************************************\u001B[0m\n",
      "Wyznaczyć wszystkie zadane pierwiastki zespolone i zaznaczyć je na płaszczyźnie zespolonej\n",
      "\t\\[\n",
      "\t\t\\sqrt[\\leftroot{2}\\uproot{-4} \\displaystyle ^{4}]{\\left(1 - \\sqrt{3} i \\right) \\left(-1 - \\sqrt{3} i \\right)}\n",
      "\t\\]\n",
      "\u001B[34m*\u001B[0m\u001B[34m*\u001B[0m\u001B[34m*\u001B[0m\u001B[34m*\u001B[0m\u001B[34m*\u001B[0m\u001B[34m*\u001B[0m\u001B[34m*\u001B[0m\u001B[34m*\u001B[0m\u001B[34m*\u001B[0m\u001B[34m*\u001B[0m\u001B[34m*\u001B[0m\u001B[34m*\u001B[0m\u001B[34m*\u001B[0m\u001B[34m*\u001B[0m\u001B[34m*\u001B[0m\u001B[34m*\u001B[0m\u001B[34m*\u001B[0m\u001B[34m*\u001B[0m\u001B[34m*\u001B[0m\u001B[34m*\u001B[0m\u001B[34m*\u001B[0m\u001B[34m*\u001B[0m\u001B[34m*\u001B[0m\u001B[34m*\u001B[0m\u001B[34m*\u001B[0m\u001B[34m*\u001B[0m\u001B[34m*\u001B[0m\u001B[34m*\u001B[0m\u001B[34m*\u001B[0m\u001B[34m*\u001B[0m\u001B[34m*\u001B[0m\u001B[34m*\u001B[0m\u001B[34m*\u001B[0m\u001B[34m*\u001B[0m\u001B[34m*\u001B[0m\u001B[34m*\u001B[0m\u001B[34m*\u001B[0m\u001B[34m*\u001B[0m\u001B[34m*\u001B[0m\u001B[34m*\u001B[0m\u001B[34m*\u001B[0m\u001B[34m*\u001B[0m\u001B[34m*\u001B[0m\u001B[34m*\u001B[0m\u001B[34m*\u001B[0m\u001B[34m*\u001B[0m\u001B[34m*\u001B[0m\u001B[34m*\u001B[0m\u001B[34m*\u001B[0m\u001B[34m*\u001B[0m\u001B[34m*\u001B[0m\u001B[34m*\u001B[0m\u001B[34m*\u001B[0m\u001B[34m*\u001B[0m\u001B[34m*\u001B[0m\u001B[34m*\u001B[0m\u001B[34m*\u001B[0m\u001B[34m*\u001B[0m\u001B[34m*\u001B[0m\u001B[34m*\u001B[0m\u001B[34m*\u001B[0m\u001B[34m*\u001B[0m\u001B[34m*\u001B[0m\u001B[34m*\u001B[0m\u001B[34m*\u001B[0m\u001B[34m*\u001B[0m\u001B[34m*\u001B[0m\u001B[34m*\u001B[0m\u001B[34m*\u001B[0m\u001B[34m*\u001B[0m\u001B[34m*\u001B[0m\u001B[34m*\u001B[0m\u001B[34m*\u001B[0m\u001B[34m*\u001B[0m\u001B[34m*\u001B[0m\u001B[34m*\u001B[0m\u001B[34m*\u001B[0m\u001B[34m*\u001B[0m\u001B[34m*\u001B[0m\u001B[34m*\u001B[0m\u001B[34m*\u001B[0m\u001B[34m*\u001B[0m\u001B[34m*\u001B[0m\u001B[34m*\u001B[0m\u001B[34m*\u001B[0m\u001B[34m*\u001B[0m\u001B[34m*\u001B[0m\u001B[34m*\u001B[0m\u001B[34m*\u001B[0m\u001B[34m*\u001B[0m\u001B[34m*\u001B[0m\u001B[34m*\u001B[0m\u001B[34m*\u001B[0m\u001B[34m*\u001B[0m\u001B[34m*\u001B[0m\n",
      "\u001B[32m** Rozwiązanie ********************************************************************************\u001B[0m\n",
      "$\\sqrt[\\leftroot{2}\\uproot{-4} \\displaystyle ^{4}]{-4} = \\left\\{ -1 - i, \\  -1 + i, \\  1 - i, \\  1 + i\\right\\}.$\n",
      "\u001B[32m*\u001B[0m\u001B[32m*\u001B[0m\u001B[32m*\u001B[0m\u001B[32m*\u001B[0m\u001B[32m*\u001B[0m\u001B[32m*\u001B[0m\u001B[32m*\u001B[0m\u001B[32m*\u001B[0m\u001B[32m*\u001B[0m\u001B[32m*\u001B[0m\u001B[32m*\u001B[0m\u001B[32m*\u001B[0m\u001B[32m*\u001B[0m\u001B[32m*\u001B[0m\u001B[32m*\u001B[0m\u001B[32m*\u001B[0m\u001B[32m*\u001B[0m\u001B[32m*\u001B[0m\u001B[32m*\u001B[0m\u001B[32m*\u001B[0m\u001B[32m*\u001B[0m\u001B[32m*\u001B[0m\u001B[32m*\u001B[0m\u001B[32m*\u001B[0m\u001B[32m*\u001B[0m\u001B[32m*\u001B[0m\u001B[32m*\u001B[0m\u001B[32m*\u001B[0m\u001B[32m*\u001B[0m\u001B[32m*\u001B[0m\u001B[32m*\u001B[0m\u001B[32m*\u001B[0m\u001B[32m*\u001B[0m\u001B[32m*\u001B[0m\u001B[32m*\u001B[0m\u001B[32m*\u001B[0m\u001B[32m*\u001B[0m\u001B[32m*\u001B[0m\u001B[32m*\u001B[0m\u001B[32m*\u001B[0m\u001B[32m*\u001B[0m\u001B[32m*\u001B[0m\u001B[32m*\u001B[0m\u001B[32m*\u001B[0m\u001B[32m*\u001B[0m\u001B[32m*\u001B[0m\u001B[32m*\u001B[0m\u001B[32m*\u001B[0m\u001B[32m*\u001B[0m\u001B[32m*\u001B[0m\u001B[32m*\u001B[0m\u001B[32m*\u001B[0m\u001B[32m*\u001B[0m\u001B[32m*\u001B[0m\u001B[32m*\u001B[0m\u001B[32m*\u001B[0m\u001B[32m*\u001B[0m\u001B[32m*\u001B[0m\u001B[32m*\u001B[0m\u001B[32m*\u001B[0m\u001B[32m*\u001B[0m\u001B[32m*\u001B[0m\u001B[32m*\u001B[0m\u001B[32m*\u001B[0m\u001B[32m*\u001B[0m\u001B[32m*\u001B[0m\u001B[32m*\u001B[0m\u001B[32m*\u001B[0m\u001B[32m*\u001B[0m\u001B[32m*\u001B[0m\u001B[32m*\u001B[0m\u001B[32m*\u001B[0m\u001B[32m*\u001B[0m\u001B[32m*\u001B[0m\u001B[32m*\u001B[0m\u001B[32m*\u001B[0m\u001B[32m*\u001B[0m\u001B[32m*\u001B[0m\u001B[32m*\u001B[0m\u001B[32m*\u001B[0m\u001B[32m*\u001B[0m\u001B[32m*\u001B[0m\u001B[32m*\u001B[0m\u001B[32m*\u001B[0m\u001B[32m*\u001B[0m\u001B[32m*\u001B[0m\u001B[32m*\u001B[0m\u001B[32m*\u001B[0m\u001B[32m*\u001B[0m\u001B[32m*\u001B[0m\u001B[32m*\u001B[0m\u001B[32m*\u001B[0m\u001B[32m*\u001B[0m\u001B[32m*\u001B[0m\u001B[32m*\u001B[0m\n"
     ]
    }
   ],
   "execution_count": 11
  },
  {
   "metadata": {
    "ExecuteTime": {
     "end_time": "2024-09-14T17:07:28.470343Z",
     "start_time": "2024-09-14T17:07:28.041721Z"
    }
   },
   "cell_type": "code",
   "source": [
    "for i in range(1, ile_zadan_przykladowych + 1):\n",
    "    zadanie = gz.pierwiastek_zespolony(stopien=choice([3, 4]))\n",
    "    print(f\"\\033[34m** Zadanie {i} **\" + '*' * 80 + '\\033[0m')\n",
    "    display(Markdown(zadanie[0].split('\\n')[0].replace('\\\\', '')))\n",
    "    display(Latex('$$' + zadanie[0].split('\\n')[2] + '$$'))\n",
    "    print(\"\\033[34m*\\033[0m\" * 95)\n",
    "    print(\"\\033[32m** Rozwiązanie **\" + '*' * 78 + '\\033[0m')\n",
    "    display(Latex('$' + zadanie[1] + '$'))\n",
    "    print(\"\\033[32m*\\033[0m\" * 95)\n"
   ],
   "outputs": [
    {
     "name": "stdout",
     "output_type": "stream",
     "text": [
      "\u001B[34m** Zadanie 1 **********************************************************************************\u001B[0m\n"
     ]
    },
    {
     "data": {
      "text/plain": [
       "<IPython.core.display.Markdown object>"
      ],
      "text/markdown": "Wyznaczyć wszystkie zadane pierwiastki zespolone i zaznaczyć je na płaszczyźnie zespolonej"
     },
     "metadata": {},
     "output_type": "display_data"
    },
    {
     "data": {
      "text/plain": [
       "<IPython.core.display.Latex object>"
      ],
      "text/latex": "$$\t\t\\sqrt[\\leftroot{2}\\uproot{-4} \\displaystyle ^{4}]{\\left(- \\frac{1}{3} - \\frac{\\sqrt{5} i}{3} \\right) \\left(2 - 2 \\sqrt{5} i \\right)}$$"
     },
     "metadata": {},
     "output_type": "display_data"
    },
    {
     "name": "stdout",
     "output_type": "stream",
     "text": [
      "\u001B[34m*\u001B[0m\u001B[34m*\u001B[0m\u001B[34m*\u001B[0m\u001B[34m*\u001B[0m\u001B[34m*\u001B[0m\u001B[34m*\u001B[0m\u001B[34m*\u001B[0m\u001B[34m*\u001B[0m\u001B[34m*\u001B[0m\u001B[34m*\u001B[0m\u001B[34m*\u001B[0m\u001B[34m*\u001B[0m\u001B[34m*\u001B[0m\u001B[34m*\u001B[0m\u001B[34m*\u001B[0m\u001B[34m*\u001B[0m\u001B[34m*\u001B[0m\u001B[34m*\u001B[0m\u001B[34m*\u001B[0m\u001B[34m*\u001B[0m\u001B[34m*\u001B[0m\u001B[34m*\u001B[0m\u001B[34m*\u001B[0m\u001B[34m*\u001B[0m\u001B[34m*\u001B[0m\u001B[34m*\u001B[0m\u001B[34m*\u001B[0m\u001B[34m*\u001B[0m\u001B[34m*\u001B[0m\u001B[34m*\u001B[0m\u001B[34m*\u001B[0m\u001B[34m*\u001B[0m\u001B[34m*\u001B[0m\u001B[34m*\u001B[0m\u001B[34m*\u001B[0m\u001B[34m*\u001B[0m\u001B[34m*\u001B[0m\u001B[34m*\u001B[0m\u001B[34m*\u001B[0m\u001B[34m*\u001B[0m\u001B[34m*\u001B[0m\u001B[34m*\u001B[0m\u001B[34m*\u001B[0m\u001B[34m*\u001B[0m\u001B[34m*\u001B[0m\u001B[34m*\u001B[0m\u001B[34m*\u001B[0m\u001B[34m*\u001B[0m\u001B[34m*\u001B[0m\u001B[34m*\u001B[0m\u001B[34m*\u001B[0m\u001B[34m*\u001B[0m\u001B[34m*\u001B[0m\u001B[34m*\u001B[0m\u001B[34m*\u001B[0m\u001B[34m*\u001B[0m\u001B[34m*\u001B[0m\u001B[34m*\u001B[0m\u001B[34m*\u001B[0m\u001B[34m*\u001B[0m\u001B[34m*\u001B[0m\u001B[34m*\u001B[0m\u001B[34m*\u001B[0m\u001B[34m*\u001B[0m\u001B[34m*\u001B[0m\u001B[34m*\u001B[0m\u001B[34m*\u001B[0m\u001B[34m*\u001B[0m\u001B[34m*\u001B[0m\u001B[34m*\u001B[0m\u001B[34m*\u001B[0m\u001B[34m*\u001B[0m\u001B[34m*\u001B[0m\u001B[34m*\u001B[0m\u001B[34m*\u001B[0m\u001B[34m*\u001B[0m\u001B[34m*\u001B[0m\u001B[34m*\u001B[0m\u001B[34m*\u001B[0m\u001B[34m*\u001B[0m\u001B[34m*\u001B[0m\u001B[34m*\u001B[0m\u001B[34m*\u001B[0m\u001B[34m*\u001B[0m\u001B[34m*\u001B[0m\u001B[34m*\u001B[0m\u001B[34m*\u001B[0m\u001B[34m*\u001B[0m\u001B[34m*\u001B[0m\u001B[34m*\u001B[0m\u001B[34m*\u001B[0m\u001B[34m*\u001B[0m\u001B[34m*\u001B[0m\u001B[34m*\u001B[0m\u001B[34m*\u001B[0m\n",
      "\u001B[32m** Rozwiązanie ********************************************************************************\u001B[0m\n"
     ]
    },
    {
     "data": {
      "text/plain": [
       "<IPython.core.display.Latex object>"
      ],
      "text/latex": "$$\\sqrt[\\leftroot{2}\\uproot{-4} \\displaystyle ^{4}]{-4} = \\left\\{ -1 - i, \\  -1 + i, \\  1 - i, \\  1 + i\\right\\}.$$"
     },
     "metadata": {},
     "output_type": "display_data"
    },
    {
     "name": "stdout",
     "output_type": "stream",
     "text": [
      "\u001B[32m*\u001B[0m\u001B[32m*\u001B[0m\u001B[32m*\u001B[0m\u001B[32m*\u001B[0m\u001B[32m*\u001B[0m\u001B[32m*\u001B[0m\u001B[32m*\u001B[0m\u001B[32m*\u001B[0m\u001B[32m*\u001B[0m\u001B[32m*\u001B[0m\u001B[32m*\u001B[0m\u001B[32m*\u001B[0m\u001B[32m*\u001B[0m\u001B[32m*\u001B[0m\u001B[32m*\u001B[0m\u001B[32m*\u001B[0m\u001B[32m*\u001B[0m\u001B[32m*\u001B[0m\u001B[32m*\u001B[0m\u001B[32m*\u001B[0m\u001B[32m*\u001B[0m\u001B[32m*\u001B[0m\u001B[32m*\u001B[0m\u001B[32m*\u001B[0m\u001B[32m*\u001B[0m\u001B[32m*\u001B[0m\u001B[32m*\u001B[0m\u001B[32m*\u001B[0m\u001B[32m*\u001B[0m\u001B[32m*\u001B[0m\u001B[32m*\u001B[0m\u001B[32m*\u001B[0m\u001B[32m*\u001B[0m\u001B[32m*\u001B[0m\u001B[32m*\u001B[0m\u001B[32m*\u001B[0m\u001B[32m*\u001B[0m\u001B[32m*\u001B[0m\u001B[32m*\u001B[0m\u001B[32m*\u001B[0m\u001B[32m*\u001B[0m\u001B[32m*\u001B[0m\u001B[32m*\u001B[0m\u001B[32m*\u001B[0m\u001B[32m*\u001B[0m\u001B[32m*\u001B[0m\u001B[32m*\u001B[0m\u001B[32m*\u001B[0m\u001B[32m*\u001B[0m\u001B[32m*\u001B[0m\u001B[32m*\u001B[0m\u001B[32m*\u001B[0m\u001B[32m*\u001B[0m\u001B[32m*\u001B[0m\u001B[32m*\u001B[0m\u001B[32m*\u001B[0m\u001B[32m*\u001B[0m\u001B[32m*\u001B[0m\u001B[32m*\u001B[0m\u001B[32m*\u001B[0m\u001B[32m*\u001B[0m\u001B[32m*\u001B[0m\u001B[32m*\u001B[0m\u001B[32m*\u001B[0m\u001B[32m*\u001B[0m\u001B[32m*\u001B[0m\u001B[32m*\u001B[0m\u001B[32m*\u001B[0m\u001B[32m*\u001B[0m\u001B[32m*\u001B[0m\u001B[32m*\u001B[0m\u001B[32m*\u001B[0m\u001B[32m*\u001B[0m\u001B[32m*\u001B[0m\u001B[32m*\u001B[0m\u001B[32m*\u001B[0m\u001B[32m*\u001B[0m\u001B[32m*\u001B[0m\u001B[32m*\u001B[0m\u001B[32m*\u001B[0m\u001B[32m*\u001B[0m\u001B[32m*\u001B[0m\u001B[32m*\u001B[0m\u001B[32m*\u001B[0m\u001B[32m*\u001B[0m\u001B[32m*\u001B[0m\u001B[32m*\u001B[0m\u001B[32m*\u001B[0m\u001B[32m*\u001B[0m\u001B[32m*\u001B[0m\u001B[32m*\u001B[0m\u001B[32m*\u001B[0m\u001B[32m*\u001B[0m\u001B[32m*\u001B[0m\u001B[32m*\u001B[0m\n",
      "\u001B[34m** Zadanie 2 **********************************************************************************\u001B[0m\n"
     ]
    },
    {
     "data": {
      "text/plain": [
       "<IPython.core.display.Markdown object>"
      ],
      "text/markdown": "Wyznaczyć wszystkie zadane pierwiastki zespolone i zaznaczyć je na płaszczyźnie zespolonej"
     },
     "metadata": {},
     "output_type": "display_data"
    },
    {
     "data": {
      "text/plain": [
       "<IPython.core.display.Latex object>"
      ],
      "text/latex": "$$\t\t\\sqrt[\\leftroot{2}\\uproot{-4} \\displaystyle ^{4}]{\\left(-2 + \\sqrt{3} i \\right) \\left(\\frac{40}{7} - \\frac{8 \\sqrt{3} i}{7} \\right)}$$"
     },
     "metadata": {},
     "output_type": "display_data"
    },
    {
     "name": "stdout",
     "output_type": "stream",
     "text": [
      "\u001B[34m*\u001B[0m\u001B[34m*\u001B[0m\u001B[34m*\u001B[0m\u001B[34m*\u001B[0m\u001B[34m*\u001B[0m\u001B[34m*\u001B[0m\u001B[34m*\u001B[0m\u001B[34m*\u001B[0m\u001B[34m*\u001B[0m\u001B[34m*\u001B[0m\u001B[34m*\u001B[0m\u001B[34m*\u001B[0m\u001B[34m*\u001B[0m\u001B[34m*\u001B[0m\u001B[34m*\u001B[0m\u001B[34m*\u001B[0m\u001B[34m*\u001B[0m\u001B[34m*\u001B[0m\u001B[34m*\u001B[0m\u001B[34m*\u001B[0m\u001B[34m*\u001B[0m\u001B[34m*\u001B[0m\u001B[34m*\u001B[0m\u001B[34m*\u001B[0m\u001B[34m*\u001B[0m\u001B[34m*\u001B[0m\u001B[34m*\u001B[0m\u001B[34m*\u001B[0m\u001B[34m*\u001B[0m\u001B[34m*\u001B[0m\u001B[34m*\u001B[0m\u001B[34m*\u001B[0m\u001B[34m*\u001B[0m\u001B[34m*\u001B[0m\u001B[34m*\u001B[0m\u001B[34m*\u001B[0m\u001B[34m*\u001B[0m\u001B[34m*\u001B[0m\u001B[34m*\u001B[0m\u001B[34m*\u001B[0m\u001B[34m*\u001B[0m\u001B[34m*\u001B[0m\u001B[34m*\u001B[0m\u001B[34m*\u001B[0m\u001B[34m*\u001B[0m\u001B[34m*\u001B[0m\u001B[34m*\u001B[0m\u001B[34m*\u001B[0m\u001B[34m*\u001B[0m\u001B[34m*\u001B[0m\u001B[34m*\u001B[0m\u001B[34m*\u001B[0m\u001B[34m*\u001B[0m\u001B[34m*\u001B[0m\u001B[34m*\u001B[0m\u001B[34m*\u001B[0m\u001B[34m*\u001B[0m\u001B[34m*\u001B[0m\u001B[34m*\u001B[0m\u001B[34m*\u001B[0m\u001B[34m*\u001B[0m\u001B[34m*\u001B[0m\u001B[34m*\u001B[0m\u001B[34m*\u001B[0m\u001B[34m*\u001B[0m\u001B[34m*\u001B[0m\u001B[34m*\u001B[0m\u001B[34m*\u001B[0m\u001B[34m*\u001B[0m\u001B[34m*\u001B[0m\u001B[34m*\u001B[0m\u001B[34m*\u001B[0m\u001B[34m*\u001B[0m\u001B[34m*\u001B[0m\u001B[34m*\u001B[0m\u001B[34m*\u001B[0m\u001B[34m*\u001B[0m\u001B[34m*\u001B[0m\u001B[34m*\u001B[0m\u001B[34m*\u001B[0m\u001B[34m*\u001B[0m\u001B[34m*\u001B[0m\u001B[34m*\u001B[0m\u001B[34m*\u001B[0m\u001B[34m*\u001B[0m\u001B[34m*\u001B[0m\u001B[34m*\u001B[0m\u001B[34m*\u001B[0m\u001B[34m*\u001B[0m\u001B[34m*\u001B[0m\u001B[34m*\u001B[0m\u001B[34m*\u001B[0m\u001B[34m*\u001B[0m\u001B[34m*\u001B[0m\u001B[34m*\u001B[0m\n",
      "\u001B[32m** Rozwiązanie ********************************************************************************\u001B[0m\n"
     ]
    },
    {
     "data": {
      "text/plain": [
       "<IPython.core.display.Latex object>"
      ],
      "text/latex": "$$\\sqrt[\\leftroot{2}\\uproot{-4} \\displaystyle ^{4}]{-8 + 8 \\sqrt{3} i} = \\left\\{ -1 + \\sqrt{3} i, \\  1 - \\sqrt{3} i, \\  - \\sqrt{3} - i, \\  \\sqrt{3} + i\\right\\}.$$"
     },
     "metadata": {},
     "output_type": "display_data"
    },
    {
     "name": "stdout",
     "output_type": "stream",
     "text": [
      "\u001B[32m*\u001B[0m\u001B[32m*\u001B[0m\u001B[32m*\u001B[0m\u001B[32m*\u001B[0m\u001B[32m*\u001B[0m\u001B[32m*\u001B[0m\u001B[32m*\u001B[0m\u001B[32m*\u001B[0m\u001B[32m*\u001B[0m\u001B[32m*\u001B[0m\u001B[32m*\u001B[0m\u001B[32m*\u001B[0m\u001B[32m*\u001B[0m\u001B[32m*\u001B[0m\u001B[32m*\u001B[0m\u001B[32m*\u001B[0m\u001B[32m*\u001B[0m\u001B[32m*\u001B[0m\u001B[32m*\u001B[0m\u001B[32m*\u001B[0m\u001B[32m*\u001B[0m\u001B[32m*\u001B[0m\u001B[32m*\u001B[0m\u001B[32m*\u001B[0m\u001B[32m*\u001B[0m\u001B[32m*\u001B[0m\u001B[32m*\u001B[0m\u001B[32m*\u001B[0m\u001B[32m*\u001B[0m\u001B[32m*\u001B[0m\u001B[32m*\u001B[0m\u001B[32m*\u001B[0m\u001B[32m*\u001B[0m\u001B[32m*\u001B[0m\u001B[32m*\u001B[0m\u001B[32m*\u001B[0m\u001B[32m*\u001B[0m\u001B[32m*\u001B[0m\u001B[32m*\u001B[0m\u001B[32m*\u001B[0m\u001B[32m*\u001B[0m\u001B[32m*\u001B[0m\u001B[32m*\u001B[0m\u001B[32m*\u001B[0m\u001B[32m*\u001B[0m\u001B[32m*\u001B[0m\u001B[32m*\u001B[0m\u001B[32m*\u001B[0m\u001B[32m*\u001B[0m\u001B[32m*\u001B[0m\u001B[32m*\u001B[0m\u001B[32m*\u001B[0m\u001B[32m*\u001B[0m\u001B[32m*\u001B[0m\u001B[32m*\u001B[0m\u001B[32m*\u001B[0m\u001B[32m*\u001B[0m\u001B[32m*\u001B[0m\u001B[32m*\u001B[0m\u001B[32m*\u001B[0m\u001B[32m*\u001B[0m\u001B[32m*\u001B[0m\u001B[32m*\u001B[0m\u001B[32m*\u001B[0m\u001B[32m*\u001B[0m\u001B[32m*\u001B[0m\u001B[32m*\u001B[0m\u001B[32m*\u001B[0m\u001B[32m*\u001B[0m\u001B[32m*\u001B[0m\u001B[32m*\u001B[0m\u001B[32m*\u001B[0m\u001B[32m*\u001B[0m\u001B[32m*\u001B[0m\u001B[32m*\u001B[0m\u001B[32m*\u001B[0m\u001B[32m*\u001B[0m\u001B[32m*\u001B[0m\u001B[32m*\u001B[0m\u001B[32m*\u001B[0m\u001B[32m*\u001B[0m\u001B[32m*\u001B[0m\u001B[32m*\u001B[0m\u001B[32m*\u001B[0m\u001B[32m*\u001B[0m\u001B[32m*\u001B[0m\u001B[32m*\u001B[0m\u001B[32m*\u001B[0m\u001B[32m*\u001B[0m\u001B[32m*\u001B[0m\u001B[32m*\u001B[0m\u001B[32m*\u001B[0m\u001B[32m*\u001B[0m\u001B[32m*\u001B[0m\u001B[32m*\u001B[0m\n",
      "\u001B[34m** Zadanie 3 **********************************************************************************\u001B[0m\n"
     ]
    },
    {
     "data": {
      "text/plain": [
       "<IPython.core.display.Markdown object>"
      ],
      "text/markdown": "Wyznaczyć wszystkie zadane pierwiastki zespolone i zaznaczyć je na płaszczyźnie zespolonej"
     },
     "metadata": {},
     "output_type": "display_data"
    },
    {
     "data": {
      "text/plain": [
       "<IPython.core.display.Latex object>"
      ],
      "text/latex": "$$\t\t\\sqrt[\\leftroot{2}\\uproot{-4} \\displaystyle ^{4}]{\\left(-2 + 2 \\sqrt{5} i \\right) \\left(- \\frac{2 \\sqrt{15}}{3} + \\frac{2}{3} + i \\left(\\frac{2 \\sqrt{3}}{3} + \\frac{2 \\sqrt{5}}{3}\\right) \\right)}$$"
     },
     "metadata": {},
     "output_type": "display_data"
    },
    {
     "name": "stdout",
     "output_type": "stream",
     "text": [
      "\u001B[34m*\u001B[0m\u001B[34m*\u001B[0m\u001B[34m*\u001B[0m\u001B[34m*\u001B[0m\u001B[34m*\u001B[0m\u001B[34m*\u001B[0m\u001B[34m*\u001B[0m\u001B[34m*\u001B[0m\u001B[34m*\u001B[0m\u001B[34m*\u001B[0m\u001B[34m*\u001B[0m\u001B[34m*\u001B[0m\u001B[34m*\u001B[0m\u001B[34m*\u001B[0m\u001B[34m*\u001B[0m\u001B[34m*\u001B[0m\u001B[34m*\u001B[0m\u001B[34m*\u001B[0m\u001B[34m*\u001B[0m\u001B[34m*\u001B[0m\u001B[34m*\u001B[0m\u001B[34m*\u001B[0m\u001B[34m*\u001B[0m\u001B[34m*\u001B[0m\u001B[34m*\u001B[0m\u001B[34m*\u001B[0m\u001B[34m*\u001B[0m\u001B[34m*\u001B[0m\u001B[34m*\u001B[0m\u001B[34m*\u001B[0m\u001B[34m*\u001B[0m\u001B[34m*\u001B[0m\u001B[34m*\u001B[0m\u001B[34m*\u001B[0m\u001B[34m*\u001B[0m\u001B[34m*\u001B[0m\u001B[34m*\u001B[0m\u001B[34m*\u001B[0m\u001B[34m*\u001B[0m\u001B[34m*\u001B[0m\u001B[34m*\u001B[0m\u001B[34m*\u001B[0m\u001B[34m*\u001B[0m\u001B[34m*\u001B[0m\u001B[34m*\u001B[0m\u001B[34m*\u001B[0m\u001B[34m*\u001B[0m\u001B[34m*\u001B[0m\u001B[34m*\u001B[0m\u001B[34m*\u001B[0m\u001B[34m*\u001B[0m\u001B[34m*\u001B[0m\u001B[34m*\u001B[0m\u001B[34m*\u001B[0m\u001B[34m*\u001B[0m\u001B[34m*\u001B[0m\u001B[34m*\u001B[0m\u001B[34m*\u001B[0m\u001B[34m*\u001B[0m\u001B[34m*\u001B[0m\u001B[34m*\u001B[0m\u001B[34m*\u001B[0m\u001B[34m*\u001B[0m\u001B[34m*\u001B[0m\u001B[34m*\u001B[0m\u001B[34m*\u001B[0m\u001B[34m*\u001B[0m\u001B[34m*\u001B[0m\u001B[34m*\u001B[0m\u001B[34m*\u001B[0m\u001B[34m*\u001B[0m\u001B[34m*\u001B[0m\u001B[34m*\u001B[0m\u001B[34m*\u001B[0m\u001B[34m*\u001B[0m\u001B[34m*\u001B[0m\u001B[34m*\u001B[0m\u001B[34m*\u001B[0m\u001B[34m*\u001B[0m\u001B[34m*\u001B[0m\u001B[34m*\u001B[0m\u001B[34m*\u001B[0m\u001B[34m*\u001B[0m\u001B[34m*\u001B[0m\u001B[34m*\u001B[0m\u001B[34m*\u001B[0m\u001B[34m*\u001B[0m\u001B[34m*\u001B[0m\u001B[34m*\u001B[0m\u001B[34m*\u001B[0m\u001B[34m*\u001B[0m\u001B[34m*\u001B[0m\u001B[34m*\u001B[0m\u001B[34m*\u001B[0m\u001B[34m*\u001B[0m\n",
      "\u001B[32m** Rozwiązanie ********************************************************************************\u001B[0m\n"
     ]
    },
    {
     "data": {
      "text/plain": [
       "<IPython.core.display.Latex object>"
      ],
      "text/latex": "$$\\sqrt[\\leftroot{2}\\uproot{-4} \\displaystyle ^{4}]{-8 - 8 \\sqrt{3} i} = \\left\\{ -1 - \\sqrt{3} i, \\  1 + \\sqrt{3} i, \\  - \\sqrt{3} + i, \\  \\sqrt{3} - i\\right\\}.$$"
     },
     "metadata": {},
     "output_type": "display_data"
    },
    {
     "name": "stdout",
     "output_type": "stream",
     "text": [
      "\u001B[32m*\u001B[0m\u001B[32m*\u001B[0m\u001B[32m*\u001B[0m\u001B[32m*\u001B[0m\u001B[32m*\u001B[0m\u001B[32m*\u001B[0m\u001B[32m*\u001B[0m\u001B[32m*\u001B[0m\u001B[32m*\u001B[0m\u001B[32m*\u001B[0m\u001B[32m*\u001B[0m\u001B[32m*\u001B[0m\u001B[32m*\u001B[0m\u001B[32m*\u001B[0m\u001B[32m*\u001B[0m\u001B[32m*\u001B[0m\u001B[32m*\u001B[0m\u001B[32m*\u001B[0m\u001B[32m*\u001B[0m\u001B[32m*\u001B[0m\u001B[32m*\u001B[0m\u001B[32m*\u001B[0m\u001B[32m*\u001B[0m\u001B[32m*\u001B[0m\u001B[32m*\u001B[0m\u001B[32m*\u001B[0m\u001B[32m*\u001B[0m\u001B[32m*\u001B[0m\u001B[32m*\u001B[0m\u001B[32m*\u001B[0m\u001B[32m*\u001B[0m\u001B[32m*\u001B[0m\u001B[32m*\u001B[0m\u001B[32m*\u001B[0m\u001B[32m*\u001B[0m\u001B[32m*\u001B[0m\u001B[32m*\u001B[0m\u001B[32m*\u001B[0m\u001B[32m*\u001B[0m\u001B[32m*\u001B[0m\u001B[32m*\u001B[0m\u001B[32m*\u001B[0m\u001B[32m*\u001B[0m\u001B[32m*\u001B[0m\u001B[32m*\u001B[0m\u001B[32m*\u001B[0m\u001B[32m*\u001B[0m\u001B[32m*\u001B[0m\u001B[32m*\u001B[0m\u001B[32m*\u001B[0m\u001B[32m*\u001B[0m\u001B[32m*\u001B[0m\u001B[32m*\u001B[0m\u001B[32m*\u001B[0m\u001B[32m*\u001B[0m\u001B[32m*\u001B[0m\u001B[32m*\u001B[0m\u001B[32m*\u001B[0m\u001B[32m*\u001B[0m\u001B[32m*\u001B[0m\u001B[32m*\u001B[0m\u001B[32m*\u001B[0m\u001B[32m*\u001B[0m\u001B[32m*\u001B[0m\u001B[32m*\u001B[0m\u001B[32m*\u001B[0m\u001B[32m*\u001B[0m\u001B[32m*\u001B[0m\u001B[32m*\u001B[0m\u001B[32m*\u001B[0m\u001B[32m*\u001B[0m\u001B[32m*\u001B[0m\u001B[32m*\u001B[0m\u001B[32m*\u001B[0m\u001B[32m*\u001B[0m\u001B[32m*\u001B[0m\u001B[32m*\u001B[0m\u001B[32m*\u001B[0m\u001B[32m*\u001B[0m\u001B[32m*\u001B[0m\u001B[32m*\u001B[0m\u001B[32m*\u001B[0m\u001B[32m*\u001B[0m\u001B[32m*\u001B[0m\u001B[32m*\u001B[0m\u001B[32m*\u001B[0m\u001B[32m*\u001B[0m\u001B[32m*\u001B[0m\u001B[32m*\u001B[0m\u001B[32m*\u001B[0m\u001B[32m*\u001B[0m\u001B[32m*\u001B[0m\u001B[32m*\u001B[0m\u001B[32m*\u001B[0m\u001B[32m*\u001B[0m\n",
      "\u001B[34m** Zadanie 4 **********************************************************************************\u001B[0m\n"
     ]
    },
    {
     "data": {
      "text/plain": [
       "<IPython.core.display.Markdown object>"
      ],
      "text/markdown": "Wyznaczyć wszystkie zadane pierwiastki zespolone i zaznaczyć je na płaszczyźnie zespolonej"
     },
     "metadata": {},
     "output_type": "display_data"
    },
    {
     "data": {
      "text/plain": [
       "<IPython.core.display.Latex object>"
      ],
      "text/latex": "$$\t\t\\sqrt[\\leftroot{2}\\uproot{-4} \\displaystyle ^{4}]{\\left(\\frac{40}{7} + \\frac{8 \\sqrt{3} i}{7} \\right) \\left(-2 - \\sqrt{3} i \\right)}$$"
     },
     "metadata": {},
     "output_type": "display_data"
    },
    {
     "name": "stdout",
     "output_type": "stream",
     "text": [
      "\u001B[34m*\u001B[0m\u001B[34m*\u001B[0m\u001B[34m*\u001B[0m\u001B[34m*\u001B[0m\u001B[34m*\u001B[0m\u001B[34m*\u001B[0m\u001B[34m*\u001B[0m\u001B[34m*\u001B[0m\u001B[34m*\u001B[0m\u001B[34m*\u001B[0m\u001B[34m*\u001B[0m\u001B[34m*\u001B[0m\u001B[34m*\u001B[0m\u001B[34m*\u001B[0m\u001B[34m*\u001B[0m\u001B[34m*\u001B[0m\u001B[34m*\u001B[0m\u001B[34m*\u001B[0m\u001B[34m*\u001B[0m\u001B[34m*\u001B[0m\u001B[34m*\u001B[0m\u001B[34m*\u001B[0m\u001B[34m*\u001B[0m\u001B[34m*\u001B[0m\u001B[34m*\u001B[0m\u001B[34m*\u001B[0m\u001B[34m*\u001B[0m\u001B[34m*\u001B[0m\u001B[34m*\u001B[0m\u001B[34m*\u001B[0m\u001B[34m*\u001B[0m\u001B[34m*\u001B[0m\u001B[34m*\u001B[0m\u001B[34m*\u001B[0m\u001B[34m*\u001B[0m\u001B[34m*\u001B[0m\u001B[34m*\u001B[0m\u001B[34m*\u001B[0m\u001B[34m*\u001B[0m\u001B[34m*\u001B[0m\u001B[34m*\u001B[0m\u001B[34m*\u001B[0m\u001B[34m*\u001B[0m\u001B[34m*\u001B[0m\u001B[34m*\u001B[0m\u001B[34m*\u001B[0m\u001B[34m*\u001B[0m\u001B[34m*\u001B[0m\u001B[34m*\u001B[0m\u001B[34m*\u001B[0m\u001B[34m*\u001B[0m\u001B[34m*\u001B[0m\u001B[34m*\u001B[0m\u001B[34m*\u001B[0m\u001B[34m*\u001B[0m\u001B[34m*\u001B[0m\u001B[34m*\u001B[0m\u001B[34m*\u001B[0m\u001B[34m*\u001B[0m\u001B[34m*\u001B[0m\u001B[34m*\u001B[0m\u001B[34m*\u001B[0m\u001B[34m*\u001B[0m\u001B[34m*\u001B[0m\u001B[34m*\u001B[0m\u001B[34m*\u001B[0m\u001B[34m*\u001B[0m\u001B[34m*\u001B[0m\u001B[34m*\u001B[0m\u001B[34m*\u001B[0m\u001B[34m*\u001B[0m\u001B[34m*\u001B[0m\u001B[34m*\u001B[0m\u001B[34m*\u001B[0m\u001B[34m*\u001B[0m\u001B[34m*\u001B[0m\u001B[34m*\u001B[0m\u001B[34m*\u001B[0m\u001B[34m*\u001B[0m\u001B[34m*\u001B[0m\u001B[34m*\u001B[0m\u001B[34m*\u001B[0m\u001B[34m*\u001B[0m\u001B[34m*\u001B[0m\u001B[34m*\u001B[0m\u001B[34m*\u001B[0m\u001B[34m*\u001B[0m\u001B[34m*\u001B[0m\u001B[34m*\u001B[0m\u001B[34m*\u001B[0m\u001B[34m*\u001B[0m\u001B[34m*\u001B[0m\u001B[34m*\u001B[0m\u001B[34m*\u001B[0m\u001B[34m*\u001B[0m\n",
      "\u001B[32m** Rozwiązanie ********************************************************************************\u001B[0m\n"
     ]
    },
    {
     "data": {
      "text/plain": [
       "<IPython.core.display.Latex object>"
      ],
      "text/latex": "$$\\sqrt[\\leftroot{2}\\uproot{-4} \\displaystyle ^{4}]{-8 - 8 \\sqrt{3} i} = \\left\\{ -1 - \\sqrt{3} i, \\  1 + \\sqrt{3} i, \\  - \\sqrt{3} + i, \\  \\sqrt{3} - i\\right\\}.$$"
     },
     "metadata": {},
     "output_type": "display_data"
    },
    {
     "name": "stdout",
     "output_type": "stream",
     "text": [
      "\u001B[32m*\u001B[0m\u001B[32m*\u001B[0m\u001B[32m*\u001B[0m\u001B[32m*\u001B[0m\u001B[32m*\u001B[0m\u001B[32m*\u001B[0m\u001B[32m*\u001B[0m\u001B[32m*\u001B[0m\u001B[32m*\u001B[0m\u001B[32m*\u001B[0m\u001B[32m*\u001B[0m\u001B[32m*\u001B[0m\u001B[32m*\u001B[0m\u001B[32m*\u001B[0m\u001B[32m*\u001B[0m\u001B[32m*\u001B[0m\u001B[32m*\u001B[0m\u001B[32m*\u001B[0m\u001B[32m*\u001B[0m\u001B[32m*\u001B[0m\u001B[32m*\u001B[0m\u001B[32m*\u001B[0m\u001B[32m*\u001B[0m\u001B[32m*\u001B[0m\u001B[32m*\u001B[0m\u001B[32m*\u001B[0m\u001B[32m*\u001B[0m\u001B[32m*\u001B[0m\u001B[32m*\u001B[0m\u001B[32m*\u001B[0m\u001B[32m*\u001B[0m\u001B[32m*\u001B[0m\u001B[32m*\u001B[0m\u001B[32m*\u001B[0m\u001B[32m*\u001B[0m\u001B[32m*\u001B[0m\u001B[32m*\u001B[0m\u001B[32m*\u001B[0m\u001B[32m*\u001B[0m\u001B[32m*\u001B[0m\u001B[32m*\u001B[0m\u001B[32m*\u001B[0m\u001B[32m*\u001B[0m\u001B[32m*\u001B[0m\u001B[32m*\u001B[0m\u001B[32m*\u001B[0m\u001B[32m*\u001B[0m\u001B[32m*\u001B[0m\u001B[32m*\u001B[0m\u001B[32m*\u001B[0m\u001B[32m*\u001B[0m\u001B[32m*\u001B[0m\u001B[32m*\u001B[0m\u001B[32m*\u001B[0m\u001B[32m*\u001B[0m\u001B[32m*\u001B[0m\u001B[32m*\u001B[0m\u001B[32m*\u001B[0m\u001B[32m*\u001B[0m\u001B[32m*\u001B[0m\u001B[32m*\u001B[0m\u001B[32m*\u001B[0m\u001B[32m*\u001B[0m\u001B[32m*\u001B[0m\u001B[32m*\u001B[0m\u001B[32m*\u001B[0m\u001B[32m*\u001B[0m\u001B[32m*\u001B[0m\u001B[32m*\u001B[0m\u001B[32m*\u001B[0m\u001B[32m*\u001B[0m\u001B[32m*\u001B[0m\u001B[32m*\u001B[0m\u001B[32m*\u001B[0m\u001B[32m*\u001B[0m\u001B[32m*\u001B[0m\u001B[32m*\u001B[0m\u001B[32m*\u001B[0m\u001B[32m*\u001B[0m\u001B[32m*\u001B[0m\u001B[32m*\u001B[0m\u001B[32m*\u001B[0m\u001B[32m*\u001B[0m\u001B[32m*\u001B[0m\u001B[32m*\u001B[0m\u001B[32m*\u001B[0m\u001B[32m*\u001B[0m\u001B[32m*\u001B[0m\u001B[32m*\u001B[0m\u001B[32m*\u001B[0m\u001B[32m*\u001B[0m\u001B[32m*\u001B[0m\u001B[32m*\u001B[0m\u001B[32m*\u001B[0m\u001B[32m*\u001B[0m\n",
      "\u001B[34m** Zadanie 5 **********************************************************************************\u001B[0m\n"
     ]
    },
    {
     "data": {
      "text/plain": [
       "<IPython.core.display.Markdown object>"
      ],
      "text/markdown": "Wyznaczyć wszystkie zadane pierwiastki zespolone i zaznaczyć je na płaszczyźnie zespolonej"
     },
     "metadata": {},
     "output_type": "display_data"
    },
    {
     "data": {
      "text/plain": [
       "<IPython.core.display.Latex object>"
      ],
      "text/latex": "$$\t\t\\sqrt[\\leftroot{2}\\uproot{-4} \\displaystyle ^{3}]{\\left(1 - \\sqrt{2} i \\right) \\left(- 9 \\sqrt{2} + 9 i \\right)}$$"
     },
     "metadata": {},
     "output_type": "display_data"
    },
    {
     "name": "stdout",
     "output_type": "stream",
     "text": [
      "\u001B[34m*\u001B[0m\u001B[34m*\u001B[0m\u001B[34m*\u001B[0m\u001B[34m*\u001B[0m\u001B[34m*\u001B[0m\u001B[34m*\u001B[0m\u001B[34m*\u001B[0m\u001B[34m*\u001B[0m\u001B[34m*\u001B[0m\u001B[34m*\u001B[0m\u001B[34m*\u001B[0m\u001B[34m*\u001B[0m\u001B[34m*\u001B[0m\u001B[34m*\u001B[0m\u001B[34m*\u001B[0m\u001B[34m*\u001B[0m\u001B[34m*\u001B[0m\u001B[34m*\u001B[0m\u001B[34m*\u001B[0m\u001B[34m*\u001B[0m\u001B[34m*\u001B[0m\u001B[34m*\u001B[0m\u001B[34m*\u001B[0m\u001B[34m*\u001B[0m\u001B[34m*\u001B[0m\u001B[34m*\u001B[0m\u001B[34m*\u001B[0m\u001B[34m*\u001B[0m\u001B[34m*\u001B[0m\u001B[34m*\u001B[0m\u001B[34m*\u001B[0m\u001B[34m*\u001B[0m\u001B[34m*\u001B[0m\u001B[34m*\u001B[0m\u001B[34m*\u001B[0m\u001B[34m*\u001B[0m\u001B[34m*\u001B[0m\u001B[34m*\u001B[0m\u001B[34m*\u001B[0m\u001B[34m*\u001B[0m\u001B[34m*\u001B[0m\u001B[34m*\u001B[0m\u001B[34m*\u001B[0m\u001B[34m*\u001B[0m\u001B[34m*\u001B[0m\u001B[34m*\u001B[0m\u001B[34m*\u001B[0m\u001B[34m*\u001B[0m\u001B[34m*\u001B[0m\u001B[34m*\u001B[0m\u001B[34m*\u001B[0m\u001B[34m*\u001B[0m\u001B[34m*\u001B[0m\u001B[34m*\u001B[0m\u001B[34m*\u001B[0m\u001B[34m*\u001B[0m\u001B[34m*\u001B[0m\u001B[34m*\u001B[0m\u001B[34m*\u001B[0m\u001B[34m*\u001B[0m\u001B[34m*\u001B[0m\u001B[34m*\u001B[0m\u001B[34m*\u001B[0m\u001B[34m*\u001B[0m\u001B[34m*\u001B[0m\u001B[34m*\u001B[0m\u001B[34m*\u001B[0m\u001B[34m*\u001B[0m\u001B[34m*\u001B[0m\u001B[34m*\u001B[0m\u001B[34m*\u001B[0m\u001B[34m*\u001B[0m\u001B[34m*\u001B[0m\u001B[34m*\u001B[0m\u001B[34m*\u001B[0m\u001B[34m*\u001B[0m\u001B[34m*\u001B[0m\u001B[34m*\u001B[0m\u001B[34m*\u001B[0m\u001B[34m*\u001B[0m\u001B[34m*\u001B[0m\u001B[34m*\u001B[0m\u001B[34m*\u001B[0m\u001B[34m*\u001B[0m\u001B[34m*\u001B[0m\u001B[34m*\u001B[0m\u001B[34m*\u001B[0m\u001B[34m*\u001B[0m\u001B[34m*\u001B[0m\u001B[34m*\u001B[0m\u001B[34m*\u001B[0m\u001B[34m*\u001B[0m\u001B[34m*\u001B[0m\u001B[34m*\u001B[0m\u001B[34m*\u001B[0m\n",
      "\u001B[32m** Rozwiązanie ********************************************************************************\u001B[0m\n"
     ]
    },
    {
     "data": {
      "text/plain": [
       "<IPython.core.display.Latex object>"
      ],
      "text/latex": "$$\\sqrt[\\leftroot{2}\\uproot{-4} \\displaystyle ^{3}]{27 i} = \\left\\{ - 3 i, \\  - \\frac{3 \\sqrt{3}}{2} + \\frac{3 i}{2}, \\  \\frac{3 \\sqrt{3}}{2} + \\frac{3 i}{2}\\right\\}.$$"
     },
     "metadata": {},
     "output_type": "display_data"
    },
    {
     "name": "stdout",
     "output_type": "stream",
     "text": [
      "\u001B[32m*\u001B[0m\u001B[32m*\u001B[0m\u001B[32m*\u001B[0m\u001B[32m*\u001B[0m\u001B[32m*\u001B[0m\u001B[32m*\u001B[0m\u001B[32m*\u001B[0m\u001B[32m*\u001B[0m\u001B[32m*\u001B[0m\u001B[32m*\u001B[0m\u001B[32m*\u001B[0m\u001B[32m*\u001B[0m\u001B[32m*\u001B[0m\u001B[32m*\u001B[0m\u001B[32m*\u001B[0m\u001B[32m*\u001B[0m\u001B[32m*\u001B[0m\u001B[32m*\u001B[0m\u001B[32m*\u001B[0m\u001B[32m*\u001B[0m\u001B[32m*\u001B[0m\u001B[32m*\u001B[0m\u001B[32m*\u001B[0m\u001B[32m*\u001B[0m\u001B[32m*\u001B[0m\u001B[32m*\u001B[0m\u001B[32m*\u001B[0m\u001B[32m*\u001B[0m\u001B[32m*\u001B[0m\u001B[32m*\u001B[0m\u001B[32m*\u001B[0m\u001B[32m*\u001B[0m\u001B[32m*\u001B[0m\u001B[32m*\u001B[0m\u001B[32m*\u001B[0m\u001B[32m*\u001B[0m\u001B[32m*\u001B[0m\u001B[32m*\u001B[0m\u001B[32m*\u001B[0m\u001B[32m*\u001B[0m\u001B[32m*\u001B[0m\u001B[32m*\u001B[0m\u001B[32m*\u001B[0m\u001B[32m*\u001B[0m\u001B[32m*\u001B[0m\u001B[32m*\u001B[0m\u001B[32m*\u001B[0m\u001B[32m*\u001B[0m\u001B[32m*\u001B[0m\u001B[32m*\u001B[0m\u001B[32m*\u001B[0m\u001B[32m*\u001B[0m\u001B[32m*\u001B[0m\u001B[32m*\u001B[0m\u001B[32m*\u001B[0m\u001B[32m*\u001B[0m\u001B[32m*\u001B[0m\u001B[32m*\u001B[0m\u001B[32m*\u001B[0m\u001B[32m*\u001B[0m\u001B[32m*\u001B[0m\u001B[32m*\u001B[0m\u001B[32m*\u001B[0m\u001B[32m*\u001B[0m\u001B[32m*\u001B[0m\u001B[32m*\u001B[0m\u001B[32m*\u001B[0m\u001B[32m*\u001B[0m\u001B[32m*\u001B[0m\u001B[32m*\u001B[0m\u001B[32m*\u001B[0m\u001B[32m*\u001B[0m\u001B[32m*\u001B[0m\u001B[32m*\u001B[0m\u001B[32m*\u001B[0m\u001B[32m*\u001B[0m\u001B[32m*\u001B[0m\u001B[32m*\u001B[0m\u001B[32m*\u001B[0m\u001B[32m*\u001B[0m\u001B[32m*\u001B[0m\u001B[32m*\u001B[0m\u001B[32m*\u001B[0m\u001B[32m*\u001B[0m\u001B[32m*\u001B[0m\u001B[32m*\u001B[0m\u001B[32m*\u001B[0m\u001B[32m*\u001B[0m\u001B[32m*\u001B[0m\u001B[32m*\u001B[0m\u001B[32m*\u001B[0m\u001B[32m*\u001B[0m\u001B[32m*\u001B[0m\u001B[32m*\u001B[0m\u001B[32m*\u001B[0m\n",
      "\u001B[34m** Zadanie 6 **********************************************************************************\u001B[0m\n"
     ]
    },
    {
     "data": {
      "text/plain": [
       "<IPython.core.display.Markdown object>"
      ],
      "text/markdown": "Wyznaczyć wszystkie zadane pierwiastki zespolone i zaznaczyć je na płaszczyźnie zespolonej"
     },
     "metadata": {},
     "output_type": "display_data"
    },
    {
     "data": {
      "text/plain": [
       "<IPython.core.display.Latex object>"
      ],
      "text/latex": "$$\t\t\\sqrt[\\leftroot{2}\\uproot{-4} \\displaystyle ^{3}]{\\left(- \\frac{27 \\sqrt{3}}{256} + \\frac{27 i}{256} \\right) \\left(-1 + \\sqrt{3} i \\right)}$$"
     },
     "metadata": {},
     "output_type": "display_data"
    },
    {
     "name": "stdout",
     "output_type": "stream",
     "text": [
      "\u001B[34m*\u001B[0m\u001B[34m*\u001B[0m\u001B[34m*\u001B[0m\u001B[34m*\u001B[0m\u001B[34m*\u001B[0m\u001B[34m*\u001B[0m\u001B[34m*\u001B[0m\u001B[34m*\u001B[0m\u001B[34m*\u001B[0m\u001B[34m*\u001B[0m\u001B[34m*\u001B[0m\u001B[34m*\u001B[0m\u001B[34m*\u001B[0m\u001B[34m*\u001B[0m\u001B[34m*\u001B[0m\u001B[34m*\u001B[0m\u001B[34m*\u001B[0m\u001B[34m*\u001B[0m\u001B[34m*\u001B[0m\u001B[34m*\u001B[0m\u001B[34m*\u001B[0m\u001B[34m*\u001B[0m\u001B[34m*\u001B[0m\u001B[34m*\u001B[0m\u001B[34m*\u001B[0m\u001B[34m*\u001B[0m\u001B[34m*\u001B[0m\u001B[34m*\u001B[0m\u001B[34m*\u001B[0m\u001B[34m*\u001B[0m\u001B[34m*\u001B[0m\u001B[34m*\u001B[0m\u001B[34m*\u001B[0m\u001B[34m*\u001B[0m\u001B[34m*\u001B[0m\u001B[34m*\u001B[0m\u001B[34m*\u001B[0m\u001B[34m*\u001B[0m\u001B[34m*\u001B[0m\u001B[34m*\u001B[0m\u001B[34m*\u001B[0m\u001B[34m*\u001B[0m\u001B[34m*\u001B[0m\u001B[34m*\u001B[0m\u001B[34m*\u001B[0m\u001B[34m*\u001B[0m\u001B[34m*\u001B[0m\u001B[34m*\u001B[0m\u001B[34m*\u001B[0m\u001B[34m*\u001B[0m\u001B[34m*\u001B[0m\u001B[34m*\u001B[0m\u001B[34m*\u001B[0m\u001B[34m*\u001B[0m\u001B[34m*\u001B[0m\u001B[34m*\u001B[0m\u001B[34m*\u001B[0m\u001B[34m*\u001B[0m\u001B[34m*\u001B[0m\u001B[34m*\u001B[0m\u001B[34m*\u001B[0m\u001B[34m*\u001B[0m\u001B[34m*\u001B[0m\u001B[34m*\u001B[0m\u001B[34m*\u001B[0m\u001B[34m*\u001B[0m\u001B[34m*\u001B[0m\u001B[34m*\u001B[0m\u001B[34m*\u001B[0m\u001B[34m*\u001B[0m\u001B[34m*\u001B[0m\u001B[34m*\u001B[0m\u001B[34m*\u001B[0m\u001B[34m*\u001B[0m\u001B[34m*\u001B[0m\u001B[34m*\u001B[0m\u001B[34m*\u001B[0m\u001B[34m*\u001B[0m\u001B[34m*\u001B[0m\u001B[34m*\u001B[0m\u001B[34m*\u001B[0m\u001B[34m*\u001B[0m\u001B[34m*\u001B[0m\u001B[34m*\u001B[0m\u001B[34m*\u001B[0m\u001B[34m*\u001B[0m\u001B[34m*\u001B[0m\u001B[34m*\u001B[0m\u001B[34m*\u001B[0m\u001B[34m*\u001B[0m\u001B[34m*\u001B[0m\u001B[34m*\u001B[0m\u001B[34m*\u001B[0m\u001B[34m*\u001B[0m\u001B[34m*\u001B[0m\n",
      "\u001B[32m** Rozwiązanie ********************************************************************************\u001B[0m\n"
     ]
    },
    {
     "data": {
      "text/plain": [
       "<IPython.core.display.Latex object>"
      ],
      "text/latex": "$$\\sqrt[\\leftroot{2}\\uproot{-4} \\displaystyle ^{3}]{- \\frac{27 i}{64}} = \\left\\{ \\frac{3 i}{4}, \\  - \\frac{3 \\sqrt{3}}{8} - \\frac{3 i}{8}, \\  \\frac{3 \\sqrt{3}}{8} - \\frac{3 i}{8}\\right\\}.$$"
     },
     "metadata": {},
     "output_type": "display_data"
    },
    {
     "name": "stdout",
     "output_type": "stream",
     "text": [
      "\u001B[32m*\u001B[0m\u001B[32m*\u001B[0m\u001B[32m*\u001B[0m\u001B[32m*\u001B[0m\u001B[32m*\u001B[0m\u001B[32m*\u001B[0m\u001B[32m*\u001B[0m\u001B[32m*\u001B[0m\u001B[32m*\u001B[0m\u001B[32m*\u001B[0m\u001B[32m*\u001B[0m\u001B[32m*\u001B[0m\u001B[32m*\u001B[0m\u001B[32m*\u001B[0m\u001B[32m*\u001B[0m\u001B[32m*\u001B[0m\u001B[32m*\u001B[0m\u001B[32m*\u001B[0m\u001B[32m*\u001B[0m\u001B[32m*\u001B[0m\u001B[32m*\u001B[0m\u001B[32m*\u001B[0m\u001B[32m*\u001B[0m\u001B[32m*\u001B[0m\u001B[32m*\u001B[0m\u001B[32m*\u001B[0m\u001B[32m*\u001B[0m\u001B[32m*\u001B[0m\u001B[32m*\u001B[0m\u001B[32m*\u001B[0m\u001B[32m*\u001B[0m\u001B[32m*\u001B[0m\u001B[32m*\u001B[0m\u001B[32m*\u001B[0m\u001B[32m*\u001B[0m\u001B[32m*\u001B[0m\u001B[32m*\u001B[0m\u001B[32m*\u001B[0m\u001B[32m*\u001B[0m\u001B[32m*\u001B[0m\u001B[32m*\u001B[0m\u001B[32m*\u001B[0m\u001B[32m*\u001B[0m\u001B[32m*\u001B[0m\u001B[32m*\u001B[0m\u001B[32m*\u001B[0m\u001B[32m*\u001B[0m\u001B[32m*\u001B[0m\u001B[32m*\u001B[0m\u001B[32m*\u001B[0m\u001B[32m*\u001B[0m\u001B[32m*\u001B[0m\u001B[32m*\u001B[0m\u001B[32m*\u001B[0m\u001B[32m*\u001B[0m\u001B[32m*\u001B[0m\u001B[32m*\u001B[0m\u001B[32m*\u001B[0m\u001B[32m*\u001B[0m\u001B[32m*\u001B[0m\u001B[32m*\u001B[0m\u001B[32m*\u001B[0m\u001B[32m*\u001B[0m\u001B[32m*\u001B[0m\u001B[32m*\u001B[0m\u001B[32m*\u001B[0m\u001B[32m*\u001B[0m\u001B[32m*\u001B[0m\u001B[32m*\u001B[0m\u001B[32m*\u001B[0m\u001B[32m*\u001B[0m\u001B[32m*\u001B[0m\u001B[32m*\u001B[0m\u001B[32m*\u001B[0m\u001B[32m*\u001B[0m\u001B[32m*\u001B[0m\u001B[32m*\u001B[0m\u001B[32m*\u001B[0m\u001B[32m*\u001B[0m\u001B[32m*\u001B[0m\u001B[32m*\u001B[0m\u001B[32m*\u001B[0m\u001B[32m*\u001B[0m\u001B[32m*\u001B[0m\u001B[32m*\u001B[0m\u001B[32m*\u001B[0m\u001B[32m*\u001B[0m\u001B[32m*\u001B[0m\u001B[32m*\u001B[0m\u001B[32m*\u001B[0m\u001B[32m*\u001B[0m\u001B[32m*\u001B[0m\u001B[32m*\u001B[0m\u001B[32m*\u001B[0m\u001B[32m*\u001B[0m\n",
      "\u001B[34m** Zadanie 7 **********************************************************************************\u001B[0m\n"
     ]
    },
    {
     "data": {
      "text/plain": [
       "<IPython.core.display.Markdown object>"
      ],
      "text/markdown": "Wyznaczyć wszystkie zadane pierwiastki zespolone i zaznaczyć je na płaszczyźnie zespolonej"
     },
     "metadata": {},
     "output_type": "display_data"
    },
    {
     "data": {
      "text/plain": [
       "<IPython.core.display.Latex object>"
      ],
      "text/latex": "$$\t\t\\sqrt[\\leftroot{2}\\uproot{-4} \\displaystyle ^{4}]{\\left(- \\frac{8}{3} + \\frac{4 \\sqrt{6}}{3} + i \\left(- \\frac{8 \\sqrt{3}}{3} - \\frac{4 \\sqrt{2}}{3}\\right) \\right) \\left(2 - \\sqrt{2} i \\right)}$$"
     },
     "metadata": {},
     "output_type": "display_data"
    },
    {
     "name": "stdout",
     "output_type": "stream",
     "text": [
      "\u001B[34m*\u001B[0m\u001B[34m*\u001B[0m\u001B[34m*\u001B[0m\u001B[34m*\u001B[0m\u001B[34m*\u001B[0m\u001B[34m*\u001B[0m\u001B[34m*\u001B[0m\u001B[34m*\u001B[0m\u001B[34m*\u001B[0m\u001B[34m*\u001B[0m\u001B[34m*\u001B[0m\u001B[34m*\u001B[0m\u001B[34m*\u001B[0m\u001B[34m*\u001B[0m\u001B[34m*\u001B[0m\u001B[34m*\u001B[0m\u001B[34m*\u001B[0m\u001B[34m*\u001B[0m\u001B[34m*\u001B[0m\u001B[34m*\u001B[0m\u001B[34m*\u001B[0m\u001B[34m*\u001B[0m\u001B[34m*\u001B[0m\u001B[34m*\u001B[0m\u001B[34m*\u001B[0m\u001B[34m*\u001B[0m\u001B[34m*\u001B[0m\u001B[34m*\u001B[0m\u001B[34m*\u001B[0m\u001B[34m*\u001B[0m\u001B[34m*\u001B[0m\u001B[34m*\u001B[0m\u001B[34m*\u001B[0m\u001B[34m*\u001B[0m\u001B[34m*\u001B[0m\u001B[34m*\u001B[0m\u001B[34m*\u001B[0m\u001B[34m*\u001B[0m\u001B[34m*\u001B[0m\u001B[34m*\u001B[0m\u001B[34m*\u001B[0m\u001B[34m*\u001B[0m\u001B[34m*\u001B[0m\u001B[34m*\u001B[0m\u001B[34m*\u001B[0m\u001B[34m*\u001B[0m\u001B[34m*\u001B[0m\u001B[34m*\u001B[0m\u001B[34m*\u001B[0m\u001B[34m*\u001B[0m\u001B[34m*\u001B[0m\u001B[34m*\u001B[0m\u001B[34m*\u001B[0m\u001B[34m*\u001B[0m\u001B[34m*\u001B[0m\u001B[34m*\u001B[0m\u001B[34m*\u001B[0m\u001B[34m*\u001B[0m\u001B[34m*\u001B[0m\u001B[34m*\u001B[0m\u001B[34m*\u001B[0m\u001B[34m*\u001B[0m\u001B[34m*\u001B[0m\u001B[34m*\u001B[0m\u001B[34m*\u001B[0m\u001B[34m*\u001B[0m\u001B[34m*\u001B[0m\u001B[34m*\u001B[0m\u001B[34m*\u001B[0m\u001B[34m*\u001B[0m\u001B[34m*\u001B[0m\u001B[34m*\u001B[0m\u001B[34m*\u001B[0m\u001B[34m*\u001B[0m\u001B[34m*\u001B[0m\u001B[34m*\u001B[0m\u001B[34m*\u001B[0m\u001B[34m*\u001B[0m\u001B[34m*\u001B[0m\u001B[34m*\u001B[0m\u001B[34m*\u001B[0m\u001B[34m*\u001B[0m\u001B[34m*\u001B[0m\u001B[34m*\u001B[0m\u001B[34m*\u001B[0m\u001B[34m*\u001B[0m\u001B[34m*\u001B[0m\u001B[34m*\u001B[0m\u001B[34m*\u001B[0m\u001B[34m*\u001B[0m\u001B[34m*\u001B[0m\u001B[34m*\u001B[0m\u001B[34m*\u001B[0m\u001B[34m*\u001B[0m\u001B[34m*\u001B[0m\n",
      "\u001B[32m** Rozwiązanie ********************************************************************************\u001B[0m\n"
     ]
    },
    {
     "data": {
      "text/plain": [
       "<IPython.core.display.Latex object>"
      ],
      "text/latex": "$$\\sqrt[\\leftroot{2}\\uproot{-4} \\displaystyle ^{4}]{-8 - 8 \\sqrt{3} i} = \\left\\{ -1 - \\sqrt{3} i, \\  1 + \\sqrt{3} i, \\  - \\sqrt{3} + i, \\  \\sqrt{3} - i\\right\\}.$$"
     },
     "metadata": {},
     "output_type": "display_data"
    },
    {
     "name": "stdout",
     "output_type": "stream",
     "text": [
      "\u001B[32m*\u001B[0m\u001B[32m*\u001B[0m\u001B[32m*\u001B[0m\u001B[32m*\u001B[0m\u001B[32m*\u001B[0m\u001B[32m*\u001B[0m\u001B[32m*\u001B[0m\u001B[32m*\u001B[0m\u001B[32m*\u001B[0m\u001B[32m*\u001B[0m\u001B[32m*\u001B[0m\u001B[32m*\u001B[0m\u001B[32m*\u001B[0m\u001B[32m*\u001B[0m\u001B[32m*\u001B[0m\u001B[32m*\u001B[0m\u001B[32m*\u001B[0m\u001B[32m*\u001B[0m\u001B[32m*\u001B[0m\u001B[32m*\u001B[0m\u001B[32m*\u001B[0m\u001B[32m*\u001B[0m\u001B[32m*\u001B[0m\u001B[32m*\u001B[0m\u001B[32m*\u001B[0m\u001B[32m*\u001B[0m\u001B[32m*\u001B[0m\u001B[32m*\u001B[0m\u001B[32m*\u001B[0m\u001B[32m*\u001B[0m\u001B[32m*\u001B[0m\u001B[32m*\u001B[0m\u001B[32m*\u001B[0m\u001B[32m*\u001B[0m\u001B[32m*\u001B[0m\u001B[32m*\u001B[0m\u001B[32m*\u001B[0m\u001B[32m*\u001B[0m\u001B[32m*\u001B[0m\u001B[32m*\u001B[0m\u001B[32m*\u001B[0m\u001B[32m*\u001B[0m\u001B[32m*\u001B[0m\u001B[32m*\u001B[0m\u001B[32m*\u001B[0m\u001B[32m*\u001B[0m\u001B[32m*\u001B[0m\u001B[32m*\u001B[0m\u001B[32m*\u001B[0m\u001B[32m*\u001B[0m\u001B[32m*\u001B[0m\u001B[32m*\u001B[0m\u001B[32m*\u001B[0m\u001B[32m*\u001B[0m\u001B[32m*\u001B[0m\u001B[32m*\u001B[0m\u001B[32m*\u001B[0m\u001B[32m*\u001B[0m\u001B[32m*\u001B[0m\u001B[32m*\u001B[0m\u001B[32m*\u001B[0m\u001B[32m*\u001B[0m\u001B[32m*\u001B[0m\u001B[32m*\u001B[0m\u001B[32m*\u001B[0m\u001B[32m*\u001B[0m\u001B[32m*\u001B[0m\u001B[32m*\u001B[0m\u001B[32m*\u001B[0m\u001B[32m*\u001B[0m\u001B[32m*\u001B[0m\u001B[32m*\u001B[0m\u001B[32m*\u001B[0m\u001B[32m*\u001B[0m\u001B[32m*\u001B[0m\u001B[32m*\u001B[0m\u001B[32m*\u001B[0m\u001B[32m*\u001B[0m\u001B[32m*\u001B[0m\u001B[32m*\u001B[0m\u001B[32m*\u001B[0m\u001B[32m*\u001B[0m\u001B[32m*\u001B[0m\u001B[32m*\u001B[0m\u001B[32m*\u001B[0m\u001B[32m*\u001B[0m\u001B[32m*\u001B[0m\u001B[32m*\u001B[0m\u001B[32m*\u001B[0m\u001B[32m*\u001B[0m\u001B[32m*\u001B[0m\u001B[32m*\u001B[0m\u001B[32m*\u001B[0m\u001B[32m*\u001B[0m\u001B[32m*\u001B[0m\n",
      "\u001B[34m** Zadanie 8 **********************************************************************************\u001B[0m\n"
     ]
    },
    {
     "data": {
      "text/plain": [
       "<IPython.core.display.Markdown object>"
      ],
      "text/markdown": "Wyznaczyć wszystkie zadane pierwiastki zespolone i zaznaczyć je na płaszczyźnie zespolonej"
     },
     "metadata": {},
     "output_type": "display_data"
    },
    {
     "data": {
      "text/plain": [
       "<IPython.core.display.Latex object>"
      ],
      "text/latex": "$$\t\t\\sqrt[\\leftroot{2}\\uproot{-4} \\displaystyle ^{4}]{\\left(-2 + 2 \\sqrt{2} i \\right) \\left(\\frac{2}{3} + \\frac{2 \\sqrt{2} i}{3} \\right)}$$"
     },
     "metadata": {},
     "output_type": "display_data"
    },
    {
     "name": "stdout",
     "output_type": "stream",
     "text": [
      "\u001B[34m*\u001B[0m\u001B[34m*\u001B[0m\u001B[34m*\u001B[0m\u001B[34m*\u001B[0m\u001B[34m*\u001B[0m\u001B[34m*\u001B[0m\u001B[34m*\u001B[0m\u001B[34m*\u001B[0m\u001B[34m*\u001B[0m\u001B[34m*\u001B[0m\u001B[34m*\u001B[0m\u001B[34m*\u001B[0m\u001B[34m*\u001B[0m\u001B[34m*\u001B[0m\u001B[34m*\u001B[0m\u001B[34m*\u001B[0m\u001B[34m*\u001B[0m\u001B[34m*\u001B[0m\u001B[34m*\u001B[0m\u001B[34m*\u001B[0m\u001B[34m*\u001B[0m\u001B[34m*\u001B[0m\u001B[34m*\u001B[0m\u001B[34m*\u001B[0m\u001B[34m*\u001B[0m\u001B[34m*\u001B[0m\u001B[34m*\u001B[0m\u001B[34m*\u001B[0m\u001B[34m*\u001B[0m\u001B[34m*\u001B[0m\u001B[34m*\u001B[0m\u001B[34m*\u001B[0m\u001B[34m*\u001B[0m\u001B[34m*\u001B[0m\u001B[34m*\u001B[0m\u001B[34m*\u001B[0m\u001B[34m*\u001B[0m\u001B[34m*\u001B[0m\u001B[34m*\u001B[0m\u001B[34m*\u001B[0m\u001B[34m*\u001B[0m\u001B[34m*\u001B[0m\u001B[34m*\u001B[0m\u001B[34m*\u001B[0m\u001B[34m*\u001B[0m\u001B[34m*\u001B[0m\u001B[34m*\u001B[0m\u001B[34m*\u001B[0m\u001B[34m*\u001B[0m\u001B[34m*\u001B[0m\u001B[34m*\u001B[0m\u001B[34m*\u001B[0m\u001B[34m*\u001B[0m\u001B[34m*\u001B[0m\u001B[34m*\u001B[0m\u001B[34m*\u001B[0m\u001B[34m*\u001B[0m\u001B[34m*\u001B[0m\u001B[34m*\u001B[0m\u001B[34m*\u001B[0m\u001B[34m*\u001B[0m\u001B[34m*\u001B[0m\u001B[34m*\u001B[0m\u001B[34m*\u001B[0m\u001B[34m*\u001B[0m\u001B[34m*\u001B[0m\u001B[34m*\u001B[0m\u001B[34m*\u001B[0m\u001B[34m*\u001B[0m\u001B[34m*\u001B[0m\u001B[34m*\u001B[0m\u001B[34m*\u001B[0m\u001B[34m*\u001B[0m\u001B[34m*\u001B[0m\u001B[34m*\u001B[0m\u001B[34m*\u001B[0m\u001B[34m*\u001B[0m\u001B[34m*\u001B[0m\u001B[34m*\u001B[0m\u001B[34m*\u001B[0m\u001B[34m*\u001B[0m\u001B[34m*\u001B[0m\u001B[34m*\u001B[0m\u001B[34m*\u001B[0m\u001B[34m*\u001B[0m\u001B[34m*\u001B[0m\u001B[34m*\u001B[0m\u001B[34m*\u001B[0m\u001B[34m*\u001B[0m\u001B[34m*\u001B[0m\u001B[34m*\u001B[0m\u001B[34m*\u001B[0m\u001B[34m*\u001B[0m\u001B[34m*\u001B[0m\u001B[34m*\u001B[0m\n",
      "\u001B[32m** Rozwiązanie ********************************************************************************\u001B[0m\n"
     ]
    },
    {
     "data": {
      "text/plain": [
       "<IPython.core.display.Latex object>"
      ],
      "text/latex": "$$\\sqrt[\\leftroot{2}\\uproot{-4} \\displaystyle ^{4}]{-4} = \\left\\{ -1 - i, \\  -1 + i, \\  1 - i, \\  1 + i\\right\\}.$$"
     },
     "metadata": {},
     "output_type": "display_data"
    },
    {
     "name": "stdout",
     "output_type": "stream",
     "text": [
      "\u001B[32m*\u001B[0m\u001B[32m*\u001B[0m\u001B[32m*\u001B[0m\u001B[32m*\u001B[0m\u001B[32m*\u001B[0m\u001B[32m*\u001B[0m\u001B[32m*\u001B[0m\u001B[32m*\u001B[0m\u001B[32m*\u001B[0m\u001B[32m*\u001B[0m\u001B[32m*\u001B[0m\u001B[32m*\u001B[0m\u001B[32m*\u001B[0m\u001B[32m*\u001B[0m\u001B[32m*\u001B[0m\u001B[32m*\u001B[0m\u001B[32m*\u001B[0m\u001B[32m*\u001B[0m\u001B[32m*\u001B[0m\u001B[32m*\u001B[0m\u001B[32m*\u001B[0m\u001B[32m*\u001B[0m\u001B[32m*\u001B[0m\u001B[32m*\u001B[0m\u001B[32m*\u001B[0m\u001B[32m*\u001B[0m\u001B[32m*\u001B[0m\u001B[32m*\u001B[0m\u001B[32m*\u001B[0m\u001B[32m*\u001B[0m\u001B[32m*\u001B[0m\u001B[32m*\u001B[0m\u001B[32m*\u001B[0m\u001B[32m*\u001B[0m\u001B[32m*\u001B[0m\u001B[32m*\u001B[0m\u001B[32m*\u001B[0m\u001B[32m*\u001B[0m\u001B[32m*\u001B[0m\u001B[32m*\u001B[0m\u001B[32m*\u001B[0m\u001B[32m*\u001B[0m\u001B[32m*\u001B[0m\u001B[32m*\u001B[0m\u001B[32m*\u001B[0m\u001B[32m*\u001B[0m\u001B[32m*\u001B[0m\u001B[32m*\u001B[0m\u001B[32m*\u001B[0m\u001B[32m*\u001B[0m\u001B[32m*\u001B[0m\u001B[32m*\u001B[0m\u001B[32m*\u001B[0m\u001B[32m*\u001B[0m\u001B[32m*\u001B[0m\u001B[32m*\u001B[0m\u001B[32m*\u001B[0m\u001B[32m*\u001B[0m\u001B[32m*\u001B[0m\u001B[32m*\u001B[0m\u001B[32m*\u001B[0m\u001B[32m*\u001B[0m\u001B[32m*\u001B[0m\u001B[32m*\u001B[0m\u001B[32m*\u001B[0m\u001B[32m*\u001B[0m\u001B[32m*\u001B[0m\u001B[32m*\u001B[0m\u001B[32m*\u001B[0m\u001B[32m*\u001B[0m\u001B[32m*\u001B[0m\u001B[32m*\u001B[0m\u001B[32m*\u001B[0m\u001B[32m*\u001B[0m\u001B[32m*\u001B[0m\u001B[32m*\u001B[0m\u001B[32m*\u001B[0m\u001B[32m*\u001B[0m\u001B[32m*\u001B[0m\u001B[32m*\u001B[0m\u001B[32m*\u001B[0m\u001B[32m*\u001B[0m\u001B[32m*\u001B[0m\u001B[32m*\u001B[0m\u001B[32m*\u001B[0m\u001B[32m*\u001B[0m\u001B[32m*\u001B[0m\u001B[32m*\u001B[0m\u001B[32m*\u001B[0m\u001B[32m*\u001B[0m\u001B[32m*\u001B[0m\u001B[32m*\u001B[0m\u001B[32m*\u001B[0m\u001B[32m*\u001B[0m\u001B[32m*\u001B[0m\n",
      "\u001B[34m** Zadanie 9 **********************************************************************************\u001B[0m\n"
     ]
    },
    {
     "data": {
      "text/plain": [
       "<IPython.core.display.Markdown object>"
      ],
      "text/markdown": "Wyznaczyć wszystkie zadane pierwiastki zespolone i zaznaczyć je na płaszczyźnie zespolonej"
     },
     "metadata": {},
     "output_type": "display_data"
    },
    {
     "data": {
      "text/plain": [
       "<IPython.core.display.Latex object>"
      ],
      "text/latex": "$$\t\t\\sqrt[\\leftroot{2}\\uproot{-4} \\displaystyle ^{4}]{\\left(-1 + \\sqrt{3} i \\right) \\left(-4 + 4 \\sqrt{3} i \\right)}$$"
     },
     "metadata": {},
     "output_type": "display_data"
    },
    {
     "name": "stdout",
     "output_type": "stream",
     "text": [
      "\u001B[34m*\u001B[0m\u001B[34m*\u001B[0m\u001B[34m*\u001B[0m\u001B[34m*\u001B[0m\u001B[34m*\u001B[0m\u001B[34m*\u001B[0m\u001B[34m*\u001B[0m\u001B[34m*\u001B[0m\u001B[34m*\u001B[0m\u001B[34m*\u001B[0m\u001B[34m*\u001B[0m\u001B[34m*\u001B[0m\u001B[34m*\u001B[0m\u001B[34m*\u001B[0m\u001B[34m*\u001B[0m\u001B[34m*\u001B[0m\u001B[34m*\u001B[0m\u001B[34m*\u001B[0m\u001B[34m*\u001B[0m\u001B[34m*\u001B[0m\u001B[34m*\u001B[0m\u001B[34m*\u001B[0m\u001B[34m*\u001B[0m\u001B[34m*\u001B[0m\u001B[34m*\u001B[0m\u001B[34m*\u001B[0m\u001B[34m*\u001B[0m\u001B[34m*\u001B[0m\u001B[34m*\u001B[0m\u001B[34m*\u001B[0m\u001B[34m*\u001B[0m\u001B[34m*\u001B[0m\u001B[34m*\u001B[0m\u001B[34m*\u001B[0m\u001B[34m*\u001B[0m\u001B[34m*\u001B[0m\u001B[34m*\u001B[0m\u001B[34m*\u001B[0m\u001B[34m*\u001B[0m\u001B[34m*\u001B[0m\u001B[34m*\u001B[0m\u001B[34m*\u001B[0m\u001B[34m*\u001B[0m\u001B[34m*\u001B[0m\u001B[34m*\u001B[0m\u001B[34m*\u001B[0m\u001B[34m*\u001B[0m\u001B[34m*\u001B[0m\u001B[34m*\u001B[0m\u001B[34m*\u001B[0m\u001B[34m*\u001B[0m\u001B[34m*\u001B[0m\u001B[34m*\u001B[0m\u001B[34m*\u001B[0m\u001B[34m*\u001B[0m\u001B[34m*\u001B[0m\u001B[34m*\u001B[0m\u001B[34m*\u001B[0m\u001B[34m*\u001B[0m\u001B[34m*\u001B[0m\u001B[34m*\u001B[0m\u001B[34m*\u001B[0m\u001B[34m*\u001B[0m\u001B[34m*\u001B[0m\u001B[34m*\u001B[0m\u001B[34m*\u001B[0m\u001B[34m*\u001B[0m\u001B[34m*\u001B[0m\u001B[34m*\u001B[0m\u001B[34m*\u001B[0m\u001B[34m*\u001B[0m\u001B[34m*\u001B[0m\u001B[34m*\u001B[0m\u001B[34m*\u001B[0m\u001B[34m*\u001B[0m\u001B[34m*\u001B[0m\u001B[34m*\u001B[0m\u001B[34m*\u001B[0m\u001B[34m*\u001B[0m\u001B[34m*\u001B[0m\u001B[34m*\u001B[0m\u001B[34m*\u001B[0m\u001B[34m*\u001B[0m\u001B[34m*\u001B[0m\u001B[34m*\u001B[0m\u001B[34m*\u001B[0m\u001B[34m*\u001B[0m\u001B[34m*\u001B[0m\u001B[34m*\u001B[0m\u001B[34m*\u001B[0m\u001B[34m*\u001B[0m\u001B[34m*\u001B[0m\u001B[34m*\u001B[0m\u001B[34m*\u001B[0m\u001B[34m*\u001B[0m\n",
      "\u001B[32m** Rozwiązanie ********************************************************************************\u001B[0m\n"
     ]
    },
    {
     "data": {
      "text/plain": [
       "<IPython.core.display.Latex object>"
      ],
      "text/latex": "$$\\sqrt[\\leftroot{2}\\uproot{-4} \\displaystyle ^{4}]{-8 - 8 \\sqrt{3} i} = \\left\\{ -1 - \\sqrt{3} i, \\  1 + \\sqrt{3} i, \\  - \\sqrt{3} + i, \\  \\sqrt{3} - i\\right\\}.$$"
     },
     "metadata": {},
     "output_type": "display_data"
    },
    {
     "name": "stdout",
     "output_type": "stream",
     "text": [
      "\u001B[32m*\u001B[0m\u001B[32m*\u001B[0m\u001B[32m*\u001B[0m\u001B[32m*\u001B[0m\u001B[32m*\u001B[0m\u001B[32m*\u001B[0m\u001B[32m*\u001B[0m\u001B[32m*\u001B[0m\u001B[32m*\u001B[0m\u001B[32m*\u001B[0m\u001B[32m*\u001B[0m\u001B[32m*\u001B[0m\u001B[32m*\u001B[0m\u001B[32m*\u001B[0m\u001B[32m*\u001B[0m\u001B[32m*\u001B[0m\u001B[32m*\u001B[0m\u001B[32m*\u001B[0m\u001B[32m*\u001B[0m\u001B[32m*\u001B[0m\u001B[32m*\u001B[0m\u001B[32m*\u001B[0m\u001B[32m*\u001B[0m\u001B[32m*\u001B[0m\u001B[32m*\u001B[0m\u001B[32m*\u001B[0m\u001B[32m*\u001B[0m\u001B[32m*\u001B[0m\u001B[32m*\u001B[0m\u001B[32m*\u001B[0m\u001B[32m*\u001B[0m\u001B[32m*\u001B[0m\u001B[32m*\u001B[0m\u001B[32m*\u001B[0m\u001B[32m*\u001B[0m\u001B[32m*\u001B[0m\u001B[32m*\u001B[0m\u001B[32m*\u001B[0m\u001B[32m*\u001B[0m\u001B[32m*\u001B[0m\u001B[32m*\u001B[0m\u001B[32m*\u001B[0m\u001B[32m*\u001B[0m\u001B[32m*\u001B[0m\u001B[32m*\u001B[0m\u001B[32m*\u001B[0m\u001B[32m*\u001B[0m\u001B[32m*\u001B[0m\u001B[32m*\u001B[0m\u001B[32m*\u001B[0m\u001B[32m*\u001B[0m\u001B[32m*\u001B[0m\u001B[32m*\u001B[0m\u001B[32m*\u001B[0m\u001B[32m*\u001B[0m\u001B[32m*\u001B[0m\u001B[32m*\u001B[0m\u001B[32m*\u001B[0m\u001B[32m*\u001B[0m\u001B[32m*\u001B[0m\u001B[32m*\u001B[0m\u001B[32m*\u001B[0m\u001B[32m*\u001B[0m\u001B[32m*\u001B[0m\u001B[32m*\u001B[0m\u001B[32m*\u001B[0m\u001B[32m*\u001B[0m\u001B[32m*\u001B[0m\u001B[32m*\u001B[0m\u001B[32m*\u001B[0m\u001B[32m*\u001B[0m\u001B[32m*\u001B[0m\u001B[32m*\u001B[0m\u001B[32m*\u001B[0m\u001B[32m*\u001B[0m\u001B[32m*\u001B[0m\u001B[32m*\u001B[0m\u001B[32m*\u001B[0m\u001B[32m*\u001B[0m\u001B[32m*\u001B[0m\u001B[32m*\u001B[0m\u001B[32m*\u001B[0m\u001B[32m*\u001B[0m\u001B[32m*\u001B[0m\u001B[32m*\u001B[0m\u001B[32m*\u001B[0m\u001B[32m*\u001B[0m\u001B[32m*\u001B[0m\u001B[32m*\u001B[0m\u001B[32m*\u001B[0m\u001B[32m*\u001B[0m\u001B[32m*\u001B[0m\u001B[32m*\u001B[0m\u001B[32m*\u001B[0m\u001B[32m*\u001B[0m\n",
      "\u001B[34m** Zadanie 10 **********************************************************************************\u001B[0m\n"
     ]
    },
    {
     "data": {
      "text/plain": [
       "<IPython.core.display.Markdown object>"
      ],
      "text/markdown": "Wyznaczyć wszystkie zadane pierwiastki zespolone i zaznaczyć je na płaszczyźnie zespolonej"
     },
     "metadata": {},
     "output_type": "display_data"
    },
    {
     "data": {
      "text/plain": [
       "<IPython.core.display.Latex object>"
      ],
      "text/latex": "$$\t\t\\sqrt[\\leftroot{2}\\uproot{-4} \\displaystyle ^{4}]{\\left(- \\frac{2}{3} - \\frac{2 \\sqrt{5} i}{3} \\right) \\left(1 - \\sqrt{5} i \\right)}$$"
     },
     "metadata": {},
     "output_type": "display_data"
    },
    {
     "name": "stdout",
     "output_type": "stream",
     "text": [
      "\u001B[34m*\u001B[0m\u001B[34m*\u001B[0m\u001B[34m*\u001B[0m\u001B[34m*\u001B[0m\u001B[34m*\u001B[0m\u001B[34m*\u001B[0m\u001B[34m*\u001B[0m\u001B[34m*\u001B[0m\u001B[34m*\u001B[0m\u001B[34m*\u001B[0m\u001B[34m*\u001B[0m\u001B[34m*\u001B[0m\u001B[34m*\u001B[0m\u001B[34m*\u001B[0m\u001B[34m*\u001B[0m\u001B[34m*\u001B[0m\u001B[34m*\u001B[0m\u001B[34m*\u001B[0m\u001B[34m*\u001B[0m\u001B[34m*\u001B[0m\u001B[34m*\u001B[0m\u001B[34m*\u001B[0m\u001B[34m*\u001B[0m\u001B[34m*\u001B[0m\u001B[34m*\u001B[0m\u001B[34m*\u001B[0m\u001B[34m*\u001B[0m\u001B[34m*\u001B[0m\u001B[34m*\u001B[0m\u001B[34m*\u001B[0m\u001B[34m*\u001B[0m\u001B[34m*\u001B[0m\u001B[34m*\u001B[0m\u001B[34m*\u001B[0m\u001B[34m*\u001B[0m\u001B[34m*\u001B[0m\u001B[34m*\u001B[0m\u001B[34m*\u001B[0m\u001B[34m*\u001B[0m\u001B[34m*\u001B[0m\u001B[34m*\u001B[0m\u001B[34m*\u001B[0m\u001B[34m*\u001B[0m\u001B[34m*\u001B[0m\u001B[34m*\u001B[0m\u001B[34m*\u001B[0m\u001B[34m*\u001B[0m\u001B[34m*\u001B[0m\u001B[34m*\u001B[0m\u001B[34m*\u001B[0m\u001B[34m*\u001B[0m\u001B[34m*\u001B[0m\u001B[34m*\u001B[0m\u001B[34m*\u001B[0m\u001B[34m*\u001B[0m\u001B[34m*\u001B[0m\u001B[34m*\u001B[0m\u001B[34m*\u001B[0m\u001B[34m*\u001B[0m\u001B[34m*\u001B[0m\u001B[34m*\u001B[0m\u001B[34m*\u001B[0m\u001B[34m*\u001B[0m\u001B[34m*\u001B[0m\u001B[34m*\u001B[0m\u001B[34m*\u001B[0m\u001B[34m*\u001B[0m\u001B[34m*\u001B[0m\u001B[34m*\u001B[0m\u001B[34m*\u001B[0m\u001B[34m*\u001B[0m\u001B[34m*\u001B[0m\u001B[34m*\u001B[0m\u001B[34m*\u001B[0m\u001B[34m*\u001B[0m\u001B[34m*\u001B[0m\u001B[34m*\u001B[0m\u001B[34m*\u001B[0m\u001B[34m*\u001B[0m\u001B[34m*\u001B[0m\u001B[34m*\u001B[0m\u001B[34m*\u001B[0m\u001B[34m*\u001B[0m\u001B[34m*\u001B[0m\u001B[34m*\u001B[0m\u001B[34m*\u001B[0m\u001B[34m*\u001B[0m\u001B[34m*\u001B[0m\u001B[34m*\u001B[0m\u001B[34m*\u001B[0m\u001B[34m*\u001B[0m\u001B[34m*\u001B[0m\u001B[34m*\u001B[0m\u001B[34m*\u001B[0m\u001B[34m*\u001B[0m\n",
      "\u001B[32m** Rozwiązanie ********************************************************************************\u001B[0m\n"
     ]
    },
    {
     "data": {
      "text/plain": [
       "<IPython.core.display.Latex object>"
      ],
      "text/latex": "$$\\sqrt[\\leftroot{2}\\uproot{-4} \\displaystyle ^{4}]{-4} = \\left\\{ -1 - i, \\  -1 + i, \\  1 - i, \\  1 + i\\right\\}.$$"
     },
     "metadata": {},
     "output_type": "display_data"
    },
    {
     "name": "stdout",
     "output_type": "stream",
     "text": [
      "\u001B[32m*\u001B[0m\u001B[32m*\u001B[0m\u001B[32m*\u001B[0m\u001B[32m*\u001B[0m\u001B[32m*\u001B[0m\u001B[32m*\u001B[0m\u001B[32m*\u001B[0m\u001B[32m*\u001B[0m\u001B[32m*\u001B[0m\u001B[32m*\u001B[0m\u001B[32m*\u001B[0m\u001B[32m*\u001B[0m\u001B[32m*\u001B[0m\u001B[32m*\u001B[0m\u001B[32m*\u001B[0m\u001B[32m*\u001B[0m\u001B[32m*\u001B[0m\u001B[32m*\u001B[0m\u001B[32m*\u001B[0m\u001B[32m*\u001B[0m\u001B[32m*\u001B[0m\u001B[32m*\u001B[0m\u001B[32m*\u001B[0m\u001B[32m*\u001B[0m\u001B[32m*\u001B[0m\u001B[32m*\u001B[0m\u001B[32m*\u001B[0m\u001B[32m*\u001B[0m\u001B[32m*\u001B[0m\u001B[32m*\u001B[0m\u001B[32m*\u001B[0m\u001B[32m*\u001B[0m\u001B[32m*\u001B[0m\u001B[32m*\u001B[0m\u001B[32m*\u001B[0m\u001B[32m*\u001B[0m\u001B[32m*\u001B[0m\u001B[32m*\u001B[0m\u001B[32m*\u001B[0m\u001B[32m*\u001B[0m\u001B[32m*\u001B[0m\u001B[32m*\u001B[0m\u001B[32m*\u001B[0m\u001B[32m*\u001B[0m\u001B[32m*\u001B[0m\u001B[32m*\u001B[0m\u001B[32m*\u001B[0m\u001B[32m*\u001B[0m\u001B[32m*\u001B[0m\u001B[32m*\u001B[0m\u001B[32m*\u001B[0m\u001B[32m*\u001B[0m\u001B[32m*\u001B[0m\u001B[32m*\u001B[0m\u001B[32m*\u001B[0m\u001B[32m*\u001B[0m\u001B[32m*\u001B[0m\u001B[32m*\u001B[0m\u001B[32m*\u001B[0m\u001B[32m*\u001B[0m\u001B[32m*\u001B[0m\u001B[32m*\u001B[0m\u001B[32m*\u001B[0m\u001B[32m*\u001B[0m\u001B[32m*\u001B[0m\u001B[32m*\u001B[0m\u001B[32m*\u001B[0m\u001B[32m*\u001B[0m\u001B[32m*\u001B[0m\u001B[32m*\u001B[0m\u001B[32m*\u001B[0m\u001B[32m*\u001B[0m\u001B[32m*\u001B[0m\u001B[32m*\u001B[0m\u001B[32m*\u001B[0m\u001B[32m*\u001B[0m\u001B[32m*\u001B[0m\u001B[32m*\u001B[0m\u001B[32m*\u001B[0m\u001B[32m*\u001B[0m\u001B[32m*\u001B[0m\u001B[32m*\u001B[0m\u001B[32m*\u001B[0m\u001B[32m*\u001B[0m\u001B[32m*\u001B[0m\u001B[32m*\u001B[0m\u001B[32m*\u001B[0m\u001B[32m*\u001B[0m\u001B[32m*\u001B[0m\u001B[32m*\u001B[0m\u001B[32m*\u001B[0m\u001B[32m*\u001B[0m\u001B[32m*\u001B[0m\u001B[32m*\u001B[0m\u001B[32m*\u001B[0m\n"
     ]
    }
   ],
   "execution_count": 12
  },
  {
   "metadata": {},
   "cell_type": "markdown",
   "source": "## Równanie zespolone ze sprzężeniem"
  },
  {
   "metadata": {
    "ExecuteTime": {
     "end_time": "2024-09-14T17:07:29.963392Z",
     "start_time": "2024-09-14T17:07:29.764805Z"
    }
   },
   "cell_type": "code",
   "source": [
    "zadanie = gz.rownanie_ze_sprzezeniem(calkowite=choice([False, True]), kwadratowe=choice([False, True]))\n",
    "zadanie"
   ],
   "outputs": [
    {
     "data": {
      "text/plain": [
       "('Rozwiązać równanie w zbiorze liczb zespolonych\\n\\t\\\\[\\n\\t\\tz \\\\left(-4 - 2 i\\\\right) + \\\\left(4 + 4 i\\\\right) \\\\overline{z} - 6 + 2 i = 0\\n\\t\\\\]',\n",
       " '$\\\\left(4 + 4 i\\\\right) \\\\left(x - i y\\\\right) + \\\\left(-4 - 2 i\\\\right) \\\\left(x + i y\\\\right) - 6 + 2 i = 0,$ \\\\\\\\ \\n$2 i \\\\left(x + y \\\\left(-4 - 3 i\\\\right) + 1 + 3 i\\\\right) = 0,$\\\\\\\\\\n$\\\\left\\\\{\\n\\t\\\\begin{array}{c}\\n\\t\\t6 y - 6 = 0\\\\\\\\\\n\\t\\t2 x - 8 y + 2 = 0\\n\\t\\\\end{array}\\n\\\\right.$ \\\\\\\\\\n$z = \\\\left\\\\{ x : 3, \\\\  y : 1\\\\right\\\\}.$')"
      ]
     },
     "execution_count": 13,
     "metadata": {},
     "output_type": "execute_result"
    }
   ],
   "execution_count": 13
  },
  {
   "metadata": {
    "ExecuteTime": {
     "end_time": "2024-09-14T17:07:30.005544Z",
     "start_time": "2024-09-14T17:07:30.000120Z"
    }
   },
   "cell_type": "code",
   "source": [
    "print(\"\\033[34m** Zadanie **\" + '*' * 81 + '\\033[0m')\n",
    "print(zadanie[0])\n",
    "print(\"\\033[34m*\\033[0m\" * 95)\n",
    "print(\"\\033[32m** Rozwiązanie **\" + '*' * 78 + '\\033[0m')\n",
    "print(zadanie[1])\n",
    "print(\"\\033[32m*\\033[0m\" * 95)"
   ],
   "outputs": [
    {
     "name": "stdout",
     "output_type": "stream",
     "text": [
      "\u001B[34m** Zadanie ***********************************************************************************\u001B[0m\n",
      "Rozwiązać równanie w zbiorze liczb zespolonych\n",
      "\t\\[\n",
      "\t\tz \\left(-4 - 2 i\\right) + \\left(4 + 4 i\\right) \\overline{z} - 6 + 2 i = 0\n",
      "\t\\]\n",
      "\u001B[34m*\u001B[0m\u001B[34m*\u001B[0m\u001B[34m*\u001B[0m\u001B[34m*\u001B[0m\u001B[34m*\u001B[0m\u001B[34m*\u001B[0m\u001B[34m*\u001B[0m\u001B[34m*\u001B[0m\u001B[34m*\u001B[0m\u001B[34m*\u001B[0m\u001B[34m*\u001B[0m\u001B[34m*\u001B[0m\u001B[34m*\u001B[0m\u001B[34m*\u001B[0m\u001B[34m*\u001B[0m\u001B[34m*\u001B[0m\u001B[34m*\u001B[0m\u001B[34m*\u001B[0m\u001B[34m*\u001B[0m\u001B[34m*\u001B[0m\u001B[34m*\u001B[0m\u001B[34m*\u001B[0m\u001B[34m*\u001B[0m\u001B[34m*\u001B[0m\u001B[34m*\u001B[0m\u001B[34m*\u001B[0m\u001B[34m*\u001B[0m\u001B[34m*\u001B[0m\u001B[34m*\u001B[0m\u001B[34m*\u001B[0m\u001B[34m*\u001B[0m\u001B[34m*\u001B[0m\u001B[34m*\u001B[0m\u001B[34m*\u001B[0m\u001B[34m*\u001B[0m\u001B[34m*\u001B[0m\u001B[34m*\u001B[0m\u001B[34m*\u001B[0m\u001B[34m*\u001B[0m\u001B[34m*\u001B[0m\u001B[34m*\u001B[0m\u001B[34m*\u001B[0m\u001B[34m*\u001B[0m\u001B[34m*\u001B[0m\u001B[34m*\u001B[0m\u001B[34m*\u001B[0m\u001B[34m*\u001B[0m\u001B[34m*\u001B[0m\u001B[34m*\u001B[0m\u001B[34m*\u001B[0m\u001B[34m*\u001B[0m\u001B[34m*\u001B[0m\u001B[34m*\u001B[0m\u001B[34m*\u001B[0m\u001B[34m*\u001B[0m\u001B[34m*\u001B[0m\u001B[34m*\u001B[0m\u001B[34m*\u001B[0m\u001B[34m*\u001B[0m\u001B[34m*\u001B[0m\u001B[34m*\u001B[0m\u001B[34m*\u001B[0m\u001B[34m*\u001B[0m\u001B[34m*\u001B[0m\u001B[34m*\u001B[0m\u001B[34m*\u001B[0m\u001B[34m*\u001B[0m\u001B[34m*\u001B[0m\u001B[34m*\u001B[0m\u001B[34m*\u001B[0m\u001B[34m*\u001B[0m\u001B[34m*\u001B[0m\u001B[34m*\u001B[0m\u001B[34m*\u001B[0m\u001B[34m*\u001B[0m\u001B[34m*\u001B[0m\u001B[34m*\u001B[0m\u001B[34m*\u001B[0m\u001B[34m*\u001B[0m\u001B[34m*\u001B[0m\u001B[34m*\u001B[0m\u001B[34m*\u001B[0m\u001B[34m*\u001B[0m\u001B[34m*\u001B[0m\u001B[34m*\u001B[0m\u001B[34m*\u001B[0m\u001B[34m*\u001B[0m\u001B[34m*\u001B[0m\u001B[34m*\u001B[0m\u001B[34m*\u001B[0m\u001B[34m*\u001B[0m\u001B[34m*\u001B[0m\u001B[34m*\u001B[0m\u001B[34m*\u001B[0m\u001B[34m*\u001B[0m\n",
      "\u001B[32m** Rozwiązanie ********************************************************************************\u001B[0m\n",
      "$\\left(4 + 4 i\\right) \\left(x - i y\\right) + \\left(-4 - 2 i\\right) \\left(x + i y\\right) - 6 + 2 i = 0,$ \\\\ \n",
      "$2 i \\left(x + y \\left(-4 - 3 i\\right) + 1 + 3 i\\right) = 0,$\\\\\n",
      "$\\left\\{\n",
      "\t\\begin{array}{c}\n",
      "\t\t6 y - 6 = 0\\\\\n",
      "\t\t2 x - 8 y + 2 = 0\n",
      "\t\\end{array}\n",
      "\\right.$ \\\\\n",
      "$z = \\left\\{ x : 3, \\  y : 1\\right\\}.$\n",
      "\u001B[32m*\u001B[0m\u001B[32m*\u001B[0m\u001B[32m*\u001B[0m\u001B[32m*\u001B[0m\u001B[32m*\u001B[0m\u001B[32m*\u001B[0m\u001B[32m*\u001B[0m\u001B[32m*\u001B[0m\u001B[32m*\u001B[0m\u001B[32m*\u001B[0m\u001B[32m*\u001B[0m\u001B[32m*\u001B[0m\u001B[32m*\u001B[0m\u001B[32m*\u001B[0m\u001B[32m*\u001B[0m\u001B[32m*\u001B[0m\u001B[32m*\u001B[0m\u001B[32m*\u001B[0m\u001B[32m*\u001B[0m\u001B[32m*\u001B[0m\u001B[32m*\u001B[0m\u001B[32m*\u001B[0m\u001B[32m*\u001B[0m\u001B[32m*\u001B[0m\u001B[32m*\u001B[0m\u001B[32m*\u001B[0m\u001B[32m*\u001B[0m\u001B[32m*\u001B[0m\u001B[32m*\u001B[0m\u001B[32m*\u001B[0m\u001B[32m*\u001B[0m\u001B[32m*\u001B[0m\u001B[32m*\u001B[0m\u001B[32m*\u001B[0m\u001B[32m*\u001B[0m\u001B[32m*\u001B[0m\u001B[32m*\u001B[0m\u001B[32m*\u001B[0m\u001B[32m*\u001B[0m\u001B[32m*\u001B[0m\u001B[32m*\u001B[0m\u001B[32m*\u001B[0m\u001B[32m*\u001B[0m\u001B[32m*\u001B[0m\u001B[32m*\u001B[0m\u001B[32m*\u001B[0m\u001B[32m*\u001B[0m\u001B[32m*\u001B[0m\u001B[32m*\u001B[0m\u001B[32m*\u001B[0m\u001B[32m*\u001B[0m\u001B[32m*\u001B[0m\u001B[32m*\u001B[0m\u001B[32m*\u001B[0m\u001B[32m*\u001B[0m\u001B[32m*\u001B[0m\u001B[32m*\u001B[0m\u001B[32m*\u001B[0m\u001B[32m*\u001B[0m\u001B[32m*\u001B[0m\u001B[32m*\u001B[0m\u001B[32m*\u001B[0m\u001B[32m*\u001B[0m\u001B[32m*\u001B[0m\u001B[32m*\u001B[0m\u001B[32m*\u001B[0m\u001B[32m*\u001B[0m\u001B[32m*\u001B[0m\u001B[32m*\u001B[0m\u001B[32m*\u001B[0m\u001B[32m*\u001B[0m\u001B[32m*\u001B[0m\u001B[32m*\u001B[0m\u001B[32m*\u001B[0m\u001B[32m*\u001B[0m\u001B[32m*\u001B[0m\u001B[32m*\u001B[0m\u001B[32m*\u001B[0m\u001B[32m*\u001B[0m\u001B[32m*\u001B[0m\u001B[32m*\u001B[0m\u001B[32m*\u001B[0m\u001B[32m*\u001B[0m\u001B[32m*\u001B[0m\u001B[32m*\u001B[0m\u001B[32m*\u001B[0m\u001B[32m*\u001B[0m\u001B[32m*\u001B[0m\u001B[32m*\u001B[0m\u001B[32m*\u001B[0m\u001B[32m*\u001B[0m\u001B[32m*\u001B[0m\u001B[32m*\u001B[0m\u001B[32m*\u001B[0m\u001B[32m*\u001B[0m\n"
     ]
    }
   ],
   "execution_count": 14
  },
  {
   "metadata": {
    "ExecuteTime": {
     "end_time": "2024-09-14T17:07:33.065910Z",
     "start_time": "2024-09-14T17:07:30.106835Z"
    }
   },
   "cell_type": "code",
   "source": [
    "for i in range(1, ile_zadan_przykladowych + 1):\n",
    "    zadanie = gz.rownanie_ze_sprzezeniem(calkowite=choice([False, True]), kwadratowe=choice([False, True]))\n",
    "    print(f\"\\033[34m** Zadanie {i} **\" + '*' * 80 + '\\033[0m')\n",
    "    display(Markdown(zadanie[0].split('\\n')[0].replace('\\\\', '')))\n",
    "    display(Latex('$$' + zadanie[0].split('\\n')[2] + '$$'))\n",
    "    print(\"\\033[34m*\\033[0m\" * 95)\n",
    "    print(\"\\033[32m** Rozwiązanie **\" + '*' * 78 + '\\033[0m')\n",
    "    rozwiazanie = zadanie[1].replace('$ \\\\\\\\ \\n$', ' $ ').replace('$\\\\\\\\\\n$', ' $ ').replace('$ \\\\\\\\\\n$', ' $ ').split(\n",
    "        '$')\n",
    "    for i in range(1, len(rozwiazanie) - 1):\n",
    "        display(Latex('$$' + rozwiazanie[i] + '$$'))\n",
    "    print(\"\\033[32m*\\033[0m\" * 95)"
   ],
   "outputs": [
    {
     "name": "stdout",
     "output_type": "stream",
     "text": [
      "\u001B[34m** Zadanie 1 **********************************************************************************\u001B[0m\n"
     ]
    },
    {
     "data": {
      "text/plain": [
       "<IPython.core.display.Markdown object>"
      ],
      "text/markdown": "Rozwiązać równanie w zbiorze liczb zespolonych"
     },
     "metadata": {},
     "output_type": "display_data"
    },
    {
     "data": {
      "text/plain": [
       "<IPython.core.display.Latex object>"
      ],
      "text/latex": "$$\t\tz \\left(7 + 2 i\\right) + \\left(6 - i\\right) \\overline{z} - 6 + 2 i = 0$$"
     },
     "metadata": {},
     "output_type": "display_data"
    },
    {
     "name": "stdout",
     "output_type": "stream",
     "text": [
      "\u001B[34m*\u001B[0m\u001B[34m*\u001B[0m\u001B[34m*\u001B[0m\u001B[34m*\u001B[0m\u001B[34m*\u001B[0m\u001B[34m*\u001B[0m\u001B[34m*\u001B[0m\u001B[34m*\u001B[0m\u001B[34m*\u001B[0m\u001B[34m*\u001B[0m\u001B[34m*\u001B[0m\u001B[34m*\u001B[0m\u001B[34m*\u001B[0m\u001B[34m*\u001B[0m\u001B[34m*\u001B[0m\u001B[34m*\u001B[0m\u001B[34m*\u001B[0m\u001B[34m*\u001B[0m\u001B[34m*\u001B[0m\u001B[34m*\u001B[0m\u001B[34m*\u001B[0m\u001B[34m*\u001B[0m\u001B[34m*\u001B[0m\u001B[34m*\u001B[0m\u001B[34m*\u001B[0m\u001B[34m*\u001B[0m\u001B[34m*\u001B[0m\u001B[34m*\u001B[0m\u001B[34m*\u001B[0m\u001B[34m*\u001B[0m\u001B[34m*\u001B[0m\u001B[34m*\u001B[0m\u001B[34m*\u001B[0m\u001B[34m*\u001B[0m\u001B[34m*\u001B[0m\u001B[34m*\u001B[0m\u001B[34m*\u001B[0m\u001B[34m*\u001B[0m\u001B[34m*\u001B[0m\u001B[34m*\u001B[0m\u001B[34m*\u001B[0m\u001B[34m*\u001B[0m\u001B[34m*\u001B[0m\u001B[34m*\u001B[0m\u001B[34m*\u001B[0m\u001B[34m*\u001B[0m\u001B[34m*\u001B[0m\u001B[34m*\u001B[0m\u001B[34m*\u001B[0m\u001B[34m*\u001B[0m\u001B[34m*\u001B[0m\u001B[34m*\u001B[0m\u001B[34m*\u001B[0m\u001B[34m*\u001B[0m\u001B[34m*\u001B[0m\u001B[34m*\u001B[0m\u001B[34m*\u001B[0m\u001B[34m*\u001B[0m\u001B[34m*\u001B[0m\u001B[34m*\u001B[0m\u001B[34m*\u001B[0m\u001B[34m*\u001B[0m\u001B[34m*\u001B[0m\u001B[34m*\u001B[0m\u001B[34m*\u001B[0m\u001B[34m*\u001B[0m\u001B[34m*\u001B[0m\u001B[34m*\u001B[0m\u001B[34m*\u001B[0m\u001B[34m*\u001B[0m\u001B[34m*\u001B[0m\u001B[34m*\u001B[0m\u001B[34m*\u001B[0m\u001B[34m*\u001B[0m\u001B[34m*\u001B[0m\u001B[34m*\u001B[0m\u001B[34m*\u001B[0m\u001B[34m*\u001B[0m\u001B[34m*\u001B[0m\u001B[34m*\u001B[0m\u001B[34m*\u001B[0m\u001B[34m*\u001B[0m\u001B[34m*\u001B[0m\u001B[34m*\u001B[0m\u001B[34m*\u001B[0m\u001B[34m*\u001B[0m\u001B[34m*\u001B[0m\u001B[34m*\u001B[0m\u001B[34m*\u001B[0m\u001B[34m*\u001B[0m\u001B[34m*\u001B[0m\u001B[34m*\u001B[0m\u001B[34m*\u001B[0m\u001B[34m*\u001B[0m\u001B[34m*\u001B[0m\n",
      "\u001B[32m** Rozwiązanie ********************************************************************************\u001B[0m\n"
     ]
    },
    {
     "data": {
      "text/plain": [
       "<IPython.core.display.Latex object>"
      ],
      "text/latex": "$$\\left(6 - i\\right) \\left(x - i y\\right) + \\left(7 + 2 i\\right) \\left(x + i y\\right) - 6 + 2 i = 0, $$"
     },
     "metadata": {},
     "output_type": "display_data"
    },
    {
     "data": {
      "text/plain": [
       "<IPython.core.display.Latex object>"
      ],
      "text/latex": "$$ \\left(1 + i\\right) \\left(x \\left(7 - 6 i\\right) + y \\left(-1 + 2 i\\right) - 2 + 4 i\\right) = 0, $$"
     },
     "metadata": {},
     "output_type": "display_data"
    },
    {
     "data": {
      "text/plain": [
       "<IPython.core.display.Latex object>"
      ],
      "text/latex": "$$ \\left\\{\n\t\\begin{array}{c}\n\t\t13 x - 3 y - 6 = 0\\\\\n\t\tx + y + 2 = 0\n\t\\end{array}\n\\right. $$"
     },
     "metadata": {},
     "output_type": "display_data"
    },
    {
     "data": {
      "text/plain": [
       "<IPython.core.display.Latex object>"
      ],
      "text/latex": "$$ z = \\left\\{ x : 0, \\  y : -2\\right\\}.$$"
     },
     "metadata": {},
     "output_type": "display_data"
    },
    {
     "name": "stdout",
     "output_type": "stream",
     "text": [
      "\u001B[32m*\u001B[0m\u001B[32m*\u001B[0m\u001B[32m*\u001B[0m\u001B[32m*\u001B[0m\u001B[32m*\u001B[0m\u001B[32m*\u001B[0m\u001B[32m*\u001B[0m\u001B[32m*\u001B[0m\u001B[32m*\u001B[0m\u001B[32m*\u001B[0m\u001B[32m*\u001B[0m\u001B[32m*\u001B[0m\u001B[32m*\u001B[0m\u001B[32m*\u001B[0m\u001B[32m*\u001B[0m\u001B[32m*\u001B[0m\u001B[32m*\u001B[0m\u001B[32m*\u001B[0m\u001B[32m*\u001B[0m\u001B[32m*\u001B[0m\u001B[32m*\u001B[0m\u001B[32m*\u001B[0m\u001B[32m*\u001B[0m\u001B[32m*\u001B[0m\u001B[32m*\u001B[0m\u001B[32m*\u001B[0m\u001B[32m*\u001B[0m\u001B[32m*\u001B[0m\u001B[32m*\u001B[0m\u001B[32m*\u001B[0m\u001B[32m*\u001B[0m\u001B[32m*\u001B[0m\u001B[32m*\u001B[0m\u001B[32m*\u001B[0m\u001B[32m*\u001B[0m\u001B[32m*\u001B[0m\u001B[32m*\u001B[0m\u001B[32m*\u001B[0m\u001B[32m*\u001B[0m\u001B[32m*\u001B[0m\u001B[32m*\u001B[0m\u001B[32m*\u001B[0m\u001B[32m*\u001B[0m\u001B[32m*\u001B[0m\u001B[32m*\u001B[0m\u001B[32m*\u001B[0m\u001B[32m*\u001B[0m\u001B[32m*\u001B[0m\u001B[32m*\u001B[0m\u001B[32m*\u001B[0m\u001B[32m*\u001B[0m\u001B[32m*\u001B[0m\u001B[32m*\u001B[0m\u001B[32m*\u001B[0m\u001B[32m*\u001B[0m\u001B[32m*\u001B[0m\u001B[32m*\u001B[0m\u001B[32m*\u001B[0m\u001B[32m*\u001B[0m\u001B[32m*\u001B[0m\u001B[32m*\u001B[0m\u001B[32m*\u001B[0m\u001B[32m*\u001B[0m\u001B[32m*\u001B[0m\u001B[32m*\u001B[0m\u001B[32m*\u001B[0m\u001B[32m*\u001B[0m\u001B[32m*\u001B[0m\u001B[32m*\u001B[0m\u001B[32m*\u001B[0m\u001B[32m*\u001B[0m\u001B[32m*\u001B[0m\u001B[32m*\u001B[0m\u001B[32m*\u001B[0m\u001B[32m*\u001B[0m\u001B[32m*\u001B[0m\u001B[32m*\u001B[0m\u001B[32m*\u001B[0m\u001B[32m*\u001B[0m\u001B[32m*\u001B[0m\u001B[32m*\u001B[0m\u001B[32m*\u001B[0m\u001B[32m*\u001B[0m\u001B[32m*\u001B[0m\u001B[32m*\u001B[0m\u001B[32m*\u001B[0m\u001B[32m*\u001B[0m\u001B[32m*\u001B[0m\u001B[32m*\u001B[0m\u001B[32m*\u001B[0m\u001B[32m*\u001B[0m\u001B[32m*\u001B[0m\u001B[32m*\u001B[0m\u001B[32m*\u001B[0m\u001B[32m*\u001B[0m\n",
      "\u001B[34m** Zadanie 2 **********************************************************************************\u001B[0m\n"
     ]
    },
    {
     "data": {
      "text/plain": [
       "<IPython.core.display.Markdown object>"
      ],
      "text/markdown": "Rozwiązać równanie w zbiorze liczb zespolonych"
     },
     "metadata": {},
     "output_type": "display_data"
    },
    {
     "data": {
      "text/plain": [
       "<IPython.core.display.Latex object>"
      ],
      "text/latex": "$$\t\tz^{2} - 4 \\overline{z} + 7 = 0$$"
     },
     "metadata": {},
     "output_type": "display_data"
    },
    {
     "name": "stdout",
     "output_type": "stream",
     "text": [
      "\u001B[34m*\u001B[0m\u001B[34m*\u001B[0m\u001B[34m*\u001B[0m\u001B[34m*\u001B[0m\u001B[34m*\u001B[0m\u001B[34m*\u001B[0m\u001B[34m*\u001B[0m\u001B[34m*\u001B[0m\u001B[34m*\u001B[0m\u001B[34m*\u001B[0m\u001B[34m*\u001B[0m\u001B[34m*\u001B[0m\u001B[34m*\u001B[0m\u001B[34m*\u001B[0m\u001B[34m*\u001B[0m\u001B[34m*\u001B[0m\u001B[34m*\u001B[0m\u001B[34m*\u001B[0m\u001B[34m*\u001B[0m\u001B[34m*\u001B[0m\u001B[34m*\u001B[0m\u001B[34m*\u001B[0m\u001B[34m*\u001B[0m\u001B[34m*\u001B[0m\u001B[34m*\u001B[0m\u001B[34m*\u001B[0m\u001B[34m*\u001B[0m\u001B[34m*\u001B[0m\u001B[34m*\u001B[0m\u001B[34m*\u001B[0m\u001B[34m*\u001B[0m\u001B[34m*\u001B[0m\u001B[34m*\u001B[0m\u001B[34m*\u001B[0m\u001B[34m*\u001B[0m\u001B[34m*\u001B[0m\u001B[34m*\u001B[0m\u001B[34m*\u001B[0m\u001B[34m*\u001B[0m\u001B[34m*\u001B[0m\u001B[34m*\u001B[0m\u001B[34m*\u001B[0m\u001B[34m*\u001B[0m\u001B[34m*\u001B[0m\u001B[34m*\u001B[0m\u001B[34m*\u001B[0m\u001B[34m*\u001B[0m\u001B[34m*\u001B[0m\u001B[34m*\u001B[0m\u001B[34m*\u001B[0m\u001B[34m*\u001B[0m\u001B[34m*\u001B[0m\u001B[34m*\u001B[0m\u001B[34m*\u001B[0m\u001B[34m*\u001B[0m\u001B[34m*\u001B[0m\u001B[34m*\u001B[0m\u001B[34m*\u001B[0m\u001B[34m*\u001B[0m\u001B[34m*\u001B[0m\u001B[34m*\u001B[0m\u001B[34m*\u001B[0m\u001B[34m*\u001B[0m\u001B[34m*\u001B[0m\u001B[34m*\u001B[0m\u001B[34m*\u001B[0m\u001B[34m*\u001B[0m\u001B[34m*\u001B[0m\u001B[34m*\u001B[0m\u001B[34m*\u001B[0m\u001B[34m*\u001B[0m\u001B[34m*\u001B[0m\u001B[34m*\u001B[0m\u001B[34m*\u001B[0m\u001B[34m*\u001B[0m\u001B[34m*\u001B[0m\u001B[34m*\u001B[0m\u001B[34m*\u001B[0m\u001B[34m*\u001B[0m\u001B[34m*\u001B[0m\u001B[34m*\u001B[0m\u001B[34m*\u001B[0m\u001B[34m*\u001B[0m\u001B[34m*\u001B[0m\u001B[34m*\u001B[0m\u001B[34m*\u001B[0m\u001B[34m*\u001B[0m\u001B[34m*\u001B[0m\u001B[34m*\u001B[0m\u001B[34m*\u001B[0m\u001B[34m*\u001B[0m\u001B[34m*\u001B[0m\u001B[34m*\u001B[0m\u001B[34m*\u001B[0m\u001B[34m*\u001B[0m\n",
      "\u001B[32m** Rozwiązanie ********************************************************************************\u001B[0m\n"
     ]
    },
    {
     "data": {
      "text/plain": [
       "<IPython.core.display.Latex object>"
      ],
      "text/latex": "$$- 4 x + 4 i y + \\left(x + i y\\right)^{2} + 7 = 0, $$"
     },
     "metadata": {},
     "output_type": "display_data"
    },
    {
     "data": {
      "text/plain": [
       "<IPython.core.display.Latex object>"
      ],
      "text/latex": "$$ x^{2} + 2 i x y - 4 x - y^{2} + 4 i y + 7 = 0, $$"
     },
     "metadata": {},
     "output_type": "display_data"
    },
    {
     "data": {
      "text/plain": [
       "<IPython.core.display.Latex object>"
      ],
      "text/latex": "$$ \\left\\{\n\t\\begin{array}{c}\n\t\tx^{2} - 4 x - y^{2} + 7 = 0\\\\\n\t\t2 x y + 4 y = 0\n\t\\end{array}\n\\right. $$"
     },
     "metadata": {},
     "output_type": "display_data"
    },
    {
     "data": {
      "text/plain": [
       "<IPython.core.display.Latex object>"
      ],
      "text/latex": "$$ z = \\left[ \\left\\{ x : -2, \\  y : - \\sqrt{19}\\right\\}, \\  \\left\\{ x : -2, \\  y : \\sqrt{19}\\right\\}\\right].$$"
     },
     "metadata": {},
     "output_type": "display_data"
    },
    {
     "name": "stdout",
     "output_type": "stream",
     "text": [
      "\u001B[32m*\u001B[0m\u001B[32m*\u001B[0m\u001B[32m*\u001B[0m\u001B[32m*\u001B[0m\u001B[32m*\u001B[0m\u001B[32m*\u001B[0m\u001B[32m*\u001B[0m\u001B[32m*\u001B[0m\u001B[32m*\u001B[0m\u001B[32m*\u001B[0m\u001B[32m*\u001B[0m\u001B[32m*\u001B[0m\u001B[32m*\u001B[0m\u001B[32m*\u001B[0m\u001B[32m*\u001B[0m\u001B[32m*\u001B[0m\u001B[32m*\u001B[0m\u001B[32m*\u001B[0m\u001B[32m*\u001B[0m\u001B[32m*\u001B[0m\u001B[32m*\u001B[0m\u001B[32m*\u001B[0m\u001B[32m*\u001B[0m\u001B[32m*\u001B[0m\u001B[32m*\u001B[0m\u001B[32m*\u001B[0m\u001B[32m*\u001B[0m\u001B[32m*\u001B[0m\u001B[32m*\u001B[0m\u001B[32m*\u001B[0m\u001B[32m*\u001B[0m\u001B[32m*\u001B[0m\u001B[32m*\u001B[0m\u001B[32m*\u001B[0m\u001B[32m*\u001B[0m\u001B[32m*\u001B[0m\u001B[32m*\u001B[0m\u001B[32m*\u001B[0m\u001B[32m*\u001B[0m\u001B[32m*\u001B[0m\u001B[32m*\u001B[0m\u001B[32m*\u001B[0m\u001B[32m*\u001B[0m\u001B[32m*\u001B[0m\u001B[32m*\u001B[0m\u001B[32m*\u001B[0m\u001B[32m*\u001B[0m\u001B[32m*\u001B[0m\u001B[32m*\u001B[0m\u001B[32m*\u001B[0m\u001B[32m*\u001B[0m\u001B[32m*\u001B[0m\u001B[32m*\u001B[0m\u001B[32m*\u001B[0m\u001B[32m*\u001B[0m\u001B[32m*\u001B[0m\u001B[32m*\u001B[0m\u001B[32m*\u001B[0m\u001B[32m*\u001B[0m\u001B[32m*\u001B[0m\u001B[32m*\u001B[0m\u001B[32m*\u001B[0m\u001B[32m*\u001B[0m\u001B[32m*\u001B[0m\u001B[32m*\u001B[0m\u001B[32m*\u001B[0m\u001B[32m*\u001B[0m\u001B[32m*\u001B[0m\u001B[32m*\u001B[0m\u001B[32m*\u001B[0m\u001B[32m*\u001B[0m\u001B[32m*\u001B[0m\u001B[32m*\u001B[0m\u001B[32m*\u001B[0m\u001B[32m*\u001B[0m\u001B[32m*\u001B[0m\u001B[32m*\u001B[0m\u001B[32m*\u001B[0m\u001B[32m*\u001B[0m\u001B[32m*\u001B[0m\u001B[32m*\u001B[0m\u001B[32m*\u001B[0m\u001B[32m*\u001B[0m\u001B[32m*\u001B[0m\u001B[32m*\u001B[0m\u001B[32m*\u001B[0m\u001B[32m*\u001B[0m\u001B[32m*\u001B[0m\u001B[32m*\u001B[0m\u001B[32m*\u001B[0m\u001B[32m*\u001B[0m\u001B[32m*\u001B[0m\u001B[32m*\u001B[0m\u001B[32m*\u001B[0m\u001B[32m*\u001B[0m\n",
      "\u001B[34m** Zadanie 3 **********************************************************************************\u001B[0m\n"
     ]
    },
    {
     "data": {
      "text/plain": [
       "<IPython.core.display.Markdown object>"
      ],
      "text/markdown": "Rozwiązać równanie w zbiorze liczb zespolonych"
     },
     "metadata": {},
     "output_type": "display_data"
    },
    {
     "data": {
      "text/plain": [
       "<IPython.core.display.Latex object>"
      ],
      "text/latex": "$$\t\tz \\left(6 + 2 i\\right) + \\left(4 + 3 i\\right) \\overline{z} - 6 - 3 i = 0$$"
     },
     "metadata": {},
     "output_type": "display_data"
    },
    {
     "name": "stdout",
     "output_type": "stream",
     "text": [
      "\u001B[34m*\u001B[0m\u001B[34m*\u001B[0m\u001B[34m*\u001B[0m\u001B[34m*\u001B[0m\u001B[34m*\u001B[0m\u001B[34m*\u001B[0m\u001B[34m*\u001B[0m\u001B[34m*\u001B[0m\u001B[34m*\u001B[0m\u001B[34m*\u001B[0m\u001B[34m*\u001B[0m\u001B[34m*\u001B[0m\u001B[34m*\u001B[0m\u001B[34m*\u001B[0m\u001B[34m*\u001B[0m\u001B[34m*\u001B[0m\u001B[34m*\u001B[0m\u001B[34m*\u001B[0m\u001B[34m*\u001B[0m\u001B[34m*\u001B[0m\u001B[34m*\u001B[0m\u001B[34m*\u001B[0m\u001B[34m*\u001B[0m\u001B[34m*\u001B[0m\u001B[34m*\u001B[0m\u001B[34m*\u001B[0m\u001B[34m*\u001B[0m\u001B[34m*\u001B[0m\u001B[34m*\u001B[0m\u001B[34m*\u001B[0m\u001B[34m*\u001B[0m\u001B[34m*\u001B[0m\u001B[34m*\u001B[0m\u001B[34m*\u001B[0m\u001B[34m*\u001B[0m\u001B[34m*\u001B[0m\u001B[34m*\u001B[0m\u001B[34m*\u001B[0m\u001B[34m*\u001B[0m\u001B[34m*\u001B[0m\u001B[34m*\u001B[0m\u001B[34m*\u001B[0m\u001B[34m*\u001B[0m\u001B[34m*\u001B[0m\u001B[34m*\u001B[0m\u001B[34m*\u001B[0m\u001B[34m*\u001B[0m\u001B[34m*\u001B[0m\u001B[34m*\u001B[0m\u001B[34m*\u001B[0m\u001B[34m*\u001B[0m\u001B[34m*\u001B[0m\u001B[34m*\u001B[0m\u001B[34m*\u001B[0m\u001B[34m*\u001B[0m\u001B[34m*\u001B[0m\u001B[34m*\u001B[0m\u001B[34m*\u001B[0m\u001B[34m*\u001B[0m\u001B[34m*\u001B[0m\u001B[34m*\u001B[0m\u001B[34m*\u001B[0m\u001B[34m*\u001B[0m\u001B[34m*\u001B[0m\u001B[34m*\u001B[0m\u001B[34m*\u001B[0m\u001B[34m*\u001B[0m\u001B[34m*\u001B[0m\u001B[34m*\u001B[0m\u001B[34m*\u001B[0m\u001B[34m*\u001B[0m\u001B[34m*\u001B[0m\u001B[34m*\u001B[0m\u001B[34m*\u001B[0m\u001B[34m*\u001B[0m\u001B[34m*\u001B[0m\u001B[34m*\u001B[0m\u001B[34m*\u001B[0m\u001B[34m*\u001B[0m\u001B[34m*\u001B[0m\u001B[34m*\u001B[0m\u001B[34m*\u001B[0m\u001B[34m*\u001B[0m\u001B[34m*\u001B[0m\u001B[34m*\u001B[0m\u001B[34m*\u001B[0m\u001B[34m*\u001B[0m\u001B[34m*\u001B[0m\u001B[34m*\u001B[0m\u001B[34m*\u001B[0m\u001B[34m*\u001B[0m\u001B[34m*\u001B[0m\u001B[34m*\u001B[0m\u001B[34m*\u001B[0m\u001B[34m*\u001B[0m\n",
      "\u001B[32m** Rozwiązanie ********************************************************************************\u001B[0m\n"
     ]
    },
    {
     "data": {
      "text/plain": [
       "<IPython.core.display.Latex object>"
      ],
      "text/latex": "$$\\left(4 + 3 i\\right) \\left(x - i y\\right) + \\left(6 + 2 i\\right) \\left(x + i y\\right) - 6 - 3 i = 0, $$"
     },
     "metadata": {},
     "output_type": "display_data"
    },
    {
     "data": {
      "text/plain": [
       "<IPython.core.display.Latex object>"
      ],
      "text/latex": "$$ i \\left(x \\left(5 - 10 i\\right) + y \\left(2 - i\\right) - 3 + 6 i\\right) = 0, $$"
     },
     "metadata": {},
     "output_type": "display_data"
    },
    {
     "data": {
      "text/plain": [
       "<IPython.core.display.Latex object>"
      ],
      "text/latex": "$$ \\left\\{\n\t\\begin{array}{c}\n\t\t10 x + y - 6 = 0\\\\\n\t\t5 x + 2 y - 3 = 0\n\t\\end{array}\n\\right. $$"
     },
     "metadata": {},
     "output_type": "display_data"
    },
    {
     "data": {
      "text/plain": [
       "<IPython.core.display.Latex object>"
      ],
      "text/latex": "$$ z = \\left\\{ x : \\frac{3}{5}, \\  y : 0\\right\\}.$$"
     },
     "metadata": {},
     "output_type": "display_data"
    },
    {
     "name": "stdout",
     "output_type": "stream",
     "text": [
      "\u001B[32m*\u001B[0m\u001B[32m*\u001B[0m\u001B[32m*\u001B[0m\u001B[32m*\u001B[0m\u001B[32m*\u001B[0m\u001B[32m*\u001B[0m\u001B[32m*\u001B[0m\u001B[32m*\u001B[0m\u001B[32m*\u001B[0m\u001B[32m*\u001B[0m\u001B[32m*\u001B[0m\u001B[32m*\u001B[0m\u001B[32m*\u001B[0m\u001B[32m*\u001B[0m\u001B[32m*\u001B[0m\u001B[32m*\u001B[0m\u001B[32m*\u001B[0m\u001B[32m*\u001B[0m\u001B[32m*\u001B[0m\u001B[32m*\u001B[0m\u001B[32m*\u001B[0m\u001B[32m*\u001B[0m\u001B[32m*\u001B[0m\u001B[32m*\u001B[0m\u001B[32m*\u001B[0m\u001B[32m*\u001B[0m\u001B[32m*\u001B[0m\u001B[32m*\u001B[0m\u001B[32m*\u001B[0m\u001B[32m*\u001B[0m\u001B[32m*\u001B[0m\u001B[32m*\u001B[0m\u001B[32m*\u001B[0m\u001B[32m*\u001B[0m\u001B[32m*\u001B[0m\u001B[32m*\u001B[0m\u001B[32m*\u001B[0m\u001B[32m*\u001B[0m\u001B[32m*\u001B[0m\u001B[32m*\u001B[0m\u001B[32m*\u001B[0m\u001B[32m*\u001B[0m\u001B[32m*\u001B[0m\u001B[32m*\u001B[0m\u001B[32m*\u001B[0m\u001B[32m*\u001B[0m\u001B[32m*\u001B[0m\u001B[32m*\u001B[0m\u001B[32m*\u001B[0m\u001B[32m*\u001B[0m\u001B[32m*\u001B[0m\u001B[32m*\u001B[0m\u001B[32m*\u001B[0m\u001B[32m*\u001B[0m\u001B[32m*\u001B[0m\u001B[32m*\u001B[0m\u001B[32m*\u001B[0m\u001B[32m*\u001B[0m\u001B[32m*\u001B[0m\u001B[32m*\u001B[0m\u001B[32m*\u001B[0m\u001B[32m*\u001B[0m\u001B[32m*\u001B[0m\u001B[32m*\u001B[0m\u001B[32m*\u001B[0m\u001B[32m*\u001B[0m\u001B[32m*\u001B[0m\u001B[32m*\u001B[0m\u001B[32m*\u001B[0m\u001B[32m*\u001B[0m\u001B[32m*\u001B[0m\u001B[32m*\u001B[0m\u001B[32m*\u001B[0m\u001B[32m*\u001B[0m\u001B[32m*\u001B[0m\u001B[32m*\u001B[0m\u001B[32m*\u001B[0m\u001B[32m*\u001B[0m\u001B[32m*\u001B[0m\u001B[32m*\u001B[0m\u001B[32m*\u001B[0m\u001B[32m*\u001B[0m\u001B[32m*\u001B[0m\u001B[32m*\u001B[0m\u001B[32m*\u001B[0m\u001B[32m*\u001B[0m\u001B[32m*\u001B[0m\u001B[32m*\u001B[0m\u001B[32m*\u001B[0m\u001B[32m*\u001B[0m\u001B[32m*\u001B[0m\u001B[32m*\u001B[0m\u001B[32m*\u001B[0m\u001B[32m*\u001B[0m\u001B[32m*\u001B[0m\n",
      "\u001B[34m** Zadanie 4 **********************************************************************************\u001B[0m\n"
     ]
    },
    {
     "data": {
      "text/plain": [
       "<IPython.core.display.Markdown object>"
      ],
      "text/markdown": "Rozwiązać równanie w zbiorze liczb zespolonych"
     },
     "metadata": {},
     "output_type": "display_data"
    },
    {
     "data": {
      "text/plain": [
       "<IPython.core.display.Latex object>"
      ],
      "text/latex": "$$\t\tz^{2} - \\overline{z} - 2 = 0$$"
     },
     "metadata": {},
     "output_type": "display_data"
    },
    {
     "name": "stdout",
     "output_type": "stream",
     "text": [
      "\u001B[34m*\u001B[0m\u001B[34m*\u001B[0m\u001B[34m*\u001B[0m\u001B[34m*\u001B[0m\u001B[34m*\u001B[0m\u001B[34m*\u001B[0m\u001B[34m*\u001B[0m\u001B[34m*\u001B[0m\u001B[34m*\u001B[0m\u001B[34m*\u001B[0m\u001B[34m*\u001B[0m\u001B[34m*\u001B[0m\u001B[34m*\u001B[0m\u001B[34m*\u001B[0m\u001B[34m*\u001B[0m\u001B[34m*\u001B[0m\u001B[34m*\u001B[0m\u001B[34m*\u001B[0m\u001B[34m*\u001B[0m\u001B[34m*\u001B[0m\u001B[34m*\u001B[0m\u001B[34m*\u001B[0m\u001B[34m*\u001B[0m\u001B[34m*\u001B[0m\u001B[34m*\u001B[0m\u001B[34m*\u001B[0m\u001B[34m*\u001B[0m\u001B[34m*\u001B[0m\u001B[34m*\u001B[0m\u001B[34m*\u001B[0m\u001B[34m*\u001B[0m\u001B[34m*\u001B[0m\u001B[34m*\u001B[0m\u001B[34m*\u001B[0m\u001B[34m*\u001B[0m\u001B[34m*\u001B[0m\u001B[34m*\u001B[0m\u001B[34m*\u001B[0m\u001B[34m*\u001B[0m\u001B[34m*\u001B[0m\u001B[34m*\u001B[0m\u001B[34m*\u001B[0m\u001B[34m*\u001B[0m\u001B[34m*\u001B[0m\u001B[34m*\u001B[0m\u001B[34m*\u001B[0m\u001B[34m*\u001B[0m\u001B[34m*\u001B[0m\u001B[34m*\u001B[0m\u001B[34m*\u001B[0m\u001B[34m*\u001B[0m\u001B[34m*\u001B[0m\u001B[34m*\u001B[0m\u001B[34m*\u001B[0m\u001B[34m*\u001B[0m\u001B[34m*\u001B[0m\u001B[34m*\u001B[0m\u001B[34m*\u001B[0m\u001B[34m*\u001B[0m\u001B[34m*\u001B[0m\u001B[34m*\u001B[0m\u001B[34m*\u001B[0m\u001B[34m*\u001B[0m\u001B[34m*\u001B[0m\u001B[34m*\u001B[0m\u001B[34m*\u001B[0m\u001B[34m*\u001B[0m\u001B[34m*\u001B[0m\u001B[34m*\u001B[0m\u001B[34m*\u001B[0m\u001B[34m*\u001B[0m\u001B[34m*\u001B[0m\u001B[34m*\u001B[0m\u001B[34m*\u001B[0m\u001B[34m*\u001B[0m\u001B[34m*\u001B[0m\u001B[34m*\u001B[0m\u001B[34m*\u001B[0m\u001B[34m*\u001B[0m\u001B[34m*\u001B[0m\u001B[34m*\u001B[0m\u001B[34m*\u001B[0m\u001B[34m*\u001B[0m\u001B[34m*\u001B[0m\u001B[34m*\u001B[0m\u001B[34m*\u001B[0m\u001B[34m*\u001B[0m\u001B[34m*\u001B[0m\u001B[34m*\u001B[0m\u001B[34m*\u001B[0m\u001B[34m*\u001B[0m\u001B[34m*\u001B[0m\u001B[34m*\u001B[0m\u001B[34m*\u001B[0m\u001B[34m*\u001B[0m\n",
      "\u001B[32m** Rozwiązanie ********************************************************************************\u001B[0m\n"
     ]
    },
    {
     "data": {
      "text/plain": [
       "<IPython.core.display.Latex object>"
      ],
      "text/latex": "$$- x + i y + \\left(x + i y\\right)^{2} - 2 = 0, $$"
     },
     "metadata": {},
     "output_type": "display_data"
    },
    {
     "data": {
      "text/plain": [
       "<IPython.core.display.Latex object>"
      ],
      "text/latex": "$$ x^{2} + 2 i x y - x - y^{2} + i y - 2 = 0, $$"
     },
     "metadata": {},
     "output_type": "display_data"
    },
    {
     "data": {
      "text/plain": [
       "<IPython.core.display.Latex object>"
      ],
      "text/latex": "$$ \\left\\{\n\t\\begin{array}{c}\n\t\tx^{2} - x - y^{2} - 2 = 0\\\\\n\t\t2 x y + y = 0\n\t\\end{array}\n\\right. $$"
     },
     "metadata": {},
     "output_type": "display_data"
    },
    {
     "data": {
      "text/plain": [
       "<IPython.core.display.Latex object>"
      ],
      "text/latex": "$$ z = \\left[ \\left\\{ x : -1, \\  y : 0\\right\\}, \\  \\left\\{ x : 2, \\  y : 0\\right\\}\\right].$$"
     },
     "metadata": {},
     "output_type": "display_data"
    },
    {
     "name": "stdout",
     "output_type": "stream",
     "text": [
      "\u001B[32m*\u001B[0m\u001B[32m*\u001B[0m\u001B[32m*\u001B[0m\u001B[32m*\u001B[0m\u001B[32m*\u001B[0m\u001B[32m*\u001B[0m\u001B[32m*\u001B[0m\u001B[32m*\u001B[0m\u001B[32m*\u001B[0m\u001B[32m*\u001B[0m\u001B[32m*\u001B[0m\u001B[32m*\u001B[0m\u001B[32m*\u001B[0m\u001B[32m*\u001B[0m\u001B[32m*\u001B[0m\u001B[32m*\u001B[0m\u001B[32m*\u001B[0m\u001B[32m*\u001B[0m\u001B[32m*\u001B[0m\u001B[32m*\u001B[0m\u001B[32m*\u001B[0m\u001B[32m*\u001B[0m\u001B[32m*\u001B[0m\u001B[32m*\u001B[0m\u001B[32m*\u001B[0m\u001B[32m*\u001B[0m\u001B[32m*\u001B[0m\u001B[32m*\u001B[0m\u001B[32m*\u001B[0m\u001B[32m*\u001B[0m\u001B[32m*\u001B[0m\u001B[32m*\u001B[0m\u001B[32m*\u001B[0m\u001B[32m*\u001B[0m\u001B[32m*\u001B[0m\u001B[32m*\u001B[0m\u001B[32m*\u001B[0m\u001B[32m*\u001B[0m\u001B[32m*\u001B[0m\u001B[32m*\u001B[0m\u001B[32m*\u001B[0m\u001B[32m*\u001B[0m\u001B[32m*\u001B[0m\u001B[32m*\u001B[0m\u001B[32m*\u001B[0m\u001B[32m*\u001B[0m\u001B[32m*\u001B[0m\u001B[32m*\u001B[0m\u001B[32m*\u001B[0m\u001B[32m*\u001B[0m\u001B[32m*\u001B[0m\u001B[32m*\u001B[0m\u001B[32m*\u001B[0m\u001B[32m*\u001B[0m\u001B[32m*\u001B[0m\u001B[32m*\u001B[0m\u001B[32m*\u001B[0m\u001B[32m*\u001B[0m\u001B[32m*\u001B[0m\u001B[32m*\u001B[0m\u001B[32m*\u001B[0m\u001B[32m*\u001B[0m\u001B[32m*\u001B[0m\u001B[32m*\u001B[0m\u001B[32m*\u001B[0m\u001B[32m*\u001B[0m\u001B[32m*\u001B[0m\u001B[32m*\u001B[0m\u001B[32m*\u001B[0m\u001B[32m*\u001B[0m\u001B[32m*\u001B[0m\u001B[32m*\u001B[0m\u001B[32m*\u001B[0m\u001B[32m*\u001B[0m\u001B[32m*\u001B[0m\u001B[32m*\u001B[0m\u001B[32m*\u001B[0m\u001B[32m*\u001B[0m\u001B[32m*\u001B[0m\u001B[32m*\u001B[0m\u001B[32m*\u001B[0m\u001B[32m*\u001B[0m\u001B[32m*\u001B[0m\u001B[32m*\u001B[0m\u001B[32m*\u001B[0m\u001B[32m*\u001B[0m\u001B[32m*\u001B[0m\u001B[32m*\u001B[0m\u001B[32m*\u001B[0m\u001B[32m*\u001B[0m\u001B[32m*\u001B[0m\u001B[32m*\u001B[0m\u001B[32m*\u001B[0m\u001B[32m*\u001B[0m\u001B[32m*\u001B[0m\n",
      "\u001B[34m** Zadanie 5 **********************************************************************************\u001B[0m\n"
     ]
    },
    {
     "data": {
      "text/plain": [
       "<IPython.core.display.Markdown object>"
      ],
      "text/markdown": "Rozwiązać równanie w zbiorze liczb zespolonych"
     },
     "metadata": {},
     "output_type": "display_data"
    },
    {
     "data": {
      "text/plain": [
       "<IPython.core.display.Latex object>"
      ],
      "text/latex": "$$\t\tz^{2} + \\overline{z} - 6 = 0$$"
     },
     "metadata": {},
     "output_type": "display_data"
    },
    {
     "name": "stdout",
     "output_type": "stream",
     "text": [
      "\u001B[34m*\u001B[0m\u001B[34m*\u001B[0m\u001B[34m*\u001B[0m\u001B[34m*\u001B[0m\u001B[34m*\u001B[0m\u001B[34m*\u001B[0m\u001B[34m*\u001B[0m\u001B[34m*\u001B[0m\u001B[34m*\u001B[0m\u001B[34m*\u001B[0m\u001B[34m*\u001B[0m\u001B[34m*\u001B[0m\u001B[34m*\u001B[0m\u001B[34m*\u001B[0m\u001B[34m*\u001B[0m\u001B[34m*\u001B[0m\u001B[34m*\u001B[0m\u001B[34m*\u001B[0m\u001B[34m*\u001B[0m\u001B[34m*\u001B[0m\u001B[34m*\u001B[0m\u001B[34m*\u001B[0m\u001B[34m*\u001B[0m\u001B[34m*\u001B[0m\u001B[34m*\u001B[0m\u001B[34m*\u001B[0m\u001B[34m*\u001B[0m\u001B[34m*\u001B[0m\u001B[34m*\u001B[0m\u001B[34m*\u001B[0m\u001B[34m*\u001B[0m\u001B[34m*\u001B[0m\u001B[34m*\u001B[0m\u001B[34m*\u001B[0m\u001B[34m*\u001B[0m\u001B[34m*\u001B[0m\u001B[34m*\u001B[0m\u001B[34m*\u001B[0m\u001B[34m*\u001B[0m\u001B[34m*\u001B[0m\u001B[34m*\u001B[0m\u001B[34m*\u001B[0m\u001B[34m*\u001B[0m\u001B[34m*\u001B[0m\u001B[34m*\u001B[0m\u001B[34m*\u001B[0m\u001B[34m*\u001B[0m\u001B[34m*\u001B[0m\u001B[34m*\u001B[0m\u001B[34m*\u001B[0m\u001B[34m*\u001B[0m\u001B[34m*\u001B[0m\u001B[34m*\u001B[0m\u001B[34m*\u001B[0m\u001B[34m*\u001B[0m\u001B[34m*\u001B[0m\u001B[34m*\u001B[0m\u001B[34m*\u001B[0m\u001B[34m*\u001B[0m\u001B[34m*\u001B[0m\u001B[34m*\u001B[0m\u001B[34m*\u001B[0m\u001B[34m*\u001B[0m\u001B[34m*\u001B[0m\u001B[34m*\u001B[0m\u001B[34m*\u001B[0m\u001B[34m*\u001B[0m\u001B[34m*\u001B[0m\u001B[34m*\u001B[0m\u001B[34m*\u001B[0m\u001B[34m*\u001B[0m\u001B[34m*\u001B[0m\u001B[34m*\u001B[0m\u001B[34m*\u001B[0m\u001B[34m*\u001B[0m\u001B[34m*\u001B[0m\u001B[34m*\u001B[0m\u001B[34m*\u001B[0m\u001B[34m*\u001B[0m\u001B[34m*\u001B[0m\u001B[34m*\u001B[0m\u001B[34m*\u001B[0m\u001B[34m*\u001B[0m\u001B[34m*\u001B[0m\u001B[34m*\u001B[0m\u001B[34m*\u001B[0m\u001B[34m*\u001B[0m\u001B[34m*\u001B[0m\u001B[34m*\u001B[0m\u001B[34m*\u001B[0m\u001B[34m*\u001B[0m\u001B[34m*\u001B[0m\u001B[34m*\u001B[0m\u001B[34m*\u001B[0m\u001B[34m*\u001B[0m\n",
      "\u001B[32m** Rozwiązanie ********************************************************************************\u001B[0m\n"
     ]
    },
    {
     "data": {
      "text/plain": [
       "<IPython.core.display.Latex object>"
      ],
      "text/latex": "$$x - i y + \\left(x + i y\\right)^{2} - 6 = 0, $$"
     },
     "metadata": {},
     "output_type": "display_data"
    },
    {
     "data": {
      "text/plain": [
       "<IPython.core.display.Latex object>"
      ],
      "text/latex": "$$ x^{2} + 2 i x y + x - y^{2} - i y - 6 = 0, $$"
     },
     "metadata": {},
     "output_type": "display_data"
    },
    {
     "data": {
      "text/plain": [
       "<IPython.core.display.Latex object>"
      ],
      "text/latex": "$$ \\left\\{\n\t\\begin{array}{c}\n\t\tx^{2} + x - y^{2} - 6 = 0\\\\\n\t\t2 x y - y = 0\n\t\\end{array}\n\\right. $$"
     },
     "metadata": {},
     "output_type": "display_data"
    },
    {
     "data": {
      "text/plain": [
       "<IPython.core.display.Latex object>"
      ],
      "text/latex": "$$ z = \\left[ \\left\\{ x : -3, \\  y : 0\\right\\}, \\  \\left\\{ x : 2, \\  y : 0\\right\\}\\right].$$"
     },
     "metadata": {},
     "output_type": "display_data"
    },
    {
     "name": "stdout",
     "output_type": "stream",
     "text": [
      "\u001B[32m*\u001B[0m\u001B[32m*\u001B[0m\u001B[32m*\u001B[0m\u001B[32m*\u001B[0m\u001B[32m*\u001B[0m\u001B[32m*\u001B[0m\u001B[32m*\u001B[0m\u001B[32m*\u001B[0m\u001B[32m*\u001B[0m\u001B[32m*\u001B[0m\u001B[32m*\u001B[0m\u001B[32m*\u001B[0m\u001B[32m*\u001B[0m\u001B[32m*\u001B[0m\u001B[32m*\u001B[0m\u001B[32m*\u001B[0m\u001B[32m*\u001B[0m\u001B[32m*\u001B[0m\u001B[32m*\u001B[0m\u001B[32m*\u001B[0m\u001B[32m*\u001B[0m\u001B[32m*\u001B[0m\u001B[32m*\u001B[0m\u001B[32m*\u001B[0m\u001B[32m*\u001B[0m\u001B[32m*\u001B[0m\u001B[32m*\u001B[0m\u001B[32m*\u001B[0m\u001B[32m*\u001B[0m\u001B[32m*\u001B[0m\u001B[32m*\u001B[0m\u001B[32m*\u001B[0m\u001B[32m*\u001B[0m\u001B[32m*\u001B[0m\u001B[32m*\u001B[0m\u001B[32m*\u001B[0m\u001B[32m*\u001B[0m\u001B[32m*\u001B[0m\u001B[32m*\u001B[0m\u001B[32m*\u001B[0m\u001B[32m*\u001B[0m\u001B[32m*\u001B[0m\u001B[32m*\u001B[0m\u001B[32m*\u001B[0m\u001B[32m*\u001B[0m\u001B[32m*\u001B[0m\u001B[32m*\u001B[0m\u001B[32m*\u001B[0m\u001B[32m*\u001B[0m\u001B[32m*\u001B[0m\u001B[32m*\u001B[0m\u001B[32m*\u001B[0m\u001B[32m*\u001B[0m\u001B[32m*\u001B[0m\u001B[32m*\u001B[0m\u001B[32m*\u001B[0m\u001B[32m*\u001B[0m\u001B[32m*\u001B[0m\u001B[32m*\u001B[0m\u001B[32m*\u001B[0m\u001B[32m*\u001B[0m\u001B[32m*\u001B[0m\u001B[32m*\u001B[0m\u001B[32m*\u001B[0m\u001B[32m*\u001B[0m\u001B[32m*\u001B[0m\u001B[32m*\u001B[0m\u001B[32m*\u001B[0m\u001B[32m*\u001B[0m\u001B[32m*\u001B[0m\u001B[32m*\u001B[0m\u001B[32m*\u001B[0m\u001B[32m*\u001B[0m\u001B[32m*\u001B[0m\u001B[32m*\u001B[0m\u001B[32m*\u001B[0m\u001B[32m*\u001B[0m\u001B[32m*\u001B[0m\u001B[32m*\u001B[0m\u001B[32m*\u001B[0m\u001B[32m*\u001B[0m\u001B[32m*\u001B[0m\u001B[32m*\u001B[0m\u001B[32m*\u001B[0m\u001B[32m*\u001B[0m\u001B[32m*\u001B[0m\u001B[32m*\u001B[0m\u001B[32m*\u001B[0m\u001B[32m*\u001B[0m\u001B[32m*\u001B[0m\u001B[32m*\u001B[0m\u001B[32m*\u001B[0m\u001B[32m*\u001B[0m\u001B[32m*\u001B[0m\u001B[32m*\u001B[0m\n",
      "\u001B[34m** Zadanie 6 **********************************************************************************\u001B[0m\n"
     ]
    },
    {
     "data": {
      "text/plain": [
       "<IPython.core.display.Markdown object>"
      ],
      "text/markdown": "Rozwiązać równanie w zbiorze liczb zespolonych"
     },
     "metadata": {},
     "output_type": "display_data"
    },
    {
     "data": {
      "text/plain": [
       "<IPython.core.display.Latex object>"
      ],
      "text/latex": "$$\t\tz \\left(4 - 3 i\\right) + \\left(6 + i\\right) \\overline{z} - 3 - 3 i = 0$$"
     },
     "metadata": {},
     "output_type": "display_data"
    },
    {
     "name": "stdout",
     "output_type": "stream",
     "text": [
      "\u001B[34m*\u001B[0m\u001B[34m*\u001B[0m\u001B[34m*\u001B[0m\u001B[34m*\u001B[0m\u001B[34m*\u001B[0m\u001B[34m*\u001B[0m\u001B[34m*\u001B[0m\u001B[34m*\u001B[0m\u001B[34m*\u001B[0m\u001B[34m*\u001B[0m\u001B[34m*\u001B[0m\u001B[34m*\u001B[0m\u001B[34m*\u001B[0m\u001B[34m*\u001B[0m\u001B[34m*\u001B[0m\u001B[34m*\u001B[0m\u001B[34m*\u001B[0m\u001B[34m*\u001B[0m\u001B[34m*\u001B[0m\u001B[34m*\u001B[0m\u001B[34m*\u001B[0m\u001B[34m*\u001B[0m\u001B[34m*\u001B[0m\u001B[34m*\u001B[0m\u001B[34m*\u001B[0m\u001B[34m*\u001B[0m\u001B[34m*\u001B[0m\u001B[34m*\u001B[0m\u001B[34m*\u001B[0m\u001B[34m*\u001B[0m\u001B[34m*\u001B[0m\u001B[34m*\u001B[0m\u001B[34m*\u001B[0m\u001B[34m*\u001B[0m\u001B[34m*\u001B[0m\u001B[34m*\u001B[0m\u001B[34m*\u001B[0m\u001B[34m*\u001B[0m\u001B[34m*\u001B[0m\u001B[34m*\u001B[0m\u001B[34m*\u001B[0m\u001B[34m*\u001B[0m\u001B[34m*\u001B[0m\u001B[34m*\u001B[0m\u001B[34m*\u001B[0m\u001B[34m*\u001B[0m\u001B[34m*\u001B[0m\u001B[34m*\u001B[0m\u001B[34m*\u001B[0m\u001B[34m*\u001B[0m\u001B[34m*\u001B[0m\u001B[34m*\u001B[0m\u001B[34m*\u001B[0m\u001B[34m*\u001B[0m\u001B[34m*\u001B[0m\u001B[34m*\u001B[0m\u001B[34m*\u001B[0m\u001B[34m*\u001B[0m\u001B[34m*\u001B[0m\u001B[34m*\u001B[0m\u001B[34m*\u001B[0m\u001B[34m*\u001B[0m\u001B[34m*\u001B[0m\u001B[34m*\u001B[0m\u001B[34m*\u001B[0m\u001B[34m*\u001B[0m\u001B[34m*\u001B[0m\u001B[34m*\u001B[0m\u001B[34m*\u001B[0m\u001B[34m*\u001B[0m\u001B[34m*\u001B[0m\u001B[34m*\u001B[0m\u001B[34m*\u001B[0m\u001B[34m*\u001B[0m\u001B[34m*\u001B[0m\u001B[34m*\u001B[0m\u001B[34m*\u001B[0m\u001B[34m*\u001B[0m\u001B[34m*\u001B[0m\u001B[34m*\u001B[0m\u001B[34m*\u001B[0m\u001B[34m*\u001B[0m\u001B[34m*\u001B[0m\u001B[34m*\u001B[0m\u001B[34m*\u001B[0m\u001B[34m*\u001B[0m\u001B[34m*\u001B[0m\u001B[34m*\u001B[0m\u001B[34m*\u001B[0m\u001B[34m*\u001B[0m\u001B[34m*\u001B[0m\u001B[34m*\u001B[0m\u001B[34m*\u001B[0m\u001B[34m*\u001B[0m\u001B[34m*\u001B[0m\n",
      "\u001B[32m** Rozwiązanie ********************************************************************************\u001B[0m\n"
     ]
    },
    {
     "data": {
      "text/plain": [
       "<IPython.core.display.Latex object>"
      ],
      "text/latex": "$$\\left(6 + i\\right) \\left(x - i y\\right) + \\left(4 - 3 i\\right) \\left(x + i y\\right) - 3 - 3 i = 0, $$"
     },
     "metadata": {},
     "output_type": "display_data"
    },
    {
     "data": {
      "text/plain": [
       "<IPython.core.display.Latex object>"
      ],
      "text/latex": "$$ \\left(1 + i\\right) \\left(x \\left(4 - 6 i\\right) + y \\left(1 - 3 i\\right) - 3\\right) = 0, $$"
     },
     "metadata": {},
     "output_type": "display_data"
    },
    {
     "data": {
      "text/plain": [
       "<IPython.core.display.Latex object>"
      ],
      "text/latex": "$$ \\left\\{\n\t\\begin{array}{c}\n\t\t10 x + 4 y - 3 = 0\\\\\n\t\t- 2 x - 2 y - 3 = 0\n\t\\end{array}\n\\right. $$"
     },
     "metadata": {},
     "output_type": "display_data"
    },
    {
     "data": {
      "text/plain": [
       "<IPython.core.display.Latex object>"
      ],
      "text/latex": "$$ z = \\left\\{ x : \\frac{3}{2}, \\  y : -3\\right\\}.$$"
     },
     "metadata": {},
     "output_type": "display_data"
    },
    {
     "name": "stdout",
     "output_type": "stream",
     "text": [
      "\u001B[32m*\u001B[0m\u001B[32m*\u001B[0m\u001B[32m*\u001B[0m\u001B[32m*\u001B[0m\u001B[32m*\u001B[0m\u001B[32m*\u001B[0m\u001B[32m*\u001B[0m\u001B[32m*\u001B[0m\u001B[32m*\u001B[0m\u001B[32m*\u001B[0m\u001B[32m*\u001B[0m\u001B[32m*\u001B[0m\u001B[32m*\u001B[0m\u001B[32m*\u001B[0m\u001B[32m*\u001B[0m\u001B[32m*\u001B[0m\u001B[32m*\u001B[0m\u001B[32m*\u001B[0m\u001B[32m*\u001B[0m\u001B[32m*\u001B[0m\u001B[32m*\u001B[0m\u001B[32m*\u001B[0m\u001B[32m*\u001B[0m\u001B[32m*\u001B[0m\u001B[32m*\u001B[0m\u001B[32m*\u001B[0m\u001B[32m*\u001B[0m\u001B[32m*\u001B[0m\u001B[32m*\u001B[0m\u001B[32m*\u001B[0m\u001B[32m*\u001B[0m\u001B[32m*\u001B[0m\u001B[32m*\u001B[0m\u001B[32m*\u001B[0m\u001B[32m*\u001B[0m\u001B[32m*\u001B[0m\u001B[32m*\u001B[0m\u001B[32m*\u001B[0m\u001B[32m*\u001B[0m\u001B[32m*\u001B[0m\u001B[32m*\u001B[0m\u001B[32m*\u001B[0m\u001B[32m*\u001B[0m\u001B[32m*\u001B[0m\u001B[32m*\u001B[0m\u001B[32m*\u001B[0m\u001B[32m*\u001B[0m\u001B[32m*\u001B[0m\u001B[32m*\u001B[0m\u001B[32m*\u001B[0m\u001B[32m*\u001B[0m\u001B[32m*\u001B[0m\u001B[32m*\u001B[0m\u001B[32m*\u001B[0m\u001B[32m*\u001B[0m\u001B[32m*\u001B[0m\u001B[32m*\u001B[0m\u001B[32m*\u001B[0m\u001B[32m*\u001B[0m\u001B[32m*\u001B[0m\u001B[32m*\u001B[0m\u001B[32m*\u001B[0m\u001B[32m*\u001B[0m\u001B[32m*\u001B[0m\u001B[32m*\u001B[0m\u001B[32m*\u001B[0m\u001B[32m*\u001B[0m\u001B[32m*\u001B[0m\u001B[32m*\u001B[0m\u001B[32m*\u001B[0m\u001B[32m*\u001B[0m\u001B[32m*\u001B[0m\u001B[32m*\u001B[0m\u001B[32m*\u001B[0m\u001B[32m*\u001B[0m\u001B[32m*\u001B[0m\u001B[32m*\u001B[0m\u001B[32m*\u001B[0m\u001B[32m*\u001B[0m\u001B[32m*\u001B[0m\u001B[32m*\u001B[0m\u001B[32m*\u001B[0m\u001B[32m*\u001B[0m\u001B[32m*\u001B[0m\u001B[32m*\u001B[0m\u001B[32m*\u001B[0m\u001B[32m*\u001B[0m\u001B[32m*\u001B[0m\u001B[32m*\u001B[0m\u001B[32m*\u001B[0m\u001B[32m*\u001B[0m\u001B[32m*\u001B[0m\u001B[32m*\u001B[0m\u001B[32m*\u001B[0m\u001B[32m*\u001B[0m\n",
      "\u001B[34m** Zadanie 7 **********************************************************************************\u001B[0m\n"
     ]
    },
    {
     "data": {
      "text/plain": [
       "<IPython.core.display.Markdown object>"
      ],
      "text/markdown": "Rozwiązać równanie w zbiorze liczb zespolonych"
     },
     "metadata": {},
     "output_type": "display_data"
    },
    {
     "data": {
      "text/plain": [
       "<IPython.core.display.Latex object>"
      ],
      "text/latex": "$$\t\tz^{2} + 6 \\overline{z} + 4 = 0$$"
     },
     "metadata": {},
     "output_type": "display_data"
    },
    {
     "name": "stdout",
     "output_type": "stream",
     "text": [
      "\u001B[34m*\u001B[0m\u001B[34m*\u001B[0m\u001B[34m*\u001B[0m\u001B[34m*\u001B[0m\u001B[34m*\u001B[0m\u001B[34m*\u001B[0m\u001B[34m*\u001B[0m\u001B[34m*\u001B[0m\u001B[34m*\u001B[0m\u001B[34m*\u001B[0m\u001B[34m*\u001B[0m\u001B[34m*\u001B[0m\u001B[34m*\u001B[0m\u001B[34m*\u001B[0m\u001B[34m*\u001B[0m\u001B[34m*\u001B[0m\u001B[34m*\u001B[0m\u001B[34m*\u001B[0m\u001B[34m*\u001B[0m\u001B[34m*\u001B[0m\u001B[34m*\u001B[0m\u001B[34m*\u001B[0m\u001B[34m*\u001B[0m\u001B[34m*\u001B[0m\u001B[34m*\u001B[0m\u001B[34m*\u001B[0m\u001B[34m*\u001B[0m\u001B[34m*\u001B[0m\u001B[34m*\u001B[0m\u001B[34m*\u001B[0m\u001B[34m*\u001B[0m\u001B[34m*\u001B[0m\u001B[34m*\u001B[0m\u001B[34m*\u001B[0m\u001B[34m*\u001B[0m\u001B[34m*\u001B[0m\u001B[34m*\u001B[0m\u001B[34m*\u001B[0m\u001B[34m*\u001B[0m\u001B[34m*\u001B[0m\u001B[34m*\u001B[0m\u001B[34m*\u001B[0m\u001B[34m*\u001B[0m\u001B[34m*\u001B[0m\u001B[34m*\u001B[0m\u001B[34m*\u001B[0m\u001B[34m*\u001B[0m\u001B[34m*\u001B[0m\u001B[34m*\u001B[0m\u001B[34m*\u001B[0m\u001B[34m*\u001B[0m\u001B[34m*\u001B[0m\u001B[34m*\u001B[0m\u001B[34m*\u001B[0m\u001B[34m*\u001B[0m\u001B[34m*\u001B[0m\u001B[34m*\u001B[0m\u001B[34m*\u001B[0m\u001B[34m*\u001B[0m\u001B[34m*\u001B[0m\u001B[34m*\u001B[0m\u001B[34m*\u001B[0m\u001B[34m*\u001B[0m\u001B[34m*\u001B[0m\u001B[34m*\u001B[0m\u001B[34m*\u001B[0m\u001B[34m*\u001B[0m\u001B[34m*\u001B[0m\u001B[34m*\u001B[0m\u001B[34m*\u001B[0m\u001B[34m*\u001B[0m\u001B[34m*\u001B[0m\u001B[34m*\u001B[0m\u001B[34m*\u001B[0m\u001B[34m*\u001B[0m\u001B[34m*\u001B[0m\u001B[34m*\u001B[0m\u001B[34m*\u001B[0m\u001B[34m*\u001B[0m\u001B[34m*\u001B[0m\u001B[34m*\u001B[0m\u001B[34m*\u001B[0m\u001B[34m*\u001B[0m\u001B[34m*\u001B[0m\u001B[34m*\u001B[0m\u001B[34m*\u001B[0m\u001B[34m*\u001B[0m\u001B[34m*\u001B[0m\u001B[34m*\u001B[0m\u001B[34m*\u001B[0m\u001B[34m*\u001B[0m\u001B[34m*\u001B[0m\u001B[34m*\u001B[0m\u001B[34m*\u001B[0m\u001B[34m*\u001B[0m\n",
      "\u001B[32m** Rozwiązanie ********************************************************************************\u001B[0m\n"
     ]
    },
    {
     "data": {
      "text/plain": [
       "<IPython.core.display.Latex object>"
      ],
      "text/latex": "$$6 x - 6 i y + \\left(x + i y\\right)^{2} + 4 = 0, $$"
     },
     "metadata": {},
     "output_type": "display_data"
    },
    {
     "data": {
      "text/plain": [
       "<IPython.core.display.Latex object>"
      ],
      "text/latex": "$$ x^{2} + 2 i x y + 6 x - y^{2} - 6 i y + 4 = 0, $$"
     },
     "metadata": {},
     "output_type": "display_data"
    },
    {
     "data": {
      "text/plain": [
       "<IPython.core.display.Latex object>"
      ],
      "text/latex": "$$ \\left\\{\n\t\\begin{array}{c}\n\t\tx^{2} + 6 x - y^{2} + 4 = 0\\\\\n\t\t2 x y - 6 y = 0\n\t\\end{array}\n\\right. $$"
     },
     "metadata": {},
     "output_type": "display_data"
    },
    {
     "data": {
      "text/plain": [
       "<IPython.core.display.Latex object>"
      ],
      "text/latex": "$$ z = \\left[ \\left\\{ x : 3, \\  y : - \\sqrt{31}\\right\\}, \\  \\left\\{ x : 3, \\  y : \\sqrt{31}\\right\\}, \\  \\left\\{ x : -3 - \\sqrt{5}, \\  y : 0\\right\\}, \\  \\left\\{ x : -3 + \\sqrt{5}, \\  y : 0\\right\\}\\right].$$"
     },
     "metadata": {},
     "output_type": "display_data"
    },
    {
     "name": "stdout",
     "output_type": "stream",
     "text": [
      "\u001B[32m*\u001B[0m\u001B[32m*\u001B[0m\u001B[32m*\u001B[0m\u001B[32m*\u001B[0m\u001B[32m*\u001B[0m\u001B[32m*\u001B[0m\u001B[32m*\u001B[0m\u001B[32m*\u001B[0m\u001B[32m*\u001B[0m\u001B[32m*\u001B[0m\u001B[32m*\u001B[0m\u001B[32m*\u001B[0m\u001B[32m*\u001B[0m\u001B[32m*\u001B[0m\u001B[32m*\u001B[0m\u001B[32m*\u001B[0m\u001B[32m*\u001B[0m\u001B[32m*\u001B[0m\u001B[32m*\u001B[0m\u001B[32m*\u001B[0m\u001B[32m*\u001B[0m\u001B[32m*\u001B[0m\u001B[32m*\u001B[0m\u001B[32m*\u001B[0m\u001B[32m*\u001B[0m\u001B[32m*\u001B[0m\u001B[32m*\u001B[0m\u001B[32m*\u001B[0m\u001B[32m*\u001B[0m\u001B[32m*\u001B[0m\u001B[32m*\u001B[0m\u001B[32m*\u001B[0m\u001B[32m*\u001B[0m\u001B[32m*\u001B[0m\u001B[32m*\u001B[0m\u001B[32m*\u001B[0m\u001B[32m*\u001B[0m\u001B[32m*\u001B[0m\u001B[32m*\u001B[0m\u001B[32m*\u001B[0m\u001B[32m*\u001B[0m\u001B[32m*\u001B[0m\u001B[32m*\u001B[0m\u001B[32m*\u001B[0m\u001B[32m*\u001B[0m\u001B[32m*\u001B[0m\u001B[32m*\u001B[0m\u001B[32m*\u001B[0m\u001B[32m*\u001B[0m\u001B[32m*\u001B[0m\u001B[32m*\u001B[0m\u001B[32m*\u001B[0m\u001B[32m*\u001B[0m\u001B[32m*\u001B[0m\u001B[32m*\u001B[0m\u001B[32m*\u001B[0m\u001B[32m*\u001B[0m\u001B[32m*\u001B[0m\u001B[32m*\u001B[0m\u001B[32m*\u001B[0m\u001B[32m*\u001B[0m\u001B[32m*\u001B[0m\u001B[32m*\u001B[0m\u001B[32m*\u001B[0m\u001B[32m*\u001B[0m\u001B[32m*\u001B[0m\u001B[32m*\u001B[0m\u001B[32m*\u001B[0m\u001B[32m*\u001B[0m\u001B[32m*\u001B[0m\u001B[32m*\u001B[0m\u001B[32m*\u001B[0m\u001B[32m*\u001B[0m\u001B[32m*\u001B[0m\u001B[32m*\u001B[0m\u001B[32m*\u001B[0m\u001B[32m*\u001B[0m\u001B[32m*\u001B[0m\u001B[32m*\u001B[0m\u001B[32m*\u001B[0m\u001B[32m*\u001B[0m\u001B[32m*\u001B[0m\u001B[32m*\u001B[0m\u001B[32m*\u001B[0m\u001B[32m*\u001B[0m\u001B[32m*\u001B[0m\u001B[32m*\u001B[0m\u001B[32m*\u001B[0m\u001B[32m*\u001B[0m\u001B[32m*\u001B[0m\u001B[32m*\u001B[0m\u001B[32m*\u001B[0m\u001B[32m*\u001B[0m\u001B[32m*\u001B[0m\u001B[32m*\u001B[0m\n",
      "\u001B[34m** Zadanie 8 **********************************************************************************\u001B[0m\n"
     ]
    },
    {
     "data": {
      "text/plain": [
       "<IPython.core.display.Markdown object>"
      ],
      "text/markdown": "Rozwiązać równanie w zbiorze liczb zespolonych"
     },
     "metadata": {},
     "output_type": "display_data"
    },
    {
     "data": {
      "text/plain": [
       "<IPython.core.display.Latex object>"
      ],
      "text/latex": "$$\t\tz \\left(-4 + i\\right) + \\left(2 + 2 i\\right) \\overline{z} + 5 + 6 i = 0$$"
     },
     "metadata": {},
     "output_type": "display_data"
    },
    {
     "name": "stdout",
     "output_type": "stream",
     "text": [
      "\u001B[34m*\u001B[0m\u001B[34m*\u001B[0m\u001B[34m*\u001B[0m\u001B[34m*\u001B[0m\u001B[34m*\u001B[0m\u001B[34m*\u001B[0m\u001B[34m*\u001B[0m\u001B[34m*\u001B[0m\u001B[34m*\u001B[0m\u001B[34m*\u001B[0m\u001B[34m*\u001B[0m\u001B[34m*\u001B[0m\u001B[34m*\u001B[0m\u001B[34m*\u001B[0m\u001B[34m*\u001B[0m\u001B[34m*\u001B[0m\u001B[34m*\u001B[0m\u001B[34m*\u001B[0m\u001B[34m*\u001B[0m\u001B[34m*\u001B[0m\u001B[34m*\u001B[0m\u001B[34m*\u001B[0m\u001B[34m*\u001B[0m\u001B[34m*\u001B[0m\u001B[34m*\u001B[0m\u001B[34m*\u001B[0m\u001B[34m*\u001B[0m\u001B[34m*\u001B[0m\u001B[34m*\u001B[0m\u001B[34m*\u001B[0m\u001B[34m*\u001B[0m\u001B[34m*\u001B[0m\u001B[34m*\u001B[0m\u001B[34m*\u001B[0m\u001B[34m*\u001B[0m\u001B[34m*\u001B[0m\u001B[34m*\u001B[0m\u001B[34m*\u001B[0m\u001B[34m*\u001B[0m\u001B[34m*\u001B[0m\u001B[34m*\u001B[0m\u001B[34m*\u001B[0m\u001B[34m*\u001B[0m\u001B[34m*\u001B[0m\u001B[34m*\u001B[0m\u001B[34m*\u001B[0m\u001B[34m*\u001B[0m\u001B[34m*\u001B[0m\u001B[34m*\u001B[0m\u001B[34m*\u001B[0m\u001B[34m*\u001B[0m\u001B[34m*\u001B[0m\u001B[34m*\u001B[0m\u001B[34m*\u001B[0m\u001B[34m*\u001B[0m\u001B[34m*\u001B[0m\u001B[34m*\u001B[0m\u001B[34m*\u001B[0m\u001B[34m*\u001B[0m\u001B[34m*\u001B[0m\u001B[34m*\u001B[0m\u001B[34m*\u001B[0m\u001B[34m*\u001B[0m\u001B[34m*\u001B[0m\u001B[34m*\u001B[0m\u001B[34m*\u001B[0m\u001B[34m*\u001B[0m\u001B[34m*\u001B[0m\u001B[34m*\u001B[0m\u001B[34m*\u001B[0m\u001B[34m*\u001B[0m\u001B[34m*\u001B[0m\u001B[34m*\u001B[0m\u001B[34m*\u001B[0m\u001B[34m*\u001B[0m\u001B[34m*\u001B[0m\u001B[34m*\u001B[0m\u001B[34m*\u001B[0m\u001B[34m*\u001B[0m\u001B[34m*\u001B[0m\u001B[34m*\u001B[0m\u001B[34m*\u001B[0m\u001B[34m*\u001B[0m\u001B[34m*\u001B[0m\u001B[34m*\u001B[0m\u001B[34m*\u001B[0m\u001B[34m*\u001B[0m\u001B[34m*\u001B[0m\u001B[34m*\u001B[0m\u001B[34m*\u001B[0m\u001B[34m*\u001B[0m\u001B[34m*\u001B[0m\u001B[34m*\u001B[0m\u001B[34m*\u001B[0m\u001B[34m*\u001B[0m\n",
      "\u001B[32m** Rozwiązanie ********************************************************************************\u001B[0m\n"
     ]
    },
    {
     "data": {
      "text/plain": [
       "<IPython.core.display.Latex object>"
      ],
      "text/latex": "$$\\left(2 + 2 i\\right) \\left(x - i y\\right) + \\left(-4 + i\\right) \\left(x + i y\\right) + 5 + 6 i = 0, $$"
     },
     "metadata": {},
     "output_type": "display_data"
    },
    {
     "data": {
      "text/plain": [
       "<IPython.core.display.Latex object>"
      ],
      "text/latex": "$$ - x \\left(2 - 3 i\\right) - y \\left(-1 + 6 i\\right) + 5 + 6 i = 0, $$"
     },
     "metadata": {},
     "output_type": "display_data"
    },
    {
     "data": {
      "text/plain": [
       "<IPython.core.display.Latex object>"
      ],
      "text/latex": "$$ \\left\\{\n\t\\begin{array}{c}\n\t\t- 2 x + y + 5 = 0\\\\\n\t\t3 x - 6 y + 6 = 0\n\t\\end{array}\n\\right. $$"
     },
     "metadata": {},
     "output_type": "display_data"
    },
    {
     "data": {
      "text/plain": [
       "<IPython.core.display.Latex object>"
      ],
      "text/latex": "$$ z = \\left\\{ x : 4, \\  y : 3\\right\\}.$$"
     },
     "metadata": {},
     "output_type": "display_data"
    },
    {
     "name": "stdout",
     "output_type": "stream",
     "text": [
      "\u001B[32m*\u001B[0m\u001B[32m*\u001B[0m\u001B[32m*\u001B[0m\u001B[32m*\u001B[0m\u001B[32m*\u001B[0m\u001B[32m*\u001B[0m\u001B[32m*\u001B[0m\u001B[32m*\u001B[0m\u001B[32m*\u001B[0m\u001B[32m*\u001B[0m\u001B[32m*\u001B[0m\u001B[32m*\u001B[0m\u001B[32m*\u001B[0m\u001B[32m*\u001B[0m\u001B[32m*\u001B[0m\u001B[32m*\u001B[0m\u001B[32m*\u001B[0m\u001B[32m*\u001B[0m\u001B[32m*\u001B[0m\u001B[32m*\u001B[0m\u001B[32m*\u001B[0m\u001B[32m*\u001B[0m\u001B[32m*\u001B[0m\u001B[32m*\u001B[0m\u001B[32m*\u001B[0m\u001B[32m*\u001B[0m\u001B[32m*\u001B[0m\u001B[32m*\u001B[0m\u001B[32m*\u001B[0m\u001B[32m*\u001B[0m\u001B[32m*\u001B[0m\u001B[32m*\u001B[0m\u001B[32m*\u001B[0m\u001B[32m*\u001B[0m\u001B[32m*\u001B[0m\u001B[32m*\u001B[0m\u001B[32m*\u001B[0m\u001B[32m*\u001B[0m\u001B[32m*\u001B[0m\u001B[32m*\u001B[0m\u001B[32m*\u001B[0m\u001B[32m*\u001B[0m\u001B[32m*\u001B[0m\u001B[32m*\u001B[0m\u001B[32m*\u001B[0m\u001B[32m*\u001B[0m\u001B[32m*\u001B[0m\u001B[32m*\u001B[0m\u001B[32m*\u001B[0m\u001B[32m*\u001B[0m\u001B[32m*\u001B[0m\u001B[32m*\u001B[0m\u001B[32m*\u001B[0m\u001B[32m*\u001B[0m\u001B[32m*\u001B[0m\u001B[32m*\u001B[0m\u001B[32m*\u001B[0m\u001B[32m*\u001B[0m\u001B[32m*\u001B[0m\u001B[32m*\u001B[0m\u001B[32m*\u001B[0m\u001B[32m*\u001B[0m\u001B[32m*\u001B[0m\u001B[32m*\u001B[0m\u001B[32m*\u001B[0m\u001B[32m*\u001B[0m\u001B[32m*\u001B[0m\u001B[32m*\u001B[0m\u001B[32m*\u001B[0m\u001B[32m*\u001B[0m\u001B[32m*\u001B[0m\u001B[32m*\u001B[0m\u001B[32m*\u001B[0m\u001B[32m*\u001B[0m\u001B[32m*\u001B[0m\u001B[32m*\u001B[0m\u001B[32m*\u001B[0m\u001B[32m*\u001B[0m\u001B[32m*\u001B[0m\u001B[32m*\u001B[0m\u001B[32m*\u001B[0m\u001B[32m*\u001B[0m\u001B[32m*\u001B[0m\u001B[32m*\u001B[0m\u001B[32m*\u001B[0m\u001B[32m*\u001B[0m\u001B[32m*\u001B[0m\u001B[32m*\u001B[0m\u001B[32m*\u001B[0m\u001B[32m*\u001B[0m\u001B[32m*\u001B[0m\u001B[32m*\u001B[0m\u001B[32m*\u001B[0m\u001B[32m*\u001B[0m\u001B[32m*\u001B[0m\n",
      "\u001B[34m** Zadanie 9 **********************************************************************************\u001B[0m\n"
     ]
    },
    {
     "data": {
      "text/plain": [
       "<IPython.core.display.Markdown object>"
      ],
      "text/markdown": "Rozwiązać równanie w zbiorze liczb zespolonych"
     },
     "metadata": {},
     "output_type": "display_data"
    },
    {
     "data": {
      "text/plain": [
       "<IPython.core.display.Latex object>"
      ],
      "text/latex": "$$\t\tz \\left(-6 - 2 i\\right) + \\left(4 - 4 i\\right) \\overline{z} + 3 + 5 i = 0$$"
     },
     "metadata": {},
     "output_type": "display_data"
    },
    {
     "name": "stdout",
     "output_type": "stream",
     "text": [
      "\u001B[34m*\u001B[0m\u001B[34m*\u001B[0m\u001B[34m*\u001B[0m\u001B[34m*\u001B[0m\u001B[34m*\u001B[0m\u001B[34m*\u001B[0m\u001B[34m*\u001B[0m\u001B[34m*\u001B[0m\u001B[34m*\u001B[0m\u001B[34m*\u001B[0m\u001B[34m*\u001B[0m\u001B[34m*\u001B[0m\u001B[34m*\u001B[0m\u001B[34m*\u001B[0m\u001B[34m*\u001B[0m\u001B[34m*\u001B[0m\u001B[34m*\u001B[0m\u001B[34m*\u001B[0m\u001B[34m*\u001B[0m\u001B[34m*\u001B[0m\u001B[34m*\u001B[0m\u001B[34m*\u001B[0m\u001B[34m*\u001B[0m\u001B[34m*\u001B[0m\u001B[34m*\u001B[0m\u001B[34m*\u001B[0m\u001B[34m*\u001B[0m\u001B[34m*\u001B[0m\u001B[34m*\u001B[0m\u001B[34m*\u001B[0m\u001B[34m*\u001B[0m\u001B[34m*\u001B[0m\u001B[34m*\u001B[0m\u001B[34m*\u001B[0m\u001B[34m*\u001B[0m\u001B[34m*\u001B[0m\u001B[34m*\u001B[0m\u001B[34m*\u001B[0m\u001B[34m*\u001B[0m\u001B[34m*\u001B[0m\u001B[34m*\u001B[0m\u001B[34m*\u001B[0m\u001B[34m*\u001B[0m\u001B[34m*\u001B[0m\u001B[34m*\u001B[0m\u001B[34m*\u001B[0m\u001B[34m*\u001B[0m\u001B[34m*\u001B[0m\u001B[34m*\u001B[0m\u001B[34m*\u001B[0m\u001B[34m*\u001B[0m\u001B[34m*\u001B[0m\u001B[34m*\u001B[0m\u001B[34m*\u001B[0m\u001B[34m*\u001B[0m\u001B[34m*\u001B[0m\u001B[34m*\u001B[0m\u001B[34m*\u001B[0m\u001B[34m*\u001B[0m\u001B[34m*\u001B[0m\u001B[34m*\u001B[0m\u001B[34m*\u001B[0m\u001B[34m*\u001B[0m\u001B[34m*\u001B[0m\u001B[34m*\u001B[0m\u001B[34m*\u001B[0m\u001B[34m*\u001B[0m\u001B[34m*\u001B[0m\u001B[34m*\u001B[0m\u001B[34m*\u001B[0m\u001B[34m*\u001B[0m\u001B[34m*\u001B[0m\u001B[34m*\u001B[0m\u001B[34m*\u001B[0m\u001B[34m*\u001B[0m\u001B[34m*\u001B[0m\u001B[34m*\u001B[0m\u001B[34m*\u001B[0m\u001B[34m*\u001B[0m\u001B[34m*\u001B[0m\u001B[34m*\u001B[0m\u001B[34m*\u001B[0m\u001B[34m*\u001B[0m\u001B[34m*\u001B[0m\u001B[34m*\u001B[0m\u001B[34m*\u001B[0m\u001B[34m*\u001B[0m\u001B[34m*\u001B[0m\u001B[34m*\u001B[0m\u001B[34m*\u001B[0m\u001B[34m*\u001B[0m\u001B[34m*\u001B[0m\u001B[34m*\u001B[0m\u001B[34m*\u001B[0m\u001B[34m*\u001B[0m\n",
      "\u001B[32m** Rozwiązanie ********************************************************************************\u001B[0m\n"
     ]
    },
    {
     "data": {
      "text/plain": [
       "<IPython.core.display.Latex object>"
      ],
      "text/latex": "$$\\left(4 - 4 i\\right) \\left(x - i y\\right) + \\left(-6 - 2 i\\right) \\left(x + i y\\right) + 3 + 5 i = 0, $$"
     },
     "metadata": {},
     "output_type": "display_data"
    },
    {
     "data": {
      "text/plain": [
       "<IPython.core.display.Latex object>"
      ],
      "text/latex": "$$ \\left(1 - i\\right) \\left(x \\left(2 - 4 i\\right) + y \\left(4 - 6 i\\right) - 1 + 4 i\\right) = 0, $$"
     },
     "metadata": {},
     "output_type": "display_data"
    },
    {
     "data": {
      "text/plain": [
       "<IPython.core.display.Latex object>"
      ],
      "text/latex": "$$ \\left\\{\n\t\\begin{array}{c}\n\t\t- 2 x - 2 y + 3 = 0\\\\\n\t\t- 6 x - 10 y + 5 = 0\n\t\\end{array}\n\\right. $$"
     },
     "metadata": {},
     "output_type": "display_data"
    },
    {
     "data": {
      "text/plain": [
       "<IPython.core.display.Latex object>"
      ],
      "text/latex": "$$ z = \\left\\{ x : \\frac{5}{2}, \\  y : -1\\right\\}.$$"
     },
     "metadata": {},
     "output_type": "display_data"
    },
    {
     "name": "stdout",
     "output_type": "stream",
     "text": [
      "\u001B[32m*\u001B[0m\u001B[32m*\u001B[0m\u001B[32m*\u001B[0m\u001B[32m*\u001B[0m\u001B[32m*\u001B[0m\u001B[32m*\u001B[0m\u001B[32m*\u001B[0m\u001B[32m*\u001B[0m\u001B[32m*\u001B[0m\u001B[32m*\u001B[0m\u001B[32m*\u001B[0m\u001B[32m*\u001B[0m\u001B[32m*\u001B[0m\u001B[32m*\u001B[0m\u001B[32m*\u001B[0m\u001B[32m*\u001B[0m\u001B[32m*\u001B[0m\u001B[32m*\u001B[0m\u001B[32m*\u001B[0m\u001B[32m*\u001B[0m\u001B[32m*\u001B[0m\u001B[32m*\u001B[0m\u001B[32m*\u001B[0m\u001B[32m*\u001B[0m\u001B[32m*\u001B[0m\u001B[32m*\u001B[0m\u001B[32m*\u001B[0m\u001B[32m*\u001B[0m\u001B[32m*\u001B[0m\u001B[32m*\u001B[0m\u001B[32m*\u001B[0m\u001B[32m*\u001B[0m\u001B[32m*\u001B[0m\u001B[32m*\u001B[0m\u001B[32m*\u001B[0m\u001B[32m*\u001B[0m\u001B[32m*\u001B[0m\u001B[32m*\u001B[0m\u001B[32m*\u001B[0m\u001B[32m*\u001B[0m\u001B[32m*\u001B[0m\u001B[32m*\u001B[0m\u001B[32m*\u001B[0m\u001B[32m*\u001B[0m\u001B[32m*\u001B[0m\u001B[32m*\u001B[0m\u001B[32m*\u001B[0m\u001B[32m*\u001B[0m\u001B[32m*\u001B[0m\u001B[32m*\u001B[0m\u001B[32m*\u001B[0m\u001B[32m*\u001B[0m\u001B[32m*\u001B[0m\u001B[32m*\u001B[0m\u001B[32m*\u001B[0m\u001B[32m*\u001B[0m\u001B[32m*\u001B[0m\u001B[32m*\u001B[0m\u001B[32m*\u001B[0m\u001B[32m*\u001B[0m\u001B[32m*\u001B[0m\u001B[32m*\u001B[0m\u001B[32m*\u001B[0m\u001B[32m*\u001B[0m\u001B[32m*\u001B[0m\u001B[32m*\u001B[0m\u001B[32m*\u001B[0m\u001B[32m*\u001B[0m\u001B[32m*\u001B[0m\u001B[32m*\u001B[0m\u001B[32m*\u001B[0m\u001B[32m*\u001B[0m\u001B[32m*\u001B[0m\u001B[32m*\u001B[0m\u001B[32m*\u001B[0m\u001B[32m*\u001B[0m\u001B[32m*\u001B[0m\u001B[32m*\u001B[0m\u001B[32m*\u001B[0m\u001B[32m*\u001B[0m\u001B[32m*\u001B[0m\u001B[32m*\u001B[0m\u001B[32m*\u001B[0m\u001B[32m*\u001B[0m\u001B[32m*\u001B[0m\u001B[32m*\u001B[0m\u001B[32m*\u001B[0m\u001B[32m*\u001B[0m\u001B[32m*\u001B[0m\u001B[32m*\u001B[0m\u001B[32m*\u001B[0m\u001B[32m*\u001B[0m\u001B[32m*\u001B[0m\u001B[32m*\u001B[0m\u001B[32m*\u001B[0m\n",
      "\u001B[34m** Zadanie 10 **********************************************************************************\u001B[0m\n"
     ]
    },
    {
     "data": {
      "text/plain": [
       "<IPython.core.display.Markdown object>"
      ],
      "text/markdown": "Rozwiązać równanie w zbiorze liczb zespolonych"
     },
     "metadata": {},
     "output_type": "display_data"
    },
    {
     "data": {
      "text/plain": [
       "<IPython.core.display.Latex object>"
      ],
      "text/latex": "$$\t\tz^{2} - 2 \\overline{z} - 3 = 0$$"
     },
     "metadata": {},
     "output_type": "display_data"
    },
    {
     "name": "stdout",
     "output_type": "stream",
     "text": [
      "\u001B[34m*\u001B[0m\u001B[34m*\u001B[0m\u001B[34m*\u001B[0m\u001B[34m*\u001B[0m\u001B[34m*\u001B[0m\u001B[34m*\u001B[0m\u001B[34m*\u001B[0m\u001B[34m*\u001B[0m\u001B[34m*\u001B[0m\u001B[34m*\u001B[0m\u001B[34m*\u001B[0m\u001B[34m*\u001B[0m\u001B[34m*\u001B[0m\u001B[34m*\u001B[0m\u001B[34m*\u001B[0m\u001B[34m*\u001B[0m\u001B[34m*\u001B[0m\u001B[34m*\u001B[0m\u001B[34m*\u001B[0m\u001B[34m*\u001B[0m\u001B[34m*\u001B[0m\u001B[34m*\u001B[0m\u001B[34m*\u001B[0m\u001B[34m*\u001B[0m\u001B[34m*\u001B[0m\u001B[34m*\u001B[0m\u001B[34m*\u001B[0m\u001B[34m*\u001B[0m\u001B[34m*\u001B[0m\u001B[34m*\u001B[0m\u001B[34m*\u001B[0m\u001B[34m*\u001B[0m\u001B[34m*\u001B[0m\u001B[34m*\u001B[0m\u001B[34m*\u001B[0m\u001B[34m*\u001B[0m\u001B[34m*\u001B[0m\u001B[34m*\u001B[0m\u001B[34m*\u001B[0m\u001B[34m*\u001B[0m\u001B[34m*\u001B[0m\u001B[34m*\u001B[0m\u001B[34m*\u001B[0m\u001B[34m*\u001B[0m\u001B[34m*\u001B[0m\u001B[34m*\u001B[0m\u001B[34m*\u001B[0m\u001B[34m*\u001B[0m\u001B[34m*\u001B[0m\u001B[34m*\u001B[0m\u001B[34m*\u001B[0m\u001B[34m*\u001B[0m\u001B[34m*\u001B[0m\u001B[34m*\u001B[0m\u001B[34m*\u001B[0m\u001B[34m*\u001B[0m\u001B[34m*\u001B[0m\u001B[34m*\u001B[0m\u001B[34m*\u001B[0m\u001B[34m*\u001B[0m\u001B[34m*\u001B[0m\u001B[34m*\u001B[0m\u001B[34m*\u001B[0m\u001B[34m*\u001B[0m\u001B[34m*\u001B[0m\u001B[34m*\u001B[0m\u001B[34m*\u001B[0m\u001B[34m*\u001B[0m\u001B[34m*\u001B[0m\u001B[34m*\u001B[0m\u001B[34m*\u001B[0m\u001B[34m*\u001B[0m\u001B[34m*\u001B[0m\u001B[34m*\u001B[0m\u001B[34m*\u001B[0m\u001B[34m*\u001B[0m\u001B[34m*\u001B[0m\u001B[34m*\u001B[0m\u001B[34m*\u001B[0m\u001B[34m*\u001B[0m\u001B[34m*\u001B[0m\u001B[34m*\u001B[0m\u001B[34m*\u001B[0m\u001B[34m*\u001B[0m\u001B[34m*\u001B[0m\u001B[34m*\u001B[0m\u001B[34m*\u001B[0m\u001B[34m*\u001B[0m\u001B[34m*\u001B[0m\u001B[34m*\u001B[0m\u001B[34m*\u001B[0m\u001B[34m*\u001B[0m\u001B[34m*\u001B[0m\u001B[34m*\u001B[0m\u001B[34m*\u001B[0m\n",
      "\u001B[32m** Rozwiązanie ********************************************************************************\u001B[0m\n"
     ]
    },
    {
     "data": {
      "text/plain": [
       "<IPython.core.display.Latex object>"
      ],
      "text/latex": "$$- 2 x + 2 i y + \\left(x + i y\\right)^{2} - 3 = 0, $$"
     },
     "metadata": {},
     "output_type": "display_data"
    },
    {
     "data": {
      "text/plain": [
       "<IPython.core.display.Latex object>"
      ],
      "text/latex": "$$ x^{2} + 2 i x y - 2 x - y^{2} + 2 i y - 3 = 0, $$"
     },
     "metadata": {},
     "output_type": "display_data"
    },
    {
     "data": {
      "text/plain": [
       "<IPython.core.display.Latex object>"
      ],
      "text/latex": "$$ \\left\\{\n\t\\begin{array}{c}\n\t\tx^{2} - 2 x - y^{2} - 3 = 0\\\\\n\t\t2 x y + 2 y = 0\n\t\\end{array}\n\\right. $$"
     },
     "metadata": {},
     "output_type": "display_data"
    },
    {
     "data": {
      "text/plain": [
       "<IPython.core.display.Latex object>"
      ],
      "text/latex": "$$ z = \\left[ \\left\\{ x : -1, \\  y : 0\\right\\}, \\  \\left\\{ x : 3, \\  y : 0\\right\\}\\right].$$"
     },
     "metadata": {},
     "output_type": "display_data"
    },
    {
     "name": "stdout",
     "output_type": "stream",
     "text": [
      "\u001B[32m*\u001B[0m\u001B[32m*\u001B[0m\u001B[32m*\u001B[0m\u001B[32m*\u001B[0m\u001B[32m*\u001B[0m\u001B[32m*\u001B[0m\u001B[32m*\u001B[0m\u001B[32m*\u001B[0m\u001B[32m*\u001B[0m\u001B[32m*\u001B[0m\u001B[32m*\u001B[0m\u001B[32m*\u001B[0m\u001B[32m*\u001B[0m\u001B[32m*\u001B[0m\u001B[32m*\u001B[0m\u001B[32m*\u001B[0m\u001B[32m*\u001B[0m\u001B[32m*\u001B[0m\u001B[32m*\u001B[0m\u001B[32m*\u001B[0m\u001B[32m*\u001B[0m\u001B[32m*\u001B[0m\u001B[32m*\u001B[0m\u001B[32m*\u001B[0m\u001B[32m*\u001B[0m\u001B[32m*\u001B[0m\u001B[32m*\u001B[0m\u001B[32m*\u001B[0m\u001B[32m*\u001B[0m\u001B[32m*\u001B[0m\u001B[32m*\u001B[0m\u001B[32m*\u001B[0m\u001B[32m*\u001B[0m\u001B[32m*\u001B[0m\u001B[32m*\u001B[0m\u001B[32m*\u001B[0m\u001B[32m*\u001B[0m\u001B[32m*\u001B[0m\u001B[32m*\u001B[0m\u001B[32m*\u001B[0m\u001B[32m*\u001B[0m\u001B[32m*\u001B[0m\u001B[32m*\u001B[0m\u001B[32m*\u001B[0m\u001B[32m*\u001B[0m\u001B[32m*\u001B[0m\u001B[32m*\u001B[0m\u001B[32m*\u001B[0m\u001B[32m*\u001B[0m\u001B[32m*\u001B[0m\u001B[32m*\u001B[0m\u001B[32m*\u001B[0m\u001B[32m*\u001B[0m\u001B[32m*\u001B[0m\u001B[32m*\u001B[0m\u001B[32m*\u001B[0m\u001B[32m*\u001B[0m\u001B[32m*\u001B[0m\u001B[32m*\u001B[0m\u001B[32m*\u001B[0m\u001B[32m*\u001B[0m\u001B[32m*\u001B[0m\u001B[32m*\u001B[0m\u001B[32m*\u001B[0m\u001B[32m*\u001B[0m\u001B[32m*\u001B[0m\u001B[32m*\u001B[0m\u001B[32m*\u001B[0m\u001B[32m*\u001B[0m\u001B[32m*\u001B[0m\u001B[32m*\u001B[0m\u001B[32m*\u001B[0m\u001B[32m*\u001B[0m\u001B[32m*\u001B[0m\u001B[32m*\u001B[0m\u001B[32m*\u001B[0m\u001B[32m*\u001B[0m\u001B[32m*\u001B[0m\u001B[32m*\u001B[0m\u001B[32m*\u001B[0m\u001B[32m*\u001B[0m\u001B[32m*\u001B[0m\u001B[32m*\u001B[0m\u001B[32m*\u001B[0m\u001B[32m*\u001B[0m\u001B[32m*\u001B[0m\u001B[32m*\u001B[0m\u001B[32m*\u001B[0m\u001B[32m*\u001B[0m\u001B[32m*\u001B[0m\u001B[32m*\u001B[0m\u001B[32m*\u001B[0m\u001B[32m*\u001B[0m\u001B[32m*\u001B[0m\u001B[32m*\u001B[0m\n"
     ]
    }
   ],
   "execution_count": 15
  },
  {
   "metadata": {},
   "cell_type": "markdown",
   "source": "## Obszar zespolony"
  },
  {
   "metadata": {
    "ExecuteTime": {
     "end_time": "2024-09-14T17:07:33.809613Z",
     "start_time": "2024-09-14T17:07:33.398464Z"
    }
   },
   "cell_type": "code",
   "source": [
    "zadanie = gz.obszar_zespolony(typ=choice([1, 2, 3, 4, 5]), nr_zadania=1)\n",
    "zadanie"
   ],
   "outputs": [
    {
     "data": {
      "text/plain": [
       "('Zaznaczyć na płaszczyźnie zespolonej obszar spełniający warunek\\n\\t\\\\[\\n\\t\\t\\\\left|z+1 + 2 i\\\\right|  < 1\\n\\t\\\\]',\n",
       " '\\t\\\\begin{tabular}{p{0.4\\\\textwidth}p{0.3\\\\textwidth}}\\n\\t\\\\begin{gather*}\\n\\t\\t\\\\left(x + 1\\\\right)^{2} + \\\\left(y + 2\\\\right)^{2}<1\\n\\t\\\\end{gather*}\\t\\t\\n\\t&\\n\\t\\t\\\\raisebox{-2.8cm}{\\\\resizebox{4cm}{!}{\\\\includegraphics{../pics/obszar1}}}\\n\\t\\\\end{tabular}\\n')"
      ]
     },
     "execution_count": 16,
     "metadata": {},
     "output_type": "execute_result"
    }
   ],
   "execution_count": 16
  },
  {
   "metadata": {
    "ExecuteTime": {
     "end_time": "2024-09-14T17:07:33.852592Z",
     "start_time": "2024-09-14T17:07:33.847337Z"
    }
   },
   "cell_type": "code",
   "source": [
    "print(\"\\033[34m** Zadanie **\" + '*' * 81 + '\\033[0m')\n",
    "print(zadanie[0])\n",
    "print(\"\\033[34m*\\033[0m\" * 95)\n",
    "print(\"\\033[32m** Rozwiązanie **\" + '*' * 78 + '\\033[0m')\n",
    "print(zadanie[1])\n",
    "print(\"\\033[32m*\\033[0m\" * 95)"
   ],
   "outputs": [
    {
     "name": "stdout",
     "output_type": "stream",
     "text": [
      "\u001B[34m** Zadanie ***********************************************************************************\u001B[0m\n",
      "Zaznaczyć na płaszczyźnie zespolonej obszar spełniający warunek\n",
      "\t\\[\n",
      "\t\t\\left|z+1 + 2 i\\right|  < 1\n",
      "\t\\]\n",
      "\u001B[34m*\u001B[0m\u001B[34m*\u001B[0m\u001B[34m*\u001B[0m\u001B[34m*\u001B[0m\u001B[34m*\u001B[0m\u001B[34m*\u001B[0m\u001B[34m*\u001B[0m\u001B[34m*\u001B[0m\u001B[34m*\u001B[0m\u001B[34m*\u001B[0m\u001B[34m*\u001B[0m\u001B[34m*\u001B[0m\u001B[34m*\u001B[0m\u001B[34m*\u001B[0m\u001B[34m*\u001B[0m\u001B[34m*\u001B[0m\u001B[34m*\u001B[0m\u001B[34m*\u001B[0m\u001B[34m*\u001B[0m\u001B[34m*\u001B[0m\u001B[34m*\u001B[0m\u001B[34m*\u001B[0m\u001B[34m*\u001B[0m\u001B[34m*\u001B[0m\u001B[34m*\u001B[0m\u001B[34m*\u001B[0m\u001B[34m*\u001B[0m\u001B[34m*\u001B[0m\u001B[34m*\u001B[0m\u001B[34m*\u001B[0m\u001B[34m*\u001B[0m\u001B[34m*\u001B[0m\u001B[34m*\u001B[0m\u001B[34m*\u001B[0m\u001B[34m*\u001B[0m\u001B[34m*\u001B[0m\u001B[34m*\u001B[0m\u001B[34m*\u001B[0m\u001B[34m*\u001B[0m\u001B[34m*\u001B[0m\u001B[34m*\u001B[0m\u001B[34m*\u001B[0m\u001B[34m*\u001B[0m\u001B[34m*\u001B[0m\u001B[34m*\u001B[0m\u001B[34m*\u001B[0m\u001B[34m*\u001B[0m\u001B[34m*\u001B[0m\u001B[34m*\u001B[0m\u001B[34m*\u001B[0m\u001B[34m*\u001B[0m\u001B[34m*\u001B[0m\u001B[34m*\u001B[0m\u001B[34m*\u001B[0m\u001B[34m*\u001B[0m\u001B[34m*\u001B[0m\u001B[34m*\u001B[0m\u001B[34m*\u001B[0m\u001B[34m*\u001B[0m\u001B[34m*\u001B[0m\u001B[34m*\u001B[0m\u001B[34m*\u001B[0m\u001B[34m*\u001B[0m\u001B[34m*\u001B[0m\u001B[34m*\u001B[0m\u001B[34m*\u001B[0m\u001B[34m*\u001B[0m\u001B[34m*\u001B[0m\u001B[34m*\u001B[0m\u001B[34m*\u001B[0m\u001B[34m*\u001B[0m\u001B[34m*\u001B[0m\u001B[34m*\u001B[0m\u001B[34m*\u001B[0m\u001B[34m*\u001B[0m\u001B[34m*\u001B[0m\u001B[34m*\u001B[0m\u001B[34m*\u001B[0m\u001B[34m*\u001B[0m\u001B[34m*\u001B[0m\u001B[34m*\u001B[0m\u001B[34m*\u001B[0m\u001B[34m*\u001B[0m\u001B[34m*\u001B[0m\u001B[34m*\u001B[0m\u001B[34m*\u001B[0m\u001B[34m*\u001B[0m\u001B[34m*\u001B[0m\u001B[34m*\u001B[0m\u001B[34m*\u001B[0m\u001B[34m*\u001B[0m\u001B[34m*\u001B[0m\u001B[34m*\u001B[0m\u001B[34m*\u001B[0m\u001B[34m*\u001B[0m\n",
      "\u001B[32m** Rozwiązanie ********************************************************************************\u001B[0m\n",
      "\t\\begin{tabular}{p{0.4\\textwidth}p{0.3\\textwidth}}\n",
      "\t\\begin{gather*}\n",
      "\t\t\\left(x + 1\\right)^{2} + \\left(y + 2\\right)^{2}<1\n",
      "\t\\end{gather*}\t\t\n",
      "\t&\n",
      "\t\t\\raisebox{-2.8cm}{\\resizebox{4cm}{!}{\\includegraphics{../pics/obszar1}}}\n",
      "\t\\end{tabular}\n",
      "\n",
      "\u001B[32m*\u001B[0m\u001B[32m*\u001B[0m\u001B[32m*\u001B[0m\u001B[32m*\u001B[0m\u001B[32m*\u001B[0m\u001B[32m*\u001B[0m\u001B[32m*\u001B[0m\u001B[32m*\u001B[0m\u001B[32m*\u001B[0m\u001B[32m*\u001B[0m\u001B[32m*\u001B[0m\u001B[32m*\u001B[0m\u001B[32m*\u001B[0m\u001B[32m*\u001B[0m\u001B[32m*\u001B[0m\u001B[32m*\u001B[0m\u001B[32m*\u001B[0m\u001B[32m*\u001B[0m\u001B[32m*\u001B[0m\u001B[32m*\u001B[0m\u001B[32m*\u001B[0m\u001B[32m*\u001B[0m\u001B[32m*\u001B[0m\u001B[32m*\u001B[0m\u001B[32m*\u001B[0m\u001B[32m*\u001B[0m\u001B[32m*\u001B[0m\u001B[32m*\u001B[0m\u001B[32m*\u001B[0m\u001B[32m*\u001B[0m\u001B[32m*\u001B[0m\u001B[32m*\u001B[0m\u001B[32m*\u001B[0m\u001B[32m*\u001B[0m\u001B[32m*\u001B[0m\u001B[32m*\u001B[0m\u001B[32m*\u001B[0m\u001B[32m*\u001B[0m\u001B[32m*\u001B[0m\u001B[32m*\u001B[0m\u001B[32m*\u001B[0m\u001B[32m*\u001B[0m\u001B[32m*\u001B[0m\u001B[32m*\u001B[0m\u001B[32m*\u001B[0m\u001B[32m*\u001B[0m\u001B[32m*\u001B[0m\u001B[32m*\u001B[0m\u001B[32m*\u001B[0m\u001B[32m*\u001B[0m\u001B[32m*\u001B[0m\u001B[32m*\u001B[0m\u001B[32m*\u001B[0m\u001B[32m*\u001B[0m\u001B[32m*\u001B[0m\u001B[32m*\u001B[0m\u001B[32m*\u001B[0m\u001B[32m*\u001B[0m\u001B[32m*\u001B[0m\u001B[32m*\u001B[0m\u001B[32m*\u001B[0m\u001B[32m*\u001B[0m\u001B[32m*\u001B[0m\u001B[32m*\u001B[0m\u001B[32m*\u001B[0m\u001B[32m*\u001B[0m\u001B[32m*\u001B[0m\u001B[32m*\u001B[0m\u001B[32m*\u001B[0m\u001B[32m*\u001B[0m\u001B[32m*\u001B[0m\u001B[32m*\u001B[0m\u001B[32m*\u001B[0m\u001B[32m*\u001B[0m\u001B[32m*\u001B[0m\u001B[32m*\u001B[0m\u001B[32m*\u001B[0m\u001B[32m*\u001B[0m\u001B[32m*\u001B[0m\u001B[32m*\u001B[0m\u001B[32m*\u001B[0m\u001B[32m*\u001B[0m\u001B[32m*\u001B[0m\u001B[32m*\u001B[0m\u001B[32m*\u001B[0m\u001B[32m*\u001B[0m\u001B[32m*\u001B[0m\u001B[32m*\u001B[0m\u001B[32m*\u001B[0m\u001B[32m*\u001B[0m\u001B[32m*\u001B[0m\u001B[32m*\u001B[0m\u001B[32m*\u001B[0m\u001B[32m*\u001B[0m\u001B[32m*\u001B[0m\n"
     ]
    }
   ],
   "execution_count": 17
  },
  {
   "metadata": {
    "ExecuteTime": {
     "end_time": "2024-09-14T17:47:28.294404Z",
     "start_time": "2024-09-14T17:46:22.068159Z"
    }
   },
   "cell_type": "code",
   "source": [
    "for i in range(1, ile_zadan_przykladowych + 1):\n",
    "    zadanie = gz.obszar_zespolony(typ=choice([1, 2, 3, 4, 5]), nr_zadania=i)\n",
    "    print(f\"\\033[34m** Zadanie {i} **\" + '*' * 80 + '\\033[0m')\n",
    "    display(Markdown(zadanie[0].split('\\n')[0].replace('\\\\', '')))\n",
    "    display(Latex('$$' + zadanie[0].split('\\[')[1].split('\\]')[0] + '$$'))\n",
    "    print(\"\\033[34m*\\033[0m\" * 95)\n",
    "    print(\"\\033[32m** Rozwiązanie **\" + '*' * 78 + '\\033[0m')\n",
    "    display(Latex('$$\\\\begin{gather*}' + zadanie[1].split('{gather*}')[1] + '{gather*}$$'))\n",
    "    display(Markdown(f'![](./pics//obszar{i}.png)'))\n"
   ],
   "outputs": [
    {
     "name": "stdout",
     "output_type": "stream",
     "text": [
      "\u001B[34m** Zadanie 1 **********************************************************************************\u001B[0m\n"
     ]
    },
    {
     "data": {
      "text/plain": [
       "<IPython.core.display.Markdown object>"
      ],
      "text/markdown": "Zaznaczyć na płaszczyźnie zespolonej obszar spełniający warunek"
     },
     "metadata": {},
     "output_type": "display_data"
    },
    {
     "data": {
      "text/plain": [
       "<IPython.core.display.Latex object>"
      ],
      "text/latex": "$$\n\t\t\\left|z-2 + 3 i\\right|  > \\frac{1}{2}\n\t$$"
     },
     "metadata": {},
     "output_type": "display_data"
    },
    {
     "name": "stdout",
     "output_type": "stream",
     "text": [
      "\u001B[34m*\u001B[0m\u001B[34m*\u001B[0m\u001B[34m*\u001B[0m\u001B[34m*\u001B[0m\u001B[34m*\u001B[0m\u001B[34m*\u001B[0m\u001B[34m*\u001B[0m\u001B[34m*\u001B[0m\u001B[34m*\u001B[0m\u001B[34m*\u001B[0m\u001B[34m*\u001B[0m\u001B[34m*\u001B[0m\u001B[34m*\u001B[0m\u001B[34m*\u001B[0m\u001B[34m*\u001B[0m\u001B[34m*\u001B[0m\u001B[34m*\u001B[0m\u001B[34m*\u001B[0m\u001B[34m*\u001B[0m\u001B[34m*\u001B[0m\u001B[34m*\u001B[0m\u001B[34m*\u001B[0m\u001B[34m*\u001B[0m\u001B[34m*\u001B[0m\u001B[34m*\u001B[0m\u001B[34m*\u001B[0m\u001B[34m*\u001B[0m\u001B[34m*\u001B[0m\u001B[34m*\u001B[0m\u001B[34m*\u001B[0m\u001B[34m*\u001B[0m\u001B[34m*\u001B[0m\u001B[34m*\u001B[0m\u001B[34m*\u001B[0m\u001B[34m*\u001B[0m\u001B[34m*\u001B[0m\u001B[34m*\u001B[0m\u001B[34m*\u001B[0m\u001B[34m*\u001B[0m\u001B[34m*\u001B[0m\u001B[34m*\u001B[0m\u001B[34m*\u001B[0m\u001B[34m*\u001B[0m\u001B[34m*\u001B[0m\u001B[34m*\u001B[0m\u001B[34m*\u001B[0m\u001B[34m*\u001B[0m\u001B[34m*\u001B[0m\u001B[34m*\u001B[0m\u001B[34m*\u001B[0m\u001B[34m*\u001B[0m\u001B[34m*\u001B[0m\u001B[34m*\u001B[0m\u001B[34m*\u001B[0m\u001B[34m*\u001B[0m\u001B[34m*\u001B[0m\u001B[34m*\u001B[0m\u001B[34m*\u001B[0m\u001B[34m*\u001B[0m\u001B[34m*\u001B[0m\u001B[34m*\u001B[0m\u001B[34m*\u001B[0m\u001B[34m*\u001B[0m\u001B[34m*\u001B[0m\u001B[34m*\u001B[0m\u001B[34m*\u001B[0m\u001B[34m*\u001B[0m\u001B[34m*\u001B[0m\u001B[34m*\u001B[0m\u001B[34m*\u001B[0m\u001B[34m*\u001B[0m\u001B[34m*\u001B[0m\u001B[34m*\u001B[0m\u001B[34m*\u001B[0m\u001B[34m*\u001B[0m\u001B[34m*\u001B[0m\u001B[34m*\u001B[0m\u001B[34m*\u001B[0m\u001B[34m*\u001B[0m\u001B[34m*\u001B[0m\u001B[34m*\u001B[0m\u001B[34m*\u001B[0m\u001B[34m*\u001B[0m\u001B[34m*\u001B[0m\u001B[34m*\u001B[0m\u001B[34m*\u001B[0m\u001B[34m*\u001B[0m\u001B[34m*\u001B[0m\u001B[34m*\u001B[0m\u001B[34m*\u001B[0m\u001B[34m*\u001B[0m\u001B[34m*\u001B[0m\u001B[34m*\u001B[0m\u001B[34m*\u001B[0m\u001B[34m*\u001B[0m\n",
      "\u001B[32m** Rozwiązanie ********************************************************************************\u001B[0m\n"
     ]
    },
    {
     "data": {
      "text/plain": [
       "<IPython.core.display.Latex object>"
      ],
      "text/latex": "$$\\begin{gather*}\n\t\t\\left(x - 2\\right)^{2} + \\left(y + 3\\right)^{2}>\\frac{1}{4}\n\t\\end{gather*}$$"
     },
     "metadata": {},
     "output_type": "display_data"
    },
    {
     "data": {
      "text/plain": [
       "<IPython.core.display.Markdown object>"
      ],
      "text/markdown": "![](./pics//obszar1.png)"
     },
     "metadata": {},
     "output_type": "display_data"
    },
    {
     "name": "stdout",
     "output_type": "stream",
     "text": [
      "\u001B[34m** Zadanie 2 **********************************************************************************\u001B[0m\n"
     ]
    },
    {
     "data": {
      "text/plain": [
       "<IPython.core.display.Markdown object>"
      ],
      "text/markdown": "Zaznaczyć na płaszczyźnie zespolonej obszar spełniający warunek"
     },
     "metadata": {},
     "output_type": "display_data"
    },
    {
     "data": {
      "text/plain": [
       "<IPython.core.display.Latex object>"
      ],
      "text/latex": "$$\n\t\t\\left|z-1 + i\\right|  =  3\n\t$$"
     },
     "metadata": {},
     "output_type": "display_data"
    },
    {
     "name": "stdout",
     "output_type": "stream",
     "text": [
      "\u001B[34m*\u001B[0m\u001B[34m*\u001B[0m\u001B[34m*\u001B[0m\u001B[34m*\u001B[0m\u001B[34m*\u001B[0m\u001B[34m*\u001B[0m\u001B[34m*\u001B[0m\u001B[34m*\u001B[0m\u001B[34m*\u001B[0m\u001B[34m*\u001B[0m\u001B[34m*\u001B[0m\u001B[34m*\u001B[0m\u001B[34m*\u001B[0m\u001B[34m*\u001B[0m\u001B[34m*\u001B[0m\u001B[34m*\u001B[0m\u001B[34m*\u001B[0m\u001B[34m*\u001B[0m\u001B[34m*\u001B[0m\u001B[34m*\u001B[0m\u001B[34m*\u001B[0m\u001B[34m*\u001B[0m\u001B[34m*\u001B[0m\u001B[34m*\u001B[0m\u001B[34m*\u001B[0m\u001B[34m*\u001B[0m\u001B[34m*\u001B[0m\u001B[34m*\u001B[0m\u001B[34m*\u001B[0m\u001B[34m*\u001B[0m\u001B[34m*\u001B[0m\u001B[34m*\u001B[0m\u001B[34m*\u001B[0m\u001B[34m*\u001B[0m\u001B[34m*\u001B[0m\u001B[34m*\u001B[0m\u001B[34m*\u001B[0m\u001B[34m*\u001B[0m\u001B[34m*\u001B[0m\u001B[34m*\u001B[0m\u001B[34m*\u001B[0m\u001B[34m*\u001B[0m\u001B[34m*\u001B[0m\u001B[34m*\u001B[0m\u001B[34m*\u001B[0m\u001B[34m*\u001B[0m\u001B[34m*\u001B[0m\u001B[34m*\u001B[0m\u001B[34m*\u001B[0m\u001B[34m*\u001B[0m\u001B[34m*\u001B[0m\u001B[34m*\u001B[0m\u001B[34m*\u001B[0m\u001B[34m*\u001B[0m\u001B[34m*\u001B[0m\u001B[34m*\u001B[0m\u001B[34m*\u001B[0m\u001B[34m*\u001B[0m\u001B[34m*\u001B[0m\u001B[34m*\u001B[0m\u001B[34m*\u001B[0m\u001B[34m*\u001B[0m\u001B[34m*\u001B[0m\u001B[34m*\u001B[0m\u001B[34m*\u001B[0m\u001B[34m*\u001B[0m\u001B[34m*\u001B[0m\u001B[34m*\u001B[0m\u001B[34m*\u001B[0m\u001B[34m*\u001B[0m\u001B[34m*\u001B[0m\u001B[34m*\u001B[0m\u001B[34m*\u001B[0m\u001B[34m*\u001B[0m\u001B[34m*\u001B[0m\u001B[34m*\u001B[0m\u001B[34m*\u001B[0m\u001B[34m*\u001B[0m\u001B[34m*\u001B[0m\u001B[34m*\u001B[0m\u001B[34m*\u001B[0m\u001B[34m*\u001B[0m\u001B[34m*\u001B[0m\u001B[34m*\u001B[0m\u001B[34m*\u001B[0m\u001B[34m*\u001B[0m\u001B[34m*\u001B[0m\u001B[34m*\u001B[0m\u001B[34m*\u001B[0m\u001B[34m*\u001B[0m\u001B[34m*\u001B[0m\u001B[34m*\u001B[0m\u001B[34m*\u001B[0m\u001B[34m*\u001B[0m\u001B[34m*\u001B[0m\n",
      "\u001B[32m** Rozwiązanie ********************************************************************************\u001B[0m\n"
     ]
    },
    {
     "data": {
      "text/plain": [
       "<IPython.core.display.Latex object>"
      ],
      "text/latex": "$$\\begin{gather*}\n\t\t\\left(x - 1\\right)^{2} + \\left(y + 1\\right)^{2} = 9\n\t\\end{gather*}$$"
     },
     "metadata": {},
     "output_type": "display_data"
    },
    {
     "data": {
      "text/plain": [
       "<IPython.core.display.Markdown object>"
      ],
      "text/markdown": "![](./pics//obszar2.png)"
     },
     "metadata": {},
     "output_type": "display_data"
    },
    {
     "name": "stdout",
     "output_type": "stream",
     "text": [
      "\u001B[34m** Zadanie 3 **********************************************************************************\u001B[0m\n"
     ]
    },
    {
     "data": {
      "text/plain": [
       "<IPython.core.display.Markdown object>"
      ],
      "text/markdown": "Zaznaczyć na płaszczyźnie zespolonej obszar spełniający warunek"
     },
     "metadata": {},
     "output_type": "display_data"
    },
    {
     "data": {
      "text/plain": [
       "<IPython.core.display.Latex object>"
      ],
      "text/latex": "$$\n\t\t\\left|z-3 + 2 i\\right|  > \\frac{3}{2}\n\t$$"
     },
     "metadata": {},
     "output_type": "display_data"
    },
    {
     "name": "stdout",
     "output_type": "stream",
     "text": [
      "\u001B[34m*\u001B[0m\u001B[34m*\u001B[0m\u001B[34m*\u001B[0m\u001B[34m*\u001B[0m\u001B[34m*\u001B[0m\u001B[34m*\u001B[0m\u001B[34m*\u001B[0m\u001B[34m*\u001B[0m\u001B[34m*\u001B[0m\u001B[34m*\u001B[0m\u001B[34m*\u001B[0m\u001B[34m*\u001B[0m\u001B[34m*\u001B[0m\u001B[34m*\u001B[0m\u001B[34m*\u001B[0m\u001B[34m*\u001B[0m\u001B[34m*\u001B[0m\u001B[34m*\u001B[0m\u001B[34m*\u001B[0m\u001B[34m*\u001B[0m\u001B[34m*\u001B[0m\u001B[34m*\u001B[0m\u001B[34m*\u001B[0m\u001B[34m*\u001B[0m\u001B[34m*\u001B[0m\u001B[34m*\u001B[0m\u001B[34m*\u001B[0m\u001B[34m*\u001B[0m\u001B[34m*\u001B[0m\u001B[34m*\u001B[0m\u001B[34m*\u001B[0m\u001B[34m*\u001B[0m\u001B[34m*\u001B[0m\u001B[34m*\u001B[0m\u001B[34m*\u001B[0m\u001B[34m*\u001B[0m\u001B[34m*\u001B[0m\u001B[34m*\u001B[0m\u001B[34m*\u001B[0m\u001B[34m*\u001B[0m\u001B[34m*\u001B[0m\u001B[34m*\u001B[0m\u001B[34m*\u001B[0m\u001B[34m*\u001B[0m\u001B[34m*\u001B[0m\u001B[34m*\u001B[0m\u001B[34m*\u001B[0m\u001B[34m*\u001B[0m\u001B[34m*\u001B[0m\u001B[34m*\u001B[0m\u001B[34m*\u001B[0m\u001B[34m*\u001B[0m\u001B[34m*\u001B[0m\u001B[34m*\u001B[0m\u001B[34m*\u001B[0m\u001B[34m*\u001B[0m\u001B[34m*\u001B[0m\u001B[34m*\u001B[0m\u001B[34m*\u001B[0m\u001B[34m*\u001B[0m\u001B[34m*\u001B[0m\u001B[34m*\u001B[0m\u001B[34m*\u001B[0m\u001B[34m*\u001B[0m\u001B[34m*\u001B[0m\u001B[34m*\u001B[0m\u001B[34m*\u001B[0m\u001B[34m*\u001B[0m\u001B[34m*\u001B[0m\u001B[34m*\u001B[0m\u001B[34m*\u001B[0m\u001B[34m*\u001B[0m\u001B[34m*\u001B[0m\u001B[34m*\u001B[0m\u001B[34m*\u001B[0m\u001B[34m*\u001B[0m\u001B[34m*\u001B[0m\u001B[34m*\u001B[0m\u001B[34m*\u001B[0m\u001B[34m*\u001B[0m\u001B[34m*\u001B[0m\u001B[34m*\u001B[0m\u001B[34m*\u001B[0m\u001B[34m*\u001B[0m\u001B[34m*\u001B[0m\u001B[34m*\u001B[0m\u001B[34m*\u001B[0m\u001B[34m*\u001B[0m\u001B[34m*\u001B[0m\u001B[34m*\u001B[0m\u001B[34m*\u001B[0m\u001B[34m*\u001B[0m\u001B[34m*\u001B[0m\u001B[34m*\u001B[0m\u001B[34m*\u001B[0m\n",
      "\u001B[32m** Rozwiązanie ********************************************************************************\u001B[0m\n"
     ]
    },
    {
     "data": {
      "text/plain": [
       "<IPython.core.display.Latex object>"
      ],
      "text/latex": "$$\\begin{gather*}\n\t\t\\left(x - 3\\right)^{2} + \\left(y + 2\\right)^{2}>\\frac{9}{4}\n\t\\end{gather*}$$"
     },
     "metadata": {},
     "output_type": "display_data"
    },
    {
     "data": {
      "text/plain": [
       "<IPython.core.display.Markdown object>"
      ],
      "text/markdown": "![](./pics//obszar3.png)"
     },
     "metadata": {},
     "output_type": "display_data"
    },
    {
     "name": "stdout",
     "output_type": "stream",
     "text": [
      "\u001B[34m** Zadanie 4 **********************************************************************************\u001B[0m\n"
     ]
    },
    {
     "data": {
      "text/plain": [
       "<IPython.core.display.Markdown object>"
      ],
      "text/markdown": "Zaznaczyć na płaszczyźnie zespolonej obszar spełniający warunki"
     },
     "metadata": {},
     "output_type": "display_data"
    },
    {
     "data": {
      "text/plain": [
       "<IPython.core.display.Latex object>"
      ],
      "text/latex": "$$\n\t\t1\\leq \\left|z \\right| \\leq 5\n \t\t\\quad \\textnormal{oraz} \\quad\n\t\t- \\frac{\\pi}{6} < \\arg(z) < \\frac{\\pi}{4} \n\t$$"
     },
     "metadata": {},
     "output_type": "display_data"
    },
    {
     "name": "stdout",
     "output_type": "stream",
     "text": [
      "\u001B[34m*\u001B[0m\u001B[34m*\u001B[0m\u001B[34m*\u001B[0m\u001B[34m*\u001B[0m\u001B[34m*\u001B[0m\u001B[34m*\u001B[0m\u001B[34m*\u001B[0m\u001B[34m*\u001B[0m\u001B[34m*\u001B[0m\u001B[34m*\u001B[0m\u001B[34m*\u001B[0m\u001B[34m*\u001B[0m\u001B[34m*\u001B[0m\u001B[34m*\u001B[0m\u001B[34m*\u001B[0m\u001B[34m*\u001B[0m\u001B[34m*\u001B[0m\u001B[34m*\u001B[0m\u001B[34m*\u001B[0m\u001B[34m*\u001B[0m\u001B[34m*\u001B[0m\u001B[34m*\u001B[0m\u001B[34m*\u001B[0m\u001B[34m*\u001B[0m\u001B[34m*\u001B[0m\u001B[34m*\u001B[0m\u001B[34m*\u001B[0m\u001B[34m*\u001B[0m\u001B[34m*\u001B[0m\u001B[34m*\u001B[0m\u001B[34m*\u001B[0m\u001B[34m*\u001B[0m\u001B[34m*\u001B[0m\u001B[34m*\u001B[0m\u001B[34m*\u001B[0m\u001B[34m*\u001B[0m\u001B[34m*\u001B[0m\u001B[34m*\u001B[0m\u001B[34m*\u001B[0m\u001B[34m*\u001B[0m\u001B[34m*\u001B[0m\u001B[34m*\u001B[0m\u001B[34m*\u001B[0m\u001B[34m*\u001B[0m\u001B[34m*\u001B[0m\u001B[34m*\u001B[0m\u001B[34m*\u001B[0m\u001B[34m*\u001B[0m\u001B[34m*\u001B[0m\u001B[34m*\u001B[0m\u001B[34m*\u001B[0m\u001B[34m*\u001B[0m\u001B[34m*\u001B[0m\u001B[34m*\u001B[0m\u001B[34m*\u001B[0m\u001B[34m*\u001B[0m\u001B[34m*\u001B[0m\u001B[34m*\u001B[0m\u001B[34m*\u001B[0m\u001B[34m*\u001B[0m\u001B[34m*\u001B[0m\u001B[34m*\u001B[0m\u001B[34m*\u001B[0m\u001B[34m*\u001B[0m\u001B[34m*\u001B[0m\u001B[34m*\u001B[0m\u001B[34m*\u001B[0m\u001B[34m*\u001B[0m\u001B[34m*\u001B[0m\u001B[34m*\u001B[0m\u001B[34m*\u001B[0m\u001B[34m*\u001B[0m\u001B[34m*\u001B[0m\u001B[34m*\u001B[0m\u001B[34m*\u001B[0m\u001B[34m*\u001B[0m\u001B[34m*\u001B[0m\u001B[34m*\u001B[0m\u001B[34m*\u001B[0m\u001B[34m*\u001B[0m\u001B[34m*\u001B[0m\u001B[34m*\u001B[0m\u001B[34m*\u001B[0m\u001B[34m*\u001B[0m\u001B[34m*\u001B[0m\u001B[34m*\u001B[0m\u001B[34m*\u001B[0m\u001B[34m*\u001B[0m\u001B[34m*\u001B[0m\u001B[34m*\u001B[0m\u001B[34m*\u001B[0m\u001B[34m*\u001B[0m\u001B[34m*\u001B[0m\u001B[34m*\u001B[0m\u001B[34m*\u001B[0m\n",
      "\u001B[32m** Rozwiązanie ********************************************************************************\u001B[0m\n"
     ]
    },
    {
     "data": {
      "text/plain": [
       "<IPython.core.display.Latex object>"
      ],
      "text/latex": "$$\\begin{gather*}\n\t\t1\\leq x^{2} + y^{2}\\leq25\\\\\n\t\t- \\frac{\\pi}{6} < \\varphi < \\frac{\\pi}{4} \n\t\\end{gather*}$$"
     },
     "metadata": {},
     "output_type": "display_data"
    },
    {
     "data": {
      "text/plain": [
       "<IPython.core.display.Markdown object>"
      ],
      "text/markdown": "![](./pics//obszar4.png)"
     },
     "metadata": {},
     "output_type": "display_data"
    },
    {
     "name": "stdout",
     "output_type": "stream",
     "text": [
      "\u001B[34m** Zadanie 5 **********************************************************************************\u001B[0m\n"
     ]
    },
    {
     "data": {
      "text/plain": [
       "<IPython.core.display.Markdown object>"
      ],
      "text/markdown": "Zaznaczyć na płaszczyźnie zespolonej obszar spełniający warunki"
     },
     "metadata": {},
     "output_type": "display_data"
    },
    {
     "data": {
      "text/plain": [
       "<IPython.core.display.Latex object>"
      ],
      "text/latex": "$$\n\t\t\\left|z-1 + i\\right| \\geq \\sqrt{2}\n \t\t\\quad \\textnormal{oraz} \\quad\n\t\t\\left|z-3 - 3 i\\right| \\geq \\sqrt{2}\n\t$$"
     },
     "metadata": {},
     "output_type": "display_data"
    },
    {
     "name": "stdout",
     "output_type": "stream",
     "text": [
      "\u001B[34m*\u001B[0m\u001B[34m*\u001B[0m\u001B[34m*\u001B[0m\u001B[34m*\u001B[0m\u001B[34m*\u001B[0m\u001B[34m*\u001B[0m\u001B[34m*\u001B[0m\u001B[34m*\u001B[0m\u001B[34m*\u001B[0m\u001B[34m*\u001B[0m\u001B[34m*\u001B[0m\u001B[34m*\u001B[0m\u001B[34m*\u001B[0m\u001B[34m*\u001B[0m\u001B[34m*\u001B[0m\u001B[34m*\u001B[0m\u001B[34m*\u001B[0m\u001B[34m*\u001B[0m\u001B[34m*\u001B[0m\u001B[34m*\u001B[0m\u001B[34m*\u001B[0m\u001B[34m*\u001B[0m\u001B[34m*\u001B[0m\u001B[34m*\u001B[0m\u001B[34m*\u001B[0m\u001B[34m*\u001B[0m\u001B[34m*\u001B[0m\u001B[34m*\u001B[0m\u001B[34m*\u001B[0m\u001B[34m*\u001B[0m\u001B[34m*\u001B[0m\u001B[34m*\u001B[0m\u001B[34m*\u001B[0m\u001B[34m*\u001B[0m\u001B[34m*\u001B[0m\u001B[34m*\u001B[0m\u001B[34m*\u001B[0m\u001B[34m*\u001B[0m\u001B[34m*\u001B[0m\u001B[34m*\u001B[0m\u001B[34m*\u001B[0m\u001B[34m*\u001B[0m\u001B[34m*\u001B[0m\u001B[34m*\u001B[0m\u001B[34m*\u001B[0m\u001B[34m*\u001B[0m\u001B[34m*\u001B[0m\u001B[34m*\u001B[0m\u001B[34m*\u001B[0m\u001B[34m*\u001B[0m\u001B[34m*\u001B[0m\u001B[34m*\u001B[0m\u001B[34m*\u001B[0m\u001B[34m*\u001B[0m\u001B[34m*\u001B[0m\u001B[34m*\u001B[0m\u001B[34m*\u001B[0m\u001B[34m*\u001B[0m\u001B[34m*\u001B[0m\u001B[34m*\u001B[0m\u001B[34m*\u001B[0m\u001B[34m*\u001B[0m\u001B[34m*\u001B[0m\u001B[34m*\u001B[0m\u001B[34m*\u001B[0m\u001B[34m*\u001B[0m\u001B[34m*\u001B[0m\u001B[34m*\u001B[0m\u001B[34m*\u001B[0m\u001B[34m*\u001B[0m\u001B[34m*\u001B[0m\u001B[34m*\u001B[0m\u001B[34m*\u001B[0m\u001B[34m*\u001B[0m\u001B[34m*\u001B[0m\u001B[34m*\u001B[0m\u001B[34m*\u001B[0m\u001B[34m*\u001B[0m\u001B[34m*\u001B[0m\u001B[34m*\u001B[0m\u001B[34m*\u001B[0m\u001B[34m*\u001B[0m\u001B[34m*\u001B[0m\u001B[34m*\u001B[0m\u001B[34m*\u001B[0m\u001B[34m*\u001B[0m\u001B[34m*\u001B[0m\u001B[34m*\u001B[0m\u001B[34m*\u001B[0m\u001B[34m*\u001B[0m\u001B[34m*\u001B[0m\u001B[34m*\u001B[0m\u001B[34m*\u001B[0m\u001B[34m*\u001B[0m\u001B[34m*\u001B[0m\n",
      "\u001B[32m** Rozwiązanie ********************************************************************************\u001B[0m\n"
     ]
    },
    {
     "data": {
      "text/plain": [
       "<IPython.core.display.Latex object>"
      ],
      "text/latex": "$$\\begin{gather*}\n\t\t\\left(x - 1\\right)^{2} + \\left(y + 1\\right)^{2} \\geq 2\\\\\n\t\t\\left(x - 3\\right)^{2} + \\left(y - 3\\right)^{2} \\geq 2\n\t\\end{gather*}$$"
     },
     "metadata": {},
     "output_type": "display_data"
    },
    {
     "data": {
      "text/plain": [
       "<IPython.core.display.Markdown object>"
      ],
      "text/markdown": "![](./pics//obszar5.png)"
     },
     "metadata": {},
     "output_type": "display_data"
    },
    {
     "name": "stdout",
     "output_type": "stream",
     "text": [
      "\u001B[34m** Zadanie 6 **********************************************************************************\u001B[0m\n"
     ]
    },
    {
     "data": {
      "text/plain": [
       "<IPython.core.display.Markdown object>"
      ],
      "text/markdown": "Zaznaczyć na płaszczyźnie zespolonej obszar spełniający warunek"
     },
     "metadata": {},
     "output_type": "display_data"
    },
    {
     "data": {
      "text/plain": [
       "<IPython.core.display.Latex object>"
      ],
      "text/latex": "$$\n\t\t1< \\left|z+2 - 2 i\\right| \\leq \\frac{3}{2}\n\t$$"
     },
     "metadata": {},
     "output_type": "display_data"
    },
    {
     "name": "stdout",
     "output_type": "stream",
     "text": [
      "\u001B[34m*\u001B[0m\u001B[34m*\u001B[0m\u001B[34m*\u001B[0m\u001B[34m*\u001B[0m\u001B[34m*\u001B[0m\u001B[34m*\u001B[0m\u001B[34m*\u001B[0m\u001B[34m*\u001B[0m\u001B[34m*\u001B[0m\u001B[34m*\u001B[0m\u001B[34m*\u001B[0m\u001B[34m*\u001B[0m\u001B[34m*\u001B[0m\u001B[34m*\u001B[0m\u001B[34m*\u001B[0m\u001B[34m*\u001B[0m\u001B[34m*\u001B[0m\u001B[34m*\u001B[0m\u001B[34m*\u001B[0m\u001B[34m*\u001B[0m\u001B[34m*\u001B[0m\u001B[34m*\u001B[0m\u001B[34m*\u001B[0m\u001B[34m*\u001B[0m\u001B[34m*\u001B[0m\u001B[34m*\u001B[0m\u001B[34m*\u001B[0m\u001B[34m*\u001B[0m\u001B[34m*\u001B[0m\u001B[34m*\u001B[0m\u001B[34m*\u001B[0m\u001B[34m*\u001B[0m\u001B[34m*\u001B[0m\u001B[34m*\u001B[0m\u001B[34m*\u001B[0m\u001B[34m*\u001B[0m\u001B[34m*\u001B[0m\u001B[34m*\u001B[0m\u001B[34m*\u001B[0m\u001B[34m*\u001B[0m\u001B[34m*\u001B[0m\u001B[34m*\u001B[0m\u001B[34m*\u001B[0m\u001B[34m*\u001B[0m\u001B[34m*\u001B[0m\u001B[34m*\u001B[0m\u001B[34m*\u001B[0m\u001B[34m*\u001B[0m\u001B[34m*\u001B[0m\u001B[34m*\u001B[0m\u001B[34m*\u001B[0m\u001B[34m*\u001B[0m\u001B[34m*\u001B[0m\u001B[34m*\u001B[0m\u001B[34m*\u001B[0m\u001B[34m*\u001B[0m\u001B[34m*\u001B[0m\u001B[34m*\u001B[0m\u001B[34m*\u001B[0m\u001B[34m*\u001B[0m\u001B[34m*\u001B[0m\u001B[34m*\u001B[0m\u001B[34m*\u001B[0m\u001B[34m*\u001B[0m\u001B[34m*\u001B[0m\u001B[34m*\u001B[0m\u001B[34m*\u001B[0m\u001B[34m*\u001B[0m\u001B[34m*\u001B[0m\u001B[34m*\u001B[0m\u001B[34m*\u001B[0m\u001B[34m*\u001B[0m\u001B[34m*\u001B[0m\u001B[34m*\u001B[0m\u001B[34m*\u001B[0m\u001B[34m*\u001B[0m\u001B[34m*\u001B[0m\u001B[34m*\u001B[0m\u001B[34m*\u001B[0m\u001B[34m*\u001B[0m\u001B[34m*\u001B[0m\u001B[34m*\u001B[0m\u001B[34m*\u001B[0m\u001B[34m*\u001B[0m\u001B[34m*\u001B[0m\u001B[34m*\u001B[0m\u001B[34m*\u001B[0m\u001B[34m*\u001B[0m\u001B[34m*\u001B[0m\u001B[34m*\u001B[0m\u001B[34m*\u001B[0m\u001B[34m*\u001B[0m\u001B[34m*\u001B[0m\u001B[34m*\u001B[0m\u001B[34m*\u001B[0m\n",
      "\u001B[32m** Rozwiązanie ********************************************************************************\u001B[0m\n"
     ]
    },
    {
     "data": {
      "text/plain": [
       "<IPython.core.display.Latex object>"
      ],
      "text/latex": "$$\\begin{gather*}\n\t\t\\left(x + 2\\right)^{2} + \\left(y - 2\\right)^{2}>1\\\\\n\t\t\\left(x + 2\\right)^{2} + \\left(y - 2\\right)^{2}\\leq\\frac{9}{4}\n\t\\end{gather*}$$"
     },
     "metadata": {},
     "output_type": "display_data"
    },
    {
     "data": {
      "text/plain": [
       "<IPython.core.display.Markdown object>"
      ],
      "text/markdown": "![](./pics//obszar6.png)"
     },
     "metadata": {},
     "output_type": "display_data"
    },
    {
     "name": "stdout",
     "output_type": "stream",
     "text": [
      "\u001B[34m** Zadanie 7 **********************************************************************************\u001B[0m\n"
     ]
    },
    {
     "data": {
      "text/plain": [
       "<IPython.core.display.Markdown object>"
      ],
      "text/markdown": "Zaznaczyć na płaszczyźnie zespolonej obszar spełniający warunki"
     },
     "metadata": {},
     "output_type": "display_data"
    },
    {
     "data": {
      "text/plain": [
       "<IPython.core.display.Latex object>"
      ],
      "text/latex": "$$\n\t\t\\frac{5}{2}< \\left|z \\right| \\leq 3\n \t\t\\quad \\textnormal{oraz} \\quad\n\t\t- \\frac{3 \\pi}{4} < \\arg(z) \\leq \\frac{\\pi}{3} \n\t$$"
     },
     "metadata": {},
     "output_type": "display_data"
    },
    {
     "name": "stdout",
     "output_type": "stream",
     "text": [
      "\u001B[34m*\u001B[0m\u001B[34m*\u001B[0m\u001B[34m*\u001B[0m\u001B[34m*\u001B[0m\u001B[34m*\u001B[0m\u001B[34m*\u001B[0m\u001B[34m*\u001B[0m\u001B[34m*\u001B[0m\u001B[34m*\u001B[0m\u001B[34m*\u001B[0m\u001B[34m*\u001B[0m\u001B[34m*\u001B[0m\u001B[34m*\u001B[0m\u001B[34m*\u001B[0m\u001B[34m*\u001B[0m\u001B[34m*\u001B[0m\u001B[34m*\u001B[0m\u001B[34m*\u001B[0m\u001B[34m*\u001B[0m\u001B[34m*\u001B[0m\u001B[34m*\u001B[0m\u001B[34m*\u001B[0m\u001B[34m*\u001B[0m\u001B[34m*\u001B[0m\u001B[34m*\u001B[0m\u001B[34m*\u001B[0m\u001B[34m*\u001B[0m\u001B[34m*\u001B[0m\u001B[34m*\u001B[0m\u001B[34m*\u001B[0m\u001B[34m*\u001B[0m\u001B[34m*\u001B[0m\u001B[34m*\u001B[0m\u001B[34m*\u001B[0m\u001B[34m*\u001B[0m\u001B[34m*\u001B[0m\u001B[34m*\u001B[0m\u001B[34m*\u001B[0m\u001B[34m*\u001B[0m\u001B[34m*\u001B[0m\u001B[34m*\u001B[0m\u001B[34m*\u001B[0m\u001B[34m*\u001B[0m\u001B[34m*\u001B[0m\u001B[34m*\u001B[0m\u001B[34m*\u001B[0m\u001B[34m*\u001B[0m\u001B[34m*\u001B[0m\u001B[34m*\u001B[0m\u001B[34m*\u001B[0m\u001B[34m*\u001B[0m\u001B[34m*\u001B[0m\u001B[34m*\u001B[0m\u001B[34m*\u001B[0m\u001B[34m*\u001B[0m\u001B[34m*\u001B[0m\u001B[34m*\u001B[0m\u001B[34m*\u001B[0m\u001B[34m*\u001B[0m\u001B[34m*\u001B[0m\u001B[34m*\u001B[0m\u001B[34m*\u001B[0m\u001B[34m*\u001B[0m\u001B[34m*\u001B[0m\u001B[34m*\u001B[0m\u001B[34m*\u001B[0m\u001B[34m*\u001B[0m\u001B[34m*\u001B[0m\u001B[34m*\u001B[0m\u001B[34m*\u001B[0m\u001B[34m*\u001B[0m\u001B[34m*\u001B[0m\u001B[34m*\u001B[0m\u001B[34m*\u001B[0m\u001B[34m*\u001B[0m\u001B[34m*\u001B[0m\u001B[34m*\u001B[0m\u001B[34m*\u001B[0m\u001B[34m*\u001B[0m\u001B[34m*\u001B[0m\u001B[34m*\u001B[0m\u001B[34m*\u001B[0m\u001B[34m*\u001B[0m\u001B[34m*\u001B[0m\u001B[34m*\u001B[0m\u001B[34m*\u001B[0m\u001B[34m*\u001B[0m\u001B[34m*\u001B[0m\u001B[34m*\u001B[0m\u001B[34m*\u001B[0m\u001B[34m*\u001B[0m\u001B[34m*\u001B[0m\u001B[34m*\u001B[0m\u001B[34m*\u001B[0m\u001B[34m*\u001B[0m\n",
      "\u001B[32m** Rozwiązanie ********************************************************************************\u001B[0m\n"
     ]
    },
    {
     "data": {
      "text/plain": [
       "<IPython.core.display.Latex object>"
      ],
      "text/latex": "$$\\begin{gather*}\n\t\t\\frac{25}{4} < x^{2} + y^{2}\\leq9\\\\\n\t\t- \\frac{3 \\pi}{4} < \\varphi \\leq \\frac{\\pi}{3} \n\t\\end{gather*}$$"
     },
     "metadata": {},
     "output_type": "display_data"
    },
    {
     "data": {
      "text/plain": [
       "<IPython.core.display.Markdown object>"
      ],
      "text/markdown": "![](./pics//obszar7.png)"
     },
     "metadata": {},
     "output_type": "display_data"
    },
    {
     "name": "stdout",
     "output_type": "stream",
     "text": [
      "\u001B[34m** Zadanie 8 **********************************************************************************\u001B[0m\n"
     ]
    },
    {
     "data": {
      "text/plain": [
       "<IPython.core.display.Markdown object>"
      ],
      "text/markdown": "Zaznaczyć na płaszczyźnie zespolonej obszar spełniający warunek"
     },
     "metadata": {},
     "output_type": "display_data"
    },
    {
     "data": {
      "text/plain": [
       "<IPython.core.display.Latex object>"
      ],
      "text/latex": "$$\n\t\t1< \\left|z-3 - 2 i\\right| < \\frac{3}{2}\n\t$$"
     },
     "metadata": {},
     "output_type": "display_data"
    },
    {
     "name": "stdout",
     "output_type": "stream",
     "text": [
      "\u001B[34m*\u001B[0m\u001B[34m*\u001B[0m\u001B[34m*\u001B[0m\u001B[34m*\u001B[0m\u001B[34m*\u001B[0m\u001B[34m*\u001B[0m\u001B[34m*\u001B[0m\u001B[34m*\u001B[0m\u001B[34m*\u001B[0m\u001B[34m*\u001B[0m\u001B[34m*\u001B[0m\u001B[34m*\u001B[0m\u001B[34m*\u001B[0m\u001B[34m*\u001B[0m\u001B[34m*\u001B[0m\u001B[34m*\u001B[0m\u001B[34m*\u001B[0m\u001B[34m*\u001B[0m\u001B[34m*\u001B[0m\u001B[34m*\u001B[0m\u001B[34m*\u001B[0m\u001B[34m*\u001B[0m\u001B[34m*\u001B[0m\u001B[34m*\u001B[0m\u001B[34m*\u001B[0m\u001B[34m*\u001B[0m\u001B[34m*\u001B[0m\u001B[34m*\u001B[0m\u001B[34m*\u001B[0m\u001B[34m*\u001B[0m\u001B[34m*\u001B[0m\u001B[34m*\u001B[0m\u001B[34m*\u001B[0m\u001B[34m*\u001B[0m\u001B[34m*\u001B[0m\u001B[34m*\u001B[0m\u001B[34m*\u001B[0m\u001B[34m*\u001B[0m\u001B[34m*\u001B[0m\u001B[34m*\u001B[0m\u001B[34m*\u001B[0m\u001B[34m*\u001B[0m\u001B[34m*\u001B[0m\u001B[34m*\u001B[0m\u001B[34m*\u001B[0m\u001B[34m*\u001B[0m\u001B[34m*\u001B[0m\u001B[34m*\u001B[0m\u001B[34m*\u001B[0m\u001B[34m*\u001B[0m\u001B[34m*\u001B[0m\u001B[34m*\u001B[0m\u001B[34m*\u001B[0m\u001B[34m*\u001B[0m\u001B[34m*\u001B[0m\u001B[34m*\u001B[0m\u001B[34m*\u001B[0m\u001B[34m*\u001B[0m\u001B[34m*\u001B[0m\u001B[34m*\u001B[0m\u001B[34m*\u001B[0m\u001B[34m*\u001B[0m\u001B[34m*\u001B[0m\u001B[34m*\u001B[0m\u001B[34m*\u001B[0m\u001B[34m*\u001B[0m\u001B[34m*\u001B[0m\u001B[34m*\u001B[0m\u001B[34m*\u001B[0m\u001B[34m*\u001B[0m\u001B[34m*\u001B[0m\u001B[34m*\u001B[0m\u001B[34m*\u001B[0m\u001B[34m*\u001B[0m\u001B[34m*\u001B[0m\u001B[34m*\u001B[0m\u001B[34m*\u001B[0m\u001B[34m*\u001B[0m\u001B[34m*\u001B[0m\u001B[34m*\u001B[0m\u001B[34m*\u001B[0m\u001B[34m*\u001B[0m\u001B[34m*\u001B[0m\u001B[34m*\u001B[0m\u001B[34m*\u001B[0m\u001B[34m*\u001B[0m\u001B[34m*\u001B[0m\u001B[34m*\u001B[0m\u001B[34m*\u001B[0m\u001B[34m*\u001B[0m\u001B[34m*\u001B[0m\u001B[34m*\u001B[0m\u001B[34m*\u001B[0m\u001B[34m*\u001B[0m\u001B[34m*\u001B[0m\n",
      "\u001B[32m** Rozwiązanie ********************************************************************************\u001B[0m\n"
     ]
    },
    {
     "data": {
      "text/plain": [
       "<IPython.core.display.Latex object>"
      ],
      "text/latex": "$$\\begin{gather*}\n\t\t\\left(x - 3\\right)^{2} + \\left(y - 2\\right)^{2}>1\\\\\n\t\t\\left(x - 3\\right)^{2} + \\left(y - 2\\right)^{2}<\\frac{9}{4}\n\t\\end{gather*}$$"
     },
     "metadata": {},
     "output_type": "display_data"
    },
    {
     "data": {
      "text/plain": [
       "<IPython.core.display.Markdown object>"
      ],
      "text/markdown": "![](./pics//obszar8.png)"
     },
     "metadata": {},
     "output_type": "display_data"
    },
    {
     "name": "stdout",
     "output_type": "stream",
     "text": [
      "\u001B[34m** Zadanie 9 **********************************************************************************\u001B[0m\n"
     ]
    },
    {
     "data": {
      "text/plain": [
       "<IPython.core.display.Markdown object>"
      ],
      "text/markdown": "Zaznaczyć na płaszczyźnie zespolonej obszar spełniający warunek"
     },
     "metadata": {},
     "output_type": "display_data"
    },
    {
     "data": {
      "text/plain": [
       "<IPython.core.display.Latex object>"
      ],
      "text/latex": "$$\n\t\t\\left|z-1 + 3 i\\right|  =  2\n\t$$"
     },
     "metadata": {},
     "output_type": "display_data"
    },
    {
     "name": "stdout",
     "output_type": "stream",
     "text": [
      "\u001B[34m*\u001B[0m\u001B[34m*\u001B[0m\u001B[34m*\u001B[0m\u001B[34m*\u001B[0m\u001B[34m*\u001B[0m\u001B[34m*\u001B[0m\u001B[34m*\u001B[0m\u001B[34m*\u001B[0m\u001B[34m*\u001B[0m\u001B[34m*\u001B[0m\u001B[34m*\u001B[0m\u001B[34m*\u001B[0m\u001B[34m*\u001B[0m\u001B[34m*\u001B[0m\u001B[34m*\u001B[0m\u001B[34m*\u001B[0m\u001B[34m*\u001B[0m\u001B[34m*\u001B[0m\u001B[34m*\u001B[0m\u001B[34m*\u001B[0m\u001B[34m*\u001B[0m\u001B[34m*\u001B[0m\u001B[34m*\u001B[0m\u001B[34m*\u001B[0m\u001B[34m*\u001B[0m\u001B[34m*\u001B[0m\u001B[34m*\u001B[0m\u001B[34m*\u001B[0m\u001B[34m*\u001B[0m\u001B[34m*\u001B[0m\u001B[34m*\u001B[0m\u001B[34m*\u001B[0m\u001B[34m*\u001B[0m\u001B[34m*\u001B[0m\u001B[34m*\u001B[0m\u001B[34m*\u001B[0m\u001B[34m*\u001B[0m\u001B[34m*\u001B[0m\u001B[34m*\u001B[0m\u001B[34m*\u001B[0m\u001B[34m*\u001B[0m\u001B[34m*\u001B[0m\u001B[34m*\u001B[0m\u001B[34m*\u001B[0m\u001B[34m*\u001B[0m\u001B[34m*\u001B[0m\u001B[34m*\u001B[0m\u001B[34m*\u001B[0m\u001B[34m*\u001B[0m\u001B[34m*\u001B[0m\u001B[34m*\u001B[0m\u001B[34m*\u001B[0m\u001B[34m*\u001B[0m\u001B[34m*\u001B[0m\u001B[34m*\u001B[0m\u001B[34m*\u001B[0m\u001B[34m*\u001B[0m\u001B[34m*\u001B[0m\u001B[34m*\u001B[0m\u001B[34m*\u001B[0m\u001B[34m*\u001B[0m\u001B[34m*\u001B[0m\u001B[34m*\u001B[0m\u001B[34m*\u001B[0m\u001B[34m*\u001B[0m\u001B[34m*\u001B[0m\u001B[34m*\u001B[0m\u001B[34m*\u001B[0m\u001B[34m*\u001B[0m\u001B[34m*\u001B[0m\u001B[34m*\u001B[0m\u001B[34m*\u001B[0m\u001B[34m*\u001B[0m\u001B[34m*\u001B[0m\u001B[34m*\u001B[0m\u001B[34m*\u001B[0m\u001B[34m*\u001B[0m\u001B[34m*\u001B[0m\u001B[34m*\u001B[0m\u001B[34m*\u001B[0m\u001B[34m*\u001B[0m\u001B[34m*\u001B[0m\u001B[34m*\u001B[0m\u001B[34m*\u001B[0m\u001B[34m*\u001B[0m\u001B[34m*\u001B[0m\u001B[34m*\u001B[0m\u001B[34m*\u001B[0m\u001B[34m*\u001B[0m\u001B[34m*\u001B[0m\u001B[34m*\u001B[0m\u001B[34m*\u001B[0m\u001B[34m*\u001B[0m\u001B[34m*\u001B[0m\u001B[34m*\u001B[0m\n",
      "\u001B[32m** Rozwiązanie ********************************************************************************\u001B[0m\n"
     ]
    },
    {
     "data": {
      "text/plain": [
       "<IPython.core.display.Latex object>"
      ],
      "text/latex": "$$\\begin{gather*}\n\t\t\\left(x - 1\\right)^{2} + \\left(y + 3\\right)^{2} = 4\n\t\\end{gather*}$$"
     },
     "metadata": {},
     "output_type": "display_data"
    },
    {
     "data": {
      "text/plain": [
       "<IPython.core.display.Markdown object>"
      ],
      "text/markdown": "![](./pics//obszar9.png)"
     },
     "metadata": {},
     "output_type": "display_data"
    },
    {
     "name": "stdout",
     "output_type": "stream",
     "text": [
      "\u001B[34m** Zadanie 10 **********************************************************************************\u001B[0m\n"
     ]
    },
    {
     "data": {
      "text/plain": [
       "<IPython.core.display.Markdown object>"
      ],
      "text/markdown": "Zaznaczyć na płaszczyźnie zespolonej obszar spełniający warunki"
     },
     "metadata": {},
     "output_type": "display_data"
    },
    {
     "data": {
      "text/plain": [
       "<IPython.core.display.Latex object>"
      ],
      "text/latex": "$$\n\t\t\\left|z+3 - 2 i\\right| > \\frac{5}{2}\n \t\t\\quad \\textnormal{oraz} \\quad\n\t\t\\left|z+1 + 2 i\\right| > \\frac{5}{2}\n\t$$"
     },
     "metadata": {},
     "output_type": "display_data"
    },
    {
     "name": "stdout",
     "output_type": "stream",
     "text": [
      "\u001B[34m*\u001B[0m\u001B[34m*\u001B[0m\u001B[34m*\u001B[0m\u001B[34m*\u001B[0m\u001B[34m*\u001B[0m\u001B[34m*\u001B[0m\u001B[34m*\u001B[0m\u001B[34m*\u001B[0m\u001B[34m*\u001B[0m\u001B[34m*\u001B[0m\u001B[34m*\u001B[0m\u001B[34m*\u001B[0m\u001B[34m*\u001B[0m\u001B[34m*\u001B[0m\u001B[34m*\u001B[0m\u001B[34m*\u001B[0m\u001B[34m*\u001B[0m\u001B[34m*\u001B[0m\u001B[34m*\u001B[0m\u001B[34m*\u001B[0m\u001B[34m*\u001B[0m\u001B[34m*\u001B[0m\u001B[34m*\u001B[0m\u001B[34m*\u001B[0m\u001B[34m*\u001B[0m\u001B[34m*\u001B[0m\u001B[34m*\u001B[0m\u001B[34m*\u001B[0m\u001B[34m*\u001B[0m\u001B[34m*\u001B[0m\u001B[34m*\u001B[0m\u001B[34m*\u001B[0m\u001B[34m*\u001B[0m\u001B[34m*\u001B[0m\u001B[34m*\u001B[0m\u001B[34m*\u001B[0m\u001B[34m*\u001B[0m\u001B[34m*\u001B[0m\u001B[34m*\u001B[0m\u001B[34m*\u001B[0m\u001B[34m*\u001B[0m\u001B[34m*\u001B[0m\u001B[34m*\u001B[0m\u001B[34m*\u001B[0m\u001B[34m*\u001B[0m\u001B[34m*\u001B[0m\u001B[34m*\u001B[0m\u001B[34m*\u001B[0m\u001B[34m*\u001B[0m\u001B[34m*\u001B[0m\u001B[34m*\u001B[0m\u001B[34m*\u001B[0m\u001B[34m*\u001B[0m\u001B[34m*\u001B[0m\u001B[34m*\u001B[0m\u001B[34m*\u001B[0m\u001B[34m*\u001B[0m\u001B[34m*\u001B[0m\u001B[34m*\u001B[0m\u001B[34m*\u001B[0m\u001B[34m*\u001B[0m\u001B[34m*\u001B[0m\u001B[34m*\u001B[0m\u001B[34m*\u001B[0m\u001B[34m*\u001B[0m\u001B[34m*\u001B[0m\u001B[34m*\u001B[0m\u001B[34m*\u001B[0m\u001B[34m*\u001B[0m\u001B[34m*\u001B[0m\u001B[34m*\u001B[0m\u001B[34m*\u001B[0m\u001B[34m*\u001B[0m\u001B[34m*\u001B[0m\u001B[34m*\u001B[0m\u001B[34m*\u001B[0m\u001B[34m*\u001B[0m\u001B[34m*\u001B[0m\u001B[34m*\u001B[0m\u001B[34m*\u001B[0m\u001B[34m*\u001B[0m\u001B[34m*\u001B[0m\u001B[34m*\u001B[0m\u001B[34m*\u001B[0m\u001B[34m*\u001B[0m\u001B[34m*\u001B[0m\u001B[34m*\u001B[0m\u001B[34m*\u001B[0m\u001B[34m*\u001B[0m\u001B[34m*\u001B[0m\u001B[34m*\u001B[0m\u001B[34m*\u001B[0m\u001B[34m*\u001B[0m\u001B[34m*\u001B[0m\u001B[34m*\u001B[0m\n",
      "\u001B[32m** Rozwiązanie ********************************************************************************\u001B[0m\n"
     ]
    },
    {
     "data": {
      "text/plain": [
       "<IPython.core.display.Latex object>"
      ],
      "text/latex": "$$\\begin{gather*}\n\t\t\\left(x + 3\\right)^{2} + \\left(y - 2\\right)^{2} > \\frac{25}{4}\\\\\n\t\t\\left(x + 1\\right)^{2} + \\left(y + 2\\right)^{2} > \\frac{25}{4}\n\t\\end{gather*}$$"
     },
     "metadata": {},
     "output_type": "display_data"
    },
    {
     "data": {
      "text/plain": [
       "<IPython.core.display.Markdown object>"
      ],
      "text/markdown": "![](./pics//obszar10.png)"
     },
     "metadata": {},
     "output_type": "display_data"
    }
   ],
   "execution_count": 31
  },
  {
   "metadata": {},
   "cell_type": "code",
   "outputs": [],
   "execution_count": null,
   "source": ""
  }
 ],
 "metadata": {
  "kernelspec": {
   "display_name": "Python 3",
   "language": "python",
   "name": "python3"
  },
  "language_info": {
   "codemirror_mode": {
    "name": "ipython",
    "version": 3
   },
   "file_extension": ".py",
   "mimetype": "text/x-python",
   "name": "python",
   "nbconvert_exporter": "python",
   "pygments_lexer": "ipython3",
   "version": "3.8.5"
  }
 },
 "nbformat": 4,
 "nbformat_minor": 4
}
