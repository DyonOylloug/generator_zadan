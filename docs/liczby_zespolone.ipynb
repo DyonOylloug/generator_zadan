{
 "cells": [
  {
   "cell_type": "markdown",
   "source": "# Liczby zespolone\n",
   "metadata": {}
  },
  {
   "cell_type": "code",
   "source": [
    "from random import choice\n",
    "\n",
    "from IPython.display import display, Markdown, Latex\n",
    "\n",
    "import generator_zadan.generatory as gz\n",
    "\n",
    "print(gz.__version__)"
   ],
   "metadata": {
    "jupyter": {
     "is_executing": true
    }
   },
   "outputs": [],
   "execution_count": null
  },
  {
   "metadata": {
    "ExecuteTime": {
     "end_time": "2024-09-11T07:56:21.687496Z",
     "start_time": "2024-09-11T07:56:21.683465Z"
    }
   },
   "cell_type": "code",
   "source": "ile_zadan_przykladowych = 10",
   "outputs": [],
   "execution_count": 66
  },
  {
   "metadata": {},
   "cell_type": "markdown",
   "source": "## Zespolone równanie liniowe "
  },
  {
   "metadata": {
    "ExecuteTime": {
     "end_time": "2024-09-11T07:56:21.842196Z",
     "start_time": "2024-09-11T07:56:21.815122Z"
    }
   },
   "cell_type": "code",
   "source": [
    "zadanie = gz.rownanie_liniowe()\n",
    "zadanie"
   ],
   "outputs": [
    {
     "data": {
      "text/plain": [
       "('Rozwiązać równanie w zbiorze liczb zespolonych.\\\\ Sprawdzić rozwiązanie.\\n\\t\\\\[\\n\\t\\t7 + 6i+\\\\left(3 + 7i\\\\right)z = \\\\left(3 + 6i\\\\right)z\\n\\t\\\\]',\n",
       " '$z=-6 + 7i.$')"
      ]
     },
     "execution_count": 67,
     "metadata": {},
     "output_type": "execute_result"
    }
   ],
   "execution_count": 67
  },
  {
   "metadata": {
    "ExecuteTime": {
     "end_time": "2024-09-11T07:56:21.970958Z",
     "start_time": "2024-09-11T07:56:21.965124Z"
    }
   },
   "cell_type": "code",
   "source": [
    "print(\"\\033[34m** Zadanie **\" + '*' * 81 + '\\033[0m')\n",
    "print(zadanie[0])\n",
    "print(\"\\033[34m*\\033[0m\" * 95)\n",
    "print(\"\\033[32m** Rozwiązanie **\" + '*' * 78 + '\\033[0m')\n",
    "print(zadanie[1])\n",
    "print(\"\\033[32m*\\033[0m\" * 95)"
   ],
   "outputs": [
    {
     "name": "stdout",
     "output_type": "stream",
     "text": [
      "\u001B[34m** Zadanie ***********************************************************************************\u001B[0m\n",
      "Rozwiązać równanie w zbiorze liczb zespolonych.\\ Sprawdzić rozwiązanie.\n",
      "\t\\[\n",
      "\t\t7 + 6i+\\left(3 + 7i\\right)z = \\left(3 + 6i\\right)z\n",
      "\t\\]\n",
      "\u001B[34m*\u001B[0m\u001B[34m*\u001B[0m\u001B[34m*\u001B[0m\u001B[34m*\u001B[0m\u001B[34m*\u001B[0m\u001B[34m*\u001B[0m\u001B[34m*\u001B[0m\u001B[34m*\u001B[0m\u001B[34m*\u001B[0m\u001B[34m*\u001B[0m\u001B[34m*\u001B[0m\u001B[34m*\u001B[0m\u001B[34m*\u001B[0m\u001B[34m*\u001B[0m\u001B[34m*\u001B[0m\u001B[34m*\u001B[0m\u001B[34m*\u001B[0m\u001B[34m*\u001B[0m\u001B[34m*\u001B[0m\u001B[34m*\u001B[0m\u001B[34m*\u001B[0m\u001B[34m*\u001B[0m\u001B[34m*\u001B[0m\u001B[34m*\u001B[0m\u001B[34m*\u001B[0m\u001B[34m*\u001B[0m\u001B[34m*\u001B[0m\u001B[34m*\u001B[0m\u001B[34m*\u001B[0m\u001B[34m*\u001B[0m\u001B[34m*\u001B[0m\u001B[34m*\u001B[0m\u001B[34m*\u001B[0m\u001B[34m*\u001B[0m\u001B[34m*\u001B[0m\u001B[34m*\u001B[0m\u001B[34m*\u001B[0m\u001B[34m*\u001B[0m\u001B[34m*\u001B[0m\u001B[34m*\u001B[0m\u001B[34m*\u001B[0m\u001B[34m*\u001B[0m\u001B[34m*\u001B[0m\u001B[34m*\u001B[0m\u001B[34m*\u001B[0m\u001B[34m*\u001B[0m\u001B[34m*\u001B[0m\u001B[34m*\u001B[0m\u001B[34m*\u001B[0m\u001B[34m*\u001B[0m\u001B[34m*\u001B[0m\u001B[34m*\u001B[0m\u001B[34m*\u001B[0m\u001B[34m*\u001B[0m\u001B[34m*\u001B[0m\u001B[34m*\u001B[0m\u001B[34m*\u001B[0m\u001B[34m*\u001B[0m\u001B[34m*\u001B[0m\u001B[34m*\u001B[0m\u001B[34m*\u001B[0m\u001B[34m*\u001B[0m\u001B[34m*\u001B[0m\u001B[34m*\u001B[0m\u001B[34m*\u001B[0m\u001B[34m*\u001B[0m\u001B[34m*\u001B[0m\u001B[34m*\u001B[0m\u001B[34m*\u001B[0m\u001B[34m*\u001B[0m\u001B[34m*\u001B[0m\u001B[34m*\u001B[0m\u001B[34m*\u001B[0m\u001B[34m*\u001B[0m\u001B[34m*\u001B[0m\u001B[34m*\u001B[0m\u001B[34m*\u001B[0m\u001B[34m*\u001B[0m\u001B[34m*\u001B[0m\u001B[34m*\u001B[0m\u001B[34m*\u001B[0m\u001B[34m*\u001B[0m\u001B[34m*\u001B[0m\u001B[34m*\u001B[0m\u001B[34m*\u001B[0m\u001B[34m*\u001B[0m\u001B[34m*\u001B[0m\u001B[34m*\u001B[0m\u001B[34m*\u001B[0m\u001B[34m*\u001B[0m\u001B[34m*\u001B[0m\u001B[34m*\u001B[0m\u001B[34m*\u001B[0m\u001B[34m*\u001B[0m\u001B[34m*\u001B[0m\n",
      "\u001B[32m** Rozwiązanie ********************************************************************************\u001B[0m\n",
      "$z=-6 + 7i.$\n",
      "\u001B[32m*\u001B[0m\u001B[32m*\u001B[0m\u001B[32m*\u001B[0m\u001B[32m*\u001B[0m\u001B[32m*\u001B[0m\u001B[32m*\u001B[0m\u001B[32m*\u001B[0m\u001B[32m*\u001B[0m\u001B[32m*\u001B[0m\u001B[32m*\u001B[0m\u001B[32m*\u001B[0m\u001B[32m*\u001B[0m\u001B[32m*\u001B[0m\u001B[32m*\u001B[0m\u001B[32m*\u001B[0m\u001B[32m*\u001B[0m\u001B[32m*\u001B[0m\u001B[32m*\u001B[0m\u001B[32m*\u001B[0m\u001B[32m*\u001B[0m\u001B[32m*\u001B[0m\u001B[32m*\u001B[0m\u001B[32m*\u001B[0m\u001B[32m*\u001B[0m\u001B[32m*\u001B[0m\u001B[32m*\u001B[0m\u001B[32m*\u001B[0m\u001B[32m*\u001B[0m\u001B[32m*\u001B[0m\u001B[32m*\u001B[0m\u001B[32m*\u001B[0m\u001B[32m*\u001B[0m\u001B[32m*\u001B[0m\u001B[32m*\u001B[0m\u001B[32m*\u001B[0m\u001B[32m*\u001B[0m\u001B[32m*\u001B[0m\u001B[32m*\u001B[0m\u001B[32m*\u001B[0m\u001B[32m*\u001B[0m\u001B[32m*\u001B[0m\u001B[32m*\u001B[0m\u001B[32m*\u001B[0m\u001B[32m*\u001B[0m\u001B[32m*\u001B[0m\u001B[32m*\u001B[0m\u001B[32m*\u001B[0m\u001B[32m*\u001B[0m\u001B[32m*\u001B[0m\u001B[32m*\u001B[0m\u001B[32m*\u001B[0m\u001B[32m*\u001B[0m\u001B[32m*\u001B[0m\u001B[32m*\u001B[0m\u001B[32m*\u001B[0m\u001B[32m*\u001B[0m\u001B[32m*\u001B[0m\u001B[32m*\u001B[0m\u001B[32m*\u001B[0m\u001B[32m*\u001B[0m\u001B[32m*\u001B[0m\u001B[32m*\u001B[0m\u001B[32m*\u001B[0m\u001B[32m*\u001B[0m\u001B[32m*\u001B[0m\u001B[32m*\u001B[0m\u001B[32m*\u001B[0m\u001B[32m*\u001B[0m\u001B[32m*\u001B[0m\u001B[32m*\u001B[0m\u001B[32m*\u001B[0m\u001B[32m*\u001B[0m\u001B[32m*\u001B[0m\u001B[32m*\u001B[0m\u001B[32m*\u001B[0m\u001B[32m*\u001B[0m\u001B[32m*\u001B[0m\u001B[32m*\u001B[0m\u001B[32m*\u001B[0m\u001B[32m*\u001B[0m\u001B[32m*\u001B[0m\u001B[32m*\u001B[0m\u001B[32m*\u001B[0m\u001B[32m*\u001B[0m\u001B[32m*\u001B[0m\u001B[32m*\u001B[0m\u001B[32m*\u001B[0m\u001B[32m*\u001B[0m\u001B[32m*\u001B[0m\u001B[32m*\u001B[0m\u001B[32m*\u001B[0m\u001B[32m*\u001B[0m\u001B[32m*\u001B[0m\u001B[32m*\u001B[0m\u001B[32m*\u001B[0m\n"
     ]
    }
   ],
   "execution_count": 68
  },
  {
   "metadata": {
    "ExecuteTime": {
     "end_time": "2024-09-11T07:56:24.667245Z",
     "start_time": "2024-09-11T07:56:22.120335Z"
    }
   },
   "cell_type": "code",
   "source": [
    "for i in range(1, ile_zadan_przykladowych + 1):\n",
    "    z = gz.rownanie_liniowe()\n",
    "    print(f\"\\033[34m** Zadanie {i} **\" + '*' * 80 + '\\033[0m')\n",
    "    display(Markdown(z[0][:71].replace('\\\\ ', ' ')))\n",
    "    display(Latex(z[0][71:]))\n",
    "    print(\"\\033[34m*\\033[0m\" * 95)\n",
    "    print(\"\\033[32m** Rozwiązanie **\" + '*' * 78 + '\\033[0m')\n",
    "    # display(Markdown('Rozwiązanie: '))\n",
    "    display(Latex(z[1].replace('$ \\\\\\\\ \\n\\t$', ',\\\\quad ').replace('$', '$$')))\n",
    "    print(\"\\033[32m*\\033[0m\" * 95)"
   ],
   "outputs": [
    {
     "name": "stdout",
     "output_type": "stream",
     "text": [
      "\u001B[34m** Zadanie 1 **********************************************************************************\u001B[0m\n"
     ]
    },
    {
     "data": {
      "text/plain": [
       "<IPython.core.display.Markdown object>"
      ],
      "text/markdown": "Rozwiązać równanie w zbiorze liczb zespolonych. Sprawdzić rozwiązanie."
     },
     "metadata": {},
     "output_type": "display_data"
    },
    {
     "data": {
      "text/plain": [
       "<IPython.core.display.Latex object>"
      ],
      "text/latex": "\n\t\\[\n\t\t\\left(2 + 5i\\right)z = 3 - 5i+\\left(2 + 4i\\right)z\n\t\\]"
     },
     "metadata": {},
     "output_type": "display_data"
    },
    {
     "name": "stdout",
     "output_type": "stream",
     "text": [
      "\u001B[34m*\u001B[0m\u001B[34m*\u001B[0m\u001B[34m*\u001B[0m\u001B[34m*\u001B[0m\u001B[34m*\u001B[0m\u001B[34m*\u001B[0m\u001B[34m*\u001B[0m\u001B[34m*\u001B[0m\u001B[34m*\u001B[0m\u001B[34m*\u001B[0m\u001B[34m*\u001B[0m\u001B[34m*\u001B[0m\u001B[34m*\u001B[0m\u001B[34m*\u001B[0m\u001B[34m*\u001B[0m\u001B[34m*\u001B[0m\u001B[34m*\u001B[0m\u001B[34m*\u001B[0m\u001B[34m*\u001B[0m\u001B[34m*\u001B[0m\u001B[34m*\u001B[0m\u001B[34m*\u001B[0m\u001B[34m*\u001B[0m\u001B[34m*\u001B[0m\u001B[34m*\u001B[0m\u001B[34m*\u001B[0m\u001B[34m*\u001B[0m\u001B[34m*\u001B[0m\u001B[34m*\u001B[0m\u001B[34m*\u001B[0m\u001B[34m*\u001B[0m\u001B[34m*\u001B[0m\u001B[34m*\u001B[0m\u001B[34m*\u001B[0m\u001B[34m*\u001B[0m\u001B[34m*\u001B[0m\u001B[34m*\u001B[0m\u001B[34m*\u001B[0m\u001B[34m*\u001B[0m\u001B[34m*\u001B[0m\u001B[34m*\u001B[0m\u001B[34m*\u001B[0m\u001B[34m*\u001B[0m\u001B[34m*\u001B[0m\u001B[34m*\u001B[0m\u001B[34m*\u001B[0m\u001B[34m*\u001B[0m\u001B[34m*\u001B[0m\u001B[34m*\u001B[0m\u001B[34m*\u001B[0m\u001B[34m*\u001B[0m\u001B[34m*\u001B[0m\u001B[34m*\u001B[0m\u001B[34m*\u001B[0m\u001B[34m*\u001B[0m\u001B[34m*\u001B[0m\u001B[34m*\u001B[0m\u001B[34m*\u001B[0m\u001B[34m*\u001B[0m\u001B[34m*\u001B[0m\u001B[34m*\u001B[0m\u001B[34m*\u001B[0m\u001B[34m*\u001B[0m\u001B[34m*\u001B[0m\u001B[34m*\u001B[0m\u001B[34m*\u001B[0m\u001B[34m*\u001B[0m\u001B[34m*\u001B[0m\u001B[34m*\u001B[0m\u001B[34m*\u001B[0m\u001B[34m*\u001B[0m\u001B[34m*\u001B[0m\u001B[34m*\u001B[0m\u001B[34m*\u001B[0m\u001B[34m*\u001B[0m\u001B[34m*\u001B[0m\u001B[34m*\u001B[0m\u001B[34m*\u001B[0m\u001B[34m*\u001B[0m\u001B[34m*\u001B[0m\u001B[34m*\u001B[0m\u001B[34m*\u001B[0m\u001B[34m*\u001B[0m\u001B[34m*\u001B[0m\u001B[34m*\u001B[0m\u001B[34m*\u001B[0m\u001B[34m*\u001B[0m\u001B[34m*\u001B[0m\u001B[34m*\u001B[0m\u001B[34m*\u001B[0m\u001B[34m*\u001B[0m\u001B[34m*\u001B[0m\u001B[34m*\u001B[0m\u001B[34m*\u001B[0m\u001B[34m*\u001B[0m\n",
      "\u001B[32m** Rozwiązanie ********************************************************************************\u001B[0m\n"
     ]
    },
    {
     "data": {
      "text/plain": [
       "<IPython.core.display.Latex object>"
      ],
      "text/latex": "$$z=-5 - 3i.$$"
     },
     "metadata": {},
     "output_type": "display_data"
    },
    {
     "name": "stdout",
     "output_type": "stream",
     "text": [
      "\u001B[32m*\u001B[0m\u001B[32m*\u001B[0m\u001B[32m*\u001B[0m\u001B[32m*\u001B[0m\u001B[32m*\u001B[0m\u001B[32m*\u001B[0m\u001B[32m*\u001B[0m\u001B[32m*\u001B[0m\u001B[32m*\u001B[0m\u001B[32m*\u001B[0m\u001B[32m*\u001B[0m\u001B[32m*\u001B[0m\u001B[32m*\u001B[0m\u001B[32m*\u001B[0m\u001B[32m*\u001B[0m\u001B[32m*\u001B[0m\u001B[32m*\u001B[0m\u001B[32m*\u001B[0m\u001B[32m*\u001B[0m\u001B[32m*\u001B[0m\u001B[32m*\u001B[0m\u001B[32m*\u001B[0m\u001B[32m*\u001B[0m\u001B[32m*\u001B[0m\u001B[32m*\u001B[0m\u001B[32m*\u001B[0m\u001B[32m*\u001B[0m\u001B[32m*\u001B[0m\u001B[32m*\u001B[0m\u001B[32m*\u001B[0m\u001B[32m*\u001B[0m\u001B[32m*\u001B[0m\u001B[32m*\u001B[0m\u001B[32m*\u001B[0m\u001B[32m*\u001B[0m\u001B[32m*\u001B[0m\u001B[32m*\u001B[0m\u001B[32m*\u001B[0m\u001B[32m*\u001B[0m\u001B[32m*\u001B[0m\u001B[32m*\u001B[0m\u001B[32m*\u001B[0m\u001B[32m*\u001B[0m\u001B[32m*\u001B[0m\u001B[32m*\u001B[0m\u001B[32m*\u001B[0m\u001B[32m*\u001B[0m\u001B[32m*\u001B[0m\u001B[32m*\u001B[0m\u001B[32m*\u001B[0m\u001B[32m*\u001B[0m\u001B[32m*\u001B[0m\u001B[32m*\u001B[0m\u001B[32m*\u001B[0m\u001B[32m*\u001B[0m\u001B[32m*\u001B[0m\u001B[32m*\u001B[0m\u001B[32m*\u001B[0m\u001B[32m*\u001B[0m\u001B[32m*\u001B[0m\u001B[32m*\u001B[0m\u001B[32m*\u001B[0m\u001B[32m*\u001B[0m\u001B[32m*\u001B[0m\u001B[32m*\u001B[0m\u001B[32m*\u001B[0m\u001B[32m*\u001B[0m\u001B[32m*\u001B[0m\u001B[32m*\u001B[0m\u001B[32m*\u001B[0m\u001B[32m*\u001B[0m\u001B[32m*\u001B[0m\u001B[32m*\u001B[0m\u001B[32m*\u001B[0m\u001B[32m*\u001B[0m\u001B[32m*\u001B[0m\u001B[32m*\u001B[0m\u001B[32m*\u001B[0m\u001B[32m*\u001B[0m\u001B[32m*\u001B[0m\u001B[32m*\u001B[0m\u001B[32m*\u001B[0m\u001B[32m*\u001B[0m\u001B[32m*\u001B[0m\u001B[32m*\u001B[0m\u001B[32m*\u001B[0m\u001B[32m*\u001B[0m\u001B[32m*\u001B[0m\u001B[32m*\u001B[0m\u001B[32m*\u001B[0m\u001B[32m*\u001B[0m\u001B[32m*\u001B[0m\u001B[32m*\u001B[0m\u001B[32m*\u001B[0m\u001B[32m*\u001B[0m\n",
      "\u001B[34m** Zadanie 2 **********************************************************************************\u001B[0m\n"
     ]
    },
    {
     "data": {
      "text/plain": [
       "<IPython.core.display.Markdown object>"
      ],
      "text/markdown": "Rozwiązać równanie w zbiorze liczb zespolonych. Sprawdzić rozwiązanie."
     },
     "metadata": {},
     "output_type": "display_data"
    },
    {
     "data": {
      "text/plain": [
       "<IPython.core.display.Latex object>"
      ],
      "text/latex": "\n\t\\[\n\t\t\\left(5 + 4i\\right)z = -4 + 6i+\\left(5 + 6i\\right)z\n\t\\]"
     },
     "metadata": {},
     "output_type": "display_data"
    },
    {
     "name": "stdout",
     "output_type": "stream",
     "text": [
      "\u001B[34m*\u001B[0m\u001B[34m*\u001B[0m\u001B[34m*\u001B[0m\u001B[34m*\u001B[0m\u001B[34m*\u001B[0m\u001B[34m*\u001B[0m\u001B[34m*\u001B[0m\u001B[34m*\u001B[0m\u001B[34m*\u001B[0m\u001B[34m*\u001B[0m\u001B[34m*\u001B[0m\u001B[34m*\u001B[0m\u001B[34m*\u001B[0m\u001B[34m*\u001B[0m\u001B[34m*\u001B[0m\u001B[34m*\u001B[0m\u001B[34m*\u001B[0m\u001B[34m*\u001B[0m\u001B[34m*\u001B[0m\u001B[34m*\u001B[0m\u001B[34m*\u001B[0m\u001B[34m*\u001B[0m\u001B[34m*\u001B[0m\u001B[34m*\u001B[0m\u001B[34m*\u001B[0m\u001B[34m*\u001B[0m\u001B[34m*\u001B[0m\u001B[34m*\u001B[0m\u001B[34m*\u001B[0m\u001B[34m*\u001B[0m\u001B[34m*\u001B[0m\u001B[34m*\u001B[0m\u001B[34m*\u001B[0m\u001B[34m*\u001B[0m\u001B[34m*\u001B[0m\u001B[34m*\u001B[0m\u001B[34m*\u001B[0m\u001B[34m*\u001B[0m\u001B[34m*\u001B[0m\u001B[34m*\u001B[0m\u001B[34m*\u001B[0m\u001B[34m*\u001B[0m\u001B[34m*\u001B[0m\u001B[34m*\u001B[0m\u001B[34m*\u001B[0m\u001B[34m*\u001B[0m\u001B[34m*\u001B[0m\u001B[34m*\u001B[0m\u001B[34m*\u001B[0m\u001B[34m*\u001B[0m\u001B[34m*\u001B[0m\u001B[34m*\u001B[0m\u001B[34m*\u001B[0m\u001B[34m*\u001B[0m\u001B[34m*\u001B[0m\u001B[34m*\u001B[0m\u001B[34m*\u001B[0m\u001B[34m*\u001B[0m\u001B[34m*\u001B[0m\u001B[34m*\u001B[0m\u001B[34m*\u001B[0m\u001B[34m*\u001B[0m\u001B[34m*\u001B[0m\u001B[34m*\u001B[0m\u001B[34m*\u001B[0m\u001B[34m*\u001B[0m\u001B[34m*\u001B[0m\u001B[34m*\u001B[0m\u001B[34m*\u001B[0m\u001B[34m*\u001B[0m\u001B[34m*\u001B[0m\u001B[34m*\u001B[0m\u001B[34m*\u001B[0m\u001B[34m*\u001B[0m\u001B[34m*\u001B[0m\u001B[34m*\u001B[0m\u001B[34m*\u001B[0m\u001B[34m*\u001B[0m\u001B[34m*\u001B[0m\u001B[34m*\u001B[0m\u001B[34m*\u001B[0m\u001B[34m*\u001B[0m\u001B[34m*\u001B[0m\u001B[34m*\u001B[0m\u001B[34m*\u001B[0m\u001B[34m*\u001B[0m\u001B[34m*\u001B[0m\u001B[34m*\u001B[0m\u001B[34m*\u001B[0m\u001B[34m*\u001B[0m\u001B[34m*\u001B[0m\u001B[34m*\u001B[0m\u001B[34m*\u001B[0m\u001B[34m*\u001B[0m\u001B[34m*\u001B[0m\n",
      "\u001B[32m** Rozwiązanie ********************************************************************************\u001B[0m\n"
     ]
    },
    {
     "data": {
      "text/plain": [
       "<IPython.core.display.Latex object>"
      ],
      "text/latex": "$$z=-3 - 2i.$$"
     },
     "metadata": {},
     "output_type": "display_data"
    },
    {
     "name": "stdout",
     "output_type": "stream",
     "text": [
      "\u001B[32m*\u001B[0m\u001B[32m*\u001B[0m\u001B[32m*\u001B[0m\u001B[32m*\u001B[0m\u001B[32m*\u001B[0m\u001B[32m*\u001B[0m\u001B[32m*\u001B[0m\u001B[32m*\u001B[0m\u001B[32m*\u001B[0m\u001B[32m*\u001B[0m\u001B[32m*\u001B[0m\u001B[32m*\u001B[0m\u001B[32m*\u001B[0m\u001B[32m*\u001B[0m\u001B[32m*\u001B[0m\u001B[32m*\u001B[0m\u001B[32m*\u001B[0m\u001B[32m*\u001B[0m\u001B[32m*\u001B[0m\u001B[32m*\u001B[0m\u001B[32m*\u001B[0m\u001B[32m*\u001B[0m\u001B[32m*\u001B[0m\u001B[32m*\u001B[0m\u001B[32m*\u001B[0m\u001B[32m*\u001B[0m\u001B[32m*\u001B[0m\u001B[32m*\u001B[0m\u001B[32m*\u001B[0m\u001B[32m*\u001B[0m\u001B[32m*\u001B[0m\u001B[32m*\u001B[0m\u001B[32m*\u001B[0m\u001B[32m*\u001B[0m\u001B[32m*\u001B[0m\u001B[32m*\u001B[0m\u001B[32m*\u001B[0m\u001B[32m*\u001B[0m\u001B[32m*\u001B[0m\u001B[32m*\u001B[0m\u001B[32m*\u001B[0m\u001B[32m*\u001B[0m\u001B[32m*\u001B[0m\u001B[32m*\u001B[0m\u001B[32m*\u001B[0m\u001B[32m*\u001B[0m\u001B[32m*\u001B[0m\u001B[32m*\u001B[0m\u001B[32m*\u001B[0m\u001B[32m*\u001B[0m\u001B[32m*\u001B[0m\u001B[32m*\u001B[0m\u001B[32m*\u001B[0m\u001B[32m*\u001B[0m\u001B[32m*\u001B[0m\u001B[32m*\u001B[0m\u001B[32m*\u001B[0m\u001B[32m*\u001B[0m\u001B[32m*\u001B[0m\u001B[32m*\u001B[0m\u001B[32m*\u001B[0m\u001B[32m*\u001B[0m\u001B[32m*\u001B[0m\u001B[32m*\u001B[0m\u001B[32m*\u001B[0m\u001B[32m*\u001B[0m\u001B[32m*\u001B[0m\u001B[32m*\u001B[0m\u001B[32m*\u001B[0m\u001B[32m*\u001B[0m\u001B[32m*\u001B[0m\u001B[32m*\u001B[0m\u001B[32m*\u001B[0m\u001B[32m*\u001B[0m\u001B[32m*\u001B[0m\u001B[32m*\u001B[0m\u001B[32m*\u001B[0m\u001B[32m*\u001B[0m\u001B[32m*\u001B[0m\u001B[32m*\u001B[0m\u001B[32m*\u001B[0m\u001B[32m*\u001B[0m\u001B[32m*\u001B[0m\u001B[32m*\u001B[0m\u001B[32m*\u001B[0m\u001B[32m*\u001B[0m\u001B[32m*\u001B[0m\u001B[32m*\u001B[0m\u001B[32m*\u001B[0m\u001B[32m*\u001B[0m\u001B[32m*\u001B[0m\u001B[32m*\u001B[0m\u001B[32m*\u001B[0m\u001B[32m*\u001B[0m\u001B[32m*\u001B[0m\n",
      "\u001B[34m** Zadanie 3 **********************************************************************************\u001B[0m\n"
     ]
    },
    {
     "data": {
      "text/plain": [
       "<IPython.core.display.Markdown object>"
      ],
      "text/markdown": "Rozwiązać równanie w zbiorze liczb zespolonych. Sprawdzić rozwiązanie."
     },
     "metadata": {},
     "output_type": "display_data"
    },
    {
     "data": {
      "text/plain": [
       "<IPython.core.display.Latex object>"
      ],
      "text/latex": "\n\t\\[\n\t\t\\left(7 - 4i\\right)z = 8 + 4i+\\left(8 - 5i\\right)z\n\t\\]"
     },
     "metadata": {},
     "output_type": "display_data"
    },
    {
     "name": "stdout",
     "output_type": "stream",
     "text": [
      "\u001B[34m*\u001B[0m\u001B[34m*\u001B[0m\u001B[34m*\u001B[0m\u001B[34m*\u001B[0m\u001B[34m*\u001B[0m\u001B[34m*\u001B[0m\u001B[34m*\u001B[0m\u001B[34m*\u001B[0m\u001B[34m*\u001B[0m\u001B[34m*\u001B[0m\u001B[34m*\u001B[0m\u001B[34m*\u001B[0m\u001B[34m*\u001B[0m\u001B[34m*\u001B[0m\u001B[34m*\u001B[0m\u001B[34m*\u001B[0m\u001B[34m*\u001B[0m\u001B[34m*\u001B[0m\u001B[34m*\u001B[0m\u001B[34m*\u001B[0m\u001B[34m*\u001B[0m\u001B[34m*\u001B[0m\u001B[34m*\u001B[0m\u001B[34m*\u001B[0m\u001B[34m*\u001B[0m\u001B[34m*\u001B[0m\u001B[34m*\u001B[0m\u001B[34m*\u001B[0m\u001B[34m*\u001B[0m\u001B[34m*\u001B[0m\u001B[34m*\u001B[0m\u001B[34m*\u001B[0m\u001B[34m*\u001B[0m\u001B[34m*\u001B[0m\u001B[34m*\u001B[0m\u001B[34m*\u001B[0m\u001B[34m*\u001B[0m\u001B[34m*\u001B[0m\u001B[34m*\u001B[0m\u001B[34m*\u001B[0m\u001B[34m*\u001B[0m\u001B[34m*\u001B[0m\u001B[34m*\u001B[0m\u001B[34m*\u001B[0m\u001B[34m*\u001B[0m\u001B[34m*\u001B[0m\u001B[34m*\u001B[0m\u001B[34m*\u001B[0m\u001B[34m*\u001B[0m\u001B[34m*\u001B[0m\u001B[34m*\u001B[0m\u001B[34m*\u001B[0m\u001B[34m*\u001B[0m\u001B[34m*\u001B[0m\u001B[34m*\u001B[0m\u001B[34m*\u001B[0m\u001B[34m*\u001B[0m\u001B[34m*\u001B[0m\u001B[34m*\u001B[0m\u001B[34m*\u001B[0m\u001B[34m*\u001B[0m\u001B[34m*\u001B[0m\u001B[34m*\u001B[0m\u001B[34m*\u001B[0m\u001B[34m*\u001B[0m\u001B[34m*\u001B[0m\u001B[34m*\u001B[0m\u001B[34m*\u001B[0m\u001B[34m*\u001B[0m\u001B[34m*\u001B[0m\u001B[34m*\u001B[0m\u001B[34m*\u001B[0m\u001B[34m*\u001B[0m\u001B[34m*\u001B[0m\u001B[34m*\u001B[0m\u001B[34m*\u001B[0m\u001B[34m*\u001B[0m\u001B[34m*\u001B[0m\u001B[34m*\u001B[0m\u001B[34m*\u001B[0m\u001B[34m*\u001B[0m\u001B[34m*\u001B[0m\u001B[34m*\u001B[0m\u001B[34m*\u001B[0m\u001B[34m*\u001B[0m\u001B[34m*\u001B[0m\u001B[34m*\u001B[0m\u001B[34m*\u001B[0m\u001B[34m*\u001B[0m\u001B[34m*\u001B[0m\u001B[34m*\u001B[0m\u001B[34m*\u001B[0m\u001B[34m*\u001B[0m\u001B[34m*\u001B[0m\u001B[34m*\u001B[0m\n",
      "\u001B[32m** Rozwiązanie ********************************************************************************\u001B[0m\n"
     ]
    },
    {
     "data": {
      "text/plain": [
       "<IPython.core.display.Latex object>"
      ],
      "text/latex": "$$z=-2 - 6i.$$"
     },
     "metadata": {},
     "output_type": "display_data"
    },
    {
     "name": "stdout",
     "output_type": "stream",
     "text": [
      "\u001B[32m*\u001B[0m\u001B[32m*\u001B[0m\u001B[32m*\u001B[0m\u001B[32m*\u001B[0m\u001B[32m*\u001B[0m\u001B[32m*\u001B[0m\u001B[32m*\u001B[0m\u001B[32m*\u001B[0m\u001B[32m*\u001B[0m\u001B[32m*\u001B[0m\u001B[32m*\u001B[0m\u001B[32m*\u001B[0m\u001B[32m*\u001B[0m\u001B[32m*\u001B[0m\u001B[32m*\u001B[0m\u001B[32m*\u001B[0m\u001B[32m*\u001B[0m\u001B[32m*\u001B[0m\u001B[32m*\u001B[0m\u001B[32m*\u001B[0m\u001B[32m*\u001B[0m\u001B[32m*\u001B[0m\u001B[32m*\u001B[0m\u001B[32m*\u001B[0m\u001B[32m*\u001B[0m\u001B[32m*\u001B[0m\u001B[32m*\u001B[0m\u001B[32m*\u001B[0m\u001B[32m*\u001B[0m\u001B[32m*\u001B[0m\u001B[32m*\u001B[0m\u001B[32m*\u001B[0m\u001B[32m*\u001B[0m\u001B[32m*\u001B[0m\u001B[32m*\u001B[0m\u001B[32m*\u001B[0m\u001B[32m*\u001B[0m\u001B[32m*\u001B[0m\u001B[32m*\u001B[0m\u001B[32m*\u001B[0m\u001B[32m*\u001B[0m\u001B[32m*\u001B[0m\u001B[32m*\u001B[0m\u001B[32m*\u001B[0m\u001B[32m*\u001B[0m\u001B[32m*\u001B[0m\u001B[32m*\u001B[0m\u001B[32m*\u001B[0m\u001B[32m*\u001B[0m\u001B[32m*\u001B[0m\u001B[32m*\u001B[0m\u001B[32m*\u001B[0m\u001B[32m*\u001B[0m\u001B[32m*\u001B[0m\u001B[32m*\u001B[0m\u001B[32m*\u001B[0m\u001B[32m*\u001B[0m\u001B[32m*\u001B[0m\u001B[32m*\u001B[0m\u001B[32m*\u001B[0m\u001B[32m*\u001B[0m\u001B[32m*\u001B[0m\u001B[32m*\u001B[0m\u001B[32m*\u001B[0m\u001B[32m*\u001B[0m\u001B[32m*\u001B[0m\u001B[32m*\u001B[0m\u001B[32m*\u001B[0m\u001B[32m*\u001B[0m\u001B[32m*\u001B[0m\u001B[32m*\u001B[0m\u001B[32m*\u001B[0m\u001B[32m*\u001B[0m\u001B[32m*\u001B[0m\u001B[32m*\u001B[0m\u001B[32m*\u001B[0m\u001B[32m*\u001B[0m\u001B[32m*\u001B[0m\u001B[32m*\u001B[0m\u001B[32m*\u001B[0m\u001B[32m*\u001B[0m\u001B[32m*\u001B[0m\u001B[32m*\u001B[0m\u001B[32m*\u001B[0m\u001B[32m*\u001B[0m\u001B[32m*\u001B[0m\u001B[32m*\u001B[0m\u001B[32m*\u001B[0m\u001B[32m*\u001B[0m\u001B[32m*\u001B[0m\u001B[32m*\u001B[0m\u001B[32m*\u001B[0m\u001B[32m*\u001B[0m\u001B[32m*\u001B[0m\u001B[32m*\u001B[0m\n",
      "\u001B[34m** Zadanie 4 **********************************************************************************\u001B[0m\n"
     ]
    },
    {
     "data": {
      "text/plain": [
       "<IPython.core.display.Markdown object>"
      ],
      "text/markdown": "Rozwiązać równanie w zbiorze liczb zespolonych. Sprawdzić rozwiązanie."
     },
     "metadata": {},
     "output_type": "display_data"
    },
    {
     "data": {
      "text/plain": [
       "<IPython.core.display.Latex object>"
      ],
      "text/latex": "\n\t\\[\n\t\t4 - 6i+\\left(9 + 8i\\right)z = \\left(8 + 3i\\right)z\n\t\\]"
     },
     "metadata": {},
     "output_type": "display_data"
    },
    {
     "name": "stdout",
     "output_type": "stream",
     "text": [
      "\u001B[34m*\u001B[0m\u001B[34m*\u001B[0m\u001B[34m*\u001B[0m\u001B[34m*\u001B[0m\u001B[34m*\u001B[0m\u001B[34m*\u001B[0m\u001B[34m*\u001B[0m\u001B[34m*\u001B[0m\u001B[34m*\u001B[0m\u001B[34m*\u001B[0m\u001B[34m*\u001B[0m\u001B[34m*\u001B[0m\u001B[34m*\u001B[0m\u001B[34m*\u001B[0m\u001B[34m*\u001B[0m\u001B[34m*\u001B[0m\u001B[34m*\u001B[0m\u001B[34m*\u001B[0m\u001B[34m*\u001B[0m\u001B[34m*\u001B[0m\u001B[34m*\u001B[0m\u001B[34m*\u001B[0m\u001B[34m*\u001B[0m\u001B[34m*\u001B[0m\u001B[34m*\u001B[0m\u001B[34m*\u001B[0m\u001B[34m*\u001B[0m\u001B[34m*\u001B[0m\u001B[34m*\u001B[0m\u001B[34m*\u001B[0m\u001B[34m*\u001B[0m\u001B[34m*\u001B[0m\u001B[34m*\u001B[0m\u001B[34m*\u001B[0m\u001B[34m*\u001B[0m\u001B[34m*\u001B[0m\u001B[34m*\u001B[0m\u001B[34m*\u001B[0m\u001B[34m*\u001B[0m\u001B[34m*\u001B[0m\u001B[34m*\u001B[0m\u001B[34m*\u001B[0m\u001B[34m*\u001B[0m\u001B[34m*\u001B[0m\u001B[34m*\u001B[0m\u001B[34m*\u001B[0m\u001B[34m*\u001B[0m\u001B[34m*\u001B[0m\u001B[34m*\u001B[0m\u001B[34m*\u001B[0m\u001B[34m*\u001B[0m\u001B[34m*\u001B[0m\u001B[34m*\u001B[0m\u001B[34m*\u001B[0m\u001B[34m*\u001B[0m\u001B[34m*\u001B[0m\u001B[34m*\u001B[0m\u001B[34m*\u001B[0m\u001B[34m*\u001B[0m\u001B[34m*\u001B[0m\u001B[34m*\u001B[0m\u001B[34m*\u001B[0m\u001B[34m*\u001B[0m\u001B[34m*\u001B[0m\u001B[34m*\u001B[0m\u001B[34m*\u001B[0m\u001B[34m*\u001B[0m\u001B[34m*\u001B[0m\u001B[34m*\u001B[0m\u001B[34m*\u001B[0m\u001B[34m*\u001B[0m\u001B[34m*\u001B[0m\u001B[34m*\u001B[0m\u001B[34m*\u001B[0m\u001B[34m*\u001B[0m\u001B[34m*\u001B[0m\u001B[34m*\u001B[0m\u001B[34m*\u001B[0m\u001B[34m*\u001B[0m\u001B[34m*\u001B[0m\u001B[34m*\u001B[0m\u001B[34m*\u001B[0m\u001B[34m*\u001B[0m\u001B[34m*\u001B[0m\u001B[34m*\u001B[0m\u001B[34m*\u001B[0m\u001B[34m*\u001B[0m\u001B[34m*\u001B[0m\u001B[34m*\u001B[0m\u001B[34m*\u001B[0m\u001B[34m*\u001B[0m\u001B[34m*\u001B[0m\u001B[34m*\u001B[0m\u001B[34m*\u001B[0m\u001B[34m*\u001B[0m\n",
      "\u001B[32m** Rozwiązanie ********************************************************************************\u001B[0m\n"
     ]
    },
    {
     "data": {
      "text/plain": [
       "<IPython.core.display.Latex object>"
      ],
      "text/latex": "$$z=1 + i.$$"
     },
     "metadata": {},
     "output_type": "display_data"
    },
    {
     "name": "stdout",
     "output_type": "stream",
     "text": [
      "\u001B[32m*\u001B[0m\u001B[32m*\u001B[0m\u001B[32m*\u001B[0m\u001B[32m*\u001B[0m\u001B[32m*\u001B[0m\u001B[32m*\u001B[0m\u001B[32m*\u001B[0m\u001B[32m*\u001B[0m\u001B[32m*\u001B[0m\u001B[32m*\u001B[0m\u001B[32m*\u001B[0m\u001B[32m*\u001B[0m\u001B[32m*\u001B[0m\u001B[32m*\u001B[0m\u001B[32m*\u001B[0m\u001B[32m*\u001B[0m\u001B[32m*\u001B[0m\u001B[32m*\u001B[0m\u001B[32m*\u001B[0m\u001B[32m*\u001B[0m\u001B[32m*\u001B[0m\u001B[32m*\u001B[0m\u001B[32m*\u001B[0m\u001B[32m*\u001B[0m\u001B[32m*\u001B[0m\u001B[32m*\u001B[0m\u001B[32m*\u001B[0m\u001B[32m*\u001B[0m\u001B[32m*\u001B[0m\u001B[32m*\u001B[0m\u001B[32m*\u001B[0m\u001B[32m*\u001B[0m\u001B[32m*\u001B[0m\u001B[32m*\u001B[0m\u001B[32m*\u001B[0m\u001B[32m*\u001B[0m\u001B[32m*\u001B[0m\u001B[32m*\u001B[0m\u001B[32m*\u001B[0m\u001B[32m*\u001B[0m\u001B[32m*\u001B[0m\u001B[32m*\u001B[0m\u001B[32m*\u001B[0m\u001B[32m*\u001B[0m\u001B[32m*\u001B[0m\u001B[32m*\u001B[0m\u001B[32m*\u001B[0m\u001B[32m*\u001B[0m\u001B[32m*\u001B[0m\u001B[32m*\u001B[0m\u001B[32m*\u001B[0m\u001B[32m*\u001B[0m\u001B[32m*\u001B[0m\u001B[32m*\u001B[0m\u001B[32m*\u001B[0m\u001B[32m*\u001B[0m\u001B[32m*\u001B[0m\u001B[32m*\u001B[0m\u001B[32m*\u001B[0m\u001B[32m*\u001B[0m\u001B[32m*\u001B[0m\u001B[32m*\u001B[0m\u001B[32m*\u001B[0m\u001B[32m*\u001B[0m\u001B[32m*\u001B[0m\u001B[32m*\u001B[0m\u001B[32m*\u001B[0m\u001B[32m*\u001B[0m\u001B[32m*\u001B[0m\u001B[32m*\u001B[0m\u001B[32m*\u001B[0m\u001B[32m*\u001B[0m\u001B[32m*\u001B[0m\u001B[32m*\u001B[0m\u001B[32m*\u001B[0m\u001B[32m*\u001B[0m\u001B[32m*\u001B[0m\u001B[32m*\u001B[0m\u001B[32m*\u001B[0m\u001B[32m*\u001B[0m\u001B[32m*\u001B[0m\u001B[32m*\u001B[0m\u001B[32m*\u001B[0m\u001B[32m*\u001B[0m\u001B[32m*\u001B[0m\u001B[32m*\u001B[0m\u001B[32m*\u001B[0m\u001B[32m*\u001B[0m\u001B[32m*\u001B[0m\u001B[32m*\u001B[0m\u001B[32m*\u001B[0m\u001B[32m*\u001B[0m\u001B[32m*\u001B[0m\u001B[32m*\u001B[0m\u001B[32m*\u001B[0m\n",
      "\u001B[34m** Zadanie 5 **********************************************************************************\u001B[0m\n"
     ]
    },
    {
     "data": {
      "text/plain": [
       "<IPython.core.display.Markdown object>"
      ],
      "text/markdown": "Rozwiązać równanie w zbiorze liczb zespolonych. Sprawdzić rozwiązanie."
     },
     "metadata": {},
     "output_type": "display_data"
    },
    {
     "data": {
      "text/plain": [
       "<IPython.core.display.Latex object>"
      ],
      "text/latex": "\n\t\\[\n\t\t6 - 4i+\\left(5 + 2i\\right)z = \\left(5 + 4i\\right)z\n\t\\]"
     },
     "metadata": {},
     "output_type": "display_data"
    },
    {
     "name": "stdout",
     "output_type": "stream",
     "text": [
      "\u001B[34m*\u001B[0m\u001B[34m*\u001B[0m\u001B[34m*\u001B[0m\u001B[34m*\u001B[0m\u001B[34m*\u001B[0m\u001B[34m*\u001B[0m\u001B[34m*\u001B[0m\u001B[34m*\u001B[0m\u001B[34m*\u001B[0m\u001B[34m*\u001B[0m\u001B[34m*\u001B[0m\u001B[34m*\u001B[0m\u001B[34m*\u001B[0m\u001B[34m*\u001B[0m\u001B[34m*\u001B[0m\u001B[34m*\u001B[0m\u001B[34m*\u001B[0m\u001B[34m*\u001B[0m\u001B[34m*\u001B[0m\u001B[34m*\u001B[0m\u001B[34m*\u001B[0m\u001B[34m*\u001B[0m\u001B[34m*\u001B[0m\u001B[34m*\u001B[0m\u001B[34m*\u001B[0m\u001B[34m*\u001B[0m\u001B[34m*\u001B[0m\u001B[34m*\u001B[0m\u001B[34m*\u001B[0m\u001B[34m*\u001B[0m\u001B[34m*\u001B[0m\u001B[34m*\u001B[0m\u001B[34m*\u001B[0m\u001B[34m*\u001B[0m\u001B[34m*\u001B[0m\u001B[34m*\u001B[0m\u001B[34m*\u001B[0m\u001B[34m*\u001B[0m\u001B[34m*\u001B[0m\u001B[34m*\u001B[0m\u001B[34m*\u001B[0m\u001B[34m*\u001B[0m\u001B[34m*\u001B[0m\u001B[34m*\u001B[0m\u001B[34m*\u001B[0m\u001B[34m*\u001B[0m\u001B[34m*\u001B[0m\u001B[34m*\u001B[0m\u001B[34m*\u001B[0m\u001B[34m*\u001B[0m\u001B[34m*\u001B[0m\u001B[34m*\u001B[0m\u001B[34m*\u001B[0m\u001B[34m*\u001B[0m\u001B[34m*\u001B[0m\u001B[34m*\u001B[0m\u001B[34m*\u001B[0m\u001B[34m*\u001B[0m\u001B[34m*\u001B[0m\u001B[34m*\u001B[0m\u001B[34m*\u001B[0m\u001B[34m*\u001B[0m\u001B[34m*\u001B[0m\u001B[34m*\u001B[0m\u001B[34m*\u001B[0m\u001B[34m*\u001B[0m\u001B[34m*\u001B[0m\u001B[34m*\u001B[0m\u001B[34m*\u001B[0m\u001B[34m*\u001B[0m\u001B[34m*\u001B[0m\u001B[34m*\u001B[0m\u001B[34m*\u001B[0m\u001B[34m*\u001B[0m\u001B[34m*\u001B[0m\u001B[34m*\u001B[0m\u001B[34m*\u001B[0m\u001B[34m*\u001B[0m\u001B[34m*\u001B[0m\u001B[34m*\u001B[0m\u001B[34m*\u001B[0m\u001B[34m*\u001B[0m\u001B[34m*\u001B[0m\u001B[34m*\u001B[0m\u001B[34m*\u001B[0m\u001B[34m*\u001B[0m\u001B[34m*\u001B[0m\u001B[34m*\u001B[0m\u001B[34m*\u001B[0m\u001B[34m*\u001B[0m\u001B[34m*\u001B[0m\u001B[34m*\u001B[0m\u001B[34m*\u001B[0m\u001B[34m*\u001B[0m\u001B[34m*\u001B[0m\n",
      "\u001B[32m** Rozwiązanie ********************************************************************************\u001B[0m\n"
     ]
    },
    {
     "data": {
      "text/plain": [
       "<IPython.core.display.Latex object>"
      ],
      "text/latex": "$$z=-2 - 3i.$$"
     },
     "metadata": {},
     "output_type": "display_data"
    },
    {
     "name": "stdout",
     "output_type": "stream",
     "text": [
      "\u001B[32m*\u001B[0m\u001B[32m*\u001B[0m\u001B[32m*\u001B[0m\u001B[32m*\u001B[0m\u001B[32m*\u001B[0m\u001B[32m*\u001B[0m\u001B[32m*\u001B[0m\u001B[32m*\u001B[0m\u001B[32m*\u001B[0m\u001B[32m*\u001B[0m\u001B[32m*\u001B[0m\u001B[32m*\u001B[0m\u001B[32m*\u001B[0m\u001B[32m*\u001B[0m\u001B[32m*\u001B[0m\u001B[32m*\u001B[0m\u001B[32m*\u001B[0m\u001B[32m*\u001B[0m\u001B[32m*\u001B[0m\u001B[32m*\u001B[0m\u001B[32m*\u001B[0m\u001B[32m*\u001B[0m\u001B[32m*\u001B[0m\u001B[32m*\u001B[0m\u001B[32m*\u001B[0m\u001B[32m*\u001B[0m\u001B[32m*\u001B[0m\u001B[32m*\u001B[0m\u001B[32m*\u001B[0m\u001B[32m*\u001B[0m\u001B[32m*\u001B[0m\u001B[32m*\u001B[0m\u001B[32m*\u001B[0m\u001B[32m*\u001B[0m\u001B[32m*\u001B[0m\u001B[32m*\u001B[0m\u001B[32m*\u001B[0m\u001B[32m*\u001B[0m\u001B[32m*\u001B[0m\u001B[32m*\u001B[0m\u001B[32m*\u001B[0m\u001B[32m*\u001B[0m\u001B[32m*\u001B[0m\u001B[32m*\u001B[0m\u001B[32m*\u001B[0m\u001B[32m*\u001B[0m\u001B[32m*\u001B[0m\u001B[32m*\u001B[0m\u001B[32m*\u001B[0m\u001B[32m*\u001B[0m\u001B[32m*\u001B[0m\u001B[32m*\u001B[0m\u001B[32m*\u001B[0m\u001B[32m*\u001B[0m\u001B[32m*\u001B[0m\u001B[32m*\u001B[0m\u001B[32m*\u001B[0m\u001B[32m*\u001B[0m\u001B[32m*\u001B[0m\u001B[32m*\u001B[0m\u001B[32m*\u001B[0m\u001B[32m*\u001B[0m\u001B[32m*\u001B[0m\u001B[32m*\u001B[0m\u001B[32m*\u001B[0m\u001B[32m*\u001B[0m\u001B[32m*\u001B[0m\u001B[32m*\u001B[0m\u001B[32m*\u001B[0m\u001B[32m*\u001B[0m\u001B[32m*\u001B[0m\u001B[32m*\u001B[0m\u001B[32m*\u001B[0m\u001B[32m*\u001B[0m\u001B[32m*\u001B[0m\u001B[32m*\u001B[0m\u001B[32m*\u001B[0m\u001B[32m*\u001B[0m\u001B[32m*\u001B[0m\u001B[32m*\u001B[0m\u001B[32m*\u001B[0m\u001B[32m*\u001B[0m\u001B[32m*\u001B[0m\u001B[32m*\u001B[0m\u001B[32m*\u001B[0m\u001B[32m*\u001B[0m\u001B[32m*\u001B[0m\u001B[32m*\u001B[0m\u001B[32m*\u001B[0m\u001B[32m*\u001B[0m\u001B[32m*\u001B[0m\u001B[32m*\u001B[0m\u001B[32m*\u001B[0m\u001B[32m*\u001B[0m\u001B[32m*\u001B[0m\n",
      "\u001B[34m** Zadanie 6 **********************************************************************************\u001B[0m\n"
     ]
    },
    {
     "data": {
      "text/plain": [
       "<IPython.core.display.Markdown object>"
      ],
      "text/markdown": "Rozwiązać równanie w zbiorze liczb zespolonych. Sprawdzić rozwiązanie."
     },
     "metadata": {},
     "output_type": "display_data"
    },
    {
     "data": {
      "text/plain": [
       "<IPython.core.display.Latex object>"
      ],
      "text/latex": "\n\t\\[\n\t\t3 + 3i+\\left(7 + 7i\\right)z = \\left(7 + 8i\\right)z\n\t\\]"
     },
     "metadata": {},
     "output_type": "display_data"
    },
    {
     "name": "stdout",
     "output_type": "stream",
     "text": [
      "\u001B[34m*\u001B[0m\u001B[34m*\u001B[0m\u001B[34m*\u001B[0m\u001B[34m*\u001B[0m\u001B[34m*\u001B[0m\u001B[34m*\u001B[0m\u001B[34m*\u001B[0m\u001B[34m*\u001B[0m\u001B[34m*\u001B[0m\u001B[34m*\u001B[0m\u001B[34m*\u001B[0m\u001B[34m*\u001B[0m\u001B[34m*\u001B[0m\u001B[34m*\u001B[0m\u001B[34m*\u001B[0m\u001B[34m*\u001B[0m\u001B[34m*\u001B[0m\u001B[34m*\u001B[0m\u001B[34m*\u001B[0m\u001B[34m*\u001B[0m\u001B[34m*\u001B[0m\u001B[34m*\u001B[0m\u001B[34m*\u001B[0m\u001B[34m*\u001B[0m\u001B[34m*\u001B[0m\u001B[34m*\u001B[0m\u001B[34m*\u001B[0m\u001B[34m*\u001B[0m\u001B[34m*\u001B[0m\u001B[34m*\u001B[0m\u001B[34m*\u001B[0m\u001B[34m*\u001B[0m\u001B[34m*\u001B[0m\u001B[34m*\u001B[0m\u001B[34m*\u001B[0m\u001B[34m*\u001B[0m\u001B[34m*\u001B[0m\u001B[34m*\u001B[0m\u001B[34m*\u001B[0m\u001B[34m*\u001B[0m\u001B[34m*\u001B[0m\u001B[34m*\u001B[0m\u001B[34m*\u001B[0m\u001B[34m*\u001B[0m\u001B[34m*\u001B[0m\u001B[34m*\u001B[0m\u001B[34m*\u001B[0m\u001B[34m*\u001B[0m\u001B[34m*\u001B[0m\u001B[34m*\u001B[0m\u001B[34m*\u001B[0m\u001B[34m*\u001B[0m\u001B[34m*\u001B[0m\u001B[34m*\u001B[0m\u001B[34m*\u001B[0m\u001B[34m*\u001B[0m\u001B[34m*\u001B[0m\u001B[34m*\u001B[0m\u001B[34m*\u001B[0m\u001B[34m*\u001B[0m\u001B[34m*\u001B[0m\u001B[34m*\u001B[0m\u001B[34m*\u001B[0m\u001B[34m*\u001B[0m\u001B[34m*\u001B[0m\u001B[34m*\u001B[0m\u001B[34m*\u001B[0m\u001B[34m*\u001B[0m\u001B[34m*\u001B[0m\u001B[34m*\u001B[0m\u001B[34m*\u001B[0m\u001B[34m*\u001B[0m\u001B[34m*\u001B[0m\u001B[34m*\u001B[0m\u001B[34m*\u001B[0m\u001B[34m*\u001B[0m\u001B[34m*\u001B[0m\u001B[34m*\u001B[0m\u001B[34m*\u001B[0m\u001B[34m*\u001B[0m\u001B[34m*\u001B[0m\u001B[34m*\u001B[0m\u001B[34m*\u001B[0m\u001B[34m*\u001B[0m\u001B[34m*\u001B[0m\u001B[34m*\u001B[0m\u001B[34m*\u001B[0m\u001B[34m*\u001B[0m\u001B[34m*\u001B[0m\u001B[34m*\u001B[0m\u001B[34m*\u001B[0m\u001B[34m*\u001B[0m\u001B[34m*\u001B[0m\u001B[34m*\u001B[0m\u001B[34m*\u001B[0m\n",
      "\u001B[32m** Rozwiązanie ********************************************************************************\u001B[0m\n"
     ]
    },
    {
     "data": {
      "text/plain": [
       "<IPython.core.display.Latex object>"
      ],
      "text/latex": "$$z=3 - 3i.$$"
     },
     "metadata": {},
     "output_type": "display_data"
    },
    {
     "name": "stdout",
     "output_type": "stream",
     "text": [
      "\u001B[32m*\u001B[0m\u001B[32m*\u001B[0m\u001B[32m*\u001B[0m\u001B[32m*\u001B[0m\u001B[32m*\u001B[0m\u001B[32m*\u001B[0m\u001B[32m*\u001B[0m\u001B[32m*\u001B[0m\u001B[32m*\u001B[0m\u001B[32m*\u001B[0m\u001B[32m*\u001B[0m\u001B[32m*\u001B[0m\u001B[32m*\u001B[0m\u001B[32m*\u001B[0m\u001B[32m*\u001B[0m\u001B[32m*\u001B[0m\u001B[32m*\u001B[0m\u001B[32m*\u001B[0m\u001B[32m*\u001B[0m\u001B[32m*\u001B[0m\u001B[32m*\u001B[0m\u001B[32m*\u001B[0m\u001B[32m*\u001B[0m\u001B[32m*\u001B[0m\u001B[32m*\u001B[0m\u001B[32m*\u001B[0m\u001B[32m*\u001B[0m\u001B[32m*\u001B[0m\u001B[32m*\u001B[0m\u001B[32m*\u001B[0m\u001B[32m*\u001B[0m\u001B[32m*\u001B[0m\u001B[32m*\u001B[0m\u001B[32m*\u001B[0m\u001B[32m*\u001B[0m\u001B[32m*\u001B[0m\u001B[32m*\u001B[0m\u001B[32m*\u001B[0m\u001B[32m*\u001B[0m\u001B[32m*\u001B[0m\u001B[32m*\u001B[0m\u001B[32m*\u001B[0m\u001B[32m*\u001B[0m\u001B[32m*\u001B[0m\u001B[32m*\u001B[0m\u001B[32m*\u001B[0m\u001B[32m*\u001B[0m\u001B[32m*\u001B[0m\u001B[32m*\u001B[0m\u001B[32m*\u001B[0m\u001B[32m*\u001B[0m\u001B[32m*\u001B[0m\u001B[32m*\u001B[0m\u001B[32m*\u001B[0m\u001B[32m*\u001B[0m\u001B[32m*\u001B[0m\u001B[32m*\u001B[0m\u001B[32m*\u001B[0m\u001B[32m*\u001B[0m\u001B[32m*\u001B[0m\u001B[32m*\u001B[0m\u001B[32m*\u001B[0m\u001B[32m*\u001B[0m\u001B[32m*\u001B[0m\u001B[32m*\u001B[0m\u001B[32m*\u001B[0m\u001B[32m*\u001B[0m\u001B[32m*\u001B[0m\u001B[32m*\u001B[0m\u001B[32m*\u001B[0m\u001B[32m*\u001B[0m\u001B[32m*\u001B[0m\u001B[32m*\u001B[0m\u001B[32m*\u001B[0m\u001B[32m*\u001B[0m\u001B[32m*\u001B[0m\u001B[32m*\u001B[0m\u001B[32m*\u001B[0m\u001B[32m*\u001B[0m\u001B[32m*\u001B[0m\u001B[32m*\u001B[0m\u001B[32m*\u001B[0m\u001B[32m*\u001B[0m\u001B[32m*\u001B[0m\u001B[32m*\u001B[0m\u001B[32m*\u001B[0m\u001B[32m*\u001B[0m\u001B[32m*\u001B[0m\u001B[32m*\u001B[0m\u001B[32m*\u001B[0m\u001B[32m*\u001B[0m\u001B[32m*\u001B[0m\u001B[32m*\u001B[0m\u001B[32m*\u001B[0m\u001B[32m*\u001B[0m\n",
      "\u001B[34m** Zadanie 7 **********************************************************************************\u001B[0m\n"
     ]
    },
    {
     "data": {
      "text/plain": [
       "<IPython.core.display.Markdown object>"
      ],
      "text/markdown": "Rozwiązać równanie w zbiorze liczb zespolonych. Sprawdzić rozwiązanie."
     },
     "metadata": {},
     "output_type": "display_data"
    },
    {
     "data": {
      "text/plain": [
       "<IPython.core.display.Latex object>"
      ],
      "text/latex": "\n\t\\[\n\t\t\\left(6 + 2i\\right)z = -5 - i+\\left(4 - i\\right)z\n\t\\]"
     },
     "metadata": {},
     "output_type": "display_data"
    },
    {
     "name": "stdout",
     "output_type": "stream",
     "text": [
      "\u001B[34m*\u001B[0m\u001B[34m*\u001B[0m\u001B[34m*\u001B[0m\u001B[34m*\u001B[0m\u001B[34m*\u001B[0m\u001B[34m*\u001B[0m\u001B[34m*\u001B[0m\u001B[34m*\u001B[0m\u001B[34m*\u001B[0m\u001B[34m*\u001B[0m\u001B[34m*\u001B[0m\u001B[34m*\u001B[0m\u001B[34m*\u001B[0m\u001B[34m*\u001B[0m\u001B[34m*\u001B[0m\u001B[34m*\u001B[0m\u001B[34m*\u001B[0m\u001B[34m*\u001B[0m\u001B[34m*\u001B[0m\u001B[34m*\u001B[0m\u001B[34m*\u001B[0m\u001B[34m*\u001B[0m\u001B[34m*\u001B[0m\u001B[34m*\u001B[0m\u001B[34m*\u001B[0m\u001B[34m*\u001B[0m\u001B[34m*\u001B[0m\u001B[34m*\u001B[0m\u001B[34m*\u001B[0m\u001B[34m*\u001B[0m\u001B[34m*\u001B[0m\u001B[34m*\u001B[0m\u001B[34m*\u001B[0m\u001B[34m*\u001B[0m\u001B[34m*\u001B[0m\u001B[34m*\u001B[0m\u001B[34m*\u001B[0m\u001B[34m*\u001B[0m\u001B[34m*\u001B[0m\u001B[34m*\u001B[0m\u001B[34m*\u001B[0m\u001B[34m*\u001B[0m\u001B[34m*\u001B[0m\u001B[34m*\u001B[0m\u001B[34m*\u001B[0m\u001B[34m*\u001B[0m\u001B[34m*\u001B[0m\u001B[34m*\u001B[0m\u001B[34m*\u001B[0m\u001B[34m*\u001B[0m\u001B[34m*\u001B[0m\u001B[34m*\u001B[0m\u001B[34m*\u001B[0m\u001B[34m*\u001B[0m\u001B[34m*\u001B[0m\u001B[34m*\u001B[0m\u001B[34m*\u001B[0m\u001B[34m*\u001B[0m\u001B[34m*\u001B[0m\u001B[34m*\u001B[0m\u001B[34m*\u001B[0m\u001B[34m*\u001B[0m\u001B[34m*\u001B[0m\u001B[34m*\u001B[0m\u001B[34m*\u001B[0m\u001B[34m*\u001B[0m\u001B[34m*\u001B[0m\u001B[34m*\u001B[0m\u001B[34m*\u001B[0m\u001B[34m*\u001B[0m\u001B[34m*\u001B[0m\u001B[34m*\u001B[0m\u001B[34m*\u001B[0m\u001B[34m*\u001B[0m\u001B[34m*\u001B[0m\u001B[34m*\u001B[0m\u001B[34m*\u001B[0m\u001B[34m*\u001B[0m\u001B[34m*\u001B[0m\u001B[34m*\u001B[0m\u001B[34m*\u001B[0m\u001B[34m*\u001B[0m\u001B[34m*\u001B[0m\u001B[34m*\u001B[0m\u001B[34m*\u001B[0m\u001B[34m*\u001B[0m\u001B[34m*\u001B[0m\u001B[34m*\u001B[0m\u001B[34m*\u001B[0m\u001B[34m*\u001B[0m\u001B[34m*\u001B[0m\u001B[34m*\u001B[0m\u001B[34m*\u001B[0m\u001B[34m*\u001B[0m\u001B[34m*\u001B[0m\n",
      "\u001B[32m** Rozwiązanie ********************************************************************************\u001B[0m\n"
     ]
    },
    {
     "data": {
      "text/plain": [
       "<IPython.core.display.Latex object>"
      ],
      "text/latex": "$$z=-1 + i.$$"
     },
     "metadata": {},
     "output_type": "display_data"
    },
    {
     "name": "stdout",
     "output_type": "stream",
     "text": [
      "\u001B[32m*\u001B[0m\u001B[32m*\u001B[0m\u001B[32m*\u001B[0m\u001B[32m*\u001B[0m\u001B[32m*\u001B[0m\u001B[32m*\u001B[0m\u001B[32m*\u001B[0m\u001B[32m*\u001B[0m\u001B[32m*\u001B[0m\u001B[32m*\u001B[0m\u001B[32m*\u001B[0m\u001B[32m*\u001B[0m\u001B[32m*\u001B[0m\u001B[32m*\u001B[0m\u001B[32m*\u001B[0m\u001B[32m*\u001B[0m\u001B[32m*\u001B[0m\u001B[32m*\u001B[0m\u001B[32m*\u001B[0m\u001B[32m*\u001B[0m\u001B[32m*\u001B[0m\u001B[32m*\u001B[0m\u001B[32m*\u001B[0m\u001B[32m*\u001B[0m\u001B[32m*\u001B[0m\u001B[32m*\u001B[0m\u001B[32m*\u001B[0m\u001B[32m*\u001B[0m\u001B[32m*\u001B[0m\u001B[32m*\u001B[0m\u001B[32m*\u001B[0m\u001B[32m*\u001B[0m\u001B[32m*\u001B[0m\u001B[32m*\u001B[0m\u001B[32m*\u001B[0m\u001B[32m*\u001B[0m\u001B[32m*\u001B[0m\u001B[32m*\u001B[0m\u001B[32m*\u001B[0m\u001B[32m*\u001B[0m\u001B[32m*\u001B[0m\u001B[32m*\u001B[0m\u001B[32m*\u001B[0m\u001B[32m*\u001B[0m\u001B[32m*\u001B[0m\u001B[32m*\u001B[0m\u001B[32m*\u001B[0m\u001B[32m*\u001B[0m\u001B[32m*\u001B[0m\u001B[32m*\u001B[0m\u001B[32m*\u001B[0m\u001B[32m*\u001B[0m\u001B[32m*\u001B[0m\u001B[32m*\u001B[0m\u001B[32m*\u001B[0m\u001B[32m*\u001B[0m\u001B[32m*\u001B[0m\u001B[32m*\u001B[0m\u001B[32m*\u001B[0m\u001B[32m*\u001B[0m\u001B[32m*\u001B[0m\u001B[32m*\u001B[0m\u001B[32m*\u001B[0m\u001B[32m*\u001B[0m\u001B[32m*\u001B[0m\u001B[32m*\u001B[0m\u001B[32m*\u001B[0m\u001B[32m*\u001B[0m\u001B[32m*\u001B[0m\u001B[32m*\u001B[0m\u001B[32m*\u001B[0m\u001B[32m*\u001B[0m\u001B[32m*\u001B[0m\u001B[32m*\u001B[0m\u001B[32m*\u001B[0m\u001B[32m*\u001B[0m\u001B[32m*\u001B[0m\u001B[32m*\u001B[0m\u001B[32m*\u001B[0m\u001B[32m*\u001B[0m\u001B[32m*\u001B[0m\u001B[32m*\u001B[0m\u001B[32m*\u001B[0m\u001B[32m*\u001B[0m\u001B[32m*\u001B[0m\u001B[32m*\u001B[0m\u001B[32m*\u001B[0m\u001B[32m*\u001B[0m\u001B[32m*\u001B[0m\u001B[32m*\u001B[0m\u001B[32m*\u001B[0m\u001B[32m*\u001B[0m\u001B[32m*\u001B[0m\u001B[32m*\u001B[0m\u001B[32m*\u001B[0m\n",
      "\u001B[34m** Zadanie 8 **********************************************************************************\u001B[0m\n"
     ]
    },
    {
     "data": {
      "text/plain": [
       "<IPython.core.display.Markdown object>"
      ],
      "text/markdown": "Rozwiązać równanie w zbiorze liczb zespolonych. Sprawdzić rozwiązanie."
     },
     "metadata": {},
     "output_type": "display_data"
    },
    {
     "data": {
      "text/plain": [
       "<IPython.core.display.Latex object>"
      ],
      "text/latex": "\n\t\\[\n\t\t\\left(7 + 7i\\right)z = -1 + 3i+\\left(9 + 6i\\right)z\n\t\\]"
     },
     "metadata": {},
     "output_type": "display_data"
    },
    {
     "name": "stdout",
     "output_type": "stream",
     "text": [
      "\u001B[34m*\u001B[0m\u001B[34m*\u001B[0m\u001B[34m*\u001B[0m\u001B[34m*\u001B[0m\u001B[34m*\u001B[0m\u001B[34m*\u001B[0m\u001B[34m*\u001B[0m\u001B[34m*\u001B[0m\u001B[34m*\u001B[0m\u001B[34m*\u001B[0m\u001B[34m*\u001B[0m\u001B[34m*\u001B[0m\u001B[34m*\u001B[0m\u001B[34m*\u001B[0m\u001B[34m*\u001B[0m\u001B[34m*\u001B[0m\u001B[34m*\u001B[0m\u001B[34m*\u001B[0m\u001B[34m*\u001B[0m\u001B[34m*\u001B[0m\u001B[34m*\u001B[0m\u001B[34m*\u001B[0m\u001B[34m*\u001B[0m\u001B[34m*\u001B[0m\u001B[34m*\u001B[0m\u001B[34m*\u001B[0m\u001B[34m*\u001B[0m\u001B[34m*\u001B[0m\u001B[34m*\u001B[0m\u001B[34m*\u001B[0m\u001B[34m*\u001B[0m\u001B[34m*\u001B[0m\u001B[34m*\u001B[0m\u001B[34m*\u001B[0m\u001B[34m*\u001B[0m\u001B[34m*\u001B[0m\u001B[34m*\u001B[0m\u001B[34m*\u001B[0m\u001B[34m*\u001B[0m\u001B[34m*\u001B[0m\u001B[34m*\u001B[0m\u001B[34m*\u001B[0m\u001B[34m*\u001B[0m\u001B[34m*\u001B[0m\u001B[34m*\u001B[0m\u001B[34m*\u001B[0m\u001B[34m*\u001B[0m\u001B[34m*\u001B[0m\u001B[34m*\u001B[0m\u001B[34m*\u001B[0m\u001B[34m*\u001B[0m\u001B[34m*\u001B[0m\u001B[34m*\u001B[0m\u001B[34m*\u001B[0m\u001B[34m*\u001B[0m\u001B[34m*\u001B[0m\u001B[34m*\u001B[0m\u001B[34m*\u001B[0m\u001B[34m*\u001B[0m\u001B[34m*\u001B[0m\u001B[34m*\u001B[0m\u001B[34m*\u001B[0m\u001B[34m*\u001B[0m\u001B[34m*\u001B[0m\u001B[34m*\u001B[0m\u001B[34m*\u001B[0m\u001B[34m*\u001B[0m\u001B[34m*\u001B[0m\u001B[34m*\u001B[0m\u001B[34m*\u001B[0m\u001B[34m*\u001B[0m\u001B[34m*\u001B[0m\u001B[34m*\u001B[0m\u001B[34m*\u001B[0m\u001B[34m*\u001B[0m\u001B[34m*\u001B[0m\u001B[34m*\u001B[0m\u001B[34m*\u001B[0m\u001B[34m*\u001B[0m\u001B[34m*\u001B[0m\u001B[34m*\u001B[0m\u001B[34m*\u001B[0m\u001B[34m*\u001B[0m\u001B[34m*\u001B[0m\u001B[34m*\u001B[0m\u001B[34m*\u001B[0m\u001B[34m*\u001B[0m\u001B[34m*\u001B[0m\u001B[34m*\u001B[0m\u001B[34m*\u001B[0m\u001B[34m*\u001B[0m\u001B[34m*\u001B[0m\u001B[34m*\u001B[0m\u001B[34m*\u001B[0m\u001B[34m*\u001B[0m\n",
      "\u001B[32m** Rozwiązanie ********************************************************************************\u001B[0m\n"
     ]
    },
    {
     "data": {
      "text/plain": [
       "<IPython.core.display.Latex object>"
      ],
      "text/latex": "$$z=1 - i.$$"
     },
     "metadata": {},
     "output_type": "display_data"
    },
    {
     "name": "stdout",
     "output_type": "stream",
     "text": [
      "\u001B[32m*\u001B[0m\u001B[32m*\u001B[0m\u001B[32m*\u001B[0m\u001B[32m*\u001B[0m\u001B[32m*\u001B[0m\u001B[32m*\u001B[0m\u001B[32m*\u001B[0m\u001B[32m*\u001B[0m\u001B[32m*\u001B[0m\u001B[32m*\u001B[0m\u001B[32m*\u001B[0m\u001B[32m*\u001B[0m\u001B[32m*\u001B[0m\u001B[32m*\u001B[0m\u001B[32m*\u001B[0m\u001B[32m*\u001B[0m\u001B[32m*\u001B[0m\u001B[32m*\u001B[0m\u001B[32m*\u001B[0m\u001B[32m*\u001B[0m\u001B[32m*\u001B[0m\u001B[32m*\u001B[0m\u001B[32m*\u001B[0m\u001B[32m*\u001B[0m\u001B[32m*\u001B[0m\u001B[32m*\u001B[0m\u001B[32m*\u001B[0m\u001B[32m*\u001B[0m\u001B[32m*\u001B[0m\u001B[32m*\u001B[0m\u001B[32m*\u001B[0m\u001B[32m*\u001B[0m\u001B[32m*\u001B[0m\u001B[32m*\u001B[0m\u001B[32m*\u001B[0m\u001B[32m*\u001B[0m\u001B[32m*\u001B[0m\u001B[32m*\u001B[0m\u001B[32m*\u001B[0m\u001B[32m*\u001B[0m\u001B[32m*\u001B[0m\u001B[32m*\u001B[0m\u001B[32m*\u001B[0m\u001B[32m*\u001B[0m\u001B[32m*\u001B[0m\u001B[32m*\u001B[0m\u001B[32m*\u001B[0m\u001B[32m*\u001B[0m\u001B[32m*\u001B[0m\u001B[32m*\u001B[0m\u001B[32m*\u001B[0m\u001B[32m*\u001B[0m\u001B[32m*\u001B[0m\u001B[32m*\u001B[0m\u001B[32m*\u001B[0m\u001B[32m*\u001B[0m\u001B[32m*\u001B[0m\u001B[32m*\u001B[0m\u001B[32m*\u001B[0m\u001B[32m*\u001B[0m\u001B[32m*\u001B[0m\u001B[32m*\u001B[0m\u001B[32m*\u001B[0m\u001B[32m*\u001B[0m\u001B[32m*\u001B[0m\u001B[32m*\u001B[0m\u001B[32m*\u001B[0m\u001B[32m*\u001B[0m\u001B[32m*\u001B[0m\u001B[32m*\u001B[0m\u001B[32m*\u001B[0m\u001B[32m*\u001B[0m\u001B[32m*\u001B[0m\u001B[32m*\u001B[0m\u001B[32m*\u001B[0m\u001B[32m*\u001B[0m\u001B[32m*\u001B[0m\u001B[32m*\u001B[0m\u001B[32m*\u001B[0m\u001B[32m*\u001B[0m\u001B[32m*\u001B[0m\u001B[32m*\u001B[0m\u001B[32m*\u001B[0m\u001B[32m*\u001B[0m\u001B[32m*\u001B[0m\u001B[32m*\u001B[0m\u001B[32m*\u001B[0m\u001B[32m*\u001B[0m\u001B[32m*\u001B[0m\u001B[32m*\u001B[0m\u001B[32m*\u001B[0m\u001B[32m*\u001B[0m\u001B[32m*\u001B[0m\u001B[32m*\u001B[0m\u001B[32m*\u001B[0m\n",
      "\u001B[34m** Zadanie 9 **********************************************************************************\u001B[0m\n"
     ]
    },
    {
     "data": {
      "text/plain": [
       "<IPython.core.display.Markdown object>"
      ],
      "text/markdown": "Rozwiązać równanie w zbiorze liczb zespolonych. Sprawdzić rozwiązanie."
     },
     "metadata": {},
     "output_type": "display_data"
    },
    {
     "data": {
      "text/plain": [
       "<IPython.core.display.Latex object>"
      ],
      "text/latex": "\n\t\\[\n\t\t9 - 6i+\\left(7 + 9i\\right)z = \\left(7 + 6i\\right)z\n\t\\]"
     },
     "metadata": {},
     "output_type": "display_data"
    },
    {
     "name": "stdout",
     "output_type": "stream",
     "text": [
      "\u001B[34m*\u001B[0m\u001B[34m*\u001B[0m\u001B[34m*\u001B[0m\u001B[34m*\u001B[0m\u001B[34m*\u001B[0m\u001B[34m*\u001B[0m\u001B[34m*\u001B[0m\u001B[34m*\u001B[0m\u001B[34m*\u001B[0m\u001B[34m*\u001B[0m\u001B[34m*\u001B[0m\u001B[34m*\u001B[0m\u001B[34m*\u001B[0m\u001B[34m*\u001B[0m\u001B[34m*\u001B[0m\u001B[34m*\u001B[0m\u001B[34m*\u001B[0m\u001B[34m*\u001B[0m\u001B[34m*\u001B[0m\u001B[34m*\u001B[0m\u001B[34m*\u001B[0m\u001B[34m*\u001B[0m\u001B[34m*\u001B[0m\u001B[34m*\u001B[0m\u001B[34m*\u001B[0m\u001B[34m*\u001B[0m\u001B[34m*\u001B[0m\u001B[34m*\u001B[0m\u001B[34m*\u001B[0m\u001B[34m*\u001B[0m\u001B[34m*\u001B[0m\u001B[34m*\u001B[0m\u001B[34m*\u001B[0m\u001B[34m*\u001B[0m\u001B[34m*\u001B[0m\u001B[34m*\u001B[0m\u001B[34m*\u001B[0m\u001B[34m*\u001B[0m\u001B[34m*\u001B[0m\u001B[34m*\u001B[0m\u001B[34m*\u001B[0m\u001B[34m*\u001B[0m\u001B[34m*\u001B[0m\u001B[34m*\u001B[0m\u001B[34m*\u001B[0m\u001B[34m*\u001B[0m\u001B[34m*\u001B[0m\u001B[34m*\u001B[0m\u001B[34m*\u001B[0m\u001B[34m*\u001B[0m\u001B[34m*\u001B[0m\u001B[34m*\u001B[0m\u001B[34m*\u001B[0m\u001B[34m*\u001B[0m\u001B[34m*\u001B[0m\u001B[34m*\u001B[0m\u001B[34m*\u001B[0m\u001B[34m*\u001B[0m\u001B[34m*\u001B[0m\u001B[34m*\u001B[0m\u001B[34m*\u001B[0m\u001B[34m*\u001B[0m\u001B[34m*\u001B[0m\u001B[34m*\u001B[0m\u001B[34m*\u001B[0m\u001B[34m*\u001B[0m\u001B[34m*\u001B[0m\u001B[34m*\u001B[0m\u001B[34m*\u001B[0m\u001B[34m*\u001B[0m\u001B[34m*\u001B[0m\u001B[34m*\u001B[0m\u001B[34m*\u001B[0m\u001B[34m*\u001B[0m\u001B[34m*\u001B[0m\u001B[34m*\u001B[0m\u001B[34m*\u001B[0m\u001B[34m*\u001B[0m\u001B[34m*\u001B[0m\u001B[34m*\u001B[0m\u001B[34m*\u001B[0m\u001B[34m*\u001B[0m\u001B[34m*\u001B[0m\u001B[34m*\u001B[0m\u001B[34m*\u001B[0m\u001B[34m*\u001B[0m\u001B[34m*\u001B[0m\u001B[34m*\u001B[0m\u001B[34m*\u001B[0m\u001B[34m*\u001B[0m\u001B[34m*\u001B[0m\u001B[34m*\u001B[0m\u001B[34m*\u001B[0m\u001B[34m*\u001B[0m\u001B[34m*\u001B[0m\n",
      "\u001B[32m** Rozwiązanie ********************************************************************************\u001B[0m\n"
     ]
    },
    {
     "data": {
      "text/plain": [
       "<IPython.core.display.Latex object>"
      ],
      "text/latex": "$$z=2 + 3i.$$"
     },
     "metadata": {},
     "output_type": "display_data"
    },
    {
     "name": "stdout",
     "output_type": "stream",
     "text": [
      "\u001B[32m*\u001B[0m\u001B[32m*\u001B[0m\u001B[32m*\u001B[0m\u001B[32m*\u001B[0m\u001B[32m*\u001B[0m\u001B[32m*\u001B[0m\u001B[32m*\u001B[0m\u001B[32m*\u001B[0m\u001B[32m*\u001B[0m\u001B[32m*\u001B[0m\u001B[32m*\u001B[0m\u001B[32m*\u001B[0m\u001B[32m*\u001B[0m\u001B[32m*\u001B[0m\u001B[32m*\u001B[0m\u001B[32m*\u001B[0m\u001B[32m*\u001B[0m\u001B[32m*\u001B[0m\u001B[32m*\u001B[0m\u001B[32m*\u001B[0m\u001B[32m*\u001B[0m\u001B[32m*\u001B[0m\u001B[32m*\u001B[0m\u001B[32m*\u001B[0m\u001B[32m*\u001B[0m\u001B[32m*\u001B[0m\u001B[32m*\u001B[0m\u001B[32m*\u001B[0m\u001B[32m*\u001B[0m\u001B[32m*\u001B[0m\u001B[32m*\u001B[0m\u001B[32m*\u001B[0m\u001B[32m*\u001B[0m\u001B[32m*\u001B[0m\u001B[32m*\u001B[0m\u001B[32m*\u001B[0m\u001B[32m*\u001B[0m\u001B[32m*\u001B[0m\u001B[32m*\u001B[0m\u001B[32m*\u001B[0m\u001B[32m*\u001B[0m\u001B[32m*\u001B[0m\u001B[32m*\u001B[0m\u001B[32m*\u001B[0m\u001B[32m*\u001B[0m\u001B[32m*\u001B[0m\u001B[32m*\u001B[0m\u001B[32m*\u001B[0m\u001B[32m*\u001B[0m\u001B[32m*\u001B[0m\u001B[32m*\u001B[0m\u001B[32m*\u001B[0m\u001B[32m*\u001B[0m\u001B[32m*\u001B[0m\u001B[32m*\u001B[0m\u001B[32m*\u001B[0m\u001B[32m*\u001B[0m\u001B[32m*\u001B[0m\u001B[32m*\u001B[0m\u001B[32m*\u001B[0m\u001B[32m*\u001B[0m\u001B[32m*\u001B[0m\u001B[32m*\u001B[0m\u001B[32m*\u001B[0m\u001B[32m*\u001B[0m\u001B[32m*\u001B[0m\u001B[32m*\u001B[0m\u001B[32m*\u001B[0m\u001B[32m*\u001B[0m\u001B[32m*\u001B[0m\u001B[32m*\u001B[0m\u001B[32m*\u001B[0m\u001B[32m*\u001B[0m\u001B[32m*\u001B[0m\u001B[32m*\u001B[0m\u001B[32m*\u001B[0m\u001B[32m*\u001B[0m\u001B[32m*\u001B[0m\u001B[32m*\u001B[0m\u001B[32m*\u001B[0m\u001B[32m*\u001B[0m\u001B[32m*\u001B[0m\u001B[32m*\u001B[0m\u001B[32m*\u001B[0m\u001B[32m*\u001B[0m\u001B[32m*\u001B[0m\u001B[32m*\u001B[0m\u001B[32m*\u001B[0m\u001B[32m*\u001B[0m\u001B[32m*\u001B[0m\u001B[32m*\u001B[0m\u001B[32m*\u001B[0m\u001B[32m*\u001B[0m\u001B[32m*\u001B[0m\u001B[32m*\u001B[0m\n",
      "\u001B[34m** Zadanie 10 **********************************************************************************\u001B[0m\n"
     ]
    },
    {
     "data": {
      "text/plain": [
       "<IPython.core.display.Markdown object>"
      ],
      "text/markdown": "Rozwiązać równanie w zbiorze liczb zespolonych. Sprawdzić rozwiązanie."
     },
     "metadata": {},
     "output_type": "display_data"
    },
    {
     "data": {
      "text/plain": [
       "<IPython.core.display.Latex object>"
      ],
      "text/latex": "\n\t\\[\n\t\t-1 + 9i+\\left(6 + 4i\\right)z = \\left(5 + 5i\\right)z\n\t\\]"
     },
     "metadata": {},
     "output_type": "display_data"
    },
    {
     "name": "stdout",
     "output_type": "stream",
     "text": [
      "\u001B[34m*\u001B[0m\u001B[34m*\u001B[0m\u001B[34m*\u001B[0m\u001B[34m*\u001B[0m\u001B[34m*\u001B[0m\u001B[34m*\u001B[0m\u001B[34m*\u001B[0m\u001B[34m*\u001B[0m\u001B[34m*\u001B[0m\u001B[34m*\u001B[0m\u001B[34m*\u001B[0m\u001B[34m*\u001B[0m\u001B[34m*\u001B[0m\u001B[34m*\u001B[0m\u001B[34m*\u001B[0m\u001B[34m*\u001B[0m\u001B[34m*\u001B[0m\u001B[34m*\u001B[0m\u001B[34m*\u001B[0m\u001B[34m*\u001B[0m\u001B[34m*\u001B[0m\u001B[34m*\u001B[0m\u001B[34m*\u001B[0m\u001B[34m*\u001B[0m\u001B[34m*\u001B[0m\u001B[34m*\u001B[0m\u001B[34m*\u001B[0m\u001B[34m*\u001B[0m\u001B[34m*\u001B[0m\u001B[34m*\u001B[0m\u001B[34m*\u001B[0m\u001B[34m*\u001B[0m\u001B[34m*\u001B[0m\u001B[34m*\u001B[0m\u001B[34m*\u001B[0m\u001B[34m*\u001B[0m\u001B[34m*\u001B[0m\u001B[34m*\u001B[0m\u001B[34m*\u001B[0m\u001B[34m*\u001B[0m\u001B[34m*\u001B[0m\u001B[34m*\u001B[0m\u001B[34m*\u001B[0m\u001B[34m*\u001B[0m\u001B[34m*\u001B[0m\u001B[34m*\u001B[0m\u001B[34m*\u001B[0m\u001B[34m*\u001B[0m\u001B[34m*\u001B[0m\u001B[34m*\u001B[0m\u001B[34m*\u001B[0m\u001B[34m*\u001B[0m\u001B[34m*\u001B[0m\u001B[34m*\u001B[0m\u001B[34m*\u001B[0m\u001B[34m*\u001B[0m\u001B[34m*\u001B[0m\u001B[34m*\u001B[0m\u001B[34m*\u001B[0m\u001B[34m*\u001B[0m\u001B[34m*\u001B[0m\u001B[34m*\u001B[0m\u001B[34m*\u001B[0m\u001B[34m*\u001B[0m\u001B[34m*\u001B[0m\u001B[34m*\u001B[0m\u001B[34m*\u001B[0m\u001B[34m*\u001B[0m\u001B[34m*\u001B[0m\u001B[34m*\u001B[0m\u001B[34m*\u001B[0m\u001B[34m*\u001B[0m\u001B[34m*\u001B[0m\u001B[34m*\u001B[0m\u001B[34m*\u001B[0m\u001B[34m*\u001B[0m\u001B[34m*\u001B[0m\u001B[34m*\u001B[0m\u001B[34m*\u001B[0m\u001B[34m*\u001B[0m\u001B[34m*\u001B[0m\u001B[34m*\u001B[0m\u001B[34m*\u001B[0m\u001B[34m*\u001B[0m\u001B[34m*\u001B[0m\u001B[34m*\u001B[0m\u001B[34m*\u001B[0m\u001B[34m*\u001B[0m\u001B[34m*\u001B[0m\u001B[34m*\u001B[0m\u001B[34m*\u001B[0m\u001B[34m*\u001B[0m\u001B[34m*\u001B[0m\u001B[34m*\u001B[0m\u001B[34m*\u001B[0m\n",
      "\u001B[32m** Rozwiązanie ********************************************************************************\u001B[0m\n"
     ]
    },
    {
     "data": {
      "text/plain": [
       "<IPython.core.display.Latex object>"
      ],
      "text/latex": "$$z=5 - 4i.$$"
     },
     "metadata": {},
     "output_type": "display_data"
    },
    {
     "name": "stdout",
     "output_type": "stream",
     "text": [
      "\u001B[32m*\u001B[0m\u001B[32m*\u001B[0m\u001B[32m*\u001B[0m\u001B[32m*\u001B[0m\u001B[32m*\u001B[0m\u001B[32m*\u001B[0m\u001B[32m*\u001B[0m\u001B[32m*\u001B[0m\u001B[32m*\u001B[0m\u001B[32m*\u001B[0m\u001B[32m*\u001B[0m\u001B[32m*\u001B[0m\u001B[32m*\u001B[0m\u001B[32m*\u001B[0m\u001B[32m*\u001B[0m\u001B[32m*\u001B[0m\u001B[32m*\u001B[0m\u001B[32m*\u001B[0m\u001B[32m*\u001B[0m\u001B[32m*\u001B[0m\u001B[32m*\u001B[0m\u001B[32m*\u001B[0m\u001B[32m*\u001B[0m\u001B[32m*\u001B[0m\u001B[32m*\u001B[0m\u001B[32m*\u001B[0m\u001B[32m*\u001B[0m\u001B[32m*\u001B[0m\u001B[32m*\u001B[0m\u001B[32m*\u001B[0m\u001B[32m*\u001B[0m\u001B[32m*\u001B[0m\u001B[32m*\u001B[0m\u001B[32m*\u001B[0m\u001B[32m*\u001B[0m\u001B[32m*\u001B[0m\u001B[32m*\u001B[0m\u001B[32m*\u001B[0m\u001B[32m*\u001B[0m\u001B[32m*\u001B[0m\u001B[32m*\u001B[0m\u001B[32m*\u001B[0m\u001B[32m*\u001B[0m\u001B[32m*\u001B[0m\u001B[32m*\u001B[0m\u001B[32m*\u001B[0m\u001B[32m*\u001B[0m\u001B[32m*\u001B[0m\u001B[32m*\u001B[0m\u001B[32m*\u001B[0m\u001B[32m*\u001B[0m\u001B[32m*\u001B[0m\u001B[32m*\u001B[0m\u001B[32m*\u001B[0m\u001B[32m*\u001B[0m\u001B[32m*\u001B[0m\u001B[32m*\u001B[0m\u001B[32m*\u001B[0m\u001B[32m*\u001B[0m\u001B[32m*\u001B[0m\u001B[32m*\u001B[0m\u001B[32m*\u001B[0m\u001B[32m*\u001B[0m\u001B[32m*\u001B[0m\u001B[32m*\u001B[0m\u001B[32m*\u001B[0m\u001B[32m*\u001B[0m\u001B[32m*\u001B[0m\u001B[32m*\u001B[0m\u001B[32m*\u001B[0m\u001B[32m*\u001B[0m\u001B[32m*\u001B[0m\u001B[32m*\u001B[0m\u001B[32m*\u001B[0m\u001B[32m*\u001B[0m\u001B[32m*\u001B[0m\u001B[32m*\u001B[0m\u001B[32m*\u001B[0m\u001B[32m*\u001B[0m\u001B[32m*\u001B[0m\u001B[32m*\u001B[0m\u001B[32m*\u001B[0m\u001B[32m*\u001B[0m\u001B[32m*\u001B[0m\u001B[32m*\u001B[0m\u001B[32m*\u001B[0m\u001B[32m*\u001B[0m\u001B[32m*\u001B[0m\u001B[32m*\u001B[0m\u001B[32m*\u001B[0m\u001B[32m*\u001B[0m\u001B[32m*\u001B[0m\u001B[32m*\u001B[0m\u001B[32m*\u001B[0m\u001B[32m*\u001B[0m\n"
     ]
    }
   ],
   "execution_count": 69
  },
  {
   "metadata": {},
   "cell_type": "markdown",
   "source": "## Zespolone równanie kwadratowe"
  },
  {
   "metadata": {
    "ExecuteTime": {
     "end_time": "2024-09-11T07:56:25.757915Z",
     "start_time": "2024-09-11T07:56:25.567869Z"
    }
   },
   "cell_type": "code",
   "source": [
    "zadanie = gz.rownanie_kwadratowe()\n",
    "zadanie"
   ],
   "outputs": [
    {
     "data": {
      "text/plain": [
       "('Rozwiązać równanie w zbiorze liczb zespolonych.\\\\ Sprawdzić jedno z rozwiązań.\\n\\t\\\\[\\n\\t\\t\\\\left(1 + 2 i\\\\right)z^2 + \\\\left(-5 + 10 i\\\\right) z + \\\\left(-14 + 2 i\\\\right)=0\\n\\t\\\\]',\n",
       " '$\\\\Delta = -3+4i, \\\\quad \\\\sqrt{\\\\Delta}=\\\\pm( 1 + 2 i) \\\\quad z_{1}=-2 - 2 i \\\\quad z_{2}=-1 - 2 i$')"
      ]
     },
     "execution_count": 71,
     "metadata": {},
     "output_type": "execute_result"
    }
   ],
   "execution_count": 71
  },
  {
   "metadata": {
    "ExecuteTime": {
     "end_time": "2024-09-11T07:56:25.800611Z",
     "start_time": "2024-09-11T07:56:25.794897Z"
    }
   },
   "cell_type": "code",
   "source": [
    "print(\"\\033[34m** Zadanie **\" + '*' * 81 + '\\033[0m')\n",
    "print(zadanie[0])\n",
    "print(\"\\033[34m*\\033[0m\" * 95)\n",
    "print(\"\\033[32m** Rozwiązanie **\" + '*' * 78 + '\\033[0m')\n",
    "print(zadanie[1])\n",
    "print(\"\\033[32m*\\033[0m\" * 95)"
   ],
   "outputs": [
    {
     "name": "stdout",
     "output_type": "stream",
     "text": [
      "\u001B[34m** Zadanie ***********************************************************************************\u001B[0m\n",
      "Rozwiązać równanie w zbiorze liczb zespolonych.\\ Sprawdzić jedno z rozwiązań.\n",
      "\t\\[\n",
      "\t\t\\left(1 + 2 i\\right)z^2 + \\left(-5 + 10 i\\right) z + \\left(-14 + 2 i\\right)=0\n",
      "\t\\]\n",
      "\u001B[34m*\u001B[0m\u001B[34m*\u001B[0m\u001B[34m*\u001B[0m\u001B[34m*\u001B[0m\u001B[34m*\u001B[0m\u001B[34m*\u001B[0m\u001B[34m*\u001B[0m\u001B[34m*\u001B[0m\u001B[34m*\u001B[0m\u001B[34m*\u001B[0m\u001B[34m*\u001B[0m\u001B[34m*\u001B[0m\u001B[34m*\u001B[0m\u001B[34m*\u001B[0m\u001B[34m*\u001B[0m\u001B[34m*\u001B[0m\u001B[34m*\u001B[0m\u001B[34m*\u001B[0m\u001B[34m*\u001B[0m\u001B[34m*\u001B[0m\u001B[34m*\u001B[0m\u001B[34m*\u001B[0m\u001B[34m*\u001B[0m\u001B[34m*\u001B[0m\u001B[34m*\u001B[0m\u001B[34m*\u001B[0m\u001B[34m*\u001B[0m\u001B[34m*\u001B[0m\u001B[34m*\u001B[0m\u001B[34m*\u001B[0m\u001B[34m*\u001B[0m\u001B[34m*\u001B[0m\u001B[34m*\u001B[0m\u001B[34m*\u001B[0m\u001B[34m*\u001B[0m\u001B[34m*\u001B[0m\u001B[34m*\u001B[0m\u001B[34m*\u001B[0m\u001B[34m*\u001B[0m\u001B[34m*\u001B[0m\u001B[34m*\u001B[0m\u001B[34m*\u001B[0m\u001B[34m*\u001B[0m\u001B[34m*\u001B[0m\u001B[34m*\u001B[0m\u001B[34m*\u001B[0m\u001B[34m*\u001B[0m\u001B[34m*\u001B[0m\u001B[34m*\u001B[0m\u001B[34m*\u001B[0m\u001B[34m*\u001B[0m\u001B[34m*\u001B[0m\u001B[34m*\u001B[0m\u001B[34m*\u001B[0m\u001B[34m*\u001B[0m\u001B[34m*\u001B[0m\u001B[34m*\u001B[0m\u001B[34m*\u001B[0m\u001B[34m*\u001B[0m\u001B[34m*\u001B[0m\u001B[34m*\u001B[0m\u001B[34m*\u001B[0m\u001B[34m*\u001B[0m\u001B[34m*\u001B[0m\u001B[34m*\u001B[0m\u001B[34m*\u001B[0m\u001B[34m*\u001B[0m\u001B[34m*\u001B[0m\u001B[34m*\u001B[0m\u001B[34m*\u001B[0m\u001B[34m*\u001B[0m\u001B[34m*\u001B[0m\u001B[34m*\u001B[0m\u001B[34m*\u001B[0m\u001B[34m*\u001B[0m\u001B[34m*\u001B[0m\u001B[34m*\u001B[0m\u001B[34m*\u001B[0m\u001B[34m*\u001B[0m\u001B[34m*\u001B[0m\u001B[34m*\u001B[0m\u001B[34m*\u001B[0m\u001B[34m*\u001B[0m\u001B[34m*\u001B[0m\u001B[34m*\u001B[0m\u001B[34m*\u001B[0m\u001B[34m*\u001B[0m\u001B[34m*\u001B[0m\u001B[34m*\u001B[0m\u001B[34m*\u001B[0m\u001B[34m*\u001B[0m\u001B[34m*\u001B[0m\u001B[34m*\u001B[0m\u001B[34m*\u001B[0m\u001B[34m*\u001B[0m\n",
      "\u001B[32m** Rozwiązanie ********************************************************************************\u001B[0m\n",
      "$\\Delta = -3+4i, \\quad \\sqrt{\\Delta}=\\pm( 1 + 2 i) \\quad z_{1}=-2 - 2 i \\quad z_{2}=-1 - 2 i$\n",
      "\u001B[32m*\u001B[0m\u001B[32m*\u001B[0m\u001B[32m*\u001B[0m\u001B[32m*\u001B[0m\u001B[32m*\u001B[0m\u001B[32m*\u001B[0m\u001B[32m*\u001B[0m\u001B[32m*\u001B[0m\u001B[32m*\u001B[0m\u001B[32m*\u001B[0m\u001B[32m*\u001B[0m\u001B[32m*\u001B[0m\u001B[32m*\u001B[0m\u001B[32m*\u001B[0m\u001B[32m*\u001B[0m\u001B[32m*\u001B[0m\u001B[32m*\u001B[0m\u001B[32m*\u001B[0m\u001B[32m*\u001B[0m\u001B[32m*\u001B[0m\u001B[32m*\u001B[0m\u001B[32m*\u001B[0m\u001B[32m*\u001B[0m\u001B[32m*\u001B[0m\u001B[32m*\u001B[0m\u001B[32m*\u001B[0m\u001B[32m*\u001B[0m\u001B[32m*\u001B[0m\u001B[32m*\u001B[0m\u001B[32m*\u001B[0m\u001B[32m*\u001B[0m\u001B[32m*\u001B[0m\u001B[32m*\u001B[0m\u001B[32m*\u001B[0m\u001B[32m*\u001B[0m\u001B[32m*\u001B[0m\u001B[32m*\u001B[0m\u001B[32m*\u001B[0m\u001B[32m*\u001B[0m\u001B[32m*\u001B[0m\u001B[32m*\u001B[0m\u001B[32m*\u001B[0m\u001B[32m*\u001B[0m\u001B[32m*\u001B[0m\u001B[32m*\u001B[0m\u001B[32m*\u001B[0m\u001B[32m*\u001B[0m\u001B[32m*\u001B[0m\u001B[32m*\u001B[0m\u001B[32m*\u001B[0m\u001B[32m*\u001B[0m\u001B[32m*\u001B[0m\u001B[32m*\u001B[0m\u001B[32m*\u001B[0m\u001B[32m*\u001B[0m\u001B[32m*\u001B[0m\u001B[32m*\u001B[0m\u001B[32m*\u001B[0m\u001B[32m*\u001B[0m\u001B[32m*\u001B[0m\u001B[32m*\u001B[0m\u001B[32m*\u001B[0m\u001B[32m*\u001B[0m\u001B[32m*\u001B[0m\u001B[32m*\u001B[0m\u001B[32m*\u001B[0m\u001B[32m*\u001B[0m\u001B[32m*\u001B[0m\u001B[32m*\u001B[0m\u001B[32m*\u001B[0m\u001B[32m*\u001B[0m\u001B[32m*\u001B[0m\u001B[32m*\u001B[0m\u001B[32m*\u001B[0m\u001B[32m*\u001B[0m\u001B[32m*\u001B[0m\u001B[32m*\u001B[0m\u001B[32m*\u001B[0m\u001B[32m*\u001B[0m\u001B[32m*\u001B[0m\u001B[32m*\u001B[0m\u001B[32m*\u001B[0m\u001B[32m*\u001B[0m\u001B[32m*\u001B[0m\u001B[32m*\u001B[0m\u001B[32m*\u001B[0m\u001B[32m*\u001B[0m\u001B[32m*\u001B[0m\u001B[32m*\u001B[0m\u001B[32m*\u001B[0m\u001B[32m*\u001B[0m\u001B[32m*\u001B[0m\u001B[32m*\u001B[0m\u001B[32m*\u001B[0m\u001B[32m*\u001B[0m\n"
     ]
    }
   ],
   "execution_count": 72
  },
  {
   "metadata": {
    "ExecuteTime": {
     "end_time": "2024-09-11T07:57:15.060114Z",
     "start_time": "2024-09-11T07:57:12.993197Z"
    }
   },
   "cell_type": "code",
   "source": [
    "for i in range(1, ile_zadan_przykladowych + 1):\n",
    "    z = gz.rownanie_kwadratowe()\n",
    "    print(f\"\\033[34m** Zadanie {i} **\" + '*' * 80 + '\\033[0m')\n",
    "    display(Markdown(z[0][:77].replace('\\\\ ', ' ')))\n",
    "    display(Latex(z[0][77:]))\n",
    "    print(\"\\033[34m*\\033[0m\" * 95)\n",
    "    print(\"\\033[32m** Rozwiązanie **\" + '*' * 78 + '\\033[0m')\n",
    "    display(Latex(z[1].replace('$ \\\\\\\\ \\n\\t$', ',\\\\quad ').replace('$', '$$')))\n",
    "    print(\"\\033[32m*\\033[0m\" * 95)"
   ],
   "outputs": [
    {
     "name": "stdout",
     "output_type": "stream",
     "text": [
      "\u001B[34m** Zadanie 1 **********************************************************************************\u001B[0m\n"
     ]
    },
    {
     "data": {
      "text/plain": [
       "<IPython.core.display.Markdown object>"
      ],
      "text/markdown": "Rozwiązać równanie w zbiorze liczb zespolonych. Sprawdzić jedno z rozwiązań."
     },
     "metadata": {},
     "output_type": "display_data"
    },
    {
     "data": {
      "text/plain": [
       "<IPython.core.display.Latex object>"
      ],
      "text/latex": "\n\t\\[\n\t\t\\left(1 - 2 i\\right)z^2 + \\left(8 - i\\right) z + \\left(5 + 5 i\\right)=0\n\t\\]"
     },
     "metadata": {},
     "output_type": "display_data"
    },
    {
     "name": "stdout",
     "output_type": "stream",
     "text": [
      "\u001B[34m*\u001B[0m\u001B[34m*\u001B[0m\u001B[34m*\u001B[0m\u001B[34m*\u001B[0m\u001B[34m*\u001B[0m\u001B[34m*\u001B[0m\u001B[34m*\u001B[0m\u001B[34m*\u001B[0m\u001B[34m*\u001B[0m\u001B[34m*\u001B[0m\u001B[34m*\u001B[0m\u001B[34m*\u001B[0m\u001B[34m*\u001B[0m\u001B[34m*\u001B[0m\u001B[34m*\u001B[0m\u001B[34m*\u001B[0m\u001B[34m*\u001B[0m\u001B[34m*\u001B[0m\u001B[34m*\u001B[0m\u001B[34m*\u001B[0m\u001B[34m*\u001B[0m\u001B[34m*\u001B[0m\u001B[34m*\u001B[0m\u001B[34m*\u001B[0m\u001B[34m*\u001B[0m\u001B[34m*\u001B[0m\u001B[34m*\u001B[0m\u001B[34m*\u001B[0m\u001B[34m*\u001B[0m\u001B[34m*\u001B[0m\u001B[34m*\u001B[0m\u001B[34m*\u001B[0m\u001B[34m*\u001B[0m\u001B[34m*\u001B[0m\u001B[34m*\u001B[0m\u001B[34m*\u001B[0m\u001B[34m*\u001B[0m\u001B[34m*\u001B[0m\u001B[34m*\u001B[0m\u001B[34m*\u001B[0m\u001B[34m*\u001B[0m\u001B[34m*\u001B[0m\u001B[34m*\u001B[0m\u001B[34m*\u001B[0m\u001B[34m*\u001B[0m\u001B[34m*\u001B[0m\u001B[34m*\u001B[0m\u001B[34m*\u001B[0m\u001B[34m*\u001B[0m\u001B[34m*\u001B[0m\u001B[34m*\u001B[0m\u001B[34m*\u001B[0m\u001B[34m*\u001B[0m\u001B[34m*\u001B[0m\u001B[34m*\u001B[0m\u001B[34m*\u001B[0m\u001B[34m*\u001B[0m\u001B[34m*\u001B[0m\u001B[34m*\u001B[0m\u001B[34m*\u001B[0m\u001B[34m*\u001B[0m\u001B[34m*\u001B[0m\u001B[34m*\u001B[0m\u001B[34m*\u001B[0m\u001B[34m*\u001B[0m\u001B[34m*\u001B[0m\u001B[34m*\u001B[0m\u001B[34m*\u001B[0m\u001B[34m*\u001B[0m\u001B[34m*\u001B[0m\u001B[34m*\u001B[0m\u001B[34m*\u001B[0m\u001B[34m*\u001B[0m\u001B[34m*\u001B[0m\u001B[34m*\u001B[0m\u001B[34m*\u001B[0m\u001B[34m*\u001B[0m\u001B[34m*\u001B[0m\u001B[34m*\u001B[0m\u001B[34m*\u001B[0m\u001B[34m*\u001B[0m\u001B[34m*\u001B[0m\u001B[34m*\u001B[0m\u001B[34m*\u001B[0m\u001B[34m*\u001B[0m\u001B[34m*\u001B[0m\u001B[34m*\u001B[0m\u001B[34m*\u001B[0m\u001B[34m*\u001B[0m\u001B[34m*\u001B[0m\u001B[34m*\u001B[0m\u001B[34m*\u001B[0m\u001B[34m*\u001B[0m\u001B[34m*\u001B[0m\u001B[34m*\u001B[0m\n",
      "\u001B[32m** Rozwiązanie ********************************************************************************\u001B[0m\n"
     ]
    },
    {
     "data": {
      "text/plain": [
       "<IPython.core.display.Latex object>"
      ],
      "text/latex": "$$\\Delta = 3+4i, \\quad \\sqrt{\\Delta}=\\pm( 2 + i) \\quad z_{1}=-1 - 2 i \\quad z_{2}=-1 - i$$"
     },
     "metadata": {},
     "output_type": "display_data"
    },
    {
     "name": "stdout",
     "output_type": "stream",
     "text": [
      "\u001B[32m*\u001B[0m\u001B[32m*\u001B[0m\u001B[32m*\u001B[0m\u001B[32m*\u001B[0m\u001B[32m*\u001B[0m\u001B[32m*\u001B[0m\u001B[32m*\u001B[0m\u001B[32m*\u001B[0m\u001B[32m*\u001B[0m\u001B[32m*\u001B[0m\u001B[32m*\u001B[0m\u001B[32m*\u001B[0m\u001B[32m*\u001B[0m\u001B[32m*\u001B[0m\u001B[32m*\u001B[0m\u001B[32m*\u001B[0m\u001B[32m*\u001B[0m\u001B[32m*\u001B[0m\u001B[32m*\u001B[0m\u001B[32m*\u001B[0m\u001B[32m*\u001B[0m\u001B[32m*\u001B[0m\u001B[32m*\u001B[0m\u001B[32m*\u001B[0m\u001B[32m*\u001B[0m\u001B[32m*\u001B[0m\u001B[32m*\u001B[0m\u001B[32m*\u001B[0m\u001B[32m*\u001B[0m\u001B[32m*\u001B[0m\u001B[32m*\u001B[0m\u001B[32m*\u001B[0m\u001B[32m*\u001B[0m\u001B[32m*\u001B[0m\u001B[32m*\u001B[0m\u001B[32m*\u001B[0m\u001B[32m*\u001B[0m\u001B[32m*\u001B[0m\u001B[32m*\u001B[0m\u001B[32m*\u001B[0m\u001B[32m*\u001B[0m\u001B[32m*\u001B[0m\u001B[32m*\u001B[0m\u001B[32m*\u001B[0m\u001B[32m*\u001B[0m\u001B[32m*\u001B[0m\u001B[32m*\u001B[0m\u001B[32m*\u001B[0m\u001B[32m*\u001B[0m\u001B[32m*\u001B[0m\u001B[32m*\u001B[0m\u001B[32m*\u001B[0m\u001B[32m*\u001B[0m\u001B[32m*\u001B[0m\u001B[32m*\u001B[0m\u001B[32m*\u001B[0m\u001B[32m*\u001B[0m\u001B[32m*\u001B[0m\u001B[32m*\u001B[0m\u001B[32m*\u001B[0m\u001B[32m*\u001B[0m\u001B[32m*\u001B[0m\u001B[32m*\u001B[0m\u001B[32m*\u001B[0m\u001B[32m*\u001B[0m\u001B[32m*\u001B[0m\u001B[32m*\u001B[0m\u001B[32m*\u001B[0m\u001B[32m*\u001B[0m\u001B[32m*\u001B[0m\u001B[32m*\u001B[0m\u001B[32m*\u001B[0m\u001B[32m*\u001B[0m\u001B[32m*\u001B[0m\u001B[32m*\u001B[0m\u001B[32m*\u001B[0m\u001B[32m*\u001B[0m\u001B[32m*\u001B[0m\u001B[32m*\u001B[0m\u001B[32m*\u001B[0m\u001B[32m*\u001B[0m\u001B[32m*\u001B[0m\u001B[32m*\u001B[0m\u001B[32m*\u001B[0m\u001B[32m*\u001B[0m\u001B[32m*\u001B[0m\u001B[32m*\u001B[0m\u001B[32m*\u001B[0m\u001B[32m*\u001B[0m\u001B[32m*\u001B[0m\u001B[32m*\u001B[0m\u001B[32m*\u001B[0m\u001B[32m*\u001B[0m\u001B[32m*\u001B[0m\u001B[32m*\u001B[0m\n",
      "\u001B[34m** Zadanie 2 **********************************************************************************\u001B[0m\n"
     ]
    },
    {
     "data": {
      "text/plain": [
       "<IPython.core.display.Markdown object>"
      ],
      "text/markdown": "Rozwiązać równanie w zbiorze liczb zespolonych. Sprawdzić jedno z rozwiązań."
     },
     "metadata": {},
     "output_type": "display_data"
    },
    {
     "data": {
      "text/plain": [
       "<IPython.core.display.Latex object>"
      ],
      "text/latex": "\n\t\\[\n\t\t\\left(1 - i\\right)z^2 + \\left(11 + 5 i\\right) z + \\left(26 i\\right)=0\n\t\\]"
     },
     "metadata": {},
     "output_type": "display_data"
    },
    {
     "name": "stdout",
     "output_type": "stream",
     "text": [
      "\u001B[34m*\u001B[0m\u001B[34m*\u001B[0m\u001B[34m*\u001B[0m\u001B[34m*\u001B[0m\u001B[34m*\u001B[0m\u001B[34m*\u001B[0m\u001B[34m*\u001B[0m\u001B[34m*\u001B[0m\u001B[34m*\u001B[0m\u001B[34m*\u001B[0m\u001B[34m*\u001B[0m\u001B[34m*\u001B[0m\u001B[34m*\u001B[0m\u001B[34m*\u001B[0m\u001B[34m*\u001B[0m\u001B[34m*\u001B[0m\u001B[34m*\u001B[0m\u001B[34m*\u001B[0m\u001B[34m*\u001B[0m\u001B[34m*\u001B[0m\u001B[34m*\u001B[0m\u001B[34m*\u001B[0m\u001B[34m*\u001B[0m\u001B[34m*\u001B[0m\u001B[34m*\u001B[0m\u001B[34m*\u001B[0m\u001B[34m*\u001B[0m\u001B[34m*\u001B[0m\u001B[34m*\u001B[0m\u001B[34m*\u001B[0m\u001B[34m*\u001B[0m\u001B[34m*\u001B[0m\u001B[34m*\u001B[0m\u001B[34m*\u001B[0m\u001B[34m*\u001B[0m\u001B[34m*\u001B[0m\u001B[34m*\u001B[0m\u001B[34m*\u001B[0m\u001B[34m*\u001B[0m\u001B[34m*\u001B[0m\u001B[34m*\u001B[0m\u001B[34m*\u001B[0m\u001B[34m*\u001B[0m\u001B[34m*\u001B[0m\u001B[34m*\u001B[0m\u001B[34m*\u001B[0m\u001B[34m*\u001B[0m\u001B[34m*\u001B[0m\u001B[34m*\u001B[0m\u001B[34m*\u001B[0m\u001B[34m*\u001B[0m\u001B[34m*\u001B[0m\u001B[34m*\u001B[0m\u001B[34m*\u001B[0m\u001B[34m*\u001B[0m\u001B[34m*\u001B[0m\u001B[34m*\u001B[0m\u001B[34m*\u001B[0m\u001B[34m*\u001B[0m\u001B[34m*\u001B[0m\u001B[34m*\u001B[0m\u001B[34m*\u001B[0m\u001B[34m*\u001B[0m\u001B[34m*\u001B[0m\u001B[34m*\u001B[0m\u001B[34m*\u001B[0m\u001B[34m*\u001B[0m\u001B[34m*\u001B[0m\u001B[34m*\u001B[0m\u001B[34m*\u001B[0m\u001B[34m*\u001B[0m\u001B[34m*\u001B[0m\u001B[34m*\u001B[0m\u001B[34m*\u001B[0m\u001B[34m*\u001B[0m\u001B[34m*\u001B[0m\u001B[34m*\u001B[0m\u001B[34m*\u001B[0m\u001B[34m*\u001B[0m\u001B[34m*\u001B[0m\u001B[34m*\u001B[0m\u001B[34m*\u001B[0m\u001B[34m*\u001B[0m\u001B[34m*\u001B[0m\u001B[34m*\u001B[0m\u001B[34m*\u001B[0m\u001B[34m*\u001B[0m\u001B[34m*\u001B[0m\u001B[34m*\u001B[0m\u001B[34m*\u001B[0m\u001B[34m*\u001B[0m\u001B[34m*\u001B[0m\u001B[34m*\u001B[0m\u001B[34m*\u001B[0m\u001B[34m*\u001B[0m\n",
      "\u001B[32m** Rozwiązanie ********************************************************************************\u001B[0m\n"
     ]
    },
    {
     "data": {
      "text/plain": [
       "<IPython.core.display.Latex object>"
      ],
      "text/latex": "$$\\Delta = -8+6i, \\quad \\sqrt{\\Delta}=\\pm( 1 + 3 i) \\quad z_{1}=-2 - 3 i \\quad z_{2}=-1 - 5 i$$"
     },
     "metadata": {},
     "output_type": "display_data"
    },
    {
     "name": "stdout",
     "output_type": "stream",
     "text": [
      "\u001B[32m*\u001B[0m\u001B[32m*\u001B[0m\u001B[32m*\u001B[0m\u001B[32m*\u001B[0m\u001B[32m*\u001B[0m\u001B[32m*\u001B[0m\u001B[32m*\u001B[0m\u001B[32m*\u001B[0m\u001B[32m*\u001B[0m\u001B[32m*\u001B[0m\u001B[32m*\u001B[0m\u001B[32m*\u001B[0m\u001B[32m*\u001B[0m\u001B[32m*\u001B[0m\u001B[32m*\u001B[0m\u001B[32m*\u001B[0m\u001B[32m*\u001B[0m\u001B[32m*\u001B[0m\u001B[32m*\u001B[0m\u001B[32m*\u001B[0m\u001B[32m*\u001B[0m\u001B[32m*\u001B[0m\u001B[32m*\u001B[0m\u001B[32m*\u001B[0m\u001B[32m*\u001B[0m\u001B[32m*\u001B[0m\u001B[32m*\u001B[0m\u001B[32m*\u001B[0m\u001B[32m*\u001B[0m\u001B[32m*\u001B[0m\u001B[32m*\u001B[0m\u001B[32m*\u001B[0m\u001B[32m*\u001B[0m\u001B[32m*\u001B[0m\u001B[32m*\u001B[0m\u001B[32m*\u001B[0m\u001B[32m*\u001B[0m\u001B[32m*\u001B[0m\u001B[32m*\u001B[0m\u001B[32m*\u001B[0m\u001B[32m*\u001B[0m\u001B[32m*\u001B[0m\u001B[32m*\u001B[0m\u001B[32m*\u001B[0m\u001B[32m*\u001B[0m\u001B[32m*\u001B[0m\u001B[32m*\u001B[0m\u001B[32m*\u001B[0m\u001B[32m*\u001B[0m\u001B[32m*\u001B[0m\u001B[32m*\u001B[0m\u001B[32m*\u001B[0m\u001B[32m*\u001B[0m\u001B[32m*\u001B[0m\u001B[32m*\u001B[0m\u001B[32m*\u001B[0m\u001B[32m*\u001B[0m\u001B[32m*\u001B[0m\u001B[32m*\u001B[0m\u001B[32m*\u001B[0m\u001B[32m*\u001B[0m\u001B[32m*\u001B[0m\u001B[32m*\u001B[0m\u001B[32m*\u001B[0m\u001B[32m*\u001B[0m\u001B[32m*\u001B[0m\u001B[32m*\u001B[0m\u001B[32m*\u001B[0m\u001B[32m*\u001B[0m\u001B[32m*\u001B[0m\u001B[32m*\u001B[0m\u001B[32m*\u001B[0m\u001B[32m*\u001B[0m\u001B[32m*\u001B[0m\u001B[32m*\u001B[0m\u001B[32m*\u001B[0m\u001B[32m*\u001B[0m\u001B[32m*\u001B[0m\u001B[32m*\u001B[0m\u001B[32m*\u001B[0m\u001B[32m*\u001B[0m\u001B[32m*\u001B[0m\u001B[32m*\u001B[0m\u001B[32m*\u001B[0m\u001B[32m*\u001B[0m\u001B[32m*\u001B[0m\u001B[32m*\u001B[0m\u001B[32m*\u001B[0m\u001B[32m*\u001B[0m\u001B[32m*\u001B[0m\u001B[32m*\u001B[0m\u001B[32m*\u001B[0m\u001B[32m*\u001B[0m\u001B[32m*\u001B[0m\u001B[32m*\u001B[0m\n",
      "\u001B[34m** Zadanie 3 **********************************************************************************\u001B[0m\n"
     ]
    },
    {
     "data": {
      "text/plain": [
       "<IPython.core.display.Markdown object>"
      ],
      "text/markdown": "Rozwiązać równanie w zbiorze liczb zespolonych. Sprawdzić jedno z rozwiązań."
     },
     "metadata": {},
     "output_type": "display_data"
    },
    {
     "data": {
      "text/plain": [
       "<IPython.core.display.Latex object>"
      ],
      "text/latex": "\n\t\\[\n\t\t\\left(1 - i\\right)z^2 + \\left(13 + i\\right) z + \\left(16 + 24 i\\right)=0\n\t\\]"
     },
     "metadata": {},
     "output_type": "display_data"
    },
    {
     "name": "stdout",
     "output_type": "stream",
     "text": [
      "\u001B[34m*\u001B[0m\u001B[34m*\u001B[0m\u001B[34m*\u001B[0m\u001B[34m*\u001B[0m\u001B[34m*\u001B[0m\u001B[34m*\u001B[0m\u001B[34m*\u001B[0m\u001B[34m*\u001B[0m\u001B[34m*\u001B[0m\u001B[34m*\u001B[0m\u001B[34m*\u001B[0m\u001B[34m*\u001B[0m\u001B[34m*\u001B[0m\u001B[34m*\u001B[0m\u001B[34m*\u001B[0m\u001B[34m*\u001B[0m\u001B[34m*\u001B[0m\u001B[34m*\u001B[0m\u001B[34m*\u001B[0m\u001B[34m*\u001B[0m\u001B[34m*\u001B[0m\u001B[34m*\u001B[0m\u001B[34m*\u001B[0m\u001B[34m*\u001B[0m\u001B[34m*\u001B[0m\u001B[34m*\u001B[0m\u001B[34m*\u001B[0m\u001B[34m*\u001B[0m\u001B[34m*\u001B[0m\u001B[34m*\u001B[0m\u001B[34m*\u001B[0m\u001B[34m*\u001B[0m\u001B[34m*\u001B[0m\u001B[34m*\u001B[0m\u001B[34m*\u001B[0m\u001B[34m*\u001B[0m\u001B[34m*\u001B[0m\u001B[34m*\u001B[0m\u001B[34m*\u001B[0m\u001B[34m*\u001B[0m\u001B[34m*\u001B[0m\u001B[34m*\u001B[0m\u001B[34m*\u001B[0m\u001B[34m*\u001B[0m\u001B[34m*\u001B[0m\u001B[34m*\u001B[0m\u001B[34m*\u001B[0m\u001B[34m*\u001B[0m\u001B[34m*\u001B[0m\u001B[34m*\u001B[0m\u001B[34m*\u001B[0m\u001B[34m*\u001B[0m\u001B[34m*\u001B[0m\u001B[34m*\u001B[0m\u001B[34m*\u001B[0m\u001B[34m*\u001B[0m\u001B[34m*\u001B[0m\u001B[34m*\u001B[0m\u001B[34m*\u001B[0m\u001B[34m*\u001B[0m\u001B[34m*\u001B[0m\u001B[34m*\u001B[0m\u001B[34m*\u001B[0m\u001B[34m*\u001B[0m\u001B[34m*\u001B[0m\u001B[34m*\u001B[0m\u001B[34m*\u001B[0m\u001B[34m*\u001B[0m\u001B[34m*\u001B[0m\u001B[34m*\u001B[0m\u001B[34m*\u001B[0m\u001B[34m*\u001B[0m\u001B[34m*\u001B[0m\u001B[34m*\u001B[0m\u001B[34m*\u001B[0m\u001B[34m*\u001B[0m\u001B[34m*\u001B[0m\u001B[34m*\u001B[0m\u001B[34m*\u001B[0m\u001B[34m*\u001B[0m\u001B[34m*\u001B[0m\u001B[34m*\u001B[0m\u001B[34m*\u001B[0m\u001B[34m*\u001B[0m\u001B[34m*\u001B[0m\u001B[34m*\u001B[0m\u001B[34m*\u001B[0m\u001B[34m*\u001B[0m\u001B[34m*\u001B[0m\u001B[34m*\u001B[0m\u001B[34m*\u001B[0m\u001B[34m*\u001B[0m\u001B[34m*\u001B[0m\u001B[34m*\u001B[0m\u001B[34m*\u001B[0m\n",
      "\u001B[32m** Rozwiązanie ********************************************************************************\u001B[0m\n"
     ]
    },
    {
     "data": {
      "text/plain": [
       "<IPython.core.display.Latex object>"
      ],
      "text/latex": "$$\\Delta = 8-6i, \\quad \\sqrt{\\Delta}=\\pm( 3 - i) \\quad z_{1}=-4 - 4 i \\quad z_{2}=-2 - 3 i$$"
     },
     "metadata": {},
     "output_type": "display_data"
    },
    {
     "name": "stdout",
     "output_type": "stream",
     "text": [
      "\u001B[32m*\u001B[0m\u001B[32m*\u001B[0m\u001B[32m*\u001B[0m\u001B[32m*\u001B[0m\u001B[32m*\u001B[0m\u001B[32m*\u001B[0m\u001B[32m*\u001B[0m\u001B[32m*\u001B[0m\u001B[32m*\u001B[0m\u001B[32m*\u001B[0m\u001B[32m*\u001B[0m\u001B[32m*\u001B[0m\u001B[32m*\u001B[0m\u001B[32m*\u001B[0m\u001B[32m*\u001B[0m\u001B[32m*\u001B[0m\u001B[32m*\u001B[0m\u001B[32m*\u001B[0m\u001B[32m*\u001B[0m\u001B[32m*\u001B[0m\u001B[32m*\u001B[0m\u001B[32m*\u001B[0m\u001B[32m*\u001B[0m\u001B[32m*\u001B[0m\u001B[32m*\u001B[0m\u001B[32m*\u001B[0m\u001B[32m*\u001B[0m\u001B[32m*\u001B[0m\u001B[32m*\u001B[0m\u001B[32m*\u001B[0m\u001B[32m*\u001B[0m\u001B[32m*\u001B[0m\u001B[32m*\u001B[0m\u001B[32m*\u001B[0m\u001B[32m*\u001B[0m\u001B[32m*\u001B[0m\u001B[32m*\u001B[0m\u001B[32m*\u001B[0m\u001B[32m*\u001B[0m\u001B[32m*\u001B[0m\u001B[32m*\u001B[0m\u001B[32m*\u001B[0m\u001B[32m*\u001B[0m\u001B[32m*\u001B[0m\u001B[32m*\u001B[0m\u001B[32m*\u001B[0m\u001B[32m*\u001B[0m\u001B[32m*\u001B[0m\u001B[32m*\u001B[0m\u001B[32m*\u001B[0m\u001B[32m*\u001B[0m\u001B[32m*\u001B[0m\u001B[32m*\u001B[0m\u001B[32m*\u001B[0m\u001B[32m*\u001B[0m\u001B[32m*\u001B[0m\u001B[32m*\u001B[0m\u001B[32m*\u001B[0m\u001B[32m*\u001B[0m\u001B[32m*\u001B[0m\u001B[32m*\u001B[0m\u001B[32m*\u001B[0m\u001B[32m*\u001B[0m\u001B[32m*\u001B[0m\u001B[32m*\u001B[0m\u001B[32m*\u001B[0m\u001B[32m*\u001B[0m\u001B[32m*\u001B[0m\u001B[32m*\u001B[0m\u001B[32m*\u001B[0m\u001B[32m*\u001B[0m\u001B[32m*\u001B[0m\u001B[32m*\u001B[0m\u001B[32m*\u001B[0m\u001B[32m*\u001B[0m\u001B[32m*\u001B[0m\u001B[32m*\u001B[0m\u001B[32m*\u001B[0m\u001B[32m*\u001B[0m\u001B[32m*\u001B[0m\u001B[32m*\u001B[0m\u001B[32m*\u001B[0m\u001B[32m*\u001B[0m\u001B[32m*\u001B[0m\u001B[32m*\u001B[0m\u001B[32m*\u001B[0m\u001B[32m*\u001B[0m\u001B[32m*\u001B[0m\u001B[32m*\u001B[0m\u001B[32m*\u001B[0m\u001B[32m*\u001B[0m\u001B[32m*\u001B[0m\u001B[32m*\u001B[0m\u001B[32m*\u001B[0m\u001B[32m*\u001B[0m\n",
      "\u001B[34m** Zadanie 4 **********************************************************************************\u001B[0m\n"
     ]
    },
    {
     "data": {
      "text/plain": [
       "<IPython.core.display.Markdown object>"
      ],
      "text/markdown": "Rozwiązać równanie w zbiorze liczb zespolonych. Sprawdzić jedno z rozwiązań."
     },
     "metadata": {},
     "output_type": "display_data"
    },
    {
     "data": {
      "text/plain": [
       "<IPython.core.display.Latex object>"
      ],
      "text/latex": "\n\t\\[\n\t\t\\left(1 - 2 i\\right)z^2 + \\left(13 - i\\right) z + \\left(12 + 16 i\\right)=0\n\t\\]"
     },
     "metadata": {},
     "output_type": "display_data"
    },
    {
     "name": "stdout",
     "output_type": "stream",
     "text": [
      "\u001B[34m*\u001B[0m\u001B[34m*\u001B[0m\u001B[34m*\u001B[0m\u001B[34m*\u001B[0m\u001B[34m*\u001B[0m\u001B[34m*\u001B[0m\u001B[34m*\u001B[0m\u001B[34m*\u001B[0m\u001B[34m*\u001B[0m\u001B[34m*\u001B[0m\u001B[34m*\u001B[0m\u001B[34m*\u001B[0m\u001B[34m*\u001B[0m\u001B[34m*\u001B[0m\u001B[34m*\u001B[0m\u001B[34m*\u001B[0m\u001B[34m*\u001B[0m\u001B[34m*\u001B[0m\u001B[34m*\u001B[0m\u001B[34m*\u001B[0m\u001B[34m*\u001B[0m\u001B[34m*\u001B[0m\u001B[34m*\u001B[0m\u001B[34m*\u001B[0m\u001B[34m*\u001B[0m\u001B[34m*\u001B[0m\u001B[34m*\u001B[0m\u001B[34m*\u001B[0m\u001B[34m*\u001B[0m\u001B[34m*\u001B[0m\u001B[34m*\u001B[0m\u001B[34m*\u001B[0m\u001B[34m*\u001B[0m\u001B[34m*\u001B[0m\u001B[34m*\u001B[0m\u001B[34m*\u001B[0m\u001B[34m*\u001B[0m\u001B[34m*\u001B[0m\u001B[34m*\u001B[0m\u001B[34m*\u001B[0m\u001B[34m*\u001B[0m\u001B[34m*\u001B[0m\u001B[34m*\u001B[0m\u001B[34m*\u001B[0m\u001B[34m*\u001B[0m\u001B[34m*\u001B[0m\u001B[34m*\u001B[0m\u001B[34m*\u001B[0m\u001B[34m*\u001B[0m\u001B[34m*\u001B[0m\u001B[34m*\u001B[0m\u001B[34m*\u001B[0m\u001B[34m*\u001B[0m\u001B[34m*\u001B[0m\u001B[34m*\u001B[0m\u001B[34m*\u001B[0m\u001B[34m*\u001B[0m\u001B[34m*\u001B[0m\u001B[34m*\u001B[0m\u001B[34m*\u001B[0m\u001B[34m*\u001B[0m\u001B[34m*\u001B[0m\u001B[34m*\u001B[0m\u001B[34m*\u001B[0m\u001B[34m*\u001B[0m\u001B[34m*\u001B[0m\u001B[34m*\u001B[0m\u001B[34m*\u001B[0m\u001B[34m*\u001B[0m\u001B[34m*\u001B[0m\u001B[34m*\u001B[0m\u001B[34m*\u001B[0m\u001B[34m*\u001B[0m\u001B[34m*\u001B[0m\u001B[34m*\u001B[0m\u001B[34m*\u001B[0m\u001B[34m*\u001B[0m\u001B[34m*\u001B[0m\u001B[34m*\u001B[0m\u001B[34m*\u001B[0m\u001B[34m*\u001B[0m\u001B[34m*\u001B[0m\u001B[34m*\u001B[0m\u001B[34m*\u001B[0m\u001B[34m*\u001B[0m\u001B[34m*\u001B[0m\u001B[34m*\u001B[0m\u001B[34m*\u001B[0m\u001B[34m*\u001B[0m\u001B[34m*\u001B[0m\u001B[34m*\u001B[0m\u001B[34m*\u001B[0m\u001B[34m*\u001B[0m\u001B[34m*\u001B[0m\u001B[34m*\u001B[0m\n",
      "\u001B[32m** Rozwiązanie ********************************************************************************\u001B[0m\n"
     ]
    },
    {
     "data": {
      "text/plain": [
       "<IPython.core.display.Latex object>"
      ],
      "text/latex": "$$\\Delta = -8+6i, \\quad \\sqrt{\\Delta}=\\pm( 1 + 3 i) \\quad z_{1}=-2 - 2 i \\quad z_{2}=-1 - 3 i$$"
     },
     "metadata": {},
     "output_type": "display_data"
    },
    {
     "name": "stdout",
     "output_type": "stream",
     "text": [
      "\u001B[32m*\u001B[0m\u001B[32m*\u001B[0m\u001B[32m*\u001B[0m\u001B[32m*\u001B[0m\u001B[32m*\u001B[0m\u001B[32m*\u001B[0m\u001B[32m*\u001B[0m\u001B[32m*\u001B[0m\u001B[32m*\u001B[0m\u001B[32m*\u001B[0m\u001B[32m*\u001B[0m\u001B[32m*\u001B[0m\u001B[32m*\u001B[0m\u001B[32m*\u001B[0m\u001B[32m*\u001B[0m\u001B[32m*\u001B[0m\u001B[32m*\u001B[0m\u001B[32m*\u001B[0m\u001B[32m*\u001B[0m\u001B[32m*\u001B[0m\u001B[32m*\u001B[0m\u001B[32m*\u001B[0m\u001B[32m*\u001B[0m\u001B[32m*\u001B[0m\u001B[32m*\u001B[0m\u001B[32m*\u001B[0m\u001B[32m*\u001B[0m\u001B[32m*\u001B[0m\u001B[32m*\u001B[0m\u001B[32m*\u001B[0m\u001B[32m*\u001B[0m\u001B[32m*\u001B[0m\u001B[32m*\u001B[0m\u001B[32m*\u001B[0m\u001B[32m*\u001B[0m\u001B[32m*\u001B[0m\u001B[32m*\u001B[0m\u001B[32m*\u001B[0m\u001B[32m*\u001B[0m\u001B[32m*\u001B[0m\u001B[32m*\u001B[0m\u001B[32m*\u001B[0m\u001B[32m*\u001B[0m\u001B[32m*\u001B[0m\u001B[32m*\u001B[0m\u001B[32m*\u001B[0m\u001B[32m*\u001B[0m\u001B[32m*\u001B[0m\u001B[32m*\u001B[0m\u001B[32m*\u001B[0m\u001B[32m*\u001B[0m\u001B[32m*\u001B[0m\u001B[32m*\u001B[0m\u001B[32m*\u001B[0m\u001B[32m*\u001B[0m\u001B[32m*\u001B[0m\u001B[32m*\u001B[0m\u001B[32m*\u001B[0m\u001B[32m*\u001B[0m\u001B[32m*\u001B[0m\u001B[32m*\u001B[0m\u001B[32m*\u001B[0m\u001B[32m*\u001B[0m\u001B[32m*\u001B[0m\u001B[32m*\u001B[0m\u001B[32m*\u001B[0m\u001B[32m*\u001B[0m\u001B[32m*\u001B[0m\u001B[32m*\u001B[0m\u001B[32m*\u001B[0m\u001B[32m*\u001B[0m\u001B[32m*\u001B[0m\u001B[32m*\u001B[0m\u001B[32m*\u001B[0m\u001B[32m*\u001B[0m\u001B[32m*\u001B[0m\u001B[32m*\u001B[0m\u001B[32m*\u001B[0m\u001B[32m*\u001B[0m\u001B[32m*\u001B[0m\u001B[32m*\u001B[0m\u001B[32m*\u001B[0m\u001B[32m*\u001B[0m\u001B[32m*\u001B[0m\u001B[32m*\u001B[0m\u001B[32m*\u001B[0m\u001B[32m*\u001B[0m\u001B[32m*\u001B[0m\u001B[32m*\u001B[0m\u001B[32m*\u001B[0m\u001B[32m*\u001B[0m\u001B[32m*\u001B[0m\u001B[32m*\u001B[0m\u001B[32m*\u001B[0m\u001B[32m*\u001B[0m\n",
      "\u001B[34m** Zadanie 5 **********************************************************************************\u001B[0m\n"
     ]
    },
    {
     "data": {
      "text/plain": [
       "<IPython.core.display.Markdown object>"
      ],
      "text/markdown": "Rozwiązać równanie w zbiorze liczb zespolonych. Sprawdzić jedno z rozwiązań."
     },
     "metadata": {},
     "output_type": "display_data"
    },
    {
     "data": {
      "text/plain": [
       "<IPython.core.display.Latex object>"
      ],
      "text/latex": "\n\t\\[\n\t\t\\left(1 + 2 i\\right)z^2 + \\left(3 - 14 i\\right) z + \\left(-18 + 14 i\\right)=0\n\t\\]"
     },
     "metadata": {},
     "output_type": "display_data"
    },
    {
     "name": "stdout",
     "output_type": "stream",
     "text": [
      "\u001B[34m*\u001B[0m\u001B[34m*\u001B[0m\u001B[34m*\u001B[0m\u001B[34m*\u001B[0m\u001B[34m*\u001B[0m\u001B[34m*\u001B[0m\u001B[34m*\u001B[0m\u001B[34m*\u001B[0m\u001B[34m*\u001B[0m\u001B[34m*\u001B[0m\u001B[34m*\u001B[0m\u001B[34m*\u001B[0m\u001B[34m*\u001B[0m\u001B[34m*\u001B[0m\u001B[34m*\u001B[0m\u001B[34m*\u001B[0m\u001B[34m*\u001B[0m\u001B[34m*\u001B[0m\u001B[34m*\u001B[0m\u001B[34m*\u001B[0m\u001B[34m*\u001B[0m\u001B[34m*\u001B[0m\u001B[34m*\u001B[0m\u001B[34m*\u001B[0m\u001B[34m*\u001B[0m\u001B[34m*\u001B[0m\u001B[34m*\u001B[0m\u001B[34m*\u001B[0m\u001B[34m*\u001B[0m\u001B[34m*\u001B[0m\u001B[34m*\u001B[0m\u001B[34m*\u001B[0m\u001B[34m*\u001B[0m\u001B[34m*\u001B[0m\u001B[34m*\u001B[0m\u001B[34m*\u001B[0m\u001B[34m*\u001B[0m\u001B[34m*\u001B[0m\u001B[34m*\u001B[0m\u001B[34m*\u001B[0m\u001B[34m*\u001B[0m\u001B[34m*\u001B[0m\u001B[34m*\u001B[0m\u001B[34m*\u001B[0m\u001B[34m*\u001B[0m\u001B[34m*\u001B[0m\u001B[34m*\u001B[0m\u001B[34m*\u001B[0m\u001B[34m*\u001B[0m\u001B[34m*\u001B[0m\u001B[34m*\u001B[0m\u001B[34m*\u001B[0m\u001B[34m*\u001B[0m\u001B[34m*\u001B[0m\u001B[34m*\u001B[0m\u001B[34m*\u001B[0m\u001B[34m*\u001B[0m\u001B[34m*\u001B[0m\u001B[34m*\u001B[0m\u001B[34m*\u001B[0m\u001B[34m*\u001B[0m\u001B[34m*\u001B[0m\u001B[34m*\u001B[0m\u001B[34m*\u001B[0m\u001B[34m*\u001B[0m\u001B[34m*\u001B[0m\u001B[34m*\u001B[0m\u001B[34m*\u001B[0m\u001B[34m*\u001B[0m\u001B[34m*\u001B[0m\u001B[34m*\u001B[0m\u001B[34m*\u001B[0m\u001B[34m*\u001B[0m\u001B[34m*\u001B[0m\u001B[34m*\u001B[0m\u001B[34m*\u001B[0m\u001B[34m*\u001B[0m\u001B[34m*\u001B[0m\u001B[34m*\u001B[0m\u001B[34m*\u001B[0m\u001B[34m*\u001B[0m\u001B[34m*\u001B[0m\u001B[34m*\u001B[0m\u001B[34m*\u001B[0m\u001B[34m*\u001B[0m\u001B[34m*\u001B[0m\u001B[34m*\u001B[0m\u001B[34m*\u001B[0m\u001B[34m*\u001B[0m\u001B[34m*\u001B[0m\u001B[34m*\u001B[0m\u001B[34m*\u001B[0m\u001B[34m*\u001B[0m\u001B[34m*\u001B[0m\u001B[34m*\u001B[0m\n",
      "\u001B[32m** Rozwiązanie ********************************************************************************\u001B[0m\n"
     ]
    },
    {
     "data": {
      "text/plain": [
       "<IPython.core.display.Latex object>"
      ],
      "text/latex": "$$\\Delta = -3+4i, \\quad \\sqrt{\\Delta}=\\pm( 1 + 2 i) \\quad z_{1}=2 + 2 i \\quad z_{2}=3 + 2 i$$"
     },
     "metadata": {},
     "output_type": "display_data"
    },
    {
     "name": "stdout",
     "output_type": "stream",
     "text": [
      "\u001B[32m*\u001B[0m\u001B[32m*\u001B[0m\u001B[32m*\u001B[0m\u001B[32m*\u001B[0m\u001B[32m*\u001B[0m\u001B[32m*\u001B[0m\u001B[32m*\u001B[0m\u001B[32m*\u001B[0m\u001B[32m*\u001B[0m\u001B[32m*\u001B[0m\u001B[32m*\u001B[0m\u001B[32m*\u001B[0m\u001B[32m*\u001B[0m\u001B[32m*\u001B[0m\u001B[32m*\u001B[0m\u001B[32m*\u001B[0m\u001B[32m*\u001B[0m\u001B[32m*\u001B[0m\u001B[32m*\u001B[0m\u001B[32m*\u001B[0m\u001B[32m*\u001B[0m\u001B[32m*\u001B[0m\u001B[32m*\u001B[0m\u001B[32m*\u001B[0m\u001B[32m*\u001B[0m\u001B[32m*\u001B[0m\u001B[32m*\u001B[0m\u001B[32m*\u001B[0m\u001B[32m*\u001B[0m\u001B[32m*\u001B[0m\u001B[32m*\u001B[0m\u001B[32m*\u001B[0m\u001B[32m*\u001B[0m\u001B[32m*\u001B[0m\u001B[32m*\u001B[0m\u001B[32m*\u001B[0m\u001B[32m*\u001B[0m\u001B[32m*\u001B[0m\u001B[32m*\u001B[0m\u001B[32m*\u001B[0m\u001B[32m*\u001B[0m\u001B[32m*\u001B[0m\u001B[32m*\u001B[0m\u001B[32m*\u001B[0m\u001B[32m*\u001B[0m\u001B[32m*\u001B[0m\u001B[32m*\u001B[0m\u001B[32m*\u001B[0m\u001B[32m*\u001B[0m\u001B[32m*\u001B[0m\u001B[32m*\u001B[0m\u001B[32m*\u001B[0m\u001B[32m*\u001B[0m\u001B[32m*\u001B[0m\u001B[32m*\u001B[0m\u001B[32m*\u001B[0m\u001B[32m*\u001B[0m\u001B[32m*\u001B[0m\u001B[32m*\u001B[0m\u001B[32m*\u001B[0m\u001B[32m*\u001B[0m\u001B[32m*\u001B[0m\u001B[32m*\u001B[0m\u001B[32m*\u001B[0m\u001B[32m*\u001B[0m\u001B[32m*\u001B[0m\u001B[32m*\u001B[0m\u001B[32m*\u001B[0m\u001B[32m*\u001B[0m\u001B[32m*\u001B[0m\u001B[32m*\u001B[0m\u001B[32m*\u001B[0m\u001B[32m*\u001B[0m\u001B[32m*\u001B[0m\u001B[32m*\u001B[0m\u001B[32m*\u001B[0m\u001B[32m*\u001B[0m\u001B[32m*\u001B[0m\u001B[32m*\u001B[0m\u001B[32m*\u001B[0m\u001B[32m*\u001B[0m\u001B[32m*\u001B[0m\u001B[32m*\u001B[0m\u001B[32m*\u001B[0m\u001B[32m*\u001B[0m\u001B[32m*\u001B[0m\u001B[32m*\u001B[0m\u001B[32m*\u001B[0m\u001B[32m*\u001B[0m\u001B[32m*\u001B[0m\u001B[32m*\u001B[0m\u001B[32m*\u001B[0m\u001B[32m*\u001B[0m\u001B[32m*\u001B[0m\u001B[32m*\u001B[0m\n",
      "\u001B[34m** Zadanie 6 **********************************************************************************\u001B[0m\n"
     ]
    },
    {
     "data": {
      "text/plain": [
       "<IPython.core.display.Markdown object>"
      ],
      "text/markdown": "Rozwiązać równanie w zbiorze liczb zespolonych. Sprawdzić jedno z rozwiązań."
     },
     "metadata": {},
     "output_type": "display_data"
    },
    {
     "data": {
      "text/plain": [
       "<IPython.core.display.Latex object>"
      ],
      "text/latex": "\n\t\\[\n\t\t\\left(1 + 2 i\\right)z^2 + \\left(-11 - 7 i\\right) z + \\left(20\\right)=0\n\t\\]"
     },
     "metadata": {},
     "output_type": "display_data"
    },
    {
     "name": "stdout",
     "output_type": "stream",
     "text": [
      "\u001B[34m*\u001B[0m\u001B[34m*\u001B[0m\u001B[34m*\u001B[0m\u001B[34m*\u001B[0m\u001B[34m*\u001B[0m\u001B[34m*\u001B[0m\u001B[34m*\u001B[0m\u001B[34m*\u001B[0m\u001B[34m*\u001B[0m\u001B[34m*\u001B[0m\u001B[34m*\u001B[0m\u001B[34m*\u001B[0m\u001B[34m*\u001B[0m\u001B[34m*\u001B[0m\u001B[34m*\u001B[0m\u001B[34m*\u001B[0m\u001B[34m*\u001B[0m\u001B[34m*\u001B[0m\u001B[34m*\u001B[0m\u001B[34m*\u001B[0m\u001B[34m*\u001B[0m\u001B[34m*\u001B[0m\u001B[34m*\u001B[0m\u001B[34m*\u001B[0m\u001B[34m*\u001B[0m\u001B[34m*\u001B[0m\u001B[34m*\u001B[0m\u001B[34m*\u001B[0m\u001B[34m*\u001B[0m\u001B[34m*\u001B[0m\u001B[34m*\u001B[0m\u001B[34m*\u001B[0m\u001B[34m*\u001B[0m\u001B[34m*\u001B[0m\u001B[34m*\u001B[0m\u001B[34m*\u001B[0m\u001B[34m*\u001B[0m\u001B[34m*\u001B[0m\u001B[34m*\u001B[0m\u001B[34m*\u001B[0m\u001B[34m*\u001B[0m\u001B[34m*\u001B[0m\u001B[34m*\u001B[0m\u001B[34m*\u001B[0m\u001B[34m*\u001B[0m\u001B[34m*\u001B[0m\u001B[34m*\u001B[0m\u001B[34m*\u001B[0m\u001B[34m*\u001B[0m\u001B[34m*\u001B[0m\u001B[34m*\u001B[0m\u001B[34m*\u001B[0m\u001B[34m*\u001B[0m\u001B[34m*\u001B[0m\u001B[34m*\u001B[0m\u001B[34m*\u001B[0m\u001B[34m*\u001B[0m\u001B[34m*\u001B[0m\u001B[34m*\u001B[0m\u001B[34m*\u001B[0m\u001B[34m*\u001B[0m\u001B[34m*\u001B[0m\u001B[34m*\u001B[0m\u001B[34m*\u001B[0m\u001B[34m*\u001B[0m\u001B[34m*\u001B[0m\u001B[34m*\u001B[0m\u001B[34m*\u001B[0m\u001B[34m*\u001B[0m\u001B[34m*\u001B[0m\u001B[34m*\u001B[0m\u001B[34m*\u001B[0m\u001B[34m*\u001B[0m\u001B[34m*\u001B[0m\u001B[34m*\u001B[0m\u001B[34m*\u001B[0m\u001B[34m*\u001B[0m\u001B[34m*\u001B[0m\u001B[34m*\u001B[0m\u001B[34m*\u001B[0m\u001B[34m*\u001B[0m\u001B[34m*\u001B[0m\u001B[34m*\u001B[0m\u001B[34m*\u001B[0m\u001B[34m*\u001B[0m\u001B[34m*\u001B[0m\u001B[34m*\u001B[0m\u001B[34m*\u001B[0m\u001B[34m*\u001B[0m\u001B[34m*\u001B[0m\u001B[34m*\u001B[0m\u001B[34m*\u001B[0m\u001B[34m*\u001B[0m\u001B[34m*\u001B[0m\u001B[34m*\u001B[0m\n",
      "\u001B[32m** Rozwiązanie ********************************************************************************\u001B[0m\n"
     ]
    },
    {
     "data": {
      "text/plain": [
       "<IPython.core.display.Latex object>"
      ],
      "text/latex": "$$\\Delta = -8-6i, \\quad \\sqrt{\\Delta}=\\pm( 1 - 3 i) \\quad z_{1}=2 - 2 i \\quad z_{2}=3 - i$$"
     },
     "metadata": {},
     "output_type": "display_data"
    },
    {
     "name": "stdout",
     "output_type": "stream",
     "text": [
      "\u001B[32m*\u001B[0m\u001B[32m*\u001B[0m\u001B[32m*\u001B[0m\u001B[32m*\u001B[0m\u001B[32m*\u001B[0m\u001B[32m*\u001B[0m\u001B[32m*\u001B[0m\u001B[32m*\u001B[0m\u001B[32m*\u001B[0m\u001B[32m*\u001B[0m\u001B[32m*\u001B[0m\u001B[32m*\u001B[0m\u001B[32m*\u001B[0m\u001B[32m*\u001B[0m\u001B[32m*\u001B[0m\u001B[32m*\u001B[0m\u001B[32m*\u001B[0m\u001B[32m*\u001B[0m\u001B[32m*\u001B[0m\u001B[32m*\u001B[0m\u001B[32m*\u001B[0m\u001B[32m*\u001B[0m\u001B[32m*\u001B[0m\u001B[32m*\u001B[0m\u001B[32m*\u001B[0m\u001B[32m*\u001B[0m\u001B[32m*\u001B[0m\u001B[32m*\u001B[0m\u001B[32m*\u001B[0m\u001B[32m*\u001B[0m\u001B[32m*\u001B[0m\u001B[32m*\u001B[0m\u001B[32m*\u001B[0m\u001B[32m*\u001B[0m\u001B[32m*\u001B[0m\u001B[32m*\u001B[0m\u001B[32m*\u001B[0m\u001B[32m*\u001B[0m\u001B[32m*\u001B[0m\u001B[32m*\u001B[0m\u001B[32m*\u001B[0m\u001B[32m*\u001B[0m\u001B[32m*\u001B[0m\u001B[32m*\u001B[0m\u001B[32m*\u001B[0m\u001B[32m*\u001B[0m\u001B[32m*\u001B[0m\u001B[32m*\u001B[0m\u001B[32m*\u001B[0m\u001B[32m*\u001B[0m\u001B[32m*\u001B[0m\u001B[32m*\u001B[0m\u001B[32m*\u001B[0m\u001B[32m*\u001B[0m\u001B[32m*\u001B[0m\u001B[32m*\u001B[0m\u001B[32m*\u001B[0m\u001B[32m*\u001B[0m\u001B[32m*\u001B[0m\u001B[32m*\u001B[0m\u001B[32m*\u001B[0m\u001B[32m*\u001B[0m\u001B[32m*\u001B[0m\u001B[32m*\u001B[0m\u001B[32m*\u001B[0m\u001B[32m*\u001B[0m\u001B[32m*\u001B[0m\u001B[32m*\u001B[0m\u001B[32m*\u001B[0m\u001B[32m*\u001B[0m\u001B[32m*\u001B[0m\u001B[32m*\u001B[0m\u001B[32m*\u001B[0m\u001B[32m*\u001B[0m\u001B[32m*\u001B[0m\u001B[32m*\u001B[0m\u001B[32m*\u001B[0m\u001B[32m*\u001B[0m\u001B[32m*\u001B[0m\u001B[32m*\u001B[0m\u001B[32m*\u001B[0m\u001B[32m*\u001B[0m\u001B[32m*\u001B[0m\u001B[32m*\u001B[0m\u001B[32m*\u001B[0m\u001B[32m*\u001B[0m\u001B[32m*\u001B[0m\u001B[32m*\u001B[0m\u001B[32m*\u001B[0m\u001B[32m*\u001B[0m\u001B[32m*\u001B[0m\u001B[32m*\u001B[0m\u001B[32m*\u001B[0m\u001B[32m*\u001B[0m\u001B[32m*\u001B[0m\n",
      "\u001B[34m** Zadanie 7 **********************************************************************************\u001B[0m\n"
     ]
    },
    {
     "data": {
      "text/plain": [
       "<IPython.core.display.Markdown object>"
      ],
      "text/markdown": "Rozwiązać równanie w zbiorze liczb zespolonych. Sprawdzić jedno z rozwiązań."
     },
     "metadata": {},
     "output_type": "display_data"
    },
    {
     "data": {
      "text/plain": [
       "<IPython.core.display.Latex object>"
      ],
      "text/latex": "\n\t\\[\n\t\t\\left(3 - 2 i\\right)z^2 + \\left(12 + 5 i\\right) z + \\left(3 + 11 i\\right)=0\n\t\\]"
     },
     "metadata": {},
     "output_type": "display_data"
    },
    {
     "name": "stdout",
     "output_type": "stream",
     "text": [
      "\u001B[34m*\u001B[0m\u001B[34m*\u001B[0m\u001B[34m*\u001B[0m\u001B[34m*\u001B[0m\u001B[34m*\u001B[0m\u001B[34m*\u001B[0m\u001B[34m*\u001B[0m\u001B[34m*\u001B[0m\u001B[34m*\u001B[0m\u001B[34m*\u001B[0m\u001B[34m*\u001B[0m\u001B[34m*\u001B[0m\u001B[34m*\u001B[0m\u001B[34m*\u001B[0m\u001B[34m*\u001B[0m\u001B[34m*\u001B[0m\u001B[34m*\u001B[0m\u001B[34m*\u001B[0m\u001B[34m*\u001B[0m\u001B[34m*\u001B[0m\u001B[34m*\u001B[0m\u001B[34m*\u001B[0m\u001B[34m*\u001B[0m\u001B[34m*\u001B[0m\u001B[34m*\u001B[0m\u001B[34m*\u001B[0m\u001B[34m*\u001B[0m\u001B[34m*\u001B[0m\u001B[34m*\u001B[0m\u001B[34m*\u001B[0m\u001B[34m*\u001B[0m\u001B[34m*\u001B[0m\u001B[34m*\u001B[0m\u001B[34m*\u001B[0m\u001B[34m*\u001B[0m\u001B[34m*\u001B[0m\u001B[34m*\u001B[0m\u001B[34m*\u001B[0m\u001B[34m*\u001B[0m\u001B[34m*\u001B[0m\u001B[34m*\u001B[0m\u001B[34m*\u001B[0m\u001B[34m*\u001B[0m\u001B[34m*\u001B[0m\u001B[34m*\u001B[0m\u001B[34m*\u001B[0m\u001B[34m*\u001B[0m\u001B[34m*\u001B[0m\u001B[34m*\u001B[0m\u001B[34m*\u001B[0m\u001B[34m*\u001B[0m\u001B[34m*\u001B[0m\u001B[34m*\u001B[0m\u001B[34m*\u001B[0m\u001B[34m*\u001B[0m\u001B[34m*\u001B[0m\u001B[34m*\u001B[0m\u001B[34m*\u001B[0m\u001B[34m*\u001B[0m\u001B[34m*\u001B[0m\u001B[34m*\u001B[0m\u001B[34m*\u001B[0m\u001B[34m*\u001B[0m\u001B[34m*\u001B[0m\u001B[34m*\u001B[0m\u001B[34m*\u001B[0m\u001B[34m*\u001B[0m\u001B[34m*\u001B[0m\u001B[34m*\u001B[0m\u001B[34m*\u001B[0m\u001B[34m*\u001B[0m\u001B[34m*\u001B[0m\u001B[34m*\u001B[0m\u001B[34m*\u001B[0m\u001B[34m*\u001B[0m\u001B[34m*\u001B[0m\u001B[34m*\u001B[0m\u001B[34m*\u001B[0m\u001B[34m*\u001B[0m\u001B[34m*\u001B[0m\u001B[34m*\u001B[0m\u001B[34m*\u001B[0m\u001B[34m*\u001B[0m\u001B[34m*\u001B[0m\u001B[34m*\u001B[0m\u001B[34m*\u001B[0m\u001B[34m*\u001B[0m\u001B[34m*\u001B[0m\u001B[34m*\u001B[0m\u001B[34m*\u001B[0m\u001B[34m*\u001B[0m\u001B[34m*\u001B[0m\u001B[34m*\u001B[0m\u001B[34m*\u001B[0m\u001B[34m*\u001B[0m\n",
      "\u001B[32m** Rozwiązanie ********************************************************************************\u001B[0m\n"
     ]
    },
    {
     "data": {
      "text/plain": [
       "<IPython.core.display.Latex object>"
      ],
      "text/latex": "$$\\Delta = -5+12i, \\quad \\sqrt{\\Delta}=\\pm( 2 + 3 i) \\quad z_{1}=-1 - 2 i \\quad z_{2}=-1 - i$$"
     },
     "metadata": {},
     "output_type": "display_data"
    },
    {
     "name": "stdout",
     "output_type": "stream",
     "text": [
      "\u001B[32m*\u001B[0m\u001B[32m*\u001B[0m\u001B[32m*\u001B[0m\u001B[32m*\u001B[0m\u001B[32m*\u001B[0m\u001B[32m*\u001B[0m\u001B[32m*\u001B[0m\u001B[32m*\u001B[0m\u001B[32m*\u001B[0m\u001B[32m*\u001B[0m\u001B[32m*\u001B[0m\u001B[32m*\u001B[0m\u001B[32m*\u001B[0m\u001B[32m*\u001B[0m\u001B[32m*\u001B[0m\u001B[32m*\u001B[0m\u001B[32m*\u001B[0m\u001B[32m*\u001B[0m\u001B[32m*\u001B[0m\u001B[32m*\u001B[0m\u001B[32m*\u001B[0m\u001B[32m*\u001B[0m\u001B[32m*\u001B[0m\u001B[32m*\u001B[0m\u001B[32m*\u001B[0m\u001B[32m*\u001B[0m\u001B[32m*\u001B[0m\u001B[32m*\u001B[0m\u001B[32m*\u001B[0m\u001B[32m*\u001B[0m\u001B[32m*\u001B[0m\u001B[32m*\u001B[0m\u001B[32m*\u001B[0m\u001B[32m*\u001B[0m\u001B[32m*\u001B[0m\u001B[32m*\u001B[0m\u001B[32m*\u001B[0m\u001B[32m*\u001B[0m\u001B[32m*\u001B[0m\u001B[32m*\u001B[0m\u001B[32m*\u001B[0m\u001B[32m*\u001B[0m\u001B[32m*\u001B[0m\u001B[32m*\u001B[0m\u001B[32m*\u001B[0m\u001B[32m*\u001B[0m\u001B[32m*\u001B[0m\u001B[32m*\u001B[0m\u001B[32m*\u001B[0m\u001B[32m*\u001B[0m\u001B[32m*\u001B[0m\u001B[32m*\u001B[0m\u001B[32m*\u001B[0m\u001B[32m*\u001B[0m\u001B[32m*\u001B[0m\u001B[32m*\u001B[0m\u001B[32m*\u001B[0m\u001B[32m*\u001B[0m\u001B[32m*\u001B[0m\u001B[32m*\u001B[0m\u001B[32m*\u001B[0m\u001B[32m*\u001B[0m\u001B[32m*\u001B[0m\u001B[32m*\u001B[0m\u001B[32m*\u001B[0m\u001B[32m*\u001B[0m\u001B[32m*\u001B[0m\u001B[32m*\u001B[0m\u001B[32m*\u001B[0m\u001B[32m*\u001B[0m\u001B[32m*\u001B[0m\u001B[32m*\u001B[0m\u001B[32m*\u001B[0m\u001B[32m*\u001B[0m\u001B[32m*\u001B[0m\u001B[32m*\u001B[0m\u001B[32m*\u001B[0m\u001B[32m*\u001B[0m\u001B[32m*\u001B[0m\u001B[32m*\u001B[0m\u001B[32m*\u001B[0m\u001B[32m*\u001B[0m\u001B[32m*\u001B[0m\u001B[32m*\u001B[0m\u001B[32m*\u001B[0m\u001B[32m*\u001B[0m\u001B[32m*\u001B[0m\u001B[32m*\u001B[0m\u001B[32m*\u001B[0m\u001B[32m*\u001B[0m\u001B[32m*\u001B[0m\u001B[32m*\u001B[0m\u001B[32m*\u001B[0m\u001B[32m*\u001B[0m\u001B[32m*\u001B[0m\n",
      "\u001B[34m** Zadanie 8 **********************************************************************************\u001B[0m\n"
     ]
    },
    {
     "data": {
      "text/plain": [
       "<IPython.core.display.Markdown object>"
      ],
      "text/markdown": "Rozwiązać równanie w zbiorze liczb zespolonych. Sprawdzić jedno z rozwiązań."
     },
     "metadata": {},
     "output_type": "display_data"
    },
    {
     "data": {
      "text/plain": [
       "<IPython.core.display.Latex object>"
      ],
      "text/latex": "\n\t\\[\n\t\t\\left(2 - i\\right)z^2 + \\left(11 + 7 i\\right) z + \\left(-1 + 18 i\\right)=0\n\t\\]"
     },
     "metadata": {},
     "output_type": "display_data"
    },
    {
     "name": "stdout",
     "output_type": "stream",
     "text": [
      "\u001B[34m*\u001B[0m\u001B[34m*\u001B[0m\u001B[34m*\u001B[0m\u001B[34m*\u001B[0m\u001B[34m*\u001B[0m\u001B[34m*\u001B[0m\u001B[34m*\u001B[0m\u001B[34m*\u001B[0m\u001B[34m*\u001B[0m\u001B[34m*\u001B[0m\u001B[34m*\u001B[0m\u001B[34m*\u001B[0m\u001B[34m*\u001B[0m\u001B[34m*\u001B[0m\u001B[34m*\u001B[0m\u001B[34m*\u001B[0m\u001B[34m*\u001B[0m\u001B[34m*\u001B[0m\u001B[34m*\u001B[0m\u001B[34m*\u001B[0m\u001B[34m*\u001B[0m\u001B[34m*\u001B[0m\u001B[34m*\u001B[0m\u001B[34m*\u001B[0m\u001B[34m*\u001B[0m\u001B[34m*\u001B[0m\u001B[34m*\u001B[0m\u001B[34m*\u001B[0m\u001B[34m*\u001B[0m\u001B[34m*\u001B[0m\u001B[34m*\u001B[0m\u001B[34m*\u001B[0m\u001B[34m*\u001B[0m\u001B[34m*\u001B[0m\u001B[34m*\u001B[0m\u001B[34m*\u001B[0m\u001B[34m*\u001B[0m\u001B[34m*\u001B[0m\u001B[34m*\u001B[0m\u001B[34m*\u001B[0m\u001B[34m*\u001B[0m\u001B[34m*\u001B[0m\u001B[34m*\u001B[0m\u001B[34m*\u001B[0m\u001B[34m*\u001B[0m\u001B[34m*\u001B[0m\u001B[34m*\u001B[0m\u001B[34m*\u001B[0m\u001B[34m*\u001B[0m\u001B[34m*\u001B[0m\u001B[34m*\u001B[0m\u001B[34m*\u001B[0m\u001B[34m*\u001B[0m\u001B[34m*\u001B[0m\u001B[34m*\u001B[0m\u001B[34m*\u001B[0m\u001B[34m*\u001B[0m\u001B[34m*\u001B[0m\u001B[34m*\u001B[0m\u001B[34m*\u001B[0m\u001B[34m*\u001B[0m\u001B[34m*\u001B[0m\u001B[34m*\u001B[0m\u001B[34m*\u001B[0m\u001B[34m*\u001B[0m\u001B[34m*\u001B[0m\u001B[34m*\u001B[0m\u001B[34m*\u001B[0m\u001B[34m*\u001B[0m\u001B[34m*\u001B[0m\u001B[34m*\u001B[0m\u001B[34m*\u001B[0m\u001B[34m*\u001B[0m\u001B[34m*\u001B[0m\u001B[34m*\u001B[0m\u001B[34m*\u001B[0m\u001B[34m*\u001B[0m\u001B[34m*\u001B[0m\u001B[34m*\u001B[0m\u001B[34m*\u001B[0m\u001B[34m*\u001B[0m\u001B[34m*\u001B[0m\u001B[34m*\u001B[0m\u001B[34m*\u001B[0m\u001B[34m*\u001B[0m\u001B[34m*\u001B[0m\u001B[34m*\u001B[0m\u001B[34m*\u001B[0m\u001B[34m*\u001B[0m\u001B[34m*\u001B[0m\u001B[34m*\u001B[0m\u001B[34m*\u001B[0m\u001B[34m*\u001B[0m\u001B[34m*\u001B[0m\u001B[34m*\u001B[0m\n",
      "\u001B[32m** Rozwiązanie ********************************************************************************\u001B[0m\n"
     ]
    },
    {
     "data": {
      "text/plain": [
       "<IPython.core.display.Latex object>"
      ],
      "text/latex": "$$\\Delta = 8+6i, \\quad \\sqrt{\\Delta}=\\pm( 3 + i) \\quad z_{1}=-2 - 3 i \\quad z_{2}=-1 - 2 i$$"
     },
     "metadata": {},
     "output_type": "display_data"
    },
    {
     "name": "stdout",
     "output_type": "stream",
     "text": [
      "\u001B[32m*\u001B[0m\u001B[32m*\u001B[0m\u001B[32m*\u001B[0m\u001B[32m*\u001B[0m\u001B[32m*\u001B[0m\u001B[32m*\u001B[0m\u001B[32m*\u001B[0m\u001B[32m*\u001B[0m\u001B[32m*\u001B[0m\u001B[32m*\u001B[0m\u001B[32m*\u001B[0m\u001B[32m*\u001B[0m\u001B[32m*\u001B[0m\u001B[32m*\u001B[0m\u001B[32m*\u001B[0m\u001B[32m*\u001B[0m\u001B[32m*\u001B[0m\u001B[32m*\u001B[0m\u001B[32m*\u001B[0m\u001B[32m*\u001B[0m\u001B[32m*\u001B[0m\u001B[32m*\u001B[0m\u001B[32m*\u001B[0m\u001B[32m*\u001B[0m\u001B[32m*\u001B[0m\u001B[32m*\u001B[0m\u001B[32m*\u001B[0m\u001B[32m*\u001B[0m\u001B[32m*\u001B[0m\u001B[32m*\u001B[0m\u001B[32m*\u001B[0m\u001B[32m*\u001B[0m\u001B[32m*\u001B[0m\u001B[32m*\u001B[0m\u001B[32m*\u001B[0m\u001B[32m*\u001B[0m\u001B[32m*\u001B[0m\u001B[32m*\u001B[0m\u001B[32m*\u001B[0m\u001B[32m*\u001B[0m\u001B[32m*\u001B[0m\u001B[32m*\u001B[0m\u001B[32m*\u001B[0m\u001B[32m*\u001B[0m\u001B[32m*\u001B[0m\u001B[32m*\u001B[0m\u001B[32m*\u001B[0m\u001B[32m*\u001B[0m\u001B[32m*\u001B[0m\u001B[32m*\u001B[0m\u001B[32m*\u001B[0m\u001B[32m*\u001B[0m\u001B[32m*\u001B[0m\u001B[32m*\u001B[0m\u001B[32m*\u001B[0m\u001B[32m*\u001B[0m\u001B[32m*\u001B[0m\u001B[32m*\u001B[0m\u001B[32m*\u001B[0m\u001B[32m*\u001B[0m\u001B[32m*\u001B[0m\u001B[32m*\u001B[0m\u001B[32m*\u001B[0m\u001B[32m*\u001B[0m\u001B[32m*\u001B[0m\u001B[32m*\u001B[0m\u001B[32m*\u001B[0m\u001B[32m*\u001B[0m\u001B[32m*\u001B[0m\u001B[32m*\u001B[0m\u001B[32m*\u001B[0m\u001B[32m*\u001B[0m\u001B[32m*\u001B[0m\u001B[32m*\u001B[0m\u001B[32m*\u001B[0m\u001B[32m*\u001B[0m\u001B[32m*\u001B[0m\u001B[32m*\u001B[0m\u001B[32m*\u001B[0m\u001B[32m*\u001B[0m\u001B[32m*\u001B[0m\u001B[32m*\u001B[0m\u001B[32m*\u001B[0m\u001B[32m*\u001B[0m\u001B[32m*\u001B[0m\u001B[32m*\u001B[0m\u001B[32m*\u001B[0m\u001B[32m*\u001B[0m\u001B[32m*\u001B[0m\u001B[32m*\u001B[0m\u001B[32m*\u001B[0m\u001B[32m*\u001B[0m\u001B[32m*\u001B[0m\u001B[32m*\u001B[0m\u001B[32m*\u001B[0m\n",
      "\u001B[34m** Zadanie 9 **********************************************************************************\u001B[0m\n"
     ]
    },
    {
     "data": {
      "text/plain": [
       "<IPython.core.display.Markdown object>"
      ],
      "text/markdown": "Rozwiązać równanie w zbiorze liczb zespolonych. Sprawdzić jedno z rozwiązań."
     },
     "metadata": {},
     "output_type": "display_data"
    },
    {
     "data": {
      "text/plain": [
       "<IPython.core.display.Latex object>"
      ],
      "text/latex": "\n\t\\[\n\t\t\\left(1 - i\\right)z^2 + \\left(9 - 3 i\\right) z + \\left(14 + 2 i\\right)=0\n\t\\]"
     },
     "metadata": {},
     "output_type": "display_data"
    },
    {
     "name": "stdout",
     "output_type": "stream",
     "text": [
      "\u001B[34m*\u001B[0m\u001B[34m*\u001B[0m\u001B[34m*\u001B[0m\u001B[34m*\u001B[0m\u001B[34m*\u001B[0m\u001B[34m*\u001B[0m\u001B[34m*\u001B[0m\u001B[34m*\u001B[0m\u001B[34m*\u001B[0m\u001B[34m*\u001B[0m\u001B[34m*\u001B[0m\u001B[34m*\u001B[0m\u001B[34m*\u001B[0m\u001B[34m*\u001B[0m\u001B[34m*\u001B[0m\u001B[34m*\u001B[0m\u001B[34m*\u001B[0m\u001B[34m*\u001B[0m\u001B[34m*\u001B[0m\u001B[34m*\u001B[0m\u001B[34m*\u001B[0m\u001B[34m*\u001B[0m\u001B[34m*\u001B[0m\u001B[34m*\u001B[0m\u001B[34m*\u001B[0m\u001B[34m*\u001B[0m\u001B[34m*\u001B[0m\u001B[34m*\u001B[0m\u001B[34m*\u001B[0m\u001B[34m*\u001B[0m\u001B[34m*\u001B[0m\u001B[34m*\u001B[0m\u001B[34m*\u001B[0m\u001B[34m*\u001B[0m\u001B[34m*\u001B[0m\u001B[34m*\u001B[0m\u001B[34m*\u001B[0m\u001B[34m*\u001B[0m\u001B[34m*\u001B[0m\u001B[34m*\u001B[0m\u001B[34m*\u001B[0m\u001B[34m*\u001B[0m\u001B[34m*\u001B[0m\u001B[34m*\u001B[0m\u001B[34m*\u001B[0m\u001B[34m*\u001B[0m\u001B[34m*\u001B[0m\u001B[34m*\u001B[0m\u001B[34m*\u001B[0m\u001B[34m*\u001B[0m\u001B[34m*\u001B[0m\u001B[34m*\u001B[0m\u001B[34m*\u001B[0m\u001B[34m*\u001B[0m\u001B[34m*\u001B[0m\u001B[34m*\u001B[0m\u001B[34m*\u001B[0m\u001B[34m*\u001B[0m\u001B[34m*\u001B[0m\u001B[34m*\u001B[0m\u001B[34m*\u001B[0m\u001B[34m*\u001B[0m\u001B[34m*\u001B[0m\u001B[34m*\u001B[0m\u001B[34m*\u001B[0m\u001B[34m*\u001B[0m\u001B[34m*\u001B[0m\u001B[34m*\u001B[0m\u001B[34m*\u001B[0m\u001B[34m*\u001B[0m\u001B[34m*\u001B[0m\u001B[34m*\u001B[0m\u001B[34m*\u001B[0m\u001B[34m*\u001B[0m\u001B[34m*\u001B[0m\u001B[34m*\u001B[0m\u001B[34m*\u001B[0m\u001B[34m*\u001B[0m\u001B[34m*\u001B[0m\u001B[34m*\u001B[0m\u001B[34m*\u001B[0m\u001B[34m*\u001B[0m\u001B[34m*\u001B[0m\u001B[34m*\u001B[0m\u001B[34m*\u001B[0m\u001B[34m*\u001B[0m\u001B[34m*\u001B[0m\u001B[34m*\u001B[0m\u001B[34m*\u001B[0m\u001B[34m*\u001B[0m\u001B[34m*\u001B[0m\u001B[34m*\u001B[0m\u001B[34m*\u001B[0m\u001B[34m*\u001B[0m\u001B[34m*\u001B[0m\n",
      "\u001B[32m** Rozwiązanie ********************************************************************************\u001B[0m\n"
     ]
    },
    {
     "data": {
      "text/plain": [
       "<IPython.core.display.Latex object>"
      ],
      "text/latex": "$$\\Delta = 8-6i, \\quad \\sqrt{\\Delta}=\\pm( 3 - i) \\quad z_{1}=-4 - 2 i \\quad z_{2}=-2 - i$$"
     },
     "metadata": {},
     "output_type": "display_data"
    },
    {
     "name": "stdout",
     "output_type": "stream",
     "text": [
      "\u001B[32m*\u001B[0m\u001B[32m*\u001B[0m\u001B[32m*\u001B[0m\u001B[32m*\u001B[0m\u001B[32m*\u001B[0m\u001B[32m*\u001B[0m\u001B[32m*\u001B[0m\u001B[32m*\u001B[0m\u001B[32m*\u001B[0m\u001B[32m*\u001B[0m\u001B[32m*\u001B[0m\u001B[32m*\u001B[0m\u001B[32m*\u001B[0m\u001B[32m*\u001B[0m\u001B[32m*\u001B[0m\u001B[32m*\u001B[0m\u001B[32m*\u001B[0m\u001B[32m*\u001B[0m\u001B[32m*\u001B[0m\u001B[32m*\u001B[0m\u001B[32m*\u001B[0m\u001B[32m*\u001B[0m\u001B[32m*\u001B[0m\u001B[32m*\u001B[0m\u001B[32m*\u001B[0m\u001B[32m*\u001B[0m\u001B[32m*\u001B[0m\u001B[32m*\u001B[0m\u001B[32m*\u001B[0m\u001B[32m*\u001B[0m\u001B[32m*\u001B[0m\u001B[32m*\u001B[0m\u001B[32m*\u001B[0m\u001B[32m*\u001B[0m\u001B[32m*\u001B[0m\u001B[32m*\u001B[0m\u001B[32m*\u001B[0m\u001B[32m*\u001B[0m\u001B[32m*\u001B[0m\u001B[32m*\u001B[0m\u001B[32m*\u001B[0m\u001B[32m*\u001B[0m\u001B[32m*\u001B[0m\u001B[32m*\u001B[0m\u001B[32m*\u001B[0m\u001B[32m*\u001B[0m\u001B[32m*\u001B[0m\u001B[32m*\u001B[0m\u001B[32m*\u001B[0m\u001B[32m*\u001B[0m\u001B[32m*\u001B[0m\u001B[32m*\u001B[0m\u001B[32m*\u001B[0m\u001B[32m*\u001B[0m\u001B[32m*\u001B[0m\u001B[32m*\u001B[0m\u001B[32m*\u001B[0m\u001B[32m*\u001B[0m\u001B[32m*\u001B[0m\u001B[32m*\u001B[0m\u001B[32m*\u001B[0m\u001B[32m*\u001B[0m\u001B[32m*\u001B[0m\u001B[32m*\u001B[0m\u001B[32m*\u001B[0m\u001B[32m*\u001B[0m\u001B[32m*\u001B[0m\u001B[32m*\u001B[0m\u001B[32m*\u001B[0m\u001B[32m*\u001B[0m\u001B[32m*\u001B[0m\u001B[32m*\u001B[0m\u001B[32m*\u001B[0m\u001B[32m*\u001B[0m\u001B[32m*\u001B[0m\u001B[32m*\u001B[0m\u001B[32m*\u001B[0m\u001B[32m*\u001B[0m\u001B[32m*\u001B[0m\u001B[32m*\u001B[0m\u001B[32m*\u001B[0m\u001B[32m*\u001B[0m\u001B[32m*\u001B[0m\u001B[32m*\u001B[0m\u001B[32m*\u001B[0m\u001B[32m*\u001B[0m\u001B[32m*\u001B[0m\u001B[32m*\u001B[0m\u001B[32m*\u001B[0m\u001B[32m*\u001B[0m\u001B[32m*\u001B[0m\u001B[32m*\u001B[0m\u001B[32m*\u001B[0m\u001B[32m*\u001B[0m\u001B[32m*\u001B[0m\n",
      "\u001B[34m** Zadanie 10 **********************************************************************************\u001B[0m\n"
     ]
    },
    {
     "data": {
      "text/plain": [
       "<IPython.core.display.Markdown object>"
      ],
      "text/markdown": "Rozwiązać równanie w zbiorze liczb zespolonych. Sprawdzić jedno z rozwiązań."
     },
     "metadata": {},
     "output_type": "display_data"
    },
    {
     "data": {
      "text/plain": [
       "<IPython.core.display.Latex object>"
      ],
      "text/latex": "\n\t\\[\n\t\t\\left(1 - i\\right)z^2 + \\left(13 + i\\right) z + \\left(18 + 26 i\\right)=0\n\t\\]"
     },
     "metadata": {},
     "output_type": "display_data"
    },
    {
     "name": "stdout",
     "output_type": "stream",
     "text": [
      "\u001B[34m*\u001B[0m\u001B[34m*\u001B[0m\u001B[34m*\u001B[0m\u001B[34m*\u001B[0m\u001B[34m*\u001B[0m\u001B[34m*\u001B[0m\u001B[34m*\u001B[0m\u001B[34m*\u001B[0m\u001B[34m*\u001B[0m\u001B[34m*\u001B[0m\u001B[34m*\u001B[0m\u001B[34m*\u001B[0m\u001B[34m*\u001B[0m\u001B[34m*\u001B[0m\u001B[34m*\u001B[0m\u001B[34m*\u001B[0m\u001B[34m*\u001B[0m\u001B[34m*\u001B[0m\u001B[34m*\u001B[0m\u001B[34m*\u001B[0m\u001B[34m*\u001B[0m\u001B[34m*\u001B[0m\u001B[34m*\u001B[0m\u001B[34m*\u001B[0m\u001B[34m*\u001B[0m\u001B[34m*\u001B[0m\u001B[34m*\u001B[0m\u001B[34m*\u001B[0m\u001B[34m*\u001B[0m\u001B[34m*\u001B[0m\u001B[34m*\u001B[0m\u001B[34m*\u001B[0m\u001B[34m*\u001B[0m\u001B[34m*\u001B[0m\u001B[34m*\u001B[0m\u001B[34m*\u001B[0m\u001B[34m*\u001B[0m\u001B[34m*\u001B[0m\u001B[34m*\u001B[0m\u001B[34m*\u001B[0m\u001B[34m*\u001B[0m\u001B[34m*\u001B[0m\u001B[34m*\u001B[0m\u001B[34m*\u001B[0m\u001B[34m*\u001B[0m\u001B[34m*\u001B[0m\u001B[34m*\u001B[0m\u001B[34m*\u001B[0m\u001B[34m*\u001B[0m\u001B[34m*\u001B[0m\u001B[34m*\u001B[0m\u001B[34m*\u001B[0m\u001B[34m*\u001B[0m\u001B[34m*\u001B[0m\u001B[34m*\u001B[0m\u001B[34m*\u001B[0m\u001B[34m*\u001B[0m\u001B[34m*\u001B[0m\u001B[34m*\u001B[0m\u001B[34m*\u001B[0m\u001B[34m*\u001B[0m\u001B[34m*\u001B[0m\u001B[34m*\u001B[0m\u001B[34m*\u001B[0m\u001B[34m*\u001B[0m\u001B[34m*\u001B[0m\u001B[34m*\u001B[0m\u001B[34m*\u001B[0m\u001B[34m*\u001B[0m\u001B[34m*\u001B[0m\u001B[34m*\u001B[0m\u001B[34m*\u001B[0m\u001B[34m*\u001B[0m\u001B[34m*\u001B[0m\u001B[34m*\u001B[0m\u001B[34m*\u001B[0m\u001B[34m*\u001B[0m\u001B[34m*\u001B[0m\u001B[34m*\u001B[0m\u001B[34m*\u001B[0m\u001B[34m*\u001B[0m\u001B[34m*\u001B[0m\u001B[34m*\u001B[0m\u001B[34m*\u001B[0m\u001B[34m*\u001B[0m\u001B[34m*\u001B[0m\u001B[34m*\u001B[0m\u001B[34m*\u001B[0m\u001B[34m*\u001B[0m\u001B[34m*\u001B[0m\u001B[34m*\u001B[0m\u001B[34m*\u001B[0m\u001B[34m*\u001B[0m\u001B[34m*\u001B[0m\u001B[34m*\u001B[0m\n",
      "\u001B[32m** Rozwiązanie ********************************************************************************\u001B[0m\n"
     ]
    },
    {
     "data": {
      "text/plain": [
       "<IPython.core.display.Latex object>"
      ],
      "text/latex": "$$\\Delta = -8-6i, \\quad \\sqrt{\\Delta}=\\pm( 1 - 3 i) \\quad z_{1}=-4 - 3 i \\quad z_{2}=-2 - 4 i$$"
     },
     "metadata": {},
     "output_type": "display_data"
    },
    {
     "name": "stdout",
     "output_type": "stream",
     "text": [
      "\u001B[32m*\u001B[0m\u001B[32m*\u001B[0m\u001B[32m*\u001B[0m\u001B[32m*\u001B[0m\u001B[32m*\u001B[0m\u001B[32m*\u001B[0m\u001B[32m*\u001B[0m\u001B[32m*\u001B[0m\u001B[32m*\u001B[0m\u001B[32m*\u001B[0m\u001B[32m*\u001B[0m\u001B[32m*\u001B[0m\u001B[32m*\u001B[0m\u001B[32m*\u001B[0m\u001B[32m*\u001B[0m\u001B[32m*\u001B[0m\u001B[32m*\u001B[0m\u001B[32m*\u001B[0m\u001B[32m*\u001B[0m\u001B[32m*\u001B[0m\u001B[32m*\u001B[0m\u001B[32m*\u001B[0m\u001B[32m*\u001B[0m\u001B[32m*\u001B[0m\u001B[32m*\u001B[0m\u001B[32m*\u001B[0m\u001B[32m*\u001B[0m\u001B[32m*\u001B[0m\u001B[32m*\u001B[0m\u001B[32m*\u001B[0m\u001B[32m*\u001B[0m\u001B[32m*\u001B[0m\u001B[32m*\u001B[0m\u001B[32m*\u001B[0m\u001B[32m*\u001B[0m\u001B[32m*\u001B[0m\u001B[32m*\u001B[0m\u001B[32m*\u001B[0m\u001B[32m*\u001B[0m\u001B[32m*\u001B[0m\u001B[32m*\u001B[0m\u001B[32m*\u001B[0m\u001B[32m*\u001B[0m\u001B[32m*\u001B[0m\u001B[32m*\u001B[0m\u001B[32m*\u001B[0m\u001B[32m*\u001B[0m\u001B[32m*\u001B[0m\u001B[32m*\u001B[0m\u001B[32m*\u001B[0m\u001B[32m*\u001B[0m\u001B[32m*\u001B[0m\u001B[32m*\u001B[0m\u001B[32m*\u001B[0m\u001B[32m*\u001B[0m\u001B[32m*\u001B[0m\u001B[32m*\u001B[0m\u001B[32m*\u001B[0m\u001B[32m*\u001B[0m\u001B[32m*\u001B[0m\u001B[32m*\u001B[0m\u001B[32m*\u001B[0m\u001B[32m*\u001B[0m\u001B[32m*\u001B[0m\u001B[32m*\u001B[0m\u001B[32m*\u001B[0m\u001B[32m*\u001B[0m\u001B[32m*\u001B[0m\u001B[32m*\u001B[0m\u001B[32m*\u001B[0m\u001B[32m*\u001B[0m\u001B[32m*\u001B[0m\u001B[32m*\u001B[0m\u001B[32m*\u001B[0m\u001B[32m*\u001B[0m\u001B[32m*\u001B[0m\u001B[32m*\u001B[0m\u001B[32m*\u001B[0m\u001B[32m*\u001B[0m\u001B[32m*\u001B[0m\u001B[32m*\u001B[0m\u001B[32m*\u001B[0m\u001B[32m*\u001B[0m\u001B[32m*\u001B[0m\u001B[32m*\u001B[0m\u001B[32m*\u001B[0m\u001B[32m*\u001B[0m\u001B[32m*\u001B[0m\u001B[32m*\u001B[0m\u001B[32m*\u001B[0m\u001B[32m*\u001B[0m\u001B[32m*\u001B[0m\u001B[32m*\u001B[0m\u001B[32m*\u001B[0m\u001B[32m*\u001B[0m\n"
     ]
    }
   ],
   "execution_count": 81
  },
  {
   "metadata": {
    "ExecuteTime": {
     "end_time": "2024-09-11T07:56:28.091477Z",
     "start_time": "2024-09-11T07:56:28.086040Z"
    }
   },
   "cell_type": "code",
   "source": [
    "# for i in range(1, ile_zadan_przykladowych + 1):\n",
    "#     z = gz.rownanie_kwadratowe()\n",
    "#     display(Markdown(f'{i}. ' + z[0].replace('\\[', '$$').replace('\\]', '$$').replace('\\\\ ', ' ')\n",
    "#                      + '  \\n'\n",
    "#                      + ' Rozwiązanie:'\n",
    "#                      + z[1].replace('$', '$$')))"
   ],
   "outputs": [],
   "execution_count": 74
  },
  {
   "metadata": {},
   "cell_type": "markdown",
   "source": "## Pierwiastek zespolony"
  },
  {
   "metadata": {
    "ExecuteTime": {
     "end_time": "2024-09-11T07:56:28.260104Z",
     "start_time": "2024-09-11T07:56:28.217922Z"
    }
   },
   "cell_type": "code",
   "source": [
    "zadanie = gz.pierwiastek_zespolony(stopien=choice([3, 4]))\n",
    "zadanie"
   ],
   "outputs": [
    {
     "data": {
      "text/plain": [
       "('Wyznaczyć wszystkie zadane pierwiastki zespolone i zaznaczyć je na płaszczyźnie zespolonej\\n\\t\\\\[\\n\\t\\t\\\\sqrt[\\\\leftroot{2}\\\\uproot{-4} \\\\displaystyle ^{4}]{\\\\left(- \\\\frac{1}{3} - \\\\frac{\\\\sqrt{5} i}{3} \\\\right) \\\\left(2 - 2 \\\\sqrt{5} i \\\\right)}\\n\\t\\\\]',\n",
       " '$\\\\sqrt[\\\\leftroot{2}\\\\uproot{-4} \\\\displaystyle ^{4}]{-4} = \\\\left\\\\{ -1 - i, \\\\  -1 + i, \\\\  1 - i, \\\\  1 + i\\\\right\\\\}.$')"
      ]
     },
     "execution_count": 75,
     "metadata": {},
     "output_type": "execute_result"
    }
   ],
   "execution_count": 75
  },
  {
   "metadata": {
    "ExecuteTime": {
     "end_time": "2024-09-11T07:56:28.367261Z",
     "start_time": "2024-09-11T07:56:28.360046Z"
    }
   },
   "cell_type": "code",
   "source": [
    "print(\"\\033[34m** Zadanie **\" + '*' * 81 + '\\033[0m')\n",
    "print(zadanie[0])\n",
    "print(\"\\033[34m*\\033[0m\" * 95)\n",
    "print(\"\\033[32m** Rozwiązanie **\" + '*' * 78 + '\\033[0m')\n",
    "print(zadanie[1])\n",
    "print(\"\\033[32m*\\033[0m\" * 95)"
   ],
   "outputs": [
    {
     "name": "stdout",
     "output_type": "stream",
     "text": [
      "\u001B[34m** Zadanie ***********************************************************************************\u001B[0m\n",
      "Wyznaczyć wszystkie zadane pierwiastki zespolone i zaznaczyć je na płaszczyźnie zespolonej\n",
      "\t\\[\n",
      "\t\t\\sqrt[\\leftroot{2}\\uproot{-4} \\displaystyle ^{4}]{\\left(- \\frac{1}{3} - \\frac{\\sqrt{5} i}{3} \\right) \\left(2 - 2 \\sqrt{5} i \\right)}\n",
      "\t\\]\n",
      "\u001B[34m*\u001B[0m\u001B[34m*\u001B[0m\u001B[34m*\u001B[0m\u001B[34m*\u001B[0m\u001B[34m*\u001B[0m\u001B[34m*\u001B[0m\u001B[34m*\u001B[0m\u001B[34m*\u001B[0m\u001B[34m*\u001B[0m\u001B[34m*\u001B[0m\u001B[34m*\u001B[0m\u001B[34m*\u001B[0m\u001B[34m*\u001B[0m\u001B[34m*\u001B[0m\u001B[34m*\u001B[0m\u001B[34m*\u001B[0m\u001B[34m*\u001B[0m\u001B[34m*\u001B[0m\u001B[34m*\u001B[0m\u001B[34m*\u001B[0m\u001B[34m*\u001B[0m\u001B[34m*\u001B[0m\u001B[34m*\u001B[0m\u001B[34m*\u001B[0m\u001B[34m*\u001B[0m\u001B[34m*\u001B[0m\u001B[34m*\u001B[0m\u001B[34m*\u001B[0m\u001B[34m*\u001B[0m\u001B[34m*\u001B[0m\u001B[34m*\u001B[0m\u001B[34m*\u001B[0m\u001B[34m*\u001B[0m\u001B[34m*\u001B[0m\u001B[34m*\u001B[0m\u001B[34m*\u001B[0m\u001B[34m*\u001B[0m\u001B[34m*\u001B[0m\u001B[34m*\u001B[0m\u001B[34m*\u001B[0m\u001B[34m*\u001B[0m\u001B[34m*\u001B[0m\u001B[34m*\u001B[0m\u001B[34m*\u001B[0m\u001B[34m*\u001B[0m\u001B[34m*\u001B[0m\u001B[34m*\u001B[0m\u001B[34m*\u001B[0m\u001B[34m*\u001B[0m\u001B[34m*\u001B[0m\u001B[34m*\u001B[0m\u001B[34m*\u001B[0m\u001B[34m*\u001B[0m\u001B[34m*\u001B[0m\u001B[34m*\u001B[0m\u001B[34m*\u001B[0m\u001B[34m*\u001B[0m\u001B[34m*\u001B[0m\u001B[34m*\u001B[0m\u001B[34m*\u001B[0m\u001B[34m*\u001B[0m\u001B[34m*\u001B[0m\u001B[34m*\u001B[0m\u001B[34m*\u001B[0m\u001B[34m*\u001B[0m\u001B[34m*\u001B[0m\u001B[34m*\u001B[0m\u001B[34m*\u001B[0m\u001B[34m*\u001B[0m\u001B[34m*\u001B[0m\u001B[34m*\u001B[0m\u001B[34m*\u001B[0m\u001B[34m*\u001B[0m\u001B[34m*\u001B[0m\u001B[34m*\u001B[0m\u001B[34m*\u001B[0m\u001B[34m*\u001B[0m\u001B[34m*\u001B[0m\u001B[34m*\u001B[0m\u001B[34m*\u001B[0m\u001B[34m*\u001B[0m\u001B[34m*\u001B[0m\u001B[34m*\u001B[0m\u001B[34m*\u001B[0m\u001B[34m*\u001B[0m\u001B[34m*\u001B[0m\u001B[34m*\u001B[0m\u001B[34m*\u001B[0m\u001B[34m*\u001B[0m\u001B[34m*\u001B[0m\u001B[34m*\u001B[0m\u001B[34m*\u001B[0m\u001B[34m*\u001B[0m\u001B[34m*\u001B[0m\u001B[34m*\u001B[0m\n",
      "\u001B[32m** Rozwiązanie ********************************************************************************\u001B[0m\n",
      "$\\sqrt[\\leftroot{2}\\uproot{-4} \\displaystyle ^{4}]{-4} = \\left\\{ -1 - i, \\  -1 + i, \\  1 - i, \\  1 + i\\right\\}.$\n",
      "\u001B[32m*\u001B[0m\u001B[32m*\u001B[0m\u001B[32m*\u001B[0m\u001B[32m*\u001B[0m\u001B[32m*\u001B[0m\u001B[32m*\u001B[0m\u001B[32m*\u001B[0m\u001B[32m*\u001B[0m\u001B[32m*\u001B[0m\u001B[32m*\u001B[0m\u001B[32m*\u001B[0m\u001B[32m*\u001B[0m\u001B[32m*\u001B[0m\u001B[32m*\u001B[0m\u001B[32m*\u001B[0m\u001B[32m*\u001B[0m\u001B[32m*\u001B[0m\u001B[32m*\u001B[0m\u001B[32m*\u001B[0m\u001B[32m*\u001B[0m\u001B[32m*\u001B[0m\u001B[32m*\u001B[0m\u001B[32m*\u001B[0m\u001B[32m*\u001B[0m\u001B[32m*\u001B[0m\u001B[32m*\u001B[0m\u001B[32m*\u001B[0m\u001B[32m*\u001B[0m\u001B[32m*\u001B[0m\u001B[32m*\u001B[0m\u001B[32m*\u001B[0m\u001B[32m*\u001B[0m\u001B[32m*\u001B[0m\u001B[32m*\u001B[0m\u001B[32m*\u001B[0m\u001B[32m*\u001B[0m\u001B[32m*\u001B[0m\u001B[32m*\u001B[0m\u001B[32m*\u001B[0m\u001B[32m*\u001B[0m\u001B[32m*\u001B[0m\u001B[32m*\u001B[0m\u001B[32m*\u001B[0m\u001B[32m*\u001B[0m\u001B[32m*\u001B[0m\u001B[32m*\u001B[0m\u001B[32m*\u001B[0m\u001B[32m*\u001B[0m\u001B[32m*\u001B[0m\u001B[32m*\u001B[0m\u001B[32m*\u001B[0m\u001B[32m*\u001B[0m\u001B[32m*\u001B[0m\u001B[32m*\u001B[0m\u001B[32m*\u001B[0m\u001B[32m*\u001B[0m\u001B[32m*\u001B[0m\u001B[32m*\u001B[0m\u001B[32m*\u001B[0m\u001B[32m*\u001B[0m\u001B[32m*\u001B[0m\u001B[32m*\u001B[0m\u001B[32m*\u001B[0m\u001B[32m*\u001B[0m\u001B[32m*\u001B[0m\u001B[32m*\u001B[0m\u001B[32m*\u001B[0m\u001B[32m*\u001B[0m\u001B[32m*\u001B[0m\u001B[32m*\u001B[0m\u001B[32m*\u001B[0m\u001B[32m*\u001B[0m\u001B[32m*\u001B[0m\u001B[32m*\u001B[0m\u001B[32m*\u001B[0m\u001B[32m*\u001B[0m\u001B[32m*\u001B[0m\u001B[32m*\u001B[0m\u001B[32m*\u001B[0m\u001B[32m*\u001B[0m\u001B[32m*\u001B[0m\u001B[32m*\u001B[0m\u001B[32m*\u001B[0m\u001B[32m*\u001B[0m\u001B[32m*\u001B[0m\u001B[32m*\u001B[0m\u001B[32m*\u001B[0m\u001B[32m*\u001B[0m\u001B[32m*\u001B[0m\u001B[32m*\u001B[0m\u001B[32m*\u001B[0m\u001B[32m*\u001B[0m\u001B[32m*\u001B[0m\u001B[32m*\u001B[0m\u001B[32m*\u001B[0m\n"
     ]
    }
   ],
   "execution_count": 76
  },
  {
   "metadata": {
    "ExecuteTime": {
     "end_time": "2024-09-11T07:56:29.121286Z",
     "start_time": "2024-09-11T07:56:28.532696Z"
    }
   },
   "cell_type": "code",
   "source": [
    "for i in range(1, ile_zadan_przykladowych + 1):\n",
    "    z = gz.pierwiastek_zespolony(stopien=choice([3, 4]))\n",
    "    print(f\"\\033[34m** Zadanie {i} **\" + '*' * 80 + '\\033[0m')\n",
    "    display(Markdown(z[0][:91].replace('\\\\ ', ' ')))\n",
    "    display(Latex(z[0][90:]))\n",
    "    print(\"\\033[34m*\\033[0m\" * 95)\n",
    "    print(\"\\033[32m** Rozwiązanie **\" + '*' * 78 + '\\033[0m')\n",
    "    display(Latex(z[1].replace('$ \\\\\\\\ \\n\\t$', ',\\\\quad ').replace('$', '$$')))\n",
    "    print(\"\\033[32m*\\033[0m\" * 95)\n"
   ],
   "outputs": [
    {
     "name": "stdout",
     "output_type": "stream",
     "text": [
      "\u001B[34m** Zadanie 1 **********************************************************************************\u001B[0m\n"
     ]
    },
    {
     "data": {
      "text/plain": [
       "<IPython.core.display.Markdown object>"
      ],
      "text/markdown": "Wyznaczyć wszystkie zadane pierwiastki zespolone i zaznaczyć je na płaszczyźnie zespolonej\n"
     },
     "metadata": {},
     "output_type": "display_data"
    },
    {
     "data": {
      "text/plain": [
       "<IPython.core.display.Latex object>"
      ],
      "text/latex": "\n\t\\[\n\t\t\\sqrt[\\leftroot{2}\\uproot{-4} \\displaystyle ^{3}]{\\left(- \\frac{64 \\sqrt{2}}{3} + \\frac{64 i}{3} \\right) \\left(-1 + \\sqrt{2} i \\right)}\n\t\\]"
     },
     "metadata": {},
     "output_type": "display_data"
    },
    {
     "data": {
      "text/plain": [
       "<IPython.core.display.Markdown object>"
      ],
      "text/markdown": "Rozwiązanie: "
     },
     "metadata": {},
     "output_type": "display_data"
    },
    {
     "data": {
      "text/plain": [
       "<IPython.core.display.Latex object>"
      ],
      "text/latex": "$$\\sqrt[\\leftroot{2}\\uproot{-4} \\displaystyle ^{3}]{- 64 i} = \\left\\{ 4 i, \\  - 2 \\sqrt{3} - 2 i, \\  2 \\sqrt{3} - 2 i\\right\\}.$$"
     },
     "metadata": {},
     "output_type": "display_data"
    },
    {
     "name": "stdout",
     "output_type": "stream",
     "text": [
      "\u001B[32m*\u001B[0m\u001B[32m*\u001B[0m\u001B[32m*\u001B[0m\u001B[32m*\u001B[0m\u001B[32m*\u001B[0m\u001B[32m*\u001B[0m\u001B[32m*\u001B[0m\u001B[32m*\u001B[0m\u001B[32m*\u001B[0m\u001B[32m*\u001B[0m\u001B[32m*\u001B[0m\u001B[32m*\u001B[0m\u001B[32m*\u001B[0m\u001B[32m*\u001B[0m\u001B[32m*\u001B[0m\u001B[32m*\u001B[0m\u001B[32m*\u001B[0m\u001B[32m*\u001B[0m\u001B[32m*\u001B[0m\u001B[32m*\u001B[0m\u001B[32m*\u001B[0m\u001B[32m*\u001B[0m\u001B[32m*\u001B[0m\u001B[32m*\u001B[0m\u001B[32m*\u001B[0m\u001B[32m*\u001B[0m\u001B[32m*\u001B[0m\u001B[32m*\u001B[0m\u001B[32m*\u001B[0m\u001B[32m*\u001B[0m\u001B[32m*\u001B[0m\u001B[32m*\u001B[0m\u001B[32m*\u001B[0m\u001B[32m*\u001B[0m\u001B[32m*\u001B[0m\u001B[32m*\u001B[0m\u001B[32m*\u001B[0m\u001B[32m*\u001B[0m\u001B[32m*\u001B[0m\u001B[32m*\u001B[0m\u001B[32m*\u001B[0m\u001B[32m*\u001B[0m\u001B[32m*\u001B[0m\u001B[32m*\u001B[0m\u001B[32m*\u001B[0m\u001B[32m*\u001B[0m\u001B[32m*\u001B[0m\u001B[32m*\u001B[0m\u001B[32m*\u001B[0m\u001B[32m*\u001B[0m\u001B[32m*\u001B[0m\u001B[32m*\u001B[0m\u001B[32m*\u001B[0m\u001B[32m*\u001B[0m\u001B[32m*\u001B[0m\u001B[32m*\u001B[0m\u001B[32m*\u001B[0m\u001B[32m*\u001B[0m\u001B[32m*\u001B[0m\u001B[32m*\u001B[0m\u001B[32m*\u001B[0m\u001B[32m*\u001B[0m\u001B[32m*\u001B[0m\u001B[32m*\u001B[0m\u001B[32m*\u001B[0m\u001B[32m*\u001B[0m\u001B[32m*\u001B[0m\u001B[32m*\u001B[0m\u001B[32m*\u001B[0m\u001B[32m*\u001B[0m\u001B[32m*\u001B[0m\u001B[32m*\u001B[0m\u001B[32m*\u001B[0m\u001B[32m*\u001B[0m\u001B[32m*\u001B[0m\u001B[32m*\u001B[0m\u001B[32m*\u001B[0m\u001B[32m*\u001B[0m\u001B[32m*\u001B[0m\u001B[32m*\u001B[0m\n",
      "\u001B[34m** Zadanie 2 **********************************************************************************\u001B[0m\n"
     ]
    },
    {
     "data": {
      "text/plain": [
       "<IPython.core.display.Markdown object>"
      ],
      "text/markdown": "Wyznaczyć wszystkie zadane pierwiastki zespolone i zaznaczyć je na płaszczyźnie zespolonej\n"
     },
     "metadata": {},
     "output_type": "display_data"
    },
    {
     "data": {
      "text/plain": [
       "<IPython.core.display.Latex object>"
      ],
      "text/latex": "\n\t\\[\n\t\t\\sqrt[\\leftroot{2}\\uproot{-4} \\displaystyle ^{3}]{\\left(1 - \\sqrt{5} i \\right) \\left(- \\frac{32}{81} - \\frac{32 \\sqrt{5} i}{81} \\right)}\n\t\\]"
     },
     "metadata": {},
     "output_type": "display_data"
    },
    {
     "data": {
      "text/plain": [
       "<IPython.core.display.Markdown object>"
      ],
      "text/markdown": "Rozwiązanie: "
     },
     "metadata": {},
     "output_type": "display_data"
    },
    {
     "data": {
      "text/plain": [
       "<IPython.core.display.Latex object>"
      ],
      "text/latex": "$$\\sqrt[\\leftroot{2}\\uproot{-4} \\displaystyle ^{3}]{- \\frac{64}{27}} = \\left\\{ - \\frac{4}{3}, \\  \\frac{2}{3} - \\frac{2 \\sqrt{3} i}{3}, \\  \\frac{2}{3} + \\frac{2 \\sqrt{3} i}{3}\\right\\}.$$"
     },
     "metadata": {},
     "output_type": "display_data"
    },
    {
     "name": "stdout",
     "output_type": "stream",
     "text": [
      "\u001B[32m*\u001B[0m\u001B[32m*\u001B[0m\u001B[32m*\u001B[0m\u001B[32m*\u001B[0m\u001B[32m*\u001B[0m\u001B[32m*\u001B[0m\u001B[32m*\u001B[0m\u001B[32m*\u001B[0m\u001B[32m*\u001B[0m\u001B[32m*\u001B[0m\u001B[32m*\u001B[0m\u001B[32m*\u001B[0m\u001B[32m*\u001B[0m\u001B[32m*\u001B[0m\u001B[32m*\u001B[0m\u001B[32m*\u001B[0m\u001B[32m*\u001B[0m\u001B[32m*\u001B[0m\u001B[32m*\u001B[0m\u001B[32m*\u001B[0m\u001B[32m*\u001B[0m\u001B[32m*\u001B[0m\u001B[32m*\u001B[0m\u001B[32m*\u001B[0m\u001B[32m*\u001B[0m\u001B[32m*\u001B[0m\u001B[32m*\u001B[0m\u001B[32m*\u001B[0m\u001B[32m*\u001B[0m\u001B[32m*\u001B[0m\u001B[32m*\u001B[0m\u001B[32m*\u001B[0m\u001B[32m*\u001B[0m\u001B[32m*\u001B[0m\u001B[32m*\u001B[0m\u001B[32m*\u001B[0m\u001B[32m*\u001B[0m\u001B[32m*\u001B[0m\u001B[32m*\u001B[0m\u001B[32m*\u001B[0m\u001B[32m*\u001B[0m\u001B[32m*\u001B[0m\u001B[32m*\u001B[0m\u001B[32m*\u001B[0m\u001B[32m*\u001B[0m\u001B[32m*\u001B[0m\u001B[32m*\u001B[0m\u001B[32m*\u001B[0m\u001B[32m*\u001B[0m\u001B[32m*\u001B[0m\u001B[32m*\u001B[0m\u001B[32m*\u001B[0m\u001B[32m*\u001B[0m\u001B[32m*\u001B[0m\u001B[32m*\u001B[0m\u001B[32m*\u001B[0m\u001B[32m*\u001B[0m\u001B[32m*\u001B[0m\u001B[32m*\u001B[0m\u001B[32m*\u001B[0m\u001B[32m*\u001B[0m\u001B[32m*\u001B[0m\u001B[32m*\u001B[0m\u001B[32m*\u001B[0m\u001B[32m*\u001B[0m\u001B[32m*\u001B[0m\u001B[32m*\u001B[0m\u001B[32m*\u001B[0m\u001B[32m*\u001B[0m\u001B[32m*\u001B[0m\u001B[32m*\u001B[0m\u001B[32m*\u001B[0m\u001B[32m*\u001B[0m\u001B[32m*\u001B[0m\u001B[32m*\u001B[0m\u001B[32m*\u001B[0m\u001B[32m*\u001B[0m\u001B[32m*\u001B[0m\u001B[32m*\u001B[0m\u001B[32m*\u001B[0m\n",
      "\u001B[34m** Zadanie 3 **********************************************************************************\u001B[0m\n"
     ]
    },
    {
     "data": {
      "text/plain": [
       "<IPython.core.display.Markdown object>"
      ],
      "text/markdown": "Wyznaczyć wszystkie zadane pierwiastki zespolone i zaznaczyć je na płaszczyźnie zespolonej\n"
     },
     "metadata": {},
     "output_type": "display_data"
    },
    {
     "data": {
      "text/plain": [
       "<IPython.core.display.Latex object>"
      ],
      "text/latex": "\n\t\\[\n\t\t\\sqrt[\\leftroot{2}\\uproot{-4} \\displaystyle ^{3}]{\\left(1 - \\sqrt{5} i \\right) \\left(- \\frac{9 \\sqrt{5}}{128} + \\frac{9 i}{128} \\right)}\n\t\\]"
     },
     "metadata": {},
     "output_type": "display_data"
    },
    {
     "data": {
      "text/plain": [
       "<IPython.core.display.Markdown object>"
      ],
      "text/markdown": "Rozwiązanie: "
     },
     "metadata": {},
     "output_type": "display_data"
    },
    {
     "data": {
      "text/plain": [
       "<IPython.core.display.Latex object>"
      ],
      "text/latex": "$$\\sqrt[\\leftroot{2}\\uproot{-4} \\displaystyle ^{3}]{\\frac{27 i}{64}} = \\left\\{ - \\frac{3 i}{4}, \\  - \\frac{3 \\sqrt{3}}{8} + \\frac{3 i}{8}, \\  \\frac{3 \\sqrt{3}}{8} + \\frac{3 i}{8}\\right\\}.$$"
     },
     "metadata": {},
     "output_type": "display_data"
    },
    {
     "name": "stdout",
     "output_type": "stream",
     "text": [
      "\u001B[32m*\u001B[0m\u001B[32m*\u001B[0m\u001B[32m*\u001B[0m\u001B[32m*\u001B[0m\u001B[32m*\u001B[0m\u001B[32m*\u001B[0m\u001B[32m*\u001B[0m\u001B[32m*\u001B[0m\u001B[32m*\u001B[0m\u001B[32m*\u001B[0m\u001B[32m*\u001B[0m\u001B[32m*\u001B[0m\u001B[32m*\u001B[0m\u001B[32m*\u001B[0m\u001B[32m*\u001B[0m\u001B[32m*\u001B[0m\u001B[32m*\u001B[0m\u001B[32m*\u001B[0m\u001B[32m*\u001B[0m\u001B[32m*\u001B[0m\u001B[32m*\u001B[0m\u001B[32m*\u001B[0m\u001B[32m*\u001B[0m\u001B[32m*\u001B[0m\u001B[32m*\u001B[0m\u001B[32m*\u001B[0m\u001B[32m*\u001B[0m\u001B[32m*\u001B[0m\u001B[32m*\u001B[0m\u001B[32m*\u001B[0m\u001B[32m*\u001B[0m\u001B[32m*\u001B[0m\u001B[32m*\u001B[0m\u001B[32m*\u001B[0m\u001B[32m*\u001B[0m\u001B[32m*\u001B[0m\u001B[32m*\u001B[0m\u001B[32m*\u001B[0m\u001B[32m*\u001B[0m\u001B[32m*\u001B[0m\u001B[32m*\u001B[0m\u001B[32m*\u001B[0m\u001B[32m*\u001B[0m\u001B[32m*\u001B[0m\u001B[32m*\u001B[0m\u001B[32m*\u001B[0m\u001B[32m*\u001B[0m\u001B[32m*\u001B[0m\u001B[32m*\u001B[0m\u001B[32m*\u001B[0m\u001B[32m*\u001B[0m\u001B[32m*\u001B[0m\u001B[32m*\u001B[0m\u001B[32m*\u001B[0m\u001B[32m*\u001B[0m\u001B[32m*\u001B[0m\u001B[32m*\u001B[0m\u001B[32m*\u001B[0m\u001B[32m*\u001B[0m\u001B[32m*\u001B[0m\u001B[32m*\u001B[0m\u001B[32m*\u001B[0m\u001B[32m*\u001B[0m\u001B[32m*\u001B[0m\u001B[32m*\u001B[0m\u001B[32m*\u001B[0m\u001B[32m*\u001B[0m\u001B[32m*\u001B[0m\u001B[32m*\u001B[0m\u001B[32m*\u001B[0m\u001B[32m*\u001B[0m\u001B[32m*\u001B[0m\u001B[32m*\u001B[0m\u001B[32m*\u001B[0m\u001B[32m*\u001B[0m\u001B[32m*\u001B[0m\u001B[32m*\u001B[0m\u001B[32m*\u001B[0m\u001B[32m*\u001B[0m\u001B[32m*\u001B[0m\n",
      "\u001B[34m** Zadanie 4 **********************************************************************************\u001B[0m\n"
     ]
    },
    {
     "data": {
      "text/plain": [
       "<IPython.core.display.Markdown object>"
      ],
      "text/markdown": "Wyznaczyć wszystkie zadane pierwiastki zespolone i zaznaczyć je na płaszczyźnie zespolonej\n"
     },
     "metadata": {},
     "output_type": "display_data"
    },
    {
     "data": {
      "text/plain": [
       "<IPython.core.display.Latex object>"
      ],
      "text/latex": "\n\t\\[\n\t\t\\sqrt[\\leftroot{2}\\uproot{-4} \\displaystyle ^{4}]{\\left(2 - 2 \\sqrt{3} i \\right) \\left(2 - 2 \\sqrt{3} i \\right)}\n\t\\]"
     },
     "metadata": {},
     "output_type": "display_data"
    },
    {
     "data": {
      "text/plain": [
       "<IPython.core.display.Markdown object>"
      ],
      "text/markdown": "Rozwiązanie: "
     },
     "metadata": {},
     "output_type": "display_data"
    },
    {
     "data": {
      "text/plain": [
       "<IPython.core.display.Latex object>"
      ],
      "text/latex": "$$\\sqrt[\\leftroot{2}\\uproot{-4} \\displaystyle ^{4}]{-8 - 8 \\sqrt{3} i} = \\left\\{ -1 - \\sqrt{3} i, \\  1 + \\sqrt{3} i, \\  - \\sqrt{3} + i, \\  \\sqrt{3} - i\\right\\}.$$"
     },
     "metadata": {},
     "output_type": "display_data"
    },
    {
     "name": "stdout",
     "output_type": "stream",
     "text": [
      "\u001B[32m*\u001B[0m\u001B[32m*\u001B[0m\u001B[32m*\u001B[0m\u001B[32m*\u001B[0m\u001B[32m*\u001B[0m\u001B[32m*\u001B[0m\u001B[32m*\u001B[0m\u001B[32m*\u001B[0m\u001B[32m*\u001B[0m\u001B[32m*\u001B[0m\u001B[32m*\u001B[0m\u001B[32m*\u001B[0m\u001B[32m*\u001B[0m\u001B[32m*\u001B[0m\u001B[32m*\u001B[0m\u001B[32m*\u001B[0m\u001B[32m*\u001B[0m\u001B[32m*\u001B[0m\u001B[32m*\u001B[0m\u001B[32m*\u001B[0m\u001B[32m*\u001B[0m\u001B[32m*\u001B[0m\u001B[32m*\u001B[0m\u001B[32m*\u001B[0m\u001B[32m*\u001B[0m\u001B[32m*\u001B[0m\u001B[32m*\u001B[0m\u001B[32m*\u001B[0m\u001B[32m*\u001B[0m\u001B[32m*\u001B[0m\u001B[32m*\u001B[0m\u001B[32m*\u001B[0m\u001B[32m*\u001B[0m\u001B[32m*\u001B[0m\u001B[32m*\u001B[0m\u001B[32m*\u001B[0m\u001B[32m*\u001B[0m\u001B[32m*\u001B[0m\u001B[32m*\u001B[0m\u001B[32m*\u001B[0m\u001B[32m*\u001B[0m\u001B[32m*\u001B[0m\u001B[32m*\u001B[0m\u001B[32m*\u001B[0m\u001B[32m*\u001B[0m\u001B[32m*\u001B[0m\u001B[32m*\u001B[0m\u001B[32m*\u001B[0m\u001B[32m*\u001B[0m\u001B[32m*\u001B[0m\u001B[32m*\u001B[0m\u001B[32m*\u001B[0m\u001B[32m*\u001B[0m\u001B[32m*\u001B[0m\u001B[32m*\u001B[0m\u001B[32m*\u001B[0m\u001B[32m*\u001B[0m\u001B[32m*\u001B[0m\u001B[32m*\u001B[0m\u001B[32m*\u001B[0m\u001B[32m*\u001B[0m\u001B[32m*\u001B[0m\u001B[32m*\u001B[0m\u001B[32m*\u001B[0m\u001B[32m*\u001B[0m\u001B[32m*\u001B[0m\u001B[32m*\u001B[0m\u001B[32m*\u001B[0m\u001B[32m*\u001B[0m\u001B[32m*\u001B[0m\u001B[32m*\u001B[0m\u001B[32m*\u001B[0m\u001B[32m*\u001B[0m\u001B[32m*\u001B[0m\u001B[32m*\u001B[0m\u001B[32m*\u001B[0m\u001B[32m*\u001B[0m\u001B[32m*\u001B[0m\u001B[32m*\u001B[0m\u001B[32m*\u001B[0m\n",
      "\u001B[34m** Zadanie 5 **********************************************************************************\u001B[0m\n"
     ]
    },
    {
     "data": {
      "text/plain": [
       "<IPython.core.display.Markdown object>"
      ],
      "text/markdown": "Wyznaczyć wszystkie zadane pierwiastki zespolone i zaznaczyć je na płaszczyźnie zespolonej\n"
     },
     "metadata": {},
     "output_type": "display_data"
    },
    {
     "data": {
      "text/plain": [
       "<IPython.core.display.Latex object>"
      ],
      "text/latex": "\n\t\\[\n\t\t\\sqrt[\\leftroot{2}\\uproot{-4} \\displaystyle ^{3}]{\\left(- \\frac{9 \\sqrt{5}}{128} + \\frac{9 i}{128} \\right) \\left(1 - \\sqrt{5} i \\right)}\n\t\\]"
     },
     "metadata": {},
     "output_type": "display_data"
    },
    {
     "data": {
      "text/plain": [
       "<IPython.core.display.Markdown object>"
      ],
      "text/markdown": "Rozwiązanie: "
     },
     "metadata": {},
     "output_type": "display_data"
    },
    {
     "data": {
      "text/plain": [
       "<IPython.core.display.Latex object>"
      ],
      "text/latex": "$$\\sqrt[\\leftroot{2}\\uproot{-4} \\displaystyle ^{3}]{\\frac{27 i}{64}} = \\left\\{ - \\frac{3 i}{4}, \\  - \\frac{3 \\sqrt{3}}{8} + \\frac{3 i}{8}, \\  \\frac{3 \\sqrt{3}}{8} + \\frac{3 i}{8}\\right\\}.$$"
     },
     "metadata": {},
     "output_type": "display_data"
    },
    {
     "name": "stdout",
     "output_type": "stream",
     "text": [
      "\u001B[32m*\u001B[0m\u001B[32m*\u001B[0m\u001B[32m*\u001B[0m\u001B[32m*\u001B[0m\u001B[32m*\u001B[0m\u001B[32m*\u001B[0m\u001B[32m*\u001B[0m\u001B[32m*\u001B[0m\u001B[32m*\u001B[0m\u001B[32m*\u001B[0m\u001B[32m*\u001B[0m\u001B[32m*\u001B[0m\u001B[32m*\u001B[0m\u001B[32m*\u001B[0m\u001B[32m*\u001B[0m\u001B[32m*\u001B[0m\u001B[32m*\u001B[0m\u001B[32m*\u001B[0m\u001B[32m*\u001B[0m\u001B[32m*\u001B[0m\u001B[32m*\u001B[0m\u001B[32m*\u001B[0m\u001B[32m*\u001B[0m\u001B[32m*\u001B[0m\u001B[32m*\u001B[0m\u001B[32m*\u001B[0m\u001B[32m*\u001B[0m\u001B[32m*\u001B[0m\u001B[32m*\u001B[0m\u001B[32m*\u001B[0m\u001B[32m*\u001B[0m\u001B[32m*\u001B[0m\u001B[32m*\u001B[0m\u001B[32m*\u001B[0m\u001B[32m*\u001B[0m\u001B[32m*\u001B[0m\u001B[32m*\u001B[0m\u001B[32m*\u001B[0m\u001B[32m*\u001B[0m\u001B[32m*\u001B[0m\u001B[32m*\u001B[0m\u001B[32m*\u001B[0m\u001B[32m*\u001B[0m\u001B[32m*\u001B[0m\u001B[32m*\u001B[0m\u001B[32m*\u001B[0m\u001B[32m*\u001B[0m\u001B[32m*\u001B[0m\u001B[32m*\u001B[0m\u001B[32m*\u001B[0m\u001B[32m*\u001B[0m\u001B[32m*\u001B[0m\u001B[32m*\u001B[0m\u001B[32m*\u001B[0m\u001B[32m*\u001B[0m\u001B[32m*\u001B[0m\u001B[32m*\u001B[0m\u001B[32m*\u001B[0m\u001B[32m*\u001B[0m\u001B[32m*\u001B[0m\u001B[32m*\u001B[0m\u001B[32m*\u001B[0m\u001B[32m*\u001B[0m\u001B[32m*\u001B[0m\u001B[32m*\u001B[0m\u001B[32m*\u001B[0m\u001B[32m*\u001B[0m\u001B[32m*\u001B[0m\u001B[32m*\u001B[0m\u001B[32m*\u001B[0m\u001B[32m*\u001B[0m\u001B[32m*\u001B[0m\u001B[32m*\u001B[0m\u001B[32m*\u001B[0m\u001B[32m*\u001B[0m\u001B[32m*\u001B[0m\u001B[32m*\u001B[0m\u001B[32m*\u001B[0m\u001B[32m*\u001B[0m\u001B[32m*\u001B[0m\n",
      "\u001B[34m** Zadanie 6 **********************************************************************************\u001B[0m\n"
     ]
    },
    {
     "data": {
      "text/plain": [
       "<IPython.core.display.Markdown object>"
      ],
      "text/markdown": "Wyznaczyć wszystkie zadane pierwiastki zespolone i zaznaczyć je na płaszczyźnie zespolonej\n"
     },
     "metadata": {},
     "output_type": "display_data"
    },
    {
     "data": {
      "text/plain": [
       "<IPython.core.display.Latex object>"
      ],
      "text/latex": "\n\t\\[\n\t\t\\sqrt[\\leftroot{2}\\uproot{-4} \\displaystyle ^{4}]{\\left(2 - 2 \\sqrt{3} i \\right) \\left(2 - 2 \\sqrt{3} i \\right)}\n\t\\]"
     },
     "metadata": {},
     "output_type": "display_data"
    },
    {
     "data": {
      "text/plain": [
       "<IPython.core.display.Markdown object>"
      ],
      "text/markdown": "Rozwiązanie: "
     },
     "metadata": {},
     "output_type": "display_data"
    },
    {
     "data": {
      "text/plain": [
       "<IPython.core.display.Latex object>"
      ],
      "text/latex": "$$\\sqrt[\\leftroot{2}\\uproot{-4} \\displaystyle ^{4}]{-8 - 8 \\sqrt{3} i} = \\left\\{ -1 - \\sqrt{3} i, \\  1 + \\sqrt{3} i, \\  - \\sqrt{3} + i, \\  \\sqrt{3} - i\\right\\}.$$"
     },
     "metadata": {},
     "output_type": "display_data"
    },
    {
     "name": "stdout",
     "output_type": "stream",
     "text": [
      "\u001B[32m*\u001B[0m\u001B[32m*\u001B[0m\u001B[32m*\u001B[0m\u001B[32m*\u001B[0m\u001B[32m*\u001B[0m\u001B[32m*\u001B[0m\u001B[32m*\u001B[0m\u001B[32m*\u001B[0m\u001B[32m*\u001B[0m\u001B[32m*\u001B[0m\u001B[32m*\u001B[0m\u001B[32m*\u001B[0m\u001B[32m*\u001B[0m\u001B[32m*\u001B[0m\u001B[32m*\u001B[0m\u001B[32m*\u001B[0m\u001B[32m*\u001B[0m\u001B[32m*\u001B[0m\u001B[32m*\u001B[0m\u001B[32m*\u001B[0m\u001B[32m*\u001B[0m\u001B[32m*\u001B[0m\u001B[32m*\u001B[0m\u001B[32m*\u001B[0m\u001B[32m*\u001B[0m\u001B[32m*\u001B[0m\u001B[32m*\u001B[0m\u001B[32m*\u001B[0m\u001B[32m*\u001B[0m\u001B[32m*\u001B[0m\u001B[32m*\u001B[0m\u001B[32m*\u001B[0m\u001B[32m*\u001B[0m\u001B[32m*\u001B[0m\u001B[32m*\u001B[0m\u001B[32m*\u001B[0m\u001B[32m*\u001B[0m\u001B[32m*\u001B[0m\u001B[32m*\u001B[0m\u001B[32m*\u001B[0m\u001B[32m*\u001B[0m\u001B[32m*\u001B[0m\u001B[32m*\u001B[0m\u001B[32m*\u001B[0m\u001B[32m*\u001B[0m\u001B[32m*\u001B[0m\u001B[32m*\u001B[0m\u001B[32m*\u001B[0m\u001B[32m*\u001B[0m\u001B[32m*\u001B[0m\u001B[32m*\u001B[0m\u001B[32m*\u001B[0m\u001B[32m*\u001B[0m\u001B[32m*\u001B[0m\u001B[32m*\u001B[0m\u001B[32m*\u001B[0m\u001B[32m*\u001B[0m\u001B[32m*\u001B[0m\u001B[32m*\u001B[0m\u001B[32m*\u001B[0m\u001B[32m*\u001B[0m\u001B[32m*\u001B[0m\u001B[32m*\u001B[0m\u001B[32m*\u001B[0m\u001B[32m*\u001B[0m\u001B[32m*\u001B[0m\u001B[32m*\u001B[0m\u001B[32m*\u001B[0m\u001B[32m*\u001B[0m\u001B[32m*\u001B[0m\u001B[32m*\u001B[0m\u001B[32m*\u001B[0m\u001B[32m*\u001B[0m\u001B[32m*\u001B[0m\u001B[32m*\u001B[0m\u001B[32m*\u001B[0m\u001B[32m*\u001B[0m\u001B[32m*\u001B[0m\u001B[32m*\u001B[0m\u001B[32m*\u001B[0m\n",
      "\u001B[34m** Zadanie 7 **********************************************************************************\u001B[0m\n"
     ]
    },
    {
     "data": {
      "text/plain": [
       "<IPython.core.display.Markdown object>"
      ],
      "text/markdown": "Wyznaczyć wszystkie zadane pierwiastki zespolone i zaznaczyć je na płaszczyźnie zespolonej\n"
     },
     "metadata": {},
     "output_type": "display_data"
    },
    {
     "data": {
      "text/plain": [
       "<IPython.core.display.Latex object>"
      ],
      "text/latex": "\n\t\\[\n\t\t\\sqrt[\\leftroot{2}\\uproot{-4} \\displaystyle ^{3}]{\\left(- \\frac{27}{256} - \\frac{27 \\sqrt{3} i}{256} \\right) \\left(1 - \\sqrt{3} i \\right)}\n\t\\]"
     },
     "metadata": {},
     "output_type": "display_data"
    },
    {
     "data": {
      "text/plain": [
       "<IPython.core.display.Markdown object>"
      ],
      "text/markdown": "Rozwiązanie: "
     },
     "metadata": {},
     "output_type": "display_data"
    },
    {
     "data": {
      "text/plain": [
       "<IPython.core.display.Latex object>"
      ],
      "text/latex": "$$\\sqrt[\\leftroot{2}\\uproot{-4} \\displaystyle ^{3}]{- \\frac{27}{64}} = \\left\\{ - \\frac{3}{4}, \\  \\frac{3}{8} - \\frac{3 \\sqrt{3} i}{8}, \\  \\frac{3}{8} + \\frac{3 \\sqrt{3} i}{8}\\right\\}.$$"
     },
     "metadata": {},
     "output_type": "display_data"
    },
    {
     "name": "stdout",
     "output_type": "stream",
     "text": [
      "\u001B[32m*\u001B[0m\u001B[32m*\u001B[0m\u001B[32m*\u001B[0m\u001B[32m*\u001B[0m\u001B[32m*\u001B[0m\u001B[32m*\u001B[0m\u001B[32m*\u001B[0m\u001B[32m*\u001B[0m\u001B[32m*\u001B[0m\u001B[32m*\u001B[0m\u001B[32m*\u001B[0m\u001B[32m*\u001B[0m\u001B[32m*\u001B[0m\u001B[32m*\u001B[0m\u001B[32m*\u001B[0m\u001B[32m*\u001B[0m\u001B[32m*\u001B[0m\u001B[32m*\u001B[0m\u001B[32m*\u001B[0m\u001B[32m*\u001B[0m\u001B[32m*\u001B[0m\u001B[32m*\u001B[0m\u001B[32m*\u001B[0m\u001B[32m*\u001B[0m\u001B[32m*\u001B[0m\u001B[32m*\u001B[0m\u001B[32m*\u001B[0m\u001B[32m*\u001B[0m\u001B[32m*\u001B[0m\u001B[32m*\u001B[0m\u001B[32m*\u001B[0m\u001B[32m*\u001B[0m\u001B[32m*\u001B[0m\u001B[32m*\u001B[0m\u001B[32m*\u001B[0m\u001B[32m*\u001B[0m\u001B[32m*\u001B[0m\u001B[32m*\u001B[0m\u001B[32m*\u001B[0m\u001B[32m*\u001B[0m\u001B[32m*\u001B[0m\u001B[32m*\u001B[0m\u001B[32m*\u001B[0m\u001B[32m*\u001B[0m\u001B[32m*\u001B[0m\u001B[32m*\u001B[0m\u001B[32m*\u001B[0m\u001B[32m*\u001B[0m\u001B[32m*\u001B[0m\u001B[32m*\u001B[0m\u001B[32m*\u001B[0m\u001B[32m*\u001B[0m\u001B[32m*\u001B[0m\u001B[32m*\u001B[0m\u001B[32m*\u001B[0m\u001B[32m*\u001B[0m\u001B[32m*\u001B[0m\u001B[32m*\u001B[0m\u001B[32m*\u001B[0m\u001B[32m*\u001B[0m\u001B[32m*\u001B[0m\u001B[32m*\u001B[0m\u001B[32m*\u001B[0m\u001B[32m*\u001B[0m\u001B[32m*\u001B[0m\u001B[32m*\u001B[0m\u001B[32m*\u001B[0m\u001B[32m*\u001B[0m\u001B[32m*\u001B[0m\u001B[32m*\u001B[0m\u001B[32m*\u001B[0m\u001B[32m*\u001B[0m\u001B[32m*\u001B[0m\u001B[32m*\u001B[0m\u001B[32m*\u001B[0m\u001B[32m*\u001B[0m\u001B[32m*\u001B[0m\u001B[32m*\u001B[0m\u001B[32m*\u001B[0m\u001B[32m*\u001B[0m\n",
      "\u001B[34m** Zadanie 8 **********************************************************************************\u001B[0m\n"
     ]
    },
    {
     "data": {
      "text/plain": [
       "<IPython.core.display.Markdown object>"
      ],
      "text/markdown": "Wyznaczyć wszystkie zadane pierwiastki zespolone i zaznaczyć je na płaszczyźnie zespolonej\n"
     },
     "metadata": {},
     "output_type": "display_data"
    },
    {
     "data": {
      "text/plain": [
       "<IPython.core.display.Latex object>"
      ],
      "text/latex": "\n\t\\[\n\t\t\\sqrt[\\leftroot{2}\\uproot{-4} \\displaystyle ^{4}]{\\left(- \\frac{8}{9} - \\frac{4 \\sqrt{5} i}{9} \\right) \\left(2 - \\sqrt{5} i \\right)}\n\t\\]"
     },
     "metadata": {},
     "output_type": "display_data"
    },
    {
     "data": {
      "text/plain": [
       "<IPython.core.display.Markdown object>"
      ],
      "text/markdown": "Rozwiązanie: "
     },
     "metadata": {},
     "output_type": "display_data"
    },
    {
     "data": {
      "text/plain": [
       "<IPython.core.display.Latex object>"
      ],
      "text/latex": "$$\\sqrt[\\leftroot{2}\\uproot{-4} \\displaystyle ^{4}]{-4} = \\left\\{ -1 - i, \\  -1 + i, \\  1 - i, \\  1 + i\\right\\}.$$"
     },
     "metadata": {},
     "output_type": "display_data"
    },
    {
     "name": "stdout",
     "output_type": "stream",
     "text": [
      "\u001B[32m*\u001B[0m\u001B[32m*\u001B[0m\u001B[32m*\u001B[0m\u001B[32m*\u001B[0m\u001B[32m*\u001B[0m\u001B[32m*\u001B[0m\u001B[32m*\u001B[0m\u001B[32m*\u001B[0m\u001B[32m*\u001B[0m\u001B[32m*\u001B[0m\u001B[32m*\u001B[0m\u001B[32m*\u001B[0m\u001B[32m*\u001B[0m\u001B[32m*\u001B[0m\u001B[32m*\u001B[0m\u001B[32m*\u001B[0m\u001B[32m*\u001B[0m\u001B[32m*\u001B[0m\u001B[32m*\u001B[0m\u001B[32m*\u001B[0m\u001B[32m*\u001B[0m\u001B[32m*\u001B[0m\u001B[32m*\u001B[0m\u001B[32m*\u001B[0m\u001B[32m*\u001B[0m\u001B[32m*\u001B[0m\u001B[32m*\u001B[0m\u001B[32m*\u001B[0m\u001B[32m*\u001B[0m\u001B[32m*\u001B[0m\u001B[32m*\u001B[0m\u001B[32m*\u001B[0m\u001B[32m*\u001B[0m\u001B[32m*\u001B[0m\u001B[32m*\u001B[0m\u001B[32m*\u001B[0m\u001B[32m*\u001B[0m\u001B[32m*\u001B[0m\u001B[32m*\u001B[0m\u001B[32m*\u001B[0m\u001B[32m*\u001B[0m\u001B[32m*\u001B[0m\u001B[32m*\u001B[0m\u001B[32m*\u001B[0m\u001B[32m*\u001B[0m\u001B[32m*\u001B[0m\u001B[32m*\u001B[0m\u001B[32m*\u001B[0m\u001B[32m*\u001B[0m\u001B[32m*\u001B[0m\u001B[32m*\u001B[0m\u001B[32m*\u001B[0m\u001B[32m*\u001B[0m\u001B[32m*\u001B[0m\u001B[32m*\u001B[0m\u001B[32m*\u001B[0m\u001B[32m*\u001B[0m\u001B[32m*\u001B[0m\u001B[32m*\u001B[0m\u001B[32m*\u001B[0m\u001B[32m*\u001B[0m\u001B[32m*\u001B[0m\u001B[32m*\u001B[0m\u001B[32m*\u001B[0m\u001B[32m*\u001B[0m\u001B[32m*\u001B[0m\u001B[32m*\u001B[0m\u001B[32m*\u001B[0m\u001B[32m*\u001B[0m\u001B[32m*\u001B[0m\u001B[32m*\u001B[0m\u001B[32m*\u001B[0m\u001B[32m*\u001B[0m\u001B[32m*\u001B[0m\u001B[32m*\u001B[0m\u001B[32m*\u001B[0m\u001B[32m*\u001B[0m\u001B[32m*\u001B[0m\u001B[32m*\u001B[0m\u001B[32m*\u001B[0m\n",
      "\u001B[34m** Zadanie 9 **********************************************************************************\u001B[0m\n"
     ]
    },
    {
     "data": {
      "text/plain": [
       "<IPython.core.display.Markdown object>"
      ],
      "text/markdown": "Wyznaczyć wszystkie zadane pierwiastki zespolone i zaznaczyć je na płaszczyźnie zespolonej\n"
     },
     "metadata": {},
     "output_type": "display_data"
    },
    {
     "data": {
      "text/plain": [
       "<IPython.core.display.Latex object>"
      ],
      "text/latex": "\n\t\\[\n\t\t\\sqrt[\\leftroot{2}\\uproot{-4} \\displaystyle ^{3}]{\\left(- \\frac{27 \\sqrt{3}}{4} + \\frac{27 i}{4} \\right) \\left(-1 + \\sqrt{3} i \\right)}\n\t\\]"
     },
     "metadata": {},
     "output_type": "display_data"
    },
    {
     "data": {
      "text/plain": [
       "<IPython.core.display.Markdown object>"
      ],
      "text/markdown": "Rozwiązanie: "
     },
     "metadata": {},
     "output_type": "display_data"
    },
    {
     "data": {
      "text/plain": [
       "<IPython.core.display.Latex object>"
      ],
      "text/latex": "$$\\sqrt[\\leftroot{2}\\uproot{-4} \\displaystyle ^{3}]{- 27 i} = \\left\\{ 3 i, \\  - \\frac{3 \\sqrt{3}}{2} - \\frac{3 i}{2}, \\  \\frac{3 \\sqrt{3}}{2} - \\frac{3 i}{2}\\right\\}.$$"
     },
     "metadata": {},
     "output_type": "display_data"
    },
    {
     "name": "stdout",
     "output_type": "stream",
     "text": [
      "\u001B[32m*\u001B[0m\u001B[32m*\u001B[0m\u001B[32m*\u001B[0m\u001B[32m*\u001B[0m\u001B[32m*\u001B[0m\u001B[32m*\u001B[0m\u001B[32m*\u001B[0m\u001B[32m*\u001B[0m\u001B[32m*\u001B[0m\u001B[32m*\u001B[0m\u001B[32m*\u001B[0m\u001B[32m*\u001B[0m\u001B[32m*\u001B[0m\u001B[32m*\u001B[0m\u001B[32m*\u001B[0m\u001B[32m*\u001B[0m\u001B[32m*\u001B[0m\u001B[32m*\u001B[0m\u001B[32m*\u001B[0m\u001B[32m*\u001B[0m\u001B[32m*\u001B[0m\u001B[32m*\u001B[0m\u001B[32m*\u001B[0m\u001B[32m*\u001B[0m\u001B[32m*\u001B[0m\u001B[32m*\u001B[0m\u001B[32m*\u001B[0m\u001B[32m*\u001B[0m\u001B[32m*\u001B[0m\u001B[32m*\u001B[0m\u001B[32m*\u001B[0m\u001B[32m*\u001B[0m\u001B[32m*\u001B[0m\u001B[32m*\u001B[0m\u001B[32m*\u001B[0m\u001B[32m*\u001B[0m\u001B[32m*\u001B[0m\u001B[32m*\u001B[0m\u001B[32m*\u001B[0m\u001B[32m*\u001B[0m\u001B[32m*\u001B[0m\u001B[32m*\u001B[0m\u001B[32m*\u001B[0m\u001B[32m*\u001B[0m\u001B[32m*\u001B[0m\u001B[32m*\u001B[0m\u001B[32m*\u001B[0m\u001B[32m*\u001B[0m\u001B[32m*\u001B[0m\u001B[32m*\u001B[0m\u001B[32m*\u001B[0m\u001B[32m*\u001B[0m\u001B[32m*\u001B[0m\u001B[32m*\u001B[0m\u001B[32m*\u001B[0m\u001B[32m*\u001B[0m\u001B[32m*\u001B[0m\u001B[32m*\u001B[0m\u001B[32m*\u001B[0m\u001B[32m*\u001B[0m\u001B[32m*\u001B[0m\u001B[32m*\u001B[0m\u001B[32m*\u001B[0m\u001B[32m*\u001B[0m\u001B[32m*\u001B[0m\u001B[32m*\u001B[0m\u001B[32m*\u001B[0m\u001B[32m*\u001B[0m\u001B[32m*\u001B[0m\u001B[32m*\u001B[0m\u001B[32m*\u001B[0m\u001B[32m*\u001B[0m\u001B[32m*\u001B[0m\u001B[32m*\u001B[0m\u001B[32m*\u001B[0m\u001B[32m*\u001B[0m\u001B[32m*\u001B[0m\u001B[32m*\u001B[0m\u001B[32m*\u001B[0m\u001B[32m*\u001B[0m\n",
      "\u001B[34m** Zadanie 10 **********************************************************************************\u001B[0m\n"
     ]
    },
    {
     "data": {
      "text/plain": [
       "<IPython.core.display.Markdown object>"
      ],
      "text/markdown": "Wyznaczyć wszystkie zadane pierwiastki zespolone i zaznaczyć je na płaszczyźnie zespolonej\n"
     },
     "metadata": {},
     "output_type": "display_data"
    },
    {
     "data": {
      "text/plain": [
       "<IPython.core.display.Latex object>"
      ],
      "text/latex": "\n\t\\[\n\t\t\\sqrt[\\leftroot{2}\\uproot{-4} \\displaystyle ^{3}]{\\left(- \\frac{9 \\sqrt{5}}{128} + \\frac{9 i}{128} \\right) \\left(-1 + \\sqrt{5} i \\right)}\n\t\\]"
     },
     "metadata": {},
     "output_type": "display_data"
    },
    {
     "data": {
      "text/plain": [
       "<IPython.core.display.Markdown object>"
      ],
      "text/markdown": "Rozwiązanie: "
     },
     "metadata": {},
     "output_type": "display_data"
    },
    {
     "data": {
      "text/plain": [
       "<IPython.core.display.Latex object>"
      ],
      "text/latex": "$$\\sqrt[\\leftroot{2}\\uproot{-4} \\displaystyle ^{3}]{- \\frac{27 i}{64}} = \\left\\{ \\frac{3 i}{4}, \\  - \\frac{3 \\sqrt{3}}{8} - \\frac{3 i}{8}, \\  \\frac{3 \\sqrt{3}}{8} - \\frac{3 i}{8}\\right\\}.$$"
     },
     "metadata": {},
     "output_type": "display_data"
    },
    {
     "name": "stdout",
     "output_type": "stream",
     "text": [
      "\u001B[32m*\u001B[0m\u001B[32m*\u001B[0m\u001B[32m*\u001B[0m\u001B[32m*\u001B[0m\u001B[32m*\u001B[0m\u001B[32m*\u001B[0m\u001B[32m*\u001B[0m\u001B[32m*\u001B[0m\u001B[32m*\u001B[0m\u001B[32m*\u001B[0m\u001B[32m*\u001B[0m\u001B[32m*\u001B[0m\u001B[32m*\u001B[0m\u001B[32m*\u001B[0m\u001B[32m*\u001B[0m\u001B[32m*\u001B[0m\u001B[32m*\u001B[0m\u001B[32m*\u001B[0m\u001B[32m*\u001B[0m\u001B[32m*\u001B[0m\u001B[32m*\u001B[0m\u001B[32m*\u001B[0m\u001B[32m*\u001B[0m\u001B[32m*\u001B[0m\u001B[32m*\u001B[0m\u001B[32m*\u001B[0m\u001B[32m*\u001B[0m\u001B[32m*\u001B[0m\u001B[32m*\u001B[0m\u001B[32m*\u001B[0m\u001B[32m*\u001B[0m\u001B[32m*\u001B[0m\u001B[32m*\u001B[0m\u001B[32m*\u001B[0m\u001B[32m*\u001B[0m\u001B[32m*\u001B[0m\u001B[32m*\u001B[0m\u001B[32m*\u001B[0m\u001B[32m*\u001B[0m\u001B[32m*\u001B[0m\u001B[32m*\u001B[0m\u001B[32m*\u001B[0m\u001B[32m*\u001B[0m\u001B[32m*\u001B[0m\u001B[32m*\u001B[0m\u001B[32m*\u001B[0m\u001B[32m*\u001B[0m\u001B[32m*\u001B[0m\u001B[32m*\u001B[0m\u001B[32m*\u001B[0m\u001B[32m*\u001B[0m\u001B[32m*\u001B[0m\u001B[32m*\u001B[0m\u001B[32m*\u001B[0m\u001B[32m*\u001B[0m\u001B[32m*\u001B[0m\u001B[32m*\u001B[0m\u001B[32m*\u001B[0m\u001B[32m*\u001B[0m\u001B[32m*\u001B[0m\u001B[32m*\u001B[0m\u001B[32m*\u001B[0m\u001B[32m*\u001B[0m\u001B[32m*\u001B[0m\u001B[32m*\u001B[0m\u001B[32m*\u001B[0m\u001B[32m*\u001B[0m\u001B[32m*\u001B[0m\u001B[32m*\u001B[0m\u001B[32m*\u001B[0m\u001B[32m*\u001B[0m\u001B[32m*\u001B[0m\u001B[32m*\u001B[0m\u001B[32m*\u001B[0m\u001B[32m*\u001B[0m\u001B[32m*\u001B[0m\u001B[32m*\u001B[0m\u001B[32m*\u001B[0m\u001B[32m*\u001B[0m\u001B[32m*\u001B[0m\n"
     ]
    }
   ],
   "execution_count": 77
  },
  {
   "metadata": {},
   "cell_type": "markdown",
   "source": "## Równanie zespolone ze sprzężeniem"
  },
  {
   "metadata": {
    "ExecuteTime": {
     "end_time": "2024-09-11T07:56:29.836624Z",
     "start_time": "2024-09-11T07:56:29.675948Z"
    }
   },
   "cell_type": "code",
   "source": [
    "zadanie = gz.rownanie_ze_sprzezeniem(calkowite=choice([False, True]), kwadratowe=choice([False, True]))\n",
    "zadanie"
   ],
   "outputs": [
    {
     "data": {
      "text/plain": [
       "('Rozwiązać równanie w zbiorze liczb zespolonych\\n\\t\\\\[\\n\\t\\tz \\\\left(-1 - 5 i\\\\right) + \\\\left(6 + 2 i\\\\right) \\\\overline{z} + 5 - 3 i = 0\\n\\t\\\\]',\n",
       " '$\\\\left(6 + 2 i\\\\right) \\\\left(x - i y\\\\right) + \\\\left(-1 - 5 i\\\\right) \\\\left(x + i y\\\\right) + 5 - 3 i = 0,$ \\\\\\\\ \\n$\\\\left(1 + i\\\\right) \\\\left(x \\\\left(1 - 4 i\\\\right) - 7 i y + 1 - 4 i\\\\right) = 0,$\\\\\\\\\\n$\\\\left\\\\{\\n\\t\\\\begin{array}{c}\\n\\t\\t5 x + 7 y + 5 = 0\\\\\\\\\\n\\t\\t- 3 x - 7 y - 3 = 0\\n\\t\\\\end{array}\\n\\\\right.$ \\\\\\\\\\n$z = \\\\left\\\\{ x : -1, \\\\  y : 0\\\\right\\\\}.$')"
      ]
     },
     "execution_count": 78,
     "metadata": {},
     "output_type": "execute_result"
    }
   ],
   "execution_count": 78
  },
  {
   "metadata": {
    "ExecuteTime": {
     "end_time": "2024-09-11T07:56:29.899723Z",
     "start_time": "2024-09-11T07:56:29.893410Z"
    }
   },
   "cell_type": "code",
   "source": [
    "print(\"\\033[34m** Zadanie **\" + '*' * 81 + '\\033[0m')\n",
    "print(zadanie[0])\n",
    "print(\"\\033[34m*\\033[0m\" * 95)\n",
    "print(\"\\033[32m** Rozwiązanie **\" + '*' * 78 + '\\033[0m')\n",
    "print(zadanie[1])\n",
    "print(\"\\033[32m*\\033[0m\" * 95)"
   ],
   "outputs": [
    {
     "name": "stdout",
     "output_type": "stream",
     "text": [
      "\u001B[34m** Zadanie ***********************************************************************************\u001B[0m\n",
      "Rozwiązać równanie w zbiorze liczb zespolonych\n",
      "\t\\[\n",
      "\t\tz \\left(-1 - 5 i\\right) + \\left(6 + 2 i\\right) \\overline{z} + 5 - 3 i = 0\n",
      "\t\\]\n",
      "\u001B[34m*\u001B[0m\u001B[34m*\u001B[0m\u001B[34m*\u001B[0m\u001B[34m*\u001B[0m\u001B[34m*\u001B[0m\u001B[34m*\u001B[0m\u001B[34m*\u001B[0m\u001B[34m*\u001B[0m\u001B[34m*\u001B[0m\u001B[34m*\u001B[0m\u001B[34m*\u001B[0m\u001B[34m*\u001B[0m\u001B[34m*\u001B[0m\u001B[34m*\u001B[0m\u001B[34m*\u001B[0m\u001B[34m*\u001B[0m\u001B[34m*\u001B[0m\u001B[34m*\u001B[0m\u001B[34m*\u001B[0m\u001B[34m*\u001B[0m\u001B[34m*\u001B[0m\u001B[34m*\u001B[0m\u001B[34m*\u001B[0m\u001B[34m*\u001B[0m\u001B[34m*\u001B[0m\u001B[34m*\u001B[0m\u001B[34m*\u001B[0m\u001B[34m*\u001B[0m\u001B[34m*\u001B[0m\u001B[34m*\u001B[0m\u001B[34m*\u001B[0m\u001B[34m*\u001B[0m\u001B[34m*\u001B[0m\u001B[34m*\u001B[0m\u001B[34m*\u001B[0m\u001B[34m*\u001B[0m\u001B[34m*\u001B[0m\u001B[34m*\u001B[0m\u001B[34m*\u001B[0m\u001B[34m*\u001B[0m\u001B[34m*\u001B[0m\u001B[34m*\u001B[0m\u001B[34m*\u001B[0m\u001B[34m*\u001B[0m\u001B[34m*\u001B[0m\u001B[34m*\u001B[0m\u001B[34m*\u001B[0m\u001B[34m*\u001B[0m\u001B[34m*\u001B[0m\u001B[34m*\u001B[0m\u001B[34m*\u001B[0m\u001B[34m*\u001B[0m\u001B[34m*\u001B[0m\u001B[34m*\u001B[0m\u001B[34m*\u001B[0m\u001B[34m*\u001B[0m\u001B[34m*\u001B[0m\u001B[34m*\u001B[0m\u001B[34m*\u001B[0m\u001B[34m*\u001B[0m\u001B[34m*\u001B[0m\u001B[34m*\u001B[0m\u001B[34m*\u001B[0m\u001B[34m*\u001B[0m\u001B[34m*\u001B[0m\u001B[34m*\u001B[0m\u001B[34m*\u001B[0m\u001B[34m*\u001B[0m\u001B[34m*\u001B[0m\u001B[34m*\u001B[0m\u001B[34m*\u001B[0m\u001B[34m*\u001B[0m\u001B[34m*\u001B[0m\u001B[34m*\u001B[0m\u001B[34m*\u001B[0m\u001B[34m*\u001B[0m\u001B[34m*\u001B[0m\u001B[34m*\u001B[0m\u001B[34m*\u001B[0m\u001B[34m*\u001B[0m\u001B[34m*\u001B[0m\u001B[34m*\u001B[0m\u001B[34m*\u001B[0m\u001B[34m*\u001B[0m\u001B[34m*\u001B[0m\u001B[34m*\u001B[0m\u001B[34m*\u001B[0m\u001B[34m*\u001B[0m\u001B[34m*\u001B[0m\u001B[34m*\u001B[0m\u001B[34m*\u001B[0m\u001B[34m*\u001B[0m\u001B[34m*\u001B[0m\u001B[34m*\u001B[0m\u001B[34m*\u001B[0m\n",
      "\u001B[32m** Rozwiązanie ********************************************************************************\u001B[0m\n",
      "$\\left(6 + 2 i\\right) \\left(x - i y\\right) + \\left(-1 - 5 i\\right) \\left(x + i y\\right) + 5 - 3 i = 0,$ \\\\ \n",
      "$\\left(1 + i\\right) \\left(x \\left(1 - 4 i\\right) - 7 i y + 1 - 4 i\\right) = 0,$\\\\\n",
      "$\\left\\{\n",
      "\t\\begin{array}{c}\n",
      "\t\t5 x + 7 y + 5 = 0\\\\\n",
      "\t\t- 3 x - 7 y - 3 = 0\n",
      "\t\\end{array}\n",
      "\\right.$ \\\\\n",
      "$z = \\left\\{ x : -1, \\  y : 0\\right\\}.$\n",
      "\u001B[32m*\u001B[0m\u001B[32m*\u001B[0m\u001B[32m*\u001B[0m\u001B[32m*\u001B[0m\u001B[32m*\u001B[0m\u001B[32m*\u001B[0m\u001B[32m*\u001B[0m\u001B[32m*\u001B[0m\u001B[32m*\u001B[0m\u001B[32m*\u001B[0m\u001B[32m*\u001B[0m\u001B[32m*\u001B[0m\u001B[32m*\u001B[0m\u001B[32m*\u001B[0m\u001B[32m*\u001B[0m\u001B[32m*\u001B[0m\u001B[32m*\u001B[0m\u001B[32m*\u001B[0m\u001B[32m*\u001B[0m\u001B[32m*\u001B[0m\u001B[32m*\u001B[0m\u001B[32m*\u001B[0m\u001B[32m*\u001B[0m\u001B[32m*\u001B[0m\u001B[32m*\u001B[0m\u001B[32m*\u001B[0m\u001B[32m*\u001B[0m\u001B[32m*\u001B[0m\u001B[32m*\u001B[0m\u001B[32m*\u001B[0m\u001B[32m*\u001B[0m\u001B[32m*\u001B[0m\u001B[32m*\u001B[0m\u001B[32m*\u001B[0m\u001B[32m*\u001B[0m\u001B[32m*\u001B[0m\u001B[32m*\u001B[0m\u001B[32m*\u001B[0m\u001B[32m*\u001B[0m\u001B[32m*\u001B[0m\u001B[32m*\u001B[0m\u001B[32m*\u001B[0m\u001B[32m*\u001B[0m\u001B[32m*\u001B[0m\u001B[32m*\u001B[0m\u001B[32m*\u001B[0m\u001B[32m*\u001B[0m\u001B[32m*\u001B[0m\u001B[32m*\u001B[0m\u001B[32m*\u001B[0m\u001B[32m*\u001B[0m\u001B[32m*\u001B[0m\u001B[32m*\u001B[0m\u001B[32m*\u001B[0m\u001B[32m*\u001B[0m\u001B[32m*\u001B[0m\u001B[32m*\u001B[0m\u001B[32m*\u001B[0m\u001B[32m*\u001B[0m\u001B[32m*\u001B[0m\u001B[32m*\u001B[0m\u001B[32m*\u001B[0m\u001B[32m*\u001B[0m\u001B[32m*\u001B[0m\u001B[32m*\u001B[0m\u001B[32m*\u001B[0m\u001B[32m*\u001B[0m\u001B[32m*\u001B[0m\u001B[32m*\u001B[0m\u001B[32m*\u001B[0m\u001B[32m*\u001B[0m\u001B[32m*\u001B[0m\u001B[32m*\u001B[0m\u001B[32m*\u001B[0m\u001B[32m*\u001B[0m\u001B[32m*\u001B[0m\u001B[32m*\u001B[0m\u001B[32m*\u001B[0m\u001B[32m*\u001B[0m\u001B[32m*\u001B[0m\u001B[32m*\u001B[0m\u001B[32m*\u001B[0m\u001B[32m*\u001B[0m\u001B[32m*\u001B[0m\u001B[32m*\u001B[0m\u001B[32m*\u001B[0m\u001B[32m*\u001B[0m\u001B[32m*\u001B[0m\u001B[32m*\u001B[0m\u001B[32m*\u001B[0m\u001B[32m*\u001B[0m\u001B[32m*\u001B[0m\u001B[32m*\u001B[0m\u001B[32m*\u001B[0m\u001B[32m*\u001B[0m\n"
     ]
    }
   ],
   "execution_count": 79
  },
  {
   "metadata": {
    "ExecuteTime": {
     "end_time": "2024-09-11T07:57:51.234658Z",
     "start_time": "2024-09-11T07:57:46.459085Z"
    }
   },
   "cell_type": "code",
   "source": [
    "for i in range(1, ile_zadan_przykladowych + 1):\n",
    "    z = gz.rownanie_ze_sprzezeniem(calkowite=choice([False, True]), kwadratowe=choice([False, True]))\n",
    "    print(f\"\\033[34m** Zadanie {i} **\" + '*' * 80 + '\\033[0m')\n",
    "    display(Markdown(z[0][:46].replace('\\\\ ', ' ')))\n",
    "    display(Latex(z[0][46:]))\n",
    "    print(\"\\033[34m*\\033[0m\" * 95)\n",
    "    print(\"\\033[32m** Rozwiązanie **\" + '*' * 78 + '\\033[0m')\n",
    "    rozwiazanie = z[1].replace('$ \\\\\\\\ \\n$', ' $ ').replace('$\\\\\\\\\\n$', ' $ ').replace('$ \\\\\\\\\\n$', ' $ ').split('$')\n",
    "    for i in range(1, len(rozwiazanie) - 1):\n",
    "        display(Latex('$$' + rozwiazanie[i] + '$$'))\n",
    "    print(\"\\033[32m*\\033[0m\" * 95)\n"
   ],
   "outputs": [
    {
     "name": "stdout",
     "output_type": "stream",
     "text": [
      "\u001B[34m** Zadanie 1 **********************************************************************************\u001B[0m\n"
     ]
    },
    {
     "data": {
      "text/plain": [
       "<IPython.core.display.Markdown object>"
      ],
      "text/markdown": "Rozwiązać równanie w zbiorze liczb zespolonych"
     },
     "metadata": {},
     "output_type": "display_data"
    },
    {
     "data": {
      "text/plain": [
       "<IPython.core.display.Latex object>"
      ],
      "text/latex": "\n\t\\[\n\t\tz \\left(-5 + i\\right) + \\left(3 - 4 i\\right) \\overline{z} + 1 + 3 i = 0\n\t\\]"
     },
     "metadata": {},
     "output_type": "display_data"
    },
    {
     "name": "stdout",
     "output_type": "stream",
     "text": [
      "\u001B[34m*\u001B[0m\u001B[34m*\u001B[0m\u001B[34m*\u001B[0m\u001B[34m*\u001B[0m\u001B[34m*\u001B[0m\u001B[34m*\u001B[0m\u001B[34m*\u001B[0m\u001B[34m*\u001B[0m\u001B[34m*\u001B[0m\u001B[34m*\u001B[0m\u001B[34m*\u001B[0m\u001B[34m*\u001B[0m\u001B[34m*\u001B[0m\u001B[34m*\u001B[0m\u001B[34m*\u001B[0m\u001B[34m*\u001B[0m\u001B[34m*\u001B[0m\u001B[34m*\u001B[0m\u001B[34m*\u001B[0m\u001B[34m*\u001B[0m\u001B[34m*\u001B[0m\u001B[34m*\u001B[0m\u001B[34m*\u001B[0m\u001B[34m*\u001B[0m\u001B[34m*\u001B[0m\u001B[34m*\u001B[0m\u001B[34m*\u001B[0m\u001B[34m*\u001B[0m\u001B[34m*\u001B[0m\u001B[34m*\u001B[0m\u001B[34m*\u001B[0m\u001B[34m*\u001B[0m\u001B[34m*\u001B[0m\u001B[34m*\u001B[0m\u001B[34m*\u001B[0m\u001B[34m*\u001B[0m\u001B[34m*\u001B[0m\u001B[34m*\u001B[0m\u001B[34m*\u001B[0m\u001B[34m*\u001B[0m\u001B[34m*\u001B[0m\u001B[34m*\u001B[0m\u001B[34m*\u001B[0m\u001B[34m*\u001B[0m\u001B[34m*\u001B[0m\u001B[34m*\u001B[0m\u001B[34m*\u001B[0m\u001B[34m*\u001B[0m\u001B[34m*\u001B[0m\u001B[34m*\u001B[0m\u001B[34m*\u001B[0m\u001B[34m*\u001B[0m\u001B[34m*\u001B[0m\u001B[34m*\u001B[0m\u001B[34m*\u001B[0m\u001B[34m*\u001B[0m\u001B[34m*\u001B[0m\u001B[34m*\u001B[0m\u001B[34m*\u001B[0m\u001B[34m*\u001B[0m\u001B[34m*\u001B[0m\u001B[34m*\u001B[0m\u001B[34m*\u001B[0m\u001B[34m*\u001B[0m\u001B[34m*\u001B[0m\u001B[34m*\u001B[0m\u001B[34m*\u001B[0m\u001B[34m*\u001B[0m\u001B[34m*\u001B[0m\u001B[34m*\u001B[0m\u001B[34m*\u001B[0m\u001B[34m*\u001B[0m\u001B[34m*\u001B[0m\u001B[34m*\u001B[0m\u001B[34m*\u001B[0m\u001B[34m*\u001B[0m\u001B[34m*\u001B[0m\u001B[34m*\u001B[0m\u001B[34m*\u001B[0m\u001B[34m*\u001B[0m\u001B[34m*\u001B[0m\u001B[34m*\u001B[0m\u001B[34m*\u001B[0m\u001B[34m*\u001B[0m\u001B[34m*\u001B[0m\u001B[34m*\u001B[0m\u001B[34m*\u001B[0m\u001B[34m*\u001B[0m\u001B[34m*\u001B[0m\u001B[34m*\u001B[0m\u001B[34m*\u001B[0m\u001B[34m*\u001B[0m\u001B[34m*\u001B[0m\u001B[34m*\u001B[0m\u001B[34m*\u001B[0m\n",
      "\u001B[32m** Rozwiązanie ********************************************************************************\u001B[0m\n"
     ]
    },
    {
     "data": {
      "text/plain": [
       "<IPython.core.display.Latex object>"
      ],
      "text/latex": "$$\\left(3 - 4 i\\right) \\left(x - i y\\right) + \\left(-5 + i\\right) \\left(x + i y\\right) + 1 + 3 i = 0, $$"
     },
     "metadata": {},
     "output_type": "display_data"
    },
    {
     "data": {
      "text/plain": [
       "<IPython.core.display.Latex object>"
      ],
      "text/latex": "$$ - i \\left(x \\left(3 - 2 i\\right) + y \\left(8 - 5 i\\right) - 3 + i\\right) = 0, $$"
     },
     "metadata": {},
     "output_type": "display_data"
    },
    {
     "data": {
      "text/plain": [
       "<IPython.core.display.Latex object>"
      ],
      "text/latex": "$$ \\left\\{\n\t\\begin{array}{c}\n\t\t- 2 x - 5 y + 1 = 0\\\\\n\t\t- 3 x - 8 y + 3 = 0\n\t\\end{array}\n\\right. $$"
     },
     "metadata": {},
     "output_type": "display_data"
    },
    {
     "data": {
      "text/plain": [
       "<IPython.core.display.Latex object>"
      ],
      "text/latex": "$$ z = \\left\\{ x : -7, \\  y : 3\\right\\}.$$"
     },
     "metadata": {},
     "output_type": "display_data"
    },
    {
     "name": "stdout",
     "output_type": "stream",
     "text": [
      "\u001B[32m*\u001B[0m\u001B[32m*\u001B[0m\u001B[32m*\u001B[0m\u001B[32m*\u001B[0m\u001B[32m*\u001B[0m\u001B[32m*\u001B[0m\u001B[32m*\u001B[0m\u001B[32m*\u001B[0m\u001B[32m*\u001B[0m\u001B[32m*\u001B[0m\u001B[32m*\u001B[0m\u001B[32m*\u001B[0m\u001B[32m*\u001B[0m\u001B[32m*\u001B[0m\u001B[32m*\u001B[0m\u001B[32m*\u001B[0m\u001B[32m*\u001B[0m\u001B[32m*\u001B[0m\u001B[32m*\u001B[0m\u001B[32m*\u001B[0m\u001B[32m*\u001B[0m\u001B[32m*\u001B[0m\u001B[32m*\u001B[0m\u001B[32m*\u001B[0m\u001B[32m*\u001B[0m\u001B[32m*\u001B[0m\u001B[32m*\u001B[0m\u001B[32m*\u001B[0m\u001B[32m*\u001B[0m\u001B[32m*\u001B[0m\u001B[32m*\u001B[0m\u001B[32m*\u001B[0m\u001B[32m*\u001B[0m\u001B[32m*\u001B[0m\u001B[32m*\u001B[0m\u001B[32m*\u001B[0m\u001B[32m*\u001B[0m\u001B[32m*\u001B[0m\u001B[32m*\u001B[0m\u001B[32m*\u001B[0m\u001B[32m*\u001B[0m\u001B[32m*\u001B[0m\u001B[32m*\u001B[0m\u001B[32m*\u001B[0m\u001B[32m*\u001B[0m\u001B[32m*\u001B[0m\u001B[32m*\u001B[0m\u001B[32m*\u001B[0m\u001B[32m*\u001B[0m\u001B[32m*\u001B[0m\u001B[32m*\u001B[0m\u001B[32m*\u001B[0m\u001B[32m*\u001B[0m\u001B[32m*\u001B[0m\u001B[32m*\u001B[0m\u001B[32m*\u001B[0m\u001B[32m*\u001B[0m\u001B[32m*\u001B[0m\u001B[32m*\u001B[0m\u001B[32m*\u001B[0m\u001B[32m*\u001B[0m\u001B[32m*\u001B[0m\u001B[32m*\u001B[0m\u001B[32m*\u001B[0m\u001B[32m*\u001B[0m\u001B[32m*\u001B[0m\u001B[32m*\u001B[0m\u001B[32m*\u001B[0m\u001B[32m*\u001B[0m\u001B[32m*\u001B[0m\u001B[32m*\u001B[0m\u001B[32m*\u001B[0m\u001B[32m*\u001B[0m\u001B[32m*\u001B[0m\u001B[32m*\u001B[0m\u001B[32m*\u001B[0m\u001B[32m*\u001B[0m\u001B[32m*\u001B[0m\u001B[32m*\u001B[0m\u001B[32m*\u001B[0m\u001B[32m*\u001B[0m\u001B[32m*\u001B[0m\u001B[32m*\u001B[0m\u001B[32m*\u001B[0m\u001B[32m*\u001B[0m\u001B[32m*\u001B[0m\u001B[32m*\u001B[0m\u001B[32m*\u001B[0m\u001B[32m*\u001B[0m\u001B[32m*\u001B[0m\u001B[32m*\u001B[0m\u001B[32m*\u001B[0m\u001B[32m*\u001B[0m\u001B[32m*\u001B[0m\u001B[32m*\u001B[0m\n",
      "\u001B[34m** Zadanie 2 **********************************************************************************\u001B[0m\n"
     ]
    },
    {
     "data": {
      "text/plain": [
       "<IPython.core.display.Markdown object>"
      ],
      "text/markdown": "Rozwiązać równanie w zbiorze liczb zespolonych"
     },
     "metadata": {},
     "output_type": "display_data"
    },
    {
     "data": {
      "text/plain": [
       "<IPython.core.display.Latex object>"
      ],
      "text/latex": "\n\t\\[\n\t\tz^{2} + \\overline{z} - 6 = 0\n\t\\]"
     },
     "metadata": {},
     "output_type": "display_data"
    },
    {
     "name": "stdout",
     "output_type": "stream",
     "text": [
      "\u001B[34m*\u001B[0m\u001B[34m*\u001B[0m\u001B[34m*\u001B[0m\u001B[34m*\u001B[0m\u001B[34m*\u001B[0m\u001B[34m*\u001B[0m\u001B[34m*\u001B[0m\u001B[34m*\u001B[0m\u001B[34m*\u001B[0m\u001B[34m*\u001B[0m\u001B[34m*\u001B[0m\u001B[34m*\u001B[0m\u001B[34m*\u001B[0m\u001B[34m*\u001B[0m\u001B[34m*\u001B[0m\u001B[34m*\u001B[0m\u001B[34m*\u001B[0m\u001B[34m*\u001B[0m\u001B[34m*\u001B[0m\u001B[34m*\u001B[0m\u001B[34m*\u001B[0m\u001B[34m*\u001B[0m\u001B[34m*\u001B[0m\u001B[34m*\u001B[0m\u001B[34m*\u001B[0m\u001B[34m*\u001B[0m\u001B[34m*\u001B[0m\u001B[34m*\u001B[0m\u001B[34m*\u001B[0m\u001B[34m*\u001B[0m\u001B[34m*\u001B[0m\u001B[34m*\u001B[0m\u001B[34m*\u001B[0m\u001B[34m*\u001B[0m\u001B[34m*\u001B[0m\u001B[34m*\u001B[0m\u001B[34m*\u001B[0m\u001B[34m*\u001B[0m\u001B[34m*\u001B[0m\u001B[34m*\u001B[0m\u001B[34m*\u001B[0m\u001B[34m*\u001B[0m\u001B[34m*\u001B[0m\u001B[34m*\u001B[0m\u001B[34m*\u001B[0m\u001B[34m*\u001B[0m\u001B[34m*\u001B[0m\u001B[34m*\u001B[0m\u001B[34m*\u001B[0m\u001B[34m*\u001B[0m\u001B[34m*\u001B[0m\u001B[34m*\u001B[0m\u001B[34m*\u001B[0m\u001B[34m*\u001B[0m\u001B[34m*\u001B[0m\u001B[34m*\u001B[0m\u001B[34m*\u001B[0m\u001B[34m*\u001B[0m\u001B[34m*\u001B[0m\u001B[34m*\u001B[0m\u001B[34m*\u001B[0m\u001B[34m*\u001B[0m\u001B[34m*\u001B[0m\u001B[34m*\u001B[0m\u001B[34m*\u001B[0m\u001B[34m*\u001B[0m\u001B[34m*\u001B[0m\u001B[34m*\u001B[0m\u001B[34m*\u001B[0m\u001B[34m*\u001B[0m\u001B[34m*\u001B[0m\u001B[34m*\u001B[0m\u001B[34m*\u001B[0m\u001B[34m*\u001B[0m\u001B[34m*\u001B[0m\u001B[34m*\u001B[0m\u001B[34m*\u001B[0m\u001B[34m*\u001B[0m\u001B[34m*\u001B[0m\u001B[34m*\u001B[0m\u001B[34m*\u001B[0m\u001B[34m*\u001B[0m\u001B[34m*\u001B[0m\u001B[34m*\u001B[0m\u001B[34m*\u001B[0m\u001B[34m*\u001B[0m\u001B[34m*\u001B[0m\u001B[34m*\u001B[0m\u001B[34m*\u001B[0m\u001B[34m*\u001B[0m\u001B[34m*\u001B[0m\u001B[34m*\u001B[0m\u001B[34m*\u001B[0m\u001B[34m*\u001B[0m\u001B[34m*\u001B[0m\n",
      "\u001B[32m** Rozwiązanie ********************************************************************************\u001B[0m\n"
     ]
    },
    {
     "data": {
      "text/plain": [
       "<IPython.core.display.Latex object>"
      ],
      "text/latex": "$$x - i y + \\left(x + i y\\right)^{2} - 6 = 0, $$"
     },
     "metadata": {},
     "output_type": "display_data"
    },
    {
     "data": {
      "text/plain": [
       "<IPython.core.display.Latex object>"
      ],
      "text/latex": "$$ x^{2} + 2 i x y + x - y^{2} - i y - 6 = 0, $$"
     },
     "metadata": {},
     "output_type": "display_data"
    },
    {
     "data": {
      "text/plain": [
       "<IPython.core.display.Latex object>"
      ],
      "text/latex": "$$ \\left\\{\n\t\\begin{array}{c}\n\t\tx^{2} + x - y^{2} - 6 = 0\\\\\n\t\t2 x y - y = 0\n\t\\end{array}\n\\right. $$"
     },
     "metadata": {},
     "output_type": "display_data"
    },
    {
     "data": {
      "text/plain": [
       "<IPython.core.display.Latex object>"
      ],
      "text/latex": "$$ z = \\left[ \\left\\{ x : -3, \\  y : 0\\right\\}, \\  \\left\\{ x : 2, \\  y : 0\\right\\}\\right].$$"
     },
     "metadata": {},
     "output_type": "display_data"
    },
    {
     "name": "stdout",
     "output_type": "stream",
     "text": [
      "\u001B[32m*\u001B[0m\u001B[32m*\u001B[0m\u001B[32m*\u001B[0m\u001B[32m*\u001B[0m\u001B[32m*\u001B[0m\u001B[32m*\u001B[0m\u001B[32m*\u001B[0m\u001B[32m*\u001B[0m\u001B[32m*\u001B[0m\u001B[32m*\u001B[0m\u001B[32m*\u001B[0m\u001B[32m*\u001B[0m\u001B[32m*\u001B[0m\u001B[32m*\u001B[0m\u001B[32m*\u001B[0m\u001B[32m*\u001B[0m\u001B[32m*\u001B[0m\u001B[32m*\u001B[0m\u001B[32m*\u001B[0m\u001B[32m*\u001B[0m\u001B[32m*\u001B[0m\u001B[32m*\u001B[0m\u001B[32m*\u001B[0m\u001B[32m*\u001B[0m\u001B[32m*\u001B[0m\u001B[32m*\u001B[0m\u001B[32m*\u001B[0m\u001B[32m*\u001B[0m\u001B[32m*\u001B[0m\u001B[32m*\u001B[0m\u001B[32m*\u001B[0m\u001B[32m*\u001B[0m\u001B[32m*\u001B[0m\u001B[32m*\u001B[0m\u001B[32m*\u001B[0m\u001B[32m*\u001B[0m\u001B[32m*\u001B[0m\u001B[32m*\u001B[0m\u001B[32m*\u001B[0m\u001B[32m*\u001B[0m\u001B[32m*\u001B[0m\u001B[32m*\u001B[0m\u001B[32m*\u001B[0m\u001B[32m*\u001B[0m\u001B[32m*\u001B[0m\u001B[32m*\u001B[0m\u001B[32m*\u001B[0m\u001B[32m*\u001B[0m\u001B[32m*\u001B[0m\u001B[32m*\u001B[0m\u001B[32m*\u001B[0m\u001B[32m*\u001B[0m\u001B[32m*\u001B[0m\u001B[32m*\u001B[0m\u001B[32m*\u001B[0m\u001B[32m*\u001B[0m\u001B[32m*\u001B[0m\u001B[32m*\u001B[0m\u001B[32m*\u001B[0m\u001B[32m*\u001B[0m\u001B[32m*\u001B[0m\u001B[32m*\u001B[0m\u001B[32m*\u001B[0m\u001B[32m*\u001B[0m\u001B[32m*\u001B[0m\u001B[32m*\u001B[0m\u001B[32m*\u001B[0m\u001B[32m*\u001B[0m\u001B[32m*\u001B[0m\u001B[32m*\u001B[0m\u001B[32m*\u001B[0m\u001B[32m*\u001B[0m\u001B[32m*\u001B[0m\u001B[32m*\u001B[0m\u001B[32m*\u001B[0m\u001B[32m*\u001B[0m\u001B[32m*\u001B[0m\u001B[32m*\u001B[0m\u001B[32m*\u001B[0m\u001B[32m*\u001B[0m\u001B[32m*\u001B[0m\u001B[32m*\u001B[0m\u001B[32m*\u001B[0m\u001B[32m*\u001B[0m\u001B[32m*\u001B[0m\u001B[32m*\u001B[0m\u001B[32m*\u001B[0m\u001B[32m*\u001B[0m\u001B[32m*\u001B[0m\u001B[32m*\u001B[0m\u001B[32m*\u001B[0m\u001B[32m*\u001B[0m\u001B[32m*\u001B[0m\u001B[32m*\u001B[0m\u001B[32m*\u001B[0m\n",
      "\u001B[34m** Zadanie 3 **********************************************************************************\u001B[0m\n"
     ]
    },
    {
     "data": {
      "text/plain": [
       "<IPython.core.display.Markdown object>"
      ],
      "text/markdown": "Rozwiązać równanie w zbiorze liczb zespolonych"
     },
     "metadata": {},
     "output_type": "display_data"
    },
    {
     "data": {
      "text/plain": [
       "<IPython.core.display.Latex object>"
      ],
      "text/latex": "\n\t\\[\n\t\tz^{2} + \\overline{z} - 2 = 0\n\t\\]"
     },
     "metadata": {},
     "output_type": "display_data"
    },
    {
     "name": "stdout",
     "output_type": "stream",
     "text": [
      "\u001B[34m*\u001B[0m\u001B[34m*\u001B[0m\u001B[34m*\u001B[0m\u001B[34m*\u001B[0m\u001B[34m*\u001B[0m\u001B[34m*\u001B[0m\u001B[34m*\u001B[0m\u001B[34m*\u001B[0m\u001B[34m*\u001B[0m\u001B[34m*\u001B[0m\u001B[34m*\u001B[0m\u001B[34m*\u001B[0m\u001B[34m*\u001B[0m\u001B[34m*\u001B[0m\u001B[34m*\u001B[0m\u001B[34m*\u001B[0m\u001B[34m*\u001B[0m\u001B[34m*\u001B[0m\u001B[34m*\u001B[0m\u001B[34m*\u001B[0m\u001B[34m*\u001B[0m\u001B[34m*\u001B[0m\u001B[34m*\u001B[0m\u001B[34m*\u001B[0m\u001B[34m*\u001B[0m\u001B[34m*\u001B[0m\u001B[34m*\u001B[0m\u001B[34m*\u001B[0m\u001B[34m*\u001B[0m\u001B[34m*\u001B[0m\u001B[34m*\u001B[0m\u001B[34m*\u001B[0m\u001B[34m*\u001B[0m\u001B[34m*\u001B[0m\u001B[34m*\u001B[0m\u001B[34m*\u001B[0m\u001B[34m*\u001B[0m\u001B[34m*\u001B[0m\u001B[34m*\u001B[0m\u001B[34m*\u001B[0m\u001B[34m*\u001B[0m\u001B[34m*\u001B[0m\u001B[34m*\u001B[0m\u001B[34m*\u001B[0m\u001B[34m*\u001B[0m\u001B[34m*\u001B[0m\u001B[34m*\u001B[0m\u001B[34m*\u001B[0m\u001B[34m*\u001B[0m\u001B[34m*\u001B[0m\u001B[34m*\u001B[0m\u001B[34m*\u001B[0m\u001B[34m*\u001B[0m\u001B[34m*\u001B[0m\u001B[34m*\u001B[0m\u001B[34m*\u001B[0m\u001B[34m*\u001B[0m\u001B[34m*\u001B[0m\u001B[34m*\u001B[0m\u001B[34m*\u001B[0m\u001B[34m*\u001B[0m\u001B[34m*\u001B[0m\u001B[34m*\u001B[0m\u001B[34m*\u001B[0m\u001B[34m*\u001B[0m\u001B[34m*\u001B[0m\u001B[34m*\u001B[0m\u001B[34m*\u001B[0m\u001B[34m*\u001B[0m\u001B[34m*\u001B[0m\u001B[34m*\u001B[0m\u001B[34m*\u001B[0m\u001B[34m*\u001B[0m\u001B[34m*\u001B[0m\u001B[34m*\u001B[0m\u001B[34m*\u001B[0m\u001B[34m*\u001B[0m\u001B[34m*\u001B[0m\u001B[34m*\u001B[0m\u001B[34m*\u001B[0m\u001B[34m*\u001B[0m\u001B[34m*\u001B[0m\u001B[34m*\u001B[0m\u001B[34m*\u001B[0m\u001B[34m*\u001B[0m\u001B[34m*\u001B[0m\u001B[34m*\u001B[0m\u001B[34m*\u001B[0m\u001B[34m*\u001B[0m\u001B[34m*\u001B[0m\u001B[34m*\u001B[0m\u001B[34m*\u001B[0m\u001B[34m*\u001B[0m\u001B[34m*\u001B[0m\u001B[34m*\u001B[0m\n",
      "\u001B[32m** Rozwiązanie ********************************************************************************\u001B[0m\n"
     ]
    },
    {
     "data": {
      "text/plain": [
       "<IPython.core.display.Latex object>"
      ],
      "text/latex": "$$x - i y + \\left(x + i y\\right)^{2} - 2 = 0, $$"
     },
     "metadata": {},
     "output_type": "display_data"
    },
    {
     "data": {
      "text/plain": [
       "<IPython.core.display.Latex object>"
      ],
      "text/latex": "$$ x^{2} + 2 i x y + x - y^{2} - i y - 2 = 0, $$"
     },
     "metadata": {},
     "output_type": "display_data"
    },
    {
     "data": {
      "text/plain": [
       "<IPython.core.display.Latex object>"
      ],
      "text/latex": "$$ \\left\\{\n\t\\begin{array}{c}\n\t\tx^{2} + x - y^{2} - 2 = 0\\\\\n\t\t2 x y - y = 0\n\t\\end{array}\n\\right. $$"
     },
     "metadata": {},
     "output_type": "display_data"
    },
    {
     "data": {
      "text/plain": [
       "<IPython.core.display.Latex object>"
      ],
      "text/latex": "$$ z = \\left[ \\left\\{ x : -2, \\  y : 0\\right\\}, \\  \\left\\{ x : 1, \\  y : 0\\right\\}\\right].$$"
     },
     "metadata": {},
     "output_type": "display_data"
    },
    {
     "name": "stdout",
     "output_type": "stream",
     "text": [
      "\u001B[32m*\u001B[0m\u001B[32m*\u001B[0m\u001B[32m*\u001B[0m\u001B[32m*\u001B[0m\u001B[32m*\u001B[0m\u001B[32m*\u001B[0m\u001B[32m*\u001B[0m\u001B[32m*\u001B[0m\u001B[32m*\u001B[0m\u001B[32m*\u001B[0m\u001B[32m*\u001B[0m\u001B[32m*\u001B[0m\u001B[32m*\u001B[0m\u001B[32m*\u001B[0m\u001B[32m*\u001B[0m\u001B[32m*\u001B[0m\u001B[32m*\u001B[0m\u001B[32m*\u001B[0m\u001B[32m*\u001B[0m\u001B[32m*\u001B[0m\u001B[32m*\u001B[0m\u001B[32m*\u001B[0m\u001B[32m*\u001B[0m\u001B[32m*\u001B[0m\u001B[32m*\u001B[0m\u001B[32m*\u001B[0m\u001B[32m*\u001B[0m\u001B[32m*\u001B[0m\u001B[32m*\u001B[0m\u001B[32m*\u001B[0m\u001B[32m*\u001B[0m\u001B[32m*\u001B[0m\u001B[32m*\u001B[0m\u001B[32m*\u001B[0m\u001B[32m*\u001B[0m\u001B[32m*\u001B[0m\u001B[32m*\u001B[0m\u001B[32m*\u001B[0m\u001B[32m*\u001B[0m\u001B[32m*\u001B[0m\u001B[32m*\u001B[0m\u001B[32m*\u001B[0m\u001B[32m*\u001B[0m\u001B[32m*\u001B[0m\u001B[32m*\u001B[0m\u001B[32m*\u001B[0m\u001B[32m*\u001B[0m\u001B[32m*\u001B[0m\u001B[32m*\u001B[0m\u001B[32m*\u001B[0m\u001B[32m*\u001B[0m\u001B[32m*\u001B[0m\u001B[32m*\u001B[0m\u001B[32m*\u001B[0m\u001B[32m*\u001B[0m\u001B[32m*\u001B[0m\u001B[32m*\u001B[0m\u001B[32m*\u001B[0m\u001B[32m*\u001B[0m\u001B[32m*\u001B[0m\u001B[32m*\u001B[0m\u001B[32m*\u001B[0m\u001B[32m*\u001B[0m\u001B[32m*\u001B[0m\u001B[32m*\u001B[0m\u001B[32m*\u001B[0m\u001B[32m*\u001B[0m\u001B[32m*\u001B[0m\u001B[32m*\u001B[0m\u001B[32m*\u001B[0m\u001B[32m*\u001B[0m\u001B[32m*\u001B[0m\u001B[32m*\u001B[0m\u001B[32m*\u001B[0m\u001B[32m*\u001B[0m\u001B[32m*\u001B[0m\u001B[32m*\u001B[0m\u001B[32m*\u001B[0m\u001B[32m*\u001B[0m\u001B[32m*\u001B[0m\u001B[32m*\u001B[0m\u001B[32m*\u001B[0m\u001B[32m*\u001B[0m\u001B[32m*\u001B[0m\u001B[32m*\u001B[0m\u001B[32m*\u001B[0m\u001B[32m*\u001B[0m\u001B[32m*\u001B[0m\u001B[32m*\u001B[0m\u001B[32m*\u001B[0m\u001B[32m*\u001B[0m\u001B[32m*\u001B[0m\u001B[32m*\u001B[0m\u001B[32m*\u001B[0m\u001B[32m*\u001B[0m\n",
      "\u001B[34m** Zadanie 4 **********************************************************************************\u001B[0m\n"
     ]
    },
    {
     "data": {
      "text/plain": [
       "<IPython.core.display.Markdown object>"
      ],
      "text/markdown": "Rozwiązać równanie w zbiorze liczb zespolonych"
     },
     "metadata": {},
     "output_type": "display_data"
    },
    {
     "data": {
      "text/plain": [
       "<IPython.core.display.Latex object>"
      ],
      "text/latex": "\n\t\\[\n\t\tz \\left(2 + 5 i\\right) + \\left(7 + 2 i\\right) \\overline{z} + 6 - 6 i = 0\n\t\\]"
     },
     "metadata": {},
     "output_type": "display_data"
    },
    {
     "name": "stdout",
     "output_type": "stream",
     "text": [
      "\u001B[34m*\u001B[0m\u001B[34m*\u001B[0m\u001B[34m*\u001B[0m\u001B[34m*\u001B[0m\u001B[34m*\u001B[0m\u001B[34m*\u001B[0m\u001B[34m*\u001B[0m\u001B[34m*\u001B[0m\u001B[34m*\u001B[0m\u001B[34m*\u001B[0m\u001B[34m*\u001B[0m\u001B[34m*\u001B[0m\u001B[34m*\u001B[0m\u001B[34m*\u001B[0m\u001B[34m*\u001B[0m\u001B[34m*\u001B[0m\u001B[34m*\u001B[0m\u001B[34m*\u001B[0m\u001B[34m*\u001B[0m\u001B[34m*\u001B[0m\u001B[34m*\u001B[0m\u001B[34m*\u001B[0m\u001B[34m*\u001B[0m\u001B[34m*\u001B[0m\u001B[34m*\u001B[0m\u001B[34m*\u001B[0m\u001B[34m*\u001B[0m\u001B[34m*\u001B[0m\u001B[34m*\u001B[0m\u001B[34m*\u001B[0m\u001B[34m*\u001B[0m\u001B[34m*\u001B[0m\u001B[34m*\u001B[0m\u001B[34m*\u001B[0m\u001B[34m*\u001B[0m\u001B[34m*\u001B[0m\u001B[34m*\u001B[0m\u001B[34m*\u001B[0m\u001B[34m*\u001B[0m\u001B[34m*\u001B[0m\u001B[34m*\u001B[0m\u001B[34m*\u001B[0m\u001B[34m*\u001B[0m\u001B[34m*\u001B[0m\u001B[34m*\u001B[0m\u001B[34m*\u001B[0m\u001B[34m*\u001B[0m\u001B[34m*\u001B[0m\u001B[34m*\u001B[0m\u001B[34m*\u001B[0m\u001B[34m*\u001B[0m\u001B[34m*\u001B[0m\u001B[34m*\u001B[0m\u001B[34m*\u001B[0m\u001B[34m*\u001B[0m\u001B[34m*\u001B[0m\u001B[34m*\u001B[0m\u001B[34m*\u001B[0m\u001B[34m*\u001B[0m\u001B[34m*\u001B[0m\u001B[34m*\u001B[0m\u001B[34m*\u001B[0m\u001B[34m*\u001B[0m\u001B[34m*\u001B[0m\u001B[34m*\u001B[0m\u001B[34m*\u001B[0m\u001B[34m*\u001B[0m\u001B[34m*\u001B[0m\u001B[34m*\u001B[0m\u001B[34m*\u001B[0m\u001B[34m*\u001B[0m\u001B[34m*\u001B[0m\u001B[34m*\u001B[0m\u001B[34m*\u001B[0m\u001B[34m*\u001B[0m\u001B[34m*\u001B[0m\u001B[34m*\u001B[0m\u001B[34m*\u001B[0m\u001B[34m*\u001B[0m\u001B[34m*\u001B[0m\u001B[34m*\u001B[0m\u001B[34m*\u001B[0m\u001B[34m*\u001B[0m\u001B[34m*\u001B[0m\u001B[34m*\u001B[0m\u001B[34m*\u001B[0m\u001B[34m*\u001B[0m\u001B[34m*\u001B[0m\u001B[34m*\u001B[0m\u001B[34m*\u001B[0m\u001B[34m*\u001B[0m\u001B[34m*\u001B[0m\u001B[34m*\u001B[0m\u001B[34m*\u001B[0m\u001B[34m*\u001B[0m\n",
      "\u001B[32m** Rozwiązanie ********************************************************************************\u001B[0m\n"
     ]
    },
    {
     "data": {
      "text/plain": [
       "<IPython.core.display.Latex object>"
      ],
      "text/latex": "$$\\left(7 + 2 i\\right) \\left(x - i y\\right) + \\left(2 + 5 i\\right) \\left(x + i y\\right) + 6 - 6 i = 0, $$"
     },
     "metadata": {},
     "output_type": "display_data"
    },
    {
     "data": {
      "text/plain": [
       "<IPython.core.display.Latex object>"
      ],
      "text/latex": "$$ \\left(1 + i\\right) \\left(x \\left(8 - i\\right) + y \\left(-4 - i\\right) - 6 i\\right) = 0, $$"
     },
     "metadata": {},
     "output_type": "display_data"
    },
    {
     "data": {
      "text/plain": [
       "<IPython.core.display.Latex object>"
      ],
      "text/latex": "$$ \\left\\{\n\t\\begin{array}{c}\n\t\t9 x - 3 y + 6 = 0\\\\\n\t\t7 x - 5 y - 6 = 0\n\t\\end{array}\n\\right. $$"
     },
     "metadata": {},
     "output_type": "display_data"
    },
    {
     "data": {
      "text/plain": [
       "<IPython.core.display.Latex object>"
      ],
      "text/latex": "$$ z = \\left\\{ x : -2, \\  y : -4\\right\\}.$$"
     },
     "metadata": {},
     "output_type": "display_data"
    },
    {
     "name": "stdout",
     "output_type": "stream",
     "text": [
      "\u001B[32m*\u001B[0m\u001B[32m*\u001B[0m\u001B[32m*\u001B[0m\u001B[32m*\u001B[0m\u001B[32m*\u001B[0m\u001B[32m*\u001B[0m\u001B[32m*\u001B[0m\u001B[32m*\u001B[0m\u001B[32m*\u001B[0m\u001B[32m*\u001B[0m\u001B[32m*\u001B[0m\u001B[32m*\u001B[0m\u001B[32m*\u001B[0m\u001B[32m*\u001B[0m\u001B[32m*\u001B[0m\u001B[32m*\u001B[0m\u001B[32m*\u001B[0m\u001B[32m*\u001B[0m\u001B[32m*\u001B[0m\u001B[32m*\u001B[0m\u001B[32m*\u001B[0m\u001B[32m*\u001B[0m\u001B[32m*\u001B[0m\u001B[32m*\u001B[0m\u001B[32m*\u001B[0m\u001B[32m*\u001B[0m\u001B[32m*\u001B[0m\u001B[32m*\u001B[0m\u001B[32m*\u001B[0m\u001B[32m*\u001B[0m\u001B[32m*\u001B[0m\u001B[32m*\u001B[0m\u001B[32m*\u001B[0m\u001B[32m*\u001B[0m\u001B[32m*\u001B[0m\u001B[32m*\u001B[0m\u001B[32m*\u001B[0m\u001B[32m*\u001B[0m\u001B[32m*\u001B[0m\u001B[32m*\u001B[0m\u001B[32m*\u001B[0m\u001B[32m*\u001B[0m\u001B[32m*\u001B[0m\u001B[32m*\u001B[0m\u001B[32m*\u001B[0m\u001B[32m*\u001B[0m\u001B[32m*\u001B[0m\u001B[32m*\u001B[0m\u001B[32m*\u001B[0m\u001B[32m*\u001B[0m\u001B[32m*\u001B[0m\u001B[32m*\u001B[0m\u001B[32m*\u001B[0m\u001B[32m*\u001B[0m\u001B[32m*\u001B[0m\u001B[32m*\u001B[0m\u001B[32m*\u001B[0m\u001B[32m*\u001B[0m\u001B[32m*\u001B[0m\u001B[32m*\u001B[0m\u001B[32m*\u001B[0m\u001B[32m*\u001B[0m\u001B[32m*\u001B[0m\u001B[32m*\u001B[0m\u001B[32m*\u001B[0m\u001B[32m*\u001B[0m\u001B[32m*\u001B[0m\u001B[32m*\u001B[0m\u001B[32m*\u001B[0m\u001B[32m*\u001B[0m\u001B[32m*\u001B[0m\u001B[32m*\u001B[0m\u001B[32m*\u001B[0m\u001B[32m*\u001B[0m\u001B[32m*\u001B[0m\u001B[32m*\u001B[0m\u001B[32m*\u001B[0m\u001B[32m*\u001B[0m\u001B[32m*\u001B[0m\u001B[32m*\u001B[0m\u001B[32m*\u001B[0m\u001B[32m*\u001B[0m\u001B[32m*\u001B[0m\u001B[32m*\u001B[0m\u001B[32m*\u001B[0m\u001B[32m*\u001B[0m\u001B[32m*\u001B[0m\u001B[32m*\u001B[0m\u001B[32m*\u001B[0m\u001B[32m*\u001B[0m\u001B[32m*\u001B[0m\u001B[32m*\u001B[0m\u001B[32m*\u001B[0m\u001B[32m*\u001B[0m\u001B[32m*\u001B[0m\n",
      "\u001B[34m** Zadanie 5 **********************************************************************************\u001B[0m\n"
     ]
    },
    {
     "data": {
      "text/plain": [
       "<IPython.core.display.Markdown object>"
      ],
      "text/markdown": "Rozwiązać równanie w zbiorze liczb zespolonych"
     },
     "metadata": {},
     "output_type": "display_data"
    },
    {
     "data": {
      "text/plain": [
       "<IPython.core.display.Latex object>"
      ],
      "text/latex": "\n\t\\[\n\t\tz^{2} - 2 \\overline{z} + 6 = 0\n\t\\]"
     },
     "metadata": {},
     "output_type": "display_data"
    },
    {
     "name": "stdout",
     "output_type": "stream",
     "text": [
      "\u001B[34m*\u001B[0m\u001B[34m*\u001B[0m\u001B[34m*\u001B[0m\u001B[34m*\u001B[0m\u001B[34m*\u001B[0m\u001B[34m*\u001B[0m\u001B[34m*\u001B[0m\u001B[34m*\u001B[0m\u001B[34m*\u001B[0m\u001B[34m*\u001B[0m\u001B[34m*\u001B[0m\u001B[34m*\u001B[0m\u001B[34m*\u001B[0m\u001B[34m*\u001B[0m\u001B[34m*\u001B[0m\u001B[34m*\u001B[0m\u001B[34m*\u001B[0m\u001B[34m*\u001B[0m\u001B[34m*\u001B[0m\u001B[34m*\u001B[0m\u001B[34m*\u001B[0m\u001B[34m*\u001B[0m\u001B[34m*\u001B[0m\u001B[34m*\u001B[0m\u001B[34m*\u001B[0m\u001B[34m*\u001B[0m\u001B[34m*\u001B[0m\u001B[34m*\u001B[0m\u001B[34m*\u001B[0m\u001B[34m*\u001B[0m\u001B[34m*\u001B[0m\u001B[34m*\u001B[0m\u001B[34m*\u001B[0m\u001B[34m*\u001B[0m\u001B[34m*\u001B[0m\u001B[34m*\u001B[0m\u001B[34m*\u001B[0m\u001B[34m*\u001B[0m\u001B[34m*\u001B[0m\u001B[34m*\u001B[0m\u001B[34m*\u001B[0m\u001B[34m*\u001B[0m\u001B[34m*\u001B[0m\u001B[34m*\u001B[0m\u001B[34m*\u001B[0m\u001B[34m*\u001B[0m\u001B[34m*\u001B[0m\u001B[34m*\u001B[0m\u001B[34m*\u001B[0m\u001B[34m*\u001B[0m\u001B[34m*\u001B[0m\u001B[34m*\u001B[0m\u001B[34m*\u001B[0m\u001B[34m*\u001B[0m\u001B[34m*\u001B[0m\u001B[34m*\u001B[0m\u001B[34m*\u001B[0m\u001B[34m*\u001B[0m\u001B[34m*\u001B[0m\u001B[34m*\u001B[0m\u001B[34m*\u001B[0m\u001B[34m*\u001B[0m\u001B[34m*\u001B[0m\u001B[34m*\u001B[0m\u001B[34m*\u001B[0m\u001B[34m*\u001B[0m\u001B[34m*\u001B[0m\u001B[34m*\u001B[0m\u001B[34m*\u001B[0m\u001B[34m*\u001B[0m\u001B[34m*\u001B[0m\u001B[34m*\u001B[0m\u001B[34m*\u001B[0m\u001B[34m*\u001B[0m\u001B[34m*\u001B[0m\u001B[34m*\u001B[0m\u001B[34m*\u001B[0m\u001B[34m*\u001B[0m\u001B[34m*\u001B[0m\u001B[34m*\u001B[0m\u001B[34m*\u001B[0m\u001B[34m*\u001B[0m\u001B[34m*\u001B[0m\u001B[34m*\u001B[0m\u001B[34m*\u001B[0m\u001B[34m*\u001B[0m\u001B[34m*\u001B[0m\u001B[34m*\u001B[0m\u001B[34m*\u001B[0m\u001B[34m*\u001B[0m\u001B[34m*\u001B[0m\u001B[34m*\u001B[0m\u001B[34m*\u001B[0m\u001B[34m*\u001B[0m\u001B[34m*\u001B[0m\n",
      "\u001B[32m** Rozwiązanie ********************************************************************************\u001B[0m\n"
     ]
    },
    {
     "data": {
      "text/plain": [
       "<IPython.core.display.Latex object>"
      ],
      "text/latex": "$$- 2 x + 2 i y + \\left(x + i y\\right)^{2} + 6 = 0, $$"
     },
     "metadata": {},
     "output_type": "display_data"
    },
    {
     "data": {
      "text/plain": [
       "<IPython.core.display.Latex object>"
      ],
      "text/latex": "$$ x^{2} + 2 i x y - 2 x - y^{2} + 2 i y + 6 = 0, $$"
     },
     "metadata": {},
     "output_type": "display_data"
    },
    {
     "data": {
      "text/plain": [
       "<IPython.core.display.Latex object>"
      ],
      "text/latex": "$$ \\left\\{\n\t\\begin{array}{c}\n\t\tx^{2} - 2 x - y^{2} + 6 = 0\\\\\n\t\t2 x y + 2 y = 0\n\t\\end{array}\n\\right. $$"
     },
     "metadata": {},
     "output_type": "display_data"
    },
    {
     "data": {
      "text/plain": [
       "<IPython.core.display.Latex object>"
      ],
      "text/latex": "$$ z = \\left[ \\left\\{ x : -1, \\  y : -3\\right\\}, \\  \\left\\{ x : -1, \\  y : 3\\right\\}\\right].$$"
     },
     "metadata": {},
     "output_type": "display_data"
    },
    {
     "name": "stdout",
     "output_type": "stream",
     "text": [
      "\u001B[32m*\u001B[0m\u001B[32m*\u001B[0m\u001B[32m*\u001B[0m\u001B[32m*\u001B[0m\u001B[32m*\u001B[0m\u001B[32m*\u001B[0m\u001B[32m*\u001B[0m\u001B[32m*\u001B[0m\u001B[32m*\u001B[0m\u001B[32m*\u001B[0m\u001B[32m*\u001B[0m\u001B[32m*\u001B[0m\u001B[32m*\u001B[0m\u001B[32m*\u001B[0m\u001B[32m*\u001B[0m\u001B[32m*\u001B[0m\u001B[32m*\u001B[0m\u001B[32m*\u001B[0m\u001B[32m*\u001B[0m\u001B[32m*\u001B[0m\u001B[32m*\u001B[0m\u001B[32m*\u001B[0m\u001B[32m*\u001B[0m\u001B[32m*\u001B[0m\u001B[32m*\u001B[0m\u001B[32m*\u001B[0m\u001B[32m*\u001B[0m\u001B[32m*\u001B[0m\u001B[32m*\u001B[0m\u001B[32m*\u001B[0m\u001B[32m*\u001B[0m\u001B[32m*\u001B[0m\u001B[32m*\u001B[0m\u001B[32m*\u001B[0m\u001B[32m*\u001B[0m\u001B[32m*\u001B[0m\u001B[32m*\u001B[0m\u001B[32m*\u001B[0m\u001B[32m*\u001B[0m\u001B[32m*\u001B[0m\u001B[32m*\u001B[0m\u001B[32m*\u001B[0m\u001B[32m*\u001B[0m\u001B[32m*\u001B[0m\u001B[32m*\u001B[0m\u001B[32m*\u001B[0m\u001B[32m*\u001B[0m\u001B[32m*\u001B[0m\u001B[32m*\u001B[0m\u001B[32m*\u001B[0m\u001B[32m*\u001B[0m\u001B[32m*\u001B[0m\u001B[32m*\u001B[0m\u001B[32m*\u001B[0m\u001B[32m*\u001B[0m\u001B[32m*\u001B[0m\u001B[32m*\u001B[0m\u001B[32m*\u001B[0m\u001B[32m*\u001B[0m\u001B[32m*\u001B[0m\u001B[32m*\u001B[0m\u001B[32m*\u001B[0m\u001B[32m*\u001B[0m\u001B[32m*\u001B[0m\u001B[32m*\u001B[0m\u001B[32m*\u001B[0m\u001B[32m*\u001B[0m\u001B[32m*\u001B[0m\u001B[32m*\u001B[0m\u001B[32m*\u001B[0m\u001B[32m*\u001B[0m\u001B[32m*\u001B[0m\u001B[32m*\u001B[0m\u001B[32m*\u001B[0m\u001B[32m*\u001B[0m\u001B[32m*\u001B[0m\u001B[32m*\u001B[0m\u001B[32m*\u001B[0m\u001B[32m*\u001B[0m\u001B[32m*\u001B[0m\u001B[32m*\u001B[0m\u001B[32m*\u001B[0m\u001B[32m*\u001B[0m\u001B[32m*\u001B[0m\u001B[32m*\u001B[0m\u001B[32m*\u001B[0m\u001B[32m*\u001B[0m\u001B[32m*\u001B[0m\u001B[32m*\u001B[0m\u001B[32m*\u001B[0m\u001B[32m*\u001B[0m\u001B[32m*\u001B[0m\u001B[32m*\u001B[0m\u001B[32m*\u001B[0m\u001B[32m*\u001B[0m\n",
      "\u001B[34m** Zadanie 6 **********************************************************************************\u001B[0m\n"
     ]
    },
    {
     "data": {
      "text/plain": [
       "<IPython.core.display.Markdown object>"
      ],
      "text/markdown": "Rozwiązać równanie w zbiorze liczb zespolonych"
     },
     "metadata": {},
     "output_type": "display_data"
    },
    {
     "data": {
      "text/plain": [
       "<IPython.core.display.Latex object>"
      ],
      "text/latex": "\n\t\\[\n\t\tz^{2} - \\overline{z} - 6 = 0\n\t\\]"
     },
     "metadata": {},
     "output_type": "display_data"
    },
    {
     "name": "stdout",
     "output_type": "stream",
     "text": [
      "\u001B[34m*\u001B[0m\u001B[34m*\u001B[0m\u001B[34m*\u001B[0m\u001B[34m*\u001B[0m\u001B[34m*\u001B[0m\u001B[34m*\u001B[0m\u001B[34m*\u001B[0m\u001B[34m*\u001B[0m\u001B[34m*\u001B[0m\u001B[34m*\u001B[0m\u001B[34m*\u001B[0m\u001B[34m*\u001B[0m\u001B[34m*\u001B[0m\u001B[34m*\u001B[0m\u001B[34m*\u001B[0m\u001B[34m*\u001B[0m\u001B[34m*\u001B[0m\u001B[34m*\u001B[0m\u001B[34m*\u001B[0m\u001B[34m*\u001B[0m\u001B[34m*\u001B[0m\u001B[34m*\u001B[0m\u001B[34m*\u001B[0m\u001B[34m*\u001B[0m\u001B[34m*\u001B[0m\u001B[34m*\u001B[0m\u001B[34m*\u001B[0m\u001B[34m*\u001B[0m\u001B[34m*\u001B[0m\u001B[34m*\u001B[0m\u001B[34m*\u001B[0m\u001B[34m*\u001B[0m\u001B[34m*\u001B[0m\u001B[34m*\u001B[0m\u001B[34m*\u001B[0m\u001B[34m*\u001B[0m\u001B[34m*\u001B[0m\u001B[34m*\u001B[0m\u001B[34m*\u001B[0m\u001B[34m*\u001B[0m\u001B[34m*\u001B[0m\u001B[34m*\u001B[0m\u001B[34m*\u001B[0m\u001B[34m*\u001B[0m\u001B[34m*\u001B[0m\u001B[34m*\u001B[0m\u001B[34m*\u001B[0m\u001B[34m*\u001B[0m\u001B[34m*\u001B[0m\u001B[34m*\u001B[0m\u001B[34m*\u001B[0m\u001B[34m*\u001B[0m\u001B[34m*\u001B[0m\u001B[34m*\u001B[0m\u001B[34m*\u001B[0m\u001B[34m*\u001B[0m\u001B[34m*\u001B[0m\u001B[34m*\u001B[0m\u001B[34m*\u001B[0m\u001B[34m*\u001B[0m\u001B[34m*\u001B[0m\u001B[34m*\u001B[0m\u001B[34m*\u001B[0m\u001B[34m*\u001B[0m\u001B[34m*\u001B[0m\u001B[34m*\u001B[0m\u001B[34m*\u001B[0m\u001B[34m*\u001B[0m\u001B[34m*\u001B[0m\u001B[34m*\u001B[0m\u001B[34m*\u001B[0m\u001B[34m*\u001B[0m\u001B[34m*\u001B[0m\u001B[34m*\u001B[0m\u001B[34m*\u001B[0m\u001B[34m*\u001B[0m\u001B[34m*\u001B[0m\u001B[34m*\u001B[0m\u001B[34m*\u001B[0m\u001B[34m*\u001B[0m\u001B[34m*\u001B[0m\u001B[34m*\u001B[0m\u001B[34m*\u001B[0m\u001B[34m*\u001B[0m\u001B[34m*\u001B[0m\u001B[34m*\u001B[0m\u001B[34m*\u001B[0m\u001B[34m*\u001B[0m\u001B[34m*\u001B[0m\u001B[34m*\u001B[0m\u001B[34m*\u001B[0m\u001B[34m*\u001B[0m\u001B[34m*\u001B[0m\u001B[34m*\u001B[0m\u001B[34m*\u001B[0m\n",
      "\u001B[32m** Rozwiązanie ********************************************************************************\u001B[0m\n"
     ]
    },
    {
     "data": {
      "text/plain": [
       "<IPython.core.display.Latex object>"
      ],
      "text/latex": "$$- x + i y + \\left(x + i y\\right)^{2} - 6 = 0, $$"
     },
     "metadata": {},
     "output_type": "display_data"
    },
    {
     "data": {
      "text/plain": [
       "<IPython.core.display.Latex object>"
      ],
      "text/latex": "$$ x^{2} + 2 i x y - x - y^{2} + i y - 6 = 0, $$"
     },
     "metadata": {},
     "output_type": "display_data"
    },
    {
     "data": {
      "text/plain": [
       "<IPython.core.display.Latex object>"
      ],
      "text/latex": "$$ \\left\\{\n\t\\begin{array}{c}\n\t\tx^{2} - x - y^{2} - 6 = 0\\\\\n\t\t2 x y + y = 0\n\t\\end{array}\n\\right. $$"
     },
     "metadata": {},
     "output_type": "display_data"
    },
    {
     "data": {
      "text/plain": [
       "<IPython.core.display.Latex object>"
      ],
      "text/latex": "$$ z = \\left[ \\left\\{ x : -2, \\  y : 0\\right\\}, \\  \\left\\{ x : 3, \\  y : 0\\right\\}\\right].$$"
     },
     "metadata": {},
     "output_type": "display_data"
    },
    {
     "name": "stdout",
     "output_type": "stream",
     "text": [
      "\u001B[32m*\u001B[0m\u001B[32m*\u001B[0m\u001B[32m*\u001B[0m\u001B[32m*\u001B[0m\u001B[32m*\u001B[0m\u001B[32m*\u001B[0m\u001B[32m*\u001B[0m\u001B[32m*\u001B[0m\u001B[32m*\u001B[0m\u001B[32m*\u001B[0m\u001B[32m*\u001B[0m\u001B[32m*\u001B[0m\u001B[32m*\u001B[0m\u001B[32m*\u001B[0m\u001B[32m*\u001B[0m\u001B[32m*\u001B[0m\u001B[32m*\u001B[0m\u001B[32m*\u001B[0m\u001B[32m*\u001B[0m\u001B[32m*\u001B[0m\u001B[32m*\u001B[0m\u001B[32m*\u001B[0m\u001B[32m*\u001B[0m\u001B[32m*\u001B[0m\u001B[32m*\u001B[0m\u001B[32m*\u001B[0m\u001B[32m*\u001B[0m\u001B[32m*\u001B[0m\u001B[32m*\u001B[0m\u001B[32m*\u001B[0m\u001B[32m*\u001B[0m\u001B[32m*\u001B[0m\u001B[32m*\u001B[0m\u001B[32m*\u001B[0m\u001B[32m*\u001B[0m\u001B[32m*\u001B[0m\u001B[32m*\u001B[0m\u001B[32m*\u001B[0m\u001B[32m*\u001B[0m\u001B[32m*\u001B[0m\u001B[32m*\u001B[0m\u001B[32m*\u001B[0m\u001B[32m*\u001B[0m\u001B[32m*\u001B[0m\u001B[32m*\u001B[0m\u001B[32m*\u001B[0m\u001B[32m*\u001B[0m\u001B[32m*\u001B[0m\u001B[32m*\u001B[0m\u001B[32m*\u001B[0m\u001B[32m*\u001B[0m\u001B[32m*\u001B[0m\u001B[32m*\u001B[0m\u001B[32m*\u001B[0m\u001B[32m*\u001B[0m\u001B[32m*\u001B[0m\u001B[32m*\u001B[0m\u001B[32m*\u001B[0m\u001B[32m*\u001B[0m\u001B[32m*\u001B[0m\u001B[32m*\u001B[0m\u001B[32m*\u001B[0m\u001B[32m*\u001B[0m\u001B[32m*\u001B[0m\u001B[32m*\u001B[0m\u001B[32m*\u001B[0m\u001B[32m*\u001B[0m\u001B[32m*\u001B[0m\u001B[32m*\u001B[0m\u001B[32m*\u001B[0m\u001B[32m*\u001B[0m\u001B[32m*\u001B[0m\u001B[32m*\u001B[0m\u001B[32m*\u001B[0m\u001B[32m*\u001B[0m\u001B[32m*\u001B[0m\u001B[32m*\u001B[0m\u001B[32m*\u001B[0m\u001B[32m*\u001B[0m\u001B[32m*\u001B[0m\u001B[32m*\u001B[0m\u001B[32m*\u001B[0m\u001B[32m*\u001B[0m\u001B[32m*\u001B[0m\u001B[32m*\u001B[0m\u001B[32m*\u001B[0m\u001B[32m*\u001B[0m\u001B[32m*\u001B[0m\u001B[32m*\u001B[0m\u001B[32m*\u001B[0m\u001B[32m*\u001B[0m\u001B[32m*\u001B[0m\u001B[32m*\u001B[0m\u001B[32m*\u001B[0m\u001B[32m*\u001B[0m\n",
      "\u001B[34m** Zadanie 7 **********************************************************************************\u001B[0m\n"
     ]
    },
    {
     "data": {
      "text/plain": [
       "<IPython.core.display.Markdown object>"
      ],
      "text/markdown": "Rozwiązać równanie w zbiorze liczb zespolonych"
     },
     "metadata": {},
     "output_type": "display_data"
    },
    {
     "data": {
      "text/plain": [
       "<IPython.core.display.Latex object>"
      ],
      "text/latex": "\n\t\\[\n\t\tz \\left(2 - 5 i\\right) + \\left(7 - i\\right) \\overline{z} + 6 + 3 i = 0\n\t\\]"
     },
     "metadata": {},
     "output_type": "display_data"
    },
    {
     "name": "stdout",
     "output_type": "stream",
     "text": [
      "\u001B[34m*\u001B[0m\u001B[34m*\u001B[0m\u001B[34m*\u001B[0m\u001B[34m*\u001B[0m\u001B[34m*\u001B[0m\u001B[34m*\u001B[0m\u001B[34m*\u001B[0m\u001B[34m*\u001B[0m\u001B[34m*\u001B[0m\u001B[34m*\u001B[0m\u001B[34m*\u001B[0m\u001B[34m*\u001B[0m\u001B[34m*\u001B[0m\u001B[34m*\u001B[0m\u001B[34m*\u001B[0m\u001B[34m*\u001B[0m\u001B[34m*\u001B[0m\u001B[34m*\u001B[0m\u001B[34m*\u001B[0m\u001B[34m*\u001B[0m\u001B[34m*\u001B[0m\u001B[34m*\u001B[0m\u001B[34m*\u001B[0m\u001B[34m*\u001B[0m\u001B[34m*\u001B[0m\u001B[34m*\u001B[0m\u001B[34m*\u001B[0m\u001B[34m*\u001B[0m\u001B[34m*\u001B[0m\u001B[34m*\u001B[0m\u001B[34m*\u001B[0m\u001B[34m*\u001B[0m\u001B[34m*\u001B[0m\u001B[34m*\u001B[0m\u001B[34m*\u001B[0m\u001B[34m*\u001B[0m\u001B[34m*\u001B[0m\u001B[34m*\u001B[0m\u001B[34m*\u001B[0m\u001B[34m*\u001B[0m\u001B[34m*\u001B[0m\u001B[34m*\u001B[0m\u001B[34m*\u001B[0m\u001B[34m*\u001B[0m\u001B[34m*\u001B[0m\u001B[34m*\u001B[0m\u001B[34m*\u001B[0m\u001B[34m*\u001B[0m\u001B[34m*\u001B[0m\u001B[34m*\u001B[0m\u001B[34m*\u001B[0m\u001B[34m*\u001B[0m\u001B[34m*\u001B[0m\u001B[34m*\u001B[0m\u001B[34m*\u001B[0m\u001B[34m*\u001B[0m\u001B[34m*\u001B[0m\u001B[34m*\u001B[0m\u001B[34m*\u001B[0m\u001B[34m*\u001B[0m\u001B[34m*\u001B[0m\u001B[34m*\u001B[0m\u001B[34m*\u001B[0m\u001B[34m*\u001B[0m\u001B[34m*\u001B[0m\u001B[34m*\u001B[0m\u001B[34m*\u001B[0m\u001B[34m*\u001B[0m\u001B[34m*\u001B[0m\u001B[34m*\u001B[0m\u001B[34m*\u001B[0m\u001B[34m*\u001B[0m\u001B[34m*\u001B[0m\u001B[34m*\u001B[0m\u001B[34m*\u001B[0m\u001B[34m*\u001B[0m\u001B[34m*\u001B[0m\u001B[34m*\u001B[0m\u001B[34m*\u001B[0m\u001B[34m*\u001B[0m\u001B[34m*\u001B[0m\u001B[34m*\u001B[0m\u001B[34m*\u001B[0m\u001B[34m*\u001B[0m\u001B[34m*\u001B[0m\u001B[34m*\u001B[0m\u001B[34m*\u001B[0m\u001B[34m*\u001B[0m\u001B[34m*\u001B[0m\u001B[34m*\u001B[0m\u001B[34m*\u001B[0m\u001B[34m*\u001B[0m\u001B[34m*\u001B[0m\u001B[34m*\u001B[0m\u001B[34m*\u001B[0m\n",
      "\u001B[32m** Rozwiązanie ********************************************************************************\u001B[0m\n"
     ]
    },
    {
     "data": {
      "text/plain": [
       "<IPython.core.display.Latex object>"
      ],
      "text/latex": "$$\\left(7 - i\\right) \\left(x - i y\\right) + \\left(2 - 5 i\\right) \\left(x + i y\\right) + 6 + 3 i = 0, $$"
     },
     "metadata": {},
     "output_type": "display_data"
    },
    {
     "data": {
      "text/plain": [
       "<IPython.core.display.Latex object>"
      ],
      "text/latex": "$$ x \\left(9 - 6 i\\right) + y \\left(4 - 5 i\\right) + 6 + 3 i = 0, $$"
     },
     "metadata": {},
     "output_type": "display_data"
    },
    {
     "data": {
      "text/plain": [
       "<IPython.core.display.Latex object>"
      ],
      "text/latex": "$$ \\left\\{\n\t\\begin{array}{c}\n\t\t9 x + 4 y + 6 = 0\\\\\n\t\t- 6 x - 5 y + 3 = 0\n\t\\end{array}\n\\right. $$"
     },
     "metadata": {},
     "output_type": "display_data"
    },
    {
     "data": {
      "text/plain": [
       "<IPython.core.display.Latex object>"
      ],
      "text/latex": "$$ z = \\left\\{ x : -2, \\  y : 3\\right\\}.$$"
     },
     "metadata": {},
     "output_type": "display_data"
    },
    {
     "name": "stdout",
     "output_type": "stream",
     "text": [
      "\u001B[32m*\u001B[0m\u001B[32m*\u001B[0m\u001B[32m*\u001B[0m\u001B[32m*\u001B[0m\u001B[32m*\u001B[0m\u001B[32m*\u001B[0m\u001B[32m*\u001B[0m\u001B[32m*\u001B[0m\u001B[32m*\u001B[0m\u001B[32m*\u001B[0m\u001B[32m*\u001B[0m\u001B[32m*\u001B[0m\u001B[32m*\u001B[0m\u001B[32m*\u001B[0m\u001B[32m*\u001B[0m\u001B[32m*\u001B[0m\u001B[32m*\u001B[0m\u001B[32m*\u001B[0m\u001B[32m*\u001B[0m\u001B[32m*\u001B[0m\u001B[32m*\u001B[0m\u001B[32m*\u001B[0m\u001B[32m*\u001B[0m\u001B[32m*\u001B[0m\u001B[32m*\u001B[0m\u001B[32m*\u001B[0m\u001B[32m*\u001B[0m\u001B[32m*\u001B[0m\u001B[32m*\u001B[0m\u001B[32m*\u001B[0m\u001B[32m*\u001B[0m\u001B[32m*\u001B[0m\u001B[32m*\u001B[0m\u001B[32m*\u001B[0m\u001B[32m*\u001B[0m\u001B[32m*\u001B[0m\u001B[32m*\u001B[0m\u001B[32m*\u001B[0m\u001B[32m*\u001B[0m\u001B[32m*\u001B[0m\u001B[32m*\u001B[0m\u001B[32m*\u001B[0m\u001B[32m*\u001B[0m\u001B[32m*\u001B[0m\u001B[32m*\u001B[0m\u001B[32m*\u001B[0m\u001B[32m*\u001B[0m\u001B[32m*\u001B[0m\u001B[32m*\u001B[0m\u001B[32m*\u001B[0m\u001B[32m*\u001B[0m\u001B[32m*\u001B[0m\u001B[32m*\u001B[0m\u001B[32m*\u001B[0m\u001B[32m*\u001B[0m\u001B[32m*\u001B[0m\u001B[32m*\u001B[0m\u001B[32m*\u001B[0m\u001B[32m*\u001B[0m\u001B[32m*\u001B[0m\u001B[32m*\u001B[0m\u001B[32m*\u001B[0m\u001B[32m*\u001B[0m\u001B[32m*\u001B[0m\u001B[32m*\u001B[0m\u001B[32m*\u001B[0m\u001B[32m*\u001B[0m\u001B[32m*\u001B[0m\u001B[32m*\u001B[0m\u001B[32m*\u001B[0m\u001B[32m*\u001B[0m\u001B[32m*\u001B[0m\u001B[32m*\u001B[0m\u001B[32m*\u001B[0m\u001B[32m*\u001B[0m\u001B[32m*\u001B[0m\u001B[32m*\u001B[0m\u001B[32m*\u001B[0m\u001B[32m*\u001B[0m\u001B[32m*\u001B[0m\u001B[32m*\u001B[0m\u001B[32m*\u001B[0m\u001B[32m*\u001B[0m\u001B[32m*\u001B[0m\u001B[32m*\u001B[0m\u001B[32m*\u001B[0m\u001B[32m*\u001B[0m\u001B[32m*\u001B[0m\u001B[32m*\u001B[0m\u001B[32m*\u001B[0m\u001B[32m*\u001B[0m\u001B[32m*\u001B[0m\u001B[32m*\u001B[0m\u001B[32m*\u001B[0m\u001B[32m*\u001B[0m\n",
      "\u001B[34m** Zadanie 8 **********************************************************************************\u001B[0m\n"
     ]
    },
    {
     "data": {
      "text/plain": [
       "<IPython.core.display.Markdown object>"
      ],
      "text/markdown": "Rozwiązać równanie w zbiorze liczb zespolonych"
     },
     "metadata": {},
     "output_type": "display_data"
    },
    {
     "data": {
      "text/plain": [
       "<IPython.core.display.Latex object>"
      ],
      "text/latex": "\n\t\\[\n\t\tz^{2} - 2 \\overline{z} + 6 = 0\n\t\\]"
     },
     "metadata": {},
     "output_type": "display_data"
    },
    {
     "name": "stdout",
     "output_type": "stream",
     "text": [
      "\u001B[34m*\u001B[0m\u001B[34m*\u001B[0m\u001B[34m*\u001B[0m\u001B[34m*\u001B[0m\u001B[34m*\u001B[0m\u001B[34m*\u001B[0m\u001B[34m*\u001B[0m\u001B[34m*\u001B[0m\u001B[34m*\u001B[0m\u001B[34m*\u001B[0m\u001B[34m*\u001B[0m\u001B[34m*\u001B[0m\u001B[34m*\u001B[0m\u001B[34m*\u001B[0m\u001B[34m*\u001B[0m\u001B[34m*\u001B[0m\u001B[34m*\u001B[0m\u001B[34m*\u001B[0m\u001B[34m*\u001B[0m\u001B[34m*\u001B[0m\u001B[34m*\u001B[0m\u001B[34m*\u001B[0m\u001B[34m*\u001B[0m\u001B[34m*\u001B[0m\u001B[34m*\u001B[0m\u001B[34m*\u001B[0m\u001B[34m*\u001B[0m\u001B[34m*\u001B[0m\u001B[34m*\u001B[0m\u001B[34m*\u001B[0m\u001B[34m*\u001B[0m\u001B[34m*\u001B[0m\u001B[34m*\u001B[0m\u001B[34m*\u001B[0m\u001B[34m*\u001B[0m\u001B[34m*\u001B[0m\u001B[34m*\u001B[0m\u001B[34m*\u001B[0m\u001B[34m*\u001B[0m\u001B[34m*\u001B[0m\u001B[34m*\u001B[0m\u001B[34m*\u001B[0m\u001B[34m*\u001B[0m\u001B[34m*\u001B[0m\u001B[34m*\u001B[0m\u001B[34m*\u001B[0m\u001B[34m*\u001B[0m\u001B[34m*\u001B[0m\u001B[34m*\u001B[0m\u001B[34m*\u001B[0m\u001B[34m*\u001B[0m\u001B[34m*\u001B[0m\u001B[34m*\u001B[0m\u001B[34m*\u001B[0m\u001B[34m*\u001B[0m\u001B[34m*\u001B[0m\u001B[34m*\u001B[0m\u001B[34m*\u001B[0m\u001B[34m*\u001B[0m\u001B[34m*\u001B[0m\u001B[34m*\u001B[0m\u001B[34m*\u001B[0m\u001B[34m*\u001B[0m\u001B[34m*\u001B[0m\u001B[34m*\u001B[0m\u001B[34m*\u001B[0m\u001B[34m*\u001B[0m\u001B[34m*\u001B[0m\u001B[34m*\u001B[0m\u001B[34m*\u001B[0m\u001B[34m*\u001B[0m\u001B[34m*\u001B[0m\u001B[34m*\u001B[0m\u001B[34m*\u001B[0m\u001B[34m*\u001B[0m\u001B[34m*\u001B[0m\u001B[34m*\u001B[0m\u001B[34m*\u001B[0m\u001B[34m*\u001B[0m\u001B[34m*\u001B[0m\u001B[34m*\u001B[0m\u001B[34m*\u001B[0m\u001B[34m*\u001B[0m\u001B[34m*\u001B[0m\u001B[34m*\u001B[0m\u001B[34m*\u001B[0m\u001B[34m*\u001B[0m\u001B[34m*\u001B[0m\u001B[34m*\u001B[0m\u001B[34m*\u001B[0m\u001B[34m*\u001B[0m\u001B[34m*\u001B[0m\u001B[34m*\u001B[0m\u001B[34m*\u001B[0m\u001B[34m*\u001B[0m\n",
      "\u001B[32m** Rozwiązanie ********************************************************************************\u001B[0m\n"
     ]
    },
    {
     "data": {
      "text/plain": [
       "<IPython.core.display.Latex object>"
      ],
      "text/latex": "$$- 2 x + 2 i y + \\left(x + i y\\right)^{2} + 6 = 0, $$"
     },
     "metadata": {},
     "output_type": "display_data"
    },
    {
     "data": {
      "text/plain": [
       "<IPython.core.display.Latex object>"
      ],
      "text/latex": "$$ x^{2} + 2 i x y - 2 x - y^{2} + 2 i y + 6 = 0, $$"
     },
     "metadata": {},
     "output_type": "display_data"
    },
    {
     "data": {
      "text/plain": [
       "<IPython.core.display.Latex object>"
      ],
      "text/latex": "$$ \\left\\{\n\t\\begin{array}{c}\n\t\tx^{2} - 2 x - y^{2} + 6 = 0\\\\\n\t\t2 x y + 2 y = 0\n\t\\end{array}\n\\right. $$"
     },
     "metadata": {},
     "output_type": "display_data"
    },
    {
     "data": {
      "text/plain": [
       "<IPython.core.display.Latex object>"
      ],
      "text/latex": "$$ z = \\left[ \\left\\{ x : -1, \\  y : -3\\right\\}, \\  \\left\\{ x : -1, \\  y : 3\\right\\}\\right].$$"
     },
     "metadata": {},
     "output_type": "display_data"
    },
    {
     "name": "stdout",
     "output_type": "stream",
     "text": [
      "\u001B[32m*\u001B[0m\u001B[32m*\u001B[0m\u001B[32m*\u001B[0m\u001B[32m*\u001B[0m\u001B[32m*\u001B[0m\u001B[32m*\u001B[0m\u001B[32m*\u001B[0m\u001B[32m*\u001B[0m\u001B[32m*\u001B[0m\u001B[32m*\u001B[0m\u001B[32m*\u001B[0m\u001B[32m*\u001B[0m\u001B[32m*\u001B[0m\u001B[32m*\u001B[0m\u001B[32m*\u001B[0m\u001B[32m*\u001B[0m\u001B[32m*\u001B[0m\u001B[32m*\u001B[0m\u001B[32m*\u001B[0m\u001B[32m*\u001B[0m\u001B[32m*\u001B[0m\u001B[32m*\u001B[0m\u001B[32m*\u001B[0m\u001B[32m*\u001B[0m\u001B[32m*\u001B[0m\u001B[32m*\u001B[0m\u001B[32m*\u001B[0m\u001B[32m*\u001B[0m\u001B[32m*\u001B[0m\u001B[32m*\u001B[0m\u001B[32m*\u001B[0m\u001B[32m*\u001B[0m\u001B[32m*\u001B[0m\u001B[32m*\u001B[0m\u001B[32m*\u001B[0m\u001B[32m*\u001B[0m\u001B[32m*\u001B[0m\u001B[32m*\u001B[0m\u001B[32m*\u001B[0m\u001B[32m*\u001B[0m\u001B[32m*\u001B[0m\u001B[32m*\u001B[0m\u001B[32m*\u001B[0m\u001B[32m*\u001B[0m\u001B[32m*\u001B[0m\u001B[32m*\u001B[0m\u001B[32m*\u001B[0m\u001B[32m*\u001B[0m\u001B[32m*\u001B[0m\u001B[32m*\u001B[0m\u001B[32m*\u001B[0m\u001B[32m*\u001B[0m\u001B[32m*\u001B[0m\u001B[32m*\u001B[0m\u001B[32m*\u001B[0m\u001B[32m*\u001B[0m\u001B[32m*\u001B[0m\u001B[32m*\u001B[0m\u001B[32m*\u001B[0m\u001B[32m*\u001B[0m\u001B[32m*\u001B[0m\u001B[32m*\u001B[0m\u001B[32m*\u001B[0m\u001B[32m*\u001B[0m\u001B[32m*\u001B[0m\u001B[32m*\u001B[0m\u001B[32m*\u001B[0m\u001B[32m*\u001B[0m\u001B[32m*\u001B[0m\u001B[32m*\u001B[0m\u001B[32m*\u001B[0m\u001B[32m*\u001B[0m\u001B[32m*\u001B[0m\u001B[32m*\u001B[0m\u001B[32m*\u001B[0m\u001B[32m*\u001B[0m\u001B[32m*\u001B[0m\u001B[32m*\u001B[0m\u001B[32m*\u001B[0m\u001B[32m*\u001B[0m\u001B[32m*\u001B[0m\u001B[32m*\u001B[0m\u001B[32m*\u001B[0m\u001B[32m*\u001B[0m\u001B[32m*\u001B[0m\u001B[32m*\u001B[0m\u001B[32m*\u001B[0m\u001B[32m*\u001B[0m\u001B[32m*\u001B[0m\u001B[32m*\u001B[0m\u001B[32m*\u001B[0m\u001B[32m*\u001B[0m\u001B[32m*\u001B[0m\u001B[32m*\u001B[0m\u001B[32m*\u001B[0m\n",
      "\u001B[34m** Zadanie 9 **********************************************************************************\u001B[0m\n"
     ]
    },
    {
     "data": {
      "text/plain": [
       "<IPython.core.display.Markdown object>"
      ],
      "text/markdown": "Rozwiązać równanie w zbiorze liczb zespolonych"
     },
     "metadata": {},
     "output_type": "display_data"
    },
    {
     "data": {
      "text/plain": [
       "<IPython.core.display.Latex object>"
      ],
      "text/latex": "\n\t\\[\n\t\tz \\left(5 + 2 i\\right) + \\left(4 - 3 i\\right) \\overline{z} - 3 - i = 0\n\t\\]"
     },
     "metadata": {},
     "output_type": "display_data"
    },
    {
     "name": "stdout",
     "output_type": "stream",
     "text": [
      "\u001B[34m*\u001B[0m\u001B[34m*\u001B[0m\u001B[34m*\u001B[0m\u001B[34m*\u001B[0m\u001B[34m*\u001B[0m\u001B[34m*\u001B[0m\u001B[34m*\u001B[0m\u001B[34m*\u001B[0m\u001B[34m*\u001B[0m\u001B[34m*\u001B[0m\u001B[34m*\u001B[0m\u001B[34m*\u001B[0m\u001B[34m*\u001B[0m\u001B[34m*\u001B[0m\u001B[34m*\u001B[0m\u001B[34m*\u001B[0m\u001B[34m*\u001B[0m\u001B[34m*\u001B[0m\u001B[34m*\u001B[0m\u001B[34m*\u001B[0m\u001B[34m*\u001B[0m\u001B[34m*\u001B[0m\u001B[34m*\u001B[0m\u001B[34m*\u001B[0m\u001B[34m*\u001B[0m\u001B[34m*\u001B[0m\u001B[34m*\u001B[0m\u001B[34m*\u001B[0m\u001B[34m*\u001B[0m\u001B[34m*\u001B[0m\u001B[34m*\u001B[0m\u001B[34m*\u001B[0m\u001B[34m*\u001B[0m\u001B[34m*\u001B[0m\u001B[34m*\u001B[0m\u001B[34m*\u001B[0m\u001B[34m*\u001B[0m\u001B[34m*\u001B[0m\u001B[34m*\u001B[0m\u001B[34m*\u001B[0m\u001B[34m*\u001B[0m\u001B[34m*\u001B[0m\u001B[34m*\u001B[0m\u001B[34m*\u001B[0m\u001B[34m*\u001B[0m\u001B[34m*\u001B[0m\u001B[34m*\u001B[0m\u001B[34m*\u001B[0m\u001B[34m*\u001B[0m\u001B[34m*\u001B[0m\u001B[34m*\u001B[0m\u001B[34m*\u001B[0m\u001B[34m*\u001B[0m\u001B[34m*\u001B[0m\u001B[34m*\u001B[0m\u001B[34m*\u001B[0m\u001B[34m*\u001B[0m\u001B[34m*\u001B[0m\u001B[34m*\u001B[0m\u001B[34m*\u001B[0m\u001B[34m*\u001B[0m\u001B[34m*\u001B[0m\u001B[34m*\u001B[0m\u001B[34m*\u001B[0m\u001B[34m*\u001B[0m\u001B[34m*\u001B[0m\u001B[34m*\u001B[0m\u001B[34m*\u001B[0m\u001B[34m*\u001B[0m\u001B[34m*\u001B[0m\u001B[34m*\u001B[0m\u001B[34m*\u001B[0m\u001B[34m*\u001B[0m\u001B[34m*\u001B[0m\u001B[34m*\u001B[0m\u001B[34m*\u001B[0m\u001B[34m*\u001B[0m\u001B[34m*\u001B[0m\u001B[34m*\u001B[0m\u001B[34m*\u001B[0m\u001B[34m*\u001B[0m\u001B[34m*\u001B[0m\u001B[34m*\u001B[0m\u001B[34m*\u001B[0m\u001B[34m*\u001B[0m\u001B[34m*\u001B[0m\u001B[34m*\u001B[0m\u001B[34m*\u001B[0m\u001B[34m*\u001B[0m\u001B[34m*\u001B[0m\u001B[34m*\u001B[0m\u001B[34m*\u001B[0m\u001B[34m*\u001B[0m\u001B[34m*\u001B[0m\u001B[34m*\u001B[0m\n",
      "\u001B[32m** Rozwiązanie ********************************************************************************\u001B[0m\n"
     ]
    },
    {
     "data": {
      "text/plain": [
       "<IPython.core.display.Latex object>"
      ],
      "text/latex": "$$\\left(4 - 3 i\\right) \\left(x - i y\\right) + \\left(5 + 2 i\\right) \\left(x + i y\\right) - 3 - i = 0, $$"
     },
     "metadata": {},
     "output_type": "display_data"
    },
    {
     "data": {
      "text/plain": [
       "<IPython.core.display.Latex object>"
      ],
      "text/latex": "$$ \\left(1 + i\\right) \\left(x \\left(4 - 5 i\\right) + y \\left(-2 + 3 i\\right) - 2 + i\\right) = 0, $$"
     },
     "metadata": {},
     "output_type": "display_data"
    },
    {
     "data": {
      "text/plain": [
       "<IPython.core.display.Latex object>"
      ],
      "text/latex": "$$ \\left\\{\n\t\\begin{array}{c}\n\t\t9 x - 5 y - 3 = 0\\\\\n\t\t- x + y - 1 = 0\n\t\\end{array}\n\\right. $$"
     },
     "metadata": {},
     "output_type": "display_data"
    },
    {
     "data": {
      "text/plain": [
       "<IPython.core.display.Latex object>"
      ],
      "text/latex": "$$ z = \\left\\{ x : 2, \\  y : 3\\right\\}.$$"
     },
     "metadata": {},
     "output_type": "display_data"
    },
    {
     "name": "stdout",
     "output_type": "stream",
     "text": [
      "\u001B[32m*\u001B[0m\u001B[32m*\u001B[0m\u001B[32m*\u001B[0m\u001B[32m*\u001B[0m\u001B[32m*\u001B[0m\u001B[32m*\u001B[0m\u001B[32m*\u001B[0m\u001B[32m*\u001B[0m\u001B[32m*\u001B[0m\u001B[32m*\u001B[0m\u001B[32m*\u001B[0m\u001B[32m*\u001B[0m\u001B[32m*\u001B[0m\u001B[32m*\u001B[0m\u001B[32m*\u001B[0m\u001B[32m*\u001B[0m\u001B[32m*\u001B[0m\u001B[32m*\u001B[0m\u001B[32m*\u001B[0m\u001B[32m*\u001B[0m\u001B[32m*\u001B[0m\u001B[32m*\u001B[0m\u001B[32m*\u001B[0m\u001B[32m*\u001B[0m\u001B[32m*\u001B[0m\u001B[32m*\u001B[0m\u001B[32m*\u001B[0m\u001B[32m*\u001B[0m\u001B[32m*\u001B[0m\u001B[32m*\u001B[0m\u001B[32m*\u001B[0m\u001B[32m*\u001B[0m\u001B[32m*\u001B[0m\u001B[32m*\u001B[0m\u001B[32m*\u001B[0m\u001B[32m*\u001B[0m\u001B[32m*\u001B[0m\u001B[32m*\u001B[0m\u001B[32m*\u001B[0m\u001B[32m*\u001B[0m\u001B[32m*\u001B[0m\u001B[32m*\u001B[0m\u001B[32m*\u001B[0m\u001B[32m*\u001B[0m\u001B[32m*\u001B[0m\u001B[32m*\u001B[0m\u001B[32m*\u001B[0m\u001B[32m*\u001B[0m\u001B[32m*\u001B[0m\u001B[32m*\u001B[0m\u001B[32m*\u001B[0m\u001B[32m*\u001B[0m\u001B[32m*\u001B[0m\u001B[32m*\u001B[0m\u001B[32m*\u001B[0m\u001B[32m*\u001B[0m\u001B[32m*\u001B[0m\u001B[32m*\u001B[0m\u001B[32m*\u001B[0m\u001B[32m*\u001B[0m\u001B[32m*\u001B[0m\u001B[32m*\u001B[0m\u001B[32m*\u001B[0m\u001B[32m*\u001B[0m\u001B[32m*\u001B[0m\u001B[32m*\u001B[0m\u001B[32m*\u001B[0m\u001B[32m*\u001B[0m\u001B[32m*\u001B[0m\u001B[32m*\u001B[0m\u001B[32m*\u001B[0m\u001B[32m*\u001B[0m\u001B[32m*\u001B[0m\u001B[32m*\u001B[0m\u001B[32m*\u001B[0m\u001B[32m*\u001B[0m\u001B[32m*\u001B[0m\u001B[32m*\u001B[0m\u001B[32m*\u001B[0m\u001B[32m*\u001B[0m\u001B[32m*\u001B[0m\u001B[32m*\u001B[0m\u001B[32m*\u001B[0m\u001B[32m*\u001B[0m\u001B[32m*\u001B[0m\u001B[32m*\u001B[0m\u001B[32m*\u001B[0m\u001B[32m*\u001B[0m\u001B[32m*\u001B[0m\u001B[32m*\u001B[0m\u001B[32m*\u001B[0m\u001B[32m*\u001B[0m\u001B[32m*\u001B[0m\u001B[32m*\u001B[0m\u001B[32m*\u001B[0m\n",
      "\u001B[34m** Zadanie 10 **********************************************************************************\u001B[0m\n"
     ]
    },
    {
     "data": {
      "text/plain": [
       "<IPython.core.display.Markdown object>"
      ],
      "text/markdown": "Rozwiązać równanie w zbiorze liczb zespolonych"
     },
     "metadata": {},
     "output_type": "display_data"
    },
    {
     "data": {
      "text/plain": [
       "<IPython.core.display.Latex object>"
      ],
      "text/latex": "\n\t\\[\n\t\tz^{2} - \\overline{z} - 6 = 0\n\t\\]"
     },
     "metadata": {},
     "output_type": "display_data"
    },
    {
     "name": "stdout",
     "output_type": "stream",
     "text": [
      "\u001B[34m*\u001B[0m\u001B[34m*\u001B[0m\u001B[34m*\u001B[0m\u001B[34m*\u001B[0m\u001B[34m*\u001B[0m\u001B[34m*\u001B[0m\u001B[34m*\u001B[0m\u001B[34m*\u001B[0m\u001B[34m*\u001B[0m\u001B[34m*\u001B[0m\u001B[34m*\u001B[0m\u001B[34m*\u001B[0m\u001B[34m*\u001B[0m\u001B[34m*\u001B[0m\u001B[34m*\u001B[0m\u001B[34m*\u001B[0m\u001B[34m*\u001B[0m\u001B[34m*\u001B[0m\u001B[34m*\u001B[0m\u001B[34m*\u001B[0m\u001B[34m*\u001B[0m\u001B[34m*\u001B[0m\u001B[34m*\u001B[0m\u001B[34m*\u001B[0m\u001B[34m*\u001B[0m\u001B[34m*\u001B[0m\u001B[34m*\u001B[0m\u001B[34m*\u001B[0m\u001B[34m*\u001B[0m\u001B[34m*\u001B[0m\u001B[34m*\u001B[0m\u001B[34m*\u001B[0m\u001B[34m*\u001B[0m\u001B[34m*\u001B[0m\u001B[34m*\u001B[0m\u001B[34m*\u001B[0m\u001B[34m*\u001B[0m\u001B[34m*\u001B[0m\u001B[34m*\u001B[0m\u001B[34m*\u001B[0m\u001B[34m*\u001B[0m\u001B[34m*\u001B[0m\u001B[34m*\u001B[0m\u001B[34m*\u001B[0m\u001B[34m*\u001B[0m\u001B[34m*\u001B[0m\u001B[34m*\u001B[0m\u001B[34m*\u001B[0m\u001B[34m*\u001B[0m\u001B[34m*\u001B[0m\u001B[34m*\u001B[0m\u001B[34m*\u001B[0m\u001B[34m*\u001B[0m\u001B[34m*\u001B[0m\u001B[34m*\u001B[0m\u001B[34m*\u001B[0m\u001B[34m*\u001B[0m\u001B[34m*\u001B[0m\u001B[34m*\u001B[0m\u001B[34m*\u001B[0m\u001B[34m*\u001B[0m\u001B[34m*\u001B[0m\u001B[34m*\u001B[0m\u001B[34m*\u001B[0m\u001B[34m*\u001B[0m\u001B[34m*\u001B[0m\u001B[34m*\u001B[0m\u001B[34m*\u001B[0m\u001B[34m*\u001B[0m\u001B[34m*\u001B[0m\u001B[34m*\u001B[0m\u001B[34m*\u001B[0m\u001B[34m*\u001B[0m\u001B[34m*\u001B[0m\u001B[34m*\u001B[0m\u001B[34m*\u001B[0m\u001B[34m*\u001B[0m\u001B[34m*\u001B[0m\u001B[34m*\u001B[0m\u001B[34m*\u001B[0m\u001B[34m*\u001B[0m\u001B[34m*\u001B[0m\u001B[34m*\u001B[0m\u001B[34m*\u001B[0m\u001B[34m*\u001B[0m\u001B[34m*\u001B[0m\u001B[34m*\u001B[0m\u001B[34m*\u001B[0m\u001B[34m*\u001B[0m\u001B[34m*\u001B[0m\u001B[34m*\u001B[0m\u001B[34m*\u001B[0m\u001B[34m*\u001B[0m\u001B[34m*\u001B[0m\u001B[34m*\u001B[0m\n",
      "\u001B[32m** Rozwiązanie ********************************************************************************\u001B[0m\n"
     ]
    },
    {
     "data": {
      "text/plain": [
       "<IPython.core.display.Latex object>"
      ],
      "text/latex": "$$- x + i y + \\left(x + i y\\right)^{2} - 6 = 0, $$"
     },
     "metadata": {},
     "output_type": "display_data"
    },
    {
     "data": {
      "text/plain": [
       "<IPython.core.display.Latex object>"
      ],
      "text/latex": "$$ x^{2} + 2 i x y - x - y^{2} + i y - 6 = 0, $$"
     },
     "metadata": {},
     "output_type": "display_data"
    },
    {
     "data": {
      "text/plain": [
       "<IPython.core.display.Latex object>"
      ],
      "text/latex": "$$ \\left\\{\n\t\\begin{array}{c}\n\t\tx^{2} - x - y^{2} - 6 = 0\\\\\n\t\t2 x y + y = 0\n\t\\end{array}\n\\right. $$"
     },
     "metadata": {},
     "output_type": "display_data"
    },
    {
     "data": {
      "text/plain": [
       "<IPython.core.display.Latex object>"
      ],
      "text/latex": "$$ z = \\left[ \\left\\{ x : -2, \\  y : 0\\right\\}, \\  \\left\\{ x : 3, \\  y : 0\\right\\}\\right].$$"
     },
     "metadata": {},
     "output_type": "display_data"
    },
    {
     "name": "stdout",
     "output_type": "stream",
     "text": [
      "\u001B[32m*\u001B[0m\u001B[32m*\u001B[0m\u001B[32m*\u001B[0m\u001B[32m*\u001B[0m\u001B[32m*\u001B[0m\u001B[32m*\u001B[0m\u001B[32m*\u001B[0m\u001B[32m*\u001B[0m\u001B[32m*\u001B[0m\u001B[32m*\u001B[0m\u001B[32m*\u001B[0m\u001B[32m*\u001B[0m\u001B[32m*\u001B[0m\u001B[32m*\u001B[0m\u001B[32m*\u001B[0m\u001B[32m*\u001B[0m\u001B[32m*\u001B[0m\u001B[32m*\u001B[0m\u001B[32m*\u001B[0m\u001B[32m*\u001B[0m\u001B[32m*\u001B[0m\u001B[32m*\u001B[0m\u001B[32m*\u001B[0m\u001B[32m*\u001B[0m\u001B[32m*\u001B[0m\u001B[32m*\u001B[0m\u001B[32m*\u001B[0m\u001B[32m*\u001B[0m\u001B[32m*\u001B[0m\u001B[32m*\u001B[0m\u001B[32m*\u001B[0m\u001B[32m*\u001B[0m\u001B[32m*\u001B[0m\u001B[32m*\u001B[0m\u001B[32m*\u001B[0m\u001B[32m*\u001B[0m\u001B[32m*\u001B[0m\u001B[32m*\u001B[0m\u001B[32m*\u001B[0m\u001B[32m*\u001B[0m\u001B[32m*\u001B[0m\u001B[32m*\u001B[0m\u001B[32m*\u001B[0m\u001B[32m*\u001B[0m\u001B[32m*\u001B[0m\u001B[32m*\u001B[0m\u001B[32m*\u001B[0m\u001B[32m*\u001B[0m\u001B[32m*\u001B[0m\u001B[32m*\u001B[0m\u001B[32m*\u001B[0m\u001B[32m*\u001B[0m\u001B[32m*\u001B[0m\u001B[32m*\u001B[0m\u001B[32m*\u001B[0m\u001B[32m*\u001B[0m\u001B[32m*\u001B[0m\u001B[32m*\u001B[0m\u001B[32m*\u001B[0m\u001B[32m*\u001B[0m\u001B[32m*\u001B[0m\u001B[32m*\u001B[0m\u001B[32m*\u001B[0m\u001B[32m*\u001B[0m\u001B[32m*\u001B[0m\u001B[32m*\u001B[0m\u001B[32m*\u001B[0m\u001B[32m*\u001B[0m\u001B[32m*\u001B[0m\u001B[32m*\u001B[0m\u001B[32m*\u001B[0m\u001B[32m*\u001B[0m\u001B[32m*\u001B[0m\u001B[32m*\u001B[0m\u001B[32m*\u001B[0m\u001B[32m*\u001B[0m\u001B[32m*\u001B[0m\u001B[32m*\u001B[0m\u001B[32m*\u001B[0m\u001B[32m*\u001B[0m\u001B[32m*\u001B[0m\u001B[32m*\u001B[0m\u001B[32m*\u001B[0m\u001B[32m*\u001B[0m\u001B[32m*\u001B[0m\u001B[32m*\u001B[0m\u001B[32m*\u001B[0m\u001B[32m*\u001B[0m\u001B[32m*\u001B[0m\u001B[32m*\u001B[0m\u001B[32m*\u001B[0m\u001B[32m*\u001B[0m\u001B[32m*\u001B[0m\u001B[32m*\u001B[0m\u001B[32m*\u001B[0m\n"
     ]
    }
   ],
   "execution_count": 82
  },
  {
   "metadata": {
    "ExecuteTime": {
     "end_time": "2024-09-11T07:56:34.390332Z",
     "start_time": "2024-09-11T07:56:34.386706Z"
    }
   },
   "cell_type": "code",
   "source": "",
   "outputs": [],
   "execution_count": null
  }
 ],
 "metadata": {
  "kernelspec": {
   "display_name": "Python 3",
   "language": "python",
   "name": "python3"
  },
  "language_info": {
   "codemirror_mode": {
    "name": "ipython",
    "version": 3
   },
   "file_extension": ".py",
   "mimetype": "text/x-python",
   "name": "python",
   "nbconvert_exporter": "python",
   "pygments_lexer": "ipython3",
   "version": "3.8.5"
  }
 },
 "nbformat": 4,
 "nbformat_minor": 4
}
