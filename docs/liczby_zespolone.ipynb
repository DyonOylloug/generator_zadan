{
 "cells": [
  {
   "cell_type": "markdown",
   "source": "# Liczby zespolone\n",
   "metadata": {}
  },
  {
   "metadata": {},
   "cell_type": "markdown",
   "source": [
    "\n",
    "> Generatory były pierwotnie przygotowane do pliku TeXowego. Tworzenie przykładów online jest tylko dodatkiem. Dlatego składnia tworzenia tych notatników jest dziwna.\n"
   ]
  },
  {
   "cell_type": "code",
   "source": [
    "from IPython.display import display, Markdown, Latex\n",
    "\n",
    "import generator_zadan.generatory as gz\n",
    "\n",
    "print(gz.__version__)"
   ],
   "metadata": {
    "ExecuteTime": {
     "end_time": "2024-09-10T17:20:26.010096Z",
     "start_time": "2024-09-10T17:20:26.005174Z"
    }
   },
   "outputs": [
    {
     "name": "stdout",
     "output_type": "stream",
     "text": [
      "0.1.0\n"
     ]
    }
   ],
   "execution_count": 8
  },
  {
   "metadata": {
    "ExecuteTime": {
     "end_time": "2024-09-10T17:25:59.384888Z",
     "start_time": "2024-09-10T17:25:59.377732Z"
    }
   },
   "cell_type": "code",
   "source": "display(Latex(''))  # bez tego sphinx wyświetla \"czysty\" kod TeXa. ",
   "outputs": [
    {
     "data": {
      "text/plain": [
       "<IPython.core.display.Latex object>"
      ],
      "text/latex": ""
     },
     "metadata": {},
     "output_type": "display_data"
    }
   ],
   "execution_count": 15
  },
  {
   "metadata": {},
   "cell_type": "markdown",
   "source": "## Zespolone równanie liniowe "
  },
  {
   "metadata": {
    "ExecuteTime": {
     "end_time": "2024-09-10T17:28:30.140087Z",
     "start_time": "2024-09-10T17:28:30.115271Z"
    }
   },
   "cell_type": "code",
   "source": [
    "zadanie = gz.rownanie_liniowe()\n",
    "zadanie"
   ],
   "outputs": [
    {
     "data": {
      "text/plain": [
       "('Rozwiązać równanie w zbiorze liczb zespolonych.\\\\ Sprawdzić rozwiązanie.\\n\\t\\\\[\\n\\t\\t6 - 2i+\\\\left(3 - 4i\\\\right)z = \\\\left(5 - 2i\\\\right)z\\n\\t\\\\]',\n",
       " '$z=1 - 2i.$')"
      ]
     },
     "execution_count": 24,
     "metadata": {},
     "output_type": "execute_result"
    }
   ],
   "execution_count": 24
  },
  {
   "metadata": {
    "ExecuteTime": {
     "end_time": "2024-09-10T17:28:48.337431Z",
     "start_time": "2024-09-10T17:28:48.332007Z"
    }
   },
   "cell_type": "code",
   "source": [
    "print(zadanie[0])\n",
    "print(zadanie[1])"
   ],
   "outputs": [
    {
     "name": "stdout",
     "output_type": "stream",
     "text": [
      "Rozwiązać równanie w zbiorze liczb zespolonych.\\ Sprawdzić rozwiązanie.\n",
      "\t\\[\n",
      "\t\t6 - 2i+\\left(3 - 4i\\right)z = \\left(5 - 2i\\right)z\n",
      "\t\\]\n",
      "$z=1 - 2i.$\n"
     ]
    }
   ],
   "execution_count": 25
  },
  {
   "metadata": {
    "ExecuteTime": {
     "end_time": "2024-09-10T17:20:28.905956Z",
     "start_time": "2024-09-10T17:20:26.178190Z"
    }
   },
   "cell_type": "code",
   "source": [
    "for i in range(1, 10):\n",
    "    z = gz.rownanie_liniowe()\n",
    "    display(Markdown(\n",
    "        f'{i}. ' + z[0].replace('\\[', '$$').replace('\\]', '$$').replace('\\\\ ', ' ') + '  \\n' + 'Rozwiązanie: ' + z[\n",
    "            1].replace('$', '$$')))\n"
   ],
   "outputs": [
    {
     "data": {
      "text/plain": [
       "<IPython.core.display.Markdown object>"
      ],
      "text/markdown": "1. Rozwiązać równanie w zbiorze liczb zespolonych. Sprawdzić rozwiązanie.\n\t$$\n\t\t\\left(5 + 2i\\right)z = 8 + 6i+\\left(5 + 4i\\right)z\n\t$$  \nRozwiązanie: $$z=-3 + 4i.$$"
     },
     "metadata": {},
     "output_type": "display_data"
    },
    {
     "data": {
      "text/plain": [
       "<IPython.core.display.Markdown object>"
      ],
      "text/markdown": "2. Rozwiązać równanie w zbiorze liczb zespolonych. Sprawdzić rozwiązanie.\n\t$$\n\t\t\\left(3 + 4i\\right)z = -4 + 5i+\\left(3 + 3i\\right)z\n\t$$  \nRozwiązanie: $$z=5 + 4i.$$"
     },
     "metadata": {},
     "output_type": "display_data"
    },
    {
     "data": {
      "text/plain": [
       "<IPython.core.display.Markdown object>"
      ],
      "text/markdown": "3. Rozwiązać równanie w zbiorze liczb zespolonych. Sprawdzić rozwiązanie.\n\t$$\n\t\t-5 - 3i+\\left(7 + 6i\\right)z = \\left(8 + 5i\\right)z\n\t$$  \nRozwiązanie: $$z=-1 - 4i.$$"
     },
     "metadata": {},
     "output_type": "display_data"
    },
    {
     "data": {
      "text/plain": [
       "<IPython.core.display.Markdown object>"
      ],
      "text/markdown": "4. Rozwiązać równanie w zbiorze liczb zespolonych. Sprawdzić rozwiązanie.\n\t$$\n\t\t\\left(8 + 5i\\right)z = 7 + 9i+\\left(9 - 3i\\right)z\n\t$$  \nRozwiązanie: $$z=1 - i.$$"
     },
     "metadata": {},
     "output_type": "display_data"
    },
    {
     "data": {
      "text/plain": [
       "<IPython.core.display.Markdown object>"
      ],
      "text/markdown": "5. Rozwiązać równanie w zbiorze liczb zespolonych. Sprawdzić rozwiązanie.\n\t$$\n\t\t\\left(5 - 2i\\right)z = 8 - 4i+\\left(4 - 3i\\right)z\n\t$$  \nRozwiązanie: $$z=2 - 6i.$$"
     },
     "metadata": {},
     "output_type": "display_data"
    },
    {
     "data": {
      "text/plain": [
       "<IPython.core.display.Markdown object>"
      ],
      "text/markdown": "6. Rozwiązać równanie w zbiorze liczb zespolonych. Sprawdzić rozwiązanie.\n\t$$\n\t\t7 - 4i+\\left(5 + 7i\\right)z = \\left(3 + 6i\\right)z\n\t$$  \nRozwiązanie: $$z=-2 + 3i.$$"
     },
     "metadata": {},
     "output_type": "display_data"
    },
    {
     "data": {
      "text/plain": [
       "<IPython.core.display.Markdown object>"
      ],
      "text/markdown": "7. Rozwiązać równanie w zbiorze liczb zespolonych. Sprawdzić rozwiązanie.\n\t$$\n\t\t9 + 3i+\\left(4 - 3i\\right)z = \\left(5 - 2i\\right)z\n\t$$  \nRozwiązanie: $$z=6 - 3i.$$"
     },
     "metadata": {},
     "output_type": "display_data"
    },
    {
     "data": {
      "text/plain": [
       "<IPython.core.display.Markdown object>"
      ],
      "text/markdown": "8. Rozwiązać równanie w zbiorze liczb zespolonych. Sprawdzić rozwiązanie.\n\t$$\n\t\t\\left(5 + 8i\\right)z = -3 - 3i+\\left(5 + 9i\\right)z\n\t$$  \nRozwiązanie: $$z=3 - 3i.$$"
     },
     "metadata": {},
     "output_type": "display_data"
    },
    {
     "data": {
      "text/plain": [
       "<IPython.core.display.Markdown object>"
      ],
      "text/markdown": "9. Rozwiązać równanie w zbiorze liczb zespolonych. Sprawdzić rozwiązanie.\n\t$$\n\t\t-6 - 2i+\\left(7 - 6i\\right)z = \\left(7 - 5i\\right)z\n\t$$  \nRozwiązanie: $$z=-2 + 6i.$$"
     },
     "metadata": {},
     "output_type": "display_data"
    }
   ],
   "execution_count": 10
  },
  {
   "metadata": {},
   "cell_type": "markdown",
   "source": "## Zespolone równanie kwadratowe"
  },
  {
   "metadata": {
    "ExecuteTime": {
     "end_time": "2024-09-10T17:30:18.822700Z",
     "start_time": "2024-09-10T17:30:18.692246Z"
    }
   },
   "cell_type": "code",
   "source": [
    "zadanie = gz.rownanie_kwadratowe()\n",
    "zadanie"
   ],
   "outputs": [
    {
     "data": {
      "text/plain": [
       "('Rozwiązać równanie w zbiorze liczb zespolonych.\\\\ Sprawdzić jedno z rozwiązań.\\n\\t\\\\[\\n\\t\\t\\\\left(2 - i\\\\right)z^2 + \\\\left(-13 - 6 i\\\\right) z + \\\\left(6 + 22 i\\\\right)=0\\n\\t\\\\]',\n",
       " '$\\\\Delta = -3+4i, \\\\quad \\\\sqrt{\\\\Delta}=\\\\pm( 1 + 2 i) \\\\quad z_{1}=2 + 2 i \\\\quad z_{2}=2 + 3 i$')"
      ]
     },
     "execution_count": 26,
     "metadata": {},
     "output_type": "execute_result"
    }
   ],
   "execution_count": 26
  },
  {
   "metadata": {
    "ExecuteTime": {
     "end_time": "2024-09-10T17:30:19.679367Z",
     "start_time": "2024-09-10T17:30:19.673864Z"
    }
   },
   "cell_type": "code",
   "source": [
    "print(zadanie[0])\n",
    "print(zadanie[1])"
   ],
   "outputs": [
    {
     "name": "stdout",
     "output_type": "stream",
     "text": [
      "Rozwiązać równanie w zbiorze liczb zespolonych.\\ Sprawdzić jedno z rozwiązań.\n",
      "\t\\[\n",
      "\t\t\\left(2 - i\\right)z^2 + \\left(-13 - 6 i\\right) z + \\left(6 + 22 i\\right)=0\n",
      "\t\\]\n",
      "$\\Delta = -3+4i, \\quad \\sqrt{\\Delta}=\\pm( 1 + 2 i) \\quad z_{1}=2 + 2 i \\quad z_{2}=2 + 3 i$\n"
     ]
    }
   ],
   "execution_count": 27
  },
  {
   "metadata": {
    "ExecuteTime": {
     "end_time": "2024-09-10T17:23:27.718922Z",
     "start_time": "2024-09-10T17:23:26.260045Z"
    }
   },
   "cell_type": "code",
   "source": [
    "for i in range(1, 10):\n",
    "    z = gz.rownanie_kwadratowe()\n",
    "    display(Markdown(f'{i}. ' + z[0].replace('\\[', '$$').replace('\\]', '$$').replace('\\\\ ', ' ')\n",
    "                     + '  \\n'\n",
    "                     + ' Rozwiązanie:'\n",
    "                     + z[1].replace('$', '$$')))"
   ],
   "outputs": [
    {
     "data": {
      "text/plain": [
       "<IPython.core.display.Markdown object>"
      ],
      "text/markdown": "1. Rozwiązać równanie w zbiorze liczb zespolonych. Sprawdzić jedno z rozwiązań.\n\t$$\n\t\t\\left(1 - i\\right)z^2 + \\left(13 + 3 i\\right) z + \\left(10 + 28 i\\right)=0\n\t$$  \n Rozwiązanie:$$\\Delta = 8+6i, \\quad \\sqrt{\\Delta}=\\pm( 3 + i) \\quad z_{1}=-3 - 5 i \\quad z_{2}=-2 - 3 i$$"
     },
     "metadata": {},
     "output_type": "display_data"
    },
    {
     "data": {
      "text/plain": [
       "<IPython.core.display.Markdown object>"
      ],
      "text/markdown": "2. Rozwiązać równanie w zbiorze liczb zespolonych. Sprawdzić jedno z rozwiązań.\n\t$$\n\t\t\\left(2 - i\\right)z^2 + \\left(9 + 3 i\\right) z + \\left(5 + 10 i\\right)=0\n\t$$  \n Rozwiązanie:$$\\Delta = -8-6i, \\quad \\sqrt{\\Delta}=\\pm( 1 - 3 i) \\quad z_{1}=-2 - i \\quad z_{2}=-1 - 2 i$$"
     },
     "metadata": {},
     "output_type": "display_data"
    },
    {
     "data": {
      "text/plain": [
       "<IPython.core.display.Markdown object>"
      ],
      "text/markdown": "3. Rozwiązać równanie w zbiorze liczb zespolonych. Sprawdzić jedno z rozwiązań.\n\t$$\n\t\t\\left(1 - i\\right)z^2 + \\left(-11 + i\\right) z + \\left(18 + 14 i\\right)=0\n\t$$  \n Rozwiązanie:$$\\Delta = -8-6i, \\quad \\sqrt{\\Delta}=\\pm( 1 - 3 i) \\quad z_{1}=2 + 3 i \\quad z_{2}=4 + 2 i$$"
     },
     "metadata": {},
     "output_type": "display_data"
    },
    {
     "data": {
      "text/plain": [
       "<IPython.core.display.Markdown object>"
      ],
      "text/markdown": "4. Rozwiązać równanie w zbiorze liczb zespolonych. Sprawdzić jedno z rozwiązań.\n\t$$\n\t\t\\left(2 + 3 i\\right)z^2 + \\left(-5 + 12 i\\right) z + \\left(-11 + 3 i\\right)=0\n\t$$  \n Rozwiązanie:$$\\Delta = 5-12i, \\quad \\sqrt{\\Delta}=\\pm( 3 - 2 i) \\quad z_{1}=-1 - 2 i \\quad z_{2}=-1 - i$$"
     },
     "metadata": {},
     "output_type": "display_data"
    },
    {
     "data": {
      "text/plain": [
       "<IPython.core.display.Markdown object>"
      ],
      "text/markdown": "5. Rozwiązać równanie w zbiorze liczb zespolonych. Sprawdzić jedno z rozwiązań.\n\t$$\n\t\t\\left(1 - i\\right)z^2 + \\left(13 + 3 i\\right) z + \\left(10 + 28 i\\right)=0\n\t$$  \n Rozwiązanie:$$\\Delta = 8+6i, \\quad \\sqrt{\\Delta}=\\pm( 3 + i) \\quad z_{1}=-3 - 5 i \\quad z_{2}=-2 - 3 i$$"
     },
     "metadata": {},
     "output_type": "display_data"
    },
    {
     "data": {
      "text/plain": [
       "<IPython.core.display.Markdown object>"
      ],
      "text/markdown": "6. Rozwiązać równanie w zbiorze liczb zespolonych. Sprawdzić jedno z rozwiązań.\n\t$$\n\t\t\\left(1 + 2 i\\right)z^2 + \\left(3 - 14 i\\right) z + \\left(-18 + 14 i\\right)=0\n\t$$  \n Rozwiązanie:$$\\Delta = -3+4i, \\quad \\sqrt{\\Delta}=\\pm( 1 + 2 i) \\quad z_{1}=2 + 2 i \\quad z_{2}=3 + 2 i$$"
     },
     "metadata": {},
     "output_type": "display_data"
    },
    {
     "data": {
      "text/plain": [
       "<IPython.core.display.Markdown object>"
      ],
      "text/markdown": "7. Rozwiązać równanie w zbiorze liczb zespolonych. Sprawdzić jedno z rozwiązań.\n\t$$\n\t\t\\left(3 + 2 i\\right)z^2 + \\left(5 + 12 i\\right) z + \\left(-3 + 11 i\\right)=0\n\t$$  \n Rozwiązanie:$$\\Delta = 5+12i, \\quad \\sqrt{\\Delta}=\\pm( 3 + 2 i) \\quad z_{1}=-2 - i \\quad z_{2}=-1 - i$$"
     },
     "metadata": {},
     "output_type": "display_data"
    },
    {
     "data": {
      "text/plain": [
       "<IPython.core.display.Markdown object>"
      ],
      "text/markdown": "8. Rozwiązać równanie w zbiorze liczb zespolonych. Sprawdzić jedno z rozwiązań.\n\t$$\n\t\t\\left(1 - 2 i\\right)z^2 + \\left(1 + 13 i\\right) z + \\left(-12 - 16 i\\right)=0\n\t$$  \n Rozwiązanie:$$\\Delta = 8-6i, \\quad \\sqrt{\\Delta}=\\pm( 3 - i) \\quad z_{1}=2 - 2 i \\quad z_{2}=3 - i$$"
     },
     "metadata": {},
     "output_type": "display_data"
    },
    {
     "data": {
      "text/plain": [
       "<IPython.core.display.Markdown object>"
      ],
      "text/markdown": "9. Rozwiązać równanie w zbiorze liczb zespolonych. Sprawdzić jedno z rozwiązań.\n\t$$\n\t\t\\left(2 - i\\right)z^2 + \\left(-8 + 9 i\\right) z + \\left(5 - 15 i\\right)=0\n\t$$  \n Rozwiązanie:$$\\Delta = 3-4i, \\quad \\sqrt{\\Delta}=\\pm( 2 - i) \\quad z_{1}=2 - i \\quad z_{2}=3 - i$$"
     },
     "metadata": {},
     "output_type": "display_data"
    }
   ],
   "execution_count": 14
  },
  {
   "metadata": {
    "ExecuteTime": {
     "end_time": "2024-09-10T17:20:30.393941Z",
     "start_time": "2024-09-10T17:20:30.387292Z"
    }
   },
   "cell_type": "code",
   "source": "",
   "outputs": [],
   "execution_count": null
  }
 ],
 "metadata": {
  "kernelspec": {
   "display_name": "Python 3",
   "language": "python",
   "name": "python3"
  },
  "language_info": {
   "codemirror_mode": {
    "name": "ipython",
    "version": 3
   },
   "file_extension": ".py",
   "mimetype": "text/x-python",
   "name": "python",
   "nbconvert_exporter": "python",
   "pygments_lexer": "ipython3",
   "version": "3.8.5"
  }
 },
 "nbformat": 4,
 "nbformat_minor": 4
}
