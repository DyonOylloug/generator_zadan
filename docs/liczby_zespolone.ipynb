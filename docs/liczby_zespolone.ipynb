{
 "cells": [
  {
   "cell_type": "markdown",
   "source": "# Liczby zespolone\n",
   "metadata": {}
  },
  {
   "metadata": {},
   "cell_type": "markdown",
   "source": [
    "\n",
    "> Generatory były pierwotnie przygotowane do pliku TeXowego. Tworzenie przykładów online jest tylko dodatkiem. Dlatego składnia tworzenia tych notatników jest dziwna.\n"
   ]
  },
  {
   "cell_type": "code",
   "source": [
    "from IPython.display import display, Markdown, Latex\n",
    "\n",
    "import generator_zadan.generatory as gz\n",
    "\n",
    "print(gz.__version__)"
   ],
   "metadata": {
    "ExecuteTime": {
     "end_time": "2024-09-10T20:26:44.162364Z",
     "start_time": "2024-09-10T20:26:41.973907Z"
    }
   },
   "outputs": [
    {
     "name": "stdout",
     "output_type": "stream",
     "text": [
      "0.1.0\n"
     ]
    }
   ],
   "execution_count": 1
  },
  {
   "metadata": {
    "ExecuteTime": {
     "end_time": "2024-09-10T20:26:44.263201Z",
     "start_time": "2024-09-10T20:26:44.250313Z"
    }
   },
   "cell_type": "code",
   "source": "display(Latex(''))  # bez tego sphinx wyświetla \"czysty\" kod TeXa. ",
   "outputs": [
    {
     "data": {
      "text/plain": [
       "<IPython.core.display.Latex object>"
      ],
      "text/latex": ""
     },
     "metadata": {},
     "output_type": "display_data"
    }
   ],
   "execution_count": 2
  },
  {
   "metadata": {},
   "cell_type": "markdown",
   "source": "## Zespolone równanie liniowe "
  },
  {
   "metadata": {
    "ExecuteTime": {
     "end_time": "2024-09-10T20:26:45.460702Z",
     "start_time": "2024-09-10T20:26:44.863904Z"
    }
   },
   "cell_type": "code",
   "source": [
    "zadanie = gz.rownanie_liniowe()\n",
    "zadanie"
   ],
   "outputs": [
    {
     "data": {
      "text/plain": [
       "('Rozwiązać równanie w zbiorze liczb zespolonych.\\\\ Sprawdzić rozwiązanie.\\n\\t\\\\[\\n\\t\\t\\\\left(7 - 4i\\\\right)z = 6 + 7i+\\\\left(7 - 5i\\\\right)z\\n\\t\\\\]',\n",
       " '$z=7 - 6i.$')"
      ]
     },
     "execution_count": 3,
     "metadata": {},
     "output_type": "execute_result"
    }
   ],
   "execution_count": 3
  },
  {
   "metadata": {
    "ExecuteTime": {
     "end_time": "2024-09-10T20:26:45.571126Z",
     "start_time": "2024-09-10T20:26:45.566640Z"
    }
   },
   "cell_type": "code",
   "source": [
    "print(zadanie[0])\n",
    "print(zadanie[1])"
   ],
   "outputs": [
    {
     "name": "stdout",
     "output_type": "stream",
     "text": [
      "Rozwiązać równanie w zbiorze liczb zespolonych.\\ Sprawdzić rozwiązanie.\n",
      "\t\\[\n",
      "\t\t\\left(7 - 4i\\right)z = 6 + 7i+\\left(7 - 5i\\right)z\n",
      "\t\\]\n",
      "$z=7 - 6i.$\n"
     ]
    }
   ],
   "execution_count": 4
  },
  {
   "metadata": {
    "ExecuteTime": {
     "end_time": "2024-09-10T20:26:49.983641Z",
     "start_time": "2024-09-10T20:26:45.680631Z"
    }
   },
   "cell_type": "code",
   "source": [
    "for i in range(1, 11):\n",
    "    z = gz.rownanie_liniowe()\n",
    "    display(Markdown(\n",
    "        f'{i}. ' + z[0].replace('\\[', '$$').replace('\\]', '$$').replace('\\\\ ', ' ') + '  \\n' + 'Rozwiązanie: ' + z[\n",
    "            1].replace('$', '$$')))\n"
   ],
   "outputs": [
    {
     "data": {
      "text/plain": [
       "<IPython.core.display.Markdown object>"
      ],
      "text/markdown": "1. Rozwiązać równanie w zbiorze liczb zespolonych. Sprawdzić rozwiązanie.\n\t$$\n\t\t\\left(7 - i\\right)z = -1 + 7i+\\left(8 + 2i\\right)z\n\t$$  \nRozwiązanie: $$z=-2 - i.$$"
     },
     "metadata": {},
     "output_type": "display_data"
    },
    {
     "data": {
      "text/plain": [
       "<IPython.core.display.Markdown object>"
      ],
      "text/markdown": "2. Rozwiązać równanie w zbiorze liczb zespolonych. Sprawdzić rozwiązanie.\n\t$$\n\t\t\\left(3 + 5i\\right)z = -4 + 8i+\\left(2 + 4i\\right)z\n\t$$  \nRozwiązanie: $$z=2 + 6i.$$"
     },
     "metadata": {},
     "output_type": "display_data"
    },
    {
     "data": {
      "text/plain": [
       "<IPython.core.display.Markdown object>"
      ],
      "text/markdown": "3. Rozwiązać równanie w zbiorze liczb zespolonych. Sprawdzić rozwiązanie.\n\t$$\n\t\t\\left(5 + 5i\\right)z = -6 - 2i+\\left(9 + 3i\\right)z\n\t$$  \nRozwiązanie: $$z=1 + i.$$"
     },
     "metadata": {},
     "output_type": "display_data"
    },
    {
     "data": {
      "text/plain": [
       "<IPython.core.display.Markdown object>"
      ],
      "text/markdown": "4. Rozwiązać równanie w zbiorze liczb zespolonych. Sprawdzić rozwiązanie.\n\t$$\n\t\t-6 + 2i+\\left(3 + 5i\\right)z = \\left(3 + 6i\\right)z\n\t$$  \nRozwiązanie: $$z=2 + 6i.$$"
     },
     "metadata": {},
     "output_type": "display_data"
    },
    {
     "data": {
      "text/plain": [
       "<IPython.core.display.Markdown object>"
      ],
      "text/markdown": "5. Rozwiązać równanie w zbiorze liczb zespolonych. Sprawdzić rozwiązanie.\n\t$$\n\t\t-4 + 7i+\\left(4 + 9i\\right)z = \\left(6 + 8i\\right)z\n\t$$  \nRozwiązanie: $$z=-3 + 2i.$$"
     },
     "metadata": {},
     "output_type": "display_data"
    },
    {
     "data": {
      "text/plain": [
       "<IPython.core.display.Markdown object>"
      ],
      "text/markdown": "6. Rozwiązać równanie w zbiorze liczb zespolonych. Sprawdzić rozwiązanie.\n\t$$\n\t\t\\left(5 + 3i\\right)z = 2 - 5i+\\left(5 + 2i\\right)z\n\t$$  \nRozwiązanie: $$z=-5 - 2i.$$"
     },
     "metadata": {},
     "output_type": "display_data"
    },
    {
     "data": {
      "text/plain": [
       "<IPython.core.display.Markdown object>"
      ],
      "text/markdown": "7. Rozwiązać równanie w zbiorze liczb zespolonych. Sprawdzić rozwiązanie.\n\t$$\n\t\t\\left(3 + 2i\\right)z = 6 - 3i+\\left(3 - i\\right)z\n\t$$  \nRozwiązanie: $$z=-1 - 2i.$$"
     },
     "metadata": {},
     "output_type": "display_data"
    },
    {
     "data": {
      "text/plain": [
       "<IPython.core.display.Markdown object>"
      ],
      "text/markdown": "8. Rozwiązać równanie w zbiorze liczb zespolonych. Sprawdzić rozwiązanie.\n\t$$\n\t\t3 - 4i+\\left(3 - 2i\\right)z = \\left(5 - 3i\\right)z\n\t$$  \nRozwiązanie: $$z=2 - i.$$"
     },
     "metadata": {},
     "output_type": "display_data"
    },
    {
     "data": {
      "text/plain": [
       "<IPython.core.display.Markdown object>"
      ],
      "text/markdown": "9. Rozwiązać równanie w zbiorze liczb zespolonych. Sprawdzić rozwiązanie.\n\t$$\n\t\t-1 - 4i+\\left(9 + 7i\\right)z = \\left(9 + 8i\\right)z\n\t$$  \nRozwiązanie: $$z=-4 + i.$$"
     },
     "metadata": {},
     "output_type": "display_data"
    },
    {
     "data": {
      "text/plain": [
       "<IPython.core.display.Markdown object>"
      ],
      "text/markdown": "10. Rozwiązać równanie w zbiorze liczb zespolonych. Sprawdzić rozwiązanie.\n\t$$\n\t\t\\left(3 - 6i\\right)z = -4 + 3i+\\left(2 - 4i\\right)z\n\t$$  \nRozwiązanie: $$z=-2 - i.$$"
     },
     "metadata": {},
     "output_type": "display_data"
    }
   ],
   "execution_count": 5
  },
  {
   "metadata": {},
   "cell_type": "markdown",
   "source": "## Zespolone równanie kwadratowe"
  },
  {
   "metadata": {
    "ExecuteTime": {
     "end_time": "2024-09-10T20:26:50.319221Z",
     "start_time": "2024-09-10T20:26:50.021719Z"
    }
   },
   "cell_type": "code",
   "source": [
    "zadanie = gz.rownanie_kwadratowe()\n",
    "zadanie"
   ],
   "outputs": [
    {
     "data": {
      "text/plain": [
       "('Rozwiązać równanie w zbiorze liczb zespolonych.\\\\ Sprawdzić jedno z rozwiązań.\\n\\t\\\\[\\n\\t\\t\\\\left(1 - i\\\\right)z^2 + \\\\left(-5 - 13 i\\\\right) z + \\\\left(-36 - 2 i\\\\right)=0\\n\\t\\\\]',\n",
       " '$\\\\Delta = 8-6i, \\\\quad \\\\sqrt{\\\\Delta}=\\\\pm( 3 - i) \\\\quad z_{1}=-3 + 4 i \\\\quad z_{2}=-1 + 5 i$')"
      ]
     },
     "execution_count": 6,
     "metadata": {},
     "output_type": "execute_result"
    }
   ],
   "execution_count": 6
  },
  {
   "metadata": {
    "ExecuteTime": {
     "end_time": "2024-09-10T20:26:50.356622Z",
     "start_time": "2024-09-10T20:26:50.352446Z"
    }
   },
   "cell_type": "code",
   "source": [
    "print(zadanie[0])\n",
    "print(zadanie[1])"
   ],
   "outputs": [
    {
     "name": "stdout",
     "output_type": "stream",
     "text": [
      "Rozwiązać równanie w zbiorze liczb zespolonych.\\ Sprawdzić jedno z rozwiązań.\n",
      "\t\\[\n",
      "\t\t\\left(1 - i\\right)z^2 + \\left(-5 - 13 i\\right) z + \\left(-36 - 2 i\\right)=0\n",
      "\t\\]\n",
      "$\\Delta = 8-6i, \\quad \\sqrt{\\Delta}=\\pm( 3 - i) \\quad z_{1}=-3 + 4 i \\quad z_{2}=-1 + 5 i$\n"
     ]
    }
   ],
   "execution_count": 7
  },
  {
   "metadata": {
    "ExecuteTime": {
     "end_time": "2024-09-10T20:26:52.409299Z",
     "start_time": "2024-09-10T20:26:50.400480Z"
    }
   },
   "cell_type": "code",
   "source": [
    "for i in range(1, 11):\n",
    "    z = gz.rownanie_kwadratowe()\n",
    "    display(Markdown(f'{i}. ' + z[0].replace('\\[', '$$').replace('\\]', '$$').replace('\\\\ ', ' ')\n",
    "                     + '  \\n'\n",
    "                     + ' Rozwiązanie:'\n",
    "                     + z[1].replace('$', '$$')))"
   ],
   "outputs": [
    {
     "data": {
      "text/plain": [
       "<IPython.core.display.Markdown object>"
      ],
      "text/markdown": "1. Rozwiązać równanie w zbiorze liczb zespolonych. Sprawdzić jedno z rozwiązań.\n\t$$\n\t\t\\left(1 - i\\right)z^2 + \\left(-11 - i\\right) z + \\left(14 + 18 i\\right)=0\n\t$$  \n Rozwiązanie:$$\\Delta = -8+6i, \\quad \\sqrt{\\Delta}=\\pm( 1 + 3 i) \\quad z_{1}=2 + 4 i \\quad z_{2}=3 + 2 i$$"
     },
     "metadata": {},
     "output_type": "display_data"
    },
    {
     "data": {
      "text/plain": [
       "<IPython.core.display.Markdown object>"
      ],
      "text/markdown": "2. Rozwiązać równanie w zbiorze liczb zespolonych. Sprawdzić jedno z rozwiązań.\n\t$$\n\t\t\\left(1 - i\\right)z^2 + \\left(-7 - 13 i\\right) z + \\left(-38 + 6 i\\right)=0\n\t$$  \n Rozwiązanie:$$\\Delta = 8+6i, \\quad \\sqrt{\\Delta}=\\pm( 3 + i) \\quad z_{1}=-2 + 4 i \\quad z_{2}=-1 + 6 i$$"
     },
     "metadata": {},
     "output_type": "display_data"
    },
    {
     "data": {
      "text/plain": [
       "<IPython.core.display.Markdown object>"
      ],
      "text/markdown": "3. Rozwiązać równanie w zbiorze liczb zespolonych. Sprawdzić jedno z rozwiązań.\n\t$$\n\t\t\\left(1 - i\\right)z^2 + \\left(9 - i\\right) z + \\left(14 + 8 i\\right)=0\n\t$$  \n Rozwiązanie:$$\\Delta = -8+6i, \\quad \\sqrt{\\Delta}=\\pm( 1 + 3 i) \\quad z_{1}=-3 - i \\quad z_{2}=-2 - 3 i$$"
     },
     "metadata": {},
     "output_type": "display_data"
    },
    {
     "data": {
      "text/plain": [
       "<IPython.core.display.Markdown object>"
      ],
      "text/markdown": "4. Rozwiązać równanie w zbiorze liczb zespolonych. Sprawdzić jedno z rozwiązań.\n\t$$\n\t\t\\left(1 - i\\right)z^2 + \\left(-1 - 13 i\\right) z + \\left(-24 - 16 i\\right)=0\n\t$$  \n Rozwiązanie:$$\\Delta = -8-6i, \\quad \\sqrt{\\Delta}=\\pm( 1 - 3 i) \\quad z_{1}=-4 + 4 i \\quad z_{2}=-2 + 3 i$$"
     },
     "metadata": {},
     "output_type": "display_data"
    },
    {
     "data": {
      "text/plain": [
       "<IPython.core.display.Markdown object>"
      ],
      "text/markdown": "5. Rozwiązać równanie w zbiorze liczb zespolonych. Sprawdzić jedno z rozwiązań.\n\t$$\n\t\t\\left(1 - i\\right)z^2 + \\left(13 + 7 i\\right) z + \\left(-8 + 36 i\\right)=0\n\t$$  \n Rozwiązanie:$$\\Delta = 8+6i, \\quad \\sqrt{\\Delta}=\\pm( 3 + i) \\quad z_{1}=-2 - 6 i \\quad z_{2}=-1 - 4 i$$"
     },
     "metadata": {},
     "output_type": "display_data"
    },
    {
     "data": {
      "text/plain": [
       "<IPython.core.display.Markdown object>"
      ],
      "text/markdown": "6. Rozwiązać równanie w zbiorze liczb zespolonych. Sprawdzić jedno z rozwiązań.\n\t$$\n\t\t\\left(1 - i\\right)z^2 + \\left(13 + 5 i\\right) z + \\left(2 + 36 i\\right)=0\n\t$$  \n Rozwiązanie:$$\\Delta = -8-6i, \\quad \\sqrt{\\Delta}=\\pm( 1 - 3 i) \\quad z_{1}=-3 - 4 i \\quad z_{2}=-1 - 5 i$$"
     },
     "metadata": {},
     "output_type": "display_data"
    },
    {
     "data": {
      "text/plain": [
       "<IPython.core.display.Markdown object>"
      ],
      "text/markdown": "7. Rozwiązać równanie w zbiorze liczb zespolonych. Sprawdzić jedno z rozwiązań.\n\t$$\n\t\t\\left(1 - i\\right)z^2 + \\left(-3 - 13 i\\right) z + \\left(-28 - 10 i\\right)=0\n\t$$  \n Rozwiązanie:$$\\Delta = -8+6i, \\quad \\sqrt{\\Delta}=\\pm( 1 + 3 i) \\quad z_{1}=-3 + 5 i \\quad z_{2}=-2 + 3 i$$"
     },
     "metadata": {},
     "output_type": "display_data"
    },
    {
     "data": {
      "text/plain": [
       "<IPython.core.display.Markdown object>"
      ],
      "text/markdown": "8. Rozwiązać równanie w zbiorze liczb zespolonych. Sprawdzić jedno z rozwiązań.\n\t$$\n\t\t\\left(1 - 2 i\\right)z^2 + \\left(13 - i\\right) z + \\left(12 + 16 i\\right)=0\n\t$$  \n Rozwiązanie:$$\\Delta = -8+6i, \\quad \\sqrt{\\Delta}=\\pm( 1 + 3 i) \\quad z_{1}=-2 - 2 i \\quad z_{2}=-1 - 3 i$$"
     },
     "metadata": {},
     "output_type": "display_data"
    },
    {
     "data": {
      "text/plain": [
       "<IPython.core.display.Markdown object>"
      ],
      "text/markdown": "9. Rozwiązać równanie w zbiorze liczb zespolonych. Sprawdzić jedno z rozwiązań.\n\t$$\n\t\t\\left(1 - 3 i\\right)z^2 + \\left(11 - 3 i\\right) z + \\left(8 + 6 i\\right)=0\n\t$$  \n Rozwiązanie:$$\\Delta = 8+6i, \\quad \\sqrt{\\Delta}=\\pm( 3 + i) \\quad z_{1}=-1 - 2 i \\quad z_{2}=-1 - i$$"
     },
     "metadata": {},
     "output_type": "display_data"
    },
    {
     "data": {
      "text/plain": [
       "<IPython.core.display.Markdown object>"
      ],
      "text/markdown": "10. Rozwiązać równanie w zbiorze liczb zespolonych. Sprawdzić jedno z rozwiązań.\n\t$$\n\t\t\\left(1 - i\\right)z^2 + \\left(-1 + 13 i\\right) z + \\left(-16 - 24 i\\right)=0\n\t$$  \n Rozwiązanie:$$\\Delta = -8+6i, \\quad \\sqrt{\\Delta}=\\pm( 1 + 3 i) \\quad z_{1}=3 - 2 i \\quad z_{2}=4 - 4 i$$"
     },
     "metadata": {},
     "output_type": "display_data"
    }
   ],
   "execution_count": 8
  },
  {
   "metadata": {
    "ExecuteTime": {
     "end_time": "2024-09-10T20:26:52.449248Z",
     "start_time": "2024-09-10T20:26:52.445857Z"
    }
   },
   "cell_type": "code",
   "source": "",
   "outputs": [],
   "execution_count": null
  }
 ],
 "metadata": {
  "kernelspec": {
   "display_name": "Python 3",
   "language": "python",
   "name": "python3"
  },
  "language_info": {
   "codemirror_mode": {
    "name": "ipython",
    "version": 3
   },
   "file_extension": ".py",
   "mimetype": "text/x-python",
   "name": "python",
   "nbconvert_exporter": "python",
   "pygments_lexer": "ipython3",
   "version": "3.8.5"
  }
 },
 "nbformat": 4,
 "nbformat_minor": 4
}
